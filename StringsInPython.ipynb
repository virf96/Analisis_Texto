{
  "nbformat": 4,
  "nbformat_minor": 0,
  "metadata": {
    "colab": {
      "provenance": [],
      "include_colab_link": true
    },
    "kernelspec": {
      "name": "python3",
      "display_name": "Python 3"
    }
  },
  "cells": [
    {
      "cell_type": "markdown",
      "metadata": {
        "id": "view-in-github",
        "colab_type": "text"
      },
      "source": [
        "<a href=\"https://colab.research.google.com/github/virf96/Analisis_Texto/blob/master/StringsInPython.ipynb\" target=\"_parent\"><img src=\"https://colab.research.google.com/assets/colab-badge.svg\" alt=\"Open In Colab\"/></a>"
      ]
    },
    {
      "cell_type": "markdown",
      "metadata": {
        "id": "3fX7mfDI-Myo"
      },
      "source": [
        "# Introducción al procesamiento de texto en Python\n",
        "\n",
        "### Procesamiento del Lenguaje Natural\n",
        "\n",
        "#### Abril 2021\n",
        "\n",
        "**Vanessa Gómez Verdejo, Pablo Martínez Olmos, Emilio Parrado Hernández**\n",
        "\n",
        "Departamento de Teoría de la Señal y Comunicaciones\n",
        "\n",
        "**Universidad Carlos III de Madrid**\n",
        "\n",
        "<img src='http://www.tsc.uc3m.es/~emipar/BBVA/INTRO/img/logo_uc3m_foot.jpg' width=400 />"
      ]
    },
    {
      "cell_type": "markdown",
      "metadata": {
        "id": "ur6eynOKAXVi"
      },
      "source": [
        "# Trabajando con cadenas de texto en Python \n"
      ]
    },
    {
      "cell_type": "markdown",
      "metadata": {
        "id": "oeSF56lGPdB-"
      },
      "source": [
        "El tipo de datos básico para representar texto en Python es el *string*. Un objeto cadena o *string* se define generalmente asignando a una variable una cadena de texto definida entre comillas simples (`'`) o dobles (`\"`) o convirtiendo otro tipo de datos (como los numéricos) en una cadena utilizando la función `str()`."
      ]
    },
    {
      "cell_type": "code",
      "metadata": {
        "id": "7iKGUx0oDEeM",
        "colab": {
          "base_uri": "https://localhost:8080/"
        },
        "outputId": "fae7672e-c917-4917-fc67-72b7b68e2e42"
      },
      "source": [
        "# Define string variables\n",
        "t1='this is a string'\n",
        "print(t1)\n",
        "t2 =\"t2 too!\"\n",
        "print(t2)"
      ],
      "execution_count": null,
      "outputs": [
        {
          "output_type": "stream",
          "text": [
            "this is a string\n",
            "t2 too!\n"
          ],
          "name": "stdout"
        }
      ]
    },
    {
      "cell_type": "code",
      "metadata": {
        "id": "jknu1MMmDupn",
        "colab": {
          "base_uri": "https://localhost:8080/"
        },
        "outputId": "6f1dde12-cf54-48f9-f797-9d56f6071f53"
      },
      "source": [
        "# Convert a number to string\n",
        "n = 500\n",
        "print(n)\n",
        "print(type(n))\n",
        "n_string = str(n)\n",
        "print(n_string)\n",
        "print(type(n_string))"
      ],
      "execution_count": null,
      "outputs": [
        {
          "output_type": "stream",
          "text": [
            "500\n",
            "<class 'int'>\n",
            "500\n",
            "<class 'str'>\n"
          ],
          "name": "stdout"
        }
      ]
    },
    {
      "cell_type": "markdown",
      "metadata": {
        "id": "vbemSFuiEPEM"
      },
      "source": [
        "## Métodos del objeto *string*\n",
        "\n",
        "Python se considera generalmente una buena opción cuando se trata de trabajar con archivos de texto de cualquier tipo y tamaño, ya que el objeto *string* tiene un gran número de métodos incorporados que facilitan su manipulación."
      ]
    },
    {
      "cell_type": "markdown",
      "metadata": {
        "id": "xXvikszCgjSM"
      },
      "source": [
        "Para utilizar los objetos predefinidos en Python (como el objeto *string*) y acceder a sus métodos y/o atributos solo necesitamos saber:\n",
        "* Para utilizar los métodos de un objeto `my_object`, utilizar siempre la sintaxis `my_object.method()`.\n",
        "\n",
        "* Si queremos saber qué métodos tiene un objeto en Google Colab, podemos escribir `my_object` y esperar, y Google Colab produce una lista de todos los métodos disponibles para ese objeto.\n",
        "\n",
        "* Todos los métodos del objeto *string* devuelven un nuevo valor como salida. El *string* original no se modifica.\n",
        "\n",
        "Algunos de estos métodos son:\n"
      ]
    },
    {
      "cell_type": "markdown",
      "metadata": {
        "id": "Lf1-xK6TK5qg"
      },
      "source": [
        "* `.capitalize ()`: convierte la primera letra de la cadena en mayúscula."
      ]
    },
    {
      "cell_type": "code",
      "metadata": {
        "id": "i1ck8TBeFC7b",
        "colab": {
          "base_uri": "https://localhost:8080/",
          "height": 36
        },
        "outputId": "9d5a9b85-f66a-4ab5-967b-b4bec11fc216"
      },
      "source": [
        "t1.capitalize()"
      ],
      "execution_count": null,
      "outputs": [
        {
          "output_type": "execute_result",
          "data": {
            "application/vnd.google.colaboratory.intrinsic+json": {
              "type": "string"
            },
            "text/plain": [
              "'This is a string'"
            ]
          },
          "metadata": {},
          "execution_count": 3
        }
      ]
    },
    {
      "cell_type": "markdown",
      "metadata": {
        "id": "IcQXrge_1ctB"
      },
      "source": [
        "* `.upper()`/`.lower()`: convierte todos los caracteres de la cadena de texto en mayúsculas/minúsculas."
      ]
    },
    {
      "cell_type": "code",
      "metadata": {
        "id": "lJkL8-kS1xsg",
        "colab": {
          "base_uri": "https://localhost:8080/"
        },
        "outputId": "d3798144-a7fe-448c-fa90-7f1fbff5d1a9"
      },
      "source": [
        "t_upper = t1.upper()\n",
        "print(t_upper)\n",
        "t_lower = t_upper.lower()\n",
        "print(t_lower)"
      ],
      "execution_count": null,
      "outputs": [
        {
          "output_type": "stream",
          "text": [
            "THIS IS A STRING\n",
            "this is a string\n"
          ],
          "name": "stdout"
        }
      ]
    },
    {
      "cell_type": "markdown",
      "metadata": {
        "id": "BVZNdSifK2uy"
      },
      "source": [
        "* `.replace ('s1', 's2')`: sustituye los caracteres de la cadena `'s1'` por los caracteres de la cadena `' s2'`."
      ]
    },
    {
      "cell_type": "code",
      "metadata": {
        "id": "lzlk206NLb8K",
        "colab": {
          "base_uri": "https://localhost:8080/",
          "height": 36
        },
        "outputId": "5886343a-873c-4408-e2da-d0dce004e9f5"
      },
      "source": [
        "t1.replace(' ', ',')"
      ],
      "execution_count": null,
      "outputs": [
        {
          "output_type": "execute_result",
          "data": {
            "application/vnd.google.colaboratory.intrinsic+json": {
              "type": "string"
            },
            "text/plain": [
              "'this,is,a,string'"
            ]
          },
          "metadata": {},
          "execution_count": 5
        }
      ]
    },
    {
      "cell_type": "markdown",
      "metadata": {
        "id": "3B8okwnsLsfU"
      },
      "source": [
        "* `.strip ('s1')`:  directamente elimina de la cadena los caracteres de `'s1'` que estén al principio o final de la cadena."
      ]
    },
    {
      "cell_type": "code",
      "metadata": {
        "id": "8CBhRvF0L5fi",
        "colab": {
          "base_uri": "https://localhost:8080/",
          "height": 36
        },
        "outputId": "dc5aec00-d63a-4aa8-c958-5d54a416054b"
      },
      "source": [
        "'http://www.python.org'.strip('/tph:')"
      ],
      "execution_count": null,
      "outputs": [
        {
          "output_type": "execute_result",
          "data": {
            "application/vnd.google.colaboratory.intrinsic+json": {
              "type": "string"
            },
            "text/plain": [
              "'www.python.org'"
            ]
          },
          "metadata": {},
          "execution_count": 6
        }
      ]
    },
    {
      "cell_type": "code",
      "metadata": {
        "colab": {
          "base_uri": "https://localhost:8080/",
          "height": 36
        },
        "id": "yNrwz5Hguotk",
        "outputId": "d2265d5d-eade-4349-d4d0-1485525eeebc"
      },
      "source": [
        "',,,,,rrttgg.....banana....rr'.strip(\",.grt\")"
      ],
      "execution_count": null,
      "outputs": [
        {
          "output_type": "execute_result",
          "data": {
            "application/vnd.google.colaboratory.intrinsic+json": {
              "type": "string"
            },
            "text/plain": [
              "'banana'"
            ]
          },
          "metadata": {},
          "execution_count": 7
        }
      ]
    },
    {
      "cell_type": "markdown",
      "metadata": {
        "id": "T95ut-GiGF8J"
      },
      "source": [
        "* .`find ('s') `: dentro del *string* busca la cadena `'s'` y obtiene su posición a partir de la primera letra del *string*. Si hay varias ocurrencias, devuelve la primera posición. En caso de no encontrarla, devuelve un `-1`."
      ]
    },
    {
      "cell_type": "code",
      "metadata": {
        "id": "ue9BHdTkz8OJ",
        "colab": {
          "base_uri": "https://localhost:8080/"
        },
        "outputId": "5e53c5bd-f808-43ba-e823-256f5962dac6"
      },
      "source": [
        "t1.find('string')"
      ],
      "execution_count": null,
      "outputs": [
        {
          "output_type": "execute_result",
          "data": {
            "text/plain": [
              "10"
            ]
          },
          "metadata": {},
          "execution_count": 8
        }
      ]
    },
    {
      "cell_type": "code",
      "metadata": {
        "id": "vz1AwT0Az8Rv",
        "colab": {
          "base_uri": "https://localhost:8080/"
        },
        "outputId": "11e03ad6-0b9c-494d-d924-bd73136714dc"
      },
      "source": [
        " t1.find('word')"
      ],
      "execution_count": null,
      "outputs": [
        {
          "output_type": "execute_result",
          "data": {
            "text/plain": [
              "-1"
            ]
          },
          "metadata": {},
          "execution_count": 9
        }
      ]
    },
    {
      "cell_type": "markdown",
      "metadata": {
        "id": "twmsmpS9L-WL"
      },
      "source": [
        "* `.split ('s')`:  divide el texto en varias cadenas utilizando el carácter `'s'` como separador."
      ]
    },
    {
      "cell_type": "code",
      "metadata": {
        "id": "AUHku0QXFS6z",
        "colab": {
          "base_uri": "https://localhost:8080/"
        },
        "outputId": "9b11f857-0628-4048-aa33-498d85868ddd"
      },
      "source": [
        "# Split by the character 'i'\n",
        "print(t1.split('i'))\n",
        "# Split by the character ' ' (blank space)\n",
        "print(t1.split(' '))\n",
        "\n",
        "# If a splitter character is not provided, by default, the blank space is used\n",
        "print(t1.split())\n"
      ],
      "execution_count": null,
      "outputs": [
        {
          "output_type": "stream",
          "text": [
            "['th', 's ', 's a str', 'ng']\n",
            "['this', 'is', 'a', 'string']\n",
            "['this', 'is', 'a', 'string']\n"
          ],
          "name": "stdout"
        }
      ]
    },
    {
      "cell_type": "markdown",
      "metadata": {
        "id": "lMN8b1sqk-kZ"
      },
      "source": [
        "*Nota*: al aplicar el método `.split()`, el carácter separador `s` desaparece de las cadenas resultantes. Y además, el resultado del método es una lista con varios elementos donde cada elemento es un *string*. Más adelante revisaremos qué son las listas de Python y cómo operar con ellas."
      ]
    },
    {
      "cell_type": "markdown",
      "metadata": {
        "id": "3dwVveKQ0t4j"
      },
      "source": [
        "* `s.join ([list])`:  une los elementos de la lista con el carácter `'s'` y crea una nueva cadena. Es decir, permite deshacer lo que hace el método `.split ('s')`."
      ]
    },
    {
      "cell_type": "code",
      "metadata": {
        "id": "3rxliAT41FFj",
        "colab": {
          "base_uri": "https://localhost:8080/",
          "height": 54
        },
        "outputId": "26ed2e29-384c-42d1-bdd3-fe679e1177eb"
      },
      "source": [
        "splitted_list = t1.split(' ')\n",
        "print(splitted_list)\n",
        "' '.join(splitted_list)"
      ],
      "execution_count": null,
      "outputs": [
        {
          "output_type": "stream",
          "text": [
            "['this', 'is', 'a', 'string']\n"
          ],
          "name": "stdout"
        },
        {
          "output_type": "execute_result",
          "data": {
            "application/vnd.google.colaboratory.intrinsic+json": {
              "type": "string"
            },
            "text/plain": [
              "'this is a string'"
            ]
          },
          "metadata": {},
          "execution_count": 11
        }
      ]
    },
    {
      "cell_type": "markdown",
      "metadata": {
        "id": "jnOmwZ-qIeVa"
      },
      "source": [
        "Muchas veces se concatena el uso de `split()` y `.join()` para eliminar múltiples espacios entre las palabras."
      ]
    },
    {
      "cell_type": "code",
      "metadata": {
        "colab": {
          "base_uri": "https://localhost:8080/"
        },
        "id": "nN_dc_4zIuPM",
        "outputId": "04a7170c-0f4e-4dfe-876e-a1eeaaae7f4f"
      },
      "source": [
        "t1='This    is a    string'\n",
        "print(t1)\n",
        "print(' '.join(t1.split()))"
      ],
      "execution_count": null,
      "outputs": [
        {
          "output_type": "stream",
          "text": [
            "This    is a    string\n",
            "This is a string\n"
          ],
          "name": "stdout"
        }
      ]
    },
    {
      "cell_type": "markdown",
      "metadata": {
        "id": "txaRjxe3BUmi"
      },
      "source": [
        "* `.isalpha`: devuelve `True` si todos los caracteres de la cadena son letras del alfabeto (`a`-`z`)."
      ]
    },
    {
      "cell_type": "code",
      "metadata": {
        "colab": {
          "base_uri": "https://localhost:8080/"
        },
        "id": "15m4CGdsBoHI",
        "outputId": "26f6eaef-f0ea-4d46-f023-b7401219d0a2"
      },
      "source": [
        "txt = \"CompanyX\"\n",
        "x = txt.isalpha()\n",
        "print(x) "
      ],
      "execution_count": null,
      "outputs": [
        {
          "output_type": "stream",
          "text": [
            "True\n"
          ],
          "name": "stdout"
        }
      ]
    },
    {
      "cell_type": "code",
      "metadata": {
        "colab": {
          "base_uri": "https://localhost:8080/"
        },
        "id": "5Zz15CmcBzQz",
        "outputId": "04f43cd0-7753-4180-e379-d127127689e5"
      },
      "source": [
        "txt = \"Company10\"\n",
        "x = txt.isalpha()\n",
        "print(x) "
      ],
      "execution_count": null,
      "outputs": [
        {
          "output_type": "stream",
          "text": [
            "False\n"
          ],
          "name": "stdout"
        }
      ]
    },
    {
      "cell_type": "markdown",
      "metadata": {
        "id": "NJxKZ2g_B1l4"
      },
      "source": [
        "* `.isalnum`: devuelve `True` si todos los caracteres de la cadena son letras del alfabeto (`a`-`z`) ó dígitos (`0`-`9`)."
      ]
    },
    {
      "cell_type": "code",
      "metadata": {
        "colab": {
          "base_uri": "https://localhost:8080/"
        },
        "id": "Lb0F01-oB4B0",
        "outputId": "9290461d-6293-4abc-a58d-65deb288862e"
      },
      "source": [
        "txt = \"Company10\"\n",
        "x = txt.isalnum()\n",
        "print(x) "
      ],
      "execution_count": null,
      "outputs": [
        {
          "output_type": "stream",
          "text": [
            "True\n"
          ],
          "name": "stdout"
        }
      ]
    },
    {
      "cell_type": "code",
      "metadata": {
        "colab": {
          "base_uri": "https://localhost:8080/"
        },
        "id": "EbfN_CX0B9GI",
        "outputId": "6653099a-f641-4d8c-8346-84d05aeeadce"
      },
      "source": [
        "name = \"M234onica\"\n",
        "print(name.isalnum())\n",
        "\n",
        "# Now it contains whitespace\n",
        "name = \"M3onica Gell22er \"\n",
        "print(name.isalnum())\n",
        "\n",
        "name = \"Mo3nicaGell22er\"\n",
        "print(name.isalnum())\n",
        "\n",
        "name = \"133\"\n",
        "print(name.isalnum())"
      ],
      "execution_count": null,
      "outputs": [
        {
          "output_type": "stream",
          "text": [
            "True\n",
            "False\n",
            "True\n",
            "True\n"
          ],
          "name": "stdout"
        }
      ]
    },
    {
      "cell_type": "markdown",
      "metadata": {
        "id": "hvlIHtjI4wpk"
      },
      "source": [
        "* `isdecimal()`: devuelve `True` si todos los caracteres de una cadena son dígitos (`0`-`9`)."
      ]
    },
    {
      "cell_type": "code",
      "metadata": {
        "colab": {
          "base_uri": "https://localhost:8080/"
        },
        "id": "8tND15J6CT1c",
        "outputId": "6fb9eb17-d434-4f1f-efe3-fd5f854c5d07"
      },
      "source": [
        "s = \"28212\"\n",
        "print(s.isdecimal())\n",
        "\n",
        "# contains alphabets\n",
        "s = \"32ladk3\"\n",
        "print(s.isdecimal())\n",
        "\n",
        "# contains alphabets and spaces\n",
        "s = \"Mo3 nicaG el l22er\"\n",
        "print(s.isdecimal())"
      ],
      "execution_count": null,
      "outputs": [
        {
          "output_type": "stream",
          "text": [
            "True\n",
            "False\n",
            "False\n"
          ],
          "name": "stdout"
        }
      ]
    },
    {
      "cell_type": "markdown",
      "metadata": {
        "id": "BNWOeQksCok9"
      },
      "source": [
        "* `isdigit()`: también devuelve `True` si todos los caracteres de una cadena son dígitos (`0`-`9`) pero, a diferencia de al anterior, incluye subíndices y superíndices."
      ]
    },
    {
      "cell_type": "code",
      "metadata": {
        "colab": {
          "base_uri": "https://localhost:8080/"
        },
        "id": "0zwrgN6WCleh",
        "outputId": "ecb1d43c-f533-40c3-dcc3-ebf92cd9c465"
      },
      "source": [
        "s = '\\u00B23455'\n",
        "print(s)\n",
        "print(s.isdigit())\n",
        "print(s.isdecimal())"
      ],
      "execution_count": null,
      "outputs": [
        {
          "output_type": "stream",
          "text": [
            "²3455\n",
            "True\n",
            "False\n"
          ],
          "name": "stdout"
        }
      ]
    },
    {
      "cell_type": "markdown",
      "metadata": {
        "id": "dKnZjQzxDMI3"
      },
      "source": [
        "* `.startswith()`/ `.endswith()`: comprueban si una cadena comienza/acaba con una subcadena especificada."
      ]
    },
    {
      "cell_type": "code",
      "metadata": {
        "colab": {
          "base_uri": "https://localhost:8080/"
        },
        "id": "zti9u3qfDsm0",
        "outputId": "1bbb604c-434a-4ec3-dfde-787d56d9c59b"
      },
      "source": [
        "t1='This is a string'\n",
        "print(t1.startswith('This'))\n",
        "print(t1.endswith('string'))"
      ],
      "execution_count": null,
      "outputs": [
        {
          "output_type": "stream",
          "text": [
            "True\n",
            "True\n"
          ],
          "name": "stdout"
        }
      ]
    },
    {
      "cell_type": "markdown",
      "metadata": {
        "id": "rHJPubH10X9Z"
      },
      "source": [
        "Puede encontrar una lista de todos los métodos disponibles de los objetos de cadena en [este enlace](https://www.w3schools.com/python/python_ref_string.asp)"
      ]
    },
    {
      "cell_type": "markdown",
      "metadata": {
        "id": "1Rcb9J2xNLqr"
      },
      "source": [
        "## Longitud de una cadena\n",
        "Para obtener la longitud de una cadena, utilizamos la función `len ()` .\n",
        "\n",
        "*Nota:* `len ()` es una función de Python, compartida con otros tipos de datos, no es exclusiva de los strings. Por esta razón, **no** es un método de los objetos string y su sintaxis no es `cadena.len` sino `len(cadena)`."
      ]
    },
    {
      "cell_type": "code",
      "metadata": {
        "id": "qQrY54E4NUTZ",
        "colab": {
          "base_uri": "https://localhost:8080/"
        },
        "outputId": "8f957274-45ce-4aea-ce50-a669ffda1de3"
      },
      "source": [
        "mystring = \"Hello everyone!\"\n",
        "len(mystring)"
      ],
      "execution_count": null,
      "outputs": [
        {
          "output_type": "execute_result",
          "data": {
            "text/plain": [
              "15"
            ]
          },
          "metadata": {},
          "execution_count": 20
        }
      ]
    },
    {
      "cell_type": "markdown",
      "metadata": {
        "id": "mVrq0-4b2IMl"
      },
      "source": [
        "## Comprobar si una cadena está presente o no\n",
        "Se pueden utilizar las palabras clave `in` o` not in` para comprobar si una determinada frase o carácter está presente o no dentro de una cadena. Estas palabras clave son operadores lógicos, por lo que devuelven un valor booleano (`True` o ` False`)."
      ]
    },
    {
      "cell_type": "code",
      "metadata": {
        "id": "0mCGPEug4Wpz",
        "colab": {
          "base_uri": "https://localhost:8080/"
        },
        "outputId": "1a6d6f6e-cb7b-4a34-d266-c8a842c8e583"
      },
      "source": [
        "\"everyone\" in mystring"
      ],
      "execution_count": null,
      "outputs": [
        {
          "output_type": "execute_result",
          "data": {
            "text/plain": [
              "True"
            ]
          },
          "metadata": {},
          "execution_count": 21
        }
      ]
    },
    {
      "cell_type": "code",
      "metadata": {
        "id": "KDaF2loj4fLf",
        "colab": {
          "base_uri": "https://localhost:8080/"
        },
        "outputId": "9836ff86-e33f-4ad9-bf69-f268cf512175"
      },
      "source": [
        "\"everyone\" not in mystring"
      ],
      "execution_count": null,
      "outputs": [
        {
          "output_type": "execute_result",
          "data": {
            "text/plain": [
              "False"
            ]
          },
          "metadata": {},
          "execution_count": 22
        }
      ]
    },
    {
      "cell_type": "code",
      "metadata": {
        "id": "uC1bUQg44h-P",
        "colab": {
          "base_uri": "https://localhost:8080/"
        },
        "outputId": "8cdbb23c-7f86-431a-b515-bc991185c619"
      },
      "source": [
        "\"everybody\" in mystring"
      ],
      "execution_count": null,
      "outputs": [
        {
          "output_type": "execute_result",
          "data": {
            "text/plain": [
              "False"
            ]
          },
          "metadata": {},
          "execution_count": 23
        }
      ]
    },
    {
      "cell_type": "markdown",
      "metadata": {
        "id": "XaRyG9CXMpu_"
      },
      "source": [
        "## Indexación de *strings*\n",
        "\n",
        "Las cadenas son como *arrays* de caracteres, donde cada carácter es simplemente una cadena con una longitud de 1. Así que se puede acceder a los elementos de la cadena de varias maneras:\n",
        "* Podemos recuperar un solo carácter utilizando corchetes e indicando la posición específica de un carácter a recuperar. Por ejemplo, `my_string[position]`  devolvería el carácter situado en `position` dentro de la cadena `my_string`.\n",
        "* Para obtener una parte de una cadena podemos indicar las posiciones de inicio y fin (`[start:end]`). La cadena devuelta comenzará en el carácter situado en la posición `start` (incluido) y terminará en la posición indicada por `end`, pero esta última no será incluida.\n",
        "\n",
        "Además, se puede indexar hacia atrás con índices negativos y si la posición inicial no está incluida, se asume que es la primera y si la posición final no está incluida se asume que es la última.\n",
        "\n",
        "¡¡¡**Importante**: en Python la indexación comienza en 0!!! Es decir, el primer elemento está en la posición 0.\n",
        "\n"
      ]
    },
    {
      "cell_type": "markdown",
      "metadata": {
        "id": "pZIjDB4_oH2O"
      },
      "source": [
        "### Ejercicio\n",
        "Analiza el siguiente código e intenta adivinar lo que devuelve antes de ejecutarlo"
      ]
    },
    {
      "cell_type": "code",
      "metadata": {
        "id": "JAfvORHbn_-t"
      },
      "source": [
        "mystring = \"Hello everyone!\""
      ],
      "execution_count": null,
      "outputs": []
    },
    {
      "cell_type": "code",
      "metadata": {
        "id": "kHXkc5elPo60",
        "colab": {
          "base_uri": "https://localhost:8080/",
          "height": 36
        },
        "outputId": "59f6d4cc-2cce-4036-cfd3-a6052708f863"
      },
      "source": [
        "mystring[0]"
      ],
      "execution_count": null,
      "outputs": [
        {
          "output_type": "execute_result",
          "data": {
            "application/vnd.google.colaboratory.intrinsic+json": {
              "type": "string"
            },
            "text/plain": [
              "'H'"
            ]
          },
          "metadata": {},
          "execution_count": 25
        }
      ]
    },
    {
      "cell_type": "code",
      "metadata": {
        "id": "N8zpGw3MP0j-",
        "colab": {
          "base_uri": "https://localhost:8080/",
          "height": 36
        },
        "outputId": "9944e893-7eda-4877-d694-0d318503ced7"
      },
      "source": [
        "mystring[1:5]"
      ],
      "execution_count": null,
      "outputs": [
        {
          "output_type": "execute_result",
          "data": {
            "application/vnd.google.colaboratory.intrinsic+json": {
              "type": "string"
            },
            "text/plain": [
              "'ello'"
            ]
          },
          "metadata": {},
          "execution_count": 26
        }
      ]
    },
    {
      "cell_type": "code",
      "metadata": {
        "id": "klg55LHFQYHW",
        "colab": {
          "base_uri": "https://localhost:8080/",
          "height": 36
        },
        "outputId": "3811144e-a8d8-45c6-9a6f-4243881e7765"
      },
      "source": [
        "mystring[:5]"
      ],
      "execution_count": null,
      "outputs": [
        {
          "output_type": "execute_result",
          "data": {
            "application/vnd.google.colaboratory.intrinsic+json": {
              "type": "string"
            },
            "text/plain": [
              "'Hello'"
            ]
          },
          "metadata": {},
          "execution_count": 27
        }
      ]
    },
    {
      "cell_type": "code",
      "metadata": {
        "id": "fD0kms_KytyP",
        "colab": {
          "base_uri": "https://localhost:8080/",
          "height": 36
        },
        "outputId": "13bace6c-c0c8-4f3a-c2ed-049df8d048e3"
      },
      "source": [
        "mystring[8:]"
      ],
      "execution_count": null,
      "outputs": [
        {
          "output_type": "execute_result",
          "data": {
            "application/vnd.google.colaboratory.intrinsic+json": {
              "type": "string"
            },
            "text/plain": [
              "'eryone!'"
            ]
          },
          "metadata": {},
          "execution_count": 28
        }
      ]
    },
    {
      "cell_type": "code",
      "metadata": {
        "id": "MxR0exiXyt8j",
        "colab": {
          "base_uri": "https://localhost:8080/",
          "height": 36
        },
        "outputId": "56fb369a-516d-4ca5-bd35-16fa34904110"
      },
      "source": [
        "mystring[-1]"
      ],
      "execution_count": null,
      "outputs": [
        {
          "output_type": "execute_result",
          "data": {
            "application/vnd.google.colaboratory.intrinsic+json": {
              "type": "string"
            },
            "text/plain": [
              "'!'"
            ]
          },
          "metadata": {},
          "execution_count": 29
        }
      ]
    },
    {
      "cell_type": "code",
      "metadata": {
        "id": "kQMRxf39yuD7",
        "colab": {
          "base_uri": "https://localhost:8080/",
          "height": 36
        },
        "outputId": "086bb30a-3282-43d4-dd01-1046fa3cacee"
      },
      "source": [
        "mystring[-6:]"
      ],
      "execution_count": null,
      "outputs": [
        {
          "output_type": "execute_result",
          "data": {
            "application/vnd.google.colaboratory.intrinsic+json": {
              "type": "string"
            },
            "text/plain": [
              "'ryone!'"
            ]
          },
          "metadata": {},
          "execution_count": 30
        }
      ]
    },
    {
      "cell_type": "markdown",
      "metadata": {
        "id": "V179hLutPoM_"
      },
      "source": [
        "## Concatenación de *strings*\n",
        "Se pueden concatenar o combinar dos o más cadenas de texto con el símbolo `+`. "
      ]
    },
    {
      "cell_type": "code",
      "metadata": {
        "id": "QR8X9n4GGBfC",
        "colab": {
          "base_uri": "https://localhost:8080/",
          "height": 36
        },
        "outputId": "e7206581-bedb-4ca8-804d-f3944355174a"
      },
      "source": [
        "t1=\"Hello\"\n",
        "t2=\"everyone\"\n",
        "t1+t2"
      ],
      "execution_count": null,
      "outputs": [
        {
          "output_type": "execute_result",
          "data": {
            "application/vnd.google.colaboratory.intrinsic+json": {
              "type": "string"
            },
            "text/plain": [
              "'Helloeveryone'"
            ]
          },
          "metadata": {},
          "execution_count": 31
        }
      ]
    },
    {
      "cell_type": "code",
      "metadata": {
        "id": "gSK8fobw5r11",
        "colab": {
          "base_uri": "https://localhost:8080/",
          "height": 36
        },
        "outputId": "46d15657-8614-43fb-83f6-e7852c96309a"
      },
      "source": [
        "t1+\" \"+t2"
      ],
      "execution_count": null,
      "outputs": [
        {
          "output_type": "execute_result",
          "data": {
            "application/vnd.google.colaboratory.intrinsic+json": {
              "type": "string"
            },
            "text/plain": [
              "'Hello everyone'"
            ]
          },
          "metadata": {},
          "execution_count": 32
        }
      ]
    },
    {
      "cell_type": "code",
      "metadata": {
        "id": "gh5huBNz5vZE",
        "colab": {
          "base_uri": "https://localhost:8080/",
          "height": 36
        },
        "outputId": "f525801f-7489-413e-ea28-0c11d82891c7"
      },
      "source": [
        " t1 +\" \" + t2 + \"!\" "
      ],
      "execution_count": null,
      "outputs": [
        {
          "output_type": "execute_result",
          "data": {
            "application/vnd.google.colaboratory.intrinsic+json": {
              "type": "string"
            },
            "text/plain": [
              "'Hello everyone!'"
            ]
          },
          "metadata": {},
          "execution_count": 33
        }
      ]
    },
    {
      "cell_type": "markdown",
      "metadata": {
        "id": "LuwiPp596EIn"
      },
      "source": [
        "Y... ¿podemos combinar texto y números? Intentémoslo."
      ]
    },
    {
      "cell_type": "code",
      "metadata": {
        "id": "axCEBcGC51-M",
        "colab": {
          "base_uri": "https://localhost:8080/",
          "height": 189
        },
        "outputId": "315aabd9-6bf4-4c88-d45a-10c920cfe862"
      },
      "source": [
        "result = 5 + 2\n",
        "\"The result is: \" + result"
      ],
      "execution_count": null,
      "outputs": [
        {
          "output_type": "error",
          "ename": "TypeError",
          "evalue": "ignored",
          "traceback": [
            "\u001b[0;31m---------------------------------------------------------------------------\u001b[0m",
            "\u001b[0;31mTypeError\u001b[0m                                 Traceback (most recent call last)",
            "\u001b[0;32m<ipython-input-34-a290119a7645>\u001b[0m in \u001b[0;36m<module>\u001b[0;34m()\u001b[0m\n\u001b[1;32m      1\u001b[0m \u001b[0mresult\u001b[0m \u001b[0;34m=\u001b[0m \u001b[0;36m5\u001b[0m \u001b[0;34m+\u001b[0m \u001b[0;36m2\u001b[0m\u001b[0;34m\u001b[0m\u001b[0;34m\u001b[0m\u001b[0m\n\u001b[0;32m----> 2\u001b[0;31m \u001b[0;34m\"The result is: \"\u001b[0m \u001b[0;34m+\u001b[0m \u001b[0mresult\u001b[0m\u001b[0;34m\u001b[0m\u001b[0;34m\u001b[0m\u001b[0m\n\u001b[0m",
            "\u001b[0;31mTypeError\u001b[0m: can only concatenate str (not \"int\") to str"
          ]
        }
      ]
    },
    {
      "cell_type": "markdown",
      "metadata": {
        "id": "sc_96LTJ6bxN"
      },
      "source": [
        "Como podemos ver, ¡¡¡genera un error!!! Esto es porque sólo podemos concatenar cadenas con cadenas. Si queremos hacerlo, tendremos que pasar la variable `result` a cadena con la función `str()`.\n",
        "\n",
        "*Nota*: Observa cómo Google Colab da formato a la salida de error, indicando exactamente la línea donde falla y el tipo de error `TypeError: must be str, not int`. Además, proporciona un enlace para buscar este error en Stack Overflow y encontrar posibles soluciones.\n",
        "\n",
        "\n"
      ]
    },
    {
      "cell_type": "code",
      "metadata": {
        "id": "lMCBhhz96aI6",
        "colab": {
          "base_uri": "https://localhost:8080/",
          "height": 36
        },
        "outputId": "76748e20-87ca-416e-930b-f83fed29e01f"
      },
      "source": [
        "result = 5 + 2  # Aquí + suma porque combina dos variables de tipo int\n",
        "\"The result is: \" + str(result)  # Aquí + contatena porque combina dos string "
      ],
      "execution_count": null,
      "outputs": [
        {
          "output_type": "execute_result",
          "data": {
            "application/vnd.google.colaboratory.intrinsic+json": {
              "type": "string"
            },
            "text/plain": [
              "'The result is: 7'"
            ]
          },
          "metadata": {},
          "execution_count": 35
        }
      ]
    },
    {
      "cell_type": "markdown",
      "metadata": {
        "id": "a449cnanbRQU"
      },
      "source": [
        "##  Formatear cadenas de texto\n",
        "\n",
        "Una forma más versátil de combinar texto con otros tipos de datos es la que ofrece la función `format()`. Nos permite incluir con `{ }` indicadores de posisicición de variables a incluir en el texto. Los marcadores de posición pueden identificarse utilizando índices con nombre `{variable_name}`, índices numerados `{0}`, o incluso marcadores de posición vacíos `{}`.\n"
      ]
    },
    {
      "cell_type": "code",
      "metadata": {
        "id": "ZG1_JTmF8MQb",
        "colab": {
          "base_uri": "https://localhost:8080/"
        },
        "outputId": "f0557479-371e-49e4-bb5a-ccc10570657a"
      },
      "source": [
        "quantity = 3\n",
        "itemno = 567\n",
        "price = 49.95\n",
        "myorder = \"I want {} pieces of item {} for {} dollars.\"\n",
        "print(myorder.format(quantity, itemno, price))"
      ],
      "execution_count": null,
      "outputs": [
        {
          "output_type": "stream",
          "text": [
            "I want 3 pieces of item 567 for 49.95 dollars.\n"
          ],
          "name": "stdout"
        }
      ]
    },
    {
      "cell_type": "code",
      "metadata": {
        "id": "kb-gjnV-8Rr4",
        "colab": {
          "base_uri": "https://localhost:8080/"
        },
        "outputId": "262c14db-973b-44d9-b239-6ab71ea9438a"
      },
      "source": [
        "quantity = 3\n",
        "itemno = 567\n",
        "price = 49.95\n",
        "# Now, we include the positions of the variables: 2 (price), 0 (quantity) and 1 (price)\n",
        "myorder = \"I want to pay {2} dollars for {0} pieces of item {1}.\"\n",
        "print(myorder.format(quantity, itemno, price))"
      ],
      "execution_count": null,
      "outputs": [
        {
          "output_type": "stream",
          "text": [
            "I want to pay 49.95 dollars for 3 pieces of item 567.\n"
          ],
          "name": "stdout"
        }
      ]
    },
    {
      "cell_type": "code",
      "metadata": {
        "colab": {
          "base_uri": "https://localhost:8080/"
        },
        "id": "WiFu2ni3y6wa",
        "outputId": "fdb0559b-c7e9-4cbd-eee8-41ad5fc603ef"
      },
      "source": [
        "print('Coordinates: {latitude}, {longitude}'.format(latitude='37.24N', longitude='-115.81W'))"
      ],
      "execution_count": null,
      "outputs": [
        {
          "output_type": "stream",
          "text": [
            "Coordinates: 37.24N, -115.81W\n"
          ],
          "name": "stdout"
        }
      ]
    },
    {
      "cell_type": "code",
      "metadata": {
        "colab": {
          "base_uri": "https://localhost:8080/"
        },
        "id": "ZSuvE00Bzds8",
        "outputId": "559f7c2d-b94d-4a0c-83fe-fe7958236cb3"
      },
      "source": [
        "print('Coordinates: %s, %s'%('37.24N','-115.81W'))"
      ],
      "execution_count": null,
      "outputs": [
        {
          "output_type": "stream",
          "text": [
            "Coordinates: 37.24N, -115.81W\n"
          ],
          "name": "stdout"
        }
      ]
    },
    {
      "cell_type": "code",
      "metadata": {
        "colab": {
          "base_uri": "https://localhost:8080/"
        },
        "id": "ZwCJZf9qzphB",
        "outputId": "7629593a-e478-4cf6-e75c-4383f276fe89"
      },
      "source": [
        "print('Coordinates: %.2f%s, %.2f%s'%(37.24,'N',-115.81,'W'))"
      ],
      "execution_count": null,
      "outputs": [
        {
          "output_type": "stream",
          "text": [
            "Coordinates: 37.24N, -115.81W\n"
          ],
          "name": "stdout"
        }
      ]
    },
    {
      "cell_type": "code",
      "metadata": {
        "colab": {
          "base_uri": "https://localhost:8080/"
        },
        "id": "cMi14WMwz2Mx",
        "outputId": "72d5be87-cf36-449a-a840-6662b1cc23ce"
      },
      "source": [
        "print('Coordinates: %.1f%s, %.1f%s'%(37.24,'N',-115.81,'W'))"
      ],
      "execution_count": null,
      "outputs": [
        {
          "output_type": "stream",
          "text": [
            "Coordinates: 37.2N, -115.8W\n"
          ],
          "name": "stdout"
        }
      ]
    },
    {
      "cell_type": "markdown",
      "metadata": {
        "id": "NJR3HO2C8vY2"
      },
      "source": [
        "### Ejercicio\n",
        "Completa los siguientes ejercicios"
      ]
    },
    {
      "cell_type": "code",
      "metadata": {
        "id": "LULtZNFW8yeM"
      },
      "source": [
        "str1 = '\"Hola\" is how we say \"hello\" in Spanish.'\n",
        "str2 = \"Strings can also be defined with quotes; try to be sistematic and consistent.\""
      ],
      "execution_count": null,
      "outputs": []
    },
    {
      "cell_type": "markdown",
      "metadata": {
        "id": "UxasIpZQxK5Z"
      },
      "source": [
        "* Imprime la cadena `str1` y comprueba su tipo"
      ]
    },
    {
      "cell_type": "code",
      "metadata": {
        "id": "N29iTpc79kvN",
        "colab": {
          "base_uri": "https://localhost:8080/"
        },
        "outputId": "bc349b8d-a2f9-466d-cbba-c10fe1c890ea"
      },
      "source": [
        "#<SOL>\n",
        "print(str1)\n",
        "print(type(str1))\n",
        "#</SOL>"
      ],
      "execution_count": null,
      "outputs": [
        {
          "output_type": "stream",
          "text": [
            "\"Hola\" is how we say \"hello\" in Spanish.\n",
            "<class 'str'>\n"
          ],
          "name": "stdout"
        }
      ]
    },
    {
      "cell_type": "markdown",
      "metadata": {
        "id": "z9M_952GxR_I"
      },
      "source": [
        "* Imprime los 5 primeros caracteres de `str1`."
      ]
    },
    {
      "cell_type": "code",
      "metadata": {
        "id": "CLkNJEDD9myb",
        "colab": {
          "base_uri": "https://localhost:8080/"
        },
        "outputId": "669969fe-cea3-46b1-f143-da543d434157"
      },
      "source": [
        "#<SOL>\n",
        "print(str1[:5])\n",
        "#</SOL>"
      ],
      "execution_count": null,
      "outputs": [
        {
          "output_type": "stream",
          "text": [
            "\"Hola\n"
          ],
          "name": "stdout"
        }
      ]
    },
    {
      "cell_type": "markdown",
      "metadata": {
        "id": "wLXX98L0xcOz"
      },
      "source": [
        "* Une `str1` y `str2`"
      ]
    },
    {
      "cell_type": "code",
      "metadata": {
        "id": "sc59-kuc9qOc",
        "colab": {
          "base_uri": "https://localhost:8080/"
        },
        "outputId": "d4a7e761-14a3-4134-e050-6f04119daed0"
      },
      "source": [
        "#<SOL>\n",
        "print(str1 + str2)\n",
        "#</SOL>"
      ],
      "execution_count": null,
      "outputs": [
        {
          "output_type": "stream",
          "text": [
            "\"Hola\" is how we say \"hello\" in Spanish.Strings can also be defined with quotes; try to be sistematic and consistent.\n"
          ],
          "name": "stdout"
        }
      ]
    },
    {
      "cell_type": "markdown",
      "metadata": {
        "id": "-AkaKI4-xhtL"
      },
      "source": [
        "* Convierte `str1` a minúsculas."
      ]
    },
    {
      "cell_type": "code",
      "metadata": {
        "id": "muarOO559sPk",
        "colab": {
          "base_uri": "https://localhost:8080/"
        },
        "outputId": "e943f11a-8286-4df6-da0a-9c70cb7150cc"
      },
      "source": [
        "#<SOL>\n",
        "print(str1.lower())\n",
        "#</SOL>"
      ],
      "execution_count": null,
      "outputs": [
        {
          "output_type": "stream",
          "text": [
            "\"hola\" is how we say \"hello\" in spanish.\n"
          ],
          "name": "stdout"
        }
      ]
    },
    {
      "cell_type": "markdown",
      "metadata": {
        "id": "sqK7tGQAxp2O"
      },
      "source": [
        "* Convierte `str1` a mayúsculas."
      ]
    },
    {
      "cell_type": "code",
      "metadata": {
        "id": "NAPrANnl9snE",
        "colab": {
          "base_uri": "https://localhost:8080/"
        },
        "outputId": "66569cb5-1334-4221-c158-d340feddedaa"
      },
      "source": [
        "#<SOL>\n",
        "print(str1.upper())\n",
        "#</SOL>"
      ],
      "execution_count": null,
      "outputs": [
        {
          "output_type": "stream",
          "text": [
            "\"HOLA\" IS HOW WE SAY \"HELLO\" IN SPANISH.\n"
          ],
          "name": "stdout"
        }
      ]
    },
    {
      "cell_type": "markdown",
      "metadata": {
        "id": "sxfemyHqx1jr"
      },
      "source": [
        "* Obten el número de caracteres en `str1`"
      ]
    },
    {
      "cell_type": "code",
      "metadata": {
        "id": "6HuLmXQG9w18",
        "colab": {
          "base_uri": "https://localhost:8080/"
        },
        "outputId": "c9e58a1e-89e6-4ff6-f97d-aabf34bd198c"
      },
      "source": [
        "#<SOL>\n",
        "print(len(str1))\n",
        "#</SOL>"
      ],
      "execution_count": null,
      "outputs": [
        {
          "output_type": "stream",
          "text": [
            "40\n"
          ],
          "name": "stdout"
        }
      ]
    },
    {
      "cell_type": "markdown",
      "metadata": {
        "id": "C16xjFrlx5qu"
      },
      "source": [
        "* Reemplazar el carácter `h` en `str1` por el carácter `H`"
      ]
    },
    {
      "cell_type": "code",
      "metadata": {
        "id": "pw7lGyLq9ze9",
        "colab": {
          "base_uri": "https://localhost:8080/"
        },
        "outputId": "9ae92941-a586-401c-95db-3f7e7282571c"
      },
      "source": [
        "#<SOL>\n",
        "print(str1.replace('h','H'))\n",
        "#</SOL>"
      ],
      "execution_count": null,
      "outputs": [
        {
          "output_type": "stream",
          "text": [
            "\"Hola\" is How we say \"Hello\" in SpanisH.\n"
          ],
          "name": "stdout"
        }
      ]
    },
    {
      "cell_type": "markdown",
      "metadata": {
        "id": "pAsmSzYlGLrY"
      },
      "source": [
        "* Comprueba si `str1` solo tiene letras "
      ]
    },
    {
      "cell_type": "code",
      "metadata": {
        "colab": {
          "base_uri": "https://localhost:8080/"
        },
        "id": "oj7s1QS4GLCI",
        "outputId": "7b1e0a9c-a2ed-4049-9cd5-9f16df4b9377"
      },
      "source": [
        "#<SOL>\n",
        "print(str1.isalpha())\n",
        "#</SOL>"
      ],
      "execution_count": null,
      "outputs": [
        {
          "output_type": "stream",
          "text": [
            "False\n"
          ],
          "name": "stdout"
        }
      ]
    },
    {
      "cell_type": "markdown",
      "metadata": {
        "id": "AeWtpRYgx__V"
      },
      "source": [
        "## Cadenas predefinidas y `translate`\n",
        "\n",
        "La librería `string` incluye varias cadenas de texto predefinidas, con dígitos, signos de puntuación, etc, que pueden ser de utilidad para procesar otras cadenas de texto. Para acceder a ellas solo tenemos que importar la librería `string` y cargar la cadena que nos interese."
      ]
    },
    {
      "cell_type": "code",
      "metadata": {
        "colab": {
          "base_uri": "https://localhost:8080/",
          "height": 36
        },
        "id": "nqMEKJiRyEgr",
        "outputId": "b02f7114-a5be-4113-f7d4-ac9ffbe60fe2"
      },
      "source": [
        " import string\n",
        " string.digits"
      ],
      "execution_count": null,
      "outputs": [
        {
          "output_type": "execute_result",
          "data": {
            "application/vnd.google.colaboratory.intrinsic+json": {
              "type": "string"
            },
            "text/plain": [
              "'0123456789'"
            ]
          },
          "metadata": {},
          "execution_count": 53
        }
      ]
    },
    {
      "cell_type": "code",
      "metadata": {
        "colab": {
          "base_uri": "https://localhost:8080/",
          "height": 36
        },
        "id": "tqlPbizSyinp",
        "outputId": "d7564652-5851-40ae-99f3-032bdb6bc444"
      },
      "source": [
        "string.punctuation"
      ],
      "execution_count": null,
      "outputs": [
        {
          "output_type": "execute_result",
          "data": {
            "application/vnd.google.colaboratory.intrinsic+json": {
              "type": "string"
            },
            "text/plain": [
              "'!\"#$%&\\'()*+,-./:;<=>?@[\\\\]^_`{|}~'"
            ]
          },
          "metadata": {},
          "execution_count": 54
        }
      ]
    },
    {
      "cell_type": "code",
      "metadata": {
        "colab": {
          "base_uri": "https://localhost:8080/",
          "height": 36
        },
        "id": "99fzOCtCymRy",
        "outputId": "d8b3b717-f93f-4f4c-b8a5-8c96b9c80082"
      },
      "source": [
        "string.whitespace"
      ],
      "execution_count": null,
      "outputs": [
        {
          "output_type": "execute_result",
          "data": {
            "application/vnd.google.colaboratory.intrinsic+json": {
              "type": "string"
            },
            "text/plain": [
              "' \\t\\n\\r\\x0b\\x0c'"
            ]
          },
          "metadata": {},
          "execution_count": 55
        }
      ]
    },
    {
      "cell_type": "markdown",
      "metadata": {
        "id": "FdDlCn_RHCkn"
      },
      "source": [
        "Consideremos ahora que tenemos el siguiente texto:"
      ]
    },
    {
      "cell_type": "code",
      "metadata": {
        "id": "iC_1CsjZ00dn"
      },
      "source": [
        "text = 'Thu Mar 18 09:22:07.436 <airportd[181]> _processIPv4Changes: ARP/NDP offloads disabled, not programming the offload'"
      ],
      "execution_count": null,
      "outputs": []
    },
    {
      "cell_type": "markdown",
      "metadata": {
        "id": "SxIISCRd1qST"
      },
      "source": [
        "y queremos eliminar los signos de puntuación y los dígitos. Lo podemos hacer fácilmente comprobando si cada símbolo de puntuación o dígito está en el texto y remplazandolo por nada `''`:"
      ]
    },
    {
      "cell_type": "code",
      "metadata": {
        "colab": {
          "base_uri": "https://localhost:8080/"
        },
        "id": "rUV03DIb1vrt",
        "outputId": "bcbbc18d-7259-46e0-dc5c-194dc9ad36bb"
      },
      "source": [
        "clean_text = text\n",
        "print(text)\n",
        "for punct in string.punctuation:\n",
        "  clean_text = clean_text.replace(punct,'')\n",
        "print(clean_text)\n",
        "for digit in string.digits:\n",
        "  clean_text = clean_text.replace(digit,'')\n",
        "for space in string.whitespace:\n",
        "  clean_text = clean_text.replace(space,'')\n",
        "print(clean_text)"
      ],
      "execution_count": null,
      "outputs": [
        {
          "output_type": "stream",
          "text": [
            "Thu Mar 18 09:22:07.436 <airportd[181]> _processIPv4Changes: ARP/NDP offloads disabled, not programming the offload\n",
            "Thu Mar 18 092207436 airportd181 processIPv4Changes ARPNDP offloads disabled not programming the offload\n",
            "ThuMarairportdprocessIPvChangesARPNDPoffloadsdisablednotprogrammingtheoffload\n"
          ],
          "name": "stdout"
        }
      ]
    },
    {
      "cell_type": "markdown",
      "metadata": {
        "id": "QNpMOnLj0zhk"
      },
      "source": [
        "Aunque esto puede hacerse de manera más eficiente, en una sola línea, con la función `translate`. Para utilizar `translate` tenemos que definir una tabla de traducción definiendo:\n",
        "\n",
        "`str.maketrans('abcd','0123','xyz')` \n",
        "\n",
        "de este modo indica que `'a'` se sustituye por `'0'`, `'b'` por `'1'`, .... y que, además, los caracteres `'x'`, `'y'` y `'z'` se eliminan."
      ]
    },
    {
      "cell_type": "code",
      "metadata": {
        "colab": {
          "base_uri": "https://localhost:8080/"
        },
        "id": "buQN4VVE019m",
        "outputId": "7ced2aec-ce98-47f3-daba-0defe16483c9"
      },
      "source": [
        "list_exclude = string.punctuation + string.digits +string.whitespace\n",
        "table_translate = str.maketrans('','', list_exclude)\n",
        "clean_text = text.translate(table_translate)\n",
        "print(clean_text)\n"
      ],
      "execution_count": null,
      "outputs": [
        {
          "output_type": "stream",
          "text": [
            "ThuMarairportdprocessIPvChangesARPNDPoffloadsdisablednotprogrammingtheoffload\n"
          ],
          "name": "stdout"
        }
      ]
    },
    {
      "cell_type": "markdown",
      "metadata": {
        "id": "ikjJ-gZJ5tc_"
      },
      "source": [
        "Un uso bastante común de `translate()` es la eliminación de acentos. Así, por ejemplo,"
      ]
    },
    {
      "cell_type": "code",
      "metadata": {
        "colab": {
          "base_uri": "https://localhost:8080/"
        },
        "id": "7WV1yDXW5V9J",
        "outputId": "b7838175-fd98-48e3-adbf-8265f11a1fb4"
      },
      "source": [
        "text = '¡El veloz murciélago hindú comía feliz cardillo y kiwi!. La cigüeña tocaba el saxofón detrás del palenque, o ¿no?'\n",
        "table_translate = str.maketrans('áéíóú','aeiou', string.punctuation+'¿¡')\n",
        "clean_text = text.translate(table_translate)\n",
        "print(clean_text)"
      ],
      "execution_count": null,
      "outputs": [
        {
          "output_type": "stream",
          "text": [
            "El veloz murcielago hindu comia feliz cardillo y kiwi La cigüeña tocaba el saxofon detras del palenque o no\n"
          ],
          "name": "stdout"
        }
      ]
    },
    {
      "cell_type": "markdown",
      "metadata": {
        "id": "7UQwp2sL6w58"
      },
      "source": [
        "*Nota*: en `string.punctuation` solo están los signos de puntuación en inglés."
      ]
    },
    {
      "cell_type": "markdown",
      "metadata": {
        "id": "OqiaiXQ3ILSh"
      },
      "source": [
        "# Colecciones de datos en Python\n",
        "\n",
        "Hay cuatro tipos de colecciones que nos permiten recoger o tener datos agrupados en Python:"
      ]
    },
    {
      "cell_type": "markdown",
      "metadata": {
        "id": "JjC2ZcRR_mZs"
      },
      "source": [
        "* La **lista** es una colección ordenada que podemos modificar y que admite miembros duplicados."
      ]
    },
    {
      "cell_type": "code",
      "metadata": {
        "colab": {
          "base_uri": "https://localhost:8080/"
        },
        "id": "j5z3trEl9Kvo",
        "outputId": "d1dab1bd-8622-4a94-c126-180d60441db8"
      },
      "source": [
        "myList = [\"apple\", \"banana\", \"pear\", \"orange\", \"lemon\", \"cherry\", \"kiwi\", \"melon\", \"mango\"]\n",
        "print(myList)"
      ],
      "execution_count": null,
      "outputs": [
        {
          "output_type": "stream",
          "text": [
            "['apple', 'banana', 'pear', 'orange', 'lemon', 'cherry', 'kiwi', 'melon', 'mango']\n"
          ],
          "name": "stdout"
        }
      ]
    },
    {
      "cell_type": "markdown",
      "metadata": {
        "id": "yNpgNBMS_ez3"
      },
      "source": [
        "* La **tupla** es una colección ordenada e inalterable de elementos que también admite elementos duplicados. La diferencia con las listas es que no permite modificar sus elementos."
      ]
    },
    {
      "cell_type": "code",
      "metadata": {
        "colab": {
          "base_uri": "https://localhost:8080/"
        },
        "id": "nAWGqF5H9JCz",
        "outputId": "36b36aa9-eb9f-4748-cc81-a6a6fbb7ab4b"
      },
      "source": [
        "myTuple = (\"apple\", \"banana\", \"pear\", \"orange\")\n",
        "print(myTuple)"
      ],
      "execution_count": null,
      "outputs": [
        {
          "output_type": "stream",
          "text": [
            "('apple', 'banana', 'pear', 'orange')\n"
          ],
          "name": "stdout"
        }
      ]
    },
    {
      "cell_type": "markdown",
      "metadata": {
        "id": "kgaOsDJp_ufv"
      },
      "source": [
        " * El **conjunto** es una colección de elementos que no está ordenada ni indexada y en la que no puede haber miembros duplicados.\n"
      ]
    },
    {
      "cell_type": "code",
      "metadata": {
        "colab": {
          "base_uri": "https://localhost:8080/"
        },
        "id": "WH8b7LBJ_1oG",
        "outputId": "6e101f4f-1a19-4c40-cd3d-80e091f3c57b"
      },
      "source": [
        "mySet = {\"apple\", \"banana\", \"pear\", \"kiwi\", \"melon\", \"mango\"}\n",
        "print(mySet)"
      ],
      "execution_count": null,
      "outputs": [
        {
          "output_type": "stream",
          "text": [
            "{'apple', 'kiwi', 'melon', 'pear', 'mango', 'banana'}\n"
          ],
          "name": "stdout"
        }
      ]
    },
    {
      "cell_type": "markdown",
      "metadata": {
        "id": "ULhm_HOQAK6z"
      },
      "source": [
        "* El **diccionario** es una colección de elementos no ordenados, modificables e indexados que no admite miembros duplicados."
      ]
    },
    {
      "cell_type": "code",
      "metadata": {
        "colab": {
          "base_uri": "https://localhost:8080/"
        },
        "id": "Qc4DWBADATi5",
        "outputId": "000c5d43-e6a1-405e-c9d9-25bb492d0aa8"
      },
      "source": [
        "mydict = {\n",
        "  \"name\": \"Ana\",\n",
        "  \"surname\": \"García\",\n",
        "  \"age\": 25\n",
        "}\n",
        "print(mydict)"
      ],
      "execution_count": null,
      "outputs": [
        {
          "output_type": "stream",
          "text": [
            "{'name': 'Ana', 'surname': 'García', 'age': 25}\n"
          ],
          "name": "stdout"
        }
      ]
    },
    {
      "cell_type": "markdown",
      "metadata": {
        "id": "-VqYf9w3JnyC"
      },
      "source": [
        "\n",
        "Cuando se elige un tipo de colección, es útil entender las propiedades de ese tipo. Elegir el tipo correcto para un conjunto de datos concreto puede significar la conservación del significado, y puede significar una mayor eficiencia o seguridad. A continuación, vamos a revisar las operaciones principales de las listas y los diccionarios ya que son los dos tipos de colecciones con los que más vamos a trabajar en este curso."
      ]
    },
    {
      "cell_type": "markdown",
      "metadata": {
        "id": "uvBkjwAGLJI1"
      },
      "source": [
        "## Listas en Python\n",
        "\n",
        "Como hemos indicado, una lista es una colección ordenada de elementos que podemos modificar y que admite elementos repetidos. Es uno de los tipos más habituales a la hora de programar en Python, por lo que son múltiples las operaciones que podemos realizar con las listas. A continuación  mostramos algunos ejemplos de las más comunes.\n",
        "\n"
      ]
    },
    {
      "cell_type": "markdown",
      "metadata": {
        "id": "5xlvuvNj7Sci"
      },
      "source": [
        "### Crear una lista\n",
        "En Python, las listas se escriben con corchetes `[ ]`. Así que para crear una lista, podemos simplemente incluir una serie de elementos separados por comas entre los corchetes:"
      ]
    },
    {
      "cell_type": "code",
      "metadata": {
        "id": "r73b2--fLOdU",
        "colab": {
          "base_uri": "https://localhost:8080/"
        },
        "outputId": "88aaf8d3-c6ce-48d3-8428-2287f9400427"
      },
      "source": [
        "myList = [\"apple\", \"banana\", \"pear\", \"orange\", \"lemon\", \"cherry\", \"kiwi\", \"melon\", \"mango\"]\n",
        "print(myList)"
      ],
      "execution_count": null,
      "outputs": [
        {
          "output_type": "stream",
          "text": [
            "['apple', 'banana', 'pear', 'orange', 'lemon', 'cherry', 'kiwi', 'melon', 'mango']\n"
          ],
          "name": "stdout"
        }
      ]
    },
    {
      "cell_type": "markdown",
      "metadata": {
        "id": "t-SJBOnd7sVr"
      },
      "source": [
        "Podemos definir una lista vacía si no incluimos elementos"
      ]
    },
    {
      "cell_type": "code",
      "metadata": {
        "id": "PKrSVCvW7Rzj",
        "colab": {
          "base_uri": "https://localhost:8080/"
        },
        "outputId": "baf8b31b-90de-4074-d8ed-c387168ff7ef"
      },
      "source": [
        "myEmpty_List = []\n",
        "print(myEmpty_List)"
      ],
      "execution_count": null,
      "outputs": [
        {
          "output_type": "stream",
          "text": [
            "[]\n"
          ],
          "name": "stdout"
        }
      ]
    },
    {
      "cell_type": "markdown",
      "metadata": {
        "id": "rVXnWE7VY7w-"
      },
      "source": [
        "También puedes crear una lista con el constructor `list ()`."
      ]
    },
    {
      "cell_type": "code",
      "metadata": {
        "id": "CCwXI_EYZAeD",
        "colab": {
          "base_uri": "https://localhost:8080/"
        },
        "outputId": "e20fbe1c-06d6-4495-80c9-599e86bec8ea"
      },
      "source": [
        "myList2 =list([ \"lemon\", \"cherry\", \"kiwi\", \"mango\"])\n",
        "print(myList2)"
      ],
      "execution_count": null,
      "outputs": [
        {
          "output_type": "stream",
          "text": [
            "['lemon', 'cherry', 'kiwi', 'mango']\n"
          ],
          "name": "stdout"
        }
      ]
    },
    {
      "cell_type": "markdown",
      "metadata": {
        "id": "k1JuRM37LQso"
      },
      "source": [
        "### Indexación de elementos\n",
        "Podemos acceder a sus elementos indexando la lista de forma similar a los caracteres de un *string* o cadena.\n",
        "\n",
        "Analiza los siguientes ejemplos intentando adivinar la salida que vamos a obtener antes de ejecutarlos..."
      ]
    },
    {
      "cell_type": "code",
      "metadata": {
        "id": "Y3-q1iM7LQ8F",
        "colab": {
          "base_uri": "https://localhost:8080/"
        },
        "outputId": "1ad59d53-088f-4db6-ac8a-04919f4c776c"
      },
      "source": [
        "print(myList[1])"
      ],
      "execution_count": null,
      "outputs": [
        {
          "output_type": "stream",
          "text": [
            "banana\n"
          ],
          "name": "stdout"
        }
      ]
    },
    {
      "cell_type": "code",
      "metadata": {
        "id": "n2-bDIFrLbyE",
        "colab": {
          "base_uri": "https://localhost:8080/"
        },
        "outputId": "4945e550-28ff-4694-a8b3-3773a07a39c7"
      },
      "source": [
        "print(myList[3:5])"
      ],
      "execution_count": null,
      "outputs": [
        {
          "output_type": "stream",
          "text": [
            "['orange', 'lemon']\n"
          ],
          "name": "stdout"
        }
      ]
    },
    {
      "cell_type": "code",
      "metadata": {
        "id": "BqsfyRH0Ldmt",
        "colab": {
          "base_uri": "https://localhost:8080/"
        },
        "outputId": "e4bbede4-0a07-4fec-b119-fea27e0edcda"
      },
      "source": [
        "print(myList[:4])"
      ],
      "execution_count": null,
      "outputs": [
        {
          "output_type": "stream",
          "text": [
            "['apple', 'banana', 'pear', 'orange']\n"
          ],
          "name": "stdout"
        }
      ]
    },
    {
      "cell_type": "code",
      "metadata": {
        "id": "Ot8hJyNWLgUe",
        "colab": {
          "base_uri": "https://localhost:8080/"
        },
        "outputId": "a8b1f5b6-7f30-47e6-dd65-0bf8c6f0a842"
      },
      "source": [
        "print(myList[5:])"
      ],
      "execution_count": null,
      "outputs": [
        {
          "output_type": "stream",
          "text": [
            "['cherry', 'kiwi', 'melon', 'mango']\n"
          ],
          "name": "stdout"
        }
      ]
    },
    {
      "cell_type": "code",
      "metadata": {
        "id": "HVlxCAIRLhxe",
        "colab": {
          "base_uri": "https://localhost:8080/"
        },
        "outputId": "94c665c8-87cd-4279-8d48-6715174978c2"
      },
      "source": [
        "print(myList[-1])"
      ],
      "execution_count": null,
      "outputs": [
        {
          "output_type": "stream",
          "text": [
            "mango\n"
          ],
          "name": "stdout"
        }
      ]
    },
    {
      "cell_type": "code",
      "metadata": {
        "id": "MqbqkSqmyJ34",
        "colab": {
          "base_uri": "https://localhost:8080/"
        },
        "outputId": "6b83cad5-455f-4aa5-e381-b43822578b28"
      },
      "source": [
        "print(myList[-5:-1])"
      ],
      "execution_count": null,
      "outputs": [
        {
          "output_type": "stream",
          "text": [
            "['lemon', 'cherry', 'kiwi', 'melon']\n"
          ],
          "name": "stdout"
        }
      ]
    },
    {
      "cell_type": "markdown",
      "metadata": {
        "id": "PQAON6rDLtEB"
      },
      "source": [
        "### Comprobar la presencia de un elemento\n",
        "Podemos utilizar la palabra clave `in` para comprobar si un elemento está en una lista:"
      ]
    },
    {
      "cell_type": "code",
      "metadata": {
        "id": "6T_b_qR1Lz53",
        "colab": {
          "base_uri": "https://localhost:8080/"
        },
        "outputId": "43339702-a79b-4080-bc23-50c25d306104"
      },
      "source": [
        "\"melon\" in myList"
      ],
      "execution_count": null,
      "outputs": [
        {
          "output_type": "execute_result",
          "data": {
            "text/plain": [
              "True"
            ]
          },
          "metadata": {},
          "execution_count": 74
        }
      ]
    },
    {
      "cell_type": "code",
      "metadata": {
        "id": "cFzyaGOf6GBy",
        "colab": {
          "base_uri": "https://localhost:8080/"
        },
        "outputId": "28ad993e-353c-40c1-b201-7341ed6b7974"
      },
      "source": [
        "\"banana\" in myList"
      ],
      "execution_count": null,
      "outputs": [
        {
          "output_type": "execute_result",
          "data": {
            "text/plain": [
              "True"
            ]
          },
          "metadata": {},
          "execution_count": 75
        }
      ]
    },
    {
      "cell_type": "markdown",
      "metadata": {
        "id": "xAIcpmf6L2zP"
      },
      "source": [
        "### Calcular la longitud de una lista\n",
        "Podemos utilizar la función `len ()` para calcular el número de elementos de la lista:"
      ]
    },
    {
      "cell_type": "code",
      "metadata": {
        "id": "Pko2SVnxL3ZK",
        "colab": {
          "base_uri": "https://localhost:8080/"
        },
        "outputId": "920f9094-64df-4619-98f2-309753e1b9b5"
      },
      "source": [
        "print(len(myList))"
      ],
      "execution_count": null,
      "outputs": [
        {
          "output_type": "stream",
          "text": [
            "9\n"
          ],
          "name": "stdout"
        }
      ]
    },
    {
      "cell_type": "markdown",
      "metadata": {
        "id": "UxtWV-UsYC1R"
      },
      "source": [
        "### Concatenar listas\n",
        "Podemos utilizar el operador `+` para crear una nueva lista uniendo los elementos de las dos listas\n"
      ]
    },
    {
      "cell_type": "code",
      "metadata": {
        "id": "64kOeSktYLAM",
        "colab": {
          "base_uri": "https://localhost:8080/"
        },
        "outputId": "0b2a2bb4-ecea-45bb-97f2-8ec2469535df"
      },
      "source": [
        "myUnionList = myList + myList2\n",
        "print(myUnionList)"
      ],
      "execution_count": null,
      "outputs": [
        {
          "output_type": "stream",
          "text": [
            "['apple', 'banana', 'pear', 'orange', 'lemon', 'cherry', 'kiwi', 'melon', 'mango', 'lemon', 'cherry', 'kiwi', 'mango']\n"
          ],
          "name": "stdout"
        }
      ]
    },
    {
      "cell_type": "markdown",
      "metadata": {
        "id": "oOTwSZLBLnu9"
      },
      "source": [
        "### Modificación de elementos de la lista\n",
        "Podemos modificar el valor de un elemento de la lista, accediendo a él directamente:"
      ]
    },
    {
      "cell_type": "code",
      "metadata": {
        "id": "0FyAxTD3Lqcj",
        "colab": {
          "base_uri": "https://localhost:8080/"
        },
        "outputId": "e530e038-4f31-4e72-9f69-a44b0d4c09cd"
      },
      "source": [
        "myList[1] = \"blackberry\"\n",
        "print(myList)"
      ],
      "execution_count": null,
      "outputs": [
        {
          "output_type": "stream",
          "text": [
            "['apple', 'blackberry', 'pear', 'orange', 'lemon', 'cherry', 'kiwi', 'melon', 'mango']\n"
          ],
          "name": "stdout"
        }
      ]
    },
    {
      "cell_type": "markdown",
      "metadata": {
        "id": "QBGK0QPP5mVo"
      },
      "source": [
        "E incluir un elemento repetido:"
      ]
    },
    {
      "cell_type": "code",
      "metadata": {
        "id": "I6hT7fH75rqD",
        "colab": {
          "base_uri": "https://localhost:8080/"
        },
        "outputId": "f1a6d262-ec5d-41fd-ad50-41089969542f"
      },
      "source": [
        "myList[1] = \"apple\"\n",
        "print(myList)"
      ],
      "execution_count": null,
      "outputs": [
        {
          "output_type": "stream",
          "text": [
            "['apple', 'apple', 'pear', 'orange', 'lemon', 'cherry', 'kiwi', 'melon', 'mango']\n"
          ],
          "name": "stdout"
        }
      ]
    },
    {
      "cell_type": "markdown",
      "metadata": {
        "id": "BDcZz1NXLtJj"
      },
      "source": [
        "Podemos añadir elementos al final de una lista utilizando el método `append ()`:"
      ]
    },
    {
      "cell_type": "code",
      "metadata": {
        "id": "ouz82w2-L8o7",
        "colab": {
          "base_uri": "https://localhost:8080/"
        },
        "outputId": "9e122d7d-75f7-4077-9236-0be229ec846a"
      },
      "source": [
        "myList.append(\"higo\")\n",
        "print(myList)"
      ],
      "execution_count": null,
      "outputs": [
        {
          "output_type": "stream",
          "text": [
            "['apple', 'apple', 'pear', 'orange', 'lemon', 'cherry', 'kiwi', 'melon', 'mango', 'higo']\n"
          ],
          "name": "stdout"
        }
      ]
    },
    {
      "cell_type": "markdown",
      "metadata": {
        "id": "0kwp8kYuLtOj"
      },
      "source": [
        "O utilizar el método `insert ()` para añadir un elemento en una posición específica:"
      ]
    },
    {
      "cell_type": "code",
      "metadata": {
        "id": "28a_UiPTMAYG",
        "colab": {
          "base_uri": "https://localhost:8080/"
        },
        "outputId": "971ace50-beff-46c2-e79d-7dca3516e97a"
      },
      "source": [
        "myList.insert(1, \"banana\")\n",
        "print(myList)"
      ],
      "execution_count": null,
      "outputs": [
        {
          "output_type": "stream",
          "text": [
            "['apple', 'banana', 'apple', 'pear', 'orange', 'lemon', 'cherry', 'kiwi', 'melon', 'mango', 'higo']\n"
          ],
          "name": "stdout"
        }
      ]
    },
    {
      "cell_type": "markdown",
      "metadata": {
        "id": "_lqVJ170LtSv"
      },
      "source": [
        "Si queremos eliminar elementos de la lista, tenemos varias opciones:\n",
        "\n",
        "* El método `remove ()` elimina el elemento indicado.\n"
      ]
    },
    {
      "cell_type": "code",
      "metadata": {
        "id": "SUsiYnhvMKDu",
        "colab": {
          "base_uri": "https://localhost:8080/"
        },
        "outputId": "9c0d5eff-64ec-4f3c-f582-04cb373d863d"
      },
      "source": [
        "myList.remove(\"pear\")\n",
        "print(myList)"
      ],
      "execution_count": null,
      "outputs": [
        {
          "output_type": "stream",
          "text": [
            "['apple', 'banana', 'apple', 'orange', 'lemon', 'cherry', 'kiwi', 'melon', 'mango', 'higo']\n"
          ],
          "name": "stdout"
        }
      ]
    },
    {
      "cell_type": "markdown",
      "metadata": {
        "id": "o4HFGKB-9wAI"
      },
      "source": [
        "Si tenemos un elemento que se repite, `remove ()` sólo lo elimina de su primera posición"
      ]
    },
    {
      "cell_type": "code",
      "metadata": {
        "id": "VDeQiUN19sDV",
        "colab": {
          "base_uri": "https://localhost:8080/"
        },
        "outputId": "f933fc2c-7955-433e-8b73-ea16817e467d"
      },
      "source": [
        "myList.remove(\"apple\")\n",
        "print(myList)"
      ],
      "execution_count": null,
      "outputs": [
        {
          "output_type": "stream",
          "text": [
            "['banana', 'apple', 'orange', 'lemon', 'cherry', 'kiwi', 'melon', 'mango', 'higo']\n"
          ],
          "name": "stdout"
        }
      ]
    },
    {
      "cell_type": "markdown",
      "metadata": {
        "id": "JVJ0qQo9-VMQ"
      },
      "source": [
        "* El método `pop ()` elimina el elemento indicado por su índice o posición (si no indicamos ningún índice, se elimina el último) \n",
        "\n"
      ]
    },
    {
      "cell_type": "code",
      "metadata": {
        "id": "amcuVKIkML7C",
        "colab": {
          "base_uri": "https://localhost:8080/"
        },
        "outputId": "5edd5139-c0d9-4b32-ce9a-9d4fb973df28"
      },
      "source": [
        "myList.pop(4)\n",
        "print(myList)"
      ],
      "execution_count": null,
      "outputs": [
        {
          "output_type": "stream",
          "text": [
            "['banana', 'apple', 'orange', 'lemon', 'kiwi', 'melon', 'mango', 'higo']\n"
          ],
          "name": "stdout"
        }
      ]
    },
    {
      "cell_type": "code",
      "metadata": {
        "id": "4f9RkKCb-Hvw",
        "colab": {
          "base_uri": "https://localhost:8080/"
        },
        "outputId": "26b7e987-8341-4138-e7dd-a27e0ded05bf"
      },
      "source": [
        "myList.pop()\n",
        "print(myList)"
      ],
      "execution_count": null,
      "outputs": [
        {
          "output_type": "stream",
          "text": [
            "['banana', 'apple', 'orange', 'lemon', 'kiwi', 'melon', 'mango']\n"
          ],
          "name": "stdout"
        }
      ]
    },
    {
      "cell_type": "code",
      "metadata": {
        "colab": {
          "base_uri": "https://localhost:8080/",
          "height": 36
        },
        "id": "9jXBpPd_ouig",
        "outputId": "988df530-eded-4506-ce4a-5fe71372dff8"
      },
      "source": [
        "aa=myList.pop()\n",
        "aa"
      ],
      "execution_count": null,
      "outputs": [
        {
          "output_type": "execute_result",
          "data": {
            "application/vnd.google.colaboratory.intrinsic+json": {
              "type": "string"
            },
            "text/plain": [
              "'mango'"
            ]
          },
          "metadata": {},
          "execution_count": 89
        }
      ]
    },
    {
      "cell_type": "markdown",
      "metadata": {
        "id": "yIEKNfhe-XZI"
      },
      "source": [
        "* La palabra clave `del` nos permite eliminar un elemento indicado por su índice o incluso eliminar toda la lista si no indicamos ningún elemento concreto\n",
        "\n"
      ]
    },
    {
      "cell_type": "code",
      "metadata": {
        "id": "zBtghV1EMQWJ",
        "colab": {
          "base_uri": "https://localhost:8080/"
        },
        "outputId": "97559572-efc6-4b57-8c06-26581ed914eb"
      },
      "source": [
        "del myList[0]\n",
        "print(myList)"
      ],
      "execution_count": null,
      "outputs": [
        {
          "output_type": "stream",
          "text": [
            "['apple', 'orange', 'lemon', 'kiwi', 'melon', 'mango']\n"
          ],
          "name": "stdout"
        }
      ]
    },
    {
      "cell_type": "code",
      "metadata": {
        "id": "lO9pdHPVMQY1",
        "colab": {
          "base_uri": "https://localhost:8080/",
          "height": 225
        },
        "outputId": "e7d4edeb-3ca7-4368-de5c-0c8b37532897"
      },
      "source": [
        "myList2 = ['lemon', 'cherry', 'kiwi']\n",
        "print(myList2)\n",
        "del myList2\n",
        "print(myList2)"
      ],
      "execution_count": null,
      "outputs": [
        {
          "output_type": "stream",
          "text": [
            "['lemon', 'cherry', 'kiwi']\n"
          ],
          "name": "stdout"
        },
        {
          "output_type": "error",
          "ename": "NameError",
          "evalue": "ignored",
          "traceback": [
            "\u001b[0;31m---------------------------------------------------------------------------\u001b[0m",
            "\u001b[0;31mNameError\u001b[0m                                 Traceback (most recent call last)",
            "\u001b[0;32m<ipython-input-87-cd5ce6c888db>\u001b[0m in \u001b[0;36m<module>\u001b[0;34m()\u001b[0m\n\u001b[1;32m      2\u001b[0m \u001b[0mprint\u001b[0m\u001b[0;34m(\u001b[0m\u001b[0mmyList2\u001b[0m\u001b[0;34m)\u001b[0m\u001b[0;34m\u001b[0m\u001b[0;34m\u001b[0m\u001b[0m\n\u001b[1;32m      3\u001b[0m \u001b[0;32mdel\u001b[0m \u001b[0mmyList2\u001b[0m\u001b[0;34m\u001b[0m\u001b[0;34m\u001b[0m\u001b[0m\n\u001b[0;32m----> 4\u001b[0;31m \u001b[0mprint\u001b[0m\u001b[0;34m(\u001b[0m\u001b[0mmyList2\u001b[0m\u001b[0;34m)\u001b[0m\u001b[0;34m\u001b[0m\u001b[0;34m\u001b[0m\u001b[0m\n\u001b[0m",
            "\u001b[0;31mNameError\u001b[0m: name 'myList2' is not defined"
          ]
        }
      ]
    },
    {
      "cell_type": "markdown",
      "metadata": {
        "id": "ls0p6FIs-vGE"
      },
      "source": [
        "* El método `clear ()` nos permite vaciar la lista"
      ]
    },
    {
      "cell_type": "code",
      "metadata": {
        "id": "Y4E9kZeFMQb9",
        "colab": {
          "base_uri": "https://localhost:8080/"
        },
        "outputId": "80035c51-dd22-461d-8f5b-b7373e820334"
      },
      "source": [
        "myList2 = ['lemon', 'cherry', 'kiwi']\n",
        "print(myList2)\n",
        "myList2.clear()\n",
        "print(myList2)"
      ],
      "execution_count": null,
      "outputs": [
        {
          "output_type": "stream",
          "text": [
            "['lemon', 'cherry', 'kiwi']\n",
            "[]\n"
          ],
          "name": "stdout"
        }
      ]
    },
    {
      "cell_type": "markdown",
      "metadata": {
        "id": "g8RPifx5_s0r"
      },
      "source": [
        "## Diccionarios de Python \n",
        "\n",
        "Un diccionario es una colección de elementos desordenados, modificables e indexados sin entradas duplicadas. \n",
        "\n",
        "Los diccionarios se escriben con llaves `{ }`, y su característica principal radica en que cada elemento tiene una clave para facilitar la indexación de los valores del diccionario. Así, cada elemento del diccionario es un par `{clave:valor}` (`{key:value}`).\n"
      ]
    },
    {
      "cell_type": "markdown",
      "metadata": {
        "id": "4YF1j4kL_s01"
      },
      "source": [
        "### Crear un diccionario\n",
        "En Python, los diccionarios se escriben con llaves y cada entrada debe indicarse con un par clave-valor. Por ejemplo:"
      ]
    },
    {
      "cell_type": "code",
      "metadata": {
        "id": "64liPP1L_s07",
        "colab": {
          "base_uri": "https://localhost:8080/"
        },
        "outputId": "93200ce6-047a-473f-cdf6-c12b44497e35"
      },
      "source": [
        "mydict = {\n",
        "  \"name\": \"Ana\",\n",
        "  \"surname\": \"García\",\n",
        "  \"age\": 25\n",
        "}\n",
        "print(mydict)"
      ],
      "execution_count": null,
      "outputs": [
        {
          "output_type": "stream",
          "text": [
            "{'name': 'Ana', 'surname': 'García', 'age': 25}\n"
          ],
          "name": "stdout"
        }
      ]
    },
    {
      "cell_type": "markdown",
      "metadata": {
        "id": "FmYUJgEbDIdg"
      },
      "source": [
        "Obsérvese el uso de dos puntos `:` para la asignación clave-valor."
      ]
    },
    {
      "cell_type": "markdown",
      "metadata": {
        "id": "2xDLiZrKCveL"
      },
      "source": [
        "De esta forma, podemos crear un diccionario con 3 entradas asociadas a las claves \"nombre\", \"apellido\", \"edad\" y, para cada clave, hemos guardado también su valor asociado. \n",
        "\n",
        "De esta forma, los diccionarios nos permiten crear estructuras muy flexibles donde almacenar información de forma estructurada. \n",
        "\n",
        "Podemos crear un diccionario vacío si no incluimos ningún elemento:"
      ]
    },
    {
      "cell_type": "code",
      "metadata": {
        "id": "LXdjeVED5EMh",
        "colab": {
          "base_uri": "https://localhost:8080/"
        },
        "outputId": "8604dee3-18de-4f14-ef0a-ec945a7793a3"
      },
      "source": [
        "myemptydict = {}\n",
        "print(myemptydict)"
      ],
      "execution_count": null,
      "outputs": [
        {
          "output_type": "stream",
          "text": [
            "{}\n"
          ],
          "name": "stdout"
        }
      ]
    },
    {
      "cell_type": "markdown",
      "metadata": {
        "id": "9BfQ3_i4IzFR"
      },
      "source": [
        "O utilizar el constructor `dict()`:\n"
      ]
    },
    {
      "cell_type": "code",
      "metadata": {
        "id": "DnWuFkP0I9t1",
        "colab": {
          "base_uri": "https://localhost:8080/"
        },
        "outputId": "7f6cb158-9e39-453c-8921-f8069a3278fa"
      },
      "source": [
        "mydict2 = dict(name = \"Juan\", surname =\"Pérez\", age =30)\n",
        "print(mydict2)"
      ],
      "execution_count": null,
      "outputs": [
        {
          "output_type": "stream",
          "text": [
            "{'name': 'Juan', 'surname': 'Pérez', 'age': 30}\n"
          ],
          "name": "stdout"
        }
      ]
    },
    {
      "cell_type": "markdown",
      "metadata": {
        "id": "5_vnSB2BJm-C"
      },
      "source": [
        "Tenga en cuenta que ahora las claves no se proporcionan como literales de cadena y que utilizamos el signo `=`   en lugar de `:` para la asignación clave-valor."
      ]
    },
    {
      "cell_type": "markdown",
      "metadata": {
        "id": "Fp5ETF2A41Fl"
      },
      "source": [
        "### Acceso a las claves y valores\n",
        "\n",
        "Una vez creado el diccionario, podemos acceder a un valor concreto a través de su clave:"
      ]
    },
    {
      "cell_type": "code",
      "metadata": {
        "id": "TiX0TIjxDRDh",
        "colab": {
          "base_uri": "https://localhost:8080/",
          "height": 36
        },
        "outputId": "6338338f-7a1e-48d2-a514-211e9caa96ad"
      },
      "source": [
        "mydict[\"name\"]"
      ],
      "execution_count": null,
      "outputs": [
        {
          "output_type": "execute_result",
          "data": {
            "application/vnd.google.colaboratory.intrinsic+json": {
              "type": "string"
            },
            "text/plain": [
              "'Ana'"
            ]
          },
          "metadata": {},
          "execution_count": 93
        }
      ]
    },
    {
      "cell_type": "markdown",
      "metadata": {
        "id": "_9fKkH1o4OV4"
      },
      "source": [
        "Observe que para acceder al elemento, llamamos al diccionario indicando la clave asociada al valor deseado entre corchetes.\n",
        "\n",
        "Los diccionarios también tienen un método `.get()` que proporcionará el mismo resultado:"
      ]
    },
    {
      "cell_type": "code",
      "metadata": {
        "id": "di1UchcA4qUq",
        "colab": {
          "base_uri": "https://localhost:8080/",
          "height": 36
        },
        "outputId": "a869a162-91c2-4b8b-fb9b-93ab6e9f7bc2"
      },
      "source": [
        "mydict.get(\"name\")"
      ],
      "execution_count": null,
      "outputs": [
        {
          "output_type": "execute_result",
          "data": {
            "application/vnd.google.colaboratory.intrinsic+json": {
              "type": "string"
            },
            "text/plain": [
              "'Ana'"
            ]
          },
          "metadata": {},
          "execution_count": 94
        }
      ]
    },
    {
      "cell_type": "markdown",
      "metadata": {
        "id": "3Pn5lS2s7CfY"
      },
      "source": [
        "Podemos cambiar el valor de una entrada específica accediendo con su clave:"
      ]
    },
    {
      "cell_type": "code",
      "metadata": {
        "id": "x_ibvyMG7R77",
        "colab": {
          "base_uri": "https://localhost:8080/",
          "height": 36
        },
        "outputId": "5deaf39e-52cd-4a9f-9877-c0e852850dbb"
      },
      "source": [
        "mydict[\"name\"]='Marta'\n",
        "mydict.get(\"name\")"
      ],
      "execution_count": null,
      "outputs": [
        {
          "output_type": "execute_result",
          "data": {
            "application/vnd.google.colaboratory.intrinsic+json": {
              "type": "string"
            },
            "text/plain": [
              "'Marta'"
            ]
          },
          "metadata": {},
          "execution_count": 95
        }
      ]
    },
    {
      "cell_type": "markdown",
      "metadata": {
        "id": "wBHngKl9DDK7"
      },
      "source": [
        "Obsérvese el uso de `=` en lugar de `:` para la asignación"
      ]
    },
    {
      "cell_type": "markdown",
      "metadata": {
        "id": "BO-lke09_XiN"
      },
      "source": [
        "Si intentamos acceder a una clave que no existe, obtenemos un error"
      ]
    },
    {
      "cell_type": "code",
      "metadata": {
        "id": "pwmc5txS_pYa",
        "colab": {
          "base_uri": "https://localhost:8080/",
          "height": 170
        },
        "outputId": "78430027-ec75-4853-c733-af1ea51008b4"
      },
      "source": [
        "mydict[\"status\"]"
      ],
      "execution_count": null,
      "outputs": [
        {
          "output_type": "error",
          "ename": "KeyError",
          "evalue": "ignored",
          "traceback": [
            "\u001b[0;31m---------------------------------------------------------------------------\u001b[0m",
            "\u001b[0;31mKeyError\u001b[0m                                  Traceback (most recent call last)",
            "\u001b[0;32m<ipython-input-96-77a7060e4a5a>\u001b[0m in \u001b[0;36m<module>\u001b[0;34m()\u001b[0m\n\u001b[0;32m----> 1\u001b[0;31m \u001b[0mmydict\u001b[0m\u001b[0;34m[\u001b[0m\u001b[0;34m\"status\"\u001b[0m\u001b[0;34m]\u001b[0m\u001b[0;34m\u001b[0m\u001b[0;34m\u001b[0m\u001b[0m\n\u001b[0m",
            "\u001b[0;31mKeyError\u001b[0m: 'status'"
          ]
        }
      ]
    },
    {
      "cell_type": "markdown",
      "metadata": {
        "id": "SuWBeaTxBCr-"
      },
      "source": [
        "Podemos evitar este error, utilizando la función get "
      ]
    },
    {
      "cell_type": "code",
      "metadata": {
        "id": "GnRtjrV5AHR5"
      },
      "source": [
        "if mydict.get(\"status\") is not None:\n",
        "  print(mydict[\"status\"])"
      ],
      "execution_count": null,
      "outputs": []
    },
    {
      "cell_type": "markdown",
      "metadata": {
        "id": "3i6oV7A16KVF"
      },
      "source": [
        "Si necesitamos acceder a todos los pares clave-valor, puede utilizar el método `.items()`"
      ]
    },
    {
      "cell_type": "code",
      "metadata": {
        "id": "7GPtjxrg6wN5",
        "colab": {
          "base_uri": "https://localhost:8080/"
        },
        "outputId": "7335ac2b-c703-4e1d-b311-ef04b16de0d1"
      },
      "source": [
        "mydict.items()"
      ],
      "execution_count": null,
      "outputs": [
        {
          "output_type": "execute_result",
          "data": {
            "text/plain": [
              "dict_items([('name', 'Marta'), ('surname', 'García'), ('age', 25)])"
            ]
          },
          "metadata": {},
          "execution_count": 98
        }
      ]
    },
    {
      "cell_type": "markdown",
      "metadata": {
        "id": "lU0inZz-6jvR"
      },
      "source": [
        "Tenga en cuenta que este método devuelve una lista de todos los pares clave-valor, donde cada par se devuelve como una tupla."
      ]
    },
    {
      "cell_type": "markdown",
      "metadata": {
        "id": "XqU_xOys7Z3F"
      },
      "source": [
        "También podemos acceder de forma independiente a todas las claves o a todos los valores utilizando los métodos `.keys()` o `.values()`, respectivamente."
      ]
    },
    {
      "cell_type": "code",
      "metadata": {
        "id": "nBf_IZPn_s1M",
        "colab": {
          "base_uri": "https://localhost:8080/"
        },
        "outputId": "90868e4e-3c9f-4460-b8c0-c8219386d50d"
      },
      "source": [
        "mydict.keys()"
      ],
      "execution_count": null,
      "outputs": [
        {
          "output_type": "execute_result",
          "data": {
            "text/plain": [
              "dict_keys(['name', 'surname', 'age'])"
            ]
          },
          "metadata": {},
          "execution_count": 99
        }
      ]
    },
    {
      "cell_type": "code",
      "metadata": {
        "id": "F7Q4fFnr7-UP",
        "colab": {
          "base_uri": "https://localhost:8080/"
        },
        "outputId": "ae986bd6-2af0-4d19-94ec-19f30bc7d5c0"
      },
      "source": [
        "mydict.values()"
      ],
      "execution_count": null,
      "outputs": [
        {
          "output_type": "execute_result",
          "data": {
            "text/plain": [
              "dict_values(['Marta', 'García', 25])"
            ]
          },
          "metadata": {},
          "execution_count": 100
        }
      ]
    },
    {
      "cell_type": "markdown",
      "metadata": {
        "id": "hJur-w4k8a6V"
      },
      "source": [
        "Se puede iterar sobre los elementos de un diccionario utilizando un bucle `for`. Para ello, solo hay que tener en cuenta que los elementos devueltos son las claves del diccionario:\n"
      ]
    },
    {
      "cell_type": "code",
      "metadata": {
        "id": "h-nIQn-H-IPt",
        "colab": {
          "base_uri": "https://localhost:8080/"
        },
        "outputId": "7591ca13-fd3b-42ba-b31a-5cbe3008b12d"
      },
      "source": [
        "for key in mydict:\n",
        "  print(key)"
      ],
      "execution_count": null,
      "outputs": [
        {
          "output_type": "stream",
          "text": [
            "name\n",
            "surname\n",
            "age\n"
          ],
          "name": "stdout"
        }
      ]
    },
    {
      "cell_type": "code",
      "metadata": {
        "id": "WF9Ox1QQ-iNH",
        "colab": {
          "base_uri": "https://localhost:8080/"
        },
        "outputId": "1aacb6cd-b491-4f51-a62d-bc83738589e2"
      },
      "source": [
        "# We can use these keys to return the values\n",
        "for key in mydict:\n",
        "  print(mydict[key])"
      ],
      "execution_count": null,
      "outputs": [
        {
          "output_type": "stream",
          "text": [
            "Marta\n",
            "García\n",
            "25\n"
          ],
          "name": "stdout"
        }
      ]
    },
    {
      "cell_type": "markdown",
      "metadata": {
        "id": "mxysI-oD-Ooa"
      },
      "source": [
        "Pero podemos utilizar los métodos `.items` o `.values` para iterar sobre otros elementos"
      ]
    },
    {
      "cell_type": "code",
      "metadata": {
        "id": "2Ii6_KrQ-wsg",
        "colab": {
          "base_uri": "https://localhost:8080/"
        },
        "outputId": "982d36d4-7f39-43b4-e5eb-f7a9b8c3b5a9"
      },
      "source": [
        "for value in mydict.values():\n",
        "  print(value)\n"
      ],
      "execution_count": null,
      "outputs": [
        {
          "output_type": "stream",
          "text": [
            "Marta\n",
            "García\n",
            "25\n"
          ],
          "name": "stdout"
        }
      ]
    },
    {
      "cell_type": "code",
      "metadata": {
        "id": "r66PmYSu-2Gh",
        "colab": {
          "base_uri": "https://localhost:8080/"
        },
        "outputId": "d46df461-c204-4578-d170-b7c4a1a6bc4c"
      },
      "source": [
        "for key, value in mydict.items():\n",
        "  print(key, value)"
      ],
      "execution_count": null,
      "outputs": [
        {
          "output_type": "stream",
          "text": [
            "name Marta\n",
            "surname García\n",
            "age 25\n"
          ],
          "name": "stdout"
        }
      ]
    },
    {
      "cell_type": "markdown",
      "metadata": {
        "id": "WLwOiVWRCIfb"
      },
      "source": [
        "### Añadir y eliminar elementos\n",
        "\n",
        "Para añadir una nueva entrada (clave-valor) a un diccionario, podemos simplemente utilizar una nueva clave y asignarle un valor:\n",
        "\n"
      ]
    },
    {
      "cell_type": "code",
      "metadata": {
        "id": "nj8t38vACh5S",
        "colab": {
          "base_uri": "https://localhost:8080/"
        },
        "outputId": "27de0fc7-873b-4994-d3f7-867033a40165"
      },
      "source": [
        "mydict[\"status\"] = 'single'\n",
        "print(mydict)"
      ],
      "execution_count": null,
      "outputs": [
        {
          "output_type": "stream",
          "text": [
            "{'name': 'Marta', 'surname': 'García', 'age': 25, 'status': 'single'}\n"
          ],
          "name": "stdout"
        }
      ]
    },
    {
      "cell_type": "markdown",
      "metadata": {
        "id": "MqrGr21IGzmc"
      },
      "source": [
        "O podemos utilizar el método `.update()`:"
      ]
    },
    {
      "cell_type": "code",
      "metadata": {
        "id": "MQVIa8ruG7M2",
        "colab": {
          "base_uri": "https://localhost:8080/"
        },
        "outputId": "0d18fffc-34de-4e1b-87f8-e0de11a39b28"
      },
      "source": [
        "mydict.update({\"job\":'teacher'})\n",
        "print(mydict)"
      ],
      "execution_count": null,
      "outputs": [
        {
          "output_type": "stream",
          "text": [
            "{'name': 'Marta', 'surname': 'García', 'age': 25, 'status': 'single', 'job': 'teacher'}\n"
          ],
          "name": "stdout"
        }
      ]
    },
    {
      "cell_type": "markdown",
      "metadata": {
        "id": "agoqGPCrHnSb"
      },
      "source": [
        "Aunque, en general, este método actualiza el diccionario con elementos de otro diccionario. En caso de que el otro diccionario tenga nuevos valores clave, éstos se añaden como nuevos elementos; en caso contrario, se actualizan los valores asociados. Por ejemplo:"
      ]
    },
    {
      "cell_type": "code",
      "metadata": {
        "id": "GWCId2cQIKdX",
        "colab": {
          "base_uri": "https://localhost:8080/"
        },
        "outputId": "d58a049f-3950-4a27-f406-28d2505d94b5"
      },
      "source": [
        "mydict2 = {1: \"one\", 2: \"three\"}\n",
        "dictnew = {2: \"two\", 3: \"three\"}\n",
        "\n",
        "mydict2.update(dictnew)\n",
        "print(mydict2)"
      ],
      "execution_count": null,
      "outputs": [
        {
          "output_type": "stream",
          "text": [
            "{1: 'one', 2: 'two', 3: 'three'}\n"
          ],
          "name": "stdout"
        }
      ]
    },
    {
      "cell_type": "markdown",
      "metadata": {
        "id": "6Tscsp-ACjSo"
      },
      "source": [
        "Para eliminar elementos de un diccionario, podemos utilizar los siguientes métodos:\n",
        "* `.pop()` o `del` (esta última es una función de Python): eliminan el elemento asociado a una clave determinada.\n",
        "\n",
        "* `.popitem()`: elimina el último elemento insertado.\n"
      ]
    },
    {
      "cell_type": "code",
      "metadata": {
        "id": "3PEC4N20Ci6d",
        "colab": {
          "base_uri": "https://localhost:8080/"
        },
        "outputId": "f9aceaf4-2741-4f19-fc2e-9484c4660769"
      },
      "source": [
        "print(mydict)\n",
        "mydict.popitem() \n",
        "print(mydict)"
      ],
      "execution_count": null,
      "outputs": [
        {
          "output_type": "stream",
          "text": [
            "{'name': 'Marta', 'surname': 'García', 'age': 25, 'status': 'single', 'job': 'teacher'}\n",
            "{'name': 'Marta', 'surname': 'García', 'age': 25, 'status': 'single'}\n"
          ],
          "name": "stdout"
        }
      ]
    },
    {
      "cell_type": "code",
      "metadata": {
        "id": "_N6BIbtYFFjn",
        "colab": {
          "base_uri": "https://localhost:8080/"
        },
        "outputId": "4c5a03d8-cd5c-4a2f-9d1c-5792a973ff1a"
      },
      "source": [
        "mydict.pop(\"age\") \n",
        "print(mydict)"
      ],
      "execution_count": null,
      "outputs": [
        {
          "output_type": "stream",
          "text": [
            "{'name': 'Marta', 'surname': 'García', 'status': 'single'}\n"
          ],
          "name": "stdout"
        }
      ]
    },
    {
      "cell_type": "code",
      "metadata": {
        "id": "9owdzBQBFdOJ",
        "colab": {
          "base_uri": "https://localhost:8080/"
        },
        "outputId": "4b4a1577-461c-42c3-e834-226323feac12"
      },
      "source": [
        "del mydict[\"name\"]\n",
        "print(mydict)"
      ],
      "execution_count": null,
      "outputs": [
        {
          "output_type": "stream",
          "text": [
            "{'surname': 'García', 'status': 'single'}\n"
          ],
          "name": "stdout"
        }
      ]
    },
    {
      "cell_type": "markdown",
      "metadata": {
        "id": "PiRcwStoFlnr"
      },
      "source": [
        "O incluso podemos utilizar `del` para eliminar el diccionario completo"
      ]
    },
    {
      "cell_type": "code",
      "metadata": {
        "id": "AXOATvhxFriK",
        "colab": {
          "base_uri": "https://localhost:8080/",
          "height": 189
        },
        "outputId": "0e888439-c5e2-4272-838e-824722d47123"
      },
      "source": [
        "del mydict\n",
        "print(mydict)"
      ],
      "execution_count": null,
      "outputs": [
        {
          "output_type": "error",
          "ename": "NameError",
          "evalue": "ignored",
          "traceback": [
            "\u001b[0;31m---------------------------------------------------------------------------\u001b[0m",
            "\u001b[0;31mNameError\u001b[0m                                 Traceback (most recent call last)",
            "\u001b[0;32m<ipython-input-111-2a0d72ed7222>\u001b[0m in \u001b[0;36m<module>\u001b[0;34m()\u001b[0m\n\u001b[1;32m      1\u001b[0m \u001b[0;32mdel\u001b[0m \u001b[0mmydict\u001b[0m\u001b[0;34m\u001b[0m\u001b[0;34m\u001b[0m\u001b[0m\n\u001b[0;32m----> 2\u001b[0;31m \u001b[0mprint\u001b[0m\u001b[0;34m(\u001b[0m\u001b[0mmydict\u001b[0m\u001b[0;34m)\u001b[0m\u001b[0;34m\u001b[0m\u001b[0;34m\u001b[0m\u001b[0m\n\u001b[0m",
            "\u001b[0;31mNameError\u001b[0m: name 'mydict' is not defined"
          ]
        }
      ]
    },
    {
      "cell_type": "markdown",
      "metadata": {
        "id": "fvUeh81FF2oV"
      },
      "source": [
        "Si sólo queremos eliminar los elementos del diccionario, sin borrar la variable, podemos utilizar el método `.clear`:"
      ]
    },
    {
      "cell_type": "code",
      "metadata": {
        "id": "BkmfhdwBF29a",
        "colab": {
          "base_uri": "https://localhost:8080/"
        },
        "outputId": "af2119bf-91ae-404f-b8ae-acd3374b61b2"
      },
      "source": [
        "mydict = {\n",
        "  \"name\": \"Ana\",\n",
        "  \"surname\": \"García\",\n",
        "  \"age\": 25\n",
        "}\n",
        "print(mydict)"
      ],
      "execution_count": null,
      "outputs": [
        {
          "output_type": "stream",
          "text": [
            "{'name': 'Ana', 'surname': 'García', 'age': 25}\n"
          ],
          "name": "stdout"
        }
      ]
    },
    {
      "cell_type": "code",
      "metadata": {
        "id": "8mXMSUCrGU4_",
        "colab": {
          "base_uri": "https://localhost:8080/"
        },
        "outputId": "0d03ea90-ddf0-4332-a8be-895a1ca4432a"
      },
      "source": [
        "mydict.clear()\n",
        "print(mydict)"
      ],
      "execution_count": null,
      "outputs": [
        {
          "output_type": "stream",
          "text": [
            "{}\n"
          ],
          "name": "stdout"
        }
      ]
    },
    {
      "cell_type": "markdown",
      "metadata": {
        "id": "oht2DGtm8XUS"
      },
      "source": [
        "## Estructuras anidadas\n",
        "\n",
        "En Python podemos crear estructuras anidadas. Por ejemplo, podemos crear:\n",
        "\n",
        "**Diccionarios anidados**: Es un diccionario que contiene muchos diccionarios.\n",
        "\n",
        "**Lista de diccionarios**: Es una lista donde cada elemento es un diccionario. En estas estructuras es bastante común que todos los diccionarios tengan las mismas claves, aunque esto no es obligatorio.  \n"
      ]
    },
    {
      "cell_type": "code",
      "metadata": {
        "id": "RKZcc0efLKvI",
        "colab": {
          "base_uri": "https://localhost:8080/"
        },
        "outputId": "30e39478-2d7d-415c-df55-4e745f90ec43"
      },
      "source": [
        "# Example of a nested dictionary\n",
        "children = {\n",
        "  \"child1\" : {\n",
        "    \"name\" : \"Alex\",\n",
        "    \"age\" : 4\n",
        "  },\n",
        "  \"child2\" : {\n",
        "    \"name\" : \"Eva\",\n",
        "    \"year\" : 7\n",
        "  },\n",
        "  \"child3\" : {\n",
        "    \"name\" : \"Daniel\",\n",
        "    \"year\" : 11\n",
        "  }\n",
        "}\n",
        "print(children)"
      ],
      "execution_count": null,
      "outputs": [
        {
          "output_type": "stream",
          "text": [
            "{'child1': {'name': 'Alex', 'age': 4}, 'child2': {'name': 'Eva', 'year': 7}, 'child3': {'name': 'Daniel', 'year': 11}}\n"
          ],
          "name": "stdout"
        }
      ]
    },
    {
      "cell_type": "code",
      "metadata": {
        "id": "jh6jrri_Lvy3",
        "colab": {
          "base_uri": "https://localhost:8080/"
        },
        "outputId": "7515e60b-c581-4315-f22e-34ba8fbd052a"
      },
      "source": [
        "# Example of a list of dictionaries\n",
        "\n",
        "children = [{\n",
        "    \"name\" : \"Alex\",\n",
        "    \"age\" : 4\n",
        "  }, {\n",
        "    \"name\" : \"Eva\",\n",
        "    \"year\" : 7\n",
        "  }, {\n",
        "    \"name\" : \"Daniel\",\n",
        "    \"year\" : 11\n",
        "  }]\n",
        "print(children)"
      ],
      "execution_count": null,
      "outputs": [
        {
          "output_type": "stream",
          "text": [
            "[{'name': 'Alex', 'age': 4}, {'name': 'Eva', 'year': 7}, {'name': 'Daniel', 'year': 11}]\n"
          ],
          "name": "stdout"
        }
      ]
    },
    {
      "cell_type": "markdown",
      "metadata": {
        "id": "sB70VS1LRtyU"
      },
      "source": [
        "**Ejercicios con diccionarios**\n",
        "\n",
        "Vamos a crear un diccionario con la información de tus compañeros de clase, utilizando el nombre como clave y sus estudios (titulación) como valores. Para este ejercicio, es suficiente con que incluyas los datos de 5 o 6 compañeros (puedes utilizar el chat para compartir esta información)."
      ]
    },
    {
      "cell_type": "code",
      "metadata": {
        "id": "c0z0YEZcSnFJ",
        "colab": {
          "base_uri": "https://localhost:8080/"
        },
        "outputId": "8872a4df-9902-4472-d621-39f62eb18abb"
      },
      "source": [
        "#<SOL>\n",
        "classmates={'Maria':'Telecomunication Eng', 'Pablo': 'Computer Science', 'Marta':'Maths', 'Ana': 'Computer Science', 'Antonio' :'Telecomunication Eng'}\n",
        "print(classmates)\n",
        "#</SOL>"
      ],
      "execution_count": null,
      "outputs": [
        {
          "output_type": "stream",
          "text": [
            "{'Maria': 'Telecomunication Eng', 'Pablo': 'Computer Science', 'Marta': 'Maths', 'Ana': 'Computer Science', 'Antonio': 'Telecomunication Eng'}\n"
          ],
          "name": "stdout"
        }
      ]
    },
    {
      "cell_type": "markdown",
      "metadata": {
        "id": "Mkjn_JLyT72I"
      },
      "source": [
        "Ahora resuelve los siguientes ejercicios o preguntas:\n",
        "* ¿Qué titulación ha estudiado Maria?\n",
        "* Actualiza el diccionario con información de otro compañero\n",
        "* Crea una lista con los nombres de todos los compañeros de clase que están en tu diccionario\n",
        "* ¿Cuánta gente ha estudiado `Computer Science`?\n"
      ]
    },
    {
      "cell_type": "code",
      "metadata": {
        "id": "zBbxp2MaT7dj",
        "colab": {
          "base_uri": "https://localhost:8080/",
          "height": 36
        },
        "outputId": "45ca6ebe-9b05-418a-b580-b43a944d749a"
      },
      "source": [
        "#<SOL>\n",
        "classmates['Maria']\n",
        "#</SOL>"
      ],
      "execution_count": null,
      "outputs": [
        {
          "output_type": "execute_result",
          "data": {
            "application/vnd.google.colaboratory.intrinsic+json": {
              "type": "string"
            },
            "text/plain": [
              "'Telecomunication Eng'"
            ]
          },
          "metadata": {},
          "execution_count": 117
        }
      ]
    },
    {
      "cell_type": "code",
      "metadata": {
        "id": "W8FfCaaRv6qO"
      },
      "source": [
        "#<SOL>\n",
        "classmates['Vanessa'] = 'Telecomunication Eng'\n",
        "#</SOL>"
      ],
      "execution_count": null,
      "outputs": []
    },
    {
      "cell_type": "code",
      "metadata": {
        "id": "sLRJ1TsFwAah",
        "colab": {
          "base_uri": "https://localhost:8080/"
        },
        "outputId": "b173a0f2-475d-476f-825b-97b2c2d89558"
      },
      "source": [
        "#<SOL>\n",
        "classmates.keys()\n",
        "#</SOL>"
      ],
      "execution_count": null,
      "outputs": [
        {
          "output_type": "execute_result",
          "data": {
            "text/plain": [
              "dict_keys(['Maria', 'Pablo', 'Marta', 'Ana', 'Antonio', 'Vanessa'])"
            ]
          },
          "metadata": {},
          "execution_count": 119
        }
      ]
    },
    {
      "cell_type": "code",
      "metadata": {
        "id": "wwmt_f_TwDRD",
        "colab": {
          "base_uri": "https://localhost:8080/"
        },
        "outputId": "731eace0-d783-4ad2-c670-f89ca4b9a56c"
      },
      "source": [
        "#<SOL>\n",
        "num=0\n",
        "for val in classmates.values():\n",
        "  if val ==   'Computer Science':\n",
        "    num +=1\n",
        "print(num)\n",
        "#</SOL>"
      ],
      "execution_count": null,
      "outputs": [
        {
          "output_type": "stream",
          "text": [
            "2\n"
          ],
          "name": "stdout"
        }
      ]
    },
    {
      "cell_type": "markdown",
      "metadata": {
        "id": "eKqCOgWw8-hD"
      },
      "source": [
        "# Comprensión de listas (List Comprehension)\n",
        "\n",
        "La comprensión de listas es una forma elegante de crear listas en Python a partir de listas (o iteradores) existentes. \n",
        "\n",
        "Para definir una nueva lista en Python usando la comprensión de listas definiremos una expresión entre corchetes, pero en lugar de la lista de elementos dentro de ella, definiremos una expresión seguida de un bucle `for`: \n",
        "\n",
        "`nueva_lista = [(operación sobre elemento) for elemento in iterador]`\n",
        "\n",
        "Esta expresión permite tomar elementos de nuestro iterador (que puede ser otra lista), aplicar una operación sobre ellos, y generar los nuevos elementos que se añaden automáticamente en `nueva_lista`.\n",
        "\n",
        "Esta sintaxis hace que esta nueva forma de definir listas sea más compacta y rápida que la definición normal.\n",
        "\n",
        "Veamos cómo funciona esto con algunos ejemplos:\n"
      ]
    },
    {
      "cell_type": "markdown",
      "metadata": {
        "id": "EEuoPfWT5nvp"
      },
      "source": [
        "**Ejemplo 1**: Vamos a crear una lista con los caracteres de la frase \"¡Hello world!\" "
      ]
    },
    {
      "cell_type": "code",
      "metadata": {
        "id": "OewT74U4ZNKL",
        "colab": {
          "base_uri": "https://localhost:8080/"
        },
        "outputId": "87755932-a96d-4f4f-cb11-04169c9ce647"
      },
      "source": [
        "# Standard solution\n",
        "sentence = \"Hello world!\"\n",
        "mylist= []\n",
        "for char in sentence:\n",
        "  mylist.append(char)\n",
        "\n",
        "print(mylist)"
      ],
      "execution_count": null,
      "outputs": [
        {
          "output_type": "stream",
          "text": [
            "['H', 'e', 'l', 'l', 'o', ' ', 'w', 'o', 'r', 'l', 'd', '!']\n"
          ],
          "name": "stdout"
        }
      ]
    },
    {
      "cell_type": "code",
      "metadata": {
        "id": "9h55o7dfZNHR",
        "colab": {
          "base_uri": "https://localhost:8080/"
        },
        "outputId": "d5a73cec-d47a-490a-f52f-91c3bf0788bb"
      },
      "source": [
        "# List comprehension\n",
        "sentence = \"Hello world!\"\n",
        "mylist2 = [char for char in sentence]\n",
        "print(mylist2)"
      ],
      "execution_count": null,
      "outputs": [
        {
          "output_type": "stream",
          "text": [
            "['H', 'e', 'l', 'l', 'o', ' ', 'w', 'o', 'r', 'l', 'd', '!']\n"
          ],
          "name": "stdout"
        }
      ]
    },
    {
      "cell_type": "markdown",
      "metadata": {
        "id": "n6WjKljW6d-I"
      },
      "source": [
        "**Ejemplo 2**: Calculemos el cuadrado del número de 0 a 10"
      ]
    },
    {
      "cell_type": "code",
      "metadata": {
        "id": "5MWprkubZNEH",
        "colab": {
          "base_uri": "https://localhost:8080/"
        },
        "outputId": "622568b2-a62f-42cb-8215-0adae7f24ba2"
      },
      "source": [
        "# Standard solution\n",
        "mylist= []\n",
        "for num in range(11):\n",
        "  mylist.append(num**2)\n",
        "\n",
        "print(mylist)"
      ],
      "execution_count": null,
      "outputs": [
        {
          "output_type": "stream",
          "text": [
            "[0, 1, 4, 9, 16, 25, 36, 49, 64, 81, 100]\n"
          ],
          "name": "stdout"
        }
      ]
    },
    {
      "cell_type": "code",
      "metadata": {
        "id": "CoG20htEZNBN",
        "colab": {
          "base_uri": "https://localhost:8080/"
        },
        "outputId": "e75f6c5b-6d1d-4d00-e0d9-bce63c210726"
      },
      "source": [
        "# List comprehension\n",
        "mylist2 = [num**2 for num in range(11)]\n",
        "print(mylist2)"
      ],
      "execution_count": null,
      "outputs": [
        {
          "output_type": "stream",
          "text": [
            "[0, 1, 4, 9, 16, 25, 36, 49, 64, 81, 100]\n"
          ],
          "name": "stdout"
        }
      ]
    },
    {
      "cell_type": "markdown",
      "metadata": {
        "id": "zCTwxuzd63_j"
      },
      "source": [
        "#### If...else con la comprensión de listas\n",
        "\n",
        "La comprensión de listas también nos permite incluir declaraciones `if... else...` en su definición.\n",
        "\n",
        "Por ejemplo, en el Ejemplo 2, podemos calcular el cuadrado de sólo los números impares entre 0 y 10."
      ]
    },
    {
      "cell_type": "code",
      "metadata": {
        "id": "VKFjL_i67h1s",
        "colab": {
          "base_uri": "https://localhost:8080/"
        },
        "outputId": "077a006b-8cc3-4d0a-f678-81f1878b92ca"
      },
      "source": [
        "# Standard solution\n",
        "mylist= []\n",
        "for num in range(11):\n",
        "  if (num % 2) != 0:\n",
        "    mylist.append(num**2)\n",
        "\n",
        "print(mylist)"
      ],
      "execution_count": null,
      "outputs": [
        {
          "output_type": "stream",
          "text": [
            "[1, 9, 25, 49, 81]\n"
          ],
          "name": "stdout"
        }
      ]
    },
    {
      "cell_type": "code",
      "metadata": {
        "id": "c0XpK7jK7teS",
        "colab": {
          "base_uri": "https://localhost:8080/"
        },
        "outputId": "d6505336-a7a0-4502-92b7-221e02b51ca0"
      },
      "source": [
        "# List comprehension\n",
        "mylist2 = [num**2 for num in range(11) if (num % 2) != 0]\n",
        "print(mylist2)"
      ],
      "execution_count": null,
      "outputs": [
        {
          "output_type": "stream",
          "text": [
            "[1, 9, 25, 49, 81]\n"
          ],
          "name": "stdout"
        }
      ]
    },
    {
      "cell_type": "markdown",
      "metadata": {
        "id": "gTFEfiuS73nR"
      },
      "source": [
        "O podemos calcular el cuadrado de los números impares y el cubo de los pares."
      ]
    },
    {
      "cell_type": "code",
      "metadata": {
        "id": "wU2MJzhw72TR",
        "colab": {
          "base_uri": "https://localhost:8080/"
        },
        "outputId": "2ad38d94-bbb8-4229-b015-ffa2f7abdf36"
      },
      "source": [
        "# Standard solution\n",
        "mylist= []\n",
        "for num in range(11):\n",
        "  if (num % 2) != 0:\n",
        "    mylist.append(num**2)\n",
        "  else:\n",
        "    mylist.append(num**3)\n",
        "print(mylist)"
      ],
      "execution_count": null,
      "outputs": [
        {
          "output_type": "stream",
          "text": [
            "[0, 1, 8, 9, 64, 25, 216, 49, 512, 81, 1000]\n"
          ],
          "name": "stdout"
        }
      ]
    },
    {
      "cell_type": "code",
      "metadata": {
        "id": "ZEX_JsZm8LB7",
        "colab": {
          "base_uri": "https://localhost:8080/"
        },
        "outputId": "d38ac655-1ca1-40d9-c233-27219288bc98"
      },
      "source": [
        "# List comprehension\n",
        "mylist2 = [num**2 if (num % 2) != 0 else num**3 for num in range(11)]\n",
        "print(mylist2)"
      ],
      "execution_count": null,
      "outputs": [
        {
          "output_type": "stream",
          "text": [
            "[0, 1, 8, 9, 64, 25, 216, 49, 512, 81, 1000]\n"
          ],
          "name": "stdout"
        }
      ]
    },
    {
      "cell_type": "markdown",
      "metadata": {
        "id": "tAm1ZP3D8fCh"
      },
      "source": [
        "#### Comprensión de diccionarios / Dictionary Comprehension\n",
        "\n",
        "Podemos crear un diccionario con el uso de una sintaxis similar utilizando llaves en lugar de corchetes e indicando los pares `clave:valor` en lugar de los elementos de la lista.\n"
      ]
    },
    {
      "cell_type": "markdown",
      "metadata": {
        "id": "28sWaBLJ9qOL"
      },
      "source": [
        "**Ejemplo 3**: Vamos a calcular un diccionario con pares `{número: número**2}` donde el número es la clave y el valor su cuadrado."
      ]
    },
    {
      "cell_type": "code",
      "metadata": {
        "id": "WnDm4_aS9CNp",
        "colab": {
          "base_uri": "https://localhost:8080/"
        },
        "outputId": "c1827970-a7e7-4e70-8061-88c5ba6160e8"
      },
      "source": [
        "# Dict comprehension\n",
        "mydict = {num:num**2 for num in range(11)}\n",
        "print(mydict)"
      ],
      "execution_count": null,
      "outputs": [
        {
          "output_type": "stream",
          "text": [
            "{0: 0, 1: 1, 2: 4, 3: 9, 4: 16, 5: 25, 6: 36, 7: 49, 8: 64, 9: 81, 10: 100}\n"
          ],
          "name": "stdout"
        }
      ]
    },
    {
      "cell_type": "code",
      "metadata": {
        "id": "goda63uq-MKI",
        "colab": {
          "base_uri": "https://localhost:8080/"
        },
        "outputId": "8cf83051-560f-482f-cbe8-d107707a4551"
      },
      "source": [
        "mydict[6]"
      ],
      "execution_count": null,
      "outputs": [
        {
          "output_type": "execute_result",
          "data": {
            "text/plain": [
              "36"
            ]
          },
          "metadata": {},
          "execution_count": 130
        }
      ]
    },
    {
      "cell_type": "markdown",
      "metadata": {
        "id": "Xs2JmnRMvpvq"
      },
      "source": [
        "## ¿Por qué listas o diccionarios comprimidos?\n",
        "\n",
        "Este tipo de sintáxis no solo nos permite ahorrar líneas de código, sino que además es más eficiente computacionalmente hablando. Veámoslo con un ejemplo..."
      ]
    },
    {
      "cell_type": "code",
      "metadata": {
        "colab": {
          "base_uri": "https://localhost:8080/"
        },
        "id": "NAcETjZFwxk5",
        "outputId": "84df4ede-c402-4ce6-b1ea-80383ae8e74c"
      },
      "source": [
        "import time\n",
        "MILLION_NUMBERS = list(range(1000000))\n",
        "\n",
        "output = []\n",
        "start_time = time.time()\n",
        "for element in MILLION_NUMBERS:\n",
        "    if not element % 2:\n",
        "        output.append(element)\n",
        "elapsed_time = time.time() - start_time\n",
        "print(elapsed_time)"
      ],
      "execution_count": null,
      "outputs": [
        {
          "output_type": "stream",
          "text": [
            "0.1462721824645996\n"
          ],
          "name": "stdout"
        }
      ]
    },
    {
      "cell_type": "code",
      "metadata": {
        "colab": {
          "base_uri": "https://localhost:8080/"
        },
        "id": "FrEYrw0xw3Nl",
        "outputId": "05ed3577-aac6-49ca-ef68-84d11fd31047"
      },
      "source": [
        "start_time = time.time()\n",
        "output = [number for number in MILLION_NUMBERS if not number % 2]\n",
        "elapsed_time = time.time() - start_time\n",
        "print(elapsed_time)"
      ],
      "execution_count": null,
      "outputs": [
        {
          "output_type": "stream",
          "text": [
            "0.08213591575622559\n"
          ],
          "name": "stdout"
        }
      ]
    },
    {
      "cell_type": "markdown",
      "metadata": {
        "id": "nX9bmWypvfxp"
      },
      "source": [
        "# Expresiones regulares\n",
        "\n",
        "Las expresiones regulares (llamadas REs, o regexes, o patrones regex) son esencialmente un pequeño lenguaje de programación altamente especializado y muy eficiente para la búsqueda de patrones en documentos de texto. Para trabajar con ellas solo tenemos que importar la librería `re`.\n",
        "\n",
        "Esta librería nos permite detectar patrones en nuestras cadenas de texto, contestando a preguntas del tipo *¿Coincide esta cadena con el patrón?*, o *¿Existe una coincidencia del patrón en alguna parte de esta cadena?*. También se puede utilizar `re` para modificar una cadena o dividirla.\n"
      ]
    },
    {
      "cell_type": "code",
      "metadata": {
        "id": "Hx5_QecXHwUJ"
      },
      "source": [
        "import re"
      ],
      "execution_count": null,
      "outputs": []
    },
    {
      "cell_type": "markdown",
      "metadata": {
        "id": "2Vk1ITHbGTZr"
      },
      "source": [
        "## Búsqueda de patrones\n",
        "\n",
        "Consideremos que definimos un framento de una cadena de texto (`pattern`) como nuestro patrón a buscar, a partir de este patrón la librería `re` nos proporciona las siguientes funciones:\n",
        "\n",
        "* `match()` : Determina si `pattern` está presente al principio de la cadena.\n",
        "\n",
        "* `search()` : Recorre una cadena, buscando cualquier lugar en el que esta `pattern` coincida. Si `pattern` aparece en varias posiciones, devuelve la primera coincidencia.\n",
        "\n",
        "* `findall()` / `finditer()` : Encuentra todas las subcadenas en las que coincide la `pattern`, y las devuelve como una lista/iterador.\n"
      ]
    },
    {
      "cell_type": "code",
      "metadata": {
        "id": "6WRB5gltH1I-"
      },
      "source": [
        "pattern = 'this'\n",
        "text = 'Does this text match the pattern?'"
      ],
      "execution_count": null,
      "outputs": []
    },
    {
      "cell_type": "code",
      "metadata": {
        "colab": {
          "base_uri": "https://localhost:8080/"
        },
        "id": "Dw_FbdYgH3lb",
        "outputId": "fc2611fc-340d-40e3-b204-8b871896e127"
      },
      "source": [
        "# Example with match\n",
        "result = re.match(pattern, text)\n",
        "print(result) "
      ],
      "execution_count": null,
      "outputs": [
        {
          "output_type": "stream",
          "text": [
            "None\n"
          ],
          "name": "stdout"
        }
      ]
    },
    {
      "cell_type": "code",
      "metadata": {
        "colab": {
          "base_uri": "https://localhost:8080/"
        },
        "id": "w7xqFGVqIAhF",
        "outputId": "bfa6d7f0-2ad8-47bb-c8a8-b49d64841163"
      },
      "source": [
        "# Example with match\n",
        "result = re.match('Does', text)\n",
        "print(result) "
      ],
      "execution_count": null,
      "outputs": [
        {
          "output_type": "stream",
          "text": [
            "<re.Match object; span=(0, 4), match='Does'>\n"
          ],
          "name": "stdout"
        }
      ]
    },
    {
      "cell_type": "code",
      "metadata": {
        "colab": {
          "base_uri": "https://localhost:8080/"
        },
        "id": "LGJH7Nf5PADK",
        "outputId": "082db160-89cc-4338-ef1c-16d88b2fa240"
      },
      "source": [
        "# Example with search\n",
        "result = re.search(pattern, text)\n",
        "print(result) "
      ],
      "execution_count": null,
      "outputs": [
        {
          "output_type": "stream",
          "text": [
            "<re.Match object; span=(5, 9), match='this'>\n"
          ],
          "name": "stdout"
        }
      ]
    },
    {
      "cell_type": "markdown",
      "metadata": {
        "id": "bDFUDFAqlmJu"
      },
      "source": [
        "Como podemos ver en estos ejemplos, los métodos `match()` y `search()` devuelven `None` si no se encuentra ninguna coincidencia y si tienen éxito, devuelven un Objeto `re.Match` que contiene información sobre la coincidencia:\n",
        "* `group()`: devuelve el texto que coincide con la expresion regular.\n",
        "* `start()`: devuelve la posición inicial de la coincidencia.\n",
        "* `end()`: devuelve la posición final de la coincidencia.\n",
        "* `span()`: devuelve una tupla con la posición inicial y final de la coincidencia.\n",
        "\n",
        "Además, incluye el atributo `.string` con la cadena original sobre la que se ha realizado la búsqueda.\n",
        "\n"
      ]
    },
    {
      "cell_type": "code",
      "metadata": {
        "colab": {
          "base_uri": "https://localhost:8080/"
        },
        "id": "Gk3Sz4_XIHm-",
        "outputId": "99e631f7-90e6-4fed-ede6-a3df9a26ea38"
      },
      "source": [
        "# Text matching the regular expression\n",
        "print(result.group())\n",
        "# Position where the match starts\n",
        "print(result.start()) \n",
        "# Position where the match ends\n",
        "print(result.end())  \n",
        "# Tuple with positions where the match starts and ends\n",
        "print(result.span())   \n",
        "\n",
        "# String on which the search has been performed\n",
        "print(result.string) "
      ],
      "execution_count": null,
      "outputs": [
        {
          "output_type": "stream",
          "text": [
            "this\n",
            "5\n",
            "9\n",
            "(5, 9)\n",
            "Does this text match the pattern?\n"
          ],
          "name": "stdout"
        }
      ]
    },
    {
      "cell_type": "code",
      "metadata": {
        "colab": {
          "base_uri": "https://localhost:8080/"
        },
        "id": "JS7b9SCsIVuV",
        "outputId": "7ef809b5-4803-4445-f66d-86f35b692f3d"
      },
      "source": [
        "print('Found \"{}\"\\nin \"{}\"\\nfrom {} to {} (\"{}\")'.format(result.group(), result.string, result.start(), result.end(), text[result.start():result.end()]))"
      ],
      "execution_count": null,
      "outputs": [
        {
          "output_type": "stream",
          "text": [
            "Found \"this\"\n",
            "in \"Does this text match the pattern?\"\n",
            "from 5 to 9 (\"this\")\n"
          ],
          "name": "stdout"
        }
      ]
    },
    {
      "cell_type": "markdown",
      "metadata": {
        "id": "yUfZSE_SPdtb"
      },
      "source": [
        "A diferencia de `match()` y `search()`, el método `findall()` devuelve una lista con todos los fragmentos de texto que coinciden con la expresión regular y  `finditer()` que devuelve un iterador de objetos `re.Match`.  Veámoslo con un ejemplo:"
      ]
    },
    {
      "cell_type": "code",
      "metadata": {
        "colab": {
          "base_uri": "https://localhost:8080/"
        },
        "id": "TqzQKQEUIrdv",
        "outputId": "8982cb07-31c4-490d-aff9-e5d538e64950"
      },
      "source": [
        "# Example with findall() \n",
        "\n",
        "text = 'abbaaabbbbaaaaa'\n",
        "pattern = 'ab'\n",
        "for match in re.findall(pattern, text):\n",
        "    print('Found {}'.format(match))  \n"
      ],
      "execution_count": null,
      "outputs": [
        {
          "output_type": "stream",
          "text": [
            "Found ab\n",
            "Found ab\n"
          ],
          "name": "stdout"
        }
      ]
    },
    {
      "cell_type": "code",
      "metadata": {
        "colab": {
          "base_uri": "https://localhost:8080/"
        },
        "id": "4cKKlihyK8uu",
        "outputId": "62c1d399-fb6f-41e9-cf7f-fb87d558358a"
      },
      "source": [
        "# Example with finditer()\n",
        "for match in re.finditer(pattern, text):\n",
        "    s = match.start()\n",
        "    e = match.end()\n",
        "    print('Found {!r} at {:d}:{:d}'.format(\n",
        "        text[s:e], s, e))"
      ],
      "execution_count": null,
      "outputs": [
        {
          "output_type": "stream",
          "text": [
            "Found 'ab' at 0:2\n",
            "Found 'ab' at 5:7\n"
          ],
          "name": "stdout"
        }
      ]
    },
    {
      "cell_type": "markdown",
      "metadata": {
        "id": "HCaO6mE3EdBi"
      },
      "source": [
        "## Definición de patrones \n",
        "\n",
        "En ocasones no queremos definir una cadena de texto concreta a buscar, sino definir un patrón que indique  una determinada estructura a buscar. Para definir estos patrones de búsqueda `re` utiliza una serie de *metacaracteres* especiales:\n",
        "\n",
        "`. ^ $ * + ? { } [ ] \\ | ( )`\n",
        "\n",
        "A continuación, iremos viendo cómo se usan estos metacaracteres y qué funcionalides nos dan."
      ]
    },
    {
      "cell_type": "markdown",
      "metadata": {
        "id": "LlSBLjubKkIP"
      },
      "source": [
        "### Definición del patrón\n",
        "\n",
        "`[` y `]` se utilizan para especificar un conjunto de caracteres con los que se desea coincidir. Los caracteres se pueden enumerar individualmente, o se puede indicar un rango de caracteres dando dos caracteres y separándolos con un `'-'`. \n",
        "\n",
        "Por ejemplo, `[abc]` coincidirá con cualquiera de los caracteres `a`, `b` o `c`; esto es lo mismo que `[a-c]`, que utiliza un rango para expresar el mismo conjunto de caracteres. Por ejemplo, si queremos decir que nuestro patrón es cualquier letra minúscula, podemos definirlo como `[a-z]`.\n"
      ]
    },
    {
      "cell_type": "code",
      "metadata": {
        "colab": {
          "base_uri": "https://localhost:8080/"
        },
        "id": "CduU1Z2IE6vF",
        "outputId": "1dcc954a-83f9-45bc-f1a7-103a96d82fe8"
      },
      "source": [
        "# Find vowels\n",
        "text = 'Does this text match the pattern?'\n",
        "pattern='[aeiou]'\n",
        "for match in re.finditer(pattern, text):\n",
        "    s = match.start()\n",
        "    e = match.end()\n",
        "    print('Found {} at {}:{}'.format(text[s:e], s, e))"
      ],
      "execution_count": null,
      "outputs": [
        {
          "output_type": "stream",
          "text": [
            "Found o at 1:2\n",
            "Found e at 2:3\n",
            "Found i at 7:8\n",
            "Found e at 11:12\n",
            "Found a at 16:17\n",
            "Found e at 23:24\n",
            "Found a at 26:27\n",
            "Found e at 29:30\n"
          ],
          "name": "stdout"
        }
      ]
    },
    {
      "cell_type": "code",
      "metadata": {
        "colab": {
          "base_uri": "https://localhost:8080/"
        },
        "id": "5o29ZrSdM79o",
        "outputId": "87951538-3f20-4b15-e4e0-b6a5dc827d32"
      },
      "source": [
        "# Find capital letters\n",
        "text = 'Does This Text Match the Pattern?'\n",
        "pattern='[A-Z]'\n",
        "for match in re.finditer(pattern, text):\n",
        "    s = match.start()\n",
        "    e = match.end()\n",
        "    print('Found {} at {}:{}'.format(text[s:e], s, e))"
      ],
      "execution_count": null,
      "outputs": [
        {
          "output_type": "stream",
          "text": [
            "Found D at 0:1\n",
            "Found T at 5:6\n",
            "Found T at 10:11\n",
            "Found M at 15:16\n",
            "Found P at 25:26\n"
          ],
          "name": "stdout"
        }
      ]
    },
    {
      "cell_type": "markdown",
      "metadata": {
        "id": "GaTbGCpBUPEw"
      },
      "source": [
        "### Códigos escapados \n",
        "\n",
        "Si cada vez que quisiéramos definir un patrón variable tuviéramos que crear rangos, acabaríamos generando expresiones regulares gigantes. Por suerte su sintaxis también acepta una serie de caracteres escapados que tienen un significo único. Algunos de los más importantes son:\n",
        "\n",
        "Código |\tSignificado\n",
        "-----| ------\n",
        "\\d |\tnumérico\n",
        "\\D |\tno numérico\n",
        "\\s |\tespacio en blanco\n",
        "\\S |\tno espacio en blanco\n",
        "\\w |\talfanumérico\n",
        "\\W |\tno alfanumérico\n",
        "\n",
        "El problema que encontraremos en Python a la hora de definir código escapado, es que las cadenas no tienen en cuenta el `'\\'` a no ser que especifiquemos que son cadenas en crudo (*raw*), por lo que tendremos que precedir las expresiones regulares con una `'r'`.\n",
        "\n",
        "*Nota*: por regla general las expresiones regulares las definiremos como raw `'r'` para evitar cualquier mala interpretación de los caracteres escapados."
      ]
    },
    {
      "cell_type": "code",
      "metadata": {
        "id": "IXfJ4K0jQKv5"
      },
      "source": [
        "# Function to analyze the search of several patterns\n",
        "def buscar(patrones, texto):\n",
        "    for patron in patrones:\n",
        "        print(re.findall(patron, texto))\n"
      ],
      "execution_count": null,
      "outputs": []
    },
    {
      "cell_type": "code",
      "metadata": {
        "colab": {
          "base_uri": "https://localhost:8080/"
        },
        "id": "TJDjYM1FUiEM",
        "outputId": "86f46695-5302-42ad-c7b9-8ccae5692f42"
      },
      "source": [
        "texto = \"Python se creó en el año 1991 con el número de versión 0.9.0.\"\n",
        "\n",
        "patrones = [r'\\d', r'\\D', r'\\s', r'\\S', r'\\w', r'\\W'] \n",
        "buscar(patrones, texto)"
      ],
      "execution_count": null,
      "outputs": [
        {
          "output_type": "stream",
          "text": [
            "['1', '9', '9', '1', '0', '9', '0']\n",
            "['P', 'y', 't', 'h', 'o', 'n', ' ', 's', 'e', ' ', 'c', 'r', 'e', 'ó', ' ', 'e', 'n', ' ', 'e', 'l', ' ', 'a', 'ñ', 'o', ' ', ' ', 'c', 'o', 'n', ' ', 'e', 'l', ' ', 'n', 'ú', 'm', 'e', 'r', 'o', ' ', 'd', 'e', ' ', 'v', 'e', 'r', 's', 'i', 'ó', 'n', ' ', '.', '.', '.']\n",
            "[' ', ' ', ' ', ' ', ' ', ' ', ' ', ' ', ' ', ' ', ' ', ' ']\n",
            "['P', 'y', 't', 'h', 'o', 'n', 's', 'e', 'c', 'r', 'e', 'ó', 'e', 'n', 'e', 'l', 'a', 'ñ', 'o', '1', '9', '9', '1', 'c', 'o', 'n', 'e', 'l', 'n', 'ú', 'm', 'e', 'r', 'o', 'd', 'e', 'v', 'e', 'r', 's', 'i', 'ó', 'n', '0', '.', '9', '.', '0', '.']\n",
            "['P', 'y', 't', 'h', 'o', 'n', 's', 'e', 'c', 'r', 'e', 'ó', 'e', 'n', 'e', 'l', 'a', 'ñ', 'o', '1', '9', '9', '1', 'c', 'o', 'n', 'e', 'l', 'n', 'ú', 'm', 'e', 'r', 'o', 'd', 'e', 'v', 'e', 'r', 's', 'i', 'ó', 'n', '0', '9', '0']\n",
            "[' ', ' ', ' ', ' ', ' ', ' ', ' ', ' ', ' ', ' ', ' ', ' ', '.', '.', '.']\n"
          ],
          "name": "stdout"
        }
      ]
    },
    {
      "cell_type": "markdown",
      "metadata": {
        "id": "qnH3_oETRbyc"
      },
      "source": [
        "### Patrones con varios valores\n",
        "\n",
        "Si queremos comprobar varias posibilidades, podemos utilizar el metacarácter `|` a modo de `OR`:\n"
      ]
    },
    {
      "cell_type": "code",
      "metadata": {
        "colab": {
          "base_uri": "https://localhost:8080/"
        },
        "id": "Yf83RmnMR7k9",
        "outputId": "1bb1f636-db38-4bbe-efcc-1053cfc40914"
      },
      "source": [
        "texto = \"hola adios hello bye\"\n",
        "patrones = [r'hola|hello'] \n",
        "buscar(patrones, texto)"
      ],
      "execution_count": null,
      "outputs": [
        {
          "output_type": "stream",
          "text": [
            "['hola', 'hello']\n"
          ],
          "name": "stdout"
        }
      ]
    },
    {
      "cell_type": "markdown",
      "metadata": {
        "id": "r7x-HqldLR-z"
      },
      "source": [
        "### Incluyendo repeticiones\n",
        "\n",
        "Hay varias formas de expresar la repetición en un patrón. En la siguiente tabla, resumimos como usarlas.\n",
        "\n",
        " Metacarácter \t|  Descripción\n",
        " --- | ---\n",
        "`*` | se repite\tcero o más, similar a `{0,}`.\n",
        "`+` |\tse repite una o más, similar a `{1,}`.\n",
        "`?` |\tse repite cero o una, similar a `{0,1}`.\n",
        "`{n}` |\tse repite exactamente n veces.\n",
        "`{n,}` |\tse repite por lo menos n veces.\n",
        "`{n,m}` |\tse repite por lo menos n pero no más de m veces.\n",
        "\n",
        "Así, por ejemplo, un patrón seguido por el metacarácter `*` indica que debe repetirse cero o más veces (permitiendo que un patrón se repita cero veces significa que no necesita aparecer en absoluto para que coincida). "
      ]
    },
    {
      "cell_type": "code",
      "metadata": {
        "colab": {
          "base_uri": "https://localhost:8080/"
        },
        "id": "uIoMu3CbFMEk",
        "outputId": "ec7b79c0-d6ce-4e1a-b989-de83b01da522"
      },
      "source": [
        "texto = \"Python se creó en el año 1991 con el número de versión 0.9.0.\"\n",
        "\n",
        "patrones = [r'\\d+', r'\\D+', r'\\s+', r'\\S+', r'\\w+', r'\\W+'] \n",
        "buscar(patrones, texto)"
      ],
      "execution_count": null,
      "outputs": [
        {
          "output_type": "stream",
          "text": [
            "['1991', '0', '9', '0']\n",
            "['Python se creó en el año ', ' con el número de versión ', '.', '.', '.']\n",
            "[' ', ' ', ' ', ' ', ' ', ' ', ' ', ' ', ' ', ' ', ' ', ' ']\n",
            "['Python', 'se', 'creó', 'en', 'el', 'año', '1991', 'con', 'el', 'número', 'de', 'versión', '0.9.0.']\n",
            "['Python', 'se', 'creó', 'en', 'el', 'año', '1991', 'con', 'el', 'número', 'de', 'versión', '0', '9', '0']\n",
            "[' ', ' ', ' ', ' ', ' ', ' ', ' ', ' ', ' ', ' ', ' ', ' ', '.', '.', '.']\n"
          ],
          "name": "stdout"
        }
      ]
    },
    {
      "cell_type": "code",
      "metadata": {
        "id": "ELVcoBAhQKyX"
      },
      "source": [
        "texto = \"hla hola hoola hooola hooooola\""
      ],
      "execution_count": null,
      "outputs": []
    },
    {
      "cell_type": "code",
      "metadata": {
        "colab": {
          "base_uri": "https://localhost:8080/"
        },
        "id": "EHz9wvf_Swmq",
        "outputId": "56c3c153-abc5-4bdd-a856-3dd332efbeab"
      },
      "source": [
        "patrones = [r'hla', r'hola', r'hoola']\n",
        "buscar(patrones, texto)"
      ],
      "execution_count": null,
      "outputs": [
        {
          "output_type": "stream",
          "text": [
            "['hla']\n",
            "['hola']\n",
            "['hoola']\n"
          ],
          "name": "stdout"
        }
      ]
    },
    {
      "cell_type": "code",
      "metadata": {
        "colab": {
          "base_uri": "https://localhost:8080/"
        },
        "id": "fZQKtt6FSQM_",
        "outputId": "0b576d30-b614-4136-edd9-216bdac39594"
      },
      "source": [
        "patrones = [r'ho',r'ho*',r'ho*la',r'hu*la']\n",
        "buscar(patrones, texto)"
      ],
      "execution_count": null,
      "outputs": [
        {
          "output_type": "stream",
          "text": [
            "['ho', 'ho', 'ho', 'ho']\n",
            "['h', 'ho', 'hoo', 'hooo', 'hooooo']\n",
            "['hla', 'hola', 'hoola', 'hooola', 'hooooola']\n",
            "['hla']\n"
          ],
          "name": "stdout"
        }
      ]
    },
    {
      "cell_type": "code",
      "metadata": {
        "colab": {
          "base_uri": "https://localhost:8080/"
        },
        "id": "9CiqLiKwSS7p",
        "outputId": "43dfd26b-76a4-42f4-fc45-83f24139de2e"
      },
      "source": [
        "patrones = [r'ho*', r'ho+']  \n",
        "buscar(patrones, texto)"
      ],
      "execution_count": null,
      "outputs": [
        {
          "output_type": "stream",
          "text": [
            "['h', 'ho', 'hoo', 'hooo', 'hooooo']\n",
            "['ho', 'hoo', 'hooo', 'hooooo']\n"
          ],
          "name": "stdout"
        }
      ]
    },
    {
      "cell_type": "code",
      "metadata": {
        "colab": {
          "base_uri": "https://localhost:8080/"
        },
        "id": "zjXRU19jSVNM",
        "outputId": "2333f2c3-11ea-4ea5-9b6a-01055f7bd9b1"
      },
      "source": [
        "patrones = [r'ho*', r'ho+', r'ho?', r'ho?la']\n",
        "buscar(patrones, texto)"
      ],
      "execution_count": null,
      "outputs": [
        {
          "output_type": "stream",
          "text": [
            "['h', 'ho', 'hoo', 'hooo', 'hooooo']\n",
            "['ho', 'hoo', 'hooo', 'hooooo']\n",
            "['h', 'ho', 'ho', 'ho', 'ho']\n",
            "['hla', 'hola']\n"
          ],
          "name": "stdout"
        }
      ]
    },
    {
      "cell_type": "code",
      "metadata": {
        "colab": {
          "base_uri": "https://localhost:8080/"
        },
        "id": "4GSYqDhlSXs_",
        "outputId": "7cc48a82-dffd-4ca1-86d8-620123178e9f"
      },
      "source": [
        "patrones = [r'ho{0}la', r'ho{1}la', r'ho{2}la']\n",
        "buscar(patrones, texto)"
      ],
      "execution_count": null,
      "outputs": [
        {
          "output_type": "stream",
          "text": [
            "['hla']\n",
            "['hola']\n",
            "['hoola']\n"
          ],
          "name": "stdout"
        }
      ]
    },
    {
      "cell_type": "code",
      "metadata": {
        "colab": {
          "base_uri": "https://localhost:8080/"
        },
        "id": "G6yGP5a0SaPl",
        "outputId": "8cbc33a9-5881-43f5-9a08-c5955ad9f19e"
      },
      "source": [
        "patrones = [r'ho{0,1}la', r'ho{1,2}la', r'ho{2,9}la']\n",
        "buscar(patrones, texto)"
      ],
      "execution_count": null,
      "outputs": [
        {
          "output_type": "stream",
          "text": [
            "['hla', 'hola']\n",
            "['hola', 'hoola']\n",
            "['hoola', 'hooola', 'hooooola']\n"
          ],
          "name": "stdout"
        }
      ]
    },
    {
      "cell_type": "code",
      "metadata": {
        "colab": {
          "base_uri": "https://localhost:8080/"
        },
        "id": "cS_xCdeLSiZf",
        "outputId": "89c4e229-d660-40e0-b9f6-368f482be45d"
      },
      "source": [
        "texto = \"haala heeela haaeela hiiiila hoooooola\"\n",
        "\n",
        "patrones = [r'h[ae]la', r'h[ae]*la', r'h[io]{3,9}la']\n",
        "buscar(patrones, texto)\n"
      ],
      "execution_count": null,
      "outputs": [
        {
          "output_type": "stream",
          "text": [
            "[]\n",
            "['haala', 'heeela', 'haaeela']\n",
            "['hiiiila', 'hoooooola']\n"
          ],
          "name": "stdout"
        }
      ]
    },
    {
      "cell_type": "markdown",
      "metadata": {
        "id": "eEWiGukXmIs6"
      },
      "source": [
        "### Delimitadores\n",
        "\n",
        "Esta clase de metacaracteres nos permite delimitar dónde queremos buscar los patrones de búsqueda. Los principales son:\n",
        "\n",
        "Metacarácter |\tDescripción\n",
        "----| -----\n",
        "^ |\tinicio de texto.\n",
        "$ |\tfin de texto.\n",
        ". |\tcualquier carácter en el texto.\n",
        "\\b |\testá al principio (o al final) de una palabra.\n",
        "\\B |\tno está al principio (o al final) de una palabra.\n"
      ]
    },
    {
      "cell_type": "code",
      "metadata": {
        "colab": {
          "base_uri": "https://localhost:8080/"
        },
        "id": "sfpiUo4rovCc",
        "outputId": "a9e848a0-4c38-429b-a055-b89ced4eb6c4"
      },
      "source": [
        "texto = \"Python se creó en el año 1991 con el número de versión 0.9.0. Python debe su nombre a la afición de su creador por los humoristas británicos Monty Python\"\n",
        "# Buscamos \"Python\" al principio y al final de texto\n",
        "patrones = [r'^Python', r'Python$'] \n",
        "buscar(patrones, texto)"
      ],
      "execution_count": null,
      "outputs": [
        {
          "output_type": "stream",
          "text": [
            "['Python']\n",
            "['Python']\n"
          ],
          "name": "stdout"
        }
      ]
    },
    {
      "cell_type": "code",
      "metadata": {
        "colab": {
          "base_uri": "https://localhost:8080/"
        },
        "id": "bsdaOVsltrGJ",
        "outputId": "f3125382-0ad4-463c-e322-5a573b84a1a3"
      },
      "source": [
        "# Buscamos palabras que comiencen por P y acaben en n y tengan 4 caracteres (los que sean) en medio\n",
        "patrones = [r'P....n'] \n",
        "buscar(patrones, texto)"
      ],
      "execution_count": null,
      "outputs": [
        {
          "output_type": "stream",
          "text": [
            "['Python', 'Python', 'Python']\n"
          ],
          "name": "stdout"
        }
      ]
    },
    {
      "cell_type": "code",
      "metadata": {
        "colab": {
          "base_uri": "https://localhost:8080/"
        },
        "id": "5w6ZHMoAssJJ",
        "outputId": "a7268c3f-cd82-4d94-c0aa-0de9685b5088"
      },
      "source": [
        "# Buscamos palabras que comiencen por M seguidas de caracteres (los que sean) y luego lleven la cadena \"Python\"\n",
        "patrones = ['M.* Python'] \n",
        "buscar(patrones, texto)"
      ],
      "execution_count": null,
      "outputs": [
        {
          "output_type": "stream",
          "text": [
            "['Monty Python']\n"
          ],
          "name": "stdout"
        }
      ]
    },
    {
      "cell_type": "markdown",
      "metadata": {
        "id": "Mz9sKPWVxXGF"
      },
      "source": [
        "*Nota*: tenemos que usar '\\\\.' si queremos indicar que nuestro patrón contiene el caracter '.'"
      ]
    },
    {
      "cell_type": "code",
      "metadata": {
        "colab": {
          "base_uri": "https://localhost:8080/"
        },
        "id": "qn3apCatxVzF",
        "outputId": "a50a3b61-a76b-40bf-d373-7020fcc5868f"
      },
      "source": [
        "patrones = [r'0\\.9\\.0'] \n",
        "buscar(patrones, texto)"
      ],
      "execution_count": null,
      "outputs": [
        {
          "output_type": "stream",
          "text": [
            "['0.9.0']\n"
          ],
          "name": "stdout"
        }
      ]
    },
    {
      "cell_type": "markdown",
      "metadata": {
        "id": "y-CxjqiVHuzC"
      },
      "source": [
        "**Ejercicio**: Antes de ejecutar la siguiente celda, indique que está buscando cada expresión regular"
      ]
    },
    {
      "cell_type": "code",
      "metadata": {
        "colab": {
          "base_uri": "https://localhost:8080/"
        },
        "id": "9mkYNO3rrbmm",
        "outputId": "23981758-920a-4149-dfe5-ef5b331efe05"
      },
      "source": [
        "texto = \"Python se creó en el año 1991 con el número de versión 0.9.0.  Python debe su nombre a la afición de su creador por los humoristas británicos Monty Python\"\n",
        "\n",
        "patrones = [r'\\bP', r'n\\b', r'\\B[a-o]', r'[a-o]\\B'] \n",
        "buscar(patrones, texto)"
      ],
      "execution_count": null,
      "outputs": [
        {
          "output_type": "stream",
          "text": [
            "['P', 'P', 'P']\n",
            "['n', 'n', 'n', 'n', 'n', 'n', 'n']\n",
            "['h', 'o', 'n', 'e', 'e', 'n', 'l', 'o', 'o', 'n', 'l', 'm', 'e', 'o', 'e', 'e', 'i', 'n', 'h', 'o', 'n', 'e', 'b', 'e', 'o', 'm', 'b', 'e', 'a', 'f', 'i', 'c', 'i', 'n', 'e', 'e', 'a', 'd', 'o', 'o', 'o', 'm', 'o', 'i', 'a', 'i', 'n', 'i', 'c', 'o', 'o', 'n', 'h', 'o', 'n']\n",
            "['h', 'o', 'c', 'e', 'e', 'e', 'a', 'c', 'o', 'e', 'n', 'm', 'e', 'd', 'e', 'i', 'h', 'o', 'd', 'e', 'b', 'n', 'o', 'm', 'b', 'l', 'a', 'f', 'i', 'c', 'i', 'd', 'c', 'e', 'a', 'd', 'o', 'o', 'l', 'o', 'h', 'm', 'o', 'i', 'a', 'b', 'i', 'n', 'i', 'c', 'o', 'o', 'n', 'h', 'o']\n"
          ],
          "name": "stdout"
        }
      ]
    },
    {
      "cell_type": "markdown",
      "metadata": {
        "id": "zsKZTytBH7bU"
      },
      "source": [
        "##### Solución\n"
      ]
    },
    {
      "cell_type": "markdown",
      "metadata": {
        "id": "svT3Mq1rJNTD"
      },
      "source": [
        "* `r'\\bP'`: inicio/fin de palabra seguido `'P'`, es decir, `'P'` al principio de palabra.\n",
        "* `r'n\\b'`:  `'n'` seguido de inicio/fin de palabra, es decir, `'n'` al final de palabra.\n",
        "* `r'\\B[a-o]'`: No está inicio/fin de palabra seguido caracteres entre `a` y `o`. Cualquier caracter entre `a-o` que no esté al principio de palabra.\n",
        "* `r'[a-o]\\B'`: caracteres entre `a` y `o` seguido de no está inicio/fin de palabra. Cualquier caracter entre `a-o` que no esté al final de palabra."
      ]
    },
    {
      "cell_type": "markdown",
      "metadata": {
        "id": "GeF5B37hTwus"
      },
      "source": [
        "### Patrón por exclusión `[^ ]`\n",
        "\n",
        "Cuando definimos nuestros patrones podemos utilizar el operador de exclusión `[^ ]` para indicar una búsqueda contraria:"
      ]
    },
    {
      "cell_type": "code",
      "metadata": {
        "id": "32oYgsy6Qrjk",
        "colab": {
          "base_uri": "https://localhost:8080/"
        },
        "outputId": "9634d4bb-2da3-4567-886f-00421910d833"
      },
      "source": [
        "patrones = [r'\\b[^P]', r'[^n]\\b'] \n",
        "buscar(patrones, texto)"
      ],
      "execution_count": null,
      "outputs": [
        {
          "output_type": "stream",
          "text": [
            "[' ', 's', ' ', 'c', ' ', 'e', ' ', 'e', ' ', 'a', ' ', '1', ' ', 'c', ' ', 'e', ' ', 'n', ' ', 'd', ' ', 'v', ' ', '0', '.', '9', '.', '0', '.', ' ', 'd', ' ', 's', ' ', 'n', ' ', 'a', ' ', 'l', ' ', 'a', ' ', 'd', ' ', 's', ' ', 'c', ' ', 'p', ' ', 'l', ' ', 'h', ' ', 'b', ' ', 'M', ' ']\n",
            "[' ', 'e', ' ', 'ó', ' ', ' ', 'l', ' ', 'o', ' ', '1', ' ', ' ', 'l', ' ', 'o', ' ', 'e', ' ', ' ', '0', '.', '9', '.', '0', ' ', ' ', 'e', ' ', 'u', ' ', 'e', ' ', 'a', ' ', 'a', ' ', ' ', 'e', ' ', 'u', ' ', 'r', ' ', 'r', ' ', 's', ' ', 's', ' ', 's', ' ', 'y', ' ']\n"
          ],
          "name": "stdout"
        }
      ]
    },
    {
      "cell_type": "markdown",
      "metadata": {
        "id": "6UT6gtFCJ5mE"
      },
      "source": [
        "*Nota*: en la búsqueda, al indicar principio o final de palabra, también incluye los espacios porque son considerados palabras en sí."
      ]
    },
    {
      "cell_type": "code",
      "metadata": {
        "colab": {
          "base_uri": "https://localhost:8080/"
        },
        "id": "yl4VzRL4T1Kk",
        "outputId": "9c12ef86-527c-48eb-db0b-ea7a93f0b38d"
      },
      "source": [
        "texto = \"hala hela hila hola hula\"\n",
        "\n",
        "patrones = [r'hola', r'h[^o]la'] \n",
        "buscar(patrones, texto)\n"
      ],
      "execution_count": null,
      "outputs": [
        {
          "output_type": "stream",
          "text": [
            "['hola']\n",
            "['hala', 'hela', 'hila', 'hula']\n"
          ],
          "name": "stdout"
        }
      ]
    },
    {
      "cell_type": "markdown",
      "metadata": {
        "id": "CIeAOxlhrwHt"
      },
      "source": [
        "*Nota*: vea la difenrencia entre usar `^` para buscar el patrón al inicio del texto o aquí que va entre `[^ ]` para indicar exclusión."
      ]
    },
    {
      "cell_type": "markdown",
      "metadata": {
        "id": "tiyDQ2KAvnqf"
      },
      "source": [
        "#### Ejercicio\n",
        "\n",
        "Escriba las expresiones regulares que le permiten extraer del siguiente texto:\n",
        "* Las palabras que empienzan por `'P'` (queremos toda la palabra no sólo el carácter `'P'`)\n",
        "* Los años (secuencias de 4 dígitos)\n",
        "* Las versiones de código (secuencias de 3 dígitos separadas por `'.'`) "
      ]
    },
    {
      "cell_type": "code",
      "metadata": {
        "id": "_kXXdegPUgol"
      },
      "source": [
        "texto = \"Python se creó en el año 1991 con el número de versión 0.9.0 en los Países Bajos. A día de hoy ya vamos por la versión 3.X-X. Python debe su nombre a la afición de su creador por los humoristas británicos Monty Python\""
      ],
      "execution_count": null,
      "outputs": []
    },
    {
      "cell_type": "code",
      "metadata": {
        "colab": {
          "base_uri": "https://localhost:8080/",
          "height": 54
        },
        "id": "KrjurBlf5wjM",
        "outputId": "4377b8d3-8675-4e0e-ecd0-6100e502f5e7"
      },
      "source": [
        "texto"
      ],
      "execution_count": null,
      "outputs": [
        {
          "output_type": "execute_result",
          "data": {
            "application/vnd.google.colaboratory.intrinsic+json": {
              "type": "string"
            },
            "text/plain": [
              "'Python se creó en el año 1991 con el número de versión 0.9.0 en los Países Bajos. A día de hoy ya vamos por la versión 3.X-X. Python debe su nombre a la afición de su creador por los humoristas británicos Monty Python'"
            ]
          },
          "metadata": {},
          "execution_count": 164
        }
      ]
    },
    {
      "cell_type": "markdown",
      "metadata": {
        "id": "UHwdx1BlUdXy"
      },
      "source": [
        "#### Solución"
      ]
    },
    {
      "cell_type": "code",
      "metadata": {
        "colab": {
          "base_uri": "https://localhost:8080/"
        },
        "id": "ibPssjs1t5f9",
        "outputId": "53ede7ed-3f3d-4764-f7d7-92f332e2ac1d"
      },
      "source": [
        "#<SOL>\n",
        "patrones = [r'\\bP\\w*', r'\\d{4}', r'\\d\\.\\d\\.\\d'] \n",
        "buscar(patrones, texto)\n",
        "#</SOL>"
      ],
      "execution_count": null,
      "outputs": [
        {
          "output_type": "stream",
          "text": [
            "['Python', 'Países', 'Python', 'Python']\n",
            "['1991']\n",
            "['0.9.0']\n"
          ],
          "name": "stdout"
        }
      ]
    },
    {
      "cell_type": "markdown",
      "metadata": {
        "id": "9p8fwL4xkXXl"
      },
      "source": [
        "## Coincidencias con grupos\n",
        "\n",
        "La búsqueda de coincidencias de patrones es la base de las poderosas capacidades proporcionadas por expresiones regulares. Agregando grupos a un patrón aísla partes del texto que coincide, expandiendo las capacidades para crear un analizador. Los grupos se definen al adjuntar patrones entre paréntesis.\n",
        "\n"
      ]
    },
    {
      "cell_type": "code",
      "metadata": {
        "colab": {
          "base_uri": "https://localhost:8080/"
        },
        "id": "_2a5mdVbkele",
        "outputId": "7068d1ce-4d35-4fae-9ab2-476d7ad53c9b"
      },
      "source": [
        "texto = \"haala heeela hiiiila hoooooola\"\n",
        "\n",
        "patrones = [r'h(aa)la', r'h(ee)la', r'h(ii)la', r'h(oo)la']\n",
        "buscar(patrones, texto)"
      ],
      "execution_count": null,
      "outputs": [
        {
          "output_type": "stream",
          "text": [
            "['aa']\n",
            "[]\n",
            "[]\n",
            "[]\n"
          ],
          "name": "stdout"
        }
      ]
    },
    {
      "cell_type": "markdown",
      "metadata": {
        "id": "AzHQNTqKlRHY"
      },
      "source": [
        "Cualquier expresión regular completa se puede convertir en un grupo y ser anidada dentro de una expresión más grande. Todos los modificadores de repetición pueden ser aplicados a un grupo como un todo, requiriendo que todo el patrón de grupo se repita."
      ]
    },
    {
      "cell_type": "code",
      "metadata": {
        "colab": {
          "base_uri": "https://localhost:8080/"
        },
        "id": "xnfdYKHmkwHr",
        "outputId": "4bc3b50a-e4b7-4bd5-deff-09b113aa3f28"
      },
      "source": [
        "texto = \"hla hoola hooola hoooola hoooooola\"\n",
        "\n",
        "patrones = [r'h(oo)la', r'h(oo)*la', r'h(oo)+la', r'h(oo)?la']\n",
        "buscar(patrones, texto)"
      ],
      "execution_count": null,
      "outputs": [
        {
          "output_type": "stream",
          "text": [
            "['oo']\n",
            "['', 'oo', 'oo', 'oo']\n",
            "['oo', 'oo', 'oo']\n",
            "['', 'oo']\n"
          ],
          "name": "stdout"
        }
      ]
    },
    {
      "cell_type": "markdown",
      "metadata": {
        "id": "JVkcqBAJkXUr"
      },
      "source": [
        "De hecho, podemos buscar varios grupos dentro de una misma expresión regular "
      ]
    },
    {
      "cell_type": "code",
      "metadata": {
        "colab": {
          "base_uri": "https://localhost:8080/"
        },
        "id": "mazVsFKFVv73",
        "outputId": "c85c3c0f-8d1e-4106-85d3-62b2992c869d"
      },
      "source": [
        "# Busqueda de varios grupos\n",
        "texto = \"hla hoola hooola hoooola hoooooola\"\n",
        "\n",
        "patrones = [r'(h(oo)*la)']\n",
        "buscar(patrones, texto)"
      ],
      "execution_count": null,
      "outputs": [
        {
          "output_type": "stream",
          "text": [
            "[('hla', ''), ('hoola', 'oo'), ('hoooola', 'oo'), ('hoooooola', 'oo')]\n"
          ],
          "name": "stdout"
        }
      ]
    },
    {
      "cell_type": "markdown",
      "metadata": {
        "id": "Mru35iqi7_GB"
      },
      "source": [
        "Ahora podemos acceder a los diferentes grupos de la búsqueda con la función `group()` e indicando el índice. Veamos esto con el siguiente ejemplo..."
      ]
    },
    {
      "cell_type": "code",
      "metadata": {
        "colab": {
          "base_uri": "https://localhost:8080/"
        },
        "id": "9W86fwEI7cYp",
        "outputId": "27b4d9ff-734f-4cf9-f8fe-875c6f88f86d"
      },
      "source": [
        "# Busqueda de varios grupos\n",
        "patron = r\"(\\w+) (\\w+)\"\n",
        "busqueda = re.match(patron, \"Fernando García\")\n",
        "busqueda"
      ],
      "execution_count": null,
      "outputs": [
        {
          "output_type": "execute_result",
          "data": {
            "text/plain": [
              "<re.Match object; span=(0, 15), match='Fernando García'>"
            ]
          },
          "metadata": {},
          "execution_count": 169
        }
      ]
    },
    {
      "cell_type": "code",
      "metadata": {
        "colab": {
          "base_uri": "https://localhost:8080/"
        },
        "id": "6K6imZxv7fVy",
        "outputId": "08a6e97d-1f79-4c9b-c343-b02b2b7e5e59"
      },
      "source": [
        "# Accediendo a los grupos por sus indices\n",
        "# grupo 1\n",
        "print(busqueda.group(1))\n",
        "# grupo 2\n",
        "print(busqueda.group(2))"
      ],
      "execution_count": null,
      "outputs": [
        {
          "output_type": "stream",
          "text": [
            "Fernando\n",
            "García\n"
          ],
          "name": "stdout"
        }
      ]
    },
    {
      "cell_type": "markdown",
      "metadata": {
        "id": "4dLl4d7S8RgU"
      },
      "source": [
        "También podemos definir alias en la expresión regular para luego facilitar el acceso. Para ello solo hay que usar esta secuencia `(?P<alias>patron)` al definir el patrón."
      ]
    },
    {
      "cell_type": "code",
      "metadata": {
        "colab": {
          "base_uri": "https://localhost:8080/"
        },
        "id": "U4vMwydn8QrD",
        "outputId": "cc487f1f-f949-4efa-a4ab-1e1e4506116f"
      },
      "source": [
        "# Accediendo a los grupos por nombres\n",
        "patron = r\"(?P<nombre>\\w+) (?P<apellido>\\w+)\"\n",
        "busqueda = re.match(patron, \"Antonio Sánchez\")\n",
        "\n",
        "# grupo nombre\n",
        "print(busqueda.group(\"nombre\"))\n",
        "\n",
        "# grupo apellido\n",
        "print(busqueda.group(\"apellido\"))"
      ],
      "execution_count": null,
      "outputs": [
        {
          "output_type": "stream",
          "text": [
            "Antonio\n",
            "Sánchez\n"
          ],
          "name": "stdout"
        }
      ]
    },
    {
      "cell_type": "markdown",
      "metadata": {
        "id": "QhJAklByWrmF"
      },
      "source": [
        "Incluso, podemos usar el método `.groupdict()` para que esta información nos la devuelvada en un diccionario."
      ]
    },
    {
      "cell_type": "code",
      "metadata": {
        "colab": {
          "base_uri": "https://localhost:8080/"
        },
        "id": "ldZiW6JnWUSh",
        "outputId": "599a2434-627c-4589-9401-a4ca28106048"
      },
      "source": [
        "# Generando un diccionario con los  grupos creados\n",
        "patron = r\"(?P<nombre>\\w+) (?P<apellido>\\w+)\"\n",
        "mydict_busqueda = re.match(patron, \"Antonio Sánchez\").groupdict()\n",
        "mydict_busqueda"
      ],
      "execution_count": null,
      "outputs": [
        {
          "output_type": "execute_result",
          "data": {
            "text/plain": [
              "{'apellido': 'Sánchez', 'nombre': 'Antonio'}"
            ]
          },
          "metadata": {},
          "execution_count": 172
        }
      ]
    },
    {
      "cell_type": "markdown",
      "metadata": {
        "id": "NVkB04FCSBpw"
      },
      "source": [
        "### Repeticiones de grupos: `'\\N'`\n",
        "\n",
        "Incluir `'\\N'` en nuestro patrón nos permite encontrar repeticiones de un grupo N veces (donde N es el número indicado en `\\N`). Por ejemplo\n"
      ]
    },
    {
      "cell_type": "code",
      "metadata": {
        "colab": {
          "base_uri": "https://localhost:8080/"
        },
        "id": "bKRQo7mvxBke",
        "outputId": "0297a38f-844e-4abc-d748-1853e86d1384"
      },
      "source": [
        "busqueda = re.search(r'(\\b\\w+) \\1', 'Antonio Sánchez Sánchez')\n",
        "print(busqueda)"
      ],
      "execution_count": null,
      "outputs": [
        {
          "output_type": "stream",
          "text": [
            "<re.Match object; span=(8, 23), match='Sánchez Sánchez'>\n"
          ],
          "name": "stdout"
        }
      ]
    },
    {
      "cell_type": "markdown",
      "metadata": {
        "id": "H06rBgzvyL3j"
      },
      "source": [
        "Nos permite encontrar cualquier palabra repetida. Aunque nótese que al incluir un espacio entre el grupo y `'\\1'` encuentra `'Lopez Lopez'` y no `'LopezLopez'`."
      ]
    },
    {
      "cell_type": "code",
      "metadata": {
        "colab": {
          "base_uri": "https://localhost:8080/"
        },
        "id": "zNxSSBzByjqW",
        "outputId": "9a4aad64-9ce3-4579-fe05-c43889333bfd"
      },
      "source": [
        "busqueda = re.search(r'(\\b\\w+) \\1', 'Antonio SánchezSánchez')\n",
        "print(busqueda)"
      ],
      "execution_count": null,
      "outputs": [
        {
          "output_type": "stream",
          "text": [
            "None\n"
          ],
          "name": "stdout"
        }
      ]
    },
    {
      "cell_type": "code",
      "metadata": {
        "colab": {
          "base_uri": "https://localhost:8080/"
        },
        "id": "J3dcPdI3ynYX",
        "outputId": "ac273ea5-7321-48c1-dd66-cc92136587ca"
      },
      "source": [
        "busqueda = re.search(r'(\\b\\w+)\\1', 'Antonio SánchezSánchez')\n",
        "print(busqueda)"
      ],
      "execution_count": null,
      "outputs": [
        {
          "output_type": "stream",
          "text": [
            "<re.Match object; span=(8, 22), match='SánchezSánchez'>\n"
          ],
          "name": "stdout"
        }
      ]
    },
    {
      "cell_type": "markdown",
      "metadata": {
        "id": "XjoHg7_Z2ymg"
      },
      "source": [
        "## Compiladores de expresiones regulares\n",
        "\n",
        "Cada vez que definimos la expresión regular y la usamos para buscar nuestro patrón, Python internamente tiene que compilar el patrón para así hacer la búsqueda. Lógicamente, si una misma expresión va a usarse varias veces, estaríamos generando reiteradamente las versiones compiladas de nuestros patrones de manera innecesaria. Para evitar esto podemos compilar al principio (y una sola vez) las expresiones regulares."
      ]
    },
    {
      "cell_type": "code",
      "metadata": {
        "colab": {
          "base_uri": "https://localhost:8080/"
        },
        "id": "DK2-AC8C2yEw",
        "outputId": "f948c101-76b0-44b4-c41d-59c063f305c0"
      },
      "source": [
        "import time\n",
        "texto = \"Python se creó en el año 1991 con el número de versión 0.9.0. Python debe su nombre a la afición de su creador por los humoristas británicos Monty Python\"\n",
        "\n",
        "start = time.time()\n",
        "for i in range(100000):\n",
        "  re.findall('M.* Python', texto)\n",
        "delay=time.time()-start \n",
        "print(delay)"
      ],
      "execution_count": null,
      "outputs": [
        {
          "output_type": "stream",
          "text": [
            "0.1224813461303711\n"
          ],
          "name": "stdout"
        }
      ]
    },
    {
      "cell_type": "code",
      "metadata": {
        "colab": {
          "base_uri": "https://localhost:8080/"
        },
        "id": "4efUNy4O4DoW",
        "outputId": "44090cf0-3b8f-4cc5-dd15-d32ec6554f2b"
      },
      "source": [
        "start = time.time()\n",
        "patrones = re.compile('M.* Python')\n",
        "for i in range(100000):\n",
        "  patrones.findall(texto)\n",
        "delay=time.time()-start \n",
        "print(delay)"
      ],
      "execution_count": null,
      "outputs": [
        {
          "output_type": "stream",
          "text": [
            "0.05046892166137695\n"
          ],
          "name": "stdout"
        }
      ]
    },
    {
      "cell_type": "markdown",
      "metadata": {
        "id": "x29ibBomyuHd"
      },
      "source": [
        "## Otras utilidades de las expresiones regulares: Modificando el texto de entrada\n",
        "\n",
        "Además de buscar coincidencias de nuestro patrón de búsqueda en un texto, podemos utilizar ese mismo patrón para realizar modificaciones al texto de entrada. Para estos casos podemos utilizar los siguientes métodos:\n",
        "\n",
        " *  `split()`: El cual divide el texto en una lista, realizando las divisiones del texto en cada lugar donde se cumple con la expresion regular.\n",
        " *   `sub()`: El cual encuentra todos los subtextos donde existe una coincidencia con la expresion regular y luego los reemplaza con un nuevo texto.\n",
        " * `subn()`: El cual es similar al anterior pero además de devolver el nuevo texto, también devuelve el número de reemplazos que realizó.\n"
      ]
    },
    {
      "cell_type": "code",
      "metadata": {
        "id": "T3vczlcmy9sW"
      },
      "source": [
        "# texto de entrada\n",
        "becquer = \"\"\"Podrá nublarse el sol eternamente; \n",
        "Podrá secarse en un instante el mar; \n",
        "Podrá romperse el eje de la tierra \n",
        "como un débil cristal. \n",
        "¡Todo sucederá! Podrá la muerte \n",
        "cubrirme con su fúnebre crespón; \n",
        "Pero jamás en mí podrá apagarse \n",
        "la llama de tu amor.\"\"\""
      ],
      "execution_count": null,
      "outputs": []
    },
    {
      "cell_type": "code",
      "metadata": {
        "id": "D5x8hx5vy_k6"
      },
      "source": [
        "# patron para dividir donde no encuentre un carácter alfanumerico\n",
        "patron = re.compile(r'\\W+')"
      ],
      "execution_count": null,
      "outputs": []
    },
    {
      "cell_type": "code",
      "metadata": {
        "id": "PTBfydiUzCeX"
      },
      "source": [
        "palabras = patron.split(becquer)\n",
        "palabras[:10]  # 10 primeras palabras"
      ],
      "execution_count": null,
      "outputs": []
    },
    {
      "cell_type": "code",
      "metadata": {
        "id": "TtZn65lfzE2P"
      },
      "source": [
        "re.split(r'\\n', becquer)  # Dividiendo por líneas"
      ],
      "execution_count": null,
      "outputs": []
    },
    {
      "cell_type": "code",
      "metadata": {
        "id": "anW7y0IdzKnO"
      },
      "source": [
        "# Utilizando un valor máximo de divisiones\n",
        "patron.split(becquer, 5)"
      ],
      "execution_count": null,
      "outputs": []
    },
    {
      "cell_type": "code",
      "metadata": {
        "id": "PJpYhpQXzOYD"
      },
      "source": [
        "# Cambiando \"Podrá\" o \"podra\" por \"Puede\"\n",
        "podra = re.compile(r'\\b(P|p)odrá\\b')\n",
        "puede = podra.sub(\"Puede\", becquer)\n",
        "print(puede)"
      ],
      "execution_count": null,
      "outputs": []
    },
    {
      "cell_type": "code",
      "metadata": {
        "id": "Nyojkk_YzQlZ"
      },
      "source": [
        "# Limitando el número de reemplazos\n",
        "puede = podra.sub(\"Puede\", becquer, 2)\n",
        "print(puede)"
      ],
      "execution_count": null,
      "outputs": []
    },
    {
      "cell_type": "code",
      "metadata": {
        "id": "T8RVI44_zbSy"
      },
      "source": [
        "# Utilizando subn\n",
        "re.subn(r'\\b(P|p)odrá\\b', \"Puede\", becquer)  # se realizaron 5 reemplazos"
      ],
      "execution_count": null,
      "outputs": []
    },
    {
      "cell_type": "markdown",
      "metadata": {
        "id": "B44QOpGU0GxR"
      },
      "source": [
        "##  *Flags* de compilación\n",
        "\n",
        "Las banderas o *flags* de compilación permiten modificar algunos aspectos de cómo funcionan las expresiones regulares. \n",
        "Algunos de los *flags* de compilación que podemos encontrar son:\n",
        "*  `IGNORECASE`, `I`: Para realizar búsquedas sin tener en cuenta las minúsculas o mayúsculas.\n",
        "*   `VERBOSE`, `X`: Que habilita el modo *verbose*, el cual permite organizar el patrón de búsqueda de una forma que sea más sencillo de entender y leer.\n",
        "*    `MULTILINE`, `M`: Que habilita la coincidencia en múltiples líneas, afectando el funcionamiento de los metacaracteres `^` and `$`.\n",
        "\n",
        "Como vemos, todas ellas están disponibles en el módulo `re` bajo dos nombres, un nombre largo como `IGNORECASE` y una forma abreviada de una sola letra como `I`. Múltiples banderas pueden ser especificadas utilizando el operador OR `\"|\"`; por ejemplo, `re.I` | `RE.M` establece la bandera `I` o `M`.\n"
      ]
    },
    {
      "cell_type": "code",
      "metadata": {
        "colab": {
          "base_uri": "https://localhost:8080/",
          "height": 225
        },
        "id": "czsmuJOo0Jbm",
        "outputId": "97fdca6c-e363-4b61-ac2a-6df6aa1fb69d"
      },
      "source": [
        "# Ejemplo de IGNORECASE\n",
        "# Cambiando \"Podrá\" o \"podra\" por \"Puede\"\n",
        "podra = re.compile(r'podrá\\b', re.I)  # el patrón se vuelve más sencillo\n",
        "puede = podra.sub(\"puede\", becquer)\n",
        "print(puede)"
      ],
      "execution_count": null,
      "outputs": [
        {
          "output_type": "error",
          "ename": "NameError",
          "evalue": "ignored",
          "traceback": [
            "\u001b[0;31m---------------------------------------------------------------------------\u001b[0m",
            "\u001b[0;31mNameError\u001b[0m                                 Traceback (most recent call last)",
            "\u001b[0;32m<ipython-input-178-f886d9e166a8>\u001b[0m in \u001b[0;36m<module>\u001b[0;34m()\u001b[0m\n\u001b[1;32m      2\u001b[0m \u001b[0;31m# Cambiando \"Podrá\" o \"podra\" por \"Puede\"\u001b[0m\u001b[0;34m\u001b[0m\u001b[0;34m\u001b[0m\u001b[0;34m\u001b[0m\u001b[0m\n\u001b[1;32m      3\u001b[0m \u001b[0mpodra\u001b[0m \u001b[0;34m=\u001b[0m \u001b[0mre\u001b[0m\u001b[0;34m.\u001b[0m\u001b[0mcompile\u001b[0m\u001b[0;34m(\u001b[0m\u001b[0;34mr'podrá\\b'\u001b[0m\u001b[0;34m,\u001b[0m \u001b[0mre\u001b[0m\u001b[0;34m.\u001b[0m\u001b[0mI\u001b[0m\u001b[0;34m)\u001b[0m  \u001b[0;31m# el patrón se vuelve más sencillo\u001b[0m\u001b[0;34m\u001b[0m\u001b[0;34m\u001b[0m\u001b[0m\n\u001b[0;32m----> 4\u001b[0;31m \u001b[0mpuede\u001b[0m \u001b[0;34m=\u001b[0m \u001b[0mpodra\u001b[0m\u001b[0;34m.\u001b[0m\u001b[0msub\u001b[0m\u001b[0;34m(\u001b[0m\u001b[0;34m\"puede\"\u001b[0m\u001b[0;34m,\u001b[0m \u001b[0mbecquer\u001b[0m\u001b[0;34m)\u001b[0m\u001b[0;34m\u001b[0m\u001b[0;34m\u001b[0m\u001b[0m\n\u001b[0m\u001b[1;32m      5\u001b[0m \u001b[0mprint\u001b[0m\u001b[0;34m(\u001b[0m\u001b[0mpuede\u001b[0m\u001b[0;34m)\u001b[0m\u001b[0;34m\u001b[0m\u001b[0;34m\u001b[0m\u001b[0m\n",
            "\u001b[0;31mNameError\u001b[0m: name 'becquer' is not defined"
          ]
        }
      ]
    },
    {
      "cell_type": "markdown",
      "metadata": {
        "id": "KjlUKOYUMpUq"
      },
      "source": [
        "Veamos la utilidad del *flag* verbose definiendo una expresión regular bastante compleja para encontrar emails dentro de un texto:"
      ]
    },
    {
      "cell_type": "code",
      "metadata": {
        "id": "zIUF8YG-0h64"
      },
      "source": [
        "# Ejemplo de VERBOSE\n",
        "mail = re.compile(r\"\"\"\n",
        "\\b             # comienzo de delimitador de palabra\n",
        "[\\w.%+-]+      # usuario: Cualquier carácter alfanumerico mas los signos (.%+-)\n",
        "@              # seguido de @\n",
        "[\\w.-]+        # dominio: Cualquier carácter alfanumerico mas los signos (.-)\n",
        "\\.             # seguido de .\n",
        "[a-zA-Z]{2,6}  # dominio de alto nivel: 2 a 6 letras en minúsculas o mayúsculas.\n",
        "\\b             # fin de delimitador de palabra\n",
        "\"\"\", re.X)"
      ],
      "execution_count": null,
      "outputs": []
    },
    {
      "cell_type": "code",
      "metadata": {
        "id": "a_rzhngY0kLN"
      },
      "source": [
        "mails = \"\"\"antonio.perez@hotmail.com, Antonio Perez Lopez,\n",
        "foo bar, aperez@hotmail.com.ar, mario@github.io, \n",
        "https://mariowebpage.com.ar, https://mario.github.io, \n",
        "python@python, mario@mydominio.com.ar, pythonAR@python.pythonAR\n",
        "\"\"\""
      ],
      "execution_count": null,
      "outputs": []
    },
    {
      "cell_type": "code",
      "metadata": {
        "colab": {
          "base_uri": "https://localhost:8080/"
        },
        "id": "_hA8Bdjm0nRW",
        "outputId": "a050070a-9f8f-4a22-bfc4-d4caa6730798"
      },
      "source": [
        "# filtrando los mails con estructura válida\n",
        "mail.findall(mails)"
      ],
      "execution_count": null,
      "outputs": [
        {
          "output_type": "execute_result",
          "data": {
            "text/plain": [
              "['antonio.perez@hotmail.com',\n",
              " 'aperez@hotmail.com.ar',\n",
              " 'mario@github.io',\n",
              " 'mario@mydominio.com.ar']"
            ]
          },
          "metadata": {},
          "execution_count": 181
        }
      ]
    },
    {
      "cell_type": "code",
      "metadata": {
        "colab": {
          "base_uri": "https://localhost:8080/"
        },
        "id": "2hrtQreY2iJO",
        "outputId": "437b8f1e-144a-4cf9-efe1-564a4e621fca"
      },
      "source": [
        "# Sin dividir por líneas: '^' es el principio de texto\n",
        "texto = \"Python se creó en el año 1991 con el número de versión 0.9.0. \\nPython debe su nombre a la afición de su creador por los humoristas británicos Monty Python\"\n",
        "print(texto)\n",
        "patron =re.compile(r'^Python') \n",
        "patron.findall(texto)"
      ],
      "execution_count": null,
      "outputs": [
        {
          "output_type": "stream",
          "text": [
            "Python se creó en el año 1991 con el número de versión 0.9.0. \n",
            "Python debe su nombre a la afición de su creador por los humoristas británicos Monty Python\n"
          ],
          "name": "stdout"
        },
        {
          "output_type": "execute_result",
          "data": {
            "text/plain": [
              "['Python']"
            ]
          },
          "metadata": {},
          "execution_count": 182
        }
      ]
    },
    {
      "cell_type": "code",
      "metadata": {
        "colab": {
          "base_uri": "https://localhost:8080/"
        },
        "id": "idmzun1J1Lmb",
        "outputId": "1b61b40f-714c-4586-9976-67fc0ea1bd58"
      },
      "source": [
        "# Con división por líneas: '^' es el principio de cada línea\n",
        "texto = \"Python se creó en el año 1991 con el número de versión 0.9.0. \\nPython debe su nombre a la afición de su creador por los humoristas británicos Monty Python\"\n",
        "print(texto)\n",
        "patron =re.compile(r'^Python', re.M) \n",
        "patron.findall(texto)\n"
      ],
      "execution_count": null,
      "outputs": [
        {
          "output_type": "stream",
          "text": [
            "Python se creó en el año 1991 con el número de versión 0.9.0. \n",
            "Python debe su nombre a la afición de su creador por los humoristas británicos Monty Python\n"
          ],
          "name": "stdout"
        },
        {
          "output_type": "execute_result",
          "data": {
            "text/plain": [
              "['Python', 'Python']"
            ]
          },
          "metadata": {},
          "execution_count": 183
        }
      ]
    },
    {
      "cell_type": "markdown",
      "metadata": {
        "id": "W2nsADWY11sh"
      },
      "source": [
        "### Ejercicio: Validando una fecha\n",
        "\n",
        "Escriba la expresión regular que le permita validar una fecha con la estructura `dd/mm/yyyy` y compruebe que funciona correctamente sobre los siguiente ejemplos:"
      ]
    },
    {
      "cell_type": "code",
      "metadata": {
        "id": "J_mnP0eqNzWB"
      },
      "source": [
        "# Incluya aquí su expresión regular para validar una fecha\n",
        "#<SOL>\n",
        "fecha = re.compile(r'^(0?[1-9]|[12][0-9]|3[01])/(0?[1-9]|1[012])/((19|20)\\d\\d)$')\n",
        "#</SOL>"
      ],
      "execution_count": null,
      "outputs": []
    },
    {
      "cell_type": "code",
      "metadata": {
        "id": "X5ZTIQnM16nU"
      },
      "source": [
        "# validando 13/02/1982\n",
        "print(fecha.search(\"13/02/1982\"))\n",
        "\n",
        "# no valida 13-02-1982\n",
        "print(fecha.search(\"13-02-1982\"))\n",
        "\n",
        "# no valida 32/12/2015\n",
        "print(fecha.search(\"32/12/2015\"))\n",
        "\n",
        "# no valida 30/14/2015\n",
        "print(fecha.search(\"30/14/2015\"))\n",
        "\n"
      ],
      "execution_count": null,
      "outputs": []
    },
    {
      "cell_type": "code",
      "metadata": {
        "id": "vBqXxyOvOGNA"
      },
      "source": [],
      "execution_count": null,
      "outputs": []
    }
  ]
}