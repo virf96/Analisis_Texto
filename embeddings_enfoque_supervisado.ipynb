{
  "cells": [
    {
      "cell_type": "markdown",
      "metadata": {
        "id": "view-in-github",
        "colab_type": "text"
      },
      "source": [
        "<a href=\"https://colab.research.google.com/github/virf96/Analisis_Texto/blob/master/embeddings_enfoque_supervisado.ipynb\" target=\"_parent\"><img src=\"https://colab.research.google.com/assets/colab-badge.svg\" alt=\"Open In Colab\"/></a>"
      ]
    },
    {
      "cell_type": "markdown",
      "metadata": {
        "id": "59c89b27"
      },
      "source": [
        "# Mini-Proyecto 3\n",
        "\n",
        "### Procesado del Lenguaje Natural\n",
        "\n",
        "**Pablo Martínez Olmos, Vanessa Gómez Verdejo, Emilio Parrado Hernández**\n",
        "\n",
        "Departamento de Teoría de la Señal y Comunicaciones\n",
        "\n",
        "**Universidad Carlos III de Madrid**  \n",
        "\n",
        "**Integrantes del equipo: Nahúm Sanchez, Carlos Serrano, Fernando Villa**  \n",
        "\n",
        "<img src='http://www.tsc.uc3m.es/~emipar/BBVA/INTRO/img/logo_uc3m_foot.jpg' width=400 />\n",
        "\n",
        "En este tercer proyecto, vamos a trabajar de nuevo con un conjunto reducido de entradas la base de datos [Quora Question Pairs](https://www.kaggle.com/c/quora-question-pairs/data), que incluye pares de preguntas etiquetadas como duplicadas. En esta ocasión vamos afrontar el problema de forma supervisada, entrenando un clasificador que, dadas dos preguntas a la entrada,  determine si son duplicadas o no. \n",
        "\n",
        "\n",
        "## Motivación: *information retrieval* utilizando redes neuronales\n",
        "---\n",
        "\n",
        "En [*information retrieval*](https://arxiv.org/pdf/1705.01509.pdf), a la hora de determinar si dos textos contienen la misma información (e.g. dos preguntas que son duplicadas), la estructura básica está compuesta por una estructura denominada [red siamesa (*siamese network*)](https://www.aclweb.org/anthology/R19-1116.pdf), en la que **entrenamos una red neuronal para combinar cada uno de los word embeddings de dos textos** sobre los cuales queremos determinar si contienen la misma información:\n",
        "\n",
        "<img src='http://www.tsc.uc3m.es/~olmos/BBVA/IR.png' width=800 />\n",
        "\n",
        "Para la base de datos [Quora Question Pairs](https://www.kaggle.com/c/quora-question-pairs/data), una red siamesa como la anterior alcanza un [accuracy de test en torno al 80%](https://web.stanford.edu/class/archive/cs/cs224n/cs224n.1174/reports/2761178.pdf).\n",
        "\n",
        "### Mini-proyecto 3\n",
        "\n",
        "En este pequeño proyecto, vamos a determinar el porcentaje de acierto que podemos alcanzar cuando simplemente promediamos los word embeddings por cada pregunta y concatenamos ambos vectores para alimentar un clasificador encargado de predecir si ambas preguntas son duplicadas o no. \n",
        "\n",
        "\n",
        "<img src='http://www.tsc.uc3m.es/~olmos/BBVA/IR2.png' width=800 />\n"
      ],
      "id": "59c89b27"
    },
    {
      "cell_type": "code",
      "execution_count": null,
      "metadata": {
        "id": "a4d3adb0"
      },
      "outputs": [],
      "source": [
        "import pandas as pd\n",
        "\n",
        "df = pd.read_csv(\"http://www.tsc.uc3m.es/~olmos/BBVA/QUORA_DUPLICATES.csv\")\n",
        "\n",
        "#df = pd.read_csv(\"QUORA_DUPLICATES.csv\")"
      ],
      "id": "a4d3adb0"
    },
    {
      "cell_type": "code",
      "execution_count": null,
      "metadata": {
        "colab": {
          "base_uri": "https://localhost:8080/",
          "height": 423
        },
        "id": "79ae764c",
        "outputId": "9a0def3c-9ccf-40b1-ddf9-44b13ce483fd"
      },
      "outputs": [
        {
          "output_type": "execute_result",
          "data": {
            "text/plain": [
              "            id    qid1    qid2  \\\n",
              "0            0       1       2   \n",
              "1            1       3       4   \n",
              "2            2       5       6   \n",
              "3            3       7       8   \n",
              "4            4       9      10   \n",
              "...        ...     ...     ...   \n",
              "404285  404285  433578  379845   \n",
              "404286  404286   18840  155606   \n",
              "404287  404287  537928  537929   \n",
              "404288  404288  537930  537931   \n",
              "404289  404289  537932  537933   \n",
              "\n",
              "                                                question1  \\\n",
              "0       What is the step by step guide to invest in sh...   \n",
              "1       What is the story of Kohinoor (Koh-i-Noor) Dia...   \n",
              "2       How can I increase the speed of my internet co...   \n",
              "3       Why am I mentally very lonely? How can I solve...   \n",
              "4       Which one dissolve in water quikly sugar, salt...   \n",
              "...                                                   ...   \n",
              "404285  How many keywords are there in the Racket prog...   \n",
              "404286          Do you believe there is life after death?   \n",
              "404287                                  What is one coin?   \n",
              "404288  What is the approx annual cost of living while...   \n",
              "404289              What is like to have sex with cousin?   \n",
              "\n",
              "                                                question2  is_duplicate  \n",
              "0       What is the step by step guide to invest in sh...             0  \n",
              "1                              Where can I buy a Diamond?             0  \n",
              "2       How can Internet speed be increased by hacking...             0  \n",
              "3       Find the remainder when [math]23^{24}[/math] i...             0  \n",
              "4                 Which fish would survive in salt water?             0  \n",
              "...                                                   ...           ...  \n",
              "404285  How many keywords are there in PERL Programmin...             0  \n",
              "404286         Is it true that there is life after death?             1  \n",
              "404287                                  What's this coin?             0  \n",
              "404288  I am having little hairfall problem but I want...             0  \n",
              "404289      What is it like to have sex with your cousin?             0  \n",
              "\n",
              "[404290 rows x 6 columns]"
            ],
            "text/html": [
              "\n",
              "  <div id=\"df-3cf14611-09a0-4e1a-b3ed-6fbe32e7039b\">\n",
              "    <div class=\"colab-df-container\">\n",
              "      <div>\n",
              "<style scoped>\n",
              "    .dataframe tbody tr th:only-of-type {\n",
              "        vertical-align: middle;\n",
              "    }\n",
              "\n",
              "    .dataframe tbody tr th {\n",
              "        vertical-align: top;\n",
              "    }\n",
              "\n",
              "    .dataframe thead th {\n",
              "        text-align: right;\n",
              "    }\n",
              "</style>\n",
              "<table border=\"1\" class=\"dataframe\">\n",
              "  <thead>\n",
              "    <tr style=\"text-align: right;\">\n",
              "      <th></th>\n",
              "      <th>id</th>\n",
              "      <th>qid1</th>\n",
              "      <th>qid2</th>\n",
              "      <th>question1</th>\n",
              "      <th>question2</th>\n",
              "      <th>is_duplicate</th>\n",
              "    </tr>\n",
              "  </thead>\n",
              "  <tbody>\n",
              "    <tr>\n",
              "      <th>0</th>\n",
              "      <td>0</td>\n",
              "      <td>1</td>\n",
              "      <td>2</td>\n",
              "      <td>What is the step by step guide to invest in sh...</td>\n",
              "      <td>What is the step by step guide to invest in sh...</td>\n",
              "      <td>0</td>\n",
              "    </tr>\n",
              "    <tr>\n",
              "      <th>1</th>\n",
              "      <td>1</td>\n",
              "      <td>3</td>\n",
              "      <td>4</td>\n",
              "      <td>What is the story of Kohinoor (Koh-i-Noor) Dia...</td>\n",
              "      <td>Where can I buy a Diamond?</td>\n",
              "      <td>0</td>\n",
              "    </tr>\n",
              "    <tr>\n",
              "      <th>2</th>\n",
              "      <td>2</td>\n",
              "      <td>5</td>\n",
              "      <td>6</td>\n",
              "      <td>How can I increase the speed of my internet co...</td>\n",
              "      <td>How can Internet speed be increased by hacking...</td>\n",
              "      <td>0</td>\n",
              "    </tr>\n",
              "    <tr>\n",
              "      <th>3</th>\n",
              "      <td>3</td>\n",
              "      <td>7</td>\n",
              "      <td>8</td>\n",
              "      <td>Why am I mentally very lonely? How can I solve...</td>\n",
              "      <td>Find the remainder when [math]23^{24}[/math] i...</td>\n",
              "      <td>0</td>\n",
              "    </tr>\n",
              "    <tr>\n",
              "      <th>4</th>\n",
              "      <td>4</td>\n",
              "      <td>9</td>\n",
              "      <td>10</td>\n",
              "      <td>Which one dissolve in water quikly sugar, salt...</td>\n",
              "      <td>Which fish would survive in salt water?</td>\n",
              "      <td>0</td>\n",
              "    </tr>\n",
              "    <tr>\n",
              "      <th>...</th>\n",
              "      <td>...</td>\n",
              "      <td>...</td>\n",
              "      <td>...</td>\n",
              "      <td>...</td>\n",
              "      <td>...</td>\n",
              "      <td>...</td>\n",
              "    </tr>\n",
              "    <tr>\n",
              "      <th>404285</th>\n",
              "      <td>404285</td>\n",
              "      <td>433578</td>\n",
              "      <td>379845</td>\n",
              "      <td>How many keywords are there in the Racket prog...</td>\n",
              "      <td>How many keywords are there in PERL Programmin...</td>\n",
              "      <td>0</td>\n",
              "    </tr>\n",
              "    <tr>\n",
              "      <th>404286</th>\n",
              "      <td>404286</td>\n",
              "      <td>18840</td>\n",
              "      <td>155606</td>\n",
              "      <td>Do you believe there is life after death?</td>\n",
              "      <td>Is it true that there is life after death?</td>\n",
              "      <td>1</td>\n",
              "    </tr>\n",
              "    <tr>\n",
              "      <th>404287</th>\n",
              "      <td>404287</td>\n",
              "      <td>537928</td>\n",
              "      <td>537929</td>\n",
              "      <td>What is one coin?</td>\n",
              "      <td>What's this coin?</td>\n",
              "      <td>0</td>\n",
              "    </tr>\n",
              "    <tr>\n",
              "      <th>404288</th>\n",
              "      <td>404288</td>\n",
              "      <td>537930</td>\n",
              "      <td>537931</td>\n",
              "      <td>What is the approx annual cost of living while...</td>\n",
              "      <td>I am having little hairfall problem but I want...</td>\n",
              "      <td>0</td>\n",
              "    </tr>\n",
              "    <tr>\n",
              "      <th>404289</th>\n",
              "      <td>404289</td>\n",
              "      <td>537932</td>\n",
              "      <td>537933</td>\n",
              "      <td>What is like to have sex with cousin?</td>\n",
              "      <td>What is it like to have sex with your cousin?</td>\n",
              "      <td>0</td>\n",
              "    </tr>\n",
              "  </tbody>\n",
              "</table>\n",
              "<p>404290 rows × 6 columns</p>\n",
              "</div>\n",
              "      <button class=\"colab-df-convert\" onclick=\"convertToInteractive('df-3cf14611-09a0-4e1a-b3ed-6fbe32e7039b')\"\n",
              "              title=\"Convert this dataframe to an interactive table.\"\n",
              "              style=\"display:none;\">\n",
              "        \n",
              "  <svg xmlns=\"http://www.w3.org/2000/svg\" height=\"24px\"viewBox=\"0 0 24 24\"\n",
              "       width=\"24px\">\n",
              "    <path d=\"M0 0h24v24H0V0z\" fill=\"none\"/>\n",
              "    <path d=\"M18.56 5.44l.94 2.06.94-2.06 2.06-.94-2.06-.94-.94-2.06-.94 2.06-2.06.94zm-11 1L8.5 8.5l.94-2.06 2.06-.94-2.06-.94L8.5 2.5l-.94 2.06-2.06.94zm10 10l.94 2.06.94-2.06 2.06-.94-2.06-.94-.94-2.06-.94 2.06-2.06.94z\"/><path d=\"M17.41 7.96l-1.37-1.37c-.4-.4-.92-.59-1.43-.59-.52 0-1.04.2-1.43.59L10.3 9.45l-7.72 7.72c-.78.78-.78 2.05 0 2.83L4 21.41c.39.39.9.59 1.41.59.51 0 1.02-.2 1.41-.59l7.78-7.78 2.81-2.81c.8-.78.8-2.07 0-2.86zM5.41 20L4 18.59l7.72-7.72 1.47 1.35L5.41 20z\"/>\n",
              "  </svg>\n",
              "      </button>\n",
              "      \n",
              "  <style>\n",
              "    .colab-df-container {\n",
              "      display:flex;\n",
              "      flex-wrap:wrap;\n",
              "      gap: 12px;\n",
              "    }\n",
              "\n",
              "    .colab-df-convert {\n",
              "      background-color: #E8F0FE;\n",
              "      border: none;\n",
              "      border-radius: 50%;\n",
              "      cursor: pointer;\n",
              "      display: none;\n",
              "      fill: #1967D2;\n",
              "      height: 32px;\n",
              "      padding: 0 0 0 0;\n",
              "      width: 32px;\n",
              "    }\n",
              "\n",
              "    .colab-df-convert:hover {\n",
              "      background-color: #E2EBFA;\n",
              "      box-shadow: 0px 1px 2px rgba(60, 64, 67, 0.3), 0px 1px 3px 1px rgba(60, 64, 67, 0.15);\n",
              "      fill: #174EA6;\n",
              "    }\n",
              "\n",
              "    [theme=dark] .colab-df-convert {\n",
              "      background-color: #3B4455;\n",
              "      fill: #D2E3FC;\n",
              "    }\n",
              "\n",
              "    [theme=dark] .colab-df-convert:hover {\n",
              "      background-color: #434B5C;\n",
              "      box-shadow: 0px 1px 3px 1px rgba(0, 0, 0, 0.15);\n",
              "      filter: drop-shadow(0px 1px 2px rgba(0, 0, 0, 0.3));\n",
              "      fill: #FFFFFF;\n",
              "    }\n",
              "  </style>\n",
              "\n",
              "      <script>\n",
              "        const buttonEl =\n",
              "          document.querySelector('#df-3cf14611-09a0-4e1a-b3ed-6fbe32e7039b button.colab-df-convert');\n",
              "        buttonEl.style.display =\n",
              "          google.colab.kernel.accessAllowed ? 'block' : 'none';\n",
              "\n",
              "        async function convertToInteractive(key) {\n",
              "          const element = document.querySelector('#df-3cf14611-09a0-4e1a-b3ed-6fbe32e7039b');\n",
              "          const dataTable =\n",
              "            await google.colab.kernel.invokeFunction('convertToInteractive',\n",
              "                                                     [key], {});\n",
              "          if (!dataTable) return;\n",
              "\n",
              "          const docLinkHtml = 'Like what you see? Visit the ' +\n",
              "            '<a target=\"_blank\" href=https://colab.research.google.com/notebooks/data_table.ipynb>data table notebook</a>'\n",
              "            + ' to learn more about interactive tables.';\n",
              "          element.innerHTML = '';\n",
              "          dataTable['output_type'] = 'display_data';\n",
              "          await google.colab.output.renderOutput(dataTable, element);\n",
              "          const docLink = document.createElement('div');\n",
              "          docLink.innerHTML = docLinkHtml;\n",
              "          element.appendChild(docLink);\n",
              "        }\n",
              "      </script>\n",
              "    </div>\n",
              "  </div>\n",
              "  "
            ]
          },
          "metadata": {},
          "execution_count": 2
        }
      ],
      "source": [
        "df"
      ],
      "id": "79ae764c"
    },
    {
      "cell_type": "markdown",
      "metadata": {
        "id": "3291f77e"
      },
      "source": [
        "> **Ejercicio 1 (1 punto):** Extraiga las primeras 5.000 entradas de la base de datos y estudie el desbalanceo entre clases. ¿Cual es el porcentaje de etiquetas correctas de un clasificador que siempre estime que las preguntas son distitnas?\n",
        ">\n",
        "> Separe el dataset en entrenamiento (80%) y test (20%)."
      ],
      "id": "3291f77e"
    },
    {
      "cell_type": "code",
      "execution_count": null,
      "metadata": {
        "colab": {
          "base_uri": "https://localhost:8080/"
        },
        "id": "00d5bb69",
        "outputId": "82d37d62-2860-42db-be0b-93b18c58d742"
      },
      "outputs": [
        {
          "output_type": "execute_result",
          "data": {
            "text/plain": [
              "(5000, 6)"
            ]
          },
          "metadata": {},
          "execution_count": 3
        }
      ],
      "source": [
        "# YOUR CODE HERE\n",
        "df_5000 = df.loc[:4999]\n",
        "df_5000.shape"
      ],
      "id": "00d5bb69"
    },
    {
      "cell_type": "code",
      "execution_count": null,
      "metadata": {
        "colab": {
          "base_uri": "https://localhost:8080/"
        },
        "id": "5noAsbNpO6qO",
        "outputId": "b1452e03-5282-4518-989b-368c34833fb4"
      },
      "outputs": [
        {
          "output_type": "execute_result",
          "data": {
            "text/plain": [
              "0    0.6178\n",
              "1    0.3822\n",
              "Name: is_duplicate, dtype: float64"
            ]
          },
          "metadata": {},
          "execution_count": 4
        }
      ],
      "source": [
        "df_5000.is_duplicate.value_counts(normalize=True)"
      ],
      "id": "5noAsbNpO6qO"
    },
    {
      "cell_type": "code",
      "source": [
        "from sklearn.model_selection import train_test_split\n",
        "df_5000.dropna(inplace = True)\n",
        "X_train, X_test, y_train, y_test = train_test_split(df_5000[['question1','question2']], df_5000['is_duplicate'], train_size=0.8,random_state=42)"
      ],
      "metadata": {
        "colab": {
          "base_uri": "https://localhost:8080/"
        },
        "id": "BtKu5ZnPeTon",
        "outputId": "e9b8b711-d046-4149-d7b3-856aa7a1aed7"
      },
      "id": "BtKu5ZnPeTon",
      "execution_count": null,
      "outputs": [
        {
          "output_type": "stream",
          "name": "stderr",
          "text": [
            "<ipython-input-11-31e654d5d912>:2: SettingWithCopyWarning: \n",
            "A value is trying to be set on a copy of a slice from a DataFrame\n",
            "\n",
            "See the caveats in the documentation: https://pandas.pydata.org/pandas-docs/stable/user_guide/indexing.html#returning-a-view-versus-a-copy\n",
            "  df_5000.dropna(inplace = True)\n"
          ]
        }
      ]
    },
    {
      "cell_type": "code",
      "source": [
        "df_5000.is_duplicate.hist()"
      ],
      "metadata": {
        "colab": {
          "base_uri": "https://localhost:8080/",
          "height": 282
        },
        "id": "DSBNE2-zeVKY",
        "outputId": "38840e8d-240d-4a73-f733-3b368f9173f6"
      },
      "id": "DSBNE2-zeVKY",
      "execution_count": null,
      "outputs": [
        {
          "output_type": "execute_result",
          "data": {
            "text/plain": [
              "<Axes: >"
            ]
          },
          "metadata": {},
          "execution_count": 7
        },
        {
          "output_type": "display_data",
          "data": {
            "text/plain": [
              "<Figure size 432x288 with 1 Axes>"
            ],
            "image/png": "[encoded data removed]"
          },
          "metadata": {
            "needs_background": "light"
          }
        }
      ]
    },
    {
      "cell_type": "code",
      "source": [
        "from sklearn.metrics import accuracy_score\n",
        "import numpy as np\n",
        "print(f\"Un clasificador que siempre prediga que las preguntas son distintas acierta el {np.round(accuracy_score(y_train, np.zeros(len(y_train)))*100,2)} de las veces en train\")\n",
        "print(f\"Un clasificador que siempre prediga que las preguntas son distintas acierta el {np.round(accuracy_score(y_test, np.zeros(len(y_test)))*100,2)} de las veces en test\")"
      ],
      "metadata": {
        "colab": {
          "base_uri": "https://localhost:8080/"
        },
        "id": "jrtuGdf1ed3B",
        "outputId": "47049796-637c-4a1d-9769-a41a76f213cb"
      },
      "id": "jrtuGdf1ed3B",
      "execution_count": null,
      "outputs": [
        {
          "output_type": "stream",
          "name": "stdout",
          "text": [
            "Un clasificador que siempre prediga que las preguntas son distintas acierta el 62.32 de las veces en train\n",
            "Un clasificador que siempre prediga que las preguntas son distintas acierta el 59.6 de las veces en test\n"
          ]
        }
      ]
    },
    {
      "cell_type": "markdown",
      "metadata": {
        "id": "7539d398"
      },
      "source": [
        ">**Ejercicio 2 (2 puntos)**: Vectorice las preguntas usando tanto TF-IDF como promedio de word embeddings. Concatene la representación de cada par de preguntas en el conjunto de entrenamiento y test."
      ],
      "id": "7539d398"
    },
    {
      "cell_type": "code",
      "execution_count": null,
      "metadata": {
        "colab": {
          "base_uri": "https://localhost:8080/"
        },
        "id": "tD9VGEtSRsvo",
        "outputId": "dd86e6fa-2a8f-4277-c3a0-6e2ff1f350e0"
      },
      "outputs": [
        {
          "output_type": "stream",
          "name": "stdout",
          "text": [
            "Looking in indexes: https://pypi.org/simple, https://us-python.pkg.dev/colab-wheels/public/simple/\n",
            "Collecting contractions\n",
            "  Downloading contractions-0.1.73-py2.py3-none-any.whl (8.7 kB)\n",
            "Collecting textsearch>=0.0.21\n",
            "  Downloading textsearch-0.0.24-py2.py3-none-any.whl (7.6 kB)\n",
            "Collecting pyahocorasick\n",
            "  Downloading pyahocorasick-2.0.0-cp39-cp39-manylinux_2_5_x86_64.manylinux1_x86_64.whl (103 kB)\n",
            "\u001b[2K     \u001b[90m━━━━━━━━━━━━━━━━━━━━━━━━━━━━━━━━━━━━━━━\u001b[0m \u001b[32m103.2/103.2 KB\u001b[0m \u001b[31m4.7 MB/s\u001b[0m eta \u001b[36m0:00:00\u001b[0m\n",
            "\u001b[?25hCollecting anyascii\n",
            "  Downloading anyascii-0.3.2-py3-none-any.whl (289 kB)\n",
            "\u001b[2K     \u001b[90m━━━━━━━━━━━━━━━━━━━━━━━━━━━━━━━━━━━━━━\u001b[0m \u001b[32m289.9/289.9 KB\u001b[0m \u001b[31m14.3 MB/s\u001b[0m eta \u001b[36m0:00:00\u001b[0m\n",
            "\u001b[?25hInstalling collected packages: pyahocorasick, anyascii, textsearch, contractions\n",
            "Successfully installed anyascii-0.3.2 contractions-0.1.73 pyahocorasick-2.0.0 textsearch-0.0.24\n"
          ]
        }
      ],
      "source": [
        "! pip install contractions"
      ],
      "id": "tD9VGEtSRsvo"
    },
    {
      "cell_type": "code",
      "execution_count": null,
      "metadata": {
        "id": "95a55fab",
        "colab": {
          "base_uri": "https://localhost:8080/"
        },
        "outputId": "3377c1e6-bdcf-460e-83ee-dad58aa99a44"
      },
      "outputs": [
        {
          "output_type": "stream",
          "name": "stderr",
          "text": [
            "[nltk_data] Downloading package punkt to /root/nltk_data...\n",
            "[nltk_data]   Unzipping tokenizers/punkt.zip.\n",
            "[nltk_data] Downloading package wordnet to /root/nltk_data...\n",
            "[nltk_data] Downloading package omw-1.4 to /root/nltk_data...\n",
            "[nltk_data] Downloading package stopwords to /root/nltk_data...\n",
            "[nltk_data]   Unzipping corpora/stopwords.zip.\n"
          ]
        }
      ],
      "source": [
        "# YOUR CODE HERE\n",
        "import numpy as np\n",
        "import nltk\n",
        "nltk.download('punkt')\n",
        "nltk.download('wordnet')\n",
        "nltk.download('omw-1.4')\n",
        "from nltk.stem.wordnet import WordNetLemmatizer\n",
        "import string \n",
        "import contractions\n",
        "nltk.download('stopwords')\n",
        "\n",
        "lemmatizer  = WordNetLemmatizer()\n",
        "stopwords_en   = set(nltk.corpus.stopwords.words('english'))\n",
        "punctuation = string.punctuation \n",
        "\n",
        "def normalize(text):\n",
        "  text2 = contractions.fix(text).lower().translate(str.maketrans('#@','  ', string.punctuation)) # Arreglamos las contracciones \n",
        "  text_tokens = nltk.word_tokenize(text2) # Tokenizamos \n",
        "  normalized_text = [lemmatizer.lemmatize(t) for t in text_tokens if (t not in stopwords_en)] # lematización\n",
        "  return normalized_text\n"
      ],
      "id": "95a55fab"
    },
    {
      "cell_type": "code",
      "execution_count": null,
      "metadata": {
        "colab": {
          "base_uri": "https://localhost:8080/",
          "height": 206
        },
        "id": "Q6MCE6pfRzKD",
        "outputId": "83288cff-ccc8-41e0-8b5b-59fdc7f825ef"
      },
      "outputs": [
        {
          "output_type": "execute_result",
          "data": {
            "text/plain": [
              "                                              question1  \\\n",
              "4227          Are men really better drivers than women?   \n",
              "4676              Why are fruits so expensive in Japan?   \n",
              "800   What are the safety precautions on handling sh...   \n",
              "3671  Which is the best book for studying engineerin...   \n",
              "4193  Two equal masses hang one below the other on s...   \n",
              "\n",
              "                                              question2  \\\n",
              "4227               Who are better drivers woman or man?   \n",
              "4676                         What is Japan really like?   \n",
              "800   What are the safety precautions on handling sh...   \n",
              "3671  Which book is the best for study of Engineerin...   \n",
              "4193  What will b angle b/w two vector of equal magn...   \n",
              "\n",
              "                                         questions_norm  \n",
              "4227  [men, really, better, driver, woman, better, d...  \n",
              "4676     [fruit, expensive, japan, japan, really, like]  \n",
              "800   [safety, precaution, handling, shotgun, propos...  \n",
              "3671  [best, book, studying, engineering, mechanic, ...  \n",
              "4193  [two, equal, mass, hang, one, string, equal, l...  "
            ],
            "text/html": [
              "\n",
              "  <div id=\"df-b570f2dd-c322-4535-8a13-cb1d3ceeb845\">\n",
              "    <div class=\"colab-df-container\">\n",
              "      <div>\n",
              "<style scoped>\n",
              "    .dataframe tbody tr th:only-of-type {\n",
              "        vertical-align: middle;\n",
              "    }\n",
              "\n",
              "    .dataframe tbody tr th {\n",
              "        vertical-align: top;\n",
              "    }\n",
              "\n",
              "    .dataframe thead th {\n",
              "        text-align: right;\n",
              "    }\n",
              "</style>\n",
              "<table border=\"1\" class=\"dataframe\">\n",
              "  <thead>\n",
              "    <tr style=\"text-align: right;\">\n",
              "      <th></th>\n",
              "      <th>question1</th>\n",
              "      <th>question2</th>\n",
              "      <th>questions_norm</th>\n",
              "    </tr>\n",
              "  </thead>\n",
              "  <tbody>\n",
              "    <tr>\n",
              "      <th>4227</th>\n",
              "      <td>Are men really better drivers than women?</td>\n",
              "      <td>Who are better drivers woman or man?</td>\n",
              "      <td>[men, really, better, driver, woman, better, d...</td>\n",
              "    </tr>\n",
              "    <tr>\n",
              "      <th>4676</th>\n",
              "      <td>Why are fruits so expensive in Japan?</td>\n",
              "      <td>What is Japan really like?</td>\n",
              "      <td>[fruit, expensive, japan, japan, really, like]</td>\n",
              "    </tr>\n",
              "    <tr>\n",
              "      <th>800</th>\n",
              "      <td>What are the safety precautions on handling sh...</td>\n",
              "      <td>What are the safety precautions on handling sh...</td>\n",
              "      <td>[safety, precaution, handling, shotgun, propos...</td>\n",
              "    </tr>\n",
              "    <tr>\n",
              "      <th>3671</th>\n",
              "      <td>Which is the best book for studying engineerin...</td>\n",
              "      <td>Which book is the best for study of Engineerin...</td>\n",
              "      <td>[best, book, studying, engineering, mechanic, ...</td>\n",
              "    </tr>\n",
              "    <tr>\n",
              "      <th>4193</th>\n",
              "      <td>Two equal masses hang one below the other on s...</td>\n",
              "      <td>What will b angle b/w two vector of equal magn...</td>\n",
              "      <td>[two, equal, mass, hang, one, string, equal, l...</td>\n",
              "    </tr>\n",
              "  </tbody>\n",
              "</table>\n",
              "</div>\n",
              "      <button class=\"colab-df-convert\" onclick=\"convertToInteractive('df-b570f2dd-c322-4535-8a13-cb1d3ceeb845')\"\n",
              "              title=\"Convert this dataframe to an interactive table.\"\n",
              "              style=\"display:none;\">\n",
              "        \n",
              "  <svg xmlns=\"http://www.w3.org/2000/svg\" height=\"24px\"viewBox=\"0 0 24 24\"\n",
              "       width=\"24px\">\n",
              "    <path d=\"M0 0h24v24H0V0z\" fill=\"none\"/>\n",
              "    <path d=\"M18.56 5.44l.94 2.06.94-2.06 2.06-.94-2.06-.94-.94-2.06-.94 2.06-2.06.94zm-11 1L8.5 8.5l.94-2.06 2.06-.94-2.06-.94L8.5 2.5l-.94 2.06-2.06.94zm10 10l.94 2.06.94-2.06 2.06-.94-2.06-.94-.94-2.06-.94 2.06-2.06.94z\"/><path d=\"M17.41 7.96l-1.37-1.37c-.4-.4-.92-.59-1.43-.59-.52 0-1.04.2-1.43.59L10.3 9.45l-7.72 7.72c-.78.78-.78 2.05 0 2.83L4 21.41c.39.39.9.59 1.41.59.51 0 1.02-.2 1.41-.59l7.78-7.78 2.81-2.81c.8-.78.8-2.07 0-2.86zM5.41 20L4 18.59l7.72-7.72 1.47 1.35L5.41 20z\"/>\n",
              "  </svg>\n",
              "      </button>\n",
              "      \n",
              "  <style>\n",
              "    .colab-df-container {\n",
              "      display:flex;\n",
              "      flex-wrap:wrap;\n",
              "      gap: 12px;\n",
              "    }\n",
              "\n",
              "    .colab-df-convert {\n",
              "      background-color: #E8F0FE;\n",
              "      border: none;\n",
              "      border-radius: 50%;\n",
              "      cursor: pointer;\n",
              "      display: none;\n",
              "      fill: #1967D2;\n",
              "      height: 32px;\n",
              "      padding: 0 0 0 0;\n",
              "      width: 32px;\n",
              "    }\n",
              "\n",
              "    .colab-df-convert:hover {\n",
              "      background-color: #E2EBFA;\n",
              "      box-shadow: 0px 1px 2px rgba(60, 64, 67, 0.3), 0px 1px 3px 1px rgba(60, 64, 67, 0.15);\n",
              "      fill: #174EA6;\n",
              "    }\n",
              "\n",
              "    [theme=dark] .colab-df-convert {\n",
              "      background-color: #3B4455;\n",
              "      fill: #D2E3FC;\n",
              "    }\n",
              "\n",
              "    [theme=dark] .colab-df-convert:hover {\n",
              "      background-color: #434B5C;\n",
              "      box-shadow: 0px 1px 3px 1px rgba(0, 0, 0, 0.15);\n",
              "      filter: drop-shadow(0px 1px 2px rgba(0, 0, 0, 0.3));\n",
              "      fill: #FFFFFF;\n",
              "    }\n",
              "  </style>\n",
              "\n",
              "      <script>\n",
              "        const buttonEl =\n",
              "          document.querySelector('#df-b570f2dd-c322-4535-8a13-cb1d3ceeb845 button.colab-df-convert');\n",
              "        buttonEl.style.display =\n",
              "          google.colab.kernel.accessAllowed ? 'block' : 'none';\n",
              "\n",
              "        async function convertToInteractive(key) {\n",
              "          const element = document.querySelector('#df-b570f2dd-c322-4535-8a13-cb1d3ceeb845');\n",
              "          const dataTable =\n",
              "            await google.colab.kernel.invokeFunction('convertToInteractive',\n",
              "                                                     [key], {});\n",
              "          if (!dataTable) return;\n",
              "\n",
              "          const docLinkHtml = 'Like what you see? Visit the ' +\n",
              "            '<a target=\"_blank\" href=https://colab.research.google.com/notebooks/data_table.ipynb>data table notebook</a>'\n",
              "            + ' to learn more about interactive tables.';\n",
              "          element.innerHTML = '';\n",
              "          dataTable['output_type'] = 'display_data';\n",
              "          await google.colab.output.renderOutput(dataTable, element);\n",
              "          const docLink = document.createElement('div');\n",
              "          docLink.innerHTML = docLinkHtml;\n",
              "          element.appendChild(docLink);\n",
              "        }\n",
              "      </script>\n",
              "    </div>\n",
              "  </div>\n",
              "  "
            ]
          },
          "metadata": {},
          "execution_count": 16
        }
      ],
      "source": [
        "X_train['questions_norm'] = (X_train['question1'] +' '+X_train['question2']).apply(lambda x: normalize(x))\n",
        "X_test['questions_norm'] = (X_test['question1'] +' '+X_test['question2']).apply(lambda x: normalize(x))\n",
        "X_train.head()"
      ],
      "id": "Q6MCE6pfRzKD"
    },
    {
      "cell_type": "code",
      "execution_count": null,
      "metadata": {
        "colab": {
          "base_uri": "https://localhost:8080/"
        },
        "id": "WoiNYY-hWjPf",
        "outputId": "474c7796-ef2b-4782-f631-3a27cc7b060f"
      },
      "outputs": [
        {
          "output_type": "stream",
          "name": "stdout",
          "text": [
            "The dictionary contains 1382 terms\n",
            "First terms in the dictionary:\n",
            "0 : better\n",
            "1 : driver\n",
            "2 : man\n",
            "3 : men\n",
            "4 : really\n",
            "5 : woman\n",
            "6 : expensive\n",
            "7 : japan\n",
            "8 : like\n",
            "9 : handling\n"
          ]
        }
      ],
      "source": [
        "import gensim\n",
        "D = gensim.corpora.Dictionary(X_train.questions_norm.values)\n",
        "n_tokens = len(D)\n",
        "no_below = 5 #Minimum number of documents to keep a term in the dictionary\n",
        "no_above = .9 #Maximum proportion of documents in which a term can appear to be kept in the dictionary\n",
        "D.filter_extremes(no_below=no_below,no_above=no_above)\n",
        "n_tokens = len(D)\n",
        "print('The dictionary contains', n_tokens, 'terms')\n",
        "print('First terms in the dictionary:')\n",
        "for n in range(10):\n",
        "    print(str(n), ':', D[n])"
      ],
      "id": "WoiNYY-hWjPf"
    },
    {
      "cell_type": "markdown",
      "metadata": {
        "id": "G-6jk1hoaXoV"
      },
      "source": [
        "## TF-IDF"
      ],
      "id": "G-6jk1hoaXoV"
    },
    {
      "cell_type": "code",
      "execution_count": null,
      "metadata": {
        "colab": {
          "base_uri": "https://localhost:8080/"
        },
        "id": "lK0ABy1fXLPP",
        "outputId": "e1c6495e-0070-4633-fb5a-985f06b5bb75"
      },
      "outputs": [
        {
          "output_type": "stream",
          "name": "stdout",
          "text": [
            "La dimensión de la matriz TF-IDF es 4000 x 1382\n"
          ]
        }
      ],
      "source": [
        "from gensim.models import TfidfModel\n",
        "from gensim.matutils import corpus2dense, corpus2csc\n",
        "\n",
        "corpus_bow = [D.doc2bow(doc) for doc in X_train.questions_norm.values]\n",
        "model = TfidfModel(corpus_bow)  \n",
        "corpus_tfidf = model[corpus_bow]\n",
        "n_tokens = len(D)\n",
        "num_docs = len(corpus_bow)\n",
        "# Convert TFIDF representacion\n",
        "corpus_tfidf_sparse_train = corpus2csc(corpus_tfidf, num_terms=n_tokens, num_docs=num_docs).T\n",
        "print(f\"La dimensión de la matriz TF-IDF es {corpus_tfidf_sparse_train.shape[0]} x {corpus_tfidf_sparse_train.shape[1]}\")"
      ],
      "id": "lK0ABy1fXLPP"
    },
    {
      "cell_type": "code",
      "execution_count": null,
      "metadata": {
        "colab": {
          "base_uri": "https://localhost:8080/"
        },
        "id": "F41m04CUs_hl",
        "outputId": "26d314ae-aed5-45ce-bc25-a574969e6062"
      },
      "outputs": [
        {
          "output_type": "stream",
          "name": "stdout",
          "text": [
            "La dimensión de la matriz TF-IDF test es 1000 x 1382\n"
          ]
        }
      ],
      "source": [
        "corpus_bow = [D.doc2bow(doc) for doc in X_test.questions_norm.values]\n",
        "model = TfidfModel(corpus_bow)  \n",
        "corpus_tfidf = model[corpus_bow]\n",
        "n_tokens = len(D)\n",
        "num_docs = len(corpus_bow)\n",
        "# Convert TFIDF representacion\n",
        "corpus_tfidf_sparse_test = corpus2csc(corpus_tfidf, num_terms=n_tokens, num_docs=num_docs).T\n",
        "print(f\"La dimensión de la matriz TF-IDF test es {corpus_tfidf_sparse_test.shape[0]} x {corpus_tfidf_sparse_test.shape[1]}\")"
      ],
      "id": "F41m04CUs_hl"
    },
    {
      "cell_type": "markdown",
      "metadata": {
        "id": "StqGggBGaa0P"
      },
      "source": [
        "## MEDIA WE"
      ],
      "id": "StqGggBGaa0P"
    },
    {
      "cell_type": "code",
      "execution_count": null,
      "metadata": {
        "id": "Vgd-7X2iaaJy",
        "colab": {
          "base_uri": "https://localhost:8080/"
        },
        "outputId": "0bf623c5-be4f-4608-c45d-d26fd7f77515"
      },
      "outputs": [
        {
          "output_type": "stream",
          "name": "stdout",
          "text": [
            "/usr/local/lib/python3.9/dist-packages/torch/cuda/__init__.py:497: UserWarning: Can't initialize NVML\n",
            "  warnings.warn(\"Can't initialize NVML\")\n",
            "2023-03-29 13:16:12.727328: I tensorflow/core/platform/cpu_feature_guard.cc:193] This TensorFlow binary is optimized with oneAPI Deep Neural Network Library (oneDNN) to use the following CPU instructions in performance-critical operations:  AVX2 FMA\n",
            "To enable them in other operations, rebuild TensorFlow with the appropriate compiler flags.\n",
            "2023-03-29 13:16:14.460519: W tensorflow/compiler/xla/stream_executor/platform/default/dso_loader.cc:64] Could not load dynamic library 'libnvinfer.so.7'; dlerror: libnvinfer.so.7: cannot open shared object file: No such file or directory; LD_LIBRARY_PATH: /usr/local/nvidia/lib:/usr/local/nvidia/lib64\n",
            "2023-03-29 13:16:14.460692: W tensorflow/compiler/xla/stream_executor/platform/default/dso_loader.cc:64] Could not load dynamic library 'libnvinfer_plugin.so.7'; dlerror: libnvinfer_plugin.so.7: cannot open shared object file: No such file or directory; LD_LIBRARY_PATH: /usr/local/nvidia/lib:/usr/local/nvidia/lib64\n",
            "2023-03-29 13:16:14.460719: W tensorflow/compiler/tf2tensorrt/utils/py_utils.cc:38] TF-TRT Warning: Cannot dlopen some TensorRT libraries. If you would like to use Nvidia GPU with TensorRT, please make sure the missing libraries mentioned above are installed properly.\n",
            "2023-03-29 13:16:17.320096: E tensorflow/compiler/xla/stream_executor/cuda/cuda_driver.cc:267] failed call to cuInit: CUDA_ERROR_NO_DEVICE: no CUDA-capable device is detected\n",
            "Looking in indexes: https://pypi.org/simple, https://us-python.pkg.dev/colab-wheels/public/simple/\n",
            "Collecting en-core-web-lg==3.5.0\n",
            "  Downloading https://github.com/explosion/spacy-models/releases/download/en_core_web_lg-3.5.0/en_core_web_lg-3.5.0-py3-none-any.whl (587.7 MB)\n",
            "\u001b[2K     \u001b[90m━━━━━━━━━━━━━━━━━━━━━━━━━━━━━━━━━━━━━━━\u001b[0m \u001b[32m587.7/587.7 MB\u001b[0m \u001b[31m2.5 MB/s\u001b[0m eta \u001b[36m0:00:00\u001b[0m\n",
            "\u001b[?25hRequirement already satisfied: spacy<3.6.0,>=3.5.0 in /usr/local/lib/python3.9/dist-packages (from en-core-web-lg==3.5.0) (3.5.1)\n",
            "Requirement already satisfied: jinja2 in /usr/local/lib/python3.9/dist-packages (from spacy<3.6.0,>=3.5.0->en-core-web-lg==3.5.0) (3.1.2)\n",
            "Requirement already satisfied: langcodes<4.0.0,>=3.2.0 in /usr/local/lib/python3.9/dist-packages (from spacy<3.6.0,>=3.5.0->en-core-web-lg==3.5.0) (3.3.0)\n",
            "Requirement already satisfied: murmurhash<1.1.0,>=0.28.0 in /usr/local/lib/python3.9/dist-packages (from spacy<3.6.0,>=3.5.0->en-core-web-lg==3.5.0) (1.0.9)\n",
            "Requirement already satisfied: pydantic!=1.8,!=1.8.1,<1.11.0,>=1.7.4 in /usr/local/lib/python3.9/dist-packages (from spacy<3.6.0,>=3.5.0->en-core-web-lg==3.5.0) (1.10.7)\n",
            "Requirement already satisfied: setuptools in /usr/local/lib/python3.9/dist-packages (from spacy<3.6.0,>=3.5.0->en-core-web-lg==3.5.0) (67.6.0)\n",
            "Requirement already satisfied: numpy>=1.15.0 in /usr/local/lib/python3.9/dist-packages (from spacy<3.6.0,>=3.5.0->en-core-web-lg==3.5.0) (1.24.2)\n",
            "Requirement already satisfied: catalogue<2.1.0,>=2.0.6 in /usr/local/lib/python3.9/dist-packages (from spacy<3.6.0,>=3.5.0->en-core-web-lg==3.5.0) (2.0.8)\n",
            "Requirement already satisfied: spacy-legacy<3.1.0,>=3.0.11 in /usr/local/lib/python3.9/dist-packages (from spacy<3.6.0,>=3.5.0->en-core-web-lg==3.5.0) (3.0.12)\n",
            "Requirement already satisfied: packaging>=20.0 in /usr/local/lib/python3.9/dist-packages (from spacy<3.6.0,>=3.5.0->en-core-web-lg==3.5.0) (23.0)\n",
            "Requirement already satisfied: cymem<2.1.0,>=2.0.2 in /usr/local/lib/python3.9/dist-packages (from spacy<3.6.0,>=3.5.0->en-core-web-lg==3.5.0) (2.0.7)\n",
            "Requirement already satisfied: typer<0.8.0,>=0.3.0 in /usr/local/lib/python3.9/dist-packages (from spacy<3.6.0,>=3.5.0->en-core-web-lg==3.5.0) (0.7.0)\n",
            "Requirement already satisfied: pathy>=0.10.0 in /usr/local/lib/python3.9/dist-packages (from spacy<3.6.0,>=3.5.0->en-core-web-lg==3.5.0) (0.10.1)\n",
            "Requirement already satisfied: preshed<3.1.0,>=3.0.2 in /usr/local/lib/python3.9/dist-packages (from spacy<3.6.0,>=3.5.0->en-core-web-lg==3.5.0) (3.0.8)\n",
            "Requirement already satisfied: srsly<3.0.0,>=2.4.3 in /usr/local/lib/python3.9/dist-packages (from spacy<3.6.0,>=3.5.0->en-core-web-lg==3.5.0) (2.4.6)\n",
            "Requirement already satisfied: spacy-loggers<2.0.0,>=1.0.0 in /usr/local/lib/python3.9/dist-packages (from spacy<3.6.0,>=3.5.0->en-core-web-lg==3.5.0) (1.0.4)\n",
            "Requirement already satisfied: smart-open<7.0.0,>=5.2.1 in /usr/local/lib/python3.9/dist-packages (from spacy<3.6.0,>=3.5.0->en-core-web-lg==3.5.0) (6.3.0)\n",
            "Requirement already satisfied: wasabi<1.2.0,>=0.9.1 in /usr/local/lib/python3.9/dist-packages (from spacy<3.6.0,>=3.5.0->en-core-web-lg==3.5.0) (1.1.1)\n",
            "Requirement already satisfied: tqdm<5.0.0,>=4.38.0 in /usr/local/lib/python3.9/dist-packages (from spacy<3.6.0,>=3.5.0->en-core-web-lg==3.5.0) (4.65.0)\n",
            "Requirement already satisfied: thinc<8.2.0,>=8.1.8 in /usr/local/lib/python3.9/dist-packages (from spacy<3.6.0,>=3.5.0->en-core-web-lg==3.5.0) (8.1.9)\n",
            "Requirement already satisfied: requests<3.0.0,>=2.13.0 in /usr/local/lib/python3.9/dist-packages (from spacy<3.6.0,>=3.5.0->en-core-web-lg==3.5.0) (2.27.1)\n",
            "Requirement already satisfied: typing-extensions>=4.2.0 in /usr/local/lib/python3.9/dist-packages (from pydantic!=1.8,!=1.8.1,<1.11.0,>=1.7.4->spacy<3.6.0,>=3.5.0->en-core-web-lg==3.5.0) (4.5.0)\n",
            "Requirement already satisfied: charset-normalizer~=2.0.0 in /usr/local/lib/python3.9/dist-packages (from requests<3.0.0,>=2.13.0->spacy<3.6.0,>=3.5.0->en-core-web-lg==3.5.0) (2.0.12)\n",
            "Requirement already satisfied: certifi>=2017.4.17 in /usr/local/lib/python3.9/dist-packages (from requests<3.0.0,>=2.13.0->spacy<3.6.0,>=3.5.0->en-core-web-lg==3.5.0) (2022.12.7)\n",
            "Requirement already satisfied: idna<4,>=2.5 in /usr/local/lib/python3.9/dist-packages (from requests<3.0.0,>=2.13.0->spacy<3.6.0,>=3.5.0->en-core-web-lg==3.5.0) (3.4)\n",
            "Requirement already satisfied: urllib3<1.27,>=1.21.1 in /usr/local/lib/python3.9/dist-packages (from requests<3.0.0,>=2.13.0->spacy<3.6.0,>=3.5.0->en-core-web-lg==3.5.0) (1.26.15)\n",
            "Requirement already satisfied: confection<1.0.0,>=0.0.1 in /usr/local/lib/python3.9/dist-packages (from thinc<8.2.0,>=8.1.8->spacy<3.6.0,>=3.5.0->en-core-web-lg==3.5.0) (0.0.4)\n",
            "Requirement already satisfied: blis<0.8.0,>=0.7.8 in /usr/local/lib/python3.9/dist-packages (from thinc<8.2.0,>=8.1.8->spacy<3.6.0,>=3.5.0->en-core-web-lg==3.5.0) (0.7.9)\n",
            "Requirement already satisfied: click<9.0.0,>=7.1.1 in /usr/local/lib/python3.9/dist-packages (from typer<0.8.0,>=0.3.0->spacy<3.6.0,>=3.5.0->en-core-web-lg==3.5.0) (8.1.3)\n",
            "Requirement already satisfied: MarkupSafe>=2.0 in /usr/local/lib/python3.9/dist-packages (from jinja2->spacy<3.6.0,>=3.5.0->en-core-web-lg==3.5.0) (2.1.2)\n",
            "Installing collected packages: en-core-web-lg\n",
            "Successfully installed en-core-web-lg-3.5.0\n",
            "\u001b[38;5;2m✔ Download and installation successful\u001b[0m\n",
            "You can now load the package via spacy.load('en_core_web_lg')\n"
          ]
        }
      ],
      "source": [
        "!python -m spacy download en_core_web_lg"
      ],
      "id": "Vgd-7X2iaaJy"
    },
    {
      "cell_type": "code",
      "execution_count": null,
      "metadata": {
        "id": "YTwx3I2iankS",
        "colab": {
          "base_uri": "https://localhost:8080/"
        },
        "outputId": "66e2a4cf-aec9-4a7f-c4bb-079d191e9e38"
      },
      "outputs": [
        {
          "output_type": "stream",
          "name": "stderr",
          "text": [
            "/usr/local/lib/python3.9/dist-packages/torch/cuda/__init__.py:497: UserWarning: Can't initialize NVML\n",
            "  warnings.warn(\"Can't initialize NVML\")\n"
          ]
        },
        {
          "output_type": "stream",
          "name": "stdout",
          "text": [
            "La dimensión de la matriz WE es 4000 x 300\n"
          ]
        }
      ],
      "source": [
        "import spacy\n",
        "nlp = spacy.load(\"en_core_web_lg\")\n",
        "list_processes = [\"parser\",\"ner\"]\n",
        "\n",
        "for l in list_processes:\n",
        "    nlp.disable_pipe(l) \n",
        "    \n",
        "nlp.add_pipe('sentencizer')\n",
        "\n",
        "questions = [nlp(' '.join(c)) for c in X_train.questions_norm.values]\n",
        "\n",
        "def normalize(doc):\n",
        "    return [w for w in doc if not w.is_stop and w.has_vector and not w.is_punct]\n",
        "\n",
        "# eliminamos stopping words, puntuaciones y tokens sin word embedding\n",
        "norm_questions = [normalize(c) for c in questions]\n",
        "\n",
        "# Pasamos a modo texto (como hacemos media de WE NO HACE FALTA LEMATIZAR!)\n",
        "norm_questions_text = [[w.text.lower() for w in c] for c in norm_questions]\n",
        "\n",
        "# Volvemos a crear una lista de objetos spacy.Doc y extraemos la media de los word embeddings ...\n",
        "WE_train = np.array([c.vector for c in [nlp(' '.join(w)) for w in norm_questions_text]])\n",
        "\n",
        "print(f\"La dimensión de la matriz WE es {WE_train.shape[0]} x {WE_train.shape[1]}\")"
      ],
      "id": "YTwx3I2iankS"
    },
    {
      "cell_type": "code",
      "execution_count": null,
      "metadata": {
        "id": "Pv-EM_TItXWi"
      },
      "outputs": [],
      "source": [
        "questions = [nlp(' '.join(c)) for c in X_test.questions_norm.values]\n",
        "\n",
        "# eliminamos stopping words, puntuaciones y tokens sin word embedding\n",
        "norm_questions = [normalize(c) for c in questions]\n",
        "\n",
        "# Pasamos a modo texto (como hacemos media de WE NO HACE FALTA LEMATIZAR!)\n",
        "norm_questions_text = [[w.text.lower() for w in c] for c in norm_questions]\n",
        "\n",
        "# Volvemos a crear una lista de objetos spacy.Doc y extraemos la media de los word embeddings ...\n",
        "WE_test = np.array([c.vector for c in [nlp(' '.join(w)) for w in norm_questions_text]])"
      ],
      "id": "Pv-EM_TItXWi"
    },
    {
      "cell_type": "markdown",
      "metadata": {
        "id": "ff52f7ef"
      },
      "source": [
        "> **Ejercicio 3 (2.5 puntos)**: En cada caso, entrene un clasificador de tipo regresión logística utilizando a la entrada la concatenación de ambas preguntas. Valide el parámetro de regularización y determine el porcentaje de preguntas correctamente clasificadas."
      ],
      "id": "ff52f7ef"
    },
    {
      "cell_type": "code",
      "execution_count": null,
      "metadata": {
        "colab": {
          "base_uri": "https://localhost:8080/"
        },
        "id": "be86458f",
        "outputId": "86c5a410-52b8-426e-cd15-efe867e218af"
      },
      "outputs": [
        {
          "output_type": "stream",
          "name": "stdout",
          "text": [
            "El mejor parámetro C es 2.15\n",
            "Accuracy train 78.75%. Accuracy test 65.40%\n",
            "\n",
            "CPU times: user 3.45 s, sys: 13.5 ms, total: 3.46 s\n",
            "Wall time: 5.56 s\n"
          ]
        }
      ],
      "source": [
        "%%time\n",
        "from sklearn.linear_model import LogisticRegression as LR\n",
        "from sklearn.model_selection import GridSearchCV\n",
        "\n",
        "rango_C = np.logspace(-3, 3, 10)  # Rango C en escala logarítmica (base 10). Esto es, 20 puntos desde 10^3, a 10^3.\n",
        "diccionario_parametros = [{'C': rango_C}]   \n",
        "nfold = 10 # Número de particiones train/validación\n",
        "\n",
        "\"\"\" Ajusto C por validación cruzada\n",
        "El optimizador por defecto ('lbfgs') no acepta regularización l1. \n",
        "Usamos 'liblinear' siguiendo las recomendaciones de la librería.\n",
        "\"\"\"\n",
        "LR_with_CV_tfidf  = GridSearchCV(estimator=LR(penalty='l1',max_iter=int(3e3),solver='liblinear'),\n",
        "                                  param_grid=diccionario_parametros,cv=nfold)\n",
        "# Entrenar el modelo\n",
        "LR_with_CV_tfidf.fit(corpus_tfidf_sparse_train,y_train)   \n",
        "\n",
        "print(\"El mejor parámetro C es {0:.2f}\".format(LR_with_CV_tfidf.best_params_['C']))\n",
        "                        \n",
        "# Score de claisficación en train/test\n",
        "accuracy_train = LR_with_CV_tfidf.score(corpus_tfidf_sparse_train,y_train)   \n",
        "accuracy_test = LR_with_CV_tfidf.score(corpus_tfidf_sparse_test,y_test)  \n",
        "\n",
        "print(\"Accuracy train {0:.2f}%. Accuracy test {1:.2f}%\\n\".format(accuracy_train*100, accuracy_test*100))"
      ],
      "id": "be86458f"
    },
    {
      "cell_type": "markdown",
      "source": [
        "Podemos notar que nuestro primer modelo es mejor que el baseline, sin embargo tiene sobreajuste"
      ],
      "metadata": {
        "id": "igy5mxmEjvCS"
      },
      "id": "igy5mxmEjvCS"
    },
    {
      "cell_type": "code",
      "execution_count": null,
      "metadata": {
        "id": "X9mErRxIt_Q5",
        "colab": {
          "base_uri": "https://localhost:8080/"
        },
        "outputId": "a517e7cb-f921-43fd-fe00-6be8e9231bf2"
      },
      "outputs": [
        {
          "output_type": "stream",
          "name": "stdout",
          "text": [
            "El mejor parámetro C es 0.10\n",
            "Accuracy train 70.88%. Accuracy test 66.70%\n",
            "\n"
          ]
        }
      ],
      "source": [
        "from sklearn.linear_model import LogisticRegression as LR\n",
        "from sklearn.model_selection import GridSearchCV\n",
        "from sklearn.preprocessing import StandardScaler\n",
        "\n",
        "transformer = StandardScaler().fit(WE_train)   \n",
        "\n",
        "W_train = transformer.transform(WE_train)\n",
        "W_test = transformer.transform(WE_test)\n",
        "\n",
        "rango_C = np.logspace(-3, 3, 10)  # Rango C en escala logarítmica (base 10). Esto es, 10 puntos desde 10^3, a 10^3.\n",
        "diccionario_parametros = [{'C': rango_C}]   \n",
        "nfold = 10 # Número de particiones train/validación\n",
        "\n",
        "\"\"\" Ajusto C por validación cruzada\n",
        "El optimizador por defecto ('lbfgs') no acepta regularización l1. \n",
        "Usamos 'liblinear' siguiendo las recomendaciones de la librería.\n",
        "\"\"\"\n",
        "LR_with_CV_WE  = GridSearchCV(estimator=LR(penalty='l1',max_iter=int(2e3),solver='liblinear'),\n",
        "                                  param_grid=diccionario_parametros,cv=nfold)\n",
        "# Entrenar el modelo\n",
        "LR_with_CV_WE.fit(W_train,y_train)   \n",
        "\n",
        "print(\"El mejor parámetro C es {0:.2f}\".format(LR_with_CV_WE.best_params_['C']))\n",
        "                        \n",
        "# Score de claisficación en train/test\n",
        "accuracy_train = LR_with_CV_WE.score(W_train,y_train)   \n",
        "accuracy_test = LR_with_CV_WE.score(W_test,y_test)  \n",
        "\n",
        "print(\"Accuracy train {0:.2f}%. Accuracy test {1:.2f}%\\n\".format(accuracy_train*100, accuracy_test*100))"
      ],
      "id": "X9mErRxIt_Q5"
    },
    {
      "cell_type": "markdown",
      "source": [
        "Podemos notar que nuestro modelo utilizando WE al igual que TF-IDF es mejor que el baseline, sin embargo observamos que RL con WE apesar de tener un accuracy mas bajo que TF-IDF, tiene un menor sobreajuste"
      ],
      "metadata": {
        "id": "fJdyUwWQkwwQ"
      },
      "id": "fJdyUwWQkwwQ"
    },
    {
      "cell_type": "markdown",
      "metadata": {
        "id": "d9e024c6"
      },
      "source": [
        ">**Ejercicio 4 (2 puntos):** Dibuje la curva ROC de ambos clasificadores y determine el área bajo la curva."
      ],
      "id": "d9e024c6"
    },
    {
      "cell_type": "code",
      "execution_count": null,
      "metadata": {
        "id": "eff1484e",
        "colab": {
          "base_uri": "https://localhost:8080/",
          "height": 330
        },
        "outputId": "472e7d98-cb43-4e78-8a64-32d4d29ddede"
      },
      "outputs": [
        {
          "output_type": "display_data",
          "data": {
            "text/plain": [
              "<Figure size 432x288 with 1 Axes>"
            ],
            "image/png": "[encoded data removed]"
          },
          "metadata": {
            "needs_background": "light"
          }
        },
        {
          "output_type": "stream",
          "name": "stdout",
          "text": [
            "El área bajo la curva ROC de TF-IDF es 0.6761931855937272\n",
            "El área bajo la curva ROC de embeddings es 0.6719715595720646\n"
          ]
        }
      ],
      "source": [
        "# YOUR CODE HERE\n",
        "import matplotlib.pyplot as plt\n",
        "from sklearn import metrics\n",
        "fpr, recall, thresholds = metrics.roc_curve(y_test, LR_with_CV_tfidf.predict_proba(corpus_tfidf_sparse_test)[:,1], pos_label=1) \n",
        "fpr2, recall2, thresholds = metrics.roc_curve(y_test, LR_with_CV_WE.predict_proba(WE_test)[:,1], pos_label=1) \n",
        "\n",
        "fig,ax = plt.subplots()\n",
        "plt.plot(fpr,recall,lw=2.5,label='Curva ROC LR TF-IDF')\n",
        "plt.plot(fpr2,recall2,lw=2.5,label='Curva ROC LR embeddings')\n",
        "plt.legend(loc=7)\n",
        "plt.grid(True, which='major', color='gray', alpha=0.6, linestyle='dotted', lw=1.5)\n",
        "plt.xlabel('False Positive Rate')\n",
        "plt.ylabel('Recall (R)')\n",
        "plt.title('Curva ROC')\n",
        "plt.show()\n",
        "\n",
        "area_roc_tf_idf = metrics.roc_auc_score(y_test, LR_with_CV_tfidf.predict_proba(corpus_tfidf_sparse_test)[:,1])\n",
        "area_roc_embbedings = metrics.roc_auc_score(y_test, LR_with_CV_WE.predict_proba(W_test)[:,1])\n",
        "\n",
        "print(f\"El área bajo la curva ROC de TF-IDF es {area_roc_tf_idf}\")\n",
        "print(f\"El área bajo la curva ROC de embeddings es {area_roc_embbedings}\")"
      ],
      "id": "eff1484e"
    },
    {
      "cell_type": "markdown",
      "metadata": {
        "id": "2be6763c"
      },
      "source": [
        ">**Ejercicio 5 (2.5 puntos):** Repita los dos ejercicios anteriores entrenando en este caso un k-NN y la distancia coseno (para ello normalice for filas las matrices `W`,`C`). Valide el número de vecinos y la ponderación de las distancias. ¿Mejoran los resultados?\n"
      ],
      "id": "2be6763c"
    },
    {
      "cell_type": "code",
      "execution_count": null,
      "metadata": {
        "id": "86557c57"
      },
      "outputs": [],
      "source": [
        "#Train TF-IDF\n",
        "import scipy\n",
        "norms = scipy.sparse.linalg.norm(corpus_tfidf_sparse_train, axis=1)\n",
        "norms[norms<1e-6] = 1e-6\n",
        "corpus_tfidf_train_norm = np.asarray(corpus_tfidf_sparse_train/norms.reshape([-1,1]))\n",
        "\n",
        "norms = scipy.sparse.linalg.norm(corpus_tfidf_sparse_test,axis=1)\n",
        "norms[norms<1e-6] = 1e-6\n",
        "corpus_tfidf_test_norm = np.asarray(corpus_tfidf_sparse_test/norms.reshape([-1,1]))\n",
        "\n",
        "# Train WE\n",
        "norms = np.linalg.norm(W_train,axis=1)\n",
        "norms[norms<1e-6] = 1e-6\n",
        "WE_train_norm = W_train/norms.reshape([-1,1])\n",
        "\n",
        "# Test\n",
        "norms = np.linalg.norm(W_test,axis=1)\n",
        "norms[norms<1e-6] = 1e-6\n",
        "WE_test_norm = W_test/norms.reshape([-1,1])"
      ],
      "id": "86557c57"
    },
    {
      "cell_type": "code",
      "execution_count": null,
      "metadata": {
        "id": "2_-yEE_SVRWy",
        "colab": {
          "base_uri": "https://localhost:8080/"
        },
        "outputId": "79305461-ef5d-4202-b95d-089795fa7386"
      },
      "outputs": [
        {
          "output_type": "stream",
          "name": "stdout",
          "text": [
            "El número de vecinos seleccionado es k=14\n",
            "Accuracy train 74.95%. Accuracy test 65.40%\n",
            "\n"
          ]
        }
      ],
      "source": [
        "from sklearn.neighbors import KNeighborsClassifier\n",
        "\n",
        "# Entrenamiento k-NN con validación de vecinos y ponderación de distancias\n",
        "K_max = 15\n",
        "rango_K = np.arange(1, K_max+1)\n",
        "nfold = 10\n",
        "# Define a dictionary with the name of the parameters to explore as a key and the ranges to explores as value\n",
        "diccionario_parametros = [{'n_neighbors': rango_K,'weights':['uniform','distance']}]\n",
        "\n",
        "# Validación cruzada con GridSearchCV\n",
        "knn_tfidf = GridSearchCV(estimator=KNeighborsClassifier(), param_grid=diccionario_parametros,cv=nfold)\n",
        "# Entrenamiento\n",
        "knn_tfidf.fit(corpus_tfidf_train_norm, y_train)\n",
        "# Test\n",
        "accuracy_train_knn = knn_tfidf.score(corpus_tfidf_train_norm,y_train)\n",
        "accuracy_test_knn = knn_tfidf.score(corpus_tfidf_test_norm,y_test)\n",
        "print(f\"El número de vecinos seleccionado es k={knn_tfidf.best_params_['n_neighbors']}\")\n",
        "print(\"Accuracy train {0:.2f}%. Accuracy test {1:.2f}%\\n\".format(accuracy_train_knn*100, accuracy_test_knn*100))"
      ],
      "id": "2_-yEE_SVRWy"
    },
    {
      "cell_type": "code",
      "source": [
        "from sklearn.neighbors import KNeighborsClassifier\n",
        "\n",
        "# Entrenamiento k-NN con validación de vecinos y ponderación de distancias\n",
        "K_max = 15\n",
        "rango_K = np.arange(1, K_max+1)\n",
        "nfold = 10\n",
        "# Define a dictionary with the name of the parameters to explore as a key and the ranges to explores as value\n",
        "diccionario_parametros = [{'n_neighbors': rango_K,'weights':['uniform','distance']}]\n",
        "\n",
        "# Validación cruzada con GridSearchCV\n",
        "knn_we = GridSearchCV(estimator=KNeighborsClassifier(), param_grid=diccionario_parametros,cv=nfold)\n",
        "# Entrenamiento\n",
        "knn_we.fit(WE_train_norm, y_train)\n",
        "# Test\n",
        "accuracy_train_knn = knn_we.score(WE_train_norm,y_train)\n",
        "accuracy_test_knn = knn_we.score(WE_test_norm,y_test)\n",
        "\n",
        "print(f\"El número de vecinos seleccionado es k={knn_we.best_params_['n_neighbors']}\")\n",
        "print(\"Accuracy train {0:.2f}%. Accuracy test {1:.2f}%\\n\".format(accuracy_train_knn*100, accuracy_test_knn*100))"
      ],
      "metadata": {
        "colab": {
          "base_uri": "https://localhost:8080/"
        },
        "id": "DNqGMZHscmgP",
        "outputId": "4c340eac-4d80-4de9-ab9f-5665f56973d1"
      },
      "id": "DNqGMZHscmgP",
      "execution_count": null,
      "outputs": [
        {
          "output_type": "stream",
          "name": "stdout",
          "text": [
            "El número de vecinos seleccionado es k=15\n",
            "Accuracy train 99.92%. Accuracy test 66.00%\n",
            "\n"
          ]
        }
      ]
    },
    {
      "cell_type": "markdown",
      "source": [
        "Respecto a los modelos con KNN, podemos observar que tienen un mejor desempeño que con RL, teniendo un mejor desempeño con WE, pero un sobreajuste muy alto"
      ],
      "metadata": {
        "id": "eGXExmvCzL4R"
      },
      "id": "eGXExmvCzL4R"
    },
    {
      "cell_type": "code",
      "execution_count": null,
      "metadata": {
        "id": "57e97a33",
        "colab": {
          "base_uri": "https://localhost:8080/",
          "height": 364
        },
        "outputId": "de822e14-dd03-4338-c6b7-7675bf2c5147"
      },
      "outputs": [
        {
          "output_type": "display_data",
          "data": {
            "text/plain": [
              "<Figure size 432x288 with 1 Axes>"
            ],
            "image/png": "[encoded data removed]"
          },
          "metadata": {
            "needs_background": "light"
          }
        },
        {
          "output_type": "stream",
          "name": "stdout",
          "text": [
            "El área bajo la curva ROC de LR TF-IDF es 0.6761931855937272\n",
            "El área bajo la curva ROC de LR embeddings es 0.6743554388995946\n",
            "El área bajo la curva ROC de KNN TF-IDF es 0.6277057445677453\n",
            "El área bajo la curva ROC de KNN embeddings es 0.6848773174297296\n"
          ]
        }
      ],
      "source": [
        "# YOUR CODE HERE\n",
        "# YOUR CODE HERE\n",
        "import matplotlib.pyplot as plt\n",
        "from sklearn import metrics\n",
        "fpr, recall, thresholds = metrics.roc_curve(y_test, LR_with_CV_tfidf.predict_proba(corpus_tfidf_sparse_test)[:,1], pos_label=1) \n",
        "fpr2, recall2, thresholds = metrics.roc_curve(y_test, LR_with_CV_WE.predict_proba(WE_test)[:,1], pos_label=1) \n",
        "\n",
        "fpr3, recall3, thresholds = metrics.roc_curve(y_test, knn_tfidf.predict_proba(corpus_tfidf_test_norm)[:,1], pos_label=1) \n",
        "fpr4, recall4, thresholds = metrics.roc_curve(y_test, knn_we.predict_proba(WE_test_norm)[:,1], pos_label=1) \n",
        "\n",
        "\n",
        "fig,ax = plt.subplots()\n",
        "plt.plot(fpr,recall,lw=2.5,label='Curva ROC LR TF-IDF')\n",
        "plt.plot(fpr2,recall2,lw=2.5,label='Curva ROC LR embeddings')\n",
        "plt.plot(fpr3,recall3,lw=2.5,label='Curva ROC KNN TF-IDF')\n",
        "plt.plot(fpr4,recall4,lw=2.5,label='Curva ROC KNN embeddings')\n",
        "plt.legend(loc=7)\n",
        "plt.grid(True, which='major', color='gray', alpha=0.6, linestyle='dotted', lw=1.5)\n",
        "plt.xlabel('False Positive Rate')\n",
        "plt.ylabel('Recall (R)')\n",
        "plt.title('Curva ROC')\n",
        "plt.show()\n",
        "\n",
        "area_roc_lr_tfidf = metrics.roc_auc_score(y_test, LR_with_CV_tfidf.predict_proba(corpus_tfidf_sparse_test)[:,1])\n",
        "area_roc_lr_embbedings = metrics.roc_auc_score(y_test, LR_with_CV_WE.predict_proba(WE_test)[:,1])\n",
        "\n",
        "area_roc_knn_tfidf = metrics.roc_auc_score(y_test, knn_tfidf.predict_proba(corpus_tfidf_test_norm)[:,1])\n",
        "area_roc_knn_embbedings = metrics.roc_auc_score(y_test, knn_we.predict_proba(WE_test_norm)[:,1])\n",
        "\n",
        "print(f\"El área bajo la curva ROC de LR TF-IDF es {area_roc_lr_tfidf}\")\n",
        "print(f\"El área bajo la curva ROC de LR embeddings es {area_roc_lr_embbedings}\")\n",
        "print(f\"El área bajo la curva ROC de KNN TF-IDF es {area_roc_knn_tfidf}\")\n",
        "print(f\"El área bajo la curva ROC de KNN embeddings es {area_roc_knn_embbedings}\")"
      ],
      "id": "57e97a33"
    },
    {
      "cell_type": "code",
      "source": [],
      "metadata": {
        "id": "0NPXMVV0i7zq"
      },
      "id": "0NPXMVV0i7zq",
      "execution_count": null,
      "outputs": []
    },
    {
      "cell_type": "code",
      "source": [],
      "metadata": {
        "id": "X7yiDHTNix_O"
      },
      "id": "X7yiDHTNix_O",
      "execution_count": null,
      "outputs": []
    }
  ],
  "metadata": {
    "accelerator": "TPU",
    "colab": {
      "provenance": [],
      "include_colab_link": true
    },
    "gpuClass": "standard",
    "kernelspec": {
      "display_name": "Python 3",
      "language": "python",
      "name": "python3"
    },
    "language_info": {
      "codemirror_mode": {
        "name": "ipython",
        "version": 3
      },
      "file_extension": ".py",
      "mimetype": "text/x-python",
      "name": "python",
      "nbconvert_exporter": "python",
      "pygments_lexer": "ipython3",
      "version": "3.6.10"
    }
  },
  "nbformat": 4,
  "nbformat_minor": 5
}