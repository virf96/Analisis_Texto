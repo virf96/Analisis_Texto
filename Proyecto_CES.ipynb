{
  "nbformat": 4,
  "nbformat_minor": 0,
  "metadata": {
    "kernelspec": {
      "display_name": "Python 3",
      "language": "python",
      "name": "python3"
    },
    "language_info": {
      "codemirror_mode": {
        "name": "ipython",
        "version": 3
      },
      "file_extension": ".py",
      "mimetype": "text/x-python",
      "name": "python",
      "nbconvert_exporter": "python",
      "pygments_lexer": "ipython3",
      "version": "3.6.9"
    },
    "colab": {
      "name": "Proyecto_CES.ipynb",
      "provenance": [],
      "include_colab_link": true
    }
  },
  "cells": [
    {
      "cell_type": "markdown",
      "metadata": {
        "id": "view-in-github",
        "colab_type": "text"
      },
      "source": [
        "<a href=\"https://colab.research.google.com/github/virf96/Analisis_Texto/blob/master/Proyecto_CES.ipynb\" target=\"_parent\"><img src=\"https://colab.research.google.com/assets/colab-badge.svg\" alt=\"Open In Colab\"/></a>"
      ]
    },
    {
      "cell_type": "code",
      "metadata": {
        "id": "aqssyZfXz25c"
      },
      "source": [
        "import pandas as pd\n",
        "import numpy as np"
      ],
      "execution_count": null,
      "outputs": []
    },
    {
      "cell_type": "markdown",
      "metadata": {
        "id": "4z0vlq7Lz25q"
      },
      "source": [
        "# Cargamos data\n",
        "\n",
        "## Información de 01/01/20-29/09/20\n"
      ]
    },
    {
      "cell_type": "code",
      "metadata": {
        "id": "ZDmC0hF2z25s"
      },
      "source": [
        "data1=pd.read_csv(\"respuestas_isa_010520_310520.csv\",encoding='latin-1')\n",
        "data2=pd.read_csv(\"respuestas_isa_010620_300620.csv\",encoding='latin-1')\n",
        "data3=pd.read_csv(\"respuestas_isa_010720_310720.csv\",encoding='latin-1')\n",
        "data4=pd.read_csv(\"respuestas_isa_010820_310820.csv\",encoding='latin-1')\n",
        "data5=pd.read_csv(\"respuestas_isa_010920_290920.csv\",encoding='latin-1')\n",
        "data6=pd.read_csv(\"respuestas_isa_020220_020320.csv\",encoding='latin-1')\n",
        "data7=pd.read_csv(\"respuestas_isa_030320_030420.csv\",encoding='latin-1')\n",
        "data8=pd.read_csv(\"respuestas_isa_040420_300420.csv\",encoding='latin-1')\n",
        "data9=pd.read_csv(\"respuestas_isa_090120_010220.csv\",encoding='latin-1')"
      ],
      "execution_count": null,
      "outputs": []
    },
    {
      "cell_type": "code",
      "metadata": {
        "id": "OIOE79GUz254"
      },
      "source": [
        "data1 = data1.rename(columns={'main_score_scale_OSAT':'bp_main_score_scale'})\n",
        "data2 = data2.rename(columns={'main_score_scale_OSAT':'bp_main_score_scale'})\n",
        "data3 = data3.rename(columns={'main_score_scale_OSAT':'bp_main_score_scale'})\n",
        "data4 = data4.rename(columns={'main_score_scale_OSAT':'bp_main_score_scale'})\n",
        "data5 = data5.rename(columns={'main_score_scale_OSAT':'bp_main_score_scale'})\n",
        "\n",
        "data1 = data1.rename(columns={'global_NPS_scale11':'coppel_global_ltr_scale11'})\n",
        "data2 = data2.rename(columns={'global_NPS_scale11':'coppel_global_ltr_scale11'})\n",
        "data3 = data3.rename(columns={'global_NPS_scale11':'coppel_global_ltr_scale11'})\n",
        "data4 = data4.rename(columns={'global_NPS_scale11':'coppel_global_ltr_scale11'})\n",
        "data5 = data5.rename(columns={'global_NPS_scale11':'coppel_global_ltr_scale11'})"
      ],
      "execution_count": null,
      "outputs": []
    },
    {
      "cell_type": "code",
      "metadata": {
        "id": "BQYXRsCTz26B",
        "outputId": "16d1ca86-c760-4310-a99e-f57e62722876"
      },
      "source": [
        "print('Nombres de columnas 1',data1.columns)\n",
        "print('Nombres de columnas 2',data2.columns)\n",
        "print('Nombres de columnas 3',data3.columns)\n",
        "print('Nombres de columnas 4',data4.columns)\n",
        "print('Nombres de columnas 5',data5.columns)\n",
        "print('Nombres de columnas 6',data6.columns)\n",
        "print('Nombres de columnas 7',data7.columns)\n",
        "print('Nombres de columnas 8',data8.columns)\n",
        "print('Nombres de columnas 9',data9.columns)"
      ],
      "execution_count": null,
      "outputs": [
        {
          "output_type": "stream",
          "text": [
            "Nombres de columnas 1 Index(['FECHA_DE_RESPUESTA', 'Fecha', 'unitid', 'Región',\n",
            "       'coppel_global_org_gerencia_comercial_txt', 'coppel_afore_zona',\n",
            "       'CENTRO_2', 'coppel_categoria_areas_txt', 'bp_main_score_scale',\n",
            "       'coppel_global_amabilidad_scale11', 'coppel_global_ltr_scale11',\n",
            "       'Satisfaccion_general', 'Comentario_adicional', 'alert_type',\n",
            "       'surveyid'],\n",
            "      dtype='object')\n",
            "Nombres de columnas 2 Index(['FECHA_DE_RESPUESTA', 'Fecha', 'unitid', 'Región',\n",
            "       'coppel_global_org_gerencia_comercial_txt', 'coppel_afore_zona',\n",
            "       'CENTRO_2', 'coppel_categoria_areas_txt', 'bp_main_score_scale',\n",
            "       'coppel_global_amabilidad_scale11', 'coppel_global_ltr_scale11',\n",
            "       'Satisfaccion_general', 'Comentario_adicional', 'alert_type',\n",
            "       'surveyid'],\n",
            "      dtype='object')\n",
            "Nombres de columnas 3 Index(['FECHA_DE_RESPUESTA', 'Fecha', 'unitid', 'Región',\n",
            "       'coppel_global_org_gerencia_comercial_txt', 'coppel_afore_zona',\n",
            "       'CENTRO_2', 'coppel_categoria_areas_txt', 'bp_main_score_scale',\n",
            "       'coppel_global_amabilidad_scale11', 'coppel_global_ltr_scale11',\n",
            "       'Satisfaccion_general', 'Comentario_adicional', 'alert_type',\n",
            "       'surveyid'],\n",
            "      dtype='object')\n",
            "Nombres de columnas 4 Index(['FECHA_DE_RESPUESTA', 'Fecha', 'unitid', 'Región',\n",
            "       'coppel_global_org_gerencia_comercial_txt', 'coppel_afore_zona',\n",
            "       'CENTRO_2', 'coppel_categoria_areas_txt', 'bp_main_score_scale',\n",
            "       'coppel_global_amabilidad_scale11', 'coppel_global_ltr_scale11',\n",
            "       'Satisfaccion_general', 'Comentario_adicional', 'alert_type',\n",
            "       'surveyid'],\n",
            "      dtype='object')\n",
            "Nombres de columnas 5 Index(['FECHA_DE_RESPUESTA', 'Fecha', 'unitid', 'Región',\n",
            "       'coppel_global_org_gerencia_comercial_txt', 'coppel_afore_zona',\n",
            "       'CENTRO_2', 'coppel_categoria_areas_txt', 'bp_main_score_scale',\n",
            "       'coppel_global_amabilidad_scale11', 'coppel_global_ltr_scale11',\n",
            "       'Satisfaccion_general', 'Comentario_adicional', 'alert_type',\n",
            "       'surveyid'],\n",
            "      dtype='object')\n",
            "Nombres de columnas 6 Index(['FECHA_DE_RESPUESTA', 'Fecha', 'unitid', 'Región',\n",
            "       'coppel_global_org_gerencia_comercial_txt', 'coppel_afore_zona',\n",
            "       'CENTRO_2', 'coppel_categoria_areas_txt', 'bp_main_score_scale',\n",
            "       'coppel_global_amabilidad_scale11', 'coppel_global_ltr_scale11',\n",
            "       'Satisfaccion_general', 'Comentario_adicional', 'alert_type',\n",
            "       'surveyid'],\n",
            "      dtype='object')\n",
            "Nombres de columnas 7 Index(['FECHA_DE_RESPUESTA', 'Fecha', 'unitid', 'Región',\n",
            "       'coppel_global_org_gerencia_comercial_txt', 'coppel_afore_zona',\n",
            "       'CENTRO_2', 'coppel_categoria_areas_txt', 'bp_main_score_scale',\n",
            "       'coppel_global_amabilidad_scale11', 'coppel_global_ltr_scale11',\n",
            "       'Satisfaccion_general', 'Comentario_adicional', 'alert_type',\n",
            "       'surveyid'],\n",
            "      dtype='object')\n",
            "Nombres de columnas 8 Index(['FECHA_DE_RESPUESTA', 'Fecha', 'unitid', 'Región',\n",
            "       'coppel_global_org_gerencia_comercial_txt', 'coppel_afore_zona',\n",
            "       'CENTRO_2', 'coppel_categoria_areas_txt', 'bp_main_score_scale',\n",
            "       'coppel_global_amabilidad_scale11', 'coppel_global_ltr_scale11',\n",
            "       'Satisfaccion_general', 'Comentario_adicional', 'alert_type',\n",
            "       'surveyid'],\n",
            "      dtype='object')\n",
            "Nombres de columnas 9 Index(['FECHA_DE_RESPUESTA', 'Fecha', 'unitid', 'Región',\n",
            "       'coppel_global_org_gerencia_comercial_txt', 'coppel_afore_zona',\n",
            "       'CENTRO_2', 'coppel_categoria_areas_txt', 'bp_main_score_scale',\n",
            "       'coppel_global_amabilidad_scale11', 'coppel_global_ltr_scale11',\n",
            "       'Satisfaccion_general', 'Comentario_adicional', 'alert_type',\n",
            "       'surveyid'],\n",
            "      dtype='object')\n"
          ],
          "name": "stdout"
        }
      ]
    },
    {
      "cell_type": "code",
      "metadata": {
        "id": "TH_isOWAz26K"
      },
      "source": [
        "data=pd.concat([data1,data2,data3,data4,data5,data6,data7,data8,data9])"
      ],
      "execution_count": null,
      "outputs": []
    },
    {
      "cell_type": "code",
      "metadata": {
        "id": "TjrUEYUwz26S",
        "outputId": "e37758bd-c4b8-4a90-c0e5-02e4c979312e"
      },
      "source": [
        "data.info()"
      ],
      "execution_count": null,
      "outputs": [
        {
          "output_type": "stream",
          "text": [
            "<class 'pandas.core.frame.DataFrame'>\n",
            "Int64Index: 772962 entries, 0 to 66641\n",
            "Data columns (total 15 columns):\n",
            " #   Column                                    Non-Null Count   Dtype  \n",
            "---  ------                                    --------------   -----  \n",
            " 0   FECHA_DE_RESPUESTA                        772962 non-null  object \n",
            " 1   Fecha                                     772962 non-null  object \n",
            " 2   unitid                                    772962 non-null  int64  \n",
            " 3   Región                                    772962 non-null  object \n",
            " 4   coppel_global_org_gerencia_comercial_txt  758131 non-null  object \n",
            " 5   coppel_afore_zona                         608933 non-null  object \n",
            " 6   CENTRO_2                                  772962 non-null  object \n",
            " 7   coppel_categoria_areas_txt                0 non-null       float64\n",
            " 8   bp_main_score_scale                       772961 non-null  float64\n",
            " 9   coppel_global_amabilidad_scale11          564351 non-null  object \n",
            " 10  coppel_global_ltr_scale11                 761497 non-null  float64\n",
            " 11  Satisfaccion_general                      280803 non-null  object \n",
            " 12  Comentario_adicional                      587530 non-null  object \n",
            " 13  alert_type                                23069 non-null   object \n",
            " 14  surveyid                                  772962 non-null  int64  \n",
            "dtypes: float64(3), int64(2), object(10)\n",
            "memory usage: 94.4+ MB\n"
          ],
          "name": "stdout"
        }
      ]
    },
    {
      "cell_type": "markdown",
      "metadata": {
        "id": "8IwP8v23z26a"
      },
      "source": [
        "## Tabla"
      ]
    },
    {
      "cell_type": "code",
      "metadata": {
        "id": "iTxcnAAyz26c",
        "outputId": "8be0cf4e-fb99-4d55-cece-6c4c59872fa1"
      },
      "source": [
        "data.head()"
      ],
      "execution_count": null,
      "outputs": [
        {
          "output_type": "execute_result",
          "data": {
            "text/html": [
              "<div>\n",
              "<style scoped>\n",
              "    .dataframe tbody tr th:only-of-type {\n",
              "        vertical-align: middle;\n",
              "    }\n",
              "\n",
              "    .dataframe tbody tr th {\n",
              "        vertical-align: top;\n",
              "    }\n",
              "\n",
              "    .dataframe thead th {\n",
              "        text-align: right;\n",
              "    }\n",
              "</style>\n",
              "<table border=\"1\" class=\"dataframe\">\n",
              "  <thead>\n",
              "    <tr style=\"text-align: right;\">\n",
              "      <th></th>\n",
              "      <th>FECHA_DE_RESPUESTA</th>\n",
              "      <th>Fecha</th>\n",
              "      <th>unitid</th>\n",
              "      <th>Región</th>\n",
              "      <th>coppel_global_org_gerencia_comercial_txt</th>\n",
              "      <th>coppel_afore_zona</th>\n",
              "      <th>CENTRO_2</th>\n",
              "      <th>coppel_categoria_areas_txt</th>\n",
              "      <th>bp_main_score_scale</th>\n",
              "      <th>coppel_global_amabilidad_scale11</th>\n",
              "      <th>coppel_global_ltr_scale11</th>\n",
              "      <th>Satisfaccion_general</th>\n",
              "      <th>Comentario_adicional</th>\n",
              "      <th>alert_type</th>\n",
              "      <th>surveyid</th>\n",
              "    </tr>\n",
              "  </thead>\n",
              "  <tbody>\n",
              "    <tr>\n",
              "      <th>0</th>\n",
              "      <td>31-05-2020 23:59:26</td>\n",
              "      <td>31/5/2020</td>\n",
              "      <td>75</td>\n",
              "      <td>Mexicali</td>\n",
              "      <td>Baja Norte</td>\n",
              "      <td>MXLI</td>\n",
              "      <td>Cajero Automático</td>\n",
              "      <td>NaN</td>\n",
              "      <td>10.0</td>\n",
              "      <td>NaN</td>\n",
              "      <td>10.0</td>\n",
              "      <td>el cajero me atendio muy bien</td>\n",
              "      <td>NaN</td>\n",
              "      <td>NaN</td>\n",
              "      <td>100448098</td>\n",
              "    </tr>\n",
              "    <tr>\n",
              "      <th>1</th>\n",
              "      <td>31-05-2020 23:54:48</td>\n",
              "      <td>31/5/2020</td>\n",
              "      <td>244</td>\n",
              "      <td>Guadalajara II</td>\n",
              "      <td>Occidente</td>\n",
              "      <td>TNLA</td>\n",
              "      <td>Promotoría</td>\n",
              "      <td>NaN</td>\n",
              "      <td>10.0</td>\n",
              "      <td>10</td>\n",
              "      <td>8.0</td>\n",
              "      <td>NaN</td>\n",
              "      <td>Fue Muy amable</td>\n",
              "      <td>NaN</td>\n",
              "      <td>98086546</td>\n",
              "    </tr>\n",
              "    <tr>\n",
              "      <th>2</th>\n",
              "      <td>31-05-2020 23:54:41</td>\n",
              "      <td>31/5/2020</td>\n",
              "      <td>748</td>\n",
              "      <td>Veracruz</td>\n",
              "      <td>Sureste</td>\n",
              "      <td>VRCZ II</td>\n",
              "      <td>Cajero Automático</td>\n",
              "      <td>NaN</td>\n",
              "      <td>10.0</td>\n",
              "      <td>NaN</td>\n",
              "      <td>10.0</td>\n",
              "      <td>NaN</td>\n",
              "      <td>Es más rápido y fácil retirar dinero</td>\n",
              "      <td>NaN</td>\n",
              "      <td>100007957</td>\n",
              "    </tr>\n",
              "    <tr>\n",
              "      <th>3</th>\n",
              "      <td>31-05-2020 23:54:07</td>\n",
              "      <td>31/5/2020</td>\n",
              "      <td>6507</td>\n",
              "      <td>San Luis Potosi</td>\n",
              "      <td>Bajio</td>\n",
              "      <td>SNLP</td>\n",
              "      <td>Ventanilla</td>\n",
              "      <td>NaN</td>\n",
              "      <td>10.0</td>\n",
              "      <td>10</td>\n",
              "      <td>10.0</td>\n",
              "      <td>Excelente servicio</td>\n",
              "      <td>Rapidez</td>\n",
              "      <td>NaN</td>\n",
              "      <td>99841042</td>\n",
              "    </tr>\n",
              "    <tr>\n",
              "      <th>4</th>\n",
              "      <td>31-05-2020 23:47:30</td>\n",
              "      <td>31/5/2020</td>\n",
              "      <td>554</td>\n",
              "      <td>Los Mochis</td>\n",
              "      <td>Noroeste</td>\n",
              "      <td>LMCH</td>\n",
              "      <td>Ventanilla</td>\n",
              "      <td>NaN</td>\n",
              "      <td>10.0</td>\n",
              "      <td>10</td>\n",
              "      <td>10.0</td>\n",
              "      <td>Excelente trabajó</td>\n",
              "      <td>Bien trato Trabajo rápido Amabilidad</td>\n",
              "      <td>NaN</td>\n",
              "      <td>98116715</td>\n",
              "    </tr>\n",
              "  </tbody>\n",
              "</table>\n",
              "</div>"
            ],
            "text/plain": [
              "    FECHA_DE_RESPUESTA      Fecha  unitid           Región  \\\n",
              "0  31-05-2020 23:59:26  31/5/2020      75         Mexicali   \n",
              "1  31-05-2020 23:54:48  31/5/2020     244   Guadalajara II   \n",
              "2  31-05-2020 23:54:41  31/5/2020     748         Veracruz   \n",
              "3  31-05-2020 23:54:07  31/5/2020    6507  San Luis Potosi   \n",
              "4  31-05-2020 23:47:30  31/5/2020     554       Los Mochis   \n",
              "\n",
              "  coppel_global_org_gerencia_comercial_txt coppel_afore_zona  \\\n",
              "0                               Baja Norte              MXLI   \n",
              "1                                Occidente              TNLA   \n",
              "2                                  Sureste           VRCZ II   \n",
              "3                                    Bajio              SNLP   \n",
              "4                                 Noroeste              LMCH   \n",
              "\n",
              "            CENTRO_2  coppel_categoria_areas_txt  bp_main_score_scale  \\\n",
              "0  Cajero Automático                         NaN                 10.0   \n",
              "1         Promotoría                         NaN                 10.0   \n",
              "2  Cajero Automático                         NaN                 10.0   \n",
              "3         Ventanilla                         NaN                 10.0   \n",
              "4         Ventanilla                         NaN                 10.0   \n",
              "\n",
              "  coppel_global_amabilidad_scale11  coppel_global_ltr_scale11  \\\n",
              "0                              NaN                       10.0   \n",
              "1                               10                        8.0   \n",
              "2                              NaN                       10.0   \n",
              "3                               10                       10.0   \n",
              "4                               10                       10.0   \n",
              "\n",
              "            Satisfaccion_general                  Comentario_adicional  \\\n",
              "0  el cajero me atendio muy bien                                   NaN   \n",
              "1                            NaN                        Fue Muy amable   \n",
              "2                            NaN  Es más rápido y fácil retirar dinero   \n",
              "3            Excelente servicio                                Rapidez   \n",
              "4             Excelente trabajó   Bien trato Trabajo rápido Amabilidad   \n",
              "\n",
              "  alert_type   surveyid  \n",
              "0        NaN  100448098  \n",
              "1        NaN   98086546  \n",
              "2        NaN  100007957  \n",
              "3        NaN   99841042  \n",
              "4        NaN   98116715  "
            ]
          },
          "metadata": {
            "tags": []
          },
          "execution_count": 1047
        }
      ]
    },
    {
      "cell_type": "markdown",
      "metadata": {
        "id": "lg8uTKN5z26i"
      },
      "source": [
        "## Dimensiones de la tabla"
      ]
    },
    {
      "cell_type": "code",
      "metadata": {
        "id": "ehfvWU_Kz26j",
        "outputId": "3dc89f13-953c-4bce-9ae1-96a08cbddfa9"
      },
      "source": [
        "print('Tamaño del dataset',len(data))"
      ],
      "execution_count": null,
      "outputs": [
        {
          "output_type": "stream",
          "text": [
            "Tamaño del dataset 772962\n"
          ],
          "name": "stdout"
        }
      ]
    },
    {
      "cell_type": "code",
      "metadata": {
        "id": "8aUv7Lpbz26p"
      },
      "source": [
        "data['Fecha'] = pd.to_datetime(data.Fecha, dayfirst = True)"
      ],
      "execution_count": null,
      "outputs": []
    },
    {
      "cell_type": "markdown",
      "metadata": {
        "id": "LitVdWX5z26w"
      },
      "source": [
        "## Validamos el horizante temporal"
      ]
    },
    {
      "cell_type": "code",
      "metadata": {
        "id": "kHCwh_ygz26x"
      },
      "source": [
        "data=data.sort_values([\"Fecha\"])"
      ],
      "execution_count": null,
      "outputs": []
    },
    {
      "cell_type": "code",
      "metadata": {
        "id": "UlUG629jz264",
        "outputId": "3d42f8b7-3a7a-4c89-f652-a6146975879b"
      },
      "source": [
        "data.head()"
      ],
      "execution_count": null,
      "outputs": [
        {
          "output_type": "execute_result",
          "data": {
            "text/html": [
              "<div>\n",
              "<style scoped>\n",
              "    .dataframe tbody tr th:only-of-type {\n",
              "        vertical-align: middle;\n",
              "    }\n",
              "\n",
              "    .dataframe tbody tr th {\n",
              "        vertical-align: top;\n",
              "    }\n",
              "\n",
              "    .dataframe thead th {\n",
              "        text-align: right;\n",
              "    }\n",
              "</style>\n",
              "<table border=\"1\" class=\"dataframe\">\n",
              "  <thead>\n",
              "    <tr style=\"text-align: right;\">\n",
              "      <th></th>\n",
              "      <th>FECHA_DE_RESPUESTA</th>\n",
              "      <th>Fecha</th>\n",
              "      <th>unitid</th>\n",
              "      <th>Región</th>\n",
              "      <th>coppel_global_org_gerencia_comercial_txt</th>\n",
              "      <th>coppel_afore_zona</th>\n",
              "      <th>CENTRO_2</th>\n",
              "      <th>coppel_categoria_areas_txt</th>\n",
              "      <th>bp_main_score_scale</th>\n",
              "      <th>coppel_global_amabilidad_scale11</th>\n",
              "      <th>coppel_global_ltr_scale11</th>\n",
              "      <th>Satisfaccion_general</th>\n",
              "      <th>Comentario_adicional</th>\n",
              "      <th>alert_type</th>\n",
              "      <th>surveyid</th>\n",
              "    </tr>\n",
              "  </thead>\n",
              "  <tbody>\n",
              "    <tr>\n",
              "      <th>66641</th>\n",
              "      <td>09/01/2020 15:43</td>\n",
              "      <td>2020-01-09</td>\n",
              "      <td>789</td>\n",
              "      <td>Azcapotzalco</td>\n",
              "      <td>Metropolitana Sur</td>\n",
              "      <td>NaN</td>\n",
              "      <td>Ventanilla</td>\n",
              "      <td>NaN</td>\n",
              "      <td>10.0</td>\n",
              "      <td>10</td>\n",
              "      <td>10.0</td>\n",
              "      <td>NaN</td>\n",
              "      <td>NaN</td>\n",
              "      <td>NaN</td>\n",
              "      <td>51547318</td>\n",
              "    </tr>\n",
              "    <tr>\n",
              "      <th>64116</th>\n",
              "      <td>09/01/2020 18:30</td>\n",
              "      <td>2020-01-09</td>\n",
              "      <td>1416</td>\n",
              "      <td>Ixtapaluca</td>\n",
              "      <td>Centro-Sur</td>\n",
              "      <td>NaN</td>\n",
              "      <td>Ventanilla</td>\n",
              "      <td>NaN</td>\n",
              "      <td>10.0</td>\n",
              "      <td>10</td>\n",
              "      <td>10.0</td>\n",
              "      <td>Un buen servicio al cliente, abre puertas par...</td>\n",
              "      <td>Por la atención en el servicio</td>\n",
              "      <td>NaN</td>\n",
              "      <td>51487001</td>\n",
              "    </tr>\n",
              "    <tr>\n",
              "      <th>64115</th>\n",
              "      <td>09/01/2020 18:30</td>\n",
              "      <td>2020-01-09</td>\n",
              "      <td>1452</td>\n",
              "      <td>Iztapalapa</td>\n",
              "      <td>Metropolitana Sur</td>\n",
              "      <td>NaN</td>\n",
              "      <td>Ventanilla</td>\n",
              "      <td>NaN</td>\n",
              "      <td>7.0</td>\n",
              "      <td>5</td>\n",
              "      <td>7.0</td>\n",
              "      <td>NaN</td>\n",
              "      <td>El trato de los del personal tan despersonali...</td>\n",
              "      <td>NaN</td>\n",
              "      <td>51335557</td>\n",
              "    </tr>\n",
              "    <tr>\n",
              "      <th>64114</th>\n",
              "      <td>09/01/2020 18:30</td>\n",
              "      <td>2020-01-09</td>\n",
              "      <td>401</td>\n",
              "      <td>Tecámac</td>\n",
              "      <td>Metropolitana Norte</td>\n",
              "      <td>NaN</td>\n",
              "      <td>Ventanilla</td>\n",
              "      <td>NaN</td>\n",
              "      <td>10.0</td>\n",
              "      <td>10</td>\n",
              "      <td>10.0</td>\n",
              "      <td>NaN</td>\n",
              "      <td>Excelente servicio y atención.</td>\n",
              "      <td>NaN</td>\n",
              "      <td>51810780</td>\n",
              "    </tr>\n",
              "    <tr>\n",
              "      <th>64113</th>\n",
              "      <td>09/01/2020 18:30</td>\n",
              "      <td>2020-01-09</td>\n",
              "      <td>1322</td>\n",
              "      <td>Los Mochis</td>\n",
              "      <td>Noroeste</td>\n",
              "      <td>NaN</td>\n",
              "      <td>Ventanilla</td>\n",
              "      <td>NaN</td>\n",
              "      <td>8.0</td>\n",
              "      <td>10</td>\n",
              "      <td>9.0</td>\n",
              "      <td>PONER EN FUNCIONAMIENTO MAS VENTANILLAS.</td>\n",
              "      <td>EL TIEMPO DE ESPERA EN OCASIONES ES TARDADO Y...</td>\n",
              "      <td>NaN</td>\n",
              "      <td>51472546</td>\n",
              "    </tr>\n",
              "  </tbody>\n",
              "</table>\n",
              "</div>"
            ],
            "text/plain": [
              "      FECHA_DE_RESPUESTA      Fecha  unitid        Región  \\\n",
              "66641   09/01/2020 15:43 2020-01-09     789  Azcapotzalco   \n",
              "64116   09/01/2020 18:30 2020-01-09    1416    Ixtapaluca   \n",
              "64115   09/01/2020 18:30 2020-01-09    1452    Iztapalapa   \n",
              "64114   09/01/2020 18:30 2020-01-09     401       Tecámac   \n",
              "64113   09/01/2020 18:30 2020-01-09    1322    Los Mochis   \n",
              "\n",
              "      coppel_global_org_gerencia_comercial_txt coppel_afore_zona    CENTRO_2  \\\n",
              "66641                        Metropolitana Sur               NaN  Ventanilla   \n",
              "64116                               Centro-Sur               NaN  Ventanilla   \n",
              "64115                        Metropolitana Sur               NaN  Ventanilla   \n",
              "64114                      Metropolitana Norte               NaN  Ventanilla   \n",
              "64113                                 Noroeste               NaN  Ventanilla   \n",
              "\n",
              "       coppel_categoria_areas_txt  bp_main_score_scale  \\\n",
              "66641                         NaN                 10.0   \n",
              "64116                         NaN                 10.0   \n",
              "64115                         NaN                  7.0   \n",
              "64114                         NaN                 10.0   \n",
              "64113                         NaN                  8.0   \n",
              "\n",
              "      coppel_global_amabilidad_scale11  coppel_global_ltr_scale11  \\\n",
              "66641                               10                       10.0   \n",
              "64116                               10                       10.0   \n",
              "64115                                5                        7.0   \n",
              "64114                               10                       10.0   \n",
              "64113                               10                        9.0   \n",
              "\n",
              "                                    Satisfaccion_general  \\\n",
              "66641                                                NaN   \n",
              "64116   Un buen servicio al cliente, abre puertas par...   \n",
              "64115                                                NaN   \n",
              "64114                                                NaN   \n",
              "64113          PONER EN FUNCIONAMIENTO MAS VENTANILLAS.    \n",
              "\n",
              "                                    Comentario_adicional alert_type  surveyid  \n",
              "66641                                                NaN        NaN  51547318  \n",
              "64116                     Por la atención en el servicio        NaN  51487001  \n",
              "64115   El trato de los del personal tan despersonali...        NaN  51335557  \n",
              "64114                     Excelente servicio y atención.        NaN  51810780  \n",
              "64113   EL TIEMPO DE ESPERA EN OCASIONES ES TARDADO Y...        NaN  51472546  "
            ]
          },
          "metadata": {
            "tags": []
          },
          "execution_count": 1051
        }
      ]
    },
    {
      "cell_type": "code",
      "metadata": {
        "id": "U5hf_xJxz26_",
        "outputId": "34f4d321-4ee0-411d-9b0d-c3c67e6555a4"
      },
      "source": [
        "data.tail()"
      ],
      "execution_count": null,
      "outputs": [
        {
          "output_type": "execute_result",
          "data": {
            "text/html": [
              "<div>\n",
              "<style scoped>\n",
              "    .dataframe tbody tr th:only-of-type {\n",
              "        vertical-align: middle;\n",
              "    }\n",
              "\n",
              "    .dataframe tbody tr th {\n",
              "        vertical-align: top;\n",
              "    }\n",
              "\n",
              "    .dataframe thead th {\n",
              "        text-align: right;\n",
              "    }\n",
              "</style>\n",
              "<table border=\"1\" class=\"dataframe\">\n",
              "  <thead>\n",
              "    <tr style=\"text-align: right;\">\n",
              "      <th></th>\n",
              "      <th>FECHA_DE_RESPUESTA</th>\n",
              "      <th>Fecha</th>\n",
              "      <th>unitid</th>\n",
              "      <th>Región</th>\n",
              "      <th>coppel_global_org_gerencia_comercial_txt</th>\n",
              "      <th>coppel_afore_zona</th>\n",
              "      <th>CENTRO_2</th>\n",
              "      <th>coppel_categoria_areas_txt</th>\n",
              "      <th>bp_main_score_scale</th>\n",
              "      <th>coppel_global_amabilidad_scale11</th>\n",
              "      <th>coppel_global_ltr_scale11</th>\n",
              "      <th>Satisfaccion_general</th>\n",
              "      <th>Comentario_adicional</th>\n",
              "      <th>alert_type</th>\n",
              "      <th>surveyid</th>\n",
              "    </tr>\n",
              "  </thead>\n",
              "  <tbody>\n",
              "    <tr>\n",
              "      <th>2366</th>\n",
              "      <td>29-09-2020 07:33:35</td>\n",
              "      <td>2020-09-29</td>\n",
              "      <td>123</td>\n",
              "      <td>Monterrey II</td>\n",
              "      <td>Noreste</td>\n",
              "      <td>MTRY II</td>\n",
              "      <td>Cajero Automático</td>\n",
              "      <td>NaN</td>\n",
              "      <td>9.0</td>\n",
              "      <td>NaN</td>\n",
              "      <td>10.0</td>\n",
              "      <td>NaN</td>\n",
              "      <td>NaN</td>\n",
              "      <td>NaN</td>\n",
              "      <td>158817966</td>\n",
              "    </tr>\n",
              "    <tr>\n",
              "      <th>2365</th>\n",
              "      <td>29-09-2020 07:33:59</td>\n",
              "      <td>2020-09-29</td>\n",
              "      <td>6543</td>\n",
              "      <td>Mérida</td>\n",
              "      <td>Peninsula</td>\n",
              "      <td>MRDA</td>\n",
              "      <td>Promotoría</td>\n",
              "      <td>NaN</td>\n",
              "      <td>10.0</td>\n",
              "      <td>10</td>\n",
              "      <td>10.0</td>\n",
              "      <td>NaN</td>\n",
              "      <td>NaN</td>\n",
              "      <td>NaN</td>\n",
              "      <td>160271149</td>\n",
              "    </tr>\n",
              "    <tr>\n",
              "      <th>2364</th>\n",
              "      <td>29-09-2020 07:34:53</td>\n",
              "      <td>2020-09-29</td>\n",
              "      <td>881</td>\n",
              "      <td>Tecámac</td>\n",
              "      <td>Metropolitana Norte</td>\n",
              "      <td>TCMC</td>\n",
              "      <td>Ventanilla</td>\n",
              "      <td>NaN</td>\n",
              "      <td>9.0</td>\n",
              "      <td>8</td>\n",
              "      <td>9.0</td>\n",
              "      <td>No</td>\n",
              "      <td>Me parece buena atencion</td>\n",
              "      <td>NaN</td>\n",
              "      <td>159953943</td>\n",
              "    </tr>\n",
              "    <tr>\n",
              "      <th>2371</th>\n",
              "      <td>29-09-2020 07:32:10</td>\n",
              "      <td>2020-09-29</td>\n",
              "      <td>1364</td>\n",
              "      <td>San Luis Potosi</td>\n",
              "      <td>Bajio</td>\n",
              "      <td>SNLP</td>\n",
              "      <td>Ventanilla</td>\n",
              "      <td>NaN</td>\n",
              "      <td>10.0</td>\n",
              "      <td>10</td>\n",
              "      <td>10.0</td>\n",
              "      <td>NaN</td>\n",
              "      <td>Siempre amables y atentos</td>\n",
              "      <td>NaN</td>\n",
              "      <td>159985503</td>\n",
              "    </tr>\n",
              "    <tr>\n",
              "      <th>717</th>\n",
              "      <td>29-09-2020 13:49:43</td>\n",
              "      <td>2020-09-29</td>\n",
              "      <td>960</td>\n",
              "      <td>Hermosillo</td>\n",
              "      <td>Baja Norte</td>\n",
              "      <td>HLLO</td>\n",
              "      <td>Cajero Automático</td>\n",
              "      <td>NaN</td>\n",
              "      <td>10.0</td>\n",
              "      <td>NaN</td>\n",
              "      <td>10.0</td>\n",
              "      <td>NaN</td>\n",
              "      <td>Limpio, funciona al 100</td>\n",
              "      <td>NaN</td>\n",
              "      <td>162120632</td>\n",
              "    </tr>\n",
              "  </tbody>\n",
              "</table>\n",
              "</div>"
            ],
            "text/plain": [
              "       FECHA_DE_RESPUESTA      Fecha  unitid           Región  \\\n",
              "2366  29-09-2020 07:33:35 2020-09-29     123     Monterrey II   \n",
              "2365  29-09-2020 07:33:59 2020-09-29    6543           Mérida   \n",
              "2364  29-09-2020 07:34:53 2020-09-29     881          Tecámac   \n",
              "2371  29-09-2020 07:32:10 2020-09-29    1364  San Luis Potosi   \n",
              "717   29-09-2020 13:49:43 2020-09-29     960       Hermosillo   \n",
              "\n",
              "     coppel_global_org_gerencia_comercial_txt coppel_afore_zona  \\\n",
              "2366                                  Noreste           MTRY II   \n",
              "2365                                Peninsula              MRDA   \n",
              "2364                      Metropolitana Norte              TCMC   \n",
              "2371                                    Bajio              SNLP   \n",
              "717                                Baja Norte              HLLO   \n",
              "\n",
              "               CENTRO_2  coppel_categoria_areas_txt  bp_main_score_scale  \\\n",
              "2366  Cajero Automático                         NaN                  9.0   \n",
              "2365         Promotoría                         NaN                 10.0   \n",
              "2364         Ventanilla                         NaN                  9.0   \n",
              "2371         Ventanilla                         NaN                 10.0   \n",
              "717   Cajero Automático                         NaN                 10.0   \n",
              "\n",
              "     coppel_global_amabilidad_scale11  coppel_global_ltr_scale11  \\\n",
              "2366                              NaN                       10.0   \n",
              "2365                               10                       10.0   \n",
              "2364                                8                        9.0   \n",
              "2371                               10                       10.0   \n",
              "717                               NaN                       10.0   \n",
              "\n",
              "     Satisfaccion_general       Comentario_adicional alert_type   surveyid  \n",
              "2366                  NaN                        NaN        NaN  158817966  \n",
              "2365                  NaN                        NaN        NaN  160271149  \n",
              "2364                  No    Me parece buena atencion        NaN  159953943  \n",
              "2371                  NaN  Siempre amables y atentos        NaN  159985503  \n",
              "717                   NaN    Limpio, funciona al 100        NaN  162120632  "
            ]
          },
          "metadata": {
            "tags": []
          },
          "execution_count": 1052
        }
      ]
    },
    {
      "cell_type": "code",
      "metadata": {
        "id": "V5HQ24daz27G",
        "outputId": "3a76f71e-5cba-4098-9fdb-8ac3aa07cecf"
      },
      "source": [
        "import datetime\n",
        "data['Fecha'].dt.month.unique()"
      ],
      "execution_count": null,
      "outputs": [
        {
          "output_type": "execute_result",
          "data": {
            "text/plain": [
              "array([1, 2, 3, 4, 5, 6, 7, 8, 9])"
            ]
          },
          "metadata": {
            "tags": []
          },
          "execution_count": 1053
        }
      ]
    },
    {
      "cell_type": "markdown",
      "metadata": {
        "id": "MVtmm4Acz27M"
      },
      "source": [
        "## Participación de respuestas de cada mes con respecto del total\n",
        "\n",
        "### La tasa de respuesta en promedio es de 4.59% en el periodo Enero-Septiembre 2020"
      ]
    },
    {
      "cell_type": "code",
      "metadata": {
        "id": "P7vE_b32z27N",
        "outputId": "71d678b5-317f-4f56-df46-869cb89fcade"
      },
      "source": [
        "data.groupby([data['Fecha'].dt.month])[\"Fecha\"].count()/len(data.Fecha)"
      ],
      "execution_count": null,
      "outputs": [
        {
          "output_type": "execute_result",
          "data": {
            "text/plain": [
              "Fecha\n",
              "1    0.083519\n",
              "2    0.053330\n",
              "3    0.062687\n",
              "4    0.067553\n",
              "5    0.111650\n",
              "6    0.169174\n",
              "7    0.152786\n",
              "8    0.158931\n",
              "9    0.140369\n",
              "Name: Fecha, dtype: float64"
            ]
          },
          "metadata": {
            "tags": []
          },
          "execution_count": 1054
        }
      ]
    },
    {
      "cell_type": "code",
      "metadata": {
        "id": "1O_dUpqfz27U",
        "outputId": "f1a740ed-e168-4676-db5e-e6d89d3ca069"
      },
      "source": [
        "data.groupby([data['Fecha'].dt.month])[\"Fecha\"].count().plot(kind='pie')"
      ],
      "execution_count": null,
      "outputs": [
        {
          "output_type": "execute_result",
          "data": {
            "text/plain": [
              "<matplotlib.axes._subplots.AxesSubplot at 0x7f275b2a0240>"
            ]
          },
          "metadata": {
            "tags": []
          },
          "execution_count": 1055
        },
        {
          "output_type": "display_data",
          "data": {
            "image/png": "[encoded data removed]",
            "text/plain": [
              "<Figure size 432x288 with 1 Axes>"
            ]
          },
          "metadata": {
            "tags": []
          }
        }
      ]
    },
    {
      "cell_type": "code",
      "metadata": {
        "id": "Q2LECwCCz27b",
        "outputId": "066e990e-90cd-43dd-8e69-1bb78a1df917"
      },
      "source": [
        "fig = data.groupby([data['Fecha'].dt.month])[\"Fecha\"].count().plot.bar()\n",
        "fig.set_title('Distribución de respuestas')\n",
        "fig.set_xlabel('Meses')\n",
        "fig.set_ylabel('Número de respuestas')"
      ],
      "execution_count": null,
      "outputs": [
        {
          "output_type": "execute_result",
          "data": {
            "text/plain": [
              "Text(0, 0.5, 'Número de respuestas')"
            ]
          },
          "metadata": {
            "tags": []
          },
          "execution_count": 1056
        },
        {
          "output_type": "display_data",
          "data": {
            "image/png": "[encoded data removed]",
            "text/plain": [
              "<Figure size 432x288 with 1 Axes>"
            ]
          },
          "metadata": {
            "tags": [],
            "needs_background": "light"
          }
        }
      ]
    },
    {
      "cell_type": "markdown",
      "metadata": {
        "id": "NYzZIZeLz27h"
      },
      "source": [
        "# Datos faltantes"
      ]
    },
    {
      "cell_type": "code",
      "metadata": {
        "scrolled": true,
        "id": "GbzOUZ36z27j",
        "outputId": "fa212106-2eb1-48b8-f8aa-2feb94a42d09"
      },
      "source": [
        "#data.isnull().mean()\n",
        "data.isnull().sum()/len(data)*100"
      ],
      "execution_count": null,
      "outputs": [
        {
          "output_type": "execute_result",
          "data": {
            "text/plain": [
              "FECHA_DE_RESPUESTA                            0.000000\n",
              "Fecha                                         0.000000\n",
              "unitid                                        0.000000\n",
              "Región                                        0.000000\n",
              "coppel_global_org_gerencia_comercial_txt      1.918723\n",
              "coppel_afore_zona                            21.220836\n",
              "CENTRO_2                                      0.000000\n",
              "coppel_categoria_areas_txt                  100.000000\n",
              "bp_main_score_scale                           0.000129\n",
              "coppel_global_amabilidad_scale11             26.988519\n",
              "coppel_global_ltr_scale11                     1.483255\n",
              "Satisfaccion_general                         63.671823\n",
              "Comentario_adicional                         23.989795\n",
              "alert_type                                   97.015507\n",
              "surveyid                                      0.000000\n",
              "dtype: float64"
            ]
          },
          "metadata": {
            "tags": []
          },
          "execution_count": 1057
        }
      ]
    },
    {
      "cell_type": "code",
      "metadata": {
        "id": "vtDn4NUyz27o"
      },
      "source": [
        "import warnings\n",
        "warnings.filterwarnings(\"ignore\")"
      ],
      "execution_count": null,
      "outputs": []
    },
    {
      "cell_type": "markdown",
      "metadata": {
        "id": "FxF1_5ZCz27t"
      },
      "source": [
        "## Datos faltantes en los items :\n",
        "\n",
        "$1.-$ Satisfacción general\n",
        "\n",
        "$2.-$ Comentarios adicionales"
      ]
    },
    {
      "cell_type": "code",
      "metadata": {
        "id": "Vz0szS-2z27u",
        "outputId": "26b6d1c6-0376-43a3-f08d-6d4c2cf11f0e"
      },
      "source": [
        "print('Número de cometarios con NaN en las 2 preguntas',len(data[data['Comentario_adicional'].isnull()*data['Satisfaccion_general'].isnull()]))\n",
        "print('Número de cometarios con NaN en Satisfacción general',len(data[data['Satisfaccion_general'].isnull()*data['Comentario_adicional'].notnull()]))\n",
        "print('Número de cometarios con NaN en Comentario Adicional',len(data[data['Comentario_adicional'].isnull()*data['Satisfaccion_general'].notnull()]))\n",
        "print('Número de cometarios sin NaN',len(data[data['Comentario_adicional'].notnull()*data['Satisfaccion_general'].notnull()]))"
      ],
      "execution_count": null,
      "outputs": [
        {
          "output_type": "stream",
          "text": [
            "Número de cometarios con NaN en las 2 preguntas 164508\n",
            "Número de cometarios con NaN en Satisfacción general 327651\n",
            "Número de cometarios con NaN en Comentario Adicional 20924\n",
            "Número de cometarios sin NaN 259879\n"
          ],
          "name": "stdout"
        }
      ]
    },
    {
      "cell_type": "code",
      "metadata": {
        "id": "O1x03GL7z27z",
        "outputId": "3f7a1bf6-34b0-4bf3-d9c3-e0e604337b17"
      },
      "source": [
        "print('Porcentaje de cometarios con NaN en las 2 preguntas',len(data[data['Comentario_adicional'].isnull()*data['Satisfaccion_general'].isnull()])/len(data))\n",
        "print('Porcentaje de cometarios con NaN en Satisfacción general',len(data[data['Satisfaccion_general'].isnull()*data['Comentario_adicional'].notnull()])/len(data))\n",
        "print('Porcentaje de cometarios con NaN en Comentario Adicional',len(data[data['Comentario_adicional'].isnull()*data['Satisfaccion_general'].notnull()])/len(data))\n",
        "print('Porcentaje de cometarios sin NaN',len(data[data['Comentario_adicional'].notnull()*data['Satisfaccion_general'].notnull()])/len(data))"
      ],
      "execution_count": null,
      "outputs": [
        {
          "output_type": "stream",
          "text": [
            "Porcentaje de cometarios con NaN en las 2 preguntas 0.2128280562304486\n",
            "Porcentaje de cometarios con NaN en Satisfacción general 0.4238901783011325\n",
            "Porcentaje de cometarios con NaN en Comentario Adicional 0.027069894768436225\n",
            "Porcentaje de cometarios sin NaN 0.33621187069998265\n"
          ],
          "name": "stdout"
        }
      ]
    },
    {
      "cell_type": "markdown",
      "metadata": {
        "id": "rZAMEWyaz274"
      },
      "source": [
        "## Puntos de contacto considerados en la tabla"
      ]
    },
    {
      "cell_type": "code",
      "metadata": {
        "id": "rEFS5Jvzz275",
        "outputId": "f2606434-3916-48fe-ef7d-26460c5abab6"
      },
      "source": [
        "data.CENTRO_2.unique()"
      ],
      "execution_count": null,
      "outputs": [
        {
          "output_type": "execute_result",
          "data": {
            "text/plain": [
              "array(['Ventanilla', 'Cajero Automático', 'Promotoría'], dtype=object)"
            ]
          },
          "metadata": {
            "tags": []
          },
          "execution_count": 1061
        }
      ]
    },
    {
      "cell_type": "code",
      "metadata": {
        "id": "Ogf298tDz28A"
      },
      "source": [
        "Cajero_Automatico= data[data['CENTRO_2'] =='Cajero Automático']\n",
        "Ventanilla=data[data['CENTRO_2'] =='Ventanilla']\n",
        "Promotoria=data[data['CENTRO_2'] =='Promotoría']"
      ],
      "execution_count": null,
      "outputs": []
    },
    {
      "cell_type": "markdown",
      "metadata": {
        "id": "YFRztCAFz28E"
      },
      "source": [
        "## NaN de comentarios por punto de contacto"
      ]
    },
    {
      "cell_type": "markdown",
      "metadata": {
        "id": "d1u9zmDCz28F"
      },
      "source": [
        "#### Ventanilla"
      ]
    },
    {
      "cell_type": "code",
      "metadata": {
        "id": "VmRAqfpPz28G",
        "outputId": "78c32de1-f8c0-4376-86cd-3047bb7e84ab"
      },
      "source": [
        "print('Porcentaje de cometarios con NaN en las 2 preguntas',len(Ventanilla[Ventanilla['Comentario_adicional'].isnull()*Ventanilla['Satisfaccion_general'].isnull()])/len(Ventanilla))\n",
        "print('Porcentaje de cometarios con NaN en Satisfacción general',len(Ventanilla[Ventanilla['Satisfaccion_general'].isnull()*Ventanilla['Comentario_adicional'].notnull()])/len(Ventanilla))\n",
        "print('Porcentaje de cometarios con NaN en Comentario Adicional',len(Ventanilla[Ventanilla['Comentario_adicional'].isnull()*Ventanilla['Satisfaccion_general'].notnull()])/len(Ventanilla))\n",
        "print('Porcentaje de cometarios sin NaN',len(Ventanilla[Ventanilla['Comentario_adicional'].notnull()*Ventanilla['Satisfaccion_general'].notnull()])/len(Ventanilla))"
      ],
      "execution_count": null,
      "outputs": [
        {
          "output_type": "stream",
          "text": [
            "Porcentaje de cometarios con NaN en las 2 preguntas 0.22696521378861856\n",
            "Porcentaje de cometarios con NaN en Satisfacción general 0.3897466422626508\n",
            "Porcentaje de cometarios con NaN en Comentario Adicional 0.02959686174146078\n",
            "Porcentaje de cometarios sin NaN 0.3536912822072698\n"
          ],
          "name": "stdout"
        }
      ]
    },
    {
      "cell_type": "markdown",
      "metadata": {
        "id": "hVqJfCyfz28L"
      },
      "source": [
        "#### Promotoría"
      ]
    },
    {
      "cell_type": "code",
      "metadata": {
        "id": "XNnpG6FXz28M",
        "outputId": "55679a92-2dc1-4c4b-95d3-24a64edb8d56"
      },
      "source": [
        "print('Porcentaje de cometarios con NaN en las 2 preguntas',len(Promotoria[Promotoria['Comentario_adicional'].isnull()*Promotoria['Satisfaccion_general'].isnull()])/len(Promotoria))\n",
        "print('Porcentaje de cometarios con NaN en Satisfacción general',len(Promotoria[Promotoria['Satisfaccion_general'].isnull()*Promotoria['Comentario_adicional'].notnull()])/len(Promotoria))\n",
        "print('Porcentaje de cometarios con NaN en Comentario Adicional',len(Promotoria[Promotoria['Comentario_adicional'].isnull()*Promotoria['Satisfaccion_general'].notnull()])/len(Promotoria))\n",
        "print('Porcentaje de cometarios sin NaN',len(Promotoria[Promotoria['Comentario_adicional'].notnull()*Promotoria['Satisfaccion_general'].notnull()])/len(Promotoria))"
      ],
      "execution_count": null,
      "outputs": [
        {
          "output_type": "stream",
          "text": [
            "Porcentaje de cometarios con NaN en las 2 preguntas 0.18536422308503253\n",
            "Porcentaje de cometarios con NaN en Satisfacción general 0.49515312025918595\n",
            "Porcentaje de cometarios con NaN en Comentario Adicional 0.023655858681957267\n",
            "Porcentaje de cometarios sin NaN 0.2958267979738243\n"
          ],
          "name": "stdout"
        }
      ]
    },
    {
      "cell_type": "markdown",
      "metadata": {
        "id": "G16Lnictz28R"
      },
      "source": [
        "#### Cajero Automático"
      ]
    },
    {
      "cell_type": "code",
      "metadata": {
        "id": "jiITS-kmz28S",
        "outputId": "51ca1ad9-1dbc-4cdf-9595-07b99b574faa"
      },
      "source": [
        "print('Porcentaje de cometarios con NaN en las 2 preguntas',len(Cajero_Automatico[Cajero_Automatico['Comentario_adicional'].isnull()*Cajero_Automatico['Satisfaccion_general'].isnull()])/len(Cajero_Automatico))\n",
        "print('Porcentaje de cometarios con NaN en Satisfacción general',len(Cajero_Automatico[Cajero_Automatico['Satisfaccion_general'].isnull()*Cajero_Automatico['Comentario_adicional'].notnull()])/len(Cajero_Automatico))\n",
        "print('Porcentaje de cometarios con NaN en Comentario Adicional',len(Cajero_Automatico[Cajero_Automatico['Comentario_adicional'].isnull()*Cajero_Automatico['Satisfaccion_general'].notnull()])/len(Cajero_Automatico))\n",
        "print('Porcentaje de cometarios sin NaN',len(Cajero_Automatico[Cajero_Automatico['Comentario_adicional'].notnull()*Cajero_Automatico['Satisfaccion_general'].notnull()])/len(Cajero_Automatico))"
      ],
      "execution_count": null,
      "outputs": [
        {
          "output_type": "stream",
          "text": [
            "Porcentaje de cometarios con NaN en las 2 preguntas 0.21257018803037298\n",
            "Porcentaje de cometarios con NaN en Satisfacción general 0.41964706896814086\n",
            "Porcentaje de cometarios con NaN en Comentario Adicional 0.025549203901617558\n",
            "Porcentaje de cometarios sin NaN 0.34223353909986864\n"
          ],
          "name": "stdout"
        }
      ]
    },
    {
      "cell_type": "markdown",
      "metadata": {
        "id": "bkMHDf4qz28W"
      },
      "source": [
        "# Distribución de calificaciones \n"
      ]
    },
    {
      "cell_type": "markdown",
      "metadata": {
        "id": "qVHHXSr8z28W"
      },
      "source": [
        "   ## ISA  01-Ene-20 a 20-Sept-20"
      ]
    },
    {
      "cell_type": "code",
      "metadata": {
        "id": "ze1S0enRz28X",
        "outputId": "5c14b896-370f-49b8-ce00-0a3578a6a808"
      },
      "source": [
        "data.bp_main_score_scale.unique()"
      ],
      "execution_count": null,
      "outputs": [
        {
          "output_type": "execute_result",
          "data": {
            "text/plain": [
              "array([10.,  7.,  8.,  9.,  0.,  2.,  1.,  3.,  5.,  4.,  6., nan])"
            ]
          },
          "metadata": {
            "tags": []
          },
          "execution_count": 1066
        }
      ]
    },
    {
      "cell_type": "code",
      "metadata": {
        "id": "-gSL9Gs4z28c",
        "outputId": "7c7d81c6-5a21-4718-b7d1-a22649e7e829"
      },
      "source": [
        "data['bp_main_score_scale'].value_counts().sort_index()/len(data.bp_main_score_scale)"
      ],
      "execution_count": null,
      "outputs": [
        {
          "output_type": "execute_result",
          "data": {
            "text/plain": [
              "0.0     0.029276\n",
              "1.0     0.008938\n",
              "2.0     0.006821\n",
              "3.0     0.007963\n",
              "4.0     0.006927\n",
              "5.0     0.020233\n",
              "6.0     0.013135\n",
              "7.0     0.028102\n",
              "8.0     0.088932\n",
              "9.0     0.162727\n",
              "10.0    0.626945\n",
              "Name: bp_main_score_scale, dtype: float64"
            ]
          },
          "metadata": {
            "tags": []
          },
          "execution_count": 1067
        }
      ]
    },
    {
      "cell_type": "code",
      "metadata": {
        "id": "v0z8vc9iz28k",
        "outputId": "475137ff-4753-4efc-ed4b-ee4fd5d044fa"
      },
      "source": [
        "data['bp_main_score_scale'].value_counts(True).plot(kind='pie')"
      ],
      "execution_count": null,
      "outputs": [
        {
          "output_type": "execute_result",
          "data": {
            "text/plain": [
              "<matplotlib.axes._subplots.AxesSubplot at 0x7f275e857a58>"
            ]
          },
          "metadata": {
            "tags": []
          },
          "execution_count": 1068
        },
        {
          "output_type": "display_data",
          "data": {
            "image/png": "[encoded data removed]",
            "text/plain": [
              "<Figure size 432x288 with 1 Axes>"
            ]
          },
          "metadata": {
            "tags": []
          }
        }
      ]
    },
    {
      "cell_type": "code",
      "metadata": {
        "id": "XqaO7lhMz28p",
        "outputId": "0d890fa0-b32c-40e4-dc88-da9729e26bf5"
      },
      "source": [
        "#Veamos la distribución de comentarios para SATISFACCIÓN\n",
        "fig = data['bp_main_score_scale'].value_counts().sort_index().plot.bar()\n",
        "fig.set_title('Distribución de calificaciones en general')\n",
        "fig.set_xlabel('Calificaciones')\n",
        "fig.set_ylabel('Número de encuentas')"
      ],
      "execution_count": null,
      "outputs": [
        {
          "output_type": "execute_result",
          "data": {
            "text/plain": [
              "Text(0, 0.5, 'Número de encuentas')"
            ]
          },
          "metadata": {
            "tags": []
          },
          "execution_count": 1069
        },
        {
          "output_type": "display_data",
          "data": {
            "image/png": "[encoded data removed]",
            "text/plain": [
              "<Figure size 432x288 with 1 Axes>"
            ]
          },
          "metadata": {
            "tags": [],
            "needs_background": "light"
          }
        }
      ]
    },
    {
      "cell_type": "markdown",
      "metadata": {
        "id": "6-3E6nBXz28t"
      },
      "source": [
        "### ISA (VENTANILLA, CAJERO AUTOMÁTICO Y PROMOTORÍA)"
      ]
    },
    {
      "cell_type": "code",
      "metadata": {
        "id": "U7dYTqzvz28u",
        "outputId": "0e6e81e5-0761-4791-bc1c-8e4c4c108dc6"
      },
      "source": [
        "print('Ventanilla \\n' ,Ventanilla['bp_main_score_scale'].value_counts().sort_index()/len(Ventanilla.bp_main_score_scale))\n",
        "print('Promotoría \\n',Promotoria['bp_main_score_scale'].value_counts().sort_index()/len(Promotoria.bp_main_score_scale))\n",
        "print('Cajero Automático \\n',Cajero_Automatico['bp_main_score_scale'].value_counts().sort_index()/len(Cajero_Automatico.bp_main_score_scale))"
      ],
      "execution_count": null,
      "outputs": [
        {
          "output_type": "stream",
          "text": [
            "Ventanilla \n",
            " 0.0     0.018814\n",
            "1.0     0.007109\n",
            "2.0     0.006285\n",
            "3.0     0.007526\n",
            "4.0     0.006873\n",
            "5.0     0.019703\n",
            "6.0     0.013240\n",
            "7.0     0.028823\n",
            "8.0     0.092973\n",
            "9.0     0.172880\n",
            "10.0    0.625774\n",
            "Name: bp_main_score_scale, dtype: float64\n",
            "Promotoría \n",
            " 0.0     0.050644\n",
            "1.0     0.013453\n",
            "2.0     0.009005\n",
            "3.0     0.010223\n",
            "4.0     0.008048\n",
            "5.0     0.022391\n",
            "6.0     0.013839\n",
            "7.0     0.028377\n",
            "8.0     0.087007\n",
            "9.0     0.156463\n",
            "10.0    0.600545\n",
            "Name: bp_main_score_scale, dtype: float64\n",
            "Cajero Automático \n",
            " 0.0     0.028435\n",
            "1.0     0.008024\n",
            "2.0     0.005701\n",
            "3.0     0.006579\n",
            "4.0     0.005924\n",
            "5.0     0.019128\n",
            "6.0     0.012239\n",
            "7.0     0.026437\n",
            "8.0     0.083013\n",
            "9.0     0.149268\n",
            "10.0    0.655251\n",
            "Name: bp_main_score_scale, dtype: float64\n"
          ],
          "name": "stdout"
        }
      ]
    },
    {
      "cell_type": "code",
      "metadata": {
        "id": "TjOVXlFjz28y",
        "outputId": "56da9456-a789-4adb-d209-06005885eeea"
      },
      "source": [
        "from matplotlib.pyplot import subplot,figure\n",
        "figure(1)\n",
        "subplot(2,2,1)\n",
        "Ventanilla['bp_main_score_scale'].value_counts(True).plot(kind='pie')\n",
        "\n",
        "subplot(2,2,2)\n",
        "Promotoria['bp_main_score_scale'].value_counts(True).plot(kind='pie')\n",
        "\n",
        "subplot(2,2,3)\n",
        "Cajero_Automatico['bp_main_score_scale'].value_counts(True).plot(kind='pie')"
      ],
      "execution_count": null,
      "outputs": [
        {
          "output_type": "execute_result",
          "data": {
            "text/plain": [
              "<matplotlib.axes._subplots.AxesSubplot at 0x7f275e726e48>"
            ]
          },
          "metadata": {
            "tags": []
          },
          "execution_count": 1071
        },
        {
          "output_type": "display_data",
          "data": {
            "image/png": "[encoded data removed]",
            "text/plain": [
              "<Figure size 432x288 with 3 Axes>"
            ]
          },
          "metadata": {
            "tags": []
          }
        }
      ]
    },
    {
      "cell_type": "code",
      "metadata": {
        "id": "kHuLLgUjz282",
        "outputId": "a4a3c2ab-5310-47b5-cab0-73eb3bf248b0"
      },
      "source": [
        "fig =Ventanilla['bp_main_score_scale'].value_counts().sort_index().plot.bar()\n",
        "fig.set_title('Ventanilla')\n",
        "fig.set_xlabel('Calificaciones ISA')\n",
        "fig.set_ylabel('# de encuentas')"
      ],
      "execution_count": null,
      "outputs": [
        {
          "output_type": "execute_result",
          "data": {
            "text/plain": [
              "Text(0, 0.5, '# de encuentas')"
            ]
          },
          "metadata": {
            "tags": []
          },
          "execution_count": 1072
        },
        {
          "output_type": "display_data",
          "data": {
            "image/png": "[encoded data removed]",
            "text/plain": [
              "<Figure size 432x288 with 1 Axes>"
            ]
          },
          "metadata": {
            "tags": [],
            "needs_background": "light"
          }
        }
      ]
    },
    {
      "cell_type": "code",
      "metadata": {
        "id": "vcmLJeqnz287",
        "outputId": "92a51c02-f578-4ef5-faaa-e1018cf53fc6"
      },
      "source": [
        "fig =Promotoria['bp_main_score_scale'].value_counts().sort_index().plot.bar()\n",
        "fig.set_title('Promotoría')\n",
        "fig.set_xlabel('Calificaciones ISA')\n",
        "fig.set_ylabel('# de encuentas')"
      ],
      "execution_count": null,
      "outputs": [
        {
          "output_type": "execute_result",
          "data": {
            "text/plain": [
              "Text(0, 0.5, '# de encuentas')"
            ]
          },
          "metadata": {
            "tags": []
          },
          "execution_count": 1073
        },
        {
          "output_type": "display_data",
          "data": {
            "image/png": "[encoded data removed]",
            "text/plain": [
              "<Figure size 432x288 with 1 Axes>"
            ]
          },
          "metadata": {
            "tags": [],
            "needs_background": "light"
          }
        }
      ]
    },
    {
      "cell_type": "code",
      "metadata": {
        "id": "fDtvi9Qaz29A",
        "outputId": "fdc7755e-0a36-40ad-f528-6eed74ea2ff4"
      },
      "source": [
        "fig =Cajero_Automatico['bp_main_score_scale'].value_counts().sort_index().plot.bar()\n",
        "fig.set_title('Cajero Automático')\n",
        "fig.set_xlabel('Calificaciones ISA')\n",
        "fig.set_ylabel('# de encuentas')"
      ],
      "execution_count": null,
      "outputs": [
        {
          "output_type": "execute_result",
          "data": {
            "text/plain": [
              "Text(0, 0.5, '# de encuentas')"
            ]
          },
          "metadata": {
            "tags": []
          },
          "execution_count": 1074
        },
        {
          "output_type": "display_data",
          "data": {
            "image/png": "[encoded data removed]",
            "text/plain": [
              "<Figure size 432x288 with 1 Axes>"
            ]
          },
          "metadata": {
            "tags": [],
            "needs_background": "light"
          }
        }
      ]
    },
    {
      "cell_type": "markdown",
      "metadata": {
        "id": "PMmJ6odCz29E"
      },
      "source": [
        "## AMABILIDAD  01-Ene-20 a 20-Sept-20"
      ]
    },
    {
      "cell_type": "code",
      "metadata": {
        "id": "FUDtuiEzz29E",
        "outputId": "dfa0023a-3724-49e5-ed3b-3b43411338e9"
      },
      "source": [
        "data.coppel_global_amabilidad_scale11.unique()"
      ],
      "execution_count": null,
      "outputs": [
        {
          "output_type": "execute_result",
          "data": {
            "text/plain": [
              "array([10.0, 5.0, nan, 9.0, 8.0, 3.0, 2.0, 1.0, 4.0, 7.0, 0.0, 6.0, '10',\n",
              "       '2', '6', '9', '5', '8', '7', '4', '0', '1', '3', 'No aplica'],\n",
              "      dtype=object)"
            ]
          },
          "metadata": {
            "tags": []
          },
          "execution_count": 1075
        }
      ]
    },
    {
      "cell_type": "code",
      "metadata": {
        "id": "iojUy6yEz29H"
      },
      "source": [
        "data['coppel_global_amabilidad_scale11']=data['coppel_global_amabilidad_scale11'].replace('No aplica',np.nan)\n",
        "data['coppel_global_amabilidad_scale11']=data['coppel_global_amabilidad_scale11'].replace('8',8)\n",
        "data['coppel_global_amabilidad_scale11']=data['coppel_global_amabilidad_scale11'].replace('9',9)\n",
        "data['coppel_global_amabilidad_scale11']=data['coppel_global_amabilidad_scale11'].replace('3',3)\n",
        "data['coppel_global_amabilidad_scale11']=data['coppel_global_amabilidad_scale11'].replace('7',7)\n",
        "data['coppel_global_amabilidad_scale11']=data['coppel_global_amabilidad_scale11'].replace('1',1)\n",
        "data['coppel_global_amabilidad_scale11']=data['coppel_global_amabilidad_scale11'].replace('5',5)\n",
        "data['coppel_global_amabilidad_scale11']=data['coppel_global_amabilidad_scale11'].replace('0',0)\n",
        "data['coppel_global_amabilidad_scale11']=data['coppel_global_amabilidad_scale11'].replace('6',6)\n",
        "data['coppel_global_amabilidad_scale11']=data['coppel_global_amabilidad_scale11'].replace('4',4)\n",
        "data['coppel_global_amabilidad_scale11']=data['coppel_global_amabilidad_scale11'].replace('2',2)"
      ],
      "execution_count": null,
      "outputs": []
    },
    {
      "cell_type": "code",
      "metadata": {
        "id": "Xphl5DEnz29L"
      },
      "source": [
        "data['coppel_global_amabilidad_scale11']=pd.to_numeric(data['coppel_global_amabilidad_scale11'])"
      ],
      "execution_count": null,
      "outputs": []
    },
    {
      "cell_type": "code",
      "metadata": {
        "id": "vKa9fls3z29O"
      },
      "source": [
        "Cajero_Automatico= data[data['CENTRO_2'] =='Cajero Automático']\n",
        "Ventanilla=data[data['CENTRO_2'] =='Ventanilla']\n",
        "Promotoria=data[data['CENTRO_2'] =='Promotoría']"
      ],
      "execution_count": null,
      "outputs": []
    },
    {
      "cell_type": "code",
      "metadata": {
        "id": "Iuu-XTQgz29Q",
        "outputId": "47587999-fbfa-47f0-96a7-71db33dc0e26"
      },
      "source": [
        "data['coppel_global_amabilidad_scale11'].value_counts().sort_index()/len(data.coppel_global_amabilidad_scale11)"
      ],
      "execution_count": null,
      "outputs": [
        {
          "output_type": "execute_result",
          "data": {
            "text/plain": [
              "0.0     0.009872\n",
              "1.0     0.003920\n",
              "2.0     0.003446\n",
              "3.0     0.004088\n",
              "4.0     0.003894\n",
              "5.0     0.010544\n",
              "6.0     0.007964\n",
              "7.0     0.017703\n",
              "8.0     0.059936\n",
              "9.0     0.124802\n",
              "10.0    0.476216\n",
              "Name: coppel_global_amabilidad_scale11, dtype: float64"
            ]
          },
          "metadata": {
            "tags": []
          },
          "execution_count": 1079
        }
      ]
    },
    {
      "cell_type": "code",
      "metadata": {
        "id": "TqdNw08Mz29U",
        "outputId": "f5c9d717-28e7-4949-e91d-200c81a74c8e"
      },
      "source": [
        "data['coppel_global_amabilidad_scale11'].value_counts(True).plot(kind='pie')"
      ],
      "execution_count": null,
      "outputs": [
        {
          "output_type": "execute_result",
          "data": {
            "text/plain": [
              "<matplotlib.axes._subplots.AxesSubplot at 0x7f2810cd35c0>"
            ]
          },
          "metadata": {
            "tags": []
          },
          "execution_count": 1080
        },
        {
          "output_type": "display_data",
          "data": {
            "image/png": "[encoded data removed]",
            "text/plain": [
              "<Figure size 432x288 with 1 Axes>"
            ]
          },
          "metadata": {
            "tags": []
          }
        }
      ]
    },
    {
      "cell_type": "code",
      "metadata": {
        "id": "wuV5v9Lvz29X",
        "outputId": "861d6e2c-63e5-45cc-830f-ba64428dabd4"
      },
      "source": [
        "#Veamos la distribución de comentarios para AMABILIDAD\n",
        "fig = data['coppel_global_amabilidad_scale11'].value_counts().sort_index().plot.bar()\n",
        "fig.set_title('Distribución de calificaciones en general')\n",
        "fig.set_xlabel('Calificaciones')\n",
        "fig.set_ylabel('Número de encuentas')"
      ],
      "execution_count": null,
      "outputs": [
        {
          "output_type": "execute_result",
          "data": {
            "text/plain": [
              "Text(0, 0.5, 'Número de encuentas')"
            ]
          },
          "metadata": {
            "tags": []
          },
          "execution_count": 1081
        },
        {
          "output_type": "display_data",
          "data": {
            "image/png": "[encoded data removed]",
            "text/plain": [
              "<Figure size 432x288 with 1 Axes>"
            ]
          },
          "metadata": {
            "tags": [],
            "needs_background": "light"
          }
        }
      ]
    },
    {
      "cell_type": "markdown",
      "metadata": {
        "id": "aXXNWToAz29b"
      },
      "source": [
        "## Amabilidad (Ventanilla, Promotoría, Cajero Automático)"
      ]
    },
    {
      "cell_type": "code",
      "metadata": {
        "id": "AfxImgqHz29c",
        "outputId": "aca16847-40af-499d-f0ab-b51b050b9204"
      },
      "source": [
        "print('Ventanilla \\n' ,Ventanilla['coppel_global_amabilidad_scale11'].value_counts().sort_index()/len(Ventanilla.coppel_global_amabilidad_scale11))\n",
        "print('Promotoría \\n',Promotoria['coppel_global_amabilidad_scale11'].value_counts().sort_index()/len(Promotoria.coppel_global_amabilidad_scale11))\n",
        "print('Cajero Automático \\n',Cajero_Automatico['coppel_global_amabilidad_scale11'].value_counts().sort_index()/len(Cajero_Automatico.coppel_global_amabilidad_scale11))"
      ],
      "execution_count": null,
      "outputs": [
        {
          "output_type": "stream",
          "text": [
            "Ventanilla \n",
            " 0.0     0.010932\n",
            "1.0     0.004563\n",
            "2.0     0.004432\n",
            "3.0     0.005299\n",
            "4.0     0.005347\n",
            "5.0     0.013987\n",
            "6.0     0.011192\n",
            "7.0     0.025443\n",
            "8.0     0.085316\n",
            "9.0     0.174896\n",
            "10.0    0.616733\n",
            "Name: coppel_global_amabilidad_scale11, dtype: float64\n",
            "Promotoría \n",
            " 0.0     0.017804\n",
            "1.0     0.006634\n",
            "2.0     0.005009\n",
            "3.0     0.005857\n",
            "4.0     0.004993\n",
            "5.0     0.014481\n",
            "6.0     0.009709\n",
            "7.0     0.020473\n",
            "8.0     0.070926\n",
            "9.0     0.153089\n",
            "10.0    0.683454\n",
            "Name: coppel_global_amabilidad_scale11, dtype: float64\n",
            "Cajero Automático \n",
            " Series([], Name: coppel_global_amabilidad_scale11, dtype: float64)\n"
          ],
          "name": "stdout"
        }
      ]
    },
    {
      "cell_type": "code",
      "metadata": {
        "id": "aXHCKn9Jz29h",
        "outputId": "e86b88a5-ee6f-4a69-b550-cef233fed097"
      },
      "source": [
        "from matplotlib.pyplot import subplot,figure\n",
        "figure(1)\n",
        "subplot(2,2,1)\n",
        "Ventanilla['coppel_global_amabilidad_scale11'].value_counts(True).plot(kind='pie')\n",
        "\n",
        "subplot(2,2,2)\n",
        "Promotoria['coppel_global_amabilidad_scale11'].value_counts(True).plot(kind='pie')"
      ],
      "execution_count": null,
      "outputs": [
        {
          "output_type": "execute_result",
          "data": {
            "text/plain": [
              "<matplotlib.axes._subplots.AxesSubplot at 0x7f275e3e4eb8>"
            ]
          },
          "metadata": {
            "tags": []
          },
          "execution_count": 1083
        },
        {
          "output_type": "display_data",
          "data": {
            "image/png": "[encoded data removed]",
            "text/plain": [
              "<Figure size 432x288 with 2 Axes>"
            ]
          },
          "metadata": {
            "tags": []
          }
        }
      ]
    },
    {
      "cell_type": "code",
      "metadata": {
        "id": "-ZNnnBihz29l",
        "outputId": "b8137d50-0dec-4faf-d886-ced668ff76dc"
      },
      "source": [
        "fig =Ventanilla['coppel_global_amabilidad_scale11'].value_counts().sort_index().plot.bar()\n",
        "fig.set_title('Ventanilla')\n",
        "fig.set_xlabel('Calificaciones AMABILIDAD')\n",
        "fig.set_ylabel('# de encuentas')"
      ],
      "execution_count": null,
      "outputs": [
        {
          "output_type": "execute_result",
          "data": {
            "text/plain": [
              "Text(0, 0.5, '# de encuentas')"
            ]
          },
          "metadata": {
            "tags": []
          },
          "execution_count": 1084
        },
        {
          "output_type": "display_data",
          "data": {
            "image/png": "[encoded data removed]",
            "text/plain": [
              "<Figure size 432x288 with 1 Axes>"
            ]
          },
          "metadata": {
            "tags": [],
            "needs_background": "light"
          }
        }
      ]
    },
    {
      "cell_type": "code",
      "metadata": {
        "id": "ScmJCUDyz295",
        "outputId": "e7793745-a49d-46d1-b79d-1a925c9f4014"
      },
      "source": [
        "fig =Promotoria['coppel_global_amabilidad_scale11'].value_counts().sort_index().plot.bar()\n",
        "fig.set_title('Promotoría')\n",
        "fig.set_xlabel('Calificaciones AMABILIDAD')\n",
        "fig.set_ylabel('# de encuentas')"
      ],
      "execution_count": null,
      "outputs": [
        {
          "output_type": "execute_result",
          "data": {
            "text/plain": [
              "Text(0, 0.5, '# de encuentas')"
            ]
          },
          "metadata": {
            "tags": []
          },
          "execution_count": 1085
        },
        {
          "output_type": "display_data",
          "data": {
            "image/png": "[encoded data removed]",
            "text/plain": [
              "<Figure size 432x288 with 1 Axes>"
            ]
          },
          "metadata": {
            "tags": [],
            "needs_background": "light"
          }
        }
      ]
    },
    {
      "cell_type": "markdown",
      "metadata": {
        "id": "qqP-sLH0z299"
      },
      "source": [
        " ## NPS  01-Ene-20 a 20-Sept-20"
      ]
    },
    {
      "cell_type": "code",
      "metadata": {
        "id": "CbUtI16hz299",
        "outputId": "0dde86dc-b117-4bdf-e0cc-030fb8c4ac87"
      },
      "source": [
        "data.coppel_global_ltr_scale11.unique()"
      ],
      "execution_count": null,
      "outputs": [
        {
          "output_type": "execute_result",
          "data": {
            "text/plain": [
              "array([10.,  7.,  9.,  8.,  0.,  4.,  6.,  5.,  3.,  2.,  1., nan])"
            ]
          },
          "metadata": {
            "tags": []
          },
          "execution_count": 1086
        }
      ]
    },
    {
      "cell_type": "code",
      "metadata": {
        "id": "-HFB4eGgz2-B",
        "outputId": "012a64da-1533-4134-f796-a089f6e07590"
      },
      "source": [
        "data['coppel_global_ltr_scale11'].value_counts().sort_index()/len(data.coppel_global_ltr_scale11)"
      ],
      "execution_count": null,
      "outputs": [
        {
          "output_type": "execute_result",
          "data": {
            "text/plain": [
              "0.0     0.018230\n",
              "1.0     0.004190\n",
              "2.0     0.004137\n",
              "3.0     0.004888\n",
              "4.0     0.005315\n",
              "5.0     0.020534\n",
              "6.0     0.013098\n",
              "7.0     0.031278\n",
              "8.0     0.100587\n",
              "9.0     0.179693\n",
              "10.0    0.603217\n",
              "Name: coppel_global_ltr_scale11, dtype: float64"
            ]
          },
          "metadata": {
            "tags": []
          },
          "execution_count": 1087
        }
      ]
    },
    {
      "cell_type": "code",
      "metadata": {
        "id": "lHAOGT9pz2-G",
        "outputId": "ba9fa700-44fc-4008-cd45-e2ca29d1df93"
      },
      "source": [
        "data['coppel_global_ltr_scale11'].value_counts(True).plot(kind='pie')"
      ],
      "execution_count": null,
      "outputs": [
        {
          "output_type": "execute_result",
          "data": {
            "text/plain": [
              "<matplotlib.axes._subplots.AxesSubplot at 0x7f275e273898>"
            ]
          },
          "metadata": {
            "tags": []
          },
          "execution_count": 1088
        },
        {
          "output_type": "display_data",
          "data": {
            "image/png": "[encoded data removed]",
            "text/plain": [
              "<Figure size 432x288 with 1 Axes>"
            ]
          },
          "metadata": {
            "tags": []
          }
        }
      ]
    },
    {
      "cell_type": "code",
      "metadata": {
        "id": "GfXGKi8Sz2-J",
        "outputId": "0f5f019e-505f-45b7-9204-17454b89d011"
      },
      "source": [
        "fig = data['coppel_global_ltr_scale11'].value_counts().sort_index().plot.bar()\n",
        "fig.set_title('Distribución de calificaciones en general')\n",
        "fig.set_xlabel('Calificaciones')\n",
        "fig.set_ylabel('Número de encuentas')"
      ],
      "execution_count": null,
      "outputs": [
        {
          "output_type": "execute_result",
          "data": {
            "text/plain": [
              "Text(0, 0.5, 'Número de encuentas')"
            ]
          },
          "metadata": {
            "tags": []
          },
          "execution_count": 1089
        },
        {
          "output_type": "display_data",
          "data": {
            "image/png": "[encoded data removed]",
            "text/plain": [
              "<Figure size 432x288 with 1 Axes>"
            ]
          },
          "metadata": {
            "tags": [],
            "needs_background": "light"
          }
        }
      ]
    },
    {
      "cell_type": "markdown",
      "metadata": {
        "id": "nnLwJWiTz2-O"
      },
      "source": [
        "## NPS (Ventanilla, Promotoría, Cajero Automático)"
      ]
    },
    {
      "cell_type": "code",
      "metadata": {
        "id": "Rx0hyxPWz2-P",
        "outputId": "db4e6466-4943-4932-d968-b3a640bc4cbf"
      },
      "source": [
        "print('Ventanilla \\n' ,Ventanilla['coppel_global_ltr_scale11'].value_counts().sort_index()/len(Ventanilla.coppel_global_ltr_scale11))\n",
        "print('Promotoría \\n',Promotoria['coppel_global_ltr_scale11'].value_counts().sort_index()/len(Promotoria.coppel_global_ltr_scale11))\n",
        "print('Cajero Automático \\n',Cajero_Automatico['coppel_global_ltr_scale11'].value_counts().sort_index()/len(Cajero_Automatico.coppel_global_ltr_scale11))"
      ],
      "execution_count": null,
      "outputs": [
        {
          "output_type": "stream",
          "text": [
            "Ventanilla \n",
            " 0.0     0.013276\n",
            "1.0     0.003286\n",
            "2.0     0.003414\n",
            "3.0     0.004119\n",
            "4.0     0.004489\n",
            "5.0     0.017912\n",
            "6.0     0.011810\n",
            "7.0     0.028661\n",
            "8.0     0.095299\n",
            "9.0     0.178583\n",
            "10.0    0.609097\n",
            "Name: coppel_global_ltr_scale11, dtype: float64\n",
            "Promotoría \n",
            " 0.0     0.033031\n",
            "1.0     0.006680\n",
            "2.0     0.006192\n",
            "3.0     0.007050\n",
            "4.0     0.007102\n",
            "5.0     0.026525\n",
            "6.0     0.015315\n",
            "7.0     0.034990\n",
            "8.0     0.106801\n",
            "9.0     0.176390\n",
            "10.0    0.579908\n",
            "Name: coppel_global_ltr_scale11, dtype: float64\n",
            "Cajero Automático \n",
            " 0.0     0.013213\n",
            "1.0     0.003485\n",
            "2.0     0.003510\n",
            "3.0     0.004240\n",
            "4.0     0.005148\n",
            "5.0     0.019696\n",
            "6.0     0.013401\n",
            "7.0     0.032681\n",
            "8.0     0.104687\n",
            "9.0     0.185099\n",
            "10.0    0.614834\n",
            "Name: coppel_global_ltr_scale11, dtype: float64\n"
          ],
          "name": "stdout"
        }
      ]
    },
    {
      "cell_type": "code",
      "metadata": {
        "id": "c-rYzA9Uz2-V",
        "outputId": "9db0c24b-a8b8-4a33-edb8-99fdc73d4fa7"
      },
      "source": [
        "figure(1)\n",
        "subplot(2,2,1)\n",
        "Ventanilla['coppel_global_ltr_scale11'].value_counts(True).plot(kind='pie')\n",
        "\n",
        "subplot(2,2,2)\n",
        "Promotoria['coppel_global_ltr_scale11'].value_counts(True).plot(kind='pie')\n",
        "\n",
        "subplot(2,2,3)\n",
        "Cajero_Automatico['coppel_global_ltr_scale11'].value_counts(True).plot(kind='pie')"
      ],
      "execution_count": null,
      "outputs": [
        {
          "output_type": "execute_result",
          "data": {
            "text/plain": [
              "<matplotlib.axes._subplots.AxesSubplot at 0x7f275e0e4eb8>"
            ]
          },
          "metadata": {
            "tags": []
          },
          "execution_count": 1091
        },
        {
          "output_type": "display_data",
          "data": {
            "image/png": "[encoded data removed]",
            "text/plain": [
              "<Figure size 432x288 with 3 Axes>"
            ]
          },
          "metadata": {
            "tags": []
          }
        }
      ]
    },
    {
      "cell_type": "code",
      "metadata": {
        "id": "cPYrOQnqz2-b",
        "outputId": "a1b1a640-bcab-4429-eefb-448d12a3b464"
      },
      "source": [
        "fig = Ventanilla['coppel_global_ltr_scale11'].value_counts().sort_index().plot.bar()\n",
        "fig.set_title('Ventanilla')\n",
        "fig.set_xlabel('Calificaciones NPS')\n",
        "fig.set_ylabel('Número de encuentas')"
      ],
      "execution_count": null,
      "outputs": [
        {
          "output_type": "execute_result",
          "data": {
            "text/plain": [
              "Text(0, 0.5, 'Número de encuentas')"
            ]
          },
          "metadata": {
            "tags": []
          },
          "execution_count": 1092
        },
        {
          "output_type": "display_data",
          "data": {
            "image/png": "[encoded data removed]",
            "text/plain": [
              "<Figure size 432x288 with 1 Axes>"
            ]
          },
          "metadata": {
            "tags": [],
            "needs_background": "light"
          }
        }
      ]
    },
    {
      "cell_type": "code",
      "metadata": {
        "id": "xcbXxZ9Vz2-j",
        "outputId": "5f5aa1a6-4e4a-4008-b219-7ee448cf689e"
      },
      "source": [
        "fig = Promotoria['coppel_global_ltr_scale11'].value_counts().sort_index().plot.bar()\n",
        "fig.set_title('Promotoría')\n",
        "fig.set_xlabel('Calificaciones NPS')\n",
        "fig.set_ylabel('Número de encuentas')"
      ],
      "execution_count": null,
      "outputs": [
        {
          "output_type": "execute_result",
          "data": {
            "text/plain": [
              "Text(0, 0.5, 'Número de encuentas')"
            ]
          },
          "metadata": {
            "tags": []
          },
          "execution_count": 1093
        },
        {
          "output_type": "display_data",
          "data": {
            "image/png": "[encoded data removed]",
            "text/plain": [
              "<Figure size 432x288 with 1 Axes>"
            ]
          },
          "metadata": {
            "tags": [],
            "needs_background": "light"
          }
        }
      ]
    },
    {
      "cell_type": "code",
      "metadata": {
        "id": "N92YPpN_z2-p",
        "outputId": "e344ab50-c2ce-4e77-c5ef-b77b75ebe571"
      },
      "source": [
        "fig = Cajero_Automatico['coppel_global_ltr_scale11'].value_counts().sort_index().plot.bar()\n",
        "fig.set_title('Cajero Automático')\n",
        "fig.set_xlabel('Calificaciones NPS')\n",
        "fig.set_ylabel('Número de encuentas')"
      ],
      "execution_count": null,
      "outputs": [
        {
          "output_type": "execute_result",
          "data": {
            "text/plain": [
              "Text(0, 0.5, 'Número de encuentas')"
            ]
          },
          "metadata": {
            "tags": []
          },
          "execution_count": 1094
        },
        {
          "output_type": "display_data",
          "data": {
            "image/png": "[encoded data removed]",
            "text/plain": [
              "<Figure size 432x288 with 1 Axes>"
            ]
          },
          "metadata": {
            "tags": [],
            "needs_background": "light"
          }
        }
      ]
    },
    {
      "cell_type": "markdown",
      "metadata": {
        "id": "yypFp8xAz2-s"
      },
      "source": [
        "## Distribución de calificaciones sin NaN en los comentarios"
      ]
    },
    {
      "cell_type": "code",
      "metadata": {
        "id": "MW_Cj1bFz2-s"
      },
      "source": [
        "data_sin_NaN = data[data['Satisfaccion_general'].isnull()*data['Comentario_adicional'].notnull()]\n",
        "data_sin_NaN = data_sin_NaN.append(data[data['Comentario_adicional'].isnull()*data['Satisfaccion_general'].notnull()])\n",
        "data_sin_NaN = data_sin_NaN.append(data[data['Comentario_adicional'].notnull()*data['Satisfaccion_general'].notnull()])"
      ],
      "execution_count": null,
      "outputs": []
    },
    {
      "cell_type": "code",
      "metadata": {
        "id": "PDi8Adehz2-v",
        "outputId": "ecbdc07d-a532-4e14-9dd5-90ad34b6c6b8"
      },
      "source": [
        "data_sin_NaN.head()"
      ],
      "execution_count": null,
      "outputs": [
        {
          "output_type": "execute_result",
          "data": {
            "text/html": [
              "<div>\n",
              "<style scoped>\n",
              "    .dataframe tbody tr th:only-of-type {\n",
              "        vertical-align: middle;\n",
              "    }\n",
              "\n",
              "    .dataframe tbody tr th {\n",
              "        vertical-align: top;\n",
              "    }\n",
              "\n",
              "    .dataframe thead th {\n",
              "        text-align: right;\n",
              "    }\n",
              "</style>\n",
              "<table border=\"1\" class=\"dataframe\">\n",
              "  <thead>\n",
              "    <tr style=\"text-align: right;\">\n",
              "      <th></th>\n",
              "      <th>FECHA_DE_RESPUESTA</th>\n",
              "      <th>Fecha</th>\n",
              "      <th>unitid</th>\n",
              "      <th>Región</th>\n",
              "      <th>coppel_global_org_gerencia_comercial_txt</th>\n",
              "      <th>coppel_afore_zona</th>\n",
              "      <th>CENTRO_2</th>\n",
              "      <th>coppel_categoria_areas_txt</th>\n",
              "      <th>bp_main_score_scale</th>\n",
              "      <th>coppel_global_amabilidad_scale11</th>\n",
              "      <th>coppel_global_ltr_scale11</th>\n",
              "      <th>Satisfaccion_general</th>\n",
              "      <th>Comentario_adicional</th>\n",
              "      <th>alert_type</th>\n",
              "      <th>surveyid</th>\n",
              "    </tr>\n",
              "  </thead>\n",
              "  <tbody>\n",
              "    <tr>\n",
              "      <th>64115</th>\n",
              "      <td>09/01/2020 18:30</td>\n",
              "      <td>2020-01-09</td>\n",
              "      <td>1452</td>\n",
              "      <td>Iztapalapa</td>\n",
              "      <td>Metropolitana Sur</td>\n",
              "      <td>NaN</td>\n",
              "      <td>Ventanilla</td>\n",
              "      <td>NaN</td>\n",
              "      <td>7.0</td>\n",
              "      <td>5.0</td>\n",
              "      <td>7.0</td>\n",
              "      <td>NaN</td>\n",
              "      <td>El trato de los del personal tan despersonali...</td>\n",
              "      <td>NaN</td>\n",
              "      <td>51335557</td>\n",
              "    </tr>\n",
              "    <tr>\n",
              "      <th>64114</th>\n",
              "      <td>09/01/2020 18:30</td>\n",
              "      <td>2020-01-09</td>\n",
              "      <td>401</td>\n",
              "      <td>Tecámac</td>\n",
              "      <td>Metropolitana Norte</td>\n",
              "      <td>NaN</td>\n",
              "      <td>Ventanilla</td>\n",
              "      <td>NaN</td>\n",
              "      <td>10.0</td>\n",
              "      <td>10.0</td>\n",
              "      <td>10.0</td>\n",
              "      <td>NaN</td>\n",
              "      <td>Excelente servicio y atención.</td>\n",
              "      <td>NaN</td>\n",
              "      <td>51810780</td>\n",
              "    </tr>\n",
              "    <tr>\n",
              "      <th>64108</th>\n",
              "      <td>09/01/2020 18:31</td>\n",
              "      <td>2020-01-09</td>\n",
              "      <td>193</td>\n",
              "      <td>Azcapotzalco</td>\n",
              "      <td>Metropolitana Sur</td>\n",
              "      <td>NaN</td>\n",
              "      <td>Ventanilla</td>\n",
              "      <td>NaN</td>\n",
              "      <td>8.0</td>\n",
              "      <td>9.0</td>\n",
              "      <td>9.0</td>\n",
              "      <td>NaN</td>\n",
              "      <td>Buena,  rapida y cordial atencion.</td>\n",
              "      <td>NaN</td>\n",
              "      <td>51490383</td>\n",
              "    </tr>\n",
              "    <tr>\n",
              "      <th>64105</th>\n",
              "      <td>09/01/2020 18:31</td>\n",
              "      <td>2020-01-09</td>\n",
              "      <td>1395</td>\n",
              "      <td>Mexicali</td>\n",
              "      <td>Baja Norte</td>\n",
              "      <td>NaN</td>\n",
              "      <td>Ventanilla</td>\n",
              "      <td>NaN</td>\n",
              "      <td>10.0</td>\n",
              "      <td>10.0</td>\n",
              "      <td>10.0</td>\n",
              "      <td>NaN</td>\n",
              "      <td>por que fueron muy amables, y rápido al hacer...</td>\n",
              "      <td>NaN</td>\n",
              "      <td>51682581</td>\n",
              "    </tr>\n",
              "    <tr>\n",
              "      <th>64104</th>\n",
              "      <td>09/01/2020 18:31</td>\n",
              "      <td>2020-01-09</td>\n",
              "      <td>532</td>\n",
              "      <td>Azcapotzalco</td>\n",
              "      <td>Metropolitana Sur</td>\n",
              "      <td>NaN</td>\n",
              "      <td>Ventanilla</td>\n",
              "      <td>NaN</td>\n",
              "      <td>10.0</td>\n",
              "      <td>10.0</td>\n",
              "      <td>10.0</td>\n",
              "      <td>NaN</td>\n",
              "      <td>Los de caja son amables</td>\n",
              "      <td>NaN</td>\n",
              "      <td>51842122</td>\n",
              "    </tr>\n",
              "  </tbody>\n",
              "</table>\n",
              "</div>"
            ],
            "text/plain": [
              "      FECHA_DE_RESPUESTA      Fecha  unitid        Región  \\\n",
              "64115   09/01/2020 18:30 2020-01-09    1452    Iztapalapa   \n",
              "64114   09/01/2020 18:30 2020-01-09     401       Tecámac   \n",
              "64108   09/01/2020 18:31 2020-01-09     193  Azcapotzalco   \n",
              "64105   09/01/2020 18:31 2020-01-09    1395      Mexicali   \n",
              "64104   09/01/2020 18:31 2020-01-09     532  Azcapotzalco   \n",
              "\n",
              "      coppel_global_org_gerencia_comercial_txt coppel_afore_zona    CENTRO_2  \\\n",
              "64115                        Metropolitana Sur               NaN  Ventanilla   \n",
              "64114                      Metropolitana Norte               NaN  Ventanilla   \n",
              "64108                        Metropolitana Sur               NaN  Ventanilla   \n",
              "64105                               Baja Norte               NaN  Ventanilla   \n",
              "64104                        Metropolitana Sur               NaN  Ventanilla   \n",
              "\n",
              "       coppel_categoria_areas_txt  bp_main_score_scale  \\\n",
              "64115                         NaN                  7.0   \n",
              "64114                         NaN                 10.0   \n",
              "64108                         NaN                  8.0   \n",
              "64105                         NaN                 10.0   \n",
              "64104                         NaN                 10.0   \n",
              "\n",
              "       coppel_global_amabilidad_scale11  coppel_global_ltr_scale11  \\\n",
              "64115                               5.0                        7.0   \n",
              "64114                              10.0                       10.0   \n",
              "64108                               9.0                        9.0   \n",
              "64105                              10.0                       10.0   \n",
              "64104                              10.0                       10.0   \n",
              "\n",
              "      Satisfaccion_general                               Comentario_adicional  \\\n",
              "64115                  NaN   El trato de los del personal tan despersonali...   \n",
              "64114                  NaN                     Excelente servicio y atención.   \n",
              "64108                  NaN                 Buena,  rapida y cordial atencion.   \n",
              "64105                  NaN   por que fueron muy amables, y rápido al hacer...   \n",
              "64104                  NaN                            Los de caja son amables   \n",
              "\n",
              "      alert_type  surveyid  \n",
              "64115        NaN  51335557  \n",
              "64114        NaN  51810780  \n",
              "64108        NaN  51490383  \n",
              "64105        NaN  51682581  \n",
              "64104        NaN  51842122  "
            ]
          },
          "metadata": {
            "tags": []
          },
          "execution_count": 1096
        }
      ]
    },
    {
      "cell_type": "markdown",
      "metadata": {
        "id": "y58fAqLcz2-y"
      },
      "source": [
        "### Número de registros eliminados: 164508\n",
        "\n",
        "### Reducción de la base de datos: 21%"
      ]
    },
    {
      "cell_type": "code",
      "metadata": {
        "id": "wQp30SUBz2-y",
        "outputId": "14ced04e-60cb-4740-96d7-e81ebdf0d562"
      },
      "source": [
        "print('Dimensiones del dataset',len(data_sin_NaN))"
      ],
      "execution_count": null,
      "outputs": [
        {
          "output_type": "stream",
          "text": [
            "Dimensiones del dataset 608454\n"
          ],
          "name": "stdout"
        }
      ]
    },
    {
      "cell_type": "code",
      "metadata": {
        "id": "DSrRBLvNz2-2",
        "outputId": "ca3e6eef-23d1-4710-b0db-fd08a9f0c6c3"
      },
      "source": [
        "print(data_sin_NaN.isnull().sum()/len(data_sin_NaN)*100)\n",
        "print('Comentario_adicional paso a tener 3% en vez de 23% de missings')\n",
        "print('Satisfaccion_general paso a tener 53% en vez de 63% de missings')\n",
        "print('coppel_global_ltr_scale11 se quedo practicamente igual')\n",
        "print('coppel_global_amabilidad_scale11 paso a tener 27% en vez de 26% de missings')"
      ],
      "execution_count": null,
      "outputs": [
        {
          "output_type": "stream",
          "text": [
            "FECHA_DE_RESPUESTA                            0.000000\n",
            "Fecha                                         0.000000\n",
            "unitid                                        0.000000\n",
            "Región                                        0.000000\n",
            "coppel_global_org_gerencia_comercial_txt      1.954133\n",
            "coppel_afore_zona                            21.633517\n",
            "CENTRO_2                                      0.000000\n",
            "coppel_categoria_areas_txt                  100.000000\n",
            "bp_main_score_scale                           0.000000\n",
            "coppel_global_amabilidad_scale11             27.515474\n",
            "coppel_global_ltr_scale11                     1.162783\n",
            "Satisfaccion_general                         53.849757\n",
            "Comentario_adicional                          3.438880\n",
            "alert_type                                   96.512637\n",
            "surveyid                                      0.000000\n",
            "dtype: float64\n",
            "Comentario_adicional paso a tener 3% en vez de 23% de missings\n",
            "Satisfaccion_general paso a tener 53% en vez de 63% de missings\n",
            "coppel_global_ltr_scale11 se quedo practicamente igual\n",
            "coppel_global_amabilidad_scale11 paso a tener 27% en vez de 26% de missings\n"
          ],
          "name": "stdout"
        }
      ]
    },
    {
      "cell_type": "code",
      "metadata": {
        "id": "8ASWTXJ5z2-5",
        "outputId": "c0d0b3b1-ab15-4b60-e5f7-b97ed330171d"
      },
      "source": [
        "data_sin_NaN['bp_main_score_scale'].value_counts().sort_index()/len(data_sin_NaN.bp_main_score_scale)"
      ],
      "execution_count": null,
      "outputs": [
        {
          "output_type": "execute_result",
          "data": {
            "text/plain": [
              "0.0     0.034249\n",
              "1.0     0.010224\n",
              "2.0     0.007892\n",
              "3.0     0.009194\n",
              "4.0     0.007784\n",
              "5.0     0.021543\n",
              "6.0     0.013551\n",
              "7.0     0.027304\n",
              "8.0     0.078463\n",
              "9.0     0.150896\n",
              "10.0    0.638901\n",
              "Name: bp_main_score_scale, dtype: float64"
            ]
          },
          "metadata": {
            "tags": []
          },
          "execution_count": 1099
        }
      ]
    },
    {
      "cell_type": "code",
      "metadata": {
        "id": "WDMTcTdlz2-8",
        "outputId": "4ca6ada8-c318-4113-adf6-b646d0ce4a8c"
      },
      "source": [
        "data_sin_NaN['bp_main_score_scale'].value_counts(True).plot(kind='pie')"
      ],
      "execution_count": null,
      "outputs": [
        {
          "output_type": "execute_result",
          "data": {
            "text/plain": [
              "<matplotlib.axes._subplots.AxesSubplot at 0x7f275dedd5c0>"
            ]
          },
          "metadata": {
            "tags": []
          },
          "execution_count": 1100
        },
        {
          "output_type": "display_data",
          "data": {
            "image/png": "[encoded data removed]",
            "text/plain": [
              "<Figure size 432x288 with 1 Axes>"
            ]
          },
          "metadata": {
            "tags": []
          }
        }
      ]
    },
    {
      "cell_type": "code",
      "metadata": {
        "id": "xb4fMBY2z2--",
        "outputId": "92fde0c5-f96f-4d7e-daf2-2f7d60cb2d99"
      },
      "source": [
        "fig =data_sin_NaN['bp_main_score_scale'].value_counts().sort_index().plot.bar()\n",
        "fig.set_title('Satisfacción')\n",
        "fig.set_xlabel('Calificaciones')\n",
        "fig.set_ylabel('# de encuentas')"
      ],
      "execution_count": null,
      "outputs": [
        {
          "output_type": "execute_result",
          "data": {
            "text/plain": [
              "Text(0, 0.5, '# de encuentas')"
            ]
          },
          "metadata": {
            "tags": []
          },
          "execution_count": 1101
        },
        {
          "output_type": "display_data",
          "data": {
            "image/png": "[encoded data removed]",
            "text/plain": [
              "<Figure size 432x288 with 1 Axes>"
            ]
          },
          "metadata": {
            "tags": [],
            "needs_background": "light"
          }
        }
      ]
    },
    {
      "cell_type": "code",
      "metadata": {
        "id": "L2wdMy0uz2_A",
        "outputId": "6dd05835-1280-46c6-f731-c0f645da34ff"
      },
      "source": [
        "data_sin_NaN['coppel_global_amabilidad_scale11'].value_counts().sort_index()/len(data_sin_NaN.coppel_global_amabilidad_scale11)"
      ],
      "execution_count": null,
      "outputs": [
        {
          "output_type": "execute_result",
          "data": {
            "text/plain": [
              "0.0     0.011460\n",
              "1.0     0.004429\n",
              "2.0     0.003892\n",
              "3.0     0.004536\n",
              "4.0     0.004168\n",
              "5.0     0.010969\n",
              "6.0     0.007943\n",
              "7.0     0.016609\n",
              "8.0     0.054364\n",
              "9.0     0.117720\n",
              "10.0    0.488755\n",
              "Name: coppel_global_amabilidad_scale11, dtype: float64"
            ]
          },
          "metadata": {
            "tags": []
          },
          "execution_count": 1102
        }
      ]
    },
    {
      "cell_type": "code",
      "metadata": {
        "id": "eb73W85Dz2_D",
        "outputId": "1c52a001-eabf-4864-8f7f-9a6947e4c95e"
      },
      "source": [
        "data_sin_NaN['coppel_global_amabilidad_scale11'].value_counts(True).plot(kind='pie')"
      ],
      "execution_count": null,
      "outputs": [
        {
          "output_type": "execute_result",
          "data": {
            "text/plain": [
              "<matplotlib.axes._subplots.AxesSubplot at 0x7f275de35ac8>"
            ]
          },
          "metadata": {
            "tags": []
          },
          "execution_count": 1103
        },
        {
          "output_type": "display_data",
          "data": {
            "image/png": "[encoded data removed]",
            "text/plain": [
              "<Figure size 432x288 with 1 Axes>"
            ]
          },
          "metadata": {
            "tags": []
          }
        }
      ]
    },
    {
      "cell_type": "code",
      "metadata": {
        "id": "o-iFKwgAz2_G",
        "outputId": "0b1187af-1196-4237-ffaf-d8e4a36433bb"
      },
      "source": [
        "fig =data_sin_NaN['coppel_global_amabilidad_scale11'].value_counts().sort_index().plot.bar()\n",
        "fig.set_title('Amabilidad')\n",
        "fig.set_xlabel('Calificaciones')\n",
        "fig.set_ylabel('# de encuentas')"
      ],
      "execution_count": null,
      "outputs": [
        {
          "output_type": "execute_result",
          "data": {
            "text/plain": [
              "Text(0, 0.5, '# de encuentas')"
            ]
          },
          "metadata": {
            "tags": []
          },
          "execution_count": 1104
        },
        {
          "output_type": "display_data",
          "data": {
            "image/png": "[encoded data removed]",
            "text/plain": [
              "<Figure size 432x288 with 1 Axes>"
            ]
          },
          "metadata": {
            "tags": [],
            "needs_background": "light"
          }
        }
      ]
    },
    {
      "cell_type": "code",
      "metadata": {
        "id": "fXfvn69iz2_J",
        "outputId": "0f1a8bd3-b6c0-467a-ecda-0e4dfeeea422"
      },
      "source": [
        "data_sin_NaN['coppel_global_ltr_scale11'].value_counts().sort_index()/len(data_sin_NaN.coppel_global_ltr_scale11)"
      ],
      "execution_count": null,
      "outputs": [
        {
          "output_type": "execute_result",
          "data": {
            "text/plain": [
              "0.0     0.020813\n",
              "1.0     0.004704\n",
              "2.0     0.004584\n",
              "3.0     0.005382\n",
              "4.0     0.005713\n",
              "5.0     0.021652\n",
              "6.0     0.013235\n",
              "7.0     0.030162\n",
              "8.0     0.094119\n",
              "9.0     0.172284\n",
              "10.0    0.615724\n",
              "Name: coppel_global_ltr_scale11, dtype: float64"
            ]
          },
          "metadata": {
            "tags": []
          },
          "execution_count": 1105
        }
      ]
    },
    {
      "cell_type": "code",
      "metadata": {
        "id": "98-eRoH2z2_M",
        "outputId": "64fb02c0-732d-4956-b13f-f3adb15de473"
      },
      "source": [
        "data_sin_NaN['coppel_global_ltr_scale11'].value_counts(True).plot(kind='pie')"
      ],
      "execution_count": null,
      "outputs": [
        {
          "output_type": "execute_result",
          "data": {
            "text/plain": [
              "<matplotlib.axes._subplots.AxesSubplot at 0x7f275ddc0668>"
            ]
          },
          "metadata": {
            "tags": []
          },
          "execution_count": 1106
        },
        {
          "output_type": "display_data",
          "data": {
            "image/png": "[encoded data removed]",
            "text/plain": [
              "<Figure size 432x288 with 1 Axes>"
            ]
          },
          "metadata": {
            "tags": []
          }
        }
      ]
    },
    {
      "cell_type": "code",
      "metadata": {
        "id": "UdakF8tSz2_S",
        "outputId": "d4716cc9-a313-42b2-97e8-56d4bbc87fea"
      },
      "source": [
        "fig =data_sin_NaN['coppel_global_ltr_scale11'].value_counts().sort_index().plot.bar()\n",
        "fig.set_title('NPS')\n",
        "fig.set_xlabel('Calificaciones')\n",
        "fig.set_ylabel('# de encuentas')"
      ],
      "execution_count": null,
      "outputs": [
        {
          "output_type": "execute_result",
          "data": {
            "text/plain": [
              "Text(0, 0.5, '# de encuentas')"
            ]
          },
          "metadata": {
            "tags": []
          },
          "execution_count": 1107
        },
        {
          "output_type": "display_data",
          "data": {
            "image/png": "[encoded data removed]",
            "text/plain": [
              "<Figure size 432x288 with 1 Axes>"
            ]
          },
          "metadata": {
            "tags": [],
            "needs_background": "light"
          }
        }
      ]
    },
    {
      "cell_type": "markdown",
      "metadata": {
        "id": "96jYZzhIz2_W"
      },
      "source": [
        "#  Preprocesamiento de la información"
      ]
    },
    {
      "cell_type": "code",
      "metadata": {
        "id": "5tMcildHz2_X",
        "outputId": "a679b422-3b06-4010-b059-99235ec37169"
      },
      "source": [
        "data__SatisGen = data[data['Satisfaccion_general'].notnull()]\n",
        "data_ComenAdi = data[data['Comentario_adicional'].notnull()]\n",
        "\n",
        "print('Número de comentarios en Satisfacción General', len(data__SatisGen))\n",
        "print('Numero de comantarios adicionales',len(data_ComenAdi))"
      ],
      "execution_count": null,
      "outputs": [
        {
          "output_type": "stream",
          "text": [
            "Número de comentarios en Satisfacción General 280803\n",
            "Numero de comantarios adicionales 587530\n"
          ],
          "name": "stdout"
        }
      ]
    },
    {
      "cell_type": "code",
      "metadata": {
        "id": "wCpnyFPlz2_Z"
      },
      "source": [
        "data_sin_NaN = data_sin_NaN.reset_index()\n",
        "data__SatisGen = data__SatisGen.reset_index()\n",
        "data_ComenAdi = data_ComenAdi.reset_index()"
      ],
      "execution_count": null,
      "outputs": []
    },
    {
      "cell_type": "code",
      "metadata": {
        "id": "IIw2xEd-z2_c",
        "outputId": "e78a7300-1eb2-4a4c-dc35-4c04cdd0f478"
      },
      "source": [
        "import unicodedata\n",
        "import nltk\n",
        "from nltk.probability import FreqDist\n",
        "from nltk.tokenize import word_tokenize\n",
        "from nltk.corpus import stopwords\n",
        "\n",
        "nltk.download('punkt')\n",
        "nltk.download('wordnet')\n",
        "nltk.download('stopwords')\n",
        "import string \n",
        "import random\n"
      ],
      "execution_count": null,
      "outputs": [
        {
          "output_type": "stream",
          "text": [
            "[nltk_data] Downloading package punkt to /home/euler/nltk_data...\n",
            "[nltk_data]   Package punkt is already up-to-date!\n",
            "[nltk_data] Downloading package wordnet to /home/euler/nltk_data...\n",
            "[nltk_data]   Package wordnet is already up-to-date!\n",
            "[nltk_data] Downloading package stopwords to /home/euler/nltk_data...\n",
            "[nltk_data]   Package stopwords is already up-to-date!\n"
          ],
          "name": "stderr"
        }
      ]
    },
    {
      "cell_type": "code",
      "metadata": {
        "id": "J3T8eF0Lz2_f"
      },
      "source": [
        "#Quitamos acentos y puntuaciones\n",
        "def remove_accented_chars(text):\n",
        "    text = unicodedata.normalize('NFKD', text).encode('ascii', 'ignore').decode('utf-8' , 'ignore')\n",
        "    return text\n",
        "\n",
        "#Removemos signos de puntuación\n",
        "remove_punct_dict = dict((ord(punct),None) for punct in string.punctuation)\n",
        "\n",
        "## quita caracteres especiales\n",
        "def remove_special_characters(text, remove_digits=True):\n",
        "    pattern = r'[^a-zA-z0-9\\s]' if not remove_digits else r'[^a-zA-z\\s]'\n",
        "    text = re.sub(pattern,' ', text)\n",
        "    return text\n",
        "\n",
        "\n",
        "\n",
        "## palabras en minuscula sin acentos, caracteres especiales, stopwords\n",
        "def clean_word(palabras):\n",
        "    lista=[remove_accented_chars(x.lower()) for x in palabras]  ##lista\n",
        "    lista=list_to_str(lista) ##string\n",
        "    lista2=remove_special_characters(lista)  ##string\n",
        "    word_tokens = nltk.word_tokenize(lista2)\n",
        "    lista=[x for x in word_tokens if x not in stopwords.words('spanish')]\n",
        "    return(lista)\n"
      ],
      "execution_count": null,
      "outputs": []
    },
    {
      "cell_type": "code",
      "metadata": {
        "id": "0x3f7FJfz2_g",
        "outputId": "1d2d5bc9-6d9c-4fe8-8251-4d6c51920ef8"
      },
      "source": [
        "#Ejemplo del pre procesamiento\n",
        "data__SatisGen['Satisfaccion_general'][4]"
      ],
      "execution_count": null,
      "outputs": [
        {
          "output_type": "execute_result",
          "data": {
            "text/plain": [
              "' Todo está bien; recomendaría más atención del personal al llegar uno por que unos no saludan. '"
            ]
          },
          "metadata": {
            "tags": []
          },
          "execution_count": 1137
        }
      ]
    },
    {
      "cell_type": "code",
      "metadata": {
        "id": "zKn3QS_0z2_k",
        "outputId": "0239ed1c-ee37-4d1a-ef19-adae63f0db6e"
      },
      "source": [
        "remove_special_characters(remove_accented_chars(data__SatisGen['Satisfaccion_general'][4].translate(remove_punct_dict).lower()))"
      ],
      "execution_count": null,
      "outputs": [
        {
          "output_type": "execute_result",
          "data": {
            "text/plain": [
              "' todo esta bien recomendaria mas atencion del personal al llegar uno por que unos no saludan '"
            ]
          },
          "metadata": {
            "tags": []
          },
          "execution_count": 1138
        }
      ]
    },
    {
      "cell_type": "code",
      "metadata": {
        "id": "yXKSBOpgz2_l"
      },
      "source": [
        "Satisfaccion_general = []\n",
        "for i in range(0,len(data__SatisGen['Satisfaccion_general'])):\n",
        "    #Limpiamos texto\n",
        "    x = remove_special_characters(remove_accented_chars(data__SatisGen['Satisfaccion_general'][i].translate(remove_punct_dict).lower()))\n",
        "    Satisfaccion_general.append(x)"
      ],
      "execution_count": null,
      "outputs": []
    },
    {
      "cell_type": "code",
      "metadata": {
        "id": "nRlG5_5bz2_o"
      },
      "source": [
        "Comentario_adicional = []\n",
        "for i in range(0,len(data_ComenAdi['Comentario_adicional'])):\n",
        "    #Limpiamos texto\n",
        "    x = remove_special_characters(remove_accented_chars(data_ComenAdi['Comentario_adicional'][i].translate(remove_punct_dict).lower()))\n",
        "    Comentario_adicional.append(x)\n"
      ],
      "execution_count": null,
      "outputs": []
    },
    {
      "cell_type": "code",
      "metadata": {
        "id": "gMzNn3dlz2_r"
      },
      "source": [
        "data__SatisGen['Satisfaccion_general'] = Satisfaccion_general\n",
        "data_ComenAdi['Comentario_adicional'] = Comentario_adicional"
      ],
      "execution_count": null,
      "outputs": []
    },
    {
      "cell_type": "code",
      "metadata": {
        "id": "Kz3h72pLz2_t",
        "outputId": "98429af4-8673-4e9d-c504-ead3ab4e40a1"
      },
      "source": [
        "#Preprocesamiento1\n",
        "data_ComenAdi['Comentario_adicional'][:10]"
      ],
      "execution_count": null,
      "outputs": [
        {
          "output_type": "execute_result",
          "data": {
            "text/plain": [
              "0                       por la atencion en el servicio\n",
              "1     el trato de los del personal tan despersonali...\n",
              "2                        excelente servicio y atencion\n",
              "3     el tiempo de espera en ocasiones es tardado y...\n",
              "4                                                 bien\n",
              "5                                          la atencion\n",
              "6     muy pronta atencion y sin tantas complicacion...\n",
              "7                     buena  rapida y cordial atencion\n",
              "8                   porque los cajeros son muy amables\n",
              "9                   me atendieron rapido y muy amables\n",
              "Name: Comentario_adicional, dtype: object"
            ]
          },
          "metadata": {
            "tags": []
          },
          "execution_count": 1142
        }
      ]
    },
    {
      "cell_type": "code",
      "metadata": {
        "id": "FyBnAltcz2_v"
      },
      "source": [
        "#Quitamos palabras de parada\n",
        "#import sys\n",
        "#commentaries1=[]\n",
        "#for i in range(0,len(data_ComenAdi['Comentario_adicional'])):\n",
        "#    userstring =data_ComenAdi['Comentario_adicional'][i].split(\" \")\n",
        "#    list =[\"el\",\"\",\"al\",\"un\",\"con\",\"de\",\"las\",\"del\",\"para\",\"en\",\"este\",\"que\",\"ha\",\"la\",\"fue\",\"en\",\"los\",\"por\",\"sus\",\"y\",\"su\",\"lo\",\"una\",\"esta\",\"cómo\",\"a\"]\n",
        "#    another_list = []\n",
        "#    for x in userstring:\n",
        "#         if x not in list:           # Compara la lista y remueve\n",
        "#                another_list.append(x) \n",
        "#                m = \" \".join(another_list)\n",
        "#    commentaries1.append(m)"
      ],
      "execution_count": null,
      "outputs": []
    },
    {
      "cell_type": "code",
      "metadata": {
        "id": "Hvr4WKq6z2_0"
      },
      "source": [
        "import sys\n",
        "commentaries=[]\n",
        "for i in range(0,len(data_ComenAdi['Comentario_adicional'])):\n",
        "    userstring =data_ComenAdi['Comentario_adicional'][i].split(\" \")\n",
        "    another_list = []\n",
        "    for x in userstring:\n",
        "         if x not in stopwords.words('spanish'):           # Compara la lista y remueve\n",
        "                another_list.append(x) \n",
        "                m = \" \".join(another_list)\n",
        "    commentaries.append(m)"
      ],
      "execution_count": null,
      "outputs": []
    },
    {
      "cell_type": "code",
      "metadata": {
        "id": "8Gv6TRNWz2_3"
      },
      "source": [
        "commentaries1=[]\n",
        "for i in range(0,len(data__SatisGen['Satisfaccion_general'])):\n",
        "    userstring =data__SatisGen['Satisfaccion_general'][i].split(\" \")\n",
        "    another_list = []\n",
        "    for x in userstring:\n",
        "         if x not in stopwords.words('spanish'):           # Compara la lista y remueve\n",
        "                another_list.append(x) \n",
        "                m = \" \".join(another_list)\n",
        "    commentaries1.append(m)"
      ],
      "execution_count": null,
      "outputs": []
    },
    {
      "cell_type": "code",
      "metadata": {
        "id": "v8ZziCVIz2_7"
      },
      "source": [
        "data__SatisGen['Satisfaccion_general'] = commentaries1\n",
        "data_ComenAdi['Comentario_adicional'] = commentaries"
      ],
      "execution_count": null,
      "outputs": []
    },
    {
      "cell_type": "code",
      "metadata": {
        "id": "_leNi25Bz2_9",
        "outputId": "1062f821-bf3d-4fab-f3b0-d60dbc1d267d"
      },
      "source": [
        "#Preprocesamiento2\n",
        "data_ComenAdi['Comentario_adicional'][:10]"
      ],
      "execution_count": null,
      "outputs": [
        {
          "output_type": "execute_result",
          "data": {
            "text/plain": [
              "0                                    atencion servicio\n",
              "1                  trato personal tan despersonalizado\n",
              "2                          excelente servicio atencion\n",
              "3     tiempo espera ocasiones tardado casi siempre ...\n",
              "4                                                 bien\n",
              "5                                             atencion\n",
              "6     pronta atencion tantas complicaciones  solo t...\n",
              "7                       buena  rapida cordial atencion\n",
              "8                                      cajeros amables\n",
              "9                            atendieron rapido amables\n",
              "Name: Comentario_adicional, dtype: object"
            ]
          },
          "metadata": {
            "tags": []
          },
          "execution_count": 1147
        }
      ]
    },
    {
      "cell_type": "code",
      "metadata": {
        "id": "1Lsv3xA5z3AA",
        "outputId": "25dac8a6-023f-4c06-f873-4dc3dc9cddcc"
      },
      "source": [
        "print('Número de comentarios en Satisfacción General', len(data__SatisGen))\n",
        "print('Numero de comantarios adicionales',len(data_ComenAdi))"
      ],
      "execution_count": null,
      "outputs": [
        {
          "output_type": "stream",
          "text": [
            "Número de comentarios en Satisfacción General 280803\n",
            "Numero de comantarios adicionales 587530\n"
          ],
          "name": "stdout"
        }
      ]
    },
    {
      "cell_type": "code",
      "metadata": {
        "id": "EKR0spWez3AD"
      },
      "source": [
        "data_ComenAdi['Comentario_adicional'] = data_ComenAdi.Comentario_adicional.replace({' ': np.nan})\n",
        "data_ComenAdi['Comentario_adicional'] = data_ComenAdi.Comentario_adicional.replace({'': np.nan})\n",
        "data_ComenAdi['Comentario_adicional'] = data_ComenAdi.Comentario_adicional.replace({'  ': np.nan})\n",
        "data_ComenAdi['Comentario_adicional'] = data_ComenAdi.Comentario_adicional.replace({'   ': np.nan})\n",
        "data_ComenAdi['Comentario_adicional'] = data_ComenAdi.Comentario_adicional.replace({'    ': np.nan})\n",
        "data_ComenAdi['Comentario_adicional'] = data_ComenAdi.Comentario_adicional.replace({'         ': np.nan})\n",
        "data_ComenAdi['Comentario_adicional'] = data_ComenAdi.Comentario_adicional.replace({'       ': np.nan})\n",
        "data_ComenAdi['Comentario_adicional'] = data_ComenAdi.Comentario_adicional.replace({'      ': np.nan})\n",
        "data_ComenAdi['Comentario_adicional'] = data_ComenAdi.Comentario_adicional.replace({'                     ': np.nan})\n",
        "data_ComenAdi['Comentario_adicional'] = data_ComenAdi.Comentario_adicional.replace({'                 ': np.nan})\n",
        "data_ComenAdi['Comentario_adicional'] = data_ComenAdi.Comentario_adicional.replace({'           ': np.nan})"
      ],
      "execution_count": null,
      "outputs": []
    },
    {
      "cell_type": "code",
      "metadata": {
        "id": "taw6y7YIz3AE",
        "outputId": "82cd0cb2-8778-4e77-edda-6e3db4554ecb"
      },
      "source": [
        "data_ComenAdi = data_ComenAdi[data_ComenAdi['Comentario_adicional'].notnull()]\n",
        "data_ComenAdi = data_ComenAdi.reset_index()\n",
        "print('Numero de comantarios adicionales',len(data_ComenAdi))"
      ],
      "execution_count": null,
      "outputs": [
        {
          "output_type": "stream",
          "text": [
            "Numero de comantarios adicionales 586125\n"
          ],
          "name": "stdout"
        }
      ]
    },
    {
      "cell_type": "markdown",
      "metadata": {
        "id": "vTJhFkm5z3AG"
      },
      "source": [
        "# Número de palabras en los comentarios."
      ]
    },
    {
      "cell_type": "markdown",
      "metadata": {
        "id": "fNBh5qUUz3AH"
      },
      "source": [
        "## Comentario adicional"
      ]
    },
    {
      "cell_type": "code",
      "metadata": {
        "id": "OwxEqEb1z3AI"
      },
      "source": [
        "import re\n",
        "from pandas import DataFrame\n",
        "\n",
        "lon_ComAdi = []\n",
        "for i in range(0,len(data_ComenAdi['Comentario_adicional'])):\n",
        "    #Contamos el número de palabras presentes en cada oración\n",
        "    x = len(re.findall(r'\\w+', data_ComenAdi['Comentario_adicional'][i]))\n",
        "    lon_ComAdi.append(x)\n",
        "    "
      ],
      "execution_count": null,
      "outputs": []
    },
    {
      "cell_type": "code",
      "metadata": {
        "id": "qAV_y4Dez3AQ"
      },
      "source": [
        "data_ComenAdi['longitud'] = lon_ComAdi"
      ],
      "execution_count": null,
      "outputs": []
    },
    {
      "cell_type": "code",
      "metadata": {
        "id": "uaKpY1tHz3AS",
        "outputId": "f8f93e8e-bcf6-480d-eb58-2bd86e881fc8"
      },
      "source": [
        "data_ComenAdi['longitud'].value_counts()"
      ],
      "execution_count": null,
      "outputs": [
        {
          "output_type": "execute_result",
          "data": {
            "text/plain": [
              "2      160813\n",
              "3      107139\n",
              "4       72024\n",
              "5       47889\n",
              "1       47822\n",
              "        ...  \n",
              "148         1\n",
              "150         1\n",
              "151         1\n",
              "153         1\n",
              "291         1\n",
              "Name: longitud, Length: 173, dtype: int64"
            ]
          },
          "metadata": {
            "tags": []
          },
          "execution_count": 1153
        }
      ]
    },
    {
      "cell_type": "code",
      "metadata": {
        "id": "QmkTOq-Jz3AU",
        "outputId": "db39b16f-900f-461d-b3cb-665ef8590eb0"
      },
      "source": [
        "data_ComenAdi['longitud'].value_counts().sort_index()/len(data_ComenAdi['longitud'])"
      ],
      "execution_count": null,
      "outputs": [
        {
          "output_type": "execute_result",
          "data": {
            "text/plain": [
              "1      0.081590\n",
              "2      0.274366\n",
              "3      0.182792\n",
              "4      0.122882\n",
              "5      0.081704\n",
              "         ...   \n",
              "211    0.000002\n",
              "229    0.000003\n",
              "231    0.000002\n",
              "262    0.000002\n",
              "291    0.000002\n",
              "Name: longitud, Length: 173, dtype: float64"
            ]
          },
          "metadata": {
            "tags": []
          },
          "execution_count": 1154
        }
      ]
    },
    {
      "cell_type": "code",
      "metadata": {
        "id": "QervttPFz3AW",
        "outputId": "5daf2643-5c60-4852-bbd4-79e9b84afdaf"
      },
      "source": [
        "fig = data_ComenAdi['longitud'].value_counts().sort_index()[0:50].plot.bar(figsize=(20,5))\n",
        "fig.set_title('Comentarios')\n",
        "fig.set_xlabel('Longitud del comentario')\n",
        "fig.set_ylabel('Número de encuestas')"
      ],
      "execution_count": null,
      "outputs": [
        {
          "output_type": "execute_result",
          "data": {
            "text/plain": [
              "Text(0, 0.5, 'Número de encuestas')"
            ]
          },
          "metadata": {
            "tags": []
          },
          "execution_count": 1155
        },
        {
          "output_type": "display_data",
          "data": {
            "image/png": "[encoded data removed]",
            "text/plain": [
              "<Figure size 1440x360 with 1 Axes>"
            ]
          },
          "metadata": {
            "tags": [],
            "needs_background": "light"
          }
        }
      ]
    },
    {
      "cell_type": "code",
      "metadata": {
        "id": "9TBxVK5Nz3AY",
        "outputId": "1891c4bc-c381-49c6-af22-ed48bfb98e95"
      },
      "source": [
        "data_ComenAdi[data_ComenAdi['longitud']==3]"
      ],
      "execution_count": null,
      "outputs": [
        {
          "output_type": "execute_result",
          "data": {
            "text/html": [
              "<div>\n",
              "<style scoped>\n",
              "    .dataframe tbody tr th:only-of-type {\n",
              "        vertical-align: middle;\n",
              "    }\n",
              "\n",
              "    .dataframe tbody tr th {\n",
              "        vertical-align: top;\n",
              "    }\n",
              "\n",
              "    .dataframe thead th {\n",
              "        text-align: right;\n",
              "    }\n",
              "</style>\n",
              "<table border=\"1\" class=\"dataframe\">\n",
              "  <thead>\n",
              "    <tr style=\"text-align: right;\">\n",
              "      <th></th>\n",
              "      <th>level_0</th>\n",
              "      <th>index</th>\n",
              "      <th>FECHA_DE_RESPUESTA</th>\n",
              "      <th>Fecha</th>\n",
              "      <th>unitid</th>\n",
              "      <th>Región</th>\n",
              "      <th>coppel_global_org_gerencia_comercial_txt</th>\n",
              "      <th>coppel_afore_zona</th>\n",
              "      <th>CENTRO_2</th>\n",
              "      <th>coppel_categoria_areas_txt</th>\n",
              "      <th>bp_main_score_scale</th>\n",
              "      <th>coppel_global_amabilidad_scale11</th>\n",
              "      <th>coppel_global_ltr_scale11</th>\n",
              "      <th>Satisfaccion_general</th>\n",
              "      <th>Comentario_adicional</th>\n",
              "      <th>alert_type</th>\n",
              "      <th>surveyid</th>\n",
              "      <th>longitud</th>\n",
              "    </tr>\n",
              "  </thead>\n",
              "  <tbody>\n",
              "    <tr>\n",
              "      <th>2</th>\n",
              "      <td>2</td>\n",
              "      <td>64114</td>\n",
              "      <td>09/01/2020 18:30</td>\n",
              "      <td>2020-01-09</td>\n",
              "      <td>401</td>\n",
              "      <td>Tecámac</td>\n",
              "      <td>Metropolitana Norte</td>\n",
              "      <td>NaN</td>\n",
              "      <td>Ventanilla</td>\n",
              "      <td>NaN</td>\n",
              "      <td>10.0</td>\n",
              "      <td>10.0</td>\n",
              "      <td>10.0</td>\n",
              "      <td>NaN</td>\n",
              "      <td>excelente servicio atencion</td>\n",
              "      <td>NaN</td>\n",
              "      <td>51810780</td>\n",
              "      <td>3</td>\n",
              "    </tr>\n",
              "    <tr>\n",
              "      <th>9</th>\n",
              "      <td>9</td>\n",
              "      <td>64106</td>\n",
              "      <td>09/01/2020 18:31</td>\n",
              "      <td>2020-01-09</td>\n",
              "      <td>872</td>\n",
              "      <td>Toluca</td>\n",
              "      <td>Metropolitana Sur</td>\n",
              "      <td>NaN</td>\n",
              "      <td>Ventanilla</td>\n",
              "      <td>NaN</td>\n",
              "      <td>10.0</td>\n",
              "      <td>10.0</td>\n",
              "      <td>10.0</td>\n",
              "      <td>Estoy contento con el servicio</td>\n",
              "      <td>atendieron rapido amables</td>\n",
              "      <td>NaN</td>\n",
              "      <td>51806753</td>\n",
              "      <td>3</td>\n",
              "    </tr>\n",
              "    <tr>\n",
              "      <th>25</th>\n",
              "      <td>25</td>\n",
              "      <td>64146</td>\n",
              "      <td>09/01/2020 18:25</td>\n",
              "      <td>2020-01-09</td>\n",
              "      <td>1122</td>\n",
              "      <td>Mérida</td>\n",
              "      <td>Peninsula</td>\n",
              "      <td>NaN</td>\n",
              "      <td>Ventanilla</td>\n",
              "      <td>NaN</td>\n",
              "      <td>10.0</td>\n",
              "      <td>10.0</td>\n",
              "      <td>10.0</td>\n",
              "      <td>NaN</td>\n",
              "      <td>rapido eficiente asesor</td>\n",
              "      <td>NaN</td>\n",
              "      <td>51745825</td>\n",
              "      <td>3</td>\n",
              "    </tr>\n",
              "    <tr>\n",
              "      <th>27</th>\n",
              "      <td>27</td>\n",
              "      <td>64144</td>\n",
              "      <td>09/01/2020 18:25</td>\n",
              "      <td>2020-01-09</td>\n",
              "      <td>131</td>\n",
              "      <td>Los Mochis</td>\n",
              "      <td>Noroeste</td>\n",
              "      <td>NaN</td>\n",
              "      <td>Ventanilla</td>\n",
              "      <td>NaN</td>\n",
              "      <td>9.0</td>\n",
              "      <td>8.0</td>\n",
              "      <td>8.0</td>\n",
              "      <td>NaN</td>\n",
              "      <td>amable atenta senorita</td>\n",
              "      <td>NaN</td>\n",
              "      <td>51799971</td>\n",
              "      <td>3</td>\n",
              "    </tr>\n",
              "    <tr>\n",
              "      <th>28</th>\n",
              "      <td>28</td>\n",
              "      <td>64143</td>\n",
              "      <td>09/01/2020 18:25</td>\n",
              "      <td>2020-01-09</td>\n",
              "      <td>940</td>\n",
              "      <td>Cuautitlán</td>\n",
              "      <td>Metropolitana Norte</td>\n",
              "      <td>NaN</td>\n",
              "      <td>Cajero Automático</td>\n",
              "      <td>NaN</td>\n",
              "      <td>10.0</td>\n",
              "      <td>NaN</td>\n",
              "      <td>8.0</td>\n",
              "      <td>NaN</td>\n",
              "      <td>rapido eficiente gente</td>\n",
              "      <td>NaN</td>\n",
              "      <td>51608863</td>\n",
              "      <td>3</td>\n",
              "    </tr>\n",
              "    <tr>\n",
              "      <th>...</th>\n",
              "      <td>...</td>\n",
              "      <td>...</td>\n",
              "      <td>...</td>\n",
              "      <td>...</td>\n",
              "      <td>...</td>\n",
              "      <td>...</td>\n",
              "      <td>...</td>\n",
              "      <td>...</td>\n",
              "      <td>...</td>\n",
              "      <td>...</td>\n",
              "      <td>...</td>\n",
              "      <td>...</td>\n",
              "      <td>...</td>\n",
              "      <td>...</td>\n",
              "      <td>...</td>\n",
              "      <td>...</td>\n",
              "      <td>...</td>\n",
              "      <td>...</td>\n",
              "    </tr>\n",
              "    <tr>\n",
              "      <th>586108</th>\n",
              "      <td>587513</td>\n",
              "      <td>2350</td>\n",
              "      <td>29-09-2020 07:36:50</td>\n",
              "      <td>2020-09-29</td>\n",
              "      <td>453</td>\n",
              "      <td>Toluca</td>\n",
              "      <td>Metropolitana Sur</td>\n",
              "      <td>TOLC</td>\n",
              "      <td>Promotoría</td>\n",
              "      <td>NaN</td>\n",
              "      <td>0.0</td>\n",
              "      <td>1.0</td>\n",
              "      <td>6.0</td>\n",
              "      <td>NaN</td>\n",
              "      <td>asiste sucursal dia</td>\n",
              "      <td>NaN</td>\n",
              "      <td>160265048</td>\n",
              "      <td>3</td>\n",
              "    </tr>\n",
              "    <tr>\n",
              "      <th>586113</th>\n",
              "      <td>587518</td>\n",
              "      <td>2361</td>\n",
              "      <td>29-09-2020 07:35:13</td>\n",
              "      <td>2020-09-29</td>\n",
              "      <td>171</td>\n",
              "      <td>Veracruz</td>\n",
              "      <td>Sureste</td>\n",
              "      <td>VRCZ</td>\n",
              "      <td>Promotoría</td>\n",
              "      <td>NaN</td>\n",
              "      <td>10.0</td>\n",
              "      <td>10.0</td>\n",
              "      <td>6.0</td>\n",
              "      <td>NaN</td>\n",
              "      <td>atendieron bien amablemente</td>\n",
              "      <td>NaN</td>\n",
              "      <td>160254446</td>\n",
              "      <td>3</td>\n",
              "    </tr>\n",
              "    <tr>\n",
              "      <th>586121</th>\n",
              "      <td>587526</td>\n",
              "      <td>2368</td>\n",
              "      <td>29-09-2020 07:32:47</td>\n",
              "      <td>2020-09-29</td>\n",
              "      <td>487</td>\n",
              "      <td>Toluca</td>\n",
              "      <td>Occidente</td>\n",
              "      <td>TOLC</td>\n",
              "      <td>Promotoría</td>\n",
              "      <td>NaN</td>\n",
              "      <td>10.0</td>\n",
              "      <td>10.0</td>\n",
              "      <td>10.0</td>\n",
              "      <td>NaN</td>\n",
              "      <td>siempre atendido bien</td>\n",
              "      <td>NaN</td>\n",
              "      <td>160275072</td>\n",
              "      <td>3</td>\n",
              "    </tr>\n",
              "    <tr>\n",
              "      <th>586122</th>\n",
              "      <td>587527</td>\n",
              "      <td>2364</td>\n",
              "      <td>29-09-2020 07:34:53</td>\n",
              "      <td>2020-09-29</td>\n",
              "      <td>881</td>\n",
              "      <td>Tecámac</td>\n",
              "      <td>Metropolitana Norte</td>\n",
              "      <td>TCMC</td>\n",
              "      <td>Ventanilla</td>\n",
              "      <td>NaN</td>\n",
              "      <td>9.0</td>\n",
              "      <td>8.0</td>\n",
              "      <td>9.0</td>\n",
              "      <td>No</td>\n",
              "      <td>parece buena atencion</td>\n",
              "      <td>NaN</td>\n",
              "      <td>159953943</td>\n",
              "      <td>3</td>\n",
              "    </tr>\n",
              "    <tr>\n",
              "      <th>586123</th>\n",
              "      <td>587528</td>\n",
              "      <td>2371</td>\n",
              "      <td>29-09-2020 07:32:10</td>\n",
              "      <td>2020-09-29</td>\n",
              "      <td>1364</td>\n",
              "      <td>San Luis Potosi</td>\n",
              "      <td>Bajio</td>\n",
              "      <td>SNLP</td>\n",
              "      <td>Ventanilla</td>\n",
              "      <td>NaN</td>\n",
              "      <td>10.0</td>\n",
              "      <td>10.0</td>\n",
              "      <td>10.0</td>\n",
              "      <td>NaN</td>\n",
              "      <td>siempre amables atentos</td>\n",
              "      <td>NaN</td>\n",
              "      <td>159985503</td>\n",
              "      <td>3</td>\n",
              "    </tr>\n",
              "  </tbody>\n",
              "</table>\n",
              "<p>107139 rows × 18 columns</p>\n",
              "</div>"
            ],
            "text/plain": [
              "        level_0  index   FECHA_DE_RESPUESTA      Fecha  unitid  \\\n",
              "2             2  64114     09/01/2020 18:30 2020-01-09     401   \n",
              "9             9  64106     09/01/2020 18:31 2020-01-09     872   \n",
              "25           25  64146     09/01/2020 18:25 2020-01-09    1122   \n",
              "27           27  64144     09/01/2020 18:25 2020-01-09     131   \n",
              "28           28  64143     09/01/2020 18:25 2020-01-09     940   \n",
              "...         ...    ...                  ...        ...     ...   \n",
              "586108   587513   2350  29-09-2020 07:36:50 2020-09-29     453   \n",
              "586113   587518   2361  29-09-2020 07:35:13 2020-09-29     171   \n",
              "586121   587526   2368  29-09-2020 07:32:47 2020-09-29     487   \n",
              "586122   587527   2364  29-09-2020 07:34:53 2020-09-29     881   \n",
              "586123   587528   2371  29-09-2020 07:32:10 2020-09-29    1364   \n",
              "\n",
              "                 Región coppel_global_org_gerencia_comercial_txt  \\\n",
              "2               Tecámac                      Metropolitana Norte   \n",
              "9                Toluca                        Metropolitana Sur   \n",
              "25               Mérida                                Peninsula   \n",
              "27           Los Mochis                                 Noroeste   \n",
              "28           Cuautitlán                      Metropolitana Norte   \n",
              "...                 ...                                      ...   \n",
              "586108           Toluca                        Metropolitana Sur   \n",
              "586113         Veracruz                                  Sureste   \n",
              "586121           Toluca                                Occidente   \n",
              "586122          Tecámac                      Metropolitana Norte   \n",
              "586123  San Luis Potosi                                    Bajio   \n",
              "\n",
              "       coppel_afore_zona           CENTRO_2  coppel_categoria_areas_txt  \\\n",
              "2                    NaN         Ventanilla                         NaN   \n",
              "9                    NaN         Ventanilla                         NaN   \n",
              "25                   NaN         Ventanilla                         NaN   \n",
              "27                   NaN         Ventanilla                         NaN   \n",
              "28                   NaN  Cajero Automático                         NaN   \n",
              "...                  ...                ...                         ...   \n",
              "586108              TOLC         Promotoría                         NaN   \n",
              "586113              VRCZ         Promotoría                         NaN   \n",
              "586121              TOLC         Promotoría                         NaN   \n",
              "586122              TCMC         Ventanilla                         NaN   \n",
              "586123              SNLP         Ventanilla                         NaN   \n",
              "\n",
              "        bp_main_score_scale  coppel_global_amabilidad_scale11  \\\n",
              "2                      10.0                              10.0   \n",
              "9                      10.0                              10.0   \n",
              "25                     10.0                              10.0   \n",
              "27                      9.0                               8.0   \n",
              "28                     10.0                               NaN   \n",
              "...                     ...                               ...   \n",
              "586108                  0.0                               1.0   \n",
              "586113                 10.0                              10.0   \n",
              "586121                 10.0                              10.0   \n",
              "586122                  9.0                               8.0   \n",
              "586123                 10.0                              10.0   \n",
              "\n",
              "        coppel_global_ltr_scale11              Satisfaccion_general  \\\n",
              "2                            10.0                               NaN   \n",
              "9                            10.0   Estoy contento con el servicio    \n",
              "25                           10.0                               NaN   \n",
              "27                            8.0                               NaN   \n",
              "28                            8.0                               NaN   \n",
              "...                           ...                               ...   \n",
              "586108                        6.0                               NaN   \n",
              "586113                        6.0                               NaN   \n",
              "586121                       10.0                               NaN   \n",
              "586122                        9.0                               No    \n",
              "586123                       10.0                               NaN   \n",
              "\n",
              "                Comentario_adicional alert_type   surveyid  longitud  \n",
              "2        excelente servicio atencion        NaN   51810780         3  \n",
              "9          atendieron rapido amables        NaN   51806753         3  \n",
              "25           rapido eficiente asesor        NaN   51745825         3  \n",
              "27            amable atenta senorita        NaN   51799971         3  \n",
              "28            rapido eficiente gente        NaN   51608863         3  \n",
              "...                              ...        ...        ...       ...  \n",
              "586108           asiste sucursal dia        NaN  160265048         3  \n",
              "586113   atendieron bien amablemente        NaN  160254446         3  \n",
              "586121         siempre atendido bien        NaN  160275072         3  \n",
              "586122         parece buena atencion        NaN  159953943         3  \n",
              "586123       siempre amables atentos        NaN  159985503         3  \n",
              "\n",
              "[107139 rows x 18 columns]"
            ]
          },
          "metadata": {
            "tags": []
          },
          "execution_count": 1158
        }
      ]
    },
    {
      "cell_type": "markdown",
      "metadata": {
        "id": "Kd0xnNzJz3Ab"
      },
      "source": [
        "## Satisfacción general"
      ]
    },
    {
      "cell_type": "code",
      "metadata": {
        "id": "274E5PwOz3Ab"
      },
      "source": [
        "data__SatisGen['Satisfaccion_general']= data__SatisGen.Satisfaccion_general.replace({' ': np.nan})\n",
        "data__SatisGen['Satisfaccion_general'] = data__SatisGen.Satisfaccion_general.replace({'  ': np.nan})\n",
        "data__SatisGen['Satisfaccion_general'] = data__SatisGen.Satisfaccion_general.replace({'': np.nan})\n",
        "data__SatisGen['Satisfaccion_general'] = data__SatisGen.Satisfaccion_general.replace({'     ': np.nan})\n",
        "data__SatisGen['Satisfaccion_general'] = data__SatisGen.Satisfaccion_general.replace({ '   ': np.nan})\n",
        "data__SatisGen['Satisfaccion_general'] = data__SatisGen.Satisfaccion_general.replace({'      ': np.nan})\n",
        "data__SatisGen['Satisfaccion_general'] = data__SatisGen.Satisfaccion_general.replace({'    ': np.nan})\n",
        "data__SatisGen['Satisfaccion_general'] = data__SatisGen.Satisfaccion_general.replace({'       ': np.nan})\n",
        "data__SatisGen['Satisfaccion_general'] = data__SatisGen.Satisfaccion_general.replace({'                       ': np.nan})\n",
        "data__SatisGen['Satisfaccion_general'] = data__SatisGen.Satisfaccion_general.replace({'                  ': np.nan})\n",
        "data__SatisGen['Satisfaccion_general'] = data__SatisGen.Satisfaccion_general.replace({'                               ': np.nan})\n",
        "data__SatisGen['Satisfaccion_general'] = data__SatisGen.Satisfaccion_general.replace({'          ': np.nan})\n",
        "data__SatisGen['Satisfaccion_general'] = data__SatisGen.Satisfaccion_general.replace({'           ': np.nan})"
      ],
      "execution_count": null,
      "outputs": []
    },
    {
      "cell_type": "code",
      "metadata": {
        "id": "acgWFrVZz3Ad",
        "outputId": "a03dee9d-b9a0-47d3-ecfc-bf88618ddbd4"
      },
      "source": [
        "data__SatisGen = data__SatisGen[data__SatisGen['Satisfaccion_general'].notnull()]\n",
        "data__SatisGen = data__SatisGen.reset_index()\n",
        "print('Numero de satisfacción general',len(data__SatisGen))"
      ],
      "execution_count": null,
      "outputs": [
        {
          "output_type": "stream",
          "text": [
            "Numero de satisfacción general 254106\n"
          ],
          "name": "stdout"
        }
      ]
    },
    {
      "cell_type": "code",
      "metadata": {
        "id": "JyAdAUcGz3Af"
      },
      "source": [
        "import string\n",
        "lon_Satis = []\n",
        "for i in range(0,len(data__SatisGen['Satisfaccion_general'])):\n",
        "    #Cortamos el comentario, quitamos espacios y contamos las palabras\n",
        "    x = sum([i.strip(string.punctuation).isalpha() for i in data__SatisGen['Satisfaccion_general'][i].split()])\n",
        "    lon_Satis.append(x)\n",
        "    "
      ],
      "execution_count": null,
      "outputs": []
    },
    {
      "cell_type": "code",
      "metadata": {
        "id": "6BtG0gJlz3Ai",
        "outputId": "e8504de6-7b7b-444a-c7f0-a295109b8404"
      },
      "source": [
        "data__SatisGen['longitud'] = lon_Satis\n",
        "data__SatisGen['longitud'].value_counts()"
      ],
      "execution_count": null,
      "outputs": [
        {
          "output_type": "execute_result",
          "data": {
            "text/plain": [
              "1      39127\n",
              "2      37784\n",
              "3      29163\n",
              "4      25505\n",
              "5      20295\n",
              "       ...  \n",
              "143        1\n",
              "101        1\n",
              "142        1\n",
              "164        1\n",
              "126        1\n",
              "Name: longitud, Length: 138, dtype: int64"
            ]
          },
          "metadata": {
            "tags": []
          },
          "execution_count": 1169
        }
      ]
    },
    {
      "cell_type": "code",
      "metadata": {
        "id": "7GV4iswBz3Aj",
        "outputId": "6892f5c9-5e89-4c08-b924-711e70b3c760"
      },
      "source": [
        "data__SatisGen['longitud'].value_counts().sort_index()/len(data__SatisGen['longitud'])"
      ],
      "execution_count": null,
      "outputs": [
        {
          "output_type": "execute_result",
          "data": {
            "text/plain": [
              "1      0.153979\n",
              "2      0.148694\n",
              "3      0.114767\n",
              "4      0.100371\n",
              "5      0.079868\n",
              "         ...   \n",
              "182    0.000008\n",
              "183    0.000004\n",
              "210    0.000004\n",
              "586    0.000004\n",
              "592    0.000004\n",
              "Name: longitud, Length: 138, dtype: float64"
            ]
          },
          "metadata": {
            "tags": []
          },
          "execution_count": 1170
        }
      ]
    },
    {
      "cell_type": "code",
      "metadata": {
        "id": "dUPs8aaSz3Am",
        "outputId": "b80948d7-7dea-460f-9858-1ec9feb2ae8b"
      },
      "source": [
        "fig = data__SatisGen['longitud'].value_counts().sort_index()[0:50].plot.bar(figsize=(20,5))\n",
        "fig.set_title('Comentarios')\n",
        "fig.set_xlabel('Longitud del comentario')\n",
        "fig.set_ylabel('Número de encuestas')"
      ],
      "execution_count": null,
      "outputs": [
        {
          "output_type": "execute_result",
          "data": {
            "text/plain": [
              "Text(0, 0.5, 'Número de encuestas')"
            ]
          },
          "metadata": {
            "tags": []
          },
          "execution_count": 1171
        },
        {
          "output_type": "display_data",
          "data": {
            "image/png": "[encoded data removed]",
            "text/plain": [
              "<Figure size 1440x360 with 1 Axes>"
            ]
          },
          "metadata": {
            "tags": [],
            "needs_background": "light"
          }
        }
      ]
    },
    {
      "cell_type": "code",
      "metadata": {
        "id": "W8s7jHnCz3Ao",
        "outputId": "c5112d22-1b99-4b4b-801d-31113ebe28c0"
      },
      "source": [
        "data__SatisGen[data__SatisGen['longitud']==2]"
      ],
      "execution_count": null,
      "outputs": [
        {
          "output_type": "execute_result",
          "data": {
            "text/html": [
              "<div>\n",
              "<style scoped>\n",
              "    .dataframe tbody tr th:only-of-type {\n",
              "        vertical-align: middle;\n",
              "    }\n",
              "\n",
              "    .dataframe tbody tr th {\n",
              "        vertical-align: top;\n",
              "    }\n",
              "\n",
              "    .dataframe thead th {\n",
              "        text-align: right;\n",
              "    }\n",
              "</style>\n",
              "<table border=\"1\" class=\"dataframe\">\n",
              "  <thead>\n",
              "    <tr style=\"text-align: right;\">\n",
              "      <th></th>\n",
              "      <th>level_0</th>\n",
              "      <th>index</th>\n",
              "      <th>FECHA_DE_RESPUESTA</th>\n",
              "      <th>Fecha</th>\n",
              "      <th>unitid</th>\n",
              "      <th>Región</th>\n",
              "      <th>coppel_global_org_gerencia_comercial_txt</th>\n",
              "      <th>coppel_afore_zona</th>\n",
              "      <th>CENTRO_2</th>\n",
              "      <th>coppel_categoria_areas_txt</th>\n",
              "      <th>bp_main_score_scale</th>\n",
              "      <th>coppel_global_amabilidad_scale11</th>\n",
              "      <th>coppel_global_ltr_scale11</th>\n",
              "      <th>Satisfaccion_general</th>\n",
              "      <th>Comentario_adicional</th>\n",
              "      <th>alert_type</th>\n",
              "      <th>surveyid</th>\n",
              "      <th>longitud</th>\n",
              "    </tr>\n",
              "  </thead>\n",
              "  <tbody>\n",
              "    <tr>\n",
              "      <th>7</th>\n",
              "      <td>7</td>\n",
              "      <td>64106</td>\n",
              "      <td>09/01/2020 18:31</td>\n",
              "      <td>2020-01-09</td>\n",
              "      <td>872</td>\n",
              "      <td>Toluca</td>\n",
              "      <td>Metropolitana Sur</td>\n",
              "      <td>NaN</td>\n",
              "      <td>Ventanilla</td>\n",
              "      <td>NaN</td>\n",
              "      <td>10.0</td>\n",
              "      <td>10.0</td>\n",
              "      <td>10.0</td>\n",
              "      <td>contento servicio</td>\n",
              "      <td>Me atendieron rapido y muy amables</td>\n",
              "      <td>NaN</td>\n",
              "      <td>51806753</td>\n",
              "      <td>2</td>\n",
              "    </tr>\n",
              "    <tr>\n",
              "      <th>17</th>\n",
              "      <td>19</td>\n",
              "      <td>64091</td>\n",
              "      <td>09/01/2020 18:33</td>\n",
              "      <td>2020-01-09</td>\n",
              "      <td>15</td>\n",
              "      <td>Los Mochis</td>\n",
              "      <td>Noroeste</td>\n",
              "      <td>NaN</td>\n",
              "      <td>Cajero Automático</td>\n",
              "      <td>NaN</td>\n",
              "      <td>10.0</td>\n",
              "      <td>NaN</td>\n",
              "      <td>10.0</td>\n",
              "      <td>excelente servicio</td>\n",
              "      <td>disponibilidad</td>\n",
              "      <td>NaN</td>\n",
              "      <td>51623117</td>\n",
              "      <td>2</td>\n",
              "    </tr>\n",
              "    <tr>\n",
              "      <th>29</th>\n",
              "      <td>33</td>\n",
              "      <td>64041</td>\n",
              "      <td>09/01/2020 18:38</td>\n",
              "      <td>2020-01-09</td>\n",
              "      <td>189</td>\n",
              "      <td>Tecámac</td>\n",
              "      <td>Metropolitana Norte</td>\n",
              "      <td>NaN</td>\n",
              "      <td>Ventanilla</td>\n",
              "      <td>NaN</td>\n",
              "      <td>10.0</td>\n",
              "      <td>10.0</td>\n",
              "      <td>10.0</td>\n",
              "      <td>mantengan servicio</td>\n",
              "      <td>El joven que me atendio fue muy amable en su ...</td>\n",
              "      <td>NaN</td>\n",
              "      <td>51419246</td>\n",
              "      <td>2</td>\n",
              "    </tr>\n",
              "    <tr>\n",
              "      <th>30</th>\n",
              "      <td>34</td>\n",
              "      <td>64040</td>\n",
              "      <td>09/01/2020 18:38</td>\n",
              "      <td>2020-01-09</td>\n",
              "      <td>143</td>\n",
              "      <td>Veracruz</td>\n",
              "      <td>Sureste</td>\n",
              "      <td>NaN</td>\n",
              "      <td>Ventanilla</td>\n",
              "      <td>NaN</td>\n",
              "      <td>10.0</td>\n",
              "      <td>10.0</td>\n",
              "      <td>10.0</td>\n",
              "      <td>excelente  servicio</td>\n",
              "      <td>La rapidez del  servicio</td>\n",
              "      <td>NaN</td>\n",
              "      <td>51554260</td>\n",
              "      <td>2</td>\n",
              "    </tr>\n",
              "    <tr>\n",
              "      <th>37</th>\n",
              "      <td>42</td>\n",
              "      <td>64077</td>\n",
              "      <td>09/01/2020 18:34</td>\n",
              "      <td>2020-01-09</td>\n",
              "      <td>83</td>\n",
              "      <td>Guadalajara I</td>\n",
              "      <td>Occidente</td>\n",
              "      <td>NaN</td>\n",
              "      <td>Ventanilla</td>\n",
              "      <td>NaN</td>\n",
              "      <td>7.0</td>\n",
              "      <td>8.0</td>\n",
              "      <td>9.0</td>\n",
              "      <td>ahi bien</td>\n",
              "      <td>Me hicieron una transferencia y aún no aparec...</td>\n",
              "      <td>NaN</td>\n",
              "      <td>51874569</td>\n",
              "      <td>2</td>\n",
              "    </tr>\n",
              "    <tr>\n",
              "      <th>...</th>\n",
              "      <td>...</td>\n",
              "      <td>...</td>\n",
              "      <td>...</td>\n",
              "      <td>...</td>\n",
              "      <td>...</td>\n",
              "      <td>...</td>\n",
              "      <td>...</td>\n",
              "      <td>...</td>\n",
              "      <td>...</td>\n",
              "      <td>...</td>\n",
              "      <td>...</td>\n",
              "      <td>...</td>\n",
              "      <td>...</td>\n",
              "      <td>...</td>\n",
              "      <td>...</td>\n",
              "      <td>...</td>\n",
              "      <td>...</td>\n",
              "      <td>...</td>\n",
              "    </tr>\n",
              "    <tr>\n",
              "      <th>254083</th>\n",
              "      <td>280777</td>\n",
              "      <td>2336</td>\n",
              "      <td>29-09-2020 07:41:22</td>\n",
              "      <td>2020-09-29</td>\n",
              "      <td>341</td>\n",
              "      <td>Mexicali</td>\n",
              "      <td>Baja Norte</td>\n",
              "      <td>MXLI</td>\n",
              "      <td>Promotoría</td>\n",
              "      <td>NaN</td>\n",
              "      <td>8.0</td>\n",
              "      <td>8.0</td>\n",
              "      <td>7.0</td>\n",
              "      <td>ninguno gracias</td>\n",
              "      <td>Años confiando en ustedes...retire mi dinero.....</td>\n",
              "      <td>NaN</td>\n",
              "      <td>160269964</td>\n",
              "      <td>2</td>\n",
              "    </tr>\n",
              "    <tr>\n",
              "      <th>254086</th>\n",
              "      <td>280781</td>\n",
              "      <td>2282</td>\n",
              "      <td>29-09-2020 08:18:28</td>\n",
              "      <td>2020-09-29</td>\n",
              "      <td>364</td>\n",
              "      <td>Ixtapaluca</td>\n",
              "      <td>Metropolitana Sur</td>\n",
              "      <td>IXTP</td>\n",
              "      <td>Cajero Automático</td>\n",
              "      <td>NaN</td>\n",
              "      <td>9.0</td>\n",
              "      <td>NaN</td>\n",
              "      <td>9.0</td>\n",
              "      <td>excelente servicio</td>\n",
              "      <td>NaN</td>\n",
              "      <td>NaN</td>\n",
              "      <td>160993135</td>\n",
              "      <td>2</td>\n",
              "    </tr>\n",
              "    <tr>\n",
              "      <th>254095</th>\n",
              "      <td>280790</td>\n",
              "      <td>2396</td>\n",
              "      <td>29-09-2020 07:11:13</td>\n",
              "      <td>2020-09-29</td>\n",
              "      <td>988</td>\n",
              "      <td>Cuautitlán</td>\n",
              "      <td>Metropolitana Norte</td>\n",
              "      <td>CTLZ</td>\n",
              "      <td>Promotoría</td>\n",
              "      <td>NaN</td>\n",
              "      <td>5.0</td>\n",
              "      <td>NaN</td>\n",
              "      <td>10.0</td>\n",
              "      <td>envien encuesta</td>\n",
              "      <td>NaN</td>\n",
              "      <td>NaN</td>\n",
              "      <td>159758988</td>\n",
              "      <td>2</td>\n",
              "    </tr>\n",
              "    <tr>\n",
              "      <th>254104</th>\n",
              "      <td>280800</td>\n",
              "      <td>2372</td>\n",
              "      <td>29-09-2020 07:31:41</td>\n",
              "      <td>2020-09-29</td>\n",
              "      <td>968</td>\n",
              "      <td>Guadalajara II</td>\n",
              "      <td>Occidente</td>\n",
              "      <td>TNLA</td>\n",
              "      <td>Promotoría</td>\n",
              "      <td>NaN</td>\n",
              "      <td>10.0</td>\n",
              "      <td>10.0</td>\n",
              "      <td>10.0</td>\n",
              "      <td>mejor servicio</td>\n",
              "      <td>NaN</td>\n",
              "      <td>NaN</td>\n",
              "      <td>160238333</td>\n",
              "      <td>2</td>\n",
              "    </tr>\n",
              "    <tr>\n",
              "      <th>254105</th>\n",
              "      <td>280801</td>\n",
              "      <td>2369</td>\n",
              "      <td>29-09-2020 07:32:47</td>\n",
              "      <td>2020-09-29</td>\n",
              "      <td>749</td>\n",
              "      <td>Tecámac</td>\n",
              "      <td>Metropolitana Norte</td>\n",
              "      <td>TCMC</td>\n",
              "      <td>Promotoría</td>\n",
              "      <td>NaN</td>\n",
              "      <td>10.0</td>\n",
              "      <td>10.0</td>\n",
              "      <td>10.0</td>\n",
              "      <td>ninguno momento</td>\n",
              "      <td>Servicio amable, rápido, y eficaz.</td>\n",
              "      <td>NaN</td>\n",
              "      <td>160265352</td>\n",
              "      <td>2</td>\n",
              "    </tr>\n",
              "  </tbody>\n",
              "</table>\n",
              "<p>37784 rows × 18 columns</p>\n",
              "</div>"
            ],
            "text/plain": [
              "        level_0  index   FECHA_DE_RESPUESTA      Fecha  unitid  \\\n",
              "7             7  64106     09/01/2020 18:31 2020-01-09     872   \n",
              "17           19  64091     09/01/2020 18:33 2020-01-09      15   \n",
              "29           33  64041     09/01/2020 18:38 2020-01-09     189   \n",
              "30           34  64040     09/01/2020 18:38 2020-01-09     143   \n",
              "37           42  64077     09/01/2020 18:34 2020-01-09      83   \n",
              "...         ...    ...                  ...        ...     ...   \n",
              "254083   280777   2336  29-09-2020 07:41:22 2020-09-29     341   \n",
              "254086   280781   2282  29-09-2020 08:18:28 2020-09-29     364   \n",
              "254095   280790   2396  29-09-2020 07:11:13 2020-09-29     988   \n",
              "254104   280800   2372  29-09-2020 07:31:41 2020-09-29     968   \n",
              "254105   280801   2369  29-09-2020 07:32:47 2020-09-29     749   \n",
              "\n",
              "                Región coppel_global_org_gerencia_comercial_txt  \\\n",
              "7               Toluca                        Metropolitana Sur   \n",
              "17          Los Mochis                                 Noroeste   \n",
              "29             Tecámac                      Metropolitana Norte   \n",
              "30            Veracruz                                  Sureste   \n",
              "37       Guadalajara I                                Occidente   \n",
              "...                ...                                      ...   \n",
              "254083        Mexicali                               Baja Norte   \n",
              "254086      Ixtapaluca                        Metropolitana Sur   \n",
              "254095      Cuautitlán                      Metropolitana Norte   \n",
              "254104  Guadalajara II                                Occidente   \n",
              "254105         Tecámac                      Metropolitana Norte   \n",
              "\n",
              "       coppel_afore_zona           CENTRO_2  coppel_categoria_areas_txt  \\\n",
              "7                    NaN         Ventanilla                         NaN   \n",
              "17                   NaN  Cajero Automático                         NaN   \n",
              "29                   NaN         Ventanilla                         NaN   \n",
              "30                   NaN         Ventanilla                         NaN   \n",
              "37                   NaN         Ventanilla                         NaN   \n",
              "...                  ...                ...                         ...   \n",
              "254083              MXLI         Promotoría                         NaN   \n",
              "254086              IXTP  Cajero Automático                         NaN   \n",
              "254095              CTLZ         Promotoría                         NaN   \n",
              "254104              TNLA         Promotoría                         NaN   \n",
              "254105              TCMC         Promotoría                         NaN   \n",
              "\n",
              "        bp_main_score_scale  coppel_global_amabilidad_scale11  \\\n",
              "7                      10.0                              10.0   \n",
              "17                     10.0                               NaN   \n",
              "29                     10.0                              10.0   \n",
              "30                     10.0                              10.0   \n",
              "37                      7.0                               8.0   \n",
              "...                     ...                               ...   \n",
              "254083                  8.0                               8.0   \n",
              "254086                  9.0                               NaN   \n",
              "254095                  5.0                               NaN   \n",
              "254104                 10.0                              10.0   \n",
              "254105                 10.0                              10.0   \n",
              "\n",
              "        coppel_global_ltr_scale11   Satisfaccion_general  \\\n",
              "7                            10.0     contento servicio    \n",
              "17                           10.0    excelente servicio    \n",
              "29                           10.0    mantengan servicio    \n",
              "30                           10.0   excelente  servicio    \n",
              "37                            9.0              ahi bien    \n",
              "...                           ...                    ...   \n",
              "254083                        7.0       ninguno gracias    \n",
              "254086                        9.0     excelente servicio   \n",
              "254095                       10.0       envien encuesta    \n",
              "254104                       10.0         mejor servicio   \n",
              "254105                       10.0       ninguno momento    \n",
              "\n",
              "                                     Comentario_adicional alert_type  \\\n",
              "7                      Me atendieron rapido y muy amables        NaN   \n",
              "17                                         disponibilidad        NaN   \n",
              "29       El joven que me atendio fue muy amable en su ...        NaN   \n",
              "30                               La rapidez del  servicio        NaN   \n",
              "37       Me hicieron una transferencia y aún no aparec...        NaN   \n",
              "...                                                   ...        ...   \n",
              "254083  Años confiando en ustedes...retire mi dinero.....        NaN   \n",
              "254086                                                NaN        NaN   \n",
              "254095                                                NaN        NaN   \n",
              "254104                                                NaN        NaN   \n",
              "254105                 Servicio amable, rápido, y eficaz.        NaN   \n",
              "\n",
              "         surveyid  longitud  \n",
              "7        51806753         2  \n",
              "17       51623117         2  \n",
              "29       51419246         2  \n",
              "30       51554260         2  \n",
              "37       51874569         2  \n",
              "...           ...       ...  \n",
              "254083  160269964         2  \n",
              "254086  160993135         2  \n",
              "254095  159758988         2  \n",
              "254104  160238333         2  \n",
              "254105  160265352         2  \n",
              "\n",
              "[37784 rows x 18 columns]"
            ]
          },
          "metadata": {
            "tags": []
          },
          "execution_count": 1173
        }
      ]
    },
    {
      "cell_type": "markdown",
      "metadata": {
        "id": "jt_6HyiIz3Ap"
      },
      "source": [
        "# Al final de la limpieza y de acuerdo a calificaciones objetivo, el número de comentarios en \"Satisfacción general\" y \"Comentario adicional\" es de:"
      ]
    },
    {
      "cell_type": "code",
      "metadata": {
        "id": "XE0Az5cYz3Aq"
      },
      "source": [
        ""
      ],
      "execution_count": null,
      "outputs": []
    }
  ]
}