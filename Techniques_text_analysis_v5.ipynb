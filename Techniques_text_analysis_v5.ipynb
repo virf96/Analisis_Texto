{
  "cells": [
    {
      "cell_type": "markdown",
      "metadata": {
        "id": "view-in-github",
        "colab_type": "text"
      },
      "source": [
        "<a href=\"https://colab.research.google.com/github/virf96/Analisis_Texto/blob/master/Techniques_text_analysis_v5.ipynb\" target=\"_parent\"><img src=\"https://colab.research.google.com/assets/colab-badge.svg\" alt=\"Open In Colab\"/></a>"
      ]
    },
    {
      "cell_type": "markdown",
      "metadata": {
        "id": "PG4JBR4Ko9ef"
      },
      "source": [
        "# Procesamiento de Lenguaje Natural\n",
        "\n",
        "\n",
        "**Pablo Martínez Olmos, Vanessa Gómez Verdejo, Emilio Parrado Hernández**\n",
        "\n",
        "Departamento de Teoría de la Señal y Comunicaciones\n",
        "\n",
        "**Universidad Carlos III de Madrid**\n",
        "\n",
        "<img src='http://www.tsc.uc3m.es/~emipar/BBVA/INTRO/img/logo_uc3m_foot.jpg' width=400 />"
      ]
    },
    {
      "cell_type": "markdown",
      "metadata": {
        "id": "PTYMdevoo9eg"
      },
      "source": [
        "# Técnicas de análisis de texto\n",
        "\n",
        "En la sesión de hoy aprenderemos distintas técnicas para analizar la estructura de un texto y la extracción de características en base a dicha estructura. Recordemos que hasta ahora hemos aprendido las siguientes técnicas de extracción de características:\n",
        "\n",
        "- Representación vectorial de un documento con un BoW/Bag of N-grams.\n",
        "- Representación vectorial de un documento con TF-IDF.\n",
        "\n",
        "\n",
        "Por una parte, en la sesión de hoy estudiaremos técnicas de extracción de características que **tienen en cuenta la estructura gramatical y sintáctica del texto**:\n",
        "\n",
        "- Part of Speech Tagging (POS tagging)\n",
        "- Análisis superficial (Shallow parsing)\n",
        "- Análisis estructural (Constituency parsing)\n",
        "- Detección de entidades (Name entity recognition)\n",
        "- Análisis de dependencias (Dependency parsing)\n",
        "\n",
        "Por otra parte, presentaremos técnicas sencillas para la **extracción de frases y palabras clave de un documento**:\n",
        "\n",
        "- Extracción de frases clave de un documento con LSA y TextRank.\n",
        "- Extracción de palabras clave con N-grams (collocations) y TextRank.\n",
        "\n",
        "Para implementar algunas de las técnicas anteriores utilizaremos la librería [Spacy](https://spacy.io/). Spacy  es una librería de NLP que incorpora extensiones para trabajar con texto en distintos idiomas, incluído **el castellano**. Además, spaCy incorpora pipelines pre-entrenados con técnicas que dominan del estado del arte basadas en redes neuronales y, en particular, en redes de tipo [transformer](https://spacy.io/universe/project/spacy-transformers). "
      ]
    },
    {
      "cell_type": "code",
      "execution_count": null,
      "metadata": {
        "colab": {
          "base_uri": "https://localhost:8080/"
        },
        "id": "yHJgbNWUo9ea",
        "outputId": "df4a5056-1767-4429-b1da-6d1b28413bfd"
      },
      "outputs": [
        {
          "name": "stderr",
          "output_type": "stream",
          "text": [
            "[nltk_data] Downloading package brown to /Users/olmos/nltk_data...\n",
            "[nltk_data]   Package brown is already up-to-date!\n",
            "[nltk_data] Downloading package punkt to /Users/olmos/nltk_data...\n",
            "[nltk_data]   Unzipping tokenizers/punkt.zip.\n",
            "[nltk_data] Downloading package stopwords to /Users/olmos/nltk_data...\n",
            "[nltk_data]   Unzipping corpora/stopwords.zip.\n",
            "[nltk_data] Downloading package wordnet to /Users/olmos/nltk_data...\n",
            "[nltk_data]   Package wordnet is already up-to-date!\n",
            "[nltk_data] Downloading package maxent_ne_chunker to\n",
            "[nltk_data]     /Users/olmos/nltk_data...\n",
            "[nltk_data]   Package maxent_ne_chunker is already up-to-date!\n",
            "[nltk_data] Downloading package words to /Users/olmos/nltk_data...\n",
            "[nltk_data]   Package words is already up-to-date!\n"
          ]
        },
        {
          "data": {
            "text/plain": [
              "True"
            ]
          },
          "execution_count": 1,
          "metadata": {},
          "output_type": "execute_result"
        }
      ],
      "source": [
        "%matplotlib inline  \n",
        "# Figures plotted inside the notebook\n",
        "%config InlineBackend.figure_format = 'svg'  \n",
        "# High quality figures\n",
        "import matplotlib.pyplot as plt\n",
        "import numpy as np\n",
        "import pandas as pd \n",
        "import nltk\n",
        "\n",
        "\n",
        "# download all dependencies and corpora \n",
        "nltk.download('brown')\n",
        "nltk.download('punkt')\n",
        "nltk.download('stopwords')\n",
        "nltk.download('wordnet')\n",
        "nltk.download('maxent_ne_chunker')\n",
        "nltk.download('words')"
      ]
    },
    {
      "cell_type": "markdown",
      "metadata": {
        "id": "-HHIDrIQo9eg"
      },
      "source": [
        "# 1. Características basadas en gramática"
      ]
    },
    {
      "cell_type": "markdown",
      "metadata": {
        "id": "WMntKcPPo9eg"
      },
      "source": [
        "# 1.1 Parts of Speech (POS) tagging\n",
        "\n",
        "En *POS tagging* el objetivo es asignar a cada palabra de un determinado texto una etiqueta correspondiente a su categoría gramatical (verbo, sustantivo, determinante ...) en función de su contexto, lo que puede ser muy útil para la extracción de características de un texto. Por ejemplo, podemos filtrar los sustantivos y determinar los más destacados o aquellos que pertenecen a nombres propios o **entidades**. \n",
        "\n",
        "Para especificar las distintas etiquetas (tags) en idioma inglés, es habitual utilizar la notación [Penn Treebank](https://repository.upenn.edu/cgi/viewcontent.cgi?article=1603&context=cis_reports). En este [enlace](https://repository.upenn.edu/cgi/viewcontent.cgi?article=1603&context=cis_reports) puede encontrarse una descripción detallada de cada categoría, con ejemplos.\n",
        "\n",
        "<img src=\"http://www.tsc.uc3m.es/~olmos/BBVA/tags.png\" width=\"40%\"> \n",
        "\n"
      ]
    },
    {
      "cell_type": "markdown",
      "metadata": {
        "id": "9qx8iKpyo9eg"
      },
      "source": [
        "### Aprendizaje máquina para POS tagging\n",
        "\n",
        "En cualquier algoritmo para *POS tagging* el objetivo es estimar la etiqueta $y_i$ asociada a la palabra i-ésima $x_i$ dadas las palabras anteriores $x_{i-1},x_{i-2},\\ldots,x_{i-W}$ o incluso posteriores $x_{i+1},x_{i+2},\\ldots,x_{i+W}$. [Ejemplos clásicos](https://web.stanford.edu/~jurafsky/slp3/8.pdf) de métodos para POS tagging son los modelos ocultos de Markov y Conditional Random Fields (CRF).\n",
        "\n",
        "<img src=\"http://www.tsc.uc3m.es/~olmos/BBVA/HMM_slide.001.jpeg\" width=\"90%\"> \n",
        "\n",
        "En la actualidad, los métodos con mayor precisión se basan en [redes neuronales recurrentes (RNNs)](https://arxiv.org/abs/1510.06168) o de tipo [transformer](https://github.com/soutsios/pos-tagger-bert).\n",
        "\n",
        "<img src=\"http://www.tsc.uc3m.es/~olmos/BBVA/rnnPOS.png\" width=\"70%\">\n",
        "\n",
        "## POS tagging con NLTK\n",
        "\n",
        "En NLTK, la función `pos_tag` implementa desde 2018 el algoritmo [PerceptronTagger](https://explosion.ai/blog/part-of-speech-pos-tagger-in-python). Usando un modelo de tipo de CRF,  se entrena un clasificador que determina la probabilidad de la etiqueta $y_i$ en base al siguiente conjunto de características:\n",
        "\n",
        "- Palabras $x_i$, $x_{i-1}$, $x_{i+1}$, $x_{i+2}$ (típicamente codificadas con *word embeddings*, que veremos la semana que viene)\n",
        "- Sufijos (últimas 3 letras), prefijo (primera letra) de las palabras anteriores\n",
        "- Tags de las dos palabras anteriores $y_{i-1}$, $y_{i-2}$\n",
        "\n",
        "Las predicciones $P(y_i|x_i,x_{i-1},x_{i+1},x_{i+2},y_{i-1},y_{i-2})$ se propagan a lo largo del texto.\n",
        "\n",
        "La utilización de dicha función en NLTK es muy sencilla:\n",
        "\n",
        "\n",
        "\n"
      ]
    },
    {
      "cell_type": "code",
      "execution_count": null,
      "metadata": {
        "colab": {
          "base_uri": "https://localhost:8080/",
          "height": 108
        },
        "id": "aSTmT_1zo9eh",
        "outputId": "ecf58fb5-cf04-46f9-fb46-4b1ae76eed6d"
      },
      "outputs": [
        {
          "name": "stderr",
          "output_type": "stream",
          "text": [
            "[nltk_data] Downloading package averaged_perceptron_tagger to\n",
            "[nltk_data]     /Users/olmos/nltk_data...\n",
            "[nltk_data]   Package averaged_perceptron_tagger is already up-to-\n",
            "[nltk_data]       date!\n"
          ]
        },
        {
          "data": {
            "text/html": [
              "<div>\n",
              "<style scoped>\n",
              "    .dataframe tbody tr th:only-of-type {\n",
              "        vertical-align: middle;\n",
              "    }\n",
              "\n",
              "    .dataframe tbody tr th {\n",
              "        vertical-align: top;\n",
              "    }\n",
              "\n",
              "    .dataframe thead th {\n",
              "        text-align: right;\n",
              "    }\n",
              "</style>\n",
              "<table border=\"1\" class=\"dataframe\">\n",
              "  <thead>\n",
              "    <tr style=\"text-align: right;\">\n",
              "      <th></th>\n",
              "      <th>0</th>\n",
              "      <th>1</th>\n",
              "      <th>2</th>\n",
              "      <th>3</th>\n",
              "      <th>4</th>\n",
              "      <th>5</th>\n",
              "      <th>6</th>\n",
              "      <th>7</th>\n",
              "      <th>8</th>\n",
              "      <th>9</th>\n",
              "      <th>10</th>\n",
              "    </tr>\n",
              "  </thead>\n",
              "  <tbody>\n",
              "    <tr>\n",
              "      <th>Word</th>\n",
              "      <td>Apple</td>\n",
              "      <td>is</td>\n",
              "      <td>looking</td>\n",
              "      <td>at</td>\n",
              "      <td>buying</td>\n",
              "      <td>U.K.</td>\n",
              "      <td>startup</td>\n",
              "      <td>for</td>\n",
              "      <td>$</td>\n",
              "      <td>1</td>\n",
              "      <td>billion</td>\n",
              "    </tr>\n",
              "    <tr>\n",
              "      <th>POS tag</th>\n",
              "      <td>NNP</td>\n",
              "      <td>VBZ</td>\n",
              "      <td>VBG</td>\n",
              "      <td>IN</td>\n",
              "      <td>VBG</td>\n",
              "      <td>NNP</td>\n",
              "      <td>NN</td>\n",
              "      <td>IN</td>\n",
              "      <td>$</td>\n",
              "      <td>CD</td>\n",
              "      <td>CD</td>\n",
              "    </tr>\n",
              "  </tbody>\n",
              "</table>\n",
              "</div>"
            ],
            "text/plain": [
              "             0    1        2   3       4     5        6    7  8   9       10\n",
              "Word     Apple   is  looking  at  buying  U.K.  startup  for  $   1  billion\n",
              "POS tag    NNP  VBZ      VBG  IN     VBG   NNP       NN   IN  $  CD       CD"
            ]
          },
          "execution_count": 2,
          "metadata": {},
          "output_type": "execute_result"
        }
      ],
      "source": [
        "nltk.download('averaged_perceptron_tagger')\n",
        "\n",
        "sentence = \"Apple is looking at buying U.K. startup for $1 billion\"\n",
        "\n",
        "nltk_pos_tagged = nltk.pos_tag(nltk.word_tokenize(sentence))\n",
        "\n",
        "pd.DataFrame(nltk_pos_tagged, columns=['Word', 'POS tag']).T"
      ]
    },
    {
      "cell_type": "code",
      "execution_count": null,
      "metadata": {
        "id": "CTr6xLLl0Mlj"
      },
      "outputs": [],
      "source": []
    },
    {
      "cell_type": "markdown",
      "metadata": {
        "id": "hyB0WcRBo9eh"
      },
      "source": [
        "`nltk_pos_tagged` es una lista de tuplas, cada una con la palabra y su correspondiente etiqueta:"
      ]
    },
    {
      "cell_type": "code",
      "execution_count": null,
      "metadata": {
        "colab": {
          "base_uri": "https://localhost:8080/"
        },
        "id": "FO9gT1FFo9ei",
        "outputId": "9efcdc00-8e38-495d-dbd7-f8ebfa27e4f5"
      },
      "outputs": [
        {
          "data": {
            "text/plain": [
              "[('Apple', 'NNP'),\n",
              " ('is', 'VBZ'),\n",
              " ('looking', 'VBG'),\n",
              " ('at', 'IN'),\n",
              " ('buying', 'VBG'),\n",
              " ('U.K.', 'NNP'),\n",
              " ('startup', 'NN'),\n",
              " ('for', 'IN'),\n",
              " ('$', '$'),\n",
              " ('1', 'CD'),\n",
              " ('billion', 'CD')]"
            ]
          },
          "execution_count": 3,
          "metadata": {},
          "output_type": "execute_result"
        }
      ],
      "source": [
        "nltk_pos_tagged"
      ]
    },
    {
      "cell_type": "markdown",
      "metadata": {
        "id": "ilMV2edao9ei"
      },
      "source": [
        "> **Ejercicio**: dado el siguiente texto, extraer en una lista todos los verbos:"
      ]
    },
    {
      "cell_type": "code",
      "execution_count": null,
      "metadata": {
        "id": "93QoE0R3o9ei"
      },
      "outputs": [],
      "source": [
        "text = \"\"\"\n",
        " Stanford snapped a 29-year title drought to end a season that at points seemed uncertain to be completed during the coronavirus pandemic, claiming the N.C.A.A. women’s basketball championship with a tight win Sunday over Arizona, 54-53.\n",
        "\n",
        "Stanford led for much of the game and started the fourth quarter up 3 points. But Arizona guard Aari McDonald, who had scored the most points by any player in the tournament before Sunday’s game, started beating Stanford’s defenses and closed Arizona’s deficit to 1 on a step-back jumper with 3 minutes, 35 seconds left.\n",
        "\n",
        "Stanford’s Haley Jones, whose game-winning shot helped the Cardinal defeat top-seeded South Carolina in the Final Four and who led them with 17 points Sunday, added a free throw to offer the Cardinal a cushion, but McDonald was hot. She got closer with a free throw, then had a final opportunity after Stanford turned it over on a shot clock violation with less than 6 seconds left.\n",
        "\"\"\""
      ]
    },
    {
      "cell_type": "code",
      "execution_count": null,
      "metadata": {
        "colab": {
          "base_uri": "https://localhost:8080/"
        },
        "id": "13viFoyIo9ei",
        "outputId": "0b169681-24d4-4c91-dbd3-63ddfed915d3"
      },
      "outputs": [
        {
          "name": "stdout",
          "output_type": "stream",
          "text": [
            "\n",
            " Stanford snapped a 29-year title drought to end a season that at points seemed uncertain to be completed during the coronavirus pandemic, claiming the N.C.A.A. women’s basketball championship with a tight win Sunday over Arizona, 54-53.\n",
            "\n",
            "Stanford led for much of the game and started the fourth quarter up 3 points. But Arizona guard Aari McDonald, who had scored the most points by any player in the tournament before Sunday’s game, started beating Stanford’s defenses and closed Arizona’s deficit to 1 on a step-back jumper with 3 minutes, 35 seconds left.\n",
            "\n",
            "Stanford’s Haley Jones, whose game-winning shot helped the Cardinal defeat top-seeded South Carolina in the Final Four and who led them with 17 points Sunday, added a free throw to offer the Cardinal a cushion, but McDonald was hot. She got closer with a free throw, then had a final opportunity after Stanford turned it over on a shot clock violation with less than 6 seconds left.\n",
            "\n"
          ]
        }
      ],
      "source": [
        "print(text)"
      ]
    },
    {
      "cell_type": "code",
      "execution_count": null,
      "metadata": {
        "id": "aUhAM82to9ei"
      },
      "outputs": [],
      "source": [
        "nltk_pos_tagged = nltk.pos_tag(nltk.word_tokenize(text))"
      ]
    },
    {
      "cell_type": "code",
      "execution_count": null,
      "metadata": {
        "colab": {
          "base_uri": "https://localhost:8080/"
        },
        "id": "3kQRHGzgo9ej",
        "outputId": "15265208-bff2-4a8f-fd02-12f13efc88fb"
      },
      "outputs": [
        {
          "name": "stdout",
          "output_type": "stream",
          "text": [
            "['snapped', 'end', 'seemed', 'be', 'completed', 'claiming', '’', 'led', 'started', 'guard', 'had', 'scored', 'started', 'beating', 'closed', 's', 'left', 's', 'helped', 'led', 'added', 'offer', 'was', 'got', 'had', 'turned', 'left']\n"
          ]
        }
      ],
      "source": [
        "verbs = [w for (w,t) in nltk_pos_tagged if (t[:2]=='VB' or t =='MD')]  ## MD for modal verbs\n",
        "\n",
        "print(verbs)"
      ]
    },
    {
      "cell_type": "markdown",
      "metadata": {
        "id": "TZRPDNbpo9ej"
      },
      "source": [
        "Podemos ver cómo hay cierto problema en los posesivos tipo `women’s basketball`. Esto es debido símplemente a la codificación del apostrofe al copiar y pegar directamente del [enlace](https://www.nytimes.com/2021/04/04/sports/ncaabasketball/stanford-arizona-ncaa-womens-basketball-championship.html):"
      ]
    },
    {
      "cell_type": "code",
      "execution_count": null,
      "metadata": {
        "colab": {
          "base_uri": "https://localhost:8080/"
        },
        "id": "w3fmwVMVo9ej",
        "outputId": "0074eb50-5316-4086-e48b-0cd5956d4058"
      },
      "outputs": [
        {
          "name": "stdout",
          "output_type": "stream",
          "text": [
            "['snapped', 'end', 'seemed', 'be', 'completed', 'claiming', 'led', 'started', 'guard', 'had', 'scored', 'started', 'beating', 'closed', 'left', 'helped', 'led', 'added', 'offer', 'was', 'got', 'had', 'turned', 'left']\n"
          ]
        }
      ],
      "source": [
        "text_new = text.replace(\"’\",\"'\")\n",
        "\n",
        "# Alternativamente\n",
        "\n",
        "#text_new = text.replace(u\"\\u2019\",u\"\\u0027\")\n",
        "\n",
        "nltk_pos_tagged = nltk.pos_tag(nltk.word_tokenize(text_new))\n",
        "\n",
        "verbs = [w for (w,t) in nltk_pos_tagged if (t[:2]=='VB' or t =='MD')]  ## MD for modal verbs\n",
        "\n",
        "print(verbs)\n"
      ]
    },
    {
      "cell_type": "markdown",
      "metadata": {
        "id": "0G7n8CW_o9ej"
      },
      "source": [
        "### Desambiguación de palabras y lematización\n",
        "\n",
        "Al tratarse de un modelo secuencial, un POS tagger permite separar cuándo determinadas palabras actúan como verbo o como sustantivo ... "
      ]
    },
    {
      "cell_type": "code",
      "execution_count": null,
      "metadata": {
        "colab": {
          "base_uri": "https://localhost:8080/",
          "height": 108
        },
        "id": "lvXlGyT-o9ek",
        "outputId": "ad64197d-ac3f-415f-a7fc-88ad43651945"
      },
      "outputs": [
        {
          "data": {
            "text/html": [
              "<div>\n",
              "<style scoped>\n",
              "    .dataframe tbody tr th:only-of-type {\n",
              "        vertical-align: middle;\n",
              "    }\n",
              "\n",
              "    .dataframe tbody tr th {\n",
              "        vertical-align: top;\n",
              "    }\n",
              "\n",
              "    .dataframe thead th {\n",
              "        text-align: right;\n",
              "    }\n",
              "</style>\n",
              "<table border=\"1\" class=\"dataframe\">\n",
              "  <thead>\n",
              "    <tr style=\"text-align: right;\">\n",
              "      <th></th>\n",
              "      <th>Word</th>\n",
              "      <th>POS tag</th>\n",
              "    </tr>\n",
              "  </thead>\n",
              "  <tbody>\n",
              "    <tr>\n",
              "      <th>0</th>\n",
              "      <td>The</td>\n",
              "      <td>DT</td>\n",
              "    </tr>\n",
              "    <tr>\n",
              "      <th>1</th>\n",
              "      <td>boy</td>\n",
              "      <td>NN</td>\n",
              "    </tr>\n",
              "    <tr>\n",
              "      <th>2</th>\n",
              "      <td>John</td>\n",
              "      <td>NNP</td>\n",
              "    </tr>\n",
              "    <tr>\n",
              "      <th>3</th>\n",
              "      <td>fell</td>\n",
              "      <td>VBD</td>\n",
              "    </tr>\n",
              "    <tr>\n",
              "      <th>4</th>\n",
              "      <td>in</td>\n",
              "      <td>IN</td>\n",
              "    </tr>\n",
              "    <tr>\n",
              "      <th>5</th>\n",
              "      <td>a</td>\n",
              "      <td>DT</td>\n",
              "    </tr>\n",
              "    <tr>\n",
              "      <th>6</th>\n",
              "      <td>well</td>\n",
              "      <td>NN</td>\n",
              "    </tr>\n",
              "    <tr>\n",
              "      <th>7</th>\n",
              "      <td>but</td>\n",
              "      <td>CC</td>\n",
              "    </tr>\n",
              "    <tr>\n",
              "      <th>8</th>\n",
              "      <td>soon</td>\n",
              "      <td>RB</td>\n",
              "    </tr>\n",
              "    <tr>\n",
              "      <th>9</th>\n",
              "      <td>after</td>\n",
              "      <td>IN</td>\n",
              "    </tr>\n",
              "    <tr>\n",
              "      <th>10</th>\n",
              "      <td>he</td>\n",
              "      <td>PRP</td>\n",
              "    </tr>\n",
              "    <tr>\n",
              "      <th>11</th>\n",
              "      <td>was</td>\n",
              "      <td>VBD</td>\n",
              "    </tr>\n",
              "    <tr>\n",
              "      <th>12</th>\n",
              "      <td>feeling</td>\n",
              "      <td>VBG</td>\n",
              "    </tr>\n",
              "    <tr>\n",
              "      <th>13</th>\n",
              "      <td>well</td>\n",
              "      <td>RB</td>\n",
              "    </tr>\n",
              "  </tbody>\n",
              "</table>\n",
              "</div>"
            ],
            "text/plain": [
              "       Word POS tag\n",
              "0       The      DT\n",
              "1       boy      NN\n",
              "2      John     NNP\n",
              "3      fell     VBD\n",
              "4        in      IN\n",
              "5         a      DT\n",
              "6      well      NN\n",
              "7       but      CC\n",
              "8      soon      RB\n",
              "9     after      IN\n",
              "10       he     PRP\n",
              "11      was     VBD\n",
              "12  feeling     VBG\n",
              "13     well      RB"
            ]
          },
          "execution_count": 9,
          "metadata": {},
          "output_type": "execute_result"
        }
      ],
      "source": [
        "sentence = \"The boy John fell in a well but soon after he was feeling well\"\n",
        "\n",
        "nltk_pos_tagged = nltk.pos_tag(nltk.word_tokenize(sentence))\n",
        "\n",
        "pd.DataFrame(nltk_pos_tagged, columns=['Word', 'POS tag'])\n"
      ]
    },
    {
      "cell_type": "code",
      "execution_count": null,
      "metadata": {
        "colab": {
          "base_uri": "https://localhost:8080/",
          "height": 108
        },
        "id": "nhul2EAYo9el",
        "outputId": "76d1fb92-d0df-4e76-fcb5-188b478b6f3c"
      },
      "outputs": [
        {
          "data": {
            "text/html": [
              "<div>\n",
              "<style scoped>\n",
              "    .dataframe tbody tr th:only-of-type {\n",
              "        vertical-align: middle;\n",
              "    }\n",
              "\n",
              "    .dataframe tbody tr th {\n",
              "        vertical-align: top;\n",
              "    }\n",
              "\n",
              "    .dataframe thead th {\n",
              "        text-align: right;\n",
              "    }\n",
              "</style>\n",
              "<table border=\"1\" class=\"dataframe\">\n",
              "  <thead>\n",
              "    <tr style=\"text-align: right;\">\n",
              "      <th></th>\n",
              "      <th>Word</th>\n",
              "      <th>POS tag</th>\n",
              "    </tr>\n",
              "  </thead>\n",
              "  <tbody>\n",
              "    <tr>\n",
              "      <th>0</th>\n",
              "      <td>I</td>\n",
              "      <td>PRP</td>\n",
              "    </tr>\n",
              "    <tr>\n",
              "      <th>1</th>\n",
              "      <td>am</td>\n",
              "      <td>VBP</td>\n",
              "    </tr>\n",
              "    <tr>\n",
              "      <th>2</th>\n",
              "      <td>an</td>\n",
              "      <td>DT</td>\n",
              "    </tr>\n",
              "    <tr>\n",
              "      <th>3</th>\n",
              "      <td>engineer</td>\n",
              "      <td>NN</td>\n",
              "    </tr>\n",
              "    <tr>\n",
              "      <th>4</th>\n",
              "      <td>.</td>\n",
              "      <td>.</td>\n",
              "    </tr>\n",
              "    <tr>\n",
              "      <th>5</th>\n",
              "      <td>Some</td>\n",
              "      <td>DT</td>\n",
              "    </tr>\n",
              "    <tr>\n",
              "      <th>6</th>\n",
              "      <td>day</td>\n",
              "      <td>NN</td>\n",
              "    </tr>\n",
              "    <tr>\n",
              "      <th>7</th>\n",
              "      <td>I</td>\n",
              "      <td>PRP</td>\n",
              "    </tr>\n",
              "    <tr>\n",
              "      <th>8</th>\n",
              "      <td>hope</td>\n",
              "      <td>VBP</td>\n",
              "    </tr>\n",
              "    <tr>\n",
              "      <th>9</th>\n",
              "      <td>to</td>\n",
              "      <td>TO</td>\n",
              "    </tr>\n",
              "    <tr>\n",
              "      <th>10</th>\n",
              "      <td>engineer</td>\n",
              "      <td>VB</td>\n",
              "    </tr>\n",
              "    <tr>\n",
              "      <th>11</th>\n",
              "      <td>an</td>\n",
              "      <td>DT</td>\n",
              "    </tr>\n",
              "    <tr>\n",
              "      <th>12</th>\n",
              "      <td>electric</td>\n",
              "      <td>JJ</td>\n",
              "    </tr>\n",
              "    <tr>\n",
              "      <th>13</th>\n",
              "      <td>engine</td>\n",
              "      <td>NN</td>\n",
              "    </tr>\n",
              "  </tbody>\n",
              "</table>\n",
              "</div>"
            ],
            "text/plain": [
              "        Word POS tag\n",
              "0          I     PRP\n",
              "1         am     VBP\n",
              "2         an      DT\n",
              "3   engineer      NN\n",
              "4          .       .\n",
              "5       Some      DT\n",
              "6        day      NN\n",
              "7          I     PRP\n",
              "8       hope     VBP\n",
              "9         to      TO\n",
              "10  engineer      VB\n",
              "11        an      DT\n",
              "12  electric      JJ\n",
              "13    engine      NN"
            ]
          },
          "execution_count": 10,
          "metadata": {},
          "output_type": "execute_result"
        }
      ],
      "source": [
        "sentence2 = \"I am an engineer. Some day I hope to engineer an electric engine\"\n",
        "\n",
        "nltk_pos_tagged = nltk.pos_tag(nltk.word_tokenize(sentence2))\n",
        "\n",
        "pd.DataFrame(nltk_pos_tagged, columns=['Word', 'POS tag'])"
      ]
    },
    {
      "cell_type": "markdown",
      "metadata": {
        "id": "UTJi-RAe0Mlr"
      },
      "source": [
        "El hecho de que un POS tagger nos permita desambiguar palabras es también útil para mejorar las prestaciones del **lematizador**. En NLTK, el lematizador de no tiene en cuenta el POS tag de cada palabra (y por tanto su contexto):"
      ]
    },
    {
      "cell_type": "code",
      "execution_count": null,
      "metadata": {
        "id": "j8cS5ajX0Mlr",
        "outputId": "00f7617c-bfab-4a97-edca-00fdfe8f2cd5"
      },
      "outputs": [
        {
          "data": {
            "text/plain": [
              "'loving'"
            ]
          },
          "execution_count": 11,
          "metadata": {},
          "output_type": "execute_result"
        }
      ],
      "source": [
        "nltk.stem.WordNetLemmatizer().lemmatize('loving') ## loving puede ser adjetivo o gerundio del verbo love"
      ]
    },
    {
      "cell_type": "code",
      "execution_count": null,
      "metadata": {
        "id": "KITCbiTE0Mls",
        "outputId": "02f246dd-0f85-4b62-fe8e-7ff78b9b1187"
      },
      "outputs": [
        {
          "data": {
            "text/plain": [
              "'love'"
            ]
          },
          "execution_count": 12,
          "metadata": {},
          "output_type": "execute_result"
        }
      ],
      "source": [
        "# Si indicamos explicitamente la categoría gramatical de la palabra\n",
        "\n",
        "nltk.stem.WordNetLemmatizer().lemmatize('loving','v') ## Forzamos verbo ..."
      ]
    },
    {
      "cell_type": "markdown",
      "metadata": {
        "id": "tvEJdmxu0Mls"
      },
      "source": [
        "Para hacer la lematización mejor y dependiente del contexto, utilizaremos la etiqueta POS y la pasaremos al lematizador. "
      ]
    },
    {
      "cell_type": "code",
      "execution_count": null,
      "metadata": {
        "id": "9a7-Ps1X0Mlt",
        "outputId": "3698d064-51ab-455b-a52e-ac1c5f1cb9c1"
      },
      "outputs": [
        {
          "name": "stdout",
          "output_type": "stream",
          "text": [
            "He seems like a loving husband and she is loving her new car .\n"
          ]
        }
      ],
      "source": [
        "from nltk.stem.wordnet import WordNetLemmatizer\n",
        "lemmatizer = WordNetLemmatizer()\n",
        "\n",
        "\n",
        "text = list(nltk.word_tokenize(\"He seems like a loving husband and she is loving her new car.\"))\n",
        "\n",
        "lemmas = [lemmatizer.lemmatize(t) for t in text]\n",
        "lematizado1 = \" \".join(lemmas)\n",
        "\n",
        "print(lematizado1)"
      ]
    },
    {
      "cell_type": "markdown",
      "metadata": {
        "id": "AO0boASa0Mlt"
      },
      "source": [
        "Extraigamos el POS tag del texto anterior ..."
      ]
    },
    {
      "cell_type": "code",
      "execution_count": null,
      "metadata": {
        "id": "gB-5S9AH0Mlt",
        "outputId": "82d8f3cc-2473-4d54-9818-5e036e30de93"
      },
      "outputs": [
        {
          "data": {
            "text/plain": [
              "[('He', 'PRP'),\n",
              " ('seems', 'VBZ'),\n",
              " ('like', 'IN'),\n",
              " ('a', 'DT'),\n",
              " ('loving', 'JJ'),\n",
              " ('husband', 'NN'),\n",
              " ('and', 'CC'),\n",
              " ('she', 'PRP'),\n",
              " ('is', 'VBZ'),\n",
              " ('loving', 'VBG'),\n",
              " ('her', 'PRP$'),\n",
              " ('new', 'JJ'),\n",
              " ('car', 'NN'),\n",
              " ('.', '.')]"
            ]
          },
          "execution_count": 14,
          "metadata": {},
          "output_type": "execute_result"
        }
      ],
      "source": [
        "text_tagged = nltk.pos_tag(text)\n",
        "text_tagged"
      ]
    },
    {
      "cell_type": "markdown",
      "metadata": {
        "id": "RKWNUra50Mlu"
      },
      "source": [
        "Si ahora queremos utilizar este etiquetado para nuestro lematizador, tenemos que adaptarlo, ya que las entradas de pos en el lematizador no son directamente las etiquetas que nos da el etiquetador. Pero podemos hacer la conversión con esta función:"
      ]
    },
    {
      "cell_type": "code",
      "execution_count": null,
      "metadata": {
        "id": "ak0LiOzE0Mlu",
        "outputId": "724c0be8-67df-43b3-e4de-933c460cdc44"
      },
      "outputs": [
        {
          "name": "stdout",
          "output_type": "stream",
          "text": [
            "He seem like a loving husband and she be love her new car .\n"
          ]
        }
      ],
      "source": [
        "from nltk.corpus import wordnet\n",
        "\n",
        "# function to convert nltk tag to wordnet tag\n",
        "def nltk_tag_to_wordnet_tag(nltk_tag):\n",
        "    if nltk_tag.startswith('J'):\n",
        "        return wordnet.ADJ\n",
        "    elif nltk_tag.startswith('V'):\n",
        "        return wordnet.VERB\n",
        "    elif nltk_tag.startswith('N'):\n",
        "        return wordnet.NOUN\n",
        "    elif nltk_tag.startswith('R'):\n",
        "        return wordnet.ADV\n",
        "    else:          \n",
        "        return None\n",
        "\n",
        "\n",
        "lemmas = [lemmatizer.lemmatize(t, nltk_tag_to_wordnet_tag(tag)) if (nltk_tag_to_wordnet_tag(tag) is not None) else  lemmatizer.lemmatize(t) for (t, tag) in text_tagged]\n",
        "lematizado2 = \" \".join(lemmas)\n",
        "print(lematizado2)"
      ]
    },
    {
      "cell_type": "markdown",
      "metadata": {
        "id": "0Wa71sQBo9el"
      },
      "source": [
        "## POS tagging en spaCy\n",
        "\n",
        "[spaCy](https://spacy.io/) es una biblioteca gratuita de código abierto para el procesamiento avanzado del lenguaje natural en Python. spaCy está diseñado específicamente para uso en producción. A diferencia de NLTK, spaCy sigue una orientación de objetos. Por ejemplo, cuando tokenizamos un texto, cada token es un objeto con atributos y propiedades específicas.\n",
        "\n",
        "Spacy da soporte para más de 64 idiomas, incluyendo modelos estadísticos ya entrenados para [17 de ellos](https://spacy.io/usage/models) (incluyendo word embeddings y modelos basados en [transformers](https://spacy.io/usage/v3), la última revolución en NLP).\n",
        "\n",
        "\n",
        "Puesto que en esta sesión sólo vamos a cubrir algunos aspectos básicos de spaCy, en los siguientes recursos podéis encontrar material adicional:\n",
        "\n",
        "- [spaCy 101 course](https://spacy.io/usage/spacy-101)\n",
        "- [Advanced Tutorial](https://course.spacy.io/en/)\n",
        "\n",
        "\n",
        "El procesado de texto con spaCy es sencillo. Cargaremos un modelo pre-entrenado para un determinado idioma, y pasamos cualquier texto a procesar. spaCy ejecutará una serie de procesos (pipeline) sobre el mismo y  devolverá un objeto tipo `doc`.\n",
        "\n",
        "<figure>\n",
        "<center>\n",
        "<img src='https://spacy.io/images/architecture.svg' width=\"800\"></img>\n",
        "<figcaption>From Spacy documentation</figcaption></center>\n",
        "</figure>\n",
        "\n",
        "La arquitectura básica en spaCy es la siguiente:\n",
        "\n",
        "   - `Language`: se determina al cargar el modelo y el pipeline de procesos asociados. Trasforma texto en objectos spaCy.\n",
        "   - `Doc`: Secuencia iterable de tokens. \n",
        "   - `Vocab`: Diccionario asociado al modelo.  \n",
        "\n"
      ]
    },
    {
      "cell_type": "markdown",
      "metadata": {
        "id": "XxfU6wl70Mlv"
      },
      "source": [
        "En el siguiente código, descargamos e importamos uno de los [modelos estadísticos pre-entrenados para idioma inglés](https://spacy.io/models/en)..."
      ]
    },
    {
      "cell_type": "code",
      "execution_count": null,
      "metadata": {
        "scrolled": true,
        "id": "sjQBXmQh0Mlv"
      },
      "outputs": [],
      "source": [
        "# Para forzar spacy 3.0 (con colab se abre 2.2.X)\n",
        "#!pip install --upgrade spacy"
      ]
    },
    {
      "cell_type": "code",
      "execution_count": null,
      "metadata": {
        "colab": {
          "base_uri": "https://localhost:8080/"
        },
        "id": "_dxoMBTLo9em",
        "outputId": "931f8cb3-73dc-4ab4-dd7a-1deba83e6172",
        "scrolled": true
      },
      "outputs": [
        {
          "name": "stdout",
          "output_type": "stream",
          "text": [
            "Collecting en-core-web-sm==3.2.0\n",
            "  Downloading https://github.com/explosion/spacy-models/releases/download/en_core_web_sm-3.2.0/en_core_web_sm-3.2.0-py3-none-any.whl (13.9 MB)\n",
            "     |████████████████████████████████| 13.9 MB 3.1 MB/s            \n",
            "\u001b[?25hRequirement already satisfied: spacy<3.3.0,>=3.2.0 in /Users/olmos/opt/anaconda3/envs/gensim3/lib/python3.6/site-packages (from en-core-web-sm==3.2.0) (3.2.3)\n",
            "Requirement already satisfied: numpy>=1.15.0 in /Users/olmos/opt/anaconda3/envs/gensim3/lib/python3.6/site-packages (from spacy<3.3.0,>=3.2.0->en-core-web-sm==3.2.0) (1.19.5)\n",
            "Requirement already satisfied: packaging>=20.0 in /Users/olmos/opt/anaconda3/envs/gensim3/lib/python3.6/site-packages (from spacy<3.3.0,>=3.2.0->en-core-web-sm==3.2.0) (20.4)\n",
            "Requirement already satisfied: langcodes<4.0.0,>=3.2.0 in /Users/olmos/opt/anaconda3/envs/gensim3/lib/python3.6/site-packages (from spacy<3.3.0,>=3.2.0->en-core-web-sm==3.2.0) (3.3.0)\n",
            "Requirement already satisfied: blis<0.8.0,>=0.4.0 in /Users/olmos/opt/anaconda3/envs/gensim3/lib/python3.6/site-packages (from spacy<3.3.0,>=3.2.0->en-core-web-sm==3.2.0) (0.4.1)\n",
            "Requirement already satisfied: pathy>=0.3.5 in /Users/olmos/opt/anaconda3/envs/gensim3/lib/python3.6/site-packages (from spacy<3.3.0,>=3.2.0->en-core-web-sm==3.2.0) (0.6.1)\n",
            "Requirement already satisfied: catalogue<2.1.0,>=2.0.6 in /Users/olmos/opt/anaconda3/envs/gensim3/lib/python3.6/site-packages (from spacy<3.3.0,>=3.2.0->en-core-web-sm==3.2.0) (2.0.6)\n",
            "Requirement already satisfied: setuptools in /Users/olmos/opt/anaconda3/envs/gensim3/lib/python3.6/site-packages (from spacy<3.3.0,>=3.2.0->en-core-web-sm==3.2.0) (59.5.0)\n",
            "Requirement already satisfied: typing-extensions<4.0.0.0,>=3.7.4 in /Users/olmos/opt/anaconda3/envs/gensim3/lib/python3.6/site-packages (from spacy<3.3.0,>=3.2.0->en-core-web-sm==3.2.0) (3.10.0.2)\n",
            "Requirement already satisfied: typer<0.5.0,>=0.3.0 in /Users/olmos/opt/anaconda3/envs/gensim3/lib/python3.6/site-packages (from spacy<3.3.0,>=3.2.0->en-core-web-sm==3.2.0) (0.4.0)\n",
            "Requirement already satisfied: preshed<3.1.0,>=3.0.2 in /Users/olmos/opt/anaconda3/envs/gensim3/lib/python3.6/site-packages (from spacy<3.3.0,>=3.2.0->en-core-web-sm==3.2.0) (3.0.2)\n",
            "Requirement already satisfied: cymem<2.1.0,>=2.0.2 in /Users/olmos/opt/anaconda3/envs/gensim3/lib/python3.6/site-packages (from spacy<3.3.0,>=3.2.0->en-core-web-sm==3.2.0) (2.0.3)\n",
            "Requirement already satisfied: requests<3.0.0,>=2.13.0 in /Users/olmos/opt/anaconda3/envs/gensim3/lib/python3.6/site-packages (from spacy<3.3.0,>=3.2.0->en-core-web-sm==3.2.0) (2.24.0)\n",
            "Requirement already satisfied: murmurhash<1.1.0,>=0.28.0 in /Users/olmos/opt/anaconda3/envs/gensim3/lib/python3.6/site-packages (from spacy<3.3.0,>=3.2.0->en-core-web-sm==3.2.0) (1.0.6)\n",
            "Requirement already satisfied: spacy-legacy<3.1.0,>=3.0.8 in /Users/olmos/opt/anaconda3/envs/gensim3/lib/python3.6/site-packages (from spacy<3.3.0,>=3.2.0->en-core-web-sm==3.2.0) (3.0.9)\n",
            "Requirement already satisfied: srsly<3.0.0,>=2.4.1 in /Users/olmos/opt/anaconda3/envs/gensim3/lib/python3.6/site-packages (from spacy<3.3.0,>=3.2.0->en-core-web-sm==3.2.0) (2.4.2)\n",
            "Requirement already satisfied: jinja2 in /Users/olmos/opt/anaconda3/envs/gensim3/lib/python3.6/site-packages (from spacy<3.3.0,>=3.2.0->en-core-web-sm==3.2.0) (2.11.2)\n",
            "Requirement already satisfied: tqdm<5.0.0,>=4.38.0 in /Users/olmos/opt/anaconda3/envs/gensim3/lib/python3.6/site-packages (from spacy<3.3.0,>=3.2.0->en-core-web-sm==3.2.0) (4.47.0)\n",
            "Requirement already satisfied: wasabi<1.1.0,>=0.8.1 in /Users/olmos/opt/anaconda3/envs/gensim3/lib/python3.6/site-packages (from spacy<3.3.0,>=3.2.0->en-core-web-sm==3.2.0) (0.9.0)\n",
            "Requirement already satisfied: thinc<8.1.0,>=8.0.12 in /Users/olmos/opt/anaconda3/envs/gensim3/lib/python3.6/site-packages (from spacy<3.3.0,>=3.2.0->en-core-web-sm==3.2.0) (8.0.13)\n",
            "Requirement already satisfied: spacy-loggers<2.0.0,>=1.0.0 in /Users/olmos/opt/anaconda3/envs/gensim3/lib/python3.6/site-packages (from spacy<3.3.0,>=3.2.0->en-core-web-sm==3.2.0) (1.0.1)\n",
            "Requirement already satisfied: pydantic!=1.8,!=1.8.1,<1.9.0,>=1.7.4 in /Users/olmos/opt/anaconda3/envs/gensim3/lib/python3.6/site-packages (from spacy<3.3.0,>=3.2.0->en-core-web-sm==3.2.0) (1.8.2)\n",
            "Requirement already satisfied: zipp>=0.5 in /Users/olmos/opt/anaconda3/envs/gensim3/lib/python3.6/site-packages (from catalogue<2.1.0,>=2.0.6->spacy<3.3.0,>=3.2.0->en-core-web-sm==3.2.0) (3.1.0)\n",
            "Requirement already satisfied: pyparsing>=2.0.2 in /Users/olmos/opt/anaconda3/envs/gensim3/lib/python3.6/site-packages (from packaging>=20.0->spacy<3.3.0,>=3.2.0->en-core-web-sm==3.2.0) (2.4.7)\n",
            "Requirement already satisfied: six in /Users/olmos/opt/anaconda3/envs/gensim3/lib/python3.6/site-packages (from packaging>=20.0->spacy<3.3.0,>=3.2.0->en-core-web-sm==3.2.0) (1.15.0)\n",
            "Requirement already satisfied: dataclasses<1.0,>=0.6 in /Users/olmos/opt/anaconda3/envs/gensim3/lib/python3.6/site-packages (from pathy>=0.3.5->spacy<3.3.0,>=3.2.0->en-core-web-sm==3.2.0) (0.8)\n",
            "Requirement already satisfied: smart-open<6.0.0,>=5.0.0 in /Users/olmos/opt/anaconda3/envs/gensim3/lib/python3.6/site-packages (from pathy>=0.3.5->spacy<3.3.0,>=3.2.0->en-core-web-sm==3.2.0) (5.2.1)\n",
            "Requirement already satisfied: chardet<4,>=3.0.2 in /Users/olmos/opt/anaconda3/envs/gensim3/lib/python3.6/site-packages (from requests<3.0.0,>=2.13.0->spacy<3.3.0,>=3.2.0->en-core-web-sm==3.2.0) (3.0.4)\n",
            "Requirement already satisfied: urllib3!=1.25.0,!=1.25.1,<1.26,>=1.21.1 in /Users/olmos/opt/anaconda3/envs/gensim3/lib/python3.6/site-packages (from requests<3.0.0,>=2.13.0->spacy<3.3.0,>=3.2.0->en-core-web-sm==3.2.0) (1.25.9)\n",
            "Requirement already satisfied: certifi>=2017.4.17 in /Users/olmos/opt/anaconda3/envs/gensim3/lib/python3.6/site-packages (from requests<3.0.0,>=2.13.0->spacy<3.3.0,>=3.2.0->en-core-web-sm==3.2.0) (2020.6.20)\n",
            "Requirement already satisfied: idna<3,>=2.5 in /Users/olmos/opt/anaconda3/envs/gensim3/lib/python3.6/site-packages (from requests<3.0.0,>=2.13.0->spacy<3.3.0,>=3.2.0->en-core-web-sm==3.2.0) (2.10)\n",
            "Requirement already satisfied: contextvars<3,>=2.4 in /Users/olmos/opt/anaconda3/envs/gensim3/lib/python3.6/site-packages (from thinc<8.1.0,>=8.0.12->spacy<3.3.0,>=3.2.0->en-core-web-sm==3.2.0) (2.4)\n",
            "Requirement already satisfied: click<9.0.0,>=7.1.1 in /Users/olmos/opt/anaconda3/envs/gensim3/lib/python3.6/site-packages (from typer<0.5.0,>=0.3.0->spacy<3.3.0,>=3.2.0->en-core-web-sm==3.2.0) (7.1.2)\n",
            "Requirement already satisfied: MarkupSafe>=0.23 in /Users/olmos/opt/anaconda3/envs/gensim3/lib/python3.6/site-packages (from jinja2->spacy<3.3.0,>=3.2.0->en-core-web-sm==3.2.0) (1.1.1)\n",
            "Requirement already satisfied: immutables>=0.9 in /Users/olmos/opt/anaconda3/envs/gensim3/lib/python3.6/site-packages (from contextvars<3,>=2.4->thinc<8.1.0,>=8.0.12->spacy<3.3.0,>=3.2.0->en-core-web-sm==3.2.0) (0.14)\n",
            "\u001b[38;5;2m✔ Download and installation successful\u001b[0m\n",
            "You can now load the package via spacy.load('en_core_web_sm')\n"
          ]
        }
      ],
      "source": [
        "# Descargamos el modelo\n",
        "!python -m spacy download en_core_web_sm"
      ]
    },
    {
      "cell_type": "code",
      "execution_count": null,
      "metadata": {
        "id": "XxVaJMJGo9em"
      },
      "outputs": [],
      "source": [
        "import spacy\n",
        "\n",
        "# Cargamos el modelo\n",
        "nlp = spacy.load(\"en_core_web_sm\")"
      ]
    },
    {
      "cell_type": "markdown",
      "metadata": {
        "id": "ha9cII0Do9en"
      },
      "source": [
        "El **acceso al vocabulario** en modo se hace a través del atributo `.vocab.strings`"
      ]
    },
    {
      "cell_type": "code",
      "execution_count": null,
      "metadata": {
        "colab": {
          "base_uri": "https://localhost:8080/"
        },
        "id": "jpQXMSiEo9en",
        "outputId": "511d4fd7-413f-4e3d-bb10-81fe1012c69c"
      },
      "outputs": [
        {
          "name": "stdout",
          "output_type": "stream",
          "text": [
            "El tamaño del diccionario es de 83839 palabras\n",
            "['\\t', '\\n', ' ', '  ', '!', '!!', '!!!', '!!!!', '!!!!!!!!!!!!!!!!', '!!!!.', '!!.', '!!?', '!!??', '!*', '!.', '!?', '!??', '\"', '\"\"', '#', \"##'s\", \"##'x\", \"#'s\", '#15', '#^%', '#dd', '$', '$19', '$Whose', '$Xxxxx', '$whose', '$xxxx', '%', '%-3', '%ach', '%ah', '%eh', '%er', '%ha', '%hm', '%huh', '%mm', '%oof', '%pw', '%uh', '%um', '%xx', '%xxx', '&', '&#', '&G.', '&L.', '&Ls', '&M.', '&P.', '&SA', '&T.', '&ex', '&in', '&ls', '&of', '&on', '&sa', '&the', '&to', '&uh', '&von', '&xx', '&xxx', \"'\", \"''\", \"''It\", \"''Xx\", \"''it\", \"''xx\", \"'-(\", \"'-)\", \"'03\", \"'07\", \"'20s\", \"'30s\", \"'40s\", \"'45\", \"'46\", \"'50s\", \"'60s\", \"'67\", \"'68\", \"'69\", \"'70's\", \"'70s\", \"'71\", \"'73\", \"'74\", \"'76\", \"'78\", \"'80\", \"'80's\", \"'80s\", \"'82\", \"'86\", \"'89\", \"'90's\", \"'90s\", \"'91\", \"'94\", \"'96\", \"'97\", \"'98\", \"'99\", \"'Arabi\", \"'Cause\", \"'Connery\", \"'Cos\", \"'Coz\", \"'Cuz\", \"'Id\", \"'Il\", \"'It\", \"'N\", \"'Nita\", \"'S\", \"'T\", \"'X\", \"'Xx\", \"'Xxx\", \"'Xxxx\", \"'Xxxxx\", \"'ai\", \"'al\", \"'am\", \"'amour\", \"'an\", \"'ao\", \"'arabi\", \"'bout\", \"'cause\", \"'connery\", \"'cos\", \"'coz\", \"'cuz\", \"'d\", \"'d.\", \"'dd\", \"'dd'x\", \"'ddx\", \"'droid\", \"'em\", \"'en\", \"'er\", \"'id\", \"'il\", \"'in\", \"'it\", \"'ll\", \"'m\", \"'ma\", \"'n\", \"'n'\", \"'nita\", \"'ns\", \"'nt\", \"'nuff\", \"'re\", \"'recg\", \"'s\", \"'s**\", \"'s_\", \"'t\", \"'til\", \"'ts\", \"'uh\", \"'ve\", \"'x\", \"'x'\", \"'x**\", \"'xx\", \"'xxx\", \"'xxxx\", \"'y\", '(', '(((', '(*>', '(*_*)', '(-8', '(-:', '(-;', '(-_-)', '(-d', '(._.)', '(02)', '(:', '(;', '(=', '(>_<)', '(AM', '(^_^)', '(c)?Ìö]o?', '(c)?ìö]o?', '(c)x']\n"
          ]
        }
      ],
      "source": [
        "lista_vocab = list(nlp.vocab.strings)\n",
        "\n",
        "print(\"El tamaño del diccionario es de {} palabras\".format(len(lista_vocab)))\n",
        "\n",
        "#Las 200 primeras\n",
        "print(lista_vocab[:200])"
      ]
    },
    {
      "cell_type": "markdown",
      "metadata": {
        "id": "EVhmSbvmo9en"
      },
      "source": [
        "Podemos ver que el vocabulario incluye ya emoticonos codificados en modo texto."
      ]
    },
    {
      "cell_type": "markdown",
      "metadata": {
        "id": "annR0JfC0Mlx"
      },
      "source": [
        "> **Ejercicio**: Cree una lista con las palabras del vocabulario que únicamente contienen caracteres alfabéticos ([a-zA-Z]). ¿Cuántas palabras obtiene?. Imprima las 20 primeras ..."
      ]
    },
    {
      "cell_type": "code",
      "execution_count": null,
      "metadata": {
        "id": "gX6l5gw20Mly",
        "outputId": "1cdaa9a5-9f69-41a2-9b06-15fbde80dfaa"
      },
      "outputs": [
        {
          "name": "stdout",
          "output_type": "stream",
          "text": [
            "Hay un total de 73384 palabras con caracterés alfabéticos. \n",
            " Las 20 primeras son ...\n",
            "['A', 'AA', 'AAA', 'AAC', 'AAV', 'AB', 'ABA', 'ABB', 'ABBA', 'ABBIE', 'ABC', 'ABCs', 'ABD', 'ABM', 'ABORTION', 'ABS', 'ABUSE', 'AC', 'ACC', 'ACCEPTANCES']\n"
          ]
        }
      ],
      "source": [
        "no_alpha_words = [word for word in nlp.vocab.strings if word.isalpha() is True]\n",
        "\n",
        "print(f'Hay un total de {len(no_alpha_words)} palabras con caracterés alfabéticos. \\n Las 20 primeras son ...')\n",
        "\n",
        "print(no_alpha_words[:20])"
      ]
    },
    {
      "cell_type": "markdown",
      "metadata": {
        "id": "035OWjDt0Mly"
      },
      "source": [
        "A continuación, vamos a utilizar el pipeline que hemos cargado para analizar un texto ..."
      ]
    },
    {
      "cell_type": "code",
      "execution_count": null,
      "metadata": {
        "id": "HRpCc7yv0Mly",
        "outputId": "b7a1c9c9-ac9e-4473-99ad-d34a1fa0e4f4"
      },
      "outputs": [
        {
          "name": "stdout",
          "output_type": "stream",
          "text": [
            "I am an engineer. Some day I hope to engineer an electric engine\n"
          ]
        }
      ],
      "source": [
        "print(sentence2)\n",
        "\n",
        "doc = nlp(sentence2)"
      ]
    },
    {
      "cell_type": "markdown",
      "metadata": {
        "id": "imtM5Ww1o9en"
      },
      "source": [
        "`doc` es un objeto iterable, compuesto por objetos tipo [`token`](https://spacy.io/api/token). En el siguiente bucle imprimimos algunas de las propiedades de dichos tokens determinadas por el pipeline que hemos cargado, incluyendo el POS tag:"
      ]
    },
    {
      "cell_type": "code",
      "execution_count": null,
      "metadata": {
        "colab": {
          "base_uri": "https://localhost:8080/"
        },
        "id": "yHIlk92Xo9en",
        "outputId": "4a333e40-e2dd-4295-e6ca-f1cd01b7734f"
      },
      "outputs": [
        {
          "name": "stdout",
          "output_type": "stream",
          "text": [
            "I I PRP True True False\n",
            "*****\n",
            "am be VBP True True False\n",
            "*****\n",
            "an an DT True True False\n",
            "*****\n",
            "engineer engineer NN True False False\n",
            "*****\n",
            ". . . False False True\n",
            "*****\n",
            "Some some DT True True False\n",
            "*****\n",
            "day day NN True False False\n",
            "*****\n",
            "I I PRP True True False\n",
            "*****\n",
            "hope hope VBP True False False\n",
            "*****\n",
            "to to TO True True False\n",
            "*****\n",
            "engineer engineer VB True False False\n",
            "*****\n",
            "an an DT True True False\n",
            "*****\n",
            "electric electric JJ True False False\n",
            "*****\n",
            "engine engine NN True False False\n",
            "*****\n"
          ]
        }
      ],
      "source": [
        "for token in doc:\n",
        "    print(token.text, token.lemma_, token.tag_, token.is_alpha, token.is_stop,token.is_punct)\n",
        "    print('*****')"
      ]
    },
    {
      "cell_type": "markdown",
      "metadata": {
        "id": "ZRMFkSgoo9eo"
      },
      "source": [
        "En forma de tabla ..."
      ]
    },
    {
      "cell_type": "code",
      "execution_count": null,
      "metadata": {
        "colab": {
          "base_uri": "https://localhost:8080/",
          "height": 198
        },
        "id": "2aEzVZ1_o9eo",
        "outputId": "793e92d0-ca19-4722-dc18-06b113250f8b"
      },
      "outputs": [
        {
          "data": {
            "text/html": [
              "<div>\n",
              "<style scoped>\n",
              "    .dataframe tbody tr th:only-of-type {\n",
              "        vertical-align: middle;\n",
              "    }\n",
              "\n",
              "    .dataframe tbody tr th {\n",
              "        vertical-align: top;\n",
              "    }\n",
              "\n",
              "    .dataframe thead th {\n",
              "        text-align: right;\n",
              "    }\n",
              "</style>\n",
              "<table border=\"1\" class=\"dataframe\">\n",
              "  <thead>\n",
              "    <tr style=\"text-align: right;\">\n",
              "      <th></th>\n",
              "      <th>Word</th>\n",
              "      <th>Word_Lemma</th>\n",
              "      <th>POS tag</th>\n",
              "      <th>Is alpha</th>\n",
              "      <th>Is stopword</th>\n",
              "      <th>Is punct</th>\n",
              "    </tr>\n",
              "  </thead>\n",
              "  <tbody>\n",
              "    <tr>\n",
              "      <th>0</th>\n",
              "      <td>I</td>\n",
              "      <td>I</td>\n",
              "      <td>PRP</td>\n",
              "      <td>True</td>\n",
              "      <td>True</td>\n",
              "      <td>False</td>\n",
              "    </tr>\n",
              "    <tr>\n",
              "      <th>1</th>\n",
              "      <td>am</td>\n",
              "      <td>be</td>\n",
              "      <td>VBP</td>\n",
              "      <td>True</td>\n",
              "      <td>True</td>\n",
              "      <td>False</td>\n",
              "    </tr>\n",
              "    <tr>\n",
              "      <th>2</th>\n",
              "      <td>an</td>\n",
              "      <td>an</td>\n",
              "      <td>DT</td>\n",
              "      <td>True</td>\n",
              "      <td>True</td>\n",
              "      <td>False</td>\n",
              "    </tr>\n",
              "    <tr>\n",
              "      <th>3</th>\n",
              "      <td>engineer</td>\n",
              "      <td>engineer</td>\n",
              "      <td>NN</td>\n",
              "      <td>True</td>\n",
              "      <td>False</td>\n",
              "      <td>False</td>\n",
              "    </tr>\n",
              "    <tr>\n",
              "      <th>4</th>\n",
              "      <td>.</td>\n",
              "      <td>.</td>\n",
              "      <td>.</td>\n",
              "      <td>False</td>\n",
              "      <td>False</td>\n",
              "      <td>True</td>\n",
              "    </tr>\n",
              "    <tr>\n",
              "      <th>5</th>\n",
              "      <td>Some</td>\n",
              "      <td>some</td>\n",
              "      <td>DT</td>\n",
              "      <td>True</td>\n",
              "      <td>True</td>\n",
              "      <td>False</td>\n",
              "    </tr>\n",
              "    <tr>\n",
              "      <th>6</th>\n",
              "      <td>day</td>\n",
              "      <td>day</td>\n",
              "      <td>NN</td>\n",
              "      <td>True</td>\n",
              "      <td>False</td>\n",
              "      <td>False</td>\n",
              "    </tr>\n",
              "    <tr>\n",
              "      <th>7</th>\n",
              "      <td>I</td>\n",
              "      <td>I</td>\n",
              "      <td>PRP</td>\n",
              "      <td>True</td>\n",
              "      <td>True</td>\n",
              "      <td>False</td>\n",
              "    </tr>\n",
              "    <tr>\n",
              "      <th>8</th>\n",
              "      <td>hope</td>\n",
              "      <td>hope</td>\n",
              "      <td>VBP</td>\n",
              "      <td>True</td>\n",
              "      <td>False</td>\n",
              "      <td>False</td>\n",
              "    </tr>\n",
              "    <tr>\n",
              "      <th>9</th>\n",
              "      <td>to</td>\n",
              "      <td>to</td>\n",
              "      <td>TO</td>\n",
              "      <td>True</td>\n",
              "      <td>True</td>\n",
              "      <td>False</td>\n",
              "    </tr>\n",
              "    <tr>\n",
              "      <th>10</th>\n",
              "      <td>engineer</td>\n",
              "      <td>engineer</td>\n",
              "      <td>VB</td>\n",
              "      <td>True</td>\n",
              "      <td>False</td>\n",
              "      <td>False</td>\n",
              "    </tr>\n",
              "    <tr>\n",
              "      <th>11</th>\n",
              "      <td>an</td>\n",
              "      <td>an</td>\n",
              "      <td>DT</td>\n",
              "      <td>True</td>\n",
              "      <td>True</td>\n",
              "      <td>False</td>\n",
              "    </tr>\n",
              "    <tr>\n",
              "      <th>12</th>\n",
              "      <td>electric</td>\n",
              "      <td>electric</td>\n",
              "      <td>JJ</td>\n",
              "      <td>True</td>\n",
              "      <td>False</td>\n",
              "      <td>False</td>\n",
              "    </tr>\n",
              "    <tr>\n",
              "      <th>13</th>\n",
              "      <td>engine</td>\n",
              "      <td>engine</td>\n",
              "      <td>NN</td>\n",
              "      <td>True</td>\n",
              "      <td>False</td>\n",
              "      <td>False</td>\n",
              "    </tr>\n",
              "  </tbody>\n",
              "</table>\n",
              "</div>"
            ],
            "text/plain": [
              "        Word Word_Lemma POS tag  Is alpha  Is stopword  Is punct\n",
              "0          I          I     PRP      True         True     False\n",
              "1         am         be     VBP      True         True     False\n",
              "2         an         an      DT      True         True     False\n",
              "3   engineer   engineer      NN      True        False     False\n",
              "4          .          .       .     False        False      True\n",
              "5       Some       some      DT      True         True     False\n",
              "6        day        day      NN      True        False     False\n",
              "7          I          I     PRP      True         True     False\n",
              "8       hope       hope     VBP      True        False     False\n",
              "9         to         to      TO      True         True     False\n",
              "10  engineer   engineer      VB      True        False     False\n",
              "11        an         an      DT      True         True     False\n",
              "12  electric   electric      JJ      True        False     False\n",
              "13    engine     engine      NN      True        False     False"
            ]
          },
          "execution_count": 23,
          "metadata": {},
          "output_type": "execute_result"
        }
      ],
      "source": [
        "spacy_pos_tagged = [(token.text, token.lemma_, token.tag_,token.is_alpha, token.is_stop,token.is_punct) for token in doc]\n",
        "\n",
        "pd.DataFrame(spacy_pos_tagged, columns=['Word','Word_Lemma','POS tag','Is alpha','Is stopword','Is punct'])"
      ]
    },
    {
      "cell_type": "markdown",
      "metadata": {
        "id": "MGdL2Nnso9eo"
      },
      "source": [
        "Con `spacy.explain()` podemos obtener una descripción de los distintos tags ..."
      ]
    },
    {
      "cell_type": "code",
      "execution_count": null,
      "metadata": {
        "colab": {
          "base_uri": "https://localhost:8080/",
          "height": 35
        },
        "id": "7Pcl3UJUo9eo",
        "outputId": "24f4e12c-a41a-4aa2-c179-5cd59e6a8e20"
      },
      "outputs": [
        {
          "data": {
            "text/plain": [
              "'verb, non-3rd person singular present'"
            ]
          },
          "execution_count": 24,
          "metadata": {},
          "output_type": "execute_result"
        }
      ],
      "source": [
        "spacy.explain(\"VBP\")"
      ]
    },
    {
      "cell_type": "code",
      "execution_count": null,
      "metadata": {
        "colab": {
          "base_uri": "https://localhost:8080/",
          "height": 35
        },
        "id": "g1F0FG3fo9eo",
        "outputId": "b57cffad-6ba3-45e7-cb57-9babccf1c7b1"
      },
      "outputs": [
        {
          "data": {
            "text/plain": [
              "'adjective (English), other noun-modifier (Chinese)'"
            ]
          },
          "execution_count": 25,
          "metadata": {},
          "output_type": "execute_result"
        }
      ],
      "source": [
        "spacy.explain(\"JJ\")"
      ]
    },
    {
      "cell_type": "markdown",
      "metadata": {
        "id": "CpMrHFlJo9eo"
      },
      "source": [
        "En lo referente a **stopping words**, spaCy incluye una amplia lista (326 elementos en idioma inglés) que podemos personalizar para nuestra propia aplicación si es necesario.\n"
      ]
    },
    {
      "cell_type": "code",
      "execution_count": null,
      "metadata": {
        "colab": {
          "base_uri": "https://localhost:8080/"
        },
        "id": "hwIpM8C3o9eo",
        "outputId": "c1fe0914-0656-4a74-b779-d5360e193755"
      },
      "outputs": [
        {
          "name": "stdout",
          "output_type": "stream",
          "text": [
            "Number of stop words: 326\n",
            "First ten stop words: ['whose', 'also', 'within', 'all', 'as', 'its', 'seemed', 'thereby', 'though', 'full', 'most', 'several', 'which', 'although', 'alone', 'across', 'mostly', 'must', 'could', 'due']\n"
          ]
        }
      ],
      "source": [
        "spacy_stopwords = nlp.Defaults.stop_words\n",
        "\n",
        "#Printing the total number of stop words:\n",
        "print('Number of stop words: %d' % len(spacy_stopwords))\n",
        "\n",
        "#Printing first ten stop words:\n",
        "print('First ten stop words: %s' % list(spacy_stopwords)[:20])"
      ]
    },
    {
      "cell_type": "code",
      "execution_count": null,
      "metadata": {
        "colab": {
          "base_uri": "https://localhost:8080/"
        },
        "id": "O-F_XIt6o9eo",
        "outputId": "a8111bff-f05d-4664-972c-8eb7c62287f6"
      },
      "outputs": [
        {
          "name": "stdout",
          "output_type": "stream",
          "text": [
            "Number of stop words: 327\n",
            "Number of stop words: 326\n"
          ]
        }
      ],
      "source": [
        "# Añadir una palabra al conjunto de stopping words\n",
        "\n",
        "nlp.Defaults.stop_words.add(\"my_new_stopword\")\n",
        "\n",
        "print('Number of stop words: %d' % len(nlp.Defaults.stop_words))\n",
        "\n",
        "# Quitar una palabra del conjunto de stopping words\n",
        "\n",
        "nlp.Defaults.stop_words.remove(\"my_new_stopword\")\n",
        "\n",
        "print('Number of stop words: %d' % len(nlp.Defaults.stop_words))\n",
        "\n"
      ]
    },
    {
      "cell_type": "markdown",
      "metadata": {
        "id": "EuNMbbDlo9ep"
      },
      "source": [
        "## Usando modelos estadísticos en Spacy para idioma español\n",
        "\n",
        "Tal y como hemos comentado, Spacy proporciona modelos pre-entrenados para trabajar con idioma español. Todos han sido entrenados en la base de datos anotada [Ancora](http://clic.ub.edu/corpus/). Este corpus contiene 500.000 textos  periodísticos publicados en medios españoles. \n",
        "\n",
        "Es recomendable mirar la siguiente [documentación](https://spacy.io/models/es).\n"
      ]
    },
    {
      "cell_type": "code",
      "execution_count": null,
      "metadata": {
        "colab": {
          "base_uri": "https://localhost:8080/"
        },
        "id": "fquX2Tw9o9ep",
        "outputId": "b78073a3-061e-4eca-fac3-06653b09b13a"
      },
      "outputs": [
        {
          "name": "stdout",
          "output_type": "stream",
          "text": [
            "Collecting es-core-news-sm==3.2.0\n",
            "  Downloading https://github.com/explosion/spacy-models/releases/download/es_core_news_sm-3.2.0/es_core_news_sm-3.2.0-py3-none-any.whl (14.0 MB)\n",
            "     |████████████████████████████████| 14.0 MB 3.2 MB/s            \n",
            "\u001b[?25hRequirement already satisfied: spacy<3.3.0,>=3.2.0 in /Users/olmos/opt/anaconda3/envs/gensim3/lib/python3.6/site-packages (from es-core-news-sm==3.2.0) (3.2.3)\n",
            "Requirement already satisfied: requests<3.0.0,>=2.13.0 in /Users/olmos/opt/anaconda3/envs/gensim3/lib/python3.6/site-packages (from spacy<3.3.0,>=3.2.0->es-core-news-sm==3.2.0) (2.24.0)\n",
            "Requirement already satisfied: packaging>=20.0 in /Users/olmos/opt/anaconda3/envs/gensim3/lib/python3.6/site-packages (from spacy<3.3.0,>=3.2.0->es-core-news-sm==3.2.0) (20.4)\n",
            "Requirement already satisfied: langcodes<4.0.0,>=3.2.0 in /Users/olmos/opt/anaconda3/envs/gensim3/lib/python3.6/site-packages (from spacy<3.3.0,>=3.2.0->es-core-news-sm==3.2.0) (3.3.0)\n",
            "Requirement already satisfied: thinc<8.1.0,>=8.0.12 in /Users/olmos/opt/anaconda3/envs/gensim3/lib/python3.6/site-packages (from spacy<3.3.0,>=3.2.0->es-core-news-sm==3.2.0) (8.0.13)\n",
            "Requirement already satisfied: setuptools in /Users/olmos/opt/anaconda3/envs/gensim3/lib/python3.6/site-packages (from spacy<3.3.0,>=3.2.0->es-core-news-sm==3.2.0) (59.5.0)\n",
            "Requirement already satisfied: tqdm<5.0.0,>=4.38.0 in /Users/olmos/opt/anaconda3/envs/gensim3/lib/python3.6/site-packages (from spacy<3.3.0,>=3.2.0->es-core-news-sm==3.2.0) (4.47.0)\n",
            "Requirement already satisfied: typer<0.5.0,>=0.3.0 in /Users/olmos/opt/anaconda3/envs/gensim3/lib/python3.6/site-packages (from spacy<3.3.0,>=3.2.0->es-core-news-sm==3.2.0) (0.4.0)\n",
            "Requirement already satisfied: jinja2 in /Users/olmos/opt/anaconda3/envs/gensim3/lib/python3.6/site-packages (from spacy<3.3.0,>=3.2.0->es-core-news-sm==3.2.0) (2.11.2)\n",
            "Requirement already satisfied: blis<0.8.0,>=0.4.0 in /Users/olmos/opt/anaconda3/envs/gensim3/lib/python3.6/site-packages (from spacy<3.3.0,>=3.2.0->es-core-news-sm==3.2.0) (0.4.1)\n",
            "Requirement already satisfied: typing-extensions<4.0.0.0,>=3.7.4 in /Users/olmos/opt/anaconda3/envs/gensim3/lib/python3.6/site-packages (from spacy<3.3.0,>=3.2.0->es-core-news-sm==3.2.0) (3.10.0.2)\n",
            "Requirement already satisfied: pathy>=0.3.5 in /Users/olmos/opt/anaconda3/envs/gensim3/lib/python3.6/site-packages (from spacy<3.3.0,>=3.2.0->es-core-news-sm==3.2.0) (0.6.1)\n",
            "Requirement already satisfied: wasabi<1.1.0,>=0.8.1 in /Users/olmos/opt/anaconda3/envs/gensim3/lib/python3.6/site-packages (from spacy<3.3.0,>=3.2.0->es-core-news-sm==3.2.0) (0.9.0)\n",
            "Requirement already satisfied: spacy-loggers<2.0.0,>=1.0.0 in /Users/olmos/opt/anaconda3/envs/gensim3/lib/python3.6/site-packages (from spacy<3.3.0,>=3.2.0->es-core-news-sm==3.2.0) (1.0.1)\n",
            "Requirement already satisfied: murmurhash<1.1.0,>=0.28.0 in /Users/olmos/opt/anaconda3/envs/gensim3/lib/python3.6/site-packages (from spacy<3.3.0,>=3.2.0->es-core-news-sm==3.2.0) (1.0.6)\n",
            "Requirement already satisfied: numpy>=1.15.0 in /Users/olmos/opt/anaconda3/envs/gensim3/lib/python3.6/site-packages (from spacy<3.3.0,>=3.2.0->es-core-news-sm==3.2.0) (1.19.5)\n",
            "Requirement already satisfied: cymem<2.1.0,>=2.0.2 in /Users/olmos/opt/anaconda3/envs/gensim3/lib/python3.6/site-packages (from spacy<3.3.0,>=3.2.0->es-core-news-sm==3.2.0) (2.0.3)\n",
            "Requirement already satisfied: spacy-legacy<3.1.0,>=3.0.8 in /Users/olmos/opt/anaconda3/envs/gensim3/lib/python3.6/site-packages (from spacy<3.3.0,>=3.2.0->es-core-news-sm==3.2.0) (3.0.9)\n",
            "Requirement already satisfied: preshed<3.1.0,>=3.0.2 in /Users/olmos/opt/anaconda3/envs/gensim3/lib/python3.6/site-packages (from spacy<3.3.0,>=3.2.0->es-core-news-sm==3.2.0) (3.0.2)\n",
            "Requirement already satisfied: catalogue<2.1.0,>=2.0.6 in /Users/olmos/opt/anaconda3/envs/gensim3/lib/python3.6/site-packages (from spacy<3.3.0,>=3.2.0->es-core-news-sm==3.2.0) (2.0.6)\n",
            "Requirement already satisfied: srsly<3.0.0,>=2.4.1 in /Users/olmos/opt/anaconda3/envs/gensim3/lib/python3.6/site-packages (from spacy<3.3.0,>=3.2.0->es-core-news-sm==3.2.0) (2.4.2)\n",
            "Requirement already satisfied: pydantic!=1.8,!=1.8.1,<1.9.0,>=1.7.4 in /Users/olmos/opt/anaconda3/envs/gensim3/lib/python3.6/site-packages (from spacy<3.3.0,>=3.2.0->es-core-news-sm==3.2.0) (1.8.2)\n",
            "Requirement already satisfied: zipp>=0.5 in /Users/olmos/opt/anaconda3/envs/gensim3/lib/python3.6/site-packages (from catalogue<2.1.0,>=2.0.6->spacy<3.3.0,>=3.2.0->es-core-news-sm==3.2.0) (3.1.0)\n",
            "Requirement already satisfied: pyparsing>=2.0.2 in /Users/olmos/opt/anaconda3/envs/gensim3/lib/python3.6/site-packages (from packaging>=20.0->spacy<3.3.0,>=3.2.0->es-core-news-sm==3.2.0) (2.4.7)\n",
            "Requirement already satisfied: six in /Users/olmos/opt/anaconda3/envs/gensim3/lib/python3.6/site-packages (from packaging>=20.0->spacy<3.3.0,>=3.2.0->es-core-news-sm==3.2.0) (1.15.0)\n",
            "Requirement already satisfied: dataclasses<1.0,>=0.6 in /Users/olmos/opt/anaconda3/envs/gensim3/lib/python3.6/site-packages (from pathy>=0.3.5->spacy<3.3.0,>=3.2.0->es-core-news-sm==3.2.0) (0.8)\n",
            "Requirement already satisfied: smart-open<6.0.0,>=5.0.0 in /Users/olmos/opt/anaconda3/envs/gensim3/lib/python3.6/site-packages (from pathy>=0.3.5->spacy<3.3.0,>=3.2.0->es-core-news-sm==3.2.0) (5.2.1)\n",
            "Requirement already satisfied: chardet<4,>=3.0.2 in /Users/olmos/opt/anaconda3/envs/gensim3/lib/python3.6/site-packages (from requests<3.0.0,>=2.13.0->spacy<3.3.0,>=3.2.0->es-core-news-sm==3.2.0) (3.0.4)\n",
            "Requirement already satisfied: urllib3!=1.25.0,!=1.25.1,<1.26,>=1.21.1 in /Users/olmos/opt/anaconda3/envs/gensim3/lib/python3.6/site-packages (from requests<3.0.0,>=2.13.0->spacy<3.3.0,>=3.2.0->es-core-news-sm==3.2.0) (1.25.9)\n",
            "Requirement already satisfied: certifi>=2017.4.17 in /Users/olmos/opt/anaconda3/envs/gensim3/lib/python3.6/site-packages (from requests<3.0.0,>=2.13.0->spacy<3.3.0,>=3.2.0->es-core-news-sm==3.2.0) (2020.6.20)\n",
            "Requirement already satisfied: idna<3,>=2.5 in /Users/olmos/opt/anaconda3/envs/gensim3/lib/python3.6/site-packages (from requests<3.0.0,>=2.13.0->spacy<3.3.0,>=3.2.0->es-core-news-sm==3.2.0) (2.10)\n",
            "Requirement already satisfied: contextvars<3,>=2.4 in /Users/olmos/opt/anaconda3/envs/gensim3/lib/python3.6/site-packages (from thinc<8.1.0,>=8.0.12->spacy<3.3.0,>=3.2.0->es-core-news-sm==3.2.0) (2.4)\n",
            "Requirement already satisfied: click<9.0.0,>=7.1.1 in /Users/olmos/opt/anaconda3/envs/gensim3/lib/python3.6/site-packages (from typer<0.5.0,>=0.3.0->spacy<3.3.0,>=3.2.0->es-core-news-sm==3.2.0) (7.1.2)\n",
            "Requirement already satisfied: MarkupSafe>=0.23 in /Users/olmos/opt/anaconda3/envs/gensim3/lib/python3.6/site-packages (from jinja2->spacy<3.3.0,>=3.2.0->es-core-news-sm==3.2.0) (1.1.1)\n",
            "Requirement already satisfied: immutables>=0.9 in /Users/olmos/opt/anaconda3/envs/gensim3/lib/python3.6/site-packages (from contextvars<3,>=2.4->thinc<8.1.0,>=8.0.12->spacy<3.3.0,>=3.2.0->es-core-news-sm==3.2.0) (0.14)\n",
            "\u001b[38;5;2m✔ Download and installation successful\u001b[0m\n",
            "You can now load the package via spacy.load('es_core_news_sm')\n"
          ]
        }
      ],
      "source": [
        "!python -m spacy download es_core_news_sm"
      ]
    },
    {
      "cell_type": "code",
      "execution_count": null,
      "metadata": {
        "colab": {
          "base_uri": "https://localhost:8080/"
        },
        "id": "9Hxs22zCo9ep",
        "outputId": "737a2d66-a8b1-4534-b94e-2b3abbf2b628"
      },
      "outputs": [
        {
          "name": "stdout",
          "output_type": "stream",
          "text": [
            "El tamaño del diccionario es de 181846 palabras. Las primeras 100 son \n",
            "\n",
            "['\\t', '\\n', ' ', '  ', ' el', ' tú', ' yo', ' él', '!', '\"', '\"\"\"', '\"Caño\"', '\"El', '\"Guga\"', '\"Steel\"', '\"Torito\"', '\"Tucho\"', '\"Xx', '\"Xxxx\"', '\"Xxxxx\"', '\"añicos', '\"caño\"', '\"el', '\"guga\"', '\"steel\"', '\"torito\"', '\"tucho\"', '\"write', '\"xx', '\"xxxx', '\"xxxx\"', '#', '$', '%', '&', \"'\", \"' matar tú '\", \"' xxxx xx '\", \"''\", \"'-(\", \"'-)\", \"'13\", \"'23\", \"'70\", \"'92\", \"'96\", \"'Arteaga'\", \"'Catanha'\", \"'Erika'\", \"'Guti'\", \"'Or\", \"'Xxxx'\", \"'Xxxxx'\", \"'an\", \"'arteaga'\", \"'catanha'\", \"'d\", \"'di\", \"'em\", \"'er\", \"'erika'\", \"'ev\", \"'excelencia'\", \"'guti'\", \"'hooligans'\", \"'il\", \"'in\", \"'ir\", \"'ll\", \"'m\", \"'matarte'\", \"'mystes'\", \"'or\", \"'re\", \"'s\", \"'savoir\", \"'síndrome\", \"'ve\", \"'wa\", \"'x\", \"'xx\", \"'xxxx\", \"'xxxx'\", \"'ya\", \"'нs\", '(', '(((', '(*>', '(*_*)', '(-8', '(-:', '(-;', '(-_-)', '(-d', '(._.)', '(:', '(;', '(=', '(>_<)', '(^_^)']\n",
            "\n",
            "Hay un total de 551 stopping words en el modelo\n"
          ]
        }
      ],
      "source": [
        "nlp = spacy.load(\"es_core_news_sm\")\n",
        "\n",
        "lista_vocab = list(nlp.vocab.strings)\n",
        "\n",
        "print(\"El tamaño del diccionario es de {} palabras. Las primeras 100 son \\n\".format(len(lista_vocab)))\n",
        "\n",
        "print(lista_vocab[:100])\n",
        "\n",
        "#Printing the total number of stop words:\n",
        "print('\\nHay un total de {0} stopping words en el modelo'.format(len(spacy.lang.es.stop_words.STOP_WORDS)))\n",
        "\n"
      ]
    },
    {
      "cell_type": "markdown",
      "metadata": {
        "id": "pSLJf_z9o9ep"
      },
      "source": [
        "De nuevo, acceder a las POS taggs es inmediato"
      ]
    },
    {
      "cell_type": "code",
      "execution_count": null,
      "metadata": {
        "colab": {
          "base_uri": "https://localhost:8080/",
          "height": 158
        },
        "id": "mF0cJ9Zao9ep",
        "outputId": "561afcd7-bc73-476f-ac88-25f352841876"
      },
      "outputs": [
        {
          "data": {
            "text/html": [
              "<div>\n",
              "<style scoped>\n",
              "    .dataframe tbody tr th:only-of-type {\n",
              "        vertical-align: middle;\n",
              "    }\n",
              "\n",
              "    .dataframe tbody tr th {\n",
              "        vertical-align: top;\n",
              "    }\n",
              "\n",
              "    .dataframe thead th {\n",
              "        text-align: right;\n",
              "    }\n",
              "</style>\n",
              "<table border=\"1\" class=\"dataframe\">\n",
              "  <thead>\n",
              "    <tr style=\"text-align: right;\">\n",
              "      <th></th>\n",
              "      <th>0</th>\n",
              "      <th>1</th>\n",
              "      <th>2</th>\n",
              "      <th>3</th>\n",
              "      <th>4</th>\n",
              "      <th>5</th>\n",
              "      <th>6</th>\n",
              "      <th>7</th>\n",
              "      <th>8</th>\n",
              "      <th>9</th>\n",
              "      <th>...</th>\n",
              "      <th>38</th>\n",
              "      <th>39</th>\n",
              "      <th>40</th>\n",
              "      <th>41</th>\n",
              "      <th>42</th>\n",
              "      <th>43</th>\n",
              "      <th>44</th>\n",
              "      <th>45</th>\n",
              "      <th>46</th>\n",
              "      <th>47</th>\n",
              "    </tr>\n",
              "  </thead>\n",
              "  <tbody>\n",
              "    <tr>\n",
              "      <th>Word</th>\n",
              "      <td>Los</td>\n",
              "      <td>bosques</td>\n",
              "      <td>tropicales</td>\n",
              "      <td>de</td>\n",
              "      <td>América</td>\n",
              "      <td>Latina</td>\n",
              "      <td>que</td>\n",
              "      <td>conocemos</td>\n",
              "      <td>hoy</td>\n",
              "      <td>en</td>\n",
              "      <td>...</td>\n",
              "      <td>artículo</td>\n",
              "      <td>publicado</td>\n",
              "      <td>la</td>\n",
              "      <td>semana</td>\n",
              "      <td>pasada</td>\n",
              "      <td>en</td>\n",
              "      <td>la</td>\n",
              "      <td>Revista</td>\n",
              "      <td>Science</td>\n",
              "      <td>.</td>\n",
              "    </tr>\n",
              "    <tr>\n",
              "      <th>Word_Lemma</th>\n",
              "      <td>el</td>\n",
              "      <td>bosque</td>\n",
              "      <td>tropical</td>\n",
              "      <td>de</td>\n",
              "      <td>América</td>\n",
              "      <td>Latina</td>\n",
              "      <td>que</td>\n",
              "      <td>conocer</td>\n",
              "      <td>hoy</td>\n",
              "      <td>en</td>\n",
              "      <td>...</td>\n",
              "      <td>artículo</td>\n",
              "      <td>publicado</td>\n",
              "      <td>el</td>\n",
              "      <td>semana</td>\n",
              "      <td>pasado</td>\n",
              "      <td>en</td>\n",
              "      <td>el</td>\n",
              "      <td>Revista</td>\n",
              "      <td>Science</td>\n",
              "      <td>.</td>\n",
              "    </tr>\n",
              "    <tr>\n",
              "      <th>POS tag</th>\n",
              "      <td>DET</td>\n",
              "      <td>NOUN</td>\n",
              "      <td>ADJ</td>\n",
              "      <td>ADP</td>\n",
              "      <td>PROPN</td>\n",
              "      <td>PROPN</td>\n",
              "      <td>PRON</td>\n",
              "      <td>VERB</td>\n",
              "      <td>ADV</td>\n",
              "      <td>ADP</td>\n",
              "      <td>...</td>\n",
              "      <td>NOUN</td>\n",
              "      <td>ADJ</td>\n",
              "      <td>DET</td>\n",
              "      <td>NOUN</td>\n",
              "      <td>ADJ</td>\n",
              "      <td>ADP</td>\n",
              "      <td>DET</td>\n",
              "      <td>PROPN</td>\n",
              "      <td>PROPN</td>\n",
              "      <td>PUNCT</td>\n",
              "    </tr>\n",
              "  </tbody>\n",
              "</table>\n",
              "<p>3 rows × 48 columns</p>\n",
              "</div>"
            ],
            "text/plain": [
              "             0        1           2    3        4       5     6          7   \\\n",
              "Word        Los  bosques  tropicales   de  América  Latina   que  conocemos   \n",
              "Word_Lemma   el   bosque    tropical   de  América  Latina   que    conocer   \n",
              "POS tag     DET     NOUN         ADJ  ADP    PROPN   PROPN  PRON       VERB   \n",
              "\n",
              "             8    9   ...        38         39   40      41      42   43   44  \\\n",
              "Word        hoy   en  ...  artículo  publicado   la  semana  pasada   en   la   \n",
              "Word_Lemma  hoy   en  ...  artículo  publicado   el  semana  pasado   en   el   \n",
              "POS tag     ADV  ADP  ...      NOUN        ADJ  DET    NOUN     ADJ  ADP  DET   \n",
              "\n",
              "                 45       46     47  \n",
              "Word        Revista  Science      .  \n",
              "Word_Lemma  Revista  Science      .  \n",
              "POS tag       PROPN    PROPN  PUNCT  \n",
              "\n",
              "[3 rows x 48 columns]"
            ]
          },
          "execution_count": 30,
          "metadata": {},
          "output_type": "execute_result"
        }
      ],
      "source": [
        "doc = nlp(\"\"\"Los bosques tropicales de América Latina que conocemos hoy en día, incluida la selva amazónica\n",
        "y la mata atlántica, nacieron gracias al impacto del meteorito que extinguió a los dinosaurios, \n",
        "según revela un artículo publicado la semana pasada en la Revista Science.\"\"\")\n",
        "\n",
        "spacy_pos_tagged = [(token.text, token.lemma_, token.tag_) for token in doc]\n",
        "\n",
        "pd.DataFrame(spacy_pos_tagged, columns=['Word','Word_Lemma','POS tag']).T"
      ]
    },
    {
      "cell_type": "markdown",
      "metadata": {
        "id": "VXgr_O3Jo9ep"
      },
      "source": [
        "# 1.2. Análisis  superficial o fragmentación (shallow parsing or chunking)\n",
        "\n",
        "El análisis sintáctico superficial o fragmentación (*shallow parsing (SP) or chunking*) es una técnica para agrupar tokens adyacentes en **sintagmas** en función de sus etiquetas POS. Entendemos por  **sintagma** una palabra o grupo de palabras que constituyen una unidad sintáctica y que cumplen una función determinada con respecto a otras palabras de la oración. \n",
        "\n",
        "SP típicamente se centra en la identificación de **determinados tipos de sintagma**, tales como sintagmas sustantivo o verbales. **SP no realiza un análisis profundo** de dichos sintagmas para determinar la relación entre estos mediante mediante reglas sintácticas o gramáticales. En esto último se centran métodos tales como **dependency parsing (DP)**.\n",
        "\n",
        "Se establecen cinco categorías principales de sintagmas:\n",
        "\n",
        "- **Sintagma nominal** ([Noun Phrase](https://dictionary.cambridge.org/es/gramatica/gramatica-britanica/noun-phrases?q=Noun+phrases)  NP): Un sustantivo actúa como palabra principal. Pueden ser reemplazadas por un pronombre sin hacer que la oración o cláusula sea sintácticamente incorrecta. \n",
        "\n",
        "- **Sintagma verbal** ([Verb phrase](https://dictionary.cambridge.org/es/gramatica/gramatica-britanica/verb-phrases?q=Verb+phrases)  VP): Tienen un verbo que actúa como palabra principal, incluyendo el verbo principal, infinitivos y participios. \n",
        "\n",
        "- **Sintagma adjetival** ([Adjective phrase](https://dictionary.cambridge.org/es/gramatica/gramatica-britanica/adjective-phrases)  ADJP): Son sintagmas cuya palabra principal es un adjetivo. Su función principal es describir o calificar sustantivos y pronombres en una oración. \n",
        "\n",
        "- **Sintagma adverbial** ([Adverb phrase](https://dictionary.cambridge.org/es/gramatica/gramatica-britanica/adverb-phrases?q=Adverb+phrases) o ADVP): un adverbio actúa como la palabra principal del sintagma. Se utilizan como modificadores de sustantivos o verbos al proporcionar más detalles para describirlos o calificarlos.\n",
        "\n",
        "- **Sintagma preposicional** ([Prepositional phrase](https://dictionary.cambridge.org/es/gramatica/gramatica-britanica/prepositional-phrases?q=Prepositional+phrases) PP): Estos sintagmas suelen contener una preposición como palabra principal y otros componentes léxicos como sustantivos, pronombres, etc.\n",
        "\n",
        "La detección de sintagma nominales (**NP chunking**) es la variante más común de SP. Vamos a estudiar distintos recursos para NP chunking, usando tanto NLTK como Spacy.\n",
        "\n",
        "## NP chuking con NLTK y expresiones regulares\n",
        "\n",
        "Utilizamos la clase [RegexpParser](https://www.nltk.org/book_1ed/ch07.html) para detectar frases sustantivas (NP chunking) definiendo reglas gramáticas sencillas. "
      ]
    },
    {
      "cell_type": "code",
      "execution_count": null,
      "metadata": {
        "colab": {
          "base_uri": "https://localhost:8080/"
        },
        "id": "iSBc9E9Ao9es",
        "outputId": "317f23b0-d349-40d6-c261-e46c376da54c"
      },
      "outputs": [
        {
          "name": "stdout",
          "output_type": "stream",
          "text": [
            "POS Tags: [('The', 'DT'), ('little', 'JJ'), ('dog', 'NN'), ('barked', 'VBD'), ('at', 'IN'), ('the', 'DT'), ('dirty', 'JJ'), ('gray', 'JJ'), ('cat', 'NN'), (',', ','), ('who', 'WP'), ('jumped', 'VBD'), ('over', 'IN'), ('the', 'DT'), ('old', 'JJ'), ('brown', 'JJ'), ('fence', 'NN')]\n"
          ]
        }
      ],
      "source": [
        "from IPython.display import display\n",
        "from nltk.chunk import RegexpParser\n",
        "\n",
        "sentence = \"The little dog barked at the dirty gray cat, who jumped over the old brown fence\"\n",
        "\n",
        "# get POS tagged sentence\n",
        "tagged_simple_sent = nltk.pos_tag(nltk.word_tokenize(sentence)) \n",
        "print('POS Tags:', tagged_simple_sent)"
      ]
    },
    {
      "cell_type": "markdown",
      "metadata": {
        "id": "4QEqCgnMo9et"
      },
      "source": [
        "Extraigamos NPs formados por un determinante, seguido de un número cualquiera de adjetivos y por último un sustantivo. La sintáxis es parecida a la utilizada en expresiones regulares en Python."
      ]
    },
    {
      "cell_type": "code",
      "execution_count": null,
      "metadata": {
        "id": "WXqYmI_E0Ml7",
        "outputId": "afd11742-c3be-459f-f210-06211a3a25d2"
      },
      "outputs": [
        {
          "data": {
            "text/plain": [
              "\"\\n### CREATE VIRTUAL DISPLAY ###\\n!apt-get install -y xvfb # Install X Virtual Frame Buffer\\nimport os\\nos.system('Xvfb :1 -screen 0 1600x1200x16  &')    # create virtual display with size 1600x1200 and 16 bit color. Color can be changed to 24 or 8\\nos.environ['DISPLAY']=':1.0'    # tell X clients to use our virtual DISPLAY :1.0.\\n\\n### INSTALL GHOSTSCRIPT (Required to display NLTK trees) ###\\n!apt install ghostscript python3-tk\\n\""
            ]
          },
          "execution_count": 32,
          "metadata": {},
          "output_type": "execute_result"
        }
      ],
      "source": [
        "# En Google Colab hay que ejecutar la siguiente celda para la visualización \n",
        "'''\n",
        "### CREATE VIRTUAL DISPLAY ###\n",
        "!apt-get install -y xvfb # Install X Virtual Frame Buffer\n",
        "import os\n",
        "os.system('Xvfb :1 -screen 0 1600x1200x16  &')    # create virtual display with size 1600x1200 and 16 bit color. Color can be changed to 24 or 8\n",
        "os.environ['DISPLAY']=':1.0'    # tell X clients to use our virtual DISPLAY :1.0.\n",
        "\n",
        "### INSTALL GHOSTSCRIPT (Required to display NLTK trees) ###\n",
        "!apt install ghostscript python3-tk\n",
        "'''"
      ]
    },
    {
      "cell_type": "code",
      "execution_count": null,
      "metadata": {
        "colab": {
          "base_uri": "https://localhost:8080/"
        },
        "id": "iVCynzTho9et",
        "outputId": "af25d0d7-efb9-444a-e9ff-d8520f83f7e9"
      },
      "outputs": [
        {
          "name": "stdout",
          "output_type": "stream",
          "text": [
            "(S\n",
            "  (NP The/DT little/JJ dog/NN)\n",
            "  barked/VBD\n",
            "  at/IN\n",
            "  (NP the/DT dirty/JJ gray/JJ cat/NN)\n",
            "  ,/,\n",
            "  who/WP\n",
            "  jumped/VBD\n",
            "  over/IN\n",
            "  (NP the/DT old/JJ brown/JJ fence/NN))\n"
          ]
        },
        {
          "data": {
            "image/png": "[encoded data removed]",
            "text/plain": [
              "Tree('S', [Tree('NP', [('The', 'DT'), ('little', 'JJ'), ('dog', 'NN')]), ('barked', 'VBD'), ('at', 'IN'), Tree('NP', [('the', 'DT'), ('dirty', 'JJ'), ('gray', 'JJ'), ('cat', 'NN')]), (',', ','), ('who', 'WP'), ('jumped', 'VBD'), ('over', 'IN'), Tree('NP', [('the', 'DT'), ('old', 'JJ'), ('brown', 'JJ'), ('fence', 'NN')])])"
            ]
          },
          "metadata": {},
          "output_type": "display_data"
        }
      ],
      "source": [
        "# Ejemplo de NP chunking sencillo\n",
        "\n",
        "grammar = \"NP: {<DT>?<JJ>*<NN>}\"\n",
        "\n",
        "cp = nltk.RegexpParser(grammar)\n",
        "\n",
        "result = cp.parse(tagged_simple_sent)\n",
        "\n",
        "print(result)\n",
        "\n",
        "# Visualization using display does not work in Google Colab\n",
        "display(result)\n"
      ]
    },
    {
      "cell_type": "markdown",
      "metadata": {
        "id": "seJZ9z3so9et"
      },
      "source": [
        "La regla anterior es sencilla y ciertamente puede fallar:"
      ]
    },
    {
      "cell_type": "code",
      "execution_count": null,
      "metadata": {
        "id": "EWWeZkgDo9et",
        "outputId": "b097eafe-a856-45cb-c1ab-b18077021ff7"
      },
      "outputs": [
        {
          "data": {
            "image/png": "[encoded data removed]",
            "text/plain": [
              "Tree('S', [('The', 'DT'), ('Micro', 'NNP'), Tree('NP', [('computer', 'NN')]), ('systems', 'NNS'), ('were', 'VBD'), ('outdated', 'VBN')])"
            ]
          },
          "metadata": {},
          "output_type": "display_data"
        }
      ],
      "source": [
        "sentence2 = \"The Micro computer systems were outdated\"\n",
        "\n",
        "# Visualization using display does not work in Google Colab\n",
        "display(cp.parse(nltk.pos_tag(nltk.word_tokenize(sentence2))))"
      ]
    },
    {
      "cell_type": "markdown",
      "metadata": {
        "id": "fcGiCWXvo9et"
      },
      "source": [
        "podemos comprobar cómo \"Micro computer systems\" se ha dividido en tres NP. Un patrón más robusto podría ser `<DT>?<JJ.*>*<NN.*>+`, que consiste en uno o ningún determinante, un cierto número de adjetivos de cualquier tipo o ninguno, y uno o más nombres. La sintáxis es parecida a la utilizada en expresiones regulares en Python."
      ]
    },
    {
      "cell_type": "code",
      "execution_count": null,
      "metadata": {
        "id": "FRuYZ0Cxo9et",
        "outputId": "6d56302d-60a7-4640-9efb-dee500508885"
      },
      "outputs": [
        {
          "data": {
            "image/png": "[encoded data removed]",
            "text/plain": [
              "Tree('S', [Tree('NP', [('The', 'DT'), ('Micro', 'NNP'), ('computer', 'NN'), ('systems', 'NNS')]), ('were', 'VBD'), ('outdated', 'VBN')])"
            ]
          },
          "metadata": {},
          "output_type": "display_data"
        }
      ],
      "source": [
        "# Otra regla gramatical más completa\n",
        "\n",
        "grammar2 = \"NP: {<DT>?<JJ.*>*<NN.*>+}\"\n",
        "\n",
        "cp2 = nltk.RegexpParser(grammar2)\n",
        "\n",
        "# Visualization using display does not work in Google Colab\n",
        "display(cp2.parse(nltk.pos_tag(nltk.word_tokenize(sentence2))))\n",
        "\n"
      ]
    },
    {
      "cell_type": "markdown",
      "metadata": {
        "id": "NmWrf5c6o9et"
      },
      "source": [
        "A veces es más fácil definir qué queremos excluir de un fragmento. Esta técnica se conoce como *chinking*. En el siguiente ejemplo, \"barked at\" son las palabras que podríamos excluir para obtener dos NP:\n",
        "\n",
        "*the little yellow dog barked at the cat*"
      ]
    },
    {
      "cell_type": "code",
      "execution_count": null,
      "metadata": {
        "id": "hB7KxF0go9et",
        "outputId": "fbe0f059-15ac-4445-e536-1bffa3e05dbb"
      },
      "outputs": [
        {
          "data": {
            "image/png": "[encoded data removed]",
            "text/plain": [
              "Tree('S', [Tree('NP', [('The', 'DT'), ('little', 'JJ'), ('dog', 'NN')]), ('barked', 'VBD'), ('at', 'IN'), Tree('NP', [('the', 'DT'), ('dirty', 'JJ'), ('gray', 'JJ'), ('cat', 'NN'), (',', ','), ('who', 'WP')]), ('jumped', 'VBD'), ('over', 'IN'), Tree('NP', [('the', 'DT'), ('old', 'JJ'), ('brown', 'JJ'), ('fence', 'NN')])])"
            ]
          },
          "metadata": {},
          "output_type": "display_data"
        }
      ],
      "source": [
        "# Ejemplo de chiking\n",
        "\n",
        "grammar3 = r\"\"\"\n",
        "  NP:\n",
        "    {<.*>+}          # Chunk everything {}\n",
        "    }<VB.*>+<IN>?{      # Excluímos verbos y una prepsoición final }{\n",
        "  \"\"\"\n",
        "\n",
        "cp3 = nltk.RegexpParser(grammar3)\n",
        "\n",
        "# Visualization using display does not work in Google Colab\n",
        "display(cp3.parse(nltk.pos_tag(nltk.word_tokenize(sentence))))\n"
      ]
    },
    {
      "cell_type": "markdown",
      "metadata": {
        "id": "u4uDKN3Oo9eu"
      },
      "source": [
        "Siguiendo esta misma idea, podemos definir SP genéricos para distintos tipos de frases. A continuación definitmos una regla gramatical para detectar los 5 tipos de frases (NP, ADJP,ADVP,PP,VP):"
      ]
    },
    {
      "cell_type": "code",
      "execution_count": null,
      "metadata": {
        "id": "u_Madpa4o9eu",
        "outputId": "199dda38-e855-48e5-dd16-1a1f5243ab11"
      },
      "outputs": [
        {
          "data": {
            "image/png": "[encoded data removed]",
            "text/plain": [
              "Tree('S', [Tree('NP', [('The', 'DT'), ('little', 'JJ'), ('dog', 'NN')]), Tree('VP', [('barked', 'VBD')]), Tree('PP', [('at', 'IN')]), Tree('NP', [('the', 'DT'), ('dirty', 'JJ'), ('gray', 'JJ'), ('cat', 'NN')]), (',', ','), ('who', 'WP'), Tree('VP', [('jumped', 'VBD')]), Tree('PP', [('over', 'IN')]), Tree('NP', [('the', 'DT'), ('old', 'JJ'), ('brown', 'JJ'), ('fence', 'NN')])])"
            ]
          },
          "metadata": {},
          "output_type": "display_data"
        }
      ],
      "source": [
        "# create a more generic shallow parser \n",
        "grammar = \"\"\"\n",
        "NP: {<DT>?<JJ.*>*<NN.*>+} \n",
        "ADJP: {<JJ>}\n",
        "ADVP: {<RB.*>}\n",
        "PP: {<IN>}\n",
        "VP: {<MD>?<VB.*>+}\n",
        "\"\"\"\n",
        "\n",
        "cp4 = RegexpParser(grammar)\n",
        "\n",
        "# Visualization using display does not work in Google Colab\n",
        "display(cp4.parse(nltk.pos_tag(nltk.word_tokenize(sentence))))"
      ]
    },
    {
      "cell_type": "markdown",
      "metadata": {
        "id": "5KV-8_xZo9eu"
      },
      "source": [
        "De forma alternativa, podemos plantear una estrategia [SP basada en clasificación](https://www.nltk.org/book_1ed/ch07.html), en el que tratamos el problema de chuking como un algoritmo de clasificación de aprendizaje automático tradicional: incorporamos un conjunto de características y creamos predicciones. Claramente, nuestro conjunto de características es más grande que solo las etiquetas POS que usamos en el fragmento de expresiones regulares; podemos extraer información sobre el texto de los tokens, secuencias de tokens, frecuencias, longitudes de oraciones, ocurrencias de puntuación, etc. En el enfoque basado en clasificadores, aprovecharemos esta información para crear nuevas características para nuestro clasificador.\n",
        "\n",
        "En este [enlace](https://www.nltk.org/book_1ed/ch07.html) tenéis ejemplos de cómo entrenar el modelo. El [Stanford parser](https://nlp.stanford.edu/software/lex-parser.shtml#Download), desarrollado por el grupo de procesado de lenguaje de la Universidad de Stanford, es probablemente el software más recomendado. Funciona en Java, pero tiene una API para python a través de NLKT. Desde 2014 este parser está entrenado con redes neuronales.\n",
        "\n",
        "Una forma más potente para implementar SP es concretar de forma más detallada reglas gramaticales para determinar los distintos sintagmas y las relaciones entre ellos.  Esto es lo que se conoce como [constituency parsing](https://web.stanford.edu/~jurafsky/slp3/13.pdf).\n",
        "\n",
        "\n",
        "<img src=\"http://www.tsc.uc3m.es/~olmos/BBVA/con_tree.png\" width=\"50%\"> \n",
        "\n",
        "En esta [web](https://demo.allennlp.org/constituency-parsing\n",
        ") podemos hacer uso de un método avanzado de constituency parser con word embeddings basados en transformer networks.\n",
        "\n",
        "\n",
        "## NP chuking en Spacy\n",
        "\n",
        "A diferencia de NLTK, muchos de los distintos modelos pre-entrenados de Spacy sí incluyen NP chuking:"
      ]
    },
    {
      "cell_type": "code",
      "execution_count": null,
      "metadata": {
        "colab": {
          "base_uri": "https://localhost:8080/"
        },
        "id": "WUDQta2ao9eu",
        "outputId": "1461ffad-a611-471c-f74b-82560c2bb3a8"
      },
      "outputs": [
        {
          "name": "stdout",
          "output_type": "stream",
          "text": [
            "The little dog barked at the dirty gray cat, who jumped over the old brown fence\n",
            "******\n",
            "The little dog\n",
            "******\n",
            "the dirty gray cat\n",
            "******\n",
            "who\n",
            "******\n",
            "the old brown fence\n",
            "******\n"
          ]
        }
      ],
      "source": [
        "nlp = spacy.load(\"en_core_web_sm\")\n",
        "\n",
        "print(sentence)\n",
        "print('******')\n",
        "\n",
        "doc = nlp(sentence)\n",
        "\n",
        "for chunk in doc.noun_chunks:\n",
        "    print(chunk.text)\n",
        "    print('******')"
      ]
    },
    {
      "cell_type": "markdown",
      "metadata": {
        "id": "nO3HaCnno9eu"
      },
      "source": [
        "Y ahora en castellano ..."
      ]
    },
    {
      "cell_type": "code",
      "execution_count": null,
      "metadata": {
        "colab": {
          "base_uri": "https://localhost:8080/"
        },
        "id": "OCORsBZVo9eu",
        "outputId": "6158dc45-e244-4117-af46-211241d9f5cf"
      },
      "outputs": [
        {
          "name": "stdout",
          "output_type": "stream",
          "text": [
            "El cachorro\n",
            "******\n",
            "gato sucio y gris\n",
            "******\n",
            "quien\n",
            "******\n",
            "encima de la valla\n",
            "******\n"
          ]
        }
      ],
      "source": [
        "nlp = spacy.load(\"es_core_news_sm\")\n",
        "\n",
        "doc = nlp(\"El cachorro ladró al gato sucio y gris, quien saltó por encima de la valla.\")\n",
        "\n",
        "for chunk in doc.noun_chunks:\n",
        "    print(chunk.text)\n",
        "    print('******')"
      ]
    },
    {
      "cell_type": "markdown",
      "metadata": {
        "id": "bLNYhhO5o9ev"
      },
      "source": [
        "Al igual que en NLTK, podemos crear nuestra propia gramática para obtener los NPs de un documento usando expresiones regulares y la clase ['Matcher'](https://spacy.io/api/matcher) de Spacy."
      ]
    },
    {
      "cell_type": "markdown",
      "metadata": {
        "id": "G0b9THQuo9ev"
      },
      "source": [
        "# 1.3 Reconocimiento de entidades (Name entity recognition NER)\n",
        "\n",
        "Si bien POS tagging nos marcará que palabras como Janet, Stanford University y Colorado son nombres propios, estos nombres propios se refieren a tipos de entidades distintas: Janet es una persona, Stanford University es una organización y Colorado es una ubicación geográfica.\n",
        "\n",
        "La tarea de reconocimiento de entidades (NER) es encontrar tramos de texto que constituyan nombres propios y etiquetar el tipo de entidad. Este aspecto es especialmente relevante en **Information Retrieval**. Las cuatro etiquetas de entidad son las más comunes: PER (persona), LOC (ubicación), ORG (organización) o GPE (entidad geopolítica). Sin embargo, el término entidad se extiende comúnmente para incluir características que no son entidades per se, incluidas fechas, horas y otros tipos de expresiones temporales, e incluso expresiones numéricas como precios. \n",
        "\n",
        "Los distintos modelos NER son fundamentalmente algoritmos de aprendizaje automático entrenados sobre bases de datos etiquetadas. Por tanto, su rendimiento está ligado al tipo de texto en que fueron entrenados y esto implica que para un nuevo tipo de texto pueden no alcanzar las mismas prestaciones.  Si se considera necesario, [Spacy permite hacer un ajuste fino](https://course.spacy.io/en/chapter4) (reentrenar) cualquiera de sus modelos a un nuevo corpus de documentos. \n",
        "\n",
        "## NER con NLTK\n",
        "\n",
        "NLTK proporciona un clasificador `nltk.ne_chunk` que ha sido entrenado para NER en idioma inglés.  Para utilizarlo, hay que darle como entrada una lista de tokens con su correspondiente POS tag.\n",
        "\n"
      ]
    },
    {
      "cell_type": "code",
      "execution_count": null,
      "metadata": {
        "id": "c9IN_Duro9ev"
      },
      "outputs": [],
      "source": [
        "sentence = \"The EU has not imposed new sanctions on China over human rights abuses since the 1989 Tiananmen Square crackdown\""
      ]
    },
    {
      "cell_type": "code",
      "execution_count": null,
      "metadata": {
        "colab": {
          "base_uri": "https://localhost:8080/"
        },
        "id": "pOIojcoqo9ev",
        "outputId": "c3d01efe-1e46-45d0-e336-7852c1042771"
      },
      "outputs": [
        {
          "name": "stdout",
          "output_type": "stream",
          "text": [
            "(S\n",
            "  The/DT\n",
            "  (GPE EU/NNP)\n",
            "  has/VBZ\n",
            "  not/RB\n",
            "  imposed/VBN\n",
            "  new/JJ\n",
            "  sanctions/NNS\n",
            "  on/IN\n",
            "  (GPE China/NNP)\n",
            "  over/IN\n",
            "  human/JJ\n",
            "  rights/NNS\n",
            "  abuses/NNS\n",
            "  since/IN\n",
            "  the/DT\n",
            "  1989/CD\n",
            "  (FACILITY Tiananmen/NNP Square/NNP)\n",
            "  crackdown/NN)\n"
          ]
        }
      ],
      "source": [
        "pos_tagged_sentence = nltk.pos_tag(nltk.word_tokenize(sentence))\n",
        "\n",
        "print(nltk.ne_chunk(pos_tagged_sentence))"
      ]
    },
    {
      "cell_type": "markdown",
      "metadata": {
        "id": "q_IyQFaoo9ev"
      },
      "source": [
        "## NER en Spacy\n",
        "\n",
        "Spacy implementa alguno de los algoritmos más avanzados del estado del arte para NER. "
      ]
    },
    {
      "cell_type": "markdown",
      "metadata": {
        "id": "FitqrDQGo9ev"
      },
      "source": [
        "\n",
        "![](data:image/png;base64,iVBORw0KGgoAAAANSUhEUgAAAr8AAADRCAYAAADFeNrtAAABRmlDQ1BJQ0MgUHJvZmlsZQAAKJFjYGASSSwoyGFhYGDIzSspCnJ3UoiIjFJgf8rAzMDPIMLAxaCamFxc4BgQ4ANUwgCjUcG3awyMIPqyLsgstZK1bC5WnmVdhUcbw1/bncdUjwK4UlKLk4H0HyBOTy4oKmFgYEwBspXLSwpA7A4gW6QI6Cggew6InQ5hbwCxkyDsI2A1IUHOQPYNIFsgOSMRaAbjCyBbJwlJPB2JDbUXBHh93BVCfUKCHMM9XVwJuJdkUJJaUQKinfMLKosy0zNKFByBoZSq4JmXrKejYGRgZMjAAApziOrPN8BhySjGgRArEGNgsJgBFHyIEIsH+mG7HAMDfx9CTA3oXwEvBoaD+woSixLhDmD8xlKcZmwEYXNvZ2Bgnfb//+dwBgZ2TQaGv9f///+9/f//v8sYGJhvMTAc+AYAkX5gIpsIQ5MAAABWZVhJZk1NACoAAAAIAAGHaQAEAAAAAQAAABoAAAAAAAOShgAHAAAAEgAAAESgAgAEAAAAAQAAAr+gAwAEAAAAAQAAANEAAAAAQVNDSUkAAABTY3JlZW5zaG90Fw1SvQAAAdZpVFh0WE1MOmNvbS5hZG9iZS54bXAAAAAAADx4OnhtcG1ldGEgeG1sbnM6eD0iYWRvYmU6bnM6bWV0YS8iIHg6eG1wdGs9IlhNUCBDb3JlIDYuMC4wIj4KICAgPHJkZjpSREYgeG1sbnM6cmRmPSJodHRwOi8vd3d3LnczLm9yZy8xOTk5LzAyLzIyLXJkZi1zeW50YXgtbnMjIj4KICAgICAgPHJkZjpEZXNjcmlwdGlvbiByZGY6YWJvdXQ9IiIKICAgICAgICAgICAgeG1sbnM6ZXhpZj0iaHR0cDovL25zLmFkb2JlLmNvbS9leGlmLzEuMC8iPgogICAgICAgICA8ZXhpZjpQaXhlbFlEaW1lbnNpb24+MjA5PC9leGlmOlBpeGVsWURpbWVuc2lvbj4KICAgICAgICAgPGV4aWY6UGl4ZWxYRGltZW5zaW9uPjcwMzwvZXhpZjpQaXhlbFhEaW1lbnNpb24+CiAgICAgICAgIDxleGlmOlVzZXJDb21tZW50PlNjcmVlbnNob3Q8L2V4aWY6VXNlckNvbW1lbnQ+CiAgICAgIDwvcmRmOkRlc2NyaXB0aW9uPgogICA8L3JkZjpSREY+CjwveDp4bXBtZXRhPgqQ/qdUAABAAElEQVR4AeydB0AURxfHn4qADUWwdwV7L7F3jcbeNZYYY4y9a4ztM/ZeYo819t5770Zj72IBG4IiIHawfe8N7HF3HseBhwL+X4K7OzszO/ubu903b968i/ORhSAgAAIgAAIgAAIgAAIg8A0QiPsN3CNuEQRAAARAAARAAARAAAQUASi/+CCAAAiAAAiAAAiAAAh8MwSg/H4zXY0bBQEQAAEQAAEQAAEQgPKLzwAIgAAIgAAIgAAIgMA3QwDK7zfT1bhREAABEAABEAABEAABKL/4DIAACIAACIAACIAACHwzBKD8fjNdjRsFARAAARAAARAAARCA8ovPAAiAAAiAAAiAAAiAwDdDwCYyd3rR/zX5vH6nitrEjUuZE9tSpsTxdVU9f/uB/vN5SSkTxKd8jvYqPbwy9168pZvP3ujq0N/Jlcye0iaMT1qenHycjo+NRbtGiRSJKFH8uKS1I7mdDRVySqDL/oF/1uOA13PST9fK6jLp7ZRKmZgS2MTRS8EuCIAACIBATCGg/3w39c7S7sOb32tX+P1Wmp/59kbPfO39o+VNze+g7EntKH6cT98NV5++obNP3pBrUlsq6pyQ4ullOeT9kt59+KBVo9vaxYtLZVIlUsf6eSQ9B18nhX2kXte6+qPjTiC/jI96vzDbtJLcFwlD+kK4+gd94P5JGGYZ6evLfoGUhHWAymmT6MqaKiB9es7vFb14+5GqpktMKU0w1u8L/Tq+xf7Sv3/jfe37kc3BTumE2vknge/ogu9r0k+PDkzjROYX3urtdqejdwO0e1PbHKxwzquYkXIltaezfKPfr79OFbIko7VVsqjz4ZWZcOkxjTnhaVCndjC8bEbqmNOJtDyDS2eg7rmdtdO6rXaNA41yKaVba0d8fvIcaZSbXBxsVV5RirP8c4GK8BdjV00XlaaV1VWmt/Nv0zzkGlJWLxm7IAACIAACMYCAqee7/jtLu4U2h+7Rlhu+NLZ8Rmqb3UlLVlvt/aOfmDyhLY0rk57qZUqqkuXnUrsef0Arr/josqVhZWBXbVdlwJHEDIsu0eugYOORLhPvSF03WuRRScZ5RHeulNWRFpbPZFaZ068vJuw/ePmWCi6/bLaphxrnojxs8BK2+VZepUcvAukkv5OzJgl+n2uF3Z8HUYfD9+jsw+daEtnwu79EegdaVjGzMohpJ968+8j9dJ823fCjDyE/citjGBenhDS3YibKy9fTxLgvtPRvsb+0eze11b4fGdjg+V/DnLpB4UbWFX9lnbFr0TQ0pFBqVTQ6MP2soWSLvCkosW08Os0j2TP8gWu514PONMxliosuLbwy5TIno+KpDEd1pY2OdZVZuPP2/Ufq+e992lItW7glWudLRSkTxjPIl8Le8NjgJA5AAARAAARiBAFz75+nQe9pl7u/uo9F13w/UX61G6yUxZHKsZXwIht5tt70o07771BBVtBkBvTIo5dK8c2cPCH1LpiKDns/p7VXn9BCVrIG8rEmdjZxqVuRYEVAS0sS3/A9Y8t5BpRIR8+4XVs9Amgft60Xv4tms/Entogj6w9/lgm9n7H/edHbd+9pUKn0ulvUZnl3PXhO3s8DVfqca09ozHdpdXnEoNVg5216wJbhqjxIaJTNkQL5vb/lzlPaw9xaH7qrM8RJoXZH7tGOW34kA6C2bEhLmcCG9j54Rquv+1Kzne50pH52cuQZY03QXxqJ8Lf3/d/QJDZm9ssf+nk3VeprMw3tXVOtCyetA39oxNIrUmjtNbrr94YehbhDhFU0vDLl0yUxadUNqz5L0mVE9++9ZyQjEG2EHla5n3Mk17lqhJUH6SAAAiAAAjGPQFjvn1Ss/Cy+5U9B7z5QMnZnuPr4Jcn0eX7HUHc57W7FONMlV/DMYw+2LC697EMHvV7Qz67J6T8uJ9LIJRn9mC34rzsbiXKGvCe1OkSxDU85EPcM7Tq/8cxnnqWX6ej9UKumVldM3op7onaPch9TznqzJdYwTbu/+ayYigU8KbtTruXBxPBiaXTWxXluvkrxrZ/DieaWy6gVoebcB8250DFWnI8/fkWl2F1C+lUUXxmg7KvlqnNvqZXBgbKz1XLYsQe05PZT6qY3u4z+0iENd0f0ralnH1FLl+Qm3VO1Cr42089e8MaDKzrp84oes+9MvLhxKKnR6FW7Uf1tZMrol4/ofrlMySihrQ0N4Omo1zzdAQEBEAABEPg2CYT1/lnM1l55IU9mNzuROXxsTsRSfJUNPiL5QpTk4ikTKQVt+rlHNJGtXwGcx1jxNVdnWOeOP3pF79k/Nlvy0On4sPLGxnQxqh2++5TypEpMLVgpffr6LW26+0x3q1vZwivSr6ChNV3S5nJ/ujXPqxRfOV7jHpz31zzOOsVX0kU65XSmqy3zGii+wWci9u+33F912V0o8O176v2vaTfWiJEMzW1tpp9l+a249rryw5EvpcgvBVJ98mEKbXrwXnhlRrKCOvrEA4NiN1vlV87rBokROEhuF4/68ihx6LH7NOKCN/1hxhxfhX2V9dcvuLIP0JG62SNwNWQFARAAARCIjgTCev+IVfAOL3z6nqfLa2d0oJTswrD5pj+N/y7dJ4udp7BVa84lH6WAybuvPLvqFXEOthCX5QVrg9gtYexJT36PedKk017UgK2RI9jfMSlP8Wvy/M07Sr3gvHaotq3ypKTxxUOn8l+/fUc5ll+hoPcfSPInYAOOWJG/RRHLrrBukt2RqqdzoJlnvGg+u5M0yhzsa+3F/r6ytkdb1yOMxAVlvUewoivHOdiPtwNb0B88fyuHlDdkMb7si3I95sIj2VVix4Y8A7cK9JeGJtxthbQO7Krzgfayu8neXIZ+8/qFv/Z34LOU3yzJE1BSVizL8sKxOuzwr0V20L9B4/3wyqTh1bGp2fFfX2z0tVH9ExHY78zTVEt42mQ+f8Ab8cMqLMnOK3MT8uhfk6zJ7LRdbEEABEAABGIwgbDeP3NZkRJpwa4LIvV4ynbOeW9a6eFPbULS1An+JyNHXkhiG5dOvwwyWNStnZfF2M2zJqO/rz+hRVee0Ape/HaaFbGj9XLooj7ILGkBtmLqSxajRdWSp0TaxHSEp+xlun9bHReTbhj6dcTGfTGtLed3tyxea87+vMl4ECEW4NMPn5EHK71ZeOGbzOz6cH8EsYJsy9xELrF7g/jwEi9oC2R3luLs1iDKbyLuO5EX7CesiS9HJFB5OSGIfY5tOcKGvvKL/tJIWbadwL7qJe8HUB92IRnAAz9T8rWZfpbyu6BSJp3Pr6mbM5UWXplfePRrKpKDqboikibfh0ml01P9zTeoN1uXw5KZ7C9kiRIfVnmkgwAIgAAIRE8Cpt4/aqEbK7kiQ3jB1dBTXvSS3RVEZOGbsfLbJHty6sQWrWI883n8/jO6zQpYtpDIAxLW6UZAkJpiH8RT8N35fVZp8026+eQV+5y+JLEMiyRkBU6LNKQSTPyTgF0IF1XIRIt4UV3vg3dpGlub9f1ZTRSJlUmy0O0RL3QTl5Tvt95S9+jDUSIkSMNcVm5H8axuVh6QiOVewqZVYmOciLgwyN98jt7Rj6N4aCIWYJFjj15Q9fTBeXNzmufP+TncahCVXn1Vy6rbor90KCzaycihbztxZIfJpx7SbPaJNyVfm2moidNU62JZmsRQrOXqRBfDiSsYy24btwMCIAACIBAGgUUhC91SJ7EjO7YuxmdLSTKO95rEPj5dZgXpMkcQMBaJ7TuCrVuyQK7LkfvqtEQcyM9uCg223CAJ4SUisWZTJQq2MSUNsTiqExH4pzVbnnOyL/FGVuJkKv9bk3lsQRdJz4sGpW/kLy0PNsTNYTUzER/un3MGW+wH8+BFBjOayP7EM97aodo2Y6u8PQ8sFrNV/hJHJtBErMYD/3uoC32mpUd0+633l8arb/6UlJbD/FlD34oKpp9l+dVu0prbebxIYHNIuBmt3u7so1uH/bA0Mc6TjUdtc/TCpWj5TG3HsE/VXo76YCrOouRvzyNE4x+0WFwps9lVi6augzQQAAEQAIHoT2BJyMK2DTVcDOK5i5/pHxw3VsJqTS0ZGnpLuyOJDiBT6SfZ+ruMowO04MgCjXhafTlbusqsu07l+Z3lxUrwOQ4DKrFP9SNHvGKlrPLWm1pVauvEyvbqKpkN0rSDcXz9upvcqPuRe3RSL4aqdj62buVHR47w+9opkS2dbJBDuX9o99qareHb2Cq+6V4ANWC3y8rsEiHh4L5bc51KcSg6GYwc46n3+PHiKauxVk5+LOR3DpM2nNcAVd90g0pwhCnxx97H13nF8Zcl2sdrPQVayqG/NHqWb8X9ZAzPtv+047bJQl+babSz/Ho9C6QLHDZG/8/zVfAoWiNonOciR5uwVCSkTW+j+Ir6ZW/wL9PpX1v2XyFChD4i7IMACIBArCBwLGShm8R7Nf4ho8b8I01iXdzEC9/kRxFMyXi2/orv4v/+faAsjlNKpKcuRdLwouk4SjG7wq4OJVkJ3sUhtfRFFm8Zv2fOm7HqSoiu6uyHfI8tleMvPtavKlbvz3N7oha61eGFiMGevKG328zFUR3M58GJyMrKmakvG7fs+NfgtnEosyMcHSITR+HYVMuFLZCGUTIkjNk/1bNRBnaXOMbK82a2IEvYtfH8IyLVud+NBf1lTMSy4xrpHdSCUFO5vzbTSP3Cm6kbQRoIgAAIgAAIxFYCov6yzkqs6xooYjLtLsJ6soH4sf9vMl6IJfkjKqbq1K4v1UWmzoi2ISbnF6uv/HKbfoSNsO7nLefzD3xv8qeNwypjnI7+Miby+cdRzRTK7+f3EWoAARAAARAAARAAARCIIQSindtDDOGGZoIACIAACIAACIAACMRAAlB+Y2CnockgAAIgAAIgAAIgAAKRIwDlN3LcUAoEQAAEQAAEQAAEQCAGEoDyGwM7DU0GARAAARAAARAAARCIHAEov5HjhlIgAAIgAAIgAAIgAAIxkACU3xjYaWgyCIAACIAACIAACIBA5AhA+Y0cN5QCARAAARAAARAAARCIgQSg/MbATkOTQQAEQAAEQAAEQAAEIkcAym/kuKEUCIAACIAACIAACIBADCQA5TcGdhqaDAIgAAIgAAIgAAIgEDkCUH4jxw2lQAAEQAAEQAAEQAAEYiABKL8xsNPQZBAAARAAARAAARAAgcgRgPIbOW4oBQIgAAIgAAIgAAIgEAMJQPmNgZ2GJoMACIAACIAACIAACESOgI25Ys5zz5k7jXMgAAIgAAIgAAIgAAIgEC0IPGlXyKJ2wPJrESZkAgEQAAEQAAEQAAEQiA0E4nxkCetGAgMDwzqFdBAAARAAgW+YwN27dylTpkzfMIHod+vok+jXJ+ZahP4yRydy5+zs7CwqCMuvRZiQCQRAAARAAARAAARAIDYQgPIbG3oR9wACIAACIAACIAACIGARASi/FmFCJhAAARAAARAAARAAgdhAAMpvbOhF3AMIgAAIgAAIgAAIgIBFBKD8WoQJmUAABEAABEAABEAABGIDASi/saEXcQ8gAAIgAAIgAAIgAAIWEYDyaxEmZAIBEAABEAABEAABEIgNBKD8xoZexD2AAAiAAAiAAAiAAAhYRADKr0WYkAkEQAAEQAAEQAAEQCA2EIDyGxt6EfcAAiAAAiAAAiAAAiBgEQEbi3JZmOn9+/f04cMHC3MjW0wjEDduXIoXL15MazbaCwIgAAIgAAIgAAI6Alaz/ELx1TGNtTsysJF+hoAACIAACIAACIBATCVgNeUXFt+Y+hGIWLvRzxHjhdwgAAIgAAIgAALRi4DVlN/odVtoTXQj4P78LS246U+ytbaIQr5qzdovbpUWK7iXt7e1byfM+j5+/EivXr3+5PzxY//SbXePT9KRAAIgEDUEPD0ffvHnTdTcybdRa1T0l7x3TD2Pvw2iRC9fvTJ7q/J+FO4RkS/JFMpvRHomivNue/iSHr+JvFvBh49EWzxf0pPAyPtd+7z5QFu5DqnH+3Xk26Kh8g/6QEPO+9D3W91p8L9eaivHkm4tWbx0OR06fPSL+SNfd3Ojlq1/oXwFi1KpMhWocLGSNG7CZBLlNCrk5YsX1L5TV8qTvzDlLVCYypavTHv37ddd6v3HD9SjZx/dMXZAAASihsCs2XP5+16CylesQrnzFaLxE6cYrHO5fPmK+o7K91T/b8PGzeE2SAax8t1u3aZduHmRwTIC5vpLlDP9PtLfN9cHT58GUJtf21Me7uP8BYtQxSrV6fCRo5Y1KBbkks9y6XKVKF+BIvwOLEI9ev9Ob9680d2ZcO3WozezLaK+J/J+3L5jp+68qZ2vwRTKr6me+EppnQ89pL1eLyN99SDWfrsefkjn/EI/iBGpbMHtZ1Rsw23qccyLevLfgUfmR3bh1T2fLb3lt9ymDbeeUv+iKcnzp9xqK8eSLpbgz5XAwECa8tdUatum9edWZVF53ye+1KZte7K1taUlixbQ5YtnacTwP2nV6jXUb8Agi+qIaKaurNj6+/vTrm2b6Qpfr2XLFtS+Yxd69OixqqpsmdJqFL5hU/gv2IheG/lBAASCCcjs0tRp02nEsD/J7dolWvzPfFq2fDktWrxUh0hmgpxTpKBVy5ca/FWqWF6Xx3hHlIVRY8ZT+85dKIlDEnr1+vOeu8b1f6vH4fWXLN427ic5zpo1G6VJkypMbJ279qCAgADas30bXTx/hho3akC/tP3ti84Chtm4KD5x5uw56tuvP3Xv2pmuXT5Pa1evpEsXL9HgIUN1V+79e3+SfGtXr6CrnKdnj67UvVcfunbdTZfHeOdrMP0iyu+VgCDye2to6Xv27gN5smXxPRvLTvm+oXuvIm5l9GUL50ku+1IqMZJ3nHTeP4juvvx0mt2Hy0lZURbl2iaK0wuu4OLTIKNazR/e4WtJnWKBdef9tyH7HkZtCK9uaZ/cl9RliWjXc38RfK+er9+p6+vf+33m+4pv1J/74UIY97Xk5lOqmCkJ3Wriov5+zJzEkst/kkesupV33KFRpx9T/axJ6VCdbNTW1VHlk60cS/pIPi/5PscKfPDQUbKzs6MihQvp2iGj0BUrV9PI0ePUNigotB+XLltBHnfu0L8nTtLoseNJRrHPnz/XlZUdUXAXLFykXkjrNmyit29DP0NDR46mJEkS0+wZU9U1EyVMSDWqV6MJ48ZwXZtU2XPnL9LqNesM6pSH5ey/534yVeTj40Oz58wj/TZKwUVLltGtW7fV1Gr8+PFp1PChlCFjBkqQIAG1b/cL2drZ8gPmrO4a31etTJu3bNMdYwcEQMC6BLbw96thwwZU44fqapap+HfFqHOnjjR95mzdhR4/9qF0adJSnjy5Df6SJk2qy2O8484uS0eOHqVNG9ZSyZIljE/jOJIELOkv4356ywORmzduUI9uXcO86rnz5/kZ3I7SZ0hHCRMmoE4dfiOHpA504uR/YZaJLSeO/3uCXF1dqEnjhuq9myO7KzVv3oxOnQl+F4nbwr59+2hg/98pT+5cykjUqkVzKlumDE2eMi1MDF+DqVVDnRnf2T7vV9T7xCN6ysqYSN6UCWl9xbRkGzcOTbvuT+tuP6cgVsheBAaf75jfifrlSW5cjcnj2TcDaAwrT5rUYGVqZvGU6lCUvtq7H9CzN8H1pnOwpXll0lCupLbqfIfj3vSSle8bvq+VomprE4fGlUxD9dInUudbHfWiI/dfqP1EtvFocJEU1MwCRbD6jvs0ktvgksSW6u64S39XSEfpEthQLd6/3cyV4sUhCq/upWx9HcDMROTa+2tmolT25sOLPeV7qbT5jioj//x5Mri87N/50VU2VHGrBxVOlZD+Y9cKkeQJ49PaKukoa6L49I/7M/JldwuvF+9UGydeDbbI1mQeOZldRKXLiYd048krapg9OfXI40yOtoZjLDmW9ABWktfd8CPJv6xc+oheRuXff+AAv2Ty6MqKFaV2vYbkwBaUIoWL0JJly2nx0mW0fctGihMnDv3Flpvde/eR10MvKlgwP02ZOo1mzvqbNm9cqxTLB/c9qVa9+pQ9e3bKmCE9jZ8widat20DLl/6jrnHp0mVqyl98sfzqS8UK5ei/40fVde8/fEgDBg6mypUrklPy4M/zJn5xLlu+kjq0N5zSTJYsmbp+powZ6Yfq36sqb968RcOGj6Rjhw+ol+zfMw0fGjI9KlKoUEG1lX9E+V/MCrM8fCQkHQQEQMC6BLy9H1GJEsUNKpXvmp+fnxr0Ojk7kc+TJ5QiZQo6e+48K7THlKJQvlxZkkFyWJKBnzNbN63/Ym5bYbUjtqVb0l/G9zyWDSKNGjWk1KnDtvwWK1qU9uzdQ9W+r6yKnzp9hp6za1qZUiWNq4t1x/JZnjV7Dt2+7U7ZsmVVxpkDBw9RyeLB34tnz57Ty5cvKW26dAb37vnQkwLfBBqk6R98DaZR+pYccf4JZWBF8EyDbLSheka66vOK1t8LVirlxv1evaXBRZ3pRlMXKpMhMc266KuUUX0opvbFciqKb2VWSC83dqEZ5dLSdvcAOvrktco+6NwTpVTvqJGJrYyZKZDzT7v+1KCq65x3RdUMqm0ZWcGbesVXnT/06LVSfOdVTKfqLpE2IY3h+7BE0iS2UQu6rj0NJBvWdK+xhfUWW2MT29kopdKSugMC39Mp5rWxeiZ6GfSeJocoouau7xg/Lp1rlI1O1Muqso0vnVodS5q+3OL2HK6blfbUzkwvgt7RYla0RfaxQrzR4xkFvXtPD56/U/tyfDuSi9N8Xr2jshkdaP/951Rs3c1P3BvEHULS5bzkk/yRlfv3H5CrS+h9yoPIgy0pK5YupgF/9KW1q1ZQ7Vo1yY/dBjQRy+72rRtp/NjRtGPrZgp6G0TTZsxSp318falv7160esVSZc1dOH8OW4lP0EMvL+XXdP/ePcrNI1pT4uiYTL3ACubPx1bajLRl63Zdtu07dlCdOrV1x9qOWHV/YMvx1m2heTds2kLFihUxeACLdfrX9p2oYZNmNH7yX7Rk4QJKkzq1Vg3lypGTXr9+Tb7cfggIgID1CRQqVIB27dpjMEtz5OhxdSF3nk0SecLPlvMXLlC/PwaS242bNHLUWKpZu55SjlUGE//Y29tD8TXB5XOTLOkv/WscPXacLly8RD26d9FP/mR/5rTJ5M0uZ8VLlaPvf6ilXNBWLltCKdjdJbZL/nx5aeqUiVSvYROqXrMOFStRhpydnWnokEHq1pMlS0oZ+d0nBiNNnj17RjfcbpKXV9iLw78G0yhTfkVB9fAPpAJOdnSafVBlIVeqxLa09k7oFLNYXJtmTKIswa2zJVWsxB0hPHF7FjyN3Sd3ckrMddRMl4hWfZ+BMrCVVeS6XyBVzZhYWXozsWWziYsoYqFKt+TJ4ZyAijvZk5NdXPotlyM9YquniCjnYnEVV4hjPq+pYHJ7Zbm+GeJSoDKF8U9mVqI9WGG8xm4eOZ0S0PWAQLrNbU2XJL4qYUndP7ompRTcpoKOtpSPLeU3ua7whA3KJApwshALa7L48dSxpOlLw2xJKGPCeOSaOD7VzJKUrnL/iCxhq/gRtjCnYFZ1szqofTkWrpEVV2Yh7g0tcjoq94ZqO+8qJVi24g4h6XJe8n2O+Pn7kSNbTzXJljULJWAryy/tOtDGzVvoTeAbNS2lWWAlX+1aNUiUThGZtqpSpTJduHBJHRdia3Czpo1JXBfEjeBMyHSOWIo/KDeWj2QT17wlXiqqV7c2bdu+Q9Xp7/9U+UA1Y4uxKZEppMNHjujcK3bt2k0N6zcwyCrtFctC0SJFKJDvafbceQYuFMmdgi3Mj30sG6gZVI4DEACBcAn07tlDDaJr1q5PAwf/SXXqNVLPD5v4NpQoUfCzUmacypYuTbt3bqWZ06bQ/j072E0qCY0eNz7c+pHBugQs6S/9K44dP5Fa8hS9/rtC/7y2P3HKVLrO/qvyjK9fty77CGeh3/sNIF+eAYjt4u7hoT77RQoXpvr16lFdNugcOHCQFi4K9XsXn/g1a9fSjy1+ov4D/8eDv/rK8CODvLDkazCNMreHDxTsr7r21jPa6B6q8KbQm8K3twlVIhxCFLePIeXCgiTp70JW1TvZhZYXRVYTUVwdWYHUJDlfU6ya+pJUbyq+CSvg8ifyjhUcsbj2/jfUdUAst+/FsTYccXGIT8e8X5Pfm7hUgy3Z6z0CKC5PtWcNUX4tqTu5nsKajO9BXAOsJY62od09uWjUj1LFvWFooZTU2sWR+p/xVtEeyjDnPbWy6ph87r194M9CHD1lVEbfmzas4UUoy2j69FnUl53va9asQRPHjdZZV5ydDe/dOTlPV/oGK40n/ztFHTp1IfHRc3VxVW4MWhtFUU6fPh1duX6dSpUuqSWb3DZt3IhmsC+gPBBlpWvePHmVz66pzOKy4OTkRPv2HyKXbFnYqvCIFfQfDLLKg+Pn1q1UWp9ePahE6fK0lkfXrVu1UGlx2ZVI5CO7PUBAAASsT0CmwsU9aseOXXSDXZNa8/exSOGCbA3ezd/b4Fm33/v0MriwrEdoUK8uu1+tMEjHQdQTsKS/tFbs2Lmb7ty5S8sWL9SSTG7F7e2fRYtpz64dJIYWkQ7tf6X6jZrRBI78MXrkMJPlYkvin8NGKnc7WfOiSflyZagtG5saNaynBg5lSpeibZs30s7de5RL0Hh+98r6FZmRNSVfi2moNmSqVZ+RZstKn8gQVrIiu3AqrMvbsZ+ViCzsShmiTK+695yys4tFIUc7smOXAy+9qfSHvJ+AraGWSBJWPh3sbehi/eAPtiVltDxixVzDyr4PKyLji6WiGZd8yTZeEFVJG2wVsKRuL73wYo+43Q5shY7pIsr/6CKpqSz3kWy1wYA17svJ0ZGePg11aZA6s2bJopuGOc/TWE2aNqdqVavofGqvuV03uLTbzZuU3cVFpU35axpVrlRRuTxIgrhIrN+wUZdf/Is3b95Kv/z8k06ZlpPy5e7Rqy/NnzubUqVKqVwWCvOLUVwf5OXYoH4dXR2mdurVrcOuD9soU6ZMyhKtjZLv37tP4yZOponjx+j8jMUKXKBAfjp//oJO+dXcOr6FqTdT/JAGAlFN4PTpszyrlICtgz/qLiWLVdOm5XUsIWsAJrFVMHeu3FS9WhVdngCe9nV0DJ7Z1CViJ8oJWNJf0ggJUTlx0hT6hSMGOTg4mG3XfU9P1deyHkQTWUuSOXMms9P6Wt6YvhXDTJVKlQxuI0eO7GqtiTe7NYjVfNfufVQgf17q3LG9Lt/sOfPJxSWb7lh/52sxDdYi9VtipX17VkAL8gKr6Vf86Ay7IUhUhVr7PGne7YDPvkLupPHZoko0lH17JSLDNLen1O+Yt3KfkMoLOtvTAXZz2Maxag+yD++qGwH0gwUL1qRsc572l4VyUqcsnBt12Y/q7fe0KPKCKN9S9hVHVMjA7gUi9569pewhC+0sqXsZL+QTXmtYUbzBzMRtxFKRhYTiSrL+7nNVx+UwojpYWl9MyJcmTRpy97ija6qM4MtWqEKyaEzELuSllD5dWl2eNRyJ4dDhI8pZX6yy27Zvp5o1gi2t9hxN4QE/4CS2rvjZSnQHfRk88A8V0qYnxzaUH5aQB+dFtgZ07NJNWYtF8dVEXBemsy/x+YsXqQErt+Yk2PXhqFKAmzYOdXlIzw/Z/06d5lAyw1SbZEGbxPgVP+SqHOFBkxvsXygvYGdnJy0JWxAAASsSuHzlCrXi+N4S51u+97KgTRbL9u8XGmM7Hs9CDRsxUvejM1euXqMlHIe8SqXQ7+rQ4aMM1gNYsYmoSo+AJf0l2deu28juLH4cweFXvdKhu/r9JQu+4nIfD/rfUBJfVllgLe+cPXv2UtUqhkphaA2xZ68KG4ZWc8g/iZYk3wGJViQuQKl5/YlEzhBZv2EDdejcjY1SAWqdzMJ/FrP74Gnq3bO7DkR0YBplll+5yyGFnKn/aR9quOueUlbzsw9r88zmR1Y6OmZ2RMmbVCYt9TnuRXU4koI9W3U7cKSIPCFK5vBCKciN/W07c8xbke/Y8to9V7BPpFZtvBDLtHasbfMns6WW7AM845IfTTzroxarjfgupU6x1vKZ2orlV7wjEoe4VIivryiwOULaZUndpdIkpMa776l6MnB9PbgtlooMCAYWSUnjz/vSDl6wJr7LVxpm1RXn8YhZEReNcLKYLa+dTMe+3XsePFfuDuasvPJrb5Ivh2MCrWiEtxUrlKex4yfoyknIr0OHD1Otug1IrKfyBe3ZvRvlY0d9TSTiwohRY9Q0jISo6dals84q3K9vL/qtQ2cqUKQ4l7ejgQP609atW7WilJaV7bl/z6IhQ4dTNV7sILEiP/CPTPxQvTqNGTlcl092xHWhX//+/FCsQokSJzY4Z3wg9ebMmYMePPCkUiVDXSrEqrBy+WIVNFzaJNcT/8I/fu+rQqxp9ZxjK7D4A8t5CAiAgPUJtGrZnG7xKnfxYZRni61tfGrFMbcl9JkmXTp34MHzA/VsSMhrD4KCAnkNQVPq2CE4yos8j3bxdLCENpS1B5CoI2BJf4nyKhF/2rVtq/y3jVtj3F8StWPNymXUs28/Kly0BMWJF5cS8/O4c6cO1KJ5M+Pise5YXO4ktr68I2Urxph8+fLRmhXLdPcqYTk7sDGo6Hcl1doaiX4ydvRIShdigIouTONwQ8J0ZpWbs1T0Y6Eal5GYvgn5Q8JGSYtkl9cr6hsS7ku/gPjpykIsfZFfJEthb9qA/ZyvG5+VB7FCR0bkl9Kc9XyHpb7SW+6arGpD1fSUjReSWSrGdeuXEwXal319ZeGbJsPYhUL8p42lHC9Km87K+ZcUbbFYWNeUuL1N998jd15Q14IHHT1yO5E/R7Eou+EmHanvyv7Y8WjKVV9ads2PsrKbyqpKGT8JhxZW3cbp8vOSRYuXonVrVlIuVh41kS+lRD4wdgMoVqI0DR44gOrUrqn8cZOz24QomMYivroOvFDF3L2KdfjO3XscFs3VZD6xHJcqW5Gm/TWJKpQvZ3yJCB9LNIenHC9YP8qDVkkNXlHevFlTgylZ7Ry2IBAVBO7evavcdKKi7uhcp/ysq/iHyvMmrLCC8l11d/cw+WyIynCE32qfmPu8WNJf5sqH1V/y7hHrr7mwaObqlXMxub88OaSnM69VEb92UyJWYQkBJ26IxhKVTMNqj3Ebvojya3zR8I4lMsRpnvo3FtEFK6cOO16icX5rH3MAC9rNirkpKZcygYo8YeqcNdIkgoTHy+CIFPr1pUkQT/k566dF9b45hVD/2hLS7K8LvJCMdctWORxpytnH1L1wSlrqxj66zLJ7AWfdj1/ol4vo/l/TZtBDjsYwdvSIcIvqK7/hZv6MDBJpQuL6BgW9pU3rV39GTeEXFb/mXuyGsYdXmMPyGz4v5LAOgZj84rYOgehXC/ok+vWJuRahv8zRidw5S5XfKHV7iFzTSS1iq8HxdaObiOX6a7VLfqBD+5GO6MYlrPbIr7k1yJSUplx5wjGcWQlmmc3bVmINNvHjF2HVE166/MLOLP71NJnCCk/5a9vmZwMLcXh1R/a8WIZKckD8dm3bRLYKi8tJGLaJ48eGe+8WV4iMIAACIAACIBCLCVjN8iuKh5iyIbGbgEzzhadgmiIg/r0eL4MoSyJbq0Z7MHUtpIEACEQ9AVitop5xRK+APokosa+bH/1lff5f3PKrKURQgK3fmdGlxsgqvtJ+WfhmbvFbdLlHtAMEQAAEQAAEQCB2E7Cq24MowJoSHLux4e5AAARAAARAAARAAARiIoHQcAIxsfVoMwiAAAiAAAiAAAiAAAhEgACU3wjAQlYQAAEQAAEQAAEQAIGYTQDKb8zuP7QeBEAABEAABEAABEAgAgSg/EYAFrKCAAiAAAiAAAiAAAjEbAJQfmN2/6H1IAACIAACIAACIAACESAA5TcCsJAVBEAABEAABEAABEAgZhOA8huz+w+tBwEQAAEQAAEQAAEQiAABKL8RgIWsIAACIAACIAACIAACMZuA2R+5sPRn4mI2ArQeBEAABEAgMgTwjogMtagtgz6JWr7Wrh39ZW2iltUHy69lnJALBEAABEAABEAABEAgFhCA8hsLOhG3AAIgAAIgAAIgAAIgYBkBKL+WcUIuEAABEAABEAABEACBWEAAym8s6ETcAgiAAAiAAAiAAAiAgGUEoPxaxgm5QAAEQAAEQAAEQAAEYgEBKL+xoBNxCyAAAiAAAiAAAiAAApYRgPJrGSfkAgEQAAEQAAEQAAEQiAUEoPzGgk7ELYAACIAACIAACIAACFhGAMqvZZyQCwRAAARAAARAAARAIBYQgPIbCzoRtwACIAACIAACIAACIGAZAbM/b2xZFcG5Pn78SIGBgfTu3buIFEPeaETAxsaG5KcW48SJE41ahaaAAAiAAAiAAAiAgPUIWM3yC8XXep3ytWqSgYv0IwQEQAAEQAAEQAAEYisBqym/sPjGjo8I+jF29CPuAgRAAARAAARAwDQBqym/pqtH6rdC4PbzIJrr5kuyjQq5ePESnT13PiqqNlvno8eP6c2bN2bzWPPkixevSFyI9OXWzVt07Pi/+knYBwEQ+IoE7t9/QG/fhu3iJ99hyWP8XTbXZKnP39/fXBaciySB8PorktV+08XkXRWTBcpvNOq9bQ9f0uM37yPcotsv3tKUa091f3dfvo1wHZEt4B/4jgae8aIK692o/+F7aivHkm4tEVeMdh06U+JEiaxVZbj1jB0/kUqXrUiFixYn15x5qXrNuuTmdiPccpHNsH3HTvquZFnKkTsvuebIQ7+270SvXgU/XJycnahbj170+LFPZKtHORAAASsQmD5zNuXJX5hKlS3Pz4U8NHrsBPrw4YNBzVOnz6IceQpQ6fIV1fafRUsMzps66Nd/EOUrWIQKFilOdRs0ptvuHqayIS2CBMz11/v379WzXZ7vxn/NW/5s0ZV69Oqryk6eMs2i/LEh09p1G6hYidLqXZU9Vz7q0q2ngYFIDFXGPOVYyoUls/+ea7KMl7d3WEU+Ox3K72cjtF4FnQ89pL1eLyNc4T1WdlfdDqAVt1gBPu9DF59GjfXVuGFz2NJbcp0brXXzo8El0tKTdoXUVo4lXSzB1pBZs+dSxgwZKHt2V2tUF24dU/6aTnPnzqeOHdvT5Qtn6fDBveSSLSvVrFM/Sl5KFy9doU5dulOfXj3o9o2rtGv7VrrBivbAwUNUWx0dHalC+fL8oh0XbtuRAQRAIGoILF+5miZNnkJjR48g95tutGLZYlqyZCnNX7hId0EZxM6YOYuWLV5Id2/foFHDh6rv8YULF3V5jHfmLfiHduzcSUu5zOmTx8nZyYk6d+3xiVJtXA7H5gmE11/x4sWjdWtWffLn4pKN0qZNY75yPnvw0BHauWs3pU6Vmt58I2tlTp85Sz1796XePXvwd+Aabd64li5cuER/DBis4/XQy5tSpkjxCdeqVSrp8hjvPPB8SJUqVfykjLOTs3FWqx1/EeX3SkAQ+b01HB0/e/eBPF+/p/c8w3vK9w3dexVxi6dv4Ac6yWVfSiVG8o6TzvsHkSkrqA+Xk7JBHz6qa5soTi+4gogqkXdYCZU6+X9y5/23IfseRpbY8OqW9sl9SV2WSMVUCenfWpnoRO3MZrNLP1zjPxHhYmn9xpWKVbfc5hs07F9PauianE40zEG/5XBS2WQrx5I+lM9Lvs+1Am/Zto1q1qhu0Ixz5y/QhElT1J/+i+Xqteu0avVaev78BYnSPH7iZP5yGr54ZHpx5ao1NHT4KFrwzyIDi+rde/e4zCQaM2YktWzejETxzJI5M02fOplcXFxoDivFInPmLfhEEd69Zy8dOHhQndf/Z9v2HXTk6DH9JBKFd+nylSrt1u1b1L7dr9SkcUOyt7enbC5ZqX69uiT3qEmd2rVo9+69EZpG1cpiCwIg8PkENm7aTI0bNaJaNWtQ/Pg2VLJEcerWtTP9NW26rvIzZ89Ro4YNqFjRIipqTqOG9SlDhvR08PARXR7jnQn8jOrRvSsVLVKYUqRwpgnjRtPt27dJFGlI5AlY0l/58+Uh/b/379/xDJ8b9e7V3eyFg4KC6Pc/BtCAP36n5E6O30yEpKNHjysjVLOmjVVkqJw5clCrlj/SqVOndbwes6tg2nRpDbgK46RJk+ryGO/4PHlCObNn/6SMfM+iSqJU+d3n/YoKbvSgmtvvUuG1t6nWPk+dwjXtuj/V3n2fCmzwoMa8LbfJncZe8bP4PmffDKAi629TUy6bZ/Ut6nTysa6sKHaF+br1dt6l8pvvUOltd3VKn2TqcNybWhx+SDm5nFw719pbtPFBqMW11VEvyrvmFtXZcZfyrHOnlXee6+o2t1N9x33a4vmSLrGCWYmvu//Ra7rK+xV5X1Oww6t76e1nVCzkvgoxm0eRcIMw1cbazF764Qf+k36ozEzW33thKmu4aR2OPqDrj19SvezJqU/+FORoZ/gBlWNJl/OST/JHVp488aXr16/Td98V01WxZu16ata8Ffn5+dP9Bw+oYZMfadPmber8iZMnadyESdSwcTM6dfoMK5mXqU79RkrZlQzig1ezdj2S6bBnz57RMlZAq9esTT4+T1R5GdkmTpyYGjWor471/9m4bhUNHNBPJe3bf4Bmz5mrf5ofhgPJyzv0c6idvHnrNg0ZOlw7VNtJU/7i9gU/MBqwotv/j76686KcHz56hEoUL65LK1a0MAVwe6V9EBAAgS9PwJstWmnSpDa4cNy4ccnP10/3/Bg8sD+NHP6nLo8oSQEBAZSOlQFTImsK5DlUtXJl3WkZcOfKlZNkIA+JPAFL+su49hEjx1DTJk0oTWrDfjbOJ0aVlClT0E+tWhifitXHFSqUpbt37pKsQxGRd9W+AwepVKmSuvt+7ONDqVKmJBkITpoylcT4E55/8BN+/6ZgnpJXXEhkjYu4pUSlRKnyO+L8E8qQxJbONMhGG6pnpKs+rwwULr9Xb2lwUWe60dSFymRITLMu+iqraXg3LJbTMacfU+XMSehyYxeaUS4tbXcPoKNPXquig849oSDWNnfUyESH6mSmQM4/7fpTg2qvc94VVTOotmV0sKWpV4Kn6A+xwnrk/guaVzGdqrtE2oQ0hu/DEkmT2Ibcn7+la08DySZeHN4G0S32x03MyiAfkiV1BwS+p1PMa2P1TPQy6D1NvupvyaXN5jnw6BVdevyKehZOoViXSpWA3mnauNmSpk8+5sFF+cyOtOdOAOVfee0T9wZxh5B0OS/5JH9k5c7du1w0DuXMkV1XxbIVK6j5j81o1Iih9NekCTRvziy2xMTTnffy8qLu3TrTgnmzack/82nokMHUf+BgFcZNlNxatWrSzm1baOL4MbR7x1YKevuWdu/bp8pfYH+lbNmy6erS3xGrrEOSJCpJrLS7d+/RWWJPnjxFL54/p/p1a+sXUfs/NmtCN/lh4XHnjjqWBXRHjhyh5k2bGuRd+M9iavFTGypXsTIVLlSIhg8dojufMGFCSpUqJd3hBw8EBEDgyxMoXLgQ7dixi0Sh1eTQkaNq1z0MH93hI0er2aO6tT99LkhBWUcg0+/GynG6tGnp1m137TLYRoJARPvrMPflhQsXeErfvNVX/LEXsquLWOi/NSlYoADNmD6VatRtQJW//4EK8pqYFM7OBgM+ecee48Xp4h5x7bob/TlsBH3/Qw3dANEUM18/XxK/X5lRvXDpErVt14Ha/tYxSl1/okz5FQXVwz+QCjjZ0Wm/N2ohV6rEtrRWz4pqaxOHmmZMQrZx41DrbMEmcXFHCE/cngU/fPrkTk6JuY6a6RLRqu8zUIYEwRbI636BVDVjYsqV1JYyJYpPTVwcaD8rtPqSwzkBFXeyJye7uPRbLkd69CJ4gZZYQxPZxlOW2mM+r6lgcnt6+vod3WQlNjzJzEq0hyi/bO3N6ZSArgcE0m1ua7ok8VVRS+r+0TUppeA2FXS0pXwpE9LNEDeF8K5t7rzbs+C2d86eTLHuwff7uZI9qZ1yb/gpt7Nyb6i45aZSgmUr7hCSLu4Pku9zREaRYokVC4smBQsUZEvuKmXhldFl+XJlqcYPoW4RSVhBrVnjBy07ifL57t1bunzlqhqtd+vSkR6xI72MMlesWqMsN2IlEPnw/gO/jEKvpavEaKc2T32+fhNI/544qc5s4CnRqlWrUIIECYxykhoFixV3/YZN6tyOnbvJ2TkFFS8eas2WE+LTXLZ0KcqVMxft3befxN1DX2TaSKaHICAAAl+eQL/fe5Ofvx9VqVaDfu8/UC2ClUGpDU/NJk6S+JMGLV66nFatWUfz585WbhKfZOAEWSwnPypk/MNC8rwzXkhnqjzSwiYQ0f4aOXoc/fRTK342B7vwhVXzH7w48ccfm7JBJkdYWWJtuij+fwwYRMWKFOHZ0QbUoF4d2rd/P81fsEh3z0mTOlA5ficf2r+H5s6eQUcP7ackSRxoxOgxujzGO2nTpOU1Nr/RpvVr6J/5c2jn9s10gt+t69ZvNM5qtWPD+WqrVctfagr2V1176xltdA91G0hhH2qhs7cJ3XewDVY4PoaUM9eUdzx1LeJkF1peFFlNxKjpyAqkJsn5mkHvDE3oSUOuJ3masAIufyLv2M9WLK69/32kjuUfsdy+t8D/1sUhPh3zfk1+b+JSDbZkr/cIoLj8YMsaovxaUnfy+KHtTsb3EBAU/mBA19Awdt4zLx5fKOuzZLGTAyuIuDeMLJaGfsnpRH1PeKpoD+UyJ6NDDXNSNrb4W0M+8sshrlF7hwweoBTFzVu20rz5C/mLlZj+mjyRyrDiKOLomMzg0vKrdQkSJiJvVni9Hz2i5i1b0yOOnFAgX75P8ubPl5fWr99gUN7Uga2tLdWoXo1E6S1VsgTtYivwFLZChyVNmzSiWX/PUVaFzVu2UYP6dT/JWpqnjuSvQ/t2yl95GPsk16tTW6f4ywsSL8RPsCEBBL4IAZkK37F1sxo0u924SW3btKai7I60g31zXXmRlL6I//8wtnjNnzeHB7M59U8Z7OfgAa/EVvd66M1+kqGLrDwfelLx70LdngwK4cAiAhHpL/Gvlpm51SuXmq175649bNU8R7/37aVzS3n96jU9YaOEuAK4uLqYLR/TTw4a/CcV4RkQmW3VpFLF8tSqdVv2h2+gBg7iB60v8v4V3/dFi8Nmu3zpP/pFKHOmTOxTX4JOnPxP1Wtw0koHUab82ob8RO6QoinoR3ZPsKbYhVgBPdkimzJEmV517zllZ4WrkKMd2bGPgder0FBbD3k/gd60uLm2JGHl08Hehi7Wz2Ium8lzrmz5XcPKvg8ra+OLpaIZl3zJNl4QVUkbHKLLkrq9eBGgJo+43Q5shY6oBA8NQkuJ9Vt0991er6hamoTs32xoBQ/NGbk9UXTHl0hHxe88VVtrKb7SGmdeNfrixQvlXqBZR2TbnK258icuBN169qH//TmM9u8JXiDiyStHX79+rbPCihuEuCTkzZuHli5bocpcPn9aZ205r7ewrAgvOnnKPnpinf2h+vcGQAbyF1+syn+wBUjkx6ZN6LeOnahR/WD/4HJlSxvk1z+oXasGDeDoDdd5McXRY8do2J+DdaclNFLatKkN/IzLly9Lw0eOYiX9sc7/THwDZYoJAgIg8OUJnORFPYnY0tv6p5a6i8+cPYddFtKRDIY1kdkoCf80ZfIEnpUqoyWb3KZJk4YScQjHA0cOU4tmwW5Qz/hZde2aG7Vu1cpkGSRaRsDS/pJ1IGPGTqB2bdtQUgcHs5Vf52l8fnHQjy1+0uWTd9D1G25qDYdYO2OzeD/ypu+rVDG4RbGAi1FGojyI1VzW3Mi7VoxDmojfu7FRSjsnfsPde/amPr17UtYsmbVk5Qvv6mo4qNSdtMJOqJnRCpXpV2HPCmhBjkIwnRexnWE3BInoIAut5nFIrs+V3EnjK0vmUPbtlYgM09yeUr9j3mpKX+ou6GxPB9jNYRsvPjvIPryrbgTQDxYq4M2zOtCzN+9UnbJwbtRlP6q3P3Shnrm2i/ItZV9xZIsMCYOV1nvscpCd3S9ELKl7GS/kE15rWJm/wczEbcRSEXtu8oTxaTHXIbylHomqIQqvpLc/6En5eRHd6LMxZ+o8U8YM7Pj+gdxve+gw1K7XUCm7b9lXN378+EqJTZUyle58HB58dO3ei0fjvsrSK8qxLCDJlDEjv7wSUcDTABIFWcpL9IZ79+/pymbLmoU6dviNevTqoyw88mATZ31x3F+8ZClVrlRBl1fcFuztE1D7Tl2oLltoNeVcl0FvR0a/1b6vwl/yvqotsgJcEwe2XA8dNlK5UMiDWALdjxozjnKwn7O28EJiHXt7P1Irx7Vy2IIACHw5Apd48WxTXmh7jRfgyvf00OGj9NfU6TR44B+6Rrh73FGLcVs0/5FXrueje/fuqz95FmkyeMhQ2rhpi3ZIXTp3pEkcueb2LXcV23vQ//5Uobbq1K6py4OdiBOwpL+k1tXsmuLr50edObSlKdHvrx7du9AttysGf4UKFaROHTqoaX5T5WNTWtUqlWn5ylVqQZp8ByT2/O/sBiILQSWig4j4sP9vyDD1eZZjcTf8Z/ESfv9VlUMl+kwlooPU049diWTgJ/VKTOAzZ89S9WqGBiitvDW2UWb5lcYNKeRM/U/7UMNd95Symp99WJtnNj+ysuSmxEd4Upm01Oe4l4rIYM9W3Q75nShPiJI5vFAKcmN/284c0UHkO7a8ds+V3KDqeCGWaYNEPsifzJZask/sjEt+NPEs+5vy1P6I71LqFGvj/PrHYvkVC2viEJcK8fUVBTZHSLssqbsUK6qNd99T9WTg+iLqnzuULe3DzvioKBbStsll01L99InoKIdC28gKtbhhlOF+KMPRNexsIjf2Sc9K/q57z5S7gzkrr/zam+TLxX7TkZXUqVJxjN1sdJIjI0gIMJFB/f+gHr37sBV3ObsExFNK4oxpU3SXyJQhk1IwvytZWq1GzZMnDy1ZuECdb9GiGe0/cJBKlC6nFGcJS5Q/f35dWdmRFdtv2J9XFsmJFfg9T0um5inPJYsWqBBG+pklJNlUDnXUkn3AwpPmbNmRKBRjx4w2yPpz61bq4dum7W9qUd77D+/V1NLK5Ut0+c6fv6gs2cX1ol7oTmIHBEAgygm0btVSLVytWq2mCklox9ben1v/pEKfaReXsGUvX76kvzkSjPxpUoWVhsUL56kXu8wqBQYFUb2QxbHdunRSlt6qNWry0l6iTDzlO33qFKVEaOWxjTgBS/pLrI4TJk1WBg/x3zYWUcSM+8s4z7d0/MfvfVRM4za/tqdANgyJxTd//ny0Ye1qHYYe3bqoXzesUOV7NashhhsZDHbp1EHlMcV01oyp9HPbdpQnXyH13RIFeuKEsbzwu6CuXmvvxOGGGM+SR+oaMjUdloj1MSEvIuK1aRbJLp6e73si1OdWKyR+ukdqZtIO1dbnzQdKYW9aiXvO143Pyp5YoSMjT3jxnbOe77DUV3rLXZNVbaianrIlDl7YZjKDUaJx3fqnRYH2ZV9fWfimyTB2oRD/aWMpx4v9prNyHp5IneIr7c/1jmbFfvPtp3SxkYtaMGhcVhaYmROJ29tglwfd8n9DP+V1pj55U5Af11t85RU62SwPJed+mnDZhxZffkIujva0vlqWT8Khmavf+JxYQWXVqERu0BeZSpHpRv1FZhK3d+HCJXTk0F61Kvs1f0FNTWXJCDNunHi8mO7TB57+NWQ1dtJkSTmQeahlWf/86DHjOSzZUfYFDF7Mpn8uMvsPPb3IyTm5iqGoX37Q/4aSLP6bM2u6fjL2QeCrEbhx4wb73mf/atf/WheWmaA7d+9Qbp5N0l+Ia2l7RGEwVU7q9fV7omaoLK3LON+32ifGHPSPo6q/9K8R2f2Y3F8PHniquNQyq2lKxPXwhO/0TAAAODJJREFUJs9m5MqZXRma9POE9R2QGZInvhzz9wssJoxSy692sw4RtDCK3+6Y4p8qG3q6oFZ1mIqvZEgSwevqKg3Z0Vd8JSkBK/Cm2iXnUrGfcETEuG79srK+S1/xlXONeUFeUY4gYSxpEgS7VxinGx9vZheQHkeCLeFize5TOKVJxde4nKljWeh2oI4rSUiziWe8aR3/olvrPMG+qKvc/WnxlSdq2aL86pv24xem6rE0rWvnTlShclUSxVB/UYi5oNlStyjG+r54+tfTQpbpp5naF9cDUyLTmUuXr6AFHPLmbysqpPr3p11XfuZYfklo7erlWhK2IAACX4mADJjz5skd6aubUnylMqk3ceKMka4XBU0TiKr+Mn21byc1ffp0Zm9WjFKaK4RxxrC+A+IzHF60DeO6InscMY0tsleJYDlZxFaD4+tGNxHL9ddql4Rtk7/IyvfsTrGN4x4n4JvIygvgrCGi2DbOnJQmXPSh6We9VZUzePtz3pQmf/wisteUaA4Tx48j9zseBsqvqfpkmsQ6cxmmag9Ne8FTm+ISIYpv5UoVQ09EwZ74EQ4a8IdaARsF1aNKEAABEAABEPimCFjN7UEWBknIFkjMJmBjY6N8biJ6F+Lf6/4skLI62FktzFlE24D8IAACX45ATJ6y/XKUvuyV0CdflvfnXg399bkEI1/eapZfze8DCnDkO+NrlxTFV+vHiLZFFr6ZW/wW0fqQHwRAAARAAARAAASigoDVlF8J8yQ//woBARAAARAAARAAARAAgehKIDScQHRtIdoFAiAAAiAAAiAAAiAAAlYiAOXXSiBRDQiAAAiAAAiAAAiAQPQnAOU3+vcRWggCIAACIAACIAACIGAlAlB+rQQS1YAACIAACIAACIAACER/AlB+o38foYUgAAIgAAIgAAIgAAJWIgDl10ogUQ0IgAAIgAAIgAAIgED0JwDlN/r3EVoIAiAAAiAAAiAAAiBgJQJQfq0EEtWAAAiAAAiAAAiAAAhEfwJmf+QiMDAw+t8BWggCIAACIPBVCOAd8VWwm70o+sQsnmh3Ev1l3S6x9FdqYfm1LnfUBgIgAAIgAAIgAAIgEI0JQPmNxp2DpoEACIAACIAACIAACFiXAJRf6/JEbSAAAiAAAiAAAiAAAtGYAJTfaNw5aBoIgAAIgAAIgAAIgIB1CUD5tS5P1AYCIAACIAACIAACIBCNCUD5jcadg6aBAAiAAAiAAAiAAAhYlwCUX+vyRG0gAAIgAAIgAAIgAALRmACU32jcOWgaCIAACIAACIAACICAdQlA+bUuT9QGAiAAAiAAAiAAAiAQjQlA+Y3GnYOmgQAIgAAIgAAIgAAIWJeA2Z83juil3r9/Tx8+fIhoMeSPJgTixo1L8eLFiyatQTNAAARAAARAAARAwPoErGb5heJr/c750jXKwEX6EQICIAACIAACIAACsZWA1ZRfWHxjx0cE/Rg7+hF3AQIgAAIgAAIgYJqA1ZRf09UjNTYREMV41Zq1X8U67Pnw4RdzqXn+/Dn5+ft/0nUbNm2ml69efZKOBBAAgW+LgKfnQ6s/B1++eEE+Pj7fFsgvdLdR0V9BQUHk7f3oC91B9LtMTH8XQvmNRp+pE6fPk//TgAi3yPOhN63ZuEP398jnSYTrsKTA4qXL6dDho1/ML1i+XN169qGixUtTmXKVKE+BwtS+U1cS5TQqxMvbm+rUa0SFvytJ3/E1q9esQ3fv3tNdys3tBk2cNEV3jB0QAIFvi8Cs2XOpcLESVL5iFcqdrxCNnzjF5KBclK2GTZpRwSLfhQtInjv1GjalAkWKU4nS5alazdp03c0t3HLIED4Bc/0lLn55+Z1i6q91m3ZhVv727Vvq0q0n5StYlMpWqEylylaks+fOh5k/tp3YsHEzleb3cb4CRZhBEerR+3d68+aN7jYvX75ikqmUC0vmzl9oskxUDi6g/IbVG18hfdjoKXT63OUIX/nxE1/aufcg7dhzgBYuWUW33e9GuI7wCgQGBtKUv6ZS2zatw8tqlfNiZe7Aiu4V/iKNHjmMrlw8R8uXLCbPB55Un18UUeGe8VPrtpQtW1a6cOYUnTtzklKnSk3tOnTS3Y/c+4oVq+ihl5cuDTsgAALfBgGZ9Zo6bTqNGPYnuV27RIv/mU/Lli+nRYuXGgDYuHkL/VCrLqfFoZcvzc8UyXOsSbOW5OCQhI4fOUhnT/1L+fPlo59/+Y3kmQuJPIHw+ksWd69avvSTv6xZs1GaNKnCvPCwEaPp5u1bdPjAXrp84QxVqliB2rT9LUreSWE24iudOHP2HPXt15+6d+1M1y6fp7WrV9Kli5do8JChuhbJYM45RYpPuFaqWF6Xx3hHBosVypf/pEyKFM7GWa12/EWU3zv3HtDzFy8NGv3y1Wt64uuvPjDXb9ymxz6+BuctOXj+/AVdc7tFr/VGHVq59+8/0C33e2TKCvo04DlbD1/Qu3fvSK5tSpF6/foNedy9r1Vn0fbR4yf09u07+vjxIz30fqymxWTf29twKiu8uqV9cl9SlyVSKH8emj99rPozl1/64e59T5VFuFhavxQ4eOgo2dnZUZHChXSXkNHeipWraeTocWor00CaLF22gjzu3KF/T5yk0WPHk4z6jC22vqy0L1i4iEaNGU/rNmzi9rzVirN7xTo6y1+0uXNmUtUqlSlhwgRUqGB+WrJoAcmXa+eu3XTu/EVazfn0JSAggGb/Pdeke4JcS9qkL3v27mNr9hE13ficpx0H/NFXXStJkiTUqeNvdOvWLXoaYo1PwV/onLly0ZatO/SrwD4IgMA3QGDLlm3UsGEDqvFDdTX7Vfy7YtS5U0eaPnO2wd3P4OMpk8ZT544dDNJNHVy4eJkeskvXtCkTKWXKFJQ0aVIaN3okBQUF0nIeaEMiT8CS/sqTJzfp/71la/DNGzeoR7euYV74xs0b1LlDB0qVKqV6J3br0omePXtGl69cDbNMbDlx/N8T5OrqQk0aN1T3niO7KzVv3oxOnTmru8XHj30oXZq0BlyFsXy2w5InT55Qdq5Lvy9kPyqjT1k11JnxjZ05f5kmTZ9H/v5P1ancuVxpzJ/9yMbGhtZt3kl79h2mIFZ4RBEVadG0PrVoIiPm8GXj9j00Z/4yXcbKFcpQ766/qmNR7Hr0G0YBAc/Ucbp0qWlQ366UKUM6dTx2yiw20wfy6M2DPrCSbGdvS726tKOyJYup88PGTaUTJ4M7M1HihNShbUuqXK6UOmfun069B1G3Dm0ofdo01LXP/2jowF7k7JScOvcaRFvXLCAJJRZe3Tv2HqDJ0+eqy8i1/54yipI7JjN3WYvO9R08mq5cDZ5Kk364ecuDunX6xaL7kgvsP3CAP5h5dNeSKaPa9Roqi0WRwkVoybLltHjpMtq+ZSPFiROH/mILyW5WLL0eelFBVlqnTJ1GM2f9TZs3rqUECRLQA1bCa9Wrzx/47JQxQ3oaP2ESrVu3gZYv/Udd49z581SsaFHKmiWL7pqy48gs/jt+mOLyqN3t5i0aMHAwVa5ckZySJ1f5NvELatnyldSh/afTVvsPHmLl9y4NH/o/lVcGJv0H/o/6//E7iWJ74tghla79IxbeBAkSqnvU0grkz0eHuJ727X7RkrAFARD4BgjIFGyJEsUN7lSe6X5+fiQDeSdnJ3Vu/ZqVJIPn/QcMnycGBUMOHjx4wM8Ye37GOOhOy/NT3plXr13TpWEn4gQs7S/9mseyoaZRo4aUOnXYll+xFuvLQzbGSJ+lThV2Gf38MXm/fLmyNGv2HLp9213NkooecIDfhyWLh34vfFiRTcEDOXEFOXL0mFKWpVyihAnDvHVfX19+B5ei7Tt3scHpNr/7i9B3xYpGqfIbpZbf+TwFn5anD1b9M53+GvensrIePPafDoCvnz+1/6UFbVo5j4oXK0TLVm1QVlNdhjB2xHIqim/Z0sVp3dLZNLhfN9p38ChdunJDlfh74XJWqoNo1pSRtHD2BAoKfEtr2SdWX9zY4jt++ADVtvTp0tKqdVvU6fOXrirFd/jg3qruwgXy0YLFq/WLhrmfijv8odcj8mALa/z4NnTnnic9YOUvSZLESvG1pG4ZCCxfMI2mjh9GL1+8otUbtoV5PUtPnLt4RSm+bVo1pc2r5lGBvLkjZPWV69y//4BcXbLpLnnq9BnycPegFUsXK2vp2lUrqHatmgYLxeSFsH3rRho/djTt2LpZ9cm0GbNUHT78Ye/buxetXrGUJowbQwvnz2Er8QmdS8G1q9cpRw5X3fX0dxIlTqwU6IKsiGbImJEtsdt1p7fv2EF16tTWHevvNGarjVh6NZHrBQa+oVo1qmtJuq1Ye8dPmEy//dpW9Z12IjuPej29HmqH2IIACHwjBAoVKkC7du1hq2zoDNeRo8fV3bvrzSiJ4muplChejF7x2oadXK8mV65eU7v3WTGGRJ6Apf2lXeHoseN0gafwe3TvoiWFu5XZyv8NGUZ1+Z0jlvvYLvnz5aWpPEtRr2ETtSamWIky5OzsTEOHDNLd+hN+75+/cIH6/TGQ3G7cpJGjxlLN2vXUAFGXyWjHlweQc+ctUDPBly5dofYdu7DbYzeTs/JGRSN9GGXKryiod+7cp+zZstD1m+70lK2wohweOBz8sJAWi8W1UrmSSlGsWa2SuokAnvIPT+6xf4hI88Z11Ki55HeFaeKoQfzhC7b+eXjcozIlvlOW3lTsM1KtSnk6/t9pg2qzu2alXDlclGJav3Z1nXvEoaMnSSyuHz58pMvXbqj2yyj8AS8qC0/E4vvQ6zHdZeXX1SUL3WG3CVmMliZ1SlXUkrqrV6lIyZImIZesGSlP7hw6N4Xwrm3u/N0Hwbwa1K6mrO6N69cwl93kOT9/P3JMFmqBzpY1CyXgkdwv7TqQ+Li9YSWyU4ffdBZYqaR2rRrct/FVfeK2UIXdFy5cuKSOxYWhWdPGynVh85ZtdCZk2kQsxSLvP7y3aNRXr25t2rY9eGAj/SQ+Sc14SsaU/FD9e/Wi0a4l161apYqavtHPL752P7MPl6urK3Xt0lH/FFueHXUzGQYncAACIBCrCfTu2UMN7mvWrk8DB/+pFsfKc82GDR2JEiWK1L3LjFN3nmLv2bsPdezSnbr36ku//Pqbei7JrBMk8gQi2l9jx0+kli2aG7zDwrt6775/qHffyOFDw8saK867e3ioz36RwoWpfr16Suk/cOAgLVwUag0X//WypUvT7p1baea0KbR/zw41EzJ63PgwGaRJnYZ+49nUtauW09y/Z9CWjevo5H//0YZNwUbJMAt+xgmbzyhrtugHnlIW2bnvIO1lq6wmybK7aLtkb2ev20/EDxGRj/xfeCKuCiIObFHVRBRZTd69e09JHELPJeX9wMDQ0brkS5I49GFVqWwJkj+Rd2zGF4vrhKlz1LH8I5ZbU37BugwhO+nTpaHzPGoJeP6MSpcoRvtZ0ZdpsXSsFItYUrf+PSVJkoheGPlKh1wqQhtR5OPGi8ttiaPK2YYopBGpRPozTtzQX3+Th/amDWt4sccymj59FvX9vT/VrFmDJo4brVNanZ0NR8LOyZ3Ix/eJuuzJ/07xyK6L8gNydXE1cC2QDLly5uQVz8GWfHPtbNq4EYmPnYwct+/YSXnz5GVrcAaTRWxtbana91VIXCMKs+/y3n0HaAZ/OfVFpnHadeisprH+njnVwOor+eIyA3GXgIAACHxbBGQqXNy2duzYRTfY5ap161a8BqIgW4N3kwsvlI2syOIhmeI9eOiwMhb0WrGMxrEbWMYwnmORvc63Vi4i/bVj52421t2lZYsXWoxJ1qrIDOiGtavUOhGLC8bgjH8OG0mFChWk2TOm6u6ifLky1JaNYI0a1lMDh9/79NKdkx1ZK9SgXl12jVxhkK5/sGhhsKunlpYpU0Yqwa4U/7Ge0LC+Za6wWllLt1Gm/Mq0v0jHX1pRlYqlLW2PRfnix7dV+WTBnGOyYCfq/Yf/pQysfLpmy0y2drZsYvfT1eXD+cSvyhIRJTxpUgdasSC0cy0pJ3lE+d219xD58713/a01LV+zUVm1ixcpqKqwpG5R4jSR+9NX0rX08LbGyllqtn7LgOH0uUtUrHB+OvLvqfCq+OS8E1s8nz71N0gXf1xtuuM8Txc1adqcqlWtQmJhFbnmdt0gv9vNm5TdJXiQMuWvaVS5UkXl8iCZxEVi/YaNuvwFCuSnCRMns+X8IQ8e0urSZZqp9c+/Ups2P6mFcPKAK8wvIHF9kJdQg/p1dHlN7TRt3Ji6dO+p2mhvb0eyaEUT4daDLS/+7I6zcsWSTyzCks//qR8l07OAa2WxBQEQiN0ETp8+y7NdCdg6+KPuRmfPmUdp+fkkA+vIiCzQPXb8X/UsKxniT/z69Wv679Qp+r1Pn8hUiTIhBCztL3nuSwjLXziaj77vtTmQC/9ZTOvWb6A1q5aZ9Q82V0dMPOf96BFVqRQ8S6+1P0eO7Mo46O3lrZTfSVOmUu5cual6tSpaFgrgBYGOjsG6mi4xZEcMTj379KOe7G6SJXNm3ennbER0cYn8oFJXURg7ccNI/+xksS7my5uTVm3YQm633JW/b59BI2nbrv2fXXemDGmVJXPe4pUqIsO6TTtpwl9/K0VTKs/J1uXjJ0/Tv/+dpfMXr/I191H50sGW3fAuXq1yObVQTuqUhXNLVm6gfkPGqMgQ4ZXNyMqvdPIL9uFKEbL4wdPTm5XyYOXNkrq37dyveB08eoIdvz2U20V419XOi9O9U3JH2s4hzySKhXCXqBrFixZQ6UNGTqIff+lmsQ+zVq9s06RJQ+4ed3RJMlIuW6EK3WQLiIhdyMNf/Kc1WcORGCSSgny4xSq7bft2qlnjB3XaXha9eXqylf2FigIxdORorZjatvixqVr92a59JzW6lgeULGCQ+IqiVJcpXUqXv2H9BjSdfYnPX7xIDeqaV36LFi3ML6r4HGFiHNWpbegbPPjPYaq9Y0aPIH8eeMiiPPnTj2F4mxdJmlsMoWsUdkAABGIVgctXrlCr1r+oGLzyPJLFPLKIt3+/iCmpQ4eP0q1TSJw4MQ0dPpL/RqnnpBgBBgwaohbghjeQj1Vwo+BmLO2vtes2sjuLHy9i/tVkK/T7SzKIm92wEaNo1IjhZGtjq3tPyLsstksVNlit5pB/EsVJvgPyoyziApQ6dWoVqUHuPx7Pjg4bMZJDrnooHOLDvoR/I6BKpco6PPpMJaLDE44QMWjwUKULSL0SHUoWzIlbYlSJTVRVLPX++lMzmjlvCfXkyAsy7Z4nV3aqXOHzrcBiVe7Xs6NSeDv3GsyjcXtq3rQeZc6YXt1O+zY/st/tfRo+Nth6W6RQPmraoKbBrYo7ginJkikDiQ/w8rUbaT4r1+Ly0KV9a+Urayq/flq6tKmUhTUJP9BE0rBVUhTYjKysi1hSd6GCean3gBGqnvTp01JE/XM7/tqS5v6zgnr1H66u2b93ZypbqhjNnT6Gjhw/za4LcXjBW05q/Vsv/uIG++OqjOH8U7FCeRo7foIu1/dVK7OieJhq1W1A9vb26ovQs3s3ypcvry6PRFwYMWqMWhjnwNb0bl0666zC/fr2ot/YvUACu4sFduCA/rR161ZdWflCzPt7lgqg3brNr+rFIFbfvHnz0sZ1a9SCNy1z7Vo/UL/+/dUXRRbDhSeyOGHGzFk0c2qoy4OEQFsWMi1Tq059gypmTp+qa/ely5eobJnP/wwbXAAHIAAC0Z5Aq5bN6RavchefX3nmySC6VcsWKvSZpY2XF/uu3cGL5mRNhDznZs+cQZ27dqe169aptSY5c+SgaX9N1rmPWVo38hkSsKS/xDAjkYjatW1r0nXBuL/kChLaU6RDp85qq/0zcMAf9OsvP2uHsXLbp1cPFX9a3t2yNkbcQfPly0dr2FVHky6dO7Bh6wFV+6EWM02owvY1a9qUOnZop7KYYjrtr0n0K9dZqGgJpQ+Ie+HYMexiwWuDokricEPCdGCMSJBtUUzCErE+2rPfRzxWgC2RU2cvqhBpxnlFEZ3z1yiD5KdPn/E0tINBmnbwiqePJKxaZHxcpY5nHHlB3wdX6mvbuZ9WvcF2wogBPD2f2iDN3IFx3fp5pUsCnr1QC9+09H+Wr1MuFdqxti1WpAD16txWOwxzK3WKL7TEsl26aiPt3n+Y1iyaadIdRFukpl/ZK+7DosVL0ToO45MrZw7dKfnwB4cpMfTvLVaiNA0eOICtqzWVP25ydpsQy7SxiJuHA6+ONnVNLa88oK5fd6PM7AdkSrmV+MHyKzvyBapQvpxWzOpbmaIsUaocbeMIFsYh2Kx+MVQIAtGcwN27dylTpkzRvJXWb5788qT4h8pzMCwjirmryjPTVDlZTCSGE1lPEVn5VvvEHK+o6i9z17T0XEzuL3FJdHZyMukeKPcv7jvu7jx7zfF7jd/vYX0HRB+QaBESPziyIj7GlsgXUX4taYh+HvmJXze2mBpLfFZki7Bl9GuJ/HDGqXMXTV6+QJ6cJhVJk5kjkSg/TuH1yOeTkk6OyZSf8ycnjBLEz3f0hBkqVQYRzRrVofq1gn1zjbJ+8kHVzv81bQYHZPeisewWEJ7oK7/h5f2c8xJpQuL6BgW9pU3rLQtJF9nrzeApTg9+QUloNggIfOsEYvKLO7b2HfokZvUs+sv6/WWp8hulbg+RvS1ZxFaiaPAiscjWERXlxHL9tdolP9Ch/UhHZO5NFrrNnDxCLcxIGxJ6LaL1SCizWX/PVS4IMl1nTtq2+dnAQmwu7+ecEwuMLBRp17bN51RjUVn5Ug3ob9ryb1EFyAQCIAACIAACIPDVCVjN8itT02LKhsRsAjIdF55iG7PvEK0HARCwBgFYraxB0bp1oE+syzOqa0N/WZ+wpZZfy5xwLWifKEym/JgsKIos0YQAFN9o0hFoBgiAAAiAAAiAQJQRsKrbgyjAsBpGWV+hYhAAARAAARAAARAAgc8kYDXL72e2A8VBAARAAARAAARAAARAIMoJQPmNcsS4AAiAAAiAAAiAAAiAQHQhAOU3uvQE2gECIAACIAACIAACIBDlBKD8RjliXAAEQAAEQAAEQAAEQCC6EIDyG116Au0AARAAARAAARAAARCIcgJQfqMcMS4AAiAAAiAAAiAAAiAQXQhA+Y0uPYF2gAAIgAAIgAAIgAAIRDkBKL9RjhgXAAEQAAEQAAEQAAEQiC4EzP68cXRpJNoBAiAAAiAAAiAAAiAAAtYgAMuvNSiiDhAAARAAARAAARAAgRhBAMpvjOgmNBIEQAAEQAAEQAAEQMAaBKD8WoMi6gABEAABEAABEAABEIgRBKD8xohuQiNBAARAAARAAARAAASsQQDKrzUoog4QAAEQAAEQAAEQAIEYQQDKb4zoJjQSBEAABEAABEAABEDAGgSg/FqDIuoAARAAARAAARAAARCIEQSg/MaIbkIjQQAEQAAEQAAEQAAErEEAyq81KKIOEAABEAABEAABEACBGEEAym+M6CY0EgRAAARAAARAAARAwBoEoPxagyLqAAEQAAEQAAEQAAEQiBEEoPzGiG5CI0EABEAABEAABEAABKxBAMqvNSiiDhAAARAAARAAARAAgRhBAMpvjOgmNBIEQAAEQAAEQAAEQMAaBKD8WoMi6gABEAABEAABEAABEIgRBKD8xohuQiNBAARAAARAAARAAASsQQDKrzUoog4QAAEQAAEQAAEQAIEYQQDKb4zoJjQSBEAABEAABEAABEDAGgSg/FqDIuoAARAAARAAARAAARCIEQSg/MaIbkIjQQAEQAAEQAAEQAAErEEAyq81KKIOEAABEAABEAABEACBGEEAym+M6CY0EgRAAARAAARAAARAwBoEoPxagyLqAAEQAAEQAAEQAAEQiBEEoPzGiG5CI0EABEAABEAABEAABKxBAMqvNSiiDhAAARAAARAAARAAgRhBAMpvjOgmNBIEQAAEQAAEQAAEQMAaBKD8WoMi6gABEAABEAABEAABEIgRBKD8xohuQiNBAARAAARAAARAAASsQQDKrzUoog4QAAEQAAEQAAEQAIEYQQDKb4zoJjQSBEAABEAABEAABEDAGgSg/FqDIuoAARAAARAAARAAARCIEQSg/MaIbkIjQQAEQAAEQAAEQAAErEEAyq8FFL0fPyL5s7Y8f/Gcbt/xsHa1qA8EQAAEQAAEQAAEQCAMAvH+ZAnjXLRIvvfgAZ2/fJHu3r9n8JcmZSqysbEx28YFy5fSiTOnqFjBwnT95g1asGIpJUqUmFKnTGm2nPHJpWtX0w3321SkQEHjUxE6fv3mDU2ePYP8nj6lHNlcaO+h/7dz5s9VHEkeL0mgi0sgiUuAJG6BuG9jG2wwGIPN4Gvs2VmvJ9a7EzExG/vT7h+xv03EzoZ3Pfb4At9gm/u+b3GI+xBIHEJICMQpgSRg81NSNa2mu997EozMUBkhvfe6q7KysrOqvpWZ1RvUxu1b1fAhQ1VSYlJMvGzhR6uBe/fuqbi4OM20rPyiWrFujRo6aHCLG6mtrdW2V7B/nyoWG66Xdrp0SnPaitSAW65IZbcV7FQpSSkqNTXVKVpdU6MKCver3j2znGthX+7fvx+1bGF8zL0qsfVdewuajF3upXXqZIo4n5cuX1a79u1RJ4tPq9SUFNWhfXvn3pP85crVKrVu8yY1UMZ8a1Ms9uSV9Yvvv9F2lJKc4r31yH677W/3/r2q5MwZ1adXr0fGH0brtmxSN2/dUt0yMx8pX5g9LpkfuaDCsCW2ECSPmyfOnWVr16i8AQODitvrVgOtpoFfvOe3tLxM7dy7R+05cEDtPXTQ+bsjoCISMZHy15S8v5ve9fv18ovT1cwXpvndiu2akaXxc9K48eqV6TNkke8QGx9b+pFqAID2508+cngCUKtv1zi/m/vlrvBZuHSxOnT8qOqd1Uulp3VW23fvUivXr4ua5Yef/VVdqqyMqvzewgNq8eoVinYN0Y99Bw+Yn6Gf+w8fUj+uWBZaJtabZRUX1YWLF2XT2c75S2yb+BCbW9XV6ruff1TtpVzXjEy1aNlSVSlg+O+BAL75eUNavSteO49VoJrqGnX37gPbirV+pPJe+6utq1O1dZHn+Uh8vffv3Lmj6h4DX9p5XDJ7+9DS3y21Bb/2vTxZ19qKg+p4UZFfcXvNaqBVNRDuOm1V0Zo2PltA4qD+TT0n58vKVPGZYpU/eIjqnJamrl2/rg4cOaSye/WJyVvA4KyorFDDh+arQ0eOqHsCTgf3H6AyMzK0EICPuPg44dtbpz+cFC8wXhwW9avXrqqcPtkqV/4MVddUa29fZVWVwkM9eMAAmQTamtvO56UrV1SVeIXwDt67f0/t3rdX9ejWXd/HS9hXePbNznE8cXjGTpwuUniQc6WP/XJzHV7uL7dlcmchqZL2O3Zsr/XTqUNHXeTu3bvqqHjBL4h3M1U8OEMGDVJdBJQZOn2mRJ09f05vGvpm56rs3r31LbyKqSnt1EjREXTwyGF17cYN9eyEiY5OBvTtp86UnlcJ8fFq7IhRqjly0MdjJ4+rXj2yVG52g05p6+r1a+qZcRNUQkKCbt/8oz9npU0m3l49e2rgxD08EEdOHFf9RUcnT5/WoCqndx9Hl6Y+uj9+qkh7ZA8dPSJ209Bf7mNPpKW0Fw/kgNy+TeqWlZcrPMQ9unVznpnhaT637dqpv7792jynbv7gPPX5t1+royJb3sBBWnfxoi8WTeyMdmgPIlpRX1+vTpacUvV36512aJe/jC7p0ucsRX1DNTW31ebt29TUyc+aSw99+tXHO3mh7IK6fuO6Qg954vXmOWJrxWdLNI/cPjkqJTnZ4Vd+qUKdu1Cq2qW205EMtxymEKC2j9gQ9hBGW3fvFA/RAB2loVx9fZ3asG2LevPVub7Vrl67pkrEThPbtlX9ZIwkJT2InPj1DyY8y8z0DHW+TGQWW+6dlaVthHnl2IkTKl5sq19OjkpOaujjcRnn2bJpSW7kzbjoKOPIeK2j6T9zQXnlJdVH+EB4wypl3LeXCFTJ2TM6moTeGvpzVnUUwMA8g50bGw6SD348H/jUyzigXscODRtp0rTgi+cfL+fAvv0esnPK6vEj0bVrN6+rHJlTTN/gjU0Wi+eVPuQNDPfeBclh+gvfkrNnVVaPHs4YpQ1DfvZn7jHWLlwsU91krPXq3sNcDpXdKSRfcICckzmi4nKlnk/d9/juZ+M3bt5UFZcuNZlj0UWXzp1Vp44dfet4+RreYc+HZ3xexl2W9MvM/ea5Y9fYIFEQnl+F2BGRUNYlnrUhP/m5Z2zAO7f4zXnGbgxPPlkLLlddUV3TM511gOt+7QXxZB3dL04r79oNH0tWA62pgV982gMTA4vO4P4DZbHv0kRXR4tOqC07d+gJDfDLZEW4Oi2tk4TnemmPF5P7uFGjZcG5rCd/AGN3AaRu2lGwS5c9XVIioLBcBn2xOizgBDDHxLN41XJVXnFJL1RFUmajLMpMQsUymSPfoWNHVVrHTnpSZ2JYsPA7WWhLVJuEBA1CywQkE/pBFsK6menpMhkMUDsLdqu94pUbPWyEuiOeiJ/E63axokKdKi7WfA8L3w6yQHXP7KrBzoJFP2iwfFeA0I49BRqQ0083MXH+9av5ItuZhl33qVMCZo6qkfnD9GK4aPlSHYYG4DMp7xdg2T8nV4fK8bAvX7ta3ZLFjgV674H9Tr++X7JYFu6bakQj+CV0CIh+RrzXRidn5DnR7/j4BA2GmiNHOwnZ430E7A7PG6oXrq9+Wqgn3NHDhru7qj2ceAsBIYmJbdXWnTs1yGQRqRPQ+OUP3wqouK6vHRRAVyTgZ4gATjfVCcjiOjwy5LngnaUuumdz0qZNgtpTuF9ViTxsRCBsrqBwn2ovoG+3fFbfrtb2pm+6/gF+Rw8fqfmay6Tq3K69rXmjdzY8ew4UqlsCUO7U1qnVG9frhU2DI1J9Ss/JM0jToKazpEtsEmBLaBWQhEeZ58wCA+0SXnNfmS3ybVfdJLWHRRrP7+Fjx/QYoExQ/euykYFXtYBVbK5Xj54K4PqlhLrbyMaN+9h93oBBGnACzNdu2qhts+TcOXVANlsAey8V6cU7VZVevKCBVFsBq37pDNtlLJD+Qx+hZAHZjBVSlrwECFm0bInmw3jZKnoeOniwToMK6h88Fq9aoTeP9XX1erOMZwobKRcepLxUiA3wbIcI8MdjtUhsPrdPHw3uqb9u6xbd964CPqLt/4lTDZtVk0JzvvSCWr1pvQZzAHY2W8xvP8q45Jmekr5he8gAoA2T75psVEjJik+I0xvNdVs26w0g+sWusJMq2SR0aNdO26DXzmn/+8U/qQqZG9norJf6ACvmMuaqrxZ9r+cbNu7wuyE2yjNmjLopTA76u2bTBrH3hjY2i23ev3dfg2A3Dz/7Y249LTbJJvSeeJw37dimZWMdYJ4Lkt3Nl+9rNm9UhWKf6HffwUK9aSflgXmCOc3Pxnn+9H+kzDnM4+hjvtiKnqtlw+xXh40Ym0HK4gwJ0wv63Ceg8II4cHgOzBU4QADBZu66ceumSoiL1/MPfLF7xsVm0UOnDp30ehgkP7IEzS2057WFFFnn3LRGxjbgl/FYIOvArZpbeo4Lao+MMT+ebJbXyloxccxYxwHgbsd+txpoLQ08MZ5fBjyTOZTeuYuaNW36I9cZABGgjMdwiSyU7FinPzfFt510mYBfn/2q9th88vV8tUtkGyoLA16zK+JxfedXb2jvMx7YVevXqlKZyPHURaK2iYnqg7ffkUXrqvrLl5+rouLTaoSAgm0CDhJkhnn/17/RkyXybS8oUBNHj2vi+asTb82Lzz2vPRR4dAHJm7ZvFfBRpj1ap+CXn69mTp2m21i6ZrUqFS8i/dkmmwBkfP+d32gxAcrco1/RUKaEqz+YOUvLQ2ixOXLQ1z7izTwrkz3eBLw1tcKLzYKXjsvmRxJbHO/giKHD1F8WfKGBPmXvywIJOGezMf7OaPXnTz9WyMXkbwgv3xjZfBw9fkxNFs8ydKusRoBorXptxsvaA5croHfxiuXaFgCE+w4dUL//x/cFcCeq8WIv//PZJ+LZHK2BkeHL5yWRPTPj4WeeIZ6U4jN7nKJ45WdNe0n/TpAIA8CKDdrYkaM0oMXbDiihbWzyX997X3sjzUaHjZjJi2wni9jMF6bpTcz77/yD0wZfItXvK2AcAGz0gLd/2JB89czYcZoPdsSCileZhXHwwAFaxrFy97zYlztfU1dobJMN0dC8PJUggGLhssWix6kPeYKuyebCRCeoy3cWWoCE19u/ZvMGSRd6SeHJh9iIXKm6qsF+JP3kD8pToxo3UXjEsJHRw0c4G5slq1fKhrTQ0YFuwOdftP2/Jn1Ik425m3hub8+d54xbwOGcGbNkw9Hg1fzyh+/0c8CrHyYfKTT5AvqfnTBJs2eTjLf83Xlv6t9d0tLV3JdnOU177ZzoA6D/9Vfm6DKk5myUzdV7b/1ab2zbJrRxxlaleAA/mf+Fw8v9JZIcRC3mNs4LWd17qq1iV8yzbuomsnvtj/uApzkvzdRFk5KT9OYFL+LxopOBsrv5AqoZ2w1jJlmAZZ36eP6XTpEwG88W+yLKB+BnXDAmicqs3LA2cFw4jOVLJL1Q9q3XfqWrsNH/RJwWY2SzDPHcnx0/UXvie3TvrsfzH373ge4z46jk/Bk9hsLkh4/f3DJ18nMPzXmUddOpktPqFZmTsIlhMiczPqGw9rz2RXlAdZvGCIR308R9S1YDraWBJwb8pqSm6J07imrfrqnn4VEpzxxI4TDaEmF6WULwQYRXGCKcB7jC6wxdFO8RtHD5Eg1W8QRDeKiiAb89unXVExzAFXB1q/qWrs/ke0+AwP998an+bfgCsFg4DAHsbkub5BniPQWIQ3gTrt1okM14i9nV//aNt/R9wo51AviyevZwFuU3BNzHQoTmTOi7uXLQHl6vEvF6EtYub3zLxhCfQxPlonP3QS5Cdx3EG4tOOov+4mTS5dlAyAMwBFC5wa++6fMvTXRjQFdX2RDU3DHPsVzVSCgZL70h9FZRWemAF3M9NSVVPCY1TdJKuFctHjT3obRM16aIsHyRAEs/IoxJf0wYHl0TRsZrbcAv9foJiC2SxWuNeJEnNAJXrkdbn7JQ4aFDKlH0ViobEYgNCfm40Mj84ernlcsEBJ9VuZLWMFxAsjkwqAs0/mPjRLqKCaejy62yyfKGQXkmd2rvOFVJmcFLbJ6BucGGCEBj0gi4blIqGtIawvXjjR5hI+4QMmkOQfo3MvAZbf9vi+c92XOYlXFnxgn9YYxu27XD0R/pJxfFtgG/YfKVi825IxnoZJUAaUMZ6Q/Smcw19yeRGsYZ0ROoVoDhRdnssokhxE77hjLE4UDeth9FkoO5zPQ3QzaD16/f8GPje43xYIjvpRcu6J9hsrvtkH6kSz2TyoIXGzBpKMzGAb04L/hkQ0p0AQqrY/jyGUkvfVxRO8ZHakqyTjPoJJ53nrsZM4liPxzUNv1KkU3A5Sv1uqlIskQ7t7jl5vv4UWNkjluuD4cT8TI565Ha8/LhN/KTfmPBr5927LXW0sATA37HDh/10IIZrxpO57NQQuzqW0I3BGgSKsZDBiULWAoi8ugMcRCEcBRkBvgb4k1JITwoIT4l3rx2AoRkVTFVovqMF6+MofTOaZKKUKXebQSrhm8nAXxuAgAsk9SFYXLABuDDpL1PwuoQYXoI8AaxyOERRmYtn1yrlpxRQywceKnweDDx4oE1VCuhYy+55W2uHAADQPQqWaTINS2/VKm6S3iS5+KlJPHako/oJg7ImIXOfT3W7y7VK+m8Ux2QRt4n3lU3mefuvkbqwfnSUtVbUgjcRDi3e9cGEKmvP0jZbdKWuw7f6S/pMW7CQ21sz339xcnPq0+/XqA9ZOZ6LPWp01PkZuEn99yQecNKTwEQv3/vdxpQk/7y2bdf6d+EW93E4TZShwyRM3nz5k3z0/kEIF0WEGjyHi9fuaI3ME6Bxi8AYoCU33OOtX+wxMMGADVh39sCwJNl06lJHjueZ0N3ZQNpKJb+k78cREaf05+f2uTtNWaDFiZfclKipNA8sIfb2L4HaAe1y/UOHdrrvPMpkyY3KcZYp32zwTY38ZT7USxyxDXO2X58/K49GHlN74bJ7i6ZJPOy93Cbex4Ls3FA3+qNG/R8eV5At4nOhNVxtx1JL96xXCtpT2Zj6+YT9j2iLFHOLd42iI7kS7SGfhNZYT7HSx2xPS8j+c26nGTGlM99e8lqoDU04B4ardF+i9pkwYQYnOTdbpUwYEto9YZ1OveX3EDIC1rcvAskzYHXVy1bs0p7WLMaAY45+EaOaZ1MZocl5PbjsiX6QJa7fqzf+2X31Qt1sYSQa+/Uqi1yQGjJqpWyejflRF4epAGRLOykWxhiwSatAn3x6jZysRZIiLW0Me+suxwoYZLD28Hf5999I3m/DcC5s3gm8A4T9tq+p8DxyBre3s/mygEfPN59c3K0hwVPVJ5PygPlcuQVSEWS02w2K4RxAUd+QJnyQcSCUyvAxmyigspxvZt4Pu/eu6uu37yh83DJCSbH1v2GBVOfECZpAnjXIDYb6JXDN/mDhphioZ/IRu4g1C1TUh/k+eL1gnge5wDXLg+dviH/0MOcGTMlD3qHuRSxfoqAa7yqhvAgYw/kkOJVJ/+ScD9EOg39AqwSnqX/pNx4qfDwQcnJfSBDoRxI7S0HEyF9YKzRPvFg7pKcc8AmGy5eUeh3yApgRp7srr0NKVAsrOS9npG841j045bTpFMB7g4eeXDokdxXzgFAAHYO0hmKtv/t27eT5/cw2Dd8APLMGSeKT2sd87YL0i44CGsoSD4O9u6XMwPoC2KsZoe8Fsxr59m9sxXnEbBhni82TU4sROrRyVNFztjaL8+RCIcfxSqHHw+uee0vqBzXw2R31+uWnqGjPWbMEC0655oTw2wcWxvUr59aSR6+pECYKERYHXfbkfSCfs14Y/0ixSPWN/9EK4tbLr57bcF9H3tasW6NgH45WC22OUG8wByEhcLa8+PJmGKDbpwDOCvYLFuyGmhtDTwxnl8/ReXI2wAYnKQErK7aoEblD9NhO7+y0Vwj3E7OHIfB8HiRCxhEhHkBvywYPeSQwswpL+iiyDNN8oRZvJnQ2ggImTB6jAJ4Go9rEM+w689NnKRTIAC9LEIciJox9QUNctz1OPx0WA5CAbqOCPDmTRQmJYMw/Ouz5uicNQA5uWMjRGcmdDpP7nHYjBxEgBo5iOatAQCcn2VTsGXHDp1rCdgva0xJcLdvvrdEDngg04mik5odb8vwo56i9wlykOKL777Wnmm8VW/O8X87gF99cw2v31Bp7+P5n0ue2wzVRg7PBRGgcu7Lr+jFgUWCtzFMGjv+oXxf6vPMX5bcdA6GEdIHIALMX5/9mgYbQW24r4+Wd0uvkk0ZaTO8WWOuRBRWimefw1DQ9OenOOFRdz2+A0zJ3y2UQ40QId+w+rxdY9f+Pfq1bx/89p8kn3yM9HOt+lBymgEC5A++Jn2H6NsKeYdnW9EVm7xJEmUwC5wu0PjvefEqLpIUoI+++EznZ/NmCHLloQMCNEnrYZM5WNJaeHsLaT1xcsgH2cf7HHajHrmIPy1fquUinWfowMHOafSw/lHXS4SXEwX080o5PLSDRA5zOG3S+Anqx6VLFBtZQtAm5QMe0fY/OwugvsfbbJPfs1+aKTpaKkC2UIP//n376lQm+hYmH/MKb5v538//Kv7UOJWZmanz1Jswd/3w2jnPm7xy3j6SEJ8gUQcl3s0ZukbvrF5y2GuEPjyLd5poDJsBP4pVDj8eXPPaX1A5rvPWhyDZ3fXYSJMzvFxsVUxY27A5uEq5MBvnPmk7RFDenfcGPzVFqmPKRdILz3mhzMOkxrSR/Oq5sxrGlqkfzWe0snh5+dmCKcOGjEOdvNeZzRjje/qUqfp2WHt+PElbI3JoNg6cT+CwNOsDc4olq4HW0kCcgByP77C1RGl+u4TnCLeaARYrJw6Pccjtj//8LzpkjkqCeOG54wDbq3IYKk8AEyFTJlg/wiNJyPdRDnIAF/31AxpuGdhto5OgtuFBKMrk4rnr6vCm6MDbL/RSIxM1IDpaao4c9JGDS4DwAZJ/PW/W7IjNhT2HiJUbC9C/IH358eDwHDqKpg62wKlxE8724xd2zStbS/sbVh/9u+3CgHyvPSAv3nI8PpGI/qMndwqEXx3kYpPgfqWaXzmu4WkGmPnpP6x/hh92/qePPlT/8Yd/c9Ib/Mb9bcn3Dkqliab/n36zQM2ePtPJPzftez+Rh/Z58wIUrXw8n7A5y9uO15a4H9QP/exlo+VNZ/Hy5HescvjxMHzc9hdUzlwPkt3cN5/ew67mOp9hNu4u5/4ebR0/vawXAJgoaSuTx03UntGWpgVEK4tbfr772YK7TJBuw9pz8wToElUwefnRtOlu3363GnhcGniiPb9GKdEslKZspM9YJl14+QEC00YkgGrKxfKJfNHwjTSZhuksaKFrAC/RA1/61Rw5OIBDmJL836nPNM1HDNJV2HMIquO97geivGXcv2MBstE8Mzdv73evbC3tb1h97xjgd1D5aIAvfYm2/0HtePXBb7zwQRQLH3j4gV7DOwj4cj+a/k995lmJEu11ckYNX+9n0LijXJh83ufl5ev97bUl7gf1Qz97ef7RUKxyBPGMlU+Q7F7+YeNV9zPAieHlY35HWydSfyLNkaa9sM9oZfHy8LMFd5kg3Ya1Z3iyaeRMyRSxfzeZ++5r9rvVwN9aA38Xnt+WKo18PrwsvCs40sDEe4AXi3BQrAtsS+V8WuqTW8lz4HR32KL/tOjD9vPxaYB3yMaaI94cacjtxAMWK/2t5ItVLlu+ZRoAGJKqEgbIW9ZC69cmMsP5iLDNY+tLaSV4WjVgwe/T+uRtvx+rBv7rv//0WPk/Tcz/84///jR11/bVasBqwGrAauAxa8CC38esYMveasBqwGrAasBqwGrAasBq4JejgeiSuX458lpJrAasBqwGrAasBqwGrAasBqwGmq0BC36brTpb0WrAasBqwGrAasBqwGrAauBJ04AFv0/aE7PyWg1YDVgNWA1YDVgNWA1YDTRbAxb8Nlt1tqLVgNWA1YDVgNWA1YDVgNXAk6YBC36ftCdm5bUasBqwGrAasBqwGrAasBpotgYs+G226mxFqwGrAasBqwGrAasBqwGrgSdNA/8P/p47rSsPzK0AAAAASUVORK5CYII=)"
      ]
    },
    {
      "cell_type": "code",
      "execution_count": null,
      "metadata": {
        "id": "HjduP1dpo9ev"
      },
      "outputs": [],
      "source": [
        "text = \"\"\"Three more countries have joined an \"international grand committee\" of parliaments, \n",
        "adding to calls for Facebook’s boss, Mark Zuckerberg, to give evidence on misinformation to the coalition. \n",
        "Brazil, Latvia and Singapore bring the total to eight different parliaments across the world, \n",
        "with plans to send representatives to London on 27 November with the intention of hearing from Zuckerberg. \n",
        "Since the Cambridge Analytica scandal broke, the Facebook chief has only appeared in front of two legislatures: \n",
        "the American Senate and House of Representatives, and the European parliament. Facebook has consistently \n",
        "rebuffed attempts from others, including the UK and Canadian parliaments, to hear from Zuckerberg. He added that \n",
        "an article in the New York Times on Thursday, in which the paper alleged a pattern of behaviour from Facebook to \n",
        "\"delay, deny and deflect\" negative news stories, \"raises further questions about how recent data breaches were \n",
        "allegedly dealt with within Facebook.\"\"\""
      ]
    },
    {
      "cell_type": "code",
      "execution_count": null,
      "metadata": {
        "colab": {
          "base_uri": "https://localhost:8080/"
        },
        "id": "m8Zjtp_Qo9ew",
        "outputId": "c2ea66fe-38ce-4cd0-b109-ebc429c98325"
      },
      "outputs": [
        {
          "name": "stdout",
          "output_type": "stream",
          "text": [
            "Three more countries have joined an \"international grand committee\" of parliaments, \n",
            "adding to calls for Facebook’s boss, Mark Zuckerberg, to give evidence on misinformation to the coalition. \n",
            "Brazil, Latvia and Singapore bring the total to eight different parliaments across the world, \n",
            "with plans to send representatives to London on 27 November with the intention of hearing from Zuckerberg. \n",
            "Since the Cambridge Analytica scandal broke, the Facebook chief has only appeared in front of two legislatures: \n",
            "the American Senate and House of Representatives, and the European parliament. Facebook has consistently \n",
            "rebuffed attempts from others, including the UK and Canadian parliaments, to hear from Zuckerberg. He added that \n",
            "an article in the New York Times on Thursday, in which the paper alleged a pattern of behaviour from Facebook to \n",
            "\"delay, deny and deflect\" negative news stories, \"raises further questions about how recent data breaches were \n",
            "allegedly dealt with within Facebook.\n"
          ]
        }
      ],
      "source": [
        "print(text)"
      ]
    },
    {
      "cell_type": "code",
      "execution_count": null,
      "metadata": {
        "id": "G-XJeg7ho9ew"
      },
      "outputs": [],
      "source": [
        "nlp = spacy.load('en_core_web_sm')\n",
        "\n",
        "text_nlp = nlp(text)"
      ]
    },
    {
      "cell_type": "markdown",
      "metadata": {
        "id": "WeCvlX6mo9ew"
      },
      "source": [
        "Una vez cargado el modelo y procesado nuestro texto, cada token tiene una etiqueta asociada al tipo de entidad:"
      ]
    },
    {
      "cell_type": "code",
      "execution_count": null,
      "metadata": {
        "colab": {
          "base_uri": "https://localhost:8080/"
        },
        "id": "xP07BjCko9ew",
        "outputId": "0beb0ea6-3393-4a94-9869-b5362a695f96"
      },
      "outputs": [
        {
          "name": "stdout",
          "output_type": "stream",
          "text": [
            "[('Three', 'CARDINAL'), ('more', ''), ('countries', ''), ('have', ''), ('joined', ''), ('an', ''), ('\"', ''), ('international', ''), ('grand', ''), ('committee', ''), ('\"', ''), ('of', ''), ('parliaments', ''), (',', ''), ('\\n', ''), ('adding', ''), ('to', ''), ('calls', ''), ('for', ''), ('Facebook', 'ORG'), ('’s', ''), ('boss', ''), (',', ''), ('Mark', 'PERSON'), ('Zuckerberg', 'PERSON'), (',', ''), ('to', ''), ('give', ''), ('evidence', ''), ('on', ''), ('misinformation', ''), ('to', ''), ('the', ''), ('coalition', ''), ('.', ''), ('\\n', ''), ('Brazil', 'GPE'), (',', ''), ('Latvia', 'GPE'), ('and', ''), ('Singapore', 'GPE'), ('bring', ''), ('the', ''), ('total', ''), ('to', ''), ('eight', 'CARDINAL'), ('different', ''), ('parliaments', ''), ('across', ''), ('the', ''), ('world', ''), (',', ''), ('\\n', ''), ('with', ''), ('plans', ''), ('to', ''), ('send', ''), ('representatives', ''), ('to', ''), ('London', 'GPE'), ('on', ''), ('27', 'DATE'), ('November', 'DATE'), ('with', ''), ('the', ''), ('intention', ''), ('of', ''), ('hearing', ''), ('from', ''), ('Zuckerberg', 'ORG'), ('.', ''), ('\\n', ''), ('Since', ''), ('the', ''), ('Cambridge', 'GPE'), ('Analytica', 'GPE'), ('scandal', ''), ('broke', ''), (',', ''), ('the', ''), ('Facebook', 'ORG'), ('chief', ''), ('has', ''), ('only', ''), ('appeared', ''), ('in', ''), ('front', ''), ('of', ''), ('two', 'CARDINAL'), ('legislatures', ''), (':', ''), ('\\n', ''), ('the', ''), ('American', 'NORP'), ('Senate', 'ORG'), ('and', ''), ('House', 'ORG'), ('of', 'ORG'), ('Representatives', 'ORG'), (',', ''), ('and', ''), ('the', ''), ('European', 'NORP'), ('parliament', ''), ('.', ''), ('Facebook', ''), ('has', ''), ('consistently', ''), ('\\n', ''), ('rebuffed', ''), ('attempts', ''), ('from', ''), ('others', ''), (',', ''), ('including', ''), ('the', ''), ('UK', 'GPE'), ('and', ''), ('Canadian', 'NORP'), ('parliaments', ''), (',', ''), ('to', ''), ('hear', ''), ('from', ''), ('Zuckerberg', 'ORG'), ('.', ''), ('He', ''), ('added', ''), ('that', ''), ('\\n', ''), ('an', ''), ('article', ''), ('in', ''), ('the', 'ORG'), ('New', 'ORG'), ('York', 'ORG'), ('Times', 'ORG'), ('on', ''), ('Thursday', 'DATE'), (',', ''), ('in', ''), ('which', ''), ('the', ''), ('paper', ''), ('alleged', ''), ('a', ''), ('pattern', ''), ('of', ''), ('behaviour', ''), ('from', ''), ('Facebook', ''), ('to', ''), ('\\n', ''), ('\"', ''), ('delay', ''), (',', ''), ('deny', ''), ('and', ''), ('deflect', ''), ('\"', ''), ('negative', ''), ('news', ''), ('stories', ''), (',', ''), ('\"', ''), ('raises', ''), ('further', ''), ('questions', ''), ('about', ''), ('how', ''), ('recent', ''), ('data', ''), ('breaches', ''), ('were', ''), ('\\n', ''), ('allegedly', ''), ('dealt', ''), ('with', ''), ('within', ''), ('Facebook', 'WORK_OF_ART'), ('.', '')]\n"
          ]
        }
      ],
      "source": [
        "ner_tagged = [(word.text, word.ent_type_) for word in text_nlp]\n",
        "print(ner_tagged)"
      ]
    },
    {
      "cell_type": "markdown",
      "metadata": {
        "id": "jsI6h0dMo9ew"
      },
      "source": [
        "El paquete `displacy` de spaCy proporciona una interfaz visual muy útil en este caso:"
      ]
    },
    {
      "cell_type": "code",
      "execution_count": null,
      "metadata": {
        "colab": {
          "base_uri": "https://localhost:8080/",
          "height": 294
        },
        "id": "24c5UGICo9ew",
        "outputId": "067c43d6-51a5-4a68-b82d-a9dcb9d40e6b"
      },
      "outputs": [
        {
          "data": {
            "text/html": [
              "<span class=\"tex2jax_ignore\"><div class=\"entities\" style=\"line-height: 2.5; direction: ltr\">\n",
              "<mark class=\"entity\" style=\"background: #e4e7d2; padding: 0.45em 0.6em; margin: 0 0.25em; line-height: 1; border-radius: 0.35em;\">\n",
              "    Three\n",
              "    <span style=\"font-size: 0.8em; font-weight: bold; line-height: 1; border-radius: 0.35em; vertical-align: middle; margin-left: 0.5rem\">CARDINAL</span>\n",
              "</mark>\n",
              " more countries have joined an &quot;international grand committee&quot; of parliaments, </br>adding to calls for \n",
              "<mark class=\"entity\" style=\"background: #7aecec; padding: 0.45em 0.6em; margin: 0 0.25em; line-height: 1; border-radius: 0.35em;\">\n",
              "    Facebook\n",
              "    <span style=\"font-size: 0.8em; font-weight: bold; line-height: 1; border-radius: 0.35em; vertical-align: middle; margin-left: 0.5rem\">ORG</span>\n",
              "</mark>\n",
              "’s boss, \n",
              "<mark class=\"entity\" style=\"background: #aa9cfc; padding: 0.45em 0.6em; margin: 0 0.25em; line-height: 1; border-radius: 0.35em;\">\n",
              "    Mark Zuckerberg\n",
              "    <span style=\"font-size: 0.8em; font-weight: bold; line-height: 1; border-radius: 0.35em; vertical-align: middle; margin-left: 0.5rem\">PERSON</span>\n",
              "</mark>\n",
              ", to give evidence on misinformation to the coalition. </br>\n",
              "<mark class=\"entity\" style=\"background: #feca74; padding: 0.45em 0.6em; margin: 0 0.25em; line-height: 1; border-radius: 0.35em;\">\n",
              "    Brazil\n",
              "    <span style=\"font-size: 0.8em; font-weight: bold; line-height: 1; border-radius: 0.35em; vertical-align: middle; margin-left: 0.5rem\">GPE</span>\n",
              "</mark>\n",
              ", \n",
              "<mark class=\"entity\" style=\"background: #feca74; padding: 0.45em 0.6em; margin: 0 0.25em; line-height: 1; border-radius: 0.35em;\">\n",
              "    Latvia\n",
              "    <span style=\"font-size: 0.8em; font-weight: bold; line-height: 1; border-radius: 0.35em; vertical-align: middle; margin-left: 0.5rem\">GPE</span>\n",
              "</mark>\n",
              " and \n",
              "<mark class=\"entity\" style=\"background: #feca74; padding: 0.45em 0.6em; margin: 0 0.25em; line-height: 1; border-radius: 0.35em;\">\n",
              "    Singapore\n",
              "    <span style=\"font-size: 0.8em; font-weight: bold; line-height: 1; border-radius: 0.35em; vertical-align: middle; margin-left: 0.5rem\">GPE</span>\n",
              "</mark>\n",
              " bring the total to \n",
              "<mark class=\"entity\" style=\"background: #e4e7d2; padding: 0.45em 0.6em; margin: 0 0.25em; line-height: 1; border-radius: 0.35em;\">\n",
              "    eight\n",
              "    <span style=\"font-size: 0.8em; font-weight: bold; line-height: 1; border-radius: 0.35em; vertical-align: middle; margin-left: 0.5rem\">CARDINAL</span>\n",
              "</mark>\n",
              " different parliaments across the world, </br>with plans to send representatives to \n",
              "<mark class=\"entity\" style=\"background: #feca74; padding: 0.45em 0.6em; margin: 0 0.25em; line-height: 1; border-radius: 0.35em;\">\n",
              "    London\n",
              "    <span style=\"font-size: 0.8em; font-weight: bold; line-height: 1; border-radius: 0.35em; vertical-align: middle; margin-left: 0.5rem\">GPE</span>\n",
              "</mark>\n",
              " on \n",
              "<mark class=\"entity\" style=\"background: #bfe1d9; padding: 0.45em 0.6em; margin: 0 0.25em; line-height: 1; border-radius: 0.35em;\">\n",
              "    27 November\n",
              "    <span style=\"font-size: 0.8em; font-weight: bold; line-height: 1; border-radius: 0.35em; vertical-align: middle; margin-left: 0.5rem\">DATE</span>\n",
              "</mark>\n",
              " with the intention of hearing from \n",
              "<mark class=\"entity\" style=\"background: #7aecec; padding: 0.45em 0.6em; margin: 0 0.25em; line-height: 1; border-radius: 0.35em;\">\n",
              "    Zuckerberg\n",
              "    <span style=\"font-size: 0.8em; font-weight: bold; line-height: 1; border-radius: 0.35em; vertical-align: middle; margin-left: 0.5rem\">ORG</span>\n",
              "</mark>\n",
              ". </br>Since the \n",
              "<mark class=\"entity\" style=\"background: #feca74; padding: 0.45em 0.6em; margin: 0 0.25em; line-height: 1; border-radius: 0.35em;\">\n",
              "    Cambridge Analytica\n",
              "    <span style=\"font-size: 0.8em; font-weight: bold; line-height: 1; border-radius: 0.35em; vertical-align: middle; margin-left: 0.5rem\">GPE</span>\n",
              "</mark>\n",
              " scandal broke, the \n",
              "<mark class=\"entity\" style=\"background: #7aecec; padding: 0.45em 0.6em; margin: 0 0.25em; line-height: 1; border-radius: 0.35em;\">\n",
              "    Facebook\n",
              "    <span style=\"font-size: 0.8em; font-weight: bold; line-height: 1; border-radius: 0.35em; vertical-align: middle; margin-left: 0.5rem\">ORG</span>\n",
              "</mark>\n",
              " chief has only appeared in front of \n",
              "<mark class=\"entity\" style=\"background: #e4e7d2; padding: 0.45em 0.6em; margin: 0 0.25em; line-height: 1; border-radius: 0.35em;\">\n",
              "    two\n",
              "    <span style=\"font-size: 0.8em; font-weight: bold; line-height: 1; border-radius: 0.35em; vertical-align: middle; margin-left: 0.5rem\">CARDINAL</span>\n",
              "</mark>\n",
              " legislatures: </br>the \n",
              "<mark class=\"entity\" style=\"background: #c887fb; padding: 0.45em 0.6em; margin: 0 0.25em; line-height: 1; border-radius: 0.35em;\">\n",
              "    American\n",
              "    <span style=\"font-size: 0.8em; font-weight: bold; line-height: 1; border-radius: 0.35em; vertical-align: middle; margin-left: 0.5rem\">NORP</span>\n",
              "</mark>\n",
              " \n",
              "<mark class=\"entity\" style=\"background: #7aecec; padding: 0.45em 0.6em; margin: 0 0.25em; line-height: 1; border-radius: 0.35em;\">\n",
              "    Senate\n",
              "    <span style=\"font-size: 0.8em; font-weight: bold; line-height: 1; border-radius: 0.35em; vertical-align: middle; margin-left: 0.5rem\">ORG</span>\n",
              "</mark>\n",
              " and \n",
              "<mark class=\"entity\" style=\"background: #7aecec; padding: 0.45em 0.6em; margin: 0 0.25em; line-height: 1; border-radius: 0.35em;\">\n",
              "    House of Representatives\n",
              "    <span style=\"font-size: 0.8em; font-weight: bold; line-height: 1; border-radius: 0.35em; vertical-align: middle; margin-left: 0.5rem\">ORG</span>\n",
              "</mark>\n",
              ", and the \n",
              "<mark class=\"entity\" style=\"background: #c887fb; padding: 0.45em 0.6em; margin: 0 0.25em; line-height: 1; border-radius: 0.35em;\">\n",
              "    European\n",
              "    <span style=\"font-size: 0.8em; font-weight: bold; line-height: 1; border-radius: 0.35em; vertical-align: middle; margin-left: 0.5rem\">NORP</span>\n",
              "</mark>\n",
              " parliament. Facebook has consistently </br>rebuffed attempts from others, including the \n",
              "<mark class=\"entity\" style=\"background: #feca74; padding: 0.45em 0.6em; margin: 0 0.25em; line-height: 1; border-radius: 0.35em;\">\n",
              "    UK\n",
              "    <span style=\"font-size: 0.8em; font-weight: bold; line-height: 1; border-radius: 0.35em; vertical-align: middle; margin-left: 0.5rem\">GPE</span>\n",
              "</mark>\n",
              " and \n",
              "<mark class=\"entity\" style=\"background: #c887fb; padding: 0.45em 0.6em; margin: 0 0.25em; line-height: 1; border-radius: 0.35em;\">\n",
              "    Canadian\n",
              "    <span style=\"font-size: 0.8em; font-weight: bold; line-height: 1; border-radius: 0.35em; vertical-align: middle; margin-left: 0.5rem\">NORP</span>\n",
              "</mark>\n",
              " parliaments, to hear from \n",
              "<mark class=\"entity\" style=\"background: #7aecec; padding: 0.45em 0.6em; margin: 0 0.25em; line-height: 1; border-radius: 0.35em;\">\n",
              "    Zuckerberg\n",
              "    <span style=\"font-size: 0.8em; font-weight: bold; line-height: 1; border-radius: 0.35em; vertical-align: middle; margin-left: 0.5rem\">ORG</span>\n",
              "</mark>\n",
              ". He added that </br>an article in \n",
              "<mark class=\"entity\" style=\"background: #7aecec; padding: 0.45em 0.6em; margin: 0 0.25em; line-height: 1; border-radius: 0.35em;\">\n",
              "    the New York Times\n",
              "    <span style=\"font-size: 0.8em; font-weight: bold; line-height: 1; border-radius: 0.35em; vertical-align: middle; margin-left: 0.5rem\">ORG</span>\n",
              "</mark>\n",
              " on \n",
              "<mark class=\"entity\" style=\"background: #bfe1d9; padding: 0.45em 0.6em; margin: 0 0.25em; line-height: 1; border-radius: 0.35em;\">\n",
              "    Thursday\n",
              "    <span style=\"font-size: 0.8em; font-weight: bold; line-height: 1; border-radius: 0.35em; vertical-align: middle; margin-left: 0.5rem\">DATE</span>\n",
              "</mark>\n",
              ", in which the paper alleged a pattern of behaviour from Facebook to </br>&quot;delay, deny and deflect&quot; negative news stories, &quot;raises further questions about how recent data breaches were </br>allegedly dealt with within \n",
              "<mark class=\"entity\" style=\"background: #f0d0ff; padding: 0.45em 0.6em; margin: 0 0.25em; line-height: 1; border-radius: 0.35em;\">\n",
              "    Facebook\n",
              "    <span style=\"font-size: 0.8em; font-weight: bold; line-height: 1; border-radius: 0.35em; vertical-align: middle; margin-left: 0.5rem\">WORK_OF_ART</span>\n",
              "</mark>\n",
              ".</div></span>"
            ],
            "text/plain": [
              "<IPython.core.display.HTML object>"
            ]
          },
          "metadata": {},
          "output_type": "display_data"
        }
      ],
      "source": [
        "from spacy import displacy\n",
        "\n",
        "displacy.render(text_nlp, style='ent', jupyter=True)"
      ]
    },
    {
      "cell_type": "markdown",
      "metadata": {
        "id": "0qlYHN1go9ew"
      },
      "source": [
        "En la representación anterior podemos ver hasta 6 categorías distintas. Podemos extraer todas las entidades de forma sencilla:"
      ]
    },
    {
      "cell_type": "code",
      "execution_count": null,
      "metadata": {
        "colab": {
          "base_uri": "https://localhost:8080/"
        },
        "id": "l51Sw69Zo9ew",
        "outputId": "e3bf4d1d-ec53-4077-bdd2-5deb6add6be2"
      },
      "outputs": [
        {
          "name": "stdout",
          "output_type": "stream",
          "text": [
            "[('Three', 'CARDINAL'), ('Facebook', 'ORG'), ('Mark', 'PERSON'), ('Zuckerberg', 'PERSON'), ('Brazil', 'GPE'), ('Latvia', 'GPE'), ('Singapore', 'GPE'), ('eight', 'CARDINAL'), ('London', 'GPE'), ('27', 'DATE'), ('November', 'DATE'), ('Zuckerberg', 'ORG'), ('Cambridge', 'GPE'), ('Analytica', 'GPE'), ('Facebook', 'ORG'), ('two', 'CARDINAL'), ('American', 'NORP'), ('Senate', 'ORG'), ('House', 'ORG'), ('of', 'ORG'), ('Representatives', 'ORG'), ('European', 'NORP'), ('UK', 'GPE'), ('Canadian', 'NORP'), ('Zuckerberg', 'ORG'), ('the', 'ORG'), ('New', 'ORG'), ('York', 'ORG'), ('Times', 'ORG'), ('Thursday', 'DATE'), ('Facebook', 'WORK_OF_ART')]\n"
          ]
        }
      ],
      "source": [
        "ner_tagged_red = [(word,tag) for (word,tag) in ner_tagged if tag]\n",
        "\n",
        "print(ner_tagged_red)\n"
      ]
    },
    {
      "cell_type": "markdown",
      "metadata": {
        "id": "AU4xquHBo9ex"
      },
      "source": [
        "# 1.4 Dependency parsing\n",
        "\n",
        "*Dependency parsing* es el proceso de extraer el análisis sintáctico de dependencias de una oración para representar su estructura gramatical. Define la relación de dependencia entre las palabras clave y sus dependientes. El encabezado de una oración no tiene dependencia y se llama raíz de la oración. El verbo suele ser el encabezado de la oración. Todas las demás palabras están vinculadas al encabezado. Este análisis proporciona información sobre qué papel juega una palabra en el texto y cómo se relacionan las diferentes palabras entre sí. También se utiliza en el *shallow parsing* y en NER.\n",
        "\n",
        "Las dependencias se codifican en una estructura de tipo árbol: las palabras son los nodos que están conectadas en función de su dependencia gramatical. \n",
        "\n",
        "\n",
        "\n"
      ]
    },
    {
      "cell_type": "code",
      "execution_count": null,
      "metadata": {
        "colab": {
          "base_uri": "https://localhost:8080/"
        },
        "id": "lomECtUJo9ex",
        "outputId": "ee4cf92f-2df4-4179-ba20-bb963de88324"
      },
      "outputs": [
        {
          "name": "stdout",
          "output_type": "stream",
          "text": [
            "The DT EU det\n",
            "EU NNP imposed nsubj\n",
            "has VBZ imposed aux\n",
            "not RB imposed neg\n",
            "imposed VBN imposed ROOT\n",
            "new JJ sanctions amod\n",
            "sanctions NNS imposed dobj\n",
            "on IN sanctions prep\n",
            "China NNP on pobj\n",
            "since IN imposed prep\n",
            "the DT crackdown det\n",
            "Tiananmen NNP Square compound\n",
            "Square NNP crackdown compound\n",
            "crackdown NN since pobj\n"
          ]
        },
        {
          "data": {
            "text/html": [
              "<span class=\"tex2jax_ignore\"><svg xmlns=\"http://www.w3.org/2000/svg\" xmlns:xlink=\"http://www.w3.org/1999/xlink\" xml:lang=\"en\" id=\"7b4d2492090f4c97b5caf8a9ea1a67df-0\" class=\"displacy\" width=\"2500\" height=\"574.5\" direction=\"ltr\" style=\"max-width: none; height: 574.5px; color: #000000; background: #ffffff; font-family: Arial; direction: ltr\">\n",
              "<text class=\"displacy-token\" fill=\"currentColor\" text-anchor=\"middle\" y=\"484.5\">\n",
              "    <tspan class=\"displacy-word\" fill=\"currentColor\" x=\"50\">The</tspan>\n",
              "    <tspan class=\"displacy-tag\" dy=\"2em\" fill=\"currentColor\" x=\"50\">DET</tspan>\n",
              "</text>\n",
              "\n",
              "<text class=\"displacy-token\" fill=\"currentColor\" text-anchor=\"middle\" y=\"484.5\">\n",
              "    <tspan class=\"displacy-word\" fill=\"currentColor\" x=\"225\">EU</tspan>\n",
              "    <tspan class=\"displacy-tag\" dy=\"2em\" fill=\"currentColor\" x=\"225\">PROPN</tspan>\n",
              "</text>\n",
              "\n",
              "<text class=\"displacy-token\" fill=\"currentColor\" text-anchor=\"middle\" y=\"484.5\">\n",
              "    <tspan class=\"displacy-word\" fill=\"currentColor\" x=\"400\">has</tspan>\n",
              "    <tspan class=\"displacy-tag\" dy=\"2em\" fill=\"currentColor\" x=\"400\">AUX</tspan>\n",
              "</text>\n",
              "\n",
              "<text class=\"displacy-token\" fill=\"currentColor\" text-anchor=\"middle\" y=\"484.5\">\n",
              "    <tspan class=\"displacy-word\" fill=\"currentColor\" x=\"575\">not</tspan>\n",
              "    <tspan class=\"displacy-tag\" dy=\"2em\" fill=\"currentColor\" x=\"575\">PART</tspan>\n",
              "</text>\n",
              "\n",
              "<text class=\"displacy-token\" fill=\"currentColor\" text-anchor=\"middle\" y=\"484.5\">\n",
              "    <tspan class=\"displacy-word\" fill=\"currentColor\" x=\"750\">imposed</tspan>\n",
              "    <tspan class=\"displacy-tag\" dy=\"2em\" fill=\"currentColor\" x=\"750\">VERB</tspan>\n",
              "</text>\n",
              "\n",
              "<text class=\"displacy-token\" fill=\"currentColor\" text-anchor=\"middle\" y=\"484.5\">\n",
              "    <tspan class=\"displacy-word\" fill=\"currentColor\" x=\"925\">new</tspan>\n",
              "    <tspan class=\"displacy-tag\" dy=\"2em\" fill=\"currentColor\" x=\"925\">ADJ</tspan>\n",
              "</text>\n",
              "\n",
              "<text class=\"displacy-token\" fill=\"currentColor\" text-anchor=\"middle\" y=\"484.5\">\n",
              "    <tspan class=\"displacy-word\" fill=\"currentColor\" x=\"1100\">sanctions</tspan>\n",
              "    <tspan class=\"displacy-tag\" dy=\"2em\" fill=\"currentColor\" x=\"1100\">NOUN</tspan>\n",
              "</text>\n",
              "\n",
              "<text class=\"displacy-token\" fill=\"currentColor\" text-anchor=\"middle\" y=\"484.5\">\n",
              "    <tspan class=\"displacy-word\" fill=\"currentColor\" x=\"1275\">on</tspan>\n",
              "    <tspan class=\"displacy-tag\" dy=\"2em\" fill=\"currentColor\" x=\"1275\">ADP</tspan>\n",
              "</text>\n",
              "\n",
              "<text class=\"displacy-token\" fill=\"currentColor\" text-anchor=\"middle\" y=\"484.5\">\n",
              "    <tspan class=\"displacy-word\" fill=\"currentColor\" x=\"1450\">China</tspan>\n",
              "    <tspan class=\"displacy-tag\" dy=\"2em\" fill=\"currentColor\" x=\"1450\">PROPN</tspan>\n",
              "</text>\n",
              "\n",
              "<text class=\"displacy-token\" fill=\"currentColor\" text-anchor=\"middle\" y=\"484.5\">\n",
              "    <tspan class=\"displacy-word\" fill=\"currentColor\" x=\"1625\">since</tspan>\n",
              "    <tspan class=\"displacy-tag\" dy=\"2em\" fill=\"currentColor\" x=\"1625\">SCONJ</tspan>\n",
              "</text>\n",
              "\n",
              "<text class=\"displacy-token\" fill=\"currentColor\" text-anchor=\"middle\" y=\"484.5\">\n",
              "    <tspan class=\"displacy-word\" fill=\"currentColor\" x=\"1800\">the</tspan>\n",
              "    <tspan class=\"displacy-tag\" dy=\"2em\" fill=\"currentColor\" x=\"1800\">DET</tspan>\n",
              "</text>\n",
              "\n",
              "<text class=\"displacy-token\" fill=\"currentColor\" text-anchor=\"middle\" y=\"484.5\">\n",
              "    <tspan class=\"displacy-word\" fill=\"currentColor\" x=\"1975\">Tiananmen</tspan>\n",
              "    <tspan class=\"displacy-tag\" dy=\"2em\" fill=\"currentColor\" x=\"1975\">PROPN</tspan>\n",
              "</text>\n",
              "\n",
              "<text class=\"displacy-token\" fill=\"currentColor\" text-anchor=\"middle\" y=\"484.5\">\n",
              "    <tspan class=\"displacy-word\" fill=\"currentColor\" x=\"2150\">Square</tspan>\n",
              "    <tspan class=\"displacy-tag\" dy=\"2em\" fill=\"currentColor\" x=\"2150\">PROPN</tspan>\n",
              "</text>\n",
              "\n",
              "<text class=\"displacy-token\" fill=\"currentColor\" text-anchor=\"middle\" y=\"484.5\">\n",
              "    <tspan class=\"displacy-word\" fill=\"currentColor\" x=\"2325\">crackdown</tspan>\n",
              "    <tspan class=\"displacy-tag\" dy=\"2em\" fill=\"currentColor\" x=\"2325\">NOUN</tspan>\n",
              "</text>\n",
              "\n",
              "<g class=\"displacy-arrow\">\n",
              "    <path class=\"displacy-arc\" id=\"arrow-7b4d2492090f4c97b5caf8a9ea1a67df-0-0\" stroke-width=\"2px\" d=\"M70,439.5 C70,352.0 205.0,352.0 205.0,439.5\" fill=\"none\" stroke=\"currentColor\"/>\n",
              "    <text dy=\"1.25em\" style=\"font-size: 0.8em; letter-spacing: 1px\">\n",
              "        <textPath xlink:href=\"#arrow-7b4d2492090f4c97b5caf8a9ea1a67df-0-0\" class=\"displacy-label\" startOffset=\"50%\" side=\"left\" fill=\"currentColor\" text-anchor=\"middle\">det</textPath>\n",
              "    </text>\n",
              "    <path class=\"displacy-arrowhead\" d=\"M70,441.5 L62,429.5 78,429.5\" fill=\"currentColor\"/>\n",
              "</g>\n",
              "\n",
              "<g class=\"displacy-arrow\">\n",
              "    <path class=\"displacy-arc\" id=\"arrow-7b4d2492090f4c97b5caf8a9ea1a67df-0-1\" stroke-width=\"2px\" d=\"M245,439.5 C245,177.0 740.0,177.0 740.0,439.5\" fill=\"none\" stroke=\"currentColor\"/>\n",
              "    <text dy=\"1.25em\" style=\"font-size: 0.8em; letter-spacing: 1px\">\n",
              "        <textPath xlink:href=\"#arrow-7b4d2492090f4c97b5caf8a9ea1a67df-0-1\" class=\"displacy-label\" startOffset=\"50%\" side=\"left\" fill=\"currentColor\" text-anchor=\"middle\">nsubj</textPath>\n",
              "    </text>\n",
              "    <path class=\"displacy-arrowhead\" d=\"M245,441.5 L237,429.5 253,429.5\" fill=\"currentColor\"/>\n",
              "</g>\n",
              "\n",
              "<g class=\"displacy-arrow\">\n",
              "    <path class=\"displacy-arc\" id=\"arrow-7b4d2492090f4c97b5caf8a9ea1a67df-0-2\" stroke-width=\"2px\" d=\"M420,439.5 C420,264.5 735.0,264.5 735.0,439.5\" fill=\"none\" stroke=\"currentColor\"/>\n",
              "    <text dy=\"1.25em\" style=\"font-size: 0.8em; letter-spacing: 1px\">\n",
              "        <textPath xlink:href=\"#arrow-7b4d2492090f4c97b5caf8a9ea1a67df-0-2\" class=\"displacy-label\" startOffset=\"50%\" side=\"left\" fill=\"currentColor\" text-anchor=\"middle\">aux</textPath>\n",
              "    </text>\n",
              "    <path class=\"displacy-arrowhead\" d=\"M420,441.5 L412,429.5 428,429.5\" fill=\"currentColor\"/>\n",
              "</g>\n",
              "\n",
              "<g class=\"displacy-arrow\">\n",
              "    <path class=\"displacy-arc\" id=\"arrow-7b4d2492090f4c97b5caf8a9ea1a67df-0-3\" stroke-width=\"2px\" d=\"M595,439.5 C595,352.0 730.0,352.0 730.0,439.5\" fill=\"none\" stroke=\"currentColor\"/>\n",
              "    <text dy=\"1.25em\" style=\"font-size: 0.8em; letter-spacing: 1px\">\n",
              "        <textPath xlink:href=\"#arrow-7b4d2492090f4c97b5caf8a9ea1a67df-0-3\" class=\"displacy-label\" startOffset=\"50%\" side=\"left\" fill=\"currentColor\" text-anchor=\"middle\">neg</textPath>\n",
              "    </text>\n",
              "    <path class=\"displacy-arrowhead\" d=\"M595,441.5 L587,429.5 603,429.5\" fill=\"currentColor\"/>\n",
              "</g>\n",
              "\n",
              "<g class=\"displacy-arrow\">\n",
              "    <path class=\"displacy-arc\" id=\"arrow-7b4d2492090f4c97b5caf8a9ea1a67df-0-4\" stroke-width=\"2px\" d=\"M945,439.5 C945,352.0 1080.0,352.0 1080.0,439.5\" fill=\"none\" stroke=\"currentColor\"/>\n",
              "    <text dy=\"1.25em\" style=\"font-size: 0.8em; letter-spacing: 1px\">\n",
              "        <textPath xlink:href=\"#arrow-7b4d2492090f4c97b5caf8a9ea1a67df-0-4\" class=\"displacy-label\" startOffset=\"50%\" side=\"left\" fill=\"currentColor\" text-anchor=\"middle\">amod</textPath>\n",
              "    </text>\n",
              "    <path class=\"displacy-arrowhead\" d=\"M945,441.5 L937,429.5 953,429.5\" fill=\"currentColor\"/>\n",
              "</g>\n",
              "\n",
              "<g class=\"displacy-arrow\">\n",
              "    <path class=\"displacy-arc\" id=\"arrow-7b4d2492090f4c97b5caf8a9ea1a67df-0-5\" stroke-width=\"2px\" d=\"M770,439.5 C770,264.5 1085.0,264.5 1085.0,439.5\" fill=\"none\" stroke=\"currentColor\"/>\n",
              "    <text dy=\"1.25em\" style=\"font-size: 0.8em; letter-spacing: 1px\">\n",
              "        <textPath xlink:href=\"#arrow-7b4d2492090f4c97b5caf8a9ea1a67df-0-5\" class=\"displacy-label\" startOffset=\"50%\" side=\"left\" fill=\"currentColor\" text-anchor=\"middle\">dobj</textPath>\n",
              "    </text>\n",
              "    <path class=\"displacy-arrowhead\" d=\"M1085.0,441.5 L1093.0,429.5 1077.0,429.5\" fill=\"currentColor\"/>\n",
              "</g>\n",
              "\n",
              "<g class=\"displacy-arrow\">\n",
              "    <path class=\"displacy-arc\" id=\"arrow-7b4d2492090f4c97b5caf8a9ea1a67df-0-6\" stroke-width=\"2px\" d=\"M1120,439.5 C1120,352.0 1255.0,352.0 1255.0,439.5\" fill=\"none\" stroke=\"currentColor\"/>\n",
              "    <text dy=\"1.25em\" style=\"font-size: 0.8em; letter-spacing: 1px\">\n",
              "        <textPath xlink:href=\"#arrow-7b4d2492090f4c97b5caf8a9ea1a67df-0-6\" class=\"displacy-label\" startOffset=\"50%\" side=\"left\" fill=\"currentColor\" text-anchor=\"middle\">prep</textPath>\n",
              "    </text>\n",
              "    <path class=\"displacy-arrowhead\" d=\"M1255.0,441.5 L1263.0,429.5 1247.0,429.5\" fill=\"currentColor\"/>\n",
              "</g>\n",
              "\n",
              "<g class=\"displacy-arrow\">\n",
              "    <path class=\"displacy-arc\" id=\"arrow-7b4d2492090f4c97b5caf8a9ea1a67df-0-7\" stroke-width=\"2px\" d=\"M1295,439.5 C1295,352.0 1430.0,352.0 1430.0,439.5\" fill=\"none\" stroke=\"currentColor\"/>\n",
              "    <text dy=\"1.25em\" style=\"font-size: 0.8em; letter-spacing: 1px\">\n",
              "        <textPath xlink:href=\"#arrow-7b4d2492090f4c97b5caf8a9ea1a67df-0-7\" class=\"displacy-label\" startOffset=\"50%\" side=\"left\" fill=\"currentColor\" text-anchor=\"middle\">pobj</textPath>\n",
              "    </text>\n",
              "    <path class=\"displacy-arrowhead\" d=\"M1430.0,441.5 L1438.0,429.5 1422.0,429.5\" fill=\"currentColor\"/>\n",
              "</g>\n",
              "\n",
              "<g class=\"displacy-arrow\">\n",
              "    <path class=\"displacy-arc\" id=\"arrow-7b4d2492090f4c97b5caf8a9ea1a67df-0-8\" stroke-width=\"2px\" d=\"M770,439.5 C770,2.0 1625.0,2.0 1625.0,439.5\" fill=\"none\" stroke=\"currentColor\"/>\n",
              "    <text dy=\"1.25em\" style=\"font-size: 0.8em; letter-spacing: 1px\">\n",
              "        <textPath xlink:href=\"#arrow-7b4d2492090f4c97b5caf8a9ea1a67df-0-8\" class=\"displacy-label\" startOffset=\"50%\" side=\"left\" fill=\"currentColor\" text-anchor=\"middle\">prep</textPath>\n",
              "    </text>\n",
              "    <path class=\"displacy-arrowhead\" d=\"M1625.0,441.5 L1633.0,429.5 1617.0,429.5\" fill=\"currentColor\"/>\n",
              "</g>\n",
              "\n",
              "<g class=\"displacy-arrow\">\n",
              "    <path class=\"displacy-arc\" id=\"arrow-7b4d2492090f4c97b5caf8a9ea1a67df-0-9\" stroke-width=\"2px\" d=\"M1820,439.5 C1820,177.0 2315.0,177.0 2315.0,439.5\" fill=\"none\" stroke=\"currentColor\"/>\n",
              "    <text dy=\"1.25em\" style=\"font-size: 0.8em; letter-spacing: 1px\">\n",
              "        <textPath xlink:href=\"#arrow-7b4d2492090f4c97b5caf8a9ea1a67df-0-9\" class=\"displacy-label\" startOffset=\"50%\" side=\"left\" fill=\"currentColor\" text-anchor=\"middle\">det</textPath>\n",
              "    </text>\n",
              "    <path class=\"displacy-arrowhead\" d=\"M1820,441.5 L1812,429.5 1828,429.5\" fill=\"currentColor\"/>\n",
              "</g>\n",
              "\n",
              "<g class=\"displacy-arrow\">\n",
              "    <path class=\"displacy-arc\" id=\"arrow-7b4d2492090f4c97b5caf8a9ea1a67df-0-10\" stroke-width=\"2px\" d=\"M1995,439.5 C1995,352.0 2130.0,352.0 2130.0,439.5\" fill=\"none\" stroke=\"currentColor\"/>\n",
              "    <text dy=\"1.25em\" style=\"font-size: 0.8em; letter-spacing: 1px\">\n",
              "        <textPath xlink:href=\"#arrow-7b4d2492090f4c97b5caf8a9ea1a67df-0-10\" class=\"displacy-label\" startOffset=\"50%\" side=\"left\" fill=\"currentColor\" text-anchor=\"middle\">compound</textPath>\n",
              "    </text>\n",
              "    <path class=\"displacy-arrowhead\" d=\"M1995,441.5 L1987,429.5 2003,429.5\" fill=\"currentColor\"/>\n",
              "</g>\n",
              "\n",
              "<g class=\"displacy-arrow\">\n",
              "    <path class=\"displacy-arc\" id=\"arrow-7b4d2492090f4c97b5caf8a9ea1a67df-0-11\" stroke-width=\"2px\" d=\"M2170,439.5 C2170,352.0 2305.0,352.0 2305.0,439.5\" fill=\"none\" stroke=\"currentColor\"/>\n",
              "    <text dy=\"1.25em\" style=\"font-size: 0.8em; letter-spacing: 1px\">\n",
              "        <textPath xlink:href=\"#arrow-7b4d2492090f4c97b5caf8a9ea1a67df-0-11\" class=\"displacy-label\" startOffset=\"50%\" side=\"left\" fill=\"currentColor\" text-anchor=\"middle\">compound</textPath>\n",
              "    </text>\n",
              "    <path class=\"displacy-arrowhead\" d=\"M2170,441.5 L2162,429.5 2178,429.5\" fill=\"currentColor\"/>\n",
              "</g>\n",
              "\n",
              "<g class=\"displacy-arrow\">\n",
              "    <path class=\"displacy-arc\" id=\"arrow-7b4d2492090f4c97b5caf8a9ea1a67df-0-12\" stroke-width=\"2px\" d=\"M1645,439.5 C1645,89.5 2320.0,89.5 2320.0,439.5\" fill=\"none\" stroke=\"currentColor\"/>\n",
              "    <text dy=\"1.25em\" style=\"font-size: 0.8em; letter-spacing: 1px\">\n",
              "        <textPath xlink:href=\"#arrow-7b4d2492090f4c97b5caf8a9ea1a67df-0-12\" class=\"displacy-label\" startOffset=\"50%\" side=\"left\" fill=\"currentColor\" text-anchor=\"middle\">pobj</textPath>\n",
              "    </text>\n",
              "    <path class=\"displacy-arrowhead\" d=\"M2320.0,441.5 L2328.0,429.5 2312.0,429.5\" fill=\"currentColor\"/>\n",
              "</g>\n",
              "</svg></span>"
            ],
            "text/plain": [
              "<IPython.core.display.HTML object>"
            ]
          },
          "metadata": {},
          "output_type": "display_data"
        }
      ],
      "source": [
        "sentence = \"The EU has not imposed new sanctions on China since the Tiananmen Square crackdown\"\n",
        "nlp = spacy.load(\"en_core_web_sm\")\n",
        "\n",
        "doc = nlp(sentence)\n",
        "\n",
        "\n",
        "for token in doc:\n",
        "    print (token.text, token.tag_, token.head.text, token.dep_) \n",
        "\n",
        "# The next display does not work in Google Colab\n",
        "displacy.render(doc, style='dep')"
      ]
    },
    {
      "cell_type": "markdown",
      "metadata": {
        "id": "1TOt8_9Qo9ex"
      },
      "source": [
        "En el ejemplo anterior, podemos ver distintos tipos de relaciones entre las palabras. Una lista completa puede consultarse en este [enlace](https://nlp.stanford.edu/software/dependencies_manual.pdf).\n",
        "\n",
        "spaCy proporciona atributos tales como `children`, `lefts`, `rights`, and `subtree` para recorrer el árbol de dependencias:"
      ]
    },
    {
      "cell_type": "code",
      "execution_count": null,
      "metadata": {
        "colab": {
          "base_uri": "https://localhost:8080/"
        },
        "id": "yH7sKje4o9ex",
        "outputId": "9f6bc388-7d70-484f-fca0-5f9c1607446b"
      },
      "outputs": [
        {
          "name": "stdout",
          "output_type": "stream",
          "text": [
            "imposed\n"
          ]
        }
      ],
      "source": [
        "print(doc[4].text) #doc[4] -> 'imposed'"
      ]
    },
    {
      "cell_type": "code",
      "execution_count": null,
      "metadata": {
        "colab": {
          "base_uri": "https://localhost:8080/"
        },
        "id": "REaWwKzWo9ey",
        "outputId": "27489fdb-331a-4957-a962-01463250157c"
      },
      "outputs": [
        {
          "name": "stdout",
          "output_type": "stream",
          "text": [
            "[EU, has, not, sanctions, since]\n"
          ]
        }
      ],
      "source": [
        "print(list(doc[4].children)) #doc[4] -> 'imposed'"
      ]
    },
    {
      "cell_type": "code",
      "execution_count": null,
      "metadata": {
        "colab": {
          "base_uri": "https://localhost:8080/"
        },
        "id": "5IGB7CjLo9ey",
        "outputId": "7afd8645-bd3b-400f-9d9a-95066d10b447"
      },
      "outputs": [
        {
          "name": "stdout",
          "output_type": "stream",
          "text": [
            "[EU, has, not]\n"
          ]
        }
      ],
      "source": [
        "print(list(doc[4].lefts))"
      ]
    },
    {
      "cell_type": "code",
      "execution_count": null,
      "metadata": {
        "colab": {
          "base_uri": "https://localhost:8080/"
        },
        "id": "Xn9iey-yo9ey",
        "outputId": "ed6247ba-207d-43b8-dfce-8727aea7d689",
        "scrolled": true
      },
      "outputs": [
        {
          "name": "stdout",
          "output_type": "stream",
          "text": [
            "[sanctions, since]\n"
          ]
        }
      ],
      "source": [
        "print(list(doc[4].rights))"
      ]
    },
    {
      "cell_type": "code",
      "execution_count": null,
      "metadata": {
        "colab": {
          "base_uri": "https://localhost:8080/"
        },
        "id": "oEJiFu_8o9ey",
        "outputId": "c1ef82c7-f5c2-4f7d-fef3-1c01059cc0ab"
      },
      "outputs": [
        {
          "name": "stdout",
          "output_type": "stream",
          "text": [
            "[imposed]\n"
          ]
        }
      ],
      "source": [
        "print(list(doc[1].ancestors)) #doc[1] -> 'EU'"
      ]
    },
    {
      "cell_type": "code",
      "execution_count": null,
      "metadata": {
        "colab": {
          "base_uri": "https://localhost:8080/"
        },
        "id": "mmOBTisRo9ey",
        "outputId": "0ba61a28-8c56-4ecb-b4d1-40acac627060",
        "scrolled": true
      },
      "outputs": [
        {
          "name": "stdout",
          "output_type": "stream",
          "text": [
            "[The, EU, has, not, imposed, new, sanctions, on, China, since, the, Tiananmen, Square, crackdown]\n"
          ]
        }
      ],
      "source": [
        "print(list(doc[4].subtree)) "
      ]
    },
    {
      "cell_type": "markdown",
      "metadata": {
        "id": "IqlYRuSTo9ey"
      },
      "source": [
        "## 1.5 Ejercicio práctico\n",
        "\n",
        "Ahora que estamos familiarizado con spaCy, vamos a analizar un texto real:  [*Pride and Prejudice by Jane Austen*](http://www.gutenberg.org/ebooks/1342).\n",
        "\n",
        "En particular, vamos a implementar los siguientes ejercicios:\n",
        " - Extraiga los nombres de los personajes del libro\n",
        " - Encontrar adjetivos referidos a personajes.\n"
      ]
    },
    {
      "cell_type": "code",
      "execution_count": null,
      "metadata": {
        "id": "UjmC2hwttkw3"
      },
      "outputs": [],
      "source": [
        "#from google.colab import files\n",
        "\n",
        "#uploaded = files.upload()"
      ]
    },
    {
      "cell_type": "code",
      "execution_count": null,
      "metadata": {
        "id": "m2bHzO-ko9ey"
      },
      "outputs": [],
      "source": [
        "def read_file(file_name):\n",
        "    with open(file_name, encoding='utf-8') as file:\n",
        "        return file.read()\n",
        "\n",
        "# Cargamos el documento \n",
        "\n",
        "text = read_file('pride.txt')"
      ]
    },
    {
      "cell_type": "code",
      "execution_count": null,
      "metadata": {
        "colab": {
          "base_uri": "https://localhost:8080/"
        },
        "id": "QBeC09l8o9ez",
        "outputId": "d4358cc0-d825-4dd0-e8eb-1523d40dd622"
      },
      "outputs": [
        {
          "name": "stdout",
          "output_type": "stream",
          "text": [
            "﻿The Project Gutenberg eBook of Pride and Prejudice, by Jane Austen\n",
            "\n",
            "This eBook is for the use of anyone anywhere in the United States and\n",
            "most other parts of the world at no cost and with almost no restrictions\n",
            "whatsoever. You may copy it, give it away or re-use it under the terms\n",
            "of the Project Gutenberg License included with this eBook or online at\n",
            "www.gutenberg.org. If you are not located in the United States, you\n",
            "will have to check the laws of the country where you are located before\n",
            "using this eBook.\n",
            "\n",
            "Title: Pride and Prejudice\n",
            "\n",
            "Author: Jane Austen\n",
            "\n",
            "Release Date: June, 1998 [eBook #1342]\n",
            "[Most recently updated: February 10, 2021]\n",
            "\n",
            "Language: English\n",
            "\n",
            "Character set encoding: UTF-8\n",
            "\n",
            "Produced by: Anonymous Volunteers and David Widger\n",
            "\n",
            "*** START OF THE PROJECT GUTENBERG EBOOK PRIDE AND PREJUDICE ***\n",
            "\n",
            "THERE IS AN ILLUSTRATED EDITION OF THIS TITLE WHICH MAY VIEWED AT EBOOK\n",
            "[# 42671 ]\n",
            "\n",
            "cover\n",
            "\n",
            "\n",
            "\n",
            "\n",
            "      Pride and Prejudice\n",
            "\n",
            "      By Jane Austen\n",
            "\n",
            "        CONTENTS\n",
            "\n",
            "         Chapter 1\n",
            "\n",
            "      \n",
            ".......\n",
            " copyright in\n",
            "the U.S. unless a copyright notice is included. Thus, we do not\n",
            "necessarily keep eBooks in compliance with any particular paper\n",
            "edition.\n",
            "\n",
            "Most people start at our website which has the main PG search\n",
            "facility: www.gutenberg.org\n",
            "\n",
            "This website includes information about Project Gutenberg-tm,\n",
            "including how to make donations to the Project Gutenberg Literary\n",
            "Archive Foundation, how to help produce our new eBooks, and how to\n",
            "subscribe to our email newsletter to hear about new eBooks.\n",
            "\n",
            "\n",
            "\n"
          ]
        }
      ],
      "source": [
        "print(text[:1000])\n",
        "print('.......')\n",
        "print(text[-500:])"
      ]
    },
    {
      "cell_type": "code",
      "execution_count": null,
      "metadata": {
        "colab": {
          "base_uri": "https://localhost:8080/"
        },
        "id": "N-uSlHMuo9ez",
        "outputId": "d5fa10b3-a57e-444a-cec1-be5aef0194b0",
        "scrolled": true
      },
      "outputs": [
        {
          "name": "stdout",
          "output_type": "stream",
          "text": [
            "Collecting en-core-web-lg==3.2.0\n",
            "  Downloading https://github.com/explosion/spacy-models/releases/download/en_core_web_lg-3.2.0/en_core_web_lg-3.2.0-py3-none-any.whl (777.4 MB)\n",
            "     |████████████████████████████████| 777.4 MB 12 kB/s             \n",
            "\u001b[?25hRequirement already satisfied: spacy<3.3.0,>=3.2.0 in /Users/olmos/opt/anaconda3/envs/gensim3/lib/python3.6/site-packages (from en-core-web-lg==3.2.0) (3.2.3)\n",
            "Requirement already satisfied: langcodes<4.0.0,>=3.2.0 in /Users/olmos/opt/anaconda3/envs/gensim3/lib/python3.6/site-packages (from spacy<3.3.0,>=3.2.0->en-core-web-lg==3.2.0) (3.3.0)\n",
            "Requirement already satisfied: spacy-legacy<3.1.0,>=3.0.8 in /Users/olmos/opt/anaconda3/envs/gensim3/lib/python3.6/site-packages (from spacy<3.3.0,>=3.2.0->en-core-web-lg==3.2.0) (3.0.9)\n",
            "Requirement already satisfied: thinc<8.1.0,>=8.0.12 in /Users/olmos/opt/anaconda3/envs/gensim3/lib/python3.6/site-packages (from spacy<3.3.0,>=3.2.0->en-core-web-lg==3.2.0) (8.0.13)\n",
            "Requirement already satisfied: wasabi<1.1.0,>=0.8.1 in /Users/olmos/opt/anaconda3/envs/gensim3/lib/python3.6/site-packages (from spacy<3.3.0,>=3.2.0->en-core-web-lg==3.2.0) (0.9.0)\n",
            "Requirement already satisfied: setuptools in /Users/olmos/opt/anaconda3/envs/gensim3/lib/python3.6/site-packages (from spacy<3.3.0,>=3.2.0->en-core-web-lg==3.2.0) (59.5.0)\n",
            "Requirement already satisfied: srsly<3.0.0,>=2.4.1 in /Users/olmos/opt/anaconda3/envs/gensim3/lib/python3.6/site-packages (from spacy<3.3.0,>=3.2.0->en-core-web-lg==3.2.0) (2.4.2)\n",
            "Requirement already satisfied: cymem<2.1.0,>=2.0.2 in /Users/olmos/opt/anaconda3/envs/gensim3/lib/python3.6/site-packages (from spacy<3.3.0,>=3.2.0->en-core-web-lg==3.2.0) (2.0.3)\n",
            "Requirement already satisfied: typing-extensions<4.0.0.0,>=3.7.4 in /Users/olmos/opt/anaconda3/envs/gensim3/lib/python3.6/site-packages (from spacy<3.3.0,>=3.2.0->en-core-web-lg==3.2.0) (3.10.0.2)\n",
            "Requirement already satisfied: requests<3.0.0,>=2.13.0 in /Users/olmos/opt/anaconda3/envs/gensim3/lib/python3.6/site-packages (from spacy<3.3.0,>=3.2.0->en-core-web-lg==3.2.0) (2.24.0)\n",
            "Requirement already satisfied: preshed<3.1.0,>=3.0.2 in /Users/olmos/opt/anaconda3/envs/gensim3/lib/python3.6/site-packages (from spacy<3.3.0,>=3.2.0->en-core-web-lg==3.2.0) (3.0.2)\n",
            "Requirement already satisfied: numpy>=1.15.0 in /Users/olmos/opt/anaconda3/envs/gensim3/lib/python3.6/site-packages (from spacy<3.3.0,>=3.2.0->en-core-web-lg==3.2.0) (1.19.5)\n",
            "Requirement already satisfied: spacy-loggers<2.0.0,>=1.0.0 in /Users/olmos/opt/anaconda3/envs/gensim3/lib/python3.6/site-packages (from spacy<3.3.0,>=3.2.0->en-core-web-lg==3.2.0) (1.0.1)\n",
            "Requirement already satisfied: catalogue<2.1.0,>=2.0.6 in /Users/olmos/opt/anaconda3/envs/gensim3/lib/python3.6/site-packages (from spacy<3.3.0,>=3.2.0->en-core-web-lg==3.2.0) (2.0.6)\n",
            "Requirement already satisfied: tqdm<5.0.0,>=4.38.0 in /Users/olmos/opt/anaconda3/envs/gensim3/lib/python3.6/site-packages (from spacy<3.3.0,>=3.2.0->en-core-web-lg==3.2.0) (4.47.0)\n",
            "Requirement already satisfied: blis<0.8.0,>=0.4.0 in /Users/olmos/opt/anaconda3/envs/gensim3/lib/python3.6/site-packages (from spacy<3.3.0,>=3.2.0->en-core-web-lg==3.2.0) (0.4.1)\n",
            "Requirement already satisfied: packaging>=20.0 in /Users/olmos/opt/anaconda3/envs/gensim3/lib/python3.6/site-packages (from spacy<3.3.0,>=3.2.0->en-core-web-lg==3.2.0) (20.4)\n",
            "Requirement already satisfied: typer<0.5.0,>=0.3.0 in /Users/olmos/opt/anaconda3/envs/gensim3/lib/python3.6/site-packages (from spacy<3.3.0,>=3.2.0->en-core-web-lg==3.2.0) (0.4.0)\n",
            "Requirement already satisfied: pathy>=0.3.5 in /Users/olmos/opt/anaconda3/envs/gensim3/lib/python3.6/site-packages (from spacy<3.3.0,>=3.2.0->en-core-web-lg==3.2.0) (0.6.1)\n",
            "Requirement already satisfied: murmurhash<1.1.0,>=0.28.0 in /Users/olmos/opt/anaconda3/envs/gensim3/lib/python3.6/site-packages (from spacy<3.3.0,>=3.2.0->en-core-web-lg==3.2.0) (1.0.6)\n",
            "Requirement already satisfied: pydantic!=1.8,!=1.8.1,<1.9.0,>=1.7.4 in /Users/olmos/opt/anaconda3/envs/gensim3/lib/python3.6/site-packages (from spacy<3.3.0,>=3.2.0->en-core-web-lg==3.2.0) (1.8.2)\n",
            "Requirement already satisfied: jinja2 in /Users/olmos/opt/anaconda3/envs/gensim3/lib/python3.6/site-packages (from spacy<3.3.0,>=3.2.0->en-core-web-lg==3.2.0) (2.11.2)\n",
            "Requirement already satisfied: zipp>=0.5 in /Users/olmos/opt/anaconda3/envs/gensim3/lib/python3.6/site-packages (from catalogue<2.1.0,>=2.0.6->spacy<3.3.0,>=3.2.0->en-core-web-lg==3.2.0) (3.1.0)\n",
            "Requirement already satisfied: six in /Users/olmos/opt/anaconda3/envs/gensim3/lib/python3.6/site-packages (from packaging>=20.0->spacy<3.3.0,>=3.2.0->en-core-web-lg==3.2.0) (1.15.0)\n",
            "Requirement already satisfied: pyparsing>=2.0.2 in /Users/olmos/opt/anaconda3/envs/gensim3/lib/python3.6/site-packages (from packaging>=20.0->spacy<3.3.0,>=3.2.0->en-core-web-lg==3.2.0) (2.4.7)\n",
            "Requirement already satisfied: smart-open<6.0.0,>=5.0.0 in /Users/olmos/opt/anaconda3/envs/gensim3/lib/python3.6/site-packages (from pathy>=0.3.5->spacy<3.3.0,>=3.2.0->en-core-web-lg==3.2.0) (5.2.1)\n",
            "Requirement already satisfied: dataclasses<1.0,>=0.6 in /Users/olmos/opt/anaconda3/envs/gensim3/lib/python3.6/site-packages (from pathy>=0.3.5->spacy<3.3.0,>=3.2.0->en-core-web-lg==3.2.0) (0.8)\n",
            "Requirement already satisfied: certifi>=2017.4.17 in /Users/olmos/opt/anaconda3/envs/gensim3/lib/python3.6/site-packages (from requests<3.0.0,>=2.13.0->spacy<3.3.0,>=3.2.0->en-core-web-lg==3.2.0) (2020.6.20)\n",
            "Requirement already satisfied: idna<3,>=2.5 in /Users/olmos/opt/anaconda3/envs/gensim3/lib/python3.6/site-packages (from requests<3.0.0,>=2.13.0->spacy<3.3.0,>=3.2.0->en-core-web-lg==3.2.0) (2.10)\n",
            "Requirement already satisfied: urllib3!=1.25.0,!=1.25.1,<1.26,>=1.21.1 in /Users/olmos/opt/anaconda3/envs/gensim3/lib/python3.6/site-packages (from requests<3.0.0,>=2.13.0->spacy<3.3.0,>=3.2.0->en-core-web-lg==3.2.0) (1.25.9)\n",
            "Requirement already satisfied: chardet<4,>=3.0.2 in /Users/olmos/opt/anaconda3/envs/gensim3/lib/python3.6/site-packages (from requests<3.0.0,>=2.13.0->spacy<3.3.0,>=3.2.0->en-core-web-lg==3.2.0) (3.0.4)\n",
            "Requirement already satisfied: contextvars<3,>=2.4 in /Users/olmos/opt/anaconda3/envs/gensim3/lib/python3.6/site-packages (from thinc<8.1.0,>=8.0.12->spacy<3.3.0,>=3.2.0->en-core-web-lg==3.2.0) (2.4)\n",
            "Requirement already satisfied: click<9.0.0,>=7.1.1 in /Users/olmos/opt/anaconda3/envs/gensim3/lib/python3.6/site-packages (from typer<0.5.0,>=0.3.0->spacy<3.3.0,>=3.2.0->en-core-web-lg==3.2.0) (7.1.2)\n",
            "Requirement already satisfied: MarkupSafe>=0.23 in /Users/olmos/opt/anaconda3/envs/gensim3/lib/python3.6/site-packages (from jinja2->spacy<3.3.0,>=3.2.0->en-core-web-lg==3.2.0) (1.1.1)\n",
            "Requirement already satisfied: immutables>=0.9 in /Users/olmos/opt/anaconda3/envs/gensim3/lib/python3.6/site-packages (from contextvars<3,>=2.4->thinc<8.1.0,>=8.0.12->spacy<3.3.0,>=3.2.0->en-core-web-lg==3.2.0) (0.14)\n",
            "\u001b[38;5;2m✔ Download and installation successful\u001b[0m\n",
            "You can now load the package via spacy.load('en_core_web_lg')\n"
          ]
        }
      ],
      "source": [
        "# Usamos el pipeline en inglés entrenado en un corpus lo más grande posible\n",
        "!python -m spacy download en_core_web_lg"
      ]
    },
    {
      "cell_type": "code",
      "execution_count": null,
      "metadata": {
        "colab": {
          "base_uri": "https://localhost:8080/"
        },
        "id": "mAVGSVx3o9ez",
        "outputId": "3ef9775e-126a-453a-f68b-792ce3d656e6",
        "scrolled": true
      },
      "outputs": [
        {
          "name": "stdout",
          "output_type": "stream",
          "text": [
            "El documento procesado contiene 160735 tokens\n"
          ]
        }
      ],
      "source": [
        "nlp = spacy.load(\"en_core_web_lg\")\n",
        "\n",
        "processed_text = nlp(text)   \n",
        "\n",
        "print(f\"El documento procesado contiene {len(processed_text)} tokens\")"
      ]
    },
    {
      "cell_type": "markdown",
      "metadata": {
        "id": "3A-RdOM4o9ez"
      },
      "source": [
        ">**Ejercicio**: complete el siguiente código, en el que se encuentran los distintos personajes del libro y se cuenta el número de ocurrencias. Para el conteo, utilizamos un diccionario de tipo `Counter` usando la librería [collections](https://docs.python.org/3/library/collections.html#collections.Counter). \n"
      ]
    },
    {
      "cell_type": "code",
      "execution_count": null,
      "metadata": {
        "colab": {
          "base_uri": "https://localhost:8080/"
        },
        "id": "H04crxvto9ez",
        "outputId": "f4f56ad7-f23c-4010-8dc0-7bc59245174c"
      },
      "outputs": [
        {
          "name": "stdout",
          "output_type": "stream",
          "text": [
            "Los 10 personajes más citados son [('Elizabeth', 625), ('Darcy', 411), ('Bennet', 284), ('Jane', 284), ('Bingley', 269), ('Wickham', 186), ('Collins', 179), ('Lydia', 150), ('Lizzy', 96), ('Gardiner', 94), ('Lady Catherine', 76), ('Forster', 36), ('Fitzwilliam', 35), ('William', 34), ('Charlotte', 32), ('Hurst', 31), ('Phillips', 30), ('Mary', 27), ('Lucas', 24), ('Meryton', 24)]\n",
            "\n"
          ]
        }
      ],
      "source": [
        "from collections import Counter\n",
        "\n",
        "def find_occurences(doc,label='PERSON'):\n",
        "    \"\"\"\n",
        "    Devuelve una lista de nombres propios de persona en `doc` con las apariciones correspondientes.\n",
        "    \n",
        "    Usando un diccionario tipo \n",
        "    \"\"\"\n",
        "    \n",
        "    characters = Counter()\n",
        "    \n",
        "    for ent in doc.ents:\n",
        "        if ent.label_ == label: #YOU CODE HERE\n",
        "            characters[ent.lemma_] += 1 #YOU CODE HERE\n",
        "        \n",
        "    return characters.most_common()\n",
        "\n",
        "characters = find_occurences(processed_text)\n",
        "\n",
        "print(f\"Los 10 personajes más citados son {characters[:20]}\\n\")\n"
      ]
    },
    {
      "cell_type": "markdown",
      "metadata": {
        "id": "SI5h3xQKo9e0"
      },
      "source": [
        "> **Ejercicio**: Complete el siguiente código, en el que se buscan los adjetivos referidos a un personaje dado, y los modificadores de sus acciones (advervios). El código recorre el arbol de dependencias en dos niveles: 1) Buscando adjetivos entre las palabras en el arbol que cuelgan de la palabra dada y 2) suponiendo que el personaje actúa como sujeto de la oración, buscaremos advervios entre las palabras dependientes del verbo de dicha oración."
      ]
    },
    {
      "cell_type": "code",
      "execution_count": null,
      "metadata": {
        "colab": {
          "base_uri": "https://localhost:8080/"
        },
        "id": "_4-zvl94o9e0",
        "outputId": "77849148-bc02-4ab1-e27a-797e4fe37d60"
      },
      "outputs": [
        {
          "name": "stdout",
          "output_type": "stream",
          "text": [
            "Las palabras encontradas para Elizabeth son [('not', 81), ('so', 31), ('very', 20), ('as', 20), ('soon', 17), ('now', 15), ('more', 15), ('never', 15), ('well', 12), ('most', 12), ('too', 11), ('rather', 11), ('ever', 11), ('only', 10), ('really', 9), ('again', 9), ('much', 9), ('away', 8), ('indeed', 8), ('immediately', 7), ('then', 7), ('already', 6), ('still', 6), ('dear', 5), ('all', 5), ('before', 5), ('even', 5), ('quietly', 5), ('often', 4), ('afterwards', 4), ('long', 4), ('enough', 4), ('either', 4), ('no', 4), ('however', 4), ('scarcely', 4), ('quite', 4), ('far', 4), ('perhaps', 4), ('hardly', 4), ('almost', 4), ('heartily', 4), ('instantly', 4), ('less', 3), ('also', 3), ('together', 3), ('frequently', 3), ('equally', 3), ('excessively', 3), ('though', 3), ('yet', 3), ('easy', 2), ('least', 2), ('likewise', 2), ('easily', 2), ('archly', 2), ('silently', 2), ('at', 2), ('perfectly', 2), ('exactly', 2), ('impatiently', 2), ('therefore', 2), ('thus', 2), ('laughingly', 2), ('neither', 2), ('finally', 2), ('warmly', 2), ('completely', 2), ('just', 2), ('probably', 2), ('forward', 2), ('exceedingly', 2), ('over', 2), ('there', 2), ('first', 2), ('affectionately', 2), ('particularly', 2), ('slightly', 2), ('composedly', 2), ('pretty', 2), ('always', 2), ('privately', 2), ('once', 2), ('tolerably', 2), ('certainly', 2), ('usually', 2), ('wholly', 2), ('entirely', 2), ('especially', 2), ('unaffected', 1), ('half', 1), ('past', 1), ('unpleasant', 1), ('sighted', 1), ('acute', 1), ('unembarrassed', 1), ('favourite', 1), ('irremediable', 1), ('triumphant', 1), ('lovely', 1), ('agitated', 1), ('confused', 1), ('affected', 1), ('possibly', 1), ('_', 1), ('aloud', 1), ('alone', 1), ('out', 1), ('elsewhere', 1), ('unwillingly', 1), ('thankfully', 1), ('back', 1), ('downstairs', 1), ('thereby', 1), ('sufficiently', 1), ('politely', 1), ('earnestly', 1), ('next', 1), ('home', 1), ('about', 1), ('totally', 1), ('angrily', 1), ('hard', 1), ('intently', 1), ('highly', 1), ('undoubtedly', 1), ('readily', 1), ('sincerely', 1), ('clear', 1), ('altogether', 1), ('originally', 1), ('comparatively', 1), ('evidently', 1), ('shortly', 1), ('cordially', 1), ('drily', 1), ('uncommonly', 1), ('through', 1), ('indispensably', 1), ('safely', 1), ('firmly', 1), ('steadily', 1), ('directly', 1), ('differently', 1), ('uselessly', 1), ('below', 1), ('willingly', 1), ('quickly', 1), ('here', 1), ('closely', 1), ('wisely', 1), ('ago', 1), ('remarkably', 1), ('later', 1), ('formerly', 1), ('in', 1), ('eagerly', 1), ('speedily', 1), ('suddenly', 1), ('honestly', 1), ('rationally', 1), ('concisely', 1), ('coolly', 1), ('secretly', 1), ('seriously', 1)]\n",
            "\n",
            "Las palabras encontradas para Darcy son [('not', 22), ('so', 11), ('very', 9), ('only', 7), ('late', 6), ('never', 6), ('as', 6), ('much', 5), ('again', 5), ('too', 4), ('immediately', 4), ('once', 3), ('well', 3), ('away', 3), ('then', 3), ('rather', 3), ('just', 3), ('long', 3), ('indeed', 3), ('less', 3), ('uncommonly', 2), ('sometimes', 2), ('silently', 2), ('more', 2), ('still', 2), ('often', 2), ('scarcely', 2), ('no', 2), ('perhaps', 2), ('perfectly', 2), ('almost', 2), ('also', 2), ('here', 2), ('far', 2), ('ever', 2), ('grave', 1), ('particular', 1), ('intimate', 1), ('confidential', 1), ('present', 1), ('superior', 1), ('opposite', 1), ('abominable', 1), ('few', 1), ('poor', 1), ('old', 1), ('last', 1), ('disagreeable', 1), ('off', 1), ('continually', 1), ('thus', 1), ('materially', 1), ('chiefly', 1), ('repeatedly', 1), ('therefore', 1), ('enough', 1), ('inflexibly', 1), ('suddenly', 1), ('merely', 1), ('probably', 1), ('equally', 1), ('at', 1), ('all', 1), ('formerly', 1), ('ill', 1), ('certainly', 1), ('easily', 1), ('before', 1), ('soon', 1), ('generally', 1), ('right', 1), ('alone', 1), ('most', 1), ('acutely', 1), ('little', 1), ('always', 1), ('down', 1), ('together', 1), ('readily', 1), ('afterwards', 1), ('however', 1), ('first', 1), ('indistinctly', 1), ('now', 1), ('justly', 1), ('even', 1), ('remarkably', 1), ('exceedingly', 1), ('voluntarily', 1), ('yet', 1), ('exactly', 1)]\n",
            "\n"
          ]
        }
      ],
      "source": [
        "def get_character_adjectives(doc, word_lemma,label1='JJ',label2='RB'):\n",
        "\n",
        "    \n",
        "    adjrb = Counter()\n",
        "    \n",
        "    # Nivel 1) Adjetivos que cuelgan de la palabra                    \n",
        "    for word in doc:\n",
        "        if word.lemma_ == word_lemma:\n",
        "            for token in word.subtree:\n",
        "                if token.tag_[:len(label1)] == label1: # YOUR CODE HERE\n",
        "                    adjrb[token.lemma_] += 1 #YOU CODE HERE\n",
        "    \n",
        "    # Nivel 2) Adjetivos que cuelgan del root de la oración donde aparece la plabra\n",
        "    for word in doc:\n",
        "        if word.lemma_ == word_lemma and word.dep_ == 'nsubj':\n",
        "            for child in word.head.subtree:\n",
        "                if child.tag_[:len(label2)] == label2:  # YOUR CODE HERE\n",
        "                    adjrb[child.lemma_] += 1 #YOU CODE HERE\n",
        "            \n",
        "    \n",
        "    return adjrb.most_common()\n",
        "\n",
        "word = 'Elizabeth'\n",
        "print(f\"Las palabras encontradas para {word} son {get_character_adjectives(processed_text,word)}\\n\")\n",
        "\n",
        "word = \"Darcy\"\n",
        "print(f\"Las palabras encontradas para {word} son {get_character_adjectives(processed_text,word)}\\n\")"
      ]
    },
    {
      "cell_type": "markdown",
      "metadata": {
        "id": "hC_qPrOw0MmR"
      },
      "source": [
        ">**Ejercicio:** Repita el ejercicio anterior con el libro 'Fortunata y Jacinta', de Benito Pérez Galdós ('fortunata.txt'). Utilice el modelo de lenguaje en Español `es_core_news_lg`. De acuerdo a la [documentación](https://spacy.io/models/es), en este modelo la etiqueta para entidades de tipo persona es `PER` y la etiqueta para adjetivos es `ADJ`.\n",
        ">\n",
        "> Como es un libro largo, analice el primer millón de caracteres (límite impuesto por spaCy)."
      ]
    },
    {
      "cell_type": "code",
      "execution_count": null,
      "metadata": {
        "id": "Mh1DVQ8S0MmS",
        "outputId": "077a78a5-ccd4-4b0a-a50f-3d254e14b6f4"
      },
      "outputs": [
        {
          "name": "stdout",
          "output_type": "stream",
          "text": [
            "Collecting es-core-news-lg==3.2.0\n",
            "  Downloading https://github.com/explosion/spacy-models/releases/download/es_core_news_lg-3.2.0/es_core_news_lg-3.2.0-py3-none-any.whl (569.1 MB)\n",
            "     |████████████████████████████████| 569.1 MB 42 kB/s             \n",
            "\u001b[?25hRequirement already satisfied: spacy<3.3.0,>=3.2.0 in /Users/olmos/opt/anaconda3/envs/gensim3/lib/python3.6/site-packages (from es-core-news-lg==3.2.0) (3.2.3)\n",
            "Requirement already satisfied: wasabi<1.1.0,>=0.8.1 in /Users/olmos/opt/anaconda3/envs/gensim3/lib/python3.6/site-packages (from spacy<3.3.0,>=3.2.0->es-core-news-lg==3.2.0) (0.9.0)\n",
            "Requirement already satisfied: murmurhash<1.1.0,>=0.28.0 in /Users/olmos/opt/anaconda3/envs/gensim3/lib/python3.6/site-packages (from spacy<3.3.0,>=3.2.0->es-core-news-lg==3.2.0) (1.0.6)\n",
            "Requirement already satisfied: spacy-legacy<3.1.0,>=3.0.8 in /Users/olmos/opt/anaconda3/envs/gensim3/lib/python3.6/site-packages (from spacy<3.3.0,>=3.2.0->es-core-news-lg==3.2.0) (3.0.9)\n",
            "Requirement already satisfied: setuptools in /Users/olmos/opt/anaconda3/envs/gensim3/lib/python3.6/site-packages (from spacy<3.3.0,>=3.2.0->es-core-news-lg==3.2.0) (59.5.0)\n",
            "Requirement already satisfied: requests<3.0.0,>=2.13.0 in /Users/olmos/opt/anaconda3/envs/gensim3/lib/python3.6/site-packages (from spacy<3.3.0,>=3.2.0->es-core-news-lg==3.2.0) (2.24.0)\n",
            "Requirement already satisfied: preshed<3.1.0,>=3.0.2 in /Users/olmos/opt/anaconda3/envs/gensim3/lib/python3.6/site-packages (from spacy<3.3.0,>=3.2.0->es-core-news-lg==3.2.0) (3.0.2)\n",
            "Requirement already satisfied: langcodes<4.0.0,>=3.2.0 in /Users/olmos/opt/anaconda3/envs/gensim3/lib/python3.6/site-packages (from spacy<3.3.0,>=3.2.0->es-core-news-lg==3.2.0) (3.3.0)\n",
            "Requirement already satisfied: blis<0.8.0,>=0.4.0 in /Users/olmos/opt/anaconda3/envs/gensim3/lib/python3.6/site-packages (from spacy<3.3.0,>=3.2.0->es-core-news-lg==3.2.0) (0.4.1)\n",
            "Requirement already satisfied: pathy>=0.3.5 in /Users/olmos/opt/anaconda3/envs/gensim3/lib/python3.6/site-packages (from spacy<3.3.0,>=3.2.0->es-core-news-lg==3.2.0) (0.6.1)\n",
            "Requirement already satisfied: cymem<2.1.0,>=2.0.2 in /Users/olmos/opt/anaconda3/envs/gensim3/lib/python3.6/site-packages (from spacy<3.3.0,>=3.2.0->es-core-news-lg==3.2.0) (2.0.3)\n",
            "Requirement already satisfied: packaging>=20.0 in /Users/olmos/opt/anaconda3/envs/gensim3/lib/python3.6/site-packages (from spacy<3.3.0,>=3.2.0->es-core-news-lg==3.2.0) (20.4)\n",
            "Requirement already satisfied: numpy>=1.15.0 in /Users/olmos/opt/anaconda3/envs/gensim3/lib/python3.6/site-packages (from spacy<3.3.0,>=3.2.0->es-core-news-lg==3.2.0) (1.19.5)\n",
            "Requirement already satisfied: typing-extensions<4.0.0.0,>=3.7.4 in /Users/olmos/opt/anaconda3/envs/gensim3/lib/python3.6/site-packages (from spacy<3.3.0,>=3.2.0->es-core-news-lg==3.2.0) (3.10.0.2)\n",
            "Requirement already satisfied: pydantic!=1.8,!=1.8.1,<1.9.0,>=1.7.4 in /Users/olmos/opt/anaconda3/envs/gensim3/lib/python3.6/site-packages (from spacy<3.3.0,>=3.2.0->es-core-news-lg==3.2.0) (1.8.2)\n",
            "Requirement already satisfied: spacy-loggers<2.0.0,>=1.0.0 in /Users/olmos/opt/anaconda3/envs/gensim3/lib/python3.6/site-packages (from spacy<3.3.0,>=3.2.0->es-core-news-lg==3.2.0) (1.0.1)\n",
            "Requirement already satisfied: tqdm<5.0.0,>=4.38.0 in /Users/olmos/opt/anaconda3/envs/gensim3/lib/python3.6/site-packages (from spacy<3.3.0,>=3.2.0->es-core-news-lg==3.2.0) (4.47.0)\n",
            "Requirement already satisfied: catalogue<2.1.0,>=2.0.6 in /Users/olmos/opt/anaconda3/envs/gensim3/lib/python3.6/site-packages (from spacy<3.3.0,>=3.2.0->es-core-news-lg==3.2.0) (2.0.6)\n",
            "Requirement already satisfied: thinc<8.1.0,>=8.0.12 in /Users/olmos/opt/anaconda3/envs/gensim3/lib/python3.6/site-packages (from spacy<3.3.0,>=3.2.0->es-core-news-lg==3.2.0) (8.0.13)\n",
            "Requirement already satisfied: typer<0.5.0,>=0.3.0 in /Users/olmos/opt/anaconda3/envs/gensim3/lib/python3.6/site-packages (from spacy<3.3.0,>=3.2.0->es-core-news-lg==3.2.0) (0.4.0)\n",
            "Requirement already satisfied: jinja2 in /Users/olmos/opt/anaconda3/envs/gensim3/lib/python3.6/site-packages (from spacy<3.3.0,>=3.2.0->es-core-news-lg==3.2.0) (2.11.2)\n",
            "Requirement already satisfied: srsly<3.0.0,>=2.4.1 in /Users/olmos/opt/anaconda3/envs/gensim3/lib/python3.6/site-packages (from spacy<3.3.0,>=3.2.0->es-core-news-lg==3.2.0) (2.4.2)\n",
            "Requirement already satisfied: zipp>=0.5 in /Users/olmos/opt/anaconda3/envs/gensim3/lib/python3.6/site-packages (from catalogue<2.1.0,>=2.0.6->spacy<3.3.0,>=3.2.0->es-core-news-lg==3.2.0) (3.1.0)\n",
            "Requirement already satisfied: six in /Users/olmos/opt/anaconda3/envs/gensim3/lib/python3.6/site-packages (from packaging>=20.0->spacy<3.3.0,>=3.2.0->es-core-news-lg==3.2.0) (1.15.0)\n",
            "Requirement already satisfied: pyparsing>=2.0.2 in /Users/olmos/opt/anaconda3/envs/gensim3/lib/python3.6/site-packages (from packaging>=20.0->spacy<3.3.0,>=3.2.0->es-core-news-lg==3.2.0) (2.4.7)\n",
            "Requirement already satisfied: smart-open<6.0.0,>=5.0.0 in /Users/olmos/opt/anaconda3/envs/gensim3/lib/python3.6/site-packages (from pathy>=0.3.5->spacy<3.3.0,>=3.2.0->es-core-news-lg==3.2.0) (5.2.1)\n",
            "Requirement already satisfied: dataclasses<1.0,>=0.6 in /Users/olmos/opt/anaconda3/envs/gensim3/lib/python3.6/site-packages (from pathy>=0.3.5->spacy<3.3.0,>=3.2.0->es-core-news-lg==3.2.0) (0.8)\n",
            "Requirement already satisfied: idna<3,>=2.5 in /Users/olmos/opt/anaconda3/envs/gensim3/lib/python3.6/site-packages (from requests<3.0.0,>=2.13.0->spacy<3.3.0,>=3.2.0->es-core-news-lg==3.2.0) (2.10)\n",
            "Requirement already satisfied: certifi>=2017.4.17 in /Users/olmos/opt/anaconda3/envs/gensim3/lib/python3.6/site-packages (from requests<3.0.0,>=2.13.0->spacy<3.3.0,>=3.2.0->es-core-news-lg==3.2.0) (2020.6.20)\n",
            "Requirement already satisfied: chardet<4,>=3.0.2 in /Users/olmos/opt/anaconda3/envs/gensim3/lib/python3.6/site-packages (from requests<3.0.0,>=2.13.0->spacy<3.3.0,>=3.2.0->es-core-news-lg==3.2.0) (3.0.4)\n",
            "Requirement already satisfied: urllib3!=1.25.0,!=1.25.1,<1.26,>=1.21.1 in /Users/olmos/opt/anaconda3/envs/gensim3/lib/python3.6/site-packages (from requests<3.0.0,>=2.13.0->spacy<3.3.0,>=3.2.0->es-core-news-lg==3.2.0) (1.25.9)\n",
            "Requirement already satisfied: contextvars<3,>=2.4 in /Users/olmos/opt/anaconda3/envs/gensim3/lib/python3.6/site-packages (from thinc<8.1.0,>=8.0.12->spacy<3.3.0,>=3.2.0->es-core-news-lg==3.2.0) (2.4)\n",
            "Requirement already satisfied: click<9.0.0,>=7.1.1 in /Users/olmos/opt/anaconda3/envs/gensim3/lib/python3.6/site-packages (from typer<0.5.0,>=0.3.0->spacy<3.3.0,>=3.2.0->es-core-news-lg==3.2.0) (7.1.2)\n",
            "Requirement already satisfied: MarkupSafe>=0.23 in /Users/olmos/opt/anaconda3/envs/gensim3/lib/python3.6/site-packages (from jinja2->spacy<3.3.0,>=3.2.0->es-core-news-lg==3.2.0) (1.1.1)\n",
            "Requirement already satisfied: immutables>=0.9 in /Users/olmos/opt/anaconda3/envs/gensim3/lib/python3.6/site-packages (from contextvars<3,>=2.4->thinc<8.1.0,>=8.0.12->spacy<3.3.0,>=3.2.0->es-core-news-lg==3.2.0) (0.14)\n",
            "\u001b[38;5;2m✔ Download and installation successful\u001b[0m\n",
            "You can now load the package via spacy.load('es_core_news_lg')\n"
          ]
        }
      ],
      "source": [
        "!python -m spacy download es_core_news_lg"
      ]
    },
    {
      "cell_type": "code",
      "execution_count": null,
      "metadata": {
        "id": "Ij1FZ-nO0MmS"
      },
      "outputs": [],
      "source": [
        "nlp = spacy.load(\"es_core_news_lg\")"
      ]
    },
    {
      "cell_type": "code",
      "execution_count": null,
      "metadata": {
        "id": "xfPMpTjR0MmS"
      },
      "outputs": [],
      "source": [
        "#uploaded = files.upload() If we use Colab, we upload the book"
      ]
    },
    {
      "cell_type": "code",
      "execution_count": null,
      "metadata": {
        "id": "1i9KoTxn0MmT",
        "outputId": "7c3f1a63-e334-40c7-c653-e806f3d5e9c7"
      },
      "outputs": [
        {
          "name": "stdout",
          "output_type": "stream",
          "text": [
            "﻿The Project Gutenberg EBook of Fortunata y Jacinta, by Benito Pérez Galdós\n",
            "\n",
            "This eBook is for the use of anyone anywhere at no cost and with\n",
            "almost no restrictions whatsoever.  You may copy it, give it away or\n",
            "re-use it under the terms of the Project Gutenberg License included\n",
            "with this eBook or online at www.gutenberg.org\n",
            "\n",
            "\n",
            "Title: Fortunata y Jacinta\n",
            "       dos historias de casadas\n",
            "\n",
            "Author: Benito Pérez Galdós\n",
            "\n",
            "Release Date: November 5, 2005 [EBook #17013]\n",
            "[Last updated on December 21, 2019]\n",
            "\n",
            "Language: Spanish\n",
            "\n",
            "\n",
            "*** START OF THIS PROJECT GUTENBERG EBOOK FORTUNATA Y JACINTA ***\n",
            "\n",
            "\n",
            "\n",
            "\n",
            "Produced by Chuck Greif\n",
            "\n",
            "\n",
            "\n",
            "\n",
            "\n",
            "Fortunata y Jacinta: (dos historias de casadas)\n",
            "\n",
            "por B. Pérez Galdós\n",
            "\n",
            "\n",
            "\n",
            "\n",
            "Parte primera\n",
            "\n",
            "\n",
            "\n",
            "\n",
            "-I-\n",
            "\n",
            "Juanito Santa Cruz\n",
            "\n",
            "\n",
            "\n",
            "\n",
            "--i--\n",
            "\n",
            "\n",
            "Las noticias más remotas que tengo de la persona que lleva este nombre\n",
            "me las ha dado Jacinto María Villalonga, y alcanzan al tiempo en que\n",
            "este amigo mío y el otro y el de más allá, Zalamero, Joaquinito Pez,\n",
            "Alejandro Miquis, iban a las aulas de la Univ\n",
            ".......\n",
            "e U.S.\n",
            "unless a copyright notice is included.  Thus, we do not necessarily\n",
            "keep eBooks in compliance with any particular paper edition.\n",
            "\n",
            "\n",
            "Most people start at our Web site which has the main PG search facility:\n",
            "\n",
            "     https://www.gutenberg.org\n",
            "\n",
            "This Web site includes information about Project Gutenberg-tm,\n",
            "including how to make donations to the Project Gutenberg Literary\n",
            "Archive Foundation, how to help produce our new eBooks, and how to\n",
            "subscribe to our email newsletter to hear about new eBooks.\n",
            "\n"
          ]
        }
      ],
      "source": [
        "text = read_file('fortunata.txt')\n",
        "\n",
        "print(text[:1000])\n",
        "print('.......')\n",
        "print(text[-500:])"
      ]
    },
    {
      "cell_type": "code",
      "execution_count": null,
      "metadata": {
        "id": "s4rbQKpZ0MmT",
        "outputId": "18ef9124-7903-4ba0-a721-1b37299c909f"
      },
      "outputs": [
        {
          "name": "stdout",
          "output_type": "stream",
          "text": [
            "El documento procesado contiene 221419 tokens\n"
          ]
        }
      ],
      "source": [
        "processed_text = nlp(text[:1000000])   \n",
        "\n",
        "print(f\"El documento procesado contiene {len(processed_text)} tokens\")"
      ]
    },
    {
      "cell_type": "code",
      "execution_count": null,
      "metadata": {
        "id": "cTHPcxo70MmU",
        "outputId": "79b73942-d362-431c-846c-77fa6bade8f7"
      },
      "outputs": [
        {
          "name": "stdout",
          "output_type": "stream",
          "text": [
            "Los 10 personajes más citados son [('Jacinta', 225), ('Maximiliano', 180), ('Lupe', 111), ('Barbarita', 86), ('Guillermina', 66), ('Juan', 62), ('Juanito', 57), ('Estupiñá', 47), ('Juan Pablo', 47), ('Nicolás', 46), ('Arnaiz', 43), ('Izquierdo', 42), ('Rubín', 39), ('D. Baldomero', 34), ('Plácido', 34), ('Maxi', 34), ('Papitos', 31), ('Fortunata', 30), ('Mauricia', 29), ('Aparisi', 28)]\n",
            "\n"
          ]
        }
      ],
      "source": [
        "characters = find_occurences(processed_text,label='PER')\n",
        "\n",
        "print(f\"Los 10 personajes más citados son {characters[:20]}\\n\")"
      ]
    },
    {
      "cell_type": "code",
      "execution_count": null,
      "metadata": {
        "id": "auSE7iNp0MmU",
        "outputId": "0ba33281-9417-4b54-ba84-adbcd50739db"
      },
      "outputs": [
        {
          "name": "stdout",
          "output_type": "stream",
          "text": [
            "Los adjetivos encontrados para Jacinta son [('no', 66), ('mucho', 24), ('más', 21), ('tanto', 20), ('ya', 8), ('menos', 5), ('también', 5), ('bien', 4), ('antes', 4), ('siempre', 4), ('nunca', 4), ('fuera', 4), ('poco', 4), ('último', 3), ('blanco', 3), ('después', 3), ('negro', 2), ('_', 2), ('lejos', 2), ('tampoco', 2), ('aquí', 2), ('casi', 2), ('sólo', 2), ('aparte', 2), ('atrás', 2), ('entonces', 2), ('allí', 2), ('quizás', 2), ('mal', 2), ('dentro', 2), ('así', 2), ('acá', 2), ('llamado', 1), ('tercero', 1), ('solitario', 1), ('romántico', 1), ('ruborizado', 1), ('distraído', 1), ('fecundo', 1), ('gran', 1), ('entretenido', 1), ('rápido', 1), ('mediterráneo', 1), ('riendo--mucho', 1), ('deseós', 1), ('previsto', 1), ('prudente', 1), ('sagaz', 1), ('subyugado', 1), ('querido', 1), ('mugriento', 1), ('fijo', 1), ('amante', 1), ('pensativo', 1), ('acompañado', 1), ('reducido', 1), ('desamparado', 1), ('largo', 1), ('picado', 1), ('piadós', 1), ('infeliz', 1), ('guapísimo', 1), ('sencillo', 1), ('encarnado', 1), ('parece?--preguntó', 1), ('anonadado', 1), ('encendida--', 1), ('triste', 1), ('aturdido', 1), ('celoso', 1), ('decidor', 1), ('sensato', 1), ('paradójico', 1), ('pardo', 1), ('seguro', 1), ('inteligente', 1), ('vivo', 1), ('solo', 1), ('social', 1), ('además', 1), ('cuanto', 1), ('detrás', 1), ('personalmente', 1), ('aun', 1), ('recién', 1), ('adentro', 1), ('alrededor', 1), ('medio', 1), ('aún', 1), ('demasiado', 1), ('mejor', 1), ('profundamente', 1), ('jamás', 1), ('delante', 1), ('luego', 1), ('únicamente', 1), ('completamente', 1), ('arriba', 1), ('algo', 1), ('atentamente', 1), ('pronto', 1), ('vivamente', 1), ('apenas', 1), ('muchísimo', 1), ('afuera', 1), ('ahora', 1), ('hasta', 1), ('incluso', 1), ('vulgarmente', 1), ('tarde', 1), ('mañana', 1)]\n",
            "\n"
          ]
        }
      ],
      "source": [
        "word = 'Jacinta'\n",
        "print(f\"Los adjetivos encontrados para {word} son {get_character_adjectives(processed_text,word,label1='ADJ',label2='ADV')}\\n\")"
      ]
    },
    {
      "cell_type": "markdown",
      "metadata": {
        "id": "p29EA6Yzo9e0"
      },
      "source": [
        "# 2. Detección automática de oraciones y palabras clave\n",
        "\n",
        "En segunda parte presentaremos algunas técnicas sencillas para obtener **oraciones y palabras clave de un documento**. Presentaremos técnicas simples pero potentes para extraer información importante de documentos de texto no estructurados. Éstas pueden utilizarse a efectos méramente de interpretabilidad, pero también como características (features) avanzadas una vez las combinemos con algún método de aprendizaje."
      ]
    },
    {
      "cell_type": "code",
      "execution_count": null,
      "metadata": {
        "id": "6ZwGUuuh0MmV"
      },
      "outputs": [],
      "source": [
        "DOCUMENT = \"\"\"\n",
        "Democrats have spent the last several years clamoring to raise taxes on corporations and the rich, seeing that as a necessary antidote to widening economic inequality and a rebuke of President Donald J. Trump’s signature tax cuts.\n",
        "\n",
        "Now, under President Biden, they have a shot at ushering in the largest federal tax increase since 1942. It could help pay for a host of spending programs that liberal economists predict would bolster the economy’s performance and repair a tax code that Democrats say encourages wealthy people to hoard assets and big companies to ship jobs and book profits overseas.\n",
        "\n",
        "The question is whether congressional Democrats and the White House can agree on how sharply taxes should rise and who, exactly, should pay the bill. They widely share the goal of reversing many of Mr. Trump’s tax cuts from 2017, and of making the wealthy and big businesses pay more. But they do not yet agree on the details — and because Republicans are unlikely to support their efforts, they have no room for error in a closely divided Senate.\n",
        "\n",
        "For Mr. Biden, the need to find consensus is urgent. The president is set to travel to Pittsburgh on Wednesday to unveil the next phase of his economic agenda — a sprawling collection of programs that would invest in infrastructure, education, carbon-reduction and working mothers and cost $3 trillion to $4 trillion.\n",
        "\n",
        "The package, which follows on the heels of Mr. Biden’s $1.9 trillion economic aid bill, is central to the president’s long-term plan to revitalize American workers and industry by funding bridges and roads, universal pre-K, emerging industries like advanced batteries and efforts to invigorate the fight against climate change.\n",
        "\n",
        "Mr. Biden plans to finance that spending, at least in part, with tax increases that could raise upward of $2.5 trillion in revenue if his plan hews closely to what he proposed in the 2020 presidential campaign. Aides suggest his proposals might not be entirely paid for, with some one-time spending increases offset by increased federal borrowing.\n",
        "\n",
        "Others in his party, including his own transportation secretary, have pushed Mr. Biden to explore tax plans he did not campaign on, like taxing consumption, wealth or vehicle miles traveled. (A Transportation Department spokesman said on Saturday that there would be no vehicle-miles-traveled tax in the infrastructure proposal.) Mr. Biden has stressed his broad-brush desire to increase the tax burden on wealthy Americans who largely earn their money through inheritance or investment, to fund spending programs meant to help people who earn their money primarily through wages.\n",
        "\n",
        "Democratic lawmakers have promised for decades to raise taxes on companies and the wealthy, a desire that kicked into overdrive after Mr. Trump signed a tax-cut package that delivered an outsize share of its benefits to corporations and high earners. But they have struggled to muster the votes for large tax increases since President Bill Clinton signed a 1993 law that included a variety of hikes intended to help reduce the budget deficit. Business groups, conservative activists, lobbyists and donors across the ideological spectrum have largely blocked such attempts.\n",
        "\n",
        "President Barack Obama campaigned on ending tax cuts for the rich signed into law by President George W. Bush, but after the 2008 financial crisis, he cut deals with Republicans to extend those cuts, before allowing some of them to expire at the end of 2012.\n",
        "\n",
        "Liberal economists say this year could be different, thanks to the unique political and economic circumstances surrounding the recovery from the pandemic recession. With Mr. Biden’s signing of a $1.9 trillion economic relief bill, financed entirely by federal borrowing, forecasters now expect the economy to grow this year at its fastest annual clip since the 1980s. Republicans and some economists have begun to warn of overheating growth spurring runaway inflation, which could reduce the salience of warnings that tax increases would cause growth to stall.\n",
        "\n",
        "Public polling shows broad support, even among many Republican voters, for raising taxes on large corporations and high-income individuals. The most conservative Democrats in the Senate, who hold great sway over Mr. Biden’s legislative agenda, say they favor trillions of dollars in infrastructure spending so long as there is a plan to pay for it.\n",
        "\n",
        "That includes Senator Joe Manchin III, of West Virginia, who told reporters this week that Mr. Biden’s infrastructure plan was “going to be enormous” and that its costs needed to be covered. He signaled openness to making changes to the 2017 tax overhaul, adding that the benefits in that legislation were “weighted in one direction to the upper end.”\n",
        "\n",
        "Democrats widely share a desire to raise the corporate income tax rate after it was cut to 21 percent in 2017. And they want to raise the top marginal rate for individuals back to 39.6 percent from 37 percent.\n",
        "\n",
        "But there are disputes in the rank and file, with some favoring Mr. Biden’s plan to set the corporate rate at 28 percent and others preferring a lower one, like 25 percent. There are also questions over which high-earning individuals should see a tax increase.\n",
        "\n",
        "Mr. Biden has pledged not to raise taxes on people earning less than $400,000. Some of his progressive allies, including Senators Bernie Sanders of Vermont and Elizabeth Warren of Massachusetts, have advocated raising taxes on a broader group. Democrats like Mr. Manchin have pushed him to consider additional tax plans that do not solely target the rich, like a European-style tax on consumption, though that type of tax could fall more heavily on low-income Americans than wealthy ones.\n",
        "\"\"\"\n",
        "\n"
      ]
    },
    {
      "cell_type": "markdown",
      "metadata": {
        "id": "25L9dp2Vo9e0"
      },
      "source": [
        "Vamos a utilizar spaCy para preprocesar el texto, separando el documento en oraciones.\n"
      ]
    },
    {
      "cell_type": "code",
      "execution_count": null,
      "metadata": {
        "colab": {
          "base_uri": "https://localhost:8080/"
        },
        "id": "HnHnDfNoo9e0",
        "outputId": "0eac5d22-b023-4818-9407-ca8208b98977"
      },
      "outputs": [
        {
          "name": "stdout",
          "output_type": "stream",
          "text": [
            "\n",
            "Democrats have spent the last several years clamoring to raise taxes on corporations and the rich, seeing that as a necessary antidote to widening economic inequality and a rebuke of President Donald J. Trump’s signature tax cuts.\n",
            "**********\n",
            "\n",
            "\n",
            "Now, under President Biden, they have a shot at ushering in the largest federal tax increase since 1942.\n",
            "**********\n",
            "It could help pay for a host of spending programs that liberal economists predict would bolster the economy’s performance and repair a tax code that Democrats say encourages wealthy people to hoard assets and big companies to ship jobs and book profits overseas.\n",
            "**********\n",
            "\n",
            "\n",
            "The question is whether congressional Democrats and the White House can agree on how sharply taxes should rise and who, exactly, should pay the bill.\n",
            "**********\n",
            "They widely share the goal of reversing many of Mr. Trump’s tax cuts from 2017, and of making the wealthy and big businesses pay more.\n",
            "**********\n",
            "But they do not yet agree on the details — and because Republicans are unlikely to support their efforts, they have no room for error in a closely divided Senate.\n",
            "**********\n",
            "\n",
            "\n",
            "For Mr. Biden, the need to find consensus is urgent.\n",
            "**********\n",
            "The president is set to travel to Pittsburgh on Wednesday to unveil the next phase of his economic agenda — a sprawling collection of programs that would invest in infrastructure, education, carbon-reduction and working mothers and cost $3 trillion to $4 trillion.\n",
            "**********\n",
            "\n",
            "\n",
            "The package, which follows on the heels of Mr. Biden’s $1.9 trillion economic aid bill, is central to the president’s long-term plan to revitalize American workers and industry by funding bridges and roads, universal pre-K, emerging industries like advanced batteries and efforts to invigorate the fight against climate change.\n",
            "**********\n",
            "\n",
            "\n",
            "Mr. Biden plans to finance that spending, at least in part, with tax increases that could raise upward of $2.5 trillion in revenue if his plan hews closely to what he proposed in the 2020 presidential campaign.\n",
            "**********\n",
            "Aides suggest his proposals might not be entirely paid for, with some one-time spending increases offset by increased federal borrowing.\n",
            "**********\n",
            "\n",
            "\n",
            "Others in his party, including his own transportation secretary, have pushed Mr. Biden to explore tax plans he did not campaign on, like taxing consumption, wealth or vehicle miles traveled.\n",
            "**********\n",
            "(A Transportation Department spokesman said on Saturday that there would be no vehicle-miles-traveled tax in the infrastructure proposal.)\n",
            "**********\n",
            "Mr. Biden has stressed his broad-brush desire to increase the tax burden on wealthy Americans who largely earn their money through inheritance or investment, to fund spending programs meant to help people who earn their money primarily through wages.\n",
            "**********\n",
            "\n",
            "\n",
            "Democratic lawmakers have promised for decades to raise taxes on companies and the wealthy, a desire that kicked into overdrive after Mr. Trump signed a tax-cut package that delivered an outsize share of its benefits to corporations and high earners.\n",
            "**********\n",
            "But they have struggled to muster the votes for large tax increases since President Bill Clinton signed a 1993 law that included a variety of hikes intended to help reduce the budget deficit.\n",
            "**********\n",
            "Business groups, conservative activists, lobbyists and donors across the ideological spectrum have largely blocked such attempts.\n",
            "**********\n",
            "\n",
            "\n",
            "President Barack Obama campaigned on ending tax cuts for the rich signed into law by President George W. Bush, but after the 2008 financial crisis, he cut deals with Republicans to extend those cuts, before allowing some of them to expire at the end of 2012.\n",
            "**********\n",
            "\n",
            "\n",
            "Liberal economists say this year could be different, thanks to the unique political and economic circumstances surrounding the recovery from the pandemic recession.\n",
            "**********\n",
            "With Mr. Biden’s signing of a $1.9 trillion economic relief bill, financed entirely by federal borrowing, forecasters now expect the economy to grow this year at its fastest annual clip since the 1980s.\n",
            "**********\n",
            "Republicans and some economists have begun to warn of overheating growth spurring runaway inflation, which could reduce the salience of warnings that tax increases would cause growth to stall.\n",
            "**********\n",
            "\n",
            "\n",
            "Public polling shows broad support, even among many Republican voters, for raising taxes on large corporations and high-income individuals.\n",
            "**********\n",
            "The most conservative Democrats in the Senate, who hold great sway over Mr. Biden’s legislative agenda, say they favor trillions of dollars in infrastructure spending so long as there is a plan to pay for it.\n",
            "**********\n",
            "\n",
            "\n",
            "That includes Senator Joe Manchin III, of West Virginia, who told reporters this week that Mr. Biden’s infrastructure plan was “going to be enormous” and that its costs needed to be covered.\n",
            "**********\n",
            "He signaled openness to making changes to the 2017 tax overhaul, adding that the benefits in that legislation were “weighted in one direction to the upper end.”\n",
            "**********\n",
            "\n",
            "\n",
            "Democrats widely share a desire to raise the corporate income tax rate after it was cut to 21 percent in 2017.\n",
            "**********\n",
            "And they want to raise the top marginal rate for individuals back to 39.6 percent from 37 percent.\n",
            "**********\n",
            "\n",
            "\n",
            "But there are disputes in the rank and file, with some favoring Mr. Biden’s plan to set the corporate rate at 28 percent and others preferring a lower one, like 25 percent.\n",
            "**********\n",
            "There are also questions over which high-earning individuals should see a tax increase.\n",
            "**********\n",
            "\n",
            "\n",
            "Mr. Biden has pledged not to raise taxes on people earning less than $400,000.\n",
            "**********\n",
            "Some of his progressive allies, including Senators Bernie Sanders of Vermont and Elizabeth Warren of Massachusetts, have advocated raising taxes on a broader group.\n",
            "**********\n",
            "Democrats like Mr. Manchin have pushed him to consider additional tax plans that do not solely target the rich, like a European-style tax on consumption, though that type of tax could fall more heavily on low-income Americans than wealthy ones.\n",
            "**********\n",
            "\n",
            "\n",
            "**********\n"
          ]
        }
      ],
      "source": [
        "nlp = spacy.load(\"en_core_web_sm\")\n",
        "\n",
        "doc = nlp(DOCUMENT)\n",
        "\n",
        "for sentence in doc.sents:\n",
        "    print(sentence.text)\n",
        "    print('**********')"
      ]
    },
    {
      "cell_type": "markdown",
      "metadata": {
        "id": "WfFCkLRdo9e0"
      },
      "source": [
        "Normalizamos cada oración, excluyendo stopping words y signos de puntuación y tokens no alfanuméricos:"
      ]
    },
    {
      "cell_type": "code",
      "execution_count": null,
      "metadata": {
        "id": "BYk5_OgHo9e1"
      },
      "outputs": [],
      "source": [
        "norm_doc_sent = [[w.lemma_.lower() for w in s if not w.is_stop \n",
        "                  and not w.is_punct and (w.is_alpha or w.is_digit)] for s in doc.sents]\n"
      ]
    },
    {
      "cell_type": "code",
      "execution_count": null,
      "metadata": {
        "colab": {
          "base_uri": "https://localhost:8080/"
        },
        "id": "pWcK1l_2o9e1",
        "outputId": "bc2de957-e9a4-4929-a282-5d284e2fb39f"
      },
      "outputs": [
        {
          "name": "stdout",
          "output_type": "stream",
          "text": [
            "['democrats', 'spend', 'year', 'clamor', 'raise', 'taxis', 'corporation', 'rich', 'see', 'necessary', 'antidote', 'widen', 'economic', 'inequality', 'rebuke', 'president', 'donald', 'trump', 'signature', 'tax', 'cut']\n"
          ]
        }
      ],
      "source": [
        "print(norm_doc_sent[0])"
      ]
    },
    {
      "cell_type": "code",
      "execution_count": null,
      "metadata": {
        "colab": {
          "base_uri": "https://localhost:8080/"
        },
        "id": "WoqHmZcEo9e1",
        "outputId": "ed6cc102-5730-4f31-e368-0a8bdd9a0299"
      },
      "outputs": [
        {
          "data": {
            "text/plain": [
              "33"
            ]
          },
          "execution_count": 73,
          "metadata": {},
          "output_type": "execute_result"
        }
      ],
      "source": [
        "len(norm_doc_sent)"
      ]
    },
    {
      "cell_type": "markdown",
      "metadata": {
        "id": "CF01WfFzo9e1"
      },
      "source": [
        "## Codificación TF-IDF\n",
        "\n",
        "Los métodos que presentamos a continuación para extraer oraciones clave van a trabajar sobre la codificación TF-IDF del documento, **considerando cada oración como un documento independendiente**."
      ]
    },
    {
      "cell_type": "code",
      "execution_count": null,
      "metadata": {
        "id": "6L23JFIF0MmY"
      },
      "outputs": [],
      "source": [
        "# Vamos a forzar la versión 3.8.3 de gensim\n",
        "# Esta versión incluye el paquete summarization (textrank) que utilizamos luego.\n",
        "\n",
        "#!pip install gensim==3.8.3\n",
        "# o dentro de anaconda\n",
        "#conda install -c conda-forge gensim==3.8"
      ]
    },
    {
      "cell_type": "code",
      "execution_count": null,
      "metadata": {
        "colab": {
          "base_uri": "https://localhost:8080/"
        },
        "id": "vy32odA9o9e1",
        "outputId": "ae792a62-feaa-438d-97f0-c748b6349f0d"
      },
      "outputs": [
        {
          "name": "stdout",
          "output_type": "stream",
          "text": [
            "The dictionary contains 315 terms\n",
            "First terms in the dictionary:\n",
            "0 : antidote\n",
            "1 : clamor\n",
            "2 : corporation\n",
            "3 : cut\n",
            "4 : democrats\n",
            "5 : donald\n",
            "6 : economic\n",
            "7 : inequality\n",
            "8 : necessary\n",
            "9 : president\n"
          ]
        }
      ],
      "source": [
        "import gensim\n",
        "\n",
        "D = gensim.corpora.Dictionary(norm_doc_sent)\n",
        "\n",
        "n_tokens = len(D)\n",
        "\n",
        "print('The dictionary contains', n_tokens, 'terms')\n",
        "print('First terms in the dictionary:')\n",
        "for n in range(10):\n",
        "    print(str(n), ':', D[n])"
      ]
    },
    {
      "cell_type": "markdown",
      "metadata": {
        "id": "0zaRHdLAo9e2"
      },
      "source": [
        "Vamos a filtrar todas aquellas palabras que no aparezcan en al menos dos frases"
      ]
    },
    {
      "cell_type": "code",
      "execution_count": null,
      "metadata": {
        "colab": {
          "base_uri": "https://localhost:8080/"
        },
        "id": "2Io-FJlvo9e2",
        "outputId": "e3d9ff41-501c-4db3-e5a4-fe74ae131deb"
      },
      "outputs": [
        {
          "name": "stdout",
          "output_type": "stream",
          "text": [
            "The dictionary contains 85 terms\n",
            "First terms in the dictionary:\n",
            "0 : corporation\n",
            "1 : cut\n",
            "2 : democrats\n",
            "3 : economic\n",
            "4 : president\n",
            "5 : raise\n",
            "6 : rich\n",
            "7 : tax\n",
            "8 : taxis\n",
            "9 : trump\n"
          ]
        }
      ],
      "source": [
        "no_below = 2 #Minimum number of documents to keep a term in the dictionary\n",
        "no_above = .9 #Maximum proportion of documents in which a term can appear to be kept in the dictionary\n",
        "\n",
        "D.filter_extremes(no_below=no_below,no_above=no_above)\n",
        "\n",
        "n_tokens = len(D)\n",
        "\n",
        "print('The dictionary contains', n_tokens, 'terms')\n",
        "print('First terms in the dictionary:')\n",
        "for n in range(10):\n",
        "    print(str(n), ':', D[n])"
      ]
    },
    {
      "cell_type": "markdown",
      "metadata": {
        "id": "S-SWgAOWo9e2"
      },
      "source": [
        "Finalmente obtenemos la matriz TF-IDF. El corpus es reducido, no es necesario trabajar con matrices sparse. "
      ]
    },
    {
      "cell_type": "code",
      "execution_count": null,
      "metadata": {
        "id": "A4Z13Jrjo9e2"
      },
      "outputs": [],
      "source": [
        "from gensim.models import TfidfModel\n",
        "from gensim.matutils import corpus2dense, corpus2csc\n",
        "\n",
        "corpus_bow = [D.doc2bow(doc) for doc in norm_doc_sent]\n",
        "\n",
        "model = TfidfModel(corpus_bow)  \n",
        "\n",
        "corpus_tfidf = model[corpus_bow]\n",
        "\n",
        "n_tokens = len(D)\n",
        "num_docs = len(corpus_bow)\n",
        "# Convert BoW representacion\n",
        "corpus_bow_dense = corpus2dense(corpus_bow, num_terms=n_tokens, num_docs=num_docs)\n",
        "# Convert TFIDF representacion\n",
        "corpus_tfidf_dense = corpus2dense(corpus_tfidf, num_terms=n_tokens, num_docs=num_docs)"
      ]
    },
    {
      "cell_type": "markdown",
      "metadata": {
        "id": "f1FmgaKGo9e2"
      },
      "source": [
        "# 2.1 Resumen de texto utilizando *Latent Semantic Analysis* (LSA)\n",
        "\n",
        "[Este método](http://www.kiv.zcu.cz/~jstein/publikace/isim2004.pdf) utiliza la descomposición en valores singulares (SVD) de la matriz TF-IDF  calculada anteriormente. Ésta tiene dimensiones $m\\times n$, donde $m$ corresponde en nuestro caso al  tamaño del diccionario (`len(D)`) y $n$ al número de documentos (frases en nuestro caso). Asumiendo $m>n$, la descomposición SVD de la matriz TF-IDF es de la forma\n",
        "$$\\text{TF-IDF}=\\mathbf{U}\\mathbf{\\Sigma}\\mathbf{V}^T$$ \n",
        "donde\n",
        "\n",
        "- $\\mathbf{U}$ es una matriz $m\\times m$ ortogonal. \n",
        "- $\\mathbf{V}$ es una matriz $n\\times n$ ortogonal.\n",
        "- $\\mathbf{\\Sigma}$ es una matriz $m\\times n$ con $n$ valores distintos de zero en la diagonal principal. Estos valores, $\\sigma_1,\\sigma_2,\\ldots,\\sigma_n$ son los **valores singulares**. Además, asumimos que están ordenados, de forma que $\\sigma_1>\\sigma_2,\\ldots,\\sigma_n$.\n",
        "\n",
        "La siguiente figura ilustra la descomposición\n",
        "\n",
        "<img src='https://upload.wikimedia.org/wikipedia/commons/thumb/c/c8/Singular_value_decomposition_visualisation.svg/1280px-Singular_value_decomposition_visualisation.svg.png' width=400 />\n",
        "\n",
        "\n",
        "## Aproximación de rango-$K$ usando SVD\n",
        "\n",
        "Si utilizamos únicamente las componentes correspondientes asociadas a los $K$ valores singulares de mayor valor, construiremos una aproximación a la matriz TF-IDF de rango $K$:\n",
        "\n",
        "<img src='http://www.tsc.uc3m.es/~olmos/BBVA/LSA.png' width=900 />\n",
        "\n",
        "Observad que ...\n",
        "\n",
        "- Cada palabra está representada por un vector $\\mathbf{u}_i, i=1,\\ldots,m$ de dimensión $K$. \n",
        "- Cada documento (oración) está representado por un vector $\\mathbf{g}_j, j=1,\\ldots,n$ de dimensión $K$.\n",
        "- Cada elemento de la matriz TF-IDF se aproxima como el producto escalar los dos vectores. \n",
        "\n",
        "\n",
        "## Frases más representativas\n",
        "\n",
        "Un heurístico que se ha mostrado muy útil para extraer las oraciones más representativas es buscar aquellas para las cuales se maximiza la normal del vector $\\mathbf{g}$ correspondiente. Un vector $\\mathbf{g}$ de norma mayor dará como resultado valores TF-IDF mayores:\n",
        "\n",
        "$$s_j = ||\\mathbf{g}_j||_2 = \\sqrt{\\sum_{k=1}^{K}\\sigma_k^2 v_{j,k}^2}$$\n",
        "\n",
        "A los coeficientes $s_j, j=1,\\ldots,n$ se les denomina *saliency scores*. \n",
        "\n"
      ]
    },
    {
      "cell_type": "markdown",
      "metadata": {
        "id": "P8m76Yfio9e2"
      },
      "source": [
        "La dimensión $K$ es un hiperparámetro que debemos fijar para lanzar el método. Podemos jugar con distintos valores para ver su efecto. En general, se recomienda un número relativamente bajo (comparado con el número de oraciones). Vamos a aplicar el método LSA para encontrar las frases más representativas de nuestro texto de ejemplo."
      ]
    },
    {
      "cell_type": "code",
      "execution_count": null,
      "metadata": {
        "colab": {
          "base_uri": "https://localhost:8080/"
        },
        "id": "jBSYwCsWo9e3",
        "outputId": "5513e2e5-74f8-475b-982f-4c24fce97ab0"
      },
      "outputs": [
        {
          "name": "stdout",
          "output_type": "stream",
          "text": [
            "(85, 4) (4,) (4, 33)\n"
          ]
        }
      ],
      "source": [
        "from scipy.sparse.linalg import svds  # Función para calcular la descomposición en valores singulares\n",
        "\n",
        "num_sentences = 8  # Número de frases clave\n",
        "K = 4 # Dimensión de bajo rango\n",
        "\n",
        "u, s, vt = svds(corpus_tfidf_dense, k=K)  \n",
        "print(u.shape, s.shape, vt.shape)\n",
        "term_topic_mat, singular_values, topic_document_mat = u, s, vt"
      ]
    },
    {
      "cell_type": "code",
      "execution_count": null,
      "metadata": {
        "colab": {
          "base_uri": "https://localhost:8080/"
        },
        "id": "OVxMviywo9e3",
        "outputId": "e525a7ce-961f-4efa-99cf-e7c3e3e79fa6"
      },
      "outputs": [
        {
          "data": {
            "text/plain": [
              "array([1.342064 , 1.4109317, 1.4632635, 1.813306 ], dtype=float32)"
            ]
          },
          "execution_count": 79,
          "metadata": {},
          "output_type": "execute_result"
        }
      ],
      "source": [
        "singular_values"
      ]
    },
    {
      "cell_type": "markdown",
      "metadata": {
        "id": "rtrG-h7Oo9e3"
      },
      "source": [
        "En el [artículo original](http://www.kiv.zcu.cz/~jstein/publikace/isim2004.pdf), proponen el siguiente heurístico para no tener en cuenta valores singulares con poca importancia. En particular, para el cálculo del *saliency score* **pondremos a cero todos aquellos valores singulares cuya magnitud esté por debajo de la mitad del valor del máximo valor singular**."
      ]
    },
    {
      "cell_type": "code",
      "execution_count": null,
      "metadata": {
        "colab": {
          "base_uri": "https://localhost:8080/"
        },
        "id": "P9sO2suRo9e3",
        "outputId": "fa707833-e62a-4b13-d345-c3e479aae117"
      },
      "outputs": [
        {
          "name": "stdout",
          "output_type": "stream",
          "text": [
            "[1.342064  1.4109317 1.4632635 1.813306 ]\n"
          ]
        }
      ],
      "source": [
        "singular_values[singular_values<np.max(singular_values)/2] = 0.0\n",
        "\n",
        "print(singular_values)\n"
      ]
    },
    {
      "cell_type": "markdown",
      "metadata": {
        "id": "_hiN85HFo9e3"
      },
      "source": [
        "A continuación calculamos los scores "
      ]
    },
    {
      "cell_type": "code",
      "execution_count": null,
      "metadata": {
        "colab": {
          "base_uri": "https://localhost:8080/",
          "height": 371
        },
        "id": "IPnEXYkXo9e3",
        "outputId": "e60b481c-bc79-488e-e12b-b55d87999840"
      },
      "outputs": [
        {
          "data": {
            "image/svg+xml": [
              "<?xml version=\"1.0\" encoding=\"utf-8\" standalone=\"no\"?>\n",
              "<!DOCTYPE svg PUBLIC \"-//W3C//DTD SVG 1.1//EN\"\n",
              "  \"http://www.w3.org/Graphics/SVG/1.1/DTD/svg11.dtd\">\n",
              "<!-- Created with matplotlib (https://matplotlib.org/) -->\n",
              "<svg height=\"262.218125pt\" version=\"1.1\" viewBox=\"0 0 386.803125 262.218125\" width=\"386.803125pt\" xmlns=\"http://www.w3.org/2000/svg\" xmlns:xlink=\"http://www.w3.org/1999/xlink\">\n",
              " <defs>\n",
              "  <style type=\"text/css\">\n",
              "*{stroke-linecap:butt;stroke-linejoin:round;}\n",
              "  </style>\n",
              " </defs>\n",
              " <g id=\"figure_1\">\n",
              "  <g id=\"patch_1\">\n",
              "   <path d=\"M 0 262.218125 \n",
              "L 386.803125 262.218125 \n",
              "L 386.803125 0 \n",
              "L 0 0 \n",
              "z\n",
              "\" style=\"fill:none;\"/>\n",
              "  </g>\n",
              "  <g id=\"axes_1\">\n",
              "   <g id=\"patch_2\">\n",
              "    <path d=\"M 44.803125 224.64 \n",
              "L 379.603125 224.64 \n",
              "L 379.603125 7.2 \n",
              "L 44.803125 7.2 \n",
              "z\n",
              "\" style=\"fill:#ffffff;\"/>\n",
              "   </g>\n",
              "   <g id=\"matplotlib.axis_1\">\n",
              "    <g id=\"xtick_1\">\n",
              "     <g id=\"line2d_1\">\n",
              "      <defs>\n",
              "       <path d=\"M 0 0 \n",
              "L 0 3.5 \n",
              "\" id=\"m9996f657aa\" style=\"stroke:#000000;stroke-width:0.8;\"/>\n",
              "      </defs>\n",
              "      <g>\n",
              "       <use style=\"stroke:#000000;stroke-width:0.8;\" x=\"60.021307\" xlink:href=\"#m9996f657aa\" y=\"224.64\"/>\n",
              "      </g>\n",
              "     </g>\n",
              "     <g id=\"text_1\">\n",
              "      <!-- 0 -->\n",
              "      <defs>\n",
              "       <path d=\"M 31.78125 66.40625 \n",
              "Q 24.171875 66.40625 20.328125 58.90625 \n",
              "Q 16.5 51.421875 16.5 36.375 \n",
              "Q 16.5 21.390625 20.328125 13.890625 \n",
              "Q 24.171875 6.390625 31.78125 6.390625 \n",
              "Q 39.453125 6.390625 43.28125 13.890625 \n",
              "Q 47.125 21.390625 47.125 36.375 \n",
              "Q 47.125 51.421875 43.28125 58.90625 \n",
              "Q 39.453125 66.40625 31.78125 66.40625 \n",
              "z\n",
              "M 31.78125 74.21875 \n",
              "Q 44.046875 74.21875 50.515625 64.515625 \n",
              "Q 56.984375 54.828125 56.984375 36.375 \n",
              "Q 56.984375 17.96875 50.515625 8.265625 \n",
              "Q 44.046875 -1.421875 31.78125 -1.421875 \n",
              "Q 19.53125 -1.421875 13.0625 8.265625 \n",
              "Q 6.59375 17.96875 6.59375 36.375 \n",
              "Q 6.59375 54.828125 13.0625 64.515625 \n",
              "Q 19.53125 74.21875 31.78125 74.21875 \n",
              "z\n",
              "\" id=\"DejaVuSans-48\"/>\n",
              "      </defs>\n",
              "      <g transform=\"translate(56.840057 239.238437)scale(0.1 -0.1)\">\n",
              "       <use xlink:href=\"#DejaVuSans-48\"/>\n",
              "      </g>\n",
              "     </g>\n",
              "    </g>\n",
              "    <g id=\"xtick_2\">\n",
              "     <g id=\"line2d_2\">\n",
              "      <g>\n",
              "       <use style=\"stroke:#000000;stroke-width:0.8;\" x=\"107.578125\" xlink:href=\"#m9996f657aa\" y=\"224.64\"/>\n",
              "      </g>\n",
              "     </g>\n",
              "     <g id=\"text_2\">\n",
              "      <!-- 5 -->\n",
              "      <defs>\n",
              "       <path d=\"M 10.796875 72.90625 \n",
              "L 49.515625 72.90625 \n",
              "L 49.515625 64.59375 \n",
              "L 19.828125 64.59375 \n",
              "L 19.828125 46.734375 \n",
              "Q 21.96875 47.46875 24.109375 47.828125 \n",
              "Q 26.265625 48.1875 28.421875 48.1875 \n",
              "Q 40.625 48.1875 47.75 41.5 \n",
              "Q 54.890625 34.8125 54.890625 23.390625 \n",
              "Q 54.890625 11.625 47.5625 5.09375 \n",
              "Q 40.234375 -1.421875 26.90625 -1.421875 \n",
              "Q 22.3125 -1.421875 17.546875 -0.640625 \n",
              "Q 12.796875 0.140625 7.71875 1.703125 \n",
              "L 7.71875 11.625 \n",
              "Q 12.109375 9.234375 16.796875 8.0625 \n",
              "Q 21.484375 6.890625 26.703125 6.890625 \n",
              "Q 35.15625 6.890625 40.078125 11.328125 \n",
              "Q 45.015625 15.765625 45.015625 23.390625 \n",
              "Q 45.015625 31 40.078125 35.4375 \n",
              "Q 35.15625 39.890625 26.703125 39.890625 \n",
              "Q 22.75 39.890625 18.8125 39.015625 \n",
              "Q 14.890625 38.140625 10.796875 36.28125 \n",
              "z\n",
              "\" id=\"DejaVuSans-53\"/>\n",
              "      </defs>\n",
              "      <g transform=\"translate(104.396875 239.238437)scale(0.1 -0.1)\">\n",
              "       <use xlink:href=\"#DejaVuSans-53\"/>\n",
              "      </g>\n",
              "     </g>\n",
              "    </g>\n",
              "    <g id=\"xtick_3\">\n",
              "     <g id=\"line2d_3\">\n",
              "      <g>\n",
              "       <use style=\"stroke:#000000;stroke-width:0.8;\" x=\"155.134943\" xlink:href=\"#m9996f657aa\" y=\"224.64\"/>\n",
              "      </g>\n",
              "     </g>\n",
              "     <g id=\"text_3\">\n",
              "      <!-- 10 -->\n",
              "      <defs>\n",
              "       <path d=\"M 12.40625 8.296875 \n",
              "L 28.515625 8.296875 \n",
              "L 28.515625 63.921875 \n",
              "L 10.984375 60.40625 \n",
              "L 10.984375 69.390625 \n",
              "L 28.421875 72.90625 \n",
              "L 38.28125 72.90625 \n",
              "L 38.28125 8.296875 \n",
              "L 54.390625 8.296875 \n",
              "L 54.390625 0 \n",
              "L 12.40625 0 \n",
              "z\n",
              "\" id=\"DejaVuSans-49\"/>\n",
              "      </defs>\n",
              "      <g transform=\"translate(148.772443 239.238437)scale(0.1 -0.1)\">\n",
              "       <use xlink:href=\"#DejaVuSans-49\"/>\n",
              "       <use x=\"63.623047\" xlink:href=\"#DejaVuSans-48\"/>\n",
              "      </g>\n",
              "     </g>\n",
              "    </g>\n",
              "    <g id=\"xtick_4\">\n",
              "     <g id=\"line2d_4\">\n",
              "      <g>\n",
              "       <use style=\"stroke:#000000;stroke-width:0.8;\" x=\"202.691761\" xlink:href=\"#m9996f657aa\" y=\"224.64\"/>\n",
              "      </g>\n",
              "     </g>\n",
              "     <g id=\"text_4\">\n",
              "      <!-- 15 -->\n",
              "      <g transform=\"translate(196.329261 239.238437)scale(0.1 -0.1)\">\n",
              "       <use xlink:href=\"#DejaVuSans-49\"/>\n",
              "       <use x=\"63.623047\" xlink:href=\"#DejaVuSans-53\"/>\n",
              "      </g>\n",
              "     </g>\n",
              "    </g>\n",
              "    <g id=\"xtick_5\">\n",
              "     <g id=\"line2d_5\">\n",
              "      <g>\n",
              "       <use style=\"stroke:#000000;stroke-width:0.8;\" x=\"250.24858\" xlink:href=\"#m9996f657aa\" y=\"224.64\"/>\n",
              "      </g>\n",
              "     </g>\n",
              "     <g id=\"text_5\">\n",
              "      <!-- 20 -->\n",
              "      <defs>\n",
              "       <path d=\"M 19.1875 8.296875 \n",
              "L 53.609375 8.296875 \n",
              "L 53.609375 0 \n",
              "L 7.328125 0 \n",
              "L 7.328125 8.296875 \n",
              "Q 12.9375 14.109375 22.625 23.890625 \n",
              "Q 32.328125 33.6875 34.8125 36.53125 \n",
              "Q 39.546875 41.84375 41.421875 45.53125 \n",
              "Q 43.3125 49.21875 43.3125 52.78125 \n",
              "Q 43.3125 58.59375 39.234375 62.25 \n",
              "Q 35.15625 65.921875 28.609375 65.921875 \n",
              "Q 23.96875 65.921875 18.8125 64.3125 \n",
              "Q 13.671875 62.703125 7.8125 59.421875 \n",
              "L 7.8125 69.390625 \n",
              "Q 13.765625 71.78125 18.9375 73 \n",
              "Q 24.125 74.21875 28.421875 74.21875 \n",
              "Q 39.75 74.21875 46.484375 68.546875 \n",
              "Q 53.21875 62.890625 53.21875 53.421875 \n",
              "Q 53.21875 48.921875 51.53125 44.890625 \n",
              "Q 49.859375 40.875 45.40625 35.40625 \n",
              "Q 44.1875 33.984375 37.640625 27.21875 \n",
              "Q 31.109375 20.453125 19.1875 8.296875 \n",
              "z\n",
              "\" id=\"DejaVuSans-50\"/>\n",
              "      </defs>\n",
              "      <g transform=\"translate(243.88608 239.238437)scale(0.1 -0.1)\">\n",
              "       <use xlink:href=\"#DejaVuSans-50\"/>\n",
              "       <use x=\"63.623047\" xlink:href=\"#DejaVuSans-48\"/>\n",
              "      </g>\n",
              "     </g>\n",
              "    </g>\n",
              "    <g id=\"xtick_6\">\n",
              "     <g id=\"line2d_6\">\n",
              "      <g>\n",
              "       <use style=\"stroke:#000000;stroke-width:0.8;\" x=\"297.805398\" xlink:href=\"#m9996f657aa\" y=\"224.64\"/>\n",
              "      </g>\n",
              "     </g>\n",
              "     <g id=\"text_6\">\n",
              "      <!-- 25 -->\n",
              "      <g transform=\"translate(291.442898 239.238437)scale(0.1 -0.1)\">\n",
              "       <use xlink:href=\"#DejaVuSans-50\"/>\n",
              "       <use x=\"63.623047\" xlink:href=\"#DejaVuSans-53\"/>\n",
              "      </g>\n",
              "     </g>\n",
              "    </g>\n",
              "    <g id=\"xtick_7\">\n",
              "     <g id=\"line2d_7\">\n",
              "      <g>\n",
              "       <use style=\"stroke:#000000;stroke-width:0.8;\" x=\"345.362216\" xlink:href=\"#m9996f657aa\" y=\"224.64\"/>\n",
              "      </g>\n",
              "     </g>\n",
              "     <g id=\"text_7\">\n",
              "      <!-- 30 -->\n",
              "      <defs>\n",
              "       <path d=\"M 40.578125 39.3125 \n",
              "Q 47.65625 37.796875 51.625 33 \n",
              "Q 55.609375 28.21875 55.609375 21.1875 \n",
              "Q 55.609375 10.40625 48.1875 4.484375 \n",
              "Q 40.765625 -1.421875 27.09375 -1.421875 \n",
              "Q 22.515625 -1.421875 17.65625 -0.515625 \n",
              "Q 12.796875 0.390625 7.625 2.203125 \n",
              "L 7.625 11.71875 \n",
              "Q 11.71875 9.328125 16.59375 8.109375 \n",
              "Q 21.484375 6.890625 26.8125 6.890625 \n",
              "Q 36.078125 6.890625 40.9375 10.546875 \n",
              "Q 45.796875 14.203125 45.796875 21.1875 \n",
              "Q 45.796875 27.640625 41.28125 31.265625 \n",
              "Q 36.765625 34.90625 28.71875 34.90625 \n",
              "L 20.21875 34.90625 \n",
              "L 20.21875 43.015625 \n",
              "L 29.109375 43.015625 \n",
              "Q 36.375 43.015625 40.234375 45.921875 \n",
              "Q 44.09375 48.828125 44.09375 54.296875 \n",
              "Q 44.09375 59.90625 40.109375 62.90625 \n",
              "Q 36.140625 65.921875 28.71875 65.921875 \n",
              "Q 24.65625 65.921875 20.015625 65.03125 \n",
              "Q 15.375 64.15625 9.8125 62.3125 \n",
              "L 9.8125 71.09375 \n",
              "Q 15.4375 72.65625 20.34375 73.4375 \n",
              "Q 25.25 74.21875 29.59375 74.21875 \n",
              "Q 40.828125 74.21875 47.359375 69.109375 \n",
              "Q 53.90625 64.015625 53.90625 55.328125 \n",
              "Q 53.90625 49.265625 50.4375 45.09375 \n",
              "Q 46.96875 40.921875 40.578125 39.3125 \n",
              "z\n",
              "\" id=\"DejaVuSans-51\"/>\n",
              "      </defs>\n",
              "      <g transform=\"translate(338.999716 239.238437)scale(0.1 -0.1)\">\n",
              "       <use xlink:href=\"#DejaVuSans-51\"/>\n",
              "       <use x=\"63.623047\" xlink:href=\"#DejaVuSans-48\"/>\n",
              "      </g>\n",
              "     </g>\n",
              "    </g>\n",
              "    <g id=\"text_8\">\n",
              "     <!-- Frase $j$ -->\n",
              "     <defs>\n",
              "      <path d=\"M 9.8125 72.90625 \n",
              "L 51.703125 72.90625 \n",
              "L 51.703125 64.59375 \n",
              "L 19.671875 64.59375 \n",
              "L 19.671875 43.109375 \n",
              "L 48.578125 43.109375 \n",
              "L 48.578125 34.8125 \n",
              "L 19.671875 34.8125 \n",
              "L 19.671875 0 \n",
              "L 9.8125 0 \n",
              "z\n",
              "\" id=\"DejaVuSans-70\"/>\n",
              "      <path d=\"M 41.109375 46.296875 \n",
              "Q 39.59375 47.171875 37.8125 47.578125 \n",
              "Q 36.03125 48 33.890625 48 \n",
              "Q 26.265625 48 22.1875 43.046875 \n",
              "Q 18.109375 38.09375 18.109375 28.8125 \n",
              "L 18.109375 0 \n",
              "L 9.078125 0 \n",
              "L 9.078125 54.6875 \n",
              "L 18.109375 54.6875 \n",
              "L 18.109375 46.1875 \n",
              "Q 20.953125 51.171875 25.484375 53.578125 \n",
              "Q 30.03125 56 36.53125 56 \n",
              "Q 37.453125 56 38.578125 55.875 \n",
              "Q 39.703125 55.765625 41.0625 55.515625 \n",
              "z\n",
              "\" id=\"DejaVuSans-114\"/>\n",
              "      <path d=\"M 34.28125 27.484375 \n",
              "Q 23.390625 27.484375 19.1875 25 \n",
              "Q 14.984375 22.515625 14.984375 16.5 \n",
              "Q 14.984375 11.71875 18.140625 8.90625 \n",
              "Q 21.296875 6.109375 26.703125 6.109375 \n",
              "Q 34.1875 6.109375 38.703125 11.40625 \n",
              "Q 43.21875 16.703125 43.21875 25.484375 \n",
              "L 43.21875 27.484375 \n",
              "z\n",
              "M 52.203125 31.203125 \n",
              "L 52.203125 0 \n",
              "L 43.21875 0 \n",
              "L 43.21875 8.296875 \n",
              "Q 40.140625 3.328125 35.546875 0.953125 \n",
              "Q 30.953125 -1.421875 24.3125 -1.421875 \n",
              "Q 15.921875 -1.421875 10.953125 3.296875 \n",
              "Q 6 8.015625 6 15.921875 \n",
              "Q 6 25.140625 12.171875 29.828125 \n",
              "Q 18.359375 34.515625 30.609375 34.515625 \n",
              "L 43.21875 34.515625 \n",
              "L 43.21875 35.40625 \n",
              "Q 43.21875 41.609375 39.140625 45 \n",
              "Q 35.0625 48.390625 27.6875 48.390625 \n",
              "Q 23 48.390625 18.546875 47.265625 \n",
              "Q 14.109375 46.140625 10.015625 43.890625 \n",
              "L 10.015625 52.203125 \n",
              "Q 14.9375 54.109375 19.578125 55.046875 \n",
              "Q 24.21875 56 28.609375 56 \n",
              "Q 40.484375 56 46.34375 49.84375 \n",
              "Q 52.203125 43.703125 52.203125 31.203125 \n",
              "z\n",
              "\" id=\"DejaVuSans-97\"/>\n",
              "      <path d=\"M 44.28125 53.078125 \n",
              "L 44.28125 44.578125 \n",
              "Q 40.484375 46.53125 36.375 47.5 \n",
              "Q 32.28125 48.484375 27.875 48.484375 \n",
              "Q 21.1875 48.484375 17.84375 46.4375 \n",
              "Q 14.5 44.390625 14.5 40.28125 \n",
              "Q 14.5 37.15625 16.890625 35.375 \n",
              "Q 19.28125 33.59375 26.515625 31.984375 \n",
              "L 29.59375 31.296875 \n",
              "Q 39.15625 29.25 43.1875 25.515625 \n",
              "Q 47.21875 21.78125 47.21875 15.09375 \n",
              "Q 47.21875 7.46875 41.1875 3.015625 \n",
              "Q 35.15625 -1.421875 24.609375 -1.421875 \n",
              "Q 20.21875 -1.421875 15.453125 -0.5625 \n",
              "Q 10.6875 0.296875 5.421875 2 \n",
              "L 5.421875 11.28125 \n",
              "Q 10.40625 8.6875 15.234375 7.390625 \n",
              "Q 20.0625 6.109375 24.8125 6.109375 \n",
              "Q 31.15625 6.109375 34.5625 8.28125 \n",
              "Q 37.984375 10.453125 37.984375 14.40625 \n",
              "Q 37.984375 18.0625 35.515625 20.015625 \n",
              "Q 33.0625 21.96875 24.703125 23.78125 \n",
              "L 21.578125 24.515625 \n",
              "Q 13.234375 26.265625 9.515625 29.90625 \n",
              "Q 5.8125 33.546875 5.8125 39.890625 \n",
              "Q 5.8125 47.609375 11.28125 51.796875 \n",
              "Q 16.75 56 26.8125 56 \n",
              "Q 31.78125 56 36.171875 55.265625 \n",
              "Q 40.578125 54.546875 44.28125 53.078125 \n",
              "z\n",
              "\" id=\"DejaVuSans-115\"/>\n",
              "      <path d=\"M 56.203125 29.59375 \n",
              "L 56.203125 25.203125 \n",
              "L 14.890625 25.203125 \n",
              "Q 15.484375 15.921875 20.484375 11.0625 \n",
              "Q 25.484375 6.203125 34.421875 6.203125 \n",
              "Q 39.59375 6.203125 44.453125 7.46875 \n",
              "Q 49.3125 8.734375 54.109375 11.28125 \n",
              "L 54.109375 2.78125 \n",
              "Q 49.265625 0.734375 44.1875 -0.34375 \n",
              "Q 39.109375 -1.421875 33.890625 -1.421875 \n",
              "Q 20.796875 -1.421875 13.15625 6.1875 \n",
              "Q 5.515625 13.8125 5.515625 26.8125 \n",
              "Q 5.515625 40.234375 12.765625 48.109375 \n",
              "Q 20.015625 56 32.328125 56 \n",
              "Q 43.359375 56 49.78125 48.890625 \n",
              "Q 56.203125 41.796875 56.203125 29.59375 \n",
              "z\n",
              "M 47.21875 32.234375 \n",
              "Q 47.125 39.59375 43.09375 43.984375 \n",
              "Q 39.0625 48.390625 32.421875 48.390625 \n",
              "Q 24.90625 48.390625 20.390625 44.140625 \n",
              "Q 15.875 39.890625 15.1875 32.171875 \n",
              "z\n",
              "\" id=\"DejaVuSans-101\"/>\n",
              "      <path id=\"DejaVuSans-32\"/>\n",
              "      <path d=\"M 14.5 54.6875 \n",
              "L 23.484375 54.6875 \n",
              "L 12.703125 -0.984375 \n",
              "L 12.640625 -1.21875 \n",
              "Q 10.84375 -10.546875 8.5 -14.015625 \n",
              "Q 6.296875 -17.28125 2.0625 -19.03125 \n",
              "Q -2.15625 -20.796875 -7.90625 -20.796875 \n",
              "L -11.28125 -20.796875 \n",
              "L -9.8125 -13.1875 \n",
              "L -7.515625 -13.1875 \n",
              "Q -2.25 -13.1875 -0.015625 -10.984375 \n",
              "Q 2.203125 -8.796875 3.71875 -0.984375 \n",
              "z\n",
              "M 18.703125 75.984375 \n",
              "L 27.6875 75.984375 \n",
              "L 25.484375 64.59375 \n",
              "L 16.5 64.59375 \n",
              "z\n",
              "\" id=\"DejaVuSans-Oblique-106\"/>\n",
              "     </defs>\n",
              "     <g transform=\"translate(195.503125 252.918125)scale(0.1 -0.1)\">\n",
              "      <use transform=\"translate(0 0.015625)\" xlink:href=\"#DejaVuSans-70\"/>\n",
              "      <use transform=\"translate(57.519531 0.015625)\" xlink:href=\"#DejaVuSans-114\"/>\n",
              "      <use transform=\"translate(98.632812 0.015625)\" xlink:href=\"#DejaVuSans-97\"/>\n",
              "      <use transform=\"translate(159.912109 0.015625)\" xlink:href=\"#DejaVuSans-115\"/>\n",
              "      <use transform=\"translate(212.011719 0.015625)\" xlink:href=\"#DejaVuSans-101\"/>\n",
              "      <use transform=\"translate(273.535156 0.015625)\" xlink:href=\"#DejaVuSans-32\"/>\n",
              "      <use transform=\"translate(305.322266 0.015625)\" xlink:href=\"#DejaVuSans-Oblique-106\"/>\n",
              "     </g>\n",
              "    </g>\n",
              "   </g>\n",
              "   <g id=\"matplotlib.axis_2\">\n",
              "    <g id=\"ytick_1\">\n",
              "     <g id=\"line2d_8\">\n",
              "      <defs>\n",
              "       <path d=\"M 0 0 \n",
              "L -3.5 0 \n",
              "\" id=\"m1c33cce53f\" style=\"stroke:#000000;stroke-width:0.8;\"/>\n",
              "      </defs>\n",
              "      <g>\n",
              "       <use style=\"stroke:#000000;stroke-width:0.8;\" x=\"44.803125\" xlink:href=\"#m1c33cce53f\" y=\"214.756364\"/>\n",
              "      </g>\n",
              "     </g>\n",
              "     <g id=\"text_9\">\n",
              "      <!-- 0.0 -->\n",
              "      <defs>\n",
              "       <path d=\"M 10.6875 12.40625 \n",
              "L 21 12.40625 \n",
              "L 21 0 \n",
              "L 10.6875 0 \n",
              "z\n",
              "\" id=\"DejaVuSans-46\"/>\n",
              "      </defs>\n",
              "      <g transform=\"translate(21.9 218.555582)scale(0.1 -0.1)\">\n",
              "       <use xlink:href=\"#DejaVuSans-48\"/>\n",
              "       <use x=\"63.623047\" xlink:href=\"#DejaVuSans-46\"/>\n",
              "       <use x=\"95.410156\" xlink:href=\"#DejaVuSans-48\"/>\n",
              "      </g>\n",
              "     </g>\n",
              "    </g>\n",
              "    <g id=\"ytick_2\">\n",
              "     <g id=\"line2d_9\">\n",
              "      <g>\n",
              "       <use style=\"stroke:#000000;stroke-width:0.8;\" x=\"44.803125\" xlink:href=\"#m1c33cce53f\" y=\"188.729554\"/>\n",
              "      </g>\n",
              "     </g>\n",
              "     <g id=\"text_10\">\n",
              "      <!-- 0.1 -->\n",
              "      <g transform=\"translate(21.9 192.528773)scale(0.1 -0.1)\">\n",
              "       <use xlink:href=\"#DejaVuSans-48\"/>\n",
              "       <use x=\"63.623047\" xlink:href=\"#DejaVuSans-46\"/>\n",
              "       <use x=\"95.410156\" xlink:href=\"#DejaVuSans-49\"/>\n",
              "      </g>\n",
              "     </g>\n",
              "    </g>\n",
              "    <g id=\"ytick_3\">\n",
              "     <g id=\"line2d_10\">\n",
              "      <g>\n",
              "       <use style=\"stroke:#000000;stroke-width:0.8;\" x=\"44.803125\" xlink:href=\"#m1c33cce53f\" y=\"162.702744\"/>\n",
              "      </g>\n",
              "     </g>\n",
              "     <g id=\"text_11\">\n",
              "      <!-- 0.2 -->\n",
              "      <g transform=\"translate(21.9 166.501963)scale(0.1 -0.1)\">\n",
              "       <use xlink:href=\"#DejaVuSans-48\"/>\n",
              "       <use x=\"63.623047\" xlink:href=\"#DejaVuSans-46\"/>\n",
              "       <use x=\"95.410156\" xlink:href=\"#DejaVuSans-50\"/>\n",
              "      </g>\n",
              "     </g>\n",
              "    </g>\n",
              "    <g id=\"ytick_4\">\n",
              "     <g id=\"line2d_11\">\n",
              "      <g>\n",
              "       <use style=\"stroke:#000000;stroke-width:0.8;\" x=\"44.803125\" xlink:href=\"#m1c33cce53f\" y=\"136.675934\"/>\n",
              "      </g>\n",
              "     </g>\n",
              "     <g id=\"text_12\">\n",
              "      <!-- 0.3 -->\n",
              "      <g transform=\"translate(21.9 140.475153)scale(0.1 -0.1)\">\n",
              "       <use xlink:href=\"#DejaVuSans-48\"/>\n",
              "       <use x=\"63.623047\" xlink:href=\"#DejaVuSans-46\"/>\n",
              "       <use x=\"95.410156\" xlink:href=\"#DejaVuSans-51\"/>\n",
              "      </g>\n",
              "     </g>\n",
              "    </g>\n",
              "    <g id=\"ytick_5\">\n",
              "     <g id=\"line2d_12\">\n",
              "      <g>\n",
              "       <use style=\"stroke:#000000;stroke-width:0.8;\" x=\"44.803125\" xlink:href=\"#m1c33cce53f\" y=\"110.649125\"/>\n",
              "      </g>\n",
              "     </g>\n",
              "     <g id=\"text_13\">\n",
              "      <!-- 0.4 -->\n",
              "      <defs>\n",
              "       <path d=\"M 37.796875 64.3125 \n",
              "L 12.890625 25.390625 \n",
              "L 37.796875 25.390625 \n",
              "z\n",
              "M 35.203125 72.90625 \n",
              "L 47.609375 72.90625 \n",
              "L 47.609375 25.390625 \n",
              "L 58.015625 25.390625 \n",
              "L 58.015625 17.1875 \n",
              "L 47.609375 17.1875 \n",
              "L 47.609375 0 \n",
              "L 37.796875 0 \n",
              "L 37.796875 17.1875 \n",
              "L 4.890625 17.1875 \n",
              "L 4.890625 26.703125 \n",
              "z\n",
              "\" id=\"DejaVuSans-52\"/>\n",
              "      </defs>\n",
              "      <g transform=\"translate(21.9 114.448343)scale(0.1 -0.1)\">\n",
              "       <use xlink:href=\"#DejaVuSans-48\"/>\n",
              "       <use x=\"63.623047\" xlink:href=\"#DejaVuSans-46\"/>\n",
              "       <use x=\"95.410156\" xlink:href=\"#DejaVuSans-52\"/>\n",
              "      </g>\n",
              "     </g>\n",
              "    </g>\n",
              "    <g id=\"ytick_6\">\n",
              "     <g id=\"line2d_13\">\n",
              "      <g>\n",
              "       <use style=\"stroke:#000000;stroke-width:0.8;\" x=\"44.803125\" xlink:href=\"#m1c33cce53f\" y=\"84.622315\"/>\n",
              "      </g>\n",
              "     </g>\n",
              "     <g id=\"text_14\">\n",
              "      <!-- 0.5 -->\n",
              "      <g transform=\"translate(21.9 88.421534)scale(0.1 -0.1)\">\n",
              "       <use xlink:href=\"#DejaVuSans-48\"/>\n",
              "       <use x=\"63.623047\" xlink:href=\"#DejaVuSans-46\"/>\n",
              "       <use x=\"95.410156\" xlink:href=\"#DejaVuSans-53\"/>\n",
              "      </g>\n",
              "     </g>\n",
              "    </g>\n",
              "    <g id=\"ytick_7\">\n",
              "     <g id=\"line2d_14\">\n",
              "      <g>\n",
              "       <use style=\"stroke:#000000;stroke-width:0.8;\" x=\"44.803125\" xlink:href=\"#m1c33cce53f\" y=\"58.595505\"/>\n",
              "      </g>\n",
              "     </g>\n",
              "     <g id=\"text_15\">\n",
              "      <!-- 0.6 -->\n",
              "      <defs>\n",
              "       <path d=\"M 33.015625 40.375 \n",
              "Q 26.375 40.375 22.484375 35.828125 \n",
              "Q 18.609375 31.296875 18.609375 23.390625 \n",
              "Q 18.609375 15.53125 22.484375 10.953125 \n",
              "Q 26.375 6.390625 33.015625 6.390625 \n",
              "Q 39.65625 6.390625 43.53125 10.953125 \n",
              "Q 47.40625 15.53125 47.40625 23.390625 \n",
              "Q 47.40625 31.296875 43.53125 35.828125 \n",
              "Q 39.65625 40.375 33.015625 40.375 \n",
              "z\n",
              "M 52.59375 71.296875 \n",
              "L 52.59375 62.3125 \n",
              "Q 48.875 64.0625 45.09375 64.984375 \n",
              "Q 41.3125 65.921875 37.59375 65.921875 \n",
              "Q 27.828125 65.921875 22.671875 59.328125 \n",
              "Q 17.53125 52.734375 16.796875 39.40625 \n",
              "Q 19.671875 43.65625 24.015625 45.921875 \n",
              "Q 28.375 48.1875 33.59375 48.1875 \n",
              "Q 44.578125 48.1875 50.953125 41.515625 \n",
              "Q 57.328125 34.859375 57.328125 23.390625 \n",
              "Q 57.328125 12.15625 50.6875 5.359375 \n",
              "Q 44.046875 -1.421875 33.015625 -1.421875 \n",
              "Q 20.359375 -1.421875 13.671875 8.265625 \n",
              "Q 6.984375 17.96875 6.984375 36.375 \n",
              "Q 6.984375 53.65625 15.1875 63.9375 \n",
              "Q 23.390625 74.21875 37.203125 74.21875 \n",
              "Q 40.921875 74.21875 44.703125 73.484375 \n",
              "Q 48.484375 72.75 52.59375 71.296875 \n",
              "z\n",
              "\" id=\"DejaVuSans-54\"/>\n",
              "      </defs>\n",
              "      <g transform=\"translate(21.9 62.394724)scale(0.1 -0.1)\">\n",
              "       <use xlink:href=\"#DejaVuSans-48\"/>\n",
              "       <use x=\"63.623047\" xlink:href=\"#DejaVuSans-46\"/>\n",
              "       <use x=\"95.410156\" xlink:href=\"#DejaVuSans-54\"/>\n",
              "      </g>\n",
              "     </g>\n",
              "    </g>\n",
              "    <g id=\"ytick_8\">\n",
              "     <g id=\"line2d_15\">\n",
              "      <g>\n",
              "       <use style=\"stroke:#000000;stroke-width:0.8;\" x=\"44.803125\" xlink:href=\"#m1c33cce53f\" y=\"32.568695\"/>\n",
              "      </g>\n",
              "     </g>\n",
              "     <g id=\"text_16\">\n",
              "      <!-- 0.7 -->\n",
              "      <defs>\n",
              "       <path d=\"M 8.203125 72.90625 \n",
              "L 55.078125 72.90625 \n",
              "L 55.078125 68.703125 \n",
              "L 28.609375 0 \n",
              "L 18.3125 0 \n",
              "L 43.21875 64.59375 \n",
              "L 8.203125 64.59375 \n",
              "z\n",
              "\" id=\"DejaVuSans-55\"/>\n",
              "      </defs>\n",
              "      <g transform=\"translate(21.9 36.367914)scale(0.1 -0.1)\">\n",
              "       <use xlink:href=\"#DejaVuSans-48\"/>\n",
              "       <use x=\"63.623047\" xlink:href=\"#DejaVuSans-46\"/>\n",
              "       <use x=\"95.410156\" xlink:href=\"#DejaVuSans-55\"/>\n",
              "      </g>\n",
              "     </g>\n",
              "    </g>\n",
              "    <g id=\"text_17\">\n",
              "     <!-- Saliency score $s_j$ -->\n",
              "     <defs>\n",
              "      <path d=\"M 53.515625 70.515625 \n",
              "L 53.515625 60.890625 \n",
              "Q 47.90625 63.578125 42.921875 64.890625 \n",
              "Q 37.9375 66.21875 33.296875 66.21875 \n",
              "Q 25.25 66.21875 20.875 63.09375 \n",
              "Q 16.5 59.96875 16.5 54.203125 \n",
              "Q 16.5 49.359375 19.40625 46.890625 \n",
              "Q 22.3125 44.4375 30.421875 42.921875 \n",
              "L 36.375 41.703125 \n",
              "Q 47.40625 39.59375 52.65625 34.296875 \n",
              "Q 57.90625 29 57.90625 20.125 \n",
              "Q 57.90625 9.515625 50.796875 4.046875 \n",
              "Q 43.703125 -1.421875 29.984375 -1.421875 \n",
              "Q 24.8125 -1.421875 18.96875 -0.25 \n",
              "Q 13.140625 0.921875 6.890625 3.21875 \n",
              "L 6.890625 13.375 \n",
              "Q 12.890625 10.015625 18.65625 8.296875 \n",
              "Q 24.421875 6.59375 29.984375 6.59375 \n",
              "Q 38.421875 6.59375 43.015625 9.90625 \n",
              "Q 47.609375 13.234375 47.609375 19.390625 \n",
              "Q 47.609375 24.75 44.3125 27.78125 \n",
              "Q 41.015625 30.8125 33.5 32.328125 \n",
              "L 27.484375 33.5 \n",
              "Q 16.453125 35.6875 11.515625 40.375 \n",
              "Q 6.59375 45.0625 6.59375 53.421875 \n",
              "Q 6.59375 63.09375 13.40625 68.65625 \n",
              "Q 20.21875 74.21875 32.171875 74.21875 \n",
              "Q 37.3125 74.21875 42.625 73.28125 \n",
              "Q 47.953125 72.359375 53.515625 70.515625 \n",
              "z\n",
              "\" id=\"DejaVuSans-83\"/>\n",
              "      <path d=\"M 9.421875 75.984375 \n",
              "L 18.40625 75.984375 \n",
              "L 18.40625 0 \n",
              "L 9.421875 0 \n",
              "z\n",
              "\" id=\"DejaVuSans-108\"/>\n",
              "      <path d=\"M 9.421875 54.6875 \n",
              "L 18.40625 54.6875 \n",
              "L 18.40625 0 \n",
              "L 9.421875 0 \n",
              "z\n",
              "M 9.421875 75.984375 \n",
              "L 18.40625 75.984375 \n",
              "L 18.40625 64.59375 \n",
              "L 9.421875 64.59375 \n",
              "z\n",
              "\" id=\"DejaVuSans-105\"/>\n",
              "      <path d=\"M 54.890625 33.015625 \n",
              "L 54.890625 0 \n",
              "L 45.90625 0 \n",
              "L 45.90625 32.71875 \n",
              "Q 45.90625 40.484375 42.875 44.328125 \n",
              "Q 39.84375 48.1875 33.796875 48.1875 \n",
              "Q 26.515625 48.1875 22.3125 43.546875 \n",
              "Q 18.109375 38.921875 18.109375 30.90625 \n",
              "L 18.109375 0 \n",
              "L 9.078125 0 \n",
              "L 9.078125 54.6875 \n",
              "L 18.109375 54.6875 \n",
              "L 18.109375 46.1875 \n",
              "Q 21.34375 51.125 25.703125 53.5625 \n",
              "Q 30.078125 56 35.796875 56 \n",
              "Q 45.21875 56 50.046875 50.171875 \n",
              "Q 54.890625 44.34375 54.890625 33.015625 \n",
              "z\n",
              "\" id=\"DejaVuSans-110\"/>\n",
              "      <path d=\"M 48.78125 52.59375 \n",
              "L 48.78125 44.1875 \n",
              "Q 44.96875 46.296875 41.140625 47.34375 \n",
              "Q 37.3125 48.390625 33.40625 48.390625 \n",
              "Q 24.65625 48.390625 19.8125 42.84375 \n",
              "Q 14.984375 37.3125 14.984375 27.296875 \n",
              "Q 14.984375 17.28125 19.8125 11.734375 \n",
              "Q 24.65625 6.203125 33.40625 6.203125 \n",
              "Q 37.3125 6.203125 41.140625 7.25 \n",
              "Q 44.96875 8.296875 48.78125 10.40625 \n",
              "L 48.78125 2.09375 \n",
              "Q 45.015625 0.34375 40.984375 -0.53125 \n",
              "Q 36.96875 -1.421875 32.421875 -1.421875 \n",
              "Q 20.0625 -1.421875 12.78125 6.34375 \n",
              "Q 5.515625 14.109375 5.515625 27.296875 \n",
              "Q 5.515625 40.671875 12.859375 48.328125 \n",
              "Q 20.21875 56 33.015625 56 \n",
              "Q 37.15625 56 41.109375 55.140625 \n",
              "Q 45.0625 54.296875 48.78125 52.59375 \n",
              "z\n",
              "\" id=\"DejaVuSans-99\"/>\n",
              "      <path d=\"M 32.171875 -5.078125 \n",
              "Q 28.375 -14.84375 24.75 -17.8125 \n",
              "Q 21.140625 -20.796875 15.09375 -20.796875 \n",
              "L 7.90625 -20.796875 \n",
              "L 7.90625 -13.28125 \n",
              "L 13.1875 -13.28125 \n",
              "Q 16.890625 -13.28125 18.9375 -11.515625 \n",
              "Q 21 -9.765625 23.484375 -3.21875 \n",
              "L 25.09375 0.875 \n",
              "L 2.984375 54.6875 \n",
              "L 12.5 54.6875 \n",
              "L 29.59375 11.921875 \n",
              "L 46.6875 54.6875 \n",
              "L 56.203125 54.6875 \n",
              "z\n",
              "\" id=\"DejaVuSans-121\"/>\n",
              "      <path d=\"M 30.609375 48.390625 \n",
              "Q 23.390625 48.390625 19.1875 42.75 \n",
              "Q 14.984375 37.109375 14.984375 27.296875 \n",
              "Q 14.984375 17.484375 19.15625 11.84375 \n",
              "Q 23.34375 6.203125 30.609375 6.203125 \n",
              "Q 37.796875 6.203125 41.984375 11.859375 \n",
              "Q 46.1875 17.53125 46.1875 27.296875 \n",
              "Q 46.1875 37.015625 41.984375 42.703125 \n",
              "Q 37.796875 48.390625 30.609375 48.390625 \n",
              "z\n",
              "M 30.609375 56 \n",
              "Q 42.328125 56 49.015625 48.375 \n",
              "Q 55.71875 40.765625 55.71875 27.296875 \n",
              "Q 55.71875 13.875 49.015625 6.21875 \n",
              "Q 42.328125 -1.421875 30.609375 -1.421875 \n",
              "Q 18.84375 -1.421875 12.171875 6.21875 \n",
              "Q 5.515625 13.875 5.515625 27.296875 \n",
              "Q 5.515625 40.765625 12.171875 48.375 \n",
              "Q 18.84375 56 30.609375 56 \n",
              "z\n",
              "\" id=\"DejaVuSans-111\"/>\n",
              "      <path d=\"M 50 53.078125 \n",
              "L 48.296875 44.578125 \n",
              "Q 44.734375 46.53125 40.765625 47.5 \n",
              "Q 36.8125 48.484375 32.625 48.484375 \n",
              "Q 25.53125 48.484375 21.453125 46.0625 \n",
              "Q 17.390625 43.65625 17.390625 39.5 \n",
              "Q 17.390625 34.671875 26.859375 32.078125 \n",
              "Q 27.59375 31.890625 27.9375 31.78125 \n",
              "L 30.8125 30.90625 \n",
              "Q 39.796875 28.421875 42.796875 25.6875 \n",
              "Q 45.796875 22.953125 45.796875 18.21875 \n",
              "Q 45.796875 9.515625 38.890625 4.046875 \n",
              "Q 31.984375 -1.421875 20.796875 -1.421875 \n",
              "Q 16.453125 -1.421875 11.671875 -0.578125 \n",
              "Q 6.890625 0.25 1.125 2 \n",
              "L 2.875 11.28125 \n",
              "Q 7.8125 8.734375 12.59375 7.421875 \n",
              "Q 17.390625 6.109375 21.78125 6.109375 \n",
              "Q 28.375 6.109375 32.5 8.9375 \n",
              "Q 36.625 11.765625 36.625 16.109375 \n",
              "Q 36.625 20.796875 25.78125 23.6875 \n",
              "L 24.859375 23.921875 \n",
              "L 21.78125 24.703125 \n",
              "Q 14.9375 26.515625 11.765625 29.46875 \n",
              "Q 8.59375 32.421875 8.59375 37.015625 \n",
              "Q 8.59375 45.75 15.15625 50.875 \n",
              "Q 21.734375 56 33.015625 56 \n",
              "Q 37.453125 56 41.671875 55.265625 \n",
              "Q 45.90625 54.546875 50 53.078125 \n",
              "z\n",
              "\" id=\"DejaVuSans-Oblique-115\"/>\n",
              "     </defs>\n",
              "     <g transform=\"translate(14.8 157.37)rotate(-90)scale(0.1 -0.1)\">\n",
              "      <use transform=\"translate(0 0.015625)\" xlink:href=\"#DejaVuSans-83\"/>\n",
              "      <use transform=\"translate(63.476562 0.015625)\" xlink:href=\"#DejaVuSans-97\"/>\n",
              "      <use transform=\"translate(124.755859 0.015625)\" xlink:href=\"#DejaVuSans-108\"/>\n",
              "      <use transform=\"translate(152.539062 0.015625)\" xlink:href=\"#DejaVuSans-105\"/>\n",
              "      <use transform=\"translate(180.322266 0.015625)\" xlink:href=\"#DejaVuSans-101\"/>\n",
              "      <use transform=\"translate(241.845703 0.015625)\" xlink:href=\"#DejaVuSans-110\"/>\n",
              "      <use transform=\"translate(305.224609 0.015625)\" xlink:href=\"#DejaVuSans-99\"/>\n",
              "      <use transform=\"translate(360.205078 0.015625)\" xlink:href=\"#DejaVuSans-121\"/>\n",
              "      <use transform=\"translate(419.384766 0.015625)\" xlink:href=\"#DejaVuSans-32\"/>\n",
              "      <use transform=\"translate(451.171875 0.015625)\" xlink:href=\"#DejaVuSans-115\"/>\n",
              "      <use transform=\"translate(503.271484 0.015625)\" xlink:href=\"#DejaVuSans-99\"/>\n",
              "      <use transform=\"translate(558.251953 0.015625)\" xlink:href=\"#DejaVuSans-111\"/>\n",
              "      <use transform=\"translate(619.433594 0.015625)\" xlink:href=\"#DejaVuSans-114\"/>\n",
              "      <use transform=\"translate(660.546875 0.015625)\" xlink:href=\"#DejaVuSans-101\"/>\n",
              "      <use transform=\"translate(722.070312 0.015625)\" xlink:href=\"#DejaVuSans-32\"/>\n",
              "      <use transform=\"translate(753.857422 0.015625)\" xlink:href=\"#DejaVuSans-Oblique-115\"/>\n",
              "      <use transform=\"translate(805.957031 -16.390625)scale(0.7)\" xlink:href=\"#DejaVuSans-Oblique-106\"/>\n",
              "     </g>\n",
              "    </g>\n",
              "   </g>\n",
              "   <g id=\"LineCollection_1\">\n",
              "    <path clip-path=\"url(#pfdcf6e9322)\" d=\"M 60.021307 214.756364 \n",
              "L 60.021307 53.187012 \n",
              "\" style=\"fill:none;stroke:#1f77b4;stroke-width:1.5;\"/>\n",
              "    <path clip-path=\"url(#pfdcf6e9322)\" d=\"M 69.53267 214.756364 \n",
              "L 69.53267 77.473342 \n",
              "\" style=\"fill:none;stroke:#1f77b4;stroke-width:1.5;\"/>\n",
              "    <path clip-path=\"url(#pfdcf6e9322)\" d=\"M 79.044034 214.756364 \n",
              "L 79.044034 94.238428 \n",
              "\" style=\"fill:none;stroke:#1f77b4;stroke-width:1.5;\"/>\n",
              "    <path clip-path=\"url(#pfdcf6e9322)\" d=\"M 88.555398 214.756364 \n",
              "L 88.555398 116.328129 \n",
              "\" style=\"fill:none;stroke:#1f77b4;stroke-width:1.5;\"/>\n",
              "    <path clip-path=\"url(#pfdcf6e9322)\" d=\"M 98.066761 214.756364 \n",
              "L 98.066761 51.765477 \n",
              "\" style=\"fill:none;stroke:#1f77b4;stroke-width:1.5;\"/>\n",
              "    <path clip-path=\"url(#pfdcf6e9322)\" d=\"M 107.578125 214.756364 \n",
              "L 107.578125 154.577909 \n",
              "\" style=\"fill:none;stroke:#1f77b4;stroke-width:1.5;\"/>\n",
              "    <path clip-path=\"url(#pfdcf6e9322)\" d=\"M 117.089489 214.756364 \n",
              "L 117.089489 122.61228 \n",
              "\" style=\"fill:none;stroke:#1f77b4;stroke-width:1.5;\"/>\n",
              "    <path clip-path=\"url(#pfdcf6e9322)\" d=\"M 126.600852 214.756364 \n",
              "L 126.600852 79.100846 \n",
              "\" style=\"fill:none;stroke:#1f77b4;stroke-width:1.5;\"/>\n",
              "    <path clip-path=\"url(#pfdcf6e9322)\" d=\"M 136.112216 214.756364 \n",
              "L 136.112216 91.746196 \n",
              "\" style=\"fill:none;stroke:#1f77b4;stroke-width:1.5;\"/>\n",
              "    <path clip-path=\"url(#pfdcf6e9322)\" d=\"M 145.62358 214.756364 \n",
              "L 145.62358 76.384487 \n",
              "\" style=\"fill:none;stroke:#1f77b4;stroke-width:1.5;\"/>\n",
              "    <path clip-path=\"url(#pfdcf6e9322)\" d=\"M 155.134943 214.756364 \n",
              "L 155.134943 77.515258 \n",
              "\" style=\"fill:none;stroke:#1f77b4;stroke-width:1.5;\"/>\n",
              "    <path clip-path=\"url(#pfdcf6e9322)\" d=\"M 164.646307 214.756364 \n",
              "L 164.646307 52.709547 \n",
              "\" style=\"fill:none;stroke:#1f77b4;stroke-width:1.5;\"/>\n",
              "    <path clip-path=\"url(#pfdcf6e9322)\" d=\"M 174.15767 214.756364 \n",
              "L 174.15767 93.604706 \n",
              "\" style=\"fill:none;stroke:#1f77b4;stroke-width:1.5;\"/>\n",
              "    <path clip-path=\"url(#pfdcf6e9322)\" d=\"M 183.669034 214.756364 \n",
              "L 183.669034 55.723791 \n",
              "\" style=\"fill:none;stroke:#1f77b4;stroke-width:1.5;\"/>\n",
              "    <path clip-path=\"url(#pfdcf6e9322)\" d=\"M 193.180398 214.756364 \n",
              "L 193.180398 48.448664 \n",
              "\" style=\"fill:none;stroke:#1f77b4;stroke-width:1.5;\"/>\n",
              "    <path clip-path=\"url(#pfdcf6e9322)\" d=\"M 202.691761 214.756364 \n",
              "L 202.691761 86.384799 \n",
              "\" style=\"fill:none;stroke:#1f77b4;stroke-width:1.5;\"/>\n",
              "    <path clip-path=\"url(#pfdcf6e9322)\" d=\"M 212.203125 214.756364 \n",
              "L 212.203125 169.24832 \n",
              "\" style=\"fill:none;stroke:#1f77b4;stroke-width:1.5;\"/>\n",
              "    <path clip-path=\"url(#pfdcf6e9322)\" d=\"M 221.714489 214.756364 \n",
              "L 221.714489 65.03417 \n",
              "\" style=\"fill:none;stroke:#1f77b4;stroke-width:1.5;\"/>\n",
              "    <path clip-path=\"url(#pfdcf6e9322)\" d=\"M 231.225852 214.756364 \n",
              "L 231.225852 102.920779 \n",
              "\" style=\"fill:none;stroke:#1f77b4;stroke-width:1.5;\"/>\n",
              "    <path clip-path=\"url(#pfdcf6e9322)\" d=\"M 240.737216 214.756364 \n",
              "L 240.737216 66.283307 \n",
              "\" style=\"fill:none;stroke:#1f77b4;stroke-width:1.5;\"/>\n",
              "    <path clip-path=\"url(#pfdcf6e9322)\" d=\"M 250.24858 214.756364 \n",
              "L 250.24858 108.416644 \n",
              "\" style=\"fill:none;stroke:#1f77b4;stroke-width:1.5;\"/>\n",
              "    <path clip-path=\"url(#pfdcf6e9322)\" d=\"M 259.759943 214.756364 \n",
              "L 259.759943 57.485887 \n",
              "\" style=\"fill:none;stroke:#1f77b4;stroke-width:1.5;\"/>\n",
              "    <path clip-path=\"url(#pfdcf6e9322)\" d=\"M 269.271307 214.756364 \n",
              "L 269.271307 88.431532 \n",
              "\" style=\"fill:none;stroke:#1f77b4;stroke-width:1.5;\"/>\n",
              "    <path clip-path=\"url(#pfdcf6e9322)\" d=\"M 278.78267 214.756364 \n",
              "L 278.78267 65.67806 \n",
              "\" style=\"fill:none;stroke:#1f77b4;stroke-width:1.5;\"/>\n",
              "    <path clip-path=\"url(#pfdcf6e9322)\" d=\"M 288.294034 214.756364 \n",
              "L 288.294034 93.301393 \n",
              "\" style=\"fill:none;stroke:#1f77b4;stroke-width:1.5;\"/>\n",
              "    <path clip-path=\"url(#pfdcf6e9322)\" d=\"M 297.805398 214.756364 \n",
              "L 297.805398 17.083636 \n",
              "\" style=\"fill:none;stroke:#1f77b4;stroke-width:1.5;\"/>\n",
              "    <path clip-path=\"url(#pfdcf6e9322)\" d=\"M 307.316761 214.756364 \n",
              "L 307.316761 46.217371 \n",
              "\" style=\"fill:none;stroke:#1f77b4;stroke-width:1.5;\"/>\n",
              "    <path clip-path=\"url(#pfdcf6e9322)\" d=\"M 316.828125 214.756364 \n",
              "L 316.828125 29.749471 \n",
              "\" style=\"fill:none;stroke:#1f77b4;stroke-width:1.5;\"/>\n",
              "    <path clip-path=\"url(#pfdcf6e9322)\" d=\"M 326.339489 214.756364 \n",
              "L 326.339489 58.501551 \n",
              "\" style=\"fill:none;stroke:#1f77b4;stroke-width:1.5;\"/>\n",
              "    <path clip-path=\"url(#pfdcf6e9322)\" d=\"M 335.850852 214.756364 \n",
              "L 335.850852 43.22117 \n",
              "\" style=\"fill:none;stroke:#1f77b4;stroke-width:1.5;\"/>\n",
              "    <path clip-path=\"url(#pfdcf6e9322)\" d=\"M 345.362216 214.756364 \n",
              "L 345.362216 90.736349 \n",
              "\" style=\"fill:none;stroke:#1f77b4;stroke-width:1.5;\"/>\n",
              "    <path clip-path=\"url(#pfdcf6e9322)\" d=\"M 354.87358 214.756364 \n",
              "L 354.87358 88.405306 \n",
              "\" style=\"fill:none;stroke:#1f77b4;stroke-width:1.5;\"/>\n",
              "    <path clip-path=\"url(#pfdcf6e9322)\" d=\"M 364.384943 214.756364 \n",
              "L 364.384943 214.756261 \n",
              "\" style=\"fill:none;stroke:#1f77b4;stroke-width:1.5;\"/>\n",
              "   </g>\n",
              "   <g id=\"line2d_16\">\n",
              "    <defs>\n",
              "     <path d=\"M 0 3 \n",
              "C 0.795609 3 1.55874 2.683901 2.12132 2.12132 \n",
              "C 2.683901 1.55874 3 0.795609 3 0 \n",
              "C 3 -0.795609 2.683901 -1.55874 2.12132 -2.12132 \n",
              "C 1.55874 -2.683901 0.795609 -3 0 -3 \n",
              "C -0.795609 -3 -1.55874 -2.683901 -2.12132 -2.12132 \n",
              "C -2.683901 -1.55874 -3 -0.795609 -3 0 \n",
              "C -3 0.795609 -2.683901 1.55874 -2.12132 2.12132 \n",
              "C -1.55874 2.683901 -0.795609 3 0 3 \n",
              "z\n",
              "\" id=\"m5139e7e6ec\" style=\"stroke:#1f77b4;\"/>\n",
              "    </defs>\n",
              "    <g clip-path=\"url(#pfdcf6e9322)\">\n",
              "     <use style=\"fill:#1f77b4;stroke:#1f77b4;\" x=\"60.021307\" xlink:href=\"#m5139e7e6ec\" y=\"53.187012\"/>\n",
              "     <use style=\"fill:#1f77b4;stroke:#1f77b4;\" x=\"69.53267\" xlink:href=\"#m5139e7e6ec\" y=\"77.473342\"/>\n",
              "     <use style=\"fill:#1f77b4;stroke:#1f77b4;\" x=\"79.044034\" xlink:href=\"#m5139e7e6ec\" y=\"94.238428\"/>\n",
              "     <use style=\"fill:#1f77b4;stroke:#1f77b4;\" x=\"88.555398\" xlink:href=\"#m5139e7e6ec\" y=\"116.328129\"/>\n",
              "     <use style=\"fill:#1f77b4;stroke:#1f77b4;\" x=\"98.066761\" xlink:href=\"#m5139e7e6ec\" y=\"51.765477\"/>\n",
              "     <use style=\"fill:#1f77b4;stroke:#1f77b4;\" x=\"107.578125\" xlink:href=\"#m5139e7e6ec\" y=\"154.577909\"/>\n",
              "     <use style=\"fill:#1f77b4;stroke:#1f77b4;\" x=\"117.089489\" xlink:href=\"#m5139e7e6ec\" y=\"122.61228\"/>\n",
              "     <use style=\"fill:#1f77b4;stroke:#1f77b4;\" x=\"126.600852\" xlink:href=\"#m5139e7e6ec\" y=\"79.100846\"/>\n",
              "     <use style=\"fill:#1f77b4;stroke:#1f77b4;\" x=\"136.112216\" xlink:href=\"#m5139e7e6ec\" y=\"91.746196\"/>\n",
              "     <use style=\"fill:#1f77b4;stroke:#1f77b4;\" x=\"145.62358\" xlink:href=\"#m5139e7e6ec\" y=\"76.384487\"/>\n",
              "     <use style=\"fill:#1f77b4;stroke:#1f77b4;\" x=\"155.134943\" xlink:href=\"#m5139e7e6ec\" y=\"77.515258\"/>\n",
              "     <use style=\"fill:#1f77b4;stroke:#1f77b4;\" x=\"164.646307\" xlink:href=\"#m5139e7e6ec\" y=\"52.709547\"/>\n",
              "     <use style=\"fill:#1f77b4;stroke:#1f77b4;\" x=\"174.15767\" xlink:href=\"#m5139e7e6ec\" y=\"93.604706\"/>\n",
              "     <use style=\"fill:#1f77b4;stroke:#1f77b4;\" x=\"183.669034\" xlink:href=\"#m5139e7e6ec\" y=\"55.723791\"/>\n",
              "     <use style=\"fill:#1f77b4;stroke:#1f77b4;\" x=\"193.180398\" xlink:href=\"#m5139e7e6ec\" y=\"48.448664\"/>\n",
              "     <use style=\"fill:#1f77b4;stroke:#1f77b4;\" x=\"202.691761\" xlink:href=\"#m5139e7e6ec\" y=\"86.384799\"/>\n",
              "     <use style=\"fill:#1f77b4;stroke:#1f77b4;\" x=\"212.203125\" xlink:href=\"#m5139e7e6ec\" y=\"169.24832\"/>\n",
              "     <use style=\"fill:#1f77b4;stroke:#1f77b4;\" x=\"221.714489\" xlink:href=\"#m5139e7e6ec\" y=\"65.03417\"/>\n",
              "     <use style=\"fill:#1f77b4;stroke:#1f77b4;\" x=\"231.225852\" xlink:href=\"#m5139e7e6ec\" y=\"102.920779\"/>\n",
              "     <use style=\"fill:#1f77b4;stroke:#1f77b4;\" x=\"240.737216\" xlink:href=\"#m5139e7e6ec\" y=\"66.283307\"/>\n",
              "     <use style=\"fill:#1f77b4;stroke:#1f77b4;\" x=\"250.24858\" xlink:href=\"#m5139e7e6ec\" y=\"108.416644\"/>\n",
              "     <use style=\"fill:#1f77b4;stroke:#1f77b4;\" x=\"259.759943\" xlink:href=\"#m5139e7e6ec\" y=\"57.485887\"/>\n",
              "     <use style=\"fill:#1f77b4;stroke:#1f77b4;\" x=\"269.271307\" xlink:href=\"#m5139e7e6ec\" y=\"88.431532\"/>\n",
              "     <use style=\"fill:#1f77b4;stroke:#1f77b4;\" x=\"278.78267\" xlink:href=\"#m5139e7e6ec\" y=\"65.67806\"/>\n",
              "     <use style=\"fill:#1f77b4;stroke:#1f77b4;\" x=\"288.294034\" xlink:href=\"#m5139e7e6ec\" y=\"93.301393\"/>\n",
              "     <use style=\"fill:#1f77b4;stroke:#1f77b4;\" x=\"297.805398\" xlink:href=\"#m5139e7e6ec\" y=\"17.083636\"/>\n",
              "     <use style=\"fill:#1f77b4;stroke:#1f77b4;\" x=\"307.316761\" xlink:href=\"#m5139e7e6ec\" y=\"46.217371\"/>\n",
              "     <use style=\"fill:#1f77b4;stroke:#1f77b4;\" x=\"316.828125\" xlink:href=\"#m5139e7e6ec\" y=\"29.749471\"/>\n",
              "     <use style=\"fill:#1f77b4;stroke:#1f77b4;\" x=\"326.339489\" xlink:href=\"#m5139e7e6ec\" y=\"58.501551\"/>\n",
              "     <use style=\"fill:#1f77b4;stroke:#1f77b4;\" x=\"335.850852\" xlink:href=\"#m5139e7e6ec\" y=\"43.22117\"/>\n",
              "     <use style=\"fill:#1f77b4;stroke:#1f77b4;\" x=\"345.362216\" xlink:href=\"#m5139e7e6ec\" y=\"90.736349\"/>\n",
              "     <use style=\"fill:#1f77b4;stroke:#1f77b4;\" x=\"354.87358\" xlink:href=\"#m5139e7e6ec\" y=\"88.405306\"/>\n",
              "     <use style=\"fill:#1f77b4;stroke:#1f77b4;\" x=\"364.384943\" xlink:href=\"#m5139e7e6ec\" y=\"214.756261\"/>\n",
              "    </g>\n",
              "   </g>\n",
              "   <g id=\"line2d_17\">\n",
              "    <path clip-path=\"url(#pfdcf6e9322)\" d=\"M 60.021307 214.756364 \n",
              "L 364.384943 214.756364 \n",
              "\" style=\"fill:none;stroke:#d62728;stroke-linecap:square;stroke-width:1.5;\"/>\n",
              "   </g>\n",
              "   <g id=\"patch_3\">\n",
              "    <path d=\"M 44.803125 224.64 \n",
              "L 44.803125 7.2 \n",
              "\" style=\"fill:none;stroke:#000000;stroke-linecap:square;stroke-linejoin:miter;stroke-width:0.8;\"/>\n",
              "   </g>\n",
              "   <g id=\"patch_4\">\n",
              "    <path d=\"M 379.603125 224.64 \n",
              "L 379.603125 7.2 \n",
              "\" style=\"fill:none;stroke:#000000;stroke-linecap:square;stroke-linejoin:miter;stroke-width:0.8;\"/>\n",
              "   </g>\n",
              "   <g id=\"patch_5\">\n",
              "    <path d=\"M 44.803125 224.64 \n",
              "L 379.603125 224.64 \n",
              "\" style=\"fill:none;stroke:#000000;stroke-linecap:square;stroke-linejoin:miter;stroke-width:0.8;\"/>\n",
              "   </g>\n",
              "   <g id=\"patch_6\">\n",
              "    <path d=\"M 44.803125 7.2 \n",
              "L 379.603125 7.2 \n",
              "\" style=\"fill:none;stroke:#000000;stroke-linecap:square;stroke-linejoin:miter;stroke-width:0.8;\"/>\n",
              "   </g>\n",
              "  </g>\n",
              " </g>\n",
              " <defs>\n",
              "  <clipPath id=\"pfdcf6e9322\">\n",
              "   <rect height=\"217.44\" width=\"334.8\" x=\"44.803125\" y=\"7.2\"/>\n",
              "  </clipPath>\n",
              " </defs>\n",
              "</svg>\n"
            ],
            "text/plain": [
              "<Figure size 432x288 with 1 Axes>"
            ]
          },
          "metadata": {
            "needs_background": "light"
          },
          "output_type": "display_data"
        }
      ],
      "source": [
        "salience_scores = np.linalg.norm(singular_values.reshape([K,1])*topic_document_mat,axis=0)\n",
        "plt.stem(salience_scores,use_line_collection=True)\n",
        "plt.xlabel('Frase $j$')\n",
        "plt.ylabel('Saliency score $s_j$')\n",
        "plt.show()"
      ]
    },
    {
      "cell_type": "markdown",
      "metadata": {
        "id": "UtcpS7Wco9e3"
      },
      "source": [
        "Finalmente buscamos las frases con mayor score"
      ]
    },
    {
      "cell_type": "code",
      "execution_count": null,
      "metadata": {
        "id": "AysyhiSco9e4"
      },
      "outputs": [],
      "source": [
        "top_sentence_indices = np.argsort(-salience_scores)[:num_sentences]\n",
        "\n",
        "# Ordenamos para imprimir en el orden del texto\n",
        "top_sentence_indices.sort()"
      ]
    },
    {
      "cell_type": "code",
      "execution_count": null,
      "metadata": {
        "colab": {
          "base_uri": "https://localhost:8080/"
        },
        "id": "AJ2ApHeVo9e4",
        "outputId": "43909103-4968-41fd-991e-e7d133ae10aa"
      },
      "outputs": [
        {
          "data": {
            "text/plain": [
              "array([ 0,  4, 11, 14, 25, 26, 27, 29])"
            ]
          },
          "execution_count": 83,
          "metadata": {},
          "output_type": "execute_result"
        }
      ],
      "source": [
        "top_sentence_indices"
      ]
    },
    {
      "cell_type": "code",
      "execution_count": null,
      "metadata": {
        "colab": {
          "base_uri": "https://localhost:8080/"
        },
        "id": "nAWDp-X_o9e4",
        "outputId": "0dc1fb88-af0a-4194-84b9-3957b640a627"
      },
      "outputs": [
        {
          "name": "stdout",
          "output_type": "stream",
          "text": [
            "\n",
            "Democrats have spent the last several years clamoring to raise taxes on corporations and the rich, seeing that as a necessary antidote to widening economic inequality and a rebuke of President Donald J. Trump’s signature tax cuts.\n",
            "***************\n",
            "They widely share the goal of reversing many of Mr. Trump’s tax cuts from 2017, and of making the wealthy and big businesses pay more.\n",
            "***************\n",
            "\n",
            "\n",
            "Others in his party, including his own transportation secretary, have pushed Mr. Biden to explore tax plans he did not campaign on, like taxing consumption, wealth or vehicle miles traveled.\n",
            "***************\n",
            "\n",
            "\n",
            "Democratic lawmakers have promised for decades to raise taxes on companies and the wealthy, a desire that kicked into overdrive after Mr. Trump signed a tax-cut package that delivered an outsize share of its benefits to corporations and high earners.\n",
            "***************\n",
            "\n",
            "\n",
            "Democrats widely share a desire to raise the corporate income tax rate after it was cut to 21 percent in 2017.\n",
            "***************\n",
            "And they want to raise the top marginal rate for individuals back to 39.6 percent from 37 percent.\n",
            "***************\n",
            "\n",
            "\n",
            "But there are disputes in the rank and file, with some favoring Mr. Biden’s plan to set the corporate rate at 28 percent and others preferring a lower one, like 25 percent.\n",
            "***************\n",
            "\n",
            "\n",
            "Mr. Biden has pledged not to raise taxes on people earning less than $400,000.\n",
            "***************\n"
          ]
        }
      ],
      "source": [
        "sentences = list(doc.sents)\n",
        "\n",
        "for l in top_sentence_indices:\n",
        "\n",
        "    print(sentences[l].text)\n",
        "    print('***************')\n",
        "    "
      ]
    },
    {
      "cell_type": "markdown",
      "metadata": {
        "id": "i-VEngpYo9e4"
      },
      "source": [
        "# 2.2 TextRank\n",
        "\n",
        "El algoritmo de resumen de [TextRank](https://web.eecs.umich.edu/~mihalcea/papers/mihalcea.emnlp04.pdf) utiliza internamente el popular algoritmo [PageRank](https://en.wikipedia.org/wiki/PageRank), que patentó Google en 1999. El motor de búsqueda de Google lo utiliza cuando proporciona páginas web relevantes basadas en búsquedsa. Para comprender mejor TextRank, debemos comprender algunos de los conceptos que rodean al PageRank. El algoritmo central de PageRank es un algoritmo de puntuación o clasificación basado en gráfos, en el que las páginas se puntúan o clasifican según su importancia. \n",
        "\n",
        "### PageRank\n",
        "\n",
        "Los sitios web y las páginas contienen enlaces incrustados en ellos que enlazan a más páginas que tienen más enlaces y esto continúa a través de Internet. Esto se puede representar como un modelo basado en gráfos donde los vértices indican las páginas web y las conexiones indican los enlaces entre ellos. Esto se puede usar para formar un sistema de votación o recomendación, de modo que cuando un vértice se vincula a otro en el gráfo, básicamente está emitiendo un voto. La importancia del vértice se decide no solo por el número de votos o aristas, sino también por la importancia de los vértices que están conectados a él y su importancia. Esto ayuda a determinar la puntuación o clasificación de cada vértice o página. La siguiente figura ilustra un ejemplo sencillo de PageRank:\n",
        "\n",
        "<img src='https://upload.wikimedia.org/wikipedia/en/thumb/8/8b/PageRanks-Example.jpg/1920px-PageRanks-Example.jpg' width=400 />\n",
        "\n",
        "En la figura anterior podemos ver que el sitio web C tiene una puntuación más alta que el sitio web E incluso si tiene menos conexiones en comparación con E, puesto que la Página B es importante y enlaza a la página C. Por lo tanto, podemos definir formalmente PageRank de la siguiente manera. Considere un gráfo dirigido representado como $G = (V, E)$ tal que $V$ representa el conjunto de vértices o páginas y $E$ representa el conjunto de enlaces. $E$ es un subconjunto de $V \\times V$. Suponiendo que tenemos una página dada $V_i$ para la que queremos calcular PageRank score $PR(V_i)$, podemos definirlo matemáticamente de la siguiente manera:\n",
        "\n",
        "$$PR(V_i) = (1-d) + d \\times \\sum_{j\\in \\text{In}(V_i)} \\frac{PR(V_j)}{|\\text{Out}(V_j)|}$$\n",
        "\n",
        "donde\n",
        "\n",
        "- $\\text{In}(V_i)$ es el conjunto de páginas que enlazan a $V_i$\n",
        "- $|\\text{Out}(V_j)|$ es el número de conexiones salientes de $V_j$\n",
        "- $d$ es el *damping factor* que toma valores en $[0,1]$. El valor $(1-d)$ representa la probabilidad de saltar desde un vértice dado a otro vértice aleatorio en el gráfo. Suele tomarse como $d=0.85$.\n",
        "\n",
        "Partiendo de valores arbitrarios asignados a cada nodo en el gráfico, el cálculo se repite hasta que se alcanza la convergencia. \n",
        "\n",
        "### TextRank\n",
        "\n",
        "Volviendo al algoritmo TextRank, al resumir un documento, tendremos un vértice por cada frase. Adicionalmente asociaremos un **peso** $w_{ij}$ a la conexión entre la frase $V_i$ y $V_j$ de tal manera que $w_{ij}$ modela la correlación entre ambos nodos del grafo. Si bien hay distintas alternativas de medir esta correlación, una medida sencilla sería \n",
        "$$w_{ij} = \\mathbf{a}_i.^T \\mathbf{a}_j$$\n",
        "donde $\\mathbf{a}_i$ es la codificación BoW o TF-IDF de la frase $i$. A continuación, TextRank modifica el score de PageRank definido anteriormente para tener en cuenta estos pesos. Tenemos en cuenta que tenemos $n$ nodos conectados todos con todos con pesos $w_{ij}$: \n",
        "\n",
        "$$TR(V_i) = (1-d) + d \\times \\sum_{j=1,j\\neq i}^{n} \\frac{w_{ij}TR(V_j)}{\\sum_{k=1,k\\neq j}^n w_{jk}}$$\n",
        "\n",
        "Una vez obtenido el score $TR$ para todas las frases, resumiremos el documento con las $k$ frases más relevantes.\n",
        "\n",
        "\n",
        "### Implementación usando `networkx`\n",
        "\n",
        "Podemos implementar TextRank de forma sencilla utilizando el paquete `networkx` y en particular la función `networkx.pagerank` a la que pasaremos directamente la matriz $\\mathbf{A}\\mathbf{A}.^T$:\n"
      ]
    },
    {
      "cell_type": "code",
      "execution_count": null,
      "metadata": {
        "id": "qS5cFqW0o9e4"
      },
      "outputs": [],
      "source": [
        "similitudes = corpus_tfidf_dense.T@corpus_tfidf_dense"
      ]
    },
    {
      "cell_type": "code",
      "execution_count": null,
      "metadata": {
        "colab": {
          "base_uri": "https://localhost:8080/"
        },
        "id": "xR0jPhG7o9e4",
        "outputId": "f0ba13e3-1a15-4d93-99cc-41f4df6eeb3f"
      },
      "outputs": [
        {
          "data": {
            "text/plain": [
              "(33, 33)"
            ]
          },
          "execution_count": 86,
          "metadata": {},
          "output_type": "execute_result"
        }
      ],
      "source": [
        "similitudes.shape"
      ]
    },
    {
      "cell_type": "code",
      "execution_count": null,
      "metadata": {
        "id": "_1KyQFObo9e4"
      },
      "outputs": [],
      "source": [
        "import networkx\n",
        "\n",
        "similarity_graph = networkx.from_numpy_array(corpus_tfidf_dense.T@corpus_tfidf_dense)"
      ]
    },
    {
      "cell_type": "code",
      "execution_count": null,
      "metadata": {
        "colab": {
          "base_uri": "https://localhost:8080/",
          "height": 331
        },
        "id": "aMY1SYiPo9e4",
        "outputId": "79636c51-df0a-45fa-be83-1fb3fc7c5ebd"
      },
      "outputs": [
        {
          "data": {
            "image/svg+xml": [
              "<?xml version=\"1.0\" encoding=\"utf-8\" standalone=\"no\"?>\n",
              "<!DOCTYPE svg PUBLIC \"-//W3C//DTD SVG 1.1//EN\"\n",
              "  \"http://www.w3.org/Graphics/SVG/1.1/DTD/svg11.dtd\">\n",
              "<!-- Created with matplotlib (https://matplotlib.org/) -->\n",
              "<svg height=\"231.84pt\" version=\"1.1\" viewBox=\"0 0 349.2 231.84\" width=\"349.2pt\" xmlns=\"http://www.w3.org/2000/svg\" xmlns:xlink=\"http://www.w3.org/1999/xlink\">\n",
              " <defs>\n",
              "  <style type=\"text/css\">\n",
              "*{stroke-linecap:butt;stroke-linejoin:round;}\n",
              "  </style>\n",
              " </defs>\n",
              " <g id=\"figure_1\">\n",
              "  <g id=\"patch_1\">\n",
              "   <path d=\"M 0 231.84 \n",
              "L 349.2 231.84 \n",
              "L 349.2 0 \n",
              "L 0 0 \n",
              "z\n",
              "\" style=\"fill:none;\"/>\n",
              "  </g>\n",
              "  <g id=\"axes_1\">\n",
              "   <g id=\"patch_2\">\n",
              "    <path d=\"M 7.2 224.64 \n",
              "L 342 224.64 \n",
              "L 342 7.2 \n",
              "L 7.2 7.2 \n",
              "z\n",
              "\" style=\"fill:#ffffff;\"/>\n",
              "   </g>\n",
              "   <g id=\"LineCollection_1\">\n",
              "    <path clip-path=\"url(#pbb5dea56d1)\" d=\"M 167.018028 52.46351 \n",
              "L 167.018028 52.46351 \n",
              "\" style=\"fill:none;stroke:#000000;\"/>\n",
              "    <path clip-path=\"url(#pbb5dea56d1)\" d=\"M 167.018028 52.46351 \n",
              "L 67.687615 137.21744 \n",
              "\" style=\"fill:none;stroke:#000000;\"/>\n",
              "    <path clip-path=\"url(#pbb5dea56d1)\" d=\"M 167.018028 52.46351 \n",
              "L 53.146022 64.256008 \n",
              "\" style=\"fill:none;stroke:#000000;\"/>\n",
              "    <path clip-path=\"url(#pbb5dea56d1)\" d=\"M 167.018028 52.46351 \n",
              "L 231.804946 71.536524 \n",
              "\" style=\"fill:none;stroke:#000000;\"/>\n",
              "    <path clip-path=\"url(#pbb5dea56d1)\" d=\"M 167.018028 52.46351 \n",
              "L 63.374471 17.083636 \n",
              "\" style=\"fill:none;stroke:#000000;\"/>\n",
              "    <path clip-path=\"url(#pbb5dea56d1)\" d=\"M 167.018028 52.46351 \n",
              "L 232.512721 101.968655 \n",
              "\" style=\"fill:none;stroke:#000000;\"/>\n",
              "    <path clip-path=\"url(#pbb5dea56d1)\" d=\"M 167.018028 52.46351 \n",
              "L 172.808766 123.914457 \n",
              "\" style=\"fill:none;stroke:#000000;\"/>\n",
              "    <path clip-path=\"url(#pbb5dea56d1)\" d=\"M 167.018028 52.46351 \n",
              "L 146.41103 149.683929 \n",
              "\" style=\"fill:none;stroke:#000000;\"/>\n",
              "    <path clip-path=\"url(#pbb5dea56d1)\" d=\"M 167.018028 52.46351 \n",
              "L 260.24845 142.994265 \n",
              "\" style=\"fill:none;stroke:#000000;\"/>\n",
              "    <path clip-path=\"url(#pbb5dea56d1)\" d=\"M 167.018028 52.46351 \n",
              "L 326.781818 111.503693 \n",
              "\" style=\"fill:none;stroke:#000000;\"/>\n",
              "    <path clip-path=\"url(#pbb5dea56d1)\" d=\"M 167.018028 52.46351 \n",
              "L 22.418182 102.877575 \n",
              "\" style=\"fill:none;stroke:#000000;\"/>\n",
              "    <path clip-path=\"url(#pbb5dea56d1)\" d=\"M 167.018028 52.46351 \n",
              "L 106.085547 39.734665 \n",
              "\" style=\"fill:none;stroke:#000000;\"/>\n",
              "    <path clip-path=\"url(#pbb5dea56d1)\" d=\"M 67.687615 137.21744 \n",
              "L 67.687615 137.21744 \n",
              "\" style=\"fill:none;stroke:#000000;\"/>\n",
              "    <path clip-path=\"url(#pbb5dea56d1)\" d=\"M 67.687615 137.21744 \n",
              "L 53.146022 64.256008 \n",
              "\" style=\"fill:none;stroke:#000000;\"/>\n",
              "    <path clip-path=\"url(#pbb5dea56d1)\" d=\"M 67.687615 137.21744 \n",
              "L 63.374471 17.083636 \n",
              "\" style=\"fill:none;stroke:#000000;\"/>\n",
              "    <path clip-path=\"url(#pbb5dea56d1)\" d=\"M 67.687615 137.21744 \n",
              "L 47.429696 214.756364 \n",
              "\" style=\"fill:none;stroke:#000000;\"/>\n",
              "    <path clip-path=\"url(#pbb5dea56d1)\" d=\"M 67.687615 137.21744 \n",
              "L 232.512721 101.968655 \n",
              "\" style=\"fill:none;stroke:#000000;\"/>\n",
              "    <path clip-path=\"url(#pbb5dea56d1)\" d=\"M 67.687615 137.21744 \n",
              "L 172.808766 123.914457 \n",
              "\" style=\"fill:none;stroke:#000000;\"/>\n",
              "    <path clip-path=\"url(#pbb5dea56d1)\" d=\"M 67.687615 137.21744 \n",
              "L 146.41103 149.683929 \n",
              "\" style=\"fill:none;stroke:#000000;\"/>\n",
              "    <path clip-path=\"url(#pbb5dea56d1)\" d=\"M 67.687615 137.21744 \n",
              "L 117.841514 100.398082 \n",
              "\" style=\"fill:none;stroke:#000000;\"/>\n",
              "    <path clip-path=\"url(#pbb5dea56d1)\" d=\"M 67.687615 137.21744 \n",
              "L 260.24845 142.994265 \n",
              "\" style=\"fill:none;stroke:#000000;\"/>\n",
              "    <path clip-path=\"url(#pbb5dea56d1)\" d=\"M 67.687615 137.21744 \n",
              "L 326.781818 111.503693 \n",
              "\" style=\"fill:none;stroke:#000000;\"/>\n",
              "    <path clip-path=\"url(#pbb5dea56d1)\" d=\"M 67.687615 137.21744 \n",
              "L 22.418182 102.877575 \n",
              "\" style=\"fill:none;stroke:#000000;\"/>\n",
              "    <path clip-path=\"url(#pbb5dea56d1)\" d=\"M 67.687615 137.21744 \n",
              "L 106.085547 39.734665 \n",
              "\" style=\"fill:none;stroke:#000000;\"/>\n",
              "    <path clip-path=\"url(#pbb5dea56d1)\" d=\"M 53.146022 64.256008 \n",
              "L 53.146022 64.256008 \n",
              "\" style=\"fill:none;stroke:#000000;\"/>\n",
              "    <path clip-path=\"url(#pbb5dea56d1)\" d=\"M 53.146022 64.256008 \n",
              "L 231.804946 71.536524 \n",
              "\" style=\"fill:none;stroke:#000000;\"/>\n",
              "    <path clip-path=\"url(#pbb5dea56d1)\" d=\"M 53.146022 64.256008 \n",
              "L 63.374471 17.083636 \n",
              "\" style=\"fill:none;stroke:#000000;\"/>\n",
              "    <path clip-path=\"url(#pbb5dea56d1)\" d=\"M 53.146022 64.256008 \n",
              "L 232.512721 101.968655 \n",
              "\" style=\"fill:none;stroke:#000000;\"/>\n",
              "    <path clip-path=\"url(#pbb5dea56d1)\" d=\"M 53.146022 64.256008 \n",
              "L 146.41103 149.683929 \n",
              "\" style=\"fill:none;stroke:#000000;\"/>\n",
              "    <path clip-path=\"url(#pbb5dea56d1)\" d=\"M 53.146022 64.256008 \n",
              "L 117.841514 100.398082 \n",
              "\" style=\"fill:none;stroke:#000000;\"/>\n",
              "    <path clip-path=\"url(#pbb5dea56d1)\" d=\"M 53.146022 64.256008 \n",
              "L 260.24845 142.994265 \n",
              "\" style=\"fill:none;stroke:#000000;\"/>\n",
              "    <path clip-path=\"url(#pbb5dea56d1)\" d=\"M 53.146022 64.256008 \n",
              "L 326.781818 111.503693 \n",
              "\" style=\"fill:none;stroke:#000000;\"/>\n",
              "    <path clip-path=\"url(#pbb5dea56d1)\" d=\"M 53.146022 64.256008 \n",
              "L 22.418182 102.877575 \n",
              "\" style=\"fill:none;stroke:#000000;\"/>\n",
              "    <path clip-path=\"url(#pbb5dea56d1)\" d=\"M 53.146022 64.256008 \n",
              "L 106.085547 39.734665 \n",
              "\" style=\"fill:none;stroke:#000000;\"/>\n",
              "    <path clip-path=\"url(#pbb5dea56d1)\" d=\"M 231.804946 71.536524 \n",
              "L 231.804946 71.536524 \n",
              "\" style=\"fill:none;stroke:#000000;\"/>\n",
              "    <path clip-path=\"url(#pbb5dea56d1)\" d=\"M 231.804946 71.536524 \n",
              "L 63.374471 17.083636 \n",
              "\" style=\"fill:none;stroke:#000000;\"/>\n",
              "    <path clip-path=\"url(#pbb5dea56d1)\" d=\"M 231.804946 71.536524 \n",
              "L 293.474977 171.550447 \n",
              "\" style=\"fill:none;stroke:#000000;\"/>\n",
              "    <path clip-path=\"url(#pbb5dea56d1)\" d=\"M 231.804946 71.536524 \n",
              "L 172.808766 123.914457 \n",
              "\" style=\"fill:none;stroke:#000000;\"/>\n",
              "    <path clip-path=\"url(#pbb5dea56d1)\" d=\"M 231.804946 71.536524 \n",
              "L 117.841514 100.398082 \n",
              "\" style=\"fill:none;stroke:#000000;\"/>\n",
              "    <path clip-path=\"url(#pbb5dea56d1)\" d=\"M 231.804946 71.536524 \n",
              "L 106.085547 39.734665 \n",
              "\" style=\"fill:none;stroke:#000000;\"/>\n",
              "    <path clip-path=\"url(#pbb5dea56d1)\" d=\"M 63.374471 17.083636 \n",
              "L 63.374471 17.083636 \n",
              "\" style=\"fill:none;stroke:#000000;\"/>\n",
              "    <path clip-path=\"url(#pbb5dea56d1)\" d=\"M 63.374471 17.083636 \n",
              "L 146.41103 149.683929 \n",
              "\" style=\"fill:none;stroke:#000000;\"/>\n",
              "    <path clip-path=\"url(#pbb5dea56d1)\" d=\"M 63.374471 17.083636 \n",
              "L 117.841514 100.398082 \n",
              "\" style=\"fill:none;stroke:#000000;\"/>\n",
              "    <path clip-path=\"url(#pbb5dea56d1)\" d=\"M 63.374471 17.083636 \n",
              "L 260.24845 142.994265 \n",
              "\" style=\"fill:none;stroke:#000000;\"/>\n",
              "    <path clip-path=\"url(#pbb5dea56d1)\" d=\"M 63.374471 17.083636 \n",
              "L 326.781818 111.503693 \n",
              "\" style=\"fill:none;stroke:#000000;\"/>\n",
              "    <path clip-path=\"url(#pbb5dea56d1)\" d=\"M 63.374471 17.083636 \n",
              "L 22.418182 102.877575 \n",
              "\" style=\"fill:none;stroke:#000000;\"/>\n",
              "    <path clip-path=\"url(#pbb5dea56d1)\" d=\"M 63.374471 17.083636 \n",
              "L 106.085547 39.734665 \n",
              "\" style=\"fill:none;stroke:#000000;\"/>\n",
              "    <path clip-path=\"url(#pbb5dea56d1)\" d=\"M 293.474977 171.550447 \n",
              "L 293.474977 171.550447 \n",
              "\" style=\"fill:none;stroke:#000000;\"/>\n",
              "    <path clip-path=\"url(#pbb5dea56d1)\" d=\"M 293.474977 171.550447 \n",
              "L 172.808766 123.914457 \n",
              "\" style=\"fill:none;stroke:#000000;\"/>\n",
              "    <path clip-path=\"url(#pbb5dea56d1)\" d=\"M 293.474977 171.550447 \n",
              "L 146.41103 149.683929 \n",
              "\" style=\"fill:none;stroke:#000000;\"/>\n",
              "    <path clip-path=\"url(#pbb5dea56d1)\" d=\"M 47.429696 214.756364 \n",
              "L 47.429696 214.756364 \n",
              "\" style=\"fill:none;stroke:#000000;\"/>\n",
              "    <path clip-path=\"url(#pbb5dea56d1)\" d=\"M 47.429696 214.756364 \n",
              "L 172.808766 123.914457 \n",
              "\" style=\"fill:none;stroke:#000000;\"/>\n",
              "    <path clip-path=\"url(#pbb5dea56d1)\" d=\"M 47.429696 214.756364 \n",
              "L 146.41103 149.683929 \n",
              "\" style=\"fill:none;stroke:#000000;\"/>\n",
              "    <path clip-path=\"url(#pbb5dea56d1)\" d=\"M 47.429696 214.756364 \n",
              "L 260.24845 142.994265 \n",
              "\" style=\"fill:none;stroke:#000000;\"/>\n",
              "    <path clip-path=\"url(#pbb5dea56d1)\" d=\"M 47.429696 214.756364 \n",
              "L 22.418182 102.877575 \n",
              "\" style=\"fill:none;stroke:#000000;\"/>\n",
              "    <path clip-path=\"url(#pbb5dea56d1)\" d=\"M 232.512721 101.968655 \n",
              "L 232.512721 101.968655 \n",
              "\" style=\"fill:none;stroke:#000000;\"/>\n",
              "    <path clip-path=\"url(#pbb5dea56d1)\" d=\"M 232.512721 101.968655 \n",
              "L 172.808766 123.914457 \n",
              "\" style=\"fill:none;stroke:#000000;\"/>\n",
              "    <path clip-path=\"url(#pbb5dea56d1)\" d=\"M 232.512721 101.968655 \n",
              "L 146.41103 149.683929 \n",
              "\" style=\"fill:none;stroke:#000000;\"/>\n",
              "    <path clip-path=\"url(#pbb5dea56d1)\" d=\"M 232.512721 101.968655 \n",
              "L 260.24845 142.994265 \n",
              "\" style=\"fill:none;stroke:#000000;\"/>\n",
              "    <path clip-path=\"url(#pbb5dea56d1)\" d=\"M 232.512721 101.968655 \n",
              "L 326.781818 111.503693 \n",
              "\" style=\"fill:none;stroke:#000000;\"/>\n",
              "    <path clip-path=\"url(#pbb5dea56d1)\" d=\"M 232.512721 101.968655 \n",
              "L 22.418182 102.877575 \n",
              "\" style=\"fill:none;stroke:#000000;\"/>\n",
              "    <path clip-path=\"url(#pbb5dea56d1)\" d=\"M 172.808766 123.914457 \n",
              "L 172.808766 123.914457 \n",
              "\" style=\"fill:none;stroke:#000000;\"/>\n",
              "    <path clip-path=\"url(#pbb5dea56d1)\" d=\"M 172.808766 123.914457 \n",
              "L 146.41103 149.683929 \n",
              "\" style=\"fill:none;stroke:#000000;\"/>\n",
              "    <path clip-path=\"url(#pbb5dea56d1)\" d=\"M 172.808766 123.914457 \n",
              "L 260.24845 142.994265 \n",
              "\" style=\"fill:none;stroke:#000000;\"/>\n",
              "    <path clip-path=\"url(#pbb5dea56d1)\" d=\"M 172.808766 123.914457 \n",
              "L 22.418182 102.877575 \n",
              "\" style=\"fill:none;stroke:#000000;\"/>\n",
              "    <path clip-path=\"url(#pbb5dea56d1)\" d=\"M 172.808766 123.914457 \n",
              "L 106.085547 39.734665 \n",
              "\" style=\"fill:none;stroke:#000000;\"/>\n",
              "    <path clip-path=\"url(#pbb5dea56d1)\" d=\"M 146.41103 149.683929 \n",
              "L 146.41103 149.683929 \n",
              "\" style=\"fill:none;stroke:#000000;\"/>\n",
              "    <path clip-path=\"url(#pbb5dea56d1)\" d=\"M 146.41103 149.683929 \n",
              "L 117.841514 100.398082 \n",
              "\" style=\"fill:none;stroke:#000000;\"/>\n",
              "    <path clip-path=\"url(#pbb5dea56d1)\" d=\"M 146.41103 149.683929 \n",
              "L 260.24845 142.994265 \n",
              "\" style=\"fill:none;stroke:#000000;\"/>\n",
              "    <path clip-path=\"url(#pbb5dea56d1)\" d=\"M 146.41103 149.683929 \n",
              "L 326.781818 111.503693 \n",
              "\" style=\"fill:none;stroke:#000000;\"/>\n",
              "    <path clip-path=\"url(#pbb5dea56d1)\" d=\"M 146.41103 149.683929 \n",
              "L 22.418182 102.877575 \n",
              "\" style=\"fill:none;stroke:#000000;\"/>\n",
              "    <path clip-path=\"url(#pbb5dea56d1)\" d=\"M 146.41103 149.683929 \n",
              "L 106.085547 39.734665 \n",
              "\" style=\"fill:none;stroke:#000000;\"/>\n",
              "    <path clip-path=\"url(#pbb5dea56d1)\" d=\"M 117.841514 100.398082 \n",
              "L 117.841514 100.398082 \n",
              "\" style=\"fill:none;stroke:#000000;\"/>\n",
              "    <path clip-path=\"url(#pbb5dea56d1)\" d=\"M 117.841514 100.398082 \n",
              "L 326.781818 111.503693 \n",
              "\" style=\"fill:none;stroke:#000000;\"/>\n",
              "    <path clip-path=\"url(#pbb5dea56d1)\" d=\"M 117.841514 100.398082 \n",
              "L 22.418182 102.877575 \n",
              "\" style=\"fill:none;stroke:#000000;\"/>\n",
              "    <path clip-path=\"url(#pbb5dea56d1)\" d=\"M 260.24845 142.994265 \n",
              "L 260.24845 142.994265 \n",
              "\" style=\"fill:none;stroke:#000000;\"/>\n",
              "    <path clip-path=\"url(#pbb5dea56d1)\" d=\"M 260.24845 142.994265 \n",
              "L 326.781818 111.503693 \n",
              "\" style=\"fill:none;stroke:#000000;\"/>\n",
              "    <path clip-path=\"url(#pbb5dea56d1)\" d=\"M 260.24845 142.994265 \n",
              "L 22.418182 102.877575 \n",
              "\" style=\"fill:none;stroke:#000000;\"/>\n",
              "    <path clip-path=\"url(#pbb5dea56d1)\" d=\"M 260.24845 142.994265 \n",
              "L 106.085547 39.734665 \n",
              "\" style=\"fill:none;stroke:#000000;\"/>\n",
              "    <path clip-path=\"url(#pbb5dea56d1)\" d=\"M 326.781818 111.503693 \n",
              "L 326.781818 111.503693 \n",
              "\" style=\"fill:none;stroke:#000000;\"/>\n",
              "    <path clip-path=\"url(#pbb5dea56d1)\" d=\"M 326.781818 111.503693 \n",
              "L 22.418182 102.877575 \n",
              "\" style=\"fill:none;stroke:#000000;\"/>\n",
              "    <path clip-path=\"url(#pbb5dea56d1)\" d=\"M 326.781818 111.503693 \n",
              "L 106.085547 39.734665 \n",
              "\" style=\"fill:none;stroke:#000000;\"/>\n",
              "    <path clip-path=\"url(#pbb5dea56d1)\" d=\"M 22.418182 102.877575 \n",
              "L 22.418182 102.877575 \n",
              "\" style=\"fill:none;stroke:#000000;\"/>\n",
              "    <path clip-path=\"url(#pbb5dea56d1)\" d=\"M 22.418182 102.877575 \n",
              "L 106.085547 39.734665 \n",
              "\" style=\"fill:none;stroke:#000000;\"/>\n",
              "    <path clip-path=\"url(#pbb5dea56d1)\" d=\"M 106.085547 39.734665 \n",
              "L 106.085547 39.734665 \n",
              "\" style=\"fill:none;stroke:#000000;\"/>\n",
              "   </g>\n",
              "   <g id=\"matplotlib.axis_1\">\n",
              "    <g id=\"xtick_1\"/>\n",
              "    <g id=\"xtick_2\"/>\n",
              "    <g id=\"xtick_3\"/>\n",
              "    <g id=\"xtick_4\"/>\n",
              "    <g id=\"xtick_5\"/>\n",
              "    <g id=\"xtick_6\"/>\n",
              "   </g>\n",
              "   <g id=\"matplotlib.axis_2\">\n",
              "    <g id=\"ytick_1\"/>\n",
              "    <g id=\"ytick_2\"/>\n",
              "    <g id=\"ytick_3\"/>\n",
              "    <g id=\"ytick_4\"/>\n",
              "    <g id=\"ytick_5\"/>\n",
              "    <g id=\"ytick_6\"/>\n",
              "    <g id=\"ytick_7\"/>\n",
              "    <g id=\"ytick_8\"/>\n",
              "   </g>\n",
              "   <g id=\"PathCollection_1\">\n",
              "    <defs>\n",
              "     <path d=\"M 0 8.660254 \n",
              "C 2.296726 8.660254 4.499694 7.747755 6.123724 6.123724 \n",
              "C 7.747755 4.499694 8.660254 2.296726 8.660254 0 \n",
              "C 8.660254 -2.296726 7.747755 -4.499694 6.123724 -6.123724 \n",
              "C 4.499694 -7.747755 2.296726 -8.660254 0 -8.660254 \n",
              "C -2.296726 -8.660254 -4.499694 -7.747755 -6.123724 -6.123724 \n",
              "C -7.747755 -4.499694 -8.660254 -2.296726 -8.660254 0 \n",
              "C -8.660254 2.296726 -7.747755 4.499694 -6.123724 6.123724 \n",
              "C -4.499694 7.747755 -2.296726 8.660254 0 8.660254 \n",
              "z\n",
              "\" id=\"maa6f716dfa\" style=\"stroke:#00ff00;\"/>\n",
              "    </defs>\n",
              "    <g clip-path=\"url(#pbb5dea56d1)\">\n",
              "     <use style=\"fill:#00ff00;stroke:#00ff00;\" x=\"167.018028\" xlink:href=\"#maa6f716dfa\" y=\"52.46351\"/>\n",
              "     <use style=\"fill:#00ff00;stroke:#00ff00;\" x=\"67.687615\" xlink:href=\"#maa6f716dfa\" y=\"137.21744\"/>\n",
              "     <use style=\"fill:#00ff00;stroke:#00ff00;\" x=\"53.146022\" xlink:href=\"#maa6f716dfa\" y=\"64.256008\"/>\n",
              "     <use style=\"fill:#00ff00;stroke:#00ff00;\" x=\"231.804946\" xlink:href=\"#maa6f716dfa\" y=\"71.536524\"/>\n",
              "     <use style=\"fill:#00ff00;stroke:#00ff00;\" x=\"63.374471\" xlink:href=\"#maa6f716dfa\" y=\"17.083636\"/>\n",
              "     <use style=\"fill:#00ff00;stroke:#00ff00;\" x=\"293.474977\" xlink:href=\"#maa6f716dfa\" y=\"171.550447\"/>\n",
              "     <use style=\"fill:#00ff00;stroke:#00ff00;\" x=\"47.429696\" xlink:href=\"#maa6f716dfa\" y=\"214.756364\"/>\n",
              "     <use style=\"fill:#00ff00;stroke:#00ff00;\" x=\"232.512721\" xlink:href=\"#maa6f716dfa\" y=\"101.968655\"/>\n",
              "     <use style=\"fill:#00ff00;stroke:#00ff00;\" x=\"172.808766\" xlink:href=\"#maa6f716dfa\" y=\"123.914457\"/>\n",
              "     <use style=\"fill:#00ff00;stroke:#00ff00;\" x=\"146.41103\" xlink:href=\"#maa6f716dfa\" y=\"149.683929\"/>\n",
              "     <use style=\"fill:#00ff00;stroke:#00ff00;\" x=\"117.841514\" xlink:href=\"#maa6f716dfa\" y=\"100.398082\"/>\n",
              "     <use style=\"fill:#00ff00;stroke:#00ff00;\" x=\"260.24845\" xlink:href=\"#maa6f716dfa\" y=\"142.994265\"/>\n",
              "     <use style=\"fill:#00ff00;stroke:#00ff00;\" x=\"326.781818\" xlink:href=\"#maa6f716dfa\" y=\"111.503693\"/>\n",
              "     <use style=\"fill:#00ff00;stroke:#00ff00;\" x=\"22.418182\" xlink:href=\"#maa6f716dfa\" y=\"102.877575\"/>\n",
              "     <use style=\"fill:#00ff00;stroke:#00ff00;\" x=\"106.085547\" xlink:href=\"#maa6f716dfa\" y=\"39.734665\"/>\n",
              "    </g>\n",
              "   </g>\n",
              "   <g id=\"patch_3\">\n",
              "    <path d=\"M 7.2 224.64 \n",
              "L 7.2 7.2 \n",
              "\" style=\"fill:none;stroke:#000000;stroke-linecap:square;stroke-linejoin:miter;stroke-width:0.8;\"/>\n",
              "   </g>\n",
              "   <g id=\"patch_4\">\n",
              "    <path d=\"M 342 224.64 \n",
              "L 342 7.2 \n",
              "\" style=\"fill:none;stroke:#000000;stroke-linecap:square;stroke-linejoin:miter;stroke-width:0.8;\"/>\n",
              "   </g>\n",
              "   <g id=\"patch_5\">\n",
              "    <path d=\"M 7.2 224.64 \n",
              "L 342 224.64 \n",
              "\" style=\"fill:none;stroke:#000000;stroke-linecap:square;stroke-linejoin:miter;stroke-width:0.8;\"/>\n",
              "   </g>\n",
              "   <g id=\"patch_6\">\n",
              "    <path d=\"M 7.2 7.2 \n",
              "L 342 7.2 \n",
              "\" style=\"fill:none;stroke:#000000;stroke-linecap:square;stroke-linejoin:miter;stroke-width:0.8;\"/>\n",
              "   </g>\n",
              "   <g id=\"text_1\">\n",
              "    <g clip-path=\"url(#pbb5dea56d1)\">\n",
              "     <!-- 0 -->\n",
              "     <defs>\n",
              "      <path d=\"M 31.78125 66.40625 \n",
              "Q 24.171875 66.40625 20.328125 58.90625 \n",
              "Q 16.5 51.421875 16.5 36.375 \n",
              "Q 16.5 21.390625 20.328125 13.890625 \n",
              "Q 24.171875 6.390625 31.78125 6.390625 \n",
              "Q 39.453125 6.390625 43.28125 13.890625 \n",
              "Q 47.125 21.390625 47.125 36.375 \n",
              "Q 47.125 51.421875 43.28125 58.90625 \n",
              "Q 39.453125 66.40625 31.78125 66.40625 \n",
              "z\n",
              "M 31.78125 74.21875 \n",
              "Q 44.046875 74.21875 50.515625 64.515625 \n",
              "Q 56.984375 54.828125 56.984375 36.375 \n",
              "Q 56.984375 17.96875 50.515625 8.265625 \n",
              "Q 44.046875 -1.421875 31.78125 -1.421875 \n",
              "Q 19.53125 -1.421875 13.0625 8.265625 \n",
              "Q 6.59375 17.96875 6.59375 36.375 \n",
              "Q 6.59375 54.828125 13.0625 64.515625 \n",
              "Q 19.53125 74.21875 31.78125 74.21875 \n",
              "z\n",
              "\" id=\"DejaVuSans-48\"/>\n",
              "     </defs>\n",
              "     <g transform=\"translate(163.200528 55.77476)scale(0.12 -0.12)\">\n",
              "      <use xlink:href=\"#DejaVuSans-48\"/>\n",
              "     </g>\n",
              "    </g>\n",
              "   </g>\n",
              "   <g id=\"text_2\">\n",
              "    <g clip-path=\"url(#pbb5dea56d1)\">\n",
              "     <!-- 1 -->\n",
              "     <defs>\n",
              "      <path d=\"M 12.40625 8.296875 \n",
              "L 28.515625 8.296875 \n",
              "L 28.515625 63.921875 \n",
              "L 10.984375 60.40625 \n",
              "L 10.984375 69.390625 \n",
              "L 28.421875 72.90625 \n",
              "L 38.28125 72.90625 \n",
              "L 38.28125 8.296875 \n",
              "L 54.390625 8.296875 \n",
              "L 54.390625 0 \n",
              "L 12.40625 0 \n",
              "z\n",
              "\" id=\"DejaVuSans-49\"/>\n",
              "     </defs>\n",
              "     <g transform=\"translate(63.870115 140.52869)scale(0.12 -0.12)\">\n",
              "      <use xlink:href=\"#DejaVuSans-49\"/>\n",
              "     </g>\n",
              "    </g>\n",
              "   </g>\n",
              "   <g id=\"text_3\">\n",
              "    <g clip-path=\"url(#pbb5dea56d1)\">\n",
              "     <!-- 2 -->\n",
              "     <defs>\n",
              "      <path d=\"M 19.1875 8.296875 \n",
              "L 53.609375 8.296875 \n",
              "L 53.609375 0 \n",
              "L 7.328125 0 \n",
              "L 7.328125 8.296875 \n",
              "Q 12.9375 14.109375 22.625 23.890625 \n",
              "Q 32.328125 33.6875 34.8125 36.53125 \n",
              "Q 39.546875 41.84375 41.421875 45.53125 \n",
              "Q 43.3125 49.21875 43.3125 52.78125 \n",
              "Q 43.3125 58.59375 39.234375 62.25 \n",
              "Q 35.15625 65.921875 28.609375 65.921875 \n",
              "Q 23.96875 65.921875 18.8125 64.3125 \n",
              "Q 13.671875 62.703125 7.8125 59.421875 \n",
              "L 7.8125 69.390625 \n",
              "Q 13.765625 71.78125 18.9375 73 \n",
              "Q 24.125 74.21875 28.421875 74.21875 \n",
              "Q 39.75 74.21875 46.484375 68.546875 \n",
              "Q 53.21875 62.890625 53.21875 53.421875 \n",
              "Q 53.21875 48.921875 51.53125 44.890625 \n",
              "Q 49.859375 40.875 45.40625 35.40625 \n",
              "Q 44.1875 33.984375 37.640625 27.21875 \n",
              "Q 31.109375 20.453125 19.1875 8.296875 \n",
              "z\n",
              "\" id=\"DejaVuSans-50\"/>\n",
              "     </defs>\n",
              "     <g transform=\"translate(49.328522 67.567258)scale(0.12 -0.12)\">\n",
              "      <use xlink:href=\"#DejaVuSans-50\"/>\n",
              "     </g>\n",
              "    </g>\n",
              "   </g>\n",
              "   <g id=\"text_4\">\n",
              "    <g clip-path=\"url(#pbb5dea56d1)\">\n",
              "     <!-- 3 -->\n",
              "     <defs>\n",
              "      <path d=\"M 40.578125 39.3125 \n",
              "Q 47.65625 37.796875 51.625 33 \n",
              "Q 55.609375 28.21875 55.609375 21.1875 \n",
              "Q 55.609375 10.40625 48.1875 4.484375 \n",
              "Q 40.765625 -1.421875 27.09375 -1.421875 \n",
              "Q 22.515625 -1.421875 17.65625 -0.515625 \n",
              "Q 12.796875 0.390625 7.625 2.203125 \n",
              "L 7.625 11.71875 \n",
              "Q 11.71875 9.328125 16.59375 8.109375 \n",
              "Q 21.484375 6.890625 26.8125 6.890625 \n",
              "Q 36.078125 6.890625 40.9375 10.546875 \n",
              "Q 45.796875 14.203125 45.796875 21.1875 \n",
              "Q 45.796875 27.640625 41.28125 31.265625 \n",
              "Q 36.765625 34.90625 28.71875 34.90625 \n",
              "L 20.21875 34.90625 \n",
              "L 20.21875 43.015625 \n",
              "L 29.109375 43.015625 \n",
              "Q 36.375 43.015625 40.234375 45.921875 \n",
              "Q 44.09375 48.828125 44.09375 54.296875 \n",
              "Q 44.09375 59.90625 40.109375 62.90625 \n",
              "Q 36.140625 65.921875 28.71875 65.921875 \n",
              "Q 24.65625 65.921875 20.015625 65.03125 \n",
              "Q 15.375 64.15625 9.8125 62.3125 \n",
              "L 9.8125 71.09375 \n",
              "Q 15.4375 72.65625 20.34375 73.4375 \n",
              "Q 25.25 74.21875 29.59375 74.21875 \n",
              "Q 40.828125 74.21875 47.359375 69.109375 \n",
              "Q 53.90625 64.015625 53.90625 55.328125 \n",
              "Q 53.90625 49.265625 50.4375 45.09375 \n",
              "Q 46.96875 40.921875 40.578125 39.3125 \n",
              "z\n",
              "\" id=\"DejaVuSans-51\"/>\n",
              "     </defs>\n",
              "     <g transform=\"translate(227.987446 74.847774)scale(0.12 -0.12)\">\n",
              "      <use xlink:href=\"#DejaVuSans-51\"/>\n",
              "     </g>\n",
              "    </g>\n",
              "   </g>\n",
              "   <g id=\"text_5\">\n",
              "    <g clip-path=\"url(#pbb5dea56d1)\">\n",
              "     <!-- 4 -->\n",
              "     <defs>\n",
              "      <path d=\"M 37.796875 64.3125 \n",
              "L 12.890625 25.390625 \n",
              "L 37.796875 25.390625 \n",
              "z\n",
              "M 35.203125 72.90625 \n",
              "L 47.609375 72.90625 \n",
              "L 47.609375 25.390625 \n",
              "L 58.015625 25.390625 \n",
              "L 58.015625 17.1875 \n",
              "L 47.609375 17.1875 \n",
              "L 47.609375 0 \n",
              "L 37.796875 0 \n",
              "L 37.796875 17.1875 \n",
              "L 4.890625 17.1875 \n",
              "L 4.890625 26.703125 \n",
              "z\n",
              "\" id=\"DejaVuSans-52\"/>\n",
              "     </defs>\n",
              "     <g transform=\"translate(59.556971 20.394886)scale(0.12 -0.12)\">\n",
              "      <use xlink:href=\"#DejaVuSans-52\"/>\n",
              "     </g>\n",
              "    </g>\n",
              "   </g>\n",
              "   <g id=\"text_6\">\n",
              "    <g clip-path=\"url(#pbb5dea56d1)\">\n",
              "     <!-- 5 -->\n",
              "     <defs>\n",
              "      <path d=\"M 10.796875 72.90625 \n",
              "L 49.515625 72.90625 \n",
              "L 49.515625 64.59375 \n",
              "L 19.828125 64.59375 \n",
              "L 19.828125 46.734375 \n",
              "Q 21.96875 47.46875 24.109375 47.828125 \n",
              "Q 26.265625 48.1875 28.421875 48.1875 \n",
              "Q 40.625 48.1875 47.75 41.5 \n",
              "Q 54.890625 34.8125 54.890625 23.390625 \n",
              "Q 54.890625 11.625 47.5625 5.09375 \n",
              "Q 40.234375 -1.421875 26.90625 -1.421875 \n",
              "Q 22.3125 -1.421875 17.546875 -0.640625 \n",
              "Q 12.796875 0.140625 7.71875 1.703125 \n",
              "L 7.71875 11.625 \n",
              "Q 12.109375 9.234375 16.796875 8.0625 \n",
              "Q 21.484375 6.890625 26.703125 6.890625 \n",
              "Q 35.15625 6.890625 40.078125 11.328125 \n",
              "Q 45.015625 15.765625 45.015625 23.390625 \n",
              "Q 45.015625 31 40.078125 35.4375 \n",
              "Q 35.15625 39.890625 26.703125 39.890625 \n",
              "Q 22.75 39.890625 18.8125 39.015625 \n",
              "Q 14.890625 38.140625 10.796875 36.28125 \n",
              "z\n",
              "\" id=\"DejaVuSans-53\"/>\n",
              "     </defs>\n",
              "     <g transform=\"translate(289.657477 174.861697)scale(0.12 -0.12)\">\n",
              "      <use xlink:href=\"#DejaVuSans-53\"/>\n",
              "     </g>\n",
              "    </g>\n",
              "   </g>\n",
              "   <g id=\"text_7\">\n",
              "    <g clip-path=\"url(#pbb5dea56d1)\">\n",
              "     <!-- 6 -->\n",
              "     <defs>\n",
              "      <path d=\"M 33.015625 40.375 \n",
              "Q 26.375 40.375 22.484375 35.828125 \n",
              "Q 18.609375 31.296875 18.609375 23.390625 \n",
              "Q 18.609375 15.53125 22.484375 10.953125 \n",
              "Q 26.375 6.390625 33.015625 6.390625 \n",
              "Q 39.65625 6.390625 43.53125 10.953125 \n",
              "Q 47.40625 15.53125 47.40625 23.390625 \n",
              "Q 47.40625 31.296875 43.53125 35.828125 \n",
              "Q 39.65625 40.375 33.015625 40.375 \n",
              "z\n",
              "M 52.59375 71.296875 \n",
              "L 52.59375 62.3125 \n",
              "Q 48.875 64.0625 45.09375 64.984375 \n",
              "Q 41.3125 65.921875 37.59375 65.921875 \n",
              "Q 27.828125 65.921875 22.671875 59.328125 \n",
              "Q 17.53125 52.734375 16.796875 39.40625 \n",
              "Q 19.671875 43.65625 24.015625 45.921875 \n",
              "Q 28.375 48.1875 33.59375 48.1875 \n",
              "Q 44.578125 48.1875 50.953125 41.515625 \n",
              "Q 57.328125 34.859375 57.328125 23.390625 \n",
              "Q 57.328125 12.15625 50.6875 5.359375 \n",
              "Q 44.046875 -1.421875 33.015625 -1.421875 \n",
              "Q 20.359375 -1.421875 13.671875 8.265625 \n",
              "Q 6.984375 17.96875 6.984375 36.375 \n",
              "Q 6.984375 53.65625 15.1875 63.9375 \n",
              "Q 23.390625 74.21875 37.203125 74.21875 \n",
              "Q 40.921875 74.21875 44.703125 73.484375 \n",
              "Q 48.484375 72.75 52.59375 71.296875 \n",
              "z\n",
              "\" id=\"DejaVuSans-54\"/>\n",
              "     </defs>\n",
              "     <g transform=\"translate(43.612196 218.067614)scale(0.12 -0.12)\">\n",
              "      <use xlink:href=\"#DejaVuSans-54\"/>\n",
              "     </g>\n",
              "    </g>\n",
              "   </g>\n",
              "   <g id=\"text_8\">\n",
              "    <g clip-path=\"url(#pbb5dea56d1)\">\n",
              "     <!-- 7 -->\n",
              "     <defs>\n",
              "      <path d=\"M 8.203125 72.90625 \n",
              "L 55.078125 72.90625 \n",
              "L 55.078125 68.703125 \n",
              "L 28.609375 0 \n",
              "L 18.3125 0 \n",
              "L 43.21875 64.59375 \n",
              "L 8.203125 64.59375 \n",
              "z\n",
              "\" id=\"DejaVuSans-55\"/>\n",
              "     </defs>\n",
              "     <g transform=\"translate(228.695221 105.279905)scale(0.12 -0.12)\">\n",
              "      <use xlink:href=\"#DejaVuSans-55\"/>\n",
              "     </g>\n",
              "    </g>\n",
              "   </g>\n",
              "   <g id=\"text_9\">\n",
              "    <g clip-path=\"url(#pbb5dea56d1)\">\n",
              "     <!-- 8 -->\n",
              "     <defs>\n",
              "      <path d=\"M 31.78125 34.625 \n",
              "Q 24.75 34.625 20.71875 30.859375 \n",
              "Q 16.703125 27.09375 16.703125 20.515625 \n",
              "Q 16.703125 13.921875 20.71875 10.15625 \n",
              "Q 24.75 6.390625 31.78125 6.390625 \n",
              "Q 38.8125 6.390625 42.859375 10.171875 \n",
              "Q 46.921875 13.96875 46.921875 20.515625 \n",
              "Q 46.921875 27.09375 42.890625 30.859375 \n",
              "Q 38.875 34.625 31.78125 34.625 \n",
              "z\n",
              "M 21.921875 38.8125 \n",
              "Q 15.578125 40.375 12.03125 44.71875 \n",
              "Q 8.5 49.078125 8.5 55.328125 \n",
              "Q 8.5 64.0625 14.71875 69.140625 \n",
              "Q 20.953125 74.21875 31.78125 74.21875 \n",
              "Q 42.671875 74.21875 48.875 69.140625 \n",
              "Q 55.078125 64.0625 55.078125 55.328125 \n",
              "Q 55.078125 49.078125 51.53125 44.71875 \n",
              "Q 48 40.375 41.703125 38.8125 \n",
              "Q 48.828125 37.15625 52.796875 32.3125 \n",
              "Q 56.78125 27.484375 56.78125 20.515625 \n",
              "Q 56.78125 9.90625 50.3125 4.234375 \n",
              "Q 43.84375 -1.421875 31.78125 -1.421875 \n",
              "Q 19.734375 -1.421875 13.25 4.234375 \n",
              "Q 6.78125 9.90625 6.78125 20.515625 \n",
              "Q 6.78125 27.484375 10.78125 32.3125 \n",
              "Q 14.796875 37.15625 21.921875 38.8125 \n",
              "z\n",
              "M 18.3125 54.390625 \n",
              "Q 18.3125 48.734375 21.84375 45.5625 \n",
              "Q 25.390625 42.390625 31.78125 42.390625 \n",
              "Q 38.140625 42.390625 41.71875 45.5625 \n",
              "Q 45.3125 48.734375 45.3125 54.390625 \n",
              "Q 45.3125 60.0625 41.71875 63.234375 \n",
              "Q 38.140625 66.40625 31.78125 66.40625 \n",
              "Q 25.390625 66.40625 21.84375 63.234375 \n",
              "Q 18.3125 60.0625 18.3125 54.390625 \n",
              "z\n",
              "\" id=\"DejaVuSans-56\"/>\n",
              "     </defs>\n",
              "     <g transform=\"translate(168.991266 127.225707)scale(0.12 -0.12)\">\n",
              "      <use xlink:href=\"#DejaVuSans-56\"/>\n",
              "     </g>\n",
              "    </g>\n",
              "   </g>\n",
              "   <g id=\"text_10\">\n",
              "    <g clip-path=\"url(#pbb5dea56d1)\">\n",
              "     <!-- 9 -->\n",
              "     <defs>\n",
              "      <path d=\"M 10.984375 1.515625 \n",
              "L 10.984375 10.5 \n",
              "Q 14.703125 8.734375 18.5 7.8125 \n",
              "Q 22.3125 6.890625 25.984375 6.890625 \n",
              "Q 35.75 6.890625 40.890625 13.453125 \n",
              "Q 46.046875 20.015625 46.78125 33.40625 \n",
              "Q 43.953125 29.203125 39.59375 26.953125 \n",
              "Q 35.25 24.703125 29.984375 24.703125 \n",
              "Q 19.046875 24.703125 12.671875 31.3125 \n",
              "Q 6.296875 37.9375 6.296875 49.421875 \n",
              "Q 6.296875 60.640625 12.9375 67.421875 \n",
              "Q 19.578125 74.21875 30.609375 74.21875 \n",
              "Q 43.265625 74.21875 49.921875 64.515625 \n",
              "Q 56.59375 54.828125 56.59375 36.375 \n",
              "Q 56.59375 19.140625 48.40625 8.859375 \n",
              "Q 40.234375 -1.421875 26.421875 -1.421875 \n",
              "Q 22.703125 -1.421875 18.890625 -0.6875 \n",
              "Q 15.09375 0.046875 10.984375 1.515625 \n",
              "z\n",
              "M 30.609375 32.421875 \n",
              "Q 37.25 32.421875 41.125 36.953125 \n",
              "Q 45.015625 41.5 45.015625 49.421875 \n",
              "Q 45.015625 57.28125 41.125 61.84375 \n",
              "Q 37.25 66.40625 30.609375 66.40625 \n",
              "Q 23.96875 66.40625 20.09375 61.84375 \n",
              "Q 16.21875 57.28125 16.21875 49.421875 \n",
              "Q 16.21875 41.5 20.09375 36.953125 \n",
              "Q 23.96875 32.421875 30.609375 32.421875 \n",
              "z\n",
              "\" id=\"DejaVuSans-57\"/>\n",
              "     </defs>\n",
              "     <g transform=\"translate(142.59353 152.995179)scale(0.12 -0.12)\">\n",
              "      <use xlink:href=\"#DejaVuSans-57\"/>\n",
              "     </g>\n",
              "    </g>\n",
              "   </g>\n",
              "   <g id=\"text_11\">\n",
              "    <g clip-path=\"url(#pbb5dea56d1)\">\n",
              "     <!-- 10 -->\n",
              "     <g transform=\"translate(110.206514 103.709332)scale(0.12 -0.12)\">\n",
              "      <use xlink:href=\"#DejaVuSans-49\"/>\n",
              "      <use x=\"63.623047\" xlink:href=\"#DejaVuSans-48\"/>\n",
              "     </g>\n",
              "    </g>\n",
              "   </g>\n",
              "   <g id=\"text_12\">\n",
              "    <g clip-path=\"url(#pbb5dea56d1)\">\n",
              "     <!-- 11 -->\n",
              "     <g transform=\"translate(252.61345 146.305515)scale(0.12 -0.12)\">\n",
              "      <use xlink:href=\"#DejaVuSans-49\"/>\n",
              "      <use x=\"63.623047\" xlink:href=\"#DejaVuSans-49\"/>\n",
              "     </g>\n",
              "    </g>\n",
              "   </g>\n",
              "   <g id=\"text_13\">\n",
              "    <g clip-path=\"url(#pbb5dea56d1)\">\n",
              "     <!-- 12 -->\n",
              "     <g transform=\"translate(319.146818 114.814943)scale(0.12 -0.12)\">\n",
              "      <use xlink:href=\"#DejaVuSans-49\"/>\n",
              "      <use x=\"63.623047\" xlink:href=\"#DejaVuSans-50\"/>\n",
              "     </g>\n",
              "    </g>\n",
              "   </g>\n",
              "   <g id=\"text_14\">\n",
              "    <g clip-path=\"url(#pbb5dea56d1)\">\n",
              "     <!-- 13 -->\n",
              "     <g transform=\"translate(14.783182 106.188825)scale(0.12 -0.12)\">\n",
              "      <use xlink:href=\"#DejaVuSans-49\"/>\n",
              "      <use x=\"63.623047\" xlink:href=\"#DejaVuSans-51\"/>\n",
              "     </g>\n",
              "    </g>\n",
              "   </g>\n",
              "   <g id=\"text_15\">\n",
              "    <g clip-path=\"url(#pbb5dea56d1)\">\n",
              "     <!-- 14 -->\n",
              "     <g transform=\"translate(98.450547 43.045915)scale(0.12 -0.12)\">\n",
              "      <use xlink:href=\"#DejaVuSans-49\"/>\n",
              "      <use x=\"63.623047\" xlink:href=\"#DejaVuSans-52\"/>\n",
              "     </g>\n",
              "    </g>\n",
              "   </g>\n",
              "  </g>\n",
              " </g>\n",
              " <defs>\n",
              "  <clipPath id=\"pbb5dea56d1\">\n",
              "   <rect height=\"217.44\" width=\"334.8\" x=\"7.2\" y=\"7.2\"/>\n",
              "  </clipPath>\n",
              " </defs>\n",
              "</svg>\n"
            ],
            "text/plain": [
              "<Figure size 432x288 with 1 Axes>"
            ]
          },
          "metadata": {},
          "output_type": "display_data"
        }
      ],
      "source": [
        "# A small subset of the network to plot\n",
        "\n",
        "similarity_graph_red = networkx.from_numpy_array(corpus_tfidf_dense[:,:15].T@corpus_tfidf_dense[:,:15])\n",
        "\n",
        "networkx.draw_networkx(similarity_graph_red, node_color='lime')"
      ]
    },
    {
      "cell_type": "markdown",
      "metadata": {
        "id": "HlA28Wfao9e5"
      },
      "source": [
        "Calculamos los scores e imprimos las frases con mayor valor:"
      ]
    },
    {
      "cell_type": "code",
      "execution_count": null,
      "metadata": {
        "id": "k8Q5OS2To9e5"
      },
      "outputs": [],
      "source": [
        "scores = networkx.pagerank(similarity_graph)\n",
        "\n",
        "scores_values = np.fromiter(scores.values(), dtype=float)\n",
        "\n",
        "top_sentence_indices = np.argsort(-scores_values)[:num_sentences]\n",
        "\n",
        "# Ordenamos para imprimir en el orden del texto\n",
        "top_sentence_indices.sort()\n"
      ]
    },
    {
      "cell_type": "code",
      "execution_count": null,
      "metadata": {
        "colab": {
          "base_uri": "https://localhost:8080/"
        },
        "id": "nlxoAZ8Yo9e5",
        "outputId": "c8b22961-0de6-4ec0-9f5c-9202e73a24d0"
      },
      "outputs": [
        {
          "data": {
            "text/plain": [
              "array([ 0,  1,  8,  9, 13, 14, 22, 25])"
            ]
          },
          "execution_count": 90,
          "metadata": {},
          "output_type": "execute_result"
        }
      ],
      "source": [
        "top_sentence_indices"
      ]
    },
    {
      "cell_type": "code",
      "execution_count": null,
      "metadata": {
        "colab": {
          "base_uri": "https://localhost:8080/"
        },
        "id": "XHwSF_1ao9e5",
        "outputId": "93c8dd69-fabc-4c62-8246-2498385258e6"
      },
      "outputs": [
        {
          "data": {
            "text/plain": [
              "33"
            ]
          },
          "execution_count": 91,
          "metadata": {},
          "output_type": "execute_result"
        }
      ],
      "source": [
        "len(sentences)"
      ]
    },
    {
      "cell_type": "code",
      "execution_count": null,
      "metadata": {
        "colab": {
          "base_uri": "https://localhost:8080/"
        },
        "id": "yIcpw8bso9e5",
        "outputId": "fbd02bf9-05e3-44c5-a787-2a5b6055a2e2"
      },
      "outputs": [
        {
          "name": "stdout",
          "output_type": "stream",
          "text": [
            "\n",
            "Democrats have spent the last several years clamoring to raise taxes on corporations and the rich, seeing that as a necessary antidote to widening economic inequality and a rebuke of President Donald J. Trump’s signature tax cuts.\n",
            "***************\n",
            "\n",
            "\n",
            "Now, under President Biden, they have a shot at ushering in the largest federal tax increase since 1942.\n",
            "***************\n",
            "\n",
            "\n",
            "The package, which follows on the heels of Mr. Biden’s $1.9 trillion economic aid bill, is central to the president’s long-term plan to revitalize American workers and industry by funding bridges and roads, universal pre-K, emerging industries like advanced batteries and efforts to invigorate the fight against climate change.\n",
            "***************\n",
            "\n",
            "\n",
            "Mr. Biden plans to finance that spending, at least in part, with tax increases that could raise upward of $2.5 trillion in revenue if his plan hews closely to what he proposed in the 2020 presidential campaign.\n",
            "***************\n",
            "Mr. Biden has stressed his broad-brush desire to increase the tax burden on wealthy Americans who largely earn their money through inheritance or investment, to fund spending programs meant to help people who earn their money primarily through wages.\n",
            "***************\n",
            "\n",
            "\n",
            "Democratic lawmakers have promised for decades to raise taxes on companies and the wealthy, a desire that kicked into overdrive after Mr. Trump signed a tax-cut package that delivered an outsize share of its benefits to corporations and high earners.\n",
            "***************\n",
            "The most conservative Democrats in the Senate, who hold great sway over Mr. Biden’s legislative agenda, say they favor trillions of dollars in infrastructure spending so long as there is a plan to pay for it.\n",
            "***************\n",
            "\n",
            "\n",
            "Democrats widely share a desire to raise the corporate income tax rate after it was cut to 21 percent in 2017.\n",
            "***************\n"
          ]
        }
      ],
      "source": [
        "for l in top_sentence_indices:\n",
        "\n",
        "    print(sentences[l].text)\n",
        "    print('***************')\n",
        "    "
      ]
    },
    {
      "cell_type": "markdown",
      "metadata": {
        "id": "qZnu5ooqo9e5"
      },
      "source": [
        "### Implementación usando `gensim`\n",
        "\n",
        "**Hasta la versión 3.8**, Gensim proporciona una [función directa para TextRank](https://radimrehurek.com/gensim_3.8.3/summarization/summariser.html) que realiza internamente todo el preprocesado:"
      ]
    },
    {
      "cell_type": "code",
      "execution_count": null,
      "metadata": {
        "colab": {
          "base_uri": "https://localhost:8080/"
        },
        "id": "3u9tVFqgo9e5",
        "outputId": "ea45fa95-c773-4ab7-8760-c2597f0200a2"
      },
      "outputs": [
        {
          "name": "stdout",
          "output_type": "stream",
          "text": [
            "Mr. Biden plans to finance that spending, at least in part, with tax increases that could raise upward of $2.5 trillion in revenue if his plan hews closely to what he proposed in the 2020 presidential campaign.\n",
            "***************\n",
            "(A Transportation Department spokesman said on Saturday that there would be no vehicle-miles-traveled tax in the infrastructure proposal.) Mr. Biden has stressed his broad-brush desire to increase the tax burden on wealthy Americans who largely earn their money through inheritance or investment, to fund spending programs meant to help people who earn their money primarily through wages.\n",
            "***************\n",
            "Democratic lawmakers have promised for decades to raise taxes on companies and the wealthy, a desire that kicked into overdrive after Mr. Trump signed a tax-cut package that delivered an outsize share of its benefits to corporations and high earners.\n",
            "***************\n",
            "Public polling shows broad support, even among many Republican voters, for raising taxes on large corporations and high-income individuals.\n",
            "***************\n",
            "The most conservative Democrats in the Senate, who hold great sway over Mr. Biden’s legislative agenda, say they favor trillions of dollars in infrastructure spending so long as there is a plan to pay for it.\n",
            "***************\n",
            "Democrats widely share a desire to raise the corporate income tax rate after it was cut to 21 percent in 2017.\n",
            "***************\n"
          ]
        }
      ],
      "source": [
        "from gensim.summarization.summarizer import summarize\n",
        "\n",
        "summary = summarize(DOCUMENT, ratio=0.2, split=True)\n",
        "\n",
        "for l in summary:\n",
        "    \n",
        "    print(l)\n",
        "    \n",
        "    print('***************')"
      ]
    },
    {
      "cell_type": "markdown",
      "metadata": {
        "id": "58TzhHlUo9e6"
      },
      "source": [
        "# 2.3 Algoritmo Rake\n",
        "\n",
        "[Rapid Automatic Keyword Extraction](https://medium.datadriveninvestor.com/rake-rapid-automatic-keyword-extraction-algorithm-f4ec17b2886c) (RAKE) es un conocido método de extracción de palabras clave que utiliza una lista de  delimitadores de frases para detectar las palabras o frases más relevantes en un fragmento de texto. Este método está muy bien descrito en este [capítulo de libro](https://catalogimages.wiley.com/images/db/pdf/9780470749821.excerpt.pdf).\n",
        "\n",
        "En comparación a LSA o TextRank, RAKE se caracteriza por una menor complejidad computacional, que puede ser un aspecto crítico en documentos muy largos. \n",
        "\n",
        "<img src='http://www.tsc.uc3m.es/~olmos/BBVA/RAKE.png' width=400 />\n",
        "\n",
        "\n",
        "Aunque RAKE no está incluído en NLTK o gensim, sí hay repositorios libres que lo implementan. Vamos a utilizar [este](https://pypi.org/project/rake-nltk/)."
      ]
    },
    {
      "cell_type": "code",
      "execution_count": null,
      "metadata": {
        "colab": {
          "base_uri": "https://localhost:8080/"
        },
        "id": "yy6bJJ6wo9e6",
        "outputId": "6b6b8321-bdc6-4527-c920-e11f7c41e417"
      },
      "outputs": [
        {
          "name": "stdout",
          "output_type": "stream",
          "text": [
            "Requirement already satisfied: rake-nltk in /Users/olmos/opt/anaconda3/envs/gensim3/lib/python3.6/site-packages (1.0.6)\n",
            "Requirement already satisfied: nltk<4.0.0,>=3.6.2 in /Users/olmos/.local/lib/python3.6/site-packages (from rake-nltk) (3.6.2)\n",
            "Requirement already satisfied: joblib in /Users/olmos/opt/anaconda3/envs/gensim3/lib/python3.6/site-packages (from nltk<4.0.0,>=3.6.2->rake-nltk) (0.16.0)\n",
            "Requirement already satisfied: tqdm in /Users/olmos/opt/anaconda3/envs/gensim3/lib/python3.6/site-packages (from nltk<4.0.0,>=3.6.2->rake-nltk) (4.47.0)\n",
            "Requirement already satisfied: regex in /Users/olmos/opt/anaconda3/envs/gensim3/lib/python3.6/site-packages (from nltk<4.0.0,>=3.6.2->rake-nltk) (2020.6.8)\n",
            "Requirement already satisfied: click in /Users/olmos/opt/anaconda3/envs/gensim3/lib/python3.6/site-packages (from nltk<4.0.0,>=3.6.2->rake-nltk) (7.1.2)\n"
          ]
        }
      ],
      "source": [
        "!pip install rake-nltk"
      ]
    },
    {
      "cell_type": "code",
      "execution_count": null,
      "metadata": {
        "colab": {
          "base_uri": "https://localhost:8080/"
        },
        "id": "yI_cKvx5o9e6",
        "outputId": "d5a51f0e-6fad-466f-d8b9-ca65326cbc62"
      },
      "outputs": [
        {
          "data": {
            "text/plain": [
              "['large tax increases since president bill clinton signed',\n",
              " 'largest federal tax increase since 1942',\n",
              " 'upper end .” democrats widely share',\n",
              " 'overheating growth spurring runaway inflation',\n",
              " 'even among many republican voters',\n",
              " 'includes senator joe manchin iii',\n",
              " 'emerging industries like advanced batteries',\n",
              " '9 trillion economic relief bill',\n",
              " '9 trillion economic aid bill',\n",
              " 'tax increases would cause growth',\n",
              " 'public polling shows broad support',\n",
              " 'liberal economists predict would bolster',\n",
              " 'fastest annual clip since',\n",
              " 'democrats say encourages wealthy people',\n",
              " 'last several years clamoring',\n",
              " 'time spending increases offset',\n",
              " 'president barack obama campaigned',\n",
              " 'transportation department spokesman said',\n",
              " 'including senators bernie sanders',\n",
              " 'consider additional tax plans']"
            ]
          },
          "execution_count": 95,
          "metadata": {},
          "output_type": "execute_result"
        }
      ],
      "source": [
        "from rake_nltk import Rake\n",
        "\n",
        "r = Rake() # Uses stopwords for english from NLTK, and all puntuation characters.\n",
        "\n",
        "r.extract_keywords_from_text(DOCUMENT)\n",
        "\n",
        "r.get_ranked_phrases()[:20] # To get keyword phrases ranked highest to lowest."
      ]
    },
    {
      "cell_type": "markdown",
      "metadata": {
        "id": "1uWaWLgGo9e6"
      },
      "source": [
        "# 3. Determinación de palabras clave (keywords)\n",
        "\n",
        "A continuación enumeramos dos técnicas sencillas para determinar palabras clave en un documento.\n",
        "\n",
        "## 3.1 Co-ocurrencias (Collocations)\n",
        "\n",
        "La idea de **n-grams** y **co-ocurrencias** ya la habéis visto en sesiones anteriores. La repasamos brevemente. Una colocación se puede definir como una secuencia o grupo de palabras que tienden a ocurrir con frecuencia y esta frecuencia tiende a ser más de lo que podría denominarse una ocurrencia aleatoria o casual. Las colocaciones se calculan a partir de la codificación del texto mediante **n-grams** (secuencias de n palabras consecutivas) y la posterior determinación de los n-grams más frecuentes.\n",
        "\n",
        "NLTK proporciona funciones para encontrar las co-ocurrencias en el texto y establecer un ranking de acuerdo a diferentes métricas (frecuencia de aparición, información mútua o log-verosimilitud, entre otras).\n",
        "\n",
        "Vamos a determinar las **co-ocurrencias a partir de bi-gramas** más representativas en el texto de ejemplo:\n"
      ]
    },
    {
      "cell_type": "code",
      "execution_count": null,
      "metadata": {
        "colab": {
          "base_uri": "https://localhost:8080/"
        },
        "id": "t2oMHjroo9e6",
        "outputId": "ec3fe50c-c91e-4472-a022-8e45a6ce0cd6"
      },
      "outputs": [
        {
          "name": "stdout",
          "output_type": "stream",
          "text": [
            "[('raise', 'taxis'), ('tax', 'increase'), ('tax', 'cut'), ('biden', 'plan'), ('corporation', 'high'), ('earn', 'money'), ('federal', 'borrowing'), ('liberal', 'economist'), ('mile', 'travel'), ('people', 'earn')]\n",
            "*************\n",
            "[('raise', 'taxis'), ('vehicle', 'mile'), ('tax', 'increase'), ('federal', 'borrowing'), ('liberal', 'economist'), ('mile', 'travel'), ('widely', 'share'), ('earn', 'money'), ('corporation', 'high'), ('tax', 'cut')]\n"
          ]
        }
      ],
      "source": [
        "from nltk.collocations import BigramCollocationFinder \n",
        "from nltk.collocations import BigramAssocMeasures\n",
        "\n",
        "norm_doc = [w for s in norm_doc_sent for w in s]\n",
        "\n",
        "finder = BigramCollocationFinder.from_words(norm_doc) # Pasamos el documento normalizado, sin dividir en frases\n",
        "\n",
        "# Ranking: frecuencia del bi-grama\n",
        "\n",
        "print(finder.nbest(BigramAssocMeasures.raw_freq, 10))\n",
        "\n",
        "print('*************')\n",
        "\n",
        "# Ranking: likelihood_ratio\n",
        "\n",
        "print(finder.nbest(BigramAssocMeasures.likelihood_ratio, 10))\n"
      ]
    },
    {
      "cell_type": "markdown",
      "metadata": {
        "id": "gfUe_KH3o9e6"
      },
      "source": [
        "Podemos proceder de forma similar con los **tri-gramas**:"
      ]
    },
    {
      "cell_type": "code",
      "execution_count": null,
      "metadata": {
        "colab": {
          "base_uri": "https://localhost:8080/"
        },
        "id": "qMxjPWpao9e6",
        "outputId": "aa7170a1-56c7-4d2a-c86e-c39cc0e03a33"
      },
      "outputs": [
        {
          "name": "stdout",
          "output_type": "stream",
          "text": [
            "[('vehicle', 'mile', 'travel'), ('1942', 'help', 'pay'), ('1993', 'law', 'include'), ('2008', 'financial', 'crisis'), ('2012', 'liberal', 'economist'), ('2017', 'make', 'wealthy'), ('2017', 'tax', 'overhaul'), ('2017', 'want', 'raise'), ('2020', 'presidential', 'campaign'), ('21', 'percent', '2017')]\n",
            "*************\n",
            "[('advocate', 'raise', 'taxis'), ('clamor', 'raise', 'taxis'), ('decade', 'raise', 'taxis'), ('pledge', 'raise', 'taxis'), ('voter', 'raise', 'taxis'), ('vehicle', 'mile', 'travel'), ('raise', 'taxis', 'company'), ('raise', 'taxis', 'broad'), ('raise', 'taxis', 'corporation'), ('raise', 'taxis', 'large')]\n"
          ]
        }
      ],
      "source": [
        "from nltk.collocations import TrigramCollocationFinder \n",
        "from nltk.collocations import TrigramAssocMeasures\n",
        "\n",
        "\n",
        "finder = TrigramCollocationFinder.from_words(norm_doc) # Pasamos el documento normalizado, sin dividir en frases\n",
        "\n",
        "# Ranking: frecuencia del bi-grama\n",
        "\n",
        "print(finder.nbest(TrigramAssocMeasures.raw_freq, 10))\n",
        "\n",
        "print('*************')\n",
        "\n",
        "# Ranking: likelihood_ratio\n",
        "\n",
        "print(finder.nbest(TrigramAssocMeasures.likelihood_ratio, 10))\n",
        "\n"
      ]
    },
    {
      "cell_type": "markdown",
      "metadata": {
        "id": "MQQZ-pUfo9e7"
      },
      "source": [
        "Podemos observar como los n-grams obtenidos en el ranking dan información relevante acerca del contenido del documento. De echo, la caraterización de un texto mediante el conteo completo de sus n-grams da lugar a una representación vectorial conocida como **Bag-of-n-grams**, una extensión natural de **Bag-of-words**. "
      ]
    },
    {
      "cell_type": "markdown",
      "metadata": {
        "id": "oeF3MLHoo9e7"
      },
      "source": [
        "## 3.2 Palabras clave con TextRank\n",
        "\n",
        "TextRank también puede aplicarse de forma sencilla para encontrar **palabras clave en un documento**. Tal y como se explica el [artículo original](https://web.eecs.umich.edu/~mihalcea/papers/mihalcea.emnlp04.pdf), en este caso definiremos un nodo por cada palabra y las similitud entre palabras (el peso $w_{ij}$) se mide como el número de **co-ocurrencias** de ambas palabras en todo el documento en una ventana de longitud $N$.\n",
        "\n",
        "Los vértices agregados al gráfo se pueden restringir con filtros sintácticos, por ejemplo restrigiendo el gráfo a verbos y sustantivos.\n",
        "\n",
        "A través de la función [`gensim.summarization.keywords()`](https://radimrehurek.com/gensim_3.8.3/summarization/keywords.html) podemos obtener las palabras clave utilizando este método.\n",
        "\n"
      ]
    },
    {
      "cell_type": "code",
      "execution_count": null,
      "metadata": {
        "colab": {
          "base_uri": "https://localhost:8080/"
        },
        "id": "74sV1sFNo9e7",
        "outputId": "bfba9fc9-88aa-4202-c982-ea64cf5b11e3"
      },
      "outputs": [
        {
          "data": {
            "text/plain": [
              "['taxing',\n",
              " 'economic',\n",
              " 'democratic',\n",
              " 'like',\n",
              " 'president',\n",
              " 'income',\n",
              " 'spending',\n",
              " 'plans',\n",
              " 'senators',\n",
              " 'business',\n",
              " 'wealthy',\n",
              " 'growth',\n",
              " 'americans',\n",
              " 'infrastructure',\n",
              " 'federal']"
            ]
          },
          "execution_count": 98,
          "metadata": {},
          "output_type": "execute_result"
        }
      ],
      "source": [
        "from gensim.summarization import keywords\n",
        "\n",
        "keywords(DOCUMENT,words=15,lemmatize=True,split=True)\n"
      ]
    },
    {
      "cell_type": "markdown",
      "metadata": {
        "id": "kOotmZg6o9e7"
      },
      "source": [
        "> **Ejercicio**: Determine las frases más relevantes del siguiente texto en español usando LSA y TextRank"
      ]
    },
    {
      "cell_type": "code",
      "execution_count": null,
      "metadata": {
        "id": "pr8aYos60Mmp"
      },
      "outputs": [],
      "source": [
        "DOCUMENTO = \"\"\"\n",
        "El debate sobre la capacidad cognitiva de los neandertales, la especie humana más cercana a la nuestra, desaparecida hace unos 40.000 años, parece cada vez más cerrado en la comunidad científica: eran tan inteligentes, hábiles, solidarios y creativos como nosotros, los Homo sapiens. Pero ahora, los nuevos descubrimientos genéticos abren un debate todavía más desafiante: ¿y si, en realidad, no se extinguieron? Impulsados por nuevos análisis de ADN fósil, algunos expertos apuntan que los neandertales siguen aquí porque somos nosotros, ya que se produjo una integración entre las dos especies.\n",
        "\n",
        "Cuanto más material genético se logra extraer y analizar de la prehistoria remota —algo nada sencillo, porque cuanto más antiguo es el ADN, más difícil es que dé resultados fiables— resulta más evidente que los neandertales y los seres humanos mantuvieron cruces constantes. La revista Nature reveló el miércoles los análisis de ADN de cuatro individuos europeos de hace 45.000 años: todos ellos tenían antepasados, más o menos directos, neandertales. Y no es la primera vez que ocurre: los otros dos genomas de Homo sapiens de aquella época que se han logrado analizar también revelan hibridación entre las especies, en un caso, además, muy reciente (su tatarabuelo pertenecía a la otra especie).\n",
        "\n",
        "Si los cruces entre neandertales y Homo sapiens hubiesen sido raros y muy localizados en el tiempo y en el espacio, esos resultados serían el equivalente científico a encontrar una aguja en el inmenso pajar de la prehistoria. El hecho de que, una y otra vez, aparezcan antepasados directos indica un patrón. No está claro cuántas olas migratorias humanas llegaron desde África a Europa y Asia, ni cuándo se produjeron. Tampoco qué ocurrió con los seres humanos —neandertales y denisovanos— que estaban allí cuando llegó nuestra especie. Pero es evidente que mantuvieron relaciones mucho más que amistosas, como demuestran los resultados obtenidos por el equipo de Svante Pääbo, el genetista sueco que ha revolucionado la investigación de la evolución humana gracias al análisis del ADN antiguo y que obtuvo el primer genoma completo de un neandertal.\n",
        "\n",
        "“La huella neandertal está muy presente, en seis o siete generaciones anteriores”, explica Antonio Rosas, paleoantropólogo del Consejo Superior de Investigaciones Científicas (CSIC) y uno de los grandes expertos europeos en neandertales. “Cuando se analizaron restos más recientes, parecía que la hibridación había sido más esporádica; pero los nuevos resultados demuestran que es mucho más frecuente”, agrega este investigador que, sin embargo, no comparte la teoría de la “dilución de los neandertales en la población humana”.\n",
        "\n",
        "“Me parece una visión un poco buenista”, prosigue Rosas. “Los cromañones analizados son claramente sapiens desde el punto de vista fenotípico: no son neandertales, ni tampoco son una mezcla. Pero es indudable que estos nuevos descubrimientos vuelven a abrir el debate sobre la posibilidad de que se produjese una integración de los neandertales y los sapiens. Es posible que en algunos lugares se produjese ese fenómeno; pero también es probable que en otros los neandertales se extinguiesen”. Factores como la geografía o el clima pudieron influir en la extinción o la integración.\n",
        "\n",
        "Otros expertos creen, en cambio, que estos resultados demuestran sin duda que la extinción no se produjo, sino que los neandertales fueron absorbidos por los sapiens. Raquel Pérez Gómez, bióloga experta en genética y doctora en Ciencias Veterinarias por la Complutense, publicó hace tres años un artículo en EL PAÍS en el que señalaba que la paleogenética estaba minando la idea de que se trata de dos especies diferentes. “Estos resultados confirman (aún más si cabe) la postura de que no se puede hablar de especies, tampoco de híbridos, tampoco de extinción de los neandertales”, señala Pérez Gómez por correo electrónico.\n",
        "\n",
        "“En ciencia los conceptos son fundamentales”, prosigue Pérez Gómez. “Según [el biólogo evolutivo] Mayr y [el genetista] Dobzhansky, se acepta que una especie biológica es un grupo (o población) natural de individuos que pueden cruzarse entre sí y generar descendencia fértil. Cuantos más fósiles se secuencian, más eventos de cruce entre poblaciones de neandertales y humanos que migraban desde África se documentan. Cuanta más información tengamos, más completo irá siendo el mapa genético y la historia evolutiva de nuestra especie. Y pese a todas las resistencias, dentro de unas décadas quedará claro por el peso de las evidencias que los neandertales eran humanos como nosotros, con características, llamémosles, arcaicas”.\n",
        "\n",
        "Lo interesante es que el proceso de hibridación no se produjo al revés: en neandertales europeos recientes no se han encontrado restos de ADN de sapiens, lo que indicaría que los humanos modernos adoptaron a neandertales; pero estos no convivieron en sus grupos con humanos modernos. Aunque, como siempre en la prehistoria, cuánto más se sabe, más misterioso resulta todo: Antonio Rosas recuerda que, en cambio, en neandertales siberianos más antiguos, de hace unos 100.000 años, sí se han encontrado huellas sapiens.\n",
        "\n",
        "Lo que hace no tanto tiempo parecía imposible, se va haciendo realidad. Cuando se estrenó en 1981 la película En busca del fuego, la versión de Jean Jacques Annaud de la novela clásica de J.-H. Rosny Aîné, fue muy criticada porque mostraba una escena de sexo entre una sapiens y un neandertal. La paleogenética lo ha confirmado, pero también recalca algo que tiene una clara lectura contemporánea: el estudio de la prehistoria nos demuestra que es absurdo hablar de razas, que la humanidad es el resultado de un cruce infinito. Nosotros, la humanidad moderna, somos una mezcla interminable, que se prolonga a lo largo de los siglos y de los milenios.\n",
        "\"\"\"\n"
      ]
    },
    {
      "cell_type": "code",
      "execution_count": null,
      "metadata": {
        "id": "iVoNZ0DQ0Mmq",
        "outputId": "39e3f015-d515-4fc4-e390-5d20b70b780f"
      },
      "outputs": [
        {
          "name": "stdout",
          "output_type": "stream",
          "text": [
            "\n",
            "El debate sobre la capacidad cognitiva de los neandertales, la especie humana más cercana a la nuestra, desaparecida hace unos 40.000 años, parece cada vez más cerrado en la comunidad científica: eran tan inteligentes, hábiles, solidarios y creativos como nosotros, los Homo sapiens. Pero ahora, los nuevos descubrimientos genéticos abren un debate todavía más desafiante: ¿y si, en realidad, no se extinguieron? Impulsados por nuevos análisis de ADN fósil, algunos expertos apuntan que los neandertales siguen aquí porque somos nosotros, ya que se produjo una integración entre las dos especies.\n",
            "\n",
            "Cuanto más material genético se logra extraer y analizar de la prehistoria remota —algo nada sencillo, porque cuanto más antiguo es el ADN, más difícil es que dé resultados fiables— resulta más evidente que los neandertales y los seres humanos mantuvieron cruces constantes. La revista Nature reveló el miércoles los análisis de ADN de cuatro individuos europeos de hace 45.000 años: todos ellos tenían antepasados, más o menos directos, neandertales. Y no es la primera vez que ocurre: los otros dos genomas de Homo sapiens de aquella época que se han logrado analizar también revelan hibridación entre las especies, en un caso, además, muy reciente (su tatarabuelo pertenecía a la otra especie).\n",
            "\n",
            "Si los cruces entre neandertales y Homo sapiens hubiesen sido raros y muy localizados en el tiempo y en el espacio, esos resultados serían el equivalente científico a encontrar una aguja en el inmenso pajar de la prehistoria. El hecho de que, una y otra vez, aparezcan antepasados directos indica un patrón. No está claro cuántas olas migratorias humanas llegaron desde África a Europa y Asia, ni cuándo se produjeron. Tampoco qué ocurrió con los seres humanos —neandertales y denisovanos— que estaban allí cuando llegó nuestra especie. Pero es evidente que mantuvieron relaciones mucho más que amistosas, como demuestran los resultados obtenidos por el equipo de Svante Pääbo, el genetista sueco que ha revolucionado la investigación de la evolución humana gracias al análisis del ADN antiguo y que obtuvo el primer genoma completo de un neandertal.\n",
            "\n",
            "“La huella neandertal está muy presente, en seis o siete generaciones anteriores”, explica Antonio Rosas, paleoantropólogo del Consejo Superior de Investigaciones Científicas (CSIC) y uno de los grandes expertos europeos en neandertales. “Cuando se analizaron restos más recientes, parecía que la hibridación había sido más esporádica; pero los nuevos resultados demuestran que es mucho más frecuente”, agrega este investigador que, sin embargo, no comparte la teoría de la “dilución de los neandertales en la población humana”.\n",
            "\n",
            "“Me parece una visión un poco buenista”, prosigue Rosas. “Los cromañones analizados son claramente sapiens desde el punto de vista fenotípico: no son neandertales, ni tampoco son una mezcla. Pero es indudable que estos nuevos descubrimientos vuelven a abrir el debate sobre la posibilidad de que se produjese una integración de los neandertales y los sapiens. Es posible que en algunos lugares se produjese ese fenómeno; pero también es probable que en otros los neandertales se extinguiesen”. Factores como la geografía o el clima pudieron influir en la extinción o la integración.\n",
            "\n",
            "Otros expertos creen, en cambio, que estos resultados demuestran sin duda que la extinción no se produjo, sino que los neandertales fueron absorbidos por los sapiens. Raquel Pérez Gómez, bióloga experta en genética y doctora en Ciencias Veterinarias por la Complutense, publicó hace tres años un artículo en EL PAÍS en el que señalaba que la paleogenética estaba minando la idea de que se trata de dos especies diferentes. “Estos resultados confirman (aún más si cabe) la postura de que no se puede hablar de especies, tampoco de híbridos, tampoco de extinción de los neandertales”, señala Pérez Gómez por correo electrónico.\n",
            "\n",
            "“En ciencia los conceptos son fundamentales”, prosigue Pérez Gómez. “Según [el biólogo evolutivo] Mayr y [el genetista] Dobzhansky, se acepta que una especie biológica es un grupo (o población) natural de individuos que pueden cruzarse entre sí y generar descendencia fértil. Cuantos más fósiles se secuencian, más eventos de cruce entre poblaciones de neandertales y humanos que migraban desde África se documentan. Cuanta más información tengamos, más completo irá siendo el mapa genético y la historia evolutiva de nuestra especie. Y pese a todas las resistencias, dentro de unas décadas quedará claro por el peso de las evidencias que los neandertales eran humanos como nosotros, con características, llamémosles, arcaicas”.\n",
            "\n",
            "Lo interesante es que el proceso de hibridación no se produjo al revés: en neandertales europeos recientes no se han encontrado restos de ADN de sapiens, lo que indicaría que los humanos modernos adoptaron a neandertales; pero estos no convivieron en sus grupos con humanos modernos. Aunque, como siempre en la prehistoria, cuánto más se sabe, más misterioso resulta todo: Antonio Rosas recuerda que, en cambio, en neandertales siberianos más antiguos, de hace unos 100.000 años, sí se han encontrado huellas sapiens.\n",
            "\n",
            "Lo que hace no tanto tiempo parecía imposible, se va haciendo realidad. Cuando se estrenó en 1981 la película En busca del fuego, la versión de Jean Jacques Annaud de la novela clásica de J.-H. Rosny Aîné, fue muy criticada porque mostraba una escena de sexo entre una sapiens y un neandertal. La paleogenética lo ha confirmado, pero también recalca algo que tiene una clara lectura contemporánea: el estudio de la prehistoria nos demuestra que es absurdo hablar de razas, que la humanidad es el resultado de un cruce infinito. Nosotros, la humanidad moderna, somos una mezcla interminable, que se prolonga a lo largo de los siglos y de los milenios.\n",
            "\n"
          ]
        }
      ],
      "source": [
        "print(DOCUMENTO)"
      ]
    },
    {
      "cell_type": "markdown",
      "metadata": {
        "id": "GZ5lS4eM0Mmq"
      },
      "source": [
        "#### LSA"
      ]
    },
    {
      "cell_type": "code",
      "execution_count": null,
      "metadata": {
        "id": "t3xR4NFy0Mmq"
      },
      "outputs": [],
      "source": [
        "nlp = spacy.load(\"es_core_news_sm\")\n",
        "\n",
        "doc = nlp(DOCUMENTO)"
      ]
    },
    {
      "cell_type": "code",
      "execution_count": null,
      "metadata": {
        "id": "ISTmAcFu0Mmr"
      },
      "outputs": [],
      "source": [
        "norm_doc_sent = [[w.lemma_.lower() for w in s if not w.is_stop \n",
        "                  and not w.is_punct and (w.is_alpha or w.is_digit)] for s in doc.sents]\n"
      ]
    },
    {
      "cell_type": "code",
      "execution_count": null,
      "metadata": {
        "id": "2FIkqIW10Mmr",
        "outputId": "66ddd0b8-759c-4499-f579-f2641e265bda"
      },
      "outputs": [
        {
          "name": "stdout",
          "output_type": "stream",
          "text": [
            "The dictionary contains 253 terms\n",
            "First terms in the dictionary:\n",
            "0 : a\n",
            "1 : año\n",
            "2 : capacidad\n",
            "3 : cercano\n",
            "4 : cerrado\n",
            "5 : científico\n",
            "6 : cognitivo\n",
            "7 : comunidad\n",
            "8 : creativo\n",
            "9 : debate\n"
          ]
        }
      ],
      "source": [
        "import gensim\n",
        "\n",
        "D = gensim.corpora.Dictionary(norm_doc_sent)\n",
        "\n",
        "n_tokens = len(D)\n",
        "\n",
        "print('The dictionary contains', n_tokens, 'terms')\n",
        "print('First terms in the dictionary:')\n",
        "for n in range(10):\n",
        "    print(str(n), ':', D[n])"
      ]
    },
    {
      "cell_type": "code",
      "execution_count": null,
      "metadata": {
        "id": "xn73Da5k0Mmr",
        "outputId": "abeb824e-df00-4dcc-d6d5-b9627f6f29f5"
      },
      "outputs": [
        {
          "name": "stdout",
          "output_type": "stream",
          "text": [
            "The dictionary contains 69 terms\n",
            "First terms in the dictionary:\n",
            "0 : a\n",
            "1 : año\n",
            "2 : científico\n",
            "3 : debate\n",
            "4 : especie\n",
            "5 : homo\n",
            "6 : humano\n",
            "7 : neandertal\n",
            "8 : sapiens\n",
            "9 : y\n"
          ]
        }
      ],
      "source": [
        "no_below = 2 #Minimum number of documents to keep a term in the dictionary\n",
        "no_above = .95 #Maximum proportion of documents in which a term can appear to be kept in the dictionary\n",
        "\n",
        "D.filter_extremes(no_below=no_below,no_above=no_above)\n",
        "\n",
        "n_tokens = len(D)\n",
        "\n",
        "print('The dictionary contains', n_tokens, 'terms')\n",
        "print('First terms in the dictionary:')\n",
        "for n in range(10):\n",
        "    print(str(n), ':', D[n])"
      ]
    },
    {
      "cell_type": "code",
      "execution_count": null,
      "metadata": {
        "id": "bp8MM1wP0Mms"
      },
      "outputs": [],
      "source": [
        "from gensim.models import TfidfModel\n",
        "from gensim.matutils import corpus2dense, corpus2csc\n",
        "\n",
        "corpus_bow = [D.doc2bow(doc) for doc in norm_doc_sent]\n",
        "\n",
        "model = TfidfModel(corpus_bow)  \n",
        "\n",
        "corpus_tfidf = model[corpus_bow]\n",
        "\n",
        "n_tokens = len(D)\n",
        "num_docs = len(corpus_bow)\n",
        "# Convert BoW representacion\n",
        "corpus_bow_dense = corpus2dense(corpus_bow, num_terms=n_tokens, num_docs=num_docs)\n",
        "# Convert TFIDF representacion\n",
        "corpus_tfidf_dense = corpus2dense(corpus_tfidf, num_terms=n_tokens, num_docs=num_docs)"
      ]
    },
    {
      "cell_type": "code",
      "execution_count": null,
      "metadata": {
        "id": "BKC7yhqW0Mms",
        "outputId": "7472f699-21ac-463c-deb4-94c52619c4fc"
      },
      "outputs": [
        {
          "name": "stdout",
          "output_type": "stream",
          "text": [
            "(69, 4) (4,) (4, 32)\n"
          ]
        }
      ],
      "source": [
        "from scipy.sparse.linalg import svds  # Función para calcular la descomposición en valores singulares\n",
        "\n",
        "num_sentences = 4  # Número de frases clave\n",
        "K = 4 # Dimensión de bajo rango\n",
        "\n",
        "u, s, vt = svds(corpus_tfidf_dense, k=K)  \n",
        "print(u.shape, s.shape, vt.shape)\n",
        "term_topic_mat, singular_values, topic_document_mat = u, s, vt"
      ]
    },
    {
      "cell_type": "code",
      "execution_count": null,
      "metadata": {
        "id": "vNwQ1uJf0Mms",
        "outputId": "e5eb24bc-7f66-4a50-90cf-924fcc9f20b2"
      },
      "outputs": [
        {
          "data": {
            "image/svg+xml": [
              "<?xml version=\"1.0\" encoding=\"utf-8\" standalone=\"no\"?>\n",
              "<!DOCTYPE svg PUBLIC \"-//W3C//DTD SVG 1.1//EN\"\n",
              "  \"http://www.w3.org/Graphics/SVG/1.1/DTD/svg11.dtd\">\n",
              "<!-- Created with matplotlib (https://matplotlib.org/) -->\n",
              "<svg height=\"262.218125pt\" version=\"1.1\" viewBox=\"0 0 386.803125 262.218125\" width=\"386.803125pt\" xmlns=\"http://www.w3.org/2000/svg\" xmlns:xlink=\"http://www.w3.org/1999/xlink\">\n",
              " <defs>\n",
              "  <style type=\"text/css\">\n",
              "*{stroke-linecap:butt;stroke-linejoin:round;}\n",
              "  </style>\n",
              " </defs>\n",
              " <g id=\"figure_1\">\n",
              "  <g id=\"patch_1\">\n",
              "   <path d=\"M 0 262.218125 \n",
              "L 386.803125 262.218125 \n",
              "L 386.803125 0 \n",
              "L 0 0 \n",
              "z\n",
              "\" style=\"fill:none;\"/>\n",
              "  </g>\n",
              "  <g id=\"axes_1\">\n",
              "   <g id=\"patch_2\">\n",
              "    <path d=\"M 44.803125 224.64 \n",
              "L 379.603125 224.64 \n",
              "L 379.603125 7.2 \n",
              "L 44.803125 7.2 \n",
              "z\n",
              "\" style=\"fill:#ffffff;\"/>\n",
              "   </g>\n",
              "   <g id=\"matplotlib.axis_1\">\n",
              "    <g id=\"xtick_1\">\n",
              "     <g id=\"line2d_1\">\n",
              "      <defs>\n",
              "       <path d=\"M 0 0 \n",
              "L 0 3.5 \n",
              "\" id=\"m9294aee2ff\" style=\"stroke:#000000;stroke-width:0.8;\"/>\n",
              "      </defs>\n",
              "      <g>\n",
              "       <use style=\"stroke:#000000;stroke-width:0.8;\" x=\"60.021307\" xlink:href=\"#m9294aee2ff\" y=\"224.64\"/>\n",
              "      </g>\n",
              "     </g>\n",
              "     <g id=\"text_1\">\n",
              "      <!-- 0 -->\n",
              "      <defs>\n",
              "       <path d=\"M 31.78125 66.40625 \n",
              "Q 24.171875 66.40625 20.328125 58.90625 \n",
              "Q 16.5 51.421875 16.5 36.375 \n",
              "Q 16.5 21.390625 20.328125 13.890625 \n",
              "Q 24.171875 6.390625 31.78125 6.390625 \n",
              "Q 39.453125 6.390625 43.28125 13.890625 \n",
              "Q 47.125 21.390625 47.125 36.375 \n",
              "Q 47.125 51.421875 43.28125 58.90625 \n",
              "Q 39.453125 66.40625 31.78125 66.40625 \n",
              "z\n",
              "M 31.78125 74.21875 \n",
              "Q 44.046875 74.21875 50.515625 64.515625 \n",
              "Q 56.984375 54.828125 56.984375 36.375 \n",
              "Q 56.984375 17.96875 50.515625 8.265625 \n",
              "Q 44.046875 -1.421875 31.78125 -1.421875 \n",
              "Q 19.53125 -1.421875 13.0625 8.265625 \n",
              "Q 6.59375 17.96875 6.59375 36.375 \n",
              "Q 6.59375 54.828125 13.0625 64.515625 \n",
              "Q 19.53125 74.21875 31.78125 74.21875 \n",
              "z\n",
              "\" id=\"DejaVuSans-48\"/>\n",
              "      </defs>\n",
              "      <g transform=\"translate(56.840057 239.238437)scale(0.1 -0.1)\">\n",
              "       <use xlink:href=\"#DejaVuSans-48\"/>\n",
              "      </g>\n",
              "     </g>\n",
              "    </g>\n",
              "    <g id=\"xtick_2\">\n",
              "     <g id=\"line2d_2\">\n",
              "      <g>\n",
              "       <use style=\"stroke:#000000;stroke-width:0.8;\" x=\"109.112216\" xlink:href=\"#m9294aee2ff\" y=\"224.64\"/>\n",
              "      </g>\n",
              "     </g>\n",
              "     <g id=\"text_2\">\n",
              "      <!-- 5 -->\n",
              "      <defs>\n",
              "       <path d=\"M 10.796875 72.90625 \n",
              "L 49.515625 72.90625 \n",
              "L 49.515625 64.59375 \n",
              "L 19.828125 64.59375 \n",
              "L 19.828125 46.734375 \n",
              "Q 21.96875 47.46875 24.109375 47.828125 \n",
              "Q 26.265625 48.1875 28.421875 48.1875 \n",
              "Q 40.625 48.1875 47.75 41.5 \n",
              "Q 54.890625 34.8125 54.890625 23.390625 \n",
              "Q 54.890625 11.625 47.5625 5.09375 \n",
              "Q 40.234375 -1.421875 26.90625 -1.421875 \n",
              "Q 22.3125 -1.421875 17.546875 -0.640625 \n",
              "Q 12.796875 0.140625 7.71875 1.703125 \n",
              "L 7.71875 11.625 \n",
              "Q 12.109375 9.234375 16.796875 8.0625 \n",
              "Q 21.484375 6.890625 26.703125 6.890625 \n",
              "Q 35.15625 6.890625 40.078125 11.328125 \n",
              "Q 45.015625 15.765625 45.015625 23.390625 \n",
              "Q 45.015625 31 40.078125 35.4375 \n",
              "Q 35.15625 39.890625 26.703125 39.890625 \n",
              "Q 22.75 39.890625 18.8125 39.015625 \n",
              "Q 14.890625 38.140625 10.796875 36.28125 \n",
              "z\n",
              "\" id=\"DejaVuSans-53\"/>\n",
              "      </defs>\n",
              "      <g transform=\"translate(105.930966 239.238437)scale(0.1 -0.1)\">\n",
              "       <use xlink:href=\"#DejaVuSans-53\"/>\n",
              "      </g>\n",
              "     </g>\n",
              "    </g>\n",
              "    <g id=\"xtick_3\">\n",
              "     <g id=\"line2d_3\">\n",
              "      <g>\n",
              "       <use style=\"stroke:#000000;stroke-width:0.8;\" x=\"158.203125\" xlink:href=\"#m9294aee2ff\" y=\"224.64\"/>\n",
              "      </g>\n",
              "     </g>\n",
              "     <g id=\"text_3\">\n",
              "      <!-- 10 -->\n",
              "      <defs>\n",
              "       <path d=\"M 12.40625 8.296875 \n",
              "L 28.515625 8.296875 \n",
              "L 28.515625 63.921875 \n",
              "L 10.984375 60.40625 \n",
              "L 10.984375 69.390625 \n",
              "L 28.421875 72.90625 \n",
              "L 38.28125 72.90625 \n",
              "L 38.28125 8.296875 \n",
              "L 54.390625 8.296875 \n",
              "L 54.390625 0 \n",
              "L 12.40625 0 \n",
              "z\n",
              "\" id=\"DejaVuSans-49\"/>\n",
              "      </defs>\n",
              "      <g transform=\"translate(151.840625 239.238437)scale(0.1 -0.1)\">\n",
              "       <use xlink:href=\"#DejaVuSans-49\"/>\n",
              "       <use x=\"63.623047\" xlink:href=\"#DejaVuSans-48\"/>\n",
              "      </g>\n",
              "     </g>\n",
              "    </g>\n",
              "    <g id=\"xtick_4\">\n",
              "     <g id=\"line2d_4\">\n",
              "      <g>\n",
              "       <use style=\"stroke:#000000;stroke-width:0.8;\" x=\"207.294034\" xlink:href=\"#m9294aee2ff\" y=\"224.64\"/>\n",
              "      </g>\n",
              "     </g>\n",
              "     <g id=\"text_4\">\n",
              "      <!-- 15 -->\n",
              "      <g transform=\"translate(200.931534 239.238437)scale(0.1 -0.1)\">\n",
              "       <use xlink:href=\"#DejaVuSans-49\"/>\n",
              "       <use x=\"63.623047\" xlink:href=\"#DejaVuSans-53\"/>\n",
              "      </g>\n",
              "     </g>\n",
              "    </g>\n",
              "    <g id=\"xtick_5\">\n",
              "     <g id=\"line2d_5\">\n",
              "      <g>\n",
              "       <use style=\"stroke:#000000;stroke-width:0.8;\" x=\"256.384943\" xlink:href=\"#m9294aee2ff\" y=\"224.64\"/>\n",
              "      </g>\n",
              "     </g>\n",
              "     <g id=\"text_5\">\n",
              "      <!-- 20 -->\n",
              "      <defs>\n",
              "       <path d=\"M 19.1875 8.296875 \n",
              "L 53.609375 8.296875 \n",
              "L 53.609375 0 \n",
              "L 7.328125 0 \n",
              "L 7.328125 8.296875 \n",
              "Q 12.9375 14.109375 22.625 23.890625 \n",
              "Q 32.328125 33.6875 34.8125 36.53125 \n",
              "Q 39.546875 41.84375 41.421875 45.53125 \n",
              "Q 43.3125 49.21875 43.3125 52.78125 \n",
              "Q 43.3125 58.59375 39.234375 62.25 \n",
              "Q 35.15625 65.921875 28.609375 65.921875 \n",
              "Q 23.96875 65.921875 18.8125 64.3125 \n",
              "Q 13.671875 62.703125 7.8125 59.421875 \n",
              "L 7.8125 69.390625 \n",
              "Q 13.765625 71.78125 18.9375 73 \n",
              "Q 24.125 74.21875 28.421875 74.21875 \n",
              "Q 39.75 74.21875 46.484375 68.546875 \n",
              "Q 53.21875 62.890625 53.21875 53.421875 \n",
              "Q 53.21875 48.921875 51.53125 44.890625 \n",
              "Q 49.859375 40.875 45.40625 35.40625 \n",
              "Q 44.1875 33.984375 37.640625 27.21875 \n",
              "Q 31.109375 20.453125 19.1875 8.296875 \n",
              "z\n",
              "\" id=\"DejaVuSans-50\"/>\n",
              "      </defs>\n",
              "      <g transform=\"translate(250.022443 239.238437)scale(0.1 -0.1)\">\n",
              "       <use xlink:href=\"#DejaVuSans-50\"/>\n",
              "       <use x=\"63.623047\" xlink:href=\"#DejaVuSans-48\"/>\n",
              "      </g>\n",
              "     </g>\n",
              "    </g>\n",
              "    <g id=\"xtick_6\">\n",
              "     <g id=\"line2d_6\">\n",
              "      <g>\n",
              "       <use style=\"stroke:#000000;stroke-width:0.8;\" x=\"305.475852\" xlink:href=\"#m9294aee2ff\" y=\"224.64\"/>\n",
              "      </g>\n",
              "     </g>\n",
              "     <g id=\"text_6\">\n",
              "      <!-- 25 -->\n",
              "      <g transform=\"translate(299.113352 239.238437)scale(0.1 -0.1)\">\n",
              "       <use xlink:href=\"#DejaVuSans-50\"/>\n",
              "       <use x=\"63.623047\" xlink:href=\"#DejaVuSans-53\"/>\n",
              "      </g>\n",
              "     </g>\n",
              "    </g>\n",
              "    <g id=\"xtick_7\">\n",
              "     <g id=\"line2d_7\">\n",
              "      <g>\n",
              "       <use style=\"stroke:#000000;stroke-width:0.8;\" x=\"354.566761\" xlink:href=\"#m9294aee2ff\" y=\"224.64\"/>\n",
              "      </g>\n",
              "     </g>\n",
              "     <g id=\"text_7\">\n",
              "      <!-- 30 -->\n",
              "      <defs>\n",
              "       <path d=\"M 40.578125 39.3125 \n",
              "Q 47.65625 37.796875 51.625 33 \n",
              "Q 55.609375 28.21875 55.609375 21.1875 \n",
              "Q 55.609375 10.40625 48.1875 4.484375 \n",
              "Q 40.765625 -1.421875 27.09375 -1.421875 \n",
              "Q 22.515625 -1.421875 17.65625 -0.515625 \n",
              "Q 12.796875 0.390625 7.625 2.203125 \n",
              "L 7.625 11.71875 \n",
              "Q 11.71875 9.328125 16.59375 8.109375 \n",
              "Q 21.484375 6.890625 26.8125 6.890625 \n",
              "Q 36.078125 6.890625 40.9375 10.546875 \n",
              "Q 45.796875 14.203125 45.796875 21.1875 \n",
              "Q 45.796875 27.640625 41.28125 31.265625 \n",
              "Q 36.765625 34.90625 28.71875 34.90625 \n",
              "L 20.21875 34.90625 \n",
              "L 20.21875 43.015625 \n",
              "L 29.109375 43.015625 \n",
              "Q 36.375 43.015625 40.234375 45.921875 \n",
              "Q 44.09375 48.828125 44.09375 54.296875 \n",
              "Q 44.09375 59.90625 40.109375 62.90625 \n",
              "Q 36.140625 65.921875 28.71875 65.921875 \n",
              "Q 24.65625 65.921875 20.015625 65.03125 \n",
              "Q 15.375 64.15625 9.8125 62.3125 \n",
              "L 9.8125 71.09375 \n",
              "Q 15.4375 72.65625 20.34375 73.4375 \n",
              "Q 25.25 74.21875 29.59375 74.21875 \n",
              "Q 40.828125 74.21875 47.359375 69.109375 \n",
              "Q 53.90625 64.015625 53.90625 55.328125 \n",
              "Q 53.90625 49.265625 50.4375 45.09375 \n",
              "Q 46.96875 40.921875 40.578125 39.3125 \n",
              "z\n",
              "\" id=\"DejaVuSans-51\"/>\n",
              "      </defs>\n",
              "      <g transform=\"translate(348.204261 239.238437)scale(0.1 -0.1)\">\n",
              "       <use xlink:href=\"#DejaVuSans-51\"/>\n",
              "       <use x=\"63.623047\" xlink:href=\"#DejaVuSans-48\"/>\n",
              "      </g>\n",
              "     </g>\n",
              "    </g>\n",
              "    <g id=\"text_8\">\n",
              "     <!-- Frase $j$ -->\n",
              "     <defs>\n",
              "      <path d=\"M 9.8125 72.90625 \n",
              "L 51.703125 72.90625 \n",
              "L 51.703125 64.59375 \n",
              "L 19.671875 64.59375 \n",
              "L 19.671875 43.109375 \n",
              "L 48.578125 43.109375 \n",
              "L 48.578125 34.8125 \n",
              "L 19.671875 34.8125 \n",
              "L 19.671875 0 \n",
              "L 9.8125 0 \n",
              "z\n",
              "\" id=\"DejaVuSans-70\"/>\n",
              "      <path d=\"M 41.109375 46.296875 \n",
              "Q 39.59375 47.171875 37.8125 47.578125 \n",
              "Q 36.03125 48 33.890625 48 \n",
              "Q 26.265625 48 22.1875 43.046875 \n",
              "Q 18.109375 38.09375 18.109375 28.8125 \n",
              "L 18.109375 0 \n",
              "L 9.078125 0 \n",
              "L 9.078125 54.6875 \n",
              "L 18.109375 54.6875 \n",
              "L 18.109375 46.1875 \n",
              "Q 20.953125 51.171875 25.484375 53.578125 \n",
              "Q 30.03125 56 36.53125 56 \n",
              "Q 37.453125 56 38.578125 55.875 \n",
              "Q 39.703125 55.765625 41.0625 55.515625 \n",
              "z\n",
              "\" id=\"DejaVuSans-114\"/>\n",
              "      <path d=\"M 34.28125 27.484375 \n",
              "Q 23.390625 27.484375 19.1875 25 \n",
              "Q 14.984375 22.515625 14.984375 16.5 \n",
              "Q 14.984375 11.71875 18.140625 8.90625 \n",
              "Q 21.296875 6.109375 26.703125 6.109375 \n",
              "Q 34.1875 6.109375 38.703125 11.40625 \n",
              "Q 43.21875 16.703125 43.21875 25.484375 \n",
              "L 43.21875 27.484375 \n",
              "z\n",
              "M 52.203125 31.203125 \n",
              "L 52.203125 0 \n",
              "L 43.21875 0 \n",
              "L 43.21875 8.296875 \n",
              "Q 40.140625 3.328125 35.546875 0.953125 \n",
              "Q 30.953125 -1.421875 24.3125 -1.421875 \n",
              "Q 15.921875 -1.421875 10.953125 3.296875 \n",
              "Q 6 8.015625 6 15.921875 \n",
              "Q 6 25.140625 12.171875 29.828125 \n",
              "Q 18.359375 34.515625 30.609375 34.515625 \n",
              "L 43.21875 34.515625 \n",
              "L 43.21875 35.40625 \n",
              "Q 43.21875 41.609375 39.140625 45 \n",
              "Q 35.0625 48.390625 27.6875 48.390625 \n",
              "Q 23 48.390625 18.546875 47.265625 \n",
              "Q 14.109375 46.140625 10.015625 43.890625 \n",
              "L 10.015625 52.203125 \n",
              "Q 14.9375 54.109375 19.578125 55.046875 \n",
              "Q 24.21875 56 28.609375 56 \n",
              "Q 40.484375 56 46.34375 49.84375 \n",
              "Q 52.203125 43.703125 52.203125 31.203125 \n",
              "z\n",
              "\" id=\"DejaVuSans-97\"/>\n",
              "      <path d=\"M 44.28125 53.078125 \n",
              "L 44.28125 44.578125 \n",
              "Q 40.484375 46.53125 36.375 47.5 \n",
              "Q 32.28125 48.484375 27.875 48.484375 \n",
              "Q 21.1875 48.484375 17.84375 46.4375 \n",
              "Q 14.5 44.390625 14.5 40.28125 \n",
              "Q 14.5 37.15625 16.890625 35.375 \n",
              "Q 19.28125 33.59375 26.515625 31.984375 \n",
              "L 29.59375 31.296875 \n",
              "Q 39.15625 29.25 43.1875 25.515625 \n",
              "Q 47.21875 21.78125 47.21875 15.09375 \n",
              "Q 47.21875 7.46875 41.1875 3.015625 \n",
              "Q 35.15625 -1.421875 24.609375 -1.421875 \n",
              "Q 20.21875 -1.421875 15.453125 -0.5625 \n",
              "Q 10.6875 0.296875 5.421875 2 \n",
              "L 5.421875 11.28125 \n",
              "Q 10.40625 8.6875 15.234375 7.390625 \n",
              "Q 20.0625 6.109375 24.8125 6.109375 \n",
              "Q 31.15625 6.109375 34.5625 8.28125 \n",
              "Q 37.984375 10.453125 37.984375 14.40625 \n",
              "Q 37.984375 18.0625 35.515625 20.015625 \n",
              "Q 33.0625 21.96875 24.703125 23.78125 \n",
              "L 21.578125 24.515625 \n",
              "Q 13.234375 26.265625 9.515625 29.90625 \n",
              "Q 5.8125 33.546875 5.8125 39.890625 \n",
              "Q 5.8125 47.609375 11.28125 51.796875 \n",
              "Q 16.75 56 26.8125 56 \n",
              "Q 31.78125 56 36.171875 55.265625 \n",
              "Q 40.578125 54.546875 44.28125 53.078125 \n",
              "z\n",
              "\" id=\"DejaVuSans-115\"/>\n",
              "      <path d=\"M 56.203125 29.59375 \n",
              "L 56.203125 25.203125 \n",
              "L 14.890625 25.203125 \n",
              "Q 15.484375 15.921875 20.484375 11.0625 \n",
              "Q 25.484375 6.203125 34.421875 6.203125 \n",
              "Q 39.59375 6.203125 44.453125 7.46875 \n",
              "Q 49.3125 8.734375 54.109375 11.28125 \n",
              "L 54.109375 2.78125 \n",
              "Q 49.265625 0.734375 44.1875 -0.34375 \n",
              "Q 39.109375 -1.421875 33.890625 -1.421875 \n",
              "Q 20.796875 -1.421875 13.15625 6.1875 \n",
              "Q 5.515625 13.8125 5.515625 26.8125 \n",
              "Q 5.515625 40.234375 12.765625 48.109375 \n",
              "Q 20.015625 56 32.328125 56 \n",
              "Q 43.359375 56 49.78125 48.890625 \n",
              "Q 56.203125 41.796875 56.203125 29.59375 \n",
              "z\n",
              "M 47.21875 32.234375 \n",
              "Q 47.125 39.59375 43.09375 43.984375 \n",
              "Q 39.0625 48.390625 32.421875 48.390625 \n",
              "Q 24.90625 48.390625 20.390625 44.140625 \n",
              "Q 15.875 39.890625 15.1875 32.171875 \n",
              "z\n",
              "\" id=\"DejaVuSans-101\"/>\n",
              "      <path id=\"DejaVuSans-32\"/>\n",
              "      <path d=\"M 14.5 54.6875 \n",
              "L 23.484375 54.6875 \n",
              "L 12.703125 -0.984375 \n",
              "L 12.640625 -1.21875 \n",
              "Q 10.84375 -10.546875 8.5 -14.015625 \n",
              "Q 6.296875 -17.28125 2.0625 -19.03125 \n",
              "Q -2.15625 -20.796875 -7.90625 -20.796875 \n",
              "L -11.28125 -20.796875 \n",
              "L -9.8125 -13.1875 \n",
              "L -7.515625 -13.1875 \n",
              "Q -2.25 -13.1875 -0.015625 -10.984375 \n",
              "Q 2.203125 -8.796875 3.71875 -0.984375 \n",
              "z\n",
              "M 18.703125 75.984375 \n",
              "L 27.6875 75.984375 \n",
              "L 25.484375 64.59375 \n",
              "L 16.5 64.59375 \n",
              "z\n",
              "\" id=\"DejaVuSans-Oblique-106\"/>\n",
              "     </defs>\n",
              "     <g transform=\"translate(195.503125 252.918125)scale(0.1 -0.1)\">\n",
              "      <use transform=\"translate(0 0.015625)\" xlink:href=\"#DejaVuSans-70\"/>\n",
              "      <use transform=\"translate(57.519531 0.015625)\" xlink:href=\"#DejaVuSans-114\"/>\n",
              "      <use transform=\"translate(98.632812 0.015625)\" xlink:href=\"#DejaVuSans-97\"/>\n",
              "      <use transform=\"translate(159.912109 0.015625)\" xlink:href=\"#DejaVuSans-115\"/>\n",
              "      <use transform=\"translate(212.011719 0.015625)\" xlink:href=\"#DejaVuSans-101\"/>\n",
              "      <use transform=\"translate(273.535156 0.015625)\" xlink:href=\"#DejaVuSans-32\"/>\n",
              "      <use transform=\"translate(305.322266 0.015625)\" xlink:href=\"#DejaVuSans-Oblique-106\"/>\n",
              "     </g>\n",
              "    </g>\n",
              "   </g>\n",
              "   <g id=\"matplotlib.axis_2\">\n",
              "    <g id=\"ytick_1\">\n",
              "     <g id=\"line2d_8\">\n",
              "      <defs>\n",
              "       <path d=\"M 0 0 \n",
              "L -3.5 0 \n",
              "\" id=\"m4090520718\" style=\"stroke:#000000;stroke-width:0.8;\"/>\n",
              "      </defs>\n",
              "      <g>\n",
              "       <use style=\"stroke:#000000;stroke-width:0.8;\" x=\"44.803125\" xlink:href=\"#m4090520718\" y=\"214.756364\"/>\n",
              "      </g>\n",
              "     </g>\n",
              "     <g id=\"text_9\">\n",
              "      <!-- 0.0 -->\n",
              "      <defs>\n",
              "       <path d=\"M 10.6875 12.40625 \n",
              "L 21 12.40625 \n",
              "L 21 0 \n",
              "L 10.6875 0 \n",
              "z\n",
              "\" id=\"DejaVuSans-46\"/>\n",
              "      </defs>\n",
              "      <g transform=\"translate(21.9 218.555582)scale(0.1 -0.1)\">\n",
              "       <use xlink:href=\"#DejaVuSans-48\"/>\n",
              "       <use x=\"63.623047\" xlink:href=\"#DejaVuSans-46\"/>\n",
              "       <use x=\"95.410156\" xlink:href=\"#DejaVuSans-48\"/>\n",
              "      </g>\n",
              "     </g>\n",
              "    </g>\n",
              "    <g id=\"ytick_2\">\n",
              "     <g id=\"line2d_9\">\n",
              "      <g>\n",
              "       <use style=\"stroke:#000000;stroke-width:0.8;\" x=\"44.803125\" xlink:href=\"#m4090520718\" y=\"189.425801\"/>\n",
              "      </g>\n",
              "     </g>\n",
              "     <g id=\"text_10\">\n",
              "      <!-- 0.1 -->\n",
              "      <g transform=\"translate(21.9 193.22502)scale(0.1 -0.1)\">\n",
              "       <use xlink:href=\"#DejaVuSans-48\"/>\n",
              "       <use x=\"63.623047\" xlink:href=\"#DejaVuSans-46\"/>\n",
              "       <use x=\"95.410156\" xlink:href=\"#DejaVuSans-49\"/>\n",
              "      </g>\n",
              "     </g>\n",
              "    </g>\n",
              "    <g id=\"ytick_3\">\n",
              "     <g id=\"line2d_10\">\n",
              "      <g>\n",
              "       <use style=\"stroke:#000000;stroke-width:0.8;\" x=\"44.803125\" xlink:href=\"#m4090520718\" y=\"164.095239\"/>\n",
              "      </g>\n",
              "     </g>\n",
              "     <g id=\"text_11\">\n",
              "      <!-- 0.2 -->\n",
              "      <g transform=\"translate(21.9 167.894458)scale(0.1 -0.1)\">\n",
              "       <use xlink:href=\"#DejaVuSans-48\"/>\n",
              "       <use x=\"63.623047\" xlink:href=\"#DejaVuSans-46\"/>\n",
              "       <use x=\"95.410156\" xlink:href=\"#DejaVuSans-50\"/>\n",
              "      </g>\n",
              "     </g>\n",
              "    </g>\n",
              "    <g id=\"ytick_4\">\n",
              "     <g id=\"line2d_11\">\n",
              "      <g>\n",
              "       <use style=\"stroke:#000000;stroke-width:0.8;\" x=\"44.803125\" xlink:href=\"#m4090520718\" y=\"138.764677\"/>\n",
              "      </g>\n",
              "     </g>\n",
              "     <g id=\"text_12\">\n",
              "      <!-- 0.3 -->\n",
              "      <g transform=\"translate(21.9 142.563895)scale(0.1 -0.1)\">\n",
              "       <use xlink:href=\"#DejaVuSans-48\"/>\n",
              "       <use x=\"63.623047\" xlink:href=\"#DejaVuSans-46\"/>\n",
              "       <use x=\"95.410156\" xlink:href=\"#DejaVuSans-51\"/>\n",
              "      </g>\n",
              "     </g>\n",
              "    </g>\n",
              "    <g id=\"ytick_5\">\n",
              "     <g id=\"line2d_12\">\n",
              "      <g>\n",
              "       <use style=\"stroke:#000000;stroke-width:0.8;\" x=\"44.803125\" xlink:href=\"#m4090520718\" y=\"113.434114\"/>\n",
              "      </g>\n",
              "     </g>\n",
              "     <g id=\"text_13\">\n",
              "      <!-- 0.4 -->\n",
              "      <defs>\n",
              "       <path d=\"M 37.796875 64.3125 \n",
              "L 12.890625 25.390625 \n",
              "L 37.796875 25.390625 \n",
              "z\n",
              "M 35.203125 72.90625 \n",
              "L 47.609375 72.90625 \n",
              "L 47.609375 25.390625 \n",
              "L 58.015625 25.390625 \n",
              "L 58.015625 17.1875 \n",
              "L 47.609375 17.1875 \n",
              "L 47.609375 0 \n",
              "L 37.796875 0 \n",
              "L 37.796875 17.1875 \n",
              "L 4.890625 17.1875 \n",
              "L 4.890625 26.703125 \n",
              "z\n",
              "\" id=\"DejaVuSans-52\"/>\n",
              "      </defs>\n",
              "      <g transform=\"translate(21.9 117.233333)scale(0.1 -0.1)\">\n",
              "       <use xlink:href=\"#DejaVuSans-48\"/>\n",
              "       <use x=\"63.623047\" xlink:href=\"#DejaVuSans-46\"/>\n",
              "       <use x=\"95.410156\" xlink:href=\"#DejaVuSans-52\"/>\n",
              "      </g>\n",
              "     </g>\n",
              "    </g>\n",
              "    <g id=\"ytick_6\">\n",
              "     <g id=\"line2d_13\">\n",
              "      <g>\n",
              "       <use style=\"stroke:#000000;stroke-width:0.8;\" x=\"44.803125\" xlink:href=\"#m4090520718\" y=\"88.103552\"/>\n",
              "      </g>\n",
              "     </g>\n",
              "     <g id=\"text_14\">\n",
              "      <!-- 0.5 -->\n",
              "      <g transform=\"translate(21.9 91.902771)scale(0.1 -0.1)\">\n",
              "       <use xlink:href=\"#DejaVuSans-48\"/>\n",
              "       <use x=\"63.623047\" xlink:href=\"#DejaVuSans-46\"/>\n",
              "       <use x=\"95.410156\" xlink:href=\"#DejaVuSans-53\"/>\n",
              "      </g>\n",
              "     </g>\n",
              "    </g>\n",
              "    <g id=\"ytick_7\">\n",
              "     <g id=\"line2d_14\">\n",
              "      <g>\n",
              "       <use style=\"stroke:#000000;stroke-width:0.8;\" x=\"44.803125\" xlink:href=\"#m4090520718\" y=\"62.77299\"/>\n",
              "      </g>\n",
              "     </g>\n",
              "     <g id=\"text_15\">\n",
              "      <!-- 0.6 -->\n",
              "      <defs>\n",
              "       <path d=\"M 33.015625 40.375 \n",
              "Q 26.375 40.375 22.484375 35.828125 \n",
              "Q 18.609375 31.296875 18.609375 23.390625 \n",
              "Q 18.609375 15.53125 22.484375 10.953125 \n",
              "Q 26.375 6.390625 33.015625 6.390625 \n",
              "Q 39.65625 6.390625 43.53125 10.953125 \n",
              "Q 47.40625 15.53125 47.40625 23.390625 \n",
              "Q 47.40625 31.296875 43.53125 35.828125 \n",
              "Q 39.65625 40.375 33.015625 40.375 \n",
              "z\n",
              "M 52.59375 71.296875 \n",
              "L 52.59375 62.3125 \n",
              "Q 48.875 64.0625 45.09375 64.984375 \n",
              "Q 41.3125 65.921875 37.59375 65.921875 \n",
              "Q 27.828125 65.921875 22.671875 59.328125 \n",
              "Q 17.53125 52.734375 16.796875 39.40625 \n",
              "Q 19.671875 43.65625 24.015625 45.921875 \n",
              "Q 28.375 48.1875 33.59375 48.1875 \n",
              "Q 44.578125 48.1875 50.953125 41.515625 \n",
              "Q 57.328125 34.859375 57.328125 23.390625 \n",
              "Q 57.328125 12.15625 50.6875 5.359375 \n",
              "Q 44.046875 -1.421875 33.015625 -1.421875 \n",
              "Q 20.359375 -1.421875 13.671875 8.265625 \n",
              "Q 6.984375 17.96875 6.984375 36.375 \n",
              "Q 6.984375 53.65625 15.1875 63.9375 \n",
              "Q 23.390625 74.21875 37.203125 74.21875 \n",
              "Q 40.921875 74.21875 44.703125 73.484375 \n",
              "Q 48.484375 72.75 52.59375 71.296875 \n",
              "z\n",
              "\" id=\"DejaVuSans-54\"/>\n",
              "      </defs>\n",
              "      <g transform=\"translate(21.9 66.572209)scale(0.1 -0.1)\">\n",
              "       <use xlink:href=\"#DejaVuSans-48\"/>\n",
              "       <use x=\"63.623047\" xlink:href=\"#DejaVuSans-46\"/>\n",
              "       <use x=\"95.410156\" xlink:href=\"#DejaVuSans-54\"/>\n",
              "      </g>\n",
              "     </g>\n",
              "    </g>\n",
              "    <g id=\"ytick_8\">\n",
              "     <g id=\"line2d_15\">\n",
              "      <g>\n",
              "       <use style=\"stroke:#000000;stroke-width:0.8;\" x=\"44.803125\" xlink:href=\"#m4090520718\" y=\"37.442428\"/>\n",
              "      </g>\n",
              "     </g>\n",
              "     <g id=\"text_16\">\n",
              "      <!-- 0.7 -->\n",
              "      <defs>\n",
              "       <path d=\"M 8.203125 72.90625 \n",
              "L 55.078125 72.90625 \n",
              "L 55.078125 68.703125 \n",
              "L 28.609375 0 \n",
              "L 18.3125 0 \n",
              "L 43.21875 64.59375 \n",
              "L 8.203125 64.59375 \n",
              "z\n",
              "\" id=\"DejaVuSans-55\"/>\n",
              "      </defs>\n",
              "      <g transform=\"translate(21.9 41.241646)scale(0.1 -0.1)\">\n",
              "       <use xlink:href=\"#DejaVuSans-48\"/>\n",
              "       <use x=\"63.623047\" xlink:href=\"#DejaVuSans-46\"/>\n",
              "       <use x=\"95.410156\" xlink:href=\"#DejaVuSans-55\"/>\n",
              "      </g>\n",
              "     </g>\n",
              "    </g>\n",
              "    <g id=\"ytick_9\">\n",
              "     <g id=\"line2d_16\">\n",
              "      <g>\n",
              "       <use style=\"stroke:#000000;stroke-width:0.8;\" x=\"44.803125\" xlink:href=\"#m4090520718\" y=\"12.111865\"/>\n",
              "      </g>\n",
              "     </g>\n",
              "     <g id=\"text_17\">\n",
              "      <!-- 0.8 -->\n",
              "      <defs>\n",
              "       <path d=\"M 31.78125 34.625 \n",
              "Q 24.75 34.625 20.71875 30.859375 \n",
              "Q 16.703125 27.09375 16.703125 20.515625 \n",
              "Q 16.703125 13.921875 20.71875 10.15625 \n",
              "Q 24.75 6.390625 31.78125 6.390625 \n",
              "Q 38.8125 6.390625 42.859375 10.171875 \n",
              "Q 46.921875 13.96875 46.921875 20.515625 \n",
              "Q 46.921875 27.09375 42.890625 30.859375 \n",
              "Q 38.875 34.625 31.78125 34.625 \n",
              "z\n",
              "M 21.921875 38.8125 \n",
              "Q 15.578125 40.375 12.03125 44.71875 \n",
              "Q 8.5 49.078125 8.5 55.328125 \n",
              "Q 8.5 64.0625 14.71875 69.140625 \n",
              "Q 20.953125 74.21875 31.78125 74.21875 \n",
              "Q 42.671875 74.21875 48.875 69.140625 \n",
              "Q 55.078125 64.0625 55.078125 55.328125 \n",
              "Q 55.078125 49.078125 51.53125 44.71875 \n",
              "Q 48 40.375 41.703125 38.8125 \n",
              "Q 48.828125 37.15625 52.796875 32.3125 \n",
              "Q 56.78125 27.484375 56.78125 20.515625 \n",
              "Q 56.78125 9.90625 50.3125 4.234375 \n",
              "Q 43.84375 -1.421875 31.78125 -1.421875 \n",
              "Q 19.734375 -1.421875 13.25 4.234375 \n",
              "Q 6.78125 9.90625 6.78125 20.515625 \n",
              "Q 6.78125 27.484375 10.78125 32.3125 \n",
              "Q 14.796875 37.15625 21.921875 38.8125 \n",
              "z\n",
              "M 18.3125 54.390625 \n",
              "Q 18.3125 48.734375 21.84375 45.5625 \n",
              "Q 25.390625 42.390625 31.78125 42.390625 \n",
              "Q 38.140625 42.390625 41.71875 45.5625 \n",
              "Q 45.3125 48.734375 45.3125 54.390625 \n",
              "Q 45.3125 60.0625 41.71875 63.234375 \n",
              "Q 38.140625 66.40625 31.78125 66.40625 \n",
              "Q 25.390625 66.40625 21.84375 63.234375 \n",
              "Q 18.3125 60.0625 18.3125 54.390625 \n",
              "z\n",
              "\" id=\"DejaVuSans-56\"/>\n",
              "      </defs>\n",
              "      <g transform=\"translate(21.9 15.911084)scale(0.1 -0.1)\">\n",
              "       <use xlink:href=\"#DejaVuSans-48\"/>\n",
              "       <use x=\"63.623047\" xlink:href=\"#DejaVuSans-46\"/>\n",
              "       <use x=\"95.410156\" xlink:href=\"#DejaVuSans-56\"/>\n",
              "      </g>\n",
              "     </g>\n",
              "    </g>\n",
              "    <g id=\"text_18\">\n",
              "     <!-- Saliency score $s_j$ -->\n",
              "     <defs>\n",
              "      <path d=\"M 53.515625 70.515625 \n",
              "L 53.515625 60.890625 \n",
              "Q 47.90625 63.578125 42.921875 64.890625 \n",
              "Q 37.9375 66.21875 33.296875 66.21875 \n",
              "Q 25.25 66.21875 20.875 63.09375 \n",
              "Q 16.5 59.96875 16.5 54.203125 \n",
              "Q 16.5 49.359375 19.40625 46.890625 \n",
              "Q 22.3125 44.4375 30.421875 42.921875 \n",
              "L 36.375 41.703125 \n",
              "Q 47.40625 39.59375 52.65625 34.296875 \n",
              "Q 57.90625 29 57.90625 20.125 \n",
              "Q 57.90625 9.515625 50.796875 4.046875 \n",
              "Q 43.703125 -1.421875 29.984375 -1.421875 \n",
              "Q 24.8125 -1.421875 18.96875 -0.25 \n",
              "Q 13.140625 0.921875 6.890625 3.21875 \n",
              "L 6.890625 13.375 \n",
              "Q 12.890625 10.015625 18.65625 8.296875 \n",
              "Q 24.421875 6.59375 29.984375 6.59375 \n",
              "Q 38.421875 6.59375 43.015625 9.90625 \n",
              "Q 47.609375 13.234375 47.609375 19.390625 \n",
              "Q 47.609375 24.75 44.3125 27.78125 \n",
              "Q 41.015625 30.8125 33.5 32.328125 \n",
              "L 27.484375 33.5 \n",
              "Q 16.453125 35.6875 11.515625 40.375 \n",
              "Q 6.59375 45.0625 6.59375 53.421875 \n",
              "Q 6.59375 63.09375 13.40625 68.65625 \n",
              "Q 20.21875 74.21875 32.171875 74.21875 \n",
              "Q 37.3125 74.21875 42.625 73.28125 \n",
              "Q 47.953125 72.359375 53.515625 70.515625 \n",
              "z\n",
              "\" id=\"DejaVuSans-83\"/>\n",
              "      <path d=\"M 9.421875 75.984375 \n",
              "L 18.40625 75.984375 \n",
              "L 18.40625 0 \n",
              "L 9.421875 0 \n",
              "z\n",
              "\" id=\"DejaVuSans-108\"/>\n",
              "      <path d=\"M 9.421875 54.6875 \n",
              "L 18.40625 54.6875 \n",
              "L 18.40625 0 \n",
              "L 9.421875 0 \n",
              "z\n",
              "M 9.421875 75.984375 \n",
              "L 18.40625 75.984375 \n",
              "L 18.40625 64.59375 \n",
              "L 9.421875 64.59375 \n",
              "z\n",
              "\" id=\"DejaVuSans-105\"/>\n",
              "      <path d=\"M 54.890625 33.015625 \n",
              "L 54.890625 0 \n",
              "L 45.90625 0 \n",
              "L 45.90625 32.71875 \n",
              "Q 45.90625 40.484375 42.875 44.328125 \n",
              "Q 39.84375 48.1875 33.796875 48.1875 \n",
              "Q 26.515625 48.1875 22.3125 43.546875 \n",
              "Q 18.109375 38.921875 18.109375 30.90625 \n",
              "L 18.109375 0 \n",
              "L 9.078125 0 \n",
              "L 9.078125 54.6875 \n",
              "L 18.109375 54.6875 \n",
              "L 18.109375 46.1875 \n",
              "Q 21.34375 51.125 25.703125 53.5625 \n",
              "Q 30.078125 56 35.796875 56 \n",
              "Q 45.21875 56 50.046875 50.171875 \n",
              "Q 54.890625 44.34375 54.890625 33.015625 \n",
              "z\n",
              "\" id=\"DejaVuSans-110\"/>\n",
              "      <path d=\"M 48.78125 52.59375 \n",
              "L 48.78125 44.1875 \n",
              "Q 44.96875 46.296875 41.140625 47.34375 \n",
              "Q 37.3125 48.390625 33.40625 48.390625 \n",
              "Q 24.65625 48.390625 19.8125 42.84375 \n",
              "Q 14.984375 37.3125 14.984375 27.296875 \n",
              "Q 14.984375 17.28125 19.8125 11.734375 \n",
              "Q 24.65625 6.203125 33.40625 6.203125 \n",
              "Q 37.3125 6.203125 41.140625 7.25 \n",
              "Q 44.96875 8.296875 48.78125 10.40625 \n",
              "L 48.78125 2.09375 \n",
              "Q 45.015625 0.34375 40.984375 -0.53125 \n",
              "Q 36.96875 -1.421875 32.421875 -1.421875 \n",
              "Q 20.0625 -1.421875 12.78125 6.34375 \n",
              "Q 5.515625 14.109375 5.515625 27.296875 \n",
              "Q 5.515625 40.671875 12.859375 48.328125 \n",
              "Q 20.21875 56 33.015625 56 \n",
              "Q 37.15625 56 41.109375 55.140625 \n",
              "Q 45.0625 54.296875 48.78125 52.59375 \n",
              "z\n",
              "\" id=\"DejaVuSans-99\"/>\n",
              "      <path d=\"M 32.171875 -5.078125 \n",
              "Q 28.375 -14.84375 24.75 -17.8125 \n",
              "Q 21.140625 -20.796875 15.09375 -20.796875 \n",
              "L 7.90625 -20.796875 \n",
              "L 7.90625 -13.28125 \n",
              "L 13.1875 -13.28125 \n",
              "Q 16.890625 -13.28125 18.9375 -11.515625 \n",
              "Q 21 -9.765625 23.484375 -3.21875 \n",
              "L 25.09375 0.875 \n",
              "L 2.984375 54.6875 \n",
              "L 12.5 54.6875 \n",
              "L 29.59375 11.921875 \n",
              "L 46.6875 54.6875 \n",
              "L 56.203125 54.6875 \n",
              "z\n",
              "\" id=\"DejaVuSans-121\"/>\n",
              "      <path d=\"M 30.609375 48.390625 \n",
              "Q 23.390625 48.390625 19.1875 42.75 \n",
              "Q 14.984375 37.109375 14.984375 27.296875 \n",
              "Q 14.984375 17.484375 19.15625 11.84375 \n",
              "Q 23.34375 6.203125 30.609375 6.203125 \n",
              "Q 37.796875 6.203125 41.984375 11.859375 \n",
              "Q 46.1875 17.53125 46.1875 27.296875 \n",
              "Q 46.1875 37.015625 41.984375 42.703125 \n",
              "Q 37.796875 48.390625 30.609375 48.390625 \n",
              "z\n",
              "M 30.609375 56 \n",
              "Q 42.328125 56 49.015625 48.375 \n",
              "Q 55.71875 40.765625 55.71875 27.296875 \n",
              "Q 55.71875 13.875 49.015625 6.21875 \n",
              "Q 42.328125 -1.421875 30.609375 -1.421875 \n",
              "Q 18.84375 -1.421875 12.171875 6.21875 \n",
              "Q 5.515625 13.875 5.515625 27.296875 \n",
              "Q 5.515625 40.765625 12.171875 48.375 \n",
              "Q 18.84375 56 30.609375 56 \n",
              "z\n",
              "\" id=\"DejaVuSans-111\"/>\n",
              "      <path d=\"M 50 53.078125 \n",
              "L 48.296875 44.578125 \n",
              "Q 44.734375 46.53125 40.765625 47.5 \n",
              "Q 36.8125 48.484375 32.625 48.484375 \n",
              "Q 25.53125 48.484375 21.453125 46.0625 \n",
              "Q 17.390625 43.65625 17.390625 39.5 \n",
              "Q 17.390625 34.671875 26.859375 32.078125 \n",
              "Q 27.59375 31.890625 27.9375 31.78125 \n",
              "L 30.8125 30.90625 \n",
              "Q 39.796875 28.421875 42.796875 25.6875 \n",
              "Q 45.796875 22.953125 45.796875 18.21875 \n",
              "Q 45.796875 9.515625 38.890625 4.046875 \n",
              "Q 31.984375 -1.421875 20.796875 -1.421875 \n",
              "Q 16.453125 -1.421875 11.671875 -0.578125 \n",
              "Q 6.890625 0.25 1.125 2 \n",
              "L 2.875 11.28125 \n",
              "Q 7.8125 8.734375 12.59375 7.421875 \n",
              "Q 17.390625 6.109375 21.78125 6.109375 \n",
              "Q 28.375 6.109375 32.5 8.9375 \n",
              "Q 36.625 11.765625 36.625 16.109375 \n",
              "Q 36.625 20.796875 25.78125 23.6875 \n",
              "L 24.859375 23.921875 \n",
              "L 21.78125 24.703125 \n",
              "Q 14.9375 26.515625 11.765625 29.46875 \n",
              "Q 8.59375 32.421875 8.59375 37.015625 \n",
              "Q 8.59375 45.75 15.15625 50.875 \n",
              "Q 21.734375 56 33.015625 56 \n",
              "Q 37.453125 56 41.671875 55.265625 \n",
              "Q 45.90625 54.546875 50 53.078125 \n",
              "z\n",
              "\" id=\"DejaVuSans-Oblique-115\"/>\n",
              "     </defs>\n",
              "     <g transform=\"translate(14.8 157.37)rotate(-90)scale(0.1 -0.1)\">\n",
              "      <use transform=\"translate(0 0.015625)\" xlink:href=\"#DejaVuSans-83\"/>\n",
              "      <use transform=\"translate(63.476562 0.015625)\" xlink:href=\"#DejaVuSans-97\"/>\n",
              "      <use transform=\"translate(124.755859 0.015625)\" xlink:href=\"#DejaVuSans-108\"/>\n",
              "      <use transform=\"translate(152.539062 0.015625)\" xlink:href=\"#DejaVuSans-105\"/>\n",
              "      <use transform=\"translate(180.322266 0.015625)\" xlink:href=\"#DejaVuSans-101\"/>\n",
              "      <use transform=\"translate(241.845703 0.015625)\" xlink:href=\"#DejaVuSans-110\"/>\n",
              "      <use transform=\"translate(305.224609 0.015625)\" xlink:href=\"#DejaVuSans-99\"/>\n",
              "      <use transform=\"translate(360.205078 0.015625)\" xlink:href=\"#DejaVuSans-121\"/>\n",
              "      <use transform=\"translate(419.384766 0.015625)\" xlink:href=\"#DejaVuSans-32\"/>\n",
              "      <use transform=\"translate(451.171875 0.015625)\" xlink:href=\"#DejaVuSans-115\"/>\n",
              "      <use transform=\"translate(503.271484 0.015625)\" xlink:href=\"#DejaVuSans-99\"/>\n",
              "      <use transform=\"translate(558.251953 0.015625)\" xlink:href=\"#DejaVuSans-111\"/>\n",
              "      <use transform=\"translate(619.433594 0.015625)\" xlink:href=\"#DejaVuSans-114\"/>\n",
              "      <use transform=\"translate(660.546875 0.015625)\" xlink:href=\"#DejaVuSans-101\"/>\n",
              "      <use transform=\"translate(722.070312 0.015625)\" xlink:href=\"#DejaVuSans-32\"/>\n",
              "      <use transform=\"translate(753.857422 0.015625)\" xlink:href=\"#DejaVuSans-Oblique-115\"/>\n",
              "      <use transform=\"translate(805.957031 -16.390625)scale(0.7)\" xlink:href=\"#DejaVuSans-Oblique-106\"/>\n",
              "     </g>\n",
              "    </g>\n",
              "   </g>\n",
              "   <g id=\"LineCollection_1\">\n",
              "    <path clip-path=\"url(#p9e8ea1b92f)\" d=\"M 60.021307 214.756364 \n",
              "L 60.021307 62.020626 \n",
              "\" style=\"fill:none;stroke:#1f77b4;stroke-width:1.5;\"/>\n",
              "    <path clip-path=\"url(#p9e8ea1b92f)\" d=\"M 69.839489 214.756364 \n",
              "L 69.839489 39.451064 \n",
              "\" style=\"fill:none;stroke:#1f77b4;stroke-width:1.5;\"/>\n",
              "    <path clip-path=\"url(#p9e8ea1b92f)\" d=\"M 79.65767 214.756364 \n",
              "L 79.65767 53.753294 \n",
              "\" style=\"fill:none;stroke:#1f77b4;stroke-width:1.5;\"/>\n",
              "    <path clip-path=\"url(#p9e8ea1b92f)\" d=\"M 89.475852 214.756364 \n",
              "L 89.475852 62.764846 \n",
              "\" style=\"fill:none;stroke:#1f77b4;stroke-width:1.5;\"/>\n",
              "    <path clip-path=\"url(#p9e8ea1b92f)\" d=\"M 99.294034 214.756364 \n",
              "L 99.294034 70.074469 \n",
              "\" style=\"fill:none;stroke:#1f77b4;stroke-width:1.5;\"/>\n",
              "    <path clip-path=\"url(#p9e8ea1b92f)\" d=\"M 109.112216 214.756364 \n",
              "L 109.112216 65.469174 \n",
              "\" style=\"fill:none;stroke:#1f77b4;stroke-width:1.5;\"/>\n",
              "    <path clip-path=\"url(#p9e8ea1b92f)\" d=\"M 118.930398 214.756364 \n",
              "L 118.930398 139.556385 \n",
              "\" style=\"fill:none;stroke:#1f77b4;stroke-width:1.5;\"/>\n",
              "    <path clip-path=\"url(#p9e8ea1b92f)\" d=\"M 128.74858 214.756364 \n",
              "L 128.74858 67.827405 \n",
              "\" style=\"fill:none;stroke:#1f77b4;stroke-width:1.5;\"/>\n",
              "    <path clip-path=\"url(#p9e8ea1b92f)\" d=\"M 138.566761 214.756364 \n",
              "L 138.566761 83.131144 \n",
              "\" style=\"fill:none;stroke:#1f77b4;stroke-width:1.5;\"/>\n",
              "    <path clip-path=\"url(#p9e8ea1b92f)\" d=\"M 148.384943 214.756364 \n",
              "L 148.384943 71.024372 \n",
              "\" style=\"fill:none;stroke:#1f77b4;stroke-width:1.5;\"/>\n",
              "    <path clip-path=\"url(#p9e8ea1b92f)\" d=\"M 158.203125 214.756364 \n",
              "L 158.203125 61.378756 \n",
              "\" style=\"fill:none;stroke:#1f77b4;stroke-width:1.5;\"/>\n",
              "    <path clip-path=\"url(#p9e8ea1b92f)\" d=\"M 168.021307 214.756364 \n",
              "L 168.021307 100.126854 \n",
              "\" style=\"fill:none;stroke:#1f77b4;stroke-width:1.5;\"/>\n",
              "    <path clip-path=\"url(#p9e8ea1b92f)\" d=\"M 177.839489 214.756364 \n",
              "L 177.839489 110.331117 \n",
              "\" style=\"fill:none;stroke:#1f77b4;stroke-width:1.5;\"/>\n",
              "    <path clip-path=\"url(#p9e8ea1b92f)\" d=\"M 187.65767 214.756364 \n",
              "L 187.65767 99.106888 \n",
              "\" style=\"fill:none;stroke:#1f77b4;stroke-width:1.5;\"/>\n",
              "    <path clip-path=\"url(#p9e8ea1b92f)\" d=\"M 197.475852 214.756364 \n",
              "L 197.475852 30.631802 \n",
              "\" style=\"fill:none;stroke:#1f77b4;stroke-width:1.5;\"/>\n",
              "    <path clip-path=\"url(#p9e8ea1b92f)\" d=\"M 207.294034 214.756364 \n",
              "L 207.294034 92.080952 \n",
              "\" style=\"fill:none;stroke:#1f77b4;stroke-width:1.5;\"/>\n",
              "    <path clip-path=\"url(#p9e8ea1b92f)\" d=\"M 217.112216 214.756364 \n",
              "L 217.112216 81.165374 \n",
              "\" style=\"fill:none;stroke:#1f77b4;stroke-width:1.5;\"/>\n",
              "    <path clip-path=\"url(#p9e8ea1b92f)\" d=\"M 226.930398 214.756364 \n",
              "L 226.930398 89.261493 \n",
              "\" style=\"fill:none;stroke:#1f77b4;stroke-width:1.5;\"/>\n",
              "    <path clip-path=\"url(#p9e8ea1b92f)\" d=\"M 236.74858 214.756364 \n",
              "L 236.74858 31.820725 \n",
              "\" style=\"fill:none;stroke:#1f77b4;stroke-width:1.5;\"/>\n",
              "    <path clip-path=\"url(#p9e8ea1b92f)\" d=\"M 246.566761 214.756364 \n",
              "L 246.566761 17.083636 \n",
              "\" style=\"fill:none;stroke:#1f77b4;stroke-width:1.5;\"/>\n",
              "    <path clip-path=\"url(#p9e8ea1b92f)\" d=\"M 256.384943 214.756364 \n",
              "L 256.384943 28.94926 \n",
              "\" style=\"fill:none;stroke:#1f77b4;stroke-width:1.5;\"/>\n",
              "    <path clip-path=\"url(#p9e8ea1b92f)\" d=\"M 266.203125 214.756364 \n",
              "L 266.203125 96.866444 \n",
              "\" style=\"fill:none;stroke:#1f77b4;stroke-width:1.5;\"/>\n",
              "    <path clip-path=\"url(#p9e8ea1b92f)\" d=\"M 276.021307 214.756364 \n",
              "L 276.021307 129.401772 \n",
              "\" style=\"fill:none;stroke:#1f77b4;stroke-width:1.5;\"/>\n",
              "    <path clip-path=\"url(#p9e8ea1b92f)\" d=\"M 285.839489 214.756364 \n",
              "L 285.839489 122.415838 \n",
              "\" style=\"fill:none;stroke:#1f77b4;stroke-width:1.5;\"/>\n",
              "    <path clip-path=\"url(#p9e8ea1b92f)\" d=\"M 295.65767 214.756364 \n",
              "L 295.65767 44.47239 \n",
              "\" style=\"fill:none;stroke:#1f77b4;stroke-width:1.5;\"/>\n",
              "    <path clip-path=\"url(#p9e8ea1b92f)\" d=\"M 305.475852 214.756364 \n",
              "L 305.475852 90.251859 \n",
              "\" style=\"fill:none;stroke:#1f77b4;stroke-width:1.5;\"/>\n",
              "    <path clip-path=\"url(#p9e8ea1b92f)\" d=\"M 315.294034 214.756364 \n",
              "L 315.294034 100.422318 \n",
              "\" style=\"fill:none;stroke:#1f77b4;stroke-width:1.5;\"/>\n",
              "    <path clip-path=\"url(#p9e8ea1b92f)\" d=\"M 325.112216 214.756364 \n",
              "L 325.112216 183.504877 \n",
              "\" style=\"fill:none;stroke:#1f77b4;stroke-width:1.5;\"/>\n",
              "    <path clip-path=\"url(#p9e8ea1b92f)\" d=\"M 334.930398 214.756364 \n",
              "L 334.930398 83.041883 \n",
              "\" style=\"fill:none;stroke:#1f77b4;stroke-width:1.5;\"/>\n",
              "    <path clip-path=\"url(#p9e8ea1b92f)\" d=\"M 344.74858 214.756364 \n",
              "L 344.74858 98.392721 \n",
              "\" style=\"fill:none;stroke:#1f77b4;stroke-width:1.5;\"/>\n",
              "    <path clip-path=\"url(#p9e8ea1b92f)\" d=\"M 354.566761 214.756364 \n",
              "L 354.566761 92.062245 \n",
              "\" style=\"fill:none;stroke:#1f77b4;stroke-width:1.5;\"/>\n",
              "    <path clip-path=\"url(#p9e8ea1b92f)\" d=\"M 364.384943 214.756364 \n",
              "L 364.384943 214.756301 \n",
              "\" style=\"fill:none;stroke:#1f77b4;stroke-width:1.5;\"/>\n",
              "   </g>\n",
              "   <g id=\"line2d_17\">\n",
              "    <defs>\n",
              "     <path d=\"M 0 3 \n",
              "C 0.795609 3 1.55874 2.683901 2.12132 2.12132 \n",
              "C 2.683901 1.55874 3 0.795609 3 0 \n",
              "C 3 -0.795609 2.683901 -1.55874 2.12132 -2.12132 \n",
              "C 1.55874 -2.683901 0.795609 -3 0 -3 \n",
              "C -0.795609 -3 -1.55874 -2.683901 -2.12132 -2.12132 \n",
              "C -2.683901 -1.55874 -3 -0.795609 -3 0 \n",
              "C -3 0.795609 -2.683901 1.55874 -2.12132 2.12132 \n",
              "C -1.55874 2.683901 -0.795609 3 0 3 \n",
              "z\n",
              "\" id=\"m6a166b98a6\" style=\"stroke:#1f77b4;\"/>\n",
              "    </defs>\n",
              "    <g clip-path=\"url(#p9e8ea1b92f)\">\n",
              "     <use style=\"fill:#1f77b4;stroke:#1f77b4;\" x=\"60.021307\" xlink:href=\"#m6a166b98a6\" y=\"62.020626\"/>\n",
              "     <use style=\"fill:#1f77b4;stroke:#1f77b4;\" x=\"69.839489\" xlink:href=\"#m6a166b98a6\" y=\"39.451064\"/>\n",
              "     <use style=\"fill:#1f77b4;stroke:#1f77b4;\" x=\"79.65767\" xlink:href=\"#m6a166b98a6\" y=\"53.753294\"/>\n",
              "     <use style=\"fill:#1f77b4;stroke:#1f77b4;\" x=\"89.475852\" xlink:href=\"#m6a166b98a6\" y=\"62.764846\"/>\n",
              "     <use style=\"fill:#1f77b4;stroke:#1f77b4;\" x=\"99.294034\" xlink:href=\"#m6a166b98a6\" y=\"70.074469\"/>\n",
              "     <use style=\"fill:#1f77b4;stroke:#1f77b4;\" x=\"109.112216\" xlink:href=\"#m6a166b98a6\" y=\"65.469174\"/>\n",
              "     <use style=\"fill:#1f77b4;stroke:#1f77b4;\" x=\"118.930398\" xlink:href=\"#m6a166b98a6\" y=\"139.556385\"/>\n",
              "     <use style=\"fill:#1f77b4;stroke:#1f77b4;\" x=\"128.74858\" xlink:href=\"#m6a166b98a6\" y=\"67.827405\"/>\n",
              "     <use style=\"fill:#1f77b4;stroke:#1f77b4;\" x=\"138.566761\" xlink:href=\"#m6a166b98a6\" y=\"83.131144\"/>\n",
              "     <use style=\"fill:#1f77b4;stroke:#1f77b4;\" x=\"148.384943\" xlink:href=\"#m6a166b98a6\" y=\"71.024372\"/>\n",
              "     <use style=\"fill:#1f77b4;stroke:#1f77b4;\" x=\"158.203125\" xlink:href=\"#m6a166b98a6\" y=\"61.378756\"/>\n",
              "     <use style=\"fill:#1f77b4;stroke:#1f77b4;\" x=\"168.021307\" xlink:href=\"#m6a166b98a6\" y=\"100.126854\"/>\n",
              "     <use style=\"fill:#1f77b4;stroke:#1f77b4;\" x=\"177.839489\" xlink:href=\"#m6a166b98a6\" y=\"110.331117\"/>\n",
              "     <use style=\"fill:#1f77b4;stroke:#1f77b4;\" x=\"187.65767\" xlink:href=\"#m6a166b98a6\" y=\"99.106888\"/>\n",
              "     <use style=\"fill:#1f77b4;stroke:#1f77b4;\" x=\"197.475852\" xlink:href=\"#m6a166b98a6\" y=\"30.631802\"/>\n",
              "     <use style=\"fill:#1f77b4;stroke:#1f77b4;\" x=\"207.294034\" xlink:href=\"#m6a166b98a6\" y=\"92.080952\"/>\n",
              "     <use style=\"fill:#1f77b4;stroke:#1f77b4;\" x=\"217.112216\" xlink:href=\"#m6a166b98a6\" y=\"81.165374\"/>\n",
              "     <use style=\"fill:#1f77b4;stroke:#1f77b4;\" x=\"226.930398\" xlink:href=\"#m6a166b98a6\" y=\"89.261493\"/>\n",
              "     <use style=\"fill:#1f77b4;stroke:#1f77b4;\" x=\"236.74858\" xlink:href=\"#m6a166b98a6\" y=\"31.820725\"/>\n",
              "     <use style=\"fill:#1f77b4;stroke:#1f77b4;\" x=\"246.566761\" xlink:href=\"#m6a166b98a6\" y=\"17.083636\"/>\n",
              "     <use style=\"fill:#1f77b4;stroke:#1f77b4;\" x=\"256.384943\" xlink:href=\"#m6a166b98a6\" y=\"28.94926\"/>\n",
              "     <use style=\"fill:#1f77b4;stroke:#1f77b4;\" x=\"266.203125\" xlink:href=\"#m6a166b98a6\" y=\"96.866444\"/>\n",
              "     <use style=\"fill:#1f77b4;stroke:#1f77b4;\" x=\"276.021307\" xlink:href=\"#m6a166b98a6\" y=\"129.401772\"/>\n",
              "     <use style=\"fill:#1f77b4;stroke:#1f77b4;\" x=\"285.839489\" xlink:href=\"#m6a166b98a6\" y=\"122.415838\"/>\n",
              "     <use style=\"fill:#1f77b4;stroke:#1f77b4;\" x=\"295.65767\" xlink:href=\"#m6a166b98a6\" y=\"44.47239\"/>\n",
              "     <use style=\"fill:#1f77b4;stroke:#1f77b4;\" x=\"305.475852\" xlink:href=\"#m6a166b98a6\" y=\"90.251859\"/>\n",
              "     <use style=\"fill:#1f77b4;stroke:#1f77b4;\" x=\"315.294034\" xlink:href=\"#m6a166b98a6\" y=\"100.422318\"/>\n",
              "     <use style=\"fill:#1f77b4;stroke:#1f77b4;\" x=\"325.112216\" xlink:href=\"#m6a166b98a6\" y=\"183.504877\"/>\n",
              "     <use style=\"fill:#1f77b4;stroke:#1f77b4;\" x=\"334.930398\" xlink:href=\"#m6a166b98a6\" y=\"83.041883\"/>\n",
              "     <use style=\"fill:#1f77b4;stroke:#1f77b4;\" x=\"344.74858\" xlink:href=\"#m6a166b98a6\" y=\"98.392721\"/>\n",
              "     <use style=\"fill:#1f77b4;stroke:#1f77b4;\" x=\"354.566761\" xlink:href=\"#m6a166b98a6\" y=\"92.062245\"/>\n",
              "     <use style=\"fill:#1f77b4;stroke:#1f77b4;\" x=\"364.384943\" xlink:href=\"#m6a166b98a6\" y=\"214.756301\"/>\n",
              "    </g>\n",
              "   </g>\n",
              "   <g id=\"line2d_18\">\n",
              "    <path clip-path=\"url(#p9e8ea1b92f)\" d=\"M 60.021307 214.756364 \n",
              "L 364.384943 214.756364 \n",
              "\" style=\"fill:none;stroke:#d62728;stroke-linecap:square;stroke-width:1.5;\"/>\n",
              "   </g>\n",
              "   <g id=\"patch_3\">\n",
              "    <path d=\"M 44.803125 224.64 \n",
              "L 44.803125 7.2 \n",
              "\" style=\"fill:none;stroke:#000000;stroke-linecap:square;stroke-linejoin:miter;stroke-width:0.8;\"/>\n",
              "   </g>\n",
              "   <g id=\"patch_4\">\n",
              "    <path d=\"M 379.603125 224.64 \n",
              "L 379.603125 7.2 \n",
              "\" style=\"fill:none;stroke:#000000;stroke-linecap:square;stroke-linejoin:miter;stroke-width:0.8;\"/>\n",
              "   </g>\n",
              "   <g id=\"patch_5\">\n",
              "    <path d=\"M 44.803125 224.64 \n",
              "L 379.603125 224.64 \n",
              "\" style=\"fill:none;stroke:#000000;stroke-linecap:square;stroke-linejoin:miter;stroke-width:0.8;\"/>\n",
              "   </g>\n",
              "   <g id=\"patch_6\">\n",
              "    <path d=\"M 44.803125 7.2 \n",
              "L 379.603125 7.2 \n",
              "\" style=\"fill:none;stroke:#000000;stroke-linecap:square;stroke-linejoin:miter;stroke-width:0.8;\"/>\n",
              "   </g>\n",
              "  </g>\n",
              " </g>\n",
              " <defs>\n",
              "  <clipPath id=\"p9e8ea1b92f\">\n",
              "   <rect height=\"217.44\" width=\"334.8\" x=\"44.803125\" y=\"7.2\"/>\n",
              "  </clipPath>\n",
              " </defs>\n",
              "</svg>\n"
            ],
            "text/plain": [
              "<Figure size 432x288 with 1 Axes>"
            ]
          },
          "metadata": {
            "needs_background": "light"
          },
          "output_type": "display_data"
        }
      ],
      "source": [
        "salience_scores = np.linalg.norm(singular_values.reshape([K,1])*topic_document_mat,axis=0)\n",
        "plt.stem(salience_scores,use_line_collection=True)\n",
        "plt.xlabel('Frase $j$')\n",
        "plt.ylabel('Saliency score $s_j$')\n",
        "plt.show()"
      ]
    },
    {
      "cell_type": "code",
      "execution_count": null,
      "metadata": {
        "id": "egRyNG8J0Mmt"
      },
      "outputs": [],
      "source": [
        "top_sentence_indices = np.argsort(-salience_scores)[:num_sentences]\n",
        "\n",
        "# Ordenamos para imprimir en el orden del texto\n",
        "top_sentence_indices.sort()"
      ]
    },
    {
      "cell_type": "code",
      "execution_count": null,
      "metadata": {
        "id": "9Gao4ux_0Mmt",
        "outputId": "4f9e1bb1-1083-4745-9269-572827444bee"
      },
      "outputs": [
        {
          "name": "stdout",
          "output_type": "stream",
          "text": [
            "Pero es indudable que estos nuevos descubrimientos vuelven a abrir el debate sobre la posibilidad de que se produjese una integración de los neandertales y los sapiens.\n",
            "***************\n",
            "Raquel Pérez Gómez, bióloga experta en genética y doctora en Ciencias Veterinarias por la Complutense, publicó hace tres años un artículo en EL PAÍS en el que señalaba que la paleogenética estaba minando la idea de que se trata de dos especies diferentes.\n",
            "***************\n",
            "“Estos resultados confirman (aún más si cabe) la postura de que no se puede hablar de especies, tampoco de híbridos, tampoco de extinción de los neandertales”, señala Pérez Gómez por correo electrónico.\n",
            "***************\n",
            "\n",
            "\n",
            "“En ciencia los conceptos son fundamentales”, prosigue Pérez Gómez.\n",
            "***************\n"
          ]
        }
      ],
      "source": [
        "sentences = list(doc.sents)\n",
        "\n",
        "for l in top_sentence_indices:\n",
        "\n",
        "    print(sentences[l].text)\n",
        "    print('***************')"
      ]
    },
    {
      "cell_type": "markdown",
      "metadata": {
        "id": "XK5L3K9Q0Mmt"
      },
      "source": [
        "#### TextRank"
      ]
    },
    {
      "cell_type": "code",
      "execution_count": null,
      "metadata": {
        "id": "ArW3ngde0Mmt",
        "outputId": "2dbe94e6-f685-4651-a494-fe6eae6f32e6"
      },
      "outputs": [
        {
          "name": "stdout",
          "output_type": "stream",
          "text": [
            "\n",
            "El debate sobre la capacidad cognitiva de los neandertales, la especie humana más cercana a la nuestra, desaparecida hace unos 40.000 años, parece cada vez más cerrado en la comunidad científica: eran tan inteligentes, hábiles, solidarios y creativos como nosotros, los Homo sapiens.\n",
            "***************\n",
            "Pero ahora, los nuevos descubrimientos genéticos abren un debate todavía más desafiante: ¿y si, en realidad, no se extinguieron? Impulsados por nuevos análisis de ADN fósil, algunos expertos apuntan que los neandertales siguen aquí porque somos nosotros, ya que se produjo una integración entre las dos especies.\n",
            "***************\n",
            "Y pese a todas las resistencias, dentro de unas décadas quedará claro por el peso de las evidencias que los neandertales eran humanos como nosotros, con características, llamémosles, arcaicas”.\n",
            "***************\n",
            "\n",
            "\n",
            "Lo interesante es que el proceso de hibridación no se produjo al revés: en neandertales europeos recientes no se han encontrado restos de ADN de sapiens, lo que indicaría que los humanos modernos adoptaron a neandertales; pero estos no convivieron en sus grupos con humanos modernos.\n",
            "***************\n"
          ]
        }
      ],
      "source": [
        "similarity_graph = networkx.from_numpy_array(corpus_tfidf_dense.T@corpus_tfidf_dense)\n",
        "\n",
        "scores = networkx.pagerank(similarity_graph)\n",
        "\n",
        "scores_values = np.fromiter(scores.values(), dtype=float)\n",
        "\n",
        "top_sentence_indices = np.argsort(-scores_values)[:num_sentences]\n",
        "\n",
        "# Ordenamos para imprimir en el orden del texto\n",
        "top_sentence_indices.sort()\n",
        "\n",
        "for l in top_sentence_indices:\n",
        "\n",
        "    print(sentences[l].text)\n",
        "    print('***************')\n"
      ]
    },
    {
      "cell_type": "code",
      "execution_count": null,
      "metadata": {
        "id": "WXzd4GU20Mmu"
      },
      "outputs": [],
      "source": []
    }
  ],
  "metadata": {
    "colab": {
      "provenance": [],
      "include_colab_link": true
    },
    "kernelspec": {
      "display_name": "Python 3",
      "language": "python",
      "name": "python3"
    },
    "language_info": {
      "codemirror_mode": {
        "name": "ipython",
        "version": 3
      },
      "file_extension": ".py",
      "mimetype": "text/x-python",
      "name": "python",
      "nbconvert_exporter": "python",
      "pygments_lexer": "ipython3",
      "version": "3.6.10"
    }
  },
  "nbformat": 4,
  "nbformat_minor": 0
}