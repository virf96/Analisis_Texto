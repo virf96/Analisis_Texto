{
  "nbformat": 4,
  "nbformat_minor": 0,
  "metadata": {
    "application/vnd.databricks.v1+notebook": {
      "notebookName": "dataframes_apache_log_solution",
      "dashboards": [],
      "language": "python",
      "widgets": {},
      "notebookOrigID": 4226562550632618
    },
    "colab": {
      "provenance": [],
      "toc_visible": true,
      "include_colab_link": true
    },
    "kernelspec": {
      "name": "python3",
      "display_name": "Python 3"
    }
  },
  "cells": [
    {
      "cell_type": "markdown",
      "metadata": {
        "id": "view-in-github",
        "colab_type": "text"
      },
      "source": [
        "<a href=\"https://colab.research.google.com/github/virf96/Analisis_Texto/blob/master/Proyecto1.ipynb\" target=\"_parent\"><img src=\"https://colab.research.google.com/assets/colab-badge.svg\" alt=\"Open In Colab\"/></a>"
      ]
    },
    {
      "cell_type": "markdown",
      "metadata": {
        "application/vnd.databricks.v1+cell": {
          "title": "",
          "showTitle": false,
          "inputWidgets": {},
          "nuid": "0d7343b6-3f11-4458-a37d-ea5d56afa2fd"
        },
        "id": "8y3JXLcy6W3u"
      },
      "source": [
        "# Mini-Proyecto 1\n",
        "\n",
        "### Procesado del Lenguaje Natural\n",
        "\n",
        "#### Abril 2021\n",
        "\n",
        "**Vanessa Gómez Verdejo, Pablo Martínez Olmos, Emilio Parrado Hernández**\n",
        "\n",
        "Departamento de Teoría de la Señal y Comunicaciones\n",
        "\n",
        "**Universidad Carlos III de Madrid**\n",
        "\n",
        "**Autores: Sanchez Texis Nahum, Serrano Diaz Barriga Carlos Heberto, Villa Rodriguez Fernando Arturo**\n",
        "\n",
        "\n",
        "<img src='http://www.tsc.uc3m.es/~emipar/BBVA/INTRO/img/logo_uc3m_foot.jpg' width=400 />"
      ]
    },
    {
      "cell_type": "markdown",
      "metadata": {
        "application/vnd.databricks.v1+cell": {
          "title": "",
          "showTitle": false,
          "inputWidgets": {},
          "nuid": "c400ba26-369c-47fa-a093-6574e86dec61"
        },
        "id": "vcSrN3QJ6W3v"
      },
      "source": [
        "En este proyecto vamos a utilizar las técnicas y métodos de procesamiento de cadenas de texto y corpus de datos que hemos visto en las dos primeras sesiones de curso. Para ello, este proyecto se divide en dos partes.\n",
        "\n",
        "En la primera parte del proyecto trabajaremos con cadenas de texto en Python, principalmente haremos uso de expresiones regulares, para estructurar un fichero de texto crudo y extraer los campos relevantes para así formar un fichero de datos estructurado con la información relevante para su posterior análisis.\n",
        "\n",
        "En la seguna parte el proyecto nos centraremos en el preprocesado de textos y para ello resolveremos una tarea de clasificación de tweets. Como particularidad trabajaremos con tweets en dos idiomas diferentes, así que veremos diferentes aproximaciones para hacer frente a este problema. "
      ]
    },
    {
      "cell_type": "code",
      "metadata": {
        "application/vnd.databricks.v1+cell": {
          "title": "",
          "showTitle": false,
          "inputWidgets": {},
          "nuid": "36aa63e5-51b1-45dc-83f7-88040faaa757"
        },
        "id": "VSRZgZwF6W31"
      },
      "source": [
        "%matplotlib inline  \n",
        "# Figures plotted inside the notebook\n",
        "%config InlineBackend.figure_format = 'svg'  \n",
        "# High quality figures\n",
        "import matplotlib.pyplot as plt\n",
        "import numpy as np\n",
        "import re\n",
        "import datetime"
      ],
      "execution_count": null,
      "outputs": []
    },
    {
      "cell_type": "markdown",
      "metadata": {
        "application/vnd.databricks.v1+cell": {
          "title": "",
          "showTitle": false,
          "inputWidgets": {},
          "nuid": "e5ef2122-0bb0-49a0-a9de-eb600d109075"
        },
        "id": "EqeKv2lj6W36"
      },
      "source": [
        "# Parte 1: Análisis de ficheros no estructurados \n",
        "\n",
        "En esta primera parte de la práctica vamos a utilizar expresiones regulares para extraer y estructurar información de ficheros log de un servidor web. En concreto, vamos a usar una parte del data set de NASA Kennedy Space Center web server en Florida. El dataset completo está disponible en <http://ita.ee.lbl.gov/html/contrib/NASA-HTTP.html>, y contiene todas las peticiones HTTP de dos meses. Aquí vamos a utilizar un subconjunto que sólo contiene algunas de estas solicitudes y se encuentran en el fichero `NASA_access_red.log.zip` que acompaña a este notebook. \n",
        "\n",
        "Para analizer este fichero vamos a seguir los siguientes pasos:\n",
        "1. Generaremos expresiones regulares para extraer los campos relevanes del fichero\n",
        "2. Usaremos estas expresiones para parsear el fichero de datos y generar una lista de diccionarios con la información relevante almacenada de forma estructurada.\n",
        "3. Utilizaremos la informacióón estructurada para analizar el contenido del fichero y extraer alguno estadísticos relevantes. \n",
        "\n",
        "\n",
        "Para empezar a trabajar vamos a utilizar un pequeño fragmento de este fichero que hemos incluido en la siguiente celda y sobre el que hemos incluido algunos errores de manera intencionada para testear la robustez de los métodos que vamos a diseñar."
      ]
    },
    {
      "cell_type": "code",
      "metadata": {
        "application/vnd.databricks.v1+cell": {
          "title": "",
          "showTitle": false,
          "inputWidgets": {},
          "nuid": "0b9322d3-13c6-4520-948c-58a3814e6693"
        },
        "id": "XFM8Ezyr6W36",
        "colab": {
          "base_uri": "https://localhost:8080/"
        },
        "outputId": "05940e5c-8fe3-4c6c-be88-27e4f3123837"
      },
      "source": [
        "logsHTTP=\"\"\"199.72.81.55 - - [01/Jul/1995:00:00:01 -0400] \"GET /history/apollo/ HTTP/1.0\" 200 6245\n",
        "unicomp6.unicomp.net - - [01/Jul/95:00:00:06 -0400] \"GET /shuttle/countdown/ HTTP/1.0\" 200 3985\n",
        "199.120.110.21 - - [01/Jul/1995:00:00:09 -0400] \"GET /shuttle/missions/sts-73/mission-sts-73.html HTTP/1.0\" 200 4085\n",
        " burger.letters.com - - [01/Jul/1995-00:00:11 -0400] \"GET /shuttle/countdown/liftoff.html HTTP/1.0\" 304 0\n",
        "199.120.110.21 - - [01/Jul/1995:00:00:11 -0400] \"GET /shuttle/missions/sts-73/sts-73-patch-small.gif HTTP/1.0\" 200 -\n",
        "burger.letters.com - - [01/July/1995:00:00:12 -0400] \"GET /images/NASA-logosmall.gif HTTP/1.0\" 304 0\n",
        "burger.letters.com - - [01/Jul/1995:00:00:12 -0400] \"GET /shuttle/countdown/video/livevideo.gif HTTP/1.0\" 200 -\n",
        "205.212.115.106 - - [01/Jul/1995:00:00:12 -0400] \"GET /shuttle/countdown/countdown.html HTTP/1.0\" 200 3985\n",
        " - - [01/Jul/1995:00:00:13 -0400] \"GET /shuttle/countdown/ HTTP/1.0\" 200 3985\n",
        "129.94.144.152 - - [01/Jul/1995:00:00:13 -0400] \"GET / HTTP/1.0\" 200 -\n",
        "unicomp6.unicomp.net - - [01/Jul/1995:00:00:14] \"GET /shuttle/countdown/count.gif HTTP/1.0\" 200 40310\n",
        "unicomp6.unicomp.net - - [01/Jul/1995:00:00:14 -0400] \"GET /images/NASA-logosmall.gif HTTP/1.0\" 200 786\n",
        "pipe6.nyc.pipeline.com - - [01/Jul/1995:00:22:43 -0400] \"GET /shuttle/missions/sts-71/movies/sts-71-mir-dock.mpg\" 200 946425\n",
        "columbia.acc.brad.ac.uk - - [01/Jul/1995:00:51:31 -0400] \"GET /ksc.html\" 200 7074\"\"\"\n",
        "\n",
        "print(logsHTTP)\n"
      ],
      "execution_count": null,
      "outputs": [
        {
          "output_type": "stream",
          "name": "stdout",
          "text": [
            "199.72.81.55 - - [01/Jul/1995:00:00:01 -0400] \"GET /history/apollo/ HTTP/1.0\" 200 6245\n",
            "unicomp6.unicomp.net - - [01/Jul/95:00:00:06 -0400] \"GET /shuttle/countdown/ HTTP/1.0\" 200 3985\n",
            "199.120.110.21 - - [01/Jul/1995:00:00:09 -0400] \"GET /shuttle/missions/sts-73/mission-sts-73.html HTTP/1.0\" 200 4085\n",
            " burger.letters.com - - [01/Jul/1995-00:00:11 -0400] \"GET /shuttle/countdown/liftoff.html HTTP/1.0\" 304 0\n",
            "199.120.110.21 - - [01/Jul/1995:00:00:11 -0400] \"GET /shuttle/missions/sts-73/sts-73-patch-small.gif HTTP/1.0\" 200 -\n",
            "burger.letters.com - - [01/July/1995:00:00:12 -0400] \"GET /images/NASA-logosmall.gif HTTP/1.0\" 304 0\n",
            "burger.letters.com - - [01/Jul/1995:00:00:12 -0400] \"GET /shuttle/countdown/video/livevideo.gif HTTP/1.0\" 200 -\n",
            "205.212.115.106 - - [01/Jul/1995:00:00:12 -0400] \"GET /shuttle/countdown/countdown.html HTTP/1.0\" 200 3985\n",
            " - - [01/Jul/1995:00:00:13 -0400] \"GET /shuttle/countdown/ HTTP/1.0\" 200 3985\n",
            "129.94.144.152 - - [01/Jul/1995:00:00:13 -0400] \"GET / HTTP/1.0\" 200 -\n",
            "unicomp6.unicomp.net - - [01/Jul/1995:00:00:14] \"GET /shuttle/countdown/count.gif HTTP/1.0\" 200 40310\n",
            "unicomp6.unicomp.net - - [01/Jul/1995:00:00:14 -0400] \"GET /images/NASA-logosmall.gif HTTP/1.0\" 200 786\n",
            "pipe6.nyc.pipeline.com - - [01/Jul/1995:00:22:43 -0400] \"GET /shuttle/missions/sts-71/movies/sts-71-mir-dock.mpg\" 200 946425\n",
            "columbia.acc.brad.ac.uk - - [01/Jul/1995:00:51:31 -0400] \"GET /ksc.html\" 200 7074\n"
          ]
        }
      ]
    },
    {
      "cell_type": "markdown",
      "metadata": {
        "id": "3Aml08dYp3Pu"
      },
      "source": [
        "A partir de la información de `logsHTTP` genere una lista (llamada `registros`) de strings donde cada elemento de la lista se corresponda con una línea del fichero (un registro). Tenga en cuenta que las líneas del fichero acaban con retorno de carro `'\\n'`. Además guarde el primer elemento de la lista en la variable `myregistro`."
      ]
    },
    {
      "cell_type": "code",
      "metadata": {
        "id": "tk8-ffYECAoZ"
      },
      "source": [
        "registros=logsHTTP.split('\\n')\n",
        "myregistro=registros[0]"
      ],
      "execution_count": null,
      "outputs": []
    },
    {
      "cell_type": "markdown",
      "metadata": {
        "application/vnd.databricks.v1+cell": {
          "title": "",
          "showTitle": false,
          "inputWidgets": {},
          "nuid": "fbdc57d4-5df7-4b7d-a03d-54028b961f56"
        },
        "id": "8nd4dr0M6W3-"
      },
      "source": [
        "## 1.1 Estructurando la información de cada entrada (3 puntos)\n",
        "\n",
        "El contenido de cada registro del log de un servidor web tiene una estructura concreta ([Formato web server log](https://www.w3.org/Daemon/User/Config/Logging.html#common-logfile-format)). Los campos son:\n",
        "\n",
        "`remotehost rfc931 authuser [date] \"request\" status bytes`\n",
        "\n",
        "| campo         | significado                                                                |\n",
        "| ------------- | ---------------------------------------------------------------------- |\n",
        "| _remotehost_  | Remote hostname (or IP number if DNS hostname is not available).       |\n",
        "| _rfc931_      | The remote logname of the user .|\n",
        "| _authuser_    | The username of the remote user, as authenticated by the HTTP server.  |\n",
        "| _[date]_      | The date and time of the request.                                      |\n",
        "| _\"request\"_   | The request, exactly as it came from the browser or .            |\n",
        "| _status_      | The HTTP status code the server sent back to the .               |\n",
        "| _bytes_       | The number of bytes (`Content-Length`) transferred to the .      |\n",
        "\n",
        "\n",
        "Nuestro objetivo va a ser extraer estos campos de cada registro del fichero y almacenarlos en un diccionario donde las claves serán los nombres de los campos y los valores los contenidos que vamos a extraer de cada registro. De este modo, por cada registro generaremos un diccionario que iremos guardando en una lista; así, tras parsear todo el fichero, acabaremos generando una lista de diccionarios. Los campos `rfc931` y `authuser` no se incluyen en el fichero con el que vamos a trabajar, así que los ignoraremos y nos centraremos en el resto.\n",
        "\n",
        "Para extraer los campos de cada registro vamos a definir expresiones regulares y para definirlas usaremos nuestro conocimiento sobre la estructura de estos campos de modo que podamos extraer esta información de manera robusta; es decir, si uno de los campos es incorrecto (no sigue esta estructura) la expresión regular no lo extraerá. Si observamos el extracto del fichero log de arriba, hay campos que no están completos o no siguen la estructura correcta, por lo que este fragmento nos servirá de test para asegurarnos que las  expresiones regulares que definimos son robustas.\n",
        "\n",
        "Como estas expresiones regulares las vamos a usar sobre todos los registros del fichero recomendamos (encarecidamente) que las compile para agilizar el procesado del fichero.\n",
        "\n",
        "Para facilitar la creación de estas expresiones vamos a ir campo por campo. "
      ]
    },
    {
      "cell_type": "markdown",
      "metadata": {
        "id": "ZBfvFsuotNOZ"
      },
      "source": [
        "### 1.1.1. Extrayento `remotehost`\n",
        "\n",
        "Como podemos ver en este campo nos podemos encontrar los nombres de los dominios o sus direcciones IPs. Pero para extraer este campo podemos usar el hecho de que este campo está formado por todos los caracteres (no sabemos cuantos) que están al principio del fichero hasta que encontramos el primer espacio. Además, si este campo está en el fichero, el registro empieza con un caracter que no es un espacio en blanco.\n",
        "\n",
        "Puede comprobar que la expresión regular funciona correctamente sobre la variable `myregistro` y luego analizar si es robusta a errores en el fichero aplicandola sobre todos los registros de `registros`. Para este procesado use una lista comprimida (*list comprenhension*).\n",
        "Para los registros incorrectos almacenaremos un valor de `None`."
      ]
    },
    {
      "cell_type": "code",
      "metadata": {
        "id": "v22e-cjaCSQ2",
        "colab": {
          "base_uri": "https://localhost:8080/"
        },
        "outputId": "7c14acbf-b5a5-4421-c890-ef209ed2b387"
      },
      "source": [
        "# host_patt = re.compile(r\"^([^\\s]+)\\s\")\n",
        "host_patt = re.compile(r\"^(\\S+)\\s\")\n",
        "host=re.match(host_patt,myregistro).group(1)\n",
        "print(host)"
      ],
      "execution_count": null,
      "outputs": [
        {
          "output_type": "stream",
          "name": "stdout",
          "text": [
            "199.72.81.55\n"
          ]
        }
      ]
    },
    {
      "cell_type": "code",
      "source": [
        "[re.match(host_patt,a).group(1) if re.match(host_patt,a) is not None else None for a in registros]"
      ],
      "metadata": {
        "colab": {
          "base_uri": "https://localhost:8080/"
        },
        "id": "P_mPazcF1LC8",
        "outputId": "b9d6be99-a840-4315-852b-d08f7d2817fd"
      },
      "execution_count": null,
      "outputs": [
        {
          "output_type": "execute_result",
          "data": {
            "text/plain": [
              "['199.72.81.55',\n",
              " 'unicomp6.unicomp.net',\n",
              " '199.120.110.21',\n",
              " None,\n",
              " '199.120.110.21',\n",
              " 'burger.letters.com',\n",
              " 'burger.letters.com',\n",
              " '205.212.115.106',\n",
              " None,\n",
              " '129.94.144.152',\n",
              " 'unicomp6.unicomp.net',\n",
              " 'unicomp6.unicomp.net',\n",
              " 'pipe6.nyc.pipeline.com',\n",
              " 'columbia.acc.brad.ac.uk']"
            ]
          },
          "metadata": {},
          "execution_count": 7
        }
      ]
    },
    {
      "cell_type": "markdown",
      "metadata": {
        "id": "O8RYBrXy-Oo9"
      },
      "source": [
        "### 1.1.2 Extrayendo `[date]`\n",
        "\n",
        "El campo de la fecha tiene la siguiente estructura:\n",
        "\n",
        "`[dd/MMM/yyyy:hh:mm:ss -zzzz]`\n",
        "\n",
        "donde:\n",
        "* `dd`: dos dígitos indicando el día\n",
        "* `MMM`: 3 caracteres indicando el mes\n",
        "* `yyyy`: 4 dígitos indicando el año\n",
        "* `hh`: dos dígitos indicando la hora\n",
        "* `mm`: dos dígitos indicando el minuto\n",
        "* `ss`: dos dígitos indicando el segundo\n",
        "* `-zzzz`: zona horaria\n",
        "\n",
        "Diseñe la expresión regular que le permita extraer de los registros el contenido de `dd/MMM/yyyy:hh:mm:ss`. Al igual que antes, pruebe la expresión regular sobre `myregistro` y luego analice si es robusta a errores ejecutándola sobre `registros`.\n",
        "\n"
      ]
    },
    {
      "cell_type": "code",
      "source": [
        "myregistro"
      ],
      "metadata": {
        "colab": {
          "base_uri": "https://localhost:8080/",
          "height": 35
        },
        "id": "Q4U46ut8tfEF",
        "outputId": "bb08ed81-2470-4a6c-d1a7-bd629ec8e14b"
      },
      "execution_count": null,
      "outputs": [
        {
          "output_type": "execute_result",
          "data": {
            "text/plain": [
              "'199.72.81.55 - - [01/Jul/1995:00:00:01 -0400] \"GET /history/apollo/ HTTP/1.0\" 200 6245'"
            ],
            "application/vnd.google.colaboratory.intrinsic+json": {
              "type": "string"
            }
          },
          "metadata": {},
          "execution_count": 8
        }
      ]
    },
    {
      "cell_type": "code",
      "metadata": {
        "id": "-CNlxpCAE9Bu",
        "colab": {
          "base_uri": "https://localhost:8080/"
        },
        "outputId": "9dcd32e4-a0a3-41dc-f3d1-56a0cd611568"
      },
      "source": [
        "date_patt = re.compile(r\"^.*[\\[](?P<date>\\d{2}\\/[a-zA-Z]{3}\\/\\d{4}:\\d{2}:\\d{2}:\\d{2})\")\n",
        "# date_patt = re.compile(r\"(?P<date>\\d{2}\\/[a-zA-Z]{3}\\/\\d{4}:\\d{2}:\\d{2}:\\d{2})\")\n",
        "date = date_patt.match(myregistro).group(1)\n",
        "# date=re.search(date_patt,myregistro).group('date')\n",
        "print(date)"
      ],
      "execution_count": null,
      "outputs": [
        {
          "output_type": "stream",
          "name": "stdout",
          "text": [
            "01/Jul/1995:00:00:01\n"
          ]
        }
      ]
    },
    {
      "cell_type": "code",
      "source": [
        "[re.match(date_patt,a).group('date') if re.match(date_patt,a) is not None else None for a in registros]"
      ],
      "metadata": {
        "colab": {
          "base_uri": "https://localhost:8080/"
        },
        "id": "WCR6qkX15kNf",
        "outputId": "39deab49-4053-417b-8acf-daa79e2d40b3"
      },
      "execution_count": null,
      "outputs": [
        {
          "output_type": "execute_result",
          "data": {
            "text/plain": [
              "['01/Jul/1995:00:00:01',\n",
              " None,\n",
              " '01/Jul/1995:00:00:09',\n",
              " None,\n",
              " '01/Jul/1995:00:00:11',\n",
              " None,\n",
              " '01/Jul/1995:00:00:12',\n",
              " '01/Jul/1995:00:00:12',\n",
              " '01/Jul/1995:00:00:13',\n",
              " '01/Jul/1995:00:00:13',\n",
              " '01/Jul/1995:00:00:14',\n",
              " '01/Jul/1995:00:00:14',\n",
              " '01/Jul/1995:00:22:43',\n",
              " '01/Jul/1995:00:51:31']"
            ]
          },
          "metadata": {},
          "execution_count": 10
        }
      ]
    },
    {
      "cell_type": "markdown",
      "metadata": {
        "id": "dBvJKsZA-HSC"
      },
      "source": [
        "### 1.1.3. Extrayendo `request`\n",
        "\n",
        "El campo del `request` tiene un formato de este tipo:\n",
        "\n",
        "`\"GET /apache_pb.gif HTTP/1.0\"`\n",
        "\n",
        "En nuestros registros nos vamos a encontrar este campo entre comillas. Su contenido empieza con la palabra clave `GET` seguido del nombre del recurso solicitado (en el ejemplo `/apache_pb.gif`); entre la palabra clave `GET` y el recurso puede haber uno o varios espacios en blanco. A continuación indica el plotocolo HTTP usado, para ello incluye la palabra clave `HTTP` seguida de una serie de caracteres (sin formato predefinido). Entre el recurso y el protocolo puede haber uno o varios espacios en blanco. \n",
        "\n",
        "Diseñe la expresión regular que le permita extraer el nombre del recurso solicitado (en el ejemplo sería `/apache_pb.gif`). Al igual que antes, pruebe la expresión regular sobre `myregistro` y luego analice si es robusta a errores ejecutándola sobre `registros`.\n",
        "\n"
      ]
    },
    {
      "cell_type": "code",
      "source": [
        "myregistro"
      ],
      "metadata": {
        "colab": {
          "base_uri": "https://localhost:8080/",
          "height": 35
        },
        "id": "ewZeCWgi9uax",
        "outputId": "67a87dc1-a58d-4eb1-ae99-6770180c43fb"
      },
      "execution_count": null,
      "outputs": [
        {
          "output_type": "execute_result",
          "data": {
            "text/plain": [
              "'199.72.81.55 - - [01/Jul/1995:00:00:01 -0400] \"GET /history/apollo/ HTTP/1.0\" 200 6245'"
            ],
            "application/vnd.google.colaboratory.intrinsic+json": {
              "type": "string"
            }
          },
          "metadata": {},
          "execution_count": 11
        }
      ]
    },
    {
      "cell_type": "code",
      "metadata": {
        "id": "YleRem6l_ieF",
        "colab": {
          "base_uri": "https://localhost:8080/"
        },
        "outputId": "7e0ba98d-f8a5-4078-cbc2-d990354983bf"
      },
      "source": [
        "# request_patt = re.compile(r\"\"\"^.*\"\\w+\\s+(\\S+)\\s+HTTP\"\"\")\n",
        "request_patt = re.compile(r\"^.*GET\\s*(\\S+)\\s*HTTP.+\")\n",
        "request=re.match(request_patt,myregistro).group(1)\n",
        "print(request)"
      ],
      "execution_count": null,
      "outputs": [
        {
          "output_type": "stream",
          "name": "stdout",
          "text": [
            "/history/apollo/\n"
          ]
        }
      ]
    },
    {
      "cell_type": "code",
      "source": [
        "[re.match(request_patt,a).group(1) if re.match(request_patt,a) is not None else None for a in registros]"
      ],
      "metadata": {
        "colab": {
          "base_uri": "https://localhost:8080/"
        },
        "id": "kyoKsyN37wRf",
        "outputId": "d78608a7-264e-4305-80d4-44069c02ad72"
      },
      "execution_count": null,
      "outputs": [
        {
          "output_type": "execute_result",
          "data": {
            "text/plain": [
              "['/history/apollo/',\n",
              " '/shuttle/countdown/',\n",
              " '/shuttle/missions/sts-73/mission-sts-73.html',\n",
              " '/shuttle/countdown/liftoff.html',\n",
              " '/shuttle/missions/sts-73/sts-73-patch-small.gif',\n",
              " '/images/NASA-logosmall.gif',\n",
              " '/shuttle/countdown/video/livevideo.gif',\n",
              " '/shuttle/countdown/countdown.html',\n",
              " '/shuttle/countdown/',\n",
              " '/',\n",
              " '/shuttle/countdown/count.gif',\n",
              " '/images/NASA-logosmall.gif',\n",
              " None,\n",
              " None]"
            ]
          },
          "metadata": {},
          "execution_count": 13
        }
      ]
    },
    {
      "cell_type": "markdown",
      "metadata": {
        "id": "YecwDx-zB0WL"
      },
      "source": [
        "### 1.1.4 Extrayendo `status`\n",
        "\n",
        "El campo del `status` es simplemente un  código de 3 dígitos que se encuentra después de la petición realizada (cuando acaban las comillas) y separado de la petición por uno o varios espacios en blanco.\n",
        "\n",
        "Diseñe la expresión regular que le permita extraer el código asociado al estado de la petición. Al igual que antes, pruebe la expresión regular sobre `myregistro` y luego analice si es robusta a errores ejecutándola sobre `registros`.\n",
        "\n"
      ]
    },
    {
      "cell_type": "code",
      "metadata": {
        "id": "XYB6D4CWCh9m",
        "colab": {
          "base_uri": "https://localhost:8080/"
        },
        "outputId": "1adcf7e7-cf15-4c8a-b096-b6b3bf1c38d9"
      },
      "source": [
        "# status_patt = re.compile(r\"\"\"^.*\".*\"\\s+(\\d+)\"\"\")\n",
        "status_patt = re.compile(r\"\"\"^.*\"\\s+(\\d{3})\"\"\")\n",
        "status=re.match(status_patt,myregistro).group(1)\n",
        "print(status)"
      ],
      "execution_count": null,
      "outputs": [
        {
          "output_type": "stream",
          "name": "stdout",
          "text": [
            "200\n"
          ]
        }
      ]
    },
    {
      "cell_type": "code",
      "source": [
        "[re.match(status_patt,a).group(1) if re.match(status_patt,a) is not None else None for a in registros]"
      ],
      "metadata": {
        "colab": {
          "base_uri": "https://localhost:8080/"
        },
        "id": "TLVgZ3e19fYO",
        "outputId": "1f30fed6-0310-4531-f5c9-9ed243307919"
      },
      "execution_count": null,
      "outputs": [
        {
          "output_type": "execute_result",
          "data": {
            "text/plain": [
              "['200',\n",
              " '200',\n",
              " '200',\n",
              " '304',\n",
              " '200',\n",
              " '304',\n",
              " '200',\n",
              " '200',\n",
              " '200',\n",
              " '200',\n",
              " '200',\n",
              " '200',\n",
              " '200',\n",
              " '200']"
            ]
          },
          "metadata": {},
          "execution_count": 15
        }
      ]
    },
    {
      "cell_type": "markdown",
      "metadata": {
        "id": "ODxtAditDYUu"
      },
      "source": [
        "### 1.1.5 Extrayendo `bytes`\n",
        "\n",
        "El campo del `bytes` es simplemente un conjunto dígitos que se encuentran al final del registro y se encuentra separado del estado por uno o varios espacios en blanco.\n",
        "\n",
        "Diseñe la expresión regular que le permita extraer el número de bytes intercambiados en la petición. Al igual que antes, pruebe la expresión regular sobre `myregistro` y luego analice si es robusta a errores ejecutándola sobre `registros`.\n",
        "\n",
        "En este caso, hay muchos registros que en vez de contener el número de bytes intercambiados incluyen el carácter `'-'`; en este caso, procesaremos estas cadenas e incluiremos valores a `'0'`. Además, aproveche la extracción de datos para convertir esta cadena de texto a entero (`int`) para facilitar posteriores análisis sobre los datos.\n"
      ]
    },
    {
      "cell_type": "code",
      "metadata": {
        "id": "e3jgviIDD1K2",
        "colab": {
          "base_uri": "https://localhost:8080/"
        },
        "outputId": "e5a73698-196c-4d3d-c41f-306af2c15942"
      },
      "source": [
        "# bytes_patt = re.compile(r\"\"\"^.*\"\\s+\\d+\\s(\\d+)$\"\"\")\n",
        "bytes_patt = re.compile(r\"\"\"^.*\\s(\\d+)$\"\"\")\n",
        "byte=re.match(bytes_patt,myregistro).group(1)\n",
        "print(byte)"
      ],
      "execution_count": null,
      "outputs": [
        {
          "output_type": "stream",
          "name": "stdout",
          "text": [
            "6245\n"
          ]
        }
      ]
    },
    {
      "cell_type": "code",
      "source": [
        "[int(re.match(bytes_patt,a).group(1)) if re.match(bytes_patt,a) is not None else 0 for a in registros]"
      ],
      "metadata": {
        "colab": {
          "base_uri": "https://localhost:8080/"
        },
        "id": "6gXBt33H_q9b",
        "outputId": "a8347d0f-1150-4019-ed8b-7dfee01a00a6"
      },
      "execution_count": null,
      "outputs": [
        {
          "output_type": "execute_result",
          "data": {
            "text/plain": [
              "[6245, 3985, 4085, 0, 0, 0, 0, 3985, 3985, 0, 40310, 786, 946425, 7074]"
            ]
          },
          "metadata": {},
          "execution_count": 17
        }
      ]
    },
    {
      "cell_type": "markdown",
      "metadata": {
        "id": "mZgvtu2IGdXB"
      },
      "source": [
        "## 1.2 Parseado de todo el fichero de datos (1 punto)\n",
        "\n",
        "Con las expresiones regulares diseñadas anteriormente diseñe una función que por cada registro genere un diciconario con todos los campos de interés. A continuación, cargue el fichero de datos que le damos y  procéselo para extraer una lista de diccionarios con todo el contenido del fichero estructurado. "
      ]
    },
    {
      "cell_type": "code",
      "metadata": {
        "id": "BJF5bqzRZna3"
      },
      "source": [
        "import zipfile\n",
        "from urllib.request import urlopen\n",
        "from io import BytesIO # For Pyhton 3\n",
        "\n",
        "myfile = BytesIO(urlopen(\"http://www.tsc.uc3m.es/~vanessa/data_notebooks/logs/NASA_access_red.log.zip\").read())\n",
        "# In case you have problems to access to the url, upload the fila to colab and use the following line\n",
        "# myfile = NASA_access_red.log.zip\n",
        "\n",
        "with zipfile.ZipFile(myfile) as myzip:\n",
        "    with myzip.open('NASA_access_red.log') as myfile:\n",
        "       logsHTTP = myfile.read().decode('UTF-8')"
      ],
      "execution_count": null,
      "outputs": []
    },
    {
      "cell_type": "code",
      "source": [
        "lst_logsHTTP=logsHTTP.split('\\n')"
      ],
      "metadata": {
        "id": "-IvuzDH2TVlR"
      },
      "execution_count": null,
      "outputs": []
    },
    {
      "cell_type": "code",
      "metadata": {
        "id": "niRsLUDWabz5"
      },
      "source": [
        "def parseado(reg):\n",
        "  host_patt = re.compile(r\"^(\\S+)\\s\")\n",
        "  date_patt = re.compile(r\"^.*[\\[](.*)[\\]]\")\n",
        "  request_patt = re.compile(r\"^.*GET\\s*(\\S+)\\s*HTTP\")\n",
        "  status_patt = re.compile(r\"\"\"^.*\".*\"\\s+(\\d+)\"\"\")\n",
        "  bytes_patt = re.compile(r\"\"\"^.*\\s(\\d+)$\"\"\")\n",
        "\n",
        "  d={}\n",
        "  d['host']=re.match(host_patt,reg).group(1) if re.match(host_patt,reg) is not None else None\n",
        "  d['date']=re.match(date_patt,reg).group(1) if re.match(date_patt,reg) is not None else None\n",
        "  d['request']=re.match(request_patt,reg).group(1) if re.match(request_patt,reg) is not None else None\n",
        "  d['status']=re.match(status_patt,reg).group(1) if re.match(status_patt,reg) is not None else None\n",
        "  d['bytes']=int(re.match(bytes_patt,reg).group(1)) if re.match(bytes_patt,reg) is not None else 0\n",
        "  return d"
      ],
      "execution_count": null,
      "outputs": []
    },
    {
      "cell_type": "code",
      "source": [
        "%%time\n",
        "lst_parseado=[parseado(a) for a in lst_logsHTTP]"
      ],
      "metadata": {
        "colab": {
          "base_uri": "https://localhost:8080/"
        },
        "id": "TBSDzkhXPEgW",
        "outputId": "3130b63f-e003-4274-9bf5-b2ad8a2093c4"
      },
      "execution_count": null,
      "outputs": [
        {
          "output_type": "stream",
          "name": "stdout",
          "text": [
            "CPU times: user 11.1 s, sys: 372 ms, total: 11.4 s\n",
            "Wall time: 11.6 s\n"
          ]
        }
      ]
    },
    {
      "cell_type": "code",
      "source": [
        "len(lst_parseado)"
      ],
      "metadata": {
        "colab": {
          "base_uri": "https://localhost:8080/"
        },
        "id": "6YYC2lAyowMa",
        "outputId": "34820d7b-3f98-4d91-95e1-54b12caf3dec"
      },
      "execution_count": null,
      "outputs": [
        {
          "output_type": "execute_result",
          "data": {
            "text/plain": [
              "302287"
            ]
          },
          "metadata": {},
          "execution_count": 22
        }
      ]
    },
    {
      "cell_type": "markdown",
      "metadata": {
        "id": "jEOb3ILEIBk4"
      },
      "source": [
        "Compruebe ahora las entradas que ha parseado correctamente y elimine de su lista de diccionarios las que eran erróneas (el diccionario debería tener un valor a `None` si no eran correctas). Además, analice los registros que no se han extraido correctamente y compruebe que es por un formato no adecuado  del registro."
      ]
    },
    {
      "cell_type": "code",
      "source": [
        "lst_parseado_corr=[b for b in  lst_parseado if  (None in [c for c in b.values() ])==False]"
      ],
      "metadata": {
        "id": "5uV3oWX3AOcC"
      },
      "execution_count": null,
      "outputs": []
    },
    {
      "cell_type": "code",
      "source": [
        "len(lst_parseado),len(lst_parseado_corr)"
      ],
      "metadata": {
        "colab": {
          "base_uri": "https://localhost:8080/"
        },
        "id": "6wck5DgxM7pv",
        "outputId": "955f8fc8-a15c-45f4-f476-a65af450f09c"
      },
      "execution_count": null,
      "outputs": [
        {
          "output_type": "execute_result",
          "data": {
            "text/plain": [
              "(302287, 301433)"
            ]
          },
          "metadata": {},
          "execution_count": 24
        }
      ]
    },
    {
      "cell_type": "markdown",
      "metadata": {
        "id": "WBdumzY1Gubi"
      },
      "source": [
        "## 1.3 OPCIONAL: Parseado eficiente  (0.5 punto extra)\n",
        "\n",
        "Si queremos hacer un parseado más eficiente, podemos diseñar una única expresión regular que extraiga todos los campos en una única búsqueda sobre cada registro. \n",
        "Compare tiempos respecto a la aproximación anterior. "
      ]
    },
    {
      "cell_type": "code",
      "source": [
        "def parseado_all(reg):\n",
        "  all_patt=re.compile(r\"\"\"^(\\S+)\\s*.*\\[(\\d{2}\\/[a-zA-Z]{3}\\/\\d{4}:\\d{2}:\\d{2}:\\d{2}).*\\s+\"GET\\s*(\\S+)\\s*HTTP.*\"\\s+(\\d+)\\s+(\\d+)$\"\"\")\n",
        "  d={}\n",
        "  find=re.match(all_patt,reg)\n",
        "  d['host']=find.group(1) if find is not None else None\n",
        "  d['date']=find.group(2) if find is not None else None\n",
        "  d['request']=find.group(3) if find is not None else None\n",
        "  d['status']=find.group(4) if find is not None else None\n",
        "  d['bytes']=int(find.group(5)) if find is not None else 0\n",
        "  return d"
      ],
      "metadata": {
        "id": "yVuEKiPpDQ9u"
      },
      "execution_count": null,
      "outputs": []
    },
    {
      "cell_type": "code",
      "source": [
        "%%time\n",
        "lst_parseado_all=[parseado_all(a) for a in lst_logsHTTP]"
      ],
      "metadata": {
        "colab": {
          "base_uri": "https://localhost:8080/"
        },
        "id": "ujCU9UUGFP7Y",
        "outputId": "0df40b34-8d51-4fc1-9ad1-012088784f5f"
      },
      "execution_count": null,
      "outputs": [
        {
          "output_type": "stream",
          "name": "stdout",
          "text": [
            "CPU times: user 3.84 s, sys: 316 ms, total: 4.16 s\n",
            "Wall time: 4.25 s\n"
          ]
        }
      ]
    },
    {
      "cell_type": "code",
      "source": [
        "len(lst_parseado_all)"
      ],
      "metadata": {
        "id": "zyoIfLL7zFYZ",
        "colab": {
          "base_uri": "https://localhost:8080/"
        },
        "outputId": "cf0f9c3a-40f9-4d2e-e12a-c57cae8205e6"
      },
      "execution_count": null,
      "outputs": [
        {
          "output_type": "execute_result",
          "data": {
            "text/plain": [
              "302287"
            ]
          },
          "metadata": {},
          "execution_count": 27
        }
      ]
    },
    {
      "cell_type": "markdown",
      "source": [
        "Podemos observar que al utilizar una única expresión regular donde podamos obtener todos los campos en una única búsqueda resulta más eficiente que hacer una búsqueda por expresión regular, pasando de 11.6 a 4.25 segundos"
      ],
      "metadata": {
        "id": "RwvfKWf6zGGg"
      }
    },
    {
      "cell_type": "markdown",
      "metadata": {
        "application/vnd.databricks.v1+cell": {
          "title": "",
          "showTitle": false,
          "inputWidgets": {},
          "nuid": "a280269d-97dd-4851-a408-1fba3c4c4275"
        },
        "id": "BYRl5OUf6W4E"
      },
      "source": [
        "## 1.4 Análisis del fichero de logs (1 punto)\n",
        "\n",
        "Una vez que tenemos la información de los ficheros estructurada y hemos eliminado los registros erróneos, podemos analizar dicha información para extraer estadísticos de utilidad sobre el funcionamiento del servidor.\n",
        "Para realizar este análisis, vamos a trabajar sobre la lista de diccionarios que acabamos de generar para así practicar las operaciones con listas, diccionarios y el uso de listas comprimidas.\n"
      ]
    },
    {
      "cell_type": "markdown",
      "metadata": {
        "id": "uDbFqq6xR4v3"
      },
      "source": [
        "#### Ejercicio A\n",
        "\n",
        "Obtenga el listado único de hosts a los que se ha accedido. ¿Cuántos son? "
      ]
    },
    {
      "cell_type": "code",
      "metadata": {
        "id": "KoTjorFzTFx-",
        "colab": {
          "base_uri": "https://localhost:8080/"
        },
        "outputId": "83c734c2-7a13-4cbf-959e-24ae347d8e9f"
      },
      "source": [
        "lst_hosts=[a['host'] for a in lst_parseado_corr]\n",
        "lst_hosts_unicos=set(lst_hosts)\n",
        "print(f'Se han accedido a {len(lst_hosts_unicos)} hosts únicos')"
      ],
      "execution_count": null,
      "outputs": [
        {
          "output_type": "stream",
          "name": "stdout",
          "text": [
            "Se han accedido a 20964 hosts únicos\n"
          ]
        }
      ]
    },
    {
      "cell_type": "markdown",
      "metadata": {
        "id": "3qxFp6YvVhQu"
      },
      "source": [
        "#### Ejercicio B\n",
        "\n",
        "Obtenga el número de peticiones correctas (`'status'== '200'`)"
      ]
    },
    {
      "cell_type": "code",
      "metadata": {
        "id": "j2SqUlNhXjiN",
        "colab": {
          "base_uri": "https://localhost:8080/"
        },
        "outputId": "1856b173-6426-4f6d-f98a-c2cfb59f1059"
      },
      "source": [
        "lst_peticiones=[a['status'] for a in lst_parseado_corr if a['status']=='200']\n",
        "print(f'Se han obtenido {len(lst_peticiones)} peticiones correctas')"
      ],
      "execution_count": null,
      "outputs": [
        {
          "output_type": "stream",
          "name": "stdout",
          "text": [
            "Se han obtenido 271642 peticiones correctas\n"
          ]
        }
      ]
    },
    {
      "cell_type": "markdown",
      "metadata": {
        "id": "EYnLJfg_SqZ8"
      },
      "source": [
        "#### Ejercicio C\n",
        "\n",
        "Calcule la cantida total de información descargada. Teniendo en cuenta que la infromacióón contenida en el fichero está en bytes, exprese en resultado en MB."
      ]
    },
    {
      "cell_type": "code",
      "metadata": {
        "id": "9r92YC6dX3hf",
        "colab": {
          "base_uri": "https://localhost:8080/"
        },
        "outputId": "abd386fd-eb58-4b80-fc78-d104094d4d1d"
      },
      "source": [
        "lst_bytes=[a['bytes'] for a in lst_parseado_corr]\n",
        "print(f'Se han descargado {np.round(np.sum(lst_bytes)/1000000,2)} MB de información')"
      ],
      "execution_count": null,
      "outputs": [
        {
          "output_type": "stream",
          "name": "stdout",
          "text": [
            "Se han descargado 7347.82 MB de información\n"
          ]
        }
      ]
    },
    {
      "cell_type": "markdown",
      "metadata": {
        "id": "DcNvvCK4udKU"
      },
      "source": [
        "# Parte 2: Clasificación de tweets\n",
        "\n",
        "En esta segunda parte del proyecto vamos a trabajar con un problema de clasificación de textos. En concreto, vamos a clasificar tweets en cuatro categorías en función de lo que han gustado.\n",
        "\n",
        "Para empezar a trabajar con esta base de datos, ejecute la siguiente celda para cargar el fichero de datos en un dataframe."
      ]
    },
    {
      "cell_type": "code",
      "metadata": {
        "id": "4FQScWK3ea6j",
        "colab": {
          "base_uri": "https://localhost:8080/",
          "height": 424
        },
        "outputId": "5243e743-3b6f-45f4-a0e8-4c8c15b6acea"
      },
      "source": [
        "import pandas as pd\n",
        "\n",
        "tweets_df  = pd.read_csv('http://www.tsc.uc3m.es/~vanessa/data_notebooks/tweets/tweets.csv')    \n",
        "\n",
        "# Si tiene problemas para cargar el fichero desde una url externa, suba el fichero a Google colab y cargelo como:\n",
        "# tweets_df  = pd.read_csv('tweets.csv') \n",
        "\n",
        "tweets_df"
      ],
      "execution_count": null,
      "outputs": [
        {
          "output_type": "execute_result",
          "data": {
            "text/plain": [
              "                              company        date  \\\n",
              "0    0100 Meliá Hotels International   24/12/2019   \n",
              "1    0100 Meliá Hotels International   13/12/2019   \n",
              "2    0100 Meliá Hotels International   12/12/2019   \n",
              "3    0100 Meliá Hotels International   09/12/2019   \n",
              "4    0100 Meliá Hotels International   28/11/2019   \n",
              "..                                ...         ...   \n",
              "869             2500 Blue Sea Hotels   07/11/2019   \n",
              "870             2500 Blue Sea Hotels   06/11/2019   \n",
              "871                  2901 Ona Hotels   24/01/2019   \n",
              "872            3000 Med Playa Hotels   21/10/2019   \n",
              "873            3000 Med Playa Hotels   15/04/2019   \n",
              "\n",
              "                                                 tweet  n_replies  n_retweets  \\\n",
              "0     #BRAVOSBookSelection by @GranMeliaHotels brin...        0.0         0.0   \n",
              "1     As a result of our partnership with @audispai...        1.0        90.0   \n",
              "2     Gracias a nuestra fortaleza digital, hemos al...        0.0        65.0   \n",
              "3     Es #TiempoDeActuar y estamos orgullosos de an...        2.0        97.0   \n",
              "4     .@InnsidebyMelia recibe el reconocimiento de ...        0.0        43.0   \n",
              "..                                                 ...        ...         ...   \n",
              "869   ¡La familia crece??! En #BLUESEAHotels estamo...        0.0         1.0   \n",
              "870   La costa de #Cofete es ideal para contemplar ...        0.0         0.0   \n",
              "871   Vía @preferente ??  https://goo.gl/7CKnPL    ...        0.0         1.0   \n",
              "872   Discover the magic of holidays spent together...        0.0         1.0   \n",
              "873   #PezEspada60thAnniversary competition has its...        0.0         1.0   \n",
              "\n",
              "     n_likes  \n",
              "0        2.0  \n",
              "1     1449.0  \n",
              "2      258.0  \n",
              "3      276.0  \n",
              "4      169.0  \n",
              "..       ...  \n",
              "869      2.0  \n",
              "870      1.0  \n",
              "871      1.0  \n",
              "872      2.0  \n",
              "873      1.0  \n",
              "\n",
              "[874 rows x 6 columns]"
            ],
            "text/html": [
              "\n",
              "  <div id=\"df-055c0725-4ccf-4093-8f70-e33147a1c84e\">\n",
              "    <div class=\"colab-df-container\">\n",
              "      <div>\n",
              "<style scoped>\n",
              "    .dataframe tbody tr th:only-of-type {\n",
              "        vertical-align: middle;\n",
              "    }\n",
              "\n",
              "    .dataframe tbody tr th {\n",
              "        vertical-align: top;\n",
              "    }\n",
              "\n",
              "    .dataframe thead th {\n",
              "        text-align: right;\n",
              "    }\n",
              "</style>\n",
              "<table border=\"1\" class=\"dataframe\">\n",
              "  <thead>\n",
              "    <tr style=\"text-align: right;\">\n",
              "      <th></th>\n",
              "      <th>company</th>\n",
              "      <th>date</th>\n",
              "      <th>tweet</th>\n",
              "      <th>n_replies</th>\n",
              "      <th>n_retweets</th>\n",
              "      <th>n_likes</th>\n",
              "    </tr>\n",
              "  </thead>\n",
              "  <tbody>\n",
              "    <tr>\n",
              "      <th>0</th>\n",
              "      <td>0100 Meliá Hotels International</td>\n",
              "      <td>24/12/2019</td>\n",
              "      <td>#BRAVOSBookSelection by @GranMeliaHotels brin...</td>\n",
              "      <td>0.0</td>\n",
              "      <td>0.0</td>\n",
              "      <td>2.0</td>\n",
              "    </tr>\n",
              "    <tr>\n",
              "      <th>1</th>\n",
              "      <td>0100 Meliá Hotels International</td>\n",
              "      <td>13/12/2019</td>\n",
              "      <td>As a result of our partnership with @audispai...</td>\n",
              "      <td>1.0</td>\n",
              "      <td>90.0</td>\n",
              "      <td>1449.0</td>\n",
              "    </tr>\n",
              "    <tr>\n",
              "      <th>2</th>\n",
              "      <td>0100 Meliá Hotels International</td>\n",
              "      <td>12/12/2019</td>\n",
              "      <td>Gracias a nuestra fortaleza digital, hemos al...</td>\n",
              "      <td>0.0</td>\n",
              "      <td>65.0</td>\n",
              "      <td>258.0</td>\n",
              "    </tr>\n",
              "    <tr>\n",
              "      <th>3</th>\n",
              "      <td>0100 Meliá Hotels International</td>\n",
              "      <td>09/12/2019</td>\n",
              "      <td>Es #TiempoDeActuar y estamos orgullosos de an...</td>\n",
              "      <td>2.0</td>\n",
              "      <td>97.0</td>\n",
              "      <td>276.0</td>\n",
              "    </tr>\n",
              "    <tr>\n",
              "      <th>4</th>\n",
              "      <td>0100 Meliá Hotels International</td>\n",
              "      <td>28/11/2019</td>\n",
              "      <td>.@InnsidebyMelia recibe el reconocimiento de ...</td>\n",
              "      <td>0.0</td>\n",
              "      <td>43.0</td>\n",
              "      <td>169.0</td>\n",
              "    </tr>\n",
              "    <tr>\n",
              "      <th>...</th>\n",
              "      <td>...</td>\n",
              "      <td>...</td>\n",
              "      <td>...</td>\n",
              "      <td>...</td>\n",
              "      <td>...</td>\n",
              "      <td>...</td>\n",
              "    </tr>\n",
              "    <tr>\n",
              "      <th>869</th>\n",
              "      <td>2500 Blue Sea Hotels</td>\n",
              "      <td>07/11/2019</td>\n",
              "      <td>¡La familia crece??! En #BLUESEAHotels estamo...</td>\n",
              "      <td>0.0</td>\n",
              "      <td>1.0</td>\n",
              "      <td>2.0</td>\n",
              "    </tr>\n",
              "    <tr>\n",
              "      <th>870</th>\n",
              "      <td>2500 Blue Sea Hotels</td>\n",
              "      <td>06/11/2019</td>\n",
              "      <td>La costa de #Cofete es ideal para contemplar ...</td>\n",
              "      <td>0.0</td>\n",
              "      <td>0.0</td>\n",
              "      <td>1.0</td>\n",
              "    </tr>\n",
              "    <tr>\n",
              "      <th>871</th>\n",
              "      <td>2901 Ona Hotels</td>\n",
              "      <td>24/01/2019</td>\n",
              "      <td>Vía @preferente ??  https://goo.gl/7CKnPL    ...</td>\n",
              "      <td>0.0</td>\n",
              "      <td>1.0</td>\n",
              "      <td>1.0</td>\n",
              "    </tr>\n",
              "    <tr>\n",
              "      <th>872</th>\n",
              "      <td>3000 Med Playa Hotels</td>\n",
              "      <td>21/10/2019</td>\n",
              "      <td>Discover the magic of holidays spent together...</td>\n",
              "      <td>0.0</td>\n",
              "      <td>1.0</td>\n",
              "      <td>2.0</td>\n",
              "    </tr>\n",
              "    <tr>\n",
              "      <th>873</th>\n",
              "      <td>3000 Med Playa Hotels</td>\n",
              "      <td>15/04/2019</td>\n",
              "      <td>#PezEspada60thAnniversary competition has its...</td>\n",
              "      <td>0.0</td>\n",
              "      <td>1.0</td>\n",
              "      <td>1.0</td>\n",
              "    </tr>\n",
              "  </tbody>\n",
              "</table>\n",
              "<p>874 rows × 6 columns</p>\n",
              "</div>\n",
              "      <button class=\"colab-df-convert\" onclick=\"convertToInteractive('df-055c0725-4ccf-4093-8f70-e33147a1c84e')\"\n",
              "              title=\"Convert this dataframe to an interactive table.\"\n",
              "              style=\"display:none;\">\n",
              "        \n",
              "  <svg xmlns=\"http://www.w3.org/2000/svg\" height=\"24px\"viewBox=\"0 0 24 24\"\n",
              "       width=\"24px\">\n",
              "    <path d=\"M0 0h24v24H0V0z\" fill=\"none\"/>\n",
              "    <path d=\"M18.56 5.44l.94 2.06.94-2.06 2.06-.94-2.06-.94-.94-2.06-.94 2.06-2.06.94zm-11 1L8.5 8.5l.94-2.06 2.06-.94-2.06-.94L8.5 2.5l-.94 2.06-2.06.94zm10 10l.94 2.06.94-2.06 2.06-.94-2.06-.94-.94-2.06-.94 2.06-2.06.94z\"/><path d=\"M17.41 7.96l-1.37-1.37c-.4-.4-.92-.59-1.43-.59-.52 0-1.04.2-1.43.59L10.3 9.45l-7.72 7.72c-.78.78-.78 2.05 0 2.83L4 21.41c.39.39.9.59 1.41.59.51 0 1.02-.2 1.41-.59l7.78-7.78 2.81-2.81c.8-.78.8-2.07 0-2.86zM5.41 20L4 18.59l7.72-7.72 1.47 1.35L5.41 20z\"/>\n",
              "  </svg>\n",
              "      </button>\n",
              "      \n",
              "  <style>\n",
              "    .colab-df-container {\n",
              "      display:flex;\n",
              "      flex-wrap:wrap;\n",
              "      gap: 12px;\n",
              "    }\n",
              "\n",
              "    .colab-df-convert {\n",
              "      background-color: #E8F0FE;\n",
              "      border: none;\n",
              "      border-radius: 50%;\n",
              "      cursor: pointer;\n",
              "      display: none;\n",
              "      fill: #1967D2;\n",
              "      height: 32px;\n",
              "      padding: 0 0 0 0;\n",
              "      width: 32px;\n",
              "    }\n",
              "\n",
              "    .colab-df-convert:hover {\n",
              "      background-color: #E2EBFA;\n",
              "      box-shadow: 0px 1px 2px rgba(60, 64, 67, 0.3), 0px 1px 3px 1px rgba(60, 64, 67, 0.15);\n",
              "      fill: #174EA6;\n",
              "    }\n",
              "\n",
              "    [theme=dark] .colab-df-convert {\n",
              "      background-color: #3B4455;\n",
              "      fill: #D2E3FC;\n",
              "    }\n",
              "\n",
              "    [theme=dark] .colab-df-convert:hover {\n",
              "      background-color: #434B5C;\n",
              "      box-shadow: 0px 1px 3px 1px rgba(0, 0, 0, 0.15);\n",
              "      filter: drop-shadow(0px 1px 2px rgba(0, 0, 0, 0.3));\n",
              "      fill: #FFFFFF;\n",
              "    }\n",
              "  </style>\n",
              "\n",
              "      <script>\n",
              "        const buttonEl =\n",
              "          document.querySelector('#df-055c0725-4ccf-4093-8f70-e33147a1c84e button.colab-df-convert');\n",
              "        buttonEl.style.display =\n",
              "          google.colab.kernel.accessAllowed ? 'block' : 'none';\n",
              "\n",
              "        async function convertToInteractive(key) {\n",
              "          const element = document.querySelector('#df-055c0725-4ccf-4093-8f70-e33147a1c84e');\n",
              "          const dataTable =\n",
              "            await google.colab.kernel.invokeFunction('convertToInteractive',\n",
              "                                                     [key], {});\n",
              "          if (!dataTable) return;\n",
              "\n",
              "          const docLinkHtml = 'Like what you see? Visit the ' +\n",
              "            '<a target=\"_blank\" href=https://colab.research.google.com/notebooks/data_table.ipynb>data table notebook</a>'\n",
              "            + ' to learn more about interactive tables.';\n",
              "          element.innerHTML = '';\n",
              "          dataTable['output_type'] = 'display_data';\n",
              "          await google.colab.output.renderOutput(dataTable, element);\n",
              "          const docLink = document.createElement('div');\n",
              "          docLink.innerHTML = docLinkHtml;\n",
              "          element.appendChild(docLink);\n",
              "        }\n",
              "      </script>\n",
              "    </div>\n",
              "  </div>\n",
              "  "
            ]
          },
          "metadata": {},
          "execution_count": 33
        }
      ]
    },
    {
      "cell_type": "markdown",
      "metadata": {
        "id": "jO3fO55HCgte"
      },
      "source": [
        "## 2.1 Definir las categorías del problema  (0.5 punto)\n",
        "\n",
        "Como puede ver en el dataframe que acabamos de generar, hay un campo llamado `n_likes` que nos indica si el tweet en cuestión ha gustado o no. A partir del valor de este campo vamos a definir 4 categorías:\n",
        "* No ha gustado (`label=0`) si `n_likes==0`\n",
        "* Apenas ha gustado (`label=1`) si `0<n_likes<5`.\n",
        "* Ha gustado (`label=2`) si `5<=n_likes<10`.\n",
        "* Ha gustado mucho (`label=3`) si `n_likes>=10`.\n",
        "\n",
        "Defina una nueva columna, llamada `labels` con el valor de estas categorías.\n",
        "\n",
        "Una vez creada esta columna, si lo desea, puede crear un nuevo dataframe  quedándose con las columnas `tweet` y `label` y eliminando el resto.\n"
      ]
    },
    {
      "cell_type": "code",
      "metadata": {
        "id": "xRIYH13HDk55"
      },
      "source": [
        "def label(df):\n",
        "    \n",
        "    if ((df['n_likes'] == 0)):\n",
        "        return 0\n",
        "    elif ((df['n_likes'] > 0) & (df['n_likes'] < 5)):\n",
        "        return 1\n",
        "    elif ((df['n_likes'] >= 5) & (df['n_likes'] < 10)):\n",
        "        return 2\n",
        "    elif (df['n_likes'] >= 10):\n",
        "        return 3\n",
        "    \n",
        "tweets_df['label'] = tweets_df.apply(label, axis = 1)"
      ],
      "execution_count": null,
      "outputs": []
    },
    {
      "cell_type": "code",
      "source": [
        "df=tweets_df[['tweet','label']]"
      ],
      "metadata": {
        "id": "FgSdyalN6NAa"
      },
      "execution_count": null,
      "outputs": []
    },
    {
      "cell_type": "code",
      "source": [
        "df.label.value_counts(True)"
      ],
      "metadata": {
        "colab": {
          "base_uri": "https://localhost:8080/"
        },
        "id": "NUMj9VK06P06",
        "outputId": "fe310e12-d2ee-4498-f789-e0fc5f84b625"
      },
      "execution_count": null,
      "outputs": [
        {
          "output_type": "execute_result",
          "data": {
            "text/plain": [
              "1    0.453089\n",
              "3    0.305492\n",
              "2    0.157895\n",
              "0    0.083524\n",
              "Name: label, dtype: float64"
            ]
          },
          "metadata": {},
          "execution_count": 36
        }
      ]
    },
    {
      "cell_type": "markdown",
      "metadata": {
        "id": "--QoevOufmio"
      },
      "source": [
        "## 2.2 Detectar idioma y dividir el corpus datos por idioma (1 punto)\n",
        "\n",
        "Si leemos algunos de los tweets que componen nuestro dataset, nos podemos dar cuenta que tenemos tweets en dos idiomas diferentes:  castellano (`es`) e inglés (`en`). \n",
        "\n",
        "Procesar directamente el corpus completo nos llevaría a un vocabulario con términos en ambos idiomas que no seríamos capaces de relacionar. Por ello vamos a dividir nuestro dataframe en dos, uno con los tweets en castellano y otro con los tweets en inglés.\n",
        "\n",
        "Para dividir el corpus, siga los siguientes pasos:\n"
      ]
    },
    {
      "cell_type": "markdown",
      "metadata": {
        "id": "KQ0wDhHcyjpG"
      },
      "source": [
        "1. Cree una función, `detect_lang`, para detectar automáticamente el idioma del tweet a partir de las *stopwords* del texto. \n",
        "\n",
        "Para ello, use la lista de *stopwords* de castellano y de inglés y cuente cuántas *stopwords* hay de cada idioma, a partir de ello, asigne al tweet al idioma (`en` o `es`) del que tiene más *stopwords*. \n",
        "\n",
        "Una vez definida esta función, compruebe su funcionamiento tomando como ejemplo alguno de los tweets del dataframe."
      ]
    },
    {
      "cell_type": "code",
      "metadata": {
        "id": "etraf4hpgG5N",
        "colab": {
          "base_uri": "https://localhost:8080/"
        },
        "outputId": "0c1d87f1-ab20-4293-c4f8-7e429121ed53"
      },
      "source": [
        "import nltk\n",
        "nltk.download('punkt')\n",
        "nltk.download('stopwords')\n",
        "nltk.download('wordnet')\n",
        "from nltk.corpus import stopwords\n",
        "stopwords_en = stopwords.words('english')\n",
        "stopwords_es = stopwords.words('spanish')\n",
        "def detect_lang(text,stopwords_en,stopwords_es):\n",
        "  txt = nltk.word_tokenize(text)\n",
        "  txt=[a.lower() for a in txt]\n",
        "  len_en=len([a for a in txt if a in stopwords_en])\n",
        "  len_es=len([a for a in txt if a in stopwords_es])\n",
        "  if len_en>=len_es:\n",
        "    return \"en\"\n",
        "  else:\n",
        "    return \"es\""
      ],
      "execution_count": null,
      "outputs": [
        {
          "output_type": "stream",
          "name": "stderr",
          "text": [
            "[nltk_data] Downloading package punkt to /root/nltk_data...\n",
            "[nltk_data]   Unzipping tokenizers/punkt.zip.\n",
            "[nltk_data] Downloading package stopwords to /root/nltk_data...\n",
            "[nltk_data]   Unzipping corpora/stopwords.zip.\n",
            "[nltk_data] Downloading package wordnet to /root/nltk_data...\n"
          ]
        }
      ]
    },
    {
      "cell_type": "code",
      "source": [
        "txt_samp=df.tweet[20]\n",
        "print(txt_samp)\n",
        "print(f\"El idioma del tweet es: {detect_lang(txt_samp,stopwords_en,stopwords_es)}\")"
      ],
      "metadata": {
        "colab": {
          "base_uri": "https://localhost:8080/"
        },
        "id": "N1p5B7H11KUd",
        "outputId": "47ab0268-ff04-40dd-ada9-3232f96f5b94"
      },
      "execution_count": null,
      "outputs": [
        {
          "output_type": "stream",
          "name": "stdout",
          "text": [
            " Our management system, based on recipes and cost breakdowns, adapts our offer depending on the number of diners and services requested. We produce only what is needed and almost right away, while also ensuring both the quantity and quality of what we serve. #GastrobyMelia pic.twitter.com/Cbu1hMjMWj \n",
            "El idioma del tweet es: en\n"
          ]
        }
      ]
    },
    {
      "cell_type": "markdown",
      "metadata": {
        "id": "oL-qvw7OzUok"
      },
      "source": [
        "2. Use la función `detect_lang` para generar en `tweets_df` una nueva columna (`lang`) con el idioma detectado (`en` o `es`)"
      ]
    },
    {
      "cell_type": "code",
      "metadata": {
        "id": "YMwY--pnzxeV",
        "colab": {
          "base_uri": "https://localhost:8080/"
        },
        "outputId": "427b9889-90fb-4909-cbe3-f5ba25e8d2f0"
      },
      "source": [
        "%%time\n",
        "df['lang']=df['tweet'].apply(lambda x: detect_lang(x,stopwords_en,stopwords_es))"
      ],
      "execution_count": null,
      "outputs": [
        {
          "output_type": "stream",
          "name": "stdout",
          "text": [
            "CPU times: user 808 ms, sys: 4.08 ms, total: 813 ms\n",
            "Wall time: 818 ms\n"
          ]
        },
        {
          "output_type": "stream",
          "name": "stderr",
          "text": [
            "<timed exec>:1: SettingWithCopyWarning: \n",
            "A value is trying to be set on a copy of a slice from a DataFrame.\n",
            "Try using .loc[row_indexer,col_indexer] = value instead\n",
            "\n",
            "See the caveats in the documentation: https://pandas.pydata.org/pandas-docs/stable/user_guide/indexing.html#returning-a-view-versus-a-copy\n"
          ]
        }
      ]
    },
    {
      "cell_type": "markdown",
      "metadata": {
        "id": "XMvEliWb0KLg"
      },
      "source": [
        "3. Genere dos nuevos dataframes, `tweets_df_es` y `tweets_df_en`, con los tweets en castellano y en inglés, respectivamente. \n",
        "\n",
        "¿Cuántos tweets hay de cada idioma?"
      ]
    },
    {
      "cell_type": "code",
      "metadata": {
        "id": "m-wdz-FDj10V"
      },
      "source": [
        "tweets_df_es =df[df['lang']=='es']\n",
        "tweets_df_en =df[df['lang']=='en']"
      ],
      "execution_count": null,
      "outputs": []
    },
    {
      "cell_type": "code",
      "source": [
        "print(f\"Existen {len(tweets_df_es)} tweets en español y {len(tweets_df_en)} en inglés\")"
      ],
      "metadata": {
        "colab": {
          "base_uri": "https://localhost:8080/"
        },
        "id": "yKaETCXj352f",
        "outputId": "37096bf4-39c9-4447-d351-7ccd8c57673b"
      },
      "execution_count": null,
      "outputs": [
        {
          "output_type": "stream",
          "name": "stdout",
          "text": [
            "Existen 541 tweets en español y 333 en inglés\n"
          ]
        }
      ]
    },
    {
      "cell_type": "markdown",
      "metadata": {
        "id": "37fObdUap1M1"
      },
      "source": [
        "## 2.3 Preprocesamiento de tweets  (1 punto)\n",
        "\n",
        "A continuación, vamos a aplicar el preprocesamiento estándar visto en clase para la tokenización, limpieza y homogeneización de textos. Para ello, defina una función que implemente este proceso y apliquésela a cada corpus de datos (al de tweets en castellano y al de tweets en inglés).\n",
        "\n",
        "**OPCIONAL (0.5 punto extra)**: Si lo considera oportuno, puede realizar funciones diferentes, con consideraciones diferentes, para cada idioma. Además, si desea incluir pasos adicionales al preprocesado estándar que considere que pueden ser de utilidad para corpus, serán valoradas positivamente hasta medio punto adicional. No obstante, en caso de incluirlas, justifique su necesidad y la mejora aportada."
      ]
    },
    {
      "cell_type": "code",
      "metadata": {
        "id": "KNvJL_ygp08H",
        "colab": {
          "base_uri": "https://localhost:8080/"
        },
        "outputId": "d5ed082c-1fa3-48ef-b0af-3d130979ba73"
      },
      "source": [
        "! pip install contractions"
      ],
      "execution_count": null,
      "outputs": [
        {
          "output_type": "stream",
          "name": "stdout",
          "text": [
            "Looking in indexes: https://pypi.org/simple, https://us-python.pkg.dev/colab-wheels/public/simple/\n",
            "Collecting contractions\n",
            "  Downloading contractions-0.1.73-py2.py3-none-any.whl (8.7 kB)\n",
            "Collecting textsearch>=0.0.21\n",
            "  Downloading textsearch-0.0.24-py2.py3-none-any.whl (7.6 kB)\n",
            "Collecting anyascii\n",
            "  Downloading anyascii-0.3.1-py3-none-any.whl (287 kB)\n",
            "\u001b[2K     \u001b[90m━━━━━━━━━━━━━━━━━━━━━━━━━━━━━━━━━━━━━━━\u001b[0m \u001b[32m287.5/287.5 KB\u001b[0m \u001b[31m7.7 MB/s\u001b[0m eta \u001b[36m0:00:00\u001b[0m\n",
            "\u001b[?25hCollecting pyahocorasick\n",
            "  Downloading pyahocorasick-2.0.0-cp38-cp38-manylinux_2_5_x86_64.manylinux1_x86_64.whl (104 kB)\n",
            "\u001b[2K     \u001b[90m━━━━━━━━━━━━━━━━━━━━━━━━━━━━━━━━━━━━━━\u001b[0m \u001b[32m104.5/104.5 KB\u001b[0m \u001b[31m11.8 MB/s\u001b[0m eta \u001b[36m0:00:00\u001b[0m\n",
            "\u001b[?25hInstalling collected packages: pyahocorasick, anyascii, textsearch, contractions\n",
            "Successfully installed anyascii-0.3.1 contractions-0.1.73 pyahocorasick-2.0.0 textsearch-0.0.24\n",
            "Looking in indexes: https://pypi.org/simple, https://us-python.pkg.dev/colab-wheels/public/simple/\n",
            "Collecting emoji\n",
            "  Downloading emoji-2.2.0.tar.gz (240 kB)\n",
            "\u001b[2K     \u001b[90m━━━━━━━━━━━━━━━━━━━━━━━━━━━━━━━━━━━━━━━\u001b[0m \u001b[32m240.9/240.9 KB\u001b[0m \u001b[31m8.7 MB/s\u001b[0m eta \u001b[36m0:00:00\u001b[0m\n",
            "\u001b[?25h  Preparing metadata (setup.py) ... \u001b[?25l\u001b[?25hdone\n",
            "Building wheels for collected packages: emoji\n",
            "  Building wheel for emoji (setup.py) ... \u001b[?25l\u001b[?25hdone\n",
            "  Created wheel for emoji: filename=emoji-2.2.0-py3-none-any.whl size=234926 sha256=6e71cb9218d211af86dff2b2584c7f015134590ce56b9709d1bd4126ab435df8\n",
            "  Stored in directory: /root/.cache/pip/wheels/86/62/9e/a6b27a681abcde69970dbc0326ff51955f3beac72f15696984\n",
            "Successfully built emoji\n",
            "Installing collected packages: emoji\n",
            "Successfully installed emoji-2.2.0\n"
          ]
        }
      ]
    },
    {
      "cell_type": "code",
      "source": [
        "## Load Modules\n",
        "nltk.download('wordnet')\n",
        "from nltk.stem.wordnet import WordNetLemmatizer\n",
        "import string \n",
        "import contractions\n",
        "import emoji\n",
        "import re\n",
        "import nltk\n",
        "nltk.download('omw-1.4')\n",
        "\n",
        "lemmatizer  = WordNetLemmatizer()\n",
        "stopwords_en   = set(nltk.corpus.stopwords.words('english'))\n",
        "punctuation = string.punctuation \n",
        "\n",
        "def normalize(text, lang = 'es'):\n",
        "  if lang == 'es':\n",
        "    text2 = text.lower().translate(str.maketrans('áéíóú#@','aeiou  ', string.punctuation+'¿¡')) # Quitamos acentos del español, menciones y hashtags\n",
        "    text_tokens = nltk.word_tokenize(text2)\n",
        "    normalized_text = [lemmatizer.lemmatize(t) for t in text_tokens if (t not in stopwords_es)] # Lematize\n",
        "\n",
        "\n",
        "  else:\n",
        "    text2 = contractions.fix(text).lower().translate(str.maketrans('#@','  ', string.punctuation)) # Arreglamos las contracciones \n",
        "    text_tokens = nltk.word_tokenize(text2) # Tokenizamos por regex para conservar los emoticonos\n",
        "    normalized_text = [lemmatizer.lemmatize(t) for t in text_tokens if (t not in stopwords_en)]\n",
        "  return normalized_text"
      ],
      "metadata": {
        "colab": {
          "base_uri": "https://localhost:8080/"
        },
        "id": "9jiExLaIGrjU",
        "outputId": "1b959780-9700-4e64-8b92-bfb559e8256c"
      },
      "execution_count": null,
      "outputs": [
        {
          "output_type": "stream",
          "name": "stderr",
          "text": [
            "[nltk_data] Downloading package wordnet to /root/nltk_data...\n",
            "[nltk_data]   Package wordnet is already up-to-date!\n",
            "[nltk_data] Downloading package omw-1.4 to /root/nltk_data...\n",
            "[nltk_data]   Package omw-1.4 is already up-to-date!\n"
          ]
        }
      ]
    },
    {
      "cell_type": "code",
      "source": [
        "tweets_df_es['tweet_clean'] = tweets_df_es.tweet.apply(normalize)\n",
        "tweets_df_en['tweet_clean'] = tweets_df_en.tweet.apply(lambda x: normalize(x, 'en'))"
      ],
      "metadata": {
        "colab": {
          "base_uri": "https://localhost:8080/"
        },
        "id": "h9V2j9uaGtmT",
        "outputId": "db64f45f-db78-4c96-cb9e-131d66840d6e"
      },
      "execution_count": null,
      "outputs": [
        {
          "output_type": "stream",
          "name": "stderr",
          "text": [
            "<ipython-input-52-5abf963a7f68>:1: SettingWithCopyWarning: \n",
            "A value is trying to be set on a copy of a slice from a DataFrame.\n",
            "Try using .loc[row_indexer,col_indexer] = value instead\n",
            "\n",
            "See the caveats in the documentation: https://pandas.pydata.org/pandas-docs/stable/user_guide/indexing.html#returning-a-view-versus-a-copy\n",
            "  tweets_df_es['tweet_clean'] = tweets_df_es.tweet.apply(normalize)\n",
            "<ipython-input-52-5abf963a7f68>:2: SettingWithCopyWarning: \n",
            "A value is trying to be set on a copy of a slice from a DataFrame.\n",
            "Try using .loc[row_indexer,col_indexer] = value instead\n",
            "\n",
            "See the caveats in the documentation: https://pandas.pydata.org/pandas-docs/stable/user_guide/indexing.html#returning-a-view-versus-a-copy\n",
            "  tweets_df_en['tweet_clean'] = tweets_df_en.tweet.apply(lambda x: normalize(x, 'en'))\n"
          ]
        }
      ]
    },
    {
      "cell_type": "code",
      "source": [
        "tweets_df_es.head()"
      ],
      "metadata": {
        "colab": {
          "base_uri": "https://localhost:8080/",
          "height": 206
        },
        "id": "lKgYsoG2GwWM",
        "outputId": "37241473-7a2b-4e2c-bc68-31a5a2cfa720"
      },
      "execution_count": null,
      "outputs": [
        {
          "output_type": "execute_result",
          "data": {
            "text/plain": [
              "                                               tweet  label lang  \\\n",
              "2   Gracias a nuestra fortaleza digital, hemos al...      3   es   \n",
              "3   Es #TiempoDeActuar y estamos orgullosos de an...      3   es   \n",
              "4   .@InnsidebyMelia recibe el reconocimiento de ...      3   es   \n",
              "6   ¿Sabías que cada año, 7,7 millones de tonelad...      3   es   \n",
              "8   Mañana el campo de Sol Marbella Estepona Atal...      3   es   \n",
              "\n",
              "                                         tweet_clean  \n",
              "2  [gracias, fortaleza, digital, alcanzado, nuevo...  \n",
              "3  [tiempodeactuar, orgullosos, anunciar, primera...  \n",
              "4  [innsidebymelia, recibe, reconocimiento, premi...  \n",
              "6  [sabias, cada, año, 77, millones, toneladas, a...  \n",
              "8  [mañana, campo, sol, marbella, estepona, atala...  "
            ],
            "text/html": [
              "\n",
              "  <div id=\"df-4d59ef9a-9258-4e14-821a-a13e3d86f5f3\">\n",
              "    <div class=\"colab-df-container\">\n",
              "      <div>\n",
              "<style scoped>\n",
              "    .dataframe tbody tr th:only-of-type {\n",
              "        vertical-align: middle;\n",
              "    }\n",
              "\n",
              "    .dataframe tbody tr th {\n",
              "        vertical-align: top;\n",
              "    }\n",
              "\n",
              "    .dataframe thead th {\n",
              "        text-align: right;\n",
              "    }\n",
              "</style>\n",
              "<table border=\"1\" class=\"dataframe\">\n",
              "  <thead>\n",
              "    <tr style=\"text-align: right;\">\n",
              "      <th></th>\n",
              "      <th>tweet</th>\n",
              "      <th>label</th>\n",
              "      <th>lang</th>\n",
              "      <th>tweet_clean</th>\n",
              "    </tr>\n",
              "  </thead>\n",
              "  <tbody>\n",
              "    <tr>\n",
              "      <th>2</th>\n",
              "      <td>Gracias a nuestra fortaleza digital, hemos al...</td>\n",
              "      <td>3</td>\n",
              "      <td>es</td>\n",
              "      <td>[gracias, fortaleza, digital, alcanzado, nuevo...</td>\n",
              "    </tr>\n",
              "    <tr>\n",
              "      <th>3</th>\n",
              "      <td>Es #TiempoDeActuar y estamos orgullosos de an...</td>\n",
              "      <td>3</td>\n",
              "      <td>es</td>\n",
              "      <td>[tiempodeactuar, orgullosos, anunciar, primera...</td>\n",
              "    </tr>\n",
              "    <tr>\n",
              "      <th>4</th>\n",
              "      <td>.@InnsidebyMelia recibe el reconocimiento de ...</td>\n",
              "      <td>3</td>\n",
              "      <td>es</td>\n",
              "      <td>[innsidebymelia, recibe, reconocimiento, premi...</td>\n",
              "    </tr>\n",
              "    <tr>\n",
              "      <th>6</th>\n",
              "      <td>¿Sabías que cada año, 7,7 millones de tonelad...</td>\n",
              "      <td>3</td>\n",
              "      <td>es</td>\n",
              "      <td>[sabias, cada, año, 77, millones, toneladas, a...</td>\n",
              "    </tr>\n",
              "    <tr>\n",
              "      <th>8</th>\n",
              "      <td>Mañana el campo de Sol Marbella Estepona Atal...</td>\n",
              "      <td>3</td>\n",
              "      <td>es</td>\n",
              "      <td>[mañana, campo, sol, marbella, estepona, atala...</td>\n",
              "    </tr>\n",
              "  </tbody>\n",
              "</table>\n",
              "</div>\n",
              "      <button class=\"colab-df-convert\" onclick=\"convertToInteractive('df-4d59ef9a-9258-4e14-821a-a13e3d86f5f3')\"\n",
              "              title=\"Convert this dataframe to an interactive table.\"\n",
              "              style=\"display:none;\">\n",
              "        \n",
              "  <svg xmlns=\"http://www.w3.org/2000/svg\" height=\"24px\"viewBox=\"0 0 24 24\"\n",
              "       width=\"24px\">\n",
              "    <path d=\"M0 0h24v24H0V0z\" fill=\"none\"/>\n",
              "    <path d=\"M18.56 5.44l.94 2.06.94-2.06 2.06-.94-2.06-.94-.94-2.06-.94 2.06-2.06.94zm-11 1L8.5 8.5l.94-2.06 2.06-.94-2.06-.94L8.5 2.5l-.94 2.06-2.06.94zm10 10l.94 2.06.94-2.06 2.06-.94-2.06-.94-.94-2.06-.94 2.06-2.06.94z\"/><path d=\"M17.41 7.96l-1.37-1.37c-.4-.4-.92-.59-1.43-.59-.52 0-1.04.2-1.43.59L10.3 9.45l-7.72 7.72c-.78.78-.78 2.05 0 2.83L4 21.41c.39.39.9.59 1.41.59.51 0 1.02-.2 1.41-.59l7.78-7.78 2.81-2.81c.8-.78.8-2.07 0-2.86zM5.41 20L4 18.59l7.72-7.72 1.47 1.35L5.41 20z\"/>\n",
              "  </svg>\n",
              "      </button>\n",
              "      \n",
              "  <style>\n",
              "    .colab-df-container {\n",
              "      display:flex;\n",
              "      flex-wrap:wrap;\n",
              "      gap: 12px;\n",
              "    }\n",
              "\n",
              "    .colab-df-convert {\n",
              "      background-color: #E8F0FE;\n",
              "      border: none;\n",
              "      border-radius: 50%;\n",
              "      cursor: pointer;\n",
              "      display: none;\n",
              "      fill: #1967D2;\n",
              "      height: 32px;\n",
              "      padding: 0 0 0 0;\n",
              "      width: 32px;\n",
              "    }\n",
              "\n",
              "    .colab-df-convert:hover {\n",
              "      background-color: #E2EBFA;\n",
              "      box-shadow: 0px 1px 2px rgba(60, 64, 67, 0.3), 0px 1px 3px 1px rgba(60, 64, 67, 0.15);\n",
              "      fill: #174EA6;\n",
              "    }\n",
              "\n",
              "    [theme=dark] .colab-df-convert {\n",
              "      background-color: #3B4455;\n",
              "      fill: #D2E3FC;\n",
              "    }\n",
              "\n",
              "    [theme=dark] .colab-df-convert:hover {\n",
              "      background-color: #434B5C;\n",
              "      box-shadow: 0px 1px 3px 1px rgba(0, 0, 0, 0.15);\n",
              "      filter: drop-shadow(0px 1px 2px rgba(0, 0, 0, 0.3));\n",
              "      fill: #FFFFFF;\n",
              "    }\n",
              "  </style>\n",
              "\n",
              "      <script>\n",
              "        const buttonEl =\n",
              "          document.querySelector('#df-4d59ef9a-9258-4e14-821a-a13e3d86f5f3 button.colab-df-convert');\n",
              "        buttonEl.style.display =\n",
              "          google.colab.kernel.accessAllowed ? 'block' : 'none';\n",
              "\n",
              "        async function convertToInteractive(key) {\n",
              "          const element = document.querySelector('#df-4d59ef9a-9258-4e14-821a-a13e3d86f5f3');\n",
              "          const dataTable =\n",
              "            await google.colab.kernel.invokeFunction('convertToInteractive',\n",
              "                                                     [key], {});\n",
              "          if (!dataTable) return;\n",
              "\n",
              "          const docLinkHtml = 'Like what you see? Visit the ' +\n",
              "            '<a target=\"_blank\" href=https://colab.research.google.com/notebooks/data_table.ipynb>data table notebook</a>'\n",
              "            + ' to learn more about interactive tables.';\n",
              "          element.innerHTML = '';\n",
              "          dataTable['output_type'] = 'display_data';\n",
              "          await google.colab.output.renderOutput(dataTable, element);\n",
              "          const docLink = document.createElement('div');\n",
              "          docLink.innerHTML = docLinkHtml;\n",
              "          element.appendChild(docLink);\n",
              "        }\n",
              "      </script>\n",
              "    </div>\n",
              "  </div>\n",
              "  "
            ]
          },
          "metadata": {},
          "execution_count": 53
        }
      ]
    },
    {
      "cell_type": "code",
      "source": [
        "tweets_df_en.head()"
      ],
      "metadata": {
        "colab": {
          "base_uri": "https://localhost:8080/",
          "height": 206
        },
        "id": "YPVoe7_eG1_H",
        "outputId": "ca055a8b-c61f-4c61-eebd-d3afc76da1c7"
      },
      "execution_count": null,
      "outputs": [
        {
          "output_type": "execute_result",
          "data": {
            "text/plain": [
              "                                               tweet  label lang  \\\n",
              "0   #BRAVOSBookSelection by @GranMeliaHotels brin...      1   en   \n",
              "1   As a result of our partnership with @audispai...      3   en   \n",
              "5   3 of our properties in the #DominicanRepublic...      3   en   \n",
              "7   Driven by our commitment to sustainability an...      3   en   \n",
              "9   We collaborate with @audispain to promote the...      3   en   \n",
              "\n",
              "                                         tweet_clean  \n",
              "0  [bravosbookselection, granmeliahotels, brings,...  \n",
              "1  [result, partnership, audispain, several, hote...  \n",
              "5  [3, property, dominicanrepublic, among, top, 5...  \n",
              "7  [driven, commitment, sustainability, excellenc...  \n",
              "9  [collaborate, audispain, promote, benefit, sus...  "
            ],
            "text/html": [
              "\n",
              "  <div id=\"df-c5e4e024-8716-4f4b-bd2e-b21268e8bd77\">\n",
              "    <div class=\"colab-df-container\">\n",
              "      <div>\n",
              "<style scoped>\n",
              "    .dataframe tbody tr th:only-of-type {\n",
              "        vertical-align: middle;\n",
              "    }\n",
              "\n",
              "    .dataframe tbody tr th {\n",
              "        vertical-align: top;\n",
              "    }\n",
              "\n",
              "    .dataframe thead th {\n",
              "        text-align: right;\n",
              "    }\n",
              "</style>\n",
              "<table border=\"1\" class=\"dataframe\">\n",
              "  <thead>\n",
              "    <tr style=\"text-align: right;\">\n",
              "      <th></th>\n",
              "      <th>tweet</th>\n",
              "      <th>label</th>\n",
              "      <th>lang</th>\n",
              "      <th>tweet_clean</th>\n",
              "    </tr>\n",
              "  </thead>\n",
              "  <tbody>\n",
              "    <tr>\n",
              "      <th>0</th>\n",
              "      <td>#BRAVOSBookSelection by @GranMeliaHotels brin...</td>\n",
              "      <td>1</td>\n",
              "      <td>en</td>\n",
              "      <td>[bravosbookselection, granmeliahotels, brings,...</td>\n",
              "    </tr>\n",
              "    <tr>\n",
              "      <th>1</th>\n",
              "      <td>As a result of our partnership with @audispai...</td>\n",
              "      <td>3</td>\n",
              "      <td>en</td>\n",
              "      <td>[result, partnership, audispain, several, hote...</td>\n",
              "    </tr>\n",
              "    <tr>\n",
              "      <th>5</th>\n",
              "      <td>3 of our properties in the #DominicanRepublic...</td>\n",
              "      <td>3</td>\n",
              "      <td>en</td>\n",
              "      <td>[3, property, dominicanrepublic, among, top, 5...</td>\n",
              "    </tr>\n",
              "    <tr>\n",
              "      <th>7</th>\n",
              "      <td>Driven by our commitment to sustainability an...</td>\n",
              "      <td>3</td>\n",
              "      <td>en</td>\n",
              "      <td>[driven, commitment, sustainability, excellenc...</td>\n",
              "    </tr>\n",
              "    <tr>\n",
              "      <th>9</th>\n",
              "      <td>We collaborate with @audispain to promote the...</td>\n",
              "      <td>3</td>\n",
              "      <td>en</td>\n",
              "      <td>[collaborate, audispain, promote, benefit, sus...</td>\n",
              "    </tr>\n",
              "  </tbody>\n",
              "</table>\n",
              "</div>\n",
              "      <button class=\"colab-df-convert\" onclick=\"convertToInteractive('df-c5e4e024-8716-4f4b-bd2e-b21268e8bd77')\"\n",
              "              title=\"Convert this dataframe to an interactive table.\"\n",
              "              style=\"display:none;\">\n",
              "        \n",
              "  <svg xmlns=\"http://www.w3.org/2000/svg\" height=\"24px\"viewBox=\"0 0 24 24\"\n",
              "       width=\"24px\">\n",
              "    <path d=\"M0 0h24v24H0V0z\" fill=\"none\"/>\n",
              "    <path d=\"M18.56 5.44l.94 2.06.94-2.06 2.06-.94-2.06-.94-.94-2.06-.94 2.06-2.06.94zm-11 1L8.5 8.5l.94-2.06 2.06-.94-2.06-.94L8.5 2.5l-.94 2.06-2.06.94zm10 10l.94 2.06.94-2.06 2.06-.94-2.06-.94-.94-2.06-.94 2.06-2.06.94z\"/><path d=\"M17.41 7.96l-1.37-1.37c-.4-.4-.92-.59-1.43-.59-.52 0-1.04.2-1.43.59L10.3 9.45l-7.72 7.72c-.78.78-.78 2.05 0 2.83L4 21.41c.39.39.9.59 1.41.59.51 0 1.02-.2 1.41-.59l7.78-7.78 2.81-2.81c.8-.78.8-2.07 0-2.86zM5.41 20L4 18.59l7.72-7.72 1.47 1.35L5.41 20z\"/>\n",
              "  </svg>\n",
              "      </button>\n",
              "      \n",
              "  <style>\n",
              "    .colab-df-container {\n",
              "      display:flex;\n",
              "      flex-wrap:wrap;\n",
              "      gap: 12px;\n",
              "    }\n",
              "\n",
              "    .colab-df-convert {\n",
              "      background-color: #E8F0FE;\n",
              "      border: none;\n",
              "      border-radius: 50%;\n",
              "      cursor: pointer;\n",
              "      display: none;\n",
              "      fill: #1967D2;\n",
              "      height: 32px;\n",
              "      padding: 0 0 0 0;\n",
              "      width: 32px;\n",
              "    }\n",
              "\n",
              "    .colab-df-convert:hover {\n",
              "      background-color: #E2EBFA;\n",
              "      box-shadow: 0px 1px 2px rgba(60, 64, 67, 0.3), 0px 1px 3px 1px rgba(60, 64, 67, 0.15);\n",
              "      fill: #174EA6;\n",
              "    }\n",
              "\n",
              "    [theme=dark] .colab-df-convert {\n",
              "      background-color: #3B4455;\n",
              "      fill: #D2E3FC;\n",
              "    }\n",
              "\n",
              "    [theme=dark] .colab-df-convert:hover {\n",
              "      background-color: #434B5C;\n",
              "      box-shadow: 0px 1px 3px 1px rgba(0, 0, 0, 0.15);\n",
              "      filter: drop-shadow(0px 1px 2px rgba(0, 0, 0, 0.3));\n",
              "      fill: #FFFFFF;\n",
              "    }\n",
              "  </style>\n",
              "\n",
              "      <script>\n",
              "        const buttonEl =\n",
              "          document.querySelector('#df-c5e4e024-8716-4f4b-bd2e-b21268e8bd77 button.colab-df-convert');\n",
              "        buttonEl.style.display =\n",
              "          google.colab.kernel.accessAllowed ? 'block' : 'none';\n",
              "\n",
              "        async function convertToInteractive(key) {\n",
              "          const element = document.querySelector('#df-c5e4e024-8716-4f4b-bd2e-b21268e8bd77');\n",
              "          const dataTable =\n",
              "            await google.colab.kernel.invokeFunction('convertToInteractive',\n",
              "                                                     [key], {});\n",
              "          if (!dataTable) return;\n",
              "\n",
              "          const docLinkHtml = 'Like what you see? Visit the ' +\n",
              "            '<a target=\"_blank\" href=https://colab.research.google.com/notebooks/data_table.ipynb>data table notebook</a>'\n",
              "            + ' to learn more about interactive tables.';\n",
              "          element.innerHTML = '';\n",
              "          dataTable['output_type'] = 'display_data';\n",
              "          await google.colab.output.renderOutput(dataTable, element);\n",
              "          const docLink = document.createElement('div');\n",
              "          docLink.innerHTML = docLinkHtml;\n",
              "          element.appendChild(docLink);\n",
              "        }\n",
              "      </script>\n",
              "    </div>\n",
              "  </div>\n",
              "  "
            ]
          },
          "metadata": {},
          "execution_count": 54
        }
      ]
    },
    {
      "cell_type": "markdown",
      "metadata": {
        "id": "y2T3F-yfrjrz"
      },
      "source": [
        "## 2.4 Vectorización de documentos (1 punto)\n",
        "\n",
        "El siguiente paso de nuestro pipeline es la vectorización de los tweets que acabamos de procesar para obtener su representación BoW y TF-IDF. Para ello, empiece generando un diccionario para, a continuación, obtener la representación BoW y, después, la representación TF-IDF. \n",
        "\n",
        "Para la creación del diccionario se recomienda eliminar los terminos que considere no relevantes y, además, limitar su tamaño. Justifique cómo realiza este proceso."
      ]
    },
    {
      "cell_type": "code",
      "metadata": {
        "id": "SdESWX5KrtCB",
        "colab": {
          "base_uri": "https://localhost:8080/"
        },
        "outputId": "48e2e3be-b071-477c-f3a1-d1d0091ee147"
      },
      "source": [
        "tokens_corpus = [token for doc in tweets_df_es.tweet_clean for token in doc]\n",
        "counts  = nltk.FreqDist(tokens_corpus)\n",
        "vocab   = len(counts.keys()) \n",
        "words   = sum(counts.values())\n",
        "lexdiv  = float(words) / float(vocab)\n",
        "\n",
        "print(\"El corpus tiene %i palabras únicas y un total de %i palabras con una diversidad léxica de %0.3f\" % (vocab, words, lexdiv))\n",
        "## 1.9% para tweets en español"
      ],
      "execution_count": null,
      "outputs": [
        {
          "output_type": "stream",
          "name": "stdout",
          "text": [
            "El corpus tiene 5982 palabras únicas y un total de 13625 palabras con una diversidad léxica de 2.278\n"
          ]
        }
      ]
    },
    {
      "cell_type": "code",
      "source": [
        "counts.most_common(20)"
      ],
      "metadata": {
        "colab": {
          "base_uri": "https://localhost:8080/"
        },
        "id": "6Z5kEsBsG6ld",
        "outputId": "aebdd982-327d-494b-8a5c-425a1589afde"
      },
      "execution_count": null,
      "outputs": [
        {
          "output_type": "execute_result",
          "data": {
            "text/plain": [
              "[('hotel', 211),\n",
              " ('ma', 106),\n",
              " ('globales', 76),\n",
              " ('estancia', 71),\n",
              " ('riu', 65),\n",
              " ('hoteles', 64),\n",
              " ('parador', 61),\n",
              " ('gracias', 60),\n",
              " ('gratis', 57),\n",
              " ('nuevo', 53),\n",
              " ('habitacionconvistas', 53),\n",
              " ('wifi', 52),\n",
              " ('hoy', 50),\n",
              " ('dia', 50),\n",
              " ('mallorca', 48),\n",
              " ('2019', 48),\n",
              " ('paradores', 47),\n",
              " ('eurostars', 40),\n",
              " ('10', 39),\n",
              " ('gran', 38)]"
            ]
          },
          "metadata": {},
          "execution_count": 56
        }
      ]
    },
    {
      "cell_type": "code",
      "source": [
        "counts.plot(40, cumulative=False)"
      ],
      "metadata": {
        "colab": {
          "base_uri": "https://localhost:8080/",
          "height": 508
        },
        "id": "_g_FyWOWG7-H",
        "outputId": "57946bda-0212-4c67-95c9-7f98fc8531d0"
      },
      "execution_count": null,
      "outputs": [
        {
          "output_type": "display_data",
          "data": {
            "text/plain": [
              "<Figure size 432x288 with 1 Axes>"
            ],
            "image/svg+xml": "<?xml version=\"1.0\" encoding=\"utf-8\" standalone=\"no\"?>\n<!DOCTYPE svg PUBLIC \"-//W3C//DTD SVG 1.1//EN\"\n  \"http://www.w3.org/Graphics/SVG/1.1/DTD/svg11.dtd\">\n<svg xmlns:xlink=\"http://www.w3.org/1999/xlink\" width=\"388.965625pt\" height=\"352.010312pt\" viewBox=\"0 0 388.965625 352.010312\" xmlns=\"http://www.w3.org/2000/svg\" version=\"1.1\">\n <metadata>\n  <rdf:RDF xmlns:dc=\"http://purl.org/dc/elements/1.1/\" xmlns:cc=\"http://creativecommons.org/ns#\" xmlns:rdf=\"http://www.w3.org/1999/02/22-rdf-syntax-ns#\">\n   <cc:Work>\n    <dc:type rdf:resource=\"http://purl.org/dc/dcmitype/StillImage\"/>\n    <dc:date>2023-03-01T17:55:26.788874</dc:date>\n    <dc:format>image/svg+xml</dc:format>\n    <dc:creator>\n     <cc:Agent>\n      <dc:title>Matplotlib v3.5.3, https://matplotlib.org/</dc:title>\n     </cc:Agent>\n    </dc:creator>\n   </cc:Work>\n  </rdf:RDF>\n </metadata>\n <defs>\n  <style type=\"text/css\">*{stroke-linejoin: round; stroke-linecap: butt}</style>\n </defs>\n <g id=\"figure_1\">\n  <g id=\"patch_1\">\n   <path d=\"M 0 352.010312 \nL 388.965625 352.010312 \nL 388.965625 0 \nL 0 0 \nL 0 352.010312 \nz\n\" style=\"fill: none\"/>\n  </g>\n  <g id=\"axes_1\">\n   <g id=\"patch_2\">\n    <path d=\"M 46.965625 224.64 \nL 381.765625 224.64 \nL 381.765625 7.2 \nL 46.965625 7.2 \nz\n\" style=\"fill: #ffffff\"/>\n   </g>\n   <g id=\"matplotlib.axis_1\">\n    <g id=\"xtick_1\">\n     <g id=\"line2d_1\">\n      <path d=\"M 62.183807 224.64 \nL 62.183807 7.2 \n\" clip-path=\"url(#p8bd8da3e7c)\" style=\"fill: none; stroke: #c0c0c0; stroke-width: 0.8; stroke-linecap: square\"/>\n     </g>\n     <g id=\"line2d_2\">\n      <defs>\n       <path id=\"m400bad4cb2\" d=\"M 0 0 \nL 0 3.5 \n\" style=\"stroke: #000000; stroke-width: 0.8\"/>\n      </defs>\n      <g>\n       <use xlink:href=\"#m400bad4cb2\" x=\"62.183807\" y=\"224.64\" style=\"stroke: #000000; stroke-width: 0.8\"/>\n      </g>\n     </g>\n     <g id=\"text_1\">\n      <!-- hotel -->\n      <g transform=\"translate(64.943182 256.947812)rotate(-90)scale(0.1 -0.1)\">\n       <defs>\n        <path id=\"DejaVuSans-68\" d=\"M 3513 2113 \nL 3513 0 \nL 2938 0 \nL 2938 2094 \nQ 2938 2591 2744 2837 \nQ 2550 3084 2163 3084 \nQ 1697 3084 1428 2787 \nQ 1159 2491 1159 1978 \nL 1159 0 \nL 581 0 \nL 581 4863 \nL 1159 4863 \nL 1159 2956 \nQ 1366 3272 1645 3428 \nQ 1925 3584 2291 3584 \nQ 2894 3584 3203 3211 \nQ 3513 2838 3513 2113 \nz\n\" transform=\"scale(0.015625)\"/>\n        <path id=\"DejaVuSans-6f\" d=\"M 1959 3097 \nQ 1497 3097 1228 2736 \nQ 959 2375 959 1747 \nQ 959 1119 1226 758 \nQ 1494 397 1959 397 \nQ 2419 397 2687 759 \nQ 2956 1122 2956 1747 \nQ 2956 2369 2687 2733 \nQ 2419 3097 1959 3097 \nz\nM 1959 3584 \nQ 2709 3584 3137 3096 \nQ 3566 2609 3566 1747 \nQ 3566 888 3137 398 \nQ 2709 -91 1959 -91 \nQ 1206 -91 779 398 \nQ 353 888 353 1747 \nQ 353 2609 779 3096 \nQ 1206 3584 1959 3584 \nz\n\" transform=\"scale(0.015625)\"/>\n        <path id=\"DejaVuSans-74\" d=\"M 1172 4494 \nL 1172 3500 \nL 2356 3500 \nL 2356 3053 \nL 1172 3053 \nL 1172 1153 \nQ 1172 725 1289 603 \nQ 1406 481 1766 481 \nL 2356 481 \nL 2356 0 \nL 1766 0 \nQ 1100 0 847 248 \nQ 594 497 594 1153 \nL 594 3053 \nL 172 3053 \nL 172 3500 \nL 594 3500 \nL 594 4494 \nL 1172 4494 \nz\n\" transform=\"scale(0.015625)\"/>\n        <path id=\"DejaVuSans-65\" d=\"M 3597 1894 \nL 3597 1613 \nL 953 1613 \nQ 991 1019 1311 708 \nQ 1631 397 2203 397 \nQ 2534 397 2845 478 \nQ 3156 559 3463 722 \nL 3463 178 \nQ 3153 47 2828 -22 \nQ 2503 -91 2169 -91 \nQ 1331 -91 842 396 \nQ 353 884 353 1716 \nQ 353 2575 817 3079 \nQ 1281 3584 2069 3584 \nQ 2775 3584 3186 3129 \nQ 3597 2675 3597 1894 \nz\nM 3022 2063 \nQ 3016 2534 2758 2815 \nQ 2500 3097 2075 3097 \nQ 1594 3097 1305 2825 \nQ 1016 2553 972 2059 \nL 3022 2063 \nz\n\" transform=\"scale(0.015625)\"/>\n        <path id=\"DejaVuSans-6c\" d=\"M 603 4863 \nL 1178 4863 \nL 1178 0 \nL 603 0 \nL 603 4863 \nz\n\" transform=\"scale(0.015625)\"/>\n       </defs>\n       <use xlink:href=\"#DejaVuSans-68\"/>\n       <use xlink:href=\"#DejaVuSans-6f\" x=\"63.378906\"/>\n       <use xlink:href=\"#DejaVuSans-74\" x=\"124.560547\"/>\n       <use xlink:href=\"#DejaVuSans-65\" x=\"163.769531\"/>\n       <use xlink:href=\"#DejaVuSans-6c\" x=\"225.292969\"/>\n      </g>\n     </g>\n    </g>\n    <g id=\"xtick_2\">\n     <g id=\"line2d_3\">\n      <path d=\"M 69.988003 224.64 \nL 69.988003 7.2 \n\" clip-path=\"url(#p8bd8da3e7c)\" style=\"fill: none; stroke: #c0c0c0; stroke-width: 0.8; stroke-linecap: square\"/>\n     </g>\n     <g id=\"line2d_4\">\n      <g>\n       <use xlink:href=\"#m400bad4cb2\" x=\"69.988003\" y=\"224.64\" style=\"stroke: #000000; stroke-width: 0.8\"/>\n      </g>\n     </g>\n     <g id=\"text_2\">\n      <!-- ma -->\n      <g transform=\"translate(72.747378 247.50875)rotate(-90)scale(0.1 -0.1)\">\n       <defs>\n        <path id=\"DejaVuSans-6d\" d=\"M 3328 2828 \nQ 3544 3216 3844 3400 \nQ 4144 3584 4550 3584 \nQ 5097 3584 5394 3201 \nQ 5691 2819 5691 2113 \nL 5691 0 \nL 5113 0 \nL 5113 2094 \nQ 5113 2597 4934 2840 \nQ 4756 3084 4391 3084 \nQ 3944 3084 3684 2787 \nQ 3425 2491 3425 1978 \nL 3425 0 \nL 2847 0 \nL 2847 2094 \nQ 2847 2600 2669 2842 \nQ 2491 3084 2119 3084 \nQ 1678 3084 1418 2786 \nQ 1159 2488 1159 1978 \nL 1159 0 \nL 581 0 \nL 581 3500 \nL 1159 3500 \nL 1159 2956 \nQ 1356 3278 1631 3431 \nQ 1906 3584 2284 3584 \nQ 2666 3584 2933 3390 \nQ 3200 3197 3328 2828 \nz\n\" transform=\"scale(0.015625)\"/>\n        <path id=\"DejaVuSans-61\" d=\"M 2194 1759 \nQ 1497 1759 1228 1600 \nQ 959 1441 959 1056 \nQ 959 750 1161 570 \nQ 1363 391 1709 391 \nQ 2188 391 2477 730 \nQ 2766 1069 2766 1631 \nL 2766 1759 \nL 2194 1759 \nz\nM 3341 1997 \nL 3341 0 \nL 2766 0 \nL 2766 531 \nQ 2569 213 2275 61 \nQ 1981 -91 1556 -91 \nQ 1019 -91 701 211 \nQ 384 513 384 1019 \nQ 384 1609 779 1909 \nQ 1175 2209 1959 2209 \nL 2766 2209 \nL 2766 2266 \nQ 2766 2663 2505 2880 \nQ 2244 3097 1772 3097 \nQ 1472 3097 1187 3025 \nQ 903 2953 641 2809 \nL 641 3341 \nQ 956 3463 1253 3523 \nQ 1550 3584 1831 3584 \nQ 2591 3584 2966 3190 \nQ 3341 2797 3341 1997 \nz\n\" transform=\"scale(0.015625)\"/>\n       </defs>\n       <use xlink:href=\"#DejaVuSans-6d\"/>\n       <use xlink:href=\"#DejaVuSans-61\" x=\"97.412109\"/>\n      </g>\n     </g>\n    </g>\n    <g id=\"xtick_3\">\n     <g id=\"line2d_5\">\n      <path d=\"M 77.792198 224.64 \nL 77.792198 7.2 \n\" clip-path=\"url(#p8bd8da3e7c)\" style=\"fill: none; stroke: #c0c0c0; stroke-width: 0.8; stroke-linecap: square\"/>\n     </g>\n     <g id=\"line2d_6\">\n      <g>\n       <use xlink:href=\"#m400bad4cb2\" x=\"77.792198\" y=\"224.64\" style=\"stroke: #000000; stroke-width: 0.8\"/>\n      </g>\n     </g>\n     <g id=\"text_3\">\n      <!-- globales -->\n      <g transform=\"translate(80.551573 273.5025)rotate(-90)scale(0.1 -0.1)\">\n       <defs>\n        <path id=\"DejaVuSans-67\" d=\"M 2906 1791 \nQ 2906 2416 2648 2759 \nQ 2391 3103 1925 3103 \nQ 1463 3103 1205 2759 \nQ 947 2416 947 1791 \nQ 947 1169 1205 825 \nQ 1463 481 1925 481 \nQ 2391 481 2648 825 \nQ 2906 1169 2906 1791 \nz\nM 3481 434 \nQ 3481 -459 3084 -895 \nQ 2688 -1331 1869 -1331 \nQ 1566 -1331 1297 -1286 \nQ 1028 -1241 775 -1147 \nL 775 -588 \nQ 1028 -725 1275 -790 \nQ 1522 -856 1778 -856 \nQ 2344 -856 2625 -561 \nQ 2906 -266 2906 331 \nL 2906 616 \nQ 2728 306 2450 153 \nQ 2172 0 1784 0 \nQ 1141 0 747 490 \nQ 353 981 353 1791 \nQ 353 2603 747 3093 \nQ 1141 3584 1784 3584 \nQ 2172 3584 2450 3431 \nQ 2728 3278 2906 2969 \nL 2906 3500 \nL 3481 3500 \nL 3481 434 \nz\n\" transform=\"scale(0.015625)\"/>\n        <path id=\"DejaVuSans-62\" d=\"M 3116 1747 \nQ 3116 2381 2855 2742 \nQ 2594 3103 2138 3103 \nQ 1681 3103 1420 2742 \nQ 1159 2381 1159 1747 \nQ 1159 1113 1420 752 \nQ 1681 391 2138 391 \nQ 2594 391 2855 752 \nQ 3116 1113 3116 1747 \nz\nM 1159 2969 \nQ 1341 3281 1617 3432 \nQ 1894 3584 2278 3584 \nQ 2916 3584 3314 3078 \nQ 3713 2572 3713 1747 \nQ 3713 922 3314 415 \nQ 2916 -91 2278 -91 \nQ 1894 -91 1617 61 \nQ 1341 213 1159 525 \nL 1159 0 \nL 581 0 \nL 581 4863 \nL 1159 4863 \nL 1159 2969 \nz\n\" transform=\"scale(0.015625)\"/>\n        <path id=\"DejaVuSans-73\" d=\"M 2834 3397 \nL 2834 2853 \nQ 2591 2978 2328 3040 \nQ 2066 3103 1784 3103 \nQ 1356 3103 1142 2972 \nQ 928 2841 928 2578 \nQ 928 2378 1081 2264 \nQ 1234 2150 1697 2047 \nL 1894 2003 \nQ 2506 1872 2764 1633 \nQ 3022 1394 3022 966 \nQ 3022 478 2636 193 \nQ 2250 -91 1575 -91 \nQ 1294 -91 989 -36 \nQ 684 19 347 128 \nL 347 722 \nQ 666 556 975 473 \nQ 1284 391 1588 391 \nQ 1994 391 2212 530 \nQ 2431 669 2431 922 \nQ 2431 1156 2273 1281 \nQ 2116 1406 1581 1522 \nL 1381 1569 \nQ 847 1681 609 1914 \nQ 372 2147 372 2553 \nQ 372 3047 722 3315 \nQ 1072 3584 1716 3584 \nQ 2034 3584 2315 3537 \nQ 2597 3491 2834 3397 \nz\n\" transform=\"scale(0.015625)\"/>\n       </defs>\n       <use xlink:href=\"#DejaVuSans-67\"/>\n       <use xlink:href=\"#DejaVuSans-6c\" x=\"63.476562\"/>\n       <use xlink:href=\"#DejaVuSans-6f\" x=\"91.259766\"/>\n       <use xlink:href=\"#DejaVuSans-62\" x=\"152.441406\"/>\n       <use xlink:href=\"#DejaVuSans-61\" x=\"215.917969\"/>\n       <use xlink:href=\"#DejaVuSans-6c\" x=\"277.197266\"/>\n       <use xlink:href=\"#DejaVuSans-65\" x=\"304.980469\"/>\n       <use xlink:href=\"#DejaVuSans-73\" x=\"366.503906\"/>\n      </g>\n     </g>\n    </g>\n    <g id=\"xtick_4\">\n     <g id=\"line2d_7\">\n      <path d=\"M 85.596394 224.64 \nL 85.596394 7.2 \n\" clip-path=\"url(#p8bd8da3e7c)\" style=\"fill: none; stroke: #c0c0c0; stroke-width: 0.8; stroke-linecap: square\"/>\n     </g>\n     <g id=\"line2d_8\">\n      <g>\n       <use xlink:href=\"#m400bad4cb2\" x=\"85.596394\" y=\"224.64\" style=\"stroke: #000000; stroke-width: 0.8\"/>\n      </g>\n     </g>\n     <g id=\"text_4\">\n      <!-- estancia -->\n      <g transform=\"translate(88.355769 273.793125)rotate(-90)scale(0.1 -0.1)\">\n       <defs>\n        <path id=\"DejaVuSans-6e\" d=\"M 3513 2113 \nL 3513 0 \nL 2938 0 \nL 2938 2094 \nQ 2938 2591 2744 2837 \nQ 2550 3084 2163 3084 \nQ 1697 3084 1428 2787 \nQ 1159 2491 1159 1978 \nL 1159 0 \nL 581 0 \nL 581 3500 \nL 1159 3500 \nL 1159 2956 \nQ 1366 3272 1645 3428 \nQ 1925 3584 2291 3584 \nQ 2894 3584 3203 3211 \nQ 3513 2838 3513 2113 \nz\n\" transform=\"scale(0.015625)\"/>\n        <path id=\"DejaVuSans-63\" d=\"M 3122 3366 \nL 3122 2828 \nQ 2878 2963 2633 3030 \nQ 2388 3097 2138 3097 \nQ 1578 3097 1268 2742 \nQ 959 2388 959 1747 \nQ 959 1106 1268 751 \nQ 1578 397 2138 397 \nQ 2388 397 2633 464 \nQ 2878 531 3122 666 \nL 3122 134 \nQ 2881 22 2623 -34 \nQ 2366 -91 2075 -91 \nQ 1284 -91 818 406 \nQ 353 903 353 1747 \nQ 353 2603 823 3093 \nQ 1294 3584 2113 3584 \nQ 2378 3584 2631 3529 \nQ 2884 3475 3122 3366 \nz\n\" transform=\"scale(0.015625)\"/>\n        <path id=\"DejaVuSans-69\" d=\"M 603 3500 \nL 1178 3500 \nL 1178 0 \nL 603 0 \nL 603 3500 \nz\nM 603 4863 \nL 1178 4863 \nL 1178 4134 \nL 603 4134 \nL 603 4863 \nz\n\" transform=\"scale(0.015625)\"/>\n       </defs>\n       <use xlink:href=\"#DejaVuSans-65\"/>\n       <use xlink:href=\"#DejaVuSans-73\" x=\"61.523438\"/>\n       <use xlink:href=\"#DejaVuSans-74\" x=\"113.623047\"/>\n       <use xlink:href=\"#DejaVuSans-61\" x=\"152.832031\"/>\n       <use xlink:href=\"#DejaVuSans-6e\" x=\"214.111328\"/>\n       <use xlink:href=\"#DejaVuSans-63\" x=\"277.490234\"/>\n       <use xlink:href=\"#DejaVuSans-69\" x=\"332.470703\"/>\n       <use xlink:href=\"#DejaVuSans-61\" x=\"360.253906\"/>\n      </g>\n     </g>\n    </g>\n    <g id=\"xtick_5\">\n     <g id=\"line2d_9\">\n      <path d=\"M 93.40059 224.64 \nL 93.40059 7.2 \n\" clip-path=\"url(#p8bd8da3e7c)\" style=\"fill: none; stroke: #c0c0c0; stroke-width: 0.8; stroke-linecap: square\"/>\n     </g>\n     <g id=\"line2d_10\">\n      <g>\n       <use xlink:href=\"#m400bad4cb2\" x=\"93.40059\" y=\"224.64\" style=\"stroke: #000000; stroke-width: 0.8\"/>\n      </g>\n     </g>\n     <g id=\"text_5\">\n      <!-- riu -->\n      <g transform=\"translate(96.159965 244.866562)rotate(-90)scale(0.1 -0.1)\">\n       <defs>\n        <path id=\"DejaVuSans-72\" d=\"M 2631 2963 \nQ 2534 3019 2420 3045 \nQ 2306 3072 2169 3072 \nQ 1681 3072 1420 2755 \nQ 1159 2438 1159 1844 \nL 1159 0 \nL 581 0 \nL 581 3500 \nL 1159 3500 \nL 1159 2956 \nQ 1341 3275 1631 3429 \nQ 1922 3584 2338 3584 \nQ 2397 3584 2469 3576 \nQ 2541 3569 2628 3553 \nL 2631 2963 \nz\n\" transform=\"scale(0.015625)\"/>\n        <path id=\"DejaVuSans-75\" d=\"M 544 1381 \nL 544 3500 \nL 1119 3500 \nL 1119 1403 \nQ 1119 906 1312 657 \nQ 1506 409 1894 409 \nQ 2359 409 2629 706 \nQ 2900 1003 2900 1516 \nL 2900 3500 \nL 3475 3500 \nL 3475 0 \nL 2900 0 \nL 2900 538 \nQ 2691 219 2414 64 \nQ 2138 -91 1772 -91 \nQ 1169 -91 856 284 \nQ 544 659 544 1381 \nz\nM 1991 3584 \nL 1991 3584 \nz\n\" transform=\"scale(0.015625)\"/>\n       </defs>\n       <use xlink:href=\"#DejaVuSans-72\"/>\n       <use xlink:href=\"#DejaVuSans-69\" x=\"41.113281\"/>\n       <use xlink:href=\"#DejaVuSans-75\" x=\"68.896484\"/>\n      </g>\n     </g>\n    </g>\n    <g id=\"xtick_6\">\n     <g id=\"line2d_11\">\n      <path d=\"M 101.204786 224.64 \nL 101.204786 7.2 \n\" clip-path=\"url(#p8bd8da3e7c)\" style=\"fill: none; stroke: #c0c0c0; stroke-width: 0.8; stroke-linecap: square\"/>\n     </g>\n     <g id=\"line2d_12\">\n      <g>\n       <use xlink:href=\"#m400bad4cb2\" x=\"101.204786\" y=\"224.64\" style=\"stroke: #000000; stroke-width: 0.8\"/>\n      </g>\n     </g>\n     <g id=\"text_6\">\n      <!-- hoteles -->\n      <g transform=\"translate(103.964161 268.310312)rotate(-90)scale(0.1 -0.1)\">\n       <use xlink:href=\"#DejaVuSans-68\"/>\n       <use xlink:href=\"#DejaVuSans-6f\" x=\"63.378906\"/>\n       <use xlink:href=\"#DejaVuSans-74\" x=\"124.560547\"/>\n       <use xlink:href=\"#DejaVuSans-65\" x=\"163.769531\"/>\n       <use xlink:href=\"#DejaVuSans-6c\" x=\"225.292969\"/>\n       <use xlink:href=\"#DejaVuSans-65\" x=\"253.076172\"/>\n       <use xlink:href=\"#DejaVuSans-73\" x=\"314.599609\"/>\n      </g>\n     </g>\n    </g>\n    <g id=\"xtick_7\">\n     <g id=\"line2d_13\">\n      <path d=\"M 109.008982 224.64 \nL 109.008982 7.2 \n\" clip-path=\"url(#p8bd8da3e7c)\" style=\"fill: none; stroke: #c0c0c0; stroke-width: 0.8; stroke-linecap: square\"/>\n     </g>\n     <g id=\"line2d_14\">\n      <g>\n       <use xlink:href=\"#m400bad4cb2\" x=\"109.008982\" y=\"224.64\" style=\"stroke: #000000; stroke-width: 0.8\"/>\n      </g>\n     </g>\n     <g id=\"text_7\">\n      <!-- parador -->\n      <g transform=\"translate(111.768357 270.93375)rotate(-90)scale(0.1 -0.1)\">\n       <defs>\n        <path id=\"DejaVuSans-70\" d=\"M 1159 525 \nL 1159 -1331 \nL 581 -1331 \nL 581 3500 \nL 1159 3500 \nL 1159 2969 \nQ 1341 3281 1617 3432 \nQ 1894 3584 2278 3584 \nQ 2916 3584 3314 3078 \nQ 3713 2572 3713 1747 \nQ 3713 922 3314 415 \nQ 2916 -91 2278 -91 \nQ 1894 -91 1617 61 \nQ 1341 213 1159 525 \nz\nM 3116 1747 \nQ 3116 2381 2855 2742 \nQ 2594 3103 2138 3103 \nQ 1681 3103 1420 2742 \nQ 1159 2381 1159 1747 \nQ 1159 1113 1420 752 \nQ 1681 391 2138 391 \nQ 2594 391 2855 752 \nQ 3116 1113 3116 1747 \nz\n\" transform=\"scale(0.015625)\"/>\n        <path id=\"DejaVuSans-64\" d=\"M 2906 2969 \nL 2906 4863 \nL 3481 4863 \nL 3481 0 \nL 2906 0 \nL 2906 525 \nQ 2725 213 2448 61 \nQ 2172 -91 1784 -91 \nQ 1150 -91 751 415 \nQ 353 922 353 1747 \nQ 353 2572 751 3078 \nQ 1150 3584 1784 3584 \nQ 2172 3584 2448 3432 \nQ 2725 3281 2906 2969 \nz\nM 947 1747 \nQ 947 1113 1208 752 \nQ 1469 391 1925 391 \nQ 2381 391 2643 752 \nQ 2906 1113 2906 1747 \nQ 2906 2381 2643 2742 \nQ 2381 3103 1925 3103 \nQ 1469 3103 1208 2742 \nQ 947 2381 947 1747 \nz\n\" transform=\"scale(0.015625)\"/>\n       </defs>\n       <use xlink:href=\"#DejaVuSans-70\"/>\n       <use xlink:href=\"#DejaVuSans-61\" x=\"63.476562\"/>\n       <use xlink:href=\"#DejaVuSans-72\" x=\"124.755859\"/>\n       <use xlink:href=\"#DejaVuSans-61\" x=\"165.869141\"/>\n       <use xlink:href=\"#DejaVuSans-64\" x=\"227.148438\"/>\n       <use xlink:href=\"#DejaVuSans-6f\" x=\"290.625\"/>\n       <use xlink:href=\"#DejaVuSans-72\" x=\"351.806641\"/>\n      </g>\n     </g>\n    </g>\n    <g id=\"xtick_8\">\n     <g id=\"line2d_15\">\n      <path d=\"M 116.813177 224.64 \nL 116.813177 7.2 \n\" clip-path=\"url(#p8bd8da3e7c)\" style=\"fill: none; stroke: #c0c0c0; stroke-width: 0.8; stroke-linecap: square\"/>\n     </g>\n     <g id=\"line2d_16\">\n      <g>\n       <use xlink:href=\"#m400bad4cb2\" x=\"116.813177\" y=\"224.64\" style=\"stroke: #000000; stroke-width: 0.8\"/>\n      </g>\n     </g>\n     <g id=\"text_8\">\n      <!-- gracias -->\n      <g transform=\"translate(119.572552 267.841562)rotate(-90)scale(0.1 -0.1)\">\n       <use xlink:href=\"#DejaVuSans-67\"/>\n       <use xlink:href=\"#DejaVuSans-72\" x=\"63.476562\"/>\n       <use xlink:href=\"#DejaVuSans-61\" x=\"104.589844\"/>\n       <use xlink:href=\"#DejaVuSans-63\" x=\"165.869141\"/>\n       <use xlink:href=\"#DejaVuSans-69\" x=\"220.849609\"/>\n       <use xlink:href=\"#DejaVuSans-61\" x=\"248.632812\"/>\n       <use xlink:href=\"#DejaVuSans-73\" x=\"309.912109\"/>\n      </g>\n     </g>\n    </g>\n    <g id=\"xtick_9\">\n     <g id=\"line2d_17\">\n      <path d=\"M 124.617373 224.64 \nL 124.617373 7.2 \n\" clip-path=\"url(#p8bd8da3e7c)\" style=\"fill: none; stroke: #c0c0c0; stroke-width: 0.8; stroke-linecap: square\"/>\n     </g>\n     <g id=\"line2d_18\">\n      <g>\n       <use xlink:href=\"#m400bad4cb2\" x=\"124.617373\" y=\"224.64\" style=\"stroke: #000000; stroke-width: 0.8\"/>\n      </g>\n     </g>\n     <g id=\"text_9\">\n      <!-- gratis -->\n      <g transform=\"translate(127.376748 260.135312)rotate(-90)scale(0.1 -0.1)\">\n       <use xlink:href=\"#DejaVuSans-67\"/>\n       <use xlink:href=\"#DejaVuSans-72\" x=\"63.476562\"/>\n       <use xlink:href=\"#DejaVuSans-61\" x=\"104.589844\"/>\n       <use xlink:href=\"#DejaVuSans-74\" x=\"165.869141\"/>\n       <use xlink:href=\"#DejaVuSans-69\" x=\"205.078125\"/>\n       <use xlink:href=\"#DejaVuSans-73\" x=\"232.861328\"/>\n      </g>\n     </g>\n    </g>\n    <g id=\"xtick_10\">\n     <g id=\"line2d_19\">\n      <path d=\"M 132.421569 224.64 \nL 132.421569 7.2 \n\" clip-path=\"url(#p8bd8da3e7c)\" style=\"fill: none; stroke: #c0c0c0; stroke-width: 0.8; stroke-linecap: square\"/>\n     </g>\n     <g id=\"line2d_20\">\n      <g>\n       <use xlink:href=\"#m400bad4cb2\" x=\"132.421569\" y=\"224.64\" style=\"stroke: #000000; stroke-width: 0.8\"/>\n      </g>\n     </g>\n     <g id=\"text_10\">\n      <!-- nuevo -->\n      <g transform=\"translate(135.180944 262.505625)rotate(-90)scale(0.1 -0.1)\">\n       <defs>\n        <path id=\"DejaVuSans-76\" d=\"M 191 3500 \nL 800 3500 \nL 1894 563 \nL 2988 3500 \nL 3597 3500 \nL 2284 0 \nL 1503 0 \nL 191 3500 \nz\n\" transform=\"scale(0.015625)\"/>\n       </defs>\n       <use xlink:href=\"#DejaVuSans-6e\"/>\n       <use xlink:href=\"#DejaVuSans-75\" x=\"63.378906\"/>\n       <use xlink:href=\"#DejaVuSans-65\" x=\"126.757812\"/>\n       <use xlink:href=\"#DejaVuSans-76\" x=\"188.28125\"/>\n       <use xlink:href=\"#DejaVuSans-6f\" x=\"247.460938\"/>\n      </g>\n     </g>\n    </g>\n    <g id=\"xtick_11\">\n     <g id=\"line2d_21\">\n      <path d=\"M 140.225765 224.64 \nL 140.225765 7.2 \n\" clip-path=\"url(#p8bd8da3e7c)\" style=\"fill: none; stroke: #c0c0c0; stroke-width: 0.8; stroke-linecap: square\"/>\n     </g>\n     <g id=\"line2d_22\">\n      <g>\n       <use xlink:href=\"#m400bad4cb2\" x=\"140.225765\" y=\"224.64\" style=\"stroke: #000000; stroke-width: 0.8\"/>\n      </g>\n     </g>\n     <g id=\"text_11\">\n      <!-- habitacionconvistas -->\n      <g transform=\"translate(142.98514 331.132187)rotate(-90)scale(0.1 -0.1)\">\n       <use xlink:href=\"#DejaVuSans-68\"/>\n       <use xlink:href=\"#DejaVuSans-61\" x=\"63.378906\"/>\n       <use xlink:href=\"#DejaVuSans-62\" x=\"124.658203\"/>\n       <use xlink:href=\"#DejaVuSans-69\" x=\"188.134766\"/>\n       <use xlink:href=\"#DejaVuSans-74\" x=\"215.917969\"/>\n       <use xlink:href=\"#DejaVuSans-61\" x=\"255.126953\"/>\n       <use xlink:href=\"#DejaVuSans-63\" x=\"316.40625\"/>\n       <use xlink:href=\"#DejaVuSans-69\" x=\"371.386719\"/>\n       <use xlink:href=\"#DejaVuSans-6f\" x=\"399.169922\"/>\n       <use xlink:href=\"#DejaVuSans-6e\" x=\"460.351562\"/>\n       <use xlink:href=\"#DejaVuSans-63\" x=\"523.730469\"/>\n       <use xlink:href=\"#DejaVuSans-6f\" x=\"578.710938\"/>\n       <use xlink:href=\"#DejaVuSans-6e\" x=\"639.892578\"/>\n       <use xlink:href=\"#DejaVuSans-76\" x=\"703.271484\"/>\n       <use xlink:href=\"#DejaVuSans-69\" x=\"762.451172\"/>\n       <use xlink:href=\"#DejaVuSans-73\" x=\"790.234375\"/>\n       <use xlink:href=\"#DejaVuSans-74\" x=\"842.333984\"/>\n       <use xlink:href=\"#DejaVuSans-61\" x=\"881.542969\"/>\n       <use xlink:href=\"#DejaVuSans-73\" x=\"942.822266\"/>\n      </g>\n     </g>\n    </g>\n    <g id=\"xtick_12\">\n     <g id=\"line2d_23\">\n      <path d=\"M 148.029961 224.64 \nL 148.029961 7.2 \n\" clip-path=\"url(#p8bd8da3e7c)\" style=\"fill: none; stroke: #c0c0c0; stroke-width: 0.8; stroke-linecap: square\"/>\n     </g>\n     <g id=\"line2d_24\">\n      <g>\n       <use xlink:href=\"#m400bad4cb2\" x=\"148.029961\" y=\"224.64\" style=\"stroke: #000000; stroke-width: 0.8\"/>\n      </g>\n     </g>\n     <g id=\"text_12\">\n      <!-- wifi -->\n      <g transform=\"translate(150.789336 248.894687)rotate(-90)scale(0.1 -0.1)\">\n       <defs>\n        <path id=\"DejaVuSans-77\" d=\"M 269 3500 \nL 844 3500 \nL 1563 769 \nL 2278 3500 \nL 2956 3500 \nL 3675 769 \nL 4391 3500 \nL 4966 3500 \nL 4050 0 \nL 3372 0 \nL 2619 2869 \nL 1863 0 \nL 1184 0 \nL 269 3500 \nz\n\" transform=\"scale(0.015625)\"/>\n        <path id=\"DejaVuSans-66\" d=\"M 2375 4863 \nL 2375 4384 \nL 1825 4384 \nQ 1516 4384 1395 4259 \nQ 1275 4134 1275 3809 \nL 1275 3500 \nL 2222 3500 \nL 2222 3053 \nL 1275 3053 \nL 1275 0 \nL 697 0 \nL 697 3053 \nL 147 3053 \nL 147 3500 \nL 697 3500 \nL 697 3744 \nQ 697 4328 969 4595 \nQ 1241 4863 1831 4863 \nL 2375 4863 \nz\n\" transform=\"scale(0.015625)\"/>\n       </defs>\n       <use xlink:href=\"#DejaVuSans-77\"/>\n       <use xlink:href=\"#DejaVuSans-69\" x=\"81.787109\"/>\n       <use xlink:href=\"#DejaVuSans-66\" x=\"109.570312\"/>\n       <use xlink:href=\"#DejaVuSans-69\" x=\"144.775391\"/>\n      </g>\n     </g>\n    </g>\n    <g id=\"xtick_13\">\n     <g id=\"line2d_25\">\n      <path d=\"M 155.834156 224.64 \nL 155.834156 7.2 \n\" clip-path=\"url(#p8bd8da3e7c)\" style=\"fill: none; stroke: #c0c0c0; stroke-width: 0.8; stroke-linecap: square\"/>\n     </g>\n     <g id=\"line2d_26\">\n      <g>\n       <use xlink:href=\"#m400bad4cb2\" x=\"155.834156\" y=\"224.64\" style=\"stroke: #000000; stroke-width: 0.8\"/>\n      </g>\n     </g>\n     <g id=\"text_13\">\n      <!-- hoy -->\n      <g transform=\"translate(158.593531 250.015)rotate(-90)scale(0.1 -0.1)\">\n       <defs>\n        <path id=\"DejaVuSans-79\" d=\"M 2059 -325 \nQ 1816 -950 1584 -1140 \nQ 1353 -1331 966 -1331 \nL 506 -1331 \nL 506 -850 \nL 844 -850 \nQ 1081 -850 1212 -737 \nQ 1344 -625 1503 -206 \nL 1606 56 \nL 191 3500 \nL 800 3500 \nL 1894 763 \nL 2988 3500 \nL 3597 3500 \nL 2059 -325 \nz\n\" transform=\"scale(0.015625)\"/>\n       </defs>\n       <use xlink:href=\"#DejaVuSans-68\"/>\n       <use xlink:href=\"#DejaVuSans-6f\" x=\"63.378906\"/>\n       <use xlink:href=\"#DejaVuSans-79\" x=\"124.560547\"/>\n      </g>\n     </g>\n    </g>\n    <g id=\"xtick_14\">\n     <g id=\"line2d_27\">\n      <path d=\"M 163.638352 224.64 \nL 163.638352 7.2 \n\" clip-path=\"url(#p8bd8da3e7c)\" style=\"fill: none; stroke: #c0c0c0; stroke-width: 0.8; stroke-linecap: square\"/>\n     </g>\n     <g id=\"line2d_28\">\n      <g>\n       <use xlink:href=\"#m400bad4cb2\" x=\"163.638352\" y=\"224.64\" style=\"stroke: #000000; stroke-width: 0.8\"/>\n      </g>\n     </g>\n     <g id=\"text_14\">\n      <!-- dia -->\n      <g transform=\"translate(166.397727 246.894687)rotate(-90)scale(0.1 -0.1)\">\n       <use xlink:href=\"#DejaVuSans-64\"/>\n       <use xlink:href=\"#DejaVuSans-69\" x=\"63.476562\"/>\n       <use xlink:href=\"#DejaVuSans-61\" x=\"91.259766\"/>\n      </g>\n     </g>\n    </g>\n    <g id=\"xtick_15\">\n     <g id=\"line2d_29\">\n      <path d=\"M 171.442548 224.64 \nL 171.442548 7.2 \n\" clip-path=\"url(#p8bd8da3e7c)\" style=\"fill: none; stroke: #c0c0c0; stroke-width: 0.8; stroke-linecap: square\"/>\n     </g>\n     <g id=\"line2d_30\">\n      <g>\n       <use xlink:href=\"#m400bad4cb2\" x=\"171.442548\" y=\"224.64\" style=\"stroke: #000000; stroke-width: 0.8\"/>\n      </g>\n     </g>\n     <g id=\"text_15\">\n      <!-- mallorca -->\n      <g transform=\"translate(174.201923 274.69625)rotate(-90)scale(0.1 -0.1)\">\n       <use xlink:href=\"#DejaVuSans-6d\"/>\n       <use xlink:href=\"#DejaVuSans-61\" x=\"97.412109\"/>\n       <use xlink:href=\"#DejaVuSans-6c\" x=\"158.691406\"/>\n       <use xlink:href=\"#DejaVuSans-6c\" x=\"186.474609\"/>\n       <use xlink:href=\"#DejaVuSans-6f\" x=\"214.257812\"/>\n       <use xlink:href=\"#DejaVuSans-72\" x=\"275.439453\"/>\n       <use xlink:href=\"#DejaVuSans-63\" x=\"314.302734\"/>\n       <use xlink:href=\"#DejaVuSans-61\" x=\"369.283203\"/>\n      </g>\n     </g>\n    </g>\n    <g id=\"xtick_16\">\n     <g id=\"line2d_31\">\n      <path d=\"M 179.246744 224.64 \nL 179.246744 7.2 \n\" clip-path=\"url(#p8bd8da3e7c)\" style=\"fill: none; stroke: #c0c0c0; stroke-width: 0.8; stroke-linecap: square\"/>\n     </g>\n     <g id=\"line2d_32\">\n      <g>\n       <use xlink:href=\"#m400bad4cb2\" x=\"179.246744\" y=\"224.64\" style=\"stroke: #000000; stroke-width: 0.8\"/>\n      </g>\n     </g>\n     <g id=\"text_16\">\n      <!-- 2019 -->\n      <g transform=\"translate(182.006119 257.09)rotate(-90)scale(0.1 -0.1)\">\n       <defs>\n        <path id=\"DejaVuSans-32\" d=\"M 1228 531 \nL 3431 531 \nL 3431 0 \nL 469 0 \nL 469 531 \nQ 828 903 1448 1529 \nQ 2069 2156 2228 2338 \nQ 2531 2678 2651 2914 \nQ 2772 3150 2772 3378 \nQ 2772 3750 2511 3984 \nQ 2250 4219 1831 4219 \nQ 1534 4219 1204 4116 \nQ 875 4013 500 3803 \nL 500 4441 \nQ 881 4594 1212 4672 \nQ 1544 4750 1819 4750 \nQ 2544 4750 2975 4387 \nQ 3406 4025 3406 3419 \nQ 3406 3131 3298 2873 \nQ 3191 2616 2906 2266 \nQ 2828 2175 2409 1742 \nQ 1991 1309 1228 531 \nz\n\" transform=\"scale(0.015625)\"/>\n        <path id=\"DejaVuSans-30\" d=\"M 2034 4250 \nQ 1547 4250 1301 3770 \nQ 1056 3291 1056 2328 \nQ 1056 1369 1301 889 \nQ 1547 409 2034 409 \nQ 2525 409 2770 889 \nQ 3016 1369 3016 2328 \nQ 3016 3291 2770 3770 \nQ 2525 4250 2034 4250 \nz\nM 2034 4750 \nQ 2819 4750 3233 4129 \nQ 3647 3509 3647 2328 \nQ 3647 1150 3233 529 \nQ 2819 -91 2034 -91 \nQ 1250 -91 836 529 \nQ 422 1150 422 2328 \nQ 422 3509 836 4129 \nQ 1250 4750 2034 4750 \nz\n\" transform=\"scale(0.015625)\"/>\n        <path id=\"DejaVuSans-31\" d=\"M 794 531 \nL 1825 531 \nL 1825 4091 \nL 703 3866 \nL 703 4441 \nL 1819 4666 \nL 2450 4666 \nL 2450 531 \nL 3481 531 \nL 3481 0 \nL 794 0 \nL 794 531 \nz\n\" transform=\"scale(0.015625)\"/>\n        <path id=\"DejaVuSans-39\" d=\"M 703 97 \nL 703 672 \nQ 941 559 1184 500 \nQ 1428 441 1663 441 \nQ 2288 441 2617 861 \nQ 2947 1281 2994 2138 \nQ 2813 1869 2534 1725 \nQ 2256 1581 1919 1581 \nQ 1219 1581 811 2004 \nQ 403 2428 403 3163 \nQ 403 3881 828 4315 \nQ 1253 4750 1959 4750 \nQ 2769 4750 3195 4129 \nQ 3622 3509 3622 2328 \nQ 3622 1225 3098 567 \nQ 2575 -91 1691 -91 \nQ 1453 -91 1209 -44 \nQ 966 3 703 97 \nz\nM 1959 2075 \nQ 2384 2075 2632 2365 \nQ 2881 2656 2881 3163 \nQ 2881 3666 2632 3958 \nQ 2384 4250 1959 4250 \nQ 1534 4250 1286 3958 \nQ 1038 3666 1038 3163 \nQ 1038 2656 1286 2365 \nQ 1534 2075 1959 2075 \nz\n\" transform=\"scale(0.015625)\"/>\n       </defs>\n       <use xlink:href=\"#DejaVuSans-32\"/>\n       <use xlink:href=\"#DejaVuSans-30\" x=\"63.623047\"/>\n       <use xlink:href=\"#DejaVuSans-31\" x=\"127.246094\"/>\n       <use xlink:href=\"#DejaVuSans-39\" x=\"190.869141\"/>\n      </g>\n     </g>\n    </g>\n    <g id=\"xtick_17\">\n     <g id=\"line2d_33\">\n      <path d=\"M 187.05094 224.64 \nL 187.05094 7.2 \n\" clip-path=\"url(#p8bd8da3e7c)\" style=\"fill: none; stroke: #c0c0c0; stroke-width: 0.8; stroke-linecap: square\"/>\n     </g>\n     <g id=\"line2d_34\">\n      <g>\n       <use xlink:href=\"#m400bad4cb2\" x=\"187.05094\" y=\"224.64\" style=\"stroke: #000000; stroke-width: 0.8\"/>\n      </g>\n     </g>\n     <g id=\"text_17\">\n      <!-- paradores -->\n      <g transform=\"translate(189.810315 282.07125)rotate(-90)scale(0.1 -0.1)\">\n       <use xlink:href=\"#DejaVuSans-70\"/>\n       <use xlink:href=\"#DejaVuSans-61\" x=\"63.476562\"/>\n       <use xlink:href=\"#DejaVuSans-72\" x=\"124.755859\"/>\n       <use xlink:href=\"#DejaVuSans-61\" x=\"165.869141\"/>\n       <use xlink:href=\"#DejaVuSans-64\" x=\"227.148438\"/>\n       <use xlink:href=\"#DejaVuSans-6f\" x=\"290.625\"/>\n       <use xlink:href=\"#DejaVuSans-72\" x=\"351.806641\"/>\n       <use xlink:href=\"#DejaVuSans-65\" x=\"390.669922\"/>\n       <use xlink:href=\"#DejaVuSans-73\" x=\"452.193359\"/>\n      </g>\n     </g>\n    </g>\n    <g id=\"xtick_18\">\n     <g id=\"line2d_35\">\n      <path d=\"M 194.855135 224.64 \nL 194.855135 7.2 \n\" clip-path=\"url(#p8bd8da3e7c)\" style=\"fill: none; stroke: #c0c0c0; stroke-width: 0.8; stroke-linecap: square\"/>\n     </g>\n     <g id=\"line2d_36\">\n      <g>\n       <use xlink:href=\"#m400bad4cb2\" x=\"194.855135\" y=\"224.64\" style=\"stroke: #000000; stroke-width: 0.8\"/>\n      </g>\n     </g>\n     <g id=\"text_18\">\n      <!-- eurostars -->\n      <g transform=\"translate(197.61451 278.713437)rotate(-90)scale(0.1 -0.1)\">\n       <use xlink:href=\"#DejaVuSans-65\"/>\n       <use xlink:href=\"#DejaVuSans-75\" x=\"61.523438\"/>\n       <use xlink:href=\"#DejaVuSans-72\" x=\"124.902344\"/>\n       <use xlink:href=\"#DejaVuSans-6f\" x=\"163.765625\"/>\n       <use xlink:href=\"#DejaVuSans-73\" x=\"224.947266\"/>\n       <use xlink:href=\"#DejaVuSans-74\" x=\"277.046875\"/>\n       <use xlink:href=\"#DejaVuSans-61\" x=\"316.255859\"/>\n       <use xlink:href=\"#DejaVuSans-72\" x=\"377.535156\"/>\n       <use xlink:href=\"#DejaVuSans-73\" x=\"418.648438\"/>\n      </g>\n     </g>\n    </g>\n    <g id=\"xtick_19\">\n     <g id=\"line2d_37\">\n      <path d=\"M 202.659331 224.64 \nL 202.659331 7.2 \n\" clip-path=\"url(#p8bd8da3e7c)\" style=\"fill: none; stroke: #c0c0c0; stroke-width: 0.8; stroke-linecap: square\"/>\n     </g>\n     <g id=\"line2d_38\">\n      <g>\n       <use xlink:href=\"#m400bad4cb2\" x=\"202.659331\" y=\"224.64\" style=\"stroke: #000000; stroke-width: 0.8\"/>\n      </g>\n     </g>\n     <g id=\"text_19\">\n      <!-- 10 -->\n      <g transform=\"translate(205.418706 244.365)rotate(-90)scale(0.1 -0.1)\">\n       <use xlink:href=\"#DejaVuSans-31\"/>\n       <use xlink:href=\"#DejaVuSans-30\" x=\"63.623047\"/>\n      </g>\n     </g>\n    </g>\n    <g id=\"xtick_20\">\n     <g id=\"line2d_39\">\n      <path d=\"M 210.463527 224.64 \nL 210.463527 7.2 \n\" clip-path=\"url(#p8bd8da3e7c)\" style=\"fill: none; stroke: #c0c0c0; stroke-width: 0.8; stroke-linecap: square\"/>\n     </g>\n     <g id=\"line2d_40\">\n      <g>\n       <use xlink:href=\"#m400bad4cb2\" x=\"210.463527\" y=\"224.64\" style=\"stroke: #000000; stroke-width: 0.8\"/>\n      </g>\n     </g>\n     <g id=\"text_20\">\n      <!-- gran -->\n      <g transform=\"translate(213.222902 254.565)rotate(-90)scale(0.1 -0.1)\">\n       <use xlink:href=\"#DejaVuSans-67\"/>\n       <use xlink:href=\"#DejaVuSans-72\" x=\"63.476562\"/>\n       <use xlink:href=\"#DejaVuSans-61\" x=\"104.589844\"/>\n       <use xlink:href=\"#DejaVuSans-6e\" x=\"165.869141\"/>\n      </g>\n     </g>\n    </g>\n    <g id=\"xtick_21\">\n     <g id=\"line2d_41\">\n      <path d=\"M 218.267723 224.64 \nL 218.267723 7.2 \n\" clip-path=\"url(#p8bd8da3e7c)\" style=\"fill: none; stroke: #c0c0c0; stroke-width: 0.8; stroke-linecap: square\"/>\n     </g>\n     <g id=\"line2d_42\">\n      <g>\n       <use xlink:href=\"#m400bad4cb2\" x=\"218.267723\" y=\"224.64\" style=\"stroke: #000000; stroke-width: 0.8\"/>\n      </g>\n     </g>\n     <g id=\"text_21\">\n      <!-- sorteo -->\n      <g transform=\"translate(221.027098 263.27125)rotate(-90)scale(0.1 -0.1)\">\n       <use xlink:href=\"#DejaVuSans-73\"/>\n       <use xlink:href=\"#DejaVuSans-6f\" x=\"52.099609\"/>\n       <use xlink:href=\"#DejaVuSans-72\" x=\"113.28125\"/>\n       <use xlink:href=\"#DejaVuSans-74\" x=\"154.394531\"/>\n       <use xlink:href=\"#DejaVuSans-65\" x=\"193.603516\"/>\n       <use xlink:href=\"#DejaVuSans-6f\" x=\"255.126953\"/>\n      </g>\n     </g>\n    </g>\n    <g id=\"xtick_22\">\n     <g id=\"line2d_43\">\n      <path d=\"M 226.071919 224.64 \nL 226.071919 7.2 \n\" clip-path=\"url(#p8bd8da3e7c)\" style=\"fill: none; stroke: #c0c0c0; stroke-width: 0.8; stroke-linecap: square\"/>\n     </g>\n     <g id=\"line2d_44\">\n      <g>\n       <use xlink:href=\"#m400bad4cb2\" x=\"226.071919\" y=\"224.64\" style=\"stroke: #000000; stroke-width: 0.8\"/>\n      </g>\n     </g>\n     <g id=\"text_22\">\n      <!-- the -->\n      <g transform=\"translate(228.831294 248.050937)rotate(-90)scale(0.1 -0.1)\">\n       <use xlink:href=\"#DejaVuSans-74\"/>\n       <use xlink:href=\"#DejaVuSans-68\" x=\"39.208984\"/>\n       <use xlink:href=\"#DejaVuSans-65\" x=\"102.587891\"/>\n      </g>\n     </g>\n    </g>\n    <g id=\"xtick_23\">\n     <g id=\"line2d_45\">\n      <path d=\"M 233.876115 224.64 \nL 233.876115 7.2 \n\" clip-path=\"url(#p8bd8da3e7c)\" style=\"fill: none; stroke: #c0c0c0; stroke-width: 0.8; stroke-linecap: square\"/>\n     </g>\n     <g id=\"line2d_46\">\n      <g>\n       <use xlink:href=\"#m400bad4cb2\" x=\"233.876115\" y=\"224.64\" style=\"stroke: #000000; stroke-width: 0.8\"/>\n      </g>\n     </g>\n     <g id=\"text_23\">\n      <!-- aqui -->\n      <g transform=\"translate(236.63549 253.232187)rotate(-90)scale(0.1 -0.1)\">\n       <defs>\n        <path id=\"DejaVuSans-71\" d=\"M 947 1747 \nQ 947 1113 1208 752 \nQ 1469 391 1925 391 \nQ 2381 391 2643 752 \nQ 2906 1113 2906 1747 \nQ 2906 2381 2643 2742 \nQ 2381 3103 1925 3103 \nQ 1469 3103 1208 2742 \nQ 947 2381 947 1747 \nz\nM 2906 525 \nQ 2725 213 2448 61 \nQ 2172 -91 1784 -91 \nQ 1150 -91 751 415 \nQ 353 922 353 1747 \nQ 353 2572 751 3078 \nQ 1150 3584 1784 3584 \nQ 2172 3584 2448 3432 \nQ 2725 3281 2906 2969 \nL 2906 3500 \nL 3481 3500 \nL 3481 -1331 \nL 2906 -1331 \nL 2906 525 \nz\n\" transform=\"scale(0.015625)\"/>\n       </defs>\n       <use xlink:href=\"#DejaVuSans-61\"/>\n       <use xlink:href=\"#DejaVuSans-71\" x=\"61.279297\"/>\n       <use xlink:href=\"#DejaVuSans-75\" x=\"124.755859\"/>\n       <use xlink:href=\"#DejaVuSans-69\" x=\"188.134766\"/>\n      </g>\n     </g>\n    </g>\n    <g id=\"xtick_24\">\n     <g id=\"line2d_47\">\n      <path d=\"M 241.68031 224.64 \nL 241.68031 7.2 \n\" clip-path=\"url(#p8bd8da3e7c)\" style=\"fill: none; stroke: #c0c0c0; stroke-width: 0.8; stroke-linecap: square\"/>\n     </g>\n     <g id=\"line2d_48\">\n      <g>\n       <use xlink:href=\"#m400bad4cb2\" x=\"241.68031\" y=\"224.64\" style=\"stroke: #000000; stroke-width: 0.8\"/>\n      </g>\n     </g>\n     <g id=\"text_24\">\n      <!-- disfrutar -->\n      <g transform=\"translate(244.439685 274.104062)rotate(-90)scale(0.1 -0.1)\">\n       <use xlink:href=\"#DejaVuSans-64\"/>\n       <use xlink:href=\"#DejaVuSans-69\" x=\"63.476562\"/>\n       <use xlink:href=\"#DejaVuSans-73\" x=\"91.259766\"/>\n       <use xlink:href=\"#DejaVuSans-66\" x=\"143.359375\"/>\n       <use xlink:href=\"#DejaVuSans-72\" x=\"178.564453\"/>\n       <use xlink:href=\"#DejaVuSans-75\" x=\"219.677734\"/>\n       <use xlink:href=\"#DejaVuSans-74\" x=\"283.056641\"/>\n       <use xlink:href=\"#DejaVuSans-61\" x=\"322.265625\"/>\n       <use xlink:href=\"#DejaVuSans-72\" x=\"383.544922\"/>\n      </g>\n     </g>\n    </g>\n    <g id=\"xtick_25\">\n     <g id=\"line2d_49\">\n      <path d=\"M 249.484506 224.64 \nL 249.484506 7.2 \n\" clip-path=\"url(#p8bd8da3e7c)\" style=\"fill: none; stroke: #c0c0c0; stroke-width: 0.8; stroke-linecap: square\"/>\n     </g>\n     <g id=\"line2d_50\">\n      <g>\n       <use xlink:href=\"#m400bad4cb2\" x=\"249.484506\" y=\"224.64\" style=\"stroke: #000000; stroke-width: 0.8\"/>\n      </g>\n     </g>\n     <g id=\"text_25\">\n      <!-- quieres -->\n      <g transform=\"translate(252.243881 268.505625)rotate(-90)scale(0.1 -0.1)\">\n       <use xlink:href=\"#DejaVuSans-71\"/>\n       <use xlink:href=\"#DejaVuSans-75\" x=\"63.476562\"/>\n       <use xlink:href=\"#DejaVuSans-69\" x=\"126.855469\"/>\n       <use xlink:href=\"#DejaVuSans-65\" x=\"154.638672\"/>\n       <use xlink:href=\"#DejaVuSans-72\" x=\"216.162109\"/>\n       <use xlink:href=\"#DejaVuSans-65\" x=\"255.025391\"/>\n       <use xlink:href=\"#DejaVuSans-73\" x=\"316.548828\"/>\n      </g>\n     </g>\n    </g>\n    <g id=\"xtick_26\">\n     <g id=\"line2d_51\">\n      <path d=\"M 257.288702 224.64 \nL 257.288702 7.2 \n\" clip-path=\"url(#p8bd8da3e7c)\" style=\"fill: none; stroke: #c0c0c0; stroke-width: 0.8; stroke-linecap: square\"/>\n     </g>\n     <g id=\"line2d_52\">\n      <g>\n       <use xlink:href=\"#m400bad4cb2\" x=\"257.288702\" y=\"224.64\" style=\"stroke: #000000; stroke-width: 0.8\"/>\n      </g>\n     </g>\n     <g id=\"text_26\">\n      <!-- año -->\n      <g transform=\"translate(260.048077 250.224375)rotate(-90)scale(0.1 -0.1)\">\n       <defs>\n        <path id=\"DejaVuSans-f1\" d=\"M 3513 2113 \nL 3513 0 \nL 2938 0 \nL 2938 2094 \nQ 2938 2591 2744 2837 \nQ 2550 3084 2163 3084 \nQ 1697 3084 1428 2787 \nQ 1159 2491 1159 1978 \nL 1159 0 \nL 581 0 \nL 581 3500 \nL 1159 3500 \nL 1159 2956 \nQ 1366 3272 1645 3428 \nQ 1925 3584 2291 3584 \nQ 2894 3584 3203 3211 \nQ 3513 2838 3513 2113 \nz\nM 2060 4281 \nL 1881 4453 \nQ 1813 4516 1761 4545 \nQ 1710 4575 1669 4575 \nQ 1550 4575 1494 4461 \nQ 1438 4347 1431 4091 \nL 1041 4091 \nQ 1047 4513 1206 4742 \nQ 1366 4972 1650 4972 \nQ 1769 4972 1869 4928 \nQ 1969 4884 2085 4781 \nL 2263 4609 \nQ 2331 4547 2383 4517 \nQ 2435 4488 2475 4488 \nQ 2594 4488 2650 4602 \nQ 2706 4716 2713 4972 \nL 3103 4972 \nQ 3097 4550 2937 4320 \nQ 2778 4091 2494 4091 \nQ 2375 4091 2275 4134 \nQ 2175 4178 2060 4281 \nz\n\" transform=\"scale(0.015625)\"/>\n       </defs>\n       <use xlink:href=\"#DejaVuSans-61\"/>\n       <use xlink:href=\"#DejaVuSans-f1\" x=\"61.279297\"/>\n       <use xlink:href=\"#DejaVuSans-6f\" x=\"124.658203\"/>\n      </g>\n     </g>\n    </g>\n    <g id=\"xtick_27\">\n     <g id=\"line2d_53\">\n      <path d=\"M 265.092898 224.64 \nL 265.092898 7.2 \n\" clip-path=\"url(#p8bd8da3e7c)\" style=\"fill: none; stroke: #c0c0c0; stroke-width: 0.8; stroke-linecap: square\"/>\n     </g>\n     <g id=\"line2d_54\">\n      <g>\n       <use xlink:href=\"#m400bad4cb2\" x=\"265.092898\" y=\"224.64\" style=\"stroke: #000000; stroke-width: 0.8\"/>\n      </g>\n     </g>\n     <g id=\"text_27\">\n      <!-- ganar -->\n      <g transform=\"translate(267.852273 260.693125)rotate(-90)scale(0.1 -0.1)\">\n       <use xlink:href=\"#DejaVuSans-67\"/>\n       <use xlink:href=\"#DejaVuSans-61\" x=\"63.476562\"/>\n       <use xlink:href=\"#DejaVuSans-6e\" x=\"124.755859\"/>\n       <use xlink:href=\"#DejaVuSans-61\" x=\"188.134766\"/>\n       <use xlink:href=\"#DejaVuSans-72\" x=\"249.414062\"/>\n      </g>\n     </g>\n    </g>\n    <g id=\"xtick_28\">\n     <g id=\"line2d_55\">\n      <path d=\"M 272.897094 224.64 \nL 272.897094 7.2 \n\" clip-path=\"url(#p8bd8da3e7c)\" style=\"fill: none; stroke: #c0c0c0; stroke-width: 0.8; stroke-linecap: square\"/>\n     </g>\n     <g id=\"line2d_56\">\n      <g>\n       <use xlink:href=\"#m400bad4cb2\" x=\"272.897094\" y=\"224.64\" style=\"stroke: #000000; stroke-width: 0.8\"/>\n      </g>\n     </g>\n     <g id=\"text_28\">\n      <!-- playa -->\n      <g transform=\"translate(275.656469 258.941562)rotate(-90)scale(0.1 -0.1)\">\n       <use xlink:href=\"#DejaVuSans-70\"/>\n       <use xlink:href=\"#DejaVuSans-6c\" x=\"63.476562\"/>\n       <use xlink:href=\"#DejaVuSans-61\" x=\"91.259766\"/>\n       <use xlink:href=\"#DejaVuSans-79\" x=\"152.539062\"/>\n       <use xlink:href=\"#DejaVuSans-61\" x=\"211.71875\"/>\n      </g>\n     </g>\n    </g>\n    <g id=\"xtick_29\">\n     <g id=\"line2d_57\">\n      <path d=\"M 280.701289 224.64 \nL 280.701289 7.2 \n\" clip-path=\"url(#p8bd8da3e7c)\" style=\"fill: none; stroke: #c0c0c0; stroke-width: 0.8; stroke-linecap: square\"/>\n     </g>\n     <g id=\"line2d_58\">\n      <g>\n       <use xlink:href=\"#m400bad4cb2\" x=\"280.701289\" y=\"224.64\" style=\"stroke: #000000; stroke-width: 0.8\"/>\n      </g>\n     </g>\n     <g id=\"text_29\">\n      <!-- 5 -->\n      <g transform=\"translate(283.460664 238.0025)rotate(-90)scale(0.1 -0.1)\">\n       <defs>\n        <path id=\"DejaVuSans-35\" d=\"M 691 4666 \nL 3169 4666 \nL 3169 4134 \nL 1269 4134 \nL 1269 2991 \nQ 1406 3038 1543 3061 \nQ 1681 3084 1819 3084 \nQ 2600 3084 3056 2656 \nQ 3513 2228 3513 1497 \nQ 3513 744 3044 326 \nQ 2575 -91 1722 -91 \nQ 1428 -91 1123 -41 \nQ 819 9 494 109 \nL 494 744 \nQ 775 591 1075 516 \nQ 1375 441 1709 441 \nQ 2250 441 2565 725 \nQ 2881 1009 2881 1497 \nQ 2881 1984 2565 2268 \nQ 2250 2553 1709 2553 \nQ 1456 2553 1204 2497 \nQ 953 2441 691 2322 \nL 691 4666 \nz\n\" transform=\"scale(0.015625)\"/>\n       </defs>\n       <use xlink:href=\"#DejaVuSans-35\"/>\n      </g>\n     </g>\n    </g>\n    <g id=\"xtick_30\">\n     <g id=\"line2d_59\">\n      <path d=\"M 288.505485 224.64 \nL 288.505485 7.2 \n\" clip-path=\"url(#p8bd8da3e7c)\" style=\"fill: none; stroke: #c0c0c0; stroke-width: 0.8; stroke-linecap: square\"/>\n     </g>\n     <g id=\"line2d_60\">\n      <g>\n       <use xlink:href=\"#m400bad4cb2\" x=\"288.505485\" y=\"224.64\" style=\"stroke: #000000; stroke-width: 0.8\"/>\n      </g>\n     </g>\n     <g id=\"text_30\">\n      <!-- concurso -->\n      <g transform=\"translate(291.26486 276.869687)rotate(-90)scale(0.1 -0.1)\">\n       <use xlink:href=\"#DejaVuSans-63\"/>\n       <use xlink:href=\"#DejaVuSans-6f\" x=\"54.980469\"/>\n       <use xlink:href=\"#DejaVuSans-6e\" x=\"116.162109\"/>\n       <use xlink:href=\"#DejaVuSans-63\" x=\"179.541016\"/>\n       <use xlink:href=\"#DejaVuSans-75\" x=\"234.521484\"/>\n       <use xlink:href=\"#DejaVuSans-72\" x=\"297.900391\"/>\n       <use xlink:href=\"#DejaVuSans-73\" x=\"339.013672\"/>\n       <use xlink:href=\"#DejaVuSans-6f\" x=\"391.113281\"/>\n      </g>\n     </g>\n    </g>\n    <g id=\"xtick_31\">\n     <g id=\"line2d_61\">\n      <path d=\"M 296.309681 224.64 \nL 296.309681 7.2 \n\" clip-path=\"url(#p8bd8da3e7c)\" style=\"fill: none; stroke: #c0c0c0; stroke-width: 0.8; stroke-linecap: square\"/>\n     </g>\n     <g id=\"line2d_62\">\n      <g>\n       <use xlink:href=\"#m400bad4cb2\" x=\"296.309681\" y=\"224.64\" style=\"stroke: #000000; stroke-width: 0.8\"/>\n      </g>\n     </g>\n     <g id=\"text_31\">\n      <!-- suerte -->\n      <g transform=\"translate(299.069056 263.524375)rotate(-90)scale(0.1 -0.1)\">\n       <use xlink:href=\"#DejaVuSans-73\"/>\n       <use xlink:href=\"#DejaVuSans-75\" x=\"52.099609\"/>\n       <use xlink:href=\"#DejaVuSans-65\" x=\"115.478516\"/>\n       <use xlink:href=\"#DejaVuSans-72\" x=\"177.001953\"/>\n       <use xlink:href=\"#DejaVuSans-74\" x=\"218.115234\"/>\n       <use xlink:href=\"#DejaVuSans-65\" x=\"257.324219\"/>\n      </g>\n     </g>\n    </g>\n    <g id=\"xtick_32\">\n     <g id=\"line2d_63\">\n      <path d=\"M 304.113877 224.64 \nL 304.113877 7.2 \n\" clip-path=\"url(#p8bd8da3e7c)\" style=\"fill: none; stroke: #c0c0c0; stroke-width: 0.8; stroke-linecap: square\"/>\n     </g>\n     <g id=\"line2d_64\">\n      <g>\n       <use xlink:href=\"#m400bad4cb2\" x=\"304.113877\" y=\"224.64\" style=\"stroke: #000000; stroke-width: 0.8\"/>\n      </g>\n     </g>\n     <g id=\"text_32\">\n      <!-- mejor -->\n      <g transform=\"translate(306.873252 260.541562)rotate(-90)scale(0.1 -0.1)\">\n       <defs>\n        <path id=\"DejaVuSans-6a\" d=\"M 603 3500 \nL 1178 3500 \nL 1178 -63 \nQ 1178 -731 923 -1031 \nQ 669 -1331 103 -1331 \nL -116 -1331 \nL -116 -844 \nL 38 -844 \nQ 366 -844 484 -692 \nQ 603 -541 603 -63 \nL 603 3500 \nz\nM 603 4863 \nL 1178 4863 \nL 1178 4134 \nL 603 4134 \nL 603 4863 \nz\n\" transform=\"scale(0.015625)\"/>\n       </defs>\n       <use xlink:href=\"#DejaVuSans-6d\"/>\n       <use xlink:href=\"#DejaVuSans-65\" x=\"97.412109\"/>\n       <use xlink:href=\"#DejaVuSans-6a\" x=\"158.935547\"/>\n       <use xlink:href=\"#DejaVuSans-6f\" x=\"186.71875\"/>\n       <use xlink:href=\"#DejaVuSans-72\" x=\"247.900391\"/>\n      </g>\n     </g>\n    </g>\n    <g id=\"xtick_33\">\n     <g id=\"line2d_65\">\n      <path d=\"M 311.918073 224.64 \nL 311.918073 7.2 \n\" clip-path=\"url(#p8bd8da3e7c)\" style=\"fill: none; stroke: #c0c0c0; stroke-width: 0.8; stroke-linecap: square\"/>\n     </g>\n     <g id=\"line2d_66\">\n      <g>\n       <use xlink:href=\"#m400bad4cb2\" x=\"311.918073\" y=\"224.64\" style=\"stroke: #000000; stroke-width: 0.8\"/>\n      </g>\n     </g>\n     <g id=\"text_33\">\n      <!-- 2018 -->\n      <g transform=\"translate(314.677448 257.09)rotate(-90)scale(0.1 -0.1)\">\n       <defs>\n        <path id=\"DejaVuSans-38\" d=\"M 2034 2216 \nQ 1584 2216 1326 1975 \nQ 1069 1734 1069 1313 \nQ 1069 891 1326 650 \nQ 1584 409 2034 409 \nQ 2484 409 2743 651 \nQ 3003 894 3003 1313 \nQ 3003 1734 2745 1975 \nQ 2488 2216 2034 2216 \nz\nM 1403 2484 \nQ 997 2584 770 2862 \nQ 544 3141 544 3541 \nQ 544 4100 942 4425 \nQ 1341 4750 2034 4750 \nQ 2731 4750 3128 4425 \nQ 3525 4100 3525 3541 \nQ 3525 3141 3298 2862 \nQ 3072 2584 2669 2484 \nQ 3125 2378 3379 2068 \nQ 3634 1759 3634 1313 \nQ 3634 634 3220 271 \nQ 2806 -91 2034 -91 \nQ 1263 -91 848 271 \nQ 434 634 434 1313 \nQ 434 1759 690 2068 \nQ 947 2378 1403 2484 \nz\nM 1172 3481 \nQ 1172 3119 1398 2916 \nQ 1625 2713 2034 2713 \nQ 2441 2713 2670 2916 \nQ 2900 3119 2900 3481 \nQ 2900 3844 2670 4047 \nQ 2441 4250 2034 4250 \nQ 1625 4250 1398 4047 \nQ 1172 3844 1172 3481 \nz\n\" transform=\"scale(0.015625)\"/>\n       </defs>\n       <use xlink:href=\"#DejaVuSans-32\"/>\n       <use xlink:href=\"#DejaVuSans-30\" x=\"63.623047\"/>\n       <use xlink:href=\"#DejaVuSans-31\" x=\"127.246094\"/>\n       <use xlink:href=\"#DejaVuSans-38\" x=\"190.869141\"/>\n      </g>\n     </g>\n    </g>\n    <g id=\"xtick_34\">\n     <g id=\"line2d_67\">\n      <path d=\"M 319.722268 224.64 \nL 319.722268 7.2 \n\" clip-path=\"url(#p8bd8da3e7c)\" style=\"fill: none; stroke: #c0c0c0; stroke-width: 0.8; stroke-linecap: square\"/>\n     </g>\n     <g id=\"line2d_68\">\n      <g>\n       <use xlink:href=\"#m400bad4cb2\" x=\"319.722268\" y=\"224.64\" style=\"stroke: #000000; stroke-width: 0.8\"/>\n      </g>\n     </g>\n     <g id=\"text_34\">\n      <!-- toda -->\n      <g transform=\"translate(322.481643 254.155625)rotate(-90)scale(0.1 -0.1)\">\n       <use xlink:href=\"#DejaVuSans-74\"/>\n       <use xlink:href=\"#DejaVuSans-6f\" x=\"39.208984\"/>\n       <use xlink:href=\"#DejaVuSans-64\" x=\"100.390625\"/>\n       <use xlink:href=\"#DejaVuSans-61\" x=\"163.867188\"/>\n      </g>\n     </g>\n    </g>\n    <g id=\"xtick_35\">\n     <g id=\"line2d_69\">\n      <path d=\"M 327.526464 224.64 \nL 327.526464 7.2 \n\" clip-path=\"url(#p8bd8da3e7c)\" style=\"fill: none; stroke: #c0c0c0; stroke-width: 0.8; stroke-linecap: square\"/>\n     </g>\n     <g id=\"line2d_70\">\n      <g>\n       <use xlink:href=\"#m400bad4cb2\" x=\"327.526464\" y=\"224.64\" style=\"stroke: #000000; stroke-width: 0.8\"/>\n      </g>\n     </g>\n     <g id=\"text_35\">\n      <!-- ganadores -->\n      <g transform=\"translate(330.285839 284.297812)rotate(-90)scale(0.1 -0.1)\">\n       <use xlink:href=\"#DejaVuSans-67\"/>\n       <use xlink:href=\"#DejaVuSans-61\" x=\"63.476562\"/>\n       <use xlink:href=\"#DejaVuSans-6e\" x=\"124.755859\"/>\n       <use xlink:href=\"#DejaVuSans-61\" x=\"188.134766\"/>\n       <use xlink:href=\"#DejaVuSans-64\" x=\"249.414062\"/>\n       <use xlink:href=\"#DejaVuSans-6f\" x=\"312.890625\"/>\n       <use xlink:href=\"#DejaVuSans-72\" x=\"374.072266\"/>\n       <use xlink:href=\"#DejaVuSans-65\" x=\"412.935547\"/>\n       <use xlink:href=\"#DejaVuSans-73\" x=\"474.458984\"/>\n      </g>\n     </g>\n    </g>\n    <g id=\"xtick_36\">\n     <g id=\"line2d_71\">\n      <path d=\"M 335.33066 224.64 \nL 335.33066 7.2 \n\" clip-path=\"url(#p8bd8da3e7c)\" style=\"fill: none; stroke: #c0c0c0; stroke-width: 0.8; stroke-linecap: square\"/>\n     </g>\n     <g id=\"line2d_72\">\n      <g>\n       <use xlink:href=\"#m400bad4cb2\" x=\"335.33066\" y=\"224.64\" style=\"stroke: #000000; stroke-width: 0.8\"/>\n      </g>\n     </g>\n     <g id=\"text_36\">\n      <!-- nh -->\n      <g transform=\"translate(338.090035 244.315)rotate(-90)scale(0.1 -0.1)\">\n       <use xlink:href=\"#DejaVuSans-6e\"/>\n       <use xlink:href=\"#DejaVuSans-68\" x=\"63.378906\"/>\n      </g>\n     </g>\n    </g>\n    <g id=\"xtick_37\">\n     <g id=\"line2d_73\">\n      <path d=\"M 343.134856 224.64 \nL 343.134856 7.2 \n\" clip-path=\"url(#p8bd8da3e7c)\" style=\"fill: none; stroke: #c0c0c0; stroke-width: 0.8; stroke-linecap: square\"/>\n     </g>\n     <g id=\"line2d_74\">\n      <g>\n       <use xlink:href=\"#m400bad4cb2\" x=\"343.134856\" y=\"224.64\" style=\"stroke: #000000; stroke-width: 0.8\"/>\n      </g>\n     </g>\n     <g id=\"text_37\">\n      <!-- hotelesglobales -->\n      <g transform=\"translate(345.894231 310.172812)rotate(-90)scale(0.1 -0.1)\">\n       <use xlink:href=\"#DejaVuSans-68\"/>\n       <use xlink:href=\"#DejaVuSans-6f\" x=\"63.378906\"/>\n       <use xlink:href=\"#DejaVuSans-74\" x=\"124.560547\"/>\n       <use xlink:href=\"#DejaVuSans-65\" x=\"163.769531\"/>\n       <use xlink:href=\"#DejaVuSans-6c\" x=\"225.292969\"/>\n       <use xlink:href=\"#DejaVuSans-65\" x=\"253.076172\"/>\n       <use xlink:href=\"#DejaVuSans-73\" x=\"314.599609\"/>\n       <use xlink:href=\"#DejaVuSans-67\" x=\"366.699219\"/>\n       <use xlink:href=\"#DejaVuSans-6c\" x=\"430.175781\"/>\n       <use xlink:href=\"#DejaVuSans-6f\" x=\"457.958984\"/>\n       <use xlink:href=\"#DejaVuSans-62\" x=\"519.140625\"/>\n       <use xlink:href=\"#DejaVuSans-61\" x=\"582.617188\"/>\n       <use xlink:href=\"#DejaVuSans-6c\" x=\"643.896484\"/>\n       <use xlink:href=\"#DejaVuSans-65\" x=\"671.679688\"/>\n       <use xlink:href=\"#DejaVuSans-73\" x=\"733.203125\"/>\n      </g>\n     </g>\n    </g>\n    <g id=\"xtick_38\">\n     <g id=\"line2d_75\">\n      <path d=\"M 350.939052 224.64 \nL 350.939052 7.2 \n\" clip-path=\"url(#p8bd8da3e7c)\" style=\"fill: none; stroke: #c0c0c0; stroke-width: 0.8; stroke-linecap: square\"/>\n     </g>\n     <g id=\"line2d_76\">\n      <g>\n       <use xlink:href=\"#m400bad4cb2\" x=\"350.939052\" y=\"224.64\" style=\"stroke: #000000; stroke-width: 0.8\"/>\n      </g>\n     </g>\n     <g id=\"text_38\">\n      <!-- españa -->\n      <g transform=\"translate(353.783583 267.944687)rotate(-90)scale(0.1 -0.1)\">\n       <use xlink:href=\"#DejaVuSans-65\"/>\n       <use xlink:href=\"#DejaVuSans-73\" x=\"61.523438\"/>\n       <use xlink:href=\"#DejaVuSans-70\" x=\"113.623047\"/>\n       <use xlink:href=\"#DejaVuSans-61\" x=\"177.099609\"/>\n       <use xlink:href=\"#DejaVuSans-f1\" x=\"238.378906\"/>\n       <use xlink:href=\"#DejaVuSans-61\" x=\"301.757812\"/>\n      </g>\n     </g>\n    </g>\n    <g id=\"xtick_39\">\n     <g id=\"line2d_77\">\n      <path d=\"M 358.743247 224.64 \nL 358.743247 7.2 \n\" clip-path=\"url(#p8bd8da3e7c)\" style=\"fill: none; stroke: #c0c0c0; stroke-width: 0.8; stroke-linecap: square\"/>\n     </g>\n     <g id=\"line2d_78\">\n      <g>\n       <use xlink:href=\"#m400bad4cb2\" x=\"358.743247\" y=\"224.64\" style=\"stroke: #000000; stroke-width: 0.8\"/>\n      </g>\n     </g>\n     <g id=\"text_39\">\n      <!-- reserva -->\n      <g transform=\"translate(361.502622 269.199375)rotate(-90)scale(0.1 -0.1)\">\n       <use xlink:href=\"#DejaVuSans-72\"/>\n       <use xlink:href=\"#DejaVuSans-65\" x=\"38.863281\"/>\n       <use xlink:href=\"#DejaVuSans-73\" x=\"100.386719\"/>\n       <use xlink:href=\"#DejaVuSans-65\" x=\"152.486328\"/>\n       <use xlink:href=\"#DejaVuSans-72\" x=\"214.009766\"/>\n       <use xlink:href=\"#DejaVuSans-76\" x=\"255.123047\"/>\n       <use xlink:href=\"#DejaVuSans-61\" x=\"314.302734\"/>\n      </g>\n     </g>\n    </g>\n    <g id=\"xtick_40\">\n     <g id=\"line2d_79\">\n      <path d=\"M 366.547443 224.64 \nL 366.547443 7.2 \n\" clip-path=\"url(#p8bd8da3e7c)\" style=\"fill: none; stroke: #c0c0c0; stroke-width: 0.8; stroke-linecap: square\"/>\n     </g>\n     <g id=\"line2d_80\">\n      <g>\n       <use xlink:href=\"#m400bad4cb2\" x=\"366.547443\" y=\"224.64\" style=\"stroke: #000000; stroke-width: 0.8\"/>\n      </g>\n     </g>\n     <g id=\"text_40\">\n      <!-- seran -->\n      <g transform=\"translate(369.306818 259.579062)rotate(-90)scale(0.1 -0.1)\">\n       <use xlink:href=\"#DejaVuSans-73\"/>\n       <use xlink:href=\"#DejaVuSans-65\" x=\"52.099609\"/>\n       <use xlink:href=\"#DejaVuSans-72\" x=\"113.623047\"/>\n       <use xlink:href=\"#DejaVuSans-61\" x=\"154.736328\"/>\n       <use xlink:href=\"#DejaVuSans-6e\" x=\"216.015625\"/>\n      </g>\n     </g>\n    </g>\n    <g id=\"text_41\">\n     <!-- Samples -->\n     <g transform=\"translate(193.0125 342.730625)scale(0.1 -0.1)\">\n      <defs>\n       <path id=\"DejaVuSans-53\" d=\"M 3425 4513 \nL 3425 3897 \nQ 3066 4069 2747 4153 \nQ 2428 4238 2131 4238 \nQ 1616 4238 1336 4038 \nQ 1056 3838 1056 3469 \nQ 1056 3159 1242 3001 \nQ 1428 2844 1947 2747 \nL 2328 2669 \nQ 3034 2534 3370 2195 \nQ 3706 1856 3706 1288 \nQ 3706 609 3251 259 \nQ 2797 -91 1919 -91 \nQ 1588 -91 1214 -16 \nQ 841 59 441 206 \nL 441 856 \nQ 825 641 1194 531 \nQ 1563 422 1919 422 \nQ 2459 422 2753 634 \nQ 3047 847 3047 1241 \nQ 3047 1584 2836 1778 \nQ 2625 1972 2144 2069 \nL 1759 2144 \nQ 1053 2284 737 2584 \nQ 422 2884 422 3419 \nQ 422 4038 858 4394 \nQ 1294 4750 2059 4750 \nQ 2388 4750 2728 4690 \nQ 3069 4631 3425 4513 \nz\n\" transform=\"scale(0.015625)\"/>\n      </defs>\n      <use xlink:href=\"#DejaVuSans-53\"/>\n      <use xlink:href=\"#DejaVuSans-61\" x=\"63.476562\"/>\n      <use xlink:href=\"#DejaVuSans-6d\" x=\"124.755859\"/>\n      <use xlink:href=\"#DejaVuSans-70\" x=\"222.167969\"/>\n      <use xlink:href=\"#DejaVuSans-6c\" x=\"285.644531\"/>\n      <use xlink:href=\"#DejaVuSans-65\" x=\"313.427734\"/>\n      <use xlink:href=\"#DejaVuSans-73\" x=\"374.951172\"/>\n     </g>\n    </g>\n   </g>\n   <g id=\"matplotlib.axis_2\">\n    <g id=\"ytick_1\">\n     <g id=\"line2d_81\">\n      <path d=\"M 46.965625 217.9969 \nL 381.765625 217.9969 \n\" clip-path=\"url(#p8bd8da3e7c)\" style=\"fill: none; stroke: #c0c0c0; stroke-width: 0.8; stroke-linecap: square\"/>\n     </g>\n     <g id=\"line2d_82\">\n      <defs>\n       <path id=\"m15e40d3a1d\" d=\"M 0 0 \nL -3.5 0 \n\" style=\"stroke: #000000; stroke-width: 0.8\"/>\n      </defs>\n      <g>\n       <use xlink:href=\"#m15e40d3a1d\" x=\"46.965625\" y=\"217.9969\" style=\"stroke: #000000; stroke-width: 0.8\"/>\n      </g>\n     </g>\n     <g id=\"text_42\">\n      <!-- 25 -->\n      <g transform=\"translate(27.240625 221.796119)scale(0.1 -0.1)\">\n       <use xlink:href=\"#DejaVuSans-32\"/>\n       <use xlink:href=\"#DejaVuSans-35\" x=\"63.623047\"/>\n      </g>\n     </g>\n    </g>\n    <g id=\"ytick_2\">\n     <g id=\"line2d_83\">\n      <path d=\"M 46.965625 190.992429 \nL 381.765625 190.992429 \n\" clip-path=\"url(#p8bd8da3e7c)\" style=\"fill: none; stroke: #c0c0c0; stroke-width: 0.8; stroke-linecap: square\"/>\n     </g>\n     <g id=\"line2d_84\">\n      <g>\n       <use xlink:href=\"#m15e40d3a1d\" x=\"46.965625\" y=\"190.992429\" style=\"stroke: #000000; stroke-width: 0.8\"/>\n      </g>\n     </g>\n     <g id=\"text_43\">\n      <!-- 50 -->\n      <g transform=\"translate(27.240625 194.791648)scale(0.1 -0.1)\">\n       <use xlink:href=\"#DejaVuSans-35\"/>\n       <use xlink:href=\"#DejaVuSans-30\" x=\"63.623047\"/>\n      </g>\n     </g>\n    </g>\n    <g id=\"ytick_3\">\n     <g id=\"line2d_85\">\n      <path d=\"M 46.965625 163.987958 \nL 381.765625 163.987958 \n\" clip-path=\"url(#p8bd8da3e7c)\" style=\"fill: none; stroke: #c0c0c0; stroke-width: 0.8; stroke-linecap: square\"/>\n     </g>\n     <g id=\"line2d_86\">\n      <g>\n       <use xlink:href=\"#m15e40d3a1d\" x=\"46.965625\" y=\"163.987958\" style=\"stroke: #000000; stroke-width: 0.8\"/>\n      </g>\n     </g>\n     <g id=\"text_44\">\n      <!-- 75 -->\n      <g transform=\"translate(27.240625 167.787177)scale(0.1 -0.1)\">\n       <defs>\n        <path id=\"DejaVuSans-37\" d=\"M 525 4666 \nL 3525 4666 \nL 3525 4397 \nL 1831 0 \nL 1172 0 \nL 2766 4134 \nL 525 4134 \nL 525 4666 \nz\n\" transform=\"scale(0.015625)\"/>\n       </defs>\n       <use xlink:href=\"#DejaVuSans-37\"/>\n       <use xlink:href=\"#DejaVuSans-35\" x=\"63.623047\"/>\n      </g>\n     </g>\n    </g>\n    <g id=\"ytick_4\">\n     <g id=\"line2d_87\">\n      <path d=\"M 46.965625 136.983487 \nL 381.765625 136.983487 \n\" clip-path=\"url(#p8bd8da3e7c)\" style=\"fill: none; stroke: #c0c0c0; stroke-width: 0.8; stroke-linecap: square\"/>\n     </g>\n     <g id=\"line2d_88\">\n      <g>\n       <use xlink:href=\"#m15e40d3a1d\" x=\"46.965625\" y=\"136.983487\" style=\"stroke: #000000; stroke-width: 0.8\"/>\n      </g>\n     </g>\n     <g id=\"text_45\">\n      <!-- 100 -->\n      <g transform=\"translate(20.878125 140.782706)scale(0.1 -0.1)\">\n       <use xlink:href=\"#DejaVuSans-31\"/>\n       <use xlink:href=\"#DejaVuSans-30\" x=\"63.623047\"/>\n       <use xlink:href=\"#DejaVuSans-30\" x=\"127.246094\"/>\n      </g>\n     </g>\n    </g>\n    <g id=\"ytick_5\">\n     <g id=\"line2d_89\">\n      <path d=\"M 46.965625 109.979016 \nL 381.765625 109.979016 \n\" clip-path=\"url(#p8bd8da3e7c)\" style=\"fill: none; stroke: #c0c0c0; stroke-width: 0.8; stroke-linecap: square\"/>\n     </g>\n     <g id=\"line2d_90\">\n      <g>\n       <use xlink:href=\"#m15e40d3a1d\" x=\"46.965625\" y=\"109.979016\" style=\"stroke: #000000; stroke-width: 0.8\"/>\n      </g>\n     </g>\n     <g id=\"text_46\">\n      <!-- 125 -->\n      <g transform=\"translate(20.878125 113.778235)scale(0.1 -0.1)\">\n       <use xlink:href=\"#DejaVuSans-31\"/>\n       <use xlink:href=\"#DejaVuSans-32\" x=\"63.623047\"/>\n       <use xlink:href=\"#DejaVuSans-35\" x=\"127.246094\"/>\n      </g>\n     </g>\n    </g>\n    <g id=\"ytick_6\">\n     <g id=\"line2d_91\">\n      <path d=\"M 46.965625 82.974545 \nL 381.765625 82.974545 \n\" clip-path=\"url(#p8bd8da3e7c)\" style=\"fill: none; stroke: #c0c0c0; stroke-width: 0.8; stroke-linecap: square\"/>\n     </g>\n     <g id=\"line2d_92\">\n      <g>\n       <use xlink:href=\"#m15e40d3a1d\" x=\"46.965625\" y=\"82.974545\" style=\"stroke: #000000; stroke-width: 0.8\"/>\n      </g>\n     </g>\n     <g id=\"text_47\">\n      <!-- 150 -->\n      <g transform=\"translate(20.878125 86.773764)scale(0.1 -0.1)\">\n       <use xlink:href=\"#DejaVuSans-31\"/>\n       <use xlink:href=\"#DejaVuSans-35\" x=\"63.623047\"/>\n       <use xlink:href=\"#DejaVuSans-30\" x=\"127.246094\"/>\n      </g>\n     </g>\n    </g>\n    <g id=\"ytick_7\">\n     <g id=\"line2d_93\">\n      <path d=\"M 46.965625 55.970075 \nL 381.765625 55.970075 \n\" clip-path=\"url(#p8bd8da3e7c)\" style=\"fill: none; stroke: #c0c0c0; stroke-width: 0.8; stroke-linecap: square\"/>\n     </g>\n     <g id=\"line2d_94\">\n      <g>\n       <use xlink:href=\"#m15e40d3a1d\" x=\"46.965625\" y=\"55.970075\" style=\"stroke: #000000; stroke-width: 0.8\"/>\n      </g>\n     </g>\n     <g id=\"text_48\">\n      <!-- 175 -->\n      <g transform=\"translate(20.878125 59.769293)scale(0.1 -0.1)\">\n       <use xlink:href=\"#DejaVuSans-31\"/>\n       <use xlink:href=\"#DejaVuSans-37\" x=\"63.623047\"/>\n       <use xlink:href=\"#DejaVuSans-35\" x=\"127.246094\"/>\n      </g>\n     </g>\n    </g>\n    <g id=\"ytick_8\">\n     <g id=\"line2d_95\">\n      <path d=\"M 46.965625 28.965604 \nL 381.765625 28.965604 \n\" clip-path=\"url(#p8bd8da3e7c)\" style=\"fill: none; stroke: #c0c0c0; stroke-width: 0.8; stroke-linecap: square\"/>\n     </g>\n     <g id=\"line2d_96\">\n      <g>\n       <use xlink:href=\"#m15e40d3a1d\" x=\"46.965625\" y=\"28.965604\" style=\"stroke: #000000; stroke-width: 0.8\"/>\n      </g>\n     </g>\n     <g id=\"text_49\">\n      <!-- 200 -->\n      <g transform=\"translate(20.878125 32.764822)scale(0.1 -0.1)\">\n       <use xlink:href=\"#DejaVuSans-32\"/>\n       <use xlink:href=\"#DejaVuSans-30\" x=\"63.623047\"/>\n       <use xlink:href=\"#DejaVuSans-30\" x=\"127.246094\"/>\n      </g>\n     </g>\n    </g>\n    <g id=\"text_50\">\n     <!-- Counts -->\n     <g transform=\"translate(14.798438 133.373125)rotate(-90)scale(0.1 -0.1)\">\n      <defs>\n       <path id=\"DejaVuSans-43\" d=\"M 4122 4306 \nL 4122 3641 \nQ 3803 3938 3442 4084 \nQ 3081 4231 2675 4231 \nQ 1875 4231 1450 3742 \nQ 1025 3253 1025 2328 \nQ 1025 1406 1450 917 \nQ 1875 428 2675 428 \nQ 3081 428 3442 575 \nQ 3803 722 4122 1019 \nL 4122 359 \nQ 3791 134 3420 21 \nQ 3050 -91 2638 -91 \nQ 1578 -91 968 557 \nQ 359 1206 359 2328 \nQ 359 3453 968 4101 \nQ 1578 4750 2638 4750 \nQ 3056 4750 3426 4639 \nQ 3797 4528 4122 4306 \nz\n\" transform=\"scale(0.015625)\"/>\n      </defs>\n      <use xlink:href=\"#DejaVuSans-43\"/>\n      <use xlink:href=\"#DejaVuSans-6f\" x=\"69.824219\"/>\n      <use xlink:href=\"#DejaVuSans-75\" x=\"131.005859\"/>\n      <use xlink:href=\"#DejaVuSans-6e\" x=\"194.384766\"/>\n      <use xlink:href=\"#DejaVuSans-74\" x=\"257.763672\"/>\n      <use xlink:href=\"#DejaVuSans-73\" x=\"296.972656\"/>\n     </g>\n    </g>\n   </g>\n   <g id=\"line2d_97\">\n    <path d=\"M 62.183807 17.083636 \nL 69.988003 130.502414 \nL 77.792198 162.907779 \nL 85.596394 168.308674 \nL 93.40059 174.789747 \nL 101.204786 175.869925 \nL 109.008982 179.110462 \nL 116.813177 180.190641 \nL 124.617373 183.431177 \nL 132.421569 187.751893 \nL 140.225765 187.751893 \nL 148.029961 188.832072 \nL 155.834156 190.992429 \nL 163.638352 190.992429 \nL 171.442548 193.152787 \nL 179.246744 193.152787 \nL 187.05094 194.232966 \nL 194.855135 201.794218 \nL 202.659331 202.874396 \nL 210.463527 203.954575 \nL 218.267723 206.114933 \nL 226.071919 206.114933 \nL 233.876115 207.195112 \nL 241.68031 207.195112 \nL 249.484506 207.195112 \nL 257.288702 209.355469 \nL 265.092898 209.355469 \nL 272.897094 210.435648 \nL 280.701289 210.435648 \nL 288.505485 210.435648 \nL 296.309681 211.515827 \nL 304.113877 211.515827 \nL 311.918073 211.515827 \nL 319.722268 212.596006 \nL 327.526464 212.596006 \nL 335.33066 212.596006 \nL 343.134856 212.596006 \nL 350.939052 213.676185 \nL 358.743247 214.756364 \nL 366.547443 214.756364 \n\" clip-path=\"url(#p8bd8da3e7c)\" style=\"fill: none; stroke: #1f77b4; stroke-width: 2; stroke-linecap: square\"/>\n   </g>\n   <g id=\"patch_3\">\n    <path d=\"M 46.965625 224.64 \nL 46.965625 7.2 \n\" style=\"fill: none; stroke: #000000; stroke-width: 0.8; stroke-linejoin: miter; stroke-linecap: square\"/>\n   </g>\n   <g id=\"patch_4\">\n    <path d=\"M 381.765625 224.64 \nL 381.765625 7.2 \n\" style=\"fill: none; stroke: #000000; stroke-width: 0.8; stroke-linejoin: miter; stroke-linecap: square\"/>\n   </g>\n   <g id=\"patch_5\">\n    <path d=\"M 46.965625 224.64 \nL 381.765625 224.64 \n\" style=\"fill: none; stroke: #000000; stroke-width: 0.8; stroke-linejoin: miter; stroke-linecap: square\"/>\n   </g>\n   <g id=\"patch_6\">\n    <path d=\"M 46.965625 7.2 \nL 381.765625 7.2 \n\" style=\"fill: none; stroke: #000000; stroke-width: 0.8; stroke-linejoin: miter; stroke-linecap: square\"/>\n   </g>\n  </g>\n </g>\n <defs>\n  <clipPath id=\"p8bd8da3e7c\">\n   <rect x=\"46.965625\" y=\"7.2\" width=\"334.8\" height=\"217.44\"/>\n  </clipPath>\n </defs>\n</svg>\n"
          },
          "metadata": {
            "needs_background": "light"
          }
        },
        {
          "output_type": "execute_result",
          "data": {
            "text/plain": [
              "<AxesSubplot:xlabel='Samples', ylabel='Counts'>"
            ]
          },
          "metadata": {},
          "execution_count": 57
        }
      ]
    },
    {
      "cell_type": "code",
      "source": [
        "tokens_corpus = [token for doc in tweets_df_en.tweet_clean for token in doc]\n",
        "counts  = nltk.FreqDist(tokens_corpus)\n",
        "vocab   = len(counts.keys()) \n",
        "words   = sum(counts.values())\n",
        "lexdiv  = float(words) / float(vocab)\n",
        "\n",
        "print(\"El corpus tiene %i palabras únicas y un total de %i palabras con una diversidad léxica de %0.3f\" % (vocab, words, lexdiv))\n",
        "## 1.9% para tweets en español"
      ],
      "metadata": {
        "colab": {
          "base_uri": "https://localhost:8080/"
        },
        "id": "wrDc32E3G9fk",
        "outputId": "3f9d3751-cae8-425c-bde7-356853e7300a"
      },
      "execution_count": null,
      "outputs": [
        {
          "output_type": "stream",
          "name": "stdout",
          "text": [
            "El corpus tiene 3927 palabras únicas y un total de 8936 palabras con una diversidad léxica de 2.276\n"
          ]
        }
      ]
    },
    {
      "cell_type": "code",
      "source": [
        "counts.plot(40, cumulative=False)"
      ],
      "metadata": {
        "colab": {
          "base_uri": "https://localhost:8080/",
          "height": 449
        },
        "id": "T50FD7KTUqgO",
        "outputId": "7af9ef7d-184f-4bf7-a03f-4e2b82142447"
      },
      "execution_count": null,
      "outputs": [
        {
          "output_type": "display_data",
          "data": {
            "text/plain": [
              "<Figure size 432x288 with 1 Axes>"
            ],
            "image/svg+xml": "<?xml version=\"1.0\" encoding=\"utf-8\" standalone=\"no\"?>\n<!DOCTYPE svg PUBLIC \"-//W3C//DTD SVG 1.1//EN\"\n  \"http://www.w3.org/Graphics/SVG/1.1/DTD/svg11.dtd\">\n<svg xmlns:xlink=\"http://www.w3.org/1999/xlink\" width=\"388.965625pt\" height=\"307.947812pt\" viewBox=\"0 0 388.965625 307.947812\" xmlns=\"http://www.w3.org/2000/svg\" version=\"1.1\">\n <metadata>\n  <rdf:RDF xmlns:dc=\"http://purl.org/dc/elements/1.1/\" xmlns:cc=\"http://creativecommons.org/ns#\" xmlns:rdf=\"http://www.w3.org/1999/02/22-rdf-syntax-ns#\">\n   <cc:Work>\n    <dc:type rdf:resource=\"http://purl.org/dc/dcmitype/StillImage\"/>\n    <dc:date>2023-03-01T17:58:02.044066</dc:date>\n    <dc:format>image/svg+xml</dc:format>\n    <dc:creator>\n     <cc:Agent>\n      <dc:title>Matplotlib v3.5.3, https://matplotlib.org/</dc:title>\n     </cc:Agent>\n    </dc:creator>\n   </cc:Work>\n  </rdf:RDF>\n </metadata>\n <defs>\n  <style type=\"text/css\">*{stroke-linejoin: round; stroke-linecap: butt}</style>\n </defs>\n <g id=\"figure_1\">\n  <g id=\"patch_1\">\n   <path d=\"M 0 307.947812 \nL 388.965625 307.947812 \nL 388.965625 0 \nL 0 0 \nL 0 307.947812 \nz\n\" style=\"fill: none\"/>\n  </g>\n  <g id=\"axes_1\">\n   <g id=\"patch_2\">\n    <path d=\"M 46.965625 224.64 \nL 381.765625 224.64 \nL 381.765625 7.2 \nL 46.965625 7.2 \nz\n\" style=\"fill: #ffffff\"/>\n   </g>\n   <g id=\"matplotlib.axis_1\">\n    <g id=\"xtick_1\">\n     <g id=\"line2d_1\">\n      <path d=\"M 62.183807 224.64 \nL 62.183807 7.2 \n\" clip-path=\"url(#p005c818855)\" style=\"fill: none; stroke: #c0c0c0; stroke-width: 0.8; stroke-linecap: square\"/>\n     </g>\n     <g id=\"line2d_2\">\n      <defs>\n       <path id=\"m8f79940d32\" d=\"M 0 0 \nL 0 3.5 \n\" style=\"stroke: #000000; stroke-width: 0.8\"/>\n      </defs>\n      <g>\n       <use xlink:href=\"#m8f79940d32\" x=\"62.183807\" y=\"224.64\" style=\"stroke: #000000; stroke-width: 0.8\"/>\n      </g>\n     </g>\n     <g id=\"text_1\">\n      <!-- hotel -->\n      <g transform=\"translate(64.943182 256.947812)rotate(-90)scale(0.1 -0.1)\">\n       <defs>\n        <path id=\"DejaVuSans-68\" d=\"M 3513 2113 \nL 3513 0 \nL 2938 0 \nL 2938 2094 \nQ 2938 2591 2744 2837 \nQ 2550 3084 2163 3084 \nQ 1697 3084 1428 2787 \nQ 1159 2491 1159 1978 \nL 1159 0 \nL 581 0 \nL 581 4863 \nL 1159 4863 \nL 1159 2956 \nQ 1366 3272 1645 3428 \nQ 1925 3584 2291 3584 \nQ 2894 3584 3203 3211 \nQ 3513 2838 3513 2113 \nz\n\" transform=\"scale(0.015625)\"/>\n        <path id=\"DejaVuSans-6f\" d=\"M 1959 3097 \nQ 1497 3097 1228 2736 \nQ 959 2375 959 1747 \nQ 959 1119 1226 758 \nQ 1494 397 1959 397 \nQ 2419 397 2687 759 \nQ 2956 1122 2956 1747 \nQ 2956 2369 2687 2733 \nQ 2419 3097 1959 3097 \nz\nM 1959 3584 \nQ 2709 3584 3137 3096 \nQ 3566 2609 3566 1747 \nQ 3566 888 3137 398 \nQ 2709 -91 1959 -91 \nQ 1206 -91 779 398 \nQ 353 888 353 1747 \nQ 353 2609 779 3096 \nQ 1206 3584 1959 3584 \nz\n\" transform=\"scale(0.015625)\"/>\n        <path id=\"DejaVuSans-74\" d=\"M 1172 4494 \nL 1172 3500 \nL 2356 3500 \nL 2356 3053 \nL 1172 3053 \nL 1172 1153 \nQ 1172 725 1289 603 \nQ 1406 481 1766 481 \nL 2356 481 \nL 2356 0 \nL 1766 0 \nQ 1100 0 847 248 \nQ 594 497 594 1153 \nL 594 3053 \nL 172 3053 \nL 172 3500 \nL 594 3500 \nL 594 4494 \nL 1172 4494 \nz\n\" transform=\"scale(0.015625)\"/>\n        <path id=\"DejaVuSans-65\" d=\"M 3597 1894 \nL 3597 1613 \nL 953 1613 \nQ 991 1019 1311 708 \nQ 1631 397 2203 397 \nQ 2534 397 2845 478 \nQ 3156 559 3463 722 \nL 3463 178 \nQ 3153 47 2828 -22 \nQ 2503 -91 2169 -91 \nQ 1331 -91 842 396 \nQ 353 884 353 1716 \nQ 353 2575 817 3079 \nQ 1281 3584 2069 3584 \nQ 2775 3584 3186 3129 \nQ 3597 2675 3597 1894 \nz\nM 3022 2063 \nQ 3016 2534 2758 2815 \nQ 2500 3097 2075 3097 \nQ 1594 3097 1305 2825 \nQ 1016 2553 972 2059 \nL 3022 2063 \nz\n\" transform=\"scale(0.015625)\"/>\n        <path id=\"DejaVuSans-6c\" d=\"M 603 4863 \nL 1178 4863 \nL 1178 0 \nL 603 0 \nL 603 4863 \nz\n\" transform=\"scale(0.015625)\"/>\n       </defs>\n       <use xlink:href=\"#DejaVuSans-68\"/>\n       <use xlink:href=\"#DejaVuSans-6f\" x=\"63.378906\"/>\n       <use xlink:href=\"#DejaVuSans-74\" x=\"124.560547\"/>\n       <use xlink:href=\"#DejaVuSans-65\" x=\"163.769531\"/>\n       <use xlink:href=\"#DejaVuSans-6c\" x=\"225.292969\"/>\n      </g>\n     </g>\n    </g>\n    <g id=\"xtick_2\">\n     <g id=\"line2d_3\">\n      <path d=\"M 69.988003 224.64 \nL 69.988003 7.2 \n\" clip-path=\"url(#p005c818855)\" style=\"fill: none; stroke: #c0c0c0; stroke-width: 0.8; stroke-linecap: square\"/>\n     </g>\n     <g id=\"line2d_4\">\n      <g>\n       <use xlink:href=\"#m8f79940d32\" x=\"69.988003\" y=\"224.64\" style=\"stroke: #000000; stroke-width: 0.8\"/>\n      </g>\n     </g>\n     <g id=\"text_2\">\n      <!-- nh -->\n      <g transform=\"translate(72.747378 244.315)rotate(-90)scale(0.1 -0.1)\">\n       <defs>\n        <path id=\"DejaVuSans-6e\" d=\"M 3513 2113 \nL 3513 0 \nL 2938 0 \nL 2938 2094 \nQ 2938 2591 2744 2837 \nQ 2550 3084 2163 3084 \nQ 1697 3084 1428 2787 \nQ 1159 2491 1159 1978 \nL 1159 0 \nL 581 0 \nL 581 3500 \nL 1159 3500 \nL 1159 2956 \nQ 1366 3272 1645 3428 \nQ 1925 3584 2291 3584 \nQ 2894 3584 3203 3211 \nQ 3513 2838 3513 2113 \nz\n\" transform=\"scale(0.015625)\"/>\n       </defs>\n       <use xlink:href=\"#DejaVuSans-6e\"/>\n       <use xlink:href=\"#DejaVuSans-68\" x=\"63.378906\"/>\n      </g>\n     </g>\n    </g>\n    <g id=\"xtick_3\">\n     <g id=\"line2d_5\">\n      <path d=\"M 77.792198 224.64 \nL 77.792198 7.2 \n\" clip-path=\"url(#p005c818855)\" style=\"fill: none; stroke: #c0c0c0; stroke-width: 0.8; stroke-linecap: square\"/>\n     </g>\n     <g id=\"line2d_6\">\n      <g>\n       <use xlink:href=\"#m8f79940d32\" x=\"77.792198\" y=\"224.64\" style=\"stroke: #000000; stroke-width: 0.8\"/>\n      </g>\n     </g>\n     <g id=\"text_3\">\n      <!-- de -->\n      <g transform=\"translate(80.551573 244.141562)rotate(-90)scale(0.1 -0.1)\">\n       <defs>\n        <path id=\"DejaVuSans-64\" d=\"M 2906 2969 \nL 2906 4863 \nL 3481 4863 \nL 3481 0 \nL 2906 0 \nL 2906 525 \nQ 2725 213 2448 61 \nQ 2172 -91 1784 -91 \nQ 1150 -91 751 415 \nQ 353 922 353 1747 \nQ 353 2572 751 3078 \nQ 1150 3584 1784 3584 \nQ 2172 3584 2448 3432 \nQ 2725 3281 2906 2969 \nz\nM 947 1747 \nQ 947 1113 1208 752 \nQ 1469 391 1925 391 \nQ 2381 391 2643 752 \nQ 2906 1113 2906 1747 \nQ 2906 2381 2643 2742 \nQ 2381 3103 1925 3103 \nQ 1469 3103 1208 2742 \nQ 947 2381 947 1747 \nz\n\" transform=\"scale(0.015625)\"/>\n       </defs>\n       <use xlink:href=\"#DejaVuSans-64\"/>\n       <use xlink:href=\"#DejaVuSans-65\" x=\"63.476562\"/>\n      </g>\n     </g>\n    </g>\n    <g id=\"xtick_4\">\n     <g id=\"line2d_7\">\n      <path d=\"M 85.596394 224.64 \nL 85.596394 7.2 \n\" clip-path=\"url(#p005c818855)\" style=\"fill: none; stroke: #c0c0c0; stroke-width: 0.8; stroke-linecap: square\"/>\n     </g>\n     <g id=\"line2d_8\">\n      <g>\n       <use xlink:href=\"#m8f79940d32\" x=\"85.596394\" y=\"224.64\" style=\"stroke: #000000; stroke-width: 0.8\"/>\n      </g>\n     </g>\n     <g id=\"text_4\">\n      <!-- globales -->\n      <g transform=\"translate(88.355769 273.5025)rotate(-90)scale(0.1 -0.1)\">\n       <defs>\n        <path id=\"DejaVuSans-67\" d=\"M 2906 1791 \nQ 2906 2416 2648 2759 \nQ 2391 3103 1925 3103 \nQ 1463 3103 1205 2759 \nQ 947 2416 947 1791 \nQ 947 1169 1205 825 \nQ 1463 481 1925 481 \nQ 2391 481 2648 825 \nQ 2906 1169 2906 1791 \nz\nM 3481 434 \nQ 3481 -459 3084 -895 \nQ 2688 -1331 1869 -1331 \nQ 1566 -1331 1297 -1286 \nQ 1028 -1241 775 -1147 \nL 775 -588 \nQ 1028 -725 1275 -790 \nQ 1522 -856 1778 -856 \nQ 2344 -856 2625 -561 \nQ 2906 -266 2906 331 \nL 2906 616 \nQ 2728 306 2450 153 \nQ 2172 0 1784 0 \nQ 1141 0 747 490 \nQ 353 981 353 1791 \nQ 353 2603 747 3093 \nQ 1141 3584 1784 3584 \nQ 2172 3584 2450 3431 \nQ 2728 3278 2906 2969 \nL 2906 3500 \nL 3481 3500 \nL 3481 434 \nz\n\" transform=\"scale(0.015625)\"/>\n        <path id=\"DejaVuSans-62\" d=\"M 3116 1747 \nQ 3116 2381 2855 2742 \nQ 2594 3103 2138 3103 \nQ 1681 3103 1420 2742 \nQ 1159 2381 1159 1747 \nQ 1159 1113 1420 752 \nQ 1681 391 2138 391 \nQ 2594 391 2855 752 \nQ 3116 1113 3116 1747 \nz\nM 1159 2969 \nQ 1341 3281 1617 3432 \nQ 1894 3584 2278 3584 \nQ 2916 3584 3314 3078 \nQ 3713 2572 3713 1747 \nQ 3713 922 3314 415 \nQ 2916 -91 2278 -91 \nQ 1894 -91 1617 61 \nQ 1341 213 1159 525 \nL 1159 0 \nL 581 0 \nL 581 4863 \nL 1159 4863 \nL 1159 2969 \nz\n\" transform=\"scale(0.015625)\"/>\n        <path id=\"DejaVuSans-61\" d=\"M 2194 1759 \nQ 1497 1759 1228 1600 \nQ 959 1441 959 1056 \nQ 959 750 1161 570 \nQ 1363 391 1709 391 \nQ 2188 391 2477 730 \nQ 2766 1069 2766 1631 \nL 2766 1759 \nL 2194 1759 \nz\nM 3341 1997 \nL 3341 0 \nL 2766 0 \nL 2766 531 \nQ 2569 213 2275 61 \nQ 1981 -91 1556 -91 \nQ 1019 -91 701 211 \nQ 384 513 384 1019 \nQ 384 1609 779 1909 \nQ 1175 2209 1959 2209 \nL 2766 2209 \nL 2766 2266 \nQ 2766 2663 2505 2880 \nQ 2244 3097 1772 3097 \nQ 1472 3097 1187 3025 \nQ 903 2953 641 2809 \nL 641 3341 \nQ 956 3463 1253 3523 \nQ 1550 3584 1831 3584 \nQ 2591 3584 2966 3190 \nQ 3341 2797 3341 1997 \nz\n\" transform=\"scale(0.015625)\"/>\n        <path id=\"DejaVuSans-73\" d=\"M 2834 3397 \nL 2834 2853 \nQ 2591 2978 2328 3040 \nQ 2066 3103 1784 3103 \nQ 1356 3103 1142 2972 \nQ 928 2841 928 2578 \nQ 928 2378 1081 2264 \nQ 1234 2150 1697 2047 \nL 1894 2003 \nQ 2506 1872 2764 1633 \nQ 3022 1394 3022 966 \nQ 3022 478 2636 193 \nQ 2250 -91 1575 -91 \nQ 1294 -91 989 -36 \nQ 684 19 347 128 \nL 347 722 \nQ 666 556 975 473 \nQ 1284 391 1588 391 \nQ 1994 391 2212 530 \nQ 2431 669 2431 922 \nQ 2431 1156 2273 1281 \nQ 2116 1406 1581 1522 \nL 1381 1569 \nQ 847 1681 609 1914 \nQ 372 2147 372 2553 \nQ 372 3047 722 3315 \nQ 1072 3584 1716 3584 \nQ 2034 3584 2315 3537 \nQ 2597 3491 2834 3397 \nz\n\" transform=\"scale(0.015625)\"/>\n       </defs>\n       <use xlink:href=\"#DejaVuSans-67\"/>\n       <use xlink:href=\"#DejaVuSans-6c\" x=\"63.476562\"/>\n       <use xlink:href=\"#DejaVuSans-6f\" x=\"91.259766\"/>\n       <use xlink:href=\"#DejaVuSans-62\" x=\"152.441406\"/>\n       <use xlink:href=\"#DejaVuSans-61\" x=\"215.917969\"/>\n       <use xlink:href=\"#DejaVuSans-6c\" x=\"277.197266\"/>\n       <use xlink:href=\"#DejaVuSans-65\" x=\"304.980469\"/>\n       <use xlink:href=\"#DejaVuSans-73\" x=\"366.503906\"/>\n      </g>\n     </g>\n    </g>\n    <g id=\"xtick_5\">\n     <g id=\"line2d_9\">\n      <path d=\"M 93.40059 224.64 \nL 93.40059 7.2 \n\" clip-path=\"url(#p005c818855)\" style=\"fill: none; stroke: #c0c0c0; stroke-width: 0.8; stroke-linecap: square\"/>\n     </g>\n     <g id=\"line2d_10\">\n      <g>\n       <use xlink:href=\"#m8f79940d32\" x=\"93.40059\" y=\"224.64\" style=\"stroke: #000000; stroke-width: 0.8\"/>\n      </g>\n     </g>\n     <g id=\"text_5\">\n      <!-- holiday -->\n      <g transform=\"translate(96.159965 268.047813)rotate(-90)scale(0.1 -0.1)\">\n       <defs>\n        <path id=\"DejaVuSans-69\" d=\"M 603 3500 \nL 1178 3500 \nL 1178 0 \nL 603 0 \nL 603 3500 \nz\nM 603 4863 \nL 1178 4863 \nL 1178 4134 \nL 603 4134 \nL 603 4863 \nz\n\" transform=\"scale(0.015625)\"/>\n        <path id=\"DejaVuSans-79\" d=\"M 2059 -325 \nQ 1816 -950 1584 -1140 \nQ 1353 -1331 966 -1331 \nL 506 -1331 \nL 506 -850 \nL 844 -850 \nQ 1081 -850 1212 -737 \nQ 1344 -625 1503 -206 \nL 1606 56 \nL 191 3500 \nL 800 3500 \nL 1894 763 \nL 2988 3500 \nL 3597 3500 \nL 2059 -325 \nz\n\" transform=\"scale(0.015625)\"/>\n       </defs>\n       <use xlink:href=\"#DejaVuSans-68\"/>\n       <use xlink:href=\"#DejaVuSans-6f\" x=\"63.378906\"/>\n       <use xlink:href=\"#DejaVuSans-6c\" x=\"124.560547\"/>\n       <use xlink:href=\"#DejaVuSans-69\" x=\"152.34375\"/>\n       <use xlink:href=\"#DejaVuSans-64\" x=\"180.126953\"/>\n       <use xlink:href=\"#DejaVuSans-61\" x=\"243.603516\"/>\n       <use xlink:href=\"#DejaVuSans-79\" x=\"304.882812\"/>\n      </g>\n     </g>\n    </g>\n    <g id=\"xtick_6\">\n     <g id=\"line2d_11\">\n      <path d=\"M 101.204786 224.64 \nL 101.204786 7.2 \n\" clip-path=\"url(#p005c818855)\" style=\"fill: none; stroke: #c0c0c0; stroke-width: 0.8; stroke-linecap: square\"/>\n     </g>\n     <g id=\"line2d_12\">\n      <g>\n       <use xlink:href=\"#m8f79940d32\" x=\"101.204786\" y=\"224.64\" style=\"stroke: #000000; stroke-width: 0.8\"/>\n      </g>\n     </g>\n     <g id=\"text_6\">\n      <!-- riu -->\n      <g transform=\"translate(103.964161 244.866562)rotate(-90)scale(0.1 -0.1)\">\n       <defs>\n        <path id=\"DejaVuSans-72\" d=\"M 2631 2963 \nQ 2534 3019 2420 3045 \nQ 2306 3072 2169 3072 \nQ 1681 3072 1420 2755 \nQ 1159 2438 1159 1844 \nL 1159 0 \nL 581 0 \nL 581 3500 \nL 1159 3500 \nL 1159 2956 \nQ 1341 3275 1631 3429 \nQ 1922 3584 2338 3584 \nQ 2397 3584 2469 3576 \nQ 2541 3569 2628 3553 \nL 2631 2963 \nz\n\" transform=\"scale(0.015625)\"/>\n        <path id=\"DejaVuSans-75\" d=\"M 544 1381 \nL 544 3500 \nL 1119 3500 \nL 1119 1403 \nQ 1119 906 1312 657 \nQ 1506 409 1894 409 \nQ 2359 409 2629 706 \nQ 2900 1003 2900 1516 \nL 2900 3500 \nL 3475 3500 \nL 3475 0 \nL 2900 0 \nL 2900 538 \nQ 2691 219 2414 64 \nQ 2138 -91 1772 -91 \nQ 1169 -91 856 284 \nQ 544 659 544 1381 \nz\nM 1991 3584 \nL 1991 3584 \nz\n\" transform=\"scale(0.015625)\"/>\n       </defs>\n       <use xlink:href=\"#DejaVuSans-72\"/>\n       <use xlink:href=\"#DejaVuSans-69\" x=\"41.113281\"/>\n       <use xlink:href=\"#DejaVuSans-75\" x=\"68.896484\"/>\n      </g>\n     </g>\n    </g>\n    <g id=\"xtick_7\">\n     <g id=\"line2d_13\">\n      <path d=\"M 109.008982 224.64 \nL 109.008982 7.2 \n\" clip-path=\"url(#p005c818855)\" style=\"fill: none; stroke: #c0c0c0; stroke-width: 0.8; stroke-linecap: square\"/>\n     </g>\n     <g id=\"line2d_14\">\n      <g>\n       <use xlink:href=\"#m8f79940d32\" x=\"109.008982\" y=\"224.64\" style=\"stroke: #000000; stroke-width: 0.8\"/>\n      </g>\n     </g>\n     <g id=\"text_7\">\n      <!-- one -->\n      <g transform=\"translate(111.768357 250.249375)rotate(-90)scale(0.1 -0.1)\">\n       <use xlink:href=\"#DejaVuSans-6f\"/>\n       <use xlink:href=\"#DejaVuSans-6e\" x=\"61.181641\"/>\n       <use xlink:href=\"#DejaVuSans-65\" x=\"124.560547\"/>\n      </g>\n     </g>\n    </g>\n    <g id=\"xtick_8\">\n     <g id=\"line2d_15\">\n      <path d=\"M 116.813177 224.64 \nL 116.813177 7.2 \n\" clip-path=\"url(#p005c818855)\" style=\"fill: none; stroke: #c0c0c0; stroke-width: 0.8; stroke-linecap: square\"/>\n     </g>\n     <g id=\"line2d_16\">\n      <g>\n       <use xlink:href=\"#m8f79940d32\" x=\"116.813177\" y=\"224.64\" style=\"stroke: #000000; stroke-width: 0.8\"/>\n      </g>\n     </g>\n     <g id=\"text_8\">\n      <!-- collection -->\n      <g transform=\"translate(119.572552 279.619687)rotate(-90)scale(0.1 -0.1)\">\n       <defs>\n        <path id=\"DejaVuSans-63\" d=\"M 3122 3366 \nL 3122 2828 \nQ 2878 2963 2633 3030 \nQ 2388 3097 2138 3097 \nQ 1578 3097 1268 2742 \nQ 959 2388 959 1747 \nQ 959 1106 1268 751 \nQ 1578 397 2138 397 \nQ 2388 397 2633 464 \nQ 2878 531 3122 666 \nL 3122 134 \nQ 2881 22 2623 -34 \nQ 2366 -91 2075 -91 \nQ 1284 -91 818 406 \nQ 353 903 353 1747 \nQ 353 2603 823 3093 \nQ 1294 3584 2113 3584 \nQ 2378 3584 2631 3529 \nQ 2884 3475 3122 3366 \nz\n\" transform=\"scale(0.015625)\"/>\n       </defs>\n       <use xlink:href=\"#DejaVuSans-63\"/>\n       <use xlink:href=\"#DejaVuSans-6f\" x=\"54.980469\"/>\n       <use xlink:href=\"#DejaVuSans-6c\" x=\"116.162109\"/>\n       <use xlink:href=\"#DejaVuSans-6c\" x=\"143.945312\"/>\n       <use xlink:href=\"#DejaVuSans-65\" x=\"171.728516\"/>\n       <use xlink:href=\"#DejaVuSans-63\" x=\"233.251953\"/>\n       <use xlink:href=\"#DejaVuSans-74\" x=\"288.232422\"/>\n       <use xlink:href=\"#DejaVuSans-69\" x=\"327.441406\"/>\n       <use xlink:href=\"#DejaVuSans-6f\" x=\"355.224609\"/>\n       <use xlink:href=\"#DejaVuSans-6e\" x=\"416.40625\"/>\n      </g>\n     </g>\n    </g>\n    <g id=\"xtick_9\">\n     <g id=\"line2d_17\">\n      <path d=\"M 124.617373 224.64 \nL 124.617373 7.2 \n\" clip-path=\"url(#p005c818855)\" style=\"fill: none; stroke: #c0c0c0; stroke-width: 0.8; stroke-linecap: square\"/>\n     </g>\n     <g id=\"line2d_18\">\n      <g>\n       <use xlink:href=\"#m8f79940d32\" x=\"124.617373\" y=\"224.64\" style=\"stroke: #000000; stroke-width: 0.8\"/>\n      </g>\n     </g>\n     <g id=\"text_9\">\n      <!-- u -->\n      <g transform=\"translate(127.376748 237.9775)rotate(-90)scale(0.1 -0.1)\">\n       <use xlink:href=\"#DejaVuSans-75\"/>\n      </g>\n     </g>\n    </g>\n    <g id=\"xtick_10\">\n     <g id=\"line2d_19\">\n      <path d=\"M 132.421569 224.64 \nL 132.421569 7.2 \n\" clip-path=\"url(#p005c818855)\" style=\"fill: none; stroke: #c0c0c0; stroke-width: 0.8; stroke-linecap: square\"/>\n     </g>\n     <g id=\"line2d_20\">\n      <g>\n       <use xlink:href=\"#m8f79940d32\" x=\"132.421569\" y=\"224.64\" style=\"stroke: #000000; stroke-width: 0.8\"/>\n      </g>\n     </g>\n     <g id=\"text_10\">\n      <!-- en -->\n      <g transform=\"translate(135.180944 244.130625)rotate(-90)scale(0.1 -0.1)\">\n       <use xlink:href=\"#DejaVuSans-65\"/>\n       <use xlink:href=\"#DejaVuSans-6e\" x=\"61.523438\"/>\n      </g>\n     </g>\n    </g>\n    <g id=\"xtick_11\">\n     <g id=\"line2d_21\">\n      <path d=\"M 140.225765 224.64 \nL 140.225765 7.2 \n\" clip-path=\"url(#p005c818855)\" style=\"fill: none; stroke: #c0c0c0; stroke-width: 0.8; stroke-linecap: square\"/>\n     </g>\n     <g id=\"line2d_22\">\n      <g>\n       <use xlink:href=\"#m8f79940d32\" x=\"140.225765\" y=\"224.64\" style=\"stroke: #000000; stroke-width: 0.8\"/>\n      </g>\n     </g>\n     <g id=\"text_11\">\n      <!-- best -->\n      <g transform=\"translate(142.98514 253.27125)rotate(-90)scale(0.1 -0.1)\">\n       <use xlink:href=\"#DejaVuSans-62\"/>\n       <use xlink:href=\"#DejaVuSans-65\" x=\"63.476562\"/>\n       <use xlink:href=\"#DejaVuSans-73\" x=\"125\"/>\n       <use xlink:href=\"#DejaVuSans-74\" x=\"177.099609\"/>\n      </g>\n     </g>\n    </g>\n    <g id=\"xtick_12\">\n     <g id=\"line2d_23\">\n      <path d=\"M 148.029961 224.64 \nL 148.029961 7.2 \n\" clip-path=\"url(#p005c818855)\" style=\"fill: none; stroke: #c0c0c0; stroke-width: 0.8; stroke-linecap: square\"/>\n     </g>\n     <g id=\"line2d_24\">\n      <g>\n       <use xlink:href=\"#m8f79940d32\" x=\"148.029961\" y=\"224.64\" style=\"stroke: #000000; stroke-width: 0.8\"/>\n      </g>\n     </g>\n     <g id=\"text_12\">\n      <!-- resort -->\n      <g transform=\"translate(150.789336 261.038437)rotate(-90)scale(0.1 -0.1)\">\n       <use xlink:href=\"#DejaVuSans-72\"/>\n       <use xlink:href=\"#DejaVuSans-65\" x=\"38.863281\"/>\n       <use xlink:href=\"#DejaVuSans-73\" x=\"100.386719\"/>\n       <use xlink:href=\"#DejaVuSans-6f\" x=\"152.486328\"/>\n       <use xlink:href=\"#DejaVuSans-72\" x=\"213.667969\"/>\n       <use xlink:href=\"#DejaVuSans-74\" x=\"254.78125\"/>\n      </g>\n     </g>\n    </g>\n    <g id=\"xtick_13\">\n     <g id=\"line2d_25\">\n      <path d=\"M 155.834156 224.64 \nL 155.834156 7.2 \n\" clip-path=\"url(#p005c818855)\" style=\"fill: none; stroke: #c0c0c0; stroke-width: 0.8; stroke-linecap: square\"/>\n     </g>\n     <g id=\"line2d_26\">\n      <g>\n       <use xlink:href=\"#m8f79940d32\" x=\"155.834156\" y=\"224.64\" style=\"stroke: #000000; stroke-width: 0.8\"/>\n      </g>\n     </g>\n     <g id=\"text_13\">\n      <!-- el -->\n      <g transform=\"translate(158.593531 240.57125)rotate(-90)scale(0.1 -0.1)\">\n       <use xlink:href=\"#DejaVuSans-65\"/>\n       <use xlink:href=\"#DejaVuSans-6c\" x=\"61.523438\"/>\n      </g>\n     </g>\n    </g>\n    <g id=\"xtick_14\">\n     <g id=\"line2d_27\">\n      <path d=\"M 163.638352 224.64 \nL 163.638352 7.2 \n\" clip-path=\"url(#p005c818855)\" style=\"fill: none; stroke: #c0c0c0; stroke-width: 0.8; stroke-linecap: square\"/>\n     </g>\n     <g id=\"line2d_28\">\n      <g>\n       <use xlink:href=\"#m8f79940d32\" x=\"163.638352\" y=\"224.64\" style=\"stroke: #000000; stroke-width: 0.8\"/>\n      </g>\n     </g>\n     <g id=\"text_14\">\n      <!-- mallorca -->\n      <g transform=\"translate(166.397727 274.69625)rotate(-90)scale(0.1 -0.1)\">\n       <defs>\n        <path id=\"DejaVuSans-6d\" d=\"M 3328 2828 \nQ 3544 3216 3844 3400 \nQ 4144 3584 4550 3584 \nQ 5097 3584 5394 3201 \nQ 5691 2819 5691 2113 \nL 5691 0 \nL 5113 0 \nL 5113 2094 \nQ 5113 2597 4934 2840 \nQ 4756 3084 4391 3084 \nQ 3944 3084 3684 2787 \nQ 3425 2491 3425 1978 \nL 3425 0 \nL 2847 0 \nL 2847 2094 \nQ 2847 2600 2669 2842 \nQ 2491 3084 2119 3084 \nQ 1678 3084 1418 2786 \nQ 1159 2488 1159 1978 \nL 1159 0 \nL 581 0 \nL 581 3500 \nL 1159 3500 \nL 1159 2956 \nQ 1356 3278 1631 3431 \nQ 1906 3584 2284 3584 \nQ 2666 3584 2933 3390 \nQ 3200 3197 3328 2828 \nz\n\" transform=\"scale(0.015625)\"/>\n       </defs>\n       <use xlink:href=\"#DejaVuSans-6d\"/>\n       <use xlink:href=\"#DejaVuSans-61\" x=\"97.412109\"/>\n       <use xlink:href=\"#DejaVuSans-6c\" x=\"158.691406\"/>\n       <use xlink:href=\"#DejaVuSans-6c\" x=\"186.474609\"/>\n       <use xlink:href=\"#DejaVuSans-6f\" x=\"214.257812\"/>\n       <use xlink:href=\"#DejaVuSans-72\" x=\"275.439453\"/>\n       <use xlink:href=\"#DejaVuSans-63\" x=\"314.302734\"/>\n       <use xlink:href=\"#DejaVuSans-61\" x=\"369.283203\"/>\n      </g>\n     </g>\n    </g>\n    <g id=\"xtick_15\">\n     <g id=\"line2d_29\">\n      <path d=\"M 171.442548 224.64 \nL 171.442548 7.2 \n\" clip-path=\"url(#p005c818855)\" style=\"fill: none; stroke: #c0c0c0; stroke-width: 0.8; stroke-linecap: square\"/>\n     </g>\n     <g id=\"line2d_30\">\n      <g>\n       <use xlink:href=\"#m8f79940d32\" x=\"171.442548\" y=\"224.64\" style=\"stroke: #000000; stroke-width: 0.8\"/>\n      </g>\n     </g>\n     <g id=\"text_15\">\n      <!-- enjoy -->\n      <g transform=\"translate(174.201923 258.94625)rotate(-90)scale(0.1 -0.1)\">\n       <defs>\n        <path id=\"DejaVuSans-6a\" d=\"M 603 3500 \nL 1178 3500 \nL 1178 -63 \nQ 1178 -731 923 -1031 \nQ 669 -1331 103 -1331 \nL -116 -1331 \nL -116 -844 \nL 38 -844 \nQ 366 -844 484 -692 \nQ 603 -541 603 -63 \nL 603 3500 \nz\nM 603 4863 \nL 1178 4863 \nL 1178 4134 \nL 603 4134 \nL 603 4863 \nz\n\" transform=\"scale(0.015625)\"/>\n       </defs>\n       <use xlink:href=\"#DejaVuSans-65\"/>\n       <use xlink:href=\"#DejaVuSans-6e\" x=\"61.523438\"/>\n       <use xlink:href=\"#DejaVuSans-6a\" x=\"124.902344\"/>\n       <use xlink:href=\"#DejaVuSans-6f\" x=\"152.685547\"/>\n       <use xlink:href=\"#DejaVuSans-79\" x=\"213.867188\"/>\n      </g>\n     </g>\n    </g>\n    <g id=\"xtick_16\">\n     <g id=\"line2d_31\">\n      <path d=\"M 179.246744 224.64 \nL 179.246744 7.2 \n\" clip-path=\"url(#p005c818855)\" style=\"fill: none; stroke: #c0c0c0; stroke-width: 0.8; stroke-linecap: square\"/>\n     </g>\n     <g id=\"line2d_32\">\n      <g>\n       <use xlink:href=\"#m8f79940d32\" x=\"179.246744\" y=\"224.64\" style=\"stroke: #000000; stroke-width: 0.8\"/>\n      </g>\n     </g>\n     <g id=\"text_16\">\n      <!-- city -->\n      <g transform=\"translate(182.006119 249.755625)rotate(-90)scale(0.1 -0.1)\">\n       <use xlink:href=\"#DejaVuSans-63\"/>\n       <use xlink:href=\"#DejaVuSans-69\" x=\"54.980469\"/>\n       <use xlink:href=\"#DejaVuSans-74\" x=\"82.763672\"/>\n       <use xlink:href=\"#DejaVuSans-79\" x=\"121.972656\"/>\n      </g>\n     </g>\n    </g>\n    <g id=\"xtick_17\">\n     <g id=\"line2d_33\">\n      <path d=\"M 187.05094 224.64 \nL 187.05094 7.2 \n\" clip-path=\"url(#p005c818855)\" style=\"fill: none; stroke: #c0c0c0; stroke-width: 0.8; stroke-linecap: square\"/>\n     </g>\n     <g id=\"line2d_34\">\n      <g>\n       <use xlink:href=\"#m8f79940d32\" x=\"187.05094\" y=\"224.64\" style=\"stroke: #000000; stroke-width: 0.8\"/>\n      </g>\n     </g>\n     <g id=\"text_17\">\n      <!-- la -->\n      <g transform=\"translate(189.810315 240.54625)rotate(-90)scale(0.1 -0.1)\">\n       <use xlink:href=\"#DejaVuSans-6c\"/>\n       <use xlink:href=\"#DejaVuSans-61\" x=\"27.783203\"/>\n      </g>\n     </g>\n    </g>\n    <g id=\"xtick_18\">\n     <g id=\"line2d_35\">\n      <path d=\"M 194.855135 224.64 \nL 194.855135 7.2 \n\" clip-path=\"url(#p005c818855)\" style=\"fill: none; stroke: #c0c0c0; stroke-width: 0.8; stroke-linecap: square\"/>\n     </g>\n     <g id=\"line2d_36\">\n      <g>\n       <use xlink:href=\"#m8f79940d32\" x=\"194.855135\" y=\"224.64\" style=\"stroke: #000000; stroke-width: 0.8\"/>\n      </g>\n     </g>\n     <g id=\"text_18\">\n      <!-- anantara -->\n      <g transform=\"translate(197.61451 276.85875)rotate(-90)scale(0.1 -0.1)\">\n       <use xlink:href=\"#DejaVuSans-61\"/>\n       <use xlink:href=\"#DejaVuSans-6e\" x=\"61.279297\"/>\n       <use xlink:href=\"#DejaVuSans-61\" x=\"124.658203\"/>\n       <use xlink:href=\"#DejaVuSans-6e\" x=\"185.9375\"/>\n       <use xlink:href=\"#DejaVuSans-74\" x=\"249.316406\"/>\n       <use xlink:href=\"#DejaVuSans-61\" x=\"288.525391\"/>\n       <use xlink:href=\"#DejaVuSans-72\" x=\"349.804688\"/>\n       <use xlink:href=\"#DejaVuSans-61\" x=\"390.917969\"/>\n      </g>\n     </g>\n    </g>\n    <g id=\"xtick_19\">\n     <g id=\"line2d_37\">\n      <path d=\"M 202.659331 224.64 \nL 202.659331 7.2 \n\" clip-path=\"url(#p005c818855)\" style=\"fill: none; stroke: #c0c0c0; stroke-width: 0.8; stroke-linecap: square\"/>\n     </g>\n     <g id=\"line2d_38\">\n      <g>\n       <use xlink:href=\"#m8f79940d32\" x=\"202.659331\" y=\"224.64\" style=\"stroke: #000000; stroke-width: 0.8\"/>\n      </g>\n     </g>\n     <g id=\"text_19\">\n      <!-- experience -->\n      <g transform=\"translate(205.418706 287.069687)rotate(-90)scale(0.1 -0.1)\">\n       <defs>\n        <path id=\"DejaVuSans-78\" d=\"M 3513 3500 \nL 2247 1797 \nL 3578 0 \nL 2900 0 \nL 1881 1375 \nL 863 0 \nL 184 0 \nL 1544 1831 \nL 300 3500 \nL 978 3500 \nL 1906 2253 \nL 2834 3500 \nL 3513 3500 \nz\n\" transform=\"scale(0.015625)\"/>\n        <path id=\"DejaVuSans-70\" d=\"M 1159 525 \nL 1159 -1331 \nL 581 -1331 \nL 581 3500 \nL 1159 3500 \nL 1159 2969 \nQ 1341 3281 1617 3432 \nQ 1894 3584 2278 3584 \nQ 2916 3584 3314 3078 \nQ 3713 2572 3713 1747 \nQ 3713 922 3314 415 \nQ 2916 -91 2278 -91 \nQ 1894 -91 1617 61 \nQ 1341 213 1159 525 \nz\nM 3116 1747 \nQ 3116 2381 2855 2742 \nQ 2594 3103 2138 3103 \nQ 1681 3103 1420 2742 \nQ 1159 2381 1159 1747 \nQ 1159 1113 1420 752 \nQ 1681 391 2138 391 \nQ 2594 391 2855 752 \nQ 3116 1113 3116 1747 \nz\n\" transform=\"scale(0.015625)\"/>\n       </defs>\n       <use xlink:href=\"#DejaVuSans-65\"/>\n       <use xlink:href=\"#DejaVuSans-78\" x=\"59.773438\"/>\n       <use xlink:href=\"#DejaVuSans-70\" x=\"118.953125\"/>\n       <use xlink:href=\"#DejaVuSans-65\" x=\"182.429688\"/>\n       <use xlink:href=\"#DejaVuSans-72\" x=\"243.953125\"/>\n       <use xlink:href=\"#DejaVuSans-69\" x=\"285.066406\"/>\n       <use xlink:href=\"#DejaVuSans-65\" x=\"312.849609\"/>\n       <use xlink:href=\"#DejaVuSans-6e\" x=\"374.373047\"/>\n       <use xlink:href=\"#DejaVuSans-63\" x=\"437.751953\"/>\n       <use xlink:href=\"#DejaVuSans-65\" x=\"492.732422\"/>\n      </g>\n     </g>\n    </g>\n    <g id=\"xtick_20\">\n     <g id=\"line2d_39\">\n      <path d=\"M 210.463527 224.64 \nL 210.463527 7.2 \n\" clip-path=\"url(#p005c818855)\" style=\"fill: none; stroke: #c0c0c0; stroke-width: 0.8; stroke-linecap: square\"/>\n     </g>\n     <g id=\"line2d_40\">\n      <g>\n       <use xlink:href=\"#m8f79940d32\" x=\"210.463527\" y=\"224.64\" style=\"stroke: #000000; stroke-width: 0.8\"/>\n      </g>\n     </g>\n     <g id=\"text_20\">\n      <!-- offer -->\n      <g transform=\"translate(213.222902 255.063438)rotate(-90)scale(0.1 -0.1)\">\n       <defs>\n        <path id=\"DejaVuSans-66\" d=\"M 2375 4863 \nL 2375 4384 \nL 1825 4384 \nQ 1516 4384 1395 4259 \nQ 1275 4134 1275 3809 \nL 1275 3500 \nL 2222 3500 \nL 2222 3053 \nL 1275 3053 \nL 1275 0 \nL 697 0 \nL 697 3053 \nL 147 3053 \nL 147 3500 \nL 697 3500 \nL 697 3744 \nQ 697 4328 969 4595 \nQ 1241 4863 1831 4863 \nL 2375 4863 \nz\n\" transform=\"scale(0.015625)\"/>\n       </defs>\n       <use xlink:href=\"#DejaVuSans-6f\"/>\n       <use xlink:href=\"#DejaVuSans-66\" x=\"61.181641\"/>\n       <use xlink:href=\"#DejaVuSans-66\" x=\"96.386719\"/>\n       <use xlink:href=\"#DejaVuSans-65\" x=\"131.591797\"/>\n       <use xlink:href=\"#DejaVuSans-72\" x=\"193.115234\"/>\n      </g>\n     </g>\n    </g>\n    <g id=\"xtick_21\">\n     <g id=\"line2d_41\">\n      <path d=\"M 218.267723 224.64 \nL 218.267723 7.2 \n\" clip-path=\"url(#p005c818855)\" style=\"fill: none; stroke: #c0c0c0; stroke-width: 0.8; stroke-linecap: square\"/>\n     </g>\n     <g id=\"line2d_42\">\n      <g>\n       <use xlink:href=\"#m8f79940d32\" x=\"218.267723\" y=\"224.64\" style=\"stroke: #000000; stroke-width: 0.8\"/>\n      </g>\n     </g>\n     <g id=\"text_21\">\n      <!-- spa -->\n      <g transform=\"translate(221.027098 249.325938)rotate(-90)scale(0.1 -0.1)\">\n       <use xlink:href=\"#DejaVuSans-73\"/>\n       <use xlink:href=\"#DejaVuSans-70\" x=\"52.099609\"/>\n       <use xlink:href=\"#DejaVuSans-61\" x=\"115.576172\"/>\n      </g>\n     </g>\n    </g>\n    <g id=\"xtick_22\">\n     <g id=\"line2d_43\">\n      <path d=\"M 226.071919 224.64 \nL 226.071919 7.2 \n\" clip-path=\"url(#p005c818855)\" style=\"fill: none; stroke: #c0c0c0; stroke-width: 0.8; stroke-linecap: square\"/>\n     </g>\n     <g id=\"line2d_44\">\n      <g>\n       <use xlink:href=\"#m8f79940d32\" x=\"226.071919\" y=\"224.64\" style=\"stroke: #000000; stroke-width: 0.8\"/>\n      </g>\n     </g>\n     <g id=\"text_22\">\n      <!-- day -->\n      <g transform=\"translate(228.831294 250.035313)rotate(-90)scale(0.1 -0.1)\">\n       <use xlink:href=\"#DejaVuSans-64\"/>\n       <use xlink:href=\"#DejaVuSans-61\" x=\"63.476562\"/>\n       <use xlink:href=\"#DejaVuSans-79\" x=\"124.755859\"/>\n      </g>\n     </g>\n    </g>\n    <g id=\"xtick_23\">\n     <g id=\"line2d_45\">\n      <path d=\"M 233.876115 224.64 \nL 233.876115 7.2 \n\" clip-path=\"url(#p005c818855)\" style=\"fill: none; stroke: #c0c0c0; stroke-width: 0.8; stroke-linecap: square\"/>\n     </g>\n     <g id=\"line2d_46\">\n      <g>\n       <use xlink:href=\"#m8f79940d32\" x=\"233.876115\" y=\"224.64\" style=\"stroke: #000000; stroke-width: 0.8\"/>\n      </g>\n     </g>\n     <g id=\"text_23\">\n      <!-- new -->\n      <g transform=\"translate(236.63549 252.30875)rotate(-90)scale(0.1 -0.1)\">\n       <defs>\n        <path id=\"DejaVuSans-77\" d=\"M 269 3500 \nL 844 3500 \nL 1563 769 \nL 2278 3500 \nL 2956 3500 \nL 3675 769 \nL 4391 3500 \nL 4966 3500 \nL 4050 0 \nL 3372 0 \nL 2619 2869 \nL 1863 0 \nL 1184 0 \nL 269 3500 \nz\n\" transform=\"scale(0.015625)\"/>\n       </defs>\n       <use xlink:href=\"#DejaVuSans-6e\"/>\n       <use xlink:href=\"#DejaVuSans-65\" x=\"63.378906\"/>\n       <use xlink:href=\"#DejaVuSans-77\" x=\"124.902344\"/>\n      </g>\n     </g>\n    </g>\n    <g id=\"xtick_24\">\n     <g id=\"line2d_47\">\n      <path d=\"M 241.68031 224.64 \nL 241.68031 7.2 \n\" clip-path=\"url(#p005c818855)\" style=\"fill: none; stroke: #c0c0c0; stroke-width: 0.8; stroke-linecap: square\"/>\n     </g>\n     <g id=\"line2d_48\">\n      <g>\n       <use xlink:href=\"#m8f79940d32\" x=\"241.68031\" y=\"224.64\" style=\"stroke: #000000; stroke-width: 0.8\"/>\n      </g>\n     </g>\n     <g id=\"text_24\">\n      <!-- year -->\n      <g transform=\"translate(244.439685 253.950938)rotate(-90)scale(0.1 -0.1)\">\n       <use xlink:href=\"#DejaVuSans-79\"/>\n       <use xlink:href=\"#DejaVuSans-65\" x=\"59.179688\"/>\n       <use xlink:href=\"#DejaVuSans-61\" x=\"120.703125\"/>\n       <use xlink:href=\"#DejaVuSans-72\" x=\"181.982422\"/>\n      </g>\n     </g>\n    </g>\n    <g id=\"xtick_25\">\n     <g id=\"line2d_49\">\n      <path d=\"M 249.484506 224.64 \nL 249.484506 7.2 \n\" clip-path=\"url(#p005c818855)\" style=\"fill: none; stroke: #c0c0c0; stroke-width: 0.8; stroke-linecap: square\"/>\n     </g>\n     <g id=\"line2d_50\">\n      <g>\n       <use xlink:href=\"#m8f79940d32\" x=\"249.484506\" y=\"224.64\" style=\"stroke: #000000; stroke-width: 0.8\"/>\n      </g>\n     </g>\n     <g id=\"text_25\">\n      <!-- grupotel -->\n      <g transform=\"translate(252.243881 273.755625)rotate(-90)scale(0.1 -0.1)\">\n       <use xlink:href=\"#DejaVuSans-67\"/>\n       <use xlink:href=\"#DejaVuSans-72\" x=\"63.476562\"/>\n       <use xlink:href=\"#DejaVuSans-75\" x=\"104.589844\"/>\n       <use xlink:href=\"#DejaVuSans-70\" x=\"167.96875\"/>\n       <use xlink:href=\"#DejaVuSans-6f\" x=\"231.445312\"/>\n       <use xlink:href=\"#DejaVuSans-74\" x=\"292.626953\"/>\n       <use xlink:href=\"#DejaVuSans-65\" x=\"331.835938\"/>\n       <use xlink:href=\"#DejaVuSans-6c\" x=\"393.359375\"/>\n      </g>\n     </g>\n    </g>\n    <g id=\"xtick_26\">\n     <g id=\"line2d_51\">\n      <path d=\"M 257.288702 224.64 \nL 257.288702 7.2 \n\" clip-path=\"url(#p005c818855)\" style=\"fill: none; stroke: #c0c0c0; stroke-width: 0.8; stroke-linecap: square\"/>\n     </g>\n     <g id=\"line2d_52\">\n      <g>\n       <use xlink:href=\"#m8f79940d32\" x=\"257.288702\" y=\"224.64\" style=\"stroke: #000000; stroke-width: 0.8\"/>\n      </g>\n     </g>\n     <g id=\"text_26\">\n      <!-- team -->\n      <g transform=\"translate(260.048077 257.582188)rotate(-90)scale(0.1 -0.1)\">\n       <use xlink:href=\"#DejaVuSans-74\"/>\n       <use xlink:href=\"#DejaVuSans-65\" x=\"39.208984\"/>\n       <use xlink:href=\"#DejaVuSans-61\" x=\"100.732422\"/>\n       <use xlink:href=\"#DejaVuSans-6d\" x=\"162.011719\"/>\n      </g>\n     </g>\n    </g>\n    <g id=\"xtick_27\">\n     <g id=\"line2d_53\">\n      <path d=\"M 265.092898 224.64 \nL 265.092898 7.2 \n\" clip-path=\"url(#p005c818855)\" style=\"fill: none; stroke: #c0c0c0; stroke-width: 0.8; stroke-linecap: square\"/>\n     </g>\n     <g id=\"line2d_54\">\n      <g>\n       <use xlink:href=\"#m8f79940d32\" x=\"265.092898\" y=\"224.64\" style=\"stroke: #000000; stroke-width: 0.8\"/>\n      </g>\n     </g>\n     <g id=\"text_27\">\n      <!-- take -->\n      <g transform=\"translate(267.852273 253.269688)rotate(-90)scale(0.1 -0.1)\">\n       <defs>\n        <path id=\"DejaVuSans-6b\" d=\"M 581 4863 \nL 1159 4863 \nL 1159 1991 \nL 2875 3500 \nL 3609 3500 \nL 1753 1863 \nL 3688 0 \nL 2938 0 \nL 1159 1709 \nL 1159 0 \nL 581 0 \nL 581 4863 \nz\n\" transform=\"scale(0.015625)\"/>\n       </defs>\n       <use xlink:href=\"#DejaVuSans-74\"/>\n       <use xlink:href=\"#DejaVuSans-61\" x=\"39.208984\"/>\n       <use xlink:href=\"#DejaVuSans-6b\" x=\"100.488281\"/>\n       <use xlink:href=\"#DejaVuSans-65\" x=\"154.773438\"/>\n      </g>\n     </g>\n    </g>\n    <g id=\"xtick_28\">\n     <g id=\"line2d_55\">\n      <path d=\"M 272.897094 224.64 \nL 272.897094 7.2 \n\" clip-path=\"url(#p005c818855)\" style=\"fill: none; stroke: #c0c0c0; stroke-width: 0.8; stroke-linecap: square\"/>\n     </g>\n     <g id=\"line2d_56\">\n      <g>\n       <use xlink:href=\"#m8f79940d32\" x=\"272.897094\" y=\"224.64\" style=\"stroke: #000000; stroke-width: 0.8\"/>\n      </g>\n     </g>\n     <g id=\"text_28\">\n      <!-- like -->\n      <g transform=\"translate(275.656469 248.7775)rotate(-90)scale(0.1 -0.1)\">\n       <use xlink:href=\"#DejaVuSans-6c\"/>\n       <use xlink:href=\"#DejaVuSans-69\" x=\"27.783203\"/>\n       <use xlink:href=\"#DejaVuSans-6b\" x=\"55.566406\"/>\n       <use xlink:href=\"#DejaVuSans-65\" x=\"109.851562\"/>\n      </g>\n     </g>\n    </g>\n    <g id=\"xtick_29\">\n     <g id=\"line2d_57\">\n      <path d=\"M 280.701289 224.64 \nL 280.701289 7.2 \n\" clip-path=\"url(#p005c818855)\" style=\"fill: none; stroke: #c0c0c0; stroke-width: 0.8; stroke-linecap: square\"/>\n     </g>\n     <g id=\"line2d_58\">\n      <g>\n       <use xlink:href=\"#m8f79940d32\" x=\"280.701289\" y=\"224.64\" style=\"stroke: #000000; stroke-width: 0.8\"/>\n      </g>\n     </g>\n     <g id=\"text_29\">\n      <!-- place -->\n      <g transform=\"translate(283.460664 258.54625)rotate(-90)scale(0.1 -0.1)\">\n       <use xlink:href=\"#DejaVuSans-70\"/>\n       <use xlink:href=\"#DejaVuSans-6c\" x=\"63.476562\"/>\n       <use xlink:href=\"#DejaVuSans-61\" x=\"91.259766\"/>\n       <use xlink:href=\"#DejaVuSans-63\" x=\"152.539062\"/>\n       <use xlink:href=\"#DejaVuSans-65\" x=\"207.519531\"/>\n      </g>\n     </g>\n    </g>\n    <g id=\"xtick_30\">\n     <g id=\"line2d_59\">\n      <path d=\"M 288.505485 224.64 \nL 288.505485 7.2 \n\" clip-path=\"url(#p005c818855)\" style=\"fill: none; stroke: #c0c0c0; stroke-width: 0.8; stroke-linecap: square\"/>\n     </g>\n     <g id=\"line2d_60\">\n      <g>\n       <use xlink:href=\"#m8f79940d32\" x=\"288.505485\" y=\"224.64\" style=\"stroke: #000000; stroke-width: 0.8\"/>\n      </g>\n     </g>\n     <g id=\"text_30\">\n      <!-- perfect -->\n      <g transform=\"translate(291.26486 267.344688)rotate(-90)scale(0.1 -0.1)\">\n       <use xlink:href=\"#DejaVuSans-70\"/>\n       <use xlink:href=\"#DejaVuSans-65\" x=\"63.476562\"/>\n       <use xlink:href=\"#DejaVuSans-72\" x=\"125\"/>\n       <use xlink:href=\"#DejaVuSans-66\" x=\"166.113281\"/>\n       <use xlink:href=\"#DejaVuSans-65\" x=\"201.318359\"/>\n       <use xlink:href=\"#DejaVuSans-63\" x=\"262.841797\"/>\n       <use xlink:href=\"#DejaVuSans-74\" x=\"317.822266\"/>\n      </g>\n     </g>\n    </g>\n    <g id=\"xtick_31\">\n     <g id=\"line2d_61\">\n      <path d=\"M 296.309681 224.64 \nL 296.309681 7.2 \n\" clip-path=\"url(#p005c818855)\" style=\"fill: none; stroke: #c0c0c0; stroke-width: 0.8; stroke-linecap: square\"/>\n     </g>\n     <g id=\"line2d_62\">\n      <g>\n       <use xlink:href=\"#m8f79940d32\" x=\"296.309681\" y=\"224.64\" style=\"stroke: #000000; stroke-width: 0.8\"/>\n      </g>\n     </g>\n     <g id=\"text_31\">\n      <!-- world -->\n      <g transform=\"translate(299.069056 259.174375)rotate(-90)scale(0.1 -0.1)\">\n       <use xlink:href=\"#DejaVuSans-77\"/>\n       <use xlink:href=\"#DejaVuSans-6f\" x=\"81.787109\"/>\n       <use xlink:href=\"#DejaVuSans-72\" x=\"142.96875\"/>\n       <use xlink:href=\"#DejaVuSans-6c\" x=\"184.082031\"/>\n       <use xlink:href=\"#DejaVuSans-64\" x=\"211.865234\"/>\n      </g>\n     </g>\n    </g>\n    <g id=\"xtick_32\">\n     <g id=\"line2d_63\">\n      <path d=\"M 304.113877 224.64 \nL 304.113877 7.2 \n\" clip-path=\"url(#p005c818855)\" style=\"fill: none; stroke: #c0c0c0; stroke-width: 0.8; stroke-linecap: square\"/>\n     </g>\n     <g id=\"line2d_64\">\n      <g>\n       <use xlink:href=\"#m8f79940d32\" x=\"304.113877\" y=\"224.64\" style=\"stroke: #000000; stroke-width: 0.8\"/>\n      </g>\n     </g>\n     <g id=\"text_32\">\n      <!-- room -->\n      <g transform=\"translate(306.873252 257.504063)rotate(-90)scale(0.1 -0.1)\">\n       <use xlink:href=\"#DejaVuSans-72\"/>\n       <use xlink:href=\"#DejaVuSans-6f\" x=\"38.863281\"/>\n       <use xlink:href=\"#DejaVuSans-6f\" x=\"100.044922\"/>\n       <use xlink:href=\"#DejaVuSans-6d\" x=\"161.226562\"/>\n      </g>\n     </g>\n    </g>\n    <g id=\"xtick_33\">\n     <g id=\"line2d_65\">\n      <path d=\"M 311.918073 224.64 \nL 311.918073 7.2 \n\" clip-path=\"url(#p005c818855)\" style=\"fill: none; stroke: #c0c0c0; stroke-width: 0.8; stroke-linecap: square\"/>\n     </g>\n     <g id=\"line2d_66\">\n      <g>\n       <use xlink:href=\"#m8f79940d32\" x=\"311.918073\" y=\"224.64\" style=\"stroke: #000000; stroke-width: 0.8\"/>\n      </g>\n     </g>\n     <g id=\"text_33\">\n      <!-- make -->\n      <g transform=\"translate(314.677448 259.09)rotate(-90)scale(0.1 -0.1)\">\n       <use xlink:href=\"#DejaVuSans-6d\"/>\n       <use xlink:href=\"#DejaVuSans-61\" x=\"97.412109\"/>\n       <use xlink:href=\"#DejaVuSans-6b\" x=\"158.691406\"/>\n       <use xlink:href=\"#DejaVuSans-65\" x=\"212.976562\"/>\n      </g>\n     </g>\n    </g>\n    <g id=\"xtick_34\">\n     <g id=\"line2d_67\">\n      <path d=\"M 319.722268 224.64 \nL 319.722268 7.2 \n\" clip-path=\"url(#p005c818855)\" style=\"fill: none; stroke: #c0c0c0; stroke-width: 0.8; stroke-linecap: square\"/>\n     </g>\n     <g id=\"line2d_68\">\n      <g>\n       <use xlink:href=\"#m8f79940d32\" x=\"319.722268\" y=\"224.64\" style=\"stroke: #000000; stroke-width: 0.8\"/>\n      </g>\n     </g>\n     <g id=\"text_34\">\n      <!-- del -->\n      <g transform=\"translate(322.481643 246.919688)rotate(-90)scale(0.1 -0.1)\">\n       <use xlink:href=\"#DejaVuSans-64\"/>\n       <use xlink:href=\"#DejaVuSans-65\" x=\"63.476562\"/>\n       <use xlink:href=\"#DejaVuSans-6c\" x=\"125\"/>\n      </g>\n     </g>\n    </g>\n    <g id=\"xtick_35\">\n     <g id=\"line2d_69\">\n      <path d=\"M 327.526464 224.64 \nL 327.526464 7.2 \n\" clip-path=\"url(#p005c818855)\" style=\"fill: none; stroke: #c0c0c0; stroke-width: 0.8; stroke-linecap: square\"/>\n     </g>\n     <g id=\"line2d_70\">\n      <g>\n       <use xlink:href=\"#m8f79940d32\" x=\"327.526464\" y=\"224.64\" style=\"stroke: #000000; stroke-width: 0.8\"/>\n      </g>\n     </g>\n     <g id=\"text_35\">\n      <!-- guest -->\n      <g transform=\"translate(330.285839 259.60875)rotate(-90)scale(0.1 -0.1)\">\n       <use xlink:href=\"#DejaVuSans-67\"/>\n       <use xlink:href=\"#DejaVuSans-75\" x=\"63.476562\"/>\n       <use xlink:href=\"#DejaVuSans-65\" x=\"126.855469\"/>\n       <use xlink:href=\"#DejaVuSans-73\" x=\"188.378906\"/>\n       <use xlink:href=\"#DejaVuSans-74\" x=\"240.478516\"/>\n      </g>\n     </g>\n    </g>\n    <g id=\"xtick_36\">\n     <g id=\"line2d_71\">\n      <path d=\"M 335.33066 224.64 \nL 335.33066 7.2 \n\" clip-path=\"url(#p005c818855)\" style=\"fill: none; stroke: #c0c0c0; stroke-width: 0.8; stroke-linecap: square\"/>\n     </g>\n     <g id=\"line2d_72\">\n      <g>\n       <use xlink:href=\"#m8f79940d32\" x=\"335.33066\" y=\"224.64\" style=\"stroke: #000000; stroke-width: 0.8\"/>\n      </g>\n     </g>\n     <g id=\"text_36\">\n      <!-- beach -->\n      <g transform=\"translate(338.090035 262.105625)rotate(-90)scale(0.1 -0.1)\">\n       <use xlink:href=\"#DejaVuSans-62\"/>\n       <use xlink:href=\"#DejaVuSans-65\" x=\"63.476562\"/>\n       <use xlink:href=\"#DejaVuSans-61\" x=\"125\"/>\n       <use xlink:href=\"#DejaVuSans-63\" x=\"186.279297\"/>\n       <use xlink:href=\"#DejaVuSans-68\" x=\"241.259766\"/>\n      </g>\n     </g>\n    </g>\n    <g id=\"xtick_37\">\n     <g id=\"line2d_73\">\n      <path d=\"M 343.134856 224.64 \nL 343.134856 7.2 \n\" clip-path=\"url(#p005c818855)\" style=\"fill: none; stroke: #c0c0c0; stroke-width: 0.8; stroke-linecap: square\"/>\n     </g>\n     <g id=\"line2d_74\">\n      <g>\n       <use xlink:href=\"#m8f79940d32\" x=\"343.134856\" y=\"224.64\" style=\"stroke: #000000; stroke-width: 0.8\"/>\n      </g>\n     </g>\n     <g id=\"text_37\">\n      <!-- stay -->\n      <g transform=\"translate(345.894231 252.816563)rotate(-90)scale(0.1 -0.1)\">\n       <use xlink:href=\"#DejaVuSans-73\"/>\n       <use xlink:href=\"#DejaVuSans-74\" x=\"52.099609\"/>\n       <use xlink:href=\"#DejaVuSans-61\" x=\"91.308594\"/>\n       <use xlink:href=\"#DejaVuSans-79\" x=\"152.587891\"/>\n      </g>\n     </g>\n    </g>\n    <g id=\"xtick_38\">\n     <g id=\"line2d_75\">\n      <path d=\"M 350.939052 224.64 \nL 350.939052 7.2 \n\" clip-path=\"url(#p005c818855)\" style=\"fill: none; stroke: #c0c0c0; stroke-width: 0.8; stroke-linecap: square\"/>\n     </g>\n     <g id=\"line2d_76\">\n      <g>\n       <use xlink:href=\"#m8f79940d32\" x=\"350.939052\" y=\"224.64\" style=\"stroke: #000000; stroke-width: 0.8\"/>\n      </g>\n     </g>\n     <g id=\"text_38\">\n      <!-- get -->\n      <g transform=\"translate(353.698427 248.061875)rotate(-90)scale(0.1 -0.1)\">\n       <use xlink:href=\"#DejaVuSans-67\"/>\n       <use xlink:href=\"#DejaVuSans-65\" x=\"63.476562\"/>\n       <use xlink:href=\"#DejaVuSans-74\" x=\"125\"/>\n      </g>\n     </g>\n    </g>\n    <g id=\"xtick_39\">\n     <g id=\"line2d_77\">\n      <path d=\"M 358.743247 224.64 \nL 358.743247 7.2 \n\" clip-path=\"url(#p005c818855)\" style=\"fill: none; stroke: #c0c0c0; stroke-width: 0.8; stroke-linecap: square\"/>\n     </g>\n     <g id=\"line2d_78\">\n      <g>\n       <use xlink:href=\"#m8f79940d32\" x=\"358.743247\" y=\"224.64\" style=\"stroke: #000000; stroke-width: 0.8\"/>\n      </g>\n     </g>\n     <g id=\"text_39\">\n      <!-- next -->\n      <g transform=\"translate(361.502622 253.794688)rotate(-90)scale(0.1 -0.1)\">\n       <use xlink:href=\"#DejaVuSans-6e\"/>\n       <use xlink:href=\"#DejaVuSans-65\" x=\"63.378906\"/>\n       <use xlink:href=\"#DejaVuSans-78\" x=\"123.152344\"/>\n       <use xlink:href=\"#DejaVuSans-74\" x=\"182.332031\"/>\n      </g>\n     </g>\n    </g>\n    <g id=\"xtick_40\">\n     <g id=\"line2d_79\">\n      <path d=\"M 366.547443 224.64 \nL 366.547443 7.2 \n\" clip-path=\"url(#p005c818855)\" style=\"fill: none; stroke: #c0c0c0; stroke-width: 0.8; stroke-linecap: square\"/>\n     </g>\n     <g id=\"line2d_80\">\n      <g>\n       <use xlink:href=\"#m8f79940d32\" x=\"366.547443\" y=\"224.64\" style=\"stroke: #000000; stroke-width: 0.8\"/>\n      </g>\n     </g>\n     <g id=\"text_40\">\n      <!-- luxury -->\n      <g transform=\"translate(369.306818 263.041562)rotate(-90)scale(0.1 -0.1)\">\n       <use xlink:href=\"#DejaVuSans-6c\"/>\n       <use xlink:href=\"#DejaVuSans-75\" x=\"27.783203\"/>\n       <use xlink:href=\"#DejaVuSans-78\" x=\"91.162109\"/>\n       <use xlink:href=\"#DejaVuSans-75\" x=\"150.341797\"/>\n       <use xlink:href=\"#DejaVuSans-72\" x=\"213.720703\"/>\n       <use xlink:href=\"#DejaVuSans-79\" x=\"254.833984\"/>\n      </g>\n     </g>\n    </g>\n    <g id=\"text_41\">\n     <!-- Samples -->\n     <g transform=\"translate(193.0125 298.668125)scale(0.1 -0.1)\">\n      <defs>\n       <path id=\"DejaVuSans-53\" d=\"M 3425 4513 \nL 3425 3897 \nQ 3066 4069 2747 4153 \nQ 2428 4238 2131 4238 \nQ 1616 4238 1336 4038 \nQ 1056 3838 1056 3469 \nQ 1056 3159 1242 3001 \nQ 1428 2844 1947 2747 \nL 2328 2669 \nQ 3034 2534 3370 2195 \nQ 3706 1856 3706 1288 \nQ 3706 609 3251 259 \nQ 2797 -91 1919 -91 \nQ 1588 -91 1214 -16 \nQ 841 59 441 206 \nL 441 856 \nQ 825 641 1194 531 \nQ 1563 422 1919 422 \nQ 2459 422 2753 634 \nQ 3047 847 3047 1241 \nQ 3047 1584 2836 1778 \nQ 2625 1972 2144 2069 \nL 1759 2144 \nQ 1053 2284 737 2584 \nQ 422 2884 422 3419 \nQ 422 4038 858 4394 \nQ 1294 4750 2059 4750 \nQ 2388 4750 2728 4690 \nQ 3069 4631 3425 4513 \nz\n\" transform=\"scale(0.015625)\"/>\n      </defs>\n      <use xlink:href=\"#DejaVuSans-53\"/>\n      <use xlink:href=\"#DejaVuSans-61\" x=\"63.476562\"/>\n      <use xlink:href=\"#DejaVuSans-6d\" x=\"124.755859\"/>\n      <use xlink:href=\"#DejaVuSans-70\" x=\"222.167969\"/>\n      <use xlink:href=\"#DejaVuSans-6c\" x=\"285.644531\"/>\n      <use xlink:href=\"#DejaVuSans-65\" x=\"313.427734\"/>\n      <use xlink:href=\"#DejaVuSans-73\" x=\"374.951172\"/>\n     </g>\n    </g>\n   </g>\n   <g id=\"matplotlib.axis_2\">\n    <g id=\"ytick_1\">\n     <g id=\"line2d_81\">\n      <path d=\"M 46.965625 211.738459 \nL 381.765625 211.738459 \n\" clip-path=\"url(#p005c818855)\" style=\"fill: none; stroke: #c0c0c0; stroke-width: 0.8; stroke-linecap: square\"/>\n     </g>\n     <g id=\"line2d_82\">\n      <defs>\n       <path id=\"m33ad944979\" d=\"M 0 0 \nL -3.5 0 \n\" style=\"stroke: #000000; stroke-width: 0.8\"/>\n      </defs>\n      <g>\n       <use xlink:href=\"#m33ad944979\" x=\"46.965625\" y=\"211.738459\" style=\"stroke: #000000; stroke-width: 0.8\"/>\n      </g>\n     </g>\n     <g id=\"text_42\">\n      <!-- 20 -->\n      <g transform=\"translate(27.240625 215.537678)scale(0.1 -0.1)\">\n       <defs>\n        <path id=\"DejaVuSans-32\" d=\"M 1228 531 \nL 3431 531 \nL 3431 0 \nL 469 0 \nL 469 531 \nQ 828 903 1448 1529 \nQ 2069 2156 2228 2338 \nQ 2531 2678 2651 2914 \nQ 2772 3150 2772 3378 \nQ 2772 3750 2511 3984 \nQ 2250 4219 1831 4219 \nQ 1534 4219 1204 4116 \nQ 875 4013 500 3803 \nL 500 4441 \nQ 881 4594 1212 4672 \nQ 1544 4750 1819 4750 \nQ 2544 4750 2975 4387 \nQ 3406 4025 3406 3419 \nQ 3406 3131 3298 2873 \nQ 3191 2616 2906 2266 \nQ 2828 2175 2409 1742 \nQ 1991 1309 1228 531 \nz\n\" transform=\"scale(0.015625)\"/>\n        <path id=\"DejaVuSans-30\" d=\"M 2034 4250 \nQ 1547 4250 1301 3770 \nQ 1056 3291 1056 2328 \nQ 1056 1369 1301 889 \nQ 1547 409 2034 409 \nQ 2525 409 2770 889 \nQ 3016 1369 3016 2328 \nQ 3016 3291 2770 3770 \nQ 2525 4250 2034 4250 \nz\nM 2034 4750 \nQ 2819 4750 3233 4129 \nQ 3647 3509 3647 2328 \nQ 3647 1150 3233 529 \nQ 2819 -91 2034 -91 \nQ 1250 -91 836 529 \nQ 422 1150 422 2328 \nQ 422 3509 836 4129 \nQ 1250 4750 2034 4750 \nz\n\" transform=\"scale(0.015625)\"/>\n       </defs>\n       <use xlink:href=\"#DejaVuSans-32\"/>\n       <use xlink:href=\"#DejaVuSans-30\" x=\"63.623047\"/>\n      </g>\n     </g>\n    </g>\n    <g id=\"ytick_2\">\n     <g id=\"line2d_83\">\n      <path d=\"M 46.965625 181.559417 \nL 381.765625 181.559417 \n\" clip-path=\"url(#p005c818855)\" style=\"fill: none; stroke: #c0c0c0; stroke-width: 0.8; stroke-linecap: square\"/>\n     </g>\n     <g id=\"line2d_84\">\n      <g>\n       <use xlink:href=\"#m33ad944979\" x=\"46.965625\" y=\"181.559417\" style=\"stroke: #000000; stroke-width: 0.8\"/>\n      </g>\n     </g>\n     <g id=\"text_43\">\n      <!-- 40 -->\n      <g transform=\"translate(27.240625 185.358636)scale(0.1 -0.1)\">\n       <defs>\n        <path id=\"DejaVuSans-34\" d=\"M 2419 4116 \nL 825 1625 \nL 2419 1625 \nL 2419 4116 \nz\nM 2253 4666 \nL 3047 4666 \nL 3047 1625 \nL 3713 1625 \nL 3713 1100 \nL 3047 1100 \nL 3047 0 \nL 2419 0 \nL 2419 1100 \nL 313 1100 \nL 313 1709 \nL 2253 4666 \nz\n\" transform=\"scale(0.015625)\"/>\n       </defs>\n       <use xlink:href=\"#DejaVuSans-34\"/>\n       <use xlink:href=\"#DejaVuSans-30\" x=\"63.623047\"/>\n      </g>\n     </g>\n    </g>\n    <g id=\"ytick_3\">\n     <g id=\"line2d_85\">\n      <path d=\"M 46.965625 151.380375 \nL 381.765625 151.380375 \n\" clip-path=\"url(#p005c818855)\" style=\"fill: none; stroke: #c0c0c0; stroke-width: 0.8; stroke-linecap: square\"/>\n     </g>\n     <g id=\"line2d_86\">\n      <g>\n       <use xlink:href=\"#m33ad944979\" x=\"46.965625\" y=\"151.380375\" style=\"stroke: #000000; stroke-width: 0.8\"/>\n      </g>\n     </g>\n     <g id=\"text_44\">\n      <!-- 60 -->\n      <g transform=\"translate(27.240625 155.179593)scale(0.1 -0.1)\">\n       <defs>\n        <path id=\"DejaVuSans-36\" d=\"M 2113 2584 \nQ 1688 2584 1439 2293 \nQ 1191 2003 1191 1497 \nQ 1191 994 1439 701 \nQ 1688 409 2113 409 \nQ 2538 409 2786 701 \nQ 3034 994 3034 1497 \nQ 3034 2003 2786 2293 \nQ 2538 2584 2113 2584 \nz\nM 3366 4563 \nL 3366 3988 \nQ 3128 4100 2886 4159 \nQ 2644 4219 2406 4219 \nQ 1781 4219 1451 3797 \nQ 1122 3375 1075 2522 \nQ 1259 2794 1537 2939 \nQ 1816 3084 2150 3084 \nQ 2853 3084 3261 2657 \nQ 3669 2231 3669 1497 \nQ 3669 778 3244 343 \nQ 2819 -91 2113 -91 \nQ 1303 -91 875 529 \nQ 447 1150 447 2328 \nQ 447 3434 972 4092 \nQ 1497 4750 2381 4750 \nQ 2619 4750 2861 4703 \nQ 3103 4656 3366 4563 \nz\n\" transform=\"scale(0.015625)\"/>\n       </defs>\n       <use xlink:href=\"#DejaVuSans-36\"/>\n       <use xlink:href=\"#DejaVuSans-30\" x=\"63.623047\"/>\n      </g>\n     </g>\n    </g>\n    <g id=\"ytick_4\">\n     <g id=\"line2d_87\">\n      <path d=\"M 46.965625 121.201332 \nL 381.765625 121.201332 \n\" clip-path=\"url(#p005c818855)\" style=\"fill: none; stroke: #c0c0c0; stroke-width: 0.8; stroke-linecap: square\"/>\n     </g>\n     <g id=\"line2d_88\">\n      <g>\n       <use xlink:href=\"#m33ad944979\" x=\"46.965625\" y=\"121.201332\" style=\"stroke: #000000; stroke-width: 0.8\"/>\n      </g>\n     </g>\n     <g id=\"text_45\">\n      <!-- 80 -->\n      <g transform=\"translate(27.240625 125.000551)scale(0.1 -0.1)\">\n       <defs>\n        <path id=\"DejaVuSans-38\" d=\"M 2034 2216 \nQ 1584 2216 1326 1975 \nQ 1069 1734 1069 1313 \nQ 1069 891 1326 650 \nQ 1584 409 2034 409 \nQ 2484 409 2743 651 \nQ 3003 894 3003 1313 \nQ 3003 1734 2745 1975 \nQ 2488 2216 2034 2216 \nz\nM 1403 2484 \nQ 997 2584 770 2862 \nQ 544 3141 544 3541 \nQ 544 4100 942 4425 \nQ 1341 4750 2034 4750 \nQ 2731 4750 3128 4425 \nQ 3525 4100 3525 3541 \nQ 3525 3141 3298 2862 \nQ 3072 2584 2669 2484 \nQ 3125 2378 3379 2068 \nQ 3634 1759 3634 1313 \nQ 3634 634 3220 271 \nQ 2806 -91 2034 -91 \nQ 1263 -91 848 271 \nQ 434 634 434 1313 \nQ 434 1759 690 2068 \nQ 947 2378 1403 2484 \nz\nM 1172 3481 \nQ 1172 3119 1398 2916 \nQ 1625 2713 2034 2713 \nQ 2441 2713 2670 2916 \nQ 2900 3119 2900 3481 \nQ 2900 3844 2670 4047 \nQ 2441 4250 2034 4250 \nQ 1625 4250 1398 4047 \nQ 1172 3844 1172 3481 \nz\n\" transform=\"scale(0.015625)\"/>\n       </defs>\n       <use xlink:href=\"#DejaVuSans-38\"/>\n       <use xlink:href=\"#DejaVuSans-30\" x=\"63.623047\"/>\n      </g>\n     </g>\n    </g>\n    <g id=\"ytick_5\">\n     <g id=\"line2d_89\">\n      <path d=\"M 46.965625 91.02229 \nL 381.765625 91.02229 \n\" clip-path=\"url(#p005c818855)\" style=\"fill: none; stroke: #c0c0c0; stroke-width: 0.8; stroke-linecap: square\"/>\n     </g>\n     <g id=\"line2d_90\">\n      <g>\n       <use xlink:href=\"#m33ad944979\" x=\"46.965625\" y=\"91.02229\" style=\"stroke: #000000; stroke-width: 0.8\"/>\n      </g>\n     </g>\n     <g id=\"text_46\">\n      <!-- 100 -->\n      <g transform=\"translate(20.878125 94.821509)scale(0.1 -0.1)\">\n       <defs>\n        <path id=\"DejaVuSans-31\" d=\"M 794 531 \nL 1825 531 \nL 1825 4091 \nL 703 3866 \nL 703 4441 \nL 1819 4666 \nL 2450 4666 \nL 2450 531 \nL 3481 531 \nL 3481 0 \nL 794 0 \nL 794 531 \nz\n\" transform=\"scale(0.015625)\"/>\n       </defs>\n       <use xlink:href=\"#DejaVuSans-31\"/>\n       <use xlink:href=\"#DejaVuSans-30\" x=\"63.623047\"/>\n       <use xlink:href=\"#DejaVuSans-30\" x=\"127.246094\"/>\n      </g>\n     </g>\n    </g>\n    <g id=\"ytick_6\">\n     <g id=\"line2d_91\">\n      <path d=\"M 46.965625 60.843248 \nL 381.765625 60.843248 \n\" clip-path=\"url(#p005c818855)\" style=\"fill: none; stroke: #c0c0c0; stroke-width: 0.8; stroke-linecap: square\"/>\n     </g>\n     <g id=\"line2d_92\">\n      <g>\n       <use xlink:href=\"#m33ad944979\" x=\"46.965625\" y=\"60.843248\" style=\"stroke: #000000; stroke-width: 0.8\"/>\n      </g>\n     </g>\n     <g id=\"text_47\">\n      <!-- 120 -->\n      <g transform=\"translate(20.878125 64.642466)scale(0.1 -0.1)\">\n       <use xlink:href=\"#DejaVuSans-31\"/>\n       <use xlink:href=\"#DejaVuSans-32\" x=\"63.623047\"/>\n       <use xlink:href=\"#DejaVuSans-30\" x=\"127.246094\"/>\n      </g>\n     </g>\n    </g>\n    <g id=\"ytick_7\">\n     <g id=\"line2d_93\">\n      <path d=\"M 46.965625 30.664205 \nL 381.765625 30.664205 \n\" clip-path=\"url(#p005c818855)\" style=\"fill: none; stroke: #c0c0c0; stroke-width: 0.8; stroke-linecap: square\"/>\n     </g>\n     <g id=\"line2d_94\">\n      <g>\n       <use xlink:href=\"#m33ad944979\" x=\"46.965625\" y=\"30.664205\" style=\"stroke: #000000; stroke-width: 0.8\"/>\n      </g>\n     </g>\n     <g id=\"text_48\">\n      <!-- 140 -->\n      <g transform=\"translate(20.878125 34.463424)scale(0.1 -0.1)\">\n       <use xlink:href=\"#DejaVuSans-31\"/>\n       <use xlink:href=\"#DejaVuSans-34\" x=\"63.623047\"/>\n       <use xlink:href=\"#DejaVuSans-30\" x=\"127.246094\"/>\n      </g>\n     </g>\n    </g>\n    <g id=\"text_49\">\n     <!-- Counts -->\n     <g transform=\"translate(14.798438 133.373125)rotate(-90)scale(0.1 -0.1)\">\n      <defs>\n       <path id=\"DejaVuSans-43\" d=\"M 4122 4306 \nL 4122 3641 \nQ 3803 3938 3442 4084 \nQ 3081 4231 2675 4231 \nQ 1875 4231 1450 3742 \nQ 1025 3253 1025 2328 \nQ 1025 1406 1450 917 \nQ 1875 428 2675 428 \nQ 3081 428 3442 575 \nQ 3803 722 4122 1019 \nL 4122 359 \nQ 3791 134 3420 21 \nQ 3050 -91 2638 -91 \nQ 1578 -91 968 557 \nQ 359 1206 359 2328 \nQ 359 3453 968 4101 \nQ 1578 4750 2638 4750 \nQ 3056 4750 3426 4639 \nQ 3797 4528 4122 4306 \nz\n\" transform=\"scale(0.015625)\"/>\n      </defs>\n      <use xlink:href=\"#DejaVuSans-43\"/>\n      <use xlink:href=\"#DejaVuSans-6f\" x=\"69.824219\"/>\n      <use xlink:href=\"#DejaVuSans-75\" x=\"131.005859\"/>\n      <use xlink:href=\"#DejaVuSans-6e\" x=\"194.384766\"/>\n      <use xlink:href=\"#DejaVuSans-74\" x=\"257.763672\"/>\n      <use xlink:href=\"#DejaVuSans-73\" x=\"296.972656\"/>\n     </g>\n    </g>\n   </g>\n   <g id=\"line2d_95\">\n    <path d=\"M 62.183807 17.083636 \nL 69.988003 139.308758 \nL 77.792198 148.362471 \nL 85.596394 169.4878 \nL 93.40059 172.505704 \nL 101.204786 174.014656 \nL 109.008982 177.032561 \nL 116.813177 178.541513 \nL 124.617373 180.050465 \nL 132.421569 180.050465 \nL 140.225765 183.068369 \nL 148.029961 192.122082 \nL 155.834156 195.139986 \nL 163.638352 196.648938 \nL 171.442548 196.648938 \nL 179.246744 198.15789 \nL 187.05094 199.666842 \nL 194.855135 199.666842 \nL 202.659331 201.175795 \nL 210.463527 201.175795 \nL 218.267723 202.684747 \nL 226.071919 202.684747 \nL 233.876115 204.193699 \nL 241.68031 204.193699 \nL 249.484506 204.193699 \nL 257.288702 205.702651 \nL 265.092898 207.211603 \nL 272.897094 207.211603 \nL 280.701289 208.720555 \nL 288.505485 210.229507 \nL 296.309681 210.229507 \nL 304.113877 210.229507 \nL 311.918073 210.229507 \nL 319.722268 210.229507 \nL 327.526464 211.738459 \nL 335.33066 213.247412 \nL 343.134856 213.247412 \nL 350.939052 213.247412 \nL 358.743247 214.756364 \nL 366.547443 214.756364 \n\" clip-path=\"url(#p005c818855)\" style=\"fill: none; stroke: #1f77b4; stroke-width: 2; stroke-linecap: square\"/>\n   </g>\n   <g id=\"patch_3\">\n    <path d=\"M 46.965625 224.64 \nL 46.965625 7.2 \n\" style=\"fill: none; stroke: #000000; stroke-width: 0.8; stroke-linejoin: miter; stroke-linecap: square\"/>\n   </g>\n   <g id=\"patch_4\">\n    <path d=\"M 381.765625 224.64 \nL 381.765625 7.2 \n\" style=\"fill: none; stroke: #000000; stroke-width: 0.8; stroke-linejoin: miter; stroke-linecap: square\"/>\n   </g>\n   <g id=\"patch_5\">\n    <path d=\"M 46.965625 224.64 \nL 381.765625 224.64 \n\" style=\"fill: none; stroke: #000000; stroke-width: 0.8; stroke-linejoin: miter; stroke-linecap: square\"/>\n   </g>\n   <g id=\"patch_6\">\n    <path d=\"M 46.965625 7.2 \nL 381.765625 7.2 \n\" style=\"fill: none; stroke: #000000; stroke-width: 0.8; stroke-linejoin: miter; stroke-linecap: square\"/>\n   </g>\n  </g>\n </g>\n <defs>\n  <clipPath id=\"p005c818855\">\n   <rect x=\"46.965625\" y=\"7.2\" width=\"334.8\" height=\"217.44\"/>\n  </clipPath>\n </defs>\n</svg>\n"
          },
          "metadata": {
            "needs_background": "light"
          }
        },
        {
          "output_type": "execute_result",
          "data": {
            "text/plain": [
              "<AxesSubplot:xlabel='Samples', ylabel='Counts'>"
            ]
          },
          "metadata": {},
          "execution_count": 59
        }
      ]
    },
    {
      "cell_type": "code",
      "metadata": {
        "id": "zZXJJayOuTTT",
        "colab": {
          "base_uri": "https://localhost:8080/"
        },
        "outputId": "d67b4ccd-9652-46be-bd9b-c63fdddf25c6"
      },
      "source": [
        "corpus_es = tweets_df_es.tweet_clean\n",
        "corpus_en = tweets_df_en.tweet_clean\n",
        "print(corpus_es)"
      ],
      "execution_count": null,
      "outputs": [
        {
          "output_type": "stream",
          "name": "stdout",
          "text": [
            "2      [gracias, fortaleza, digital, alcanzado, nuevo...\n",
            "3      [tiempodeactuar, orgullosos, anunciar, primera...\n",
            "4      [innsidebymelia, recibe, reconocimiento, premi...\n",
            "6      [sabias, cada, año, 77, millones, toneladas, a...\n",
            "8      [mañana, campo, sol, marbella, estepona, atala...\n",
            "                             ...                        \n",
            "860    [2020, iremos, informando, toda, buenas, pract...\n",
            "861    [pasa, navidadesen, fuerteventura, 42, do, pe...\n",
            "866    [blackfriday, acerca, bluesea, hotel, preparad...\n",
            "870    [costa, cofete, ideal, contemplar, mejores, pu...\n",
            "871    [via, preferente, httpsgoogl7cknpl, ona, hotel...\n",
            "Name: tweet_clean, Length: 541, dtype: object\n"
          ]
        }
      ]
    },
    {
      "cell_type": "code",
      "source": [
        "import gensim\n",
        "\n",
        "# Create dictionary of tokens: the input is the preprocessed corpus \n",
        "D_en = gensim.corpora.Dictionary(corpus_en)\n",
        "n_tokens = len(D_en)\n",
        "\n",
        "print('The dictionary contains', n_tokens, 'terms')\n",
        "print('First terms in the dictionary:')\n",
        "for n in range(20):\n",
        "    print(str(n), ':', D_en[n])"
      ],
      "metadata": {
        "colab": {
          "base_uri": "https://localhost:8080/"
        },
        "id": "u5yo7kpfHAcr",
        "outputId": "62aab79e-35df-47e1-f159-5846f4d009e8"
      },
      "execution_count": null,
      "outputs": [
        {
          "output_type": "stream",
          "name": "stdout",
          "text": [
            "The dictionary contains 3927 terms\n",
            "First terms in the dictionary:\n",
            "0 : 6\n",
            "1 : bite\n",
            "2 : bravosbookselection\n",
            "3 : brings\n",
            "4 : creativity\n",
            "5 : culture\n",
            "6 : curator\n",
            "7 : detail\n",
            "8 : enrich\n",
            "9 : experience\n",
            "10 : expert\n",
            "11 : gran\n",
            "12 : granmeliahotels\n",
            "13 : httpowly6fkp50xdsdi\n",
            "14 : learn\n",
            "15 : meliá\n",
            "16 : pictwittercomatmi3ajigk\n",
            "17 : selected\n",
            "18 : selection\n",
            "19 : spanish\n"
          ]
        }
      ]
    },
    {
      "cell_type": "code",
      "source": [
        "D_en.filter_tokens(bad_ids=[0,13,16])  # quitamos los números que aparecen al principio"
      ],
      "metadata": {
        "id": "JwmcL1p4HBuW"
      },
      "execution_count": null,
      "outputs": []
    },
    {
      "cell_type": "code",
      "source": [
        "plt.hist(D_en.dfs.values(),tweets_df_en.shape[0])\n",
        "plt.show()"
      ],
      "metadata": {
        "colab": {
          "base_uri": "https://localhost:8080/",
          "height": 353
        },
        "id": "zAyUS3nOHEws",
        "outputId": "e832f608-d466-4dee-d45d-5c5a9f461035"
      },
      "execution_count": null,
      "outputs": [
        {
          "output_type": "display_data",
          "data": {
            "text/plain": [
              "<Figure size 432x288 with 1 Axes>"
            ],
            "image/svg+xml": "<?xml version=\"1.0\" encoding=\"utf-8\" standalone=\"no\"?>\n<!DOCTYPE svg PUBLIC \"-//W3C//DTD SVG 1.1//EN\"\n  \"http://www.w3.org/Graphics/SVG/1.1/DTD/svg11.dtd\">\n<svg xmlns:xlink=\"http://www.w3.org/1999/xlink\" width=\"381.65pt\" height=\"248.518125pt\" viewBox=\"0 0 381.65 248.518125\" xmlns=\"http://www.w3.org/2000/svg\" version=\"1.1\">\n <metadata>\n  <rdf:RDF xmlns:dc=\"http://purl.org/dc/elements/1.1/\" xmlns:cc=\"http://creativecommons.org/ns#\" xmlns:rdf=\"http://www.w3.org/1999/02/22-rdf-syntax-ns#\">\n   <cc:Work>\n    <dc:type rdf:resource=\"http://purl.org/dc/dcmitype/StillImage\"/>\n    <dc:date>2023-03-01T18:06:41.242441</dc:date>\n    <dc:format>image/svg+xml</dc:format>\n    <dc:creator>\n     <cc:Agent>\n      <dc:title>Matplotlib v3.5.3, https://matplotlib.org/</dc:title>\n     </cc:Agent>\n    </dc:creator>\n   </cc:Work>\n  </rdf:RDF>\n </metadata>\n <defs>\n  <style type=\"text/css\">*{stroke-linejoin: round; stroke-linecap: butt}</style>\n </defs>\n <g id=\"figure_1\">\n  <g id=\"patch_1\">\n   <path d=\"M -0 248.518125 \nL 381.65 248.518125 \nL 381.65 0 \nL -0 0 \nL -0 248.518125 \nz\n\" style=\"fill: none\"/>\n  </g>\n  <g id=\"axes_1\">\n   <g id=\"patch_2\">\n    <path d=\"M 39.65 224.64 \nL 374.45 224.64 \nL 374.45 7.2 \nL 39.65 7.2 \nz\n\" style=\"fill: #ffffff\"/>\n   </g>\n   <g id=\"patch_3\">\n    <path d=\"M 54.868182 224.64 \nL 55.782187 224.64 \nL 55.782187 17.554286 \nL 54.868182 17.554286 \nz\n\" clip-path=\"url(#pb2cbea511d)\" style=\"fill: #1f77b4\"/>\n   </g>\n   <g id=\"patch_4\">\n    <path d=\"M 55.782187 224.64 \nL 56.696192 224.64 \nL 56.696192 224.64 \nL 55.782187 224.64 \nz\n\" clip-path=\"url(#pb2cbea511d)\" style=\"fill: #1f77b4\"/>\n   </g>\n   <g id=\"patch_5\">\n    <path d=\"M 56.696192 224.64 \nL 57.610197 224.64 \nL 57.610197 182.589 \nL 56.696192 182.589 \nz\n\" clip-path=\"url(#pb2cbea511d)\" style=\"fill: #1f77b4\"/>\n   </g>\n   <g id=\"patch_6\">\n    <path d=\"M 57.610197 224.64 \nL 58.524201 224.64 \nL 58.524201 224.64 \nL 57.610197 224.64 \nz\n\" clip-path=\"url(#pb2cbea511d)\" style=\"fill: #1f77b4\"/>\n   </g>\n   <g id=\"patch_7\">\n    <path d=\"M 58.524201 224.64 \nL 59.438206 224.64 \nL 59.438206 224.64 \nL 58.524201 224.64 \nz\n\" clip-path=\"url(#pb2cbea511d)\" style=\"fill: #1f77b4\"/>\n   </g>\n   <g id=\"patch_8\">\n    <path d=\"M 59.438206 224.64 \nL 60.352211 224.64 \nL 60.352211 206.629186 \nL 59.438206 206.629186 \nz\n\" clip-path=\"url(#pb2cbea511d)\" style=\"fill: #1f77b4\"/>\n   </g>\n   <g id=\"patch_9\">\n    <path d=\"M 60.352211 224.64 \nL 61.266216 224.64 \nL 61.266216 224.64 \nL 60.352211 224.64 \nz\n\" clip-path=\"url(#pb2cbea511d)\" style=\"fill: #1f77b4\"/>\n   </g>\n   <g id=\"patch_10\">\n    <path d=\"M 61.266216 224.64 \nL 62.180221 224.64 \nL 62.180221 224.64 \nL 61.266216 224.64 \nz\n\" clip-path=\"url(#pb2cbea511d)\" style=\"fill: #1f77b4\"/>\n   </g>\n   <g id=\"patch_11\">\n    <path d=\"M 62.180221 224.64 \nL 63.094226 224.64 \nL 63.094226 213.740752 \nL 62.180221 213.740752 \nz\n\" clip-path=\"url(#pb2cbea511d)\" style=\"fill: #1f77b4\"/>\n   </g>\n   <g id=\"patch_12\">\n    <path d=\"M 63.094226 224.64 \nL 64.008231 224.64 \nL 64.008231 224.64 \nL 63.094226 224.64 \nz\n\" clip-path=\"url(#pb2cbea511d)\" style=\"fill: #1f77b4\"/>\n   </g>\n   <g id=\"patch_13\">\n    <path d=\"M 64.008231 224.64 \nL 64.922236 224.64 \nL 64.922236 224.64 \nL 64.008231 224.64 \nz\n\" clip-path=\"url(#pb2cbea511d)\" style=\"fill: #1f77b4\"/>\n   </g>\n   <g id=\"patch_14\">\n    <path d=\"M 64.922236 224.64 \nL 65.836241 224.64 \nL 65.836241 217.914932 \nL 64.922236 217.914932 \nz\n\" clip-path=\"url(#pb2cbea511d)\" style=\"fill: #1f77b4\"/>\n   </g>\n   <g id=\"patch_15\">\n    <path d=\"M 65.836241 224.64 \nL 66.750246 224.64 \nL 66.750246 224.64 \nL 65.836241 224.64 \nz\n\" clip-path=\"url(#pb2cbea511d)\" style=\"fill: #1f77b4\"/>\n   </g>\n   <g id=\"patch_16\">\n    <path d=\"M 66.750246 224.64 \nL 67.664251 224.64 \nL 67.664251 224.64 \nL 66.750246 224.64 \nz\n\" clip-path=\"url(#pb2cbea511d)\" style=\"fill: #1f77b4\"/>\n   </g>\n   <g id=\"patch_17\">\n    <path d=\"M 67.664251 224.64 \nL 68.578256 224.64 \nL 68.578256 221.161517 \nL 67.664251 221.161517 \nz\n\" clip-path=\"url(#pb2cbea511d)\" style=\"fill: #1f77b4\"/>\n   </g>\n   <g id=\"patch_18\">\n    <path d=\"M 68.578256 224.64 \nL 69.49226 224.64 \nL 69.49226 224.64 \nL 68.578256 224.64 \nz\n\" clip-path=\"url(#pb2cbea511d)\" style=\"fill: #1f77b4\"/>\n   </g>\n   <g id=\"patch_19\">\n    <path d=\"M 69.49226 224.64 \nL 70.406265 224.64 \nL 70.406265 224.64 \nL 69.49226 224.64 \nz\n\" clip-path=\"url(#pb2cbea511d)\" style=\"fill: #1f77b4\"/>\n   </g>\n   <g id=\"patch_20\">\n    <path d=\"M 70.406265 224.64 \nL 71.32027 224.64 \nL 71.32027 221.393415 \nL 70.406265 221.393415 \nz\n\" clip-path=\"url(#pb2cbea511d)\" style=\"fill: #1f77b4\"/>\n   </g>\n   <g id=\"patch_21\">\n    <path d=\"M 71.32027 224.64 \nL 72.234275 224.64 \nL 72.234275 224.64 \nL 71.32027 224.64 \nz\n\" clip-path=\"url(#pb2cbea511d)\" style=\"fill: #1f77b4\"/>\n   </g>\n   <g id=\"patch_22\">\n    <path d=\"M 72.234275 224.64 \nL 73.14828 224.64 \nL 73.14828 224.64 \nL 72.234275 224.64 \nz\n\" clip-path=\"url(#pb2cbea511d)\" style=\"fill: #1f77b4\"/>\n   </g>\n   <g id=\"patch_23\">\n    <path d=\"M 73.14828 224.64 \nL 74.062285 224.64 \nL 74.062285 222.398311 \nL 73.14828 222.398311 \nz\n\" clip-path=\"url(#pb2cbea511d)\" style=\"fill: #1f77b4\"/>\n   </g>\n   <g id=\"patch_24\">\n    <path d=\"M 74.062285 224.64 \nL 74.97629 224.64 \nL 74.97629 224.64 \nL 74.062285 224.64 \nz\n\" clip-path=\"url(#pb2cbea511d)\" style=\"fill: #1f77b4\"/>\n   </g>\n   <g id=\"patch_25\">\n    <path d=\"M 74.97629 224.64 \nL 75.890295 224.64 \nL 75.890295 224.64 \nL 74.97629 224.64 \nz\n\" clip-path=\"url(#pb2cbea511d)\" style=\"fill: #1f77b4\"/>\n   </g>\n   <g id=\"patch_26\">\n    <path d=\"M 75.890295 224.64 \nL 76.8043 224.64 \nL 76.8043 222.939408 \nL 75.890295 222.939408 \nz\n\" clip-path=\"url(#pb2cbea511d)\" style=\"fill: #1f77b4\"/>\n   </g>\n   <g id=\"patch_27\">\n    <path d=\"M 76.8043 224.64 \nL 77.718305 224.64 \nL 77.718305 224.64 \nL 76.8043 224.64 \nz\n\" clip-path=\"url(#pb2cbea511d)\" style=\"fill: #1f77b4\"/>\n   </g>\n   <g id=\"patch_28\">\n    <path d=\"M 77.718305 224.64 \nL 78.63231 224.64 \nL 78.63231 224.64 \nL 77.718305 224.64 \nz\n\" clip-path=\"url(#pb2cbea511d)\" style=\"fill: #1f77b4\"/>\n   </g>\n   <g id=\"patch_29\">\n    <path d=\"M 78.63231 224.64 \nL 79.546314 224.64 \nL 79.546314 223.557805 \nL 78.63231 223.557805 \nz\n\" clip-path=\"url(#pb2cbea511d)\" style=\"fill: #1f77b4\"/>\n   </g>\n   <g id=\"patch_30\">\n    <path d=\"M 79.546314 224.64 \nL 80.460319 224.64 \nL 80.460319 224.64 \nL 79.546314 224.64 \nz\n\" clip-path=\"url(#pb2cbea511d)\" style=\"fill: #1f77b4\"/>\n   </g>\n   <g id=\"patch_31\">\n    <path d=\"M 80.460319 224.64 \nL 81.374324 224.64 \nL 81.374324 224.64 \nL 80.460319 224.64 \nz\n\" clip-path=\"url(#pb2cbea511d)\" style=\"fill: #1f77b4\"/>\n   </g>\n   <g id=\"patch_32\">\n    <path d=\"M 81.374324 224.64 \nL 82.288329 224.64 \nL 82.288329 224.098903 \nL 81.374324 224.098903 \nz\n\" clip-path=\"url(#pb2cbea511d)\" style=\"fill: #1f77b4\"/>\n   </g>\n   <g id=\"patch_33\">\n    <path d=\"M 82.288329 224.64 \nL 83.202334 224.64 \nL 83.202334 224.64 \nL 82.288329 224.64 \nz\n\" clip-path=\"url(#pb2cbea511d)\" style=\"fill: #1f77b4\"/>\n   </g>\n   <g id=\"patch_34\">\n    <path d=\"M 83.202334 224.64 \nL 84.116339 224.64 \nL 84.116339 224.64 \nL 83.202334 224.64 \nz\n\" clip-path=\"url(#pb2cbea511d)\" style=\"fill: #1f77b4\"/>\n   </g>\n   <g id=\"patch_35\">\n    <path d=\"M 84.116339 224.64 \nL 85.030344 224.64 \nL 85.030344 223.712404 \nL 84.116339 223.712404 \nz\n\" clip-path=\"url(#pb2cbea511d)\" style=\"fill: #1f77b4\"/>\n   </g>\n   <g id=\"patch_36\">\n    <path d=\"M 85.030344 224.64 \nL 85.944349 224.64 \nL 85.944349 224.64 \nL 85.030344 224.64 \nz\n\" clip-path=\"url(#pb2cbea511d)\" style=\"fill: #1f77b4\"/>\n   </g>\n   <g id=\"patch_37\">\n    <path d=\"M 85.944349 224.64 \nL 86.858354 224.64 \nL 86.858354 224.64 \nL 85.944349 224.64 \nz\n\" clip-path=\"url(#pb2cbea511d)\" style=\"fill: #1f77b4\"/>\n   </g>\n   <g id=\"patch_38\">\n    <path d=\"M 86.858354 224.64 \nL 87.772359 224.64 \nL 87.772359 223.944303 \nL 86.858354 223.944303 \nz\n\" clip-path=\"url(#pb2cbea511d)\" style=\"fill: #1f77b4\"/>\n   </g>\n   <g id=\"patch_39\">\n    <path d=\"M 87.772359 224.64 \nL 88.686364 224.64 \nL 88.686364 224.64 \nL 87.772359 224.64 \nz\n\" clip-path=\"url(#pb2cbea511d)\" style=\"fill: #1f77b4\"/>\n   </g>\n   <g id=\"patch_40\">\n    <path d=\"M 88.686364 224.64 \nL 89.600369 224.64 \nL 89.600369 224.64 \nL 88.686364 224.64 \nz\n\" clip-path=\"url(#pb2cbea511d)\" style=\"fill: #1f77b4\"/>\n   </g>\n   <g id=\"patch_41\">\n    <path d=\"M 89.600369 224.64 \nL 90.514373 224.64 \nL 90.514373 224.021603 \nL 89.600369 224.021603 \nz\n\" clip-path=\"url(#pb2cbea511d)\" style=\"fill: #1f77b4\"/>\n   </g>\n   <g id=\"patch_42\">\n    <path d=\"M 90.514373 224.64 \nL 91.428378 224.64 \nL 91.428378 224.64 \nL 90.514373 224.64 \nz\n\" clip-path=\"url(#pb2cbea511d)\" style=\"fill: #1f77b4\"/>\n   </g>\n   <g id=\"patch_43\">\n    <path d=\"M 91.428378 224.64 \nL 92.342383 224.64 \nL 92.342383 224.64 \nL 91.428378 224.64 \nz\n\" clip-path=\"url(#pb2cbea511d)\" style=\"fill: #1f77b4\"/>\n   </g>\n   <g id=\"patch_44\">\n    <path d=\"M 92.342383 224.64 \nL 93.256388 224.64 \nL 93.256388 224.098903 \nL 92.342383 224.098903 \nz\n\" clip-path=\"url(#pb2cbea511d)\" style=\"fill: #1f77b4\"/>\n   </g>\n   <g id=\"patch_45\">\n    <path d=\"M 93.256388 224.64 \nL 94.170393 224.64 \nL 94.170393 224.64 \nL 93.256388 224.64 \nz\n\" clip-path=\"url(#pb2cbea511d)\" style=\"fill: #1f77b4\"/>\n   </g>\n   <g id=\"patch_46\">\n    <path d=\"M 94.170393 224.64 \nL 95.084398 224.64 \nL 95.084398 224.64 \nL 94.170393 224.64 \nz\n\" clip-path=\"url(#pb2cbea511d)\" style=\"fill: #1f77b4\"/>\n   </g>\n   <g id=\"patch_47\">\n    <path d=\"M 95.084398 224.64 \nL 95.998403 224.64 \nL 95.998403 224.330801 \nL 95.084398 224.330801 \nz\n\" clip-path=\"url(#pb2cbea511d)\" style=\"fill: #1f77b4\"/>\n   </g>\n   <g id=\"patch_48\">\n    <path d=\"M 95.998403 224.64 \nL 96.912408 224.64 \nL 96.912408 224.64 \nL 95.998403 224.64 \nz\n\" clip-path=\"url(#pb2cbea511d)\" style=\"fill: #1f77b4\"/>\n   </g>\n   <g id=\"patch_49\">\n    <path d=\"M 96.912408 224.64 \nL 97.826413 224.64 \nL 97.826413 224.64 \nL 96.912408 224.64 \nz\n\" clip-path=\"url(#pb2cbea511d)\" style=\"fill: #1f77b4\"/>\n   </g>\n   <g id=\"patch_50\">\n    <path d=\"M 97.826413 224.64 \nL 98.740418 224.64 \nL 98.740418 224.408101 \nL 97.826413 224.408101 \nz\n\" clip-path=\"url(#pb2cbea511d)\" style=\"fill: #1f77b4\"/>\n   </g>\n   <g id=\"patch_51\">\n    <path d=\"M 98.740418 224.64 \nL 99.654423 224.64 \nL 99.654423 224.64 \nL 98.740418 224.64 \nz\n\" clip-path=\"url(#pb2cbea511d)\" style=\"fill: #1f77b4\"/>\n   </g>\n   <g id=\"patch_52\">\n    <path d=\"M 99.654423 224.64 \nL 100.568428 224.64 \nL 100.568428 224.64 \nL 99.654423 224.64 \nz\n\" clip-path=\"url(#pb2cbea511d)\" style=\"fill: #1f77b4\"/>\n   </g>\n   <g id=\"patch_53\">\n    <path d=\"M 100.568428 224.64 \nL 101.482432 224.64 \nL 101.482432 224.330801 \nL 100.568428 224.330801 \nz\n\" clip-path=\"url(#pb2cbea511d)\" style=\"fill: #1f77b4\"/>\n   </g>\n   <g id=\"patch_54\">\n    <path d=\"M 101.482432 224.64 \nL 102.396437 224.64 \nL 102.396437 224.64 \nL 101.482432 224.64 \nz\n\" clip-path=\"url(#pb2cbea511d)\" style=\"fill: #1f77b4\"/>\n   </g>\n   <g id=\"patch_55\">\n    <path d=\"M 102.396437 224.64 \nL 103.310442 224.64 \nL 103.310442 224.64 \nL 102.396437 224.64 \nz\n\" clip-path=\"url(#pb2cbea511d)\" style=\"fill: #1f77b4\"/>\n   </g>\n   <g id=\"patch_56\">\n    <path d=\"M 103.310442 224.64 \nL 104.224447 224.64 \nL 104.224447 224.330801 \nL 103.310442 224.330801 \nz\n\" clip-path=\"url(#pb2cbea511d)\" style=\"fill: #1f77b4\"/>\n   </g>\n   <g id=\"patch_57\">\n    <path d=\"M 104.224447 224.64 \nL 105.138452 224.64 \nL 105.138452 224.64 \nL 104.224447 224.64 \nz\n\" clip-path=\"url(#pb2cbea511d)\" style=\"fill: #1f77b4\"/>\n   </g>\n   <g id=\"patch_58\">\n    <path d=\"M 105.138452 224.64 \nL 106.052457 224.64 \nL 106.052457 224.64 \nL 105.138452 224.64 \nz\n\" clip-path=\"url(#pb2cbea511d)\" style=\"fill: #1f77b4\"/>\n   </g>\n   <g id=\"patch_59\">\n    <path d=\"M 106.052457 224.64 \nL 106.966462 224.64 \nL 106.966462 224.253502 \nL 106.052457 224.253502 \nz\n\" clip-path=\"url(#pb2cbea511d)\" style=\"fill: #1f77b4\"/>\n   </g>\n   <g id=\"patch_60\">\n    <path d=\"M 106.966462 224.64 \nL 107.880467 224.64 \nL 107.880467 224.64 \nL 106.966462 224.64 \nz\n\" clip-path=\"url(#pb2cbea511d)\" style=\"fill: #1f77b4\"/>\n   </g>\n   <g id=\"patch_61\">\n    <path d=\"M 107.880467 224.64 \nL 108.794472 224.64 \nL 108.794472 224.64 \nL 107.880467 224.64 \nz\n\" clip-path=\"url(#pb2cbea511d)\" style=\"fill: #1f77b4\"/>\n   </g>\n   <g id=\"patch_62\">\n    <path d=\"M 108.794472 224.64 \nL 109.708477 224.64 \nL 109.708477 224.408101 \nL 108.794472 224.408101 \nz\n\" clip-path=\"url(#pb2cbea511d)\" style=\"fill: #1f77b4\"/>\n   </g>\n   <g id=\"patch_63\">\n    <path d=\"M 109.708477 224.64 \nL 110.622482 224.64 \nL 110.622482 224.64 \nL 109.708477 224.64 \nz\n\" clip-path=\"url(#pb2cbea511d)\" style=\"fill: #1f77b4\"/>\n   </g>\n   <g id=\"patch_64\">\n    <path d=\"M 110.622482 224.64 \nL 111.536486 224.64 \nL 111.536486 224.64 \nL 110.622482 224.64 \nz\n\" clip-path=\"url(#pb2cbea511d)\" style=\"fill: #1f77b4\"/>\n   </g>\n   <g id=\"patch_65\">\n    <path d=\"M 111.536486 224.64 \nL 112.450491 224.64 \nL 112.450491 224.5627 \nL 111.536486 224.5627 \nz\n\" clip-path=\"url(#pb2cbea511d)\" style=\"fill: #1f77b4\"/>\n   </g>\n   <g id=\"patch_66\">\n    <path d=\"M 112.450491 224.64 \nL 113.364496 224.64 \nL 113.364496 224.64 \nL 112.450491 224.64 \nz\n\" clip-path=\"url(#pb2cbea511d)\" style=\"fill: #1f77b4\"/>\n   </g>\n   <g id=\"patch_67\">\n    <path d=\"M 113.364496 224.64 \nL 114.278501 224.64 \nL 114.278501 224.64 \nL 113.364496 224.64 \nz\n\" clip-path=\"url(#pb2cbea511d)\" style=\"fill: #1f77b4\"/>\n   </g>\n   <g id=\"patch_68\">\n    <path d=\"M 114.278501 224.64 \nL 115.192506 224.64 \nL 115.192506 224.485401 \nL 114.278501 224.485401 \nz\n\" clip-path=\"url(#pb2cbea511d)\" style=\"fill: #1f77b4\"/>\n   </g>\n   <g id=\"patch_69\">\n    <path d=\"M 115.192506 224.64 \nL 116.106511 224.64 \nL 116.106511 224.64 \nL 115.192506 224.64 \nz\n\" clip-path=\"url(#pb2cbea511d)\" style=\"fill: #1f77b4\"/>\n   </g>\n   <g id=\"patch_70\">\n    <path d=\"M 116.106511 224.64 \nL 117.020516 224.64 \nL 117.020516 224.64 \nL 116.106511 224.64 \nz\n\" clip-path=\"url(#pb2cbea511d)\" style=\"fill: #1f77b4\"/>\n   </g>\n   <g id=\"patch_71\">\n    <path d=\"M 117.020516 224.64 \nL 117.934521 224.64 \nL 117.934521 224.408101 \nL 117.020516 224.408101 \nz\n\" clip-path=\"url(#pb2cbea511d)\" style=\"fill: #1f77b4\"/>\n   </g>\n   <g id=\"patch_72\">\n    <path d=\"M 117.934521 224.64 \nL 118.848526 224.64 \nL 118.848526 224.64 \nL 117.934521 224.64 \nz\n\" clip-path=\"url(#pb2cbea511d)\" style=\"fill: #1f77b4\"/>\n   </g>\n   <g id=\"patch_73\">\n    <path d=\"M 118.848526 224.64 \nL 119.762531 224.64 \nL 119.762531 224.64 \nL 118.848526 224.64 \nz\n\" clip-path=\"url(#pb2cbea511d)\" style=\"fill: #1f77b4\"/>\n   </g>\n   <g id=\"patch_74\">\n    <path d=\"M 119.762531 224.64 \nL 120.676536 224.64 \nL 120.676536 224.5627 \nL 119.762531 224.5627 \nz\n\" clip-path=\"url(#pb2cbea511d)\" style=\"fill: #1f77b4\"/>\n   </g>\n   <g id=\"patch_75\">\n    <path d=\"M 120.676536 224.64 \nL 121.590541 224.64 \nL 121.590541 224.64 \nL 120.676536 224.64 \nz\n\" clip-path=\"url(#pb2cbea511d)\" style=\"fill: #1f77b4\"/>\n   </g>\n   <g id=\"patch_76\">\n    <path d=\"M 121.590541 224.64 \nL 122.504545 224.64 \nL 122.504545 224.64 \nL 121.590541 224.64 \nz\n\" clip-path=\"url(#pb2cbea511d)\" style=\"fill: #1f77b4\"/>\n   </g>\n   <g id=\"patch_77\">\n    <path d=\"M 122.504545 224.64 \nL 123.41855 224.64 \nL 123.41855 224.5627 \nL 122.504545 224.5627 \nz\n\" clip-path=\"url(#pb2cbea511d)\" style=\"fill: #1f77b4\"/>\n   </g>\n   <g id=\"patch_78\">\n    <path d=\"M 123.41855 224.64 \nL 124.332555 224.64 \nL 124.332555 224.64 \nL 123.41855 224.64 \nz\n\" clip-path=\"url(#pb2cbea511d)\" style=\"fill: #1f77b4\"/>\n   </g>\n   <g id=\"patch_79\">\n    <path d=\"M 124.332555 224.64 \nL 125.24656 224.64 \nL 125.24656 224.64 \nL 124.332555 224.64 \nz\n\" clip-path=\"url(#pb2cbea511d)\" style=\"fill: #1f77b4\"/>\n   </g>\n   <g id=\"patch_80\">\n    <path d=\"M 125.24656 224.64 \nL 126.160565 224.64 \nL 126.160565 224.408101 \nL 125.24656 224.408101 \nz\n\" clip-path=\"url(#pb2cbea511d)\" style=\"fill: #1f77b4\"/>\n   </g>\n   <g id=\"patch_81\">\n    <path d=\"M 126.160565 224.64 \nL 127.07457 224.64 \nL 127.07457 224.64 \nL 126.160565 224.64 \nz\n\" clip-path=\"url(#pb2cbea511d)\" style=\"fill: #1f77b4\"/>\n   </g>\n   <g id=\"patch_82\">\n    <path d=\"M 127.07457 224.64 \nL 127.988575 224.64 \nL 127.988575 224.64 \nL 127.07457 224.64 \nz\n\" clip-path=\"url(#pb2cbea511d)\" style=\"fill: #1f77b4\"/>\n   </g>\n   <g id=\"patch_83\">\n    <path d=\"M 127.988575 224.64 \nL 128.90258 224.64 \nL 128.90258 224.64 \nL 127.988575 224.64 \nz\n\" clip-path=\"url(#pb2cbea511d)\" style=\"fill: #1f77b4\"/>\n   </g>\n   <g id=\"patch_84\">\n    <path d=\"M 128.90258 224.64 \nL 129.816585 224.64 \nL 129.816585 224.64 \nL 128.90258 224.64 \nz\n\" clip-path=\"url(#pb2cbea511d)\" style=\"fill: #1f77b4\"/>\n   </g>\n   <g id=\"patch_85\">\n    <path d=\"M 129.816585 224.64 \nL 130.73059 224.64 \nL 130.73059 224.64 \nL 129.816585 224.64 \nz\n\" clip-path=\"url(#pb2cbea511d)\" style=\"fill: #1f77b4\"/>\n   </g>\n   <g id=\"patch_86\">\n    <path d=\"M 130.73059 224.64 \nL 131.644595 224.64 \nL 131.644595 224.485401 \nL 130.73059 224.485401 \nz\n\" clip-path=\"url(#pb2cbea511d)\" style=\"fill: #1f77b4\"/>\n   </g>\n   <g id=\"patch_87\">\n    <path d=\"M 131.644595 224.64 \nL 132.5586 224.64 \nL 132.5586 224.64 \nL 131.644595 224.64 \nz\n\" clip-path=\"url(#pb2cbea511d)\" style=\"fill: #1f77b4\"/>\n   </g>\n   <g id=\"patch_88\">\n    <path d=\"M 132.5586 224.64 \nL 133.472604 224.64 \nL 133.472604 224.64 \nL 132.5586 224.64 \nz\n\" clip-path=\"url(#pb2cbea511d)\" style=\"fill: #1f77b4\"/>\n   </g>\n   <g id=\"patch_89\">\n    <path d=\"M 133.472604 224.64 \nL 134.386609 224.64 \nL 134.386609 224.64 \nL 133.472604 224.64 \nz\n\" clip-path=\"url(#pb2cbea511d)\" style=\"fill: #1f77b4\"/>\n   </g>\n   <g id=\"patch_90\">\n    <path d=\"M 134.386609 224.64 \nL 135.300614 224.64 \nL 135.300614 224.64 \nL 134.386609 224.64 \nz\n\" clip-path=\"url(#pb2cbea511d)\" style=\"fill: #1f77b4\"/>\n   </g>\n   <g id=\"patch_91\">\n    <path d=\"M 135.300614 224.64 \nL 136.214619 224.64 \nL 136.214619 224.64 \nL 135.300614 224.64 \nz\n\" clip-path=\"url(#pb2cbea511d)\" style=\"fill: #1f77b4\"/>\n   </g>\n   <g id=\"patch_92\">\n    <path d=\"M 136.214619 224.64 \nL 137.128624 224.64 \nL 137.128624 224.64 \nL 136.214619 224.64 \nz\n\" clip-path=\"url(#pb2cbea511d)\" style=\"fill: #1f77b4\"/>\n   </g>\n   <g id=\"patch_93\">\n    <path d=\"M 137.128624 224.64 \nL 138.042629 224.64 \nL 138.042629 224.64 \nL 137.128624 224.64 \nz\n\" clip-path=\"url(#pb2cbea511d)\" style=\"fill: #1f77b4\"/>\n   </g>\n   <g id=\"patch_94\">\n    <path d=\"M 138.042629 224.64 \nL 138.956634 224.64 \nL 138.956634 224.64 \nL 138.042629 224.64 \nz\n\" clip-path=\"url(#pb2cbea511d)\" style=\"fill: #1f77b4\"/>\n   </g>\n   <g id=\"patch_95\">\n    <path d=\"M 138.956634 224.64 \nL 139.870639 224.64 \nL 139.870639 224.64 \nL 138.956634 224.64 \nz\n\" clip-path=\"url(#pb2cbea511d)\" style=\"fill: #1f77b4\"/>\n   </g>\n   <g id=\"patch_96\">\n    <path d=\"M 139.870639 224.64 \nL 140.784644 224.64 \nL 140.784644 224.64 \nL 139.870639 224.64 \nz\n\" clip-path=\"url(#pb2cbea511d)\" style=\"fill: #1f77b4\"/>\n   </g>\n   <g id=\"patch_97\">\n    <path d=\"M 140.784644 224.64 \nL 141.698649 224.64 \nL 141.698649 224.64 \nL 140.784644 224.64 \nz\n\" clip-path=\"url(#pb2cbea511d)\" style=\"fill: #1f77b4\"/>\n   </g>\n   <g id=\"patch_98\">\n    <path d=\"M 141.698649 224.64 \nL 142.612654 224.64 \nL 142.612654 224.5627 \nL 141.698649 224.5627 \nz\n\" clip-path=\"url(#pb2cbea511d)\" style=\"fill: #1f77b4\"/>\n   </g>\n   <g id=\"patch_99\">\n    <path d=\"M 142.612654 224.64 \nL 143.526658 224.64 \nL 143.526658 224.64 \nL 142.612654 224.64 \nz\n\" clip-path=\"url(#pb2cbea511d)\" style=\"fill: #1f77b4\"/>\n   </g>\n   <g id=\"patch_100\">\n    <path d=\"M 143.526658 224.64 \nL 144.440663 224.64 \nL 144.440663 224.64 \nL 143.526658 224.64 \nz\n\" clip-path=\"url(#pb2cbea511d)\" style=\"fill: #1f77b4\"/>\n   </g>\n   <g id=\"patch_101\">\n    <path d=\"M 144.440663 224.64 \nL 145.354668 224.64 \nL 145.354668 224.64 \nL 144.440663 224.64 \nz\n\" clip-path=\"url(#pb2cbea511d)\" style=\"fill: #1f77b4\"/>\n   </g>\n   <g id=\"patch_102\">\n    <path d=\"M 145.354668 224.64 \nL 146.268673 224.64 \nL 146.268673 224.64 \nL 145.354668 224.64 \nz\n\" clip-path=\"url(#pb2cbea511d)\" style=\"fill: #1f77b4\"/>\n   </g>\n   <g id=\"patch_103\">\n    <path d=\"M 146.268673 224.64 \nL 147.182678 224.64 \nL 147.182678 224.64 \nL 146.268673 224.64 \nz\n\" clip-path=\"url(#pb2cbea511d)\" style=\"fill: #1f77b4\"/>\n   </g>\n   <g id=\"patch_104\">\n    <path d=\"M 147.182678 224.64 \nL 148.096683 224.64 \nL 148.096683 224.5627 \nL 147.182678 224.5627 \nz\n\" clip-path=\"url(#pb2cbea511d)\" style=\"fill: #1f77b4\"/>\n   </g>\n   <g id=\"patch_105\">\n    <path d=\"M 148.096683 224.64 \nL 149.010688 224.64 \nL 149.010688 224.64 \nL 148.096683 224.64 \nz\n\" clip-path=\"url(#pb2cbea511d)\" style=\"fill: #1f77b4\"/>\n   </g>\n   <g id=\"patch_106\">\n    <path d=\"M 149.010688 224.64 \nL 149.924693 224.64 \nL 149.924693 224.64 \nL 149.010688 224.64 \nz\n\" clip-path=\"url(#pb2cbea511d)\" style=\"fill: #1f77b4\"/>\n   </g>\n   <g id=\"patch_107\">\n    <path d=\"M 149.924693 224.64 \nL 150.838698 224.64 \nL 150.838698 224.64 \nL 149.924693 224.64 \nz\n\" clip-path=\"url(#pb2cbea511d)\" style=\"fill: #1f77b4\"/>\n   </g>\n   <g id=\"patch_108\">\n    <path d=\"M 150.838698 224.64 \nL 151.752703 224.64 \nL 151.752703 224.64 \nL 150.838698 224.64 \nz\n\" clip-path=\"url(#pb2cbea511d)\" style=\"fill: #1f77b4\"/>\n   </g>\n   <g id=\"patch_109\">\n    <path d=\"M 151.752703 224.64 \nL 152.666708 224.64 \nL 152.666708 224.64 \nL 151.752703 224.64 \nz\n\" clip-path=\"url(#pb2cbea511d)\" style=\"fill: #1f77b4\"/>\n   </g>\n   <g id=\"patch_110\">\n    <path d=\"M 152.666708 224.64 \nL 153.580713 224.64 \nL 153.580713 224.5627 \nL 152.666708 224.5627 \nz\n\" clip-path=\"url(#pb2cbea511d)\" style=\"fill: #1f77b4\"/>\n   </g>\n   <g id=\"patch_111\">\n    <path d=\"M 153.580713 224.64 \nL 154.494717 224.64 \nL 154.494717 224.64 \nL 153.580713 224.64 \nz\n\" clip-path=\"url(#pb2cbea511d)\" style=\"fill: #1f77b4\"/>\n   </g>\n   <g id=\"patch_112\">\n    <path d=\"M 154.494717 224.64 \nL 155.408722 224.64 \nL 155.408722 224.64 \nL 154.494717 224.64 \nz\n\" clip-path=\"url(#pb2cbea511d)\" style=\"fill: #1f77b4\"/>\n   </g>\n   <g id=\"patch_113\">\n    <path d=\"M 155.408722 224.64 \nL 156.322727 224.64 \nL 156.322727 224.64 \nL 155.408722 224.64 \nz\n\" clip-path=\"url(#pb2cbea511d)\" style=\"fill: #1f77b4\"/>\n   </g>\n   <g id=\"patch_114\">\n    <path d=\"M 156.322727 224.64 \nL 157.236732 224.64 \nL 157.236732 224.64 \nL 156.322727 224.64 \nz\n\" clip-path=\"url(#pb2cbea511d)\" style=\"fill: #1f77b4\"/>\n   </g>\n   <g id=\"patch_115\">\n    <path d=\"M 157.236732 224.64 \nL 158.150737 224.64 \nL 158.150737 224.5627 \nL 157.236732 224.5627 \nz\n\" clip-path=\"url(#pb2cbea511d)\" style=\"fill: #1f77b4\"/>\n   </g>\n   <g id=\"patch_116\">\n    <path d=\"M 158.150737 224.64 \nL 159.064742 224.64 \nL 159.064742 224.64 \nL 158.150737 224.64 \nz\n\" clip-path=\"url(#pb2cbea511d)\" style=\"fill: #1f77b4\"/>\n   </g>\n   <g id=\"patch_117\">\n    <path d=\"M 159.064742 224.64 \nL 159.978747 224.64 \nL 159.978747 224.64 \nL 159.064742 224.64 \nz\n\" clip-path=\"url(#pb2cbea511d)\" style=\"fill: #1f77b4\"/>\n   </g>\n   <g id=\"patch_118\">\n    <path d=\"M 159.978747 224.64 \nL 160.892752 224.64 \nL 160.892752 224.485401 \nL 159.978747 224.485401 \nz\n\" clip-path=\"url(#pb2cbea511d)\" style=\"fill: #1f77b4\"/>\n   </g>\n   <g id=\"patch_119\">\n    <path d=\"M 160.892752 224.64 \nL 161.806757 224.64 \nL 161.806757 224.64 \nL 160.892752 224.64 \nz\n\" clip-path=\"url(#pb2cbea511d)\" style=\"fill: #1f77b4\"/>\n   </g>\n   <g id=\"patch_120\">\n    <path d=\"M 161.806757 224.64 \nL 162.720762 224.64 \nL 162.720762 224.64 \nL 161.806757 224.64 \nz\n\" clip-path=\"url(#pb2cbea511d)\" style=\"fill: #1f77b4\"/>\n   </g>\n   <g id=\"patch_121\">\n    <path d=\"M 162.720762 224.64 \nL 163.634767 224.64 \nL 163.634767 224.64 \nL 162.720762 224.64 \nz\n\" clip-path=\"url(#pb2cbea511d)\" style=\"fill: #1f77b4\"/>\n   </g>\n   <g id=\"patch_122\">\n    <path d=\"M 163.634767 224.64 \nL 164.548771 224.64 \nL 164.548771 224.64 \nL 163.634767 224.64 \nz\n\" clip-path=\"url(#pb2cbea511d)\" style=\"fill: #1f77b4\"/>\n   </g>\n   <g id=\"patch_123\">\n    <path d=\"M 164.548771 224.64 \nL 165.462776 224.64 \nL 165.462776 224.64 \nL 164.548771 224.64 \nz\n\" clip-path=\"url(#pb2cbea511d)\" style=\"fill: #1f77b4\"/>\n   </g>\n   <g id=\"patch_124\">\n    <path d=\"M 165.462776 224.64 \nL 166.376781 224.64 \nL 166.376781 224.64 \nL 165.462776 224.64 \nz\n\" clip-path=\"url(#pb2cbea511d)\" style=\"fill: #1f77b4\"/>\n   </g>\n   <g id=\"patch_125\">\n    <path d=\"M 166.376781 224.64 \nL 167.290786 224.64 \nL 167.290786 224.64 \nL 166.376781 224.64 \nz\n\" clip-path=\"url(#pb2cbea511d)\" style=\"fill: #1f77b4\"/>\n   </g>\n   <g id=\"patch_126\">\n    <path d=\"M 167.290786 224.64 \nL 168.204791 224.64 \nL 168.204791 224.64 \nL 167.290786 224.64 \nz\n\" clip-path=\"url(#pb2cbea511d)\" style=\"fill: #1f77b4\"/>\n   </g>\n   <g id=\"patch_127\">\n    <path d=\"M 168.204791 224.64 \nL 169.118796 224.64 \nL 169.118796 224.5627 \nL 168.204791 224.5627 \nz\n\" clip-path=\"url(#pb2cbea511d)\" style=\"fill: #1f77b4\"/>\n   </g>\n   <g id=\"patch_128\">\n    <path d=\"M 169.118796 224.64 \nL 170.032801 224.64 \nL 170.032801 224.64 \nL 169.118796 224.64 \nz\n\" clip-path=\"url(#pb2cbea511d)\" style=\"fill: #1f77b4\"/>\n   </g>\n   <g id=\"patch_129\">\n    <path d=\"M 170.032801 224.64 \nL 170.946806 224.64 \nL 170.946806 224.64 \nL 170.032801 224.64 \nz\n\" clip-path=\"url(#pb2cbea511d)\" style=\"fill: #1f77b4\"/>\n   </g>\n   <g id=\"patch_130\">\n    <path d=\"M 170.946806 224.64 \nL 171.860811 224.64 \nL 171.860811 224.64 \nL 170.946806 224.64 \nz\n\" clip-path=\"url(#pb2cbea511d)\" style=\"fill: #1f77b4\"/>\n   </g>\n   <g id=\"patch_131\">\n    <path d=\"M 171.860811 224.64 \nL 172.774816 224.64 \nL 172.774816 224.64 \nL 171.860811 224.64 \nz\n\" clip-path=\"url(#pb2cbea511d)\" style=\"fill: #1f77b4\"/>\n   </g>\n   <g id=\"patch_132\">\n    <path d=\"M 172.774816 224.64 \nL 173.688821 224.64 \nL 173.688821 224.64 \nL 172.774816 224.64 \nz\n\" clip-path=\"url(#pb2cbea511d)\" style=\"fill: #1f77b4\"/>\n   </g>\n   <g id=\"patch_133\">\n    <path d=\"M 173.688821 224.64 \nL 174.602826 224.64 \nL 174.602826 224.64 \nL 173.688821 224.64 \nz\n\" clip-path=\"url(#pb2cbea511d)\" style=\"fill: #1f77b4\"/>\n   </g>\n   <g id=\"patch_134\">\n    <path d=\"M 174.602826 224.64 \nL 175.51683 224.64 \nL 175.51683 224.64 \nL 174.602826 224.64 \nz\n\" clip-path=\"url(#pb2cbea511d)\" style=\"fill: #1f77b4\"/>\n   </g>\n   <g id=\"patch_135\">\n    <path d=\"M 175.51683 224.64 \nL 176.430835 224.64 \nL 176.430835 224.64 \nL 175.51683 224.64 \nz\n\" clip-path=\"url(#pb2cbea511d)\" style=\"fill: #1f77b4\"/>\n   </g>\n   <g id=\"patch_136\">\n    <path d=\"M 176.430835 224.64 \nL 177.34484 224.64 \nL 177.34484 224.64 \nL 176.430835 224.64 \nz\n\" clip-path=\"url(#pb2cbea511d)\" style=\"fill: #1f77b4\"/>\n   </g>\n   <g id=\"patch_137\">\n    <path d=\"M 177.34484 224.64 \nL 178.258845 224.64 \nL 178.258845 224.64 \nL 177.34484 224.64 \nz\n\" clip-path=\"url(#pb2cbea511d)\" style=\"fill: #1f77b4\"/>\n   </g>\n   <g id=\"patch_138\">\n    <path d=\"M 178.258845 224.64 \nL 179.17285 224.64 \nL 179.17285 224.64 \nL 178.258845 224.64 \nz\n\" clip-path=\"url(#pb2cbea511d)\" style=\"fill: #1f77b4\"/>\n   </g>\n   <g id=\"patch_139\">\n    <path d=\"M 179.17285 224.64 \nL 180.086855 224.64 \nL 180.086855 224.64 \nL 179.17285 224.64 \nz\n\" clip-path=\"url(#pb2cbea511d)\" style=\"fill: #1f77b4\"/>\n   </g>\n   <g id=\"patch_140\">\n    <path d=\"M 180.086855 224.64 \nL 181.00086 224.64 \nL 181.00086 224.64 \nL 180.086855 224.64 \nz\n\" clip-path=\"url(#pb2cbea511d)\" style=\"fill: #1f77b4\"/>\n   </g>\n   <g id=\"patch_141\">\n    <path d=\"M 181.00086 224.64 \nL 181.914865 224.64 \nL 181.914865 224.64 \nL 181.00086 224.64 \nz\n\" clip-path=\"url(#pb2cbea511d)\" style=\"fill: #1f77b4\"/>\n   </g>\n   <g id=\"patch_142\">\n    <path d=\"M 181.914865 224.64 \nL 182.82887 224.64 \nL 182.82887 224.64 \nL 181.914865 224.64 \nz\n\" clip-path=\"url(#pb2cbea511d)\" style=\"fill: #1f77b4\"/>\n   </g>\n   <g id=\"patch_143\">\n    <path d=\"M 182.82887 224.64 \nL 183.742875 224.64 \nL 183.742875 224.64 \nL 182.82887 224.64 \nz\n\" clip-path=\"url(#pb2cbea511d)\" style=\"fill: #1f77b4\"/>\n   </g>\n   <g id=\"patch_144\">\n    <path d=\"M 183.742875 224.64 \nL 184.65688 224.64 \nL 184.65688 224.64 \nL 183.742875 224.64 \nz\n\" clip-path=\"url(#pb2cbea511d)\" style=\"fill: #1f77b4\"/>\n   </g>\n   <g id=\"patch_145\">\n    <path d=\"M 184.65688 224.64 \nL 185.570885 224.64 \nL 185.570885 224.64 \nL 184.65688 224.64 \nz\n\" clip-path=\"url(#pb2cbea511d)\" style=\"fill: #1f77b4\"/>\n   </g>\n   <g id=\"patch_146\">\n    <path d=\"M 185.570885 224.64 \nL 186.484889 224.64 \nL 186.484889 224.64 \nL 185.570885 224.64 \nz\n\" clip-path=\"url(#pb2cbea511d)\" style=\"fill: #1f77b4\"/>\n   </g>\n   <g id=\"patch_147\">\n    <path d=\"M 186.484889 224.64 \nL 187.398894 224.64 \nL 187.398894 224.64 \nL 186.484889 224.64 \nz\n\" clip-path=\"url(#pb2cbea511d)\" style=\"fill: #1f77b4\"/>\n   </g>\n   <g id=\"patch_148\">\n    <path d=\"M 187.398894 224.64 \nL 188.312899 224.64 \nL 188.312899 224.64 \nL 187.398894 224.64 \nz\n\" clip-path=\"url(#pb2cbea511d)\" style=\"fill: #1f77b4\"/>\n   </g>\n   <g id=\"patch_149\">\n    <path d=\"M 188.312899 224.64 \nL 189.226904 224.64 \nL 189.226904 224.64 \nL 188.312899 224.64 \nz\n\" clip-path=\"url(#pb2cbea511d)\" style=\"fill: #1f77b4\"/>\n   </g>\n   <g id=\"patch_150\">\n    <path d=\"M 189.226904 224.64 \nL 190.140909 224.64 \nL 190.140909 224.64 \nL 189.226904 224.64 \nz\n\" clip-path=\"url(#pb2cbea511d)\" style=\"fill: #1f77b4\"/>\n   </g>\n   <g id=\"patch_151\">\n    <path d=\"M 190.140909 224.64 \nL 191.054914 224.64 \nL 191.054914 224.64 \nL 190.140909 224.64 \nz\n\" clip-path=\"url(#pb2cbea511d)\" style=\"fill: #1f77b4\"/>\n   </g>\n   <g id=\"patch_152\">\n    <path d=\"M 191.054914 224.64 \nL 191.968919 224.64 \nL 191.968919 224.64 \nL 191.054914 224.64 \nz\n\" clip-path=\"url(#pb2cbea511d)\" style=\"fill: #1f77b4\"/>\n   </g>\n   <g id=\"patch_153\">\n    <path d=\"M 191.968919 224.64 \nL 192.882924 224.64 \nL 192.882924 224.64 \nL 191.968919 224.64 \nz\n\" clip-path=\"url(#pb2cbea511d)\" style=\"fill: #1f77b4\"/>\n   </g>\n   <g id=\"patch_154\">\n    <path d=\"M 192.882924 224.64 \nL 193.796929 224.64 \nL 193.796929 224.64 \nL 192.882924 224.64 \nz\n\" clip-path=\"url(#pb2cbea511d)\" style=\"fill: #1f77b4\"/>\n   </g>\n   <g id=\"patch_155\">\n    <path d=\"M 193.796929 224.64 \nL 194.710934 224.64 \nL 194.710934 224.64 \nL 193.796929 224.64 \nz\n\" clip-path=\"url(#pb2cbea511d)\" style=\"fill: #1f77b4\"/>\n   </g>\n   <g id=\"patch_156\">\n    <path d=\"M 194.710934 224.64 \nL 195.624939 224.64 \nL 195.624939 224.64 \nL 194.710934 224.64 \nz\n\" clip-path=\"url(#pb2cbea511d)\" style=\"fill: #1f77b4\"/>\n   </g>\n   <g id=\"patch_157\">\n    <path d=\"M 195.624939 224.64 \nL 196.538943 224.64 \nL 196.538943 224.64 \nL 195.624939 224.64 \nz\n\" clip-path=\"url(#pb2cbea511d)\" style=\"fill: #1f77b4\"/>\n   </g>\n   <g id=\"patch_158\">\n    <path d=\"M 196.538943 224.64 \nL 197.452948 224.64 \nL 197.452948 224.64 \nL 196.538943 224.64 \nz\n\" clip-path=\"url(#pb2cbea511d)\" style=\"fill: #1f77b4\"/>\n   </g>\n   <g id=\"patch_159\">\n    <path d=\"M 197.452948 224.64 \nL 198.366953 224.64 \nL 198.366953 224.64 \nL 197.452948 224.64 \nz\n\" clip-path=\"url(#pb2cbea511d)\" style=\"fill: #1f77b4\"/>\n   </g>\n   <g id=\"patch_160\">\n    <path d=\"M 198.366953 224.64 \nL 199.280958 224.64 \nL 199.280958 224.64 \nL 198.366953 224.64 \nz\n\" clip-path=\"url(#pb2cbea511d)\" style=\"fill: #1f77b4\"/>\n   </g>\n   <g id=\"patch_161\">\n    <path d=\"M 199.280958 224.64 \nL 200.194963 224.64 \nL 200.194963 224.64 \nL 199.280958 224.64 \nz\n\" clip-path=\"url(#pb2cbea511d)\" style=\"fill: #1f77b4\"/>\n   </g>\n   <g id=\"patch_162\">\n    <path d=\"M 200.194963 224.64 \nL 201.108968 224.64 \nL 201.108968 224.64 \nL 200.194963 224.64 \nz\n\" clip-path=\"url(#pb2cbea511d)\" style=\"fill: #1f77b4\"/>\n   </g>\n   <g id=\"patch_163\">\n    <path d=\"M 201.108968 224.64 \nL 202.022973 224.64 \nL 202.022973 224.64 \nL 201.108968 224.64 \nz\n\" clip-path=\"url(#pb2cbea511d)\" style=\"fill: #1f77b4\"/>\n   </g>\n   <g id=\"patch_164\">\n    <path d=\"M 202.022973 224.64 \nL 202.936978 224.64 \nL 202.936978 224.64 \nL 202.022973 224.64 \nz\n\" clip-path=\"url(#pb2cbea511d)\" style=\"fill: #1f77b4\"/>\n   </g>\n   <g id=\"patch_165\">\n    <path d=\"M 202.936978 224.64 \nL 203.850983 224.64 \nL 203.850983 224.64 \nL 202.936978 224.64 \nz\n\" clip-path=\"url(#pb2cbea511d)\" style=\"fill: #1f77b4\"/>\n   </g>\n   <g id=\"patch_166\">\n    <path d=\"M 203.850983 224.64 \nL 204.764988 224.64 \nL 204.764988 224.64 \nL 203.850983 224.64 \nz\n\" clip-path=\"url(#pb2cbea511d)\" style=\"fill: #1f77b4\"/>\n   </g>\n   <g id=\"patch_167\">\n    <path d=\"M 204.764988 224.64 \nL 205.678993 224.64 \nL 205.678993 224.64 \nL 204.764988 224.64 \nz\n\" clip-path=\"url(#pb2cbea511d)\" style=\"fill: #1f77b4\"/>\n   </g>\n   <g id=\"patch_168\">\n    <path d=\"M 205.678993 224.64 \nL 206.592998 224.64 \nL 206.592998 224.64 \nL 205.678993 224.64 \nz\n\" clip-path=\"url(#pb2cbea511d)\" style=\"fill: #1f77b4\"/>\n   </g>\n   <g id=\"patch_169\">\n    <path d=\"M 206.592998 224.64 \nL 207.507002 224.64 \nL 207.507002 224.64 \nL 206.592998 224.64 \nz\n\" clip-path=\"url(#pb2cbea511d)\" style=\"fill: #1f77b4\"/>\n   </g>\n   <g id=\"patch_170\">\n    <path d=\"M 207.507002 224.64 \nL 208.421007 224.64 \nL 208.421007 224.64 \nL 207.507002 224.64 \nz\n\" clip-path=\"url(#pb2cbea511d)\" style=\"fill: #1f77b4\"/>\n   </g>\n   <g id=\"patch_171\">\n    <path d=\"M 208.421007 224.64 \nL 209.335012 224.64 \nL 209.335012 224.64 \nL 208.421007 224.64 \nz\n\" clip-path=\"url(#pb2cbea511d)\" style=\"fill: #1f77b4\"/>\n   </g>\n   <g id=\"patch_172\">\n    <path d=\"M 209.335012 224.64 \nL 210.249017 224.64 \nL 210.249017 224.64 \nL 209.335012 224.64 \nz\n\" clip-path=\"url(#pb2cbea511d)\" style=\"fill: #1f77b4\"/>\n   </g>\n   <g id=\"patch_173\">\n    <path d=\"M 210.249017 224.64 \nL 211.163022 224.64 \nL 211.163022 224.64 \nL 210.249017 224.64 \nz\n\" clip-path=\"url(#pb2cbea511d)\" style=\"fill: #1f77b4\"/>\n   </g>\n   <g id=\"patch_174\">\n    <path d=\"M 211.163022 224.64 \nL 212.077027 224.64 \nL 212.077027 224.64 \nL 211.163022 224.64 \nz\n\" clip-path=\"url(#pb2cbea511d)\" style=\"fill: #1f77b4\"/>\n   </g>\n   <g id=\"patch_175\">\n    <path d=\"M 212.077027 224.64 \nL 212.991032 224.64 \nL 212.991032 224.64 \nL 212.077027 224.64 \nz\n\" clip-path=\"url(#pb2cbea511d)\" style=\"fill: #1f77b4\"/>\n   </g>\n   <g id=\"patch_176\">\n    <path d=\"M 212.991032 224.64 \nL 213.905037 224.64 \nL 213.905037 224.64 \nL 212.991032 224.64 \nz\n\" clip-path=\"url(#pb2cbea511d)\" style=\"fill: #1f77b4\"/>\n   </g>\n   <g id=\"patch_177\">\n    <path d=\"M 213.905037 224.64 \nL 214.819042 224.64 \nL 214.819042 224.64 \nL 213.905037 224.64 \nz\n\" clip-path=\"url(#pb2cbea511d)\" style=\"fill: #1f77b4\"/>\n   </g>\n   <g id=\"patch_178\">\n    <path d=\"M 214.819042 224.64 \nL 215.733047 224.64 \nL 215.733047 224.64 \nL 214.819042 224.64 \nz\n\" clip-path=\"url(#pb2cbea511d)\" style=\"fill: #1f77b4\"/>\n   </g>\n   <g id=\"patch_179\">\n    <path d=\"M 215.733047 224.64 \nL 216.647052 224.64 \nL 216.647052 224.64 \nL 215.733047 224.64 \nz\n\" clip-path=\"url(#pb2cbea511d)\" style=\"fill: #1f77b4\"/>\n   </g>\n   <g id=\"patch_180\">\n    <path d=\"M 216.647052 224.64 \nL 217.561057 224.64 \nL 217.561057 224.64 \nL 216.647052 224.64 \nz\n\" clip-path=\"url(#pb2cbea511d)\" style=\"fill: #1f77b4\"/>\n   </g>\n   <g id=\"patch_181\">\n    <path d=\"M 217.561057 224.64 \nL 218.475061 224.64 \nL 218.475061 224.5627 \nL 217.561057 224.5627 \nz\n\" clip-path=\"url(#pb2cbea511d)\" style=\"fill: #1f77b4\"/>\n   </g>\n   <g id=\"patch_182\">\n    <path d=\"M 218.475061 224.64 \nL 219.389066 224.64 \nL 219.389066 224.64 \nL 218.475061 224.64 \nz\n\" clip-path=\"url(#pb2cbea511d)\" style=\"fill: #1f77b4\"/>\n   </g>\n   <g id=\"patch_183\">\n    <path d=\"M 219.389066 224.64 \nL 220.303071 224.64 \nL 220.303071 224.64 \nL 219.389066 224.64 \nz\n\" clip-path=\"url(#pb2cbea511d)\" style=\"fill: #1f77b4\"/>\n   </g>\n   <g id=\"patch_184\">\n    <path d=\"M 220.303071 224.64 \nL 221.217076 224.64 \nL 221.217076 224.64 \nL 220.303071 224.64 \nz\n\" clip-path=\"url(#pb2cbea511d)\" style=\"fill: #1f77b4\"/>\n   </g>\n   <g id=\"patch_185\">\n    <path d=\"M 221.217076 224.64 \nL 222.131081 224.64 \nL 222.131081 224.64 \nL 221.217076 224.64 \nz\n\" clip-path=\"url(#pb2cbea511d)\" style=\"fill: #1f77b4\"/>\n   </g>\n   <g id=\"patch_186\">\n    <path d=\"M 222.131081 224.64 \nL 223.045086 224.64 \nL 223.045086 224.64 \nL 222.131081 224.64 \nz\n\" clip-path=\"url(#pb2cbea511d)\" style=\"fill: #1f77b4\"/>\n   </g>\n   <g id=\"patch_187\">\n    <path d=\"M 223.045086 224.64 \nL 223.959091 224.64 \nL 223.959091 224.64 \nL 223.045086 224.64 \nz\n\" clip-path=\"url(#pb2cbea511d)\" style=\"fill: #1f77b4\"/>\n   </g>\n   <g id=\"patch_188\">\n    <path d=\"M 223.959091 224.64 \nL 224.873096 224.64 \nL 224.873096 224.64 \nL 223.959091 224.64 \nz\n\" clip-path=\"url(#pb2cbea511d)\" style=\"fill: #1f77b4\"/>\n   </g>\n   <g id=\"patch_189\">\n    <path d=\"M 224.873096 224.64 \nL 225.787101 224.64 \nL 225.787101 224.64 \nL 224.873096 224.64 \nz\n\" clip-path=\"url(#pb2cbea511d)\" style=\"fill: #1f77b4\"/>\n   </g>\n   <g id=\"patch_190\">\n    <path d=\"M 225.787101 224.64 \nL 226.701106 224.64 \nL 226.701106 224.64 \nL 225.787101 224.64 \nz\n\" clip-path=\"url(#pb2cbea511d)\" style=\"fill: #1f77b4\"/>\n   </g>\n   <g id=\"patch_191\">\n    <path d=\"M 226.701106 224.64 \nL 227.615111 224.64 \nL 227.615111 224.64 \nL 226.701106 224.64 \nz\n\" clip-path=\"url(#pb2cbea511d)\" style=\"fill: #1f77b4\"/>\n   </g>\n   <g id=\"patch_192\">\n    <path d=\"M 227.615111 224.64 \nL 228.529115 224.64 \nL 228.529115 224.64 \nL 227.615111 224.64 \nz\n\" clip-path=\"url(#pb2cbea511d)\" style=\"fill: #1f77b4\"/>\n   </g>\n   <g id=\"patch_193\">\n    <path d=\"M 228.529115 224.64 \nL 229.44312 224.64 \nL 229.44312 224.64 \nL 228.529115 224.64 \nz\n\" clip-path=\"url(#pb2cbea511d)\" style=\"fill: #1f77b4\"/>\n   </g>\n   <g id=\"patch_194\">\n    <path d=\"M 229.44312 224.64 \nL 230.357125 224.64 \nL 230.357125 224.64 \nL 229.44312 224.64 \nz\n\" clip-path=\"url(#pb2cbea511d)\" style=\"fill: #1f77b4\"/>\n   </g>\n   <g id=\"patch_195\">\n    <path d=\"M 230.357125 224.64 \nL 231.27113 224.64 \nL 231.27113 224.64 \nL 230.357125 224.64 \nz\n\" clip-path=\"url(#pb2cbea511d)\" style=\"fill: #1f77b4\"/>\n   </g>\n   <g id=\"patch_196\">\n    <path d=\"M 231.27113 224.64 \nL 232.185135 224.64 \nL 232.185135 224.64 \nL 231.27113 224.64 \nz\n\" clip-path=\"url(#pb2cbea511d)\" style=\"fill: #1f77b4\"/>\n   </g>\n   <g id=\"patch_197\">\n    <path d=\"M 232.185135 224.64 \nL 233.09914 224.64 \nL 233.09914 224.64 \nL 232.185135 224.64 \nz\n\" clip-path=\"url(#pb2cbea511d)\" style=\"fill: #1f77b4\"/>\n   </g>\n   <g id=\"patch_198\">\n    <path d=\"M 233.09914 224.64 \nL 234.013145 224.64 \nL 234.013145 224.64 \nL 233.09914 224.64 \nz\n\" clip-path=\"url(#pb2cbea511d)\" style=\"fill: #1f77b4\"/>\n   </g>\n   <g id=\"patch_199\">\n    <path d=\"M 234.013145 224.64 \nL 234.92715 224.64 \nL 234.92715 224.64 \nL 234.013145 224.64 \nz\n\" clip-path=\"url(#pb2cbea511d)\" style=\"fill: #1f77b4\"/>\n   </g>\n   <g id=\"patch_200\">\n    <path d=\"M 234.92715 224.64 \nL 235.841155 224.64 \nL 235.841155 224.64 \nL 234.92715 224.64 \nz\n\" clip-path=\"url(#pb2cbea511d)\" style=\"fill: #1f77b4\"/>\n   </g>\n   <g id=\"patch_201\">\n    <path d=\"M 235.841155 224.64 \nL 236.75516 224.64 \nL 236.75516 224.64 \nL 235.841155 224.64 \nz\n\" clip-path=\"url(#pb2cbea511d)\" style=\"fill: #1f77b4\"/>\n   </g>\n   <g id=\"patch_202\">\n    <path d=\"M 236.75516 224.64 \nL 237.669165 224.64 \nL 237.669165 224.64 \nL 236.75516 224.64 \nz\n\" clip-path=\"url(#pb2cbea511d)\" style=\"fill: #1f77b4\"/>\n   </g>\n   <g id=\"patch_203\">\n    <path d=\"M 237.669165 224.64 \nL 238.58317 224.64 \nL 238.58317 224.64 \nL 237.669165 224.64 \nz\n\" clip-path=\"url(#pb2cbea511d)\" style=\"fill: #1f77b4\"/>\n   </g>\n   <g id=\"patch_204\">\n    <path d=\"M 238.58317 224.64 \nL 239.497174 224.64 \nL 239.497174 224.64 \nL 238.58317 224.64 \nz\n\" clip-path=\"url(#pb2cbea511d)\" style=\"fill: #1f77b4\"/>\n   </g>\n   <g id=\"patch_205\">\n    <path d=\"M 239.497174 224.64 \nL 240.411179 224.64 \nL 240.411179 224.64 \nL 239.497174 224.64 \nz\n\" clip-path=\"url(#pb2cbea511d)\" style=\"fill: #1f77b4\"/>\n   </g>\n   <g id=\"patch_206\">\n    <path d=\"M 240.411179 224.64 \nL 241.325184 224.64 \nL 241.325184 224.64 \nL 240.411179 224.64 \nz\n\" clip-path=\"url(#pb2cbea511d)\" style=\"fill: #1f77b4\"/>\n   </g>\n   <g id=\"patch_207\">\n    <path d=\"M 241.325184 224.64 \nL 242.239189 224.64 \nL 242.239189 224.64 \nL 241.325184 224.64 \nz\n\" clip-path=\"url(#pb2cbea511d)\" style=\"fill: #1f77b4\"/>\n   </g>\n   <g id=\"patch_208\">\n    <path d=\"M 242.239189 224.64 \nL 243.153194 224.64 \nL 243.153194 224.64 \nL 242.239189 224.64 \nz\n\" clip-path=\"url(#pb2cbea511d)\" style=\"fill: #1f77b4\"/>\n   </g>\n   <g id=\"patch_209\">\n    <path d=\"M 243.153194 224.64 \nL 244.067199 224.64 \nL 244.067199 224.64 \nL 243.153194 224.64 \nz\n\" clip-path=\"url(#pb2cbea511d)\" style=\"fill: #1f77b4\"/>\n   </g>\n   <g id=\"patch_210\">\n    <path d=\"M 244.067199 224.64 \nL 244.981204 224.64 \nL 244.981204 224.64 \nL 244.067199 224.64 \nz\n\" clip-path=\"url(#pb2cbea511d)\" style=\"fill: #1f77b4\"/>\n   </g>\n   <g id=\"patch_211\">\n    <path d=\"M 244.981204 224.64 \nL 245.895209 224.64 \nL 245.895209 224.64 \nL 244.981204 224.64 \nz\n\" clip-path=\"url(#pb2cbea511d)\" style=\"fill: #1f77b4\"/>\n   </g>\n   <g id=\"patch_212\">\n    <path d=\"M 245.895209 224.64 \nL 246.809214 224.64 \nL 246.809214 224.64 \nL 245.895209 224.64 \nz\n\" clip-path=\"url(#pb2cbea511d)\" style=\"fill: #1f77b4\"/>\n   </g>\n   <g id=\"patch_213\">\n    <path d=\"M 246.809214 224.64 \nL 247.723219 224.64 \nL 247.723219 224.64 \nL 246.809214 224.64 \nz\n\" clip-path=\"url(#pb2cbea511d)\" style=\"fill: #1f77b4\"/>\n   </g>\n   <g id=\"patch_214\">\n    <path d=\"M 247.723219 224.64 \nL 248.637224 224.64 \nL 248.637224 224.64 \nL 247.723219 224.64 \nz\n\" clip-path=\"url(#pb2cbea511d)\" style=\"fill: #1f77b4\"/>\n   </g>\n   <g id=\"patch_215\">\n    <path d=\"M 248.637224 224.64 \nL 249.551229 224.64 \nL 249.551229 224.64 \nL 248.637224 224.64 \nz\n\" clip-path=\"url(#pb2cbea511d)\" style=\"fill: #1f77b4\"/>\n   </g>\n   <g id=\"patch_216\">\n    <path d=\"M 249.551229 224.64 \nL 250.465233 224.64 \nL 250.465233 224.64 \nL 249.551229 224.64 \nz\n\" clip-path=\"url(#pb2cbea511d)\" style=\"fill: #1f77b4\"/>\n   </g>\n   <g id=\"patch_217\">\n    <path d=\"M 250.465233 224.64 \nL 251.379238 224.64 \nL 251.379238 224.64 \nL 250.465233 224.64 \nz\n\" clip-path=\"url(#pb2cbea511d)\" style=\"fill: #1f77b4\"/>\n   </g>\n   <g id=\"patch_218\">\n    <path d=\"M 251.379238 224.64 \nL 252.293243 224.64 \nL 252.293243 224.64 \nL 251.379238 224.64 \nz\n\" clip-path=\"url(#pb2cbea511d)\" style=\"fill: #1f77b4\"/>\n   </g>\n   <g id=\"patch_219\">\n    <path d=\"M 252.293243 224.64 \nL 253.207248 224.64 \nL 253.207248 224.64 \nL 252.293243 224.64 \nz\n\" clip-path=\"url(#pb2cbea511d)\" style=\"fill: #1f77b4\"/>\n   </g>\n   <g id=\"patch_220\">\n    <path d=\"M 253.207248 224.64 \nL 254.121253 224.64 \nL 254.121253 224.64 \nL 253.207248 224.64 \nz\n\" clip-path=\"url(#pb2cbea511d)\" style=\"fill: #1f77b4\"/>\n   </g>\n   <g id=\"patch_221\">\n    <path d=\"M 254.121253 224.64 \nL 255.035258 224.64 \nL 255.035258 224.64 \nL 254.121253 224.64 \nz\n\" clip-path=\"url(#pb2cbea511d)\" style=\"fill: #1f77b4\"/>\n   </g>\n   <g id=\"patch_222\">\n    <path d=\"M 255.035258 224.64 \nL 255.949263 224.64 \nL 255.949263 224.64 \nL 255.035258 224.64 \nz\n\" clip-path=\"url(#pb2cbea511d)\" style=\"fill: #1f77b4\"/>\n   </g>\n   <g id=\"patch_223\">\n    <path d=\"M 255.949263 224.64 \nL 256.863268 224.64 \nL 256.863268 224.64 \nL 255.949263 224.64 \nz\n\" clip-path=\"url(#pb2cbea511d)\" style=\"fill: #1f77b4\"/>\n   </g>\n   <g id=\"patch_224\">\n    <path d=\"M 256.863268 224.64 \nL 257.777273 224.64 \nL 257.777273 224.64 \nL 256.863268 224.64 \nz\n\" clip-path=\"url(#pb2cbea511d)\" style=\"fill: #1f77b4\"/>\n   </g>\n   <g id=\"patch_225\">\n    <path d=\"M 257.777273 224.64 \nL 258.691278 224.64 \nL 258.691278 224.64 \nL 257.777273 224.64 \nz\n\" clip-path=\"url(#pb2cbea511d)\" style=\"fill: #1f77b4\"/>\n   </g>\n   <g id=\"patch_226\">\n    <path d=\"M 258.691278 224.64 \nL 259.605283 224.64 \nL 259.605283 224.64 \nL 258.691278 224.64 \nz\n\" clip-path=\"url(#pb2cbea511d)\" style=\"fill: #1f77b4\"/>\n   </g>\n   <g id=\"patch_227\">\n    <path d=\"M 259.605283 224.64 \nL 260.519287 224.64 \nL 260.519287 224.64 \nL 259.605283 224.64 \nz\n\" clip-path=\"url(#pb2cbea511d)\" style=\"fill: #1f77b4\"/>\n   </g>\n   <g id=\"patch_228\">\n    <path d=\"M 260.519287 224.64 \nL 261.433292 224.64 \nL 261.433292 224.64 \nL 260.519287 224.64 \nz\n\" clip-path=\"url(#pb2cbea511d)\" style=\"fill: #1f77b4\"/>\n   </g>\n   <g id=\"patch_229\">\n    <path d=\"M 261.433292 224.64 \nL 262.347297 224.64 \nL 262.347297 224.64 \nL 261.433292 224.64 \nz\n\" clip-path=\"url(#pb2cbea511d)\" style=\"fill: #1f77b4\"/>\n   </g>\n   <g id=\"patch_230\">\n    <path d=\"M 262.347297 224.64 \nL 263.261302 224.64 \nL 263.261302 224.64 \nL 262.347297 224.64 \nz\n\" clip-path=\"url(#pb2cbea511d)\" style=\"fill: #1f77b4\"/>\n   </g>\n   <g id=\"patch_231\">\n    <path d=\"M 263.261302 224.64 \nL 264.175307 224.64 \nL 264.175307 224.64 \nL 263.261302 224.64 \nz\n\" clip-path=\"url(#pb2cbea511d)\" style=\"fill: #1f77b4\"/>\n   </g>\n   <g id=\"patch_232\">\n    <path d=\"M 264.175307 224.64 \nL 265.089312 224.64 \nL 265.089312 224.64 \nL 264.175307 224.64 \nz\n\" clip-path=\"url(#pb2cbea511d)\" style=\"fill: #1f77b4\"/>\n   </g>\n   <g id=\"patch_233\">\n    <path d=\"M 265.089312 224.64 \nL 266.003317 224.64 \nL 266.003317 224.64 \nL 265.089312 224.64 \nz\n\" clip-path=\"url(#pb2cbea511d)\" style=\"fill: #1f77b4\"/>\n   </g>\n   <g id=\"patch_234\">\n    <path d=\"M 266.003317 224.64 \nL 266.917322 224.64 \nL 266.917322 224.64 \nL 266.003317 224.64 \nz\n\" clip-path=\"url(#pb2cbea511d)\" style=\"fill: #1f77b4\"/>\n   </g>\n   <g id=\"patch_235\">\n    <path d=\"M 266.917322 224.64 \nL 267.831327 224.64 \nL 267.831327 224.64 \nL 266.917322 224.64 \nz\n\" clip-path=\"url(#pb2cbea511d)\" style=\"fill: #1f77b4\"/>\n   </g>\n   <g id=\"patch_236\">\n    <path d=\"M 267.831327 224.64 \nL 268.745332 224.64 \nL 268.745332 224.64 \nL 267.831327 224.64 \nz\n\" clip-path=\"url(#pb2cbea511d)\" style=\"fill: #1f77b4\"/>\n   </g>\n   <g id=\"patch_237\">\n    <path d=\"M 268.745332 224.64 \nL 269.659337 224.64 \nL 269.659337 224.64 \nL 268.745332 224.64 \nz\n\" clip-path=\"url(#pb2cbea511d)\" style=\"fill: #1f77b4\"/>\n   </g>\n   <g id=\"patch_238\">\n    <path d=\"M 269.659337 224.64 \nL 270.573342 224.64 \nL 270.573342 224.64 \nL 269.659337 224.64 \nz\n\" clip-path=\"url(#pb2cbea511d)\" style=\"fill: #1f77b4\"/>\n   </g>\n   <g id=\"patch_239\">\n    <path d=\"M 270.573342 224.64 \nL 271.487346 224.64 \nL 271.487346 224.64 \nL 270.573342 224.64 \nz\n\" clip-path=\"url(#pb2cbea511d)\" style=\"fill: #1f77b4\"/>\n   </g>\n   <g id=\"patch_240\">\n    <path d=\"M 271.487346 224.64 \nL 272.401351 224.64 \nL 272.401351 224.64 \nL 271.487346 224.64 \nz\n\" clip-path=\"url(#pb2cbea511d)\" style=\"fill: #1f77b4\"/>\n   </g>\n   <g id=\"patch_241\">\n    <path d=\"M 272.401351 224.64 \nL 273.315356 224.64 \nL 273.315356 224.64 \nL 272.401351 224.64 \nz\n\" clip-path=\"url(#pb2cbea511d)\" style=\"fill: #1f77b4\"/>\n   </g>\n   <g id=\"patch_242\">\n    <path d=\"M 273.315356 224.64 \nL 274.229361 224.64 \nL 274.229361 224.64 \nL 273.315356 224.64 \nz\n\" clip-path=\"url(#pb2cbea511d)\" style=\"fill: #1f77b4\"/>\n   </g>\n   <g id=\"patch_243\">\n    <path d=\"M 274.229361 224.64 \nL 275.143366 224.64 \nL 275.143366 224.64 \nL 274.229361 224.64 \nz\n\" clip-path=\"url(#pb2cbea511d)\" style=\"fill: #1f77b4\"/>\n   </g>\n   <g id=\"patch_244\">\n    <path d=\"M 275.143366 224.64 \nL 276.057371 224.64 \nL 276.057371 224.64 \nL 275.143366 224.64 \nz\n\" clip-path=\"url(#pb2cbea511d)\" style=\"fill: #1f77b4\"/>\n   </g>\n   <g id=\"patch_245\">\n    <path d=\"M 276.057371 224.64 \nL 276.971376 224.64 \nL 276.971376 224.64 \nL 276.057371 224.64 \nz\n\" clip-path=\"url(#pb2cbea511d)\" style=\"fill: #1f77b4\"/>\n   </g>\n   <g id=\"patch_246\">\n    <path d=\"M 276.971376 224.64 \nL 277.885381 224.64 \nL 277.885381 224.64 \nL 276.971376 224.64 \nz\n\" clip-path=\"url(#pb2cbea511d)\" style=\"fill: #1f77b4\"/>\n   </g>\n   <g id=\"patch_247\">\n    <path d=\"M 277.885381 224.64 \nL 278.799386 224.64 \nL 278.799386 224.64 \nL 277.885381 224.64 \nz\n\" clip-path=\"url(#pb2cbea511d)\" style=\"fill: #1f77b4\"/>\n   </g>\n   <g id=\"patch_248\">\n    <path d=\"M 278.799386 224.64 \nL 279.713391 224.64 \nL 279.713391 224.64 \nL 278.799386 224.64 \nz\n\" clip-path=\"url(#pb2cbea511d)\" style=\"fill: #1f77b4\"/>\n   </g>\n   <g id=\"patch_249\">\n    <path d=\"M 279.713391 224.64 \nL 280.627396 224.64 \nL 280.627396 224.64 \nL 279.713391 224.64 \nz\n\" clip-path=\"url(#pb2cbea511d)\" style=\"fill: #1f77b4\"/>\n   </g>\n   <g id=\"patch_250\">\n    <path d=\"M 280.627396 224.64 \nL 281.5414 224.64 \nL 281.5414 224.64 \nL 280.627396 224.64 \nz\n\" clip-path=\"url(#pb2cbea511d)\" style=\"fill: #1f77b4\"/>\n   </g>\n   <g id=\"patch_251\">\n    <path d=\"M 281.5414 224.64 \nL 282.455405 224.64 \nL 282.455405 224.64 \nL 281.5414 224.64 \nz\n\" clip-path=\"url(#pb2cbea511d)\" style=\"fill: #1f77b4\"/>\n   </g>\n   <g id=\"patch_252\">\n    <path d=\"M 282.455405 224.64 \nL 283.36941 224.64 \nL 283.36941 224.64 \nL 282.455405 224.64 \nz\n\" clip-path=\"url(#pb2cbea511d)\" style=\"fill: #1f77b4\"/>\n   </g>\n   <g id=\"patch_253\">\n    <path d=\"M 283.36941 224.64 \nL 284.283415 224.64 \nL 284.283415 224.64 \nL 283.36941 224.64 \nz\n\" clip-path=\"url(#pb2cbea511d)\" style=\"fill: #1f77b4\"/>\n   </g>\n   <g id=\"patch_254\">\n    <path d=\"M 284.283415 224.64 \nL 285.19742 224.64 \nL 285.19742 224.64 \nL 284.283415 224.64 \nz\n\" clip-path=\"url(#pb2cbea511d)\" style=\"fill: #1f77b4\"/>\n   </g>\n   <g id=\"patch_255\">\n    <path d=\"M 285.19742 224.64 \nL 286.111425 224.64 \nL 286.111425 224.64 \nL 285.19742 224.64 \nz\n\" clip-path=\"url(#pb2cbea511d)\" style=\"fill: #1f77b4\"/>\n   </g>\n   <g id=\"patch_256\">\n    <path d=\"M 286.111425 224.64 \nL 287.02543 224.64 \nL 287.02543 224.64 \nL 286.111425 224.64 \nz\n\" clip-path=\"url(#pb2cbea511d)\" style=\"fill: #1f77b4\"/>\n   </g>\n   <g id=\"patch_257\">\n    <path d=\"M 287.02543 224.64 \nL 287.939435 224.64 \nL 287.939435 224.64 \nL 287.02543 224.64 \nz\n\" clip-path=\"url(#pb2cbea511d)\" style=\"fill: #1f77b4\"/>\n   </g>\n   <g id=\"patch_258\">\n    <path d=\"M 287.939435 224.64 \nL 288.85344 224.64 \nL 288.85344 224.64 \nL 287.939435 224.64 \nz\n\" clip-path=\"url(#pb2cbea511d)\" style=\"fill: #1f77b4\"/>\n   </g>\n   <g id=\"patch_259\">\n    <path d=\"M 288.85344 224.64 \nL 289.767445 224.64 \nL 289.767445 224.64 \nL 288.85344 224.64 \nz\n\" clip-path=\"url(#pb2cbea511d)\" style=\"fill: #1f77b4\"/>\n   </g>\n   <g id=\"patch_260\">\n    <path d=\"M 289.767445 224.64 \nL 290.68145 224.64 \nL 290.68145 224.64 \nL 289.767445 224.64 \nz\n\" clip-path=\"url(#pb2cbea511d)\" style=\"fill: #1f77b4\"/>\n   </g>\n   <g id=\"patch_261\">\n    <path d=\"M 290.68145 224.64 \nL 291.595455 224.64 \nL 291.595455 224.64 \nL 290.68145 224.64 \nz\n\" clip-path=\"url(#pb2cbea511d)\" style=\"fill: #1f77b4\"/>\n   </g>\n   <g id=\"patch_262\">\n    <path d=\"M 291.595455 224.64 \nL 292.509459 224.64 \nL 292.509459 224.64 \nL 291.595455 224.64 \nz\n\" clip-path=\"url(#pb2cbea511d)\" style=\"fill: #1f77b4\"/>\n   </g>\n   <g id=\"patch_263\">\n    <path d=\"M 292.509459 224.64 \nL 293.423464 224.64 \nL 293.423464 224.64 \nL 292.509459 224.64 \nz\n\" clip-path=\"url(#pb2cbea511d)\" style=\"fill: #1f77b4\"/>\n   </g>\n   <g id=\"patch_264\">\n    <path d=\"M 293.423464 224.64 \nL 294.337469 224.64 \nL 294.337469 224.64 \nL 293.423464 224.64 \nz\n\" clip-path=\"url(#pb2cbea511d)\" style=\"fill: #1f77b4\"/>\n   </g>\n   <g id=\"patch_265\">\n    <path d=\"M 294.337469 224.64 \nL 295.251474 224.64 \nL 295.251474 224.64 \nL 294.337469 224.64 \nz\n\" clip-path=\"url(#pb2cbea511d)\" style=\"fill: #1f77b4\"/>\n   </g>\n   <g id=\"patch_266\">\n    <path d=\"M 295.251474 224.64 \nL 296.165479 224.64 \nL 296.165479 224.64 \nL 295.251474 224.64 \nz\n\" clip-path=\"url(#pb2cbea511d)\" style=\"fill: #1f77b4\"/>\n   </g>\n   <g id=\"patch_267\">\n    <path d=\"M 296.165479 224.64 \nL 297.079484 224.64 \nL 297.079484 224.64 \nL 296.165479 224.64 \nz\n\" clip-path=\"url(#pb2cbea511d)\" style=\"fill: #1f77b4\"/>\n   </g>\n   <g id=\"patch_268\">\n    <path d=\"M 297.079484 224.64 \nL 297.993489 224.64 \nL 297.993489 224.64 \nL 297.079484 224.64 \nz\n\" clip-path=\"url(#pb2cbea511d)\" style=\"fill: #1f77b4\"/>\n   </g>\n   <g id=\"patch_269\">\n    <path d=\"M 297.993489 224.64 \nL 298.907494 224.64 \nL 298.907494 224.64 \nL 297.993489 224.64 \nz\n\" clip-path=\"url(#pb2cbea511d)\" style=\"fill: #1f77b4\"/>\n   </g>\n   <g id=\"patch_270\">\n    <path d=\"M 298.907494 224.64 \nL 299.821499 224.64 \nL 299.821499 224.64 \nL 298.907494 224.64 \nz\n\" clip-path=\"url(#pb2cbea511d)\" style=\"fill: #1f77b4\"/>\n   </g>\n   <g id=\"patch_271\">\n    <path d=\"M 299.821499 224.64 \nL 300.735504 224.64 \nL 300.735504 224.64 \nL 299.821499 224.64 \nz\n\" clip-path=\"url(#pb2cbea511d)\" style=\"fill: #1f77b4\"/>\n   </g>\n   <g id=\"patch_272\">\n    <path d=\"M 300.735504 224.64 \nL 301.649509 224.64 \nL 301.649509 224.64 \nL 300.735504 224.64 \nz\n\" clip-path=\"url(#pb2cbea511d)\" style=\"fill: #1f77b4\"/>\n   </g>\n   <g id=\"patch_273\">\n    <path d=\"M 301.649509 224.64 \nL 302.563514 224.64 \nL 302.563514 224.64 \nL 301.649509 224.64 \nz\n\" clip-path=\"url(#pb2cbea511d)\" style=\"fill: #1f77b4\"/>\n   </g>\n   <g id=\"patch_274\">\n    <path d=\"M 302.563514 224.64 \nL 303.477518 224.64 \nL 303.477518 224.64 \nL 302.563514 224.64 \nz\n\" clip-path=\"url(#pb2cbea511d)\" style=\"fill: #1f77b4\"/>\n   </g>\n   <g id=\"patch_275\">\n    <path d=\"M 303.477518 224.64 \nL 304.391523 224.64 \nL 304.391523 224.64 \nL 303.477518 224.64 \nz\n\" clip-path=\"url(#pb2cbea511d)\" style=\"fill: #1f77b4\"/>\n   </g>\n   <g id=\"patch_276\">\n    <path d=\"M 304.391523 224.64 \nL 305.305528 224.64 \nL 305.305528 224.64 \nL 304.391523 224.64 \nz\n\" clip-path=\"url(#pb2cbea511d)\" style=\"fill: #1f77b4\"/>\n   </g>\n   <g id=\"patch_277\">\n    <path d=\"M 305.305528 224.64 \nL 306.219533 224.64 \nL 306.219533 224.64 \nL 305.305528 224.64 \nz\n\" clip-path=\"url(#pb2cbea511d)\" style=\"fill: #1f77b4\"/>\n   </g>\n   <g id=\"patch_278\">\n    <path d=\"M 306.219533 224.64 \nL 307.133538 224.64 \nL 307.133538 224.64 \nL 306.219533 224.64 \nz\n\" clip-path=\"url(#pb2cbea511d)\" style=\"fill: #1f77b4\"/>\n   </g>\n   <g id=\"patch_279\">\n    <path d=\"M 307.133538 224.64 \nL 308.047543 224.64 \nL 308.047543 224.64 \nL 307.133538 224.64 \nz\n\" clip-path=\"url(#pb2cbea511d)\" style=\"fill: #1f77b4\"/>\n   </g>\n   <g id=\"patch_280\">\n    <path d=\"M 308.047543 224.64 \nL 308.961548 224.64 \nL 308.961548 224.64 \nL 308.047543 224.64 \nz\n\" clip-path=\"url(#pb2cbea511d)\" style=\"fill: #1f77b4\"/>\n   </g>\n   <g id=\"patch_281\">\n    <path d=\"M 308.961548 224.64 \nL 309.875553 224.64 \nL 309.875553 224.64 \nL 308.961548 224.64 \nz\n\" clip-path=\"url(#pb2cbea511d)\" style=\"fill: #1f77b4\"/>\n   </g>\n   <g id=\"patch_282\">\n    <path d=\"M 309.875553 224.64 \nL 310.789558 224.64 \nL 310.789558 224.64 \nL 309.875553 224.64 \nz\n\" clip-path=\"url(#pb2cbea511d)\" style=\"fill: #1f77b4\"/>\n   </g>\n   <g id=\"patch_283\">\n    <path d=\"M 310.789558 224.64 \nL 311.703563 224.64 \nL 311.703563 224.64 \nL 310.789558 224.64 \nz\n\" clip-path=\"url(#pb2cbea511d)\" style=\"fill: #1f77b4\"/>\n   </g>\n   <g id=\"patch_284\">\n    <path d=\"M 311.703563 224.64 \nL 312.617568 224.64 \nL 312.617568 224.64 \nL 311.703563 224.64 \nz\n\" clip-path=\"url(#pb2cbea511d)\" style=\"fill: #1f77b4\"/>\n   </g>\n   <g id=\"patch_285\">\n    <path d=\"M 312.617568 224.64 \nL 313.531572 224.64 \nL 313.531572 224.64 \nL 312.617568 224.64 \nz\n\" clip-path=\"url(#pb2cbea511d)\" style=\"fill: #1f77b4\"/>\n   </g>\n   <g id=\"patch_286\">\n    <path d=\"M 313.531572 224.64 \nL 314.445577 224.64 \nL 314.445577 224.64 \nL 313.531572 224.64 \nz\n\" clip-path=\"url(#pb2cbea511d)\" style=\"fill: #1f77b4\"/>\n   </g>\n   <g id=\"patch_287\">\n    <path d=\"M 314.445577 224.64 \nL 315.359582 224.64 \nL 315.359582 224.64 \nL 314.445577 224.64 \nz\n\" clip-path=\"url(#pb2cbea511d)\" style=\"fill: #1f77b4\"/>\n   </g>\n   <g id=\"patch_288\">\n    <path d=\"M 315.359582 224.64 \nL 316.273587 224.64 \nL 316.273587 224.64 \nL 315.359582 224.64 \nz\n\" clip-path=\"url(#pb2cbea511d)\" style=\"fill: #1f77b4\"/>\n   </g>\n   <g id=\"patch_289\">\n    <path d=\"M 316.273587 224.64 \nL 317.187592 224.64 \nL 317.187592 224.64 \nL 316.273587 224.64 \nz\n\" clip-path=\"url(#pb2cbea511d)\" style=\"fill: #1f77b4\"/>\n   </g>\n   <g id=\"patch_290\">\n    <path d=\"M 317.187592 224.64 \nL 318.101597 224.64 \nL 318.101597 224.64 \nL 317.187592 224.64 \nz\n\" clip-path=\"url(#pb2cbea511d)\" style=\"fill: #1f77b4\"/>\n   </g>\n   <g id=\"patch_291\">\n    <path d=\"M 318.101597 224.64 \nL 319.015602 224.64 \nL 319.015602 224.64 \nL 318.101597 224.64 \nz\n\" clip-path=\"url(#pb2cbea511d)\" style=\"fill: #1f77b4\"/>\n   </g>\n   <g id=\"patch_292\">\n    <path d=\"M 319.015602 224.64 \nL 319.929607 224.64 \nL 319.929607 224.64 \nL 319.015602 224.64 \nz\n\" clip-path=\"url(#pb2cbea511d)\" style=\"fill: #1f77b4\"/>\n   </g>\n   <g id=\"patch_293\">\n    <path d=\"M 319.929607 224.64 \nL 320.843612 224.64 \nL 320.843612 224.64 \nL 319.929607 224.64 \nz\n\" clip-path=\"url(#pb2cbea511d)\" style=\"fill: #1f77b4\"/>\n   </g>\n   <g id=\"patch_294\">\n    <path d=\"M 320.843612 224.64 \nL 321.757617 224.64 \nL 321.757617 224.64 \nL 320.843612 224.64 \nz\n\" clip-path=\"url(#pb2cbea511d)\" style=\"fill: #1f77b4\"/>\n   </g>\n   <g id=\"patch_295\">\n    <path d=\"M 321.757617 224.64 \nL 322.671622 224.64 \nL 322.671622 224.64 \nL 321.757617 224.64 \nz\n\" clip-path=\"url(#pb2cbea511d)\" style=\"fill: #1f77b4\"/>\n   </g>\n   <g id=\"patch_296\">\n    <path d=\"M 322.671622 224.64 \nL 323.585627 224.64 \nL 323.585627 224.64 \nL 322.671622 224.64 \nz\n\" clip-path=\"url(#pb2cbea511d)\" style=\"fill: #1f77b4\"/>\n   </g>\n   <g id=\"patch_297\">\n    <path d=\"M 323.585627 224.64 \nL 324.499631 224.64 \nL 324.499631 224.64 \nL 323.585627 224.64 \nz\n\" clip-path=\"url(#pb2cbea511d)\" style=\"fill: #1f77b4\"/>\n   </g>\n   <g id=\"patch_298\">\n    <path d=\"M 324.499631 224.64 \nL 325.413636 224.64 \nL 325.413636 224.64 \nL 324.499631 224.64 \nz\n\" clip-path=\"url(#pb2cbea511d)\" style=\"fill: #1f77b4\"/>\n   </g>\n   <g id=\"patch_299\">\n    <path d=\"M 325.413636 224.64 \nL 326.327641 224.64 \nL 326.327641 224.64 \nL 325.413636 224.64 \nz\n\" clip-path=\"url(#pb2cbea511d)\" style=\"fill: #1f77b4\"/>\n   </g>\n   <g id=\"patch_300\">\n    <path d=\"M 326.327641 224.64 \nL 327.241646 224.64 \nL 327.241646 224.64 \nL 326.327641 224.64 \nz\n\" clip-path=\"url(#pb2cbea511d)\" style=\"fill: #1f77b4\"/>\n   </g>\n   <g id=\"patch_301\">\n    <path d=\"M 327.241646 224.64 \nL 328.155651 224.64 \nL 328.155651 224.64 \nL 327.241646 224.64 \nz\n\" clip-path=\"url(#pb2cbea511d)\" style=\"fill: #1f77b4\"/>\n   </g>\n   <g id=\"patch_302\">\n    <path d=\"M 328.155651 224.64 \nL 329.069656 224.64 \nL 329.069656 224.64 \nL 328.155651 224.64 \nz\n\" clip-path=\"url(#pb2cbea511d)\" style=\"fill: #1f77b4\"/>\n   </g>\n   <g id=\"patch_303\">\n    <path d=\"M 329.069656 224.64 \nL 329.983661 224.64 \nL 329.983661 224.64 \nL 329.069656 224.64 \nz\n\" clip-path=\"url(#pb2cbea511d)\" style=\"fill: #1f77b4\"/>\n   </g>\n   <g id=\"patch_304\">\n    <path d=\"M 329.983661 224.64 \nL 330.897666 224.64 \nL 330.897666 224.64 \nL 329.983661 224.64 \nz\n\" clip-path=\"url(#pb2cbea511d)\" style=\"fill: #1f77b4\"/>\n   </g>\n   <g id=\"patch_305\">\n    <path d=\"M 330.897666 224.64 \nL 331.811671 224.64 \nL 331.811671 224.64 \nL 330.897666 224.64 \nz\n\" clip-path=\"url(#pb2cbea511d)\" style=\"fill: #1f77b4\"/>\n   </g>\n   <g id=\"patch_306\">\n    <path d=\"M 331.811671 224.64 \nL 332.725676 224.64 \nL 332.725676 224.64 \nL 331.811671 224.64 \nz\n\" clip-path=\"url(#pb2cbea511d)\" style=\"fill: #1f77b4\"/>\n   </g>\n   <g id=\"patch_307\">\n    <path d=\"M 332.725676 224.64 \nL 333.639681 224.64 \nL 333.639681 224.64 \nL 332.725676 224.64 \nz\n\" clip-path=\"url(#pb2cbea511d)\" style=\"fill: #1f77b4\"/>\n   </g>\n   <g id=\"patch_308\">\n    <path d=\"M 333.639681 224.64 \nL 334.553686 224.64 \nL 334.553686 224.64 \nL 333.639681 224.64 \nz\n\" clip-path=\"url(#pb2cbea511d)\" style=\"fill: #1f77b4\"/>\n   </g>\n   <g id=\"patch_309\">\n    <path d=\"M 334.553686 224.64 \nL 335.46769 224.64 \nL 335.46769 224.64 \nL 334.553686 224.64 \nz\n\" clip-path=\"url(#pb2cbea511d)\" style=\"fill: #1f77b4\"/>\n   </g>\n   <g id=\"patch_310\">\n    <path d=\"M 335.46769 224.64 \nL 336.381695 224.64 \nL 336.381695 224.64 \nL 335.46769 224.64 \nz\n\" clip-path=\"url(#pb2cbea511d)\" style=\"fill: #1f77b4\"/>\n   </g>\n   <g id=\"patch_311\">\n    <path d=\"M 336.381695 224.64 \nL 337.2957 224.64 \nL 337.2957 224.64 \nL 336.381695 224.64 \nz\n\" clip-path=\"url(#pb2cbea511d)\" style=\"fill: #1f77b4\"/>\n   </g>\n   <g id=\"patch_312\">\n    <path d=\"M 337.2957 224.64 \nL 338.209705 224.64 \nL 338.209705 224.64 \nL 337.2957 224.64 \nz\n\" clip-path=\"url(#pb2cbea511d)\" style=\"fill: #1f77b4\"/>\n   </g>\n   <g id=\"patch_313\">\n    <path d=\"M 338.209705 224.64 \nL 339.12371 224.64 \nL 339.12371 224.64 \nL 338.209705 224.64 \nz\n\" clip-path=\"url(#pb2cbea511d)\" style=\"fill: #1f77b4\"/>\n   </g>\n   <g id=\"patch_314\">\n    <path d=\"M 339.12371 224.64 \nL 340.037715 224.64 \nL 340.037715 224.64 \nL 339.12371 224.64 \nz\n\" clip-path=\"url(#pb2cbea511d)\" style=\"fill: #1f77b4\"/>\n   </g>\n   <g id=\"patch_315\">\n    <path d=\"M 340.037715 224.64 \nL 340.95172 224.64 \nL 340.95172 224.64 \nL 340.037715 224.64 \nz\n\" clip-path=\"url(#pb2cbea511d)\" style=\"fill: #1f77b4\"/>\n   </g>\n   <g id=\"patch_316\">\n    <path d=\"M 340.95172 224.64 \nL 341.865725 224.64 \nL 341.865725 224.64 \nL 340.95172 224.64 \nz\n\" clip-path=\"url(#pb2cbea511d)\" style=\"fill: #1f77b4\"/>\n   </g>\n   <g id=\"patch_317\">\n    <path d=\"M 341.865725 224.64 \nL 342.77973 224.64 \nL 342.77973 224.64 \nL 341.865725 224.64 \nz\n\" clip-path=\"url(#pb2cbea511d)\" style=\"fill: #1f77b4\"/>\n   </g>\n   <g id=\"patch_318\">\n    <path d=\"M 342.77973 224.64 \nL 343.693735 224.64 \nL 343.693735 224.64 \nL 342.77973 224.64 \nz\n\" clip-path=\"url(#pb2cbea511d)\" style=\"fill: #1f77b4\"/>\n   </g>\n   <g id=\"patch_319\">\n    <path d=\"M 343.693735 224.64 \nL 344.60774 224.64 \nL 344.60774 224.64 \nL 343.693735 224.64 \nz\n\" clip-path=\"url(#pb2cbea511d)\" style=\"fill: #1f77b4\"/>\n   </g>\n   <g id=\"patch_320\">\n    <path d=\"M 344.60774 224.64 \nL 345.521744 224.64 \nL 345.521744 224.64 \nL 344.60774 224.64 \nz\n\" clip-path=\"url(#pb2cbea511d)\" style=\"fill: #1f77b4\"/>\n   </g>\n   <g id=\"patch_321\">\n    <path d=\"M 345.521744 224.64 \nL 346.435749 224.64 \nL 346.435749 224.64 \nL 345.521744 224.64 \nz\n\" clip-path=\"url(#pb2cbea511d)\" style=\"fill: #1f77b4\"/>\n   </g>\n   <g id=\"patch_322\">\n    <path d=\"M 346.435749 224.64 \nL 347.349754 224.64 \nL 347.349754 224.64 \nL 346.435749 224.64 \nz\n\" clip-path=\"url(#pb2cbea511d)\" style=\"fill: #1f77b4\"/>\n   </g>\n   <g id=\"patch_323\">\n    <path d=\"M 347.349754 224.64 \nL 348.263759 224.64 \nL 348.263759 224.64 \nL 347.349754 224.64 \nz\n\" clip-path=\"url(#pb2cbea511d)\" style=\"fill: #1f77b4\"/>\n   </g>\n   <g id=\"patch_324\">\n    <path d=\"M 348.263759 224.64 \nL 349.177764 224.64 \nL 349.177764 224.64 \nL 348.263759 224.64 \nz\n\" clip-path=\"url(#pb2cbea511d)\" style=\"fill: #1f77b4\"/>\n   </g>\n   <g id=\"patch_325\">\n    <path d=\"M 349.177764 224.64 \nL 350.091769 224.64 \nL 350.091769 224.64 \nL 349.177764 224.64 \nz\n\" clip-path=\"url(#pb2cbea511d)\" style=\"fill: #1f77b4\"/>\n   </g>\n   <g id=\"patch_326\">\n    <path d=\"M 350.091769 224.64 \nL 351.005774 224.64 \nL 351.005774 224.64 \nL 350.091769 224.64 \nz\n\" clip-path=\"url(#pb2cbea511d)\" style=\"fill: #1f77b4\"/>\n   </g>\n   <g id=\"patch_327\">\n    <path d=\"M 351.005774 224.64 \nL 351.919779 224.64 \nL 351.919779 224.64 \nL 351.005774 224.64 \nz\n\" clip-path=\"url(#pb2cbea511d)\" style=\"fill: #1f77b4\"/>\n   </g>\n   <g id=\"patch_328\">\n    <path d=\"M 351.919779 224.64 \nL 352.833784 224.64 \nL 352.833784 224.64 \nL 351.919779 224.64 \nz\n\" clip-path=\"url(#pb2cbea511d)\" style=\"fill: #1f77b4\"/>\n   </g>\n   <g id=\"patch_329\">\n    <path d=\"M 352.833784 224.64 \nL 353.747789 224.64 \nL 353.747789 224.64 \nL 352.833784 224.64 \nz\n\" clip-path=\"url(#pb2cbea511d)\" style=\"fill: #1f77b4\"/>\n   </g>\n   <g id=\"patch_330\">\n    <path d=\"M 353.747789 224.64 \nL 354.661794 224.64 \nL 354.661794 224.64 \nL 353.747789 224.64 \nz\n\" clip-path=\"url(#pb2cbea511d)\" style=\"fill: #1f77b4\"/>\n   </g>\n   <g id=\"patch_331\">\n    <path d=\"M 354.661794 224.64 \nL 355.575799 224.64 \nL 355.575799 224.64 \nL 354.661794 224.64 \nz\n\" clip-path=\"url(#pb2cbea511d)\" style=\"fill: #1f77b4\"/>\n   </g>\n   <g id=\"patch_332\">\n    <path d=\"M 355.575799 224.64 \nL 356.489803 224.64 \nL 356.489803 224.64 \nL 355.575799 224.64 \nz\n\" clip-path=\"url(#pb2cbea511d)\" style=\"fill: #1f77b4\"/>\n   </g>\n   <g id=\"patch_333\">\n    <path d=\"M 356.489803 224.64 \nL 357.403808 224.64 \nL 357.403808 224.64 \nL 356.489803 224.64 \nz\n\" clip-path=\"url(#pb2cbea511d)\" style=\"fill: #1f77b4\"/>\n   </g>\n   <g id=\"patch_334\">\n    <path d=\"M 357.403808 224.64 \nL 358.317813 224.64 \nL 358.317813 224.64 \nL 357.403808 224.64 \nz\n\" clip-path=\"url(#pb2cbea511d)\" style=\"fill: #1f77b4\"/>\n   </g>\n   <g id=\"patch_335\">\n    <path d=\"M 358.317813 224.64 \nL 359.231818 224.64 \nL 359.231818 224.5627 \nL 358.317813 224.5627 \nz\n\" clip-path=\"url(#pb2cbea511d)\" style=\"fill: #1f77b4\"/>\n   </g>\n   <g id=\"matplotlib.axis_1\">\n    <g id=\"xtick_1\">\n     <g id=\"line2d_1\">\n      <defs>\n       <path id=\"m2149ca25ef\" d=\"M 0 0 \nL 0 3.5 \n\" style=\"stroke: #000000; stroke-width: 0.8\"/>\n      </defs>\n      <g>\n       <use xlink:href=\"#m2149ca25ef\" x=\"52.150649\" y=\"224.64\" style=\"stroke: #000000; stroke-width: 0.8\"/>\n      </g>\n     </g>\n     <g id=\"text_1\">\n      <!-- 0 -->\n      <g transform=\"translate(48.969399 239.238437)scale(0.1 -0.1)\">\n       <defs>\n        <path id=\"DejaVuSans-30\" d=\"M 2034 4250 \nQ 1547 4250 1301 3770 \nQ 1056 3291 1056 2328 \nQ 1056 1369 1301 889 \nQ 1547 409 2034 409 \nQ 2525 409 2770 889 \nQ 3016 1369 3016 2328 \nQ 3016 3291 2770 3770 \nQ 2525 4250 2034 4250 \nz\nM 2034 4750 \nQ 2819 4750 3233 4129 \nQ 3647 3509 3647 2328 \nQ 3647 1150 3233 529 \nQ 2819 -91 2034 -91 \nQ 1250 -91 836 529 \nQ 422 1150 422 2328 \nQ 422 3509 836 4129 \nQ 1250 4750 2034 4750 \nz\n\" transform=\"scale(0.015625)\"/>\n       </defs>\n       <use xlink:href=\"#DejaVuSans-30\"/>\n      </g>\n     </g>\n    </g>\n    <g id=\"xtick_2\">\n     <g id=\"line2d_2\">\n      <g>\n       <use xlink:href=\"#m2149ca25ef\" x=\"106.501299\" y=\"224.64\" style=\"stroke: #000000; stroke-width: 0.8\"/>\n      </g>\n     </g>\n     <g id=\"text_2\">\n      <!-- 20 -->\n      <g transform=\"translate(100.138799 239.238437)scale(0.1 -0.1)\">\n       <defs>\n        <path id=\"DejaVuSans-32\" d=\"M 1228 531 \nL 3431 531 \nL 3431 0 \nL 469 0 \nL 469 531 \nQ 828 903 1448 1529 \nQ 2069 2156 2228 2338 \nQ 2531 2678 2651 2914 \nQ 2772 3150 2772 3378 \nQ 2772 3750 2511 3984 \nQ 2250 4219 1831 4219 \nQ 1534 4219 1204 4116 \nQ 875 4013 500 3803 \nL 500 4441 \nQ 881 4594 1212 4672 \nQ 1544 4750 1819 4750 \nQ 2544 4750 2975 4387 \nQ 3406 4025 3406 3419 \nQ 3406 3131 3298 2873 \nQ 3191 2616 2906 2266 \nQ 2828 2175 2409 1742 \nQ 1991 1309 1228 531 \nz\n\" transform=\"scale(0.015625)\"/>\n       </defs>\n       <use xlink:href=\"#DejaVuSans-32\"/>\n       <use xlink:href=\"#DejaVuSans-30\" x=\"63.623047\"/>\n      </g>\n     </g>\n    </g>\n    <g id=\"xtick_3\">\n     <g id=\"line2d_3\">\n      <g>\n       <use xlink:href=\"#m2149ca25ef\" x=\"160.851948\" y=\"224.64\" style=\"stroke: #000000; stroke-width: 0.8\"/>\n      </g>\n     </g>\n     <g id=\"text_3\">\n      <!-- 40 -->\n      <g transform=\"translate(154.489448 239.238437)scale(0.1 -0.1)\">\n       <defs>\n        <path id=\"DejaVuSans-34\" d=\"M 2419 4116 \nL 825 1625 \nL 2419 1625 \nL 2419 4116 \nz\nM 2253 4666 \nL 3047 4666 \nL 3047 1625 \nL 3713 1625 \nL 3713 1100 \nL 3047 1100 \nL 3047 0 \nL 2419 0 \nL 2419 1100 \nL 313 1100 \nL 313 1709 \nL 2253 4666 \nz\n\" transform=\"scale(0.015625)\"/>\n       </defs>\n       <use xlink:href=\"#DejaVuSans-34\"/>\n       <use xlink:href=\"#DejaVuSans-30\" x=\"63.623047\"/>\n      </g>\n     </g>\n    </g>\n    <g id=\"xtick_4\">\n     <g id=\"line2d_4\">\n      <g>\n       <use xlink:href=\"#m2149ca25ef\" x=\"215.202597\" y=\"224.64\" style=\"stroke: #000000; stroke-width: 0.8\"/>\n      </g>\n     </g>\n     <g id=\"text_4\">\n      <!-- 60 -->\n      <g transform=\"translate(208.840097 239.238437)scale(0.1 -0.1)\">\n       <defs>\n        <path id=\"DejaVuSans-36\" d=\"M 2113 2584 \nQ 1688 2584 1439 2293 \nQ 1191 2003 1191 1497 \nQ 1191 994 1439 701 \nQ 1688 409 2113 409 \nQ 2538 409 2786 701 \nQ 3034 994 3034 1497 \nQ 3034 2003 2786 2293 \nQ 2538 2584 2113 2584 \nz\nM 3366 4563 \nL 3366 3988 \nQ 3128 4100 2886 4159 \nQ 2644 4219 2406 4219 \nQ 1781 4219 1451 3797 \nQ 1122 3375 1075 2522 \nQ 1259 2794 1537 2939 \nQ 1816 3084 2150 3084 \nQ 2853 3084 3261 2657 \nQ 3669 2231 3669 1497 \nQ 3669 778 3244 343 \nQ 2819 -91 2113 -91 \nQ 1303 -91 875 529 \nQ 447 1150 447 2328 \nQ 447 3434 972 4092 \nQ 1497 4750 2381 4750 \nQ 2619 4750 2861 4703 \nQ 3103 4656 3366 4563 \nz\n\" transform=\"scale(0.015625)\"/>\n       </defs>\n       <use xlink:href=\"#DejaVuSans-36\"/>\n       <use xlink:href=\"#DejaVuSans-30\" x=\"63.623047\"/>\n      </g>\n     </g>\n    </g>\n    <g id=\"xtick_5\">\n     <g id=\"line2d_5\">\n      <g>\n       <use xlink:href=\"#m2149ca25ef\" x=\"269.553247\" y=\"224.64\" style=\"stroke: #000000; stroke-width: 0.8\"/>\n      </g>\n     </g>\n     <g id=\"text_5\">\n      <!-- 80 -->\n      <g transform=\"translate(263.190747 239.238437)scale(0.1 -0.1)\">\n       <defs>\n        <path id=\"DejaVuSans-38\" d=\"M 2034 2216 \nQ 1584 2216 1326 1975 \nQ 1069 1734 1069 1313 \nQ 1069 891 1326 650 \nQ 1584 409 2034 409 \nQ 2484 409 2743 651 \nQ 3003 894 3003 1313 \nQ 3003 1734 2745 1975 \nQ 2488 2216 2034 2216 \nz\nM 1403 2484 \nQ 997 2584 770 2862 \nQ 544 3141 544 3541 \nQ 544 4100 942 4425 \nQ 1341 4750 2034 4750 \nQ 2731 4750 3128 4425 \nQ 3525 4100 3525 3541 \nQ 3525 3141 3298 2862 \nQ 3072 2584 2669 2484 \nQ 3125 2378 3379 2068 \nQ 3634 1759 3634 1313 \nQ 3634 634 3220 271 \nQ 2806 -91 2034 -91 \nQ 1263 -91 848 271 \nQ 434 634 434 1313 \nQ 434 1759 690 2068 \nQ 947 2378 1403 2484 \nz\nM 1172 3481 \nQ 1172 3119 1398 2916 \nQ 1625 2713 2034 2713 \nQ 2441 2713 2670 2916 \nQ 2900 3119 2900 3481 \nQ 2900 3844 2670 4047 \nQ 2441 4250 2034 4250 \nQ 1625 4250 1398 4047 \nQ 1172 3844 1172 3481 \nz\n\" transform=\"scale(0.015625)\"/>\n       </defs>\n       <use xlink:href=\"#DejaVuSans-38\"/>\n       <use xlink:href=\"#DejaVuSans-30\" x=\"63.623047\"/>\n      </g>\n     </g>\n    </g>\n    <g id=\"xtick_6\">\n     <g id=\"line2d_6\">\n      <g>\n       <use xlink:href=\"#m2149ca25ef\" x=\"323.903896\" y=\"224.64\" style=\"stroke: #000000; stroke-width: 0.8\"/>\n      </g>\n     </g>\n     <g id=\"text_6\">\n      <!-- 100 -->\n      <g transform=\"translate(314.360146 239.238437)scale(0.1 -0.1)\">\n       <defs>\n        <path id=\"DejaVuSans-31\" d=\"M 794 531 \nL 1825 531 \nL 1825 4091 \nL 703 3866 \nL 703 4441 \nL 1819 4666 \nL 2450 4666 \nL 2450 531 \nL 3481 531 \nL 3481 0 \nL 794 0 \nL 794 531 \nz\n\" transform=\"scale(0.015625)\"/>\n       </defs>\n       <use xlink:href=\"#DejaVuSans-31\"/>\n       <use xlink:href=\"#DejaVuSans-30\" x=\"63.623047\"/>\n       <use xlink:href=\"#DejaVuSans-30\" x=\"127.246094\"/>\n      </g>\n     </g>\n    </g>\n   </g>\n   <g id=\"matplotlib.axis_2\">\n    <g id=\"ytick_1\">\n     <g id=\"line2d_7\">\n      <defs>\n       <path id=\"m41d603664f\" d=\"M 0 0 \nL -3.5 0 \n\" style=\"stroke: #000000; stroke-width: 0.8\"/>\n      </defs>\n      <g>\n       <use xlink:href=\"#m41d603664f\" x=\"39.65\" y=\"224.64\" style=\"stroke: #000000; stroke-width: 0.8\"/>\n      </g>\n     </g>\n     <g id=\"text_7\">\n      <!-- 0 -->\n      <g transform=\"translate(26.2875 228.439219)scale(0.1 -0.1)\">\n       <use xlink:href=\"#DejaVuSans-30\"/>\n      </g>\n     </g>\n    </g>\n    <g id=\"ytick_2\">\n     <g id=\"line2d_8\">\n      <g>\n       <use xlink:href=\"#m41d603664f\" x=\"39.65\" y=\"185.990184\" style=\"stroke: #000000; stroke-width: 0.8\"/>\n      </g>\n     </g>\n     <g id=\"text_8\">\n      <!-- 500 -->\n      <g transform=\"translate(13.5625 189.789403)scale(0.1 -0.1)\">\n       <defs>\n        <path id=\"DejaVuSans-35\" d=\"M 691 4666 \nL 3169 4666 \nL 3169 4134 \nL 1269 4134 \nL 1269 2991 \nQ 1406 3038 1543 3061 \nQ 1681 3084 1819 3084 \nQ 2600 3084 3056 2656 \nQ 3513 2228 3513 1497 \nQ 3513 744 3044 326 \nQ 2575 -91 1722 -91 \nQ 1428 -91 1123 -41 \nQ 819 9 494 109 \nL 494 744 \nQ 775 591 1075 516 \nQ 1375 441 1709 441 \nQ 2250 441 2565 725 \nQ 2881 1009 2881 1497 \nQ 2881 1984 2565 2268 \nQ 2250 2553 1709 2553 \nQ 1456 2553 1204 2497 \nQ 953 2441 691 2322 \nL 691 4666 \nz\n\" transform=\"scale(0.015625)\"/>\n       </defs>\n       <use xlink:href=\"#DejaVuSans-35\"/>\n       <use xlink:href=\"#DejaVuSans-30\" x=\"63.623047\"/>\n       <use xlink:href=\"#DejaVuSans-30\" x=\"127.246094\"/>\n      </g>\n     </g>\n    </g>\n    <g id=\"ytick_3\">\n     <g id=\"line2d_9\">\n      <g>\n       <use xlink:href=\"#m41d603664f\" x=\"39.65\" y=\"147.340368\" style=\"stroke: #000000; stroke-width: 0.8\"/>\n      </g>\n     </g>\n     <g id=\"text_9\">\n      <!-- 1000 -->\n      <g transform=\"translate(7.2 151.139587)scale(0.1 -0.1)\">\n       <use xlink:href=\"#DejaVuSans-31\"/>\n       <use xlink:href=\"#DejaVuSans-30\" x=\"63.623047\"/>\n       <use xlink:href=\"#DejaVuSans-30\" x=\"127.246094\"/>\n       <use xlink:href=\"#DejaVuSans-30\" x=\"190.869141\"/>\n      </g>\n     </g>\n    </g>\n    <g id=\"ytick_4\">\n     <g id=\"line2d_10\">\n      <g>\n       <use xlink:href=\"#m41d603664f\" x=\"39.65\" y=\"108.690552\" style=\"stroke: #000000; stroke-width: 0.8\"/>\n      </g>\n     </g>\n     <g id=\"text_10\">\n      <!-- 1500 -->\n      <g transform=\"translate(7.2 112.489771)scale(0.1 -0.1)\">\n       <use xlink:href=\"#DejaVuSans-31\"/>\n       <use xlink:href=\"#DejaVuSans-35\" x=\"63.623047\"/>\n       <use xlink:href=\"#DejaVuSans-30\" x=\"127.246094\"/>\n       <use xlink:href=\"#DejaVuSans-30\" x=\"190.869141\"/>\n      </g>\n     </g>\n    </g>\n    <g id=\"ytick_5\">\n     <g id=\"line2d_11\">\n      <g>\n       <use xlink:href=\"#m41d603664f\" x=\"39.65\" y=\"70.040736\" style=\"stroke: #000000; stroke-width: 0.8\"/>\n      </g>\n     </g>\n     <g id=\"text_11\">\n      <!-- 2000 -->\n      <g transform=\"translate(7.2 73.839955)scale(0.1 -0.1)\">\n       <use xlink:href=\"#DejaVuSans-32\"/>\n       <use xlink:href=\"#DejaVuSans-30\" x=\"63.623047\"/>\n       <use xlink:href=\"#DejaVuSans-30\" x=\"127.246094\"/>\n       <use xlink:href=\"#DejaVuSans-30\" x=\"190.869141\"/>\n      </g>\n     </g>\n    </g>\n    <g id=\"ytick_6\">\n     <g id=\"line2d_12\">\n      <g>\n       <use xlink:href=\"#m41d603664f\" x=\"39.65\" y=\"31.39092\" style=\"stroke: #000000; stroke-width: 0.8\"/>\n      </g>\n     </g>\n     <g id=\"text_12\">\n      <!-- 2500 -->\n      <g transform=\"translate(7.2 35.190139)scale(0.1 -0.1)\">\n       <use xlink:href=\"#DejaVuSans-32\"/>\n       <use xlink:href=\"#DejaVuSans-35\" x=\"63.623047\"/>\n       <use xlink:href=\"#DejaVuSans-30\" x=\"127.246094\"/>\n       <use xlink:href=\"#DejaVuSans-30\" x=\"190.869141\"/>\n      </g>\n     </g>\n    </g>\n   </g>\n   <g id=\"patch_336\">\n    <path d=\"M 39.65 224.64 \nL 39.65 7.2 \n\" style=\"fill: none; stroke: #000000; stroke-width: 0.8; stroke-linejoin: miter; stroke-linecap: square\"/>\n   </g>\n   <g id=\"patch_337\">\n    <path d=\"M 374.45 224.64 \nL 374.45 7.2 \n\" style=\"fill: none; stroke: #000000; stroke-width: 0.8; stroke-linejoin: miter; stroke-linecap: square\"/>\n   </g>\n   <g id=\"patch_338\">\n    <path d=\"M 39.65 224.64 \nL 374.45 224.64 \n\" style=\"fill: none; stroke: #000000; stroke-width: 0.8; stroke-linejoin: miter; stroke-linecap: square\"/>\n   </g>\n   <g id=\"patch_339\">\n    <path d=\"M 39.65 7.2 \nL 374.45 7.2 \n\" style=\"fill: none; stroke: #000000; stroke-width: 0.8; stroke-linejoin: miter; stroke-linecap: square\"/>\n   </g>\n  </g>\n </g>\n <defs>\n  <clipPath id=\"pb2cbea511d\">\n   <rect x=\"39.65\" y=\"7.2\" width=\"334.8\" height=\"217.44\"/>\n  </clipPath>\n </defs>\n</svg>\n"
          },
          "metadata": {
            "needs_background": "light"
          }
        }
      ]
    },
    {
      "cell_type": "code",
      "source": [
        "no_below = 5 # Minimum number of documents to keep a term in the dictionary\n",
        "no_above = .80 # Maximum proportion of documents in which a term can appear to be kept in the dictionary\n",
        "\n",
        "D_en.filter_extremes(no_below=no_below,no_above=no_above, keep_n=1500)\n",
        "n_tokens = len(D_en)\n",
        "\n",
        "print('The dictionary contains', n_tokens, 'terms')\n",
        "\n",
        "print('First terms in the dictionary:')\n",
        "for n in range(10):\n",
        "    print(str(n), ':', D_en[n])"
      ],
      "metadata": {
        "colab": {
          "base_uri": "https://localhost:8080/"
        },
        "id": "_09ibkGOHF6A",
        "outputId": "435d0601-10f9-4be7-d35a-c98ee287dd8d"
      },
      "execution_count": null,
      "outputs": [
        {
          "output_type": "stream",
          "name": "stdout",
          "text": [
            "The dictionary contains 327 terms\n",
            "First terms in the dictionary:\n",
            "0 : culture\n",
            "1 : detail\n",
            "2 : experience\n",
            "3 : gran\n",
            "4 : learn\n",
            "5 : meliá\n",
            "6 : spanish\n",
            "7 : together\n",
            "8 : 100\n",
            "9 : among\n"
          ]
        }
      ]
    },
    {
      "cell_type": "code",
      "source": [
        "# Create dictionary of tokens: the input is the preprocessed corpus \n",
        "D_es = gensim.corpora.Dictionary(corpus_es)\n",
        "n_tokens = len(D_es)\n",
        "\n",
        "print('The dictionary contains', n_tokens, 'terms')\n",
        "print('First terms in the dictionary:')\n",
        "for n in range(20):\n",
        "    print(str(n), ':', D_es[n])"
      ],
      "metadata": {
        "colab": {
          "base_uri": "https://localhost:8080/"
        },
        "id": "3JPGhAh2HICT",
        "outputId": "9555f0b9-2afa-4fe2-d591-5800303cd17b"
      },
      "execution_count": null,
      "outputs": [
        {
          "output_type": "stream",
          "name": "stdout",
          "text": [
            "The dictionary contains 5982 terms\n",
            "First terms in the dictionary:\n",
            "0 : 1065\n",
            "1 : acertada\n",
            "2 : agencias\n",
            "3 : alcanzado\n",
            "4 : black\n",
            "5 : campañas\n",
            "6 : crecimiento\n",
            "7 : cyber\n",
            "8 : digital\n",
            "9 : estrategia\n",
            "10 : fortaleza\n",
            "11 : friday\n",
            "12 : gracias\n",
            "13 : hito\n",
            "14 : httpowlyzgkj50xyqb6\n",
            "15 : logra\n",
            "16 : meliaprorewards\n",
            "17 : monday\n",
            "18 : nuevo\n",
            "19 : pictwittercomomywklcodg\n"
          ]
        }
      ]
    },
    {
      "cell_type": "code",
      "source": [
        "D_es.filter_tokens(bad_ids=[0, 14, 19])  # quitamos los números que aparecen al principio"
      ],
      "metadata": {
        "id": "kvNcLc7eHJSS"
      },
      "execution_count": null,
      "outputs": []
    },
    {
      "cell_type": "code",
      "source": [
        "plt.hist(D_es.dfs.values(),tweets_df_es.shape[0])\n",
        "plt.show()"
      ],
      "metadata": {
        "colab": {
          "base_uri": "https://localhost:8080/",
          "height": 353
        },
        "id": "PJaasc8_HOp8",
        "outputId": "61219af2-c456-46be-9520-b529436f30da"
      },
      "execution_count": null,
      "outputs": [
        {
          "output_type": "display_data",
          "data": {
            "text/plain": [
              "<Figure size 432x288 with 1 Axes>"
            ],
            "image/svg+xml": "<?xml version=\"1.0\" encoding=\"utf-8\" standalone=\"no\"?>\n<!DOCTYPE svg PUBLIC \"-//W3C//DTD SVG 1.1//EN\"\n  \"http://www.w3.org/Graphics/SVG/1.1/DTD/svg11.dtd\">\n<svg xmlns:xlink=\"http://www.w3.org/1999/xlink\" width=\"381.65pt\" height=\"248.518125pt\" viewBox=\"0 0 381.65 248.518125\" xmlns=\"http://www.w3.org/2000/svg\" version=\"1.1\">\n <metadata>\n  <rdf:RDF xmlns:dc=\"http://purl.org/dc/elements/1.1/\" xmlns:cc=\"http://creativecommons.org/ns#\" xmlns:rdf=\"http://www.w3.org/1999/02/22-rdf-syntax-ns#\">\n   <cc:Work>\n    <dc:type rdf:resource=\"http://purl.org/dc/dcmitype/StillImage\"/>\n    <dc:date>2023-03-01T18:07:08.344034</dc:date>\n    <dc:format>image/svg+xml</dc:format>\n    <dc:creator>\n     <cc:Agent>\n      <dc:title>Matplotlib v3.5.3, https://matplotlib.org/</dc:title>\n     </cc:Agent>\n    </dc:creator>\n   </cc:Work>\n  </rdf:RDF>\n </metadata>\n <defs>\n  <style type=\"text/css\">*{stroke-linejoin: round; stroke-linecap: butt}</style>\n </defs>\n <g id=\"figure_1\">\n  <g id=\"patch_1\">\n   <path d=\"M -0 248.518125 \nL 381.65 248.518125 \nL 381.65 0 \nL -0 0 \nL -0 248.518125 \nz\n\" style=\"fill: none\"/>\n  </g>\n  <g id=\"axes_1\">\n   <g id=\"patch_2\">\n    <path d=\"M 39.65 224.64 \nL 374.45 224.64 \nL 374.45 7.2 \nL 39.65 7.2 \nz\n\" style=\"fill: #ffffff\"/>\n   </g>\n   <g id=\"patch_3\">\n    <path d=\"M 54.868182 224.64 \nL 55.430776 224.64 \nL 55.430776 17.554286 \nL 54.868182 17.554286 \nz\n\" clip-path=\"url(#pa99849d8f2)\" style=\"fill: #1f77b4\"/>\n   </g>\n   <g id=\"patch_4\">\n    <path d=\"M 55.430776 224.64 \nL 55.993371 224.64 \nL 55.993371 224.64 \nL 55.430776 224.64 \nz\n\" clip-path=\"url(#pa99849d8f2)\" style=\"fill: #1f77b4\"/>\n   </g>\n   <g id=\"patch_5\">\n    <path d=\"M 55.993371 224.64 \nL 56.555965 224.64 \nL 56.555965 224.64 \nL 55.993371 224.64 \nz\n\" clip-path=\"url(#pa99849d8f2)\" style=\"fill: #1f77b4\"/>\n   </g>\n   <g id=\"patch_6\">\n    <path d=\"M 56.555965 224.64 \nL 57.11856 224.64 \nL 57.11856 185.709273 \nL 56.555965 185.709273 \nz\n\" clip-path=\"url(#pa99849d8f2)\" style=\"fill: #1f77b4\"/>\n   </g>\n   <g id=\"patch_7\">\n    <path d=\"M 57.11856 224.64 \nL 57.681154 224.64 \nL 57.681154 224.64 \nL 57.11856 224.64 \nz\n\" clip-path=\"url(#pa99849d8f2)\" style=\"fill: #1f77b4\"/>\n   </g>\n   <g id=\"patch_8\">\n    <path d=\"M 57.681154 224.64 \nL 58.243749 224.64 \nL 58.243749 224.64 \nL 57.681154 224.64 \nz\n\" clip-path=\"url(#pa99849d8f2)\" style=\"fill: #1f77b4\"/>\n   </g>\n   <g id=\"patch_9\">\n    <path d=\"M 58.243749 224.64 \nL 58.806343 224.64 \nL 58.806343 224.64 \nL 58.243749 224.64 \nz\n\" clip-path=\"url(#pa99849d8f2)\" style=\"fill: #1f77b4\"/>\n   </g>\n   <g id=\"patch_10\">\n    <path d=\"M 58.806343 224.64 \nL 59.368938 224.64 \nL 59.368938 207.254904 \nL 58.806343 207.254904 \nz\n\" clip-path=\"url(#pa99849d8f2)\" style=\"fill: #1f77b4\"/>\n   </g>\n   <g id=\"patch_11\">\n    <path d=\"M 59.368938 224.64 \nL 59.931533 224.64 \nL 59.931533 224.64 \nL 59.368938 224.64 \nz\n\" clip-path=\"url(#pa99849d8f2)\" style=\"fill: #1f77b4\"/>\n   </g>\n   <g id=\"patch_12\">\n    <path d=\"M 59.931533 224.64 \nL 60.494127 224.64 \nL 60.494127 224.64 \nL 59.931533 224.64 \nz\n\" clip-path=\"url(#pa99849d8f2)\" style=\"fill: #1f77b4\"/>\n   </g>\n   <g id=\"patch_13\">\n    <path d=\"M 60.494127 224.64 \nL 61.056722 224.64 \nL 61.056722 214.733962 \nL 60.494127 214.733962 \nz\n\" clip-path=\"url(#pa99849d8f2)\" style=\"fill: #1f77b4\"/>\n   </g>\n   <g id=\"patch_14\">\n    <path d=\"M 61.056722 224.64 \nL 61.619316 224.64 \nL 61.619316 224.64 \nL 61.056722 224.64 \nz\n\" clip-path=\"url(#pa99849d8f2)\" style=\"fill: #1f77b4\"/>\n   </g>\n   <g id=\"patch_15\">\n    <path d=\"M 61.619316 224.64 \nL 62.181911 224.64 \nL 62.181911 224.64 \nL 61.619316 224.64 \nz\n\" clip-path=\"url(#pa99849d8f2)\" style=\"fill: #1f77b4\"/>\n   </g>\n   <g id=\"patch_16\">\n    <path d=\"M 62.181911 224.64 \nL 62.744505 224.64 \nL 62.744505 224.64 \nL 62.181911 224.64 \nz\n\" clip-path=\"url(#pa99849d8f2)\" style=\"fill: #1f77b4\"/>\n   </g>\n   <g id=\"patch_17\">\n    <path d=\"M 62.744505 224.64 \nL 63.3071 224.64 \nL 63.3071 219.142149 \nL 62.744505 219.142149 \nz\n\" clip-path=\"url(#pa99849d8f2)\" style=\"fill: #1f77b4\"/>\n   </g>\n   <g id=\"patch_18\">\n    <path d=\"M 63.3071 224.64 \nL 63.869694 224.64 \nL 63.869694 224.64 \nL 63.3071 224.64 \nz\n\" clip-path=\"url(#pa99849d8f2)\" style=\"fill: #1f77b4\"/>\n   </g>\n   <g id=\"patch_19\">\n    <path d=\"M 63.869694 224.64 \nL 64.432289 224.64 \nL 64.432289 224.64 \nL 63.869694 224.64 \nz\n\" clip-path=\"url(#pa99849d8f2)\" style=\"fill: #1f77b4\"/>\n   </g>\n   <g id=\"patch_20\">\n    <path d=\"M 64.432289 224.64 \nL 64.994883 224.64 \nL 64.994883 224.64 \nL 64.432289 224.64 \nz\n\" clip-path=\"url(#pa99849d8f2)\" style=\"fill: #1f77b4\"/>\n   </g>\n   <g id=\"patch_21\">\n    <path d=\"M 64.994883 224.64 \nL 65.557478 224.64 \nL 65.557478 221.024296 \nL 64.994883 221.024296 \nz\n\" clip-path=\"url(#pa99849d8f2)\" style=\"fill: #1f77b4\"/>\n   </g>\n   <g id=\"patch_22\">\n    <path d=\"M 65.557478 224.64 \nL 66.120072 224.64 \nL 66.120072 224.64 \nL 65.557478 224.64 \nz\n\" clip-path=\"url(#pa99849d8f2)\" style=\"fill: #1f77b4\"/>\n   </g>\n   <g id=\"patch_23\">\n    <path d=\"M 66.120072 224.64 \nL 66.682667 224.64 \nL 66.682667 224.64 \nL 66.120072 224.64 \nz\n\" clip-path=\"url(#pa99849d8f2)\" style=\"fill: #1f77b4\"/>\n   </g>\n   <g id=\"patch_24\">\n    <path d=\"M 66.682667 224.64 \nL 67.245261 224.64 \nL 67.245261 222.361611 \nL 66.682667 222.361611 \nz\n\" clip-path=\"url(#pa99849d8f2)\" style=\"fill: #1f77b4\"/>\n   </g>\n   <g id=\"patch_25\">\n    <path d=\"M 67.245261 224.64 \nL 67.807856 224.64 \nL 67.807856 224.64 \nL 67.245261 224.64 \nz\n\" clip-path=\"url(#pa99849d8f2)\" style=\"fill: #1f77b4\"/>\n   </g>\n   <g id=\"patch_26\">\n    <path d=\"M 67.807856 224.64 \nL 68.37045 224.64 \nL 68.37045 224.64 \nL 67.807856 224.64 \nz\n\" clip-path=\"url(#pa99849d8f2)\" style=\"fill: #1f77b4\"/>\n   </g>\n   <g id=\"patch_27\">\n    <path d=\"M 68.37045 224.64 \nL 68.933045 224.64 \nL 68.933045 224.64 \nL 68.37045 224.64 \nz\n\" clip-path=\"url(#pa99849d8f2)\" style=\"fill: #1f77b4\"/>\n   </g>\n   <g id=\"patch_28\">\n    <path d=\"M 68.933045 224.64 \nL 69.495639 224.64 \nL 69.495639 222.807383 \nL 68.933045 222.807383 \nz\n\" clip-path=\"url(#pa99849d8f2)\" style=\"fill: #1f77b4\"/>\n   </g>\n   <g id=\"patch_29\">\n    <path d=\"M 69.495639 224.64 \nL 70.058234 224.64 \nL 70.058234 224.64 \nL 69.495639 224.64 \nz\n\" clip-path=\"url(#pa99849d8f2)\" style=\"fill: #1f77b4\"/>\n   </g>\n   <g id=\"patch_30\">\n    <path d=\"M 70.058234 224.64 \nL 70.620828 224.64 \nL 70.620828 224.64 \nL 70.058234 224.64 \nz\n\" clip-path=\"url(#pa99849d8f2)\" style=\"fill: #1f77b4\"/>\n   </g>\n   <g id=\"patch_31\">\n    <path d=\"M 70.620828 224.64 \nL 71.183423 224.64 \nL 71.183423 223.055034 \nL 70.620828 223.055034 \nz\n\" clip-path=\"url(#pa99849d8f2)\" style=\"fill: #1f77b4\"/>\n   </g>\n   <g id=\"patch_32\">\n    <path d=\"M 71.183423 224.64 \nL 71.746017 224.64 \nL 71.746017 224.64 \nL 71.183423 224.64 \nz\n\" clip-path=\"url(#pa99849d8f2)\" style=\"fill: #1f77b4\"/>\n   </g>\n   <g id=\"patch_33\">\n    <path d=\"M 71.746017 224.64 \nL 72.308612 224.64 \nL 72.308612 224.64 \nL 71.746017 224.64 \nz\n\" clip-path=\"url(#pa99849d8f2)\" style=\"fill: #1f77b4\"/>\n   </g>\n   <g id=\"patch_34\">\n    <path d=\"M 72.308612 224.64 \nL 72.871207 224.64 \nL 72.871207 224.64 \nL 72.308612 224.64 \nz\n\" clip-path=\"url(#pa99849d8f2)\" style=\"fill: #1f77b4\"/>\n   </g>\n   <g id=\"patch_35\">\n    <path d=\"M 72.871207 224.64 \nL 73.433801 224.64 \nL 73.433801 223.897047 \nL 72.871207 223.897047 \nz\n\" clip-path=\"url(#pa99849d8f2)\" style=\"fill: #1f77b4\"/>\n   </g>\n   <g id=\"patch_36\">\n    <path d=\"M 73.433801 224.64 \nL 73.996396 224.64 \nL 73.996396 224.64 \nL 73.433801 224.64 \nz\n\" clip-path=\"url(#pa99849d8f2)\" style=\"fill: #1f77b4\"/>\n   </g>\n   <g id=\"patch_37\">\n    <path d=\"M 73.996396 224.64 \nL 74.55899 224.64 \nL 74.55899 224.64 \nL 73.996396 224.64 \nz\n\" clip-path=\"url(#pa99849d8f2)\" style=\"fill: #1f77b4\"/>\n   </g>\n   <g id=\"patch_38\">\n    <path d=\"M 74.55899 224.64 \nL 75.121585 224.64 \nL 75.121585 224.64 \nL 74.55899 224.64 \nz\n\" clip-path=\"url(#pa99849d8f2)\" style=\"fill: #1f77b4\"/>\n   </g>\n   <g id=\"patch_39\">\n    <path d=\"M 75.121585 224.64 \nL 75.684179 224.64 \nL 75.684179 223.748457 \nL 75.121585 223.748457 \nz\n\" clip-path=\"url(#pa99849d8f2)\" style=\"fill: #1f77b4\"/>\n   </g>\n   <g id=\"patch_40\">\n    <path d=\"M 75.684179 224.64 \nL 76.246774 224.64 \nL 76.246774 224.64 \nL 75.684179 224.64 \nz\n\" clip-path=\"url(#pa99849d8f2)\" style=\"fill: #1f77b4\"/>\n   </g>\n   <g id=\"patch_41\">\n    <path d=\"M 76.246774 224.64 \nL 76.809368 224.64 \nL 76.809368 224.64 \nL 76.246774 224.64 \nz\n\" clip-path=\"url(#pa99849d8f2)\" style=\"fill: #1f77b4\"/>\n   </g>\n   <g id=\"patch_42\">\n    <path d=\"M 76.809368 224.64 \nL 77.371963 224.64 \nL 77.371963 223.698926 \nL 76.809368 223.698926 \nz\n\" clip-path=\"url(#pa99849d8f2)\" style=\"fill: #1f77b4\"/>\n   </g>\n   <g id=\"patch_43\">\n    <path d=\"M 77.371963 224.64 \nL 77.934557 224.64 \nL 77.934557 224.64 \nL 77.371963 224.64 \nz\n\" clip-path=\"url(#pa99849d8f2)\" style=\"fill: #1f77b4\"/>\n   </g>\n   <g id=\"patch_44\">\n    <path d=\"M 77.934557 224.64 \nL 78.497152 224.64 \nL 78.497152 224.64 \nL 77.934557 224.64 \nz\n\" clip-path=\"url(#pa99849d8f2)\" style=\"fill: #1f77b4\"/>\n   </g>\n   <g id=\"patch_45\">\n    <path d=\"M 78.497152 224.64 \nL 79.059746 224.64 \nL 79.059746 224.64 \nL 78.497152 224.64 \nz\n\" clip-path=\"url(#pa99849d8f2)\" style=\"fill: #1f77b4\"/>\n   </g>\n   <g id=\"patch_46\">\n    <path d=\"M 79.059746 224.64 \nL 79.622341 224.64 \nL 79.622341 223.897047 \nL 79.059746 223.897047 \nz\n\" clip-path=\"url(#pa99849d8f2)\" style=\"fill: #1f77b4\"/>\n   </g>\n   <g id=\"patch_47\">\n    <path d=\"M 79.622341 224.64 \nL 80.184935 224.64 \nL 80.184935 224.64 \nL 79.622341 224.64 \nz\n\" clip-path=\"url(#pa99849d8f2)\" style=\"fill: #1f77b4\"/>\n   </g>\n   <g id=\"patch_48\">\n    <path d=\"M 80.184935 224.64 \nL 80.74753 224.64 \nL 80.74753 224.64 \nL 80.184935 224.64 \nz\n\" clip-path=\"url(#pa99849d8f2)\" style=\"fill: #1f77b4\"/>\n   </g>\n   <g id=\"patch_49\">\n    <path d=\"M 80.74753 224.64 \nL 81.310124 224.64 \nL 81.310124 224.243758 \nL 80.74753 224.243758 \nz\n\" clip-path=\"url(#pa99849d8f2)\" style=\"fill: #1f77b4\"/>\n   </g>\n   <g id=\"patch_50\">\n    <path d=\"M 81.310124 224.64 \nL 81.872719 224.64 \nL 81.872719 224.64 \nL 81.310124 224.64 \nz\n\" clip-path=\"url(#pa99849d8f2)\" style=\"fill: #1f77b4\"/>\n   </g>\n   <g id=\"patch_51\">\n    <path d=\"M 81.872719 224.64 \nL 82.435313 224.64 \nL 82.435313 224.64 \nL 81.872719 224.64 \nz\n\" clip-path=\"url(#pa99849d8f2)\" style=\"fill: #1f77b4\"/>\n   </g>\n   <g id=\"patch_52\">\n    <path d=\"M 82.435313 224.64 \nL 82.997908 224.64 \nL 82.997908 224.64 \nL 82.435313 224.64 \nz\n\" clip-path=\"url(#pa99849d8f2)\" style=\"fill: #1f77b4\"/>\n   </g>\n   <g id=\"patch_53\">\n    <path d=\"M 82.997908 224.64 \nL 83.560502 224.64 \nL 83.560502 224.293289 \nL 82.997908 224.293289 \nz\n\" clip-path=\"url(#pa99849d8f2)\" style=\"fill: #1f77b4\"/>\n   </g>\n   <g id=\"patch_54\">\n    <path d=\"M 83.560502 224.64 \nL 84.123097 224.64 \nL 84.123097 224.64 \nL 83.560502 224.64 \nz\n\" clip-path=\"url(#pa99849d8f2)\" style=\"fill: #1f77b4\"/>\n   </g>\n   <g id=\"patch_55\">\n    <path d=\"M 84.123097 224.64 \nL 84.685691 224.64 \nL 84.685691 224.64 \nL 84.123097 224.64 \nz\n\" clip-path=\"url(#pa99849d8f2)\" style=\"fill: #1f77b4\"/>\n   </g>\n   <g id=\"patch_56\">\n    <path d=\"M 84.685691 224.64 \nL 85.248286 224.64 \nL 85.248286 224.64 \nL 84.685691 224.64 \nz\n\" clip-path=\"url(#pa99849d8f2)\" style=\"fill: #1f77b4\"/>\n   </g>\n   <g id=\"patch_57\">\n    <path d=\"M 85.248286 224.64 \nL 85.810881 224.64 \nL 85.810881 224.441879 \nL 85.248286 224.441879 \nz\n\" clip-path=\"url(#pa99849d8f2)\" style=\"fill: #1f77b4\"/>\n   </g>\n   <g id=\"patch_58\">\n    <path d=\"M 85.810881 224.64 \nL 86.373475 224.64 \nL 86.373475 224.64 \nL 85.810881 224.64 \nz\n\" clip-path=\"url(#pa99849d8f2)\" style=\"fill: #1f77b4\"/>\n   </g>\n   <g id=\"patch_59\">\n    <path d=\"M 86.373475 224.64 \nL 86.93607 224.64 \nL 86.93607 224.64 \nL 86.373475 224.64 \nz\n\" clip-path=\"url(#pa99849d8f2)\" style=\"fill: #1f77b4\"/>\n   </g>\n   <g id=\"patch_60\">\n    <path d=\"M 86.93607 224.64 \nL 87.498664 224.64 \nL 87.498664 224.392349 \nL 86.93607 224.392349 \nz\n\" clip-path=\"url(#pa99849d8f2)\" style=\"fill: #1f77b4\"/>\n   </g>\n   <g id=\"patch_61\">\n    <path d=\"M 87.498664 224.64 \nL 88.061259 224.64 \nL 88.061259 224.64 \nL 87.498664 224.64 \nz\n\" clip-path=\"url(#pa99849d8f2)\" style=\"fill: #1f77b4\"/>\n   </g>\n   <g id=\"patch_62\">\n    <path d=\"M 88.061259 224.64 \nL 88.623853 224.64 \nL 88.623853 224.64 \nL 88.061259 224.64 \nz\n\" clip-path=\"url(#pa99849d8f2)\" style=\"fill: #1f77b4\"/>\n   </g>\n   <g id=\"patch_63\">\n    <path d=\"M 88.623853 224.64 \nL 89.186448 224.64 \nL 89.186448 224.64 \nL 88.623853 224.64 \nz\n\" clip-path=\"url(#pa99849d8f2)\" style=\"fill: #1f77b4\"/>\n   </g>\n   <g id=\"patch_64\">\n    <path d=\"M 89.186448 224.64 \nL 89.749042 224.64 \nL 89.749042 224.441879 \nL 89.186448 224.441879 \nz\n\" clip-path=\"url(#pa99849d8f2)\" style=\"fill: #1f77b4\"/>\n   </g>\n   <g id=\"patch_65\">\n    <path d=\"M 89.749042 224.64 \nL 90.311637 224.64 \nL 90.311637 224.64 \nL 89.749042 224.64 \nz\n\" clip-path=\"url(#pa99849d8f2)\" style=\"fill: #1f77b4\"/>\n   </g>\n   <g id=\"patch_66\">\n    <path d=\"M 90.311637 224.64 \nL 90.874231 224.64 \nL 90.874231 224.64 \nL 90.311637 224.64 \nz\n\" clip-path=\"url(#pa99849d8f2)\" style=\"fill: #1f77b4\"/>\n   </g>\n   <g id=\"patch_67\">\n    <path d=\"M 90.874231 224.64 \nL 91.436826 224.64 \nL 91.436826 224.491409 \nL 90.874231 224.491409 \nz\n\" clip-path=\"url(#pa99849d8f2)\" style=\"fill: #1f77b4\"/>\n   </g>\n   <g id=\"patch_68\">\n    <path d=\"M 91.436826 224.64 \nL 91.99942 224.64 \nL 91.99942 224.64 \nL 91.436826 224.64 \nz\n\" clip-path=\"url(#pa99849d8f2)\" style=\"fill: #1f77b4\"/>\n   </g>\n   <g id=\"patch_69\">\n    <path d=\"M 91.99942 224.64 \nL 92.562015 224.64 \nL 92.562015 224.64 \nL 91.99942 224.64 \nz\n\" clip-path=\"url(#pa99849d8f2)\" style=\"fill: #1f77b4\"/>\n   </g>\n   <g id=\"patch_70\">\n    <path d=\"M 92.562015 224.64 \nL 93.124609 224.64 \nL 93.124609 224.64 \nL 92.562015 224.64 \nz\n\" clip-path=\"url(#pa99849d8f2)\" style=\"fill: #1f77b4\"/>\n   </g>\n   <g id=\"patch_71\">\n    <path d=\"M 93.124609 224.64 \nL 93.687204 224.64 \nL 93.687204 224.441879 \nL 93.124609 224.441879 \nz\n\" clip-path=\"url(#pa99849d8f2)\" style=\"fill: #1f77b4\"/>\n   </g>\n   <g id=\"patch_72\">\n    <path d=\"M 93.687204 224.64 \nL 94.249798 224.64 \nL 94.249798 224.64 \nL 93.687204 224.64 \nz\n\" clip-path=\"url(#pa99849d8f2)\" style=\"fill: #1f77b4\"/>\n   </g>\n   <g id=\"patch_73\">\n    <path d=\"M 94.249798 224.64 \nL 94.812393 224.64 \nL 94.812393 224.64 \nL 94.249798 224.64 \nz\n\" clip-path=\"url(#pa99849d8f2)\" style=\"fill: #1f77b4\"/>\n   </g>\n   <g id=\"patch_74\">\n    <path d=\"M 94.812393 224.64 \nL 95.374987 224.64 \nL 95.374987 224.64 \nL 94.812393 224.64 \nz\n\" clip-path=\"url(#pa99849d8f2)\" style=\"fill: #1f77b4\"/>\n   </g>\n   <g id=\"patch_75\">\n    <path d=\"M 95.374987 224.64 \nL 95.937582 224.64 \nL 95.937582 224.491409 \nL 95.374987 224.491409 \nz\n\" clip-path=\"url(#pa99849d8f2)\" style=\"fill: #1f77b4\"/>\n   </g>\n   <g id=\"patch_76\">\n    <path d=\"M 95.937582 224.64 \nL 96.500176 224.64 \nL 96.500176 224.64 \nL 95.937582 224.64 \nz\n\" clip-path=\"url(#pa99849d8f2)\" style=\"fill: #1f77b4\"/>\n   </g>\n   <g id=\"patch_77\">\n    <path d=\"M 96.500176 224.64 \nL 97.062771 224.64 \nL 97.062771 224.64 \nL 96.500176 224.64 \nz\n\" clip-path=\"url(#pa99849d8f2)\" style=\"fill: #1f77b4\"/>\n   </g>\n   <g id=\"patch_78\">\n    <path d=\"M 97.062771 224.64 \nL 97.625365 224.64 \nL 97.625365 224.491409 \nL 97.062771 224.491409 \nz\n\" clip-path=\"url(#pa99849d8f2)\" style=\"fill: #1f77b4\"/>\n   </g>\n   <g id=\"patch_79\">\n    <path d=\"M 97.625365 224.64 \nL 98.18796 224.64 \nL 98.18796 224.64 \nL 97.625365 224.64 \nz\n\" clip-path=\"url(#pa99849d8f2)\" style=\"fill: #1f77b4\"/>\n   </g>\n   <g id=\"patch_80\">\n    <path d=\"M 98.18796 224.64 \nL 98.750555 224.64 \nL 98.750555 224.64 \nL 98.18796 224.64 \nz\n\" clip-path=\"url(#pa99849d8f2)\" style=\"fill: #1f77b4\"/>\n   </g>\n   <g id=\"patch_81\">\n    <path d=\"M 98.750555 224.64 \nL 99.313149 224.64 \nL 99.313149 224.64 \nL 98.750555 224.64 \nz\n\" clip-path=\"url(#pa99849d8f2)\" style=\"fill: #1f77b4\"/>\n   </g>\n   <g id=\"patch_82\">\n    <path d=\"M 99.313149 224.64 \nL 99.875744 224.64 \nL 99.875744 224.441879 \nL 99.313149 224.441879 \nz\n\" clip-path=\"url(#pa99849d8f2)\" style=\"fill: #1f77b4\"/>\n   </g>\n   <g id=\"patch_83\">\n    <path d=\"M 99.875744 224.64 \nL 100.438338 224.64 \nL 100.438338 224.64 \nL 99.875744 224.64 \nz\n\" clip-path=\"url(#pa99849d8f2)\" style=\"fill: #1f77b4\"/>\n   </g>\n   <g id=\"patch_84\">\n    <path d=\"M 100.438338 224.64 \nL 101.000933 224.64 \nL 101.000933 224.64 \nL 100.438338 224.64 \nz\n\" clip-path=\"url(#pa99849d8f2)\" style=\"fill: #1f77b4\"/>\n   </g>\n   <g id=\"patch_85\">\n    <path d=\"M 101.000933 224.64 \nL 101.563527 224.64 \nL 101.563527 224.59047 \nL 101.000933 224.59047 \nz\n\" clip-path=\"url(#pa99849d8f2)\" style=\"fill: #1f77b4\"/>\n   </g>\n   <g id=\"patch_86\">\n    <path d=\"M 101.563527 224.64 \nL 102.126122 224.64 \nL 102.126122 224.64 \nL 101.563527 224.64 \nz\n\" clip-path=\"url(#pa99849d8f2)\" style=\"fill: #1f77b4\"/>\n   </g>\n   <g id=\"patch_87\">\n    <path d=\"M 102.126122 224.64 \nL 102.688716 224.64 \nL 102.688716 224.64 \nL 102.126122 224.64 \nz\n\" clip-path=\"url(#pa99849d8f2)\" style=\"fill: #1f77b4\"/>\n   </g>\n   <g id=\"patch_88\">\n    <path d=\"M 102.688716 224.64 \nL 103.251311 224.64 \nL 103.251311 224.64 \nL 102.688716 224.64 \nz\n\" clip-path=\"url(#pa99849d8f2)\" style=\"fill: #1f77b4\"/>\n   </g>\n   <g id=\"patch_89\">\n    <path d=\"M 103.251311 224.64 \nL 103.813905 224.64 \nL 103.813905 224.491409 \nL 103.251311 224.491409 \nz\n\" clip-path=\"url(#pa99849d8f2)\" style=\"fill: #1f77b4\"/>\n   </g>\n   <g id=\"patch_90\">\n    <path d=\"M 103.813905 224.64 \nL 104.3765 224.64 \nL 104.3765 224.64 \nL 103.813905 224.64 \nz\n\" clip-path=\"url(#pa99849d8f2)\" style=\"fill: #1f77b4\"/>\n   </g>\n   <g id=\"patch_91\">\n    <path d=\"M 104.3765 224.64 \nL 104.939094 224.64 \nL 104.939094 224.64 \nL 104.3765 224.64 \nz\n\" clip-path=\"url(#pa99849d8f2)\" style=\"fill: #1f77b4\"/>\n   </g>\n   <g id=\"patch_92\">\n    <path d=\"M 104.939094 224.64 \nL 105.501689 224.64 \nL 105.501689 224.64 \nL 104.939094 224.64 \nz\n\" clip-path=\"url(#pa99849d8f2)\" style=\"fill: #1f77b4\"/>\n   </g>\n   <g id=\"patch_93\">\n    <path d=\"M 105.501689 224.64 \nL 106.064283 224.64 \nL 106.064283 224.194228 \nL 105.501689 224.194228 \nz\n\" clip-path=\"url(#pa99849d8f2)\" style=\"fill: #1f77b4\"/>\n   </g>\n   <g id=\"patch_94\">\n    <path d=\"M 106.064283 224.64 \nL 106.626878 224.64 \nL 106.626878 224.64 \nL 106.064283 224.64 \nz\n\" clip-path=\"url(#pa99849d8f2)\" style=\"fill: #1f77b4\"/>\n   </g>\n   <g id=\"patch_95\">\n    <path d=\"M 106.626878 224.64 \nL 107.189472 224.64 \nL 107.189472 224.64 \nL 106.626878 224.64 \nz\n\" clip-path=\"url(#pa99849d8f2)\" style=\"fill: #1f77b4\"/>\n   </g>\n   <g id=\"patch_96\">\n    <path d=\"M 107.189472 224.64 \nL 107.752067 224.64 \nL 107.752067 224.54094 \nL 107.189472 224.54094 \nz\n\" clip-path=\"url(#pa99849d8f2)\" style=\"fill: #1f77b4\"/>\n   </g>\n   <g id=\"patch_97\">\n    <path d=\"M 107.752067 224.64 \nL 108.314661 224.64 \nL 108.314661 224.64 \nL 107.752067 224.64 \nz\n\" clip-path=\"url(#pa99849d8f2)\" style=\"fill: #1f77b4\"/>\n   </g>\n   <g id=\"patch_98\">\n    <path d=\"M 108.314661 224.64 \nL 108.877256 224.64 \nL 108.877256 224.64 \nL 108.314661 224.64 \nz\n\" clip-path=\"url(#pa99849d8f2)\" style=\"fill: #1f77b4\"/>\n   </g>\n   <g id=\"patch_99\">\n    <path d=\"M 108.877256 224.64 \nL 109.43985 224.64 \nL 109.43985 224.64 \nL 108.877256 224.64 \nz\n\" clip-path=\"url(#pa99849d8f2)\" style=\"fill: #1f77b4\"/>\n   </g>\n   <g id=\"patch_100\">\n    <path d=\"M 109.43985 224.64 \nL 110.002445 224.64 \nL 110.002445 224.59047 \nL 109.43985 224.59047 \nz\n\" clip-path=\"url(#pa99849d8f2)\" style=\"fill: #1f77b4\"/>\n   </g>\n   <g id=\"patch_101\">\n    <path d=\"M 110.002445 224.64 \nL 110.565039 224.64 \nL 110.565039 224.64 \nL 110.002445 224.64 \nz\n\" clip-path=\"url(#pa99849d8f2)\" style=\"fill: #1f77b4\"/>\n   </g>\n   <g id=\"patch_102\">\n    <path d=\"M 110.565039 224.64 \nL 111.127634 224.64 \nL 111.127634 224.64 \nL 110.565039 224.64 \nz\n\" clip-path=\"url(#pa99849d8f2)\" style=\"fill: #1f77b4\"/>\n   </g>\n   <g id=\"patch_103\">\n    <path d=\"M 111.127634 224.64 \nL 111.690229 224.64 \nL 111.690229 224.54094 \nL 111.127634 224.54094 \nz\n\" clip-path=\"url(#pa99849d8f2)\" style=\"fill: #1f77b4\"/>\n   </g>\n   <g id=\"patch_104\">\n    <path d=\"M 111.690229 224.64 \nL 112.252823 224.64 \nL 112.252823 224.64 \nL 111.690229 224.64 \nz\n\" clip-path=\"url(#pa99849d8f2)\" style=\"fill: #1f77b4\"/>\n   </g>\n   <g id=\"patch_105\">\n    <path d=\"M 112.252823 224.64 \nL 112.815418 224.64 \nL 112.815418 224.64 \nL 112.252823 224.64 \nz\n\" clip-path=\"url(#pa99849d8f2)\" style=\"fill: #1f77b4\"/>\n   </g>\n   <g id=\"patch_106\">\n    <path d=\"M 112.815418 224.64 \nL 113.378012 224.64 \nL 113.378012 224.64 \nL 112.815418 224.64 \nz\n\" clip-path=\"url(#pa99849d8f2)\" style=\"fill: #1f77b4\"/>\n   </g>\n   <g id=\"patch_107\">\n    <path d=\"M 113.378012 224.64 \nL 113.940607 224.64 \nL 113.940607 224.392349 \nL 113.378012 224.392349 \nz\n\" clip-path=\"url(#pa99849d8f2)\" style=\"fill: #1f77b4\"/>\n   </g>\n   <g id=\"patch_108\">\n    <path d=\"M 113.940607 224.64 \nL 114.503201 224.64 \nL 114.503201 224.64 \nL 113.940607 224.64 \nz\n\" clip-path=\"url(#pa99849d8f2)\" style=\"fill: #1f77b4\"/>\n   </g>\n   <g id=\"patch_109\">\n    <path d=\"M 114.503201 224.64 \nL 115.065796 224.64 \nL 115.065796 224.64 \nL 114.503201 224.64 \nz\n\" clip-path=\"url(#pa99849d8f2)\" style=\"fill: #1f77b4\"/>\n   </g>\n   <g id=\"patch_110\">\n    <path d=\"M 115.065796 224.64 \nL 115.62839 224.64 \nL 115.62839 224.64 \nL 115.065796 224.64 \nz\n\" clip-path=\"url(#pa99849d8f2)\" style=\"fill: #1f77b4\"/>\n   </g>\n   <g id=\"patch_111\">\n    <path d=\"M 115.62839 224.64 \nL 116.190985 224.64 \nL 116.190985 224.54094 \nL 115.62839 224.54094 \nz\n\" clip-path=\"url(#pa99849d8f2)\" style=\"fill: #1f77b4\"/>\n   </g>\n   <g id=\"patch_112\">\n    <path d=\"M 116.190985 224.64 \nL 116.753579 224.64 \nL 116.753579 224.64 \nL 116.190985 224.64 \nz\n\" clip-path=\"url(#pa99849d8f2)\" style=\"fill: #1f77b4\"/>\n   </g>\n   <g id=\"patch_113\">\n    <path d=\"M 116.753579 224.64 \nL 117.316174 224.64 \nL 117.316174 224.64 \nL 116.753579 224.64 \nz\n\" clip-path=\"url(#pa99849d8f2)\" style=\"fill: #1f77b4\"/>\n   </g>\n   <g id=\"patch_114\">\n    <path d=\"M 117.316174 224.64 \nL 117.878768 224.64 \nL 117.878768 224.54094 \nL 117.316174 224.54094 \nz\n\" clip-path=\"url(#pa99849d8f2)\" style=\"fill: #1f77b4\"/>\n   </g>\n   <g id=\"patch_115\">\n    <path d=\"M 117.878768 224.64 \nL 118.441363 224.64 \nL 118.441363 224.64 \nL 117.878768 224.64 \nz\n\" clip-path=\"url(#pa99849d8f2)\" style=\"fill: #1f77b4\"/>\n   </g>\n   <g id=\"patch_116\">\n    <path d=\"M 118.441363 224.64 \nL 119.003957 224.64 \nL 119.003957 224.64 \nL 118.441363 224.64 \nz\n\" clip-path=\"url(#pa99849d8f2)\" style=\"fill: #1f77b4\"/>\n   </g>\n   <g id=\"patch_117\">\n    <path d=\"M 119.003957 224.64 \nL 119.566552 224.64 \nL 119.566552 224.64 \nL 119.003957 224.64 \nz\n\" clip-path=\"url(#pa99849d8f2)\" style=\"fill: #1f77b4\"/>\n   </g>\n   <g id=\"patch_118\">\n    <path d=\"M 119.566552 224.64 \nL 120.129146 224.64 \nL 120.129146 224.59047 \nL 119.566552 224.59047 \nz\n\" clip-path=\"url(#pa99849d8f2)\" style=\"fill: #1f77b4\"/>\n   </g>\n   <g id=\"patch_119\">\n    <path d=\"M 120.129146 224.64 \nL 120.691741 224.64 \nL 120.691741 224.64 \nL 120.129146 224.64 \nz\n\" clip-path=\"url(#pa99849d8f2)\" style=\"fill: #1f77b4\"/>\n   </g>\n   <g id=\"patch_120\">\n    <path d=\"M 120.691741 224.64 \nL 121.254335 224.64 \nL 121.254335 224.64 \nL 120.691741 224.64 \nz\n\" clip-path=\"url(#pa99849d8f2)\" style=\"fill: #1f77b4\"/>\n   </g>\n   <g id=\"patch_121\">\n    <path d=\"M 121.254335 224.64 \nL 121.81693 224.64 \nL 121.81693 224.64 \nL 121.254335 224.64 \nz\n\" clip-path=\"url(#pa99849d8f2)\" style=\"fill: #1f77b4\"/>\n   </g>\n   <g id=\"patch_122\">\n    <path d=\"M 121.81693 224.64 \nL 122.379524 224.64 \nL 122.379524 224.59047 \nL 121.81693 224.59047 \nz\n\" clip-path=\"url(#pa99849d8f2)\" style=\"fill: #1f77b4\"/>\n   </g>\n   <g id=\"patch_123\">\n    <path d=\"M 122.379524 224.64 \nL 122.942119 224.64 \nL 122.942119 224.64 \nL 122.379524 224.64 \nz\n\" clip-path=\"url(#pa99849d8f2)\" style=\"fill: #1f77b4\"/>\n   </g>\n   <g id=\"patch_124\">\n    <path d=\"M 122.942119 224.64 \nL 123.504713 224.64 \nL 123.504713 224.64 \nL 122.942119 224.64 \nz\n\" clip-path=\"url(#pa99849d8f2)\" style=\"fill: #1f77b4\"/>\n   </g>\n   <g id=\"patch_125\">\n    <path d=\"M 123.504713 224.64 \nL 124.067308 224.64 \nL 124.067308 224.441879 \nL 123.504713 224.441879 \nz\n\" clip-path=\"url(#pa99849d8f2)\" style=\"fill: #1f77b4\"/>\n   </g>\n   <g id=\"patch_126\">\n    <path d=\"M 124.067308 224.64 \nL 124.629903 224.64 \nL 124.629903 224.64 \nL 124.067308 224.64 \nz\n\" clip-path=\"url(#pa99849d8f2)\" style=\"fill: #1f77b4\"/>\n   </g>\n   <g id=\"patch_127\">\n    <path d=\"M 124.629903 224.64 \nL 125.192497 224.64 \nL 125.192497 224.64 \nL 124.629903 224.64 \nz\n\" clip-path=\"url(#pa99849d8f2)\" style=\"fill: #1f77b4\"/>\n   </g>\n   <g id=\"patch_128\">\n    <path d=\"M 125.192497 224.64 \nL 125.755092 224.64 \nL 125.755092 224.64 \nL 125.192497 224.64 \nz\n\" clip-path=\"url(#pa99849d8f2)\" style=\"fill: #1f77b4\"/>\n   </g>\n   <g id=\"patch_129\">\n    <path d=\"M 125.755092 224.64 \nL 126.317686 224.64 \nL 126.317686 224.54094 \nL 125.755092 224.54094 \nz\n\" clip-path=\"url(#pa99849d8f2)\" style=\"fill: #1f77b4\"/>\n   </g>\n   <g id=\"patch_130\">\n    <path d=\"M 126.317686 224.64 \nL 126.880281 224.64 \nL 126.880281 224.64 \nL 126.317686 224.64 \nz\n\" clip-path=\"url(#pa99849d8f2)\" style=\"fill: #1f77b4\"/>\n   </g>\n   <g id=\"patch_131\">\n    <path d=\"M 126.880281 224.64 \nL 127.442875 224.64 \nL 127.442875 224.64 \nL 126.880281 224.64 \nz\n\" clip-path=\"url(#pa99849d8f2)\" style=\"fill: #1f77b4\"/>\n   </g>\n   <g id=\"patch_132\">\n    <path d=\"M 127.442875 224.64 \nL 128.00547 224.64 \nL 128.00547 224.64 \nL 127.442875 224.64 \nz\n\" clip-path=\"url(#pa99849d8f2)\" style=\"fill: #1f77b4\"/>\n   </g>\n   <g id=\"patch_133\">\n    <path d=\"M 128.00547 224.64 \nL 128.568064 224.64 \nL 128.568064 224.64 \nL 128.00547 224.64 \nz\n\" clip-path=\"url(#pa99849d8f2)\" style=\"fill: #1f77b4\"/>\n   </g>\n   <g id=\"patch_134\">\n    <path d=\"M 128.568064 224.64 \nL 129.130659 224.64 \nL 129.130659 224.64 \nL 128.568064 224.64 \nz\n\" clip-path=\"url(#pa99849d8f2)\" style=\"fill: #1f77b4\"/>\n   </g>\n   <g id=\"patch_135\">\n    <path d=\"M 129.130659 224.64 \nL 129.693253 224.64 \nL 129.693253 224.64 \nL 129.130659 224.64 \nz\n\" clip-path=\"url(#pa99849d8f2)\" style=\"fill: #1f77b4\"/>\n   </g>\n   <g id=\"patch_136\">\n    <path d=\"M 129.693253 224.64 \nL 130.255848 224.64 \nL 130.255848 224.64 \nL 129.693253 224.64 \nz\n\" clip-path=\"url(#pa99849d8f2)\" style=\"fill: #1f77b4\"/>\n   </g>\n   <g id=\"patch_137\">\n    <path d=\"M 130.255848 224.64 \nL 130.818442 224.64 \nL 130.818442 224.64 \nL 130.255848 224.64 \nz\n\" clip-path=\"url(#pa99849d8f2)\" style=\"fill: #1f77b4\"/>\n   </g>\n   <g id=\"patch_138\">\n    <path d=\"M 130.818442 224.64 \nL 131.381037 224.64 \nL 131.381037 224.64 \nL 130.818442 224.64 \nz\n\" clip-path=\"url(#pa99849d8f2)\" style=\"fill: #1f77b4\"/>\n   </g>\n   <g id=\"patch_139\">\n    <path d=\"M 131.381037 224.64 \nL 131.943631 224.64 \nL 131.943631 224.64 \nL 131.381037 224.64 \nz\n\" clip-path=\"url(#pa99849d8f2)\" style=\"fill: #1f77b4\"/>\n   </g>\n   <g id=\"patch_140\">\n    <path d=\"M 131.943631 224.64 \nL 132.506226 224.64 \nL 132.506226 224.59047 \nL 131.943631 224.59047 \nz\n\" clip-path=\"url(#pa99849d8f2)\" style=\"fill: #1f77b4\"/>\n   </g>\n   <g id=\"patch_141\">\n    <path d=\"M 132.506226 224.64 \nL 133.06882 224.64 \nL 133.06882 224.64 \nL 132.506226 224.64 \nz\n\" clip-path=\"url(#pa99849d8f2)\" style=\"fill: #1f77b4\"/>\n   </g>\n   <g id=\"patch_142\">\n    <path d=\"M 133.06882 224.64 \nL 133.631415 224.64 \nL 133.631415 224.64 \nL 133.06882 224.64 \nz\n\" clip-path=\"url(#pa99849d8f2)\" style=\"fill: #1f77b4\"/>\n   </g>\n   <g id=\"patch_143\">\n    <path d=\"M 133.631415 224.64 \nL 134.194009 224.64 \nL 134.194009 224.64 \nL 133.631415 224.64 \nz\n\" clip-path=\"url(#pa99849d8f2)\" style=\"fill: #1f77b4\"/>\n   </g>\n   <g id=\"patch_144\">\n    <path d=\"M 134.194009 224.64 \nL 134.756604 224.64 \nL 134.756604 224.64 \nL 134.194009 224.64 \nz\n\" clip-path=\"url(#pa99849d8f2)\" style=\"fill: #1f77b4\"/>\n   </g>\n   <g id=\"patch_145\">\n    <path d=\"M 134.756604 224.64 \nL 135.319198 224.64 \nL 135.319198 224.64 \nL 134.756604 224.64 \nz\n\" clip-path=\"url(#pa99849d8f2)\" style=\"fill: #1f77b4\"/>\n   </g>\n   <g id=\"patch_146\">\n    <path d=\"M 135.319198 224.64 \nL 135.881793 224.64 \nL 135.881793 224.64 \nL 135.319198 224.64 \nz\n\" clip-path=\"url(#pa99849d8f2)\" style=\"fill: #1f77b4\"/>\n   </g>\n   <g id=\"patch_147\">\n    <path d=\"M 135.881793 224.64 \nL 136.444387 224.64 \nL 136.444387 224.59047 \nL 135.881793 224.59047 \nz\n\" clip-path=\"url(#pa99849d8f2)\" style=\"fill: #1f77b4\"/>\n   </g>\n   <g id=\"patch_148\">\n    <path d=\"M 136.444387 224.64 \nL 137.006982 224.64 \nL 137.006982 224.64 \nL 136.444387 224.64 \nz\n\" clip-path=\"url(#pa99849d8f2)\" style=\"fill: #1f77b4\"/>\n   </g>\n   <g id=\"patch_149\">\n    <path d=\"M 137.006982 224.64 \nL 137.569577 224.64 \nL 137.569577 224.64 \nL 137.006982 224.64 \nz\n\" clip-path=\"url(#pa99849d8f2)\" style=\"fill: #1f77b4\"/>\n   </g>\n   <g id=\"patch_150\">\n    <path d=\"M 137.569577 224.64 \nL 138.132171 224.64 \nL 138.132171 224.59047 \nL 137.569577 224.59047 \nz\n\" clip-path=\"url(#pa99849d8f2)\" style=\"fill: #1f77b4\"/>\n   </g>\n   <g id=\"patch_151\">\n    <path d=\"M 138.132171 224.64 \nL 138.694766 224.64 \nL 138.694766 224.64 \nL 138.132171 224.64 \nz\n\" clip-path=\"url(#pa99849d8f2)\" style=\"fill: #1f77b4\"/>\n   </g>\n   <g id=\"patch_152\">\n    <path d=\"M 138.694766 224.64 \nL 139.25736 224.64 \nL 139.25736 224.64 \nL 138.694766 224.64 \nz\n\" clip-path=\"url(#pa99849d8f2)\" style=\"fill: #1f77b4\"/>\n   </g>\n   <g id=\"patch_153\">\n    <path d=\"M 139.25736 224.64 \nL 139.819955 224.64 \nL 139.819955 224.64 \nL 139.25736 224.64 \nz\n\" clip-path=\"url(#pa99849d8f2)\" style=\"fill: #1f77b4\"/>\n   </g>\n   <g id=\"patch_154\">\n    <path d=\"M 139.819955 224.64 \nL 140.382549 224.64 \nL 140.382549 224.64 \nL 139.819955 224.64 \nz\n\" clip-path=\"url(#pa99849d8f2)\" style=\"fill: #1f77b4\"/>\n   </g>\n   <g id=\"patch_155\">\n    <path d=\"M 140.382549 224.64 \nL 140.945144 224.64 \nL 140.945144 224.64 \nL 140.382549 224.64 \nz\n\" clip-path=\"url(#pa99849d8f2)\" style=\"fill: #1f77b4\"/>\n   </g>\n   <g id=\"patch_156\">\n    <path d=\"M 140.945144 224.64 \nL 141.507738 224.64 \nL 141.507738 224.64 \nL 140.945144 224.64 \nz\n\" clip-path=\"url(#pa99849d8f2)\" style=\"fill: #1f77b4\"/>\n   </g>\n   <g id=\"patch_157\">\n    <path d=\"M 141.507738 224.64 \nL 142.070333 224.64 \nL 142.070333 224.64 \nL 141.507738 224.64 \nz\n\" clip-path=\"url(#pa99849d8f2)\" style=\"fill: #1f77b4\"/>\n   </g>\n   <g id=\"patch_158\">\n    <path d=\"M 142.070333 224.64 \nL 142.632927 224.64 \nL 142.632927 224.64 \nL 142.070333 224.64 \nz\n\" clip-path=\"url(#pa99849d8f2)\" style=\"fill: #1f77b4\"/>\n   </g>\n   <g id=\"patch_159\">\n    <path d=\"M 142.632927 224.64 \nL 143.195522 224.64 \nL 143.195522 224.64 \nL 142.632927 224.64 \nz\n\" clip-path=\"url(#pa99849d8f2)\" style=\"fill: #1f77b4\"/>\n   </g>\n   <g id=\"patch_160\">\n    <path d=\"M 143.195522 224.64 \nL 143.758116 224.64 \nL 143.758116 224.64 \nL 143.195522 224.64 \nz\n\" clip-path=\"url(#pa99849d8f2)\" style=\"fill: #1f77b4\"/>\n   </g>\n   <g id=\"patch_161\">\n    <path d=\"M 143.758116 224.64 \nL 144.320711 224.64 \nL 144.320711 224.59047 \nL 143.758116 224.59047 \nz\n\" clip-path=\"url(#pa99849d8f2)\" style=\"fill: #1f77b4\"/>\n   </g>\n   <g id=\"patch_162\">\n    <path d=\"M 144.320711 224.64 \nL 144.883305 224.64 \nL 144.883305 224.64 \nL 144.320711 224.64 \nz\n\" clip-path=\"url(#pa99849d8f2)\" style=\"fill: #1f77b4\"/>\n   </g>\n   <g id=\"patch_163\">\n    <path d=\"M 144.883305 224.64 \nL 145.4459 224.64 \nL 145.4459 224.64 \nL 144.883305 224.64 \nz\n\" clip-path=\"url(#pa99849d8f2)\" style=\"fill: #1f77b4\"/>\n   </g>\n   <g id=\"patch_164\">\n    <path d=\"M 145.4459 224.64 \nL 146.008494 224.64 \nL 146.008494 224.64 \nL 145.4459 224.64 \nz\n\" clip-path=\"url(#pa99849d8f2)\" style=\"fill: #1f77b4\"/>\n   </g>\n   <g id=\"patch_165\">\n    <path d=\"M 146.008494 224.64 \nL 146.571089 224.64 \nL 146.571089 224.59047 \nL 146.008494 224.59047 \nz\n\" clip-path=\"url(#pa99849d8f2)\" style=\"fill: #1f77b4\"/>\n   </g>\n   <g id=\"patch_166\">\n    <path d=\"M 146.571089 224.64 \nL 147.133683 224.64 \nL 147.133683 224.64 \nL 146.571089 224.64 \nz\n\" clip-path=\"url(#pa99849d8f2)\" style=\"fill: #1f77b4\"/>\n   </g>\n   <g id=\"patch_167\">\n    <path d=\"M 147.133683 224.64 \nL 147.696278 224.64 \nL 147.696278 224.64 \nL 147.133683 224.64 \nz\n\" clip-path=\"url(#pa99849d8f2)\" style=\"fill: #1f77b4\"/>\n   </g>\n   <g id=\"patch_168\">\n    <path d=\"M 147.696278 224.64 \nL 148.258872 224.64 \nL 148.258872 224.59047 \nL 147.696278 224.59047 \nz\n\" clip-path=\"url(#pa99849d8f2)\" style=\"fill: #1f77b4\"/>\n   </g>\n   <g id=\"patch_169\">\n    <path d=\"M 148.258872 224.64 \nL 148.821467 224.64 \nL 148.821467 224.64 \nL 148.258872 224.64 \nz\n\" clip-path=\"url(#pa99849d8f2)\" style=\"fill: #1f77b4\"/>\n   </g>\n   <g id=\"patch_170\">\n    <path d=\"M 148.821467 224.64 \nL 149.384062 224.64 \nL 149.384062 224.64 \nL 148.821467 224.64 \nz\n\" clip-path=\"url(#pa99849d8f2)\" style=\"fill: #1f77b4\"/>\n   </g>\n   <g id=\"patch_171\">\n    <path d=\"M 149.384062 224.64 \nL 149.946656 224.64 \nL 149.946656 224.64 \nL 149.384062 224.64 \nz\n\" clip-path=\"url(#pa99849d8f2)\" style=\"fill: #1f77b4\"/>\n   </g>\n   <g id=\"patch_172\">\n    <path d=\"M 149.946656 224.64 \nL 150.509251 224.64 \nL 150.509251 224.64 \nL 149.946656 224.64 \nz\n\" clip-path=\"url(#pa99849d8f2)\" style=\"fill: #1f77b4\"/>\n   </g>\n   <g id=\"patch_173\">\n    <path d=\"M 150.509251 224.64 \nL 151.071845 224.64 \nL 151.071845 224.64 \nL 150.509251 224.64 \nz\n\" clip-path=\"url(#pa99849d8f2)\" style=\"fill: #1f77b4\"/>\n   </g>\n   <g id=\"patch_174\">\n    <path d=\"M 151.071845 224.64 \nL 151.63444 224.64 \nL 151.63444 224.64 \nL 151.071845 224.64 \nz\n\" clip-path=\"url(#pa99849d8f2)\" style=\"fill: #1f77b4\"/>\n   </g>\n   <g id=\"patch_175\">\n    <path d=\"M 151.63444 224.64 \nL 152.197034 224.64 \nL 152.197034 224.64 \nL 151.63444 224.64 \nz\n\" clip-path=\"url(#pa99849d8f2)\" style=\"fill: #1f77b4\"/>\n   </g>\n   <g id=\"patch_176\">\n    <path d=\"M 152.197034 224.64 \nL 152.759629 224.64 \nL 152.759629 224.59047 \nL 152.197034 224.59047 \nz\n\" clip-path=\"url(#pa99849d8f2)\" style=\"fill: #1f77b4\"/>\n   </g>\n   <g id=\"patch_177\">\n    <path d=\"M 152.759629 224.64 \nL 153.322223 224.64 \nL 153.322223 224.64 \nL 152.759629 224.64 \nz\n\" clip-path=\"url(#pa99849d8f2)\" style=\"fill: #1f77b4\"/>\n   </g>\n   <g id=\"patch_178\">\n    <path d=\"M 153.322223 224.64 \nL 153.884818 224.64 \nL 153.884818 224.64 \nL 153.322223 224.64 \nz\n\" clip-path=\"url(#pa99849d8f2)\" style=\"fill: #1f77b4\"/>\n   </g>\n   <g id=\"patch_179\">\n    <path d=\"M 153.884818 224.64 \nL 154.447412 224.64 \nL 154.447412 224.64 \nL 153.884818 224.64 \nz\n\" clip-path=\"url(#pa99849d8f2)\" style=\"fill: #1f77b4\"/>\n   </g>\n   <g id=\"patch_180\">\n    <path d=\"M 154.447412 224.64 \nL 155.010007 224.64 \nL 155.010007 224.64 \nL 154.447412 224.64 \nz\n\" clip-path=\"url(#pa99849d8f2)\" style=\"fill: #1f77b4\"/>\n   </g>\n   <g id=\"patch_181\">\n    <path d=\"M 155.010007 224.64 \nL 155.572601 224.64 \nL 155.572601 224.64 \nL 155.010007 224.64 \nz\n\" clip-path=\"url(#pa99849d8f2)\" style=\"fill: #1f77b4\"/>\n   </g>\n   <g id=\"patch_182\">\n    <path d=\"M 155.572601 224.64 \nL 156.135196 224.64 \nL 156.135196 224.64 \nL 155.572601 224.64 \nz\n\" clip-path=\"url(#pa99849d8f2)\" style=\"fill: #1f77b4\"/>\n   </g>\n   <g id=\"patch_183\">\n    <path d=\"M 156.135196 224.64 \nL 156.69779 224.64 \nL 156.69779 224.64 \nL 156.135196 224.64 \nz\n\" clip-path=\"url(#pa99849d8f2)\" style=\"fill: #1f77b4\"/>\n   </g>\n   <g id=\"patch_184\">\n    <path d=\"M 156.69779 224.64 \nL 157.260385 224.64 \nL 157.260385 224.64 \nL 156.69779 224.64 \nz\n\" clip-path=\"url(#pa99849d8f2)\" style=\"fill: #1f77b4\"/>\n   </g>\n   <g id=\"patch_185\">\n    <path d=\"M 157.260385 224.64 \nL 157.822979 224.64 \nL 157.822979 224.64 \nL 157.260385 224.64 \nz\n\" clip-path=\"url(#pa99849d8f2)\" style=\"fill: #1f77b4\"/>\n   </g>\n   <g id=\"patch_186\">\n    <path d=\"M 157.822979 224.64 \nL 158.385574 224.64 \nL 158.385574 224.64 \nL 157.822979 224.64 \nz\n\" clip-path=\"url(#pa99849d8f2)\" style=\"fill: #1f77b4\"/>\n   </g>\n   <g id=\"patch_187\">\n    <path d=\"M 158.385574 224.64 \nL 158.948168 224.64 \nL 158.948168 224.64 \nL 158.385574 224.64 \nz\n\" clip-path=\"url(#pa99849d8f2)\" style=\"fill: #1f77b4\"/>\n   </g>\n   <g id=\"patch_188\">\n    <path d=\"M 158.948168 224.64 \nL 159.510763 224.64 \nL 159.510763 224.64 \nL 158.948168 224.64 \nz\n\" clip-path=\"url(#pa99849d8f2)\" style=\"fill: #1f77b4\"/>\n   </g>\n   <g id=\"patch_189\">\n    <path d=\"M 159.510763 224.64 \nL 160.073357 224.64 \nL 160.073357 224.64 \nL 159.510763 224.64 \nz\n\" clip-path=\"url(#pa99849d8f2)\" style=\"fill: #1f77b4\"/>\n   </g>\n   <g id=\"patch_190\">\n    <path d=\"M 160.073357 224.64 \nL 160.635952 224.64 \nL 160.635952 224.54094 \nL 160.073357 224.54094 \nz\n\" clip-path=\"url(#pa99849d8f2)\" style=\"fill: #1f77b4\"/>\n   </g>\n   <g id=\"patch_191\">\n    <path d=\"M 160.635952 224.64 \nL 161.198546 224.64 \nL 161.198546 224.64 \nL 160.635952 224.64 \nz\n\" clip-path=\"url(#pa99849d8f2)\" style=\"fill: #1f77b4\"/>\n   </g>\n   <g id=\"patch_192\">\n    <path d=\"M 161.198546 224.64 \nL 161.761141 224.64 \nL 161.761141 224.64 \nL 161.198546 224.64 \nz\n\" clip-path=\"url(#pa99849d8f2)\" style=\"fill: #1f77b4\"/>\n   </g>\n   <g id=\"patch_193\">\n    <path d=\"M 161.761141 224.64 \nL 162.323736 224.64 \nL 162.323736 224.64 \nL 161.761141 224.64 \nz\n\" clip-path=\"url(#pa99849d8f2)\" style=\"fill: #1f77b4\"/>\n   </g>\n   <g id=\"patch_194\">\n    <path d=\"M 162.323736 224.64 \nL 162.88633 224.64 \nL 162.88633 224.64 \nL 162.323736 224.64 \nz\n\" clip-path=\"url(#pa99849d8f2)\" style=\"fill: #1f77b4\"/>\n   </g>\n   <g id=\"patch_195\">\n    <path d=\"M 162.88633 224.64 \nL 163.448925 224.64 \nL 163.448925 224.64 \nL 162.88633 224.64 \nz\n\" clip-path=\"url(#pa99849d8f2)\" style=\"fill: #1f77b4\"/>\n   </g>\n   <g id=\"patch_196\">\n    <path d=\"M 163.448925 224.64 \nL 164.011519 224.64 \nL 164.011519 224.64 \nL 163.448925 224.64 \nz\n\" clip-path=\"url(#pa99849d8f2)\" style=\"fill: #1f77b4\"/>\n   </g>\n   <g id=\"patch_197\">\n    <path d=\"M 164.011519 224.64 \nL 164.574114 224.64 \nL 164.574114 224.64 \nL 164.011519 224.64 \nz\n\" clip-path=\"url(#pa99849d8f2)\" style=\"fill: #1f77b4\"/>\n   </g>\n   <g id=\"patch_198\">\n    <path d=\"M 164.574114 224.64 \nL 165.136708 224.64 \nL 165.136708 224.64 \nL 164.574114 224.64 \nz\n\" clip-path=\"url(#pa99849d8f2)\" style=\"fill: #1f77b4\"/>\n   </g>\n   <g id=\"patch_199\">\n    <path d=\"M 165.136708 224.64 \nL 165.699303 224.64 \nL 165.699303 224.64 \nL 165.136708 224.64 \nz\n\" clip-path=\"url(#pa99849d8f2)\" style=\"fill: #1f77b4\"/>\n   </g>\n   <g id=\"patch_200\">\n    <path d=\"M 165.699303 224.64 \nL 166.261897 224.64 \nL 166.261897 224.64 \nL 165.699303 224.64 \nz\n\" clip-path=\"url(#pa99849d8f2)\" style=\"fill: #1f77b4\"/>\n   </g>\n   <g id=\"patch_201\">\n    <path d=\"M 166.261897 224.64 \nL 166.824492 224.64 \nL 166.824492 224.59047 \nL 166.261897 224.59047 \nz\n\" clip-path=\"url(#pa99849d8f2)\" style=\"fill: #1f77b4\"/>\n   </g>\n   <g id=\"patch_202\">\n    <path d=\"M 166.824492 224.64 \nL 167.387086 224.64 \nL 167.387086 224.64 \nL 166.824492 224.64 \nz\n\" clip-path=\"url(#pa99849d8f2)\" style=\"fill: #1f77b4\"/>\n   </g>\n   <g id=\"patch_203\">\n    <path d=\"M 167.387086 224.64 \nL 167.949681 224.64 \nL 167.949681 224.64 \nL 167.387086 224.64 \nz\n\" clip-path=\"url(#pa99849d8f2)\" style=\"fill: #1f77b4\"/>\n   </g>\n   <g id=\"patch_204\">\n    <path d=\"M 167.949681 224.64 \nL 168.512275 224.64 \nL 168.512275 224.59047 \nL 167.949681 224.59047 \nz\n\" clip-path=\"url(#pa99849d8f2)\" style=\"fill: #1f77b4\"/>\n   </g>\n   <g id=\"patch_205\">\n    <path d=\"M 168.512275 224.64 \nL 169.07487 224.64 \nL 169.07487 224.64 \nL 168.512275 224.64 \nz\n\" clip-path=\"url(#pa99849d8f2)\" style=\"fill: #1f77b4\"/>\n   </g>\n   <g id=\"patch_206\">\n    <path d=\"M 169.07487 224.64 \nL 169.637464 224.64 \nL 169.637464 224.64 \nL 169.07487 224.64 \nz\n\" clip-path=\"url(#pa99849d8f2)\" style=\"fill: #1f77b4\"/>\n   </g>\n   <g id=\"patch_207\">\n    <path d=\"M 169.637464 224.64 \nL 170.200059 224.64 \nL 170.200059 224.64 \nL 169.637464 224.64 \nz\n\" clip-path=\"url(#pa99849d8f2)\" style=\"fill: #1f77b4\"/>\n   </g>\n   <g id=\"patch_208\">\n    <path d=\"M 170.200059 224.64 \nL 170.762653 224.64 \nL 170.762653 224.64 \nL 170.200059 224.64 \nz\n\" clip-path=\"url(#pa99849d8f2)\" style=\"fill: #1f77b4\"/>\n   </g>\n   <g id=\"patch_209\">\n    <path d=\"M 170.762653 224.64 \nL 171.325248 224.64 \nL 171.325248 224.64 \nL 170.762653 224.64 \nz\n\" clip-path=\"url(#pa99849d8f2)\" style=\"fill: #1f77b4\"/>\n   </g>\n   <g id=\"patch_210\">\n    <path d=\"M 171.325248 224.64 \nL 171.887842 224.64 \nL 171.887842 224.64 \nL 171.325248 224.64 \nz\n\" clip-path=\"url(#pa99849d8f2)\" style=\"fill: #1f77b4\"/>\n   </g>\n   <g id=\"patch_211\">\n    <path d=\"M 171.887842 224.64 \nL 172.450437 224.64 \nL 172.450437 224.64 \nL 171.887842 224.64 \nz\n\" clip-path=\"url(#pa99849d8f2)\" style=\"fill: #1f77b4\"/>\n   </g>\n   <g id=\"patch_212\">\n    <path d=\"M 172.450437 224.64 \nL 173.013031 224.64 \nL 173.013031 224.64 \nL 172.450437 224.64 \nz\n\" clip-path=\"url(#pa99849d8f2)\" style=\"fill: #1f77b4\"/>\n   </g>\n   <g id=\"patch_213\">\n    <path d=\"M 173.013031 224.64 \nL 173.575626 224.64 \nL 173.575626 224.64 \nL 173.013031 224.64 \nz\n\" clip-path=\"url(#pa99849d8f2)\" style=\"fill: #1f77b4\"/>\n   </g>\n   <g id=\"patch_214\">\n    <path d=\"M 173.575626 224.64 \nL 174.13822 224.64 \nL 174.13822 224.64 \nL 173.575626 224.64 \nz\n\" clip-path=\"url(#pa99849d8f2)\" style=\"fill: #1f77b4\"/>\n   </g>\n   <g id=\"patch_215\">\n    <path d=\"M 174.13822 224.64 \nL 174.700815 224.64 \nL 174.700815 224.54094 \nL 174.13822 224.54094 \nz\n\" clip-path=\"url(#pa99849d8f2)\" style=\"fill: #1f77b4\"/>\n   </g>\n   <g id=\"patch_216\">\n    <path d=\"M 174.700815 224.64 \nL 175.26341 224.64 \nL 175.26341 224.64 \nL 174.700815 224.64 \nz\n\" clip-path=\"url(#pa99849d8f2)\" style=\"fill: #1f77b4\"/>\n   </g>\n   <g id=\"patch_217\">\n    <path d=\"M 175.26341 224.64 \nL 175.826004 224.64 \nL 175.826004 224.64 \nL 175.26341 224.64 \nz\n\" clip-path=\"url(#pa99849d8f2)\" style=\"fill: #1f77b4\"/>\n   </g>\n   <g id=\"patch_218\">\n    <path d=\"M 175.826004 224.64 \nL 176.388599 224.64 \nL 176.388599 224.64 \nL 175.826004 224.64 \nz\n\" clip-path=\"url(#pa99849d8f2)\" style=\"fill: #1f77b4\"/>\n   </g>\n   <g id=\"patch_219\">\n    <path d=\"M 176.388599 224.64 \nL 176.951193 224.64 \nL 176.951193 224.64 \nL 176.388599 224.64 \nz\n\" clip-path=\"url(#pa99849d8f2)\" style=\"fill: #1f77b4\"/>\n   </g>\n   <g id=\"patch_220\">\n    <path d=\"M 176.951193 224.64 \nL 177.513788 224.64 \nL 177.513788 224.64 \nL 176.951193 224.64 \nz\n\" clip-path=\"url(#pa99849d8f2)\" style=\"fill: #1f77b4\"/>\n   </g>\n   <g id=\"patch_221\">\n    <path d=\"M 177.513788 224.64 \nL 178.076382 224.64 \nL 178.076382 224.64 \nL 177.513788 224.64 \nz\n\" clip-path=\"url(#pa99849d8f2)\" style=\"fill: #1f77b4\"/>\n   </g>\n   <g id=\"patch_222\">\n    <path d=\"M 178.076382 224.64 \nL 178.638977 224.64 \nL 178.638977 224.64 \nL 178.076382 224.64 \nz\n\" clip-path=\"url(#pa99849d8f2)\" style=\"fill: #1f77b4\"/>\n   </g>\n   <g id=\"patch_223\">\n    <path d=\"M 178.638977 224.64 \nL 179.201571 224.64 \nL 179.201571 224.64 \nL 178.638977 224.64 \nz\n\" clip-path=\"url(#pa99849d8f2)\" style=\"fill: #1f77b4\"/>\n   </g>\n   <g id=\"patch_224\">\n    <path d=\"M 179.201571 224.64 \nL 179.764166 224.64 \nL 179.764166 224.64 \nL 179.201571 224.64 \nz\n\" clip-path=\"url(#pa99849d8f2)\" style=\"fill: #1f77b4\"/>\n   </g>\n   <g id=\"patch_225\">\n    <path d=\"M 179.764166 224.64 \nL 180.32676 224.64 \nL 180.32676 224.64 \nL 179.764166 224.64 \nz\n\" clip-path=\"url(#pa99849d8f2)\" style=\"fill: #1f77b4\"/>\n   </g>\n   <g id=\"patch_226\">\n    <path d=\"M 180.32676 224.64 \nL 180.889355 224.64 \nL 180.889355 224.64 \nL 180.32676 224.64 \nz\n\" clip-path=\"url(#pa99849d8f2)\" style=\"fill: #1f77b4\"/>\n   </g>\n   <g id=\"patch_227\">\n    <path d=\"M 180.889355 224.64 \nL 181.451949 224.64 \nL 181.451949 224.64 \nL 180.889355 224.64 \nz\n\" clip-path=\"url(#pa99849d8f2)\" style=\"fill: #1f77b4\"/>\n   </g>\n   <g id=\"patch_228\">\n    <path d=\"M 181.451949 224.64 \nL 182.014544 224.64 \nL 182.014544 224.64 \nL 181.451949 224.64 \nz\n\" clip-path=\"url(#pa99849d8f2)\" style=\"fill: #1f77b4\"/>\n   </g>\n   <g id=\"patch_229\">\n    <path d=\"M 182.014544 224.64 \nL 182.577138 224.64 \nL 182.577138 224.64 \nL 182.014544 224.64 \nz\n\" clip-path=\"url(#pa99849d8f2)\" style=\"fill: #1f77b4\"/>\n   </g>\n   <g id=\"patch_230\">\n    <path d=\"M 182.577138 224.64 \nL 183.139733 224.64 \nL 183.139733 224.64 \nL 182.577138 224.64 \nz\n\" clip-path=\"url(#pa99849d8f2)\" style=\"fill: #1f77b4\"/>\n   </g>\n   <g id=\"patch_231\">\n    <path d=\"M 183.139733 224.64 \nL 183.702327 224.64 \nL 183.702327 224.64 \nL 183.139733 224.64 \nz\n\" clip-path=\"url(#pa99849d8f2)\" style=\"fill: #1f77b4\"/>\n   </g>\n   <g id=\"patch_232\">\n    <path d=\"M 183.702327 224.64 \nL 184.264922 224.64 \nL 184.264922 224.64 \nL 183.702327 224.64 \nz\n\" clip-path=\"url(#pa99849d8f2)\" style=\"fill: #1f77b4\"/>\n   </g>\n   <g id=\"patch_233\">\n    <path d=\"M 184.264922 224.64 \nL 184.827516 224.64 \nL 184.827516 224.64 \nL 184.264922 224.64 \nz\n\" clip-path=\"url(#pa99849d8f2)\" style=\"fill: #1f77b4\"/>\n   </g>\n   <g id=\"patch_234\">\n    <path d=\"M 184.827516 224.64 \nL 185.390111 224.64 \nL 185.390111 224.64 \nL 184.827516 224.64 \nz\n\" clip-path=\"url(#pa99849d8f2)\" style=\"fill: #1f77b4\"/>\n   </g>\n   <g id=\"patch_235\">\n    <path d=\"M 185.390111 224.64 \nL 185.952705 224.64 \nL 185.952705 224.64 \nL 185.390111 224.64 \nz\n\" clip-path=\"url(#pa99849d8f2)\" style=\"fill: #1f77b4\"/>\n   </g>\n   <g id=\"patch_236\">\n    <path d=\"M 185.952705 224.64 \nL 186.5153 224.64 \nL 186.5153 224.64 \nL 185.952705 224.64 \nz\n\" clip-path=\"url(#pa99849d8f2)\" style=\"fill: #1f77b4\"/>\n   </g>\n   <g id=\"patch_237\">\n    <path d=\"M 186.5153 224.64 \nL 187.077894 224.64 \nL 187.077894 224.64 \nL 186.5153 224.64 \nz\n\" clip-path=\"url(#pa99849d8f2)\" style=\"fill: #1f77b4\"/>\n   </g>\n   <g id=\"patch_238\">\n    <path d=\"M 187.077894 224.64 \nL 187.640489 224.64 \nL 187.640489 224.64 \nL 187.077894 224.64 \nz\n\" clip-path=\"url(#pa99849d8f2)\" style=\"fill: #1f77b4\"/>\n   </g>\n   <g id=\"patch_239\">\n    <path d=\"M 187.640489 224.64 \nL 188.203084 224.64 \nL 188.203084 224.64 \nL 187.640489 224.64 \nz\n\" clip-path=\"url(#pa99849d8f2)\" style=\"fill: #1f77b4\"/>\n   </g>\n   <g id=\"patch_240\">\n    <path d=\"M 188.203084 224.64 \nL 188.765678 224.64 \nL 188.765678 224.64 \nL 188.203084 224.64 \nz\n\" clip-path=\"url(#pa99849d8f2)\" style=\"fill: #1f77b4\"/>\n   </g>\n   <g id=\"patch_241\">\n    <path d=\"M 188.765678 224.64 \nL 189.328273 224.64 \nL 189.328273 224.64 \nL 188.765678 224.64 \nz\n\" clip-path=\"url(#pa99849d8f2)\" style=\"fill: #1f77b4\"/>\n   </g>\n   <g id=\"patch_242\">\n    <path d=\"M 189.328273 224.64 \nL 189.890867 224.64 \nL 189.890867 224.64 \nL 189.328273 224.64 \nz\n\" clip-path=\"url(#pa99849d8f2)\" style=\"fill: #1f77b4\"/>\n   </g>\n   <g id=\"patch_243\">\n    <path d=\"M 189.890867 224.64 \nL 190.453462 224.64 \nL 190.453462 224.64 \nL 189.890867 224.64 \nz\n\" clip-path=\"url(#pa99849d8f2)\" style=\"fill: #1f77b4\"/>\n   </g>\n   <g id=\"patch_244\">\n    <path d=\"M 190.453462 224.64 \nL 191.016056 224.64 \nL 191.016056 224.64 \nL 190.453462 224.64 \nz\n\" clip-path=\"url(#pa99849d8f2)\" style=\"fill: #1f77b4\"/>\n   </g>\n   <g id=\"patch_245\">\n    <path d=\"M 191.016056 224.64 \nL 191.578651 224.64 \nL 191.578651 224.64 \nL 191.016056 224.64 \nz\n\" clip-path=\"url(#pa99849d8f2)\" style=\"fill: #1f77b4\"/>\n   </g>\n   <g id=\"patch_246\">\n    <path d=\"M 191.578651 224.64 \nL 192.141245 224.64 \nL 192.141245 224.64 \nL 191.578651 224.64 \nz\n\" clip-path=\"url(#pa99849d8f2)\" style=\"fill: #1f77b4\"/>\n   </g>\n   <g id=\"patch_247\">\n    <path d=\"M 192.141245 224.64 \nL 192.70384 224.64 \nL 192.70384 224.64 \nL 192.141245 224.64 \nz\n\" clip-path=\"url(#pa99849d8f2)\" style=\"fill: #1f77b4\"/>\n   </g>\n   <g id=\"patch_248\">\n    <path d=\"M 192.70384 224.64 \nL 193.266434 224.64 \nL 193.266434 224.64 \nL 192.70384 224.64 \nz\n\" clip-path=\"url(#pa99849d8f2)\" style=\"fill: #1f77b4\"/>\n   </g>\n   <g id=\"patch_249\">\n    <path d=\"M 193.266434 224.64 \nL 193.829029 224.64 \nL 193.829029 224.64 \nL 193.266434 224.64 \nz\n\" clip-path=\"url(#pa99849d8f2)\" style=\"fill: #1f77b4\"/>\n   </g>\n   <g id=\"patch_250\">\n    <path d=\"M 193.829029 224.64 \nL 194.391623 224.64 \nL 194.391623 224.64 \nL 193.829029 224.64 \nz\n\" clip-path=\"url(#pa99849d8f2)\" style=\"fill: #1f77b4\"/>\n   </g>\n   <g id=\"patch_251\">\n    <path d=\"M 194.391623 224.64 \nL 194.954218 224.64 \nL 194.954218 224.64 \nL 194.391623 224.64 \nz\n\" clip-path=\"url(#pa99849d8f2)\" style=\"fill: #1f77b4\"/>\n   </g>\n   <g id=\"patch_252\">\n    <path d=\"M 194.954218 224.64 \nL 195.516812 224.64 \nL 195.516812 224.64 \nL 194.954218 224.64 \nz\n\" clip-path=\"url(#pa99849d8f2)\" style=\"fill: #1f77b4\"/>\n   </g>\n   <g id=\"patch_253\">\n    <path d=\"M 195.516812 224.64 \nL 196.079407 224.64 \nL 196.079407 224.64 \nL 195.516812 224.64 \nz\n\" clip-path=\"url(#pa99849d8f2)\" style=\"fill: #1f77b4\"/>\n   </g>\n   <g id=\"patch_254\">\n    <path d=\"M 196.079407 224.64 \nL 196.642001 224.64 \nL 196.642001 224.64 \nL 196.079407 224.64 \nz\n\" clip-path=\"url(#pa99849d8f2)\" style=\"fill: #1f77b4\"/>\n   </g>\n   <g id=\"patch_255\">\n    <path d=\"M 196.642001 224.64 \nL 197.204596 224.64 \nL 197.204596 224.64 \nL 196.642001 224.64 \nz\n\" clip-path=\"url(#pa99849d8f2)\" style=\"fill: #1f77b4\"/>\n   </g>\n   <g id=\"patch_256\">\n    <path d=\"M 197.204596 224.64 \nL 197.76719 224.64 \nL 197.76719 224.64 \nL 197.204596 224.64 \nz\n\" clip-path=\"url(#pa99849d8f2)\" style=\"fill: #1f77b4\"/>\n   </g>\n   <g id=\"patch_257\">\n    <path d=\"M 197.76719 224.64 \nL 198.329785 224.64 \nL 198.329785 224.64 \nL 197.76719 224.64 \nz\n\" clip-path=\"url(#pa99849d8f2)\" style=\"fill: #1f77b4\"/>\n   </g>\n   <g id=\"patch_258\">\n    <path d=\"M 198.329785 224.64 \nL 198.892379 224.64 \nL 198.892379 224.64 \nL 198.329785 224.64 \nz\n\" clip-path=\"url(#pa99849d8f2)\" style=\"fill: #1f77b4\"/>\n   </g>\n   <g id=\"patch_259\">\n    <path d=\"M 198.892379 224.64 \nL 199.454974 224.64 \nL 199.454974 224.64 \nL 198.892379 224.64 \nz\n\" clip-path=\"url(#pa99849d8f2)\" style=\"fill: #1f77b4\"/>\n   </g>\n   <g id=\"patch_260\">\n    <path d=\"M 199.454974 224.64 \nL 200.017568 224.64 \nL 200.017568 224.64 \nL 199.454974 224.64 \nz\n\" clip-path=\"url(#pa99849d8f2)\" style=\"fill: #1f77b4\"/>\n   </g>\n   <g id=\"patch_261\">\n    <path d=\"M 200.017568 224.64 \nL 200.580163 224.64 \nL 200.580163 224.64 \nL 200.017568 224.64 \nz\n\" clip-path=\"url(#pa99849d8f2)\" style=\"fill: #1f77b4\"/>\n   </g>\n   <g id=\"patch_262\">\n    <path d=\"M 200.580163 224.64 \nL 201.142758 224.64 \nL 201.142758 224.64 \nL 200.580163 224.64 \nz\n\" clip-path=\"url(#pa99849d8f2)\" style=\"fill: #1f77b4\"/>\n   </g>\n   <g id=\"patch_263\">\n    <path d=\"M 201.142758 224.64 \nL 201.705352 224.64 \nL 201.705352 224.64 \nL 201.142758 224.64 \nz\n\" clip-path=\"url(#pa99849d8f2)\" style=\"fill: #1f77b4\"/>\n   </g>\n   <g id=\"patch_264\">\n    <path d=\"M 201.705352 224.64 \nL 202.267947 224.64 \nL 202.267947 224.64 \nL 201.705352 224.64 \nz\n\" clip-path=\"url(#pa99849d8f2)\" style=\"fill: #1f77b4\"/>\n   </g>\n   <g id=\"patch_265\">\n    <path d=\"M 202.267947 224.64 \nL 202.830541 224.64 \nL 202.830541 224.64 \nL 202.267947 224.64 \nz\n\" clip-path=\"url(#pa99849d8f2)\" style=\"fill: #1f77b4\"/>\n   </g>\n   <g id=\"patch_266\">\n    <path d=\"M 202.830541 224.64 \nL 203.393136 224.64 \nL 203.393136 224.64 \nL 202.830541 224.64 \nz\n\" clip-path=\"url(#pa99849d8f2)\" style=\"fill: #1f77b4\"/>\n   </g>\n   <g id=\"patch_267\">\n    <path d=\"M 203.393136 224.64 \nL 203.95573 224.64 \nL 203.95573 224.64 \nL 203.393136 224.64 \nz\n\" clip-path=\"url(#pa99849d8f2)\" style=\"fill: #1f77b4\"/>\n   </g>\n   <g id=\"patch_268\">\n    <path d=\"M 203.95573 224.64 \nL 204.518325 224.64 \nL 204.518325 224.64 \nL 203.95573 224.64 \nz\n\" clip-path=\"url(#pa99849d8f2)\" style=\"fill: #1f77b4\"/>\n   </g>\n   <g id=\"patch_269\">\n    <path d=\"M 204.518325 224.64 \nL 205.080919 224.64 \nL 205.080919 224.64 \nL 204.518325 224.64 \nz\n\" clip-path=\"url(#pa99849d8f2)\" style=\"fill: #1f77b4\"/>\n   </g>\n   <g id=\"patch_270\">\n    <path d=\"M 205.080919 224.64 \nL 205.643514 224.64 \nL 205.643514 224.64 \nL 205.080919 224.64 \nz\n\" clip-path=\"url(#pa99849d8f2)\" style=\"fill: #1f77b4\"/>\n   </g>\n   <g id=\"patch_271\">\n    <path d=\"M 205.643514 224.64 \nL 206.206108 224.64 \nL 206.206108 224.64 \nL 205.643514 224.64 \nz\n\" clip-path=\"url(#pa99849d8f2)\" style=\"fill: #1f77b4\"/>\n   </g>\n   <g id=\"patch_272\">\n    <path d=\"M 206.206108 224.64 \nL 206.768703 224.64 \nL 206.768703 224.64 \nL 206.206108 224.64 \nz\n\" clip-path=\"url(#pa99849d8f2)\" style=\"fill: #1f77b4\"/>\n   </g>\n   <g id=\"patch_273\">\n    <path d=\"M 206.768703 224.64 \nL 207.331297 224.64 \nL 207.331297 224.64 \nL 206.768703 224.64 \nz\n\" clip-path=\"url(#pa99849d8f2)\" style=\"fill: #1f77b4\"/>\n   </g>\n   <g id=\"patch_274\">\n    <path d=\"M 207.331297 224.64 \nL 207.893892 224.64 \nL 207.893892 224.64 \nL 207.331297 224.64 \nz\n\" clip-path=\"url(#pa99849d8f2)\" style=\"fill: #1f77b4\"/>\n   </g>\n   <g id=\"patch_275\">\n    <path d=\"M 207.893892 224.64 \nL 208.456486 224.64 \nL 208.456486 224.64 \nL 207.893892 224.64 \nz\n\" clip-path=\"url(#pa99849d8f2)\" style=\"fill: #1f77b4\"/>\n   </g>\n   <g id=\"patch_276\">\n    <path d=\"M 208.456486 224.64 \nL 209.019081 224.64 \nL 209.019081 224.64 \nL 208.456486 224.64 \nz\n\" clip-path=\"url(#pa99849d8f2)\" style=\"fill: #1f77b4\"/>\n   </g>\n   <g id=\"patch_277\">\n    <path d=\"M 209.019081 224.64 \nL 209.581675 224.64 \nL 209.581675 224.64 \nL 209.019081 224.64 \nz\n\" clip-path=\"url(#pa99849d8f2)\" style=\"fill: #1f77b4\"/>\n   </g>\n   <g id=\"patch_278\">\n    <path d=\"M 209.581675 224.64 \nL 210.14427 224.64 \nL 210.14427 224.64 \nL 209.581675 224.64 \nz\n\" clip-path=\"url(#pa99849d8f2)\" style=\"fill: #1f77b4\"/>\n   </g>\n   <g id=\"patch_279\">\n    <path d=\"M 210.14427 224.64 \nL 210.706864 224.64 \nL 210.706864 224.64 \nL 210.14427 224.64 \nz\n\" clip-path=\"url(#pa99849d8f2)\" style=\"fill: #1f77b4\"/>\n   </g>\n   <g id=\"patch_280\">\n    <path d=\"M 210.706864 224.64 \nL 211.269459 224.64 \nL 211.269459 224.64 \nL 210.706864 224.64 \nz\n\" clip-path=\"url(#pa99849d8f2)\" style=\"fill: #1f77b4\"/>\n   </g>\n   <g id=\"patch_281\">\n    <path d=\"M 211.269459 224.64 \nL 211.832053 224.64 \nL 211.832053 224.64 \nL 211.269459 224.64 \nz\n\" clip-path=\"url(#pa99849d8f2)\" style=\"fill: #1f77b4\"/>\n   </g>\n   <g id=\"patch_282\">\n    <path d=\"M 211.832053 224.64 \nL 212.394648 224.64 \nL 212.394648 224.64 \nL 211.832053 224.64 \nz\n\" clip-path=\"url(#pa99849d8f2)\" style=\"fill: #1f77b4\"/>\n   </g>\n   <g id=\"patch_283\">\n    <path d=\"M 212.394648 224.64 \nL 212.957242 224.64 \nL 212.957242 224.64 \nL 212.394648 224.64 \nz\n\" clip-path=\"url(#pa99849d8f2)\" style=\"fill: #1f77b4\"/>\n   </g>\n   <g id=\"patch_284\">\n    <path d=\"M 212.957242 224.64 \nL 213.519837 224.64 \nL 213.519837 224.64 \nL 212.957242 224.64 \nz\n\" clip-path=\"url(#pa99849d8f2)\" style=\"fill: #1f77b4\"/>\n   </g>\n   <g id=\"patch_285\">\n    <path d=\"M 213.519837 224.64 \nL 214.082432 224.64 \nL 214.082432 224.64 \nL 213.519837 224.64 \nz\n\" clip-path=\"url(#pa99849d8f2)\" style=\"fill: #1f77b4\"/>\n   </g>\n   <g id=\"patch_286\">\n    <path d=\"M 214.082432 224.64 \nL 214.645026 224.64 \nL 214.645026 224.64 \nL 214.082432 224.64 \nz\n\" clip-path=\"url(#pa99849d8f2)\" style=\"fill: #1f77b4\"/>\n   </g>\n   <g id=\"patch_287\">\n    <path d=\"M 214.645026 224.64 \nL 215.207621 224.64 \nL 215.207621 224.64 \nL 214.645026 224.64 \nz\n\" clip-path=\"url(#pa99849d8f2)\" style=\"fill: #1f77b4\"/>\n   </g>\n   <g id=\"patch_288\">\n    <path d=\"M 215.207621 224.64 \nL 215.770215 224.64 \nL 215.770215 224.64 \nL 215.207621 224.64 \nz\n\" clip-path=\"url(#pa99849d8f2)\" style=\"fill: #1f77b4\"/>\n   </g>\n   <g id=\"patch_289\">\n    <path d=\"M 215.770215 224.64 \nL 216.33281 224.64 \nL 216.33281 224.64 \nL 215.770215 224.64 \nz\n\" clip-path=\"url(#pa99849d8f2)\" style=\"fill: #1f77b4\"/>\n   </g>\n   <g id=\"patch_290\">\n    <path d=\"M 216.33281 224.64 \nL 216.895404 224.64 \nL 216.895404 224.64 \nL 216.33281 224.64 \nz\n\" clip-path=\"url(#pa99849d8f2)\" style=\"fill: #1f77b4\"/>\n   </g>\n   <g id=\"patch_291\">\n    <path d=\"M 216.895404 224.64 \nL 217.457999 224.64 \nL 217.457999 224.64 \nL 216.895404 224.64 \nz\n\" clip-path=\"url(#pa99849d8f2)\" style=\"fill: #1f77b4\"/>\n   </g>\n   <g id=\"patch_292\">\n    <path d=\"M 217.457999 224.64 \nL 218.020593 224.64 \nL 218.020593 224.64 \nL 217.457999 224.64 \nz\n\" clip-path=\"url(#pa99849d8f2)\" style=\"fill: #1f77b4\"/>\n   </g>\n   <g id=\"patch_293\">\n    <path d=\"M 218.020593 224.64 \nL 218.583188 224.64 \nL 218.583188 224.64 \nL 218.020593 224.64 \nz\n\" clip-path=\"url(#pa99849d8f2)\" style=\"fill: #1f77b4\"/>\n   </g>\n   <g id=\"patch_294\">\n    <path d=\"M 218.583188 224.64 \nL 219.145782 224.64 \nL 219.145782 224.64 \nL 218.583188 224.64 \nz\n\" clip-path=\"url(#pa99849d8f2)\" style=\"fill: #1f77b4\"/>\n   </g>\n   <g id=\"patch_295\">\n    <path d=\"M 219.145782 224.64 \nL 219.708377 224.64 \nL 219.708377 224.64 \nL 219.145782 224.64 \nz\n\" clip-path=\"url(#pa99849d8f2)\" style=\"fill: #1f77b4\"/>\n   </g>\n   <g id=\"patch_296\">\n    <path d=\"M 219.708377 224.64 \nL 220.270971 224.64 \nL 220.270971 224.64 \nL 219.708377 224.64 \nz\n\" clip-path=\"url(#pa99849d8f2)\" style=\"fill: #1f77b4\"/>\n   </g>\n   <g id=\"patch_297\">\n    <path d=\"M 220.270971 224.64 \nL 220.833566 224.64 \nL 220.833566 224.64 \nL 220.270971 224.64 \nz\n\" clip-path=\"url(#pa99849d8f2)\" style=\"fill: #1f77b4\"/>\n   </g>\n   <g id=\"patch_298\">\n    <path d=\"M 220.833566 224.64 \nL 221.39616 224.64 \nL 221.39616 224.64 \nL 220.833566 224.64 \nz\n\" clip-path=\"url(#pa99849d8f2)\" style=\"fill: #1f77b4\"/>\n   </g>\n   <g id=\"patch_299\">\n    <path d=\"M 221.39616 224.64 \nL 221.958755 224.64 \nL 221.958755 224.64 \nL 221.39616 224.64 \nz\n\" clip-path=\"url(#pa99849d8f2)\" style=\"fill: #1f77b4\"/>\n   </g>\n   <g id=\"patch_300\">\n    <path d=\"M 221.958755 224.64 \nL 222.521349 224.64 \nL 222.521349 224.64 \nL 221.958755 224.64 \nz\n\" clip-path=\"url(#pa99849d8f2)\" style=\"fill: #1f77b4\"/>\n   </g>\n   <g id=\"patch_301\">\n    <path d=\"M 222.521349 224.64 \nL 223.083944 224.64 \nL 223.083944 224.64 \nL 222.521349 224.64 \nz\n\" clip-path=\"url(#pa99849d8f2)\" style=\"fill: #1f77b4\"/>\n   </g>\n   <g id=\"patch_302\">\n    <path d=\"M 223.083944 224.64 \nL 223.646538 224.64 \nL 223.646538 224.64 \nL 223.083944 224.64 \nz\n\" clip-path=\"url(#pa99849d8f2)\" style=\"fill: #1f77b4\"/>\n   </g>\n   <g id=\"patch_303\">\n    <path d=\"M 223.646538 224.64 \nL 224.209133 224.64 \nL 224.209133 224.64 \nL 223.646538 224.64 \nz\n\" clip-path=\"url(#pa99849d8f2)\" style=\"fill: #1f77b4\"/>\n   </g>\n   <g id=\"patch_304\">\n    <path d=\"M 224.209133 224.64 \nL 224.771727 224.64 \nL 224.771727 224.64 \nL 224.209133 224.64 \nz\n\" clip-path=\"url(#pa99849d8f2)\" style=\"fill: #1f77b4\"/>\n   </g>\n   <g id=\"patch_305\">\n    <path d=\"M 224.771727 224.64 \nL 225.334322 224.64 \nL 225.334322 224.64 \nL 224.771727 224.64 \nz\n\" clip-path=\"url(#pa99849d8f2)\" style=\"fill: #1f77b4\"/>\n   </g>\n   <g id=\"patch_306\">\n    <path d=\"M 225.334322 224.64 \nL 225.896916 224.64 \nL 225.896916 224.64 \nL 225.334322 224.64 \nz\n\" clip-path=\"url(#pa99849d8f2)\" style=\"fill: #1f77b4\"/>\n   </g>\n   <g id=\"patch_307\">\n    <path d=\"M 225.896916 224.64 \nL 226.459511 224.64 \nL 226.459511 224.64 \nL 225.896916 224.64 \nz\n\" clip-path=\"url(#pa99849d8f2)\" style=\"fill: #1f77b4\"/>\n   </g>\n   <g id=\"patch_308\">\n    <path d=\"M 226.459511 224.64 \nL 227.022106 224.64 \nL 227.022106 224.64 \nL 226.459511 224.64 \nz\n\" clip-path=\"url(#pa99849d8f2)\" style=\"fill: #1f77b4\"/>\n   </g>\n   <g id=\"patch_309\">\n    <path d=\"M 227.022106 224.64 \nL 227.5847 224.64 \nL 227.5847 224.64 \nL 227.022106 224.64 \nz\n\" clip-path=\"url(#pa99849d8f2)\" style=\"fill: #1f77b4\"/>\n   </g>\n   <g id=\"patch_310\">\n    <path d=\"M 227.5847 224.64 \nL 228.147295 224.64 \nL 228.147295 224.64 \nL 227.5847 224.64 \nz\n\" clip-path=\"url(#pa99849d8f2)\" style=\"fill: #1f77b4\"/>\n   </g>\n   <g id=\"patch_311\">\n    <path d=\"M 228.147295 224.64 \nL 228.709889 224.64 \nL 228.709889 224.64 \nL 228.147295 224.64 \nz\n\" clip-path=\"url(#pa99849d8f2)\" style=\"fill: #1f77b4\"/>\n   </g>\n   <g id=\"patch_312\">\n    <path d=\"M 228.709889 224.64 \nL 229.272484 224.64 \nL 229.272484 224.64 \nL 228.709889 224.64 \nz\n\" clip-path=\"url(#pa99849d8f2)\" style=\"fill: #1f77b4\"/>\n   </g>\n   <g id=\"patch_313\">\n    <path d=\"M 229.272484 224.64 \nL 229.835078 224.64 \nL 229.835078 224.64 \nL 229.272484 224.64 \nz\n\" clip-path=\"url(#pa99849d8f2)\" style=\"fill: #1f77b4\"/>\n   </g>\n   <g id=\"patch_314\">\n    <path d=\"M 229.835078 224.64 \nL 230.397673 224.64 \nL 230.397673 224.64 \nL 229.835078 224.64 \nz\n\" clip-path=\"url(#pa99849d8f2)\" style=\"fill: #1f77b4\"/>\n   </g>\n   <g id=\"patch_315\">\n    <path d=\"M 230.397673 224.64 \nL 230.960267 224.64 \nL 230.960267 224.64 \nL 230.397673 224.64 \nz\n\" clip-path=\"url(#pa99849d8f2)\" style=\"fill: #1f77b4\"/>\n   </g>\n   <g id=\"patch_316\">\n    <path d=\"M 230.960267 224.64 \nL 231.522862 224.64 \nL 231.522862 224.64 \nL 230.960267 224.64 \nz\n\" clip-path=\"url(#pa99849d8f2)\" style=\"fill: #1f77b4\"/>\n   </g>\n   <g id=\"patch_317\">\n    <path d=\"M 231.522862 224.64 \nL 232.085456 224.64 \nL 232.085456 224.64 \nL 231.522862 224.64 \nz\n\" clip-path=\"url(#pa99849d8f2)\" style=\"fill: #1f77b4\"/>\n   </g>\n   <g id=\"patch_318\">\n    <path d=\"M 232.085456 224.64 \nL 232.648051 224.64 \nL 232.648051 224.64 \nL 232.085456 224.64 \nz\n\" clip-path=\"url(#pa99849d8f2)\" style=\"fill: #1f77b4\"/>\n   </g>\n   <g id=\"patch_319\">\n    <path d=\"M 232.648051 224.64 \nL 233.210645 224.64 \nL 233.210645 224.64 \nL 232.648051 224.64 \nz\n\" clip-path=\"url(#pa99849d8f2)\" style=\"fill: #1f77b4\"/>\n   </g>\n   <g id=\"patch_320\">\n    <path d=\"M 233.210645 224.64 \nL 233.77324 224.64 \nL 233.77324 224.64 \nL 233.210645 224.64 \nz\n\" clip-path=\"url(#pa99849d8f2)\" style=\"fill: #1f77b4\"/>\n   </g>\n   <g id=\"patch_321\">\n    <path d=\"M 233.77324 224.64 \nL 234.335834 224.64 \nL 234.335834 224.64 \nL 233.77324 224.64 \nz\n\" clip-path=\"url(#pa99849d8f2)\" style=\"fill: #1f77b4\"/>\n   </g>\n   <g id=\"patch_322\">\n    <path d=\"M 234.335834 224.64 \nL 234.898429 224.64 \nL 234.898429 224.64 \nL 234.335834 224.64 \nz\n\" clip-path=\"url(#pa99849d8f2)\" style=\"fill: #1f77b4\"/>\n   </g>\n   <g id=\"patch_323\">\n    <path d=\"M 234.898429 224.64 \nL 235.461023 224.64 \nL 235.461023 224.64 \nL 234.898429 224.64 \nz\n\" clip-path=\"url(#pa99849d8f2)\" style=\"fill: #1f77b4\"/>\n   </g>\n   <g id=\"patch_324\">\n    <path d=\"M 235.461023 224.64 \nL 236.023618 224.64 \nL 236.023618 224.64 \nL 235.461023 224.64 \nz\n\" clip-path=\"url(#pa99849d8f2)\" style=\"fill: #1f77b4\"/>\n   </g>\n   <g id=\"patch_325\">\n    <path d=\"M 236.023618 224.64 \nL 236.586212 224.64 \nL 236.586212 224.64 \nL 236.023618 224.64 \nz\n\" clip-path=\"url(#pa99849d8f2)\" style=\"fill: #1f77b4\"/>\n   </g>\n   <g id=\"patch_326\">\n    <path d=\"M 236.586212 224.64 \nL 237.148807 224.64 \nL 237.148807 224.64 \nL 236.586212 224.64 \nz\n\" clip-path=\"url(#pa99849d8f2)\" style=\"fill: #1f77b4\"/>\n   </g>\n   <g id=\"patch_327\">\n    <path d=\"M 237.148807 224.64 \nL 237.711401 224.64 \nL 237.711401 224.64 \nL 237.148807 224.64 \nz\n\" clip-path=\"url(#pa99849d8f2)\" style=\"fill: #1f77b4\"/>\n   </g>\n   <g id=\"patch_328\">\n    <path d=\"M 237.711401 224.64 \nL 238.273996 224.64 \nL 238.273996 224.64 \nL 237.711401 224.64 \nz\n\" clip-path=\"url(#pa99849d8f2)\" style=\"fill: #1f77b4\"/>\n   </g>\n   <g id=\"patch_329\">\n    <path d=\"M 238.273996 224.64 \nL 238.83659 224.64 \nL 238.83659 224.64 \nL 238.273996 224.64 \nz\n\" clip-path=\"url(#pa99849d8f2)\" style=\"fill: #1f77b4\"/>\n   </g>\n   <g id=\"patch_330\">\n    <path d=\"M 238.83659 224.64 \nL 239.399185 224.64 \nL 239.399185 224.64 \nL 238.83659 224.64 \nz\n\" clip-path=\"url(#pa99849d8f2)\" style=\"fill: #1f77b4\"/>\n   </g>\n   <g id=\"patch_331\">\n    <path d=\"M 239.399185 224.64 \nL 239.96178 224.64 \nL 239.96178 224.64 \nL 239.399185 224.64 \nz\n\" clip-path=\"url(#pa99849d8f2)\" style=\"fill: #1f77b4\"/>\n   </g>\n   <g id=\"patch_332\">\n    <path d=\"M 239.96178 224.64 \nL 240.524374 224.64 \nL 240.524374 224.64 \nL 239.96178 224.64 \nz\n\" clip-path=\"url(#pa99849d8f2)\" style=\"fill: #1f77b4\"/>\n   </g>\n   <g id=\"patch_333\">\n    <path d=\"M 240.524374 224.64 \nL 241.086969 224.64 \nL 241.086969 224.64 \nL 240.524374 224.64 \nz\n\" clip-path=\"url(#pa99849d8f2)\" style=\"fill: #1f77b4\"/>\n   </g>\n   <g id=\"patch_334\">\n    <path d=\"M 241.086969 224.64 \nL 241.649563 224.64 \nL 241.649563 224.64 \nL 241.086969 224.64 \nz\n\" clip-path=\"url(#pa99849d8f2)\" style=\"fill: #1f77b4\"/>\n   </g>\n   <g id=\"patch_335\">\n    <path d=\"M 241.649563 224.64 \nL 242.212158 224.64 \nL 242.212158 224.64 \nL 241.649563 224.64 \nz\n\" clip-path=\"url(#pa99849d8f2)\" style=\"fill: #1f77b4\"/>\n   </g>\n   <g id=\"patch_336\">\n    <path d=\"M 242.212158 224.64 \nL 242.774752 224.64 \nL 242.774752 224.64 \nL 242.212158 224.64 \nz\n\" clip-path=\"url(#pa99849d8f2)\" style=\"fill: #1f77b4\"/>\n   </g>\n   <g id=\"patch_337\">\n    <path d=\"M 242.774752 224.64 \nL 243.337347 224.64 \nL 243.337347 224.64 \nL 242.774752 224.64 \nz\n\" clip-path=\"url(#pa99849d8f2)\" style=\"fill: #1f77b4\"/>\n   </g>\n   <g id=\"patch_338\">\n    <path d=\"M 243.337347 224.64 \nL 243.899941 224.64 \nL 243.899941 224.64 \nL 243.337347 224.64 \nz\n\" clip-path=\"url(#pa99849d8f2)\" style=\"fill: #1f77b4\"/>\n   </g>\n   <g id=\"patch_339\">\n    <path d=\"M 243.899941 224.64 \nL 244.462536 224.64 \nL 244.462536 224.64 \nL 243.899941 224.64 \nz\n\" clip-path=\"url(#pa99849d8f2)\" style=\"fill: #1f77b4\"/>\n   </g>\n   <g id=\"patch_340\">\n    <path d=\"M 244.462536 224.64 \nL 245.02513 224.64 \nL 245.02513 224.64 \nL 244.462536 224.64 \nz\n\" clip-path=\"url(#pa99849d8f2)\" style=\"fill: #1f77b4\"/>\n   </g>\n   <g id=\"patch_341\">\n    <path d=\"M 245.02513 224.64 \nL 245.587725 224.64 \nL 245.587725 224.64 \nL 245.02513 224.64 \nz\n\" clip-path=\"url(#pa99849d8f2)\" style=\"fill: #1f77b4\"/>\n   </g>\n   <g id=\"patch_342\">\n    <path d=\"M 245.587725 224.64 \nL 246.150319 224.64 \nL 246.150319 224.64 \nL 245.587725 224.64 \nz\n\" clip-path=\"url(#pa99849d8f2)\" style=\"fill: #1f77b4\"/>\n   </g>\n   <g id=\"patch_343\">\n    <path d=\"M 246.150319 224.64 \nL 246.712914 224.64 \nL 246.712914 224.64 \nL 246.150319 224.64 \nz\n\" clip-path=\"url(#pa99849d8f2)\" style=\"fill: #1f77b4\"/>\n   </g>\n   <g id=\"patch_344\">\n    <path d=\"M 246.712914 224.64 \nL 247.275508 224.64 \nL 247.275508 224.64 \nL 246.712914 224.64 \nz\n\" clip-path=\"url(#pa99849d8f2)\" style=\"fill: #1f77b4\"/>\n   </g>\n   <g id=\"patch_345\">\n    <path d=\"M 247.275508 224.64 \nL 247.838103 224.64 \nL 247.838103 224.59047 \nL 247.275508 224.59047 \nz\n\" clip-path=\"url(#pa99849d8f2)\" style=\"fill: #1f77b4\"/>\n   </g>\n   <g id=\"patch_346\">\n    <path d=\"M 247.838103 224.64 \nL 248.400697 224.64 \nL 248.400697 224.64 \nL 247.838103 224.64 \nz\n\" clip-path=\"url(#pa99849d8f2)\" style=\"fill: #1f77b4\"/>\n   </g>\n   <g id=\"patch_347\">\n    <path d=\"M 248.400697 224.64 \nL 248.963292 224.64 \nL 248.963292 224.64 \nL 248.400697 224.64 \nz\n\" clip-path=\"url(#pa99849d8f2)\" style=\"fill: #1f77b4\"/>\n   </g>\n   <g id=\"patch_348\">\n    <path d=\"M 248.963292 224.64 \nL 249.525886 224.64 \nL 249.525886 224.64 \nL 248.963292 224.64 \nz\n\" clip-path=\"url(#pa99849d8f2)\" style=\"fill: #1f77b4\"/>\n   </g>\n   <g id=\"patch_349\">\n    <path d=\"M 249.525886 224.64 \nL 250.088481 224.64 \nL 250.088481 224.64 \nL 249.525886 224.64 \nz\n\" clip-path=\"url(#pa99849d8f2)\" style=\"fill: #1f77b4\"/>\n   </g>\n   <g id=\"patch_350\">\n    <path d=\"M 250.088481 224.64 \nL 250.651075 224.64 \nL 250.651075 224.64 \nL 250.088481 224.64 \nz\n\" clip-path=\"url(#pa99849d8f2)\" style=\"fill: #1f77b4\"/>\n   </g>\n   <g id=\"patch_351\">\n    <path d=\"M 250.651075 224.64 \nL 251.21367 224.64 \nL 251.21367 224.64 \nL 250.651075 224.64 \nz\n\" clip-path=\"url(#pa99849d8f2)\" style=\"fill: #1f77b4\"/>\n   </g>\n   <g id=\"patch_352\">\n    <path d=\"M 251.21367 224.64 \nL 251.776264 224.64 \nL 251.776264 224.64 \nL 251.21367 224.64 \nz\n\" clip-path=\"url(#pa99849d8f2)\" style=\"fill: #1f77b4\"/>\n   </g>\n   <g id=\"patch_353\">\n    <path d=\"M 251.776264 224.64 \nL 252.338859 224.64 \nL 252.338859 224.64 \nL 251.776264 224.64 \nz\n\" clip-path=\"url(#pa99849d8f2)\" style=\"fill: #1f77b4\"/>\n   </g>\n   <g id=\"patch_354\">\n    <path d=\"M 252.338859 224.64 \nL 252.901454 224.64 \nL 252.901454 224.64 \nL 252.338859 224.64 \nz\n\" clip-path=\"url(#pa99849d8f2)\" style=\"fill: #1f77b4\"/>\n   </g>\n   <g id=\"patch_355\">\n    <path d=\"M 252.901454 224.64 \nL 253.464048 224.64 \nL 253.464048 224.64 \nL 252.901454 224.64 \nz\n\" clip-path=\"url(#pa99849d8f2)\" style=\"fill: #1f77b4\"/>\n   </g>\n   <g id=\"patch_356\">\n    <path d=\"M 253.464048 224.64 \nL 254.026643 224.64 \nL 254.026643 224.64 \nL 253.464048 224.64 \nz\n\" clip-path=\"url(#pa99849d8f2)\" style=\"fill: #1f77b4\"/>\n   </g>\n   <g id=\"patch_357\">\n    <path d=\"M 254.026643 224.64 \nL 254.589237 224.64 \nL 254.589237 224.64 \nL 254.026643 224.64 \nz\n\" clip-path=\"url(#pa99849d8f2)\" style=\"fill: #1f77b4\"/>\n   </g>\n   <g id=\"patch_358\">\n    <path d=\"M 254.589237 224.64 \nL 255.151832 224.64 \nL 255.151832 224.64 \nL 254.589237 224.64 \nz\n\" clip-path=\"url(#pa99849d8f2)\" style=\"fill: #1f77b4\"/>\n   </g>\n   <g id=\"patch_359\">\n    <path d=\"M 255.151832 224.64 \nL 255.714426 224.64 \nL 255.714426 224.64 \nL 255.151832 224.64 \nz\n\" clip-path=\"url(#pa99849d8f2)\" style=\"fill: #1f77b4\"/>\n   </g>\n   <g id=\"patch_360\">\n    <path d=\"M 255.714426 224.64 \nL 256.277021 224.64 \nL 256.277021 224.64 \nL 255.714426 224.64 \nz\n\" clip-path=\"url(#pa99849d8f2)\" style=\"fill: #1f77b4\"/>\n   </g>\n   <g id=\"patch_361\">\n    <path d=\"M 256.277021 224.64 \nL 256.839615 224.64 \nL 256.839615 224.64 \nL 256.277021 224.64 \nz\n\" clip-path=\"url(#pa99849d8f2)\" style=\"fill: #1f77b4\"/>\n   </g>\n   <g id=\"patch_362\">\n    <path d=\"M 256.839615 224.64 \nL 257.40221 224.64 \nL 257.40221 224.64 \nL 256.839615 224.64 \nz\n\" clip-path=\"url(#pa99849d8f2)\" style=\"fill: #1f77b4\"/>\n   </g>\n   <g id=\"patch_363\">\n    <path d=\"M 257.40221 224.64 \nL 257.964804 224.64 \nL 257.964804 224.64 \nL 257.40221 224.64 \nz\n\" clip-path=\"url(#pa99849d8f2)\" style=\"fill: #1f77b4\"/>\n   </g>\n   <g id=\"patch_364\">\n    <path d=\"M 257.964804 224.64 \nL 258.527399 224.64 \nL 258.527399 224.64 \nL 257.964804 224.64 \nz\n\" clip-path=\"url(#pa99849d8f2)\" style=\"fill: #1f77b4\"/>\n   </g>\n   <g id=\"patch_365\">\n    <path d=\"M 258.527399 224.64 \nL 259.089993 224.64 \nL 259.089993 224.64 \nL 258.527399 224.64 \nz\n\" clip-path=\"url(#pa99849d8f2)\" style=\"fill: #1f77b4\"/>\n   </g>\n   <g id=\"patch_366\">\n    <path d=\"M 259.089993 224.64 \nL 259.652588 224.64 \nL 259.652588 224.64 \nL 259.089993 224.64 \nz\n\" clip-path=\"url(#pa99849d8f2)\" style=\"fill: #1f77b4\"/>\n   </g>\n   <g id=\"patch_367\">\n    <path d=\"M 259.652588 224.64 \nL 260.215182 224.64 \nL 260.215182 224.64 \nL 259.652588 224.64 \nz\n\" clip-path=\"url(#pa99849d8f2)\" style=\"fill: #1f77b4\"/>\n   </g>\n   <g id=\"patch_368\">\n    <path d=\"M 260.215182 224.64 \nL 260.777777 224.64 \nL 260.777777 224.64 \nL 260.215182 224.64 \nz\n\" clip-path=\"url(#pa99849d8f2)\" style=\"fill: #1f77b4\"/>\n   </g>\n   <g id=\"patch_369\">\n    <path d=\"M 260.777777 224.64 \nL 261.340371 224.64 \nL 261.340371 224.64 \nL 260.777777 224.64 \nz\n\" clip-path=\"url(#pa99849d8f2)\" style=\"fill: #1f77b4\"/>\n   </g>\n   <g id=\"patch_370\">\n    <path d=\"M 261.340371 224.64 \nL 261.902966 224.64 \nL 261.902966 224.64 \nL 261.340371 224.64 \nz\n\" clip-path=\"url(#pa99849d8f2)\" style=\"fill: #1f77b4\"/>\n   </g>\n   <g id=\"patch_371\">\n    <path d=\"M 261.902966 224.64 \nL 262.46556 224.64 \nL 262.46556 224.64 \nL 261.902966 224.64 \nz\n\" clip-path=\"url(#pa99849d8f2)\" style=\"fill: #1f77b4\"/>\n   </g>\n   <g id=\"patch_372\">\n    <path d=\"M 262.46556 224.64 \nL 263.028155 224.64 \nL 263.028155 224.64 \nL 262.46556 224.64 \nz\n\" clip-path=\"url(#pa99849d8f2)\" style=\"fill: #1f77b4\"/>\n   </g>\n   <g id=\"patch_373\">\n    <path d=\"M 263.028155 224.64 \nL 263.590749 224.64 \nL 263.590749 224.64 \nL 263.028155 224.64 \nz\n\" clip-path=\"url(#pa99849d8f2)\" style=\"fill: #1f77b4\"/>\n   </g>\n   <g id=\"patch_374\">\n    <path d=\"M 263.590749 224.64 \nL 264.153344 224.64 \nL 264.153344 224.64 \nL 263.590749 224.64 \nz\n\" clip-path=\"url(#pa99849d8f2)\" style=\"fill: #1f77b4\"/>\n   </g>\n   <g id=\"patch_375\">\n    <path d=\"M 264.153344 224.64 \nL 264.715938 224.64 \nL 264.715938 224.64 \nL 264.153344 224.64 \nz\n\" clip-path=\"url(#pa99849d8f2)\" style=\"fill: #1f77b4\"/>\n   </g>\n   <g id=\"patch_376\">\n    <path d=\"M 264.715938 224.64 \nL 265.278533 224.64 \nL 265.278533 224.64 \nL 264.715938 224.64 \nz\n\" clip-path=\"url(#pa99849d8f2)\" style=\"fill: #1f77b4\"/>\n   </g>\n   <g id=\"patch_377\">\n    <path d=\"M 265.278533 224.64 \nL 265.841128 224.64 \nL 265.841128 224.64 \nL 265.278533 224.64 \nz\n\" clip-path=\"url(#pa99849d8f2)\" style=\"fill: #1f77b4\"/>\n   </g>\n   <g id=\"patch_378\">\n    <path d=\"M 265.841128 224.64 \nL 266.403722 224.64 \nL 266.403722 224.64 \nL 265.841128 224.64 \nz\n\" clip-path=\"url(#pa99849d8f2)\" style=\"fill: #1f77b4\"/>\n   </g>\n   <g id=\"patch_379\">\n    <path d=\"M 266.403722 224.64 \nL 266.966317 224.64 \nL 266.966317 224.64 \nL 266.403722 224.64 \nz\n\" clip-path=\"url(#pa99849d8f2)\" style=\"fill: #1f77b4\"/>\n   </g>\n   <g id=\"patch_380\">\n    <path d=\"M 266.966317 224.64 \nL 267.528911 224.64 \nL 267.528911 224.64 \nL 266.966317 224.64 \nz\n\" clip-path=\"url(#pa99849d8f2)\" style=\"fill: #1f77b4\"/>\n   </g>\n   <g id=\"patch_381\">\n    <path d=\"M 267.528911 224.64 \nL 268.091506 224.64 \nL 268.091506 224.64 \nL 267.528911 224.64 \nz\n\" clip-path=\"url(#pa99849d8f2)\" style=\"fill: #1f77b4\"/>\n   </g>\n   <g id=\"patch_382\">\n    <path d=\"M 268.091506 224.64 \nL 268.6541 224.64 \nL 268.6541 224.64 \nL 268.091506 224.64 \nz\n\" clip-path=\"url(#pa99849d8f2)\" style=\"fill: #1f77b4\"/>\n   </g>\n   <g id=\"patch_383\">\n    <path d=\"M 268.6541 224.64 \nL 269.216695 224.64 \nL 269.216695 224.64 \nL 268.6541 224.64 \nz\n\" clip-path=\"url(#pa99849d8f2)\" style=\"fill: #1f77b4\"/>\n   </g>\n   <g id=\"patch_384\">\n    <path d=\"M 269.216695 224.64 \nL 269.779289 224.64 \nL 269.779289 224.64 \nL 269.216695 224.64 \nz\n\" clip-path=\"url(#pa99849d8f2)\" style=\"fill: #1f77b4\"/>\n   </g>\n   <g id=\"patch_385\">\n    <path d=\"M 269.779289 224.64 \nL 270.341884 224.64 \nL 270.341884 224.64 \nL 269.779289 224.64 \nz\n\" clip-path=\"url(#pa99849d8f2)\" style=\"fill: #1f77b4\"/>\n   </g>\n   <g id=\"patch_386\">\n    <path d=\"M 270.341884 224.64 \nL 270.904478 224.64 \nL 270.904478 224.64 \nL 270.341884 224.64 \nz\n\" clip-path=\"url(#pa99849d8f2)\" style=\"fill: #1f77b4\"/>\n   </g>\n   <g id=\"patch_387\">\n    <path d=\"M 270.904478 224.64 \nL 271.467073 224.64 \nL 271.467073 224.64 \nL 270.904478 224.64 \nz\n\" clip-path=\"url(#pa99849d8f2)\" style=\"fill: #1f77b4\"/>\n   </g>\n   <g id=\"patch_388\">\n    <path d=\"M 271.467073 224.64 \nL 272.029667 224.64 \nL 272.029667 224.64 \nL 271.467073 224.64 \nz\n\" clip-path=\"url(#pa99849d8f2)\" style=\"fill: #1f77b4\"/>\n   </g>\n   <g id=\"patch_389\">\n    <path d=\"M 272.029667 224.64 \nL 272.592262 224.64 \nL 272.592262 224.64 \nL 272.029667 224.64 \nz\n\" clip-path=\"url(#pa99849d8f2)\" style=\"fill: #1f77b4\"/>\n   </g>\n   <g id=\"patch_390\">\n    <path d=\"M 272.592262 224.64 \nL 273.154856 224.64 \nL 273.154856 224.64 \nL 272.592262 224.64 \nz\n\" clip-path=\"url(#pa99849d8f2)\" style=\"fill: #1f77b4\"/>\n   </g>\n   <g id=\"patch_391\">\n    <path d=\"M 273.154856 224.64 \nL 273.717451 224.64 \nL 273.717451 224.64 \nL 273.154856 224.64 \nz\n\" clip-path=\"url(#pa99849d8f2)\" style=\"fill: #1f77b4\"/>\n   </g>\n   <g id=\"patch_392\">\n    <path d=\"M 273.717451 224.64 \nL 274.280045 224.64 \nL 274.280045 224.64 \nL 273.717451 224.64 \nz\n\" clip-path=\"url(#pa99849d8f2)\" style=\"fill: #1f77b4\"/>\n   </g>\n   <g id=\"patch_393\">\n    <path d=\"M 274.280045 224.64 \nL 274.84264 224.64 \nL 274.84264 224.64 \nL 274.280045 224.64 \nz\n\" clip-path=\"url(#pa99849d8f2)\" style=\"fill: #1f77b4\"/>\n   </g>\n   <g id=\"patch_394\">\n    <path d=\"M 274.84264 224.64 \nL 275.405234 224.64 \nL 275.405234 224.64 \nL 274.84264 224.64 \nz\n\" clip-path=\"url(#pa99849d8f2)\" style=\"fill: #1f77b4\"/>\n   </g>\n   <g id=\"patch_395\">\n    <path d=\"M 275.405234 224.64 \nL 275.967829 224.64 \nL 275.967829 224.64 \nL 275.405234 224.64 \nz\n\" clip-path=\"url(#pa99849d8f2)\" style=\"fill: #1f77b4\"/>\n   </g>\n   <g id=\"patch_396\">\n    <path d=\"M 275.967829 224.64 \nL 276.530423 224.64 \nL 276.530423 224.64 \nL 275.967829 224.64 \nz\n\" clip-path=\"url(#pa99849d8f2)\" style=\"fill: #1f77b4\"/>\n   </g>\n   <g id=\"patch_397\">\n    <path d=\"M 276.530423 224.64 \nL 277.093018 224.64 \nL 277.093018 224.64 \nL 276.530423 224.64 \nz\n\" clip-path=\"url(#pa99849d8f2)\" style=\"fill: #1f77b4\"/>\n   </g>\n   <g id=\"patch_398\">\n    <path d=\"M 277.093018 224.64 \nL 277.655613 224.64 \nL 277.655613 224.64 \nL 277.093018 224.64 \nz\n\" clip-path=\"url(#pa99849d8f2)\" style=\"fill: #1f77b4\"/>\n   </g>\n   <g id=\"patch_399\">\n    <path d=\"M 277.655613 224.64 \nL 278.218207 224.64 \nL 278.218207 224.64 \nL 277.655613 224.64 \nz\n\" clip-path=\"url(#pa99849d8f2)\" style=\"fill: #1f77b4\"/>\n   </g>\n   <g id=\"patch_400\">\n    <path d=\"M 278.218207 224.64 \nL 278.780802 224.64 \nL 278.780802 224.64 \nL 278.218207 224.64 \nz\n\" clip-path=\"url(#pa99849d8f2)\" style=\"fill: #1f77b4\"/>\n   </g>\n   <g id=\"patch_401\">\n    <path d=\"M 278.780802 224.64 \nL 279.343396 224.64 \nL 279.343396 224.64 \nL 278.780802 224.64 \nz\n\" clip-path=\"url(#pa99849d8f2)\" style=\"fill: #1f77b4\"/>\n   </g>\n   <g id=\"patch_402\">\n    <path d=\"M 279.343396 224.64 \nL 279.905991 224.64 \nL 279.905991 224.64 \nL 279.343396 224.64 \nz\n\" clip-path=\"url(#pa99849d8f2)\" style=\"fill: #1f77b4\"/>\n   </g>\n   <g id=\"patch_403\">\n    <path d=\"M 279.905991 224.64 \nL 280.468585 224.64 \nL 280.468585 224.64 \nL 279.905991 224.64 \nz\n\" clip-path=\"url(#pa99849d8f2)\" style=\"fill: #1f77b4\"/>\n   </g>\n   <g id=\"patch_404\">\n    <path d=\"M 280.468585 224.64 \nL 281.03118 224.64 \nL 281.03118 224.64 \nL 280.468585 224.64 \nz\n\" clip-path=\"url(#pa99849d8f2)\" style=\"fill: #1f77b4\"/>\n   </g>\n   <g id=\"patch_405\">\n    <path d=\"M 281.03118 224.64 \nL 281.593774 224.64 \nL 281.593774 224.64 \nL 281.03118 224.64 \nz\n\" clip-path=\"url(#pa99849d8f2)\" style=\"fill: #1f77b4\"/>\n   </g>\n   <g id=\"patch_406\">\n    <path d=\"M 281.593774 224.64 \nL 282.156369 224.64 \nL 282.156369 224.64 \nL 281.593774 224.64 \nz\n\" clip-path=\"url(#pa99849d8f2)\" style=\"fill: #1f77b4\"/>\n   </g>\n   <g id=\"patch_407\">\n    <path d=\"M 282.156369 224.64 \nL 282.718963 224.64 \nL 282.718963 224.64 \nL 282.156369 224.64 \nz\n\" clip-path=\"url(#pa99849d8f2)\" style=\"fill: #1f77b4\"/>\n   </g>\n   <g id=\"patch_408\">\n    <path d=\"M 282.718963 224.64 \nL 283.281558 224.64 \nL 283.281558 224.64 \nL 282.718963 224.64 \nz\n\" clip-path=\"url(#pa99849d8f2)\" style=\"fill: #1f77b4\"/>\n   </g>\n   <g id=\"patch_409\">\n    <path d=\"M 283.281558 224.64 \nL 283.844152 224.64 \nL 283.844152 224.64 \nL 283.281558 224.64 \nz\n\" clip-path=\"url(#pa99849d8f2)\" style=\"fill: #1f77b4\"/>\n   </g>\n   <g id=\"patch_410\">\n    <path d=\"M 283.844152 224.64 \nL 284.406747 224.64 \nL 284.406747 224.64 \nL 283.844152 224.64 \nz\n\" clip-path=\"url(#pa99849d8f2)\" style=\"fill: #1f77b4\"/>\n   </g>\n   <g id=\"patch_411\">\n    <path d=\"M 284.406747 224.64 \nL 284.969341 224.64 \nL 284.969341 224.64 \nL 284.406747 224.64 \nz\n\" clip-path=\"url(#pa99849d8f2)\" style=\"fill: #1f77b4\"/>\n   </g>\n   <g id=\"patch_412\">\n    <path d=\"M 284.969341 224.64 \nL 285.531936 224.64 \nL 285.531936 224.64 \nL 284.969341 224.64 \nz\n\" clip-path=\"url(#pa99849d8f2)\" style=\"fill: #1f77b4\"/>\n   </g>\n   <g id=\"patch_413\">\n    <path d=\"M 285.531936 224.64 \nL 286.09453 224.64 \nL 286.09453 224.64 \nL 285.531936 224.64 \nz\n\" clip-path=\"url(#pa99849d8f2)\" style=\"fill: #1f77b4\"/>\n   </g>\n   <g id=\"patch_414\">\n    <path d=\"M 286.09453 224.64 \nL 286.657125 224.64 \nL 286.657125 224.64 \nL 286.09453 224.64 \nz\n\" clip-path=\"url(#pa99849d8f2)\" style=\"fill: #1f77b4\"/>\n   </g>\n   <g id=\"patch_415\">\n    <path d=\"M 286.657125 224.64 \nL 287.219719 224.64 \nL 287.219719 224.64 \nL 286.657125 224.64 \nz\n\" clip-path=\"url(#pa99849d8f2)\" style=\"fill: #1f77b4\"/>\n   </g>\n   <g id=\"patch_416\">\n    <path d=\"M 287.219719 224.64 \nL 287.782314 224.64 \nL 287.782314 224.64 \nL 287.219719 224.64 \nz\n\" clip-path=\"url(#pa99849d8f2)\" style=\"fill: #1f77b4\"/>\n   </g>\n   <g id=\"patch_417\">\n    <path d=\"M 287.782314 224.64 \nL 288.344908 224.64 \nL 288.344908 224.64 \nL 287.782314 224.64 \nz\n\" clip-path=\"url(#pa99849d8f2)\" style=\"fill: #1f77b4\"/>\n   </g>\n   <g id=\"patch_418\">\n    <path d=\"M 288.344908 224.64 \nL 288.907503 224.64 \nL 288.907503 224.64 \nL 288.344908 224.64 \nz\n\" clip-path=\"url(#pa99849d8f2)\" style=\"fill: #1f77b4\"/>\n   </g>\n   <g id=\"patch_419\">\n    <path d=\"M 288.907503 224.64 \nL 289.470097 224.64 \nL 289.470097 224.64 \nL 288.907503 224.64 \nz\n\" clip-path=\"url(#pa99849d8f2)\" style=\"fill: #1f77b4\"/>\n   </g>\n   <g id=\"patch_420\">\n    <path d=\"M 289.470097 224.64 \nL 290.032692 224.64 \nL 290.032692 224.64 \nL 289.470097 224.64 \nz\n\" clip-path=\"url(#pa99849d8f2)\" style=\"fill: #1f77b4\"/>\n   </g>\n   <g id=\"patch_421\">\n    <path d=\"M 290.032692 224.64 \nL 290.595287 224.64 \nL 290.595287 224.64 \nL 290.032692 224.64 \nz\n\" clip-path=\"url(#pa99849d8f2)\" style=\"fill: #1f77b4\"/>\n   </g>\n   <g id=\"patch_422\">\n    <path d=\"M 290.595287 224.64 \nL 291.157881 224.64 \nL 291.157881 224.64 \nL 290.595287 224.64 \nz\n\" clip-path=\"url(#pa99849d8f2)\" style=\"fill: #1f77b4\"/>\n   </g>\n   <g id=\"patch_423\">\n    <path d=\"M 291.157881 224.64 \nL 291.720476 224.64 \nL 291.720476 224.64 \nL 291.157881 224.64 \nz\n\" clip-path=\"url(#pa99849d8f2)\" style=\"fill: #1f77b4\"/>\n   </g>\n   <g id=\"patch_424\">\n    <path d=\"M 291.720476 224.64 \nL 292.28307 224.64 \nL 292.28307 224.64 \nL 291.720476 224.64 \nz\n\" clip-path=\"url(#pa99849d8f2)\" style=\"fill: #1f77b4\"/>\n   </g>\n   <g id=\"patch_425\">\n    <path d=\"M 292.28307 224.64 \nL 292.845665 224.64 \nL 292.845665 224.64 \nL 292.28307 224.64 \nz\n\" clip-path=\"url(#pa99849d8f2)\" style=\"fill: #1f77b4\"/>\n   </g>\n   <g id=\"patch_426\">\n    <path d=\"M 292.845665 224.64 \nL 293.408259 224.64 \nL 293.408259 224.64 \nL 292.845665 224.64 \nz\n\" clip-path=\"url(#pa99849d8f2)\" style=\"fill: #1f77b4\"/>\n   </g>\n   <g id=\"patch_427\">\n    <path d=\"M 293.408259 224.64 \nL 293.970854 224.64 \nL 293.970854 224.64 \nL 293.408259 224.64 \nz\n\" clip-path=\"url(#pa99849d8f2)\" style=\"fill: #1f77b4\"/>\n   </g>\n   <g id=\"patch_428\">\n    <path d=\"M 293.970854 224.64 \nL 294.533448 224.64 \nL 294.533448 224.64 \nL 293.970854 224.64 \nz\n\" clip-path=\"url(#pa99849d8f2)\" style=\"fill: #1f77b4\"/>\n   </g>\n   <g id=\"patch_429\">\n    <path d=\"M 294.533448 224.64 \nL 295.096043 224.64 \nL 295.096043 224.64 \nL 294.533448 224.64 \nz\n\" clip-path=\"url(#pa99849d8f2)\" style=\"fill: #1f77b4\"/>\n   </g>\n   <g id=\"patch_430\">\n    <path d=\"M 295.096043 224.64 \nL 295.658637 224.64 \nL 295.658637 224.64 \nL 295.096043 224.64 \nz\n\" clip-path=\"url(#pa99849d8f2)\" style=\"fill: #1f77b4\"/>\n   </g>\n   <g id=\"patch_431\">\n    <path d=\"M 295.658637 224.64 \nL 296.221232 224.64 \nL 296.221232 224.64 \nL 295.658637 224.64 \nz\n\" clip-path=\"url(#pa99849d8f2)\" style=\"fill: #1f77b4\"/>\n   </g>\n   <g id=\"patch_432\">\n    <path d=\"M 296.221232 224.64 \nL 296.783826 224.64 \nL 296.783826 224.64 \nL 296.221232 224.64 \nz\n\" clip-path=\"url(#pa99849d8f2)\" style=\"fill: #1f77b4\"/>\n   </g>\n   <g id=\"patch_433\">\n    <path d=\"M 296.783826 224.64 \nL 297.346421 224.64 \nL 297.346421 224.64 \nL 296.783826 224.64 \nz\n\" clip-path=\"url(#pa99849d8f2)\" style=\"fill: #1f77b4\"/>\n   </g>\n   <g id=\"patch_434\">\n    <path d=\"M 297.346421 224.64 \nL 297.909015 224.64 \nL 297.909015 224.64 \nL 297.346421 224.64 \nz\n\" clip-path=\"url(#pa99849d8f2)\" style=\"fill: #1f77b4\"/>\n   </g>\n   <g id=\"patch_435\">\n    <path d=\"M 297.909015 224.64 \nL 298.47161 224.64 \nL 298.47161 224.64 \nL 297.909015 224.64 \nz\n\" clip-path=\"url(#pa99849d8f2)\" style=\"fill: #1f77b4\"/>\n   </g>\n   <g id=\"patch_436\">\n    <path d=\"M 298.47161 224.64 \nL 299.034204 224.64 \nL 299.034204 224.64 \nL 298.47161 224.64 \nz\n\" clip-path=\"url(#pa99849d8f2)\" style=\"fill: #1f77b4\"/>\n   </g>\n   <g id=\"patch_437\">\n    <path d=\"M 299.034204 224.64 \nL 299.596799 224.64 \nL 299.596799 224.64 \nL 299.034204 224.64 \nz\n\" clip-path=\"url(#pa99849d8f2)\" style=\"fill: #1f77b4\"/>\n   </g>\n   <g id=\"patch_438\">\n    <path d=\"M 299.596799 224.64 \nL 300.159393 224.64 \nL 300.159393 224.64 \nL 299.596799 224.64 \nz\n\" clip-path=\"url(#pa99849d8f2)\" style=\"fill: #1f77b4\"/>\n   </g>\n   <g id=\"patch_439\">\n    <path d=\"M 300.159393 224.64 \nL 300.721988 224.64 \nL 300.721988 224.64 \nL 300.159393 224.64 \nz\n\" clip-path=\"url(#pa99849d8f2)\" style=\"fill: #1f77b4\"/>\n   </g>\n   <g id=\"patch_440\">\n    <path d=\"M 300.721988 224.64 \nL 301.284582 224.64 \nL 301.284582 224.64 \nL 300.721988 224.64 \nz\n\" clip-path=\"url(#pa99849d8f2)\" style=\"fill: #1f77b4\"/>\n   </g>\n   <g id=\"patch_441\">\n    <path d=\"M 301.284582 224.64 \nL 301.847177 224.64 \nL 301.847177 224.64 \nL 301.284582 224.64 \nz\n\" clip-path=\"url(#pa99849d8f2)\" style=\"fill: #1f77b4\"/>\n   </g>\n   <g id=\"patch_442\">\n    <path d=\"M 301.847177 224.64 \nL 302.409771 224.64 \nL 302.409771 224.64 \nL 301.847177 224.64 \nz\n\" clip-path=\"url(#pa99849d8f2)\" style=\"fill: #1f77b4\"/>\n   </g>\n   <g id=\"patch_443\">\n    <path d=\"M 302.409771 224.64 \nL 302.972366 224.64 \nL 302.972366 224.64 \nL 302.409771 224.64 \nz\n\" clip-path=\"url(#pa99849d8f2)\" style=\"fill: #1f77b4\"/>\n   </g>\n   <g id=\"patch_444\">\n    <path d=\"M 302.972366 224.64 \nL 303.534961 224.64 \nL 303.534961 224.64 \nL 302.972366 224.64 \nz\n\" clip-path=\"url(#pa99849d8f2)\" style=\"fill: #1f77b4\"/>\n   </g>\n   <g id=\"patch_445\">\n    <path d=\"M 303.534961 224.64 \nL 304.097555 224.64 \nL 304.097555 224.64 \nL 303.534961 224.64 \nz\n\" clip-path=\"url(#pa99849d8f2)\" style=\"fill: #1f77b4\"/>\n   </g>\n   <g id=\"patch_446\">\n    <path d=\"M 304.097555 224.64 \nL 304.66015 224.64 \nL 304.66015 224.64 \nL 304.097555 224.64 \nz\n\" clip-path=\"url(#pa99849d8f2)\" style=\"fill: #1f77b4\"/>\n   </g>\n   <g id=\"patch_447\">\n    <path d=\"M 304.66015 224.64 \nL 305.222744 224.64 \nL 305.222744 224.64 \nL 304.66015 224.64 \nz\n\" clip-path=\"url(#pa99849d8f2)\" style=\"fill: #1f77b4\"/>\n   </g>\n   <g id=\"patch_448\">\n    <path d=\"M 305.222744 224.64 \nL 305.785339 224.64 \nL 305.785339 224.64 \nL 305.222744 224.64 \nz\n\" clip-path=\"url(#pa99849d8f2)\" style=\"fill: #1f77b4\"/>\n   </g>\n   <g id=\"patch_449\">\n    <path d=\"M 305.785339 224.64 \nL 306.347933 224.64 \nL 306.347933 224.64 \nL 305.785339 224.64 \nz\n\" clip-path=\"url(#pa99849d8f2)\" style=\"fill: #1f77b4\"/>\n   </g>\n   <g id=\"patch_450\">\n    <path d=\"M 306.347933 224.64 \nL 306.910528 224.64 \nL 306.910528 224.64 \nL 306.347933 224.64 \nz\n\" clip-path=\"url(#pa99849d8f2)\" style=\"fill: #1f77b4\"/>\n   </g>\n   <g id=\"patch_451\">\n    <path d=\"M 306.910528 224.64 \nL 307.473122 224.64 \nL 307.473122 224.64 \nL 306.910528 224.64 \nz\n\" clip-path=\"url(#pa99849d8f2)\" style=\"fill: #1f77b4\"/>\n   </g>\n   <g id=\"patch_452\">\n    <path d=\"M 307.473122 224.64 \nL 308.035717 224.64 \nL 308.035717 224.64 \nL 307.473122 224.64 \nz\n\" clip-path=\"url(#pa99849d8f2)\" style=\"fill: #1f77b4\"/>\n   </g>\n   <g id=\"patch_453\">\n    <path d=\"M 308.035717 224.64 \nL 308.598311 224.64 \nL 308.598311 224.64 \nL 308.035717 224.64 \nz\n\" clip-path=\"url(#pa99849d8f2)\" style=\"fill: #1f77b4\"/>\n   </g>\n   <g id=\"patch_454\">\n    <path d=\"M 308.598311 224.64 \nL 309.160906 224.64 \nL 309.160906 224.64 \nL 308.598311 224.64 \nz\n\" clip-path=\"url(#pa99849d8f2)\" style=\"fill: #1f77b4\"/>\n   </g>\n   <g id=\"patch_455\">\n    <path d=\"M 309.160906 224.64 \nL 309.7235 224.64 \nL 309.7235 224.64 \nL 309.160906 224.64 \nz\n\" clip-path=\"url(#pa99849d8f2)\" style=\"fill: #1f77b4\"/>\n   </g>\n   <g id=\"patch_456\">\n    <path d=\"M 309.7235 224.64 \nL 310.286095 224.64 \nL 310.286095 224.64 \nL 309.7235 224.64 \nz\n\" clip-path=\"url(#pa99849d8f2)\" style=\"fill: #1f77b4\"/>\n   </g>\n   <g id=\"patch_457\">\n    <path d=\"M 310.286095 224.64 \nL 310.848689 224.64 \nL 310.848689 224.64 \nL 310.286095 224.64 \nz\n\" clip-path=\"url(#pa99849d8f2)\" style=\"fill: #1f77b4\"/>\n   </g>\n   <g id=\"patch_458\">\n    <path d=\"M 310.848689 224.64 \nL 311.411284 224.64 \nL 311.411284 224.64 \nL 310.848689 224.64 \nz\n\" clip-path=\"url(#pa99849d8f2)\" style=\"fill: #1f77b4\"/>\n   </g>\n   <g id=\"patch_459\">\n    <path d=\"M 311.411284 224.64 \nL 311.973878 224.64 \nL 311.973878 224.64 \nL 311.411284 224.64 \nz\n\" clip-path=\"url(#pa99849d8f2)\" style=\"fill: #1f77b4\"/>\n   </g>\n   <g id=\"patch_460\">\n    <path d=\"M 311.973878 224.64 \nL 312.536473 224.64 \nL 312.536473 224.64 \nL 311.973878 224.64 \nz\n\" clip-path=\"url(#pa99849d8f2)\" style=\"fill: #1f77b4\"/>\n   </g>\n   <g id=\"patch_461\">\n    <path d=\"M 312.536473 224.64 \nL 313.099067 224.64 \nL 313.099067 224.64 \nL 312.536473 224.64 \nz\n\" clip-path=\"url(#pa99849d8f2)\" style=\"fill: #1f77b4\"/>\n   </g>\n   <g id=\"patch_462\">\n    <path d=\"M 313.099067 224.64 \nL 313.661662 224.64 \nL 313.661662 224.64 \nL 313.099067 224.64 \nz\n\" clip-path=\"url(#pa99849d8f2)\" style=\"fill: #1f77b4\"/>\n   </g>\n   <g id=\"patch_463\">\n    <path d=\"M 313.661662 224.64 \nL 314.224256 224.64 \nL 314.224256 224.64 \nL 313.661662 224.64 \nz\n\" clip-path=\"url(#pa99849d8f2)\" style=\"fill: #1f77b4\"/>\n   </g>\n   <g id=\"patch_464\">\n    <path d=\"M 314.224256 224.64 \nL 314.786851 224.64 \nL 314.786851 224.64 \nL 314.224256 224.64 \nz\n\" clip-path=\"url(#pa99849d8f2)\" style=\"fill: #1f77b4\"/>\n   </g>\n   <g id=\"patch_465\">\n    <path d=\"M 314.786851 224.64 \nL 315.349445 224.64 \nL 315.349445 224.64 \nL 314.786851 224.64 \nz\n\" clip-path=\"url(#pa99849d8f2)\" style=\"fill: #1f77b4\"/>\n   </g>\n   <g id=\"patch_466\">\n    <path d=\"M 315.349445 224.64 \nL 315.91204 224.64 \nL 315.91204 224.64 \nL 315.349445 224.64 \nz\n\" clip-path=\"url(#pa99849d8f2)\" style=\"fill: #1f77b4\"/>\n   </g>\n   <g id=\"patch_467\">\n    <path d=\"M 315.91204 224.64 \nL 316.474635 224.64 \nL 316.474635 224.64 \nL 315.91204 224.64 \nz\n\" clip-path=\"url(#pa99849d8f2)\" style=\"fill: #1f77b4\"/>\n   </g>\n   <g id=\"patch_468\">\n    <path d=\"M 316.474635 224.64 \nL 317.037229 224.64 \nL 317.037229 224.64 \nL 316.474635 224.64 \nz\n\" clip-path=\"url(#pa99849d8f2)\" style=\"fill: #1f77b4\"/>\n   </g>\n   <g id=\"patch_469\">\n    <path d=\"M 317.037229 224.64 \nL 317.599824 224.64 \nL 317.599824 224.64 \nL 317.037229 224.64 \nz\n\" clip-path=\"url(#pa99849d8f2)\" style=\"fill: #1f77b4\"/>\n   </g>\n   <g id=\"patch_470\">\n    <path d=\"M 317.599824 224.64 \nL 318.162418 224.64 \nL 318.162418 224.64 \nL 317.599824 224.64 \nz\n\" clip-path=\"url(#pa99849d8f2)\" style=\"fill: #1f77b4\"/>\n   </g>\n   <g id=\"patch_471\">\n    <path d=\"M 318.162418 224.64 \nL 318.725013 224.64 \nL 318.725013 224.64 \nL 318.162418 224.64 \nz\n\" clip-path=\"url(#pa99849d8f2)\" style=\"fill: #1f77b4\"/>\n   </g>\n   <g id=\"patch_472\">\n    <path d=\"M 318.725013 224.64 \nL 319.287607 224.64 \nL 319.287607 224.64 \nL 318.725013 224.64 \nz\n\" clip-path=\"url(#pa99849d8f2)\" style=\"fill: #1f77b4\"/>\n   </g>\n   <g id=\"patch_473\">\n    <path d=\"M 319.287607 224.64 \nL 319.850202 224.64 \nL 319.850202 224.64 \nL 319.287607 224.64 \nz\n\" clip-path=\"url(#pa99849d8f2)\" style=\"fill: #1f77b4\"/>\n   </g>\n   <g id=\"patch_474\">\n    <path d=\"M 319.850202 224.64 \nL 320.412796 224.64 \nL 320.412796 224.64 \nL 319.850202 224.64 \nz\n\" clip-path=\"url(#pa99849d8f2)\" style=\"fill: #1f77b4\"/>\n   </g>\n   <g id=\"patch_475\">\n    <path d=\"M 320.412796 224.64 \nL 320.975391 224.64 \nL 320.975391 224.64 \nL 320.412796 224.64 \nz\n\" clip-path=\"url(#pa99849d8f2)\" style=\"fill: #1f77b4\"/>\n   </g>\n   <g id=\"patch_476\">\n    <path d=\"M 320.975391 224.64 \nL 321.537985 224.64 \nL 321.537985 224.64 \nL 320.975391 224.64 \nz\n\" clip-path=\"url(#pa99849d8f2)\" style=\"fill: #1f77b4\"/>\n   </g>\n   <g id=\"patch_477\">\n    <path d=\"M 321.537985 224.64 \nL 322.10058 224.64 \nL 322.10058 224.64 \nL 321.537985 224.64 \nz\n\" clip-path=\"url(#pa99849d8f2)\" style=\"fill: #1f77b4\"/>\n   </g>\n   <g id=\"patch_478\">\n    <path d=\"M 322.10058 224.64 \nL 322.663174 224.64 \nL 322.663174 224.64 \nL 322.10058 224.64 \nz\n\" clip-path=\"url(#pa99849d8f2)\" style=\"fill: #1f77b4\"/>\n   </g>\n   <g id=\"patch_479\">\n    <path d=\"M 322.663174 224.64 \nL 323.225769 224.64 \nL 323.225769 224.64 \nL 322.663174 224.64 \nz\n\" clip-path=\"url(#pa99849d8f2)\" style=\"fill: #1f77b4\"/>\n   </g>\n   <g id=\"patch_480\">\n    <path d=\"M 323.225769 224.64 \nL 323.788363 224.64 \nL 323.788363 224.64 \nL 323.225769 224.64 \nz\n\" clip-path=\"url(#pa99849d8f2)\" style=\"fill: #1f77b4\"/>\n   </g>\n   <g id=\"patch_481\">\n    <path d=\"M 323.788363 224.64 \nL 324.350958 224.64 \nL 324.350958 224.64 \nL 323.788363 224.64 \nz\n\" clip-path=\"url(#pa99849d8f2)\" style=\"fill: #1f77b4\"/>\n   </g>\n   <g id=\"patch_482\">\n    <path d=\"M 324.350958 224.64 \nL 324.913552 224.64 \nL 324.913552 224.64 \nL 324.350958 224.64 \nz\n\" clip-path=\"url(#pa99849d8f2)\" style=\"fill: #1f77b4\"/>\n   </g>\n   <g id=\"patch_483\">\n    <path d=\"M 324.913552 224.64 \nL 325.476147 224.64 \nL 325.476147 224.64 \nL 324.913552 224.64 \nz\n\" clip-path=\"url(#pa99849d8f2)\" style=\"fill: #1f77b4\"/>\n   </g>\n   <g id=\"patch_484\">\n    <path d=\"M 325.476147 224.64 \nL 326.038741 224.64 \nL 326.038741 224.64 \nL 325.476147 224.64 \nz\n\" clip-path=\"url(#pa99849d8f2)\" style=\"fill: #1f77b4\"/>\n   </g>\n   <g id=\"patch_485\">\n    <path d=\"M 326.038741 224.64 \nL 326.601336 224.64 \nL 326.601336 224.64 \nL 326.038741 224.64 \nz\n\" clip-path=\"url(#pa99849d8f2)\" style=\"fill: #1f77b4\"/>\n   </g>\n   <g id=\"patch_486\">\n    <path d=\"M 326.601336 224.64 \nL 327.16393 224.64 \nL 327.16393 224.64 \nL 326.601336 224.64 \nz\n\" clip-path=\"url(#pa99849d8f2)\" style=\"fill: #1f77b4\"/>\n   </g>\n   <g id=\"patch_487\">\n    <path d=\"M 327.16393 224.64 \nL 327.726525 224.64 \nL 327.726525 224.64 \nL 327.16393 224.64 \nz\n\" clip-path=\"url(#pa99849d8f2)\" style=\"fill: #1f77b4\"/>\n   </g>\n   <g id=\"patch_488\">\n    <path d=\"M 327.726525 224.64 \nL 328.289119 224.64 \nL 328.289119 224.64 \nL 327.726525 224.64 \nz\n\" clip-path=\"url(#pa99849d8f2)\" style=\"fill: #1f77b4\"/>\n   </g>\n   <g id=\"patch_489\">\n    <path d=\"M 328.289119 224.64 \nL 328.851714 224.64 \nL 328.851714 224.64 \nL 328.289119 224.64 \nz\n\" clip-path=\"url(#pa99849d8f2)\" style=\"fill: #1f77b4\"/>\n   </g>\n   <g id=\"patch_490\">\n    <path d=\"M 328.851714 224.64 \nL 329.414309 224.64 \nL 329.414309 224.64 \nL 328.851714 224.64 \nz\n\" clip-path=\"url(#pa99849d8f2)\" style=\"fill: #1f77b4\"/>\n   </g>\n   <g id=\"patch_491\">\n    <path d=\"M 329.414309 224.64 \nL 329.976903 224.64 \nL 329.976903 224.64 \nL 329.414309 224.64 \nz\n\" clip-path=\"url(#pa99849d8f2)\" style=\"fill: #1f77b4\"/>\n   </g>\n   <g id=\"patch_492\">\n    <path d=\"M 329.976903 224.64 \nL 330.539498 224.64 \nL 330.539498 224.64 \nL 329.976903 224.64 \nz\n\" clip-path=\"url(#pa99849d8f2)\" style=\"fill: #1f77b4\"/>\n   </g>\n   <g id=\"patch_493\">\n    <path d=\"M 330.539498 224.64 \nL 331.102092 224.64 \nL 331.102092 224.64 \nL 330.539498 224.64 \nz\n\" clip-path=\"url(#pa99849d8f2)\" style=\"fill: #1f77b4\"/>\n   </g>\n   <g id=\"patch_494\">\n    <path d=\"M 331.102092 224.64 \nL 331.664687 224.64 \nL 331.664687 224.64 \nL 331.102092 224.64 \nz\n\" clip-path=\"url(#pa99849d8f2)\" style=\"fill: #1f77b4\"/>\n   </g>\n   <g id=\"patch_495\">\n    <path d=\"M 331.664687 224.64 \nL 332.227281 224.64 \nL 332.227281 224.64 \nL 331.664687 224.64 \nz\n\" clip-path=\"url(#pa99849d8f2)\" style=\"fill: #1f77b4\"/>\n   </g>\n   <g id=\"patch_496\">\n    <path d=\"M 332.227281 224.64 \nL 332.789876 224.64 \nL 332.789876 224.64 \nL 332.227281 224.64 \nz\n\" clip-path=\"url(#pa99849d8f2)\" style=\"fill: #1f77b4\"/>\n   </g>\n   <g id=\"patch_497\">\n    <path d=\"M 332.789876 224.64 \nL 333.35247 224.64 \nL 333.35247 224.64 \nL 332.789876 224.64 \nz\n\" clip-path=\"url(#pa99849d8f2)\" style=\"fill: #1f77b4\"/>\n   </g>\n   <g id=\"patch_498\">\n    <path d=\"M 333.35247 224.64 \nL 333.915065 224.64 \nL 333.915065 224.64 \nL 333.35247 224.64 \nz\n\" clip-path=\"url(#pa99849d8f2)\" style=\"fill: #1f77b4\"/>\n   </g>\n   <g id=\"patch_499\">\n    <path d=\"M 333.915065 224.64 \nL 334.477659 224.64 \nL 334.477659 224.64 \nL 333.915065 224.64 \nz\n\" clip-path=\"url(#pa99849d8f2)\" style=\"fill: #1f77b4\"/>\n   </g>\n   <g id=\"patch_500\">\n    <path d=\"M 334.477659 224.64 \nL 335.040254 224.64 \nL 335.040254 224.64 \nL 334.477659 224.64 \nz\n\" clip-path=\"url(#pa99849d8f2)\" style=\"fill: #1f77b4\"/>\n   </g>\n   <g id=\"patch_501\">\n    <path d=\"M 335.040254 224.64 \nL 335.602848 224.64 \nL 335.602848 224.64 \nL 335.040254 224.64 \nz\n\" clip-path=\"url(#pa99849d8f2)\" style=\"fill: #1f77b4\"/>\n   </g>\n   <g id=\"patch_502\">\n    <path d=\"M 335.602848 224.64 \nL 336.165443 224.64 \nL 336.165443 224.64 \nL 335.602848 224.64 \nz\n\" clip-path=\"url(#pa99849d8f2)\" style=\"fill: #1f77b4\"/>\n   </g>\n   <g id=\"patch_503\">\n    <path d=\"M 336.165443 224.64 \nL 336.728037 224.64 \nL 336.728037 224.64 \nL 336.165443 224.64 \nz\n\" clip-path=\"url(#pa99849d8f2)\" style=\"fill: #1f77b4\"/>\n   </g>\n   <g id=\"patch_504\">\n    <path d=\"M 336.728037 224.64 \nL 337.290632 224.64 \nL 337.290632 224.64 \nL 336.728037 224.64 \nz\n\" clip-path=\"url(#pa99849d8f2)\" style=\"fill: #1f77b4\"/>\n   </g>\n   <g id=\"patch_505\">\n    <path d=\"M 337.290632 224.64 \nL 337.853226 224.64 \nL 337.853226 224.64 \nL 337.290632 224.64 \nz\n\" clip-path=\"url(#pa99849d8f2)\" style=\"fill: #1f77b4\"/>\n   </g>\n   <g id=\"patch_506\">\n    <path d=\"M 337.853226 224.64 \nL 338.415821 224.64 \nL 338.415821 224.64 \nL 337.853226 224.64 \nz\n\" clip-path=\"url(#pa99849d8f2)\" style=\"fill: #1f77b4\"/>\n   </g>\n   <g id=\"patch_507\">\n    <path d=\"M 338.415821 224.64 \nL 338.978415 224.64 \nL 338.978415 224.64 \nL 338.415821 224.64 \nz\n\" clip-path=\"url(#pa99849d8f2)\" style=\"fill: #1f77b4\"/>\n   </g>\n   <g id=\"patch_508\">\n    <path d=\"M 338.978415 224.64 \nL 339.54101 224.64 \nL 339.54101 224.64 \nL 338.978415 224.64 \nz\n\" clip-path=\"url(#pa99849d8f2)\" style=\"fill: #1f77b4\"/>\n   </g>\n   <g id=\"patch_509\">\n    <path d=\"M 339.54101 224.64 \nL 340.103604 224.64 \nL 340.103604 224.64 \nL 339.54101 224.64 \nz\n\" clip-path=\"url(#pa99849d8f2)\" style=\"fill: #1f77b4\"/>\n   </g>\n   <g id=\"patch_510\">\n    <path d=\"M 340.103604 224.64 \nL 340.666199 224.64 \nL 340.666199 224.64 \nL 340.103604 224.64 \nz\n\" clip-path=\"url(#pa99849d8f2)\" style=\"fill: #1f77b4\"/>\n   </g>\n   <g id=\"patch_511\">\n    <path d=\"M 340.666199 224.64 \nL 341.228793 224.64 \nL 341.228793 224.64 \nL 340.666199 224.64 \nz\n\" clip-path=\"url(#pa99849d8f2)\" style=\"fill: #1f77b4\"/>\n   </g>\n   <g id=\"patch_512\">\n    <path d=\"M 341.228793 224.64 \nL 341.791388 224.64 \nL 341.791388 224.64 \nL 341.228793 224.64 \nz\n\" clip-path=\"url(#pa99849d8f2)\" style=\"fill: #1f77b4\"/>\n   </g>\n   <g id=\"patch_513\">\n    <path d=\"M 341.791388 224.64 \nL 342.353983 224.64 \nL 342.353983 224.64 \nL 341.791388 224.64 \nz\n\" clip-path=\"url(#pa99849d8f2)\" style=\"fill: #1f77b4\"/>\n   </g>\n   <g id=\"patch_514\">\n    <path d=\"M 342.353983 224.64 \nL 342.916577 224.64 \nL 342.916577 224.64 \nL 342.353983 224.64 \nz\n\" clip-path=\"url(#pa99849d8f2)\" style=\"fill: #1f77b4\"/>\n   </g>\n   <g id=\"patch_515\">\n    <path d=\"M 342.916577 224.64 \nL 343.479172 224.64 \nL 343.479172 224.64 \nL 342.916577 224.64 \nz\n\" clip-path=\"url(#pa99849d8f2)\" style=\"fill: #1f77b4\"/>\n   </g>\n   <g id=\"patch_516\">\n    <path d=\"M 343.479172 224.64 \nL 344.041766 224.64 \nL 344.041766 224.64 \nL 343.479172 224.64 \nz\n\" clip-path=\"url(#pa99849d8f2)\" style=\"fill: #1f77b4\"/>\n   </g>\n   <g id=\"patch_517\">\n    <path d=\"M 344.041766 224.64 \nL 344.604361 224.64 \nL 344.604361 224.64 \nL 344.041766 224.64 \nz\n\" clip-path=\"url(#pa99849d8f2)\" style=\"fill: #1f77b4\"/>\n   </g>\n   <g id=\"patch_518\">\n    <path d=\"M 344.604361 224.64 \nL 345.166955 224.64 \nL 345.166955 224.64 \nL 344.604361 224.64 \nz\n\" clip-path=\"url(#pa99849d8f2)\" style=\"fill: #1f77b4\"/>\n   </g>\n   <g id=\"patch_519\">\n    <path d=\"M 345.166955 224.64 \nL 345.72955 224.64 \nL 345.72955 224.64 \nL 345.166955 224.64 \nz\n\" clip-path=\"url(#pa99849d8f2)\" style=\"fill: #1f77b4\"/>\n   </g>\n   <g id=\"patch_520\">\n    <path d=\"M 345.72955 224.64 \nL 346.292144 224.64 \nL 346.292144 224.64 \nL 345.72955 224.64 \nz\n\" clip-path=\"url(#pa99849d8f2)\" style=\"fill: #1f77b4\"/>\n   </g>\n   <g id=\"patch_521\">\n    <path d=\"M 346.292144 224.64 \nL 346.854739 224.64 \nL 346.854739 224.64 \nL 346.292144 224.64 \nz\n\" clip-path=\"url(#pa99849d8f2)\" style=\"fill: #1f77b4\"/>\n   </g>\n   <g id=\"patch_522\">\n    <path d=\"M 346.854739 224.64 \nL 347.417333 224.64 \nL 347.417333 224.64 \nL 346.854739 224.64 \nz\n\" clip-path=\"url(#pa99849d8f2)\" style=\"fill: #1f77b4\"/>\n   </g>\n   <g id=\"patch_523\">\n    <path d=\"M 347.417333 224.64 \nL 347.979928 224.64 \nL 347.979928 224.64 \nL 347.417333 224.64 \nz\n\" clip-path=\"url(#pa99849d8f2)\" style=\"fill: #1f77b4\"/>\n   </g>\n   <g id=\"patch_524\">\n    <path d=\"M 347.979928 224.64 \nL 348.542522 224.64 \nL 348.542522 224.64 \nL 347.979928 224.64 \nz\n\" clip-path=\"url(#pa99849d8f2)\" style=\"fill: #1f77b4\"/>\n   </g>\n   <g id=\"patch_525\">\n    <path d=\"M 348.542522 224.64 \nL 349.105117 224.64 \nL 349.105117 224.64 \nL 348.542522 224.64 \nz\n\" clip-path=\"url(#pa99849d8f2)\" style=\"fill: #1f77b4\"/>\n   </g>\n   <g id=\"patch_526\">\n    <path d=\"M 349.105117 224.64 \nL 349.667711 224.64 \nL 349.667711 224.64 \nL 349.105117 224.64 \nz\n\" clip-path=\"url(#pa99849d8f2)\" style=\"fill: #1f77b4\"/>\n   </g>\n   <g id=\"patch_527\">\n    <path d=\"M 349.667711 224.64 \nL 350.230306 224.64 \nL 350.230306 224.64 \nL 349.667711 224.64 \nz\n\" clip-path=\"url(#pa99849d8f2)\" style=\"fill: #1f77b4\"/>\n   </g>\n   <g id=\"patch_528\">\n    <path d=\"M 350.230306 224.64 \nL 350.7929 224.64 \nL 350.7929 224.64 \nL 350.230306 224.64 \nz\n\" clip-path=\"url(#pa99849d8f2)\" style=\"fill: #1f77b4\"/>\n   </g>\n   <g id=\"patch_529\">\n    <path d=\"M 350.7929 224.64 \nL 351.355495 224.64 \nL 351.355495 224.64 \nL 350.7929 224.64 \nz\n\" clip-path=\"url(#pa99849d8f2)\" style=\"fill: #1f77b4\"/>\n   </g>\n   <g id=\"patch_530\">\n    <path d=\"M 351.355495 224.64 \nL 351.918089 224.64 \nL 351.918089 224.64 \nL 351.355495 224.64 \nz\n\" clip-path=\"url(#pa99849d8f2)\" style=\"fill: #1f77b4\"/>\n   </g>\n   <g id=\"patch_531\">\n    <path d=\"M 351.918089 224.64 \nL 352.480684 224.64 \nL 352.480684 224.64 \nL 351.918089 224.64 \nz\n\" clip-path=\"url(#pa99849d8f2)\" style=\"fill: #1f77b4\"/>\n   </g>\n   <g id=\"patch_532\">\n    <path d=\"M 352.480684 224.64 \nL 353.043278 224.64 \nL 353.043278 224.64 \nL 352.480684 224.64 \nz\n\" clip-path=\"url(#pa99849d8f2)\" style=\"fill: #1f77b4\"/>\n   </g>\n   <g id=\"patch_533\">\n    <path d=\"M 353.043278 224.64 \nL 353.605873 224.64 \nL 353.605873 224.64 \nL 353.043278 224.64 \nz\n\" clip-path=\"url(#pa99849d8f2)\" style=\"fill: #1f77b4\"/>\n   </g>\n   <g id=\"patch_534\">\n    <path d=\"M 353.605873 224.64 \nL 354.168467 224.64 \nL 354.168467 224.64 \nL 353.605873 224.64 \nz\n\" clip-path=\"url(#pa99849d8f2)\" style=\"fill: #1f77b4\"/>\n   </g>\n   <g id=\"patch_535\">\n    <path d=\"M 354.168467 224.64 \nL 354.731062 224.64 \nL 354.731062 224.64 \nL 354.168467 224.64 \nz\n\" clip-path=\"url(#pa99849d8f2)\" style=\"fill: #1f77b4\"/>\n   </g>\n   <g id=\"patch_536\">\n    <path d=\"M 354.731062 224.64 \nL 355.293657 224.64 \nL 355.293657 224.64 \nL 354.731062 224.64 \nz\n\" clip-path=\"url(#pa99849d8f2)\" style=\"fill: #1f77b4\"/>\n   </g>\n   <g id=\"patch_537\">\n    <path d=\"M 355.293657 224.64 \nL 355.856251 224.64 \nL 355.856251 224.64 \nL 355.293657 224.64 \nz\n\" clip-path=\"url(#pa99849d8f2)\" style=\"fill: #1f77b4\"/>\n   </g>\n   <g id=\"patch_538\">\n    <path d=\"M 355.856251 224.64 \nL 356.418846 224.64 \nL 356.418846 224.64 \nL 355.856251 224.64 \nz\n\" clip-path=\"url(#pa99849d8f2)\" style=\"fill: #1f77b4\"/>\n   </g>\n   <g id=\"patch_539\">\n    <path d=\"M 356.418846 224.64 \nL 356.98144 224.64 \nL 356.98144 224.64 \nL 356.418846 224.64 \nz\n\" clip-path=\"url(#pa99849d8f2)\" style=\"fill: #1f77b4\"/>\n   </g>\n   <g id=\"patch_540\">\n    <path d=\"M 356.98144 224.64 \nL 357.544035 224.64 \nL 357.544035 224.64 \nL 356.98144 224.64 \nz\n\" clip-path=\"url(#pa99849d8f2)\" style=\"fill: #1f77b4\"/>\n   </g>\n   <g id=\"patch_541\">\n    <path d=\"M 357.544035 224.64 \nL 358.106629 224.64 \nL 358.106629 224.64 \nL 357.544035 224.64 \nz\n\" clip-path=\"url(#pa99849d8f2)\" style=\"fill: #1f77b4\"/>\n   </g>\n   <g id=\"patch_542\">\n    <path d=\"M 358.106629 224.64 \nL 358.669224 224.64 \nL 358.669224 224.64 \nL 358.106629 224.64 \nz\n\" clip-path=\"url(#pa99849d8f2)\" style=\"fill: #1f77b4\"/>\n   </g>\n   <g id=\"patch_543\">\n    <path d=\"M 358.669224 224.64 \nL 359.231818 224.64 \nL 359.231818 224.59047 \nL 358.669224 224.59047 \nz\n\" clip-path=\"url(#pa99849d8f2)\" style=\"fill: #1f77b4\"/>\n   </g>\n   <g id=\"matplotlib.axis_1\">\n    <g id=\"xtick_1\">\n     <g id=\"line2d_1\">\n      <defs>\n       <path id=\"mc6d21053ca\" d=\"M 0 0 \nL 0 3.5 \n\" style=\"stroke: #000000; stroke-width: 0.8\"/>\n      </defs>\n      <g>\n       <use xlink:href=\"#mc6d21053ca\" x=\"52.839091\" y=\"224.64\" style=\"stroke: #000000; stroke-width: 0.8\"/>\n      </g>\n     </g>\n     <g id=\"text_1\">\n      <!-- 0 -->\n      <g transform=\"translate(49.657841 239.238437)scale(0.1 -0.1)\">\n       <defs>\n        <path id=\"DejaVuSans-30\" d=\"M 2034 4250 \nQ 1547 4250 1301 3770 \nQ 1056 3291 1056 2328 \nQ 1056 1369 1301 889 \nQ 1547 409 2034 409 \nQ 2525 409 2770 889 \nQ 3016 1369 3016 2328 \nQ 3016 3291 2770 3770 \nQ 2525 4250 2034 4250 \nz\nM 2034 4750 \nQ 2819 4750 3233 4129 \nQ 3647 3509 3647 2328 \nQ 3647 1150 3233 529 \nQ 2819 -91 2034 -91 \nQ 1250 -91 836 529 \nQ 422 1150 422 2328 \nQ 422 3509 836 4129 \nQ 1250 4750 2034 4750 \nz\n\" transform=\"scale(0.015625)\"/>\n       </defs>\n       <use xlink:href=\"#DejaVuSans-30\"/>\n      </g>\n     </g>\n    </g>\n    <g id=\"xtick_2\">\n     <g id=\"line2d_2\">\n      <g>\n       <use xlink:href=\"#mc6d21053ca\" x=\"93.420909\" y=\"224.64\" style=\"stroke: #000000; stroke-width: 0.8\"/>\n      </g>\n     </g>\n     <g id=\"text_2\">\n      <!-- 20 -->\n      <g transform=\"translate(87.058409 239.238437)scale(0.1 -0.1)\">\n       <defs>\n        <path id=\"DejaVuSans-32\" d=\"M 1228 531 \nL 3431 531 \nL 3431 0 \nL 469 0 \nL 469 531 \nQ 828 903 1448 1529 \nQ 2069 2156 2228 2338 \nQ 2531 2678 2651 2914 \nQ 2772 3150 2772 3378 \nQ 2772 3750 2511 3984 \nQ 2250 4219 1831 4219 \nQ 1534 4219 1204 4116 \nQ 875 4013 500 3803 \nL 500 4441 \nQ 881 4594 1212 4672 \nQ 1544 4750 1819 4750 \nQ 2544 4750 2975 4387 \nQ 3406 4025 3406 3419 \nQ 3406 3131 3298 2873 \nQ 3191 2616 2906 2266 \nQ 2828 2175 2409 1742 \nQ 1991 1309 1228 531 \nz\n\" transform=\"scale(0.015625)\"/>\n       </defs>\n       <use xlink:href=\"#DejaVuSans-32\"/>\n       <use xlink:href=\"#DejaVuSans-30\" x=\"63.623047\"/>\n      </g>\n     </g>\n    </g>\n    <g id=\"xtick_3\">\n     <g id=\"line2d_3\">\n      <g>\n       <use xlink:href=\"#mc6d21053ca\" x=\"134.002727\" y=\"224.64\" style=\"stroke: #000000; stroke-width: 0.8\"/>\n      </g>\n     </g>\n     <g id=\"text_3\">\n      <!-- 40 -->\n      <g transform=\"translate(127.640227 239.238437)scale(0.1 -0.1)\">\n       <defs>\n        <path id=\"DejaVuSans-34\" d=\"M 2419 4116 \nL 825 1625 \nL 2419 1625 \nL 2419 4116 \nz\nM 2253 4666 \nL 3047 4666 \nL 3047 1625 \nL 3713 1625 \nL 3713 1100 \nL 3047 1100 \nL 3047 0 \nL 2419 0 \nL 2419 1100 \nL 313 1100 \nL 313 1709 \nL 2253 4666 \nz\n\" transform=\"scale(0.015625)\"/>\n       </defs>\n       <use xlink:href=\"#DejaVuSans-34\"/>\n       <use xlink:href=\"#DejaVuSans-30\" x=\"63.623047\"/>\n      </g>\n     </g>\n    </g>\n    <g id=\"xtick_4\">\n     <g id=\"line2d_4\">\n      <g>\n       <use xlink:href=\"#mc6d21053ca\" x=\"174.584545\" y=\"224.64\" style=\"stroke: #000000; stroke-width: 0.8\"/>\n      </g>\n     </g>\n     <g id=\"text_4\">\n      <!-- 60 -->\n      <g transform=\"translate(168.222045 239.238437)scale(0.1 -0.1)\">\n       <defs>\n        <path id=\"DejaVuSans-36\" d=\"M 2113 2584 \nQ 1688 2584 1439 2293 \nQ 1191 2003 1191 1497 \nQ 1191 994 1439 701 \nQ 1688 409 2113 409 \nQ 2538 409 2786 701 \nQ 3034 994 3034 1497 \nQ 3034 2003 2786 2293 \nQ 2538 2584 2113 2584 \nz\nM 3366 4563 \nL 3366 3988 \nQ 3128 4100 2886 4159 \nQ 2644 4219 2406 4219 \nQ 1781 4219 1451 3797 \nQ 1122 3375 1075 2522 \nQ 1259 2794 1537 2939 \nQ 1816 3084 2150 3084 \nQ 2853 3084 3261 2657 \nQ 3669 2231 3669 1497 \nQ 3669 778 3244 343 \nQ 2819 -91 2113 -91 \nQ 1303 -91 875 529 \nQ 447 1150 447 2328 \nQ 447 3434 972 4092 \nQ 1497 4750 2381 4750 \nQ 2619 4750 2861 4703 \nQ 3103 4656 3366 4563 \nz\n\" transform=\"scale(0.015625)\"/>\n       </defs>\n       <use xlink:href=\"#DejaVuSans-36\"/>\n       <use xlink:href=\"#DejaVuSans-30\" x=\"63.623047\"/>\n      </g>\n     </g>\n    </g>\n    <g id=\"xtick_5\">\n     <g id=\"line2d_5\">\n      <g>\n       <use xlink:href=\"#mc6d21053ca\" x=\"215.166364\" y=\"224.64\" style=\"stroke: #000000; stroke-width: 0.8\"/>\n      </g>\n     </g>\n     <g id=\"text_5\">\n      <!-- 80 -->\n      <g transform=\"translate(208.803864 239.238437)scale(0.1 -0.1)\">\n       <defs>\n        <path id=\"DejaVuSans-38\" d=\"M 2034 2216 \nQ 1584 2216 1326 1975 \nQ 1069 1734 1069 1313 \nQ 1069 891 1326 650 \nQ 1584 409 2034 409 \nQ 2484 409 2743 651 \nQ 3003 894 3003 1313 \nQ 3003 1734 2745 1975 \nQ 2488 2216 2034 2216 \nz\nM 1403 2484 \nQ 997 2584 770 2862 \nQ 544 3141 544 3541 \nQ 544 4100 942 4425 \nQ 1341 4750 2034 4750 \nQ 2731 4750 3128 4425 \nQ 3525 4100 3525 3541 \nQ 3525 3141 3298 2862 \nQ 3072 2584 2669 2484 \nQ 3125 2378 3379 2068 \nQ 3634 1759 3634 1313 \nQ 3634 634 3220 271 \nQ 2806 -91 2034 -91 \nQ 1263 -91 848 271 \nQ 434 634 434 1313 \nQ 434 1759 690 2068 \nQ 947 2378 1403 2484 \nz\nM 1172 3481 \nQ 1172 3119 1398 2916 \nQ 1625 2713 2034 2713 \nQ 2441 2713 2670 2916 \nQ 2900 3119 2900 3481 \nQ 2900 3844 2670 4047 \nQ 2441 4250 2034 4250 \nQ 1625 4250 1398 4047 \nQ 1172 3844 1172 3481 \nz\n\" transform=\"scale(0.015625)\"/>\n       </defs>\n       <use xlink:href=\"#DejaVuSans-38\"/>\n       <use xlink:href=\"#DejaVuSans-30\" x=\"63.623047\"/>\n      </g>\n     </g>\n    </g>\n    <g id=\"xtick_6\">\n     <g id=\"line2d_6\">\n      <g>\n       <use xlink:href=\"#mc6d21053ca\" x=\"255.748182\" y=\"224.64\" style=\"stroke: #000000; stroke-width: 0.8\"/>\n      </g>\n     </g>\n     <g id=\"text_6\">\n      <!-- 100 -->\n      <g transform=\"translate(246.204432 239.238437)scale(0.1 -0.1)\">\n       <defs>\n        <path id=\"DejaVuSans-31\" d=\"M 794 531 \nL 1825 531 \nL 1825 4091 \nL 703 3866 \nL 703 4441 \nL 1819 4666 \nL 2450 4666 \nL 2450 531 \nL 3481 531 \nL 3481 0 \nL 794 0 \nL 794 531 \nz\n\" transform=\"scale(0.015625)\"/>\n       </defs>\n       <use xlink:href=\"#DejaVuSans-31\"/>\n       <use xlink:href=\"#DejaVuSans-30\" x=\"63.623047\"/>\n       <use xlink:href=\"#DejaVuSans-30\" x=\"127.246094\"/>\n      </g>\n     </g>\n    </g>\n    <g id=\"xtick_7\">\n     <g id=\"line2d_7\">\n      <g>\n       <use xlink:href=\"#mc6d21053ca\" x=\"296.33\" y=\"224.64\" style=\"stroke: #000000; stroke-width: 0.8\"/>\n      </g>\n     </g>\n     <g id=\"text_7\">\n      <!-- 120 -->\n      <g transform=\"translate(286.78625 239.238437)scale(0.1 -0.1)\">\n       <use xlink:href=\"#DejaVuSans-31\"/>\n       <use xlink:href=\"#DejaVuSans-32\" x=\"63.623047\"/>\n       <use xlink:href=\"#DejaVuSans-30\" x=\"127.246094\"/>\n      </g>\n     </g>\n    </g>\n    <g id=\"xtick_8\">\n     <g id=\"line2d_8\">\n      <g>\n       <use xlink:href=\"#mc6d21053ca\" x=\"336.911818\" y=\"224.64\" style=\"stroke: #000000; stroke-width: 0.8\"/>\n      </g>\n     </g>\n     <g id=\"text_8\">\n      <!-- 140 -->\n      <g transform=\"translate(327.368068 239.238437)scale(0.1 -0.1)\">\n       <use xlink:href=\"#DejaVuSans-31\"/>\n       <use xlink:href=\"#DejaVuSans-34\" x=\"63.623047\"/>\n       <use xlink:href=\"#DejaVuSans-30\" x=\"127.246094\"/>\n      </g>\n     </g>\n    </g>\n   </g>\n   <g id=\"matplotlib.axis_2\">\n    <g id=\"ytick_1\">\n     <g id=\"line2d_9\">\n      <defs>\n       <path id=\"m1231b1b06d\" d=\"M 0 0 \nL -3.5 0 \n\" style=\"stroke: #000000; stroke-width: 0.8\"/>\n      </defs>\n      <g>\n       <use xlink:href=\"#m1231b1b06d\" x=\"39.65\" y=\"224.64\" style=\"stroke: #000000; stroke-width: 0.8\"/>\n      </g>\n     </g>\n     <g id=\"text_9\">\n      <!-- 0 -->\n      <g transform=\"translate(26.2875 228.439219)scale(0.1 -0.1)\">\n       <use xlink:href=\"#DejaVuSans-30\"/>\n      </g>\n     </g>\n    </g>\n    <g id=\"ytick_2\">\n     <g id=\"line2d_10\">\n      <g>\n       <use xlink:href=\"#m1231b1b06d\" x=\"39.65\" y=\"199.874906\" style=\"stroke: #000000; stroke-width: 0.8\"/>\n      </g>\n     </g>\n     <g id=\"text_10\">\n      <!-- 500 -->\n      <g transform=\"translate(13.5625 203.674125)scale(0.1 -0.1)\">\n       <defs>\n        <path id=\"DejaVuSans-35\" d=\"M 691 4666 \nL 3169 4666 \nL 3169 4134 \nL 1269 4134 \nL 1269 2991 \nQ 1406 3038 1543 3061 \nQ 1681 3084 1819 3084 \nQ 2600 3084 3056 2656 \nQ 3513 2228 3513 1497 \nQ 3513 744 3044 326 \nQ 2575 -91 1722 -91 \nQ 1428 -91 1123 -41 \nQ 819 9 494 109 \nL 494 744 \nQ 775 591 1075 516 \nQ 1375 441 1709 441 \nQ 2250 441 2565 725 \nQ 2881 1009 2881 1497 \nQ 2881 1984 2565 2268 \nQ 2250 2553 1709 2553 \nQ 1456 2553 1204 2497 \nQ 953 2441 691 2322 \nL 691 4666 \nz\n\" transform=\"scale(0.015625)\"/>\n       </defs>\n       <use xlink:href=\"#DejaVuSans-35\"/>\n       <use xlink:href=\"#DejaVuSans-30\" x=\"63.623047\"/>\n       <use xlink:href=\"#DejaVuSans-30\" x=\"127.246094\"/>\n      </g>\n     </g>\n    </g>\n    <g id=\"ytick_3\">\n     <g id=\"line2d_11\">\n      <g>\n       <use xlink:href=\"#m1231b1b06d\" x=\"39.65\" y=\"175.109812\" style=\"stroke: #000000; stroke-width: 0.8\"/>\n      </g>\n     </g>\n     <g id=\"text_11\">\n      <!-- 1000 -->\n      <g transform=\"translate(7.2 178.909031)scale(0.1 -0.1)\">\n       <use xlink:href=\"#DejaVuSans-31\"/>\n       <use xlink:href=\"#DejaVuSans-30\" x=\"63.623047\"/>\n       <use xlink:href=\"#DejaVuSans-30\" x=\"127.246094\"/>\n       <use xlink:href=\"#DejaVuSans-30\" x=\"190.869141\"/>\n      </g>\n     </g>\n    </g>\n    <g id=\"ytick_4\">\n     <g id=\"line2d_12\">\n      <g>\n       <use xlink:href=\"#m1231b1b06d\" x=\"39.65\" y=\"150.344719\" style=\"stroke: #000000; stroke-width: 0.8\"/>\n      </g>\n     </g>\n     <g id=\"text_12\">\n      <!-- 1500 -->\n      <g transform=\"translate(7.2 154.143937)scale(0.1 -0.1)\">\n       <use xlink:href=\"#DejaVuSans-31\"/>\n       <use xlink:href=\"#DejaVuSans-35\" x=\"63.623047\"/>\n       <use xlink:href=\"#DejaVuSans-30\" x=\"127.246094\"/>\n       <use xlink:href=\"#DejaVuSans-30\" x=\"190.869141\"/>\n      </g>\n     </g>\n    </g>\n    <g id=\"ytick_5\">\n     <g id=\"line2d_13\">\n      <g>\n       <use xlink:href=\"#m1231b1b06d\" x=\"39.65\" y=\"125.579625\" style=\"stroke: #000000; stroke-width: 0.8\"/>\n      </g>\n     </g>\n     <g id=\"text_13\">\n      <!-- 2000 -->\n      <g transform=\"translate(7.2 129.378844)scale(0.1 -0.1)\">\n       <use xlink:href=\"#DejaVuSans-32\"/>\n       <use xlink:href=\"#DejaVuSans-30\" x=\"63.623047\"/>\n       <use xlink:href=\"#DejaVuSans-30\" x=\"127.246094\"/>\n       <use xlink:href=\"#DejaVuSans-30\" x=\"190.869141\"/>\n      </g>\n     </g>\n    </g>\n    <g id=\"ytick_6\">\n     <g id=\"line2d_14\">\n      <g>\n       <use xlink:href=\"#m1231b1b06d\" x=\"39.65\" y=\"100.814531\" style=\"stroke: #000000; stroke-width: 0.8\"/>\n      </g>\n     </g>\n     <g id=\"text_14\">\n      <!-- 2500 -->\n      <g transform=\"translate(7.2 104.61375)scale(0.1 -0.1)\">\n       <use xlink:href=\"#DejaVuSans-32\"/>\n       <use xlink:href=\"#DejaVuSans-35\" x=\"63.623047\"/>\n       <use xlink:href=\"#DejaVuSans-30\" x=\"127.246094\"/>\n       <use xlink:href=\"#DejaVuSans-30\" x=\"190.869141\"/>\n      </g>\n     </g>\n    </g>\n    <g id=\"ytick_7\">\n     <g id=\"line2d_15\">\n      <g>\n       <use xlink:href=\"#m1231b1b06d\" x=\"39.65\" y=\"76.049437\" style=\"stroke: #000000; stroke-width: 0.8\"/>\n      </g>\n     </g>\n     <g id=\"text_15\">\n      <!-- 3000 -->\n      <g transform=\"translate(7.2 79.848656)scale(0.1 -0.1)\">\n       <defs>\n        <path id=\"DejaVuSans-33\" d=\"M 2597 2516 \nQ 3050 2419 3304 2112 \nQ 3559 1806 3559 1356 \nQ 3559 666 3084 287 \nQ 2609 -91 1734 -91 \nQ 1441 -91 1130 -33 \nQ 819 25 488 141 \nL 488 750 \nQ 750 597 1062 519 \nQ 1375 441 1716 441 \nQ 2309 441 2620 675 \nQ 2931 909 2931 1356 \nQ 2931 1769 2642 2001 \nQ 2353 2234 1838 2234 \nL 1294 2234 \nL 1294 2753 \nL 1863 2753 \nQ 2328 2753 2575 2939 \nQ 2822 3125 2822 3475 \nQ 2822 3834 2567 4026 \nQ 2313 4219 1838 4219 \nQ 1578 4219 1281 4162 \nQ 984 4106 628 3988 \nL 628 4550 \nQ 988 4650 1302 4700 \nQ 1616 4750 1894 4750 \nQ 2613 4750 3031 4423 \nQ 3450 4097 3450 3541 \nQ 3450 3153 3228 2886 \nQ 3006 2619 2597 2516 \nz\n\" transform=\"scale(0.015625)\"/>\n       </defs>\n       <use xlink:href=\"#DejaVuSans-33\"/>\n       <use xlink:href=\"#DejaVuSans-30\" x=\"63.623047\"/>\n       <use xlink:href=\"#DejaVuSans-30\" x=\"127.246094\"/>\n       <use xlink:href=\"#DejaVuSans-30\" x=\"190.869141\"/>\n      </g>\n     </g>\n    </g>\n    <g id=\"ytick_8\">\n     <g id=\"line2d_16\">\n      <g>\n       <use xlink:href=\"#m1231b1b06d\" x=\"39.65\" y=\"51.284343\" style=\"stroke: #000000; stroke-width: 0.8\"/>\n      </g>\n     </g>\n     <g id=\"text_16\">\n      <!-- 3500 -->\n      <g transform=\"translate(7.2 55.083562)scale(0.1 -0.1)\">\n       <use xlink:href=\"#DejaVuSans-33\"/>\n       <use xlink:href=\"#DejaVuSans-35\" x=\"63.623047\"/>\n       <use xlink:href=\"#DejaVuSans-30\" x=\"127.246094\"/>\n       <use xlink:href=\"#DejaVuSans-30\" x=\"190.869141\"/>\n      </g>\n     </g>\n    </g>\n    <g id=\"ytick_9\">\n     <g id=\"line2d_17\">\n      <g>\n       <use xlink:href=\"#m1231b1b06d\" x=\"39.65\" y=\"26.51925\" style=\"stroke: #000000; stroke-width: 0.8\"/>\n      </g>\n     </g>\n     <g id=\"text_17\">\n      <!-- 4000 -->\n      <g transform=\"translate(7.2 30.318468)scale(0.1 -0.1)\">\n       <use xlink:href=\"#DejaVuSans-34\"/>\n       <use xlink:href=\"#DejaVuSans-30\" x=\"63.623047\"/>\n       <use xlink:href=\"#DejaVuSans-30\" x=\"127.246094\"/>\n       <use xlink:href=\"#DejaVuSans-30\" x=\"190.869141\"/>\n      </g>\n     </g>\n    </g>\n   </g>\n   <g id=\"patch_544\">\n    <path d=\"M 39.65 224.64 \nL 39.65 7.2 \n\" style=\"fill: none; stroke: #000000; stroke-width: 0.8; stroke-linejoin: miter; stroke-linecap: square\"/>\n   </g>\n   <g id=\"patch_545\">\n    <path d=\"M 374.45 224.64 \nL 374.45 7.2 \n\" style=\"fill: none; stroke: #000000; stroke-width: 0.8; stroke-linejoin: miter; stroke-linecap: square\"/>\n   </g>\n   <g id=\"patch_546\">\n    <path d=\"M 39.65 224.64 \nL 374.45 224.64 \n\" style=\"fill: none; stroke: #000000; stroke-width: 0.8; stroke-linejoin: miter; stroke-linecap: square\"/>\n   </g>\n   <g id=\"patch_547\">\n    <path d=\"M 39.65 7.2 \nL 374.45 7.2 \n\" style=\"fill: none; stroke: #000000; stroke-width: 0.8; stroke-linejoin: miter; stroke-linecap: square\"/>\n   </g>\n  </g>\n </g>\n <defs>\n  <clipPath id=\"pa99849d8f2\">\n   <rect x=\"39.65\" y=\"7.2\" width=\"334.8\" height=\"217.44\"/>\n  </clipPath>\n </defs>\n</svg>\n"
          },
          "metadata": {
            "needs_background": "light"
          }
        }
      ]
    },
    {
      "cell_type": "code",
      "source": [
        "no_below = 5 # Minimum number of documents to keep a term in the dictionary\n",
        "no_above = .80 # Maximum proportion of documents in which a term can appear to be kept in the dictionary\n",
        "\n",
        "D_es.filter_extremes(no_below=no_below,no_above=no_above, keep_n=1500)\n",
        "n_tokens = len(D_es)\n",
        "\n",
        "print('The dictionary contains', n_tokens, 'terms')\n",
        "\n",
        "print('First terms in the dictionary:')\n",
        "for n in range(10):\n",
        "    print(str(n), ':', D_es[n])"
      ],
      "metadata": {
        "colab": {
          "base_uri": "https://localhost:8080/"
        },
        "id": "k6QjEN9tHQJW",
        "outputId": "fadb7d7d-d30e-4409-ba1b-e139387df2c1"
      },
      "execution_count": null,
      "outputs": [
        {
          "output_type": "stream",
          "name": "stdout",
          "text": [
            "The dictionary contains 461 terms\n",
            "First terms in the dictionary:\n",
            "0 : gracias\n",
            "1 : nuevo\n",
            "2 : anunciar\n",
            "3 : mano\n",
            "4 : mundo\n",
            "5 : orgullosos\n",
            "6 : primera\n",
            "7 : festival\n",
            "8 : habitacion\n",
            "9 : marca\n"
          ]
        }
      ]
    },
    {
      "cell_type": "markdown",
      "source": [
        "Comenzamos con realizar un exploratorio de las palabras más comunes en cada idioma, esto nos permitió eliminar stopwords no identificadas previamente(pictwittercomomywklcodg,httpowlyzgkj50xyqb6,6), después de esto optamos por hipermarametrizar el filtrado extremo (mantener keywords y eliminar rarewords)."
      ],
      "metadata": {
        "id": "vor9FMuFq7sP"
      }
    },
    {
      "cell_type": "markdown",
      "metadata": {
        "id": "sfxWJLMkp5HU"
      },
      "source": [
        "## 2.5 Clasificación  (0.5 puntos)\n",
        "\n",
        "Por último, utilice un clasificador Naive Bayes (puede usar su versión estándar o complementaria) para resolver el problema de clasificación de tweets. Compare las prestaciones, en terminos de tasa de acierto, cuando se usa la representación BoW y cuando se utiliza la TF-IDF.\n",
        "\n",
        "Para analizar las prestaciones del modelo, divida cada corpus de datos en una partición 60%/40% (entrenamiento/test).\n",
        "\n",
        "A partir de la tasa de acierto en cada corpus, obtenga la tasa de acierto en el corpus de datos total. Para calcular esta tasa de acierto, tenga en cuenta que cada corpus tiene número diferentes de elementos."
      ]
    },
    {
      "cell_type": "markdown",
      "source": [
        "BOW"
      ],
      "metadata": {
        "id": "xigH71N-HXob"
      }
    },
    {
      "cell_type": "code",
      "source": [
        "\n",
        "corpus_bow_en = [D_en.doc2bow(doc) for doc in corpus_en]\n",
        "n_doc=25#Tweet\n",
        "list_word_counts = [(D_en[doc_bow[0]], doc_bow[1]) for doc_bow in corpus_bow_en[n_doc][:10]]\n",
        "(words, counts) = zip(*list_word_counts)\n",
        "plt.figure(figsize=(10,5))\n",
        "plt.stem(words,counts, use_line_collection = True)\n",
        "plt.xlabel('Words')\n",
        "plt.ylabel('Counts')\n",
        "plt.show()"
      ],
      "metadata": {
        "colab": {
          "base_uri": "https://localhost:8080/",
          "height": 443
        },
        "id": "2hCmp7joHYq1",
        "outputId": "ca4bc60a-1a31-4a7f-edf8-a85ca98a6407"
      },
      "execution_count": null,
      "outputs": [
        {
          "output_type": "display_data",
          "data": {
            "text/plain": [
              "<Figure size 720x360 with 1 Axes>"
            ],
            "image/svg+xml": "<?xml version=\"1.0\" encoding=\"utf-8\" standalone=\"no\"?>\n<!DOCTYPE svg PUBLIC \"-//W3C//DTD SVG 1.1//EN\"\n  \"http://www.w3.org/Graphics/SVG/1.1/DTD/svg11.dtd\">\n<svg xmlns:xlink=\"http://www.w3.org/1999/xlink\" width=\"615.34375pt\" height=\"316.55625pt\" viewBox=\"0 0 615.34375 316.55625\" xmlns=\"http://www.w3.org/2000/svg\" version=\"1.1\">\n <metadata>\n  <rdf:RDF xmlns:dc=\"http://purl.org/dc/elements/1.1/\" xmlns:cc=\"http://creativecommons.org/ns#\" xmlns:rdf=\"http://www.w3.org/1999/02/22-rdf-syntax-ns#\">\n   <cc:Work>\n    <dc:type rdf:resource=\"http://purl.org/dc/dcmitype/StillImage\"/>\n    <dc:date>2023-03-01T18:08:27.049915</dc:date>\n    <dc:format>image/svg+xml</dc:format>\n    <dc:creator>\n     <cc:Agent>\n      <dc:title>Matplotlib v3.5.3, https://matplotlib.org/</dc:title>\n     </cc:Agent>\n    </dc:creator>\n   </cc:Work>\n  </rdf:RDF>\n </metadata>\n <defs>\n  <style type=\"text/css\">*{stroke-linejoin: round; stroke-linecap: butt}</style>\n </defs>\n <g id=\"figure_1\">\n  <g id=\"patch_1\">\n   <path d=\"M 0 316.55625 \nL 615.34375 316.55625 \nL 615.34375 0 \nL 0 0 \nL 0 316.55625 \nz\n\" style=\"fill: none\"/>\n  </g>\n  <g id=\"axes_1\">\n   <g id=\"patch_2\">\n    <path d=\"M 50.14375 279 \nL 608.14375 279 \nL 608.14375 7.2 \nL 50.14375 7.2 \nz\n\" style=\"fill: #ffffff\"/>\n   </g>\n   <g id=\"matplotlib.axis_1\">\n    <g id=\"xtick_1\">\n     <g id=\"line2d_1\">\n      <defs>\n       <path id=\"mb54101badf\" d=\"M 0 0 \nL 0 3.5 \n\" style=\"stroke: #000000; stroke-width: 0.8\"/>\n      </defs>\n      <g>\n       <use xlink:href=\"#mb54101badf\" x=\"75.507386\" y=\"279\" style=\"stroke: #000000; stroke-width: 0.8\"/>\n      </g>\n     </g>\n     <g id=\"text_1\">\n      <!-- experience -->\n      <g transform=\"translate(47.792543 293.598437)scale(0.1 -0.1)\">\n       <defs>\n        <path id=\"DejaVuSans-65\" d=\"M 3597 1894 \nL 3597 1613 \nL 953 1613 \nQ 991 1019 1311 708 \nQ 1631 397 2203 397 \nQ 2534 397 2845 478 \nQ 3156 559 3463 722 \nL 3463 178 \nQ 3153 47 2828 -22 \nQ 2503 -91 2169 -91 \nQ 1331 -91 842 396 \nQ 353 884 353 1716 \nQ 353 2575 817 3079 \nQ 1281 3584 2069 3584 \nQ 2775 3584 3186 3129 \nQ 3597 2675 3597 1894 \nz\nM 3022 2063 \nQ 3016 2534 2758 2815 \nQ 2500 3097 2075 3097 \nQ 1594 3097 1305 2825 \nQ 1016 2553 972 2059 \nL 3022 2063 \nz\n\" transform=\"scale(0.015625)\"/>\n        <path id=\"DejaVuSans-78\" d=\"M 3513 3500 \nL 2247 1797 \nL 3578 0 \nL 2900 0 \nL 1881 1375 \nL 863 0 \nL 184 0 \nL 1544 1831 \nL 300 3500 \nL 978 3500 \nL 1906 2253 \nL 2834 3500 \nL 3513 3500 \nz\n\" transform=\"scale(0.015625)\"/>\n        <path id=\"DejaVuSans-70\" d=\"M 1159 525 \nL 1159 -1331 \nL 581 -1331 \nL 581 3500 \nL 1159 3500 \nL 1159 2969 \nQ 1341 3281 1617 3432 \nQ 1894 3584 2278 3584 \nQ 2916 3584 3314 3078 \nQ 3713 2572 3713 1747 \nQ 3713 922 3314 415 \nQ 2916 -91 2278 -91 \nQ 1894 -91 1617 61 \nQ 1341 213 1159 525 \nz\nM 3116 1747 \nQ 3116 2381 2855 2742 \nQ 2594 3103 2138 3103 \nQ 1681 3103 1420 2742 \nQ 1159 2381 1159 1747 \nQ 1159 1113 1420 752 \nQ 1681 391 2138 391 \nQ 2594 391 2855 752 \nQ 3116 1113 3116 1747 \nz\n\" transform=\"scale(0.015625)\"/>\n        <path id=\"DejaVuSans-72\" d=\"M 2631 2963 \nQ 2534 3019 2420 3045 \nQ 2306 3072 2169 3072 \nQ 1681 3072 1420 2755 \nQ 1159 2438 1159 1844 \nL 1159 0 \nL 581 0 \nL 581 3500 \nL 1159 3500 \nL 1159 2956 \nQ 1341 3275 1631 3429 \nQ 1922 3584 2338 3584 \nQ 2397 3584 2469 3576 \nQ 2541 3569 2628 3553 \nL 2631 2963 \nz\n\" transform=\"scale(0.015625)\"/>\n        <path id=\"DejaVuSans-69\" d=\"M 603 3500 \nL 1178 3500 \nL 1178 0 \nL 603 0 \nL 603 3500 \nz\nM 603 4863 \nL 1178 4863 \nL 1178 4134 \nL 603 4134 \nL 603 4863 \nz\n\" transform=\"scale(0.015625)\"/>\n        <path id=\"DejaVuSans-6e\" d=\"M 3513 2113 \nL 3513 0 \nL 2938 0 \nL 2938 2094 \nQ 2938 2591 2744 2837 \nQ 2550 3084 2163 3084 \nQ 1697 3084 1428 2787 \nQ 1159 2491 1159 1978 \nL 1159 0 \nL 581 0 \nL 581 3500 \nL 1159 3500 \nL 1159 2956 \nQ 1366 3272 1645 3428 \nQ 1925 3584 2291 3584 \nQ 2894 3584 3203 3211 \nQ 3513 2838 3513 2113 \nz\n\" transform=\"scale(0.015625)\"/>\n        <path id=\"DejaVuSans-63\" d=\"M 3122 3366 \nL 3122 2828 \nQ 2878 2963 2633 3030 \nQ 2388 3097 2138 3097 \nQ 1578 3097 1268 2742 \nQ 959 2388 959 1747 \nQ 959 1106 1268 751 \nQ 1578 397 2138 397 \nQ 2388 397 2633 464 \nQ 2878 531 3122 666 \nL 3122 134 \nQ 2881 22 2623 -34 \nQ 2366 -91 2075 -91 \nQ 1284 -91 818 406 \nQ 353 903 353 1747 \nQ 353 2603 823 3093 \nQ 1294 3584 2113 3584 \nQ 2378 3584 2631 3529 \nQ 2884 3475 3122 3366 \nz\n\" transform=\"scale(0.015625)\"/>\n       </defs>\n       <use xlink:href=\"#DejaVuSans-65\"/>\n       <use xlink:href=\"#DejaVuSans-78\" x=\"59.773438\"/>\n       <use xlink:href=\"#DejaVuSans-70\" x=\"118.953125\"/>\n       <use xlink:href=\"#DejaVuSans-65\" x=\"182.429688\"/>\n       <use xlink:href=\"#DejaVuSans-72\" x=\"243.953125\"/>\n       <use xlink:href=\"#DejaVuSans-69\" x=\"285.066406\"/>\n       <use xlink:href=\"#DejaVuSans-65\" x=\"312.849609\"/>\n       <use xlink:href=\"#DejaVuSans-6e\" x=\"374.373047\"/>\n       <use xlink:href=\"#DejaVuSans-63\" x=\"437.751953\"/>\n       <use xlink:href=\"#DejaVuSans-65\" x=\"492.732422\"/>\n      </g>\n     </g>\n    </g>\n    <g id=\"xtick_2\">\n     <g id=\"line2d_2\">\n      <g>\n       <use xlink:href=\"#mb54101badf\" x=\"160.052841\" y=\"279\" style=\"stroke: #000000; stroke-width: 0.8\"/>\n      </g>\n     </g>\n     <g id=\"text_2\">\n      <!-- next -->\n      <g transform=\"translate(148.975497 293.598437)scale(0.1 -0.1)\">\n       <defs>\n        <path id=\"DejaVuSans-74\" d=\"M 1172 4494 \nL 1172 3500 \nL 2356 3500 \nL 2356 3053 \nL 1172 3053 \nL 1172 1153 \nQ 1172 725 1289 603 \nQ 1406 481 1766 481 \nL 2356 481 \nL 2356 0 \nL 1766 0 \nQ 1100 0 847 248 \nQ 594 497 594 1153 \nL 594 3053 \nL 172 3053 \nL 172 3500 \nL 594 3500 \nL 594 4494 \nL 1172 4494 \nz\n\" transform=\"scale(0.015625)\"/>\n       </defs>\n       <use xlink:href=\"#DejaVuSans-6e\"/>\n       <use xlink:href=\"#DejaVuSans-65\" x=\"63.378906\"/>\n       <use xlink:href=\"#DejaVuSans-78\" x=\"123.152344\"/>\n       <use xlink:href=\"#DejaVuSans-74\" x=\"182.332031\"/>\n      </g>\n     </g>\n    </g>\n    <g id=\"xtick_3\">\n     <g id=\"line2d_3\">\n      <g>\n       <use xlink:href=\"#mb54101badf\" x=\"244.598295\" y=\"279\" style=\"stroke: #000000; stroke-width: 0.8\"/>\n      </g>\n     </g>\n     <g id=\"text_3\">\n      <!-- also -->\n      <g transform=\"translate(234.481108 293.598437)scale(0.1 -0.1)\">\n       <defs>\n        <path id=\"DejaVuSans-61\" d=\"M 2194 1759 \nQ 1497 1759 1228 1600 \nQ 959 1441 959 1056 \nQ 959 750 1161 570 \nQ 1363 391 1709 391 \nQ 2188 391 2477 730 \nQ 2766 1069 2766 1631 \nL 2766 1759 \nL 2194 1759 \nz\nM 3341 1997 \nL 3341 0 \nL 2766 0 \nL 2766 531 \nQ 2569 213 2275 61 \nQ 1981 -91 1556 -91 \nQ 1019 -91 701 211 \nQ 384 513 384 1019 \nQ 384 1609 779 1909 \nQ 1175 2209 1959 2209 \nL 2766 2209 \nL 2766 2266 \nQ 2766 2663 2505 2880 \nQ 2244 3097 1772 3097 \nQ 1472 3097 1187 3025 \nQ 903 2953 641 2809 \nL 641 3341 \nQ 956 3463 1253 3523 \nQ 1550 3584 1831 3584 \nQ 2591 3584 2966 3190 \nQ 3341 2797 3341 1997 \nz\n\" transform=\"scale(0.015625)\"/>\n        <path id=\"DejaVuSans-6c\" d=\"M 603 4863 \nL 1178 4863 \nL 1178 0 \nL 603 0 \nL 603 4863 \nz\n\" transform=\"scale(0.015625)\"/>\n        <path id=\"DejaVuSans-73\" d=\"M 2834 3397 \nL 2834 2853 \nQ 2591 2978 2328 3040 \nQ 2066 3103 1784 3103 \nQ 1356 3103 1142 2972 \nQ 928 2841 928 2578 \nQ 928 2378 1081 2264 \nQ 1234 2150 1697 2047 \nL 1894 2003 \nQ 2506 1872 2764 1633 \nQ 3022 1394 3022 966 \nQ 3022 478 2636 193 \nQ 2250 -91 1575 -91 \nQ 1294 -91 989 -36 \nQ 684 19 347 128 \nL 347 722 \nQ 666 556 975 473 \nQ 1284 391 1588 391 \nQ 1994 391 2212 530 \nQ 2431 669 2431 922 \nQ 2431 1156 2273 1281 \nQ 2116 1406 1581 1522 \nL 1381 1569 \nQ 847 1681 609 1914 \nQ 372 2147 372 2553 \nQ 372 3047 722 3315 \nQ 1072 3584 1716 3584 \nQ 2034 3584 2315 3537 \nQ 2597 3491 2834 3397 \nz\n\" transform=\"scale(0.015625)\"/>\n        <path id=\"DejaVuSans-6f\" d=\"M 1959 3097 \nQ 1497 3097 1228 2736 \nQ 959 2375 959 1747 \nQ 959 1119 1226 758 \nQ 1494 397 1959 397 \nQ 2419 397 2687 759 \nQ 2956 1122 2956 1747 \nQ 2956 2369 2687 2733 \nQ 2419 3097 1959 3097 \nz\nM 1959 3584 \nQ 2709 3584 3137 3096 \nQ 3566 2609 3566 1747 \nQ 3566 888 3137 398 \nQ 2709 -91 1959 -91 \nQ 1206 -91 779 398 \nQ 353 888 353 1747 \nQ 353 2609 779 3096 \nQ 1206 3584 1959 3584 \nz\n\" transform=\"scale(0.015625)\"/>\n       </defs>\n       <use xlink:href=\"#DejaVuSans-61\"/>\n       <use xlink:href=\"#DejaVuSans-6c\" x=\"61.279297\"/>\n       <use xlink:href=\"#DejaVuSans-73\" x=\"89.0625\"/>\n       <use xlink:href=\"#DejaVuSans-6f\" x=\"141.162109\"/>\n      </g>\n     </g>\n    </g>\n    <g id=\"xtick_4\">\n     <g id=\"line2d_4\">\n      <g>\n       <use xlink:href=\"#mb54101badf\" x=\"329.14375\" y=\"279\" style=\"stroke: #000000; stroke-width: 0.8\"/>\n      </g>\n     </g>\n     <g id=\"text_4\">\n      <!-- barcelona -->\n      <g transform=\"translate(304.455469 293.598437)scale(0.1 -0.1)\">\n       <defs>\n        <path id=\"DejaVuSans-62\" d=\"M 3116 1747 \nQ 3116 2381 2855 2742 \nQ 2594 3103 2138 3103 \nQ 1681 3103 1420 2742 \nQ 1159 2381 1159 1747 \nQ 1159 1113 1420 752 \nQ 1681 391 2138 391 \nQ 2594 391 2855 752 \nQ 3116 1113 3116 1747 \nz\nM 1159 2969 \nQ 1341 3281 1617 3432 \nQ 1894 3584 2278 3584 \nQ 2916 3584 3314 3078 \nQ 3713 2572 3713 1747 \nQ 3713 922 3314 415 \nQ 2916 -91 2278 -91 \nQ 1894 -91 1617 61 \nQ 1341 213 1159 525 \nL 1159 0 \nL 581 0 \nL 581 4863 \nL 1159 4863 \nL 1159 2969 \nz\n\" transform=\"scale(0.015625)\"/>\n       </defs>\n       <use xlink:href=\"#DejaVuSans-62\"/>\n       <use xlink:href=\"#DejaVuSans-61\" x=\"63.476562\"/>\n       <use xlink:href=\"#DejaVuSans-72\" x=\"124.755859\"/>\n       <use xlink:href=\"#DejaVuSans-63\" x=\"163.619141\"/>\n       <use xlink:href=\"#DejaVuSans-65\" x=\"218.599609\"/>\n       <use xlink:href=\"#DejaVuSans-6c\" x=\"280.123047\"/>\n       <use xlink:href=\"#DejaVuSans-6f\" x=\"307.90625\"/>\n       <use xlink:href=\"#DejaVuSans-6e\" x=\"369.087891\"/>\n       <use xlink:href=\"#DejaVuSans-61\" x=\"432.466797\"/>\n      </g>\n     </g>\n    </g>\n    <g id=\"xtick_5\">\n     <g id=\"line2d_5\">\n      <g>\n       <use xlink:href=\"#mb54101badf\" x=\"413.689205\" y=\"279\" style=\"stroke: #000000; stroke-width: 0.8\"/>\n      </g>\n     </g>\n     <g id=\"text_5\">\n      <!-- sonarplusd -->\n      <g transform=\"translate(386.225923 293.598437)scale(0.1 -0.1)\">\n       <defs>\n        <path id=\"DejaVuSans-75\" d=\"M 544 1381 \nL 544 3500 \nL 1119 3500 \nL 1119 1403 \nQ 1119 906 1312 657 \nQ 1506 409 1894 409 \nQ 2359 409 2629 706 \nQ 2900 1003 2900 1516 \nL 2900 3500 \nL 3475 3500 \nL 3475 0 \nL 2900 0 \nL 2900 538 \nQ 2691 219 2414 64 \nQ 2138 -91 1772 -91 \nQ 1169 -91 856 284 \nQ 544 659 544 1381 \nz\nM 1991 3584 \nL 1991 3584 \nz\n\" transform=\"scale(0.015625)\"/>\n        <path id=\"DejaVuSans-64\" d=\"M 2906 2969 \nL 2906 4863 \nL 3481 4863 \nL 3481 0 \nL 2906 0 \nL 2906 525 \nQ 2725 213 2448 61 \nQ 2172 -91 1784 -91 \nQ 1150 -91 751 415 \nQ 353 922 353 1747 \nQ 353 2572 751 3078 \nQ 1150 3584 1784 3584 \nQ 2172 3584 2448 3432 \nQ 2725 3281 2906 2969 \nz\nM 947 1747 \nQ 947 1113 1208 752 \nQ 1469 391 1925 391 \nQ 2381 391 2643 752 \nQ 2906 1113 2906 1747 \nQ 2906 2381 2643 2742 \nQ 2381 3103 1925 3103 \nQ 1469 3103 1208 2742 \nQ 947 2381 947 1747 \nz\n\" transform=\"scale(0.015625)\"/>\n       </defs>\n       <use xlink:href=\"#DejaVuSans-73\"/>\n       <use xlink:href=\"#DejaVuSans-6f\" x=\"52.099609\"/>\n       <use xlink:href=\"#DejaVuSans-6e\" x=\"113.28125\"/>\n       <use xlink:href=\"#DejaVuSans-61\" x=\"176.660156\"/>\n       <use xlink:href=\"#DejaVuSans-72\" x=\"237.939453\"/>\n       <use xlink:href=\"#DejaVuSans-70\" x=\"279.052734\"/>\n       <use xlink:href=\"#DejaVuSans-6c\" x=\"342.529297\"/>\n       <use xlink:href=\"#DejaVuSans-75\" x=\"370.3125\"/>\n       <use xlink:href=\"#DejaVuSans-73\" x=\"433.691406\"/>\n       <use xlink:href=\"#DejaVuSans-64\" x=\"485.791016\"/>\n      </g>\n     </g>\n    </g>\n    <g id=\"xtick_6\">\n     <g id=\"line2d_6\">\n      <g>\n       <use xlink:href=\"#mb54101badf\" x=\"498.234659\" y=\"279\" style=\"stroke: #000000; stroke-width: 0.8\"/>\n      </g>\n     </g>\n     <g id=\"text_6\">\n      <!-- london -->\n      <g transform=\"translate(481.215128 293.598437)scale(0.1 -0.1)\">\n       <use xlink:href=\"#DejaVuSans-6c\"/>\n       <use xlink:href=\"#DejaVuSans-6f\" x=\"27.783203\"/>\n       <use xlink:href=\"#DejaVuSans-6e\" x=\"88.964844\"/>\n       <use xlink:href=\"#DejaVuSans-64\" x=\"152.34375\"/>\n       <use xlink:href=\"#DejaVuSans-6f\" x=\"215.820312\"/>\n       <use xlink:href=\"#DejaVuSans-6e\" x=\"277.001953\"/>\n      </g>\n     </g>\n    </g>\n    <g id=\"xtick_7\">\n     <g id=\"line2d_7\">\n      <g>\n       <use xlink:href=\"#mb54101badf\" x=\"582.780114\" y=\"279\" style=\"stroke: #000000; stroke-width: 0.8\"/>\n      </g>\n     </g>\n     <g id=\"text_7\">\n      <!-- tomorrow -->\n      <g transform=\"translate(558.77152 293.598437)scale(0.1 -0.1)\">\n       <defs>\n        <path id=\"DejaVuSans-6d\" d=\"M 3328 2828 \nQ 3544 3216 3844 3400 \nQ 4144 3584 4550 3584 \nQ 5097 3584 5394 3201 \nQ 5691 2819 5691 2113 \nL 5691 0 \nL 5113 0 \nL 5113 2094 \nQ 5113 2597 4934 2840 \nQ 4756 3084 4391 3084 \nQ 3944 3084 3684 2787 \nQ 3425 2491 3425 1978 \nL 3425 0 \nL 2847 0 \nL 2847 2094 \nQ 2847 2600 2669 2842 \nQ 2491 3084 2119 3084 \nQ 1678 3084 1418 2786 \nQ 1159 2488 1159 1978 \nL 1159 0 \nL 581 0 \nL 581 3500 \nL 1159 3500 \nL 1159 2956 \nQ 1356 3278 1631 3431 \nQ 1906 3584 2284 3584 \nQ 2666 3584 2933 3390 \nQ 3200 3197 3328 2828 \nz\n\" transform=\"scale(0.015625)\"/>\n        <path id=\"DejaVuSans-77\" d=\"M 269 3500 \nL 844 3500 \nL 1563 769 \nL 2278 3500 \nL 2956 3500 \nL 3675 769 \nL 4391 3500 \nL 4966 3500 \nL 4050 0 \nL 3372 0 \nL 2619 2869 \nL 1863 0 \nL 1184 0 \nL 269 3500 \nz\n\" transform=\"scale(0.015625)\"/>\n       </defs>\n       <use xlink:href=\"#DejaVuSans-74\"/>\n       <use xlink:href=\"#DejaVuSans-6f\" x=\"39.208984\"/>\n       <use xlink:href=\"#DejaVuSans-6d\" x=\"100.390625\"/>\n       <use xlink:href=\"#DejaVuSans-6f\" x=\"197.802734\"/>\n       <use xlink:href=\"#DejaVuSans-72\" x=\"258.984375\"/>\n       <use xlink:href=\"#DejaVuSans-72\" x=\"298.347656\"/>\n       <use xlink:href=\"#DejaVuSans-6f\" x=\"337.210938\"/>\n       <use xlink:href=\"#DejaVuSans-77\" x=\"398.392578\"/>\n      </g>\n     </g>\n    </g>\n    <g id=\"text_8\">\n     <!-- Words -->\n     <g transform=\"translate(313.6875 307.276562)scale(0.1 -0.1)\">\n      <defs>\n       <path id=\"DejaVuSans-57\" d=\"M 213 4666 \nL 850 4666 \nL 1831 722 \nL 2809 4666 \nL 3519 4666 \nL 4500 722 \nL 5478 4666 \nL 6119 4666 \nL 4947 0 \nL 4153 0 \nL 3169 4050 \nL 2175 0 \nL 1381 0 \nL 213 4666 \nz\n\" transform=\"scale(0.015625)\"/>\n      </defs>\n      <use xlink:href=\"#DejaVuSans-57\"/>\n      <use xlink:href=\"#DejaVuSans-6f\" x=\"93.001953\"/>\n      <use xlink:href=\"#DejaVuSans-72\" x=\"154.183594\"/>\n      <use xlink:href=\"#DejaVuSans-64\" x=\"193.546875\"/>\n      <use xlink:href=\"#DejaVuSans-73\" x=\"257.023438\"/>\n     </g>\n    </g>\n   </g>\n   <g id=\"matplotlib.axis_2\">\n    <g id=\"ytick_1\">\n     <g id=\"line2d_8\">\n      <defs>\n       <path id=\"m5b66641429\" d=\"M 0 0 \nL -3.5 0 \n\" style=\"stroke: #000000; stroke-width: 0.8\"/>\n      </defs>\n      <g>\n       <use xlink:href=\"#m5b66641429\" x=\"50.14375\" y=\"266.645455\" style=\"stroke: #000000; stroke-width: 0.8\"/>\n      </g>\n     </g>\n     <g id=\"text_9\">\n      <!-- 0.00 -->\n      <g transform=\"translate(20.878125 270.444673)scale(0.1 -0.1)\">\n       <defs>\n        <path id=\"DejaVuSans-30\" d=\"M 2034 4250 \nQ 1547 4250 1301 3770 \nQ 1056 3291 1056 2328 \nQ 1056 1369 1301 889 \nQ 1547 409 2034 409 \nQ 2525 409 2770 889 \nQ 3016 1369 3016 2328 \nQ 3016 3291 2770 3770 \nQ 2525 4250 2034 4250 \nz\nM 2034 4750 \nQ 2819 4750 3233 4129 \nQ 3647 3509 3647 2328 \nQ 3647 1150 3233 529 \nQ 2819 -91 2034 -91 \nQ 1250 -91 836 529 \nQ 422 1150 422 2328 \nQ 422 3509 836 4129 \nQ 1250 4750 2034 4750 \nz\n\" transform=\"scale(0.015625)\"/>\n        <path id=\"DejaVuSans-2e\" d=\"M 684 794 \nL 1344 794 \nL 1344 0 \nL 684 0 \nL 684 794 \nz\n\" transform=\"scale(0.015625)\"/>\n       </defs>\n       <use xlink:href=\"#DejaVuSans-30\"/>\n       <use xlink:href=\"#DejaVuSans-2e\" x=\"63.623047\"/>\n       <use xlink:href=\"#DejaVuSans-30\" x=\"95.410156\"/>\n       <use xlink:href=\"#DejaVuSans-30\" x=\"159.033203\"/>\n      </g>\n     </g>\n    </g>\n    <g id=\"ytick_2\">\n     <g id=\"line2d_9\">\n      <g>\n       <use xlink:href=\"#m5b66641429\" x=\"50.14375\" y=\"235.759091\" style=\"stroke: #000000; stroke-width: 0.8\"/>\n      </g>\n     </g>\n     <g id=\"text_10\">\n      <!-- 0.25 -->\n      <g transform=\"translate(20.878125 239.55831)scale(0.1 -0.1)\">\n       <defs>\n        <path id=\"DejaVuSans-32\" d=\"M 1228 531 \nL 3431 531 \nL 3431 0 \nL 469 0 \nL 469 531 \nQ 828 903 1448 1529 \nQ 2069 2156 2228 2338 \nQ 2531 2678 2651 2914 \nQ 2772 3150 2772 3378 \nQ 2772 3750 2511 3984 \nQ 2250 4219 1831 4219 \nQ 1534 4219 1204 4116 \nQ 875 4013 500 3803 \nL 500 4441 \nQ 881 4594 1212 4672 \nQ 1544 4750 1819 4750 \nQ 2544 4750 2975 4387 \nQ 3406 4025 3406 3419 \nQ 3406 3131 3298 2873 \nQ 3191 2616 2906 2266 \nQ 2828 2175 2409 1742 \nQ 1991 1309 1228 531 \nz\n\" transform=\"scale(0.015625)\"/>\n        <path id=\"DejaVuSans-35\" d=\"M 691 4666 \nL 3169 4666 \nL 3169 4134 \nL 1269 4134 \nL 1269 2991 \nQ 1406 3038 1543 3061 \nQ 1681 3084 1819 3084 \nQ 2600 3084 3056 2656 \nQ 3513 2228 3513 1497 \nQ 3513 744 3044 326 \nQ 2575 -91 1722 -91 \nQ 1428 -91 1123 -41 \nQ 819 9 494 109 \nL 494 744 \nQ 775 591 1075 516 \nQ 1375 441 1709 441 \nQ 2250 441 2565 725 \nQ 2881 1009 2881 1497 \nQ 2881 1984 2565 2268 \nQ 2250 2553 1709 2553 \nQ 1456 2553 1204 2497 \nQ 953 2441 691 2322 \nL 691 4666 \nz\n\" transform=\"scale(0.015625)\"/>\n       </defs>\n       <use xlink:href=\"#DejaVuSans-30\"/>\n       <use xlink:href=\"#DejaVuSans-2e\" x=\"63.623047\"/>\n       <use xlink:href=\"#DejaVuSans-32\" x=\"95.410156\"/>\n       <use xlink:href=\"#DejaVuSans-35\" x=\"159.033203\"/>\n      </g>\n     </g>\n    </g>\n    <g id=\"ytick_3\">\n     <g id=\"line2d_10\">\n      <g>\n       <use xlink:href=\"#m5b66641429\" x=\"50.14375\" y=\"204.872727\" style=\"stroke: #000000; stroke-width: 0.8\"/>\n      </g>\n     </g>\n     <g id=\"text_11\">\n      <!-- 0.50 -->\n      <g transform=\"translate(20.878125 208.671946)scale(0.1 -0.1)\">\n       <use xlink:href=\"#DejaVuSans-30\"/>\n       <use xlink:href=\"#DejaVuSans-2e\" x=\"63.623047\"/>\n       <use xlink:href=\"#DejaVuSans-35\" x=\"95.410156\"/>\n       <use xlink:href=\"#DejaVuSans-30\" x=\"159.033203\"/>\n      </g>\n     </g>\n    </g>\n    <g id=\"ytick_4\">\n     <g id=\"line2d_11\">\n      <g>\n       <use xlink:href=\"#m5b66641429\" x=\"50.14375\" y=\"173.986364\" style=\"stroke: #000000; stroke-width: 0.8\"/>\n      </g>\n     </g>\n     <g id=\"text_12\">\n      <!-- 0.75 -->\n      <g transform=\"translate(20.878125 177.785582)scale(0.1 -0.1)\">\n       <defs>\n        <path id=\"DejaVuSans-37\" d=\"M 525 4666 \nL 3525 4666 \nL 3525 4397 \nL 1831 0 \nL 1172 0 \nL 2766 4134 \nL 525 4134 \nL 525 4666 \nz\n\" transform=\"scale(0.015625)\"/>\n       </defs>\n       <use xlink:href=\"#DejaVuSans-30\"/>\n       <use xlink:href=\"#DejaVuSans-2e\" x=\"63.623047\"/>\n       <use xlink:href=\"#DejaVuSans-37\" x=\"95.410156\"/>\n       <use xlink:href=\"#DejaVuSans-35\" x=\"159.033203\"/>\n      </g>\n     </g>\n    </g>\n    <g id=\"ytick_5\">\n     <g id=\"line2d_12\">\n      <g>\n       <use xlink:href=\"#m5b66641429\" x=\"50.14375\" y=\"143.1\" style=\"stroke: #000000; stroke-width: 0.8\"/>\n      </g>\n     </g>\n     <g id=\"text_13\">\n      <!-- 1.00 -->\n      <g transform=\"translate(20.878125 146.899219)scale(0.1 -0.1)\">\n       <defs>\n        <path id=\"DejaVuSans-31\" d=\"M 794 531 \nL 1825 531 \nL 1825 4091 \nL 703 3866 \nL 703 4441 \nL 1819 4666 \nL 2450 4666 \nL 2450 531 \nL 3481 531 \nL 3481 0 \nL 794 0 \nL 794 531 \nz\n\" transform=\"scale(0.015625)\"/>\n       </defs>\n       <use xlink:href=\"#DejaVuSans-31\"/>\n       <use xlink:href=\"#DejaVuSans-2e\" x=\"63.623047\"/>\n       <use xlink:href=\"#DejaVuSans-30\" x=\"95.410156\"/>\n       <use xlink:href=\"#DejaVuSans-30\" x=\"159.033203\"/>\n      </g>\n     </g>\n    </g>\n    <g id=\"ytick_6\">\n     <g id=\"line2d_13\">\n      <g>\n       <use xlink:href=\"#m5b66641429\" x=\"50.14375\" y=\"112.213636\" style=\"stroke: #000000; stroke-width: 0.8\"/>\n      </g>\n     </g>\n     <g id=\"text_14\">\n      <!-- 1.25 -->\n      <g transform=\"translate(20.878125 116.012855)scale(0.1 -0.1)\">\n       <use xlink:href=\"#DejaVuSans-31\"/>\n       <use xlink:href=\"#DejaVuSans-2e\" x=\"63.623047\"/>\n       <use xlink:href=\"#DejaVuSans-32\" x=\"95.410156\"/>\n       <use xlink:href=\"#DejaVuSans-35\" x=\"159.033203\"/>\n      </g>\n     </g>\n    </g>\n    <g id=\"ytick_7\">\n     <g id=\"line2d_14\">\n      <g>\n       <use xlink:href=\"#m5b66641429\" x=\"50.14375\" y=\"81.327273\" style=\"stroke: #000000; stroke-width: 0.8\"/>\n      </g>\n     </g>\n     <g id=\"text_15\">\n      <!-- 1.50 -->\n      <g transform=\"translate(20.878125 85.126491)scale(0.1 -0.1)\">\n       <use xlink:href=\"#DejaVuSans-31\"/>\n       <use xlink:href=\"#DejaVuSans-2e\" x=\"63.623047\"/>\n       <use xlink:href=\"#DejaVuSans-35\" x=\"95.410156\"/>\n       <use xlink:href=\"#DejaVuSans-30\" x=\"159.033203\"/>\n      </g>\n     </g>\n    </g>\n    <g id=\"ytick_8\">\n     <g id=\"line2d_15\">\n      <g>\n       <use xlink:href=\"#m5b66641429\" x=\"50.14375\" y=\"50.440909\" style=\"stroke: #000000; stroke-width: 0.8\"/>\n      </g>\n     </g>\n     <g id=\"text_16\">\n      <!-- 1.75 -->\n      <g transform=\"translate(20.878125 54.240128)scale(0.1 -0.1)\">\n       <use xlink:href=\"#DejaVuSans-31\"/>\n       <use xlink:href=\"#DejaVuSans-2e\" x=\"63.623047\"/>\n       <use xlink:href=\"#DejaVuSans-37\" x=\"95.410156\"/>\n       <use xlink:href=\"#DejaVuSans-35\" x=\"159.033203\"/>\n      </g>\n     </g>\n    </g>\n    <g id=\"ytick_9\">\n     <g id=\"line2d_16\">\n      <g>\n       <use xlink:href=\"#m5b66641429\" x=\"50.14375\" y=\"19.554545\" style=\"stroke: #000000; stroke-width: 0.8\"/>\n      </g>\n     </g>\n     <g id=\"text_17\">\n      <!-- 2.00 -->\n      <g transform=\"translate(20.878125 23.353764)scale(0.1 -0.1)\">\n       <use xlink:href=\"#DejaVuSans-32\"/>\n       <use xlink:href=\"#DejaVuSans-2e\" x=\"63.623047\"/>\n       <use xlink:href=\"#DejaVuSans-30\" x=\"95.410156\"/>\n       <use xlink:href=\"#DejaVuSans-30\" x=\"159.033203\"/>\n      </g>\n     </g>\n    </g>\n    <g id=\"text_18\">\n     <!-- Counts -->\n     <g transform=\"translate(14.798437 160.553125)rotate(-90)scale(0.1 -0.1)\">\n      <defs>\n       <path id=\"DejaVuSans-43\" d=\"M 4122 4306 \nL 4122 3641 \nQ 3803 3938 3442 4084 \nQ 3081 4231 2675 4231 \nQ 1875 4231 1450 3742 \nQ 1025 3253 1025 2328 \nQ 1025 1406 1450 917 \nQ 1875 428 2675 428 \nQ 3081 428 3442 575 \nQ 3803 722 4122 1019 \nL 4122 359 \nQ 3791 134 3420 21 \nQ 3050 -91 2638 -91 \nQ 1578 -91 968 557 \nQ 359 1206 359 2328 \nQ 359 3453 968 4101 \nQ 1578 4750 2638 4750 \nQ 3056 4750 3426 4639 \nQ 3797 4528 4122 4306 \nz\n\" transform=\"scale(0.015625)\"/>\n      </defs>\n      <use xlink:href=\"#DejaVuSans-43\"/>\n      <use xlink:href=\"#DejaVuSans-6f\" x=\"69.824219\"/>\n      <use xlink:href=\"#DejaVuSans-75\" x=\"131.005859\"/>\n      <use xlink:href=\"#DejaVuSans-6e\" x=\"194.384766\"/>\n      <use xlink:href=\"#DejaVuSans-74\" x=\"257.763672\"/>\n      <use xlink:href=\"#DejaVuSans-73\" x=\"296.972656\"/>\n     </g>\n    </g>\n   </g>\n   <g id=\"LineCollection_1\">\n    <path d=\"M 75.507386 266.645455 \nL 75.507386 19.554545 \n\" clip-path=\"url(#pb156159a7e)\" style=\"fill: none; stroke: #1f77b4; stroke-width: 1.5\"/>\n    <path d=\"M 160.052841 266.645455 \nL 160.052841 143.1 \n\" clip-path=\"url(#pb156159a7e)\" style=\"fill: none; stroke: #1f77b4; stroke-width: 1.5\"/>\n    <path d=\"M 244.598295 266.645455 \nL 244.598295 143.1 \n\" clip-path=\"url(#pb156159a7e)\" style=\"fill: none; stroke: #1f77b4; stroke-width: 1.5\"/>\n    <path d=\"M 329.14375 266.645455 \nL 329.14375 143.1 \n\" clip-path=\"url(#pb156159a7e)\" style=\"fill: none; stroke: #1f77b4; stroke-width: 1.5\"/>\n    <path d=\"M 413.689205 266.645455 \nL 413.689205 143.1 \n\" clip-path=\"url(#pb156159a7e)\" style=\"fill: none; stroke: #1f77b4; stroke-width: 1.5\"/>\n    <path d=\"M 498.234659 266.645455 \nL 498.234659 143.1 \n\" clip-path=\"url(#pb156159a7e)\" style=\"fill: none; stroke: #1f77b4; stroke-width: 1.5\"/>\n    <path d=\"M 582.780114 266.645455 \nL 582.780114 143.1 \n\" clip-path=\"url(#pb156159a7e)\" style=\"fill: none; stroke: #1f77b4; stroke-width: 1.5\"/>\n   </g>\n   <g id=\"line2d_17\">\n    <defs>\n     <path id=\"m8585f7eddd\" d=\"M 0 3 \nC 0.795609 3 1.55874 2.683901 2.12132 2.12132 \nC 2.683901 1.55874 3 0.795609 3 0 \nC 3 -0.795609 2.683901 -1.55874 2.12132 -2.12132 \nC 1.55874 -2.683901 0.795609 -3 0 -3 \nC -0.795609 -3 -1.55874 -2.683901 -2.12132 -2.12132 \nC -2.683901 -1.55874 -3 -0.795609 -3 0 \nC -3 0.795609 -2.683901 1.55874 -2.12132 2.12132 \nC -1.55874 2.683901 -0.795609 3 0 3 \nz\n\" style=\"stroke: #1f77b4\"/>\n    </defs>\n    <g clip-path=\"url(#pb156159a7e)\">\n     <use xlink:href=\"#m8585f7eddd\" x=\"75.507386\" y=\"19.554545\" style=\"fill: #1f77b4; stroke: #1f77b4\"/>\n     <use xlink:href=\"#m8585f7eddd\" x=\"160.052841\" y=\"143.1\" style=\"fill: #1f77b4; stroke: #1f77b4\"/>\n     <use xlink:href=\"#m8585f7eddd\" x=\"244.598295\" y=\"143.1\" style=\"fill: #1f77b4; stroke: #1f77b4\"/>\n     <use xlink:href=\"#m8585f7eddd\" x=\"329.14375\" y=\"143.1\" style=\"fill: #1f77b4; stroke: #1f77b4\"/>\n     <use xlink:href=\"#m8585f7eddd\" x=\"413.689205\" y=\"143.1\" style=\"fill: #1f77b4; stroke: #1f77b4\"/>\n     <use xlink:href=\"#m8585f7eddd\" x=\"498.234659\" y=\"143.1\" style=\"fill: #1f77b4; stroke: #1f77b4\"/>\n     <use xlink:href=\"#m8585f7eddd\" x=\"582.780114\" y=\"143.1\" style=\"fill: #1f77b4; stroke: #1f77b4\"/>\n    </g>\n   </g>\n   <g id=\"line2d_18\">\n    <path d=\"M 75.507386 266.645455 \nL 582.780114 266.645455 \n\" clip-path=\"url(#pb156159a7e)\" style=\"fill: none; stroke: #d62728; stroke-width: 1.5; stroke-linecap: square\"/>\n   </g>\n   <g id=\"patch_3\">\n    <path d=\"M 50.14375 279 \nL 50.14375 7.2 \n\" style=\"fill: none; stroke: #000000; stroke-width: 0.8; stroke-linejoin: miter; stroke-linecap: square\"/>\n   </g>\n   <g id=\"patch_4\">\n    <path d=\"M 608.14375 279 \nL 608.14375 7.2 \n\" style=\"fill: none; stroke: #000000; stroke-width: 0.8; stroke-linejoin: miter; stroke-linecap: square\"/>\n   </g>\n   <g id=\"patch_5\">\n    <path d=\"M 50.14375 279 \nL 608.14375 279 \n\" style=\"fill: none; stroke: #000000; stroke-width: 0.8; stroke-linejoin: miter; stroke-linecap: square\"/>\n   </g>\n   <g id=\"patch_6\">\n    <path d=\"M 50.14375 7.2 \nL 608.14375 7.2 \n\" style=\"fill: none; stroke: #000000; stroke-width: 0.8; stroke-linejoin: miter; stroke-linecap: square\"/>\n   </g>\n  </g>\n </g>\n <defs>\n  <clipPath id=\"pb156159a7e\">\n   <rect x=\"50.14375\" y=\"7.2\" width=\"558\" height=\"271.8\"/>\n  </clipPath>\n </defs>\n</svg>\n"
          },
          "metadata": {
            "needs_background": "light"
          }
        }
      ]
    },
    {
      "cell_type": "code",
      "source": [
        "from gensim.models import TfidfModel\n",
        "\n",
        "# fit TFIDF model for all the corpus\n",
        "model_en = TfidfModel(corpus_bow_en)  \n",
        "\n",
        "# apply model to the first corpus document\n",
        "vector = model_en[corpus_bow_en[0]]  # apply model to the first corpus document\n",
        "print(vector)"
      ],
      "metadata": {
        "colab": {
          "base_uri": "https://localhost:8080/"
        },
        "id": "wum8A6uYHZIH",
        "outputId": "d1f936e3-f964-4e30-c935-ece452139c49"
      },
      "execution_count": null,
      "outputs": [
        {
          "output_type": "stream",
          "name": "stdout",
          "text": [
            "[(0, 0.3885649947114869), (1, 0.4224162292573524), (2, 0.2604965986574942), (3, 0.33433853861834056), (4, 0.3632811741445192), (5, 0.37513089228342406), (6, 0.32628573610972433), (7, 0.33433853861834056)]\n"
          ]
        }
      ]
    },
    {
      "cell_type": "code",
      "source": [
        "corpus_tfidf_en = [model_en[doc] for doc in corpus_bow_en]\n",
        "n_doc=25#Tweet\n",
        "list_word_counts = [(D_en[doc_bow[0]], doc_bow[1]) for doc_bow in corpus_tfidf_en[n_doc][:10]]\n",
        "(words, counts) = zip(*list_word_counts)\n",
        "plt.figure(figsize=(10,5))\n",
        "plt.stem(words,counts, use_line_collection = True)\n",
        "plt.xlabel('Words')\n",
        "plt.ylabel('Counts')\n",
        "plt.show()"
      ],
      "metadata": {
        "colab": {
          "base_uri": "https://localhost:8080/",
          "height": 443
        },
        "id": "btPXafvCHazl",
        "outputId": "0fbe7b45-a051-45c4-bb3d-d254e388136b"
      },
      "execution_count": null,
      "outputs": [
        {
          "output_type": "display_data",
          "data": {
            "text/plain": [
              "<Figure size 720x360 with 1 Axes>"
            ],
            "image/svg+xml": "<?xml version=\"1.0\" encoding=\"utf-8\" standalone=\"no\"?>\n<!DOCTYPE svg PUBLIC \"-//W3C//DTD SVG 1.1//EN\"\n  \"http://www.w3.org/Graphics/SVG/1.1/DTD/svg11.dtd\">\n<svg xmlns:xlink=\"http://www.w3.org/1999/xlink\" width=\"608.98125pt\" height=\"316.55625pt\" viewBox=\"0 0 608.98125 316.55625\" xmlns=\"http://www.w3.org/2000/svg\" version=\"1.1\">\n <metadata>\n  <rdf:RDF xmlns:dc=\"http://purl.org/dc/elements/1.1/\" xmlns:cc=\"http://creativecommons.org/ns#\" xmlns:rdf=\"http://www.w3.org/1999/02/22-rdf-syntax-ns#\">\n   <cc:Work>\n    <dc:type rdf:resource=\"http://purl.org/dc/dcmitype/StillImage\"/>\n    <dc:date>2023-03-01T18:09:06.586092</dc:date>\n    <dc:format>image/svg+xml</dc:format>\n    <dc:creator>\n     <cc:Agent>\n      <dc:title>Matplotlib v3.5.3, https://matplotlib.org/</dc:title>\n     </cc:Agent>\n    </dc:creator>\n   </cc:Work>\n  </rdf:RDF>\n </metadata>\n <defs>\n  <style type=\"text/css\">*{stroke-linejoin: round; stroke-linecap: butt}</style>\n </defs>\n <g id=\"figure_1\">\n  <g id=\"patch_1\">\n   <path d=\"M 0 316.55625 \nL 608.98125 316.55625 \nL 608.98125 0 \nL 0 0 \nL 0 316.55625 \nz\n\" style=\"fill: none\"/>\n  </g>\n  <g id=\"axes_1\">\n   <g id=\"patch_2\">\n    <path d=\"M 43.78125 279 \nL 601.78125 279 \nL 601.78125 7.2 \nL 43.78125 7.2 \nz\n\" style=\"fill: #ffffff\"/>\n   </g>\n   <g id=\"matplotlib.axis_1\">\n    <g id=\"xtick_1\">\n     <g id=\"line2d_1\">\n      <defs>\n       <path id=\"mfa3ee89df7\" d=\"M 0 0 \nL 0 3.5 \n\" style=\"stroke: #000000; stroke-width: 0.8\"/>\n      </defs>\n      <g>\n       <use xlink:href=\"#mfa3ee89df7\" x=\"69.144886\" y=\"279\" style=\"stroke: #000000; stroke-width: 0.8\"/>\n      </g>\n     </g>\n     <g id=\"text_1\">\n      <!-- experience -->\n      <g transform=\"translate(41.430043 293.598437)scale(0.1 -0.1)\">\n       <defs>\n        <path id=\"DejaVuSans-65\" d=\"M 3597 1894 \nL 3597 1613 \nL 953 1613 \nQ 991 1019 1311 708 \nQ 1631 397 2203 397 \nQ 2534 397 2845 478 \nQ 3156 559 3463 722 \nL 3463 178 \nQ 3153 47 2828 -22 \nQ 2503 -91 2169 -91 \nQ 1331 -91 842 396 \nQ 353 884 353 1716 \nQ 353 2575 817 3079 \nQ 1281 3584 2069 3584 \nQ 2775 3584 3186 3129 \nQ 3597 2675 3597 1894 \nz\nM 3022 2063 \nQ 3016 2534 2758 2815 \nQ 2500 3097 2075 3097 \nQ 1594 3097 1305 2825 \nQ 1016 2553 972 2059 \nL 3022 2063 \nz\n\" transform=\"scale(0.015625)\"/>\n        <path id=\"DejaVuSans-78\" d=\"M 3513 3500 \nL 2247 1797 \nL 3578 0 \nL 2900 0 \nL 1881 1375 \nL 863 0 \nL 184 0 \nL 1544 1831 \nL 300 3500 \nL 978 3500 \nL 1906 2253 \nL 2834 3500 \nL 3513 3500 \nz\n\" transform=\"scale(0.015625)\"/>\n        <path id=\"DejaVuSans-70\" d=\"M 1159 525 \nL 1159 -1331 \nL 581 -1331 \nL 581 3500 \nL 1159 3500 \nL 1159 2969 \nQ 1341 3281 1617 3432 \nQ 1894 3584 2278 3584 \nQ 2916 3584 3314 3078 \nQ 3713 2572 3713 1747 \nQ 3713 922 3314 415 \nQ 2916 -91 2278 -91 \nQ 1894 -91 1617 61 \nQ 1341 213 1159 525 \nz\nM 3116 1747 \nQ 3116 2381 2855 2742 \nQ 2594 3103 2138 3103 \nQ 1681 3103 1420 2742 \nQ 1159 2381 1159 1747 \nQ 1159 1113 1420 752 \nQ 1681 391 2138 391 \nQ 2594 391 2855 752 \nQ 3116 1113 3116 1747 \nz\n\" transform=\"scale(0.015625)\"/>\n        <path id=\"DejaVuSans-72\" d=\"M 2631 2963 \nQ 2534 3019 2420 3045 \nQ 2306 3072 2169 3072 \nQ 1681 3072 1420 2755 \nQ 1159 2438 1159 1844 \nL 1159 0 \nL 581 0 \nL 581 3500 \nL 1159 3500 \nL 1159 2956 \nQ 1341 3275 1631 3429 \nQ 1922 3584 2338 3584 \nQ 2397 3584 2469 3576 \nQ 2541 3569 2628 3553 \nL 2631 2963 \nz\n\" transform=\"scale(0.015625)\"/>\n        <path id=\"DejaVuSans-69\" d=\"M 603 3500 \nL 1178 3500 \nL 1178 0 \nL 603 0 \nL 603 3500 \nz\nM 603 4863 \nL 1178 4863 \nL 1178 4134 \nL 603 4134 \nL 603 4863 \nz\n\" transform=\"scale(0.015625)\"/>\n        <path id=\"DejaVuSans-6e\" d=\"M 3513 2113 \nL 3513 0 \nL 2938 0 \nL 2938 2094 \nQ 2938 2591 2744 2837 \nQ 2550 3084 2163 3084 \nQ 1697 3084 1428 2787 \nQ 1159 2491 1159 1978 \nL 1159 0 \nL 581 0 \nL 581 3500 \nL 1159 3500 \nL 1159 2956 \nQ 1366 3272 1645 3428 \nQ 1925 3584 2291 3584 \nQ 2894 3584 3203 3211 \nQ 3513 2838 3513 2113 \nz\n\" transform=\"scale(0.015625)\"/>\n        <path id=\"DejaVuSans-63\" d=\"M 3122 3366 \nL 3122 2828 \nQ 2878 2963 2633 3030 \nQ 2388 3097 2138 3097 \nQ 1578 3097 1268 2742 \nQ 959 2388 959 1747 \nQ 959 1106 1268 751 \nQ 1578 397 2138 397 \nQ 2388 397 2633 464 \nQ 2878 531 3122 666 \nL 3122 134 \nQ 2881 22 2623 -34 \nQ 2366 -91 2075 -91 \nQ 1284 -91 818 406 \nQ 353 903 353 1747 \nQ 353 2603 823 3093 \nQ 1294 3584 2113 3584 \nQ 2378 3584 2631 3529 \nQ 2884 3475 3122 3366 \nz\n\" transform=\"scale(0.015625)\"/>\n       </defs>\n       <use xlink:href=\"#DejaVuSans-65\"/>\n       <use xlink:href=\"#DejaVuSans-78\" x=\"59.773438\"/>\n       <use xlink:href=\"#DejaVuSans-70\" x=\"118.953125\"/>\n       <use xlink:href=\"#DejaVuSans-65\" x=\"182.429688\"/>\n       <use xlink:href=\"#DejaVuSans-72\" x=\"243.953125\"/>\n       <use xlink:href=\"#DejaVuSans-69\" x=\"285.066406\"/>\n       <use xlink:href=\"#DejaVuSans-65\" x=\"312.849609\"/>\n       <use xlink:href=\"#DejaVuSans-6e\" x=\"374.373047\"/>\n       <use xlink:href=\"#DejaVuSans-63\" x=\"437.751953\"/>\n       <use xlink:href=\"#DejaVuSans-65\" x=\"492.732422\"/>\n      </g>\n     </g>\n    </g>\n    <g id=\"xtick_2\">\n     <g id=\"line2d_2\">\n      <g>\n       <use xlink:href=\"#mfa3ee89df7\" x=\"153.690341\" y=\"279\" style=\"stroke: #000000; stroke-width: 0.8\"/>\n      </g>\n     </g>\n     <g id=\"text_2\">\n      <!-- next -->\n      <g transform=\"translate(142.612997 293.598437)scale(0.1 -0.1)\">\n       <defs>\n        <path id=\"DejaVuSans-74\" d=\"M 1172 4494 \nL 1172 3500 \nL 2356 3500 \nL 2356 3053 \nL 1172 3053 \nL 1172 1153 \nQ 1172 725 1289 603 \nQ 1406 481 1766 481 \nL 2356 481 \nL 2356 0 \nL 1766 0 \nQ 1100 0 847 248 \nQ 594 497 594 1153 \nL 594 3053 \nL 172 3053 \nL 172 3500 \nL 594 3500 \nL 594 4494 \nL 1172 4494 \nz\n\" transform=\"scale(0.015625)\"/>\n       </defs>\n       <use xlink:href=\"#DejaVuSans-6e\"/>\n       <use xlink:href=\"#DejaVuSans-65\" x=\"63.378906\"/>\n       <use xlink:href=\"#DejaVuSans-78\" x=\"123.152344\"/>\n       <use xlink:href=\"#DejaVuSans-74\" x=\"182.332031\"/>\n      </g>\n     </g>\n    </g>\n    <g id=\"xtick_3\">\n     <g id=\"line2d_3\">\n      <g>\n       <use xlink:href=\"#mfa3ee89df7\" x=\"238.235795\" y=\"279\" style=\"stroke: #000000; stroke-width: 0.8\"/>\n      </g>\n     </g>\n     <g id=\"text_3\">\n      <!-- also -->\n      <g transform=\"translate(228.118608 293.598437)scale(0.1 -0.1)\">\n       <defs>\n        <path id=\"DejaVuSans-61\" d=\"M 2194 1759 \nQ 1497 1759 1228 1600 \nQ 959 1441 959 1056 \nQ 959 750 1161 570 \nQ 1363 391 1709 391 \nQ 2188 391 2477 730 \nQ 2766 1069 2766 1631 \nL 2766 1759 \nL 2194 1759 \nz\nM 3341 1997 \nL 3341 0 \nL 2766 0 \nL 2766 531 \nQ 2569 213 2275 61 \nQ 1981 -91 1556 -91 \nQ 1019 -91 701 211 \nQ 384 513 384 1019 \nQ 384 1609 779 1909 \nQ 1175 2209 1959 2209 \nL 2766 2209 \nL 2766 2266 \nQ 2766 2663 2505 2880 \nQ 2244 3097 1772 3097 \nQ 1472 3097 1187 3025 \nQ 903 2953 641 2809 \nL 641 3341 \nQ 956 3463 1253 3523 \nQ 1550 3584 1831 3584 \nQ 2591 3584 2966 3190 \nQ 3341 2797 3341 1997 \nz\n\" transform=\"scale(0.015625)\"/>\n        <path id=\"DejaVuSans-6c\" d=\"M 603 4863 \nL 1178 4863 \nL 1178 0 \nL 603 0 \nL 603 4863 \nz\n\" transform=\"scale(0.015625)\"/>\n        <path id=\"DejaVuSans-73\" d=\"M 2834 3397 \nL 2834 2853 \nQ 2591 2978 2328 3040 \nQ 2066 3103 1784 3103 \nQ 1356 3103 1142 2972 \nQ 928 2841 928 2578 \nQ 928 2378 1081 2264 \nQ 1234 2150 1697 2047 \nL 1894 2003 \nQ 2506 1872 2764 1633 \nQ 3022 1394 3022 966 \nQ 3022 478 2636 193 \nQ 2250 -91 1575 -91 \nQ 1294 -91 989 -36 \nQ 684 19 347 128 \nL 347 722 \nQ 666 556 975 473 \nQ 1284 391 1588 391 \nQ 1994 391 2212 530 \nQ 2431 669 2431 922 \nQ 2431 1156 2273 1281 \nQ 2116 1406 1581 1522 \nL 1381 1569 \nQ 847 1681 609 1914 \nQ 372 2147 372 2553 \nQ 372 3047 722 3315 \nQ 1072 3584 1716 3584 \nQ 2034 3584 2315 3537 \nQ 2597 3491 2834 3397 \nz\n\" transform=\"scale(0.015625)\"/>\n        <path id=\"DejaVuSans-6f\" d=\"M 1959 3097 \nQ 1497 3097 1228 2736 \nQ 959 2375 959 1747 \nQ 959 1119 1226 758 \nQ 1494 397 1959 397 \nQ 2419 397 2687 759 \nQ 2956 1122 2956 1747 \nQ 2956 2369 2687 2733 \nQ 2419 3097 1959 3097 \nz\nM 1959 3584 \nQ 2709 3584 3137 3096 \nQ 3566 2609 3566 1747 \nQ 3566 888 3137 398 \nQ 2709 -91 1959 -91 \nQ 1206 -91 779 398 \nQ 353 888 353 1747 \nQ 353 2609 779 3096 \nQ 1206 3584 1959 3584 \nz\n\" transform=\"scale(0.015625)\"/>\n       </defs>\n       <use xlink:href=\"#DejaVuSans-61\"/>\n       <use xlink:href=\"#DejaVuSans-6c\" x=\"61.279297\"/>\n       <use xlink:href=\"#DejaVuSans-73\" x=\"89.0625\"/>\n       <use xlink:href=\"#DejaVuSans-6f\" x=\"141.162109\"/>\n      </g>\n     </g>\n    </g>\n    <g id=\"xtick_4\">\n     <g id=\"line2d_4\">\n      <g>\n       <use xlink:href=\"#mfa3ee89df7\" x=\"322.78125\" y=\"279\" style=\"stroke: #000000; stroke-width: 0.8\"/>\n      </g>\n     </g>\n     <g id=\"text_4\">\n      <!-- barcelona -->\n      <g transform=\"translate(298.092969 293.598437)scale(0.1 -0.1)\">\n       <defs>\n        <path id=\"DejaVuSans-62\" d=\"M 3116 1747 \nQ 3116 2381 2855 2742 \nQ 2594 3103 2138 3103 \nQ 1681 3103 1420 2742 \nQ 1159 2381 1159 1747 \nQ 1159 1113 1420 752 \nQ 1681 391 2138 391 \nQ 2594 391 2855 752 \nQ 3116 1113 3116 1747 \nz\nM 1159 2969 \nQ 1341 3281 1617 3432 \nQ 1894 3584 2278 3584 \nQ 2916 3584 3314 3078 \nQ 3713 2572 3713 1747 \nQ 3713 922 3314 415 \nQ 2916 -91 2278 -91 \nQ 1894 -91 1617 61 \nQ 1341 213 1159 525 \nL 1159 0 \nL 581 0 \nL 581 4863 \nL 1159 4863 \nL 1159 2969 \nz\n\" transform=\"scale(0.015625)\"/>\n       </defs>\n       <use xlink:href=\"#DejaVuSans-62\"/>\n       <use xlink:href=\"#DejaVuSans-61\" x=\"63.476562\"/>\n       <use xlink:href=\"#DejaVuSans-72\" x=\"124.755859\"/>\n       <use xlink:href=\"#DejaVuSans-63\" x=\"163.619141\"/>\n       <use xlink:href=\"#DejaVuSans-65\" x=\"218.599609\"/>\n       <use xlink:href=\"#DejaVuSans-6c\" x=\"280.123047\"/>\n       <use xlink:href=\"#DejaVuSans-6f\" x=\"307.90625\"/>\n       <use xlink:href=\"#DejaVuSans-6e\" x=\"369.087891\"/>\n       <use xlink:href=\"#DejaVuSans-61\" x=\"432.466797\"/>\n      </g>\n     </g>\n    </g>\n    <g id=\"xtick_5\">\n     <g id=\"line2d_5\">\n      <g>\n       <use xlink:href=\"#mfa3ee89df7\" x=\"407.326705\" y=\"279\" style=\"stroke: #000000; stroke-width: 0.8\"/>\n      </g>\n     </g>\n     <g id=\"text_5\">\n      <!-- sonarplusd -->\n      <g transform=\"translate(379.863423 293.598437)scale(0.1 -0.1)\">\n       <defs>\n        <path id=\"DejaVuSans-75\" d=\"M 544 1381 \nL 544 3500 \nL 1119 3500 \nL 1119 1403 \nQ 1119 906 1312 657 \nQ 1506 409 1894 409 \nQ 2359 409 2629 706 \nQ 2900 1003 2900 1516 \nL 2900 3500 \nL 3475 3500 \nL 3475 0 \nL 2900 0 \nL 2900 538 \nQ 2691 219 2414 64 \nQ 2138 -91 1772 -91 \nQ 1169 -91 856 284 \nQ 544 659 544 1381 \nz\nM 1991 3584 \nL 1991 3584 \nz\n\" transform=\"scale(0.015625)\"/>\n        <path id=\"DejaVuSans-64\" d=\"M 2906 2969 \nL 2906 4863 \nL 3481 4863 \nL 3481 0 \nL 2906 0 \nL 2906 525 \nQ 2725 213 2448 61 \nQ 2172 -91 1784 -91 \nQ 1150 -91 751 415 \nQ 353 922 353 1747 \nQ 353 2572 751 3078 \nQ 1150 3584 1784 3584 \nQ 2172 3584 2448 3432 \nQ 2725 3281 2906 2969 \nz\nM 947 1747 \nQ 947 1113 1208 752 \nQ 1469 391 1925 391 \nQ 2381 391 2643 752 \nQ 2906 1113 2906 1747 \nQ 2906 2381 2643 2742 \nQ 2381 3103 1925 3103 \nQ 1469 3103 1208 2742 \nQ 947 2381 947 1747 \nz\n\" transform=\"scale(0.015625)\"/>\n       </defs>\n       <use xlink:href=\"#DejaVuSans-73\"/>\n       <use xlink:href=\"#DejaVuSans-6f\" x=\"52.099609\"/>\n       <use xlink:href=\"#DejaVuSans-6e\" x=\"113.28125\"/>\n       <use xlink:href=\"#DejaVuSans-61\" x=\"176.660156\"/>\n       <use xlink:href=\"#DejaVuSans-72\" x=\"237.939453\"/>\n       <use xlink:href=\"#DejaVuSans-70\" x=\"279.052734\"/>\n       <use xlink:href=\"#DejaVuSans-6c\" x=\"342.529297\"/>\n       <use xlink:href=\"#DejaVuSans-75\" x=\"370.3125\"/>\n       <use xlink:href=\"#DejaVuSans-73\" x=\"433.691406\"/>\n       <use xlink:href=\"#DejaVuSans-64\" x=\"485.791016\"/>\n      </g>\n     </g>\n    </g>\n    <g id=\"xtick_6\">\n     <g id=\"line2d_6\">\n      <g>\n       <use xlink:href=\"#mfa3ee89df7\" x=\"491.872159\" y=\"279\" style=\"stroke: #000000; stroke-width: 0.8\"/>\n      </g>\n     </g>\n     <g id=\"text_6\">\n      <!-- london -->\n      <g transform=\"translate(474.852628 293.598437)scale(0.1 -0.1)\">\n       <use xlink:href=\"#DejaVuSans-6c\"/>\n       <use xlink:href=\"#DejaVuSans-6f\" x=\"27.783203\"/>\n       <use xlink:href=\"#DejaVuSans-6e\" x=\"88.964844\"/>\n       <use xlink:href=\"#DejaVuSans-64\" x=\"152.34375\"/>\n       <use xlink:href=\"#DejaVuSans-6f\" x=\"215.820312\"/>\n       <use xlink:href=\"#DejaVuSans-6e\" x=\"277.001953\"/>\n      </g>\n     </g>\n    </g>\n    <g id=\"xtick_7\">\n     <g id=\"line2d_7\">\n      <g>\n       <use xlink:href=\"#mfa3ee89df7\" x=\"576.417614\" y=\"279\" style=\"stroke: #000000; stroke-width: 0.8\"/>\n      </g>\n     </g>\n     <g id=\"text_7\">\n      <!-- tomorrow -->\n      <g transform=\"translate(552.40902 293.598437)scale(0.1 -0.1)\">\n       <defs>\n        <path id=\"DejaVuSans-6d\" d=\"M 3328 2828 \nQ 3544 3216 3844 3400 \nQ 4144 3584 4550 3584 \nQ 5097 3584 5394 3201 \nQ 5691 2819 5691 2113 \nL 5691 0 \nL 5113 0 \nL 5113 2094 \nQ 5113 2597 4934 2840 \nQ 4756 3084 4391 3084 \nQ 3944 3084 3684 2787 \nQ 3425 2491 3425 1978 \nL 3425 0 \nL 2847 0 \nL 2847 2094 \nQ 2847 2600 2669 2842 \nQ 2491 3084 2119 3084 \nQ 1678 3084 1418 2786 \nQ 1159 2488 1159 1978 \nL 1159 0 \nL 581 0 \nL 581 3500 \nL 1159 3500 \nL 1159 2956 \nQ 1356 3278 1631 3431 \nQ 1906 3584 2284 3584 \nQ 2666 3584 2933 3390 \nQ 3200 3197 3328 2828 \nz\n\" transform=\"scale(0.015625)\"/>\n        <path id=\"DejaVuSans-77\" d=\"M 269 3500 \nL 844 3500 \nL 1563 769 \nL 2278 3500 \nL 2956 3500 \nL 3675 769 \nL 4391 3500 \nL 4966 3500 \nL 4050 0 \nL 3372 0 \nL 2619 2869 \nL 1863 0 \nL 1184 0 \nL 269 3500 \nz\n\" transform=\"scale(0.015625)\"/>\n       </defs>\n       <use xlink:href=\"#DejaVuSans-74\"/>\n       <use xlink:href=\"#DejaVuSans-6f\" x=\"39.208984\"/>\n       <use xlink:href=\"#DejaVuSans-6d\" x=\"100.390625\"/>\n       <use xlink:href=\"#DejaVuSans-6f\" x=\"197.802734\"/>\n       <use xlink:href=\"#DejaVuSans-72\" x=\"258.984375\"/>\n       <use xlink:href=\"#DejaVuSans-72\" x=\"298.347656\"/>\n       <use xlink:href=\"#DejaVuSans-6f\" x=\"337.210938\"/>\n       <use xlink:href=\"#DejaVuSans-77\" x=\"398.392578\"/>\n      </g>\n     </g>\n    </g>\n    <g id=\"text_8\">\n     <!-- Words -->\n     <g transform=\"translate(307.325 307.276562)scale(0.1 -0.1)\">\n      <defs>\n       <path id=\"DejaVuSans-57\" d=\"M 213 4666 \nL 850 4666 \nL 1831 722 \nL 2809 4666 \nL 3519 4666 \nL 4500 722 \nL 5478 4666 \nL 6119 4666 \nL 4947 0 \nL 4153 0 \nL 3169 4050 \nL 2175 0 \nL 1381 0 \nL 213 4666 \nz\n\" transform=\"scale(0.015625)\"/>\n      </defs>\n      <use xlink:href=\"#DejaVuSans-57\"/>\n      <use xlink:href=\"#DejaVuSans-6f\" x=\"93.001953\"/>\n      <use xlink:href=\"#DejaVuSans-72\" x=\"154.183594\"/>\n      <use xlink:href=\"#DejaVuSans-64\" x=\"193.546875\"/>\n      <use xlink:href=\"#DejaVuSans-73\" x=\"257.023438\"/>\n     </g>\n    </g>\n   </g>\n   <g id=\"matplotlib.axis_2\">\n    <g id=\"ytick_1\">\n     <g id=\"line2d_8\">\n      <defs>\n       <path id=\"mda1c7f7426\" d=\"M 0 0 \nL -3.5 0 \n\" style=\"stroke: #000000; stroke-width: 0.8\"/>\n      </defs>\n      <g>\n       <use xlink:href=\"#mda1c7f7426\" x=\"43.78125\" y=\"266.645455\" style=\"stroke: #000000; stroke-width: 0.8\"/>\n      </g>\n     </g>\n     <g id=\"text_9\">\n      <!-- 0.0 -->\n      <g transform=\"translate(20.878125 270.444673)scale(0.1 -0.1)\">\n       <defs>\n        <path id=\"DejaVuSans-30\" d=\"M 2034 4250 \nQ 1547 4250 1301 3770 \nQ 1056 3291 1056 2328 \nQ 1056 1369 1301 889 \nQ 1547 409 2034 409 \nQ 2525 409 2770 889 \nQ 3016 1369 3016 2328 \nQ 3016 3291 2770 3770 \nQ 2525 4250 2034 4250 \nz\nM 2034 4750 \nQ 2819 4750 3233 4129 \nQ 3647 3509 3647 2328 \nQ 3647 1150 3233 529 \nQ 2819 -91 2034 -91 \nQ 1250 -91 836 529 \nQ 422 1150 422 2328 \nQ 422 3509 836 4129 \nQ 1250 4750 2034 4750 \nz\n\" transform=\"scale(0.015625)\"/>\n        <path id=\"DejaVuSans-2e\" d=\"M 684 794 \nL 1344 794 \nL 1344 0 \nL 684 0 \nL 684 794 \nz\n\" transform=\"scale(0.015625)\"/>\n       </defs>\n       <use xlink:href=\"#DejaVuSans-30\"/>\n       <use xlink:href=\"#DejaVuSans-2e\" x=\"63.623047\"/>\n       <use xlink:href=\"#DejaVuSans-30\" x=\"95.410156\"/>\n      </g>\n     </g>\n    </g>\n    <g id=\"ytick_2\">\n     <g id=\"line2d_9\">\n      <g>\n       <use xlink:href=\"#mda1c7f7426\" x=\"43.78125\" y=\"214.431298\" style=\"stroke: #000000; stroke-width: 0.8\"/>\n      </g>\n     </g>\n     <g id=\"text_10\">\n      <!-- 0.1 -->\n      <g transform=\"translate(20.878125 218.230517)scale(0.1 -0.1)\">\n       <defs>\n        <path id=\"DejaVuSans-31\" d=\"M 794 531 \nL 1825 531 \nL 1825 4091 \nL 703 3866 \nL 703 4441 \nL 1819 4666 \nL 2450 4666 \nL 2450 531 \nL 3481 531 \nL 3481 0 \nL 794 0 \nL 794 531 \nz\n\" transform=\"scale(0.015625)\"/>\n       </defs>\n       <use xlink:href=\"#DejaVuSans-30\"/>\n       <use xlink:href=\"#DejaVuSans-2e\" x=\"63.623047\"/>\n       <use xlink:href=\"#DejaVuSans-31\" x=\"95.410156\"/>\n      </g>\n     </g>\n    </g>\n    <g id=\"ytick_3\">\n     <g id=\"line2d_10\">\n      <g>\n       <use xlink:href=\"#mda1c7f7426\" x=\"43.78125\" y=\"162.217141\" style=\"stroke: #000000; stroke-width: 0.8\"/>\n      </g>\n     </g>\n     <g id=\"text_11\">\n      <!-- 0.2 -->\n      <g transform=\"translate(20.878125 166.01636)scale(0.1 -0.1)\">\n       <defs>\n        <path id=\"DejaVuSans-32\" d=\"M 1228 531 \nL 3431 531 \nL 3431 0 \nL 469 0 \nL 469 531 \nQ 828 903 1448 1529 \nQ 2069 2156 2228 2338 \nQ 2531 2678 2651 2914 \nQ 2772 3150 2772 3378 \nQ 2772 3750 2511 3984 \nQ 2250 4219 1831 4219 \nQ 1534 4219 1204 4116 \nQ 875 4013 500 3803 \nL 500 4441 \nQ 881 4594 1212 4672 \nQ 1544 4750 1819 4750 \nQ 2544 4750 2975 4387 \nQ 3406 4025 3406 3419 \nQ 3406 3131 3298 2873 \nQ 3191 2616 2906 2266 \nQ 2828 2175 2409 1742 \nQ 1991 1309 1228 531 \nz\n\" transform=\"scale(0.015625)\"/>\n       </defs>\n       <use xlink:href=\"#DejaVuSans-30\"/>\n       <use xlink:href=\"#DejaVuSans-2e\" x=\"63.623047\"/>\n       <use xlink:href=\"#DejaVuSans-32\" x=\"95.410156\"/>\n      </g>\n     </g>\n    </g>\n    <g id=\"ytick_4\">\n     <g id=\"line2d_11\">\n      <g>\n       <use xlink:href=\"#mda1c7f7426\" x=\"43.78125\" y=\"110.002984\" style=\"stroke: #000000; stroke-width: 0.8\"/>\n      </g>\n     </g>\n     <g id=\"text_12\">\n      <!-- 0.3 -->\n      <g transform=\"translate(20.878125 113.802203)scale(0.1 -0.1)\">\n       <defs>\n        <path id=\"DejaVuSans-33\" d=\"M 2597 2516 \nQ 3050 2419 3304 2112 \nQ 3559 1806 3559 1356 \nQ 3559 666 3084 287 \nQ 2609 -91 1734 -91 \nQ 1441 -91 1130 -33 \nQ 819 25 488 141 \nL 488 750 \nQ 750 597 1062 519 \nQ 1375 441 1716 441 \nQ 2309 441 2620 675 \nQ 2931 909 2931 1356 \nQ 2931 1769 2642 2001 \nQ 2353 2234 1838 2234 \nL 1294 2234 \nL 1294 2753 \nL 1863 2753 \nQ 2328 2753 2575 2939 \nQ 2822 3125 2822 3475 \nQ 2822 3834 2567 4026 \nQ 2313 4219 1838 4219 \nQ 1578 4219 1281 4162 \nQ 984 4106 628 3988 \nL 628 4550 \nQ 988 4650 1302 4700 \nQ 1616 4750 1894 4750 \nQ 2613 4750 3031 4423 \nQ 3450 4097 3450 3541 \nQ 3450 3153 3228 2886 \nQ 3006 2619 2597 2516 \nz\n\" transform=\"scale(0.015625)\"/>\n       </defs>\n       <use xlink:href=\"#DejaVuSans-30\"/>\n       <use xlink:href=\"#DejaVuSans-2e\" x=\"63.623047\"/>\n       <use xlink:href=\"#DejaVuSans-33\" x=\"95.410156\"/>\n      </g>\n     </g>\n    </g>\n    <g id=\"ytick_5\">\n     <g id=\"line2d_12\">\n      <g>\n       <use xlink:href=\"#mda1c7f7426\" x=\"43.78125\" y=\"57.788827\" style=\"stroke: #000000; stroke-width: 0.8\"/>\n      </g>\n     </g>\n     <g id=\"text_13\">\n      <!-- 0.4 -->\n      <g transform=\"translate(20.878125 61.588046)scale(0.1 -0.1)\">\n       <defs>\n        <path id=\"DejaVuSans-34\" d=\"M 2419 4116 \nL 825 1625 \nL 2419 1625 \nL 2419 4116 \nz\nM 2253 4666 \nL 3047 4666 \nL 3047 1625 \nL 3713 1625 \nL 3713 1100 \nL 3047 1100 \nL 3047 0 \nL 2419 0 \nL 2419 1100 \nL 313 1100 \nL 313 1709 \nL 2253 4666 \nz\n\" transform=\"scale(0.015625)\"/>\n       </defs>\n       <use xlink:href=\"#DejaVuSans-30\"/>\n       <use xlink:href=\"#DejaVuSans-2e\" x=\"63.623047\"/>\n       <use xlink:href=\"#DejaVuSans-34\" x=\"95.410156\"/>\n      </g>\n     </g>\n    </g>\n    <g id=\"text_14\">\n     <!-- Counts -->\n     <g transform=\"translate(14.798438 160.553125)rotate(-90)scale(0.1 -0.1)\">\n      <defs>\n       <path id=\"DejaVuSans-43\" d=\"M 4122 4306 \nL 4122 3641 \nQ 3803 3938 3442 4084 \nQ 3081 4231 2675 4231 \nQ 1875 4231 1450 3742 \nQ 1025 3253 1025 2328 \nQ 1025 1406 1450 917 \nQ 1875 428 2675 428 \nQ 3081 428 3442 575 \nQ 3803 722 4122 1019 \nL 4122 359 \nQ 3791 134 3420 21 \nQ 3050 -91 2638 -91 \nQ 1578 -91 968 557 \nQ 359 1206 359 2328 \nQ 359 3453 968 4101 \nQ 1578 4750 2638 4750 \nQ 3056 4750 3426 4639 \nQ 3797 4528 4122 4306 \nz\n\" transform=\"scale(0.015625)\"/>\n      </defs>\n      <use xlink:href=\"#DejaVuSans-43\"/>\n      <use xlink:href=\"#DejaVuSans-6f\" x=\"69.824219\"/>\n      <use xlink:href=\"#DejaVuSans-75\" x=\"131.005859\"/>\n      <use xlink:href=\"#DejaVuSans-6e\" x=\"194.384766\"/>\n      <use xlink:href=\"#DejaVuSans-74\" x=\"257.763672\"/>\n      <use xlink:href=\"#DejaVuSans-73\" x=\"296.972656\"/>\n     </g>\n    </g>\n   </g>\n   <g id=\"LineCollection_1\">\n    <path d=\"M 69.144886 266.645455 \nL 69.144886 19.554545 \n\" clip-path=\"url(#p4621bb4fd7)\" style=\"fill: none; stroke: #1f77b4; stroke-width: 1.5\"/>\n    <path d=\"M 153.690341 266.645455 \nL 153.690341 127.425607 \n\" clip-path=\"url(#p4621bb4fd7)\" style=\"fill: none; stroke: #1f77b4; stroke-width: 1.5\"/>\n    <path d=\"M 238.235795 266.645455 \nL 238.235795 66.306543 \n\" clip-path=\"url(#p4621bb4fd7)\" style=\"fill: none; stroke: #1f77b4; stroke-width: 1.5\"/>\n    <path d=\"M 322.78125 266.645455 \nL 322.78125 88.732511 \n\" clip-path=\"url(#p4621bb4fd7)\" style=\"fill: none; stroke: #1f77b4; stroke-width: 1.5\"/>\n    <path d=\"M 407.326705 266.645455 \nL 407.326705 66.306543 \n\" clip-path=\"url(#p4621bb4fd7)\" style=\"fill: none; stroke: #1f77b4; stroke-width: 1.5\"/>\n    <path d=\"M 491.872159 266.645455 \nL 491.872159 66.306543 \n\" clip-path=\"url(#p4621bb4fd7)\" style=\"fill: none; stroke: #1f77b4; stroke-width: 1.5\"/>\n    <path d=\"M 576.417614 266.645455 \nL 576.417614 66.306543 \n\" clip-path=\"url(#p4621bb4fd7)\" style=\"fill: none; stroke: #1f77b4; stroke-width: 1.5\"/>\n   </g>\n   <g id=\"line2d_13\">\n    <defs>\n     <path id=\"mfd691a5522\" d=\"M 0 3 \nC 0.795609 3 1.55874 2.683901 2.12132 2.12132 \nC 2.683901 1.55874 3 0.795609 3 0 \nC 3 -0.795609 2.683901 -1.55874 2.12132 -2.12132 \nC 1.55874 -2.683901 0.795609 -3 0 -3 \nC -0.795609 -3 -1.55874 -2.683901 -2.12132 -2.12132 \nC -2.683901 -1.55874 -3 -0.795609 -3 0 \nC -3 0.795609 -2.683901 1.55874 -2.12132 2.12132 \nC -1.55874 2.683901 -0.795609 3 0 3 \nz\n\" style=\"stroke: #1f77b4\"/>\n    </defs>\n    <g clip-path=\"url(#p4621bb4fd7)\">\n     <use xlink:href=\"#mfd691a5522\" x=\"69.144886\" y=\"19.554545\" style=\"fill: #1f77b4; stroke: #1f77b4\"/>\n     <use xlink:href=\"#mfd691a5522\" x=\"153.690341\" y=\"127.425607\" style=\"fill: #1f77b4; stroke: #1f77b4\"/>\n     <use xlink:href=\"#mfd691a5522\" x=\"238.235795\" y=\"66.306543\" style=\"fill: #1f77b4; stroke: #1f77b4\"/>\n     <use xlink:href=\"#mfd691a5522\" x=\"322.78125\" y=\"88.732511\" style=\"fill: #1f77b4; stroke: #1f77b4\"/>\n     <use xlink:href=\"#mfd691a5522\" x=\"407.326705\" y=\"66.306543\" style=\"fill: #1f77b4; stroke: #1f77b4\"/>\n     <use xlink:href=\"#mfd691a5522\" x=\"491.872159\" y=\"66.306543\" style=\"fill: #1f77b4; stroke: #1f77b4\"/>\n     <use xlink:href=\"#mfd691a5522\" x=\"576.417614\" y=\"66.306543\" style=\"fill: #1f77b4; stroke: #1f77b4\"/>\n    </g>\n   </g>\n   <g id=\"line2d_14\">\n    <path d=\"M 69.144886 266.645455 \nL 576.417614 266.645455 \n\" clip-path=\"url(#p4621bb4fd7)\" style=\"fill: none; stroke: #d62728; stroke-width: 1.5; stroke-linecap: square\"/>\n   </g>\n   <g id=\"patch_3\">\n    <path d=\"M 43.78125 279 \nL 43.78125 7.2 \n\" style=\"fill: none; stroke: #000000; stroke-width: 0.8; stroke-linejoin: miter; stroke-linecap: square\"/>\n   </g>\n   <g id=\"patch_4\">\n    <path d=\"M 601.78125 279 \nL 601.78125 7.2 \n\" style=\"fill: none; stroke: #000000; stroke-width: 0.8; stroke-linejoin: miter; stroke-linecap: square\"/>\n   </g>\n   <g id=\"patch_5\">\n    <path d=\"M 43.78125 279 \nL 601.78125 279 \n\" style=\"fill: none; stroke: #000000; stroke-width: 0.8; stroke-linejoin: miter; stroke-linecap: square\"/>\n   </g>\n   <g id=\"patch_6\">\n    <path d=\"M 43.78125 7.2 \nL 601.78125 7.2 \n\" style=\"fill: none; stroke: #000000; stroke-width: 0.8; stroke-linejoin: miter; stroke-linecap: square\"/>\n   </g>\n  </g>\n </g>\n <defs>\n  <clipPath id=\"p4621bb4fd7\">\n   <rect x=\"43.78125\" y=\"7.2\" width=\"558\" height=\"271.8\"/>\n  </clipPath>\n </defs>\n</svg>\n"
          },
          "metadata": {
            "needs_background": "light"
          }
        }
      ]
    },
    {
      "cell_type": "code",
      "source": [
        "from gensim.matutils import corpus2dense, corpus2csc\n",
        "\n",
        "n_tokens = len(D_en)\n",
        "num_docs = len(corpus_bow_en)\n",
        "# Convert BoW representacion\n",
        "corpus_bow_sparse = corpus2csc(corpus_bow_en, num_terms=n_tokens, num_docs=num_docs).T\n",
        "# Convert TFIDF representacion\n",
        "corpus_tfidf_sparse = corpus2csc(corpus_tfidf_en, num_terms=n_tokens, num_docs=num_docs).T"
      ],
      "metadata": {
        "id": "fzVjq6iRHb75"
      },
      "execution_count": null,
      "outputs": []
    },
    {
      "cell_type": "code",
      "source": [
        "from sklearn.naive_bayes import MultinomialNB, ComplementNB\n",
        "from sklearn.model_selection import train_test_split\n",
        "from sklearn.metrics import accuracy_score,classification_report\n",
        "# Code for BoW representation\n",
        "Y = tweets_df_en.label\n",
        "# Divide the data into train test partitions\n",
        "X_train, X_test, y_train, y_test = train_test_split(corpus_bow_sparse, Y, test_size=0.4, random_state=42)\n",
        "clf = MultinomialNB()\n",
        "clf.fit(X_train, y_train)\n",
        "y_train_pred = clf.predict(X_train)\n",
        "y_test_pred = clf.predict(X_test)\n",
        "\n",
        "print(classification_report(y_train, y_train_pred))\n",
        "print(classification_report(y_test, y_test_pred))\n",
        "# print(accuracy_score(y_test, y_pred, normalize=True))"
      ],
      "metadata": {
        "colab": {
          "base_uri": "https://localhost:8080/"
        },
        "id": "tTKFhMyYHdlI",
        "outputId": "b96dffff-ac40-4d23-fb36-65127c9b0134"
      },
      "execution_count": null,
      "outputs": [
        {
          "output_type": "stream",
          "name": "stdout",
          "text": [
            "              precision    recall  f1-score   support\n",
            "\n",
            "           0       0.76      0.89      0.82        18\n",
            "           1       0.96      0.84      0.89       116\n",
            "           2       0.80      0.92      0.86        26\n",
            "           3       0.77      0.92      0.84        39\n",
            "\n",
            "    accuracy                           0.87       199\n",
            "   macro avg       0.82      0.89      0.85       199\n",
            "weighted avg       0.88      0.87      0.87       199\n",
            "\n",
            "              precision    recall  f1-score   support\n",
            "\n",
            "           0       0.38      0.23      0.29        13\n",
            "           1       0.67      0.63      0.65        78\n",
            "           2       0.18      0.21      0.20        19\n",
            "           3       0.42      0.54      0.47        24\n",
            "\n",
            "    accuracy                           0.51       134\n",
            "   macro avg       0.41      0.40      0.40       134\n",
            "weighted avg       0.53      0.51      0.52       134\n",
            "\n"
          ]
        }
      ]
    },
    {
      "cell_type": "code",
      "source": [
        "print(\"Distribución real de target\")\n",
        "Y.value_counts(True)"
      ],
      "metadata": {
        "colab": {
          "base_uri": "https://localhost:8080/"
        },
        "id": "S5ZhP3AnZXZr",
        "outputId": "efafc21a-311c-46f4-f346-6c8fadb6b392"
      },
      "execution_count": null,
      "outputs": [
        {
          "output_type": "stream",
          "name": "stdout",
          "text": [
            "Distribución real de target\n"
          ]
        },
        {
          "output_type": "execute_result",
          "data": {
            "text/plain": [
              "1    0.582583\n",
              "3    0.189189\n",
              "2    0.135135\n",
              "0    0.093093\n",
              "Name: label, dtype: float64"
            ]
          },
          "metadata": {},
          "execution_count": 94
        }
      ]
    },
    {
      "cell_type": "code",
      "source": [
        "print(\"Distribución predicha train\")\n",
        "pd.Series(y_train_pred).value_counts(True)"
      ],
      "metadata": {
        "colab": {
          "base_uri": "https://localhost:8080/"
        },
        "id": "UKH9aVlbZRi2",
        "outputId": "f557ad46-3de8-4715-b605-974d30fb58d4"
      },
      "execution_count": null,
      "outputs": [
        {
          "output_type": "stream",
          "name": "stdout",
          "text": [
            "Distribución predicha train\n"
          ]
        },
        {
          "output_type": "execute_result",
          "data": {
            "text/plain": [
              "1    0.507538\n",
              "3    0.236181\n",
              "2    0.150754\n",
              "0    0.105528\n",
              "dtype: float64"
            ]
          },
          "metadata": {},
          "execution_count": 95
        }
      ]
    },
    {
      "cell_type": "code",
      "source": [
        "print(\"Distribución predicha test\")\n",
        "pd.Series(y_test_pred).value_counts(True)"
      ],
      "metadata": {
        "colab": {
          "base_uri": "https://localhost:8080/"
        },
        "id": "FhqFXffgZSap",
        "outputId": "737b3c3c-fc52-47d1-c3fa-2593c5e414d8"
      },
      "execution_count": null,
      "outputs": [
        {
          "output_type": "stream",
          "name": "stdout",
          "text": [
            "Distribución predicha test\n"
          ]
        },
        {
          "output_type": "execute_result",
          "data": {
            "text/plain": [
              "1    0.544776\n",
              "3    0.231343\n",
              "2    0.164179\n",
              "0    0.059701\n",
              "dtype: float64"
            ]
          },
          "metadata": {},
          "execution_count": 96
        }
      ]
    },
    {
      "cell_type": "code",
      "source": [
        "# Code for TFIDF representation\n",
        "Y = tweets_df_en.label\n",
        "# Divide the data into train test partitions\n",
        "X_train, X_test, y_train, y_test = train_test_split(corpus_tfidf_sparse, Y, test_size=0.4, random_state=42)\n",
        "clf = MultinomialNB()\n",
        "clf.fit(X_train, y_train)\n",
        "y_train_pred = clf.predict(X_train)\n",
        "y_test_pred = clf.predict(X_test)\n",
        "\n",
        "print(classification_report(y_train, y_train_pred))\n",
        "print(classification_report(y_test, y_test_pred))\n",
        "# print(accuracy_score(y_test, y_pred, normalize=True))"
      ],
      "metadata": {
        "colab": {
          "base_uri": "https://localhost:8080/"
        },
        "id": "IMFysRR_HfjY",
        "outputId": "3564e82b-dc61-4fe1-b855-c276d38dbd95"
      },
      "execution_count": null,
      "outputs": [
        {
          "output_type": "stream",
          "name": "stdout",
          "text": [
            "              precision    recall  f1-score   support\n",
            "\n",
            "           0       0.00      0.00      0.00        18\n",
            "           1       0.64      0.98      0.78       116\n",
            "           2       1.00      0.04      0.07        26\n",
            "           3       0.90      0.49      0.63        39\n",
            "\n",
            "    accuracy                           0.67       199\n",
            "   macro avg       0.64      0.38      0.37       199\n",
            "weighted avg       0.68      0.67      0.59       199\n",
            "\n",
            "              precision    recall  f1-score   support\n",
            "\n",
            "           0       0.00      0.00      0.00        13\n",
            "           1       0.60      1.00      0.75        78\n",
            "           2       0.00      0.00      0.00        19\n",
            "           3       0.67      0.08      0.15        24\n",
            "\n",
            "    accuracy                           0.60       134\n",
            "   macro avg       0.32      0.27      0.22       134\n",
            "weighted avg       0.47      0.60      0.46       134\n",
            "\n"
          ]
        },
        {
          "output_type": "stream",
          "name": "stderr",
          "text": [
            "/usr/local/lib/python3.8/dist-packages/sklearn/metrics/_classification.py:1318: UndefinedMetricWarning: Precision and F-score are ill-defined and being set to 0.0 in labels with no predicted samples. Use `zero_division` parameter to control this behavior.\n",
            "  _warn_prf(average, modifier, msg_start, len(result))\n",
            "/usr/local/lib/python3.8/dist-packages/sklearn/metrics/_classification.py:1318: UndefinedMetricWarning: Precision and F-score are ill-defined and being set to 0.0 in labels with no predicted samples. Use `zero_division` parameter to control this behavior.\n",
            "  _warn_prf(average, modifier, msg_start, len(result))\n",
            "/usr/local/lib/python3.8/dist-packages/sklearn/metrics/_classification.py:1318: UndefinedMetricWarning: Precision and F-score are ill-defined and being set to 0.0 in labels with no predicted samples. Use `zero_division` parameter to control this behavior.\n",
            "  _warn_prf(average, modifier, msg_start, len(result))\n",
            "/usr/local/lib/python3.8/dist-packages/sklearn/metrics/_classification.py:1318: UndefinedMetricWarning: Precision and F-score are ill-defined and being set to 0.0 in labels with no predicted samples. Use `zero_division` parameter to control this behavior.\n",
            "  _warn_prf(average, modifier, msg_start, len(result))\n",
            "/usr/local/lib/python3.8/dist-packages/sklearn/metrics/_classification.py:1318: UndefinedMetricWarning: Precision and F-score are ill-defined and being set to 0.0 in labels with no predicted samples. Use `zero_division` parameter to control this behavior.\n",
            "  _warn_prf(average, modifier, msg_start, len(result))\n",
            "/usr/local/lib/python3.8/dist-packages/sklearn/metrics/_classification.py:1318: UndefinedMetricWarning: Precision and F-score are ill-defined and being set to 0.0 in labels with no predicted samples. Use `zero_division` parameter to control this behavior.\n",
            "  _warn_prf(average, modifier, msg_start, len(result))\n"
          ]
        }
      ]
    },
    {
      "cell_type": "code",
      "source": [
        "print(\"Distribución predicha train\")\n",
        "pd.Series(y_train_pred).value_counts(True)"
      ],
      "metadata": {
        "colab": {
          "base_uri": "https://localhost:8080/"
        },
        "id": "avy1zaKFZHjz",
        "outputId": "62446859-e103-4131-ede7-bc49daf932bd"
      },
      "execution_count": null,
      "outputs": [
        {
          "output_type": "stream",
          "name": "stdout",
          "text": [
            "Distribución predicha train\n"
          ]
        },
        {
          "output_type": "execute_result",
          "data": {
            "text/plain": [
              "1    0.889447\n",
              "3    0.105528\n",
              "2    0.005025\n",
              "dtype: float64"
            ]
          },
          "metadata": {},
          "execution_count": 98
        }
      ]
    },
    {
      "cell_type": "code",
      "source": [
        "print(\"Distribución predicha test\")\n",
        "pd.Series(y_test_pred).value_counts(True)"
      ],
      "metadata": {
        "colab": {
          "base_uri": "https://localhost:8080/"
        },
        "id": "EW-uhkdGZNfL",
        "outputId": "b26f460d-81cb-4a77-8692-b8d6f3fe4754"
      },
      "execution_count": null,
      "outputs": [
        {
          "output_type": "stream",
          "name": "stdout",
          "text": [
            "Distribución predicha test\n"
          ]
        },
        {
          "output_type": "execute_result",
          "data": {
            "text/plain": [
              "1    0.977612\n",
              "3    0.022388\n",
              "dtype: float64"
            ]
          },
          "metadata": {},
          "execution_count": 99
        }
      ]
    },
    {
      "cell_type": "code",
      "source": [
        "corpus_bow_es = [D_es.doc2bow(doc) for doc in corpus_es]\n",
        "n_doc=25#Tweet\n",
        "list_word_counts = [(D_es[doc_bow[0]], doc_bow[1]) for doc_bow in corpus_bow_es[n_doc][:10]]\n",
        "(words, counts) = zip(*list_word_counts)\n",
        "plt.figure(figsize=(10,5))\n",
        "plt.stem(words,counts, use_line_collection = True)\n",
        "plt.xlabel('Words')\n",
        "plt.ylabel('Counts')\n",
        "plt.show()"
      ],
      "metadata": {
        "colab": {
          "base_uri": "https://localhost:8080/",
          "height": 443
        },
        "id": "Z87DQjzRHgv8",
        "outputId": "7383f352-cc79-4136-df3b-1bd782c0dd99"
      },
      "execution_count": null,
      "outputs": [
        {
          "output_type": "display_data",
          "data": {
            "text/plain": [
              "<Figure size 720x360 with 1 Axes>"
            ],
            "image/svg+xml": "<?xml version=\"1.0\" encoding=\"utf-8\" standalone=\"no\"?>\n<!DOCTYPE svg PUBLIC \"-//W3C//DTD SVG 1.1//EN\"\n  \"http://www.w3.org/Graphics/SVG/1.1/DTD/svg11.dtd\">\n<svg xmlns:xlink=\"http://www.w3.org/1999/xlink\" width=\"614.06527pt\" height=\"316.55625pt\" viewBox=\"0 0 614.06527 316.55625\" xmlns=\"http://www.w3.org/2000/svg\" version=\"1.1\">\n <metadata>\n  <rdf:RDF xmlns:dc=\"http://purl.org/dc/elements/1.1/\" xmlns:cc=\"http://creativecommons.org/ns#\" xmlns:rdf=\"http://www.w3.org/1999/02/22-rdf-syntax-ns#\">\n   <cc:Work>\n    <dc:type rdf:resource=\"http://purl.org/dc/dcmitype/StillImage\"/>\n    <dc:date>2023-03-01T18:20:10.898996</dc:date>\n    <dc:format>image/svg+xml</dc:format>\n    <dc:creator>\n     <cc:Agent>\n      <dc:title>Matplotlib v3.5.3, https://matplotlib.org/</dc:title>\n     </cc:Agent>\n    </dc:creator>\n   </cc:Work>\n  </rdf:RDF>\n </metadata>\n <defs>\n  <style type=\"text/css\">*{stroke-linejoin: round; stroke-linecap: butt}</style>\n </defs>\n <g id=\"figure_1\">\n  <g id=\"patch_1\">\n   <path d=\"M 0 316.55625 \nL 614.06527 316.55625 \nL 614.06527 0 \nL 0 0 \nL 0 316.55625 \nz\n\" style=\"fill: none\"/>\n  </g>\n  <g id=\"axes_1\">\n   <g id=\"patch_2\">\n    <path d=\"M 43.78125 279 \nL 601.78125 279 \nL 601.78125 7.2 \nL 43.78125 7.2 \nz\n\" style=\"fill: #ffffff\"/>\n   </g>\n   <g id=\"matplotlib.axis_1\">\n    <g id=\"xtick_1\">\n     <g id=\"line2d_1\">\n      <defs>\n       <path id=\"me14a35aa47\" d=\"M 0 0 \nL 0 3.5 \n\" style=\"stroke: #000000; stroke-width: 0.8\"/>\n      </defs>\n      <g>\n       <use xlink:href=\"#me14a35aa47\" x=\"69.144886\" y=\"279\" style=\"stroke: #000000; stroke-width: 0.8\"/>\n      </g>\n     </g>\n     <g id=\"text_1\">\n      <!-- descubre -->\n      <g transform=\"translate(46.177699 293.598437)scale(0.1 -0.1)\">\n       <defs>\n        <path id=\"DejaVuSans-64\" d=\"M 2906 2969 \nL 2906 4863 \nL 3481 4863 \nL 3481 0 \nL 2906 0 \nL 2906 525 \nQ 2725 213 2448 61 \nQ 2172 -91 1784 -91 \nQ 1150 -91 751 415 \nQ 353 922 353 1747 \nQ 353 2572 751 3078 \nQ 1150 3584 1784 3584 \nQ 2172 3584 2448 3432 \nQ 2725 3281 2906 2969 \nz\nM 947 1747 \nQ 947 1113 1208 752 \nQ 1469 391 1925 391 \nQ 2381 391 2643 752 \nQ 2906 1113 2906 1747 \nQ 2906 2381 2643 2742 \nQ 2381 3103 1925 3103 \nQ 1469 3103 1208 2742 \nQ 947 2381 947 1747 \nz\n\" transform=\"scale(0.015625)\"/>\n        <path id=\"DejaVuSans-65\" d=\"M 3597 1894 \nL 3597 1613 \nL 953 1613 \nQ 991 1019 1311 708 \nQ 1631 397 2203 397 \nQ 2534 397 2845 478 \nQ 3156 559 3463 722 \nL 3463 178 \nQ 3153 47 2828 -22 \nQ 2503 -91 2169 -91 \nQ 1331 -91 842 396 \nQ 353 884 353 1716 \nQ 353 2575 817 3079 \nQ 1281 3584 2069 3584 \nQ 2775 3584 3186 3129 \nQ 3597 2675 3597 1894 \nz\nM 3022 2063 \nQ 3016 2534 2758 2815 \nQ 2500 3097 2075 3097 \nQ 1594 3097 1305 2825 \nQ 1016 2553 972 2059 \nL 3022 2063 \nz\n\" transform=\"scale(0.015625)\"/>\n        <path id=\"DejaVuSans-73\" d=\"M 2834 3397 \nL 2834 2853 \nQ 2591 2978 2328 3040 \nQ 2066 3103 1784 3103 \nQ 1356 3103 1142 2972 \nQ 928 2841 928 2578 \nQ 928 2378 1081 2264 \nQ 1234 2150 1697 2047 \nL 1894 2003 \nQ 2506 1872 2764 1633 \nQ 3022 1394 3022 966 \nQ 3022 478 2636 193 \nQ 2250 -91 1575 -91 \nQ 1294 -91 989 -36 \nQ 684 19 347 128 \nL 347 722 \nQ 666 556 975 473 \nQ 1284 391 1588 391 \nQ 1994 391 2212 530 \nQ 2431 669 2431 922 \nQ 2431 1156 2273 1281 \nQ 2116 1406 1581 1522 \nL 1381 1569 \nQ 847 1681 609 1914 \nQ 372 2147 372 2553 \nQ 372 3047 722 3315 \nQ 1072 3584 1716 3584 \nQ 2034 3584 2315 3537 \nQ 2597 3491 2834 3397 \nz\n\" transform=\"scale(0.015625)\"/>\n        <path id=\"DejaVuSans-63\" d=\"M 3122 3366 \nL 3122 2828 \nQ 2878 2963 2633 3030 \nQ 2388 3097 2138 3097 \nQ 1578 3097 1268 2742 \nQ 959 2388 959 1747 \nQ 959 1106 1268 751 \nQ 1578 397 2138 397 \nQ 2388 397 2633 464 \nQ 2878 531 3122 666 \nL 3122 134 \nQ 2881 22 2623 -34 \nQ 2366 -91 2075 -91 \nQ 1284 -91 818 406 \nQ 353 903 353 1747 \nQ 353 2603 823 3093 \nQ 1294 3584 2113 3584 \nQ 2378 3584 2631 3529 \nQ 2884 3475 3122 3366 \nz\n\" transform=\"scale(0.015625)\"/>\n        <path id=\"DejaVuSans-75\" d=\"M 544 1381 \nL 544 3500 \nL 1119 3500 \nL 1119 1403 \nQ 1119 906 1312 657 \nQ 1506 409 1894 409 \nQ 2359 409 2629 706 \nQ 2900 1003 2900 1516 \nL 2900 3500 \nL 3475 3500 \nL 3475 0 \nL 2900 0 \nL 2900 538 \nQ 2691 219 2414 64 \nQ 2138 -91 1772 -91 \nQ 1169 -91 856 284 \nQ 544 659 544 1381 \nz\nM 1991 3584 \nL 1991 3584 \nz\n\" transform=\"scale(0.015625)\"/>\n        <path id=\"DejaVuSans-62\" d=\"M 3116 1747 \nQ 3116 2381 2855 2742 \nQ 2594 3103 2138 3103 \nQ 1681 3103 1420 2742 \nQ 1159 2381 1159 1747 \nQ 1159 1113 1420 752 \nQ 1681 391 2138 391 \nQ 2594 391 2855 752 \nQ 3116 1113 3116 1747 \nz\nM 1159 2969 \nQ 1341 3281 1617 3432 \nQ 1894 3584 2278 3584 \nQ 2916 3584 3314 3078 \nQ 3713 2572 3713 1747 \nQ 3713 922 3314 415 \nQ 2916 -91 2278 -91 \nQ 1894 -91 1617 61 \nQ 1341 213 1159 525 \nL 1159 0 \nL 581 0 \nL 581 4863 \nL 1159 4863 \nL 1159 2969 \nz\n\" transform=\"scale(0.015625)\"/>\n        <path id=\"DejaVuSans-72\" d=\"M 2631 2963 \nQ 2534 3019 2420 3045 \nQ 2306 3072 2169 3072 \nQ 1681 3072 1420 2755 \nQ 1159 2438 1159 1844 \nL 1159 0 \nL 581 0 \nL 581 3500 \nL 1159 3500 \nL 1159 2956 \nQ 1341 3275 1631 3429 \nQ 1922 3584 2338 3584 \nQ 2397 3584 2469 3576 \nQ 2541 3569 2628 3553 \nL 2631 2963 \nz\n\" transform=\"scale(0.015625)\"/>\n       </defs>\n       <use xlink:href=\"#DejaVuSans-64\"/>\n       <use xlink:href=\"#DejaVuSans-65\" x=\"63.476562\"/>\n       <use xlink:href=\"#DejaVuSans-73\" x=\"125\"/>\n       <use xlink:href=\"#DejaVuSans-63\" x=\"177.099609\"/>\n       <use xlink:href=\"#DejaVuSans-75\" x=\"232.080078\"/>\n       <use xlink:href=\"#DejaVuSans-62\" x=\"295.458984\"/>\n       <use xlink:href=\"#DejaVuSans-72\" x=\"358.935547\"/>\n       <use xlink:href=\"#DejaVuSans-65\" x=\"397.798828\"/>\n      </g>\n     </g>\n    </g>\n    <g id=\"xtick_2\">\n     <g id=\"line2d_2\">\n      <g>\n       <use xlink:href=\"#me14a35aa47\" x=\"125.508523\" y=\"279\" style=\"stroke: #000000; stroke-width: 0.8\"/>\n      </g>\n     </g>\n     <g id=\"text_2\">\n      <!-- melia -->\n      <g transform=\"translate(111.71946 293.598437)scale(0.1 -0.1)\">\n       <defs>\n        <path id=\"DejaVuSans-6d\" d=\"M 3328 2828 \nQ 3544 3216 3844 3400 \nQ 4144 3584 4550 3584 \nQ 5097 3584 5394 3201 \nQ 5691 2819 5691 2113 \nL 5691 0 \nL 5113 0 \nL 5113 2094 \nQ 5113 2597 4934 2840 \nQ 4756 3084 4391 3084 \nQ 3944 3084 3684 2787 \nQ 3425 2491 3425 1978 \nL 3425 0 \nL 2847 0 \nL 2847 2094 \nQ 2847 2600 2669 2842 \nQ 2491 3084 2119 3084 \nQ 1678 3084 1418 2786 \nQ 1159 2488 1159 1978 \nL 1159 0 \nL 581 0 \nL 581 3500 \nL 1159 3500 \nL 1159 2956 \nQ 1356 3278 1631 3431 \nQ 1906 3584 2284 3584 \nQ 2666 3584 2933 3390 \nQ 3200 3197 3328 2828 \nz\n\" transform=\"scale(0.015625)\"/>\n        <path id=\"DejaVuSans-6c\" d=\"M 603 4863 \nL 1178 4863 \nL 1178 0 \nL 603 0 \nL 603 4863 \nz\n\" transform=\"scale(0.015625)\"/>\n        <path id=\"DejaVuSans-69\" d=\"M 603 3500 \nL 1178 3500 \nL 1178 0 \nL 603 0 \nL 603 3500 \nz\nM 603 4863 \nL 1178 4863 \nL 1178 4134 \nL 603 4134 \nL 603 4863 \nz\n\" transform=\"scale(0.015625)\"/>\n        <path id=\"DejaVuSans-61\" d=\"M 2194 1759 \nQ 1497 1759 1228 1600 \nQ 959 1441 959 1056 \nQ 959 750 1161 570 \nQ 1363 391 1709 391 \nQ 2188 391 2477 730 \nQ 2766 1069 2766 1631 \nL 2766 1759 \nL 2194 1759 \nz\nM 3341 1997 \nL 3341 0 \nL 2766 0 \nL 2766 531 \nQ 2569 213 2275 61 \nQ 1981 -91 1556 -91 \nQ 1019 -91 701 211 \nQ 384 513 384 1019 \nQ 384 1609 779 1909 \nQ 1175 2209 1959 2209 \nL 2766 2209 \nL 2766 2266 \nQ 2766 2663 2505 2880 \nQ 2244 3097 1772 3097 \nQ 1472 3097 1187 3025 \nQ 903 2953 641 2809 \nL 641 3341 \nQ 956 3463 1253 3523 \nQ 1550 3584 1831 3584 \nQ 2591 3584 2966 3190 \nQ 3341 2797 3341 1997 \nz\n\" transform=\"scale(0.015625)\"/>\n       </defs>\n       <use xlink:href=\"#DejaVuSans-6d\"/>\n       <use xlink:href=\"#DejaVuSans-65\" x=\"97.412109\"/>\n       <use xlink:href=\"#DejaVuSans-6c\" x=\"158.935547\"/>\n       <use xlink:href=\"#DejaVuSans-69\" x=\"186.71875\"/>\n       <use xlink:href=\"#DejaVuSans-61\" x=\"214.501953\"/>\n      </g>\n     </g>\n    </g>\n    <g id=\"xtick_3\">\n     <g id=\"line2d_3\">\n      <g>\n       <use xlink:href=\"#me14a35aa47\" x=\"181.872159\" y=\"279\" style=\"stroke: #000000; stroke-width: 0.8\"/>\n      </g>\n     </g>\n     <g id=\"text_3\">\n      <!-- musica -->\n      <g transform=\"translate(164.026065 293.598437)scale(0.1 -0.1)\">\n       <use xlink:href=\"#DejaVuSans-6d\"/>\n       <use xlink:href=\"#DejaVuSans-75\" x=\"97.412109\"/>\n       <use xlink:href=\"#DejaVuSans-73\" x=\"160.791016\"/>\n       <use xlink:href=\"#DejaVuSans-69\" x=\"212.890625\"/>\n       <use xlink:href=\"#DejaVuSans-63\" x=\"240.673828\"/>\n       <use xlink:href=\"#DejaVuSans-61\" x=\"295.654297\"/>\n      </g>\n     </g>\n    </g>\n    <g id=\"xtick_4\">\n     <g id=\"line2d_4\">\n      <g>\n       <use xlink:href=\"#me14a35aa47\" x=\"238.235795\" y=\"279\" style=\"stroke: #000000; stroke-width: 0.8\"/>\n      </g>\n     </g>\n     <g id=\"text_4\">\n      <!-- arte -->\n      <g transform=\"translate(228.079545 293.598437)scale(0.1 -0.1)\">\n       <defs>\n        <path id=\"DejaVuSans-74\" d=\"M 1172 4494 \nL 1172 3500 \nL 2356 3500 \nL 2356 3053 \nL 1172 3053 \nL 1172 1153 \nQ 1172 725 1289 603 \nQ 1406 481 1766 481 \nL 2356 481 \nL 2356 0 \nL 1766 0 \nQ 1100 0 847 248 \nQ 594 497 594 1153 \nL 594 3053 \nL 172 3053 \nL 172 3500 \nL 594 3500 \nL 594 4494 \nL 1172 4494 \nz\n\" transform=\"scale(0.015625)\"/>\n       </defs>\n       <use xlink:href=\"#DejaVuSans-61\"/>\n       <use xlink:href=\"#DejaVuSans-72\" x=\"61.279297\"/>\n       <use xlink:href=\"#DejaVuSans-74\" x=\"102.392578\"/>\n       <use xlink:href=\"#DejaVuSans-65\" x=\"141.601562\"/>\n      </g>\n     </g>\n    </g>\n    <g id=\"xtick_5\">\n     <g id=\"line2d_5\">\n      <g>\n       <use xlink:href=\"#me14a35aa47\" x=\"294.599432\" y=\"279\" style=\"stroke: #000000; stroke-width: 0.8\"/>\n      </g>\n     </g>\n     <g id=\"text_5\">\n      <!-- gran -->\n      <g transform=\"translate(283.136932 293.598437)scale(0.1 -0.1)\">\n       <defs>\n        <path id=\"DejaVuSans-67\" d=\"M 2906 1791 \nQ 2906 2416 2648 2759 \nQ 2391 3103 1925 3103 \nQ 1463 3103 1205 2759 \nQ 947 2416 947 1791 \nQ 947 1169 1205 825 \nQ 1463 481 1925 481 \nQ 2391 481 2648 825 \nQ 2906 1169 2906 1791 \nz\nM 3481 434 \nQ 3481 -459 3084 -895 \nQ 2688 -1331 1869 -1331 \nQ 1566 -1331 1297 -1286 \nQ 1028 -1241 775 -1147 \nL 775 -588 \nQ 1028 -725 1275 -790 \nQ 1522 -856 1778 -856 \nQ 2344 -856 2625 -561 \nQ 2906 -266 2906 331 \nL 2906 616 \nQ 2728 306 2450 153 \nQ 2172 0 1784 0 \nQ 1141 0 747 490 \nQ 353 981 353 1791 \nQ 353 2603 747 3093 \nQ 1141 3584 1784 3584 \nQ 2172 3584 2450 3431 \nQ 2728 3278 2906 2969 \nL 2906 3500 \nL 3481 3500 \nL 3481 434 \nz\n\" transform=\"scale(0.015625)\"/>\n        <path id=\"DejaVuSans-6e\" d=\"M 3513 2113 \nL 3513 0 \nL 2938 0 \nL 2938 2094 \nQ 2938 2591 2744 2837 \nQ 2550 3084 2163 3084 \nQ 1697 3084 1428 2787 \nQ 1159 2491 1159 1978 \nL 1159 0 \nL 581 0 \nL 581 3500 \nL 1159 3500 \nL 1159 2956 \nQ 1366 3272 1645 3428 \nQ 1925 3584 2291 3584 \nQ 2894 3584 3203 3211 \nQ 3513 2838 3513 2113 \nz\n\" transform=\"scale(0.015625)\"/>\n       </defs>\n       <use xlink:href=\"#DejaVuSans-67\"/>\n       <use xlink:href=\"#DejaVuSans-72\" x=\"63.476562\"/>\n       <use xlink:href=\"#DejaVuSans-61\" x=\"104.589844\"/>\n       <use xlink:href=\"#DejaVuSans-6e\" x=\"165.869141\"/>\n      </g>\n     </g>\n    </g>\n    <g id=\"xtick_6\">\n     <g id=\"line2d_6\">\n      <g>\n       <use xlink:href=\"#me14a35aa47\" x=\"350.963068\" y=\"279\" style=\"stroke: #000000; stroke-width: 0.8\"/>\n      </g>\n     </g>\n     <g id=\"text_6\">\n      <!-- hotel -->\n      <g transform=\"translate(338.309162 293.598437)scale(0.1 -0.1)\">\n       <defs>\n        <path id=\"DejaVuSans-68\" d=\"M 3513 2113 \nL 3513 0 \nL 2938 0 \nL 2938 2094 \nQ 2938 2591 2744 2837 \nQ 2550 3084 2163 3084 \nQ 1697 3084 1428 2787 \nQ 1159 2491 1159 1978 \nL 1159 0 \nL 581 0 \nL 581 4863 \nL 1159 4863 \nL 1159 2956 \nQ 1366 3272 1645 3428 \nQ 1925 3584 2291 3584 \nQ 2894 3584 3203 3211 \nQ 3513 2838 3513 2113 \nz\n\" transform=\"scale(0.015625)\"/>\n        <path id=\"DejaVuSans-6f\" d=\"M 1959 3097 \nQ 1497 3097 1228 2736 \nQ 959 2375 959 1747 \nQ 959 1119 1226 758 \nQ 1494 397 1959 397 \nQ 2419 397 2687 759 \nQ 2956 1122 2956 1747 \nQ 2956 2369 2687 2733 \nQ 2419 3097 1959 3097 \nz\nM 1959 3584 \nQ 2709 3584 3137 3096 \nQ 3566 2609 3566 1747 \nQ 3566 888 3137 398 \nQ 2709 -91 1959 -91 \nQ 1206 -91 779 398 \nQ 353 888 353 1747 \nQ 353 2609 779 3096 \nQ 1206 3584 1959 3584 \nz\n\" transform=\"scale(0.015625)\"/>\n       </defs>\n       <use xlink:href=\"#DejaVuSans-68\"/>\n       <use xlink:href=\"#DejaVuSans-6f\" x=\"63.378906\"/>\n       <use xlink:href=\"#DejaVuSans-74\" x=\"124.560547\"/>\n       <use xlink:href=\"#DejaVuSans-65\" x=\"163.769531\"/>\n       <use xlink:href=\"#DejaVuSans-6c\" x=\"225.292969\"/>\n      </g>\n     </g>\n    </g>\n    <g id=\"xtick_7\">\n     <g id=\"line2d_7\">\n      <g>\n       <use xlink:href=\"#me14a35aa47\" x=\"407.326705\" y=\"279\" style=\"stroke: #000000; stroke-width: 0.8\"/>\n      </g>\n     </g>\n     <g id=\"text_7\">\n      <!-- directo -->\n      <g transform=\"translate(389.975142 293.598437)scale(0.1 -0.1)\">\n       <use xlink:href=\"#DejaVuSans-64\"/>\n       <use xlink:href=\"#DejaVuSans-69\" x=\"63.476562\"/>\n       <use xlink:href=\"#DejaVuSans-72\" x=\"91.259766\"/>\n       <use xlink:href=\"#DejaVuSans-65\" x=\"130.123047\"/>\n       <use xlink:href=\"#DejaVuSans-63\" x=\"191.646484\"/>\n       <use xlink:href=\"#DejaVuSans-74\" x=\"246.626953\"/>\n       <use xlink:href=\"#DejaVuSans-6f\" x=\"285.835938\"/>\n      </g>\n     </g>\n    </g>\n    <g id=\"xtick_8\">\n     <g id=\"line2d_8\">\n      <g>\n       <use xlink:href=\"#me14a35aa47\" x=\"463.690341\" y=\"279\" style=\"stroke: #000000; stroke-width: 0.8\"/>\n      </g>\n     </g>\n     <g id=\"text_8\">\n      <!-- noche -->\n      <g transform=\"translate(448.467685 293.598437)scale(0.1 -0.1)\">\n       <use xlink:href=\"#DejaVuSans-6e\"/>\n       <use xlink:href=\"#DejaVuSans-6f\" x=\"63.378906\"/>\n       <use xlink:href=\"#DejaVuSans-63\" x=\"124.560547\"/>\n       <use xlink:href=\"#DejaVuSans-68\" x=\"179.541016\"/>\n       <use xlink:href=\"#DejaVuSans-65\" x=\"242.919922\"/>\n      </g>\n     </g>\n    </g>\n    <g id=\"xtick_9\">\n     <g id=\"line2d_9\">\n      <g>\n       <use xlink:href=\"#me14a35aa47\" x=\"520.053977\" y=\"279\" style=\"stroke: #000000; stroke-width: 0.8\"/>\n      </g>\n     </g>\n     <g id=\"text_9\">\n      <!-- ofrece -->\n      <g transform=\"translate(504.389134 293.598437)scale(0.1 -0.1)\">\n       <defs>\n        <path id=\"DejaVuSans-66\" d=\"M 2375 4863 \nL 2375 4384 \nL 1825 4384 \nQ 1516 4384 1395 4259 \nQ 1275 4134 1275 3809 \nL 1275 3500 \nL 2222 3500 \nL 2222 3053 \nL 1275 3053 \nL 1275 0 \nL 697 0 \nL 697 3053 \nL 147 3053 \nL 147 3500 \nL 697 3500 \nL 697 3744 \nQ 697 4328 969 4595 \nQ 1241 4863 1831 4863 \nL 2375 4863 \nz\n\" transform=\"scale(0.015625)\"/>\n       </defs>\n       <use xlink:href=\"#DejaVuSans-6f\"/>\n       <use xlink:href=\"#DejaVuSans-66\" x=\"61.181641\"/>\n       <use xlink:href=\"#DejaVuSans-72\" x=\"96.386719\"/>\n       <use xlink:href=\"#DejaVuSans-65\" x=\"135.25\"/>\n       <use xlink:href=\"#DejaVuSans-63\" x=\"196.773438\"/>\n       <use xlink:href=\"#DejaVuSans-65\" x=\"251.753906\"/>\n      </g>\n     </g>\n    </g>\n    <g id=\"xtick_10\">\n     <g id=\"line2d_10\">\n      <g>\n       <use xlink:href=\"#me14a35aa47\" x=\"576.417614\" y=\"279\" style=\"stroke: #000000; stroke-width: 0.8\"/>\n      </g>\n     </g>\n     <g id=\"text_10\">\n      <!-- oportunidad -->\n      <g transform=\"translate(545.969957 293.598437)scale(0.1 -0.1)\">\n       <defs>\n        <path id=\"DejaVuSans-70\" d=\"M 1159 525 \nL 1159 -1331 \nL 581 -1331 \nL 581 3500 \nL 1159 3500 \nL 1159 2969 \nQ 1341 3281 1617 3432 \nQ 1894 3584 2278 3584 \nQ 2916 3584 3314 3078 \nQ 3713 2572 3713 1747 \nQ 3713 922 3314 415 \nQ 2916 -91 2278 -91 \nQ 1894 -91 1617 61 \nQ 1341 213 1159 525 \nz\nM 3116 1747 \nQ 3116 2381 2855 2742 \nQ 2594 3103 2138 3103 \nQ 1681 3103 1420 2742 \nQ 1159 2381 1159 1747 \nQ 1159 1113 1420 752 \nQ 1681 391 2138 391 \nQ 2594 391 2855 752 \nQ 3116 1113 3116 1747 \nz\n\" transform=\"scale(0.015625)\"/>\n       </defs>\n       <use xlink:href=\"#DejaVuSans-6f\"/>\n       <use xlink:href=\"#DejaVuSans-70\" x=\"61.181641\"/>\n       <use xlink:href=\"#DejaVuSans-6f\" x=\"124.658203\"/>\n       <use xlink:href=\"#DejaVuSans-72\" x=\"185.839844\"/>\n       <use xlink:href=\"#DejaVuSans-74\" x=\"226.953125\"/>\n       <use xlink:href=\"#DejaVuSans-75\" x=\"266.162109\"/>\n       <use xlink:href=\"#DejaVuSans-6e\" x=\"329.541016\"/>\n       <use xlink:href=\"#DejaVuSans-69\" x=\"392.919922\"/>\n       <use xlink:href=\"#DejaVuSans-64\" x=\"420.703125\"/>\n       <use xlink:href=\"#DejaVuSans-61\" x=\"484.179688\"/>\n       <use xlink:href=\"#DejaVuSans-64\" x=\"545.458984\"/>\n      </g>\n     </g>\n    </g>\n    <g id=\"text_11\">\n     <!-- Words -->\n     <g transform=\"translate(307.325 307.276562)scale(0.1 -0.1)\">\n      <defs>\n       <path id=\"DejaVuSans-57\" d=\"M 213 4666 \nL 850 4666 \nL 1831 722 \nL 2809 4666 \nL 3519 4666 \nL 4500 722 \nL 5478 4666 \nL 6119 4666 \nL 4947 0 \nL 4153 0 \nL 3169 4050 \nL 2175 0 \nL 1381 0 \nL 213 4666 \nz\n\" transform=\"scale(0.015625)\"/>\n      </defs>\n      <use xlink:href=\"#DejaVuSans-57\"/>\n      <use xlink:href=\"#DejaVuSans-6f\" x=\"93.001953\"/>\n      <use xlink:href=\"#DejaVuSans-72\" x=\"154.183594\"/>\n      <use xlink:href=\"#DejaVuSans-64\" x=\"193.546875\"/>\n      <use xlink:href=\"#DejaVuSans-73\" x=\"257.023438\"/>\n     </g>\n    </g>\n   </g>\n   <g id=\"matplotlib.axis_2\">\n    <g id=\"ytick_1\">\n     <g id=\"line2d_11\">\n      <defs>\n       <path id=\"m14dece00cb\" d=\"M 0 0 \nL -3.5 0 \n\" style=\"stroke: #000000; stroke-width: 0.8\"/>\n      </defs>\n      <g>\n       <use xlink:href=\"#m14dece00cb\" x=\"43.78125\" y=\"266.645455\" style=\"stroke: #000000; stroke-width: 0.8\"/>\n      </g>\n     </g>\n     <g id=\"text_12\">\n      <!-- 0.0 -->\n      <g transform=\"translate(20.878125 270.444673)scale(0.1 -0.1)\">\n       <defs>\n        <path id=\"DejaVuSans-30\" d=\"M 2034 4250 \nQ 1547 4250 1301 3770 \nQ 1056 3291 1056 2328 \nQ 1056 1369 1301 889 \nQ 1547 409 2034 409 \nQ 2525 409 2770 889 \nQ 3016 1369 3016 2328 \nQ 3016 3291 2770 3770 \nQ 2525 4250 2034 4250 \nz\nM 2034 4750 \nQ 2819 4750 3233 4129 \nQ 3647 3509 3647 2328 \nQ 3647 1150 3233 529 \nQ 2819 -91 2034 -91 \nQ 1250 -91 836 529 \nQ 422 1150 422 2328 \nQ 422 3509 836 4129 \nQ 1250 4750 2034 4750 \nz\n\" transform=\"scale(0.015625)\"/>\n        <path id=\"DejaVuSans-2e\" d=\"M 684 794 \nL 1344 794 \nL 1344 0 \nL 684 0 \nL 684 794 \nz\n\" transform=\"scale(0.015625)\"/>\n       </defs>\n       <use xlink:href=\"#DejaVuSans-30\"/>\n       <use xlink:href=\"#DejaVuSans-2e\" x=\"63.623047\"/>\n       <use xlink:href=\"#DejaVuSans-30\" x=\"95.410156\"/>\n      </g>\n     </g>\n    </g>\n    <g id=\"ytick_2\">\n     <g id=\"line2d_12\">\n      <g>\n       <use xlink:href=\"#m14dece00cb\" x=\"43.78125\" y=\"217.227273\" style=\"stroke: #000000; stroke-width: 0.8\"/>\n      </g>\n     </g>\n     <g id=\"text_13\">\n      <!-- 0.2 -->\n      <g transform=\"translate(20.878125 221.026491)scale(0.1 -0.1)\">\n       <defs>\n        <path id=\"DejaVuSans-32\" d=\"M 1228 531 \nL 3431 531 \nL 3431 0 \nL 469 0 \nL 469 531 \nQ 828 903 1448 1529 \nQ 2069 2156 2228 2338 \nQ 2531 2678 2651 2914 \nQ 2772 3150 2772 3378 \nQ 2772 3750 2511 3984 \nQ 2250 4219 1831 4219 \nQ 1534 4219 1204 4116 \nQ 875 4013 500 3803 \nL 500 4441 \nQ 881 4594 1212 4672 \nQ 1544 4750 1819 4750 \nQ 2544 4750 2975 4387 \nQ 3406 4025 3406 3419 \nQ 3406 3131 3298 2873 \nQ 3191 2616 2906 2266 \nQ 2828 2175 2409 1742 \nQ 1991 1309 1228 531 \nz\n\" transform=\"scale(0.015625)\"/>\n       </defs>\n       <use xlink:href=\"#DejaVuSans-30\"/>\n       <use xlink:href=\"#DejaVuSans-2e\" x=\"63.623047\"/>\n       <use xlink:href=\"#DejaVuSans-32\" x=\"95.410156\"/>\n      </g>\n     </g>\n    </g>\n    <g id=\"ytick_3\">\n     <g id=\"line2d_13\">\n      <g>\n       <use xlink:href=\"#m14dece00cb\" x=\"43.78125\" y=\"167.809091\" style=\"stroke: #000000; stroke-width: 0.8\"/>\n      </g>\n     </g>\n     <g id=\"text_14\">\n      <!-- 0.4 -->\n      <g transform=\"translate(20.878125 171.60831)scale(0.1 -0.1)\">\n       <defs>\n        <path id=\"DejaVuSans-34\" d=\"M 2419 4116 \nL 825 1625 \nL 2419 1625 \nL 2419 4116 \nz\nM 2253 4666 \nL 3047 4666 \nL 3047 1625 \nL 3713 1625 \nL 3713 1100 \nL 3047 1100 \nL 3047 0 \nL 2419 0 \nL 2419 1100 \nL 313 1100 \nL 313 1709 \nL 2253 4666 \nz\n\" transform=\"scale(0.015625)\"/>\n       </defs>\n       <use xlink:href=\"#DejaVuSans-30\"/>\n       <use xlink:href=\"#DejaVuSans-2e\" x=\"63.623047\"/>\n       <use xlink:href=\"#DejaVuSans-34\" x=\"95.410156\"/>\n      </g>\n     </g>\n    </g>\n    <g id=\"ytick_4\">\n     <g id=\"line2d_14\">\n      <g>\n       <use xlink:href=\"#m14dece00cb\" x=\"43.78125\" y=\"118.390909\" style=\"stroke: #000000; stroke-width: 0.8\"/>\n      </g>\n     </g>\n     <g id=\"text_15\">\n      <!-- 0.6 -->\n      <g transform=\"translate(20.878125 122.190128)scale(0.1 -0.1)\">\n       <defs>\n        <path id=\"DejaVuSans-36\" d=\"M 2113 2584 \nQ 1688 2584 1439 2293 \nQ 1191 2003 1191 1497 \nQ 1191 994 1439 701 \nQ 1688 409 2113 409 \nQ 2538 409 2786 701 \nQ 3034 994 3034 1497 \nQ 3034 2003 2786 2293 \nQ 2538 2584 2113 2584 \nz\nM 3366 4563 \nL 3366 3988 \nQ 3128 4100 2886 4159 \nQ 2644 4219 2406 4219 \nQ 1781 4219 1451 3797 \nQ 1122 3375 1075 2522 \nQ 1259 2794 1537 2939 \nQ 1816 3084 2150 3084 \nQ 2853 3084 3261 2657 \nQ 3669 2231 3669 1497 \nQ 3669 778 3244 343 \nQ 2819 -91 2113 -91 \nQ 1303 -91 875 529 \nQ 447 1150 447 2328 \nQ 447 3434 972 4092 \nQ 1497 4750 2381 4750 \nQ 2619 4750 2861 4703 \nQ 3103 4656 3366 4563 \nz\n\" transform=\"scale(0.015625)\"/>\n       </defs>\n       <use xlink:href=\"#DejaVuSans-30\"/>\n       <use xlink:href=\"#DejaVuSans-2e\" x=\"63.623047\"/>\n       <use xlink:href=\"#DejaVuSans-36\" x=\"95.410156\"/>\n      </g>\n     </g>\n    </g>\n    <g id=\"ytick_5\">\n     <g id=\"line2d_15\">\n      <g>\n       <use xlink:href=\"#m14dece00cb\" x=\"43.78125\" y=\"68.972727\" style=\"stroke: #000000; stroke-width: 0.8\"/>\n      </g>\n     </g>\n     <g id=\"text_16\">\n      <!-- 0.8 -->\n      <g transform=\"translate(20.878125 72.771946)scale(0.1 -0.1)\">\n       <defs>\n        <path id=\"DejaVuSans-38\" d=\"M 2034 2216 \nQ 1584 2216 1326 1975 \nQ 1069 1734 1069 1313 \nQ 1069 891 1326 650 \nQ 1584 409 2034 409 \nQ 2484 409 2743 651 \nQ 3003 894 3003 1313 \nQ 3003 1734 2745 1975 \nQ 2488 2216 2034 2216 \nz\nM 1403 2484 \nQ 997 2584 770 2862 \nQ 544 3141 544 3541 \nQ 544 4100 942 4425 \nQ 1341 4750 2034 4750 \nQ 2731 4750 3128 4425 \nQ 3525 4100 3525 3541 \nQ 3525 3141 3298 2862 \nQ 3072 2584 2669 2484 \nQ 3125 2378 3379 2068 \nQ 3634 1759 3634 1313 \nQ 3634 634 3220 271 \nQ 2806 -91 2034 -91 \nQ 1263 -91 848 271 \nQ 434 634 434 1313 \nQ 434 1759 690 2068 \nQ 947 2378 1403 2484 \nz\nM 1172 3481 \nQ 1172 3119 1398 2916 \nQ 1625 2713 2034 2713 \nQ 2441 2713 2670 2916 \nQ 2900 3119 2900 3481 \nQ 2900 3844 2670 4047 \nQ 2441 4250 2034 4250 \nQ 1625 4250 1398 4047 \nQ 1172 3844 1172 3481 \nz\n\" transform=\"scale(0.015625)\"/>\n       </defs>\n       <use xlink:href=\"#DejaVuSans-30\"/>\n       <use xlink:href=\"#DejaVuSans-2e\" x=\"63.623047\"/>\n       <use xlink:href=\"#DejaVuSans-38\" x=\"95.410156\"/>\n      </g>\n     </g>\n    </g>\n    <g id=\"ytick_6\">\n     <g id=\"line2d_16\">\n      <g>\n       <use xlink:href=\"#m14dece00cb\" x=\"43.78125\" y=\"19.554545\" style=\"stroke: #000000; stroke-width: 0.8\"/>\n      </g>\n     </g>\n     <g id=\"text_17\">\n      <!-- 1.0 -->\n      <g transform=\"translate(20.878125 23.353764)scale(0.1 -0.1)\">\n       <defs>\n        <path id=\"DejaVuSans-31\" d=\"M 794 531 \nL 1825 531 \nL 1825 4091 \nL 703 3866 \nL 703 4441 \nL 1819 4666 \nL 2450 4666 \nL 2450 531 \nL 3481 531 \nL 3481 0 \nL 794 0 \nL 794 531 \nz\n\" transform=\"scale(0.015625)\"/>\n       </defs>\n       <use xlink:href=\"#DejaVuSans-31\"/>\n       <use xlink:href=\"#DejaVuSans-2e\" x=\"63.623047\"/>\n       <use xlink:href=\"#DejaVuSans-30\" x=\"95.410156\"/>\n      </g>\n     </g>\n    </g>\n    <g id=\"text_18\">\n     <!-- Counts -->\n     <g transform=\"translate(14.798438 160.553125)rotate(-90)scale(0.1 -0.1)\">\n      <defs>\n       <path id=\"DejaVuSans-43\" d=\"M 4122 4306 \nL 4122 3641 \nQ 3803 3938 3442 4084 \nQ 3081 4231 2675 4231 \nQ 1875 4231 1450 3742 \nQ 1025 3253 1025 2328 \nQ 1025 1406 1450 917 \nQ 1875 428 2675 428 \nQ 3081 428 3442 575 \nQ 3803 722 4122 1019 \nL 4122 359 \nQ 3791 134 3420 21 \nQ 3050 -91 2638 -91 \nQ 1578 -91 968 557 \nQ 359 1206 359 2328 \nQ 359 3453 968 4101 \nQ 1578 4750 2638 4750 \nQ 3056 4750 3426 4639 \nQ 3797 4528 4122 4306 \nz\n\" transform=\"scale(0.015625)\"/>\n      </defs>\n      <use xlink:href=\"#DejaVuSans-43\"/>\n      <use xlink:href=\"#DejaVuSans-6f\" x=\"69.824219\"/>\n      <use xlink:href=\"#DejaVuSans-75\" x=\"131.005859\"/>\n      <use xlink:href=\"#DejaVuSans-6e\" x=\"194.384766\"/>\n      <use xlink:href=\"#DejaVuSans-74\" x=\"257.763672\"/>\n      <use xlink:href=\"#DejaVuSans-73\" x=\"296.972656\"/>\n     </g>\n    </g>\n   </g>\n   <g id=\"LineCollection_1\">\n    <path d=\"M 69.144886 266.645455 \nL 69.144886 19.554545 \n\" clip-path=\"url(#p0a10cdf0ee)\" style=\"fill: none; stroke: #1f77b4; stroke-width: 1.5\"/>\n    <path d=\"M 125.508523 266.645455 \nL 125.508523 19.554545 \n\" clip-path=\"url(#p0a10cdf0ee)\" style=\"fill: none; stroke: #1f77b4; stroke-width: 1.5\"/>\n    <path d=\"M 181.872159 266.645455 \nL 181.872159 19.554545 \n\" clip-path=\"url(#p0a10cdf0ee)\" style=\"fill: none; stroke: #1f77b4; stroke-width: 1.5\"/>\n    <path d=\"M 238.235795 266.645455 \nL 238.235795 19.554545 \n\" clip-path=\"url(#p0a10cdf0ee)\" style=\"fill: none; stroke: #1f77b4; stroke-width: 1.5\"/>\n    <path d=\"M 294.599432 266.645455 \nL 294.599432 19.554545 \n\" clip-path=\"url(#p0a10cdf0ee)\" style=\"fill: none; stroke: #1f77b4; stroke-width: 1.5\"/>\n    <path d=\"M 350.963068 266.645455 \nL 350.963068 19.554545 \n\" clip-path=\"url(#p0a10cdf0ee)\" style=\"fill: none; stroke: #1f77b4; stroke-width: 1.5\"/>\n    <path d=\"M 407.326705 266.645455 \nL 407.326705 19.554545 \n\" clip-path=\"url(#p0a10cdf0ee)\" style=\"fill: none; stroke: #1f77b4; stroke-width: 1.5\"/>\n    <path d=\"M 463.690341 266.645455 \nL 463.690341 19.554545 \n\" clip-path=\"url(#p0a10cdf0ee)\" style=\"fill: none; stroke: #1f77b4; stroke-width: 1.5\"/>\n    <path d=\"M 520.053977 266.645455 \nL 520.053977 19.554545 \n\" clip-path=\"url(#p0a10cdf0ee)\" style=\"fill: none; stroke: #1f77b4; stroke-width: 1.5\"/>\n    <path d=\"M 576.417614 266.645455 \nL 576.417614 19.554545 \n\" clip-path=\"url(#p0a10cdf0ee)\" style=\"fill: none; stroke: #1f77b4; stroke-width: 1.5\"/>\n   </g>\n   <g id=\"line2d_17\">\n    <defs>\n     <path id=\"m2702f02755\" d=\"M 0 3 \nC 0.795609 3 1.55874 2.683901 2.12132 2.12132 \nC 2.683901 1.55874 3 0.795609 3 0 \nC 3 -0.795609 2.683901 -1.55874 2.12132 -2.12132 \nC 1.55874 -2.683901 0.795609 -3 0 -3 \nC -0.795609 -3 -1.55874 -2.683901 -2.12132 -2.12132 \nC -2.683901 -1.55874 -3 -0.795609 -3 0 \nC -3 0.795609 -2.683901 1.55874 -2.12132 2.12132 \nC -1.55874 2.683901 -0.795609 3 0 3 \nz\n\" style=\"stroke: #1f77b4\"/>\n    </defs>\n    <g clip-path=\"url(#p0a10cdf0ee)\">\n     <use xlink:href=\"#m2702f02755\" x=\"69.144886\" y=\"19.554545\" style=\"fill: #1f77b4; stroke: #1f77b4\"/>\n     <use xlink:href=\"#m2702f02755\" x=\"125.508523\" y=\"19.554545\" style=\"fill: #1f77b4; stroke: #1f77b4\"/>\n     <use xlink:href=\"#m2702f02755\" x=\"181.872159\" y=\"19.554545\" style=\"fill: #1f77b4; stroke: #1f77b4\"/>\n     <use xlink:href=\"#m2702f02755\" x=\"238.235795\" y=\"19.554545\" style=\"fill: #1f77b4; stroke: #1f77b4\"/>\n     <use xlink:href=\"#m2702f02755\" x=\"294.599432\" y=\"19.554545\" style=\"fill: #1f77b4; stroke: #1f77b4\"/>\n     <use xlink:href=\"#m2702f02755\" x=\"350.963068\" y=\"19.554545\" style=\"fill: #1f77b4; stroke: #1f77b4\"/>\n     <use xlink:href=\"#m2702f02755\" x=\"407.326705\" y=\"19.554545\" style=\"fill: #1f77b4; stroke: #1f77b4\"/>\n     <use xlink:href=\"#m2702f02755\" x=\"463.690341\" y=\"19.554545\" style=\"fill: #1f77b4; stroke: #1f77b4\"/>\n     <use xlink:href=\"#m2702f02755\" x=\"520.053977\" y=\"19.554545\" style=\"fill: #1f77b4; stroke: #1f77b4\"/>\n     <use xlink:href=\"#m2702f02755\" x=\"576.417614\" y=\"19.554545\" style=\"fill: #1f77b4; stroke: #1f77b4\"/>\n    </g>\n   </g>\n   <g id=\"line2d_18\">\n    <path d=\"M 69.144886 266.645455 \nL 576.417614 266.645455 \n\" clip-path=\"url(#p0a10cdf0ee)\" style=\"fill: none; stroke: #d62728; stroke-width: 1.5; stroke-linecap: square\"/>\n   </g>\n   <g id=\"patch_3\">\n    <path d=\"M 43.78125 279 \nL 43.78125 7.2 \n\" style=\"fill: none; stroke: #000000; stroke-width: 0.8; stroke-linejoin: miter; stroke-linecap: square\"/>\n   </g>\n   <g id=\"patch_4\">\n    <path d=\"M 601.78125 279 \nL 601.78125 7.2 \n\" style=\"fill: none; stroke: #000000; stroke-width: 0.8; stroke-linejoin: miter; stroke-linecap: square\"/>\n   </g>\n   <g id=\"patch_5\">\n    <path d=\"M 43.78125 279 \nL 601.78125 279 \n\" style=\"fill: none; stroke: #000000; stroke-width: 0.8; stroke-linejoin: miter; stroke-linecap: square\"/>\n   </g>\n   <g id=\"patch_6\">\n    <path d=\"M 43.78125 7.2 \nL 601.78125 7.2 \n\" style=\"fill: none; stroke: #000000; stroke-width: 0.8; stroke-linejoin: miter; stroke-linecap: square\"/>\n   </g>\n  </g>\n </g>\n <defs>\n  <clipPath id=\"p0a10cdf0ee\">\n   <rect x=\"43.78125\" y=\"7.2\" width=\"558\" height=\"271.8\"/>\n  </clipPath>\n </defs>\n</svg>\n"
          },
          "metadata": {
            "needs_background": "light"
          }
        }
      ]
    },
    {
      "cell_type": "code",
      "source": [
        "from gensim.models import TfidfModel\n",
        "\n",
        "# fit TFIDF model for all the corpus\n",
        "model_es = TfidfModel(corpus_bow_es)  \n",
        "\n",
        "# apply model to the first corpus document\n",
        "vector = model_es[corpus_bow_es[0]]  # apply model to the first corpus document\n",
        "print(vector)"
      ],
      "metadata": {
        "colab": {
          "base_uri": "https://localhost:8080/"
        },
        "id": "S5dMU-9IHh1U",
        "outputId": "34a0c30a-9c96-401b-eff4-ee2dfa058312"
      },
      "execution_count": null,
      "outputs": [
        {
          "output_type": "stream",
          "name": "stdout",
          "text": [
            "[(0, 0.8886072317497478), (1, 0.4586689303648657)]\n"
          ]
        }
      ]
    },
    {
      "cell_type": "code",
      "source": [
        "corpus_tfidf_es = [model_en[doc] for doc in corpus_bow_es]\n",
        "n_doc=25#Tweet\n",
        "list_word_counts = [(D_es[doc_bow[0]], doc_bow[1]) for doc_bow in corpus_tfidf_es[n_doc][:10]]\n",
        "(words, counts) = zip(*list_word_counts)\n",
        "plt.figure(figsize=(10,5))\n",
        "plt.stem(words,counts, use_line_collection = True)\n",
        "plt.xlabel('Words')\n",
        "plt.ylabel('Counts')\n",
        "plt.show()"
      ],
      "metadata": {
        "colab": {
          "base_uri": "https://localhost:8080/",
          "height": 443
        },
        "id": "nFqq-dHNHjCo",
        "outputId": "682574ee-a48d-464d-c767-4af09df7c27b"
      },
      "execution_count": null,
      "outputs": [
        {
          "output_type": "display_data",
          "data": {
            "text/plain": [
              "<Figure size 720x360 with 1 Axes>"
            ],
            "image/svg+xml": "<?xml version=\"1.0\" encoding=\"utf-8\" standalone=\"no\"?>\n<!DOCTYPE svg PUBLIC \"-//W3C//DTD SVG 1.1//EN\"\n  \"http://www.w3.org/Graphics/SVG/1.1/DTD/svg11.dtd\">\n<svg xmlns:xlink=\"http://www.w3.org/1999/xlink\" width=\"620.42777pt\" height=\"316.55625pt\" viewBox=\"0 0 620.42777 316.55625\" xmlns=\"http://www.w3.org/2000/svg\" version=\"1.1\">\n <metadata>\n  <rdf:RDF xmlns:dc=\"http://purl.org/dc/elements/1.1/\" xmlns:cc=\"http://creativecommons.org/ns#\" xmlns:rdf=\"http://www.w3.org/1999/02/22-rdf-syntax-ns#\">\n   <cc:Work>\n    <dc:type rdf:resource=\"http://purl.org/dc/dcmitype/StillImage\"/>\n    <dc:date>2023-03-01T18:20:22.331823</dc:date>\n    <dc:format>image/svg+xml</dc:format>\n    <dc:creator>\n     <cc:Agent>\n      <dc:title>Matplotlib v3.5.3, https://matplotlib.org/</dc:title>\n     </cc:Agent>\n    </dc:creator>\n   </cc:Work>\n  </rdf:RDF>\n </metadata>\n <defs>\n  <style type=\"text/css\">*{stroke-linejoin: round; stroke-linecap: butt}</style>\n </defs>\n <g id=\"figure_1\">\n  <g id=\"patch_1\">\n   <path d=\"M 0 316.55625 \nL 620.42777 316.55625 \nL 620.42777 0 \nL 0 0 \nL 0 316.55625 \nz\n\" style=\"fill: none\"/>\n  </g>\n  <g id=\"axes_1\">\n   <g id=\"patch_2\">\n    <path d=\"M 50.14375 279 \nL 608.14375 279 \nL 608.14375 7.2 \nL 50.14375 7.2 \nz\n\" style=\"fill: #ffffff\"/>\n   </g>\n   <g id=\"matplotlib.axis_1\">\n    <g id=\"xtick_1\">\n     <g id=\"line2d_1\">\n      <defs>\n       <path id=\"me2451725ea\" d=\"M 0 0 \nL 0 3.5 \n\" style=\"stroke: #000000; stroke-width: 0.8\"/>\n      </defs>\n      <g>\n       <use xlink:href=\"#me2451725ea\" x=\"75.507386\" y=\"279\" style=\"stroke: #000000; stroke-width: 0.8\"/>\n      </g>\n     </g>\n     <g id=\"text_1\">\n      <!-- descubre -->\n      <g transform=\"translate(52.540199 293.598437)scale(0.1 -0.1)\">\n       <defs>\n        <path id=\"DejaVuSans-64\" d=\"M 2906 2969 \nL 2906 4863 \nL 3481 4863 \nL 3481 0 \nL 2906 0 \nL 2906 525 \nQ 2725 213 2448 61 \nQ 2172 -91 1784 -91 \nQ 1150 -91 751 415 \nQ 353 922 353 1747 \nQ 353 2572 751 3078 \nQ 1150 3584 1784 3584 \nQ 2172 3584 2448 3432 \nQ 2725 3281 2906 2969 \nz\nM 947 1747 \nQ 947 1113 1208 752 \nQ 1469 391 1925 391 \nQ 2381 391 2643 752 \nQ 2906 1113 2906 1747 \nQ 2906 2381 2643 2742 \nQ 2381 3103 1925 3103 \nQ 1469 3103 1208 2742 \nQ 947 2381 947 1747 \nz\n\" transform=\"scale(0.015625)\"/>\n        <path id=\"DejaVuSans-65\" d=\"M 3597 1894 \nL 3597 1613 \nL 953 1613 \nQ 991 1019 1311 708 \nQ 1631 397 2203 397 \nQ 2534 397 2845 478 \nQ 3156 559 3463 722 \nL 3463 178 \nQ 3153 47 2828 -22 \nQ 2503 -91 2169 -91 \nQ 1331 -91 842 396 \nQ 353 884 353 1716 \nQ 353 2575 817 3079 \nQ 1281 3584 2069 3584 \nQ 2775 3584 3186 3129 \nQ 3597 2675 3597 1894 \nz\nM 3022 2063 \nQ 3016 2534 2758 2815 \nQ 2500 3097 2075 3097 \nQ 1594 3097 1305 2825 \nQ 1016 2553 972 2059 \nL 3022 2063 \nz\n\" transform=\"scale(0.015625)\"/>\n        <path id=\"DejaVuSans-73\" d=\"M 2834 3397 \nL 2834 2853 \nQ 2591 2978 2328 3040 \nQ 2066 3103 1784 3103 \nQ 1356 3103 1142 2972 \nQ 928 2841 928 2578 \nQ 928 2378 1081 2264 \nQ 1234 2150 1697 2047 \nL 1894 2003 \nQ 2506 1872 2764 1633 \nQ 3022 1394 3022 966 \nQ 3022 478 2636 193 \nQ 2250 -91 1575 -91 \nQ 1294 -91 989 -36 \nQ 684 19 347 128 \nL 347 722 \nQ 666 556 975 473 \nQ 1284 391 1588 391 \nQ 1994 391 2212 530 \nQ 2431 669 2431 922 \nQ 2431 1156 2273 1281 \nQ 2116 1406 1581 1522 \nL 1381 1569 \nQ 847 1681 609 1914 \nQ 372 2147 372 2553 \nQ 372 3047 722 3315 \nQ 1072 3584 1716 3584 \nQ 2034 3584 2315 3537 \nQ 2597 3491 2834 3397 \nz\n\" transform=\"scale(0.015625)\"/>\n        <path id=\"DejaVuSans-63\" d=\"M 3122 3366 \nL 3122 2828 \nQ 2878 2963 2633 3030 \nQ 2388 3097 2138 3097 \nQ 1578 3097 1268 2742 \nQ 959 2388 959 1747 \nQ 959 1106 1268 751 \nQ 1578 397 2138 397 \nQ 2388 397 2633 464 \nQ 2878 531 3122 666 \nL 3122 134 \nQ 2881 22 2623 -34 \nQ 2366 -91 2075 -91 \nQ 1284 -91 818 406 \nQ 353 903 353 1747 \nQ 353 2603 823 3093 \nQ 1294 3584 2113 3584 \nQ 2378 3584 2631 3529 \nQ 2884 3475 3122 3366 \nz\n\" transform=\"scale(0.015625)\"/>\n        <path id=\"DejaVuSans-75\" d=\"M 544 1381 \nL 544 3500 \nL 1119 3500 \nL 1119 1403 \nQ 1119 906 1312 657 \nQ 1506 409 1894 409 \nQ 2359 409 2629 706 \nQ 2900 1003 2900 1516 \nL 2900 3500 \nL 3475 3500 \nL 3475 0 \nL 2900 0 \nL 2900 538 \nQ 2691 219 2414 64 \nQ 2138 -91 1772 -91 \nQ 1169 -91 856 284 \nQ 544 659 544 1381 \nz\nM 1991 3584 \nL 1991 3584 \nz\n\" transform=\"scale(0.015625)\"/>\n        <path id=\"DejaVuSans-62\" d=\"M 3116 1747 \nQ 3116 2381 2855 2742 \nQ 2594 3103 2138 3103 \nQ 1681 3103 1420 2742 \nQ 1159 2381 1159 1747 \nQ 1159 1113 1420 752 \nQ 1681 391 2138 391 \nQ 2594 391 2855 752 \nQ 3116 1113 3116 1747 \nz\nM 1159 2969 \nQ 1341 3281 1617 3432 \nQ 1894 3584 2278 3584 \nQ 2916 3584 3314 3078 \nQ 3713 2572 3713 1747 \nQ 3713 922 3314 415 \nQ 2916 -91 2278 -91 \nQ 1894 -91 1617 61 \nQ 1341 213 1159 525 \nL 1159 0 \nL 581 0 \nL 581 4863 \nL 1159 4863 \nL 1159 2969 \nz\n\" transform=\"scale(0.015625)\"/>\n        <path id=\"DejaVuSans-72\" d=\"M 2631 2963 \nQ 2534 3019 2420 3045 \nQ 2306 3072 2169 3072 \nQ 1681 3072 1420 2755 \nQ 1159 2438 1159 1844 \nL 1159 0 \nL 581 0 \nL 581 3500 \nL 1159 3500 \nL 1159 2956 \nQ 1341 3275 1631 3429 \nQ 1922 3584 2338 3584 \nQ 2397 3584 2469 3576 \nQ 2541 3569 2628 3553 \nL 2631 2963 \nz\n\" transform=\"scale(0.015625)\"/>\n       </defs>\n       <use xlink:href=\"#DejaVuSans-64\"/>\n       <use xlink:href=\"#DejaVuSans-65\" x=\"63.476562\"/>\n       <use xlink:href=\"#DejaVuSans-73\" x=\"125\"/>\n       <use xlink:href=\"#DejaVuSans-63\" x=\"177.099609\"/>\n       <use xlink:href=\"#DejaVuSans-75\" x=\"232.080078\"/>\n       <use xlink:href=\"#DejaVuSans-62\" x=\"295.458984\"/>\n       <use xlink:href=\"#DejaVuSans-72\" x=\"358.935547\"/>\n       <use xlink:href=\"#DejaVuSans-65\" x=\"397.798828\"/>\n      </g>\n     </g>\n    </g>\n    <g id=\"xtick_2\">\n     <g id=\"line2d_2\">\n      <g>\n       <use xlink:href=\"#me2451725ea\" x=\"131.871023\" y=\"279\" style=\"stroke: #000000; stroke-width: 0.8\"/>\n      </g>\n     </g>\n     <g id=\"text_2\">\n      <!-- melia -->\n      <g transform=\"translate(118.08196 293.598437)scale(0.1 -0.1)\">\n       <defs>\n        <path id=\"DejaVuSans-6d\" d=\"M 3328 2828 \nQ 3544 3216 3844 3400 \nQ 4144 3584 4550 3584 \nQ 5097 3584 5394 3201 \nQ 5691 2819 5691 2113 \nL 5691 0 \nL 5113 0 \nL 5113 2094 \nQ 5113 2597 4934 2840 \nQ 4756 3084 4391 3084 \nQ 3944 3084 3684 2787 \nQ 3425 2491 3425 1978 \nL 3425 0 \nL 2847 0 \nL 2847 2094 \nQ 2847 2600 2669 2842 \nQ 2491 3084 2119 3084 \nQ 1678 3084 1418 2786 \nQ 1159 2488 1159 1978 \nL 1159 0 \nL 581 0 \nL 581 3500 \nL 1159 3500 \nL 1159 2956 \nQ 1356 3278 1631 3431 \nQ 1906 3584 2284 3584 \nQ 2666 3584 2933 3390 \nQ 3200 3197 3328 2828 \nz\n\" transform=\"scale(0.015625)\"/>\n        <path id=\"DejaVuSans-6c\" d=\"M 603 4863 \nL 1178 4863 \nL 1178 0 \nL 603 0 \nL 603 4863 \nz\n\" transform=\"scale(0.015625)\"/>\n        <path id=\"DejaVuSans-69\" d=\"M 603 3500 \nL 1178 3500 \nL 1178 0 \nL 603 0 \nL 603 3500 \nz\nM 603 4863 \nL 1178 4863 \nL 1178 4134 \nL 603 4134 \nL 603 4863 \nz\n\" transform=\"scale(0.015625)\"/>\n        <path id=\"DejaVuSans-61\" d=\"M 2194 1759 \nQ 1497 1759 1228 1600 \nQ 959 1441 959 1056 \nQ 959 750 1161 570 \nQ 1363 391 1709 391 \nQ 2188 391 2477 730 \nQ 2766 1069 2766 1631 \nL 2766 1759 \nL 2194 1759 \nz\nM 3341 1997 \nL 3341 0 \nL 2766 0 \nL 2766 531 \nQ 2569 213 2275 61 \nQ 1981 -91 1556 -91 \nQ 1019 -91 701 211 \nQ 384 513 384 1019 \nQ 384 1609 779 1909 \nQ 1175 2209 1959 2209 \nL 2766 2209 \nL 2766 2266 \nQ 2766 2663 2505 2880 \nQ 2244 3097 1772 3097 \nQ 1472 3097 1187 3025 \nQ 903 2953 641 2809 \nL 641 3341 \nQ 956 3463 1253 3523 \nQ 1550 3584 1831 3584 \nQ 2591 3584 2966 3190 \nQ 3341 2797 3341 1997 \nz\n\" transform=\"scale(0.015625)\"/>\n       </defs>\n       <use xlink:href=\"#DejaVuSans-6d\"/>\n       <use xlink:href=\"#DejaVuSans-65\" x=\"97.412109\"/>\n       <use xlink:href=\"#DejaVuSans-6c\" x=\"158.935547\"/>\n       <use xlink:href=\"#DejaVuSans-69\" x=\"186.71875\"/>\n       <use xlink:href=\"#DejaVuSans-61\" x=\"214.501953\"/>\n      </g>\n     </g>\n    </g>\n    <g id=\"xtick_3\">\n     <g id=\"line2d_3\">\n      <g>\n       <use xlink:href=\"#me2451725ea\" x=\"188.234659\" y=\"279\" style=\"stroke: #000000; stroke-width: 0.8\"/>\n      </g>\n     </g>\n     <g id=\"text_3\">\n      <!-- musica -->\n      <g transform=\"translate(170.388565 293.598437)scale(0.1 -0.1)\">\n       <use xlink:href=\"#DejaVuSans-6d\"/>\n       <use xlink:href=\"#DejaVuSans-75\" x=\"97.412109\"/>\n       <use xlink:href=\"#DejaVuSans-73\" x=\"160.791016\"/>\n       <use xlink:href=\"#DejaVuSans-69\" x=\"212.890625\"/>\n       <use xlink:href=\"#DejaVuSans-63\" x=\"240.673828\"/>\n       <use xlink:href=\"#DejaVuSans-61\" x=\"295.654297\"/>\n      </g>\n     </g>\n    </g>\n    <g id=\"xtick_4\">\n     <g id=\"line2d_4\">\n      <g>\n       <use xlink:href=\"#me2451725ea\" x=\"244.598295\" y=\"279\" style=\"stroke: #000000; stroke-width: 0.8\"/>\n      </g>\n     </g>\n     <g id=\"text_4\">\n      <!-- arte -->\n      <g transform=\"translate(234.442045 293.598437)scale(0.1 -0.1)\">\n       <defs>\n        <path id=\"DejaVuSans-74\" d=\"M 1172 4494 \nL 1172 3500 \nL 2356 3500 \nL 2356 3053 \nL 1172 3053 \nL 1172 1153 \nQ 1172 725 1289 603 \nQ 1406 481 1766 481 \nL 2356 481 \nL 2356 0 \nL 1766 0 \nQ 1100 0 847 248 \nQ 594 497 594 1153 \nL 594 3053 \nL 172 3053 \nL 172 3500 \nL 594 3500 \nL 594 4494 \nL 1172 4494 \nz\n\" transform=\"scale(0.015625)\"/>\n       </defs>\n       <use xlink:href=\"#DejaVuSans-61\"/>\n       <use xlink:href=\"#DejaVuSans-72\" x=\"61.279297\"/>\n       <use xlink:href=\"#DejaVuSans-74\" x=\"102.392578\"/>\n       <use xlink:href=\"#DejaVuSans-65\" x=\"141.601562\"/>\n      </g>\n     </g>\n    </g>\n    <g id=\"xtick_5\">\n     <g id=\"line2d_5\">\n      <g>\n       <use xlink:href=\"#me2451725ea\" x=\"300.961932\" y=\"279\" style=\"stroke: #000000; stroke-width: 0.8\"/>\n      </g>\n     </g>\n     <g id=\"text_5\">\n      <!-- gran -->\n      <g transform=\"translate(289.499432 293.598437)scale(0.1 -0.1)\">\n       <defs>\n        <path id=\"DejaVuSans-67\" d=\"M 2906 1791 \nQ 2906 2416 2648 2759 \nQ 2391 3103 1925 3103 \nQ 1463 3103 1205 2759 \nQ 947 2416 947 1791 \nQ 947 1169 1205 825 \nQ 1463 481 1925 481 \nQ 2391 481 2648 825 \nQ 2906 1169 2906 1791 \nz\nM 3481 434 \nQ 3481 -459 3084 -895 \nQ 2688 -1331 1869 -1331 \nQ 1566 -1331 1297 -1286 \nQ 1028 -1241 775 -1147 \nL 775 -588 \nQ 1028 -725 1275 -790 \nQ 1522 -856 1778 -856 \nQ 2344 -856 2625 -561 \nQ 2906 -266 2906 331 \nL 2906 616 \nQ 2728 306 2450 153 \nQ 2172 0 1784 0 \nQ 1141 0 747 490 \nQ 353 981 353 1791 \nQ 353 2603 747 3093 \nQ 1141 3584 1784 3584 \nQ 2172 3584 2450 3431 \nQ 2728 3278 2906 2969 \nL 2906 3500 \nL 3481 3500 \nL 3481 434 \nz\n\" transform=\"scale(0.015625)\"/>\n        <path id=\"DejaVuSans-6e\" d=\"M 3513 2113 \nL 3513 0 \nL 2938 0 \nL 2938 2094 \nQ 2938 2591 2744 2837 \nQ 2550 3084 2163 3084 \nQ 1697 3084 1428 2787 \nQ 1159 2491 1159 1978 \nL 1159 0 \nL 581 0 \nL 581 3500 \nL 1159 3500 \nL 1159 2956 \nQ 1366 3272 1645 3428 \nQ 1925 3584 2291 3584 \nQ 2894 3584 3203 3211 \nQ 3513 2838 3513 2113 \nz\n\" transform=\"scale(0.015625)\"/>\n       </defs>\n       <use xlink:href=\"#DejaVuSans-67\"/>\n       <use xlink:href=\"#DejaVuSans-72\" x=\"63.476562\"/>\n       <use xlink:href=\"#DejaVuSans-61\" x=\"104.589844\"/>\n       <use xlink:href=\"#DejaVuSans-6e\" x=\"165.869141\"/>\n      </g>\n     </g>\n    </g>\n    <g id=\"xtick_6\">\n     <g id=\"line2d_6\">\n      <g>\n       <use xlink:href=\"#me2451725ea\" x=\"357.325568\" y=\"279\" style=\"stroke: #000000; stroke-width: 0.8\"/>\n      </g>\n     </g>\n     <g id=\"text_6\">\n      <!-- hotel -->\n      <g transform=\"translate(344.671662 293.598437)scale(0.1 -0.1)\">\n       <defs>\n        <path id=\"DejaVuSans-68\" d=\"M 3513 2113 \nL 3513 0 \nL 2938 0 \nL 2938 2094 \nQ 2938 2591 2744 2837 \nQ 2550 3084 2163 3084 \nQ 1697 3084 1428 2787 \nQ 1159 2491 1159 1978 \nL 1159 0 \nL 581 0 \nL 581 4863 \nL 1159 4863 \nL 1159 2956 \nQ 1366 3272 1645 3428 \nQ 1925 3584 2291 3584 \nQ 2894 3584 3203 3211 \nQ 3513 2838 3513 2113 \nz\n\" transform=\"scale(0.015625)\"/>\n        <path id=\"DejaVuSans-6f\" d=\"M 1959 3097 \nQ 1497 3097 1228 2736 \nQ 959 2375 959 1747 \nQ 959 1119 1226 758 \nQ 1494 397 1959 397 \nQ 2419 397 2687 759 \nQ 2956 1122 2956 1747 \nQ 2956 2369 2687 2733 \nQ 2419 3097 1959 3097 \nz\nM 1959 3584 \nQ 2709 3584 3137 3096 \nQ 3566 2609 3566 1747 \nQ 3566 888 3137 398 \nQ 2709 -91 1959 -91 \nQ 1206 -91 779 398 \nQ 353 888 353 1747 \nQ 353 2609 779 3096 \nQ 1206 3584 1959 3584 \nz\n\" transform=\"scale(0.015625)\"/>\n       </defs>\n       <use xlink:href=\"#DejaVuSans-68\"/>\n       <use xlink:href=\"#DejaVuSans-6f\" x=\"63.378906\"/>\n       <use xlink:href=\"#DejaVuSans-74\" x=\"124.560547\"/>\n       <use xlink:href=\"#DejaVuSans-65\" x=\"163.769531\"/>\n       <use xlink:href=\"#DejaVuSans-6c\" x=\"225.292969\"/>\n      </g>\n     </g>\n    </g>\n    <g id=\"xtick_7\">\n     <g id=\"line2d_7\">\n      <g>\n       <use xlink:href=\"#me2451725ea\" x=\"413.689205\" y=\"279\" style=\"stroke: #000000; stroke-width: 0.8\"/>\n      </g>\n     </g>\n     <g id=\"text_7\">\n      <!-- directo -->\n      <g transform=\"translate(396.337642 293.598437)scale(0.1 -0.1)\">\n       <use xlink:href=\"#DejaVuSans-64\"/>\n       <use xlink:href=\"#DejaVuSans-69\" x=\"63.476562\"/>\n       <use xlink:href=\"#DejaVuSans-72\" x=\"91.259766\"/>\n       <use xlink:href=\"#DejaVuSans-65\" x=\"130.123047\"/>\n       <use xlink:href=\"#DejaVuSans-63\" x=\"191.646484\"/>\n       <use xlink:href=\"#DejaVuSans-74\" x=\"246.626953\"/>\n       <use xlink:href=\"#DejaVuSans-6f\" x=\"285.835938\"/>\n      </g>\n     </g>\n    </g>\n    <g id=\"xtick_8\">\n     <g id=\"line2d_8\">\n      <g>\n       <use xlink:href=\"#me2451725ea\" x=\"470.052841\" y=\"279\" style=\"stroke: #000000; stroke-width: 0.8\"/>\n      </g>\n     </g>\n     <g id=\"text_8\">\n      <!-- noche -->\n      <g transform=\"translate(454.830185 293.598437)scale(0.1 -0.1)\">\n       <use xlink:href=\"#DejaVuSans-6e\"/>\n       <use xlink:href=\"#DejaVuSans-6f\" x=\"63.378906\"/>\n       <use xlink:href=\"#DejaVuSans-63\" x=\"124.560547\"/>\n       <use xlink:href=\"#DejaVuSans-68\" x=\"179.541016\"/>\n       <use xlink:href=\"#DejaVuSans-65\" x=\"242.919922\"/>\n      </g>\n     </g>\n    </g>\n    <g id=\"xtick_9\">\n     <g id=\"line2d_9\">\n      <g>\n       <use xlink:href=\"#me2451725ea\" x=\"526.416477\" y=\"279\" style=\"stroke: #000000; stroke-width: 0.8\"/>\n      </g>\n     </g>\n     <g id=\"text_9\">\n      <!-- ofrece -->\n      <g transform=\"translate(510.751634 293.598437)scale(0.1 -0.1)\">\n       <defs>\n        <path id=\"DejaVuSans-66\" d=\"M 2375 4863 \nL 2375 4384 \nL 1825 4384 \nQ 1516 4384 1395 4259 \nQ 1275 4134 1275 3809 \nL 1275 3500 \nL 2222 3500 \nL 2222 3053 \nL 1275 3053 \nL 1275 0 \nL 697 0 \nL 697 3053 \nL 147 3053 \nL 147 3500 \nL 697 3500 \nL 697 3744 \nQ 697 4328 969 4595 \nQ 1241 4863 1831 4863 \nL 2375 4863 \nz\n\" transform=\"scale(0.015625)\"/>\n       </defs>\n       <use xlink:href=\"#DejaVuSans-6f\"/>\n       <use xlink:href=\"#DejaVuSans-66\" x=\"61.181641\"/>\n       <use xlink:href=\"#DejaVuSans-72\" x=\"96.386719\"/>\n       <use xlink:href=\"#DejaVuSans-65\" x=\"135.25\"/>\n       <use xlink:href=\"#DejaVuSans-63\" x=\"196.773438\"/>\n       <use xlink:href=\"#DejaVuSans-65\" x=\"251.753906\"/>\n      </g>\n     </g>\n    </g>\n    <g id=\"xtick_10\">\n     <g id=\"line2d_10\">\n      <g>\n       <use xlink:href=\"#me2451725ea\" x=\"582.780114\" y=\"279\" style=\"stroke: #000000; stroke-width: 0.8\"/>\n      </g>\n     </g>\n     <g id=\"text_10\">\n      <!-- oportunidad -->\n      <g transform=\"translate(552.332457 293.598437)scale(0.1 -0.1)\">\n       <defs>\n        <path id=\"DejaVuSans-70\" d=\"M 1159 525 \nL 1159 -1331 \nL 581 -1331 \nL 581 3500 \nL 1159 3500 \nL 1159 2969 \nQ 1341 3281 1617 3432 \nQ 1894 3584 2278 3584 \nQ 2916 3584 3314 3078 \nQ 3713 2572 3713 1747 \nQ 3713 922 3314 415 \nQ 2916 -91 2278 -91 \nQ 1894 -91 1617 61 \nQ 1341 213 1159 525 \nz\nM 3116 1747 \nQ 3116 2381 2855 2742 \nQ 2594 3103 2138 3103 \nQ 1681 3103 1420 2742 \nQ 1159 2381 1159 1747 \nQ 1159 1113 1420 752 \nQ 1681 391 2138 391 \nQ 2594 391 2855 752 \nQ 3116 1113 3116 1747 \nz\n\" transform=\"scale(0.015625)\"/>\n       </defs>\n       <use xlink:href=\"#DejaVuSans-6f\"/>\n       <use xlink:href=\"#DejaVuSans-70\" x=\"61.181641\"/>\n       <use xlink:href=\"#DejaVuSans-6f\" x=\"124.658203\"/>\n       <use xlink:href=\"#DejaVuSans-72\" x=\"185.839844\"/>\n       <use xlink:href=\"#DejaVuSans-74\" x=\"226.953125\"/>\n       <use xlink:href=\"#DejaVuSans-75\" x=\"266.162109\"/>\n       <use xlink:href=\"#DejaVuSans-6e\" x=\"329.541016\"/>\n       <use xlink:href=\"#DejaVuSans-69\" x=\"392.919922\"/>\n       <use xlink:href=\"#DejaVuSans-64\" x=\"420.703125\"/>\n       <use xlink:href=\"#DejaVuSans-61\" x=\"484.179688\"/>\n       <use xlink:href=\"#DejaVuSans-64\" x=\"545.458984\"/>\n      </g>\n     </g>\n    </g>\n    <g id=\"text_11\">\n     <!-- Words -->\n     <g transform=\"translate(313.6875 307.276562)scale(0.1 -0.1)\">\n      <defs>\n       <path id=\"DejaVuSans-57\" d=\"M 213 4666 \nL 850 4666 \nL 1831 722 \nL 2809 4666 \nL 3519 4666 \nL 4500 722 \nL 5478 4666 \nL 6119 4666 \nL 4947 0 \nL 4153 0 \nL 3169 4050 \nL 2175 0 \nL 1381 0 \nL 213 4666 \nz\n\" transform=\"scale(0.015625)\"/>\n      </defs>\n      <use xlink:href=\"#DejaVuSans-57\"/>\n      <use xlink:href=\"#DejaVuSans-6f\" x=\"93.001953\"/>\n      <use xlink:href=\"#DejaVuSans-72\" x=\"154.183594\"/>\n      <use xlink:href=\"#DejaVuSans-64\" x=\"193.546875\"/>\n      <use xlink:href=\"#DejaVuSans-73\" x=\"257.023438\"/>\n     </g>\n    </g>\n   </g>\n   <g id=\"matplotlib.axis_2\">\n    <g id=\"ytick_1\">\n     <g id=\"line2d_11\">\n      <defs>\n       <path id=\"m93738ad745\" d=\"M 0 0 \nL -3.5 0 \n\" style=\"stroke: #000000; stroke-width: 0.8\"/>\n      </defs>\n      <g>\n       <use xlink:href=\"#m93738ad745\" x=\"50.14375\" y=\"266.645455\" style=\"stroke: #000000; stroke-width: 0.8\"/>\n      </g>\n     </g>\n     <g id=\"text_12\">\n      <!-- 0.00 -->\n      <g transform=\"translate(20.878125 270.444673)scale(0.1 -0.1)\">\n       <defs>\n        <path id=\"DejaVuSans-30\" d=\"M 2034 4250 \nQ 1547 4250 1301 3770 \nQ 1056 3291 1056 2328 \nQ 1056 1369 1301 889 \nQ 1547 409 2034 409 \nQ 2525 409 2770 889 \nQ 3016 1369 3016 2328 \nQ 3016 3291 2770 3770 \nQ 2525 4250 2034 4250 \nz\nM 2034 4750 \nQ 2819 4750 3233 4129 \nQ 3647 3509 3647 2328 \nQ 3647 1150 3233 529 \nQ 2819 -91 2034 -91 \nQ 1250 -91 836 529 \nQ 422 1150 422 2328 \nQ 422 3509 836 4129 \nQ 1250 4750 2034 4750 \nz\n\" transform=\"scale(0.015625)\"/>\n        <path id=\"DejaVuSans-2e\" d=\"M 684 794 \nL 1344 794 \nL 1344 0 \nL 684 0 \nL 684 794 \nz\n\" transform=\"scale(0.015625)\"/>\n       </defs>\n       <use xlink:href=\"#DejaVuSans-30\"/>\n       <use xlink:href=\"#DejaVuSans-2e\" x=\"63.623047\"/>\n       <use xlink:href=\"#DejaVuSans-30\" x=\"95.410156\"/>\n       <use xlink:href=\"#DejaVuSans-30\" x=\"159.033203\"/>\n      </g>\n     </g>\n    </g>\n    <g id=\"ytick_2\">\n     <g id=\"line2d_12\">\n      <g>\n       <use xlink:href=\"#m93738ad745\" x=\"50.14375\" y=\"227.439361\" style=\"stroke: #000000; stroke-width: 0.8\"/>\n      </g>\n     </g>\n     <g id=\"text_13\">\n      <!-- 0.05 -->\n      <g transform=\"translate(20.878125 231.238579)scale(0.1 -0.1)\">\n       <defs>\n        <path id=\"DejaVuSans-35\" d=\"M 691 4666 \nL 3169 4666 \nL 3169 4134 \nL 1269 4134 \nL 1269 2991 \nQ 1406 3038 1543 3061 \nQ 1681 3084 1819 3084 \nQ 2600 3084 3056 2656 \nQ 3513 2228 3513 1497 \nQ 3513 744 3044 326 \nQ 2575 -91 1722 -91 \nQ 1428 -91 1123 -41 \nQ 819 9 494 109 \nL 494 744 \nQ 775 591 1075 516 \nQ 1375 441 1709 441 \nQ 2250 441 2565 725 \nQ 2881 1009 2881 1497 \nQ 2881 1984 2565 2268 \nQ 2250 2553 1709 2553 \nQ 1456 2553 1204 2497 \nQ 953 2441 691 2322 \nL 691 4666 \nz\n\" transform=\"scale(0.015625)\"/>\n       </defs>\n       <use xlink:href=\"#DejaVuSans-30\"/>\n       <use xlink:href=\"#DejaVuSans-2e\" x=\"63.623047\"/>\n       <use xlink:href=\"#DejaVuSans-30\" x=\"95.410156\"/>\n       <use xlink:href=\"#DejaVuSans-35\" x=\"159.033203\"/>\n      </g>\n     </g>\n    </g>\n    <g id=\"ytick_3\">\n     <g id=\"line2d_13\">\n      <g>\n       <use xlink:href=\"#m93738ad745\" x=\"50.14375\" y=\"188.233267\" style=\"stroke: #000000; stroke-width: 0.8\"/>\n      </g>\n     </g>\n     <g id=\"text_14\">\n      <!-- 0.10 -->\n      <g transform=\"translate(20.878125 192.032485)scale(0.1 -0.1)\">\n       <defs>\n        <path id=\"DejaVuSans-31\" d=\"M 794 531 \nL 1825 531 \nL 1825 4091 \nL 703 3866 \nL 703 4441 \nL 1819 4666 \nL 2450 4666 \nL 2450 531 \nL 3481 531 \nL 3481 0 \nL 794 0 \nL 794 531 \nz\n\" transform=\"scale(0.015625)\"/>\n       </defs>\n       <use xlink:href=\"#DejaVuSans-30\"/>\n       <use xlink:href=\"#DejaVuSans-2e\" x=\"63.623047\"/>\n       <use xlink:href=\"#DejaVuSans-31\" x=\"95.410156\"/>\n       <use xlink:href=\"#DejaVuSans-30\" x=\"159.033203\"/>\n      </g>\n     </g>\n    </g>\n    <g id=\"ytick_4\">\n     <g id=\"line2d_14\">\n      <g>\n       <use xlink:href=\"#m93738ad745\" x=\"50.14375\" y=\"149.027173\" style=\"stroke: #000000; stroke-width: 0.8\"/>\n      </g>\n     </g>\n     <g id=\"text_15\">\n      <!-- 0.15 -->\n      <g transform=\"translate(20.878125 152.826391)scale(0.1 -0.1)\">\n       <use xlink:href=\"#DejaVuSans-30\"/>\n       <use xlink:href=\"#DejaVuSans-2e\" x=\"63.623047\"/>\n       <use xlink:href=\"#DejaVuSans-31\" x=\"95.410156\"/>\n       <use xlink:href=\"#DejaVuSans-35\" x=\"159.033203\"/>\n      </g>\n     </g>\n    </g>\n    <g id=\"ytick_5\">\n     <g id=\"line2d_15\">\n      <g>\n       <use xlink:href=\"#m93738ad745\" x=\"50.14375\" y=\"109.821079\" style=\"stroke: #000000; stroke-width: 0.8\"/>\n      </g>\n     </g>\n     <g id=\"text_16\">\n      <!-- 0.20 -->\n      <g transform=\"translate(20.878125 113.620297)scale(0.1 -0.1)\">\n       <defs>\n        <path id=\"DejaVuSans-32\" d=\"M 1228 531 \nL 3431 531 \nL 3431 0 \nL 469 0 \nL 469 531 \nQ 828 903 1448 1529 \nQ 2069 2156 2228 2338 \nQ 2531 2678 2651 2914 \nQ 2772 3150 2772 3378 \nQ 2772 3750 2511 3984 \nQ 2250 4219 1831 4219 \nQ 1534 4219 1204 4116 \nQ 875 4013 500 3803 \nL 500 4441 \nQ 881 4594 1212 4672 \nQ 1544 4750 1819 4750 \nQ 2544 4750 2975 4387 \nQ 3406 4025 3406 3419 \nQ 3406 3131 3298 2873 \nQ 3191 2616 2906 2266 \nQ 2828 2175 2409 1742 \nQ 1991 1309 1228 531 \nz\n\" transform=\"scale(0.015625)\"/>\n       </defs>\n       <use xlink:href=\"#DejaVuSans-30\"/>\n       <use xlink:href=\"#DejaVuSans-2e\" x=\"63.623047\"/>\n       <use xlink:href=\"#DejaVuSans-32\" x=\"95.410156\"/>\n       <use xlink:href=\"#DejaVuSans-30\" x=\"159.033203\"/>\n      </g>\n     </g>\n    </g>\n    <g id=\"ytick_6\">\n     <g id=\"line2d_16\">\n      <g>\n       <use xlink:href=\"#m93738ad745\" x=\"50.14375\" y=\"70.614984\" style=\"stroke: #000000; stroke-width: 0.8\"/>\n      </g>\n     </g>\n     <g id=\"text_17\">\n      <!-- 0.25 -->\n      <g transform=\"translate(20.878125 74.414203)scale(0.1 -0.1)\">\n       <use xlink:href=\"#DejaVuSans-30\"/>\n       <use xlink:href=\"#DejaVuSans-2e\" x=\"63.623047\"/>\n       <use xlink:href=\"#DejaVuSans-32\" x=\"95.410156\"/>\n       <use xlink:href=\"#DejaVuSans-35\" x=\"159.033203\"/>\n      </g>\n     </g>\n    </g>\n    <g id=\"ytick_7\">\n     <g id=\"line2d_17\">\n      <g>\n       <use xlink:href=\"#m93738ad745\" x=\"50.14375\" y=\"31.40889\" style=\"stroke: #000000; stroke-width: 0.8\"/>\n      </g>\n     </g>\n     <g id=\"text_18\">\n      <!-- 0.30 -->\n      <g transform=\"translate(20.878125 35.208109)scale(0.1 -0.1)\">\n       <defs>\n        <path id=\"DejaVuSans-33\" d=\"M 2597 2516 \nQ 3050 2419 3304 2112 \nQ 3559 1806 3559 1356 \nQ 3559 666 3084 287 \nQ 2609 -91 1734 -91 \nQ 1441 -91 1130 -33 \nQ 819 25 488 141 \nL 488 750 \nQ 750 597 1062 519 \nQ 1375 441 1716 441 \nQ 2309 441 2620 675 \nQ 2931 909 2931 1356 \nQ 2931 1769 2642 2001 \nQ 2353 2234 1838 2234 \nL 1294 2234 \nL 1294 2753 \nL 1863 2753 \nQ 2328 2753 2575 2939 \nQ 2822 3125 2822 3475 \nQ 2822 3834 2567 4026 \nQ 2313 4219 1838 4219 \nQ 1578 4219 1281 4162 \nQ 984 4106 628 3988 \nL 628 4550 \nQ 988 4650 1302 4700 \nQ 1616 4750 1894 4750 \nQ 2613 4750 3031 4423 \nQ 3450 4097 3450 3541 \nQ 3450 3153 3228 2886 \nQ 3006 2619 2597 2516 \nz\n\" transform=\"scale(0.015625)\"/>\n       </defs>\n       <use xlink:href=\"#DejaVuSans-30\"/>\n       <use xlink:href=\"#DejaVuSans-2e\" x=\"63.623047\"/>\n       <use xlink:href=\"#DejaVuSans-33\" x=\"95.410156\"/>\n       <use xlink:href=\"#DejaVuSans-30\" x=\"159.033203\"/>\n      </g>\n     </g>\n    </g>\n    <g id=\"text_19\">\n     <!-- Counts -->\n     <g transform=\"translate(14.798437 160.553125)rotate(-90)scale(0.1 -0.1)\">\n      <defs>\n       <path id=\"DejaVuSans-43\" d=\"M 4122 4306 \nL 4122 3641 \nQ 3803 3938 3442 4084 \nQ 3081 4231 2675 4231 \nQ 1875 4231 1450 3742 \nQ 1025 3253 1025 2328 \nQ 1025 1406 1450 917 \nQ 1875 428 2675 428 \nQ 3081 428 3442 575 \nQ 3803 722 4122 1019 \nL 4122 359 \nQ 3791 134 3420 21 \nQ 3050 -91 2638 -91 \nQ 1578 -91 968 557 \nQ 359 1206 359 2328 \nQ 359 3453 968 4101 \nQ 1578 4750 2638 4750 \nQ 3056 4750 3426 4639 \nQ 3797 4528 4122 4306 \nz\n\" transform=\"scale(0.015625)\"/>\n      </defs>\n      <use xlink:href=\"#DejaVuSans-43\"/>\n      <use xlink:href=\"#DejaVuSans-6f\" x=\"69.824219\"/>\n      <use xlink:href=\"#DejaVuSans-75\" x=\"131.005859\"/>\n      <use xlink:href=\"#DejaVuSans-6e\" x=\"194.384766\"/>\n      <use xlink:href=\"#DejaVuSans-74\" x=\"257.763672\"/>\n      <use xlink:href=\"#DejaVuSans-73\" x=\"296.972656\"/>\n     </g>\n    </g>\n   </g>\n   <g id=\"LineCollection_1\">\n    <path d=\"M 75.507386 266.645455 \nL 75.507386 134.070034 \n\" clip-path=\"url(#pcdef455964)\" style=\"fill: none; stroke: #1f77b4; stroke-width: 1.5\"/>\n    <path d=\"M 131.871023 266.645455 \nL 131.871023 30.284045 \n\" clip-path=\"url(#pcdef455964)\" style=\"fill: none; stroke: #1f77b4; stroke-width: 1.5\"/>\n    <path d=\"M 188.234659 266.645455 \nL 188.234659 80.146948 \n\" clip-path=\"url(#pcdef455964)\" style=\"fill: none; stroke: #1f77b4; stroke-width: 1.5\"/>\n    <path d=\"M 244.598295 266.645455 \nL 244.598295 75.785744 \n\" clip-path=\"url(#pcdef455964)\" style=\"fill: none; stroke: #1f77b4; stroke-width: 1.5\"/>\n    <path d=\"M 300.961932 266.645455 \nL 300.961932 19.554545 \n\" clip-path=\"url(#pcdef455964)\" style=\"fill: none; stroke: #1f77b4; stroke-width: 1.5\"/>\n    <path d=\"M 357.325568 266.645455 \nL 357.325568 30.284045 \n\" clip-path=\"url(#pcdef455964)\" style=\"fill: none; stroke: #1f77b4; stroke-width: 1.5\"/>\n    <path d=\"M 413.689205 266.645455 \nL 413.689205 19.554545 \n\" clip-path=\"url(#pcdef455964)\" style=\"fill: none; stroke: #1f77b4; stroke-width: 1.5\"/>\n    <path d=\"M 470.052841 266.645455 \nL 470.052841 60.345786 \n\" clip-path=\"url(#pcdef455964)\" style=\"fill: none; stroke: #1f77b4; stroke-width: 1.5\"/>\n    <path d=\"M 526.416477 266.645455 \nL 526.416477 30.284045 \n\" clip-path=\"url(#pcdef455964)\" style=\"fill: none; stroke: #1f77b4; stroke-width: 1.5\"/>\n    <path d=\"M 582.780114 266.645455 \nL 582.780114 75.785744 \n\" clip-path=\"url(#pcdef455964)\" style=\"fill: none; stroke: #1f77b4; stroke-width: 1.5\"/>\n   </g>\n   <g id=\"line2d_18\">\n    <defs>\n     <path id=\"mfee915a7f9\" d=\"M 0 3 \nC 0.795609 3 1.55874 2.683901 2.12132 2.12132 \nC 2.683901 1.55874 3 0.795609 3 0 \nC 3 -0.795609 2.683901 -1.55874 2.12132 -2.12132 \nC 1.55874 -2.683901 0.795609 -3 0 -3 \nC -0.795609 -3 -1.55874 -2.683901 -2.12132 -2.12132 \nC -2.683901 -1.55874 -3 -0.795609 -3 0 \nC -3 0.795609 -2.683901 1.55874 -2.12132 2.12132 \nC -1.55874 2.683901 -0.795609 3 0 3 \nz\n\" style=\"stroke: #1f77b4\"/>\n    </defs>\n    <g clip-path=\"url(#pcdef455964)\">\n     <use xlink:href=\"#mfee915a7f9\" x=\"75.507386\" y=\"134.070034\" style=\"fill: #1f77b4; stroke: #1f77b4\"/>\n     <use xlink:href=\"#mfee915a7f9\" x=\"131.871023\" y=\"30.284045\" style=\"fill: #1f77b4; stroke: #1f77b4\"/>\n     <use xlink:href=\"#mfee915a7f9\" x=\"188.234659\" y=\"80.146948\" style=\"fill: #1f77b4; stroke: #1f77b4\"/>\n     <use xlink:href=\"#mfee915a7f9\" x=\"244.598295\" y=\"75.785744\" style=\"fill: #1f77b4; stroke: #1f77b4\"/>\n     <use xlink:href=\"#mfee915a7f9\" x=\"300.961932\" y=\"19.554545\" style=\"fill: #1f77b4; stroke: #1f77b4\"/>\n     <use xlink:href=\"#mfee915a7f9\" x=\"357.325568\" y=\"30.284045\" style=\"fill: #1f77b4; stroke: #1f77b4\"/>\n     <use xlink:href=\"#mfee915a7f9\" x=\"413.689205\" y=\"19.554545\" style=\"fill: #1f77b4; stroke: #1f77b4\"/>\n     <use xlink:href=\"#mfee915a7f9\" x=\"470.052841\" y=\"60.345786\" style=\"fill: #1f77b4; stroke: #1f77b4\"/>\n     <use xlink:href=\"#mfee915a7f9\" x=\"526.416477\" y=\"30.284045\" style=\"fill: #1f77b4; stroke: #1f77b4\"/>\n     <use xlink:href=\"#mfee915a7f9\" x=\"582.780114\" y=\"75.785744\" style=\"fill: #1f77b4; stroke: #1f77b4\"/>\n    </g>\n   </g>\n   <g id=\"line2d_19\">\n    <path d=\"M 75.507386 266.645455 \nL 582.780114 266.645455 \n\" clip-path=\"url(#pcdef455964)\" style=\"fill: none; stroke: #d62728; stroke-width: 1.5; stroke-linecap: square\"/>\n   </g>\n   <g id=\"patch_3\">\n    <path d=\"M 50.14375 279 \nL 50.14375 7.2 \n\" style=\"fill: none; stroke: #000000; stroke-width: 0.8; stroke-linejoin: miter; stroke-linecap: square\"/>\n   </g>\n   <g id=\"patch_4\">\n    <path d=\"M 608.14375 279 \nL 608.14375 7.2 \n\" style=\"fill: none; stroke: #000000; stroke-width: 0.8; stroke-linejoin: miter; stroke-linecap: square\"/>\n   </g>\n   <g id=\"patch_5\">\n    <path d=\"M 50.14375 279 \nL 608.14375 279 \n\" style=\"fill: none; stroke: #000000; stroke-width: 0.8; stroke-linejoin: miter; stroke-linecap: square\"/>\n   </g>\n   <g id=\"patch_6\">\n    <path d=\"M 50.14375 7.2 \nL 608.14375 7.2 \n\" style=\"fill: none; stroke: #000000; stroke-width: 0.8; stroke-linejoin: miter; stroke-linecap: square\"/>\n   </g>\n  </g>\n </g>\n <defs>\n  <clipPath id=\"pcdef455964\">\n   <rect x=\"50.14375\" y=\"7.2\" width=\"558\" height=\"271.8\"/>\n  </clipPath>\n </defs>\n</svg>\n"
          },
          "metadata": {
            "needs_background": "light"
          }
        }
      ]
    },
    {
      "cell_type": "code",
      "source": [
        "from gensim.matutils import corpus2dense, corpus2csc\n",
        "\n",
        "n_tokens = len(D_es)\n",
        "num_docs = len(corpus_bow_es)\n",
        "# Convert BoW representacion\n",
        "corpus_bow_sparse = corpus2csc(corpus_bow_es, num_terms=n_tokens, num_docs=num_docs).T\n",
        "# Convert TFIDF representacion\n",
        "corpus_tfidf_sparse = corpus2csc(corpus_tfidf_es, num_terms=n_tokens, num_docs=num_docs).T"
      ],
      "metadata": {
        "id": "5agZnjDFHlIU"
      },
      "execution_count": null,
      "outputs": []
    },
    {
      "cell_type": "code",
      "source": [
        "from sklearn.naive_bayes import MultinomialNB, ComplementNB\n",
        "from sklearn.model_selection import train_test_split\n",
        "from sklearn.metrics import accuracy_score\n",
        "# Code for BoW representation\n",
        "Y = tweets_df_es.label\n",
        "# Divide the data into train test partitions\n",
        "X_train, X_test, y_train, y_test = train_test_split(corpus_bow_sparse, Y, test_size=0.4, random_state=42)\n",
        "clf = MultinomialNB()\n",
        "clf.fit(X_train, y_train)\n",
        "y_train_pred = clf.predict(X_train)\n",
        "y_test_pred = clf.predict(X_test)\n",
        "\n",
        "print(classification_report(y_train, y_train_pred))\n",
        "print(classification_report(y_test, y_test_pred))"
      ],
      "metadata": {
        "colab": {
          "base_uri": "https://localhost:8080/"
        },
        "id": "cZRSrV7dHpXx",
        "outputId": "4a3e60b5-5463-4736-d622-0d0a2e5ccfdb"
      },
      "execution_count": null,
      "outputs": [
        {
          "output_type": "stream",
          "name": "stdout",
          "text": [
            "              precision    recall  f1-score   support\n",
            "\n",
            "           0       0.88      0.81      0.85        27\n",
            "           1       0.84      0.89      0.87       119\n",
            "           2       0.84      0.84      0.84        55\n",
            "           3       0.92      0.89      0.90       123\n",
            "\n",
            "    accuracy                           0.87       324\n",
            "   macro avg       0.87      0.86      0.86       324\n",
            "weighted avg       0.87      0.87      0.87       324\n",
            "\n",
            "              precision    recall  f1-score   support\n",
            "\n",
            "           0       0.11      0.20      0.14        15\n",
            "           1       0.57      0.55      0.56        83\n",
            "           2       0.17      0.21      0.19        38\n",
            "           3       0.70      0.56      0.62        81\n",
            "\n",
            "    accuracy                           0.47       217\n",
            "   macro avg       0.39      0.38      0.38       217\n",
            "weighted avg       0.52      0.47      0.49       217\n",
            "\n"
          ]
        }
      ]
    },
    {
      "cell_type": "code",
      "source": [
        "print(\"Distribución real de target\")\n",
        "Y.value_counts(True)"
      ],
      "metadata": {
        "colab": {
          "base_uri": "https://localhost:8080/"
        },
        "outputId": "0e0890ac-0c07-4297-ac8b-e9eca69034e3",
        "id": "dSgYVNP9aM4q"
      },
      "execution_count": null,
      "outputs": [
        {
          "output_type": "stream",
          "name": "stdout",
          "text": [
            "Distribución real de target\n"
          ]
        },
        {
          "output_type": "execute_result",
          "data": {
            "text/plain": [
              "3    0.377079\n",
              "1    0.373383\n",
              "2    0.171904\n",
              "0    0.077634\n",
              "Name: label, dtype: float64"
            ]
          },
          "metadata": {},
          "execution_count": 106
        }
      ]
    },
    {
      "cell_type": "code",
      "source": [
        "print(\"Distribución predicha train\")\n",
        "pd.Series(y_train_pred).value_counts(True)"
      ],
      "metadata": {
        "colab": {
          "base_uri": "https://localhost:8080/"
        },
        "outputId": "7ea80c35-0b86-4e9e-c7fb-101b2fcca2a6",
        "id": "TTFp1l_IaM4r"
      },
      "execution_count": null,
      "outputs": [
        {
          "output_type": "stream",
          "name": "stdout",
          "text": [
            "Distribución predicha train\n"
          ]
        },
        {
          "output_type": "execute_result",
          "data": {
            "text/plain": [
              "1    0.388889\n",
              "3    0.364198\n",
              "2    0.169753\n",
              "0    0.077160\n",
              "dtype: float64"
            ]
          },
          "metadata": {},
          "execution_count": 107
        }
      ]
    },
    {
      "cell_type": "code",
      "source": [
        "print(\"Distribución predicha test\")\n",
        "pd.Series(y_test_pred).value_counts(True)"
      ],
      "metadata": {
        "colab": {
          "base_uri": "https://localhost:8080/"
        },
        "outputId": "9fc42d03-d9ea-4d01-ca2e-cafa17e4c1d1",
        "id": "z2NGrXERaM4r"
      },
      "execution_count": null,
      "outputs": [
        {
          "output_type": "stream",
          "name": "stdout",
          "text": [
            "Distribución predicha test\n"
          ]
        },
        {
          "output_type": "execute_result",
          "data": {
            "text/plain": [
              "1    0.368664\n",
              "3    0.294931\n",
              "2    0.211982\n",
              "0    0.124424\n",
              "dtype: float64"
            ]
          },
          "metadata": {},
          "execution_count": 108
        }
      ]
    },
    {
      "cell_type": "code",
      "source": [
        "# Code for BoW representation\n",
        "Y = tweets_df_es.label\n",
        "# Divide the data into train test partitions\n",
        "X_train, X_test, y_train, y_test = train_test_split(corpus_tfidf_sparse, Y, test_size=0.4, random_state=42)\n",
        "clf = MultinomialNB()\n",
        "clf.fit(X_train, y_train)\n",
        "y_train_pred = clf.predict(X_train)\n",
        "y_test_pred = clf.predict(X_test)\n",
        "\n",
        "print(classification_report(y_train, y_train_pred))\n",
        "print(classification_report(y_test, y_test_pred))\n",
        "\n",
        "print(accuracy_score(y_test, y_test_pred, normalize=True))"
      ],
      "metadata": {
        "colab": {
          "base_uri": "https://localhost:8080/"
        },
        "id": "zFCXPIlBHqga",
        "outputId": "db537b66-0bc3-4dcf-e0e1-6cda78423945"
      },
      "execution_count": null,
      "outputs": [
        {
          "output_type": "stream",
          "name": "stdout",
          "text": [
            "              precision    recall  f1-score   support\n",
            "\n",
            "           0       0.00      0.00      0.00        27\n",
            "           1       0.60      0.89      0.72       119\n",
            "           2       1.00      0.05      0.10        55\n",
            "           3       0.76      0.89      0.82       123\n",
            "\n",
            "    accuracy                           0.67       324\n",
            "   macro avg       0.59      0.46      0.41       324\n",
            "weighted avg       0.68      0.67      0.59       324\n",
            "\n",
            "              precision    recall  f1-score   support\n",
            "\n",
            "           0       0.00      0.00      0.00        15\n",
            "           1       0.46      0.65      0.54        83\n",
            "           2       0.00      0.00      0.00        38\n",
            "           3       0.46      0.57      0.51        81\n",
            "\n",
            "    accuracy                           0.46       217\n",
            "   macro avg       0.23      0.30      0.26       217\n",
            "weighted avg       0.35      0.46      0.40       217\n",
            "\n",
            "0.4608294930875576\n"
          ]
        },
        {
          "output_type": "stream",
          "name": "stderr",
          "text": [
            "/usr/local/lib/python3.8/dist-packages/sklearn/metrics/_classification.py:1318: UndefinedMetricWarning: Precision and F-score are ill-defined and being set to 0.0 in labels with no predicted samples. Use `zero_division` parameter to control this behavior.\n",
            "  _warn_prf(average, modifier, msg_start, len(result))\n",
            "/usr/local/lib/python3.8/dist-packages/sklearn/metrics/_classification.py:1318: UndefinedMetricWarning: Precision and F-score are ill-defined and being set to 0.0 in labels with no predicted samples. Use `zero_division` parameter to control this behavior.\n",
            "  _warn_prf(average, modifier, msg_start, len(result))\n",
            "/usr/local/lib/python3.8/dist-packages/sklearn/metrics/_classification.py:1318: UndefinedMetricWarning: Precision and F-score are ill-defined and being set to 0.0 in labels with no predicted samples. Use `zero_division` parameter to control this behavior.\n",
            "  _warn_prf(average, modifier, msg_start, len(result))\n",
            "/usr/local/lib/python3.8/dist-packages/sklearn/metrics/_classification.py:1318: UndefinedMetricWarning: Precision and F-score are ill-defined and being set to 0.0 in labels with no predicted samples. Use `zero_division` parameter to control this behavior.\n",
            "  _warn_prf(average, modifier, msg_start, len(result))\n",
            "/usr/local/lib/python3.8/dist-packages/sklearn/metrics/_classification.py:1318: UndefinedMetricWarning: Precision and F-score are ill-defined and being set to 0.0 in labels with no predicted samples. Use `zero_division` parameter to control this behavior.\n",
            "  _warn_prf(average, modifier, msg_start, len(result))\n",
            "/usr/local/lib/python3.8/dist-packages/sklearn/metrics/_classification.py:1318: UndefinedMetricWarning: Precision and F-score are ill-defined and being set to 0.0 in labels with no predicted samples. Use `zero_division` parameter to control this behavior.\n",
            "  _warn_prf(average, modifier, msg_start, len(result))\n"
          ]
        }
      ]
    },
    {
      "cell_type": "code",
      "source": [
        "print(\"Distribución predicha train\")\n",
        "pd.Series(y_train_pred).value_counts(True)"
      ],
      "metadata": {
        "colab": {
          "base_uri": "https://localhost:8080/"
        },
        "outputId": "1ea1390d-0ec1-408a-fdf8-93247004a864",
        "id": "BUk5XZH8aghO"
      },
      "execution_count": null,
      "outputs": [
        {
          "output_type": "stream",
          "name": "stdout",
          "text": [
            "Distribución predicha train\n"
          ]
        },
        {
          "output_type": "execute_result",
          "data": {
            "text/plain": [
              "1    0.546296\n",
              "3    0.444444\n",
              "2    0.009259\n",
              "dtype: float64"
            ]
          },
          "metadata": {},
          "execution_count": 110
        }
      ]
    },
    {
      "cell_type": "code",
      "source": [
        "print(\"Distribución predicha test\")\n",
        "pd.Series(y_test_pred).value_counts(True)"
      ],
      "metadata": {
        "colab": {
          "base_uri": "https://localhost:8080/"
        },
        "outputId": "78c59307-967d-4b76-8b01-02c7753115dc",
        "id": "V8aRXtpGaghP"
      },
      "execution_count": null,
      "outputs": [
        {
          "output_type": "stream",
          "name": "stdout",
          "text": [
            "Distribución predicha test\n"
          ]
        },
        {
          "output_type": "execute_result",
          "data": {
            "text/plain": [
              "1    0.543779\n",
              "3    0.456221\n",
              "dtype: float64"
            ]
          },
          "metadata": {},
          "execution_count": 111
        }
      ]
    },
    {
      "cell_type": "markdown",
      "source": [
        "# Conclusiones Clasificación  \n",
        "Al observar las métricas de los modelos dada una transformación BOW y TF-IDF nos damos cuenta que las métricas a nivel general (accuracy) resultan mejores para la transformación TF-IDF, sin embargo al revisar el detalle de cada una de las clases mediante otras métricas (precisión, recall, f1-score) nos damos cuenta que la transformación BOW resulta ser un modelo más confiable, al manter la distribución de las etiquetas origianales.\n",
        "Cabe destacar que para ambas transformaciones- sin importar el idioma se sufre de overfitting. Se propone que para solucionar este tema se realice una limpieza de datos a mayor detalle."
      ],
      "metadata": {
        "id": "rYMUAn1GugQz"
      }
    },
    {
      "cell_type": "markdown",
      "metadata": {
        "id": "RQl_4FDUiE_z"
      },
      "source": [
        "## 2.5 Tradución de textos (1 punto)\n",
        "\n",
        "Otra opción para trabajar con textos en diferentes idiomas consiste en traducir los textos de un idioma al otro.\n",
        "\n",
        "Para explorar esta opción vamos a usar la librería `deep_translator` y dentro de ella el traductor de Google. En este [link](https://pypi.org/project/deep-translator/) puede ver las diferentes funcionalidades de esta librería y puede ver que incluye otros traductores automáticos; la mayoría de estos traductores requieren generar claves específicas para su uso, mientras que el de Google se puede usar directamente, por este motivo, nos vamos a decantar por este último.\n",
        "\n",
        "Las siguientes celdas de código importan esta librería y muestran con un ejemplo como usar el traductor de Google."
      ]
    },
    {
      "cell_type": "code",
      "metadata": {
        "id": "Ivj56GcpiyGJ",
        "colab": {
          "base_uri": "https://localhost:8080/"
        },
        "outputId": "ea362a02-18cc-4f5e-d267-c2fa845ba098"
      },
      "source": [
        "!pip install -U deep_translator"
      ],
      "execution_count": null,
      "outputs": [
        {
          "output_type": "stream",
          "name": "stdout",
          "text": [
            "Looking in indexes: https://pypi.org/simple, https://us-python.pkg.dev/colab-wheels/public/simple/\n",
            "Collecting deep_translator\n",
            "  Downloading deep_translator-1.10.1-py3-none-any.whl (35 kB)\n",
            "Requirement already satisfied: requests<3.0.0,>=2.23.0 in /usr/local/lib/python3.8/dist-packages (from deep_translator) (2.25.1)\n",
            "Collecting beautifulsoup4<5.0.0,>=4.9.1\n",
            "  Downloading beautifulsoup4-4.11.2-py3-none-any.whl (129 kB)\n",
            "\u001b[2K     \u001b[90m━━━━━━━━━━━━━━━━━━━━━━━━━━━━━━━━━━━━━━━\u001b[0m \u001b[32m129.4/129.4 KB\u001b[0m \u001b[31m6.6 MB/s\u001b[0m eta \u001b[36m0:00:00\u001b[0m\n",
            "\u001b[?25hCollecting soupsieve>1.2\n",
            "  Downloading soupsieve-2.4-py3-none-any.whl (37 kB)\n",
            "Requirement already satisfied: chardet<5,>=3.0.2 in /usr/local/lib/python3.8/dist-packages (from requests<3.0.0,>=2.23.0->deep_translator) (4.0.0)\n",
            "Requirement already satisfied: certifi>=2017.4.17 in /usr/local/lib/python3.8/dist-packages (from requests<3.0.0,>=2.23.0->deep_translator) (2022.12.7)\n",
            "Requirement already satisfied: urllib3<1.27,>=1.21.1 in /usr/local/lib/python3.8/dist-packages (from requests<3.0.0,>=2.23.0->deep_translator) (1.26.14)\n",
            "Requirement already satisfied: idna<3,>=2.5 in /usr/local/lib/python3.8/dist-packages (from requests<3.0.0,>=2.23.0->deep_translator) (2.10)\n",
            "Installing collected packages: soupsieve, beautifulsoup4, deep_translator\n",
            "  Attempting uninstall: beautifulsoup4\n",
            "    Found existing installation: beautifulsoup4 4.6.3\n",
            "    Uninstalling beautifulsoup4-4.6.3:\n",
            "      Successfully uninstalled beautifulsoup4-4.6.3\n",
            "Successfully installed beautifulsoup4-4.11.2 deep_translator-1.10.1 soupsieve-2.4\n"
          ]
        }
      ]
    },
    {
      "cell_type": "code",
      "metadata": {
        "id": "rkytAzM17glt",
        "colab": {
          "base_uri": "https://localhost:8080/",
          "height": 35
        },
        "outputId": "ac8ae9c1-0aee-4ff4-f3fd-91efea50c9a7"
      },
      "source": [
        "from deep_translator import GoogleTranslator\n",
        "translator = GoogleTranslator(source='es', target='en')\n",
        "translator.translate('Esto es un texto en castellano que vamos a traducir al inglés')"
      ],
      "execution_count": null,
      "outputs": [
        {
          "output_type": "execute_result",
          "data": {
            "text/plain": [
              "'This is a text in Spanish that we are going to translate into English'"
            ],
            "application/vnd.google.colaboratory.intrinsic+json": {
              "type": "string"
            }
          },
          "metadata": {},
          "execution_count": 113
        }
      ]
    },
    {
      "cell_type": "markdown",
      "metadata": {
        "id": "FX6TtvAa78uQ"
      },
      "source": [
        "Usando esta librería, explore las siguientes opciones:\n",
        "* Traduzca los tweets en castellano a inglés y genere un único corpus de datos con el que resolver el problema de clasificación. \n",
        "\n",
        "* Traduzca los tweets en inglés a castellano y genere un único corpus de datos con el que resolver el problema de clasificación. \n",
        "\n",
        "Compare las prestaciones de ambas opciones con las obtenidas con el modelo que usa clasificadores independientes. Para esta comparación puede usar el preprocesado y vectorización de los datos diseñado anteriormente y es suficiente con que utilice una única representación vectorial de los datos (BoW o TF-IDF, la que considere que proporcioan mejores prestaciones).  Analice los resultados obtenidos.\n",
        "\n",
        "*Nota*: La tradución de los textos puede llevar unos minutos, sea paciente..."
      ]
    },
    {
      "cell_type": "markdown",
      "source": [
        "Traducción castellano a inglés"
      ],
      "metadata": {
        "id": "aq7ZqfAqds6h"
      }
    },
    {
      "cell_type": "code",
      "source": [
        "translator = GoogleTranslator(source='es', target='en')"
      ],
      "metadata": {
        "id": "RtcWYNPZdwA_"
      },
      "execution_count": null,
      "outputs": []
    },
    {
      "cell_type": "code",
      "source": [
        "%%time\n",
        "tweets_df_es['tweet_trans'] = tweets_df_es.tweet.apply(translator.translate)"
      ],
      "metadata": {
        "colab": {
          "base_uri": "https://localhost:8080/"
        },
        "id": "p1HAEbC3eQSK",
        "outputId": "f6e970cb-80ed-4776-986c-59e0cf6a792e"
      },
      "execution_count": null,
      "outputs": [
        {
          "output_type": "stream",
          "name": "stdout",
          "text": [
            "CPU times: user 21.3 s, sys: 1.19 s, total: 22.5 s\n",
            "Wall time: 14min 55s\n"
          ]
        },
        {
          "output_type": "stream",
          "name": "stderr",
          "text": [
            "<timed exec>:1: SettingWithCopyWarning: \n",
            "A value is trying to be set on a copy of a slice from a DataFrame.\n",
            "Try using .loc[row_indexer,col_indexer] = value instead\n",
            "\n",
            "See the caveats in the documentation: https://pandas.pydata.org/pandas-docs/stable/user_guide/indexing.html#returning-a-view-versus-a-copy\n"
          ]
        }
      ]
    },
    {
      "cell_type": "code",
      "source": [
        "tweets_df_es.tail()"
      ],
      "metadata": {
        "colab": {
          "base_uri": "https://localhost:8080/",
          "height": 250
        },
        "id": "9zYog67mfaNk",
        "outputId": "916e070b-bb86-48af-b07b-f9dcd77eee57"
      },
      "execution_count": null,
      "outputs": [
        {
          "output_type": "execute_result",
          "data": {
            "text/plain": [
              "                                                 tweet  label lang  \\\n",
              "860   Durante el 2020 os iremos informando de todas...      1   es   \n",
              "861   Pasa las #NAVIDADES????en #Fuerteventura desd...      0   es   \n",
              "866   ??El #BLACKFRIDAY se acerca y en #BLUESEA Hot...      1   es   \n",
              "870   La costa de #Cofete es ideal para contemplar ...      1   es   \n",
              "871   Vía @preferente ??  https://goo.gl/7CKnPL    ...      1   es   \n",
              "\n",
              "                                           tweet_clean  \\\n",
              "860  [2020, iremos, informando, toda, buenas, pract...   \n",
              "861  [pasa, navidadesen, fuerteventura, 42, do, pe...   \n",
              "866  [blackfriday, acerca, bluesea, hotel, preparad...   \n",
              "870  [costa, cofete, ideal, contemplar, mejores, pu...   \n",
              "871  [via, preferente, httpsgoogl7cknpl, ona, hotel...   \n",
              "\n",
              "                                           tweet_trans  \\\n",
              "860  During 2020 we will inform you of all the good...   \n",
              "861  Spend #CHRISTMAS????in #Fuerteventura from 42 ...   \n",
              "866  ??#BLACKFRIDAY is coming up and at #BLUESEA Ho...   \n",
              "870  The #Cofete coast is ideal for contemplating s...   \n",
              "871  Via @preferente ?? https://goo.gl/7CKnPL \"Ona ...   \n",
              "\n",
              "                                     tweet_trans_clean  \n",
              "860  [2020, inform, good, practice, action, energy,...  \n",
              "861  [spend, christmasin, fuerteventura, 42, two, p...  \n",
              "866  [blackfriday, coming, bluesea, hotel, already,...  \n",
              "870  [cofete, coast, ideal, contemplating, best, su...  \n",
              "871  [via, preferente, httpsgoogl7cknpl, ona, hotel...  "
            ],
            "text/html": [
              "\n",
              "  <div id=\"df-5f4fa2aa-a343-48cd-adde-b7a6f75a069b\">\n",
              "    <div class=\"colab-df-container\">\n",
              "      <div>\n",
              "<style scoped>\n",
              "    .dataframe tbody tr th:only-of-type {\n",
              "        vertical-align: middle;\n",
              "    }\n",
              "\n",
              "    .dataframe tbody tr th {\n",
              "        vertical-align: top;\n",
              "    }\n",
              "\n",
              "    .dataframe thead th {\n",
              "        text-align: right;\n",
              "    }\n",
              "</style>\n",
              "<table border=\"1\" class=\"dataframe\">\n",
              "  <thead>\n",
              "    <tr style=\"text-align: right;\">\n",
              "      <th></th>\n",
              "      <th>tweet</th>\n",
              "      <th>label</th>\n",
              "      <th>lang</th>\n",
              "      <th>tweet_clean</th>\n",
              "      <th>tweet_trans</th>\n",
              "      <th>tweet_trans_clean</th>\n",
              "    </tr>\n",
              "  </thead>\n",
              "  <tbody>\n",
              "    <tr>\n",
              "      <th>860</th>\n",
              "      <td>Durante el 2020 os iremos informando de todas...</td>\n",
              "      <td>1</td>\n",
              "      <td>es</td>\n",
              "      <td>[2020, iremos, informando, toda, buenas, pract...</td>\n",
              "      <td>During 2020 we will inform you of all the good...</td>\n",
              "      <td>[2020, inform, good, practice, action, energy,...</td>\n",
              "    </tr>\n",
              "    <tr>\n",
              "      <th>861</th>\n",
              "      <td>Pasa las #NAVIDADES????en #Fuerteventura desd...</td>\n",
              "      <td>0</td>\n",
              "      <td>es</td>\n",
              "      <td>[pasa, navidadesen, fuerteventura, 42, do, pe...</td>\n",
              "      <td>Spend #CHRISTMAS????in #Fuerteventura from 42 ...</td>\n",
              "      <td>[spend, christmasin, fuerteventura, 42, two, p...</td>\n",
              "    </tr>\n",
              "    <tr>\n",
              "      <th>866</th>\n",
              "      <td>??El #BLACKFRIDAY se acerca y en #BLUESEA Hot...</td>\n",
              "      <td>1</td>\n",
              "      <td>es</td>\n",
              "      <td>[blackfriday, acerca, bluesea, hotel, preparad...</td>\n",
              "      <td>??#BLACKFRIDAY is coming up and at #BLUESEA Ho...</td>\n",
              "      <td>[blackfriday, coming, bluesea, hotel, already,...</td>\n",
              "    </tr>\n",
              "    <tr>\n",
              "      <th>870</th>\n",
              "      <td>La costa de #Cofete es ideal para contemplar ...</td>\n",
              "      <td>1</td>\n",
              "      <td>es</td>\n",
              "      <td>[costa, cofete, ideal, contemplar, mejores, pu...</td>\n",
              "      <td>The #Cofete coast is ideal for contemplating s...</td>\n",
              "      <td>[cofete, coast, ideal, contemplating, best, su...</td>\n",
              "    </tr>\n",
              "    <tr>\n",
              "      <th>871</th>\n",
              "      <td>Vía @preferente ??  https://goo.gl/7CKnPL    ...</td>\n",
              "      <td>1</td>\n",
              "      <td>es</td>\n",
              "      <td>[via, preferente, httpsgoogl7cknpl, ona, hotel...</td>\n",
              "      <td>Via @preferente ?? https://goo.gl/7CKnPL \"Ona ...</td>\n",
              "      <td>[via, preferente, httpsgoogl7cknpl, ona, hotel...</td>\n",
              "    </tr>\n",
              "  </tbody>\n",
              "</table>\n",
              "</div>\n",
              "      <button class=\"colab-df-convert\" onclick=\"convertToInteractive('df-5f4fa2aa-a343-48cd-adde-b7a6f75a069b')\"\n",
              "              title=\"Convert this dataframe to an interactive table.\"\n",
              "              style=\"display:none;\">\n",
              "        \n",
              "  <svg xmlns=\"http://www.w3.org/2000/svg\" height=\"24px\"viewBox=\"0 0 24 24\"\n",
              "       width=\"24px\">\n",
              "    <path d=\"M0 0h24v24H0V0z\" fill=\"none\"/>\n",
              "    <path d=\"M18.56 5.44l.94 2.06.94-2.06 2.06-.94-2.06-.94-.94-2.06-.94 2.06-2.06.94zm-11 1L8.5 8.5l.94-2.06 2.06-.94-2.06-.94L8.5 2.5l-.94 2.06-2.06.94zm10 10l.94 2.06.94-2.06 2.06-.94-2.06-.94-.94-2.06-.94 2.06-2.06.94z\"/><path d=\"M17.41 7.96l-1.37-1.37c-.4-.4-.92-.59-1.43-.59-.52 0-1.04.2-1.43.59L10.3 9.45l-7.72 7.72c-.78.78-.78 2.05 0 2.83L4 21.41c.39.39.9.59 1.41.59.51 0 1.02-.2 1.41-.59l7.78-7.78 2.81-2.81c.8-.78.8-2.07 0-2.86zM5.41 20L4 18.59l7.72-7.72 1.47 1.35L5.41 20z\"/>\n",
              "  </svg>\n",
              "      </button>\n",
              "      \n",
              "  <style>\n",
              "    .colab-df-container {\n",
              "      display:flex;\n",
              "      flex-wrap:wrap;\n",
              "      gap: 12px;\n",
              "    }\n",
              "\n",
              "    .colab-df-convert {\n",
              "      background-color: #E8F0FE;\n",
              "      border: none;\n",
              "      border-radius: 50%;\n",
              "      cursor: pointer;\n",
              "      display: none;\n",
              "      fill: #1967D2;\n",
              "      height: 32px;\n",
              "      padding: 0 0 0 0;\n",
              "      width: 32px;\n",
              "    }\n",
              "\n",
              "    .colab-df-convert:hover {\n",
              "      background-color: #E2EBFA;\n",
              "      box-shadow: 0px 1px 2px rgba(60, 64, 67, 0.3), 0px 1px 3px 1px rgba(60, 64, 67, 0.15);\n",
              "      fill: #174EA6;\n",
              "    }\n",
              "\n",
              "    [theme=dark] .colab-df-convert {\n",
              "      background-color: #3B4455;\n",
              "      fill: #D2E3FC;\n",
              "    }\n",
              "\n",
              "    [theme=dark] .colab-df-convert:hover {\n",
              "      background-color: #434B5C;\n",
              "      box-shadow: 0px 1px 3px 1px rgba(0, 0, 0, 0.15);\n",
              "      filter: drop-shadow(0px 1px 2px rgba(0, 0, 0, 0.3));\n",
              "      fill: #FFFFFF;\n",
              "    }\n",
              "  </style>\n",
              "\n",
              "      <script>\n",
              "        const buttonEl =\n",
              "          document.querySelector('#df-5f4fa2aa-a343-48cd-adde-b7a6f75a069b button.colab-df-convert');\n",
              "        buttonEl.style.display =\n",
              "          google.colab.kernel.accessAllowed ? 'block' : 'none';\n",
              "\n",
              "        async function convertToInteractive(key) {\n",
              "          const element = document.querySelector('#df-5f4fa2aa-a343-48cd-adde-b7a6f75a069b');\n",
              "          const dataTable =\n",
              "            await google.colab.kernel.invokeFunction('convertToInteractive',\n",
              "                                                     [key], {});\n",
              "          if (!dataTable) return;\n",
              "\n",
              "          const docLinkHtml = 'Like what you see? Visit the ' +\n",
              "            '<a target=\"_blank\" href=https://colab.research.google.com/notebooks/data_table.ipynb>data table notebook</a>'\n",
              "            + ' to learn more about interactive tables.';\n",
              "          element.innerHTML = '';\n",
              "          dataTable['output_type'] = 'display_data';\n",
              "          await google.colab.output.renderOutput(dataTable, element);\n",
              "          const docLink = document.createElement('div');\n",
              "          docLink.innerHTML = docLinkHtml;\n",
              "          element.appendChild(docLink);\n",
              "        }\n",
              "      </script>\n",
              "    </div>\n",
              "  </div>\n",
              "  "
            ]
          },
          "metadata": {},
          "execution_count": 120
        }
      ]
    },
    {
      "cell_type": "code",
      "source": [
        "tweets_df_es['tweet_trans_clean']=tweets_df_es.tweet_trans.apply(lambda x: normalize(x, 'en'))"
      ],
      "metadata": {
        "colab": {
          "base_uri": "https://localhost:8080/"
        },
        "id": "5fJ8G97keyUT",
        "outputId": "5a2733e5-be41-4845-9b26-af6ba80e1dda"
      },
      "execution_count": null,
      "outputs": [
        {
          "output_type": "stream",
          "name": "stderr",
          "text": [
            "<ipython-input-117-5a040321d421>:1: SettingWithCopyWarning: \n",
            "A value is trying to be set on a copy of a slice from a DataFrame.\n",
            "Try using .loc[row_indexer,col_indexer] = value instead\n",
            "\n",
            "See the caveats in the documentation: https://pandas.pydata.org/pandas-docs/stable/user_guide/indexing.html#returning-a-view-versus-a-copy\n",
            "  tweets_df_es['tweet_trans_clean']=tweets_df_es.tweet_trans.apply(lambda x: normalize(x, 'en'))\n"
          ]
        }
      ]
    },
    {
      "cell_type": "code",
      "source": [
        "tweets_df_trans_en=pd.DataFrame(pd.concat([tweets_df_en.tweet_clean,tweets_df_es.tweet_trans_clean]),columns=['tweet_clean'])\n",
        "tweets_df_trans_en['label']=pd.concat([tweets_df_en.label,tweets_df_es.label])"
      ],
      "metadata": {
        "id": "M-YkRMP9iz_H"
      },
      "execution_count": null,
      "outputs": []
    },
    {
      "cell_type": "code",
      "source": [
        "tweets_df_trans_en"
      ],
      "metadata": {
        "colab": {
          "base_uri": "https://localhost:8080/",
          "height": 424
        },
        "id": "WSYXVRapj-Ke",
        "outputId": "d26c1c52-2282-4ee5-b60c-6b00b8e30f5b"
      },
      "execution_count": null,
      "outputs": [
        {
          "output_type": "execute_result",
          "data": {
            "text/plain": [
              "                                           tweet_clean  label\n",
              "0    [bravosbookselection, granmeliahotels, brings,...      1\n",
              "1    [result, partnership, audispain, several, hote...      3\n",
              "5    [3, property, dominicanrepublic, among, top, 5...      3\n",
              "7    [driven, commitment, sustainability, excellenc...      3\n",
              "9    [collaborate, audispain, promote, benefit, sus...      3\n",
              "..                                                 ...    ...\n",
              "860  [2020, inform, good, practice, action, energy,...      1\n",
              "861  [spend, christmasin, fuerteventura, 42, two, p...      0\n",
              "866  [blackfriday, coming, bluesea, hotel, already,...      1\n",
              "870  [cofete, coast, ideal, contemplating, best, su...      1\n",
              "871  [via, preferente, httpsgoogl7cknpl, ona, hotel...      1\n",
              "\n",
              "[874 rows x 2 columns]"
            ],
            "text/html": [
              "\n",
              "  <div id=\"df-755d060c-5e2c-49b0-af53-0e6d7837c47f\">\n",
              "    <div class=\"colab-df-container\">\n",
              "      <div>\n",
              "<style scoped>\n",
              "    .dataframe tbody tr th:only-of-type {\n",
              "        vertical-align: middle;\n",
              "    }\n",
              "\n",
              "    .dataframe tbody tr th {\n",
              "        vertical-align: top;\n",
              "    }\n",
              "\n",
              "    .dataframe thead th {\n",
              "        text-align: right;\n",
              "    }\n",
              "</style>\n",
              "<table border=\"1\" class=\"dataframe\">\n",
              "  <thead>\n",
              "    <tr style=\"text-align: right;\">\n",
              "      <th></th>\n",
              "      <th>tweet_clean</th>\n",
              "      <th>label</th>\n",
              "    </tr>\n",
              "  </thead>\n",
              "  <tbody>\n",
              "    <tr>\n",
              "      <th>0</th>\n",
              "      <td>[bravosbookselection, granmeliahotels, brings,...</td>\n",
              "      <td>1</td>\n",
              "    </tr>\n",
              "    <tr>\n",
              "      <th>1</th>\n",
              "      <td>[result, partnership, audispain, several, hote...</td>\n",
              "      <td>3</td>\n",
              "    </tr>\n",
              "    <tr>\n",
              "      <th>5</th>\n",
              "      <td>[3, property, dominicanrepublic, among, top, 5...</td>\n",
              "      <td>3</td>\n",
              "    </tr>\n",
              "    <tr>\n",
              "      <th>7</th>\n",
              "      <td>[driven, commitment, sustainability, excellenc...</td>\n",
              "      <td>3</td>\n",
              "    </tr>\n",
              "    <tr>\n",
              "      <th>9</th>\n",
              "      <td>[collaborate, audispain, promote, benefit, sus...</td>\n",
              "      <td>3</td>\n",
              "    </tr>\n",
              "    <tr>\n",
              "      <th>...</th>\n",
              "      <td>...</td>\n",
              "      <td>...</td>\n",
              "    </tr>\n",
              "    <tr>\n",
              "      <th>860</th>\n",
              "      <td>[2020, inform, good, practice, action, energy,...</td>\n",
              "      <td>1</td>\n",
              "    </tr>\n",
              "    <tr>\n",
              "      <th>861</th>\n",
              "      <td>[spend, christmasin, fuerteventura, 42, two, p...</td>\n",
              "      <td>0</td>\n",
              "    </tr>\n",
              "    <tr>\n",
              "      <th>866</th>\n",
              "      <td>[blackfriday, coming, bluesea, hotel, already,...</td>\n",
              "      <td>1</td>\n",
              "    </tr>\n",
              "    <tr>\n",
              "      <th>870</th>\n",
              "      <td>[cofete, coast, ideal, contemplating, best, su...</td>\n",
              "      <td>1</td>\n",
              "    </tr>\n",
              "    <tr>\n",
              "      <th>871</th>\n",
              "      <td>[via, preferente, httpsgoogl7cknpl, ona, hotel...</td>\n",
              "      <td>1</td>\n",
              "    </tr>\n",
              "  </tbody>\n",
              "</table>\n",
              "<p>874 rows × 2 columns</p>\n",
              "</div>\n",
              "      <button class=\"colab-df-convert\" onclick=\"convertToInteractive('df-755d060c-5e2c-49b0-af53-0e6d7837c47f')\"\n",
              "              title=\"Convert this dataframe to an interactive table.\"\n",
              "              style=\"display:none;\">\n",
              "        \n",
              "  <svg xmlns=\"http://www.w3.org/2000/svg\" height=\"24px\"viewBox=\"0 0 24 24\"\n",
              "       width=\"24px\">\n",
              "    <path d=\"M0 0h24v24H0V0z\" fill=\"none\"/>\n",
              "    <path d=\"M18.56 5.44l.94 2.06.94-2.06 2.06-.94-2.06-.94-.94-2.06-.94 2.06-2.06.94zm-11 1L8.5 8.5l.94-2.06 2.06-.94-2.06-.94L8.5 2.5l-.94 2.06-2.06.94zm10 10l.94 2.06.94-2.06 2.06-.94-2.06-.94-.94-2.06-.94 2.06-2.06.94z\"/><path d=\"M17.41 7.96l-1.37-1.37c-.4-.4-.92-.59-1.43-.59-.52 0-1.04.2-1.43.59L10.3 9.45l-7.72 7.72c-.78.78-.78 2.05 0 2.83L4 21.41c.39.39.9.59 1.41.59.51 0 1.02-.2 1.41-.59l7.78-7.78 2.81-2.81c.8-.78.8-2.07 0-2.86zM5.41 20L4 18.59l7.72-7.72 1.47 1.35L5.41 20z\"/>\n",
              "  </svg>\n",
              "      </button>\n",
              "      \n",
              "  <style>\n",
              "    .colab-df-container {\n",
              "      display:flex;\n",
              "      flex-wrap:wrap;\n",
              "      gap: 12px;\n",
              "    }\n",
              "\n",
              "    .colab-df-convert {\n",
              "      background-color: #E8F0FE;\n",
              "      border: none;\n",
              "      border-radius: 50%;\n",
              "      cursor: pointer;\n",
              "      display: none;\n",
              "      fill: #1967D2;\n",
              "      height: 32px;\n",
              "      padding: 0 0 0 0;\n",
              "      width: 32px;\n",
              "    }\n",
              "\n",
              "    .colab-df-convert:hover {\n",
              "      background-color: #E2EBFA;\n",
              "      box-shadow: 0px 1px 2px rgba(60, 64, 67, 0.3), 0px 1px 3px 1px rgba(60, 64, 67, 0.15);\n",
              "      fill: #174EA6;\n",
              "    }\n",
              "\n",
              "    [theme=dark] .colab-df-convert {\n",
              "      background-color: #3B4455;\n",
              "      fill: #D2E3FC;\n",
              "    }\n",
              "\n",
              "    [theme=dark] .colab-df-convert:hover {\n",
              "      background-color: #434B5C;\n",
              "      box-shadow: 0px 1px 3px 1px rgba(0, 0, 0, 0.15);\n",
              "      filter: drop-shadow(0px 1px 2px rgba(0, 0, 0, 0.3));\n",
              "      fill: #FFFFFF;\n",
              "    }\n",
              "  </style>\n",
              "\n",
              "      <script>\n",
              "        const buttonEl =\n",
              "          document.querySelector('#df-755d060c-5e2c-49b0-af53-0e6d7837c47f button.colab-df-convert');\n",
              "        buttonEl.style.display =\n",
              "          google.colab.kernel.accessAllowed ? 'block' : 'none';\n",
              "\n",
              "        async function convertToInteractive(key) {\n",
              "          const element = document.querySelector('#df-755d060c-5e2c-49b0-af53-0e6d7837c47f');\n",
              "          const dataTable =\n",
              "            await google.colab.kernel.invokeFunction('convertToInteractive',\n",
              "                                                     [key], {});\n",
              "          if (!dataTable) return;\n",
              "\n",
              "          const docLinkHtml = 'Like what you see? Visit the ' +\n",
              "            '<a target=\"_blank\" href=https://colab.research.google.com/notebooks/data_table.ipynb>data table notebook</a>'\n",
              "            + ' to learn more about interactive tables.';\n",
              "          element.innerHTML = '';\n",
              "          dataTable['output_type'] = 'display_data';\n",
              "          await google.colab.output.renderOutput(dataTable, element);\n",
              "          const docLink = document.createElement('div');\n",
              "          docLink.innerHTML = docLinkHtml;\n",
              "          element.appendChild(docLink);\n",
              "        }\n",
              "      </script>\n",
              "    </div>\n",
              "  </div>\n",
              "  "
            ]
          },
          "metadata": {},
          "execution_count": 129
        }
      ]
    },
    {
      "cell_type": "code",
      "source": [
        "corpus_en = tweets_df_trans_en.tweet_clean\n",
        "D_en = gensim.corpora.Dictionary(corpus_en)"
      ],
      "metadata": {
        "id": "ocRzv8YreXqO"
      },
      "execution_count": null,
      "outputs": []
    },
    {
      "cell_type": "code",
      "source": [
        "corpus_bow_en = [D_en.doc2bow(doc) for doc in corpus_en]"
      ],
      "metadata": {
        "id": "SyEUcsAskzeF"
      },
      "execution_count": null,
      "outputs": []
    },
    {
      "cell_type": "code",
      "source": [
        "from gensim.models import TfidfModel\n",
        "\n",
        "# fit TFIDF model for all the corpus\n",
        "model_en = TfidfModel(corpus_bow_en)  \n",
        "\n",
        "# apply model to the first corzpus document\n",
        "vector = model_en[corpus_bow_en[0]]  # apply model to the first corpus document\n",
        "print(vector)"
      ],
      "metadata": {
        "colab": {
          "base_uri": "https://localhost:8080/"
        },
        "outputId": "60bfb4e0-a6a8-437d-c6d0-6f67b2ce9d98",
        "id": "QKCN-DVKeBZM"
      },
      "execution_count": null,
      "outputs": [
        {
          "output_type": "stream",
          "name": "stdout",
          "text": [
            "[(0, 0.2042753069837379), (1, 0.21518465877629672), (2, 0.25684574609593674), (3, 0.2042753069837379), (4, 0.21518465877629672), (5, 0.1541522690087068), (6, 0.25684574609593674), (7, 0.18305380559775622), (8, 0.25684574609593674), (9, 0.1070084365382886), (10, 0.2042753069837379), (11, 0.12915264903965012), (12, 0.21518465877629672), (13, 0.25684574609593674), (14, 0.16591382646074296), (15, 0.15676858604165678), (16, 0.25684574609593674), (17, 0.19581335632834673), (18, 0.19581335632834673), (19, 0.1432429172161479), (20, 0.19581335632834673), (21, 0.18305380559775622), (22, 0.2042753069837379), (23, 0.12662360835340003), (24, 0.2042753069837379)]\n"
          ]
        }
      ]
    },
    {
      "cell_type": "code",
      "source": [
        "from gensim.matutils import corpus2dense, corpus2csc\n",
        "corpus_tfidf_en = [model_en[doc] for doc in corpus_bow_en]\n",
        "n_tokens = len(D_en)\n",
        "num_docs = len(corpus_bow_en)\n",
        "# Convert BoW representacion\n",
        "corpus_bow_sparse = corpus2csc(corpus_bow_en, num_terms=n_tokens, num_docs=num_docs).T\n",
        "# Convert TFIDF representacion\n",
        "corpus_tfidf_sparse = corpus2csc(corpus_tfidf_en, num_terms=n_tokens, num_docs=num_docs).T"
      ],
      "metadata": {
        "id": "wD6KXRFTeBZM"
      },
      "execution_count": null,
      "outputs": []
    },
    {
      "cell_type": "code",
      "source": [
        "from sklearn.naive_bayes import MultinomialNB, ComplementNB\n",
        "from sklearn.model_selection import train_test_split\n",
        "from sklearn.metrics import accuracy_score,classification_report\n",
        "# Code for BoW representation\n",
        "Y = tweets_df_trans_en.label\n",
        "# Divide the data into train test partitions\n",
        "X_train, X_test, y_train, y_test = train_test_split(corpus_bow_sparse, Y, test_size=0.4, random_state=42)\n",
        "clf = MultinomialNB()\n",
        "clf.fit(X_train, y_train)\n",
        "y_train_pred = clf.predict(X_train)\n",
        "y_test_pred = clf.predict(X_test)\n",
        "\n",
        "print(classification_report(y_train, y_train_pred))\n",
        "print(classification_report(y_test, y_test_pred))\n",
        "# print(accuracy_score(y_test, y_pred, normalize=True))"
      ],
      "metadata": {
        "colab": {
          "base_uri": "https://localhost:8080/"
        },
        "outputId": "56f52682-5724-4225-a504-ff7ab7b504a1",
        "id": "bf7ujNDbeBZN"
      },
      "execution_count": null,
      "outputs": [
        {
          "output_type": "stream",
          "name": "stdout",
          "text": [
            "              precision    recall  f1-score   support\n",
            "\n",
            "           0       1.00      0.91      0.95        46\n",
            "           1       0.96      0.99      0.97       232\n",
            "           2       1.00      0.91      0.95        88\n",
            "           3       0.97      1.00      0.98       158\n",
            "\n",
            "    accuracy                           0.97       524\n",
            "   macro avg       0.98      0.95      0.97       524\n",
            "weighted avg       0.97      0.97      0.97       524\n",
            "\n",
            "              precision    recall  f1-score   support\n",
            "\n",
            "           0       0.50      0.07      0.13        27\n",
            "           1       0.63      0.71      0.67       164\n",
            "           2       0.28      0.26      0.27        50\n",
            "           3       0.63      0.67      0.65       109\n",
            "\n",
            "    accuracy                           0.58       350\n",
            "   macro avg       0.51      0.43      0.43       350\n",
            "weighted avg       0.57      0.58      0.56       350\n",
            "\n"
          ]
        }
      ]
    },
    {
      "cell_type": "code",
      "source": [
        "print(\"Distribución real de target\")\n",
        "Y.value_counts(True)"
      ],
      "metadata": {
        "colab": {
          "base_uri": "https://localhost:8080/"
        },
        "outputId": "f8ee26df-421f-4150-ae1d-4e0511f7d3d2",
        "id": "dDbb0wsMeBZN"
      },
      "execution_count": null,
      "outputs": [
        {
          "output_type": "stream",
          "name": "stdout",
          "text": [
            "Distribución real de target\n"
          ]
        },
        {
          "output_type": "execute_result",
          "data": {
            "text/plain": [
              "1    0.453089\n",
              "3    0.305492\n",
              "2    0.157895\n",
              "0    0.083524\n",
              "Name: label, dtype: float64"
            ]
          },
          "metadata": {},
          "execution_count": 155
        }
      ]
    },
    {
      "cell_type": "code",
      "source": [
        "print(\"Distribución predicha train\")\n",
        "pd.Series(y_train_pred).value_counts(True)"
      ],
      "metadata": {
        "colab": {
          "base_uri": "https://localhost:8080/"
        },
        "outputId": "93f4c3cc-8467-4b15-df70-aaa165c6adf1",
        "id": "Nl-VJbAmeBZN"
      },
      "execution_count": null,
      "outputs": [
        {
          "output_type": "stream",
          "name": "stdout",
          "text": [
            "Distribución predicha train\n"
          ]
        },
        {
          "output_type": "execute_result",
          "data": {
            "text/plain": [
              "1    0.456107\n",
              "3    0.311069\n",
              "2    0.152672\n",
              "0    0.080153\n",
              "dtype: float64"
            ]
          },
          "metadata": {},
          "execution_count": 156
        }
      ]
    },
    {
      "cell_type": "code",
      "source": [
        "print(\"Distribución predicha test\")\n",
        "pd.Series(y_test_pred).value_counts(True)"
      ],
      "metadata": {
        "colab": {
          "base_uri": "https://localhost:8080/"
        },
        "outputId": "0bb5335c-0907-4fec-a81c-0540b32feea5",
        "id": "U403a16veBZN"
      },
      "execution_count": null,
      "outputs": [
        {
          "output_type": "stream",
          "name": "stdout",
          "text": [
            "Distribución predicha test\n"
          ]
        },
        {
          "output_type": "execute_result",
          "data": {
            "text/plain": [
              "1    0.525714\n",
              "3    0.328571\n",
              "2    0.134286\n",
              "0    0.011429\n",
              "dtype: float64"
            ]
          },
          "metadata": {},
          "execution_count": 157
        }
      ]
    },
    {
      "cell_type": "markdown",
      "source": [
        "Traducción inglés a castellano"
      ],
      "metadata": {
        "id": "AVYtjBz7l6zq"
      }
    },
    {
      "cell_type": "code",
      "source": [
        "translator = GoogleTranslator(source='en', target='es')"
      ],
      "metadata": {
        "id": "cQW6tFjBl6zq"
      },
      "execution_count": null,
      "outputs": []
    },
    {
      "cell_type": "code",
      "source": [
        "tweets_df_en.head()"
      ],
      "metadata": {
        "colab": {
          "base_uri": "https://localhost:8080/",
          "height": 206
        },
        "id": "6XuddqR9mDxI",
        "outputId": "6ffb3c04-5249-4014-9230-15c4f5d17d64"
      },
      "execution_count": null,
      "outputs": [
        {
          "output_type": "execute_result",
          "data": {
            "text/plain": [
              "                                               tweet  label lang  \\\n",
              "0   #BRAVOSBookSelection by @GranMeliaHotels brin...      1   en   \n",
              "1   As a result of our partnership with @audispai...      3   en   \n",
              "5   3 of our properties in the #DominicanRepublic...      3   en   \n",
              "7   Driven by our commitment to sustainability an...      3   en   \n",
              "9   We collaborate with @audispain to promote the...      3   en   \n",
              "\n",
              "                                         tweet_clean  \n",
              "0  [bravosbookselection, granmeliahotels, brings,...  \n",
              "1  [result, partnership, audispain, several, hote...  \n",
              "5  [3, property, dominicanrepublic, among, top, 5...  \n",
              "7  [driven, commitment, sustainability, excellenc...  \n",
              "9  [collaborate, audispain, promote, benefit, sus...  "
            ],
            "text/html": [
              "\n",
              "  <div id=\"df-a5db36cd-9c13-4a14-9300-b1f34a29c482\">\n",
              "    <div class=\"colab-df-container\">\n",
              "      <div>\n",
              "<style scoped>\n",
              "    .dataframe tbody tr th:only-of-type {\n",
              "        vertical-align: middle;\n",
              "    }\n",
              "\n",
              "    .dataframe tbody tr th {\n",
              "        vertical-align: top;\n",
              "    }\n",
              "\n",
              "    .dataframe thead th {\n",
              "        text-align: right;\n",
              "    }\n",
              "</style>\n",
              "<table border=\"1\" class=\"dataframe\">\n",
              "  <thead>\n",
              "    <tr style=\"text-align: right;\">\n",
              "      <th></th>\n",
              "      <th>tweet</th>\n",
              "      <th>label</th>\n",
              "      <th>lang</th>\n",
              "      <th>tweet_clean</th>\n",
              "    </tr>\n",
              "  </thead>\n",
              "  <tbody>\n",
              "    <tr>\n",
              "      <th>0</th>\n",
              "      <td>#BRAVOSBookSelection by @GranMeliaHotels brin...</td>\n",
              "      <td>1</td>\n",
              "      <td>en</td>\n",
              "      <td>[bravosbookselection, granmeliahotels, brings,...</td>\n",
              "    </tr>\n",
              "    <tr>\n",
              "      <th>1</th>\n",
              "      <td>As a result of our partnership with @audispai...</td>\n",
              "      <td>3</td>\n",
              "      <td>en</td>\n",
              "      <td>[result, partnership, audispain, several, hote...</td>\n",
              "    </tr>\n",
              "    <tr>\n",
              "      <th>5</th>\n",
              "      <td>3 of our properties in the #DominicanRepublic...</td>\n",
              "      <td>3</td>\n",
              "      <td>en</td>\n",
              "      <td>[3, property, dominicanrepublic, among, top, 5...</td>\n",
              "    </tr>\n",
              "    <tr>\n",
              "      <th>7</th>\n",
              "      <td>Driven by our commitment to sustainability an...</td>\n",
              "      <td>3</td>\n",
              "      <td>en</td>\n",
              "      <td>[driven, commitment, sustainability, excellenc...</td>\n",
              "    </tr>\n",
              "    <tr>\n",
              "      <th>9</th>\n",
              "      <td>We collaborate with @audispain to promote the...</td>\n",
              "      <td>3</td>\n",
              "      <td>en</td>\n",
              "      <td>[collaborate, audispain, promote, benefit, sus...</td>\n",
              "    </tr>\n",
              "  </tbody>\n",
              "</table>\n",
              "</div>\n",
              "      <button class=\"colab-df-convert\" onclick=\"convertToInteractive('df-a5db36cd-9c13-4a14-9300-b1f34a29c482')\"\n",
              "              title=\"Convert this dataframe to an interactive table.\"\n",
              "              style=\"display:none;\">\n",
              "        \n",
              "  <svg xmlns=\"http://www.w3.org/2000/svg\" height=\"24px\"viewBox=\"0 0 24 24\"\n",
              "       width=\"24px\">\n",
              "    <path d=\"M0 0h24v24H0V0z\" fill=\"none\"/>\n",
              "    <path d=\"M18.56 5.44l.94 2.06.94-2.06 2.06-.94-2.06-.94-.94-2.06-.94 2.06-2.06.94zm-11 1L8.5 8.5l.94-2.06 2.06-.94-2.06-.94L8.5 2.5l-.94 2.06-2.06.94zm10 10l.94 2.06.94-2.06 2.06-.94-2.06-.94-.94-2.06-.94 2.06-2.06.94z\"/><path d=\"M17.41 7.96l-1.37-1.37c-.4-.4-.92-.59-1.43-.59-.52 0-1.04.2-1.43.59L10.3 9.45l-7.72 7.72c-.78.78-.78 2.05 0 2.83L4 21.41c.39.39.9.59 1.41.59.51 0 1.02-.2 1.41-.59l7.78-7.78 2.81-2.81c.8-.78.8-2.07 0-2.86zM5.41 20L4 18.59l7.72-7.72 1.47 1.35L5.41 20z\"/>\n",
              "  </svg>\n",
              "      </button>\n",
              "      \n",
              "  <style>\n",
              "    .colab-df-container {\n",
              "      display:flex;\n",
              "      flex-wrap:wrap;\n",
              "      gap: 12px;\n",
              "    }\n",
              "\n",
              "    .colab-df-convert {\n",
              "      background-color: #E8F0FE;\n",
              "      border: none;\n",
              "      border-radius: 50%;\n",
              "      cursor: pointer;\n",
              "      display: none;\n",
              "      fill: #1967D2;\n",
              "      height: 32px;\n",
              "      padding: 0 0 0 0;\n",
              "      width: 32px;\n",
              "    }\n",
              "\n",
              "    .colab-df-convert:hover {\n",
              "      background-color: #E2EBFA;\n",
              "      box-shadow: 0px 1px 2px rgba(60, 64, 67, 0.3), 0px 1px 3px 1px rgba(60, 64, 67, 0.15);\n",
              "      fill: #174EA6;\n",
              "    }\n",
              "\n",
              "    [theme=dark] .colab-df-convert {\n",
              "      background-color: #3B4455;\n",
              "      fill: #D2E3FC;\n",
              "    }\n",
              "\n",
              "    [theme=dark] .colab-df-convert:hover {\n",
              "      background-color: #434B5C;\n",
              "      box-shadow: 0px 1px 3px 1px rgba(0, 0, 0, 0.15);\n",
              "      filter: drop-shadow(0px 1px 2px rgba(0, 0, 0, 0.3));\n",
              "      fill: #FFFFFF;\n",
              "    }\n",
              "  </style>\n",
              "\n",
              "      <script>\n",
              "        const buttonEl =\n",
              "          document.querySelector('#df-a5db36cd-9c13-4a14-9300-b1f34a29c482 button.colab-df-convert');\n",
              "        buttonEl.style.display =\n",
              "          google.colab.kernel.accessAllowed ? 'block' : 'none';\n",
              "\n",
              "        async function convertToInteractive(key) {\n",
              "          const element = document.querySelector('#df-a5db36cd-9c13-4a14-9300-b1f34a29c482');\n",
              "          const dataTable =\n",
              "            await google.colab.kernel.invokeFunction('convertToInteractive',\n",
              "                                                     [key], {});\n",
              "          if (!dataTable) return;\n",
              "\n",
              "          const docLinkHtml = 'Like what you see? Visit the ' +\n",
              "            '<a target=\"_blank\" href=https://colab.research.google.com/notebooks/data_table.ipynb>data table notebook</a>'\n",
              "            + ' to learn more about interactive tables.';\n",
              "          element.innerHTML = '';\n",
              "          dataTable['output_type'] = 'display_data';\n",
              "          await google.colab.output.renderOutput(dataTable, element);\n",
              "          const docLink = document.createElement('div');\n",
              "          docLink.innerHTML = docLinkHtml;\n",
              "          element.appendChild(docLink);\n",
              "        }\n",
              "      </script>\n",
              "    </div>\n",
              "  </div>\n",
              "  "
            ]
          },
          "metadata": {},
          "execution_count": 144
        }
      ]
    },
    {
      "cell_type": "code",
      "source": [
        "%%time\n",
        "tweets_df_en['tweet_trans'] = tweets_df_en.tweet.apply(translator.translate)"
      ],
      "metadata": {
        "colab": {
          "base_uri": "https://localhost:8080/"
        },
        "outputId": "bc7e675d-2d81-4184-95c3-5f00fc5ab0ce",
        "id": "BafevL1zl6zq"
      },
      "execution_count": null,
      "outputs": [
        {
          "output_type": "stream",
          "name": "stdout",
          "text": [
            "CPU times: user 12.2 s, sys: 665 ms, total: 12.9 s\n",
            "Wall time: 6min 25s\n"
          ]
        },
        {
          "output_type": "stream",
          "name": "stderr",
          "text": [
            "<timed exec>:1: SettingWithCopyWarning: \n",
            "A value is trying to be set on a copy of a slice from a DataFrame.\n",
            "Try using .loc[row_indexer,col_indexer] = value instead\n",
            "\n",
            "See the caveats in the documentation: https://pandas.pydata.org/pandas-docs/stable/user_guide/indexing.html#returning-a-view-versus-a-copy\n"
          ]
        }
      ]
    },
    {
      "cell_type": "code",
      "source": [
        "tweets_df_en.tail()"
      ],
      "metadata": {
        "colab": {
          "base_uri": "https://localhost:8080/",
          "height": 206
        },
        "outputId": "75257b91-4d9f-435a-b305-b14a76a0d6d7",
        "id": "Z5tk00lCl6zq"
      },
      "execution_count": null,
      "outputs": [
        {
          "output_type": "execute_result",
          "data": {
            "text/plain": [
              "                                                 tweet  label lang  \\\n",
              "867   ¿Os imagináis ?? empezar la semana en el SPA ...      1   en   \n",
              "868   How would you like to end the year??? Book no...      1   en   \n",
              "869   ¡La familia crece??! En #BLUESEAHotels estamo...      1   en   \n",
              "872   Discover the magic of holidays spent together...      1   en   \n",
              "873   #PezEspada60thAnniversary competition has its...      1   en   \n",
              "\n",
              "                                           tweet_clean  \\\n",
              "867  [¿os, imagináis, empezar, la, semana, en, el, ...   \n",
              "868  [would, like, end, year, book, christmas, holi...   \n",
              "869  [¡la, familia, crece, en, blueseahotels, estam...   \n",
              "872  [discover, magic, holiday, spent, together, st...   \n",
              "873  [pezespada60thanniversary, competition, first,...   \n",
              "\n",
              "                                           tweet_trans  \\\n",
              "867  ¿Os imagináis? empezar la semana en el SPA ???...   \n",
              "868  Como te gustaría terminar el año??? Reserva ya...   \n",
              "869  ¡¿La familia crece?! En #BLUESEAHotels estamos...   \n",
              "872  ¡Descubre la magia de las vacaciones juntas al...   \n",
              "873  ¡El concurso #PezEspada60thAnniversary ya tien...   \n",
              "\n",
              "                                     tweet_trans_clean  \n",
              "867  [imaginais, empezar, semana, spa, hotel, blues...  \n",
              "868  [gustaria, terminar, año, reserva, vacacionesd...  \n",
              "869  [familia, crece, blueseahotels, contentos, pod...  \n",
              "872  [descubre, magia, vacaciones, junta, alojandot...  \n",
              "873  [concurso, pezespada60thanniversary, primeros,...  "
            ],
            "text/html": [
              "\n",
              "  <div id=\"df-e19863f1-5871-4183-8136-00dcd547bc88\">\n",
              "    <div class=\"colab-df-container\">\n",
              "      <div>\n",
              "<style scoped>\n",
              "    .dataframe tbody tr th:only-of-type {\n",
              "        vertical-align: middle;\n",
              "    }\n",
              "\n",
              "    .dataframe tbody tr th {\n",
              "        vertical-align: top;\n",
              "    }\n",
              "\n",
              "    .dataframe thead th {\n",
              "        text-align: right;\n",
              "    }\n",
              "</style>\n",
              "<table border=\"1\" class=\"dataframe\">\n",
              "  <thead>\n",
              "    <tr style=\"text-align: right;\">\n",
              "      <th></th>\n",
              "      <th>tweet</th>\n",
              "      <th>label</th>\n",
              "      <th>lang</th>\n",
              "      <th>tweet_clean</th>\n",
              "      <th>tweet_trans</th>\n",
              "      <th>tweet_trans_clean</th>\n",
              "    </tr>\n",
              "  </thead>\n",
              "  <tbody>\n",
              "    <tr>\n",
              "      <th>867</th>\n",
              "      <td>¿Os imagináis ?? empezar la semana en el SPA ...</td>\n",
              "      <td>1</td>\n",
              "      <td>en</td>\n",
              "      <td>[¿os, imagináis, empezar, la, semana, en, el, ...</td>\n",
              "      <td>¿Os imagináis? empezar la semana en el SPA ???...</td>\n",
              "      <td>[imaginais, empezar, semana, spa, hotel, blues...</td>\n",
              "    </tr>\n",
              "    <tr>\n",
              "      <th>868</th>\n",
              "      <td>How would you like to end the year??? Book no...</td>\n",
              "      <td>1</td>\n",
              "      <td>en</td>\n",
              "      <td>[would, like, end, year, book, christmas, holi...</td>\n",
              "      <td>Como te gustaría terminar el año??? Reserva ya...</td>\n",
              "      <td>[gustaria, terminar, año, reserva, vacacionesd...</td>\n",
              "    </tr>\n",
              "    <tr>\n",
              "      <th>869</th>\n",
              "      <td>¡La familia crece??! En #BLUESEAHotels estamo...</td>\n",
              "      <td>1</td>\n",
              "      <td>en</td>\n",
              "      <td>[¡la, familia, crece, en, blueseahotels, estam...</td>\n",
              "      <td>¡¿La familia crece?! En #BLUESEAHotels estamos...</td>\n",
              "      <td>[familia, crece, blueseahotels, contentos, pod...</td>\n",
              "    </tr>\n",
              "    <tr>\n",
              "      <th>872</th>\n",
              "      <td>Discover the magic of holidays spent together...</td>\n",
              "      <td>1</td>\n",
              "      <td>en</td>\n",
              "      <td>[discover, magic, holiday, spent, together, st...</td>\n",
              "      <td>¡Descubre la magia de las vacaciones juntas al...</td>\n",
              "      <td>[descubre, magia, vacaciones, junta, alojandot...</td>\n",
              "    </tr>\n",
              "    <tr>\n",
              "      <th>873</th>\n",
              "      <td>#PezEspada60thAnniversary competition has its...</td>\n",
              "      <td>1</td>\n",
              "      <td>en</td>\n",
              "      <td>[pezespada60thanniversary, competition, first,...</td>\n",
              "      <td>¡El concurso #PezEspada60thAnniversary ya tien...</td>\n",
              "      <td>[concurso, pezespada60thanniversary, primeros,...</td>\n",
              "    </tr>\n",
              "  </tbody>\n",
              "</table>\n",
              "</div>\n",
              "      <button class=\"colab-df-convert\" onclick=\"convertToInteractive('df-e19863f1-5871-4183-8136-00dcd547bc88')\"\n",
              "              title=\"Convert this dataframe to an interactive table.\"\n",
              "              style=\"display:none;\">\n",
              "        \n",
              "  <svg xmlns=\"http://www.w3.org/2000/svg\" height=\"24px\"viewBox=\"0 0 24 24\"\n",
              "       width=\"24px\">\n",
              "    <path d=\"M0 0h24v24H0V0z\" fill=\"none\"/>\n",
              "    <path d=\"M18.56 5.44l.94 2.06.94-2.06 2.06-.94-2.06-.94-.94-2.06-.94 2.06-2.06.94zm-11 1L8.5 8.5l.94-2.06 2.06-.94-2.06-.94L8.5 2.5l-.94 2.06-2.06.94zm10 10l.94 2.06.94-2.06 2.06-.94-2.06-.94-.94-2.06-.94 2.06-2.06.94z\"/><path d=\"M17.41 7.96l-1.37-1.37c-.4-.4-.92-.59-1.43-.59-.52 0-1.04.2-1.43.59L10.3 9.45l-7.72 7.72c-.78.78-.78 2.05 0 2.83L4 21.41c.39.39.9.59 1.41.59.51 0 1.02-.2 1.41-.59l7.78-7.78 2.81-2.81c.8-.78.8-2.07 0-2.86zM5.41 20L4 18.59l7.72-7.72 1.47 1.35L5.41 20z\"/>\n",
              "  </svg>\n",
              "      </button>\n",
              "      \n",
              "  <style>\n",
              "    .colab-df-container {\n",
              "      display:flex;\n",
              "      flex-wrap:wrap;\n",
              "      gap: 12px;\n",
              "    }\n",
              "\n",
              "    .colab-df-convert {\n",
              "      background-color: #E8F0FE;\n",
              "      border: none;\n",
              "      border-radius: 50%;\n",
              "      cursor: pointer;\n",
              "      display: none;\n",
              "      fill: #1967D2;\n",
              "      height: 32px;\n",
              "      padding: 0 0 0 0;\n",
              "      width: 32px;\n",
              "    }\n",
              "\n",
              "    .colab-df-convert:hover {\n",
              "      background-color: #E2EBFA;\n",
              "      box-shadow: 0px 1px 2px rgba(60, 64, 67, 0.3), 0px 1px 3px 1px rgba(60, 64, 67, 0.15);\n",
              "      fill: #174EA6;\n",
              "    }\n",
              "\n",
              "    [theme=dark] .colab-df-convert {\n",
              "      background-color: #3B4455;\n",
              "      fill: #D2E3FC;\n",
              "    }\n",
              "\n",
              "    [theme=dark] .colab-df-convert:hover {\n",
              "      background-color: #434B5C;\n",
              "      box-shadow: 0px 1px 3px 1px rgba(0, 0, 0, 0.15);\n",
              "      filter: drop-shadow(0px 1px 2px rgba(0, 0, 0, 0.3));\n",
              "      fill: #FFFFFF;\n",
              "    }\n",
              "  </style>\n",
              "\n",
              "      <script>\n",
              "        const buttonEl =\n",
              "          document.querySelector('#df-e19863f1-5871-4183-8136-00dcd547bc88 button.colab-df-convert');\n",
              "        buttonEl.style.display =\n",
              "          google.colab.kernel.accessAllowed ? 'block' : 'none';\n",
              "\n",
              "        async function convertToInteractive(key) {\n",
              "          const element = document.querySelector('#df-e19863f1-5871-4183-8136-00dcd547bc88');\n",
              "          const dataTable =\n",
              "            await google.colab.kernel.invokeFunction('convertToInteractive',\n",
              "                                                     [key], {});\n",
              "          if (!dataTable) return;\n",
              "\n",
              "          const docLinkHtml = 'Like what you see? Visit the ' +\n",
              "            '<a target=\"_blank\" href=https://colab.research.google.com/notebooks/data_table.ipynb>data table notebook</a>'\n",
              "            + ' to learn more about interactive tables.';\n",
              "          element.innerHTML = '';\n",
              "          dataTable['output_type'] = 'display_data';\n",
              "          await google.colab.output.renderOutput(dataTable, element);\n",
              "          const docLink = document.createElement('div');\n",
              "          docLink.innerHTML = docLinkHtml;\n",
              "          element.appendChild(docLink);\n",
              "        }\n",
              "      </script>\n",
              "    </div>\n",
              "  </div>\n",
              "  "
            ]
          },
          "metadata": {},
          "execution_count": 160
        }
      ]
    },
    {
      "cell_type": "code",
      "source": [
        "tweets_df_en['tweet_trans_clean']=tweets_df_en.tweet_trans.apply(lambda x: normalize(x, 'es'))"
      ],
      "metadata": {
        "colab": {
          "base_uri": "https://localhost:8080/"
        },
        "outputId": "44ed152d-8271-44f1-c318-21cea60cddab",
        "id": "4Tu88Aygl6zr"
      },
      "execution_count": null,
      "outputs": [
        {
          "output_type": "stream",
          "name": "stderr",
          "text": [
            "<ipython-input-159-a6f86c649b91>:1: SettingWithCopyWarning: \n",
            "A value is trying to be set on a copy of a slice from a DataFrame.\n",
            "Try using .loc[row_indexer,col_indexer] = value instead\n",
            "\n",
            "See the caveats in the documentation: https://pandas.pydata.org/pandas-docs/stable/user_guide/indexing.html#returning-a-view-versus-a-copy\n",
            "  tweets_df_en['tweet_trans_clean']=tweets_df_en.tweet_trans.apply(lambda x: normalize(x, 'es'))\n"
          ]
        }
      ]
    },
    {
      "cell_type": "code",
      "source": [
        "tweets_df_trans_es=pd.DataFrame(pd.concat([tweets_df_es.tweet_clean,tweets_df_en.tweet_trans_clean]),columns=['tweet_clean'])\n",
        "tweets_df_trans_es['label']=pd.concat([tweets_df_es.label,tweets_df_en.label])"
      ],
      "metadata": {
        "id": "5tpszGzyl6zr"
      },
      "execution_count": null,
      "outputs": []
    },
    {
      "cell_type": "code",
      "source": [
        "tweets_df_trans_es"
      ],
      "metadata": {
        "colab": {
          "base_uri": "https://localhost:8080/",
          "height": 424
        },
        "outputId": "62a7deae-0107-44bd-ba4f-373da3a5a662",
        "id": "ylgdbmnql6zr"
      },
      "execution_count": null,
      "outputs": [
        {
          "output_type": "execute_result",
          "data": {
            "text/plain": [
              "                                           tweet_clean  label\n",
              "2    [gracias, fortaleza, digital, alcanzado, nuevo...      3\n",
              "3    [tiempodeactuar, orgullosos, anunciar, primera...      3\n",
              "4    [innsidebymelia, recibe, reconocimiento, premi...      3\n",
              "6    [sabias, cada, año, 77, millones, toneladas, a...      3\n",
              "8    [mañana, campo, sol, marbella, estepona, atala...      3\n",
              "..                                                 ...    ...\n",
              "867  [imaginais, empezar, semana, spa, hotel, blues...      1\n",
              "868  [gustaria, terminar, año, reserva, vacacionesd...      1\n",
              "869  [familia, crece, blueseahotels, contentos, pod...      1\n",
              "872  [descubre, magia, vacaciones, junta, alojandot...      1\n",
              "873  [concurso, pezespada60thanniversary, primeros,...      1\n",
              "\n",
              "[874 rows x 2 columns]"
            ],
            "text/html": [
              "\n",
              "  <div id=\"df-5b52a589-42b2-4975-9eb9-4b6f99474458\">\n",
              "    <div class=\"colab-df-container\">\n",
              "      <div>\n",
              "<style scoped>\n",
              "    .dataframe tbody tr th:only-of-type {\n",
              "        vertical-align: middle;\n",
              "    }\n",
              "\n",
              "    .dataframe tbody tr th {\n",
              "        vertical-align: top;\n",
              "    }\n",
              "\n",
              "    .dataframe thead th {\n",
              "        text-align: right;\n",
              "    }\n",
              "</style>\n",
              "<table border=\"1\" class=\"dataframe\">\n",
              "  <thead>\n",
              "    <tr style=\"text-align: right;\">\n",
              "      <th></th>\n",
              "      <th>tweet_clean</th>\n",
              "      <th>label</th>\n",
              "    </tr>\n",
              "  </thead>\n",
              "  <tbody>\n",
              "    <tr>\n",
              "      <th>2</th>\n",
              "      <td>[gracias, fortaleza, digital, alcanzado, nuevo...</td>\n",
              "      <td>3</td>\n",
              "    </tr>\n",
              "    <tr>\n",
              "      <th>3</th>\n",
              "      <td>[tiempodeactuar, orgullosos, anunciar, primera...</td>\n",
              "      <td>3</td>\n",
              "    </tr>\n",
              "    <tr>\n",
              "      <th>4</th>\n",
              "      <td>[innsidebymelia, recibe, reconocimiento, premi...</td>\n",
              "      <td>3</td>\n",
              "    </tr>\n",
              "    <tr>\n",
              "      <th>6</th>\n",
              "      <td>[sabias, cada, año, 77, millones, toneladas, a...</td>\n",
              "      <td>3</td>\n",
              "    </tr>\n",
              "    <tr>\n",
              "      <th>8</th>\n",
              "      <td>[mañana, campo, sol, marbella, estepona, atala...</td>\n",
              "      <td>3</td>\n",
              "    </tr>\n",
              "    <tr>\n",
              "      <th>...</th>\n",
              "      <td>...</td>\n",
              "      <td>...</td>\n",
              "    </tr>\n",
              "    <tr>\n",
              "      <th>867</th>\n",
              "      <td>[imaginais, empezar, semana, spa, hotel, blues...</td>\n",
              "      <td>1</td>\n",
              "    </tr>\n",
              "    <tr>\n",
              "      <th>868</th>\n",
              "      <td>[gustaria, terminar, año, reserva, vacacionesd...</td>\n",
              "      <td>1</td>\n",
              "    </tr>\n",
              "    <tr>\n",
              "      <th>869</th>\n",
              "      <td>[familia, crece, blueseahotels, contentos, pod...</td>\n",
              "      <td>1</td>\n",
              "    </tr>\n",
              "    <tr>\n",
              "      <th>872</th>\n",
              "      <td>[descubre, magia, vacaciones, junta, alojandot...</td>\n",
              "      <td>1</td>\n",
              "    </tr>\n",
              "    <tr>\n",
              "      <th>873</th>\n",
              "      <td>[concurso, pezespada60thanniversary, primeros,...</td>\n",
              "      <td>1</td>\n",
              "    </tr>\n",
              "  </tbody>\n",
              "</table>\n",
              "<p>874 rows × 2 columns</p>\n",
              "</div>\n",
              "      <button class=\"colab-df-convert\" onclick=\"convertToInteractive('df-5b52a589-42b2-4975-9eb9-4b6f99474458')\"\n",
              "              title=\"Convert this dataframe to an interactive table.\"\n",
              "              style=\"display:none;\">\n",
              "        \n",
              "  <svg xmlns=\"http://www.w3.org/2000/svg\" height=\"24px\"viewBox=\"0 0 24 24\"\n",
              "       width=\"24px\">\n",
              "    <path d=\"M0 0h24v24H0V0z\" fill=\"none\"/>\n",
              "    <path d=\"M18.56 5.44l.94 2.06.94-2.06 2.06-.94-2.06-.94-.94-2.06-.94 2.06-2.06.94zm-11 1L8.5 8.5l.94-2.06 2.06-.94-2.06-.94L8.5 2.5l-.94 2.06-2.06.94zm10 10l.94 2.06.94-2.06 2.06-.94-2.06-.94-.94-2.06-.94 2.06-2.06.94z\"/><path d=\"M17.41 7.96l-1.37-1.37c-.4-.4-.92-.59-1.43-.59-.52 0-1.04.2-1.43.59L10.3 9.45l-7.72 7.72c-.78.78-.78 2.05 0 2.83L4 21.41c.39.39.9.59 1.41.59.51 0 1.02-.2 1.41-.59l7.78-7.78 2.81-2.81c.8-.78.8-2.07 0-2.86zM5.41 20L4 18.59l7.72-7.72 1.47 1.35L5.41 20z\"/>\n",
              "  </svg>\n",
              "      </button>\n",
              "      \n",
              "  <style>\n",
              "    .colab-df-container {\n",
              "      display:flex;\n",
              "      flex-wrap:wrap;\n",
              "      gap: 12px;\n",
              "    }\n",
              "\n",
              "    .colab-df-convert {\n",
              "      background-color: #E8F0FE;\n",
              "      border: none;\n",
              "      border-radius: 50%;\n",
              "      cursor: pointer;\n",
              "      display: none;\n",
              "      fill: #1967D2;\n",
              "      height: 32px;\n",
              "      padding: 0 0 0 0;\n",
              "      width: 32px;\n",
              "    }\n",
              "\n",
              "    .colab-df-convert:hover {\n",
              "      background-color: #E2EBFA;\n",
              "      box-shadow: 0px 1px 2px rgba(60, 64, 67, 0.3), 0px 1px 3px 1px rgba(60, 64, 67, 0.15);\n",
              "      fill: #174EA6;\n",
              "    }\n",
              "\n",
              "    [theme=dark] .colab-df-convert {\n",
              "      background-color: #3B4455;\n",
              "      fill: #D2E3FC;\n",
              "    }\n",
              "\n",
              "    [theme=dark] .colab-df-convert:hover {\n",
              "      background-color: #434B5C;\n",
              "      box-shadow: 0px 1px 3px 1px rgba(0, 0, 0, 0.15);\n",
              "      filter: drop-shadow(0px 1px 2px rgba(0, 0, 0, 0.3));\n",
              "      fill: #FFFFFF;\n",
              "    }\n",
              "  </style>\n",
              "\n",
              "      <script>\n",
              "        const buttonEl =\n",
              "          document.querySelector('#df-5b52a589-42b2-4975-9eb9-4b6f99474458 button.colab-df-convert');\n",
              "        buttonEl.style.display =\n",
              "          google.colab.kernel.accessAllowed ? 'block' : 'none';\n",
              "\n",
              "        async function convertToInteractive(key) {\n",
              "          const element = document.querySelector('#df-5b52a589-42b2-4975-9eb9-4b6f99474458');\n",
              "          const dataTable =\n",
              "            await google.colab.kernel.invokeFunction('convertToInteractive',\n",
              "                                                     [key], {});\n",
              "          if (!dataTable) return;\n",
              "\n",
              "          const docLinkHtml = 'Like what you see? Visit the ' +\n",
              "            '<a target=\"_blank\" href=https://colab.research.google.com/notebooks/data_table.ipynb>data table notebook</a>'\n",
              "            + ' to learn more about interactive tables.';\n",
              "          element.innerHTML = '';\n",
              "          dataTable['output_type'] = 'display_data';\n",
              "          await google.colab.output.renderOutput(dataTable, element);\n",
              "          const docLink = document.createElement('div');\n",
              "          docLink.innerHTML = docLinkHtml;\n",
              "          element.appendChild(docLink);\n",
              "        }\n",
              "      </script>\n",
              "    </div>\n",
              "  </div>\n",
              "  "
            ]
          },
          "metadata": {},
          "execution_count": 162
        }
      ]
    },
    {
      "cell_type": "code",
      "source": [
        "corpus_es = tweets_df_trans_es.tweet_clean\n",
        "D_es = gensim.corpora.Dictionary(corpus_es)"
      ],
      "metadata": {
        "id": "aG9BTpFUl6zr"
      },
      "execution_count": null,
      "outputs": []
    },
    {
      "cell_type": "code",
      "source": [
        "corpus_bow_es = [D_es.doc2bow(doc) for doc in corpus_es]"
      ],
      "metadata": {
        "id": "f05z9b2Zl6zr"
      },
      "execution_count": null,
      "outputs": []
    },
    {
      "cell_type": "code",
      "source": [
        "from gensim.models import TfidfModel\n",
        "\n",
        "# fit TFIDF model for all the corpus\n",
        "model_es = TfidfModel(corpus_bow_es)  "
      ],
      "metadata": {
        "id": "A6nN1qRWl6zr"
      },
      "execution_count": null,
      "outputs": []
    },
    {
      "cell_type": "code",
      "source": [
        "from gensim.matutils import corpus2dense, corpus2csc\n",
        "corpus_tfidf_es = [model_es[doc] for doc in corpus_bow_es]\n",
        "n_tokens = len(D_es)\n",
        "num_docs = len(corpus_bow_es)\n",
        "# Convert BoW representacion\n",
        "corpus_bow_sparse = corpus2csc(corpus_bow_es, num_terms=n_tokens, num_docs=num_docs).T\n",
        "# Convert TFIDF representacion\n",
        "corpus_tfidf_sparse = corpus2csc(corpus_tfidf_es, num_terms=n_tokens, num_docs=num_docs).T"
      ],
      "metadata": {
        "id": "qqiuKbQHl6zr"
      },
      "execution_count": null,
      "outputs": []
    },
    {
      "cell_type": "code",
      "source": [
        "from sklearn.naive_bayes import MultinomialNB, ComplementNB\n",
        "from sklearn.model_selection import train_test_split\n",
        "from sklearn.metrics import accuracy_score,classification_report\n",
        "# Code for BoW representation\n",
        "Y = tweets_df_trans_es.label\n",
        "# Divide the data into train test partitions\n",
        "X_train, X_test, y_train, y_test = train_test_split(corpus_bow_sparse, Y, test_size=0.4, random_state=42)\n",
        "clf = MultinomialNB()\n",
        "clf.fit(X_train, y_train)\n",
        "y_train_pred = clf.predict(X_train)\n",
        "y_test_pred = clf.predict(X_test)\n",
        "\n",
        "print(classification_report(y_train, y_train_pred))\n",
        "print(classification_report(y_test, y_test_pred))\n",
        "# print(accuracy_score(y_test, y_pred, normalize=True))"
      ],
      "metadata": {
        "colab": {
          "base_uri": "https://localhost:8080/"
        },
        "outputId": "2f8f8bc1-9787-4472-c720-c55bdda8dcfe",
        "id": "ev0jnzBFl6zs"
      },
      "execution_count": null,
      "outputs": [
        {
          "output_type": "stream",
          "name": "stdout",
          "text": [
            "              precision    recall  f1-score   support\n",
            "\n",
            "           0       1.00      0.90      0.95        41\n",
            "           1       0.98      1.00      0.99       233\n",
            "           2       1.00      0.96      0.98        85\n",
            "           3       0.98      1.00      0.99       165\n",
            "\n",
            "    accuracy                           0.98       524\n",
            "   macro avg       0.99      0.97      0.98       524\n",
            "weighted avg       0.98      0.98      0.98       524\n",
            "\n",
            "              precision    recall  f1-score   support\n",
            "\n",
            "           0       0.16      0.09      0.12        32\n",
            "           1       0.60      0.66      0.63       163\n",
            "           2       0.23      0.19      0.21        53\n",
            "           3       0.66      0.72      0.69       102\n",
            "\n",
            "    accuracy                           0.55       350\n",
            "   macro avg       0.41      0.41      0.41       350\n",
            "weighted avg       0.52      0.55      0.54       350\n",
            "\n"
          ]
        }
      ]
    },
    {
      "cell_type": "code",
      "source": [
        "print(\"Distribución predicha train\")\n",
        "pd.Series(y_train_pred).value_counts(True)"
      ],
      "metadata": {
        "colab": {
          "base_uri": "https://localhost:8080/"
        },
        "outputId": "eb06a0a0-5c8c-48dd-b7a5-c3042efca3a1",
        "id": "LC0gpcyIl6zs"
      },
      "execution_count": null,
      "outputs": [
        {
          "output_type": "stream",
          "name": "stdout",
          "text": [
            "Distribución predicha train\n"
          ]
        },
        {
          "output_type": "execute_result",
          "data": {
            "text/plain": [
              "1    0.452290\n",
              "3    0.320611\n",
              "2    0.156489\n",
              "0    0.070611\n",
              "dtype: float64"
            ]
          },
          "metadata": {},
          "execution_count": 168
        }
      ]
    },
    {
      "cell_type": "code",
      "source": [
        "print(\"Distribución predicha test\")\n",
        "pd.Series(y_test_pred).value_counts(True)"
      ],
      "metadata": {
        "colab": {
          "base_uri": "https://localhost:8080/"
        },
        "outputId": "39163587-3b3c-49fe-cb98-66f93860a40d",
        "id": "p7HH_E9al6zs"
      },
      "execution_count": null,
      "outputs": [
        {
          "output_type": "stream",
          "name": "stdout",
          "text": [
            "Distribución predicha test\n"
          ]
        },
        {
          "output_type": "execute_result",
          "data": {
            "text/plain": [
              "1    0.508571\n",
              "3    0.314286\n",
              "2    0.122857\n",
              "0    0.054286\n",
              "dtype: float64"
            ]
          },
          "metadata": {},
          "execution_count": 169
        }
      ]
    },
    {
      "cell_type": "markdown",
      "source": [
        "# Conclusiones clasificación (traducción de texto)\n",
        "\n",
        "Al comparar las métricas de la transformación BOW entre el primer ejercicio de modelación y el ejercicio de traducción de texto, podemos notar que los resultados son mejores teniendo una mayor cantidad de muestra (traducción).\n",
        "Por otro lado notamos que los modelos de clasificación para el idioma inglés generalmente tienen mejores resultados que el español, ya que los frameworks del inglés están mas desarrollados."
      ],
      "metadata": {
        "id": "n1qQnriBxL6o"
      }
    },
    {
      "cell_type": "code",
      "source": [],
      "metadata": {
        "id": "u-TxHexXxnil"
      },
      "execution_count": null,
      "outputs": []
    }
  ]
}