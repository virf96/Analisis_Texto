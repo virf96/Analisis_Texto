{
  "nbformat": 4,
  "nbformat_minor": 0,
  "metadata": {
    "colab": {
      "name": "Clusterizacion_texto.ipynb",
      "provenance": [],
      "authorship_tag": "ABX9TyP+I3aJjvWxGwzyVuiYrIMQ",
      "include_colab_link": true
    },
    "kernelspec": {
      "name": "python3",
      "display_name": "Python 3"
    }
  },
  "cells": [
    {
      "cell_type": "markdown",
      "metadata": {
        "id": "view-in-github",
        "colab_type": "text"
      },
      "source": [
        "<a href=\"https://colab.research.google.com/github/virf96/Analisis_Texto/blob/master/Clusterizacion_texto.ipynb\" target=\"_parent\"><img src=\"https://colab.research.google.com/assets/colab-badge.svg\" alt=\"Open In Colab\"/></a>"
      ]
    },
    {
      "cell_type": "code",
      "metadata": {
        "id": "J5DFNQUl8cBX",
        "colab_type": "code",
        "colab": {}
      },
      "source": [
        "import requests\n",
        "from bs4 import BeautifulSoup"
      ],
      "execution_count": 55,
      "outputs": []
    },
    {
      "cell_type": "markdown",
      "metadata": {
        "id": "E3ZJ__pml0X1",
        "colab_type": "text"
      },
      "source": [
        "## Indicamos de que página descargaremos los enunciados"
      ]
    },
    {
      "cell_type": "code",
      "metadata": {
        "id": "SfBGYTwTltei",
        "colab_type": "code",
        "colab": {}
      },
      "source": [
        "main_url='http://www.medicosypacientes.com/opinion'\n",
        "req=requests.get(main_url)\n",
        "soup=BeautifulSoup(req.text,'html.parser')"
      ],
      "execution_count": 56,
      "outputs": []
    },
    {
      "cell_type": "code",
      "metadata": {
        "id": "MJ2yRf7ynuWB",
        "colab_type": "code",
        "colab": {
          "base_uri": "https://localhost:8080/",
          "height": 35
        },
        "outputId": "17ea645f-e5a6-40ba-ed72-ada22d05d5ff"
      },
      "source": [
        "#Página de donde hacemos el scrappng de información\n",
        "soup.title.text"
      ],
      "execution_count": 57,
      "outputs": [
        {
          "output_type": "execute_result",
          "data": {
            "application/vnd.google.colaboratory.intrinsic+json": {
              "type": "string"
            },
            "text/plain": [
              "'Opinión | Médicos y Pacientes'"
            ]
          },
          "metadata": {
            "tags": []
          },
          "execution_count": 57
        }
      ]
    },
    {
      "cell_type": "code",
      "metadata": {
        "id": "ra4_ctMdBixR",
        "colab_type": "code",
        "colab": {
          "base_uri": "https://localhost:8080/",
          "height": 564
        },
        "outputId": "699109d2-262a-412a-90a1-e19e507400c3"
      },
      "source": [
        "#Contenido del scrapping\n",
        "soup.find_all('p')"
      ],
      "execution_count": 58,
      "outputs": [
        {
          "output_type": "execute_result",
          "data": {
            "text/plain": [
              "[<p style=\"text-align: center;\"><a href=\"https://www.fpsomc.es/sites/default/files/ampliacion-pretaciones-catalogo-2020.pdf\"><img alt=\"\" src=\"/sites/default/files/BannerMyP_850x130-PrestacionesExtraordinarias_conlogo_1.gif\" style=\"width: 1200px; height: 140px;\"/></a></p>,\n",
              " <p><a class=\"inscribete\" href=\"http://eepurl.com/czk3e1\" target=\"_blank\" title=\"\">Inscríbete</a></p>,\n",
              " <p>\n",
              " <div class=\"hemeroteca\"><a href=\"/buscar\">Hemeroteca</a></div></p>,\n",
              " <p style=\"text-align: justify;\">El Dr. Jacinto Bátiz, director del Instituto para Cuidar Mejor Hospital San Juan de Dios de Santurtzi, analiza en este artículo el sufrimiento que ha creado la pandemia de COVID19 en los pacientes por encontrarse cerca de la muerte y lejos de sus familias</p>,\n",
              " <p style=\"text-align: justify;\">El Dr. Alfonso Carmona, presidente del Colegio de Médicos de Sevilla, muestra su satisfacción con la medida anunciada por la Consejería de Salud y Familias de la Junta de Andalucía de extender el Complemento Específico por Dedicación Exclusiva, de manera que lo puedan percibir todos los médicos con independencia de su régimen de compatibilidad de actividad.</p>,\n",
              " <p style=\"text-align: justify;\">El Dr. José Ignacio Landa,  Cirujano General y del Aparato Digestivo y miembro del Consejo Asesor del Consejo General de Colegios Oficiales de Médicos (CGCOM),  subraya en este artículo que “la Organización Mundial de la Salud (OMS) en los últimos años ha mostrado ciertas debilidades por la República Popular China y no parece que haya gestionado de una forma aceptable esta pandemia”</p>,\n",
              " <p style=\"text-align: justify;\">El Dr. Santiago Santa Cruz, presidente del Colegio de Médicos de Salamanca, analiza en este artículo la falta de médicos y las acciones políticas que deberían ejecutarse para corregir este problema</p>,\n",
              " <p style=\"text-align: justify;\">El Dr. Antonio Ares, delegado territorial de Bahía de Cádiz del Colegio de Médicos gaditano, reflexiona en este artículo sobre como ha cambiado la relación médico-paciente</p>,\n",
              " <p style=\"text-align: justify;\">El Dr. Manuel Fernández Chavero, médico del Trabajo, analiza en este artículo cómo ha emergido la Medicina del Trabajo en el contexto de la pandemia y subraya que “ha tenido que acontecer una emergencia sanitaria para resucitar una especialidad que ha demostrado desde el principio que su papel tenía que ser imprescindible”</p>,\n",
              " <p style=\"text-align: justify;\">El Dr. Ignacio Sevilla, vocal de Atención Primaria del Colegio de Médicos de Madrid, analiza en este artículo de opinión del blog AP25, los retos de la Atención Primaria en la crisis de la COVID-19</p>,\n",
              " <p style=\"text-align: justify;\">El pasado 3 de junio, el jurado de los Premios Princesa de Asturias anunció la concesión del Premio Princesa de Asturias de la Concordia 2020 a las sanitarias y los sanitarios españoles en primera línea contra la COVID-19. La Junta Directiva del Colegio de Médicos de Bizkaia expresa su opinión en este artículo</p>,\n",
              " <p style=\"text-align: justify;\">La Dra. Concha Ferrer, presidenta del Colegio de Médicos de Zaragoza, analiza en este artículo los acontecimientos acaecidos en los últimos meses, que han puesto en evidencia las debilidades de nuestro sistema sanitario: sus carencias, sus problemas de gestión, la falta de coordinación, la inexperiencia de un comité interterritorial que, vacío hace tiempo de contenidos asumidos por las CCAA, ha sido incapaz de tomar el liderazgo en esta tremenda crisis</p>,\n",
              " <p style=\"text-align: justify;\">El Dr. Luis Palenzuela, vicepresidente tercero del Colegio de Médicos Córdoba, analiza en este artículo de opinión el aplauso de las 8” un gesto que a su juicio “hace reflexionar sobre lo poco que se promociona, desde las administraciones públicas, la implicación profesional en el sistema sanitario, ese día a día desconocido en el que se asisten y resuelven múltiples problemas de salud de miles y miles de ciudadanos, las gestas diarias de la actuación médica en miles de procedimientos”</p>,\n",
              " <p><a href=\"/firmas\">Firmas</a></p>,\n",
              " <p><a class=\"active\" href=\"/opinion?opinion=29\">Editorial</a></p>,\n",
              " <p><a class=\"active\" href=\"/opinion?opinion=30\">Artículos</a></p>,\n",
              " <p><a class=\"active\" href=\"/opinion?opinion=31\">Análisis</a></p>,\n",
              " <p class=\"last\"><a href=\"/posts-destacados\">Post Destacados</a></p>,\n",
              " <p style=\"text-align: center;\"><span style=\"font-size:20px;\"><strong>Info Internacional<br/>Febrero 2020</strong></span></p>,\n",
              " <p style=\"text-align: center;\"><a href=\"https://www.cgcom.es/boletin_omc/newsletter_cgcom_nuevo_21022020.html\" target=\"_blank\"><img alt=\"\" src=\"/sites/default/files/infointerfeb2020.png\" style=\"width: 260px; height: 238px;\"/></a></p>,\n",
              " <p><a href=\"http://www.fcomci.com/boletin_omc/newsletter_fcomci_nuevo_27022020.html\" target=\"_blank\"><img alt=\"\" src=\"/sites/default/files/bolfcomci28220.png\" style=\"width: 276px; float: left; height: 270px; margin-left: 10px; margin-right: 10px;\"/></a></p>,\n",
              " <p><a class=\"enlaces-interes\" href=\"/enlaces-de-interes\">Enlaces de interés</a></p>,\n",
              " <p style=\"text-align:center;\"><a href=\"https://www.cgcom.es/codigo_deontologico/index.html\" target=\"_blank\"><img alt=\"\" src=\"https://www.cgcom.es/sites/default/images/deontologico.png\"/></a></p>,\n",
              " <p></p>,\n",
              " <p><a href=\"https://www.cgcom.es/sites/default/files/revista_omc_47/\" target=\"_blank\"><img alt=\"\" src=\"/sites/default/files/revista47.png\" style=\"width: 265px; height: 377px;\"/></a></p>,\n",
              " <p></p>,\n",
              " <p> </p>,\n",
              " <p style=\"text-align: center;\"><a href=\"https://www.cgcom.es/sites/default/files/responsabilidad_mir/\"><img alt=\"\" src=\"/sites/default/files/libro_1.jpg\" style=\"width: 220px; height: 324px;\"/></a></p>,\n",
              " <p style=\"text-align: center;\"> </p>,\n",
              " <p style=\"text-align: center;\"><a href=\"https://www.fpsomc.es/catalogo_2019/\" target=\"_blank\"><img alt=\"\" src=\"/sites/default/files/catalogo_fphomc_web.png\" style=\"width: 220px; height: 307px;\"/></a></p>]"
            ]
          },
          "metadata": {
            "tags": []
          },
          "execution_count": 58
        }
      ]
    },
    {
      "cell_type": "code",
      "metadata": {
        "id": "A6kWN2rgnv1I",
        "colab_type": "code",
        "colab": {
          "base_uri": "https://localhost:8080/",
          "height": 54
        },
        "outputId": "1d906775-5112-42d1-a513-646312a2bd72"
      },
      "source": [
        "soup.find_all('p')[5]"
      ],
      "execution_count": 59,
      "outputs": [
        {
          "output_type": "execute_result",
          "data": {
            "text/plain": [
              "<p style=\"text-align: justify;\">El Dr. José Ignacio Landa,  Cirujano General y del Aparato Digestivo y miembro del Consejo Asesor del Consejo General de Colegios Oficiales de Médicos (CGCOM),  subraya en este artículo que “la Organización Mundial de la Salud (OMS) en los últimos años ha mostrado ciertas debilidades por la República Popular China y no parece que haya gestionado de una forma aceptable esta pandemia”</p>"
            ]
          },
          "metadata": {
            "tags": []
          },
          "execution_count": 59
        }
      ]
    },
    {
      "cell_type": "code",
      "metadata": {
        "id": "QXxS4-bCCAVN",
        "colab_type": "code",
        "colab": {
          "base_uri": "https://localhost:8080/",
          "height": 34
        },
        "outputId": "21e3feed-eb1c-4033-b37a-db4c0bdcd568"
      },
      "source": [
        "#Tamaño de la lista\n",
        "len(soup.find_all('p'))"
      ],
      "execution_count": 60,
      "outputs": [
        {
          "output_type": "execute_result",
          "data": {
            "text/plain": [
              "30"
            ]
          },
          "metadata": {
            "tags": []
          },
          "execution_count": 60
        }
      ]
    },
    {
      "cell_type": "code",
      "metadata": {
        "id": "ewaINofjGuI1",
        "colab_type": "code",
        "colab": {
          "base_uri": "https://localhost:8080/",
          "height": 1000
        },
        "outputId": "ec8116a6-bef6-44d5-f695-652757dca578"
      },
      "source": [
        "print(soup.get_text())"
      ],
      "execution_count": 61,
      "outputs": [
        {
          "output_type": "stream",
          "text": [
            "\n",
            "\n",
            "\n",
            "\n",
            "\n",
            "\n",
            "\n",
            "\n",
            "\n",
            "\n",
            "\n",
            "\n",
            "Opinión | Médicos y Pacientes\n",
            "\n",
            "@import url(\"http://www.medicosypacientes.com/modules/system/system.base.css?qec6xp\");\n",
            "@import url(\"http://www.medicosypacientes.com/modules/system/system.menus.css?qec6xp\");\n",
            "@import url(\"http://www.medicosypacientes.com/modules/system/system.messages.css?qec6xp\");\n",
            "@import url(\"http://www.medicosypacientes.com/modules/system/system.theme.css?qec6xp\");\n",
            "\n",
            "\n",
            "@import url(\"http://www.medicosypacientes.com/sites/all/modules/comment_notify/comment_notify.css?qec6xp\");\n",
            "@import url(\"http://www.medicosypacientes.com/sites/all/modules/adaptive_image/css/adaptive-image.css?qec6xp\");\n",
            "@import url(\"http://www.medicosypacientes.com/modules/aggregator/aggregator.css?qec6xp\");\n",
            "@import url(\"http://www.medicosypacientes.com/modules/comment/comment.css?qec6xp\");\n",
            "@import url(\"http://www.medicosypacientes.com/sites/all/modules/date/date_api/date.css?qec6xp\");\n",
            "@import url(\"http://www.medicosypacientes.com/sites/all/modules/fences/field.css?qec6xp\");\n",
            "@import url(\"http://www.medicosypacientes.com/modules/node/node.css?qec6xp\");\n",
            "@import url(\"http://www.medicosypacientes.com/modules/user/user.css?qec6xp\");\n",
            "@import url(\"http://www.medicosypacientes.com/sites/all/modules/views/css/views.css?qec6xp\");\n",
            "\n",
            "\n",
            "@import url(\"http://www.medicosypacientes.com/sites/all/modules/colorbox/styles/default/colorbox_style.css?qec6xp\");\n",
            "@import url(\"http://www.medicosypacientes.com/profiles/openpublish/modules/contrib/ctools/css/ctools.css?qec6xp\");\n",
            "@import url(\"http://www.medicosypacientes.com/sites/all/modules/panels/css/panels.css?qec6xp\");\n",
            "@import url(\"http://www.medicosypacientes.com/sites/all/modules/quote/quote.css?qec6xp\");\n",
            "\n",
            "\n",
            "<!--/*--><![CDATA[/*><!--*/\n",
            "#sliding-popup.sliding-popup-bottom{background:#000000;}#sliding-popup .popup-content #popup-text h2,#sliding-popup .popup-content #popup-text p{color:#ffffff !important;}\n",
            "\n",
            "/*]]>*/-->\n",
            "\n",
            "\n",
            "@import url(\"http://www.medicosypacientes.com/sites/all/modules/eu-cookie-compliance/css/eu_cookie_compliance.css?qec6xp\");\n",
            "@import url(\"http://www.medicosypacientes.com/sites/all/modules/addtoany/addtoany.css?qec6xp\");\n",
            "@import url(\"http://www.medicosypacientes.com/profiles/openpublish/libraries/photoswipe/photoswipe.css?qec6xp\");\n",
            "\n",
            "\n",
            "@import url(\"http://www.medicosypacientes.com/profiles/openpublish/themes/openpublish-themes/frame/css/bootstrap.css?qec6xp\");\n",
            "@import url(\"http://www.medicosypacientes.com/profiles/openpublish/themes/openpublish-themes/frame/css/styles.css?qec6xp\");\n",
            "\n",
            "\n",
            "@import url(\"http://www.medicosypacientes.com/profiles/openpublish/themes/omega/alpha/css/alpha-reset.css?qec6xp\");\n",
            "@import url(\"http://www.medicosypacientes.com/profiles/openpublish/themes/omega/alpha/css/alpha-mobile.css?qec6xp\");\n",
            "@import url(\"http://www.medicosypacientes.com/profiles/openpublish/themes/omega/alpha/css/alpha-alpha.css?qec6xp\");\n",
            "@import url(\"http://www.medicosypacientes.com/profiles/openpublish/themes/omega/omega/css/omega-branding.css?qec6xp\");\n",
            "@import url(\"http://www.medicosypacientes.com/profiles/openpublish/themes/omega/omega/css/omega-menu.css?qec6xp\");\n",
            "@import url(\"http://www.medicosypacientes.com/profiles/openpublish/themes/openpublish-themes/frame/css/default.css?qec6xp\");\n",
            "@import url(\"http://www.medicosypacientes.com/profiles/openpublish/themes/openpublish-themes/frame/css/tabs.css?qec6xp\");\n",
            "\n",
            "\n",
            "\n",
            "@import url(\"http://www.medicosypacientes.com/profiles/openpublish/themes/omega/alpha/css/grid/alpha_default/fluid/alpha-default-fluid-12.css?qec6xp\");\n",
            "\n",
            "\n",
            "\n",
            "\n",
            "@import url(\"http://www.medicosypacientes.com/profiles/openpublish/themes/omega/alpha/css/grid/alpha_default/wide/alpha-default-wide-12.css?qec6xp\");\n",
            "\n",
            "\n",
            "\n",
            "\n",
            "<!--//--><![CDATA[//><!--\n",
            "document.cookie = 'adaptive_image=' + Math.max(screen.width, screen.height) + '; path=/';\n",
            "//--><!]]>\n",
            "\n",
            "\n",
            "\n",
            "\n",
            "\n",
            "<!--//--><![CDATA[//><!--\n",
            "window.CKEDITOR_BASEPATH = '/profiles/openpublish/libraries/ckeditor/'\n",
            "//--><!]]>\n",
            "\n",
            "\n",
            "\n",
            "<!--//--><![CDATA[//><!--\n",
            "var _gaq = _gaq || [];_gaq.push([\"_setAccount\", \"UA-4673459-1\"]);_gaq.push([\"_trackPageview\"]);(function() {var ga = document.createElement(\"script\");ga.type = \"text/javascript\";ga.async = true;ga.src = (\"https:\" == document.location.protocol ? \"https://ssl\" : \"http://www\") + \".google-analytics.com/ga.js\";var s = document.getElementsByTagName(\"script\")[0];s.parentNode.insertBefore(ga, s);})();\n",
            "//--><!]]>\n",
            "\n",
            "\n",
            "\n",
            "\n",
            "\n",
            "<!--//--><![CDATA[//><!--\n",
            "jQuery.extend(Drupal.settings, {\"basePath\":\"\\/\",\"pathPrefix\":\"\",\"ajaxPageState\":{\"theme\":\"frame\",\"theme_token\":\"1OBmLJ_sbAm9eVnYhSV2301BbN7U7xXStAWUoKqyTes\",\"js\":{\"0\":1,\"1\":1,\"2\":1,\"3\":1,\"4\":1,\"5\":1,\"6\":1,\"7\":1,\"8\":1,\"9\":1,\"https:\\/\\/s7.addthis.com\\/js\\/300\\/addthis_widget.js#pubid=\\u0026async=1\":1,\"profiles\\/openpublish\\/modules\\/contrib\\/addthis\\/addthis.js\":1,\"sites\\/all\\/modules\\/eu-cookie-compliance\\/js\\/eu_cookie_compliance.js\":1,\"profiles\\/openpublish\\/libraries\\/photoswipe\\/lib\\/klass.min.js\":1,\"10\":1,\"misc\\/jquery.js\":1,\"misc\\/jquery-extend-3.4.0.js\":1,\"misc\\/jquery.once.js\":1,\"misc\\/drupal.js\":1,\"sites\\/all\\/modules\\/comment_notify\\/comment_notify.js\":1,\"sites\\/all\\/modules\\/myp\\/myp.js\":1,\"public:\\/\\/languages\\/es_K_4YxnkuDfL5f--s8LOh8hCXMu3dobe-J31nzgBfqLE.js\":1,\"sites\\/all\\/libraries\\/colorbox\\/jquery.colorbox-min.js\":1,\"sites\\/all\\/modules\\/colorbox\\/js\\/colorbox.js\":1,\"sites\\/all\\/modules\\/colorbox\\/styles\\/default\\/colorbox_style.js\":1,\"sites\\/all\\/modules\\/colorbox\\/js\\/colorbox_load.js\":1,\"sites\\/all\\/modules\\/colorbox\\/js\\/colorbox_inline.js\":1,\"sites\\/all\\/modules\\/quote\\/quote.js\":1,\"sites\\/all\\/modules\\/better_exposed_filters\\/better_exposed_filters.js\":1,\"profiles\\/openpublish\\/modules\\/contrib\\/ctools\\/js\\/auto-submit.js\":1,\"11\":1,\"profiles\\/openpublish\\/modules\\/contrib\\/google_analytics\\/googleanalytics.js\":1,\"12\":1,\"http:\\/\\/www.medicosypacientes.com\\/sites\\/default\\/files\\/twitter_block\\/widgets.js\":1,\"profiles\\/openpublish\\/libraries\\/photoswipe\\/code.photoswipe-3.0.5.js\":1,\"profiles\\/openpublish\\/modules\\/features\\/openpublish_media\\/js\\/photo-gallery.js\":1,\"profiles\\/openpublish\\/themes\\/openpublish-themes\\/frame\\/js\\/main.js\":1,\"profiles\\/openpublish\\/themes\\/omega\\/omega\\/js\\/omega-mediaqueries.js\":1,\"profiles\\/openpublish\\/themes\\/omega\\/omega\\/js\\/omega-equalheights.js\":1},\"css\":{\"modules\\/system\\/system.base.css\":1,\"modules\\/system\\/system.menus.css\":1,\"modules\\/system\\/system.messages.css\":1,\"modules\\/system\\/system.theme.css\":1,\"sites\\/all\\/modules\\/comment_notify\\/comment_notify.css\":1,\"sites\\/all\\/modules\\/adaptive_image\\/css\\/adaptive-image.css\":1,\"modules\\/aggregator\\/aggregator.css\":1,\"modules\\/comment\\/comment.css\":1,\"sites\\/all\\/modules\\/date\\/date_api\\/date.css\":1,\"modules\\/field\\/theme\\/field.css\":1,\"modules\\/node\\/node.css\":1,\"modules\\/user\\/user.css\":1,\"sites\\/all\\/modules\\/views\\/css\\/views.css\":1,\"sites\\/all\\/modules\\/colorbox\\/styles\\/default\\/colorbox_style.css\":1,\"profiles\\/openpublish\\/modules\\/contrib\\/ctools\\/css\\/ctools.css\":1,\"sites\\/all\\/modules\\/panels\\/css\\/panels.css\":1,\"sites\\/all\\/modules\\/quote\\/quote.css\":1,\"0\":1,\"sites\\/all\\/modules\\/eu-cookie-compliance\\/css\\/eu_cookie_compliance.css\":1,\"sites\\/all\\/modules\\/addtoany\\/addtoany.css\":1,\"profiles\\/openpublish\\/libraries\\/photoswipe\\/photoswipe.css\":1,\"profiles\\/openpublish\\/themes\\/openpublish-themes\\/frame\\/css\\/bootstrap.css\":1,\"profiles\\/openpublish\\/themes\\/openpublish-themes\\/frame\\/css\\/styles.css\":1,\"profiles\\/openpublish\\/themes\\/omega\\/alpha\\/css\\/alpha-reset.css\":1,\"profiles\\/openpublish\\/themes\\/omega\\/alpha\\/css\\/alpha-mobile.css\":1,\"profiles\\/openpublish\\/themes\\/omega\\/alpha\\/css\\/alpha-alpha.css\":1,\"profiles\\/openpublish\\/themes\\/omega\\/omega\\/css\\/omega-branding.css\":1,\"profiles\\/openpublish\\/themes\\/omega\\/omega\\/css\\/omega-menu.css\":1,\"profiles\\/openpublish\\/themes\\/openpublish-themes\\/frame\\/css\\/default.css\":1,\"profiles\\/openpublish\\/themes\\/openpublish-themes\\/frame\\/css\\/tabs.css\":1,\"profiles\\/openpublish\\/themes\\/omega\\/alpha\\/css\\/grid\\/alpha_default\\/fluid\\/alpha-default-fluid-12.css\":1,\"profiles\\/openpublish\\/themes\\/omega\\/alpha\\/css\\/grid\\/alpha_default\\/wide\\/alpha-default-wide-12.css\":1}},\"colorbox\":{\"transition\":\"elastic\",\"speed\":\"350\",\"opacity\":\"0.85\",\"slideshow\":false,\"slideshowAuto\":true,\"slideshowSpeed\":\"2500\",\"slideshowStart\":\"start slideshow\",\"slideshowStop\":\"stop slideshow\",\"current\":\"{current} of {total}\",\"previous\":\"\\u00ab Prev\",\"next\":\"Next \\u00bb\",\"close\":\"Cerrar\",\"overlayClose\":true,\"maxWidth\":\"98%\",\"maxHeight\":\"98%\",\"initialWidth\":\"600\",\"initialHeight\":\"450\",\"fixed\":true,\"scrolling\":true,\"mobiledetect\":true,\"mobiledevicewidth\":\"480px\"},\"quote_nest\":\"2\",\"profile\":\"openpublish\",\"profile_version\":\"7.x-1.0-beta9\",\"better_exposed_filters\":{\"datepicker\":false,\"slider\":false,\"settings\":[]},\"urlIsAjaxTrusted\":{\"\\/opinion\":true},\"addthis\":{\"load_type\":\"async\"},\"eu_cookie_compliance\":{\"popup_enabled\":1,\"popup_agreed_enabled\":0,\"popup_hide_agreed\":1,\"popup_clicking_confirmation\":1,\"popup_html_info\":\"\\u003Cdiv\\u003E\\n  \\u003Cdiv class =\\u0022popup-content info\\u0022\\u003E\\n    \\u003Cdiv id=\\u0022popup-text\\u0022\\u003E\\n      \\u003Cdiv class=\\u0022malditas_cookies\\u0022\\u003E\\n\\u003Ch2\\u003EUsamos cookies para mejorar la experiencia de usuario\\u003C\\/h2\\u003E\\n\\u003Cp\\u003EHaciendo click en cualquier parte de esta p\\u00e1gina nos da su consentimiento para usar cookies.\\u003C\\/p\\u003E\\n\\u003C\\/div\\u003E\\n    \\u003C\\/div\\u003E\\n    \\u003Cdiv id=\\u0022popup-buttons\\u0022\\u003E\\n      \\u003Cbutton type=\\u0022button\\u0022 class=\\u0022agree-button\\u0022\\u003EDe acuerdo\\u003C\\/button\\u003E\\n      \\u003Cbutton type=\\u0022button\\u0022 class=\\u0022find-more-button\\u0022\\u003ENo, ver m\\u00e1s informaci\\u00f3n\\u003C\\/button\\u003E\\n    \\u003C\\/div\\u003E\\n  \\u003C\\/div\\u003E\\n\\u003C\\/div\\u003E\\n\",\"popup_html_agreed\":\"\\u003Cdiv\\u003E\\n  \\u003Cdiv class =\\u0022popup-content agreed\\u0022\\u003E\\n    \\u003Cdiv id=\\u0022popup-text\\u0022\\u003E\\n      \\u003Ch2\\u003EGracias por aceptar nuestras cookies\\u003C\\/h2\\u003E\\n\\u003Cp\\u003EPuede ocultar este mensaje o saber m\\u00e1s sobre las cookies.\\u003C\\/p\\u003E\\n    \\u003C\\/div\\u003E\\n    \\u003Cdiv id=\\u0022popup-buttons\\u0022\\u003E\\n      \\u003Cbutton type=\\u0022button\\u0022 class=\\u0022hide-popup-button\\u0022\\u003EOcultar\\u003C\\/button\\u003E\\n      \\u003Cbutton type=\\u0022button\\u0022 class=\\u0022find-more-button\\u0022 \\u003EMore info\\u003C\\/button\\u003E\\n    \\u003C\\/div\\u003E\\n  \\u003C\\/div\\u003E\\n\\u003C\\/div\\u003E\",\"popup_height\":\"auto\",\"popup_width\":\"100%\",\"popup_delay\":1000,\"popup_link\":\"\\/politica-de-cookies\",\"popup_link_new_window\":1,\"popup_position\":null,\"popup_language\":\"es\",\"domain\":\"\"},\"googleanalytics\":{\"trackOutbound\":1,\"trackMailto\":1,\"trackDownload\":1,\"trackDownloadExtensions\":\"7z|aac|arc|arj|asf|asx|avi|bin|csv|doc|exe|flv|gif|gz|gzip|hqx|jar|jpe?g|js|mp(2|3|4|e?g)|mov(ie)?|msi|msp|pdf|phps|png|ppt|qtm?|ra(m|r)?|sea|sit|tar|tgz|torrent|txt|wav|wma|wmv|wpd|xls|xml|z|zip\"},\"omega\":{\"layouts\":{\"primary\":\"normal\",\"order\":[\"fluid\",\"wide\"],\"queries\":{\"fluid\":\"all and (min-width: 740px) and (min-device-width: 740px)\",\"wide\":\"all and (min-width: 1220px)\"}}}});\n",
            "//--><!]]>\n",
            "\n",
            "\n",
            "\n",
            "\n",
            "  a.socialIcon span{width:16px;height:16px;display:inline-block;background-size:20px;background-position:center;margin-right:3px;}\n",
            "  a.socialIcon span.twitter{background-image:url(/profiles/openpublish/themes/openpublish-themes/frame/img/social/twitter.png);}\n",
            "  a.socialIcon span.facebook{background-image:url(/profiles/openpublish/themes/openpublish-themes/frame/img/social/facebook.png);}\n",
            "  a.socialIcon span.google{background-image:url(/profiles/openpublish/themes/openpublish-themes/frame/img/social/google.png);}\n",
            "  a.socialIcon span.linkedin{background-image:url(/profiles/openpublish/themes/openpublish-themes/frame/img/social/linkedin.png);}\n",
            "  a.socialIcon span.plus{background-image:url(/profiles/openpublish/themes/openpublish-themes/frame/img/social/plus.png);}\n",
            "  a.socialIcon span.instagram{background-image:url(/profiles/openpublish/themes/openpublish-themes/frame/img/social/instagram.png);}\n",
            "  a.socialIcon span.whatsapp{background-image:url(/profiles/openpublish/themes/openpublish-themes/frame/img/social/whatsapp.png);}\n",
            "  a.socialIcon span.telegram{background-image:url(/profiles/openpublish/themes/openpublish-themes/frame/img/social/telegram.png);}\n",
            "\n",
            "\n",
            "\n",
            "\n",
            "\n",
            "Pasar al contenido principal\n",
            "\n",
            "\n",
            "\n",
            "\n",
            "\n",
            "\n",
            "\n",
            "\n",
            "\n",
            "\n",
            "\n",
            " \n",
            "\n",
            " \n",
            "\n",
            "\n",
            "\n",
            "\n",
            "\n",
            "Lunes, 17 Agosto 2020 \n",
            "\n",
            "\n",
            "\n",
            "\n",
            "\n",
            "\n",
            "\n",
            "\n",
            "\n",
            "\n",
            "\n",
            "\n",
            "\n",
            "Inscríbete\n",
            "\n",
            " \n",
            "\n",
            "\n",
            "\n",
            "\n",
            "function googleTranslateElementInit() {new google.translate.TranslateElement({pageLanguage: 'es',layout: google.translate.TranslateElement.InlineLayout.SIMPLE, autoDisplay: false,includedLanguages: 'ar,eu,be,bg,ca,zh-CN,zh-TW,hr,cs,da,nl,en,et,tl,fi,fr,gl,ka,de,el,ht,iw,hi,hu,is,id,ga,it,ja,ko,lv,lt,mk,ms,mt,no,fa,pl,pt,ro,ru,sr,sk,sl,sw,sv,th,tr,uk,ur,vi'}, 'google_translate_element');} \n",
            "\n",
            "\n",
            "\n",
            "\n",
            "\n",
            "\n",
            "\n",
            "\n",
            "Buscar \n",
            "\n",
            "\n",
            "\n",
            "\n",
            "\n",
            "\n",
            "\n",
            "Hemeroteca\n",
            "\n",
            "\n",
            " \n",
            " \n",
            "\n",
            "\n",
            "\n",
            "\n",
            "\n",
            "\n",
            "\n",
            "\n",
            "\n",
            "Médicos y Pacientes\n",
            "\n",
            "\n",
            "\n",
            " \n",
            "\n",
            "\n",
            "\n",
            "\n",
            "\n",
            "\n",
            "Menú principalHomeOMCFundaciones OMCActualidadOrganizacionesPacientesInvestigaciónMultimediaHemerotecaOpinión\n",
            "\n",
            "\n",
            "\n",
            "\n",
            "\n",
            "\n",
            "\n",
            "\n",
            "\n",
            "\n",
            "Opinión\n",
            "\n",
            "\n",
            "Opinión\n",
            "\n",
            "Firmas\n",
            "Editorial\n",
            "Artículos\n",
            "Análisis\n",
            "Posts Destacados\n",
            " \n",
            "\n",
            "\n",
            "\n",
            "\n",
            "\n",
            "\n",
            "\n",
            "\n",
            "\n",
            "\n",
            "\n",
            "\n",
            "\n",
            "\n",
            " \n",
            "\n",
            "\n",
            " \n",
            "\n",
            "\n",
            "\n",
            "\n",
            "\n",
            "    Artículo   \n",
            " Dr. Garrote: “La pandemia desde Atención Primaria: una visión de un médico rural” \n",
            "\n",
            " \n",
            " \n",
            "\n",
            "    Segovia   \n",
            " 27/07/2020 \n",
            "\n",
            "    medicosypacientes.com   \n",
            "\n",
            "\n",
            "\n",
            "    Tras unos meses de la declaración oficial de la pandemia, me piden que haga una reflexión desde mi óptica de médico rural, y la verdad es que si humanamente tengo una sensación de profunda tristeza, profesionalmente mi sensación es de perplejidad. Cuando, se declaró oficialmente la pandemia, mi...  \n",
            " \n",
            " Leer más ...  \n",
            "\n",
            " \n",
            "\n",
            "\n",
            "      \n",
            "          Opinión     \n",
            "   fol:  \n",
            "\n",
            "\n",
            "\n",
            "\n",
            "\n",
            "\n",
            "\n",
            "\n",
            " \n",
            " \n",
            "Artículo\n",
            "Dr. Bátiz: “Cerca de la muerte y lejos de la familia”\n",
            "\n",
            "\n",
            "    Madrid  \n",
            " 24-07-2020 \n",
            "\n",
            "    medicosypacientes.com  \n",
            "\n",
            "\n",
            "El Dr. Jacinto Bátiz, director del Instituto para Cuidar Mejor Hospital San Juan de Dios de Santurtzi, analiza en este artículo el sufrimiento que ha creado la pandemia de COVID19 en los pacientes por encontrarse cerca de la muerte y lejos de sus familias\n",
            "\n",
            "\n",
            "\n",
            "    Ante el COVID-19 se ha contemplado una triple y triste realidad: por un lado, un enfermo grave, sufriendo y sintiendo cerca su muerte, pero solo. Por otro, su familia, sufriendo también por su familiar, sintiéndose impotente, lejos de él, sin poderle acompañar y lo que es peor sin poderse despedir de él. En tercer lugar, los sanitarios que le atienden sufriendo por su incertidumbre de poderle...  \n",
            "Leer más ...\n",
            "\n",
            "  \n",
            "\n",
            "      \n",
            "          Opinión     \n",
            "   fol:  \n",
            "\n",
            "\n",
            "\n",
            "\n",
            "\n",
            "\n",
            "\n",
            "\n",
            " \n",
            " \n",
            "Artículo\n",
            "Dr. Alfonso Carmona : “La hora de la justicia… 30 años después”\n",
            "\n",
            "\n",
            "    Sevilla  \n",
            " 15-07-2020 \n",
            "\n",
            "    medicosypacientes.com   \n",
            "\n",
            "\n",
            "El Dr. Alfonso Carmona, presidente del Colegio de Médicos de Sevilla, muestra su satisfacción con la medida anunciada por la Consejería de Salud y Familias de la Junta de Andalucía de extender el Complemento Específico por Dedicación Exclusiva, de manera que lo puedan percibir todos los médicos con independencia de su régimen de compatibilidad de actividad.\n",
            "\n",
            "\n",
            "\n",
            "    Ha llegado la hora de felicitarnos. Ha llegado la hora de sentirnos orgulloso por nuestra perseverancia y nuestro tesón. Sentirnos satisfechos porque, por fin, un gobierno andaluz nos ha escuchado. Por primera vez en más de 30 años, la Administración de Andalucía ha sido capaz de enfrentarse a muchas dificultades de todo tipo, desde económicas y políticas hasta sindicales para, qué fácil y qué...  \n",
            "Leer más ...\n",
            "\n",
            "  \n",
            "\n",
            "      \n",
            "          Opinión     \n",
            "   fol:  \n",
            "\n",
            "\n",
            "\n",
            "\n",
            "\n",
            "\n",
            "\n",
            "\n",
            " \n",
            " \n",
            "Artículo\n",
            "Dr. Landa: “Donald Trump, la OMS, China y la COVID 19”\n",
            "\n",
            "\n",
            "    Madrid  \n",
            " 13-07-2020 \n",
            "\n",
            "    medicosypacientes.com   \n",
            "\n",
            "\n",
            "El Dr. José Ignacio Landa,  Cirujano General y del Aparato Digestivo y miembro del Consejo Asesor del Consejo General de Colegios Oficiales de Médicos (CGCOM),  subraya en este artículo que “la Organización Mundial de la Salud (OMS) en los últimos años ha mostrado ciertas debilidades por la República Popular China y no parece que haya gestionado de una forma aceptable esta pandemia”\n",
            "\n",
            "\n",
            "\n",
            "    Hace un año escribí mis críticas en esta revista sobre la intención de la Organización Mundial de la Salud (OMS) de incluir en su nueva versión de la “Clasificación Estadística Internacional de Enfermedades y Problemas Relacionados con la Salud” (CIE-11), un nuevo apartado que incorporará la Medicina Tradicional China (MTC). Mostraba mi extrañeza y mis sospechas sobre la influencia de directivos...  \n",
            "Leer más ...\n",
            "\n",
            "  \n",
            "\n",
            "      \n",
            "          Opinión     \n",
            "   fol:  \n",
            "\n",
            "\n",
            "\n",
            "\n",
            "\n",
            "\n",
            "\n",
            "\n",
            " \n",
            " \n",
            "Artículo\n",
            "Dr. Santiago Santa Cruz: “El valor de la palabra dada”\n",
            "\n",
            "\n",
            "    Salamanca  \n",
            " 06-07-2020 \n",
            "\n",
            "    medicosypacientes.com  \n",
            "\n",
            "\n",
            "El Dr. Santiago Santa Cruz, presidente del Colegio de Médicos de Salamanca, analiza en este artículo la falta de médicos y las acciones políticas que deberían ejecutarse para corregir este problema\n",
            "\n",
            "\n",
            "\n",
            "    A la principal preocupación de este Colegio en este año, que no puede ser otra que la pérdida de vidas (61 de ellos, médicos en activo) y las secuelas de numerosos pacientes por la pandemia del Covid-19, se une ahora la merma en el número de médicos que el sistema sanitario de Castilla y León padece. Esta pérdida de médicos en el sistema público de salud llevamos sufriéndola en los últimos años...  \n",
            "Leer más ...\n",
            "\n",
            "  \n",
            "\n",
            "      \n",
            "          Opinión     \n",
            "   fol:  \n",
            "\n",
            "\n",
            "\n",
            "\n",
            "\n",
            "\n",
            "\n",
            "\n",
            " \n",
            " \n",
            "Artículo\n",
            "Dr. Antonio Ares Camerino “Sin tocarse”\n",
            "\n",
            "\n",
            "    Cádiz  \n",
            " 03-07-2020 \n",
            "\n",
            "    medicosypacientes.com  \n",
            "\n",
            "\n",
            "El Dr. Antonio Ares, delegado territorial de Bahía de Cádiz del Colegio de Médicos gaditano, reflexiona en este artículo sobre como ha cambiado la relación médico-paciente\n",
            "\n",
            "\n",
            "\n",
            "    “A él nunca se le habían dado bien las nuevas tecnologías. Se consideraba muy torpe para ello. Menos mal que su mujer si se manejaba bien con las nuevas tecnologías, las pantallas diminutas no le daban miedo. Aquella tarde ella la había concertado una cita telemática con su médico de cabecera. Unos minutos antes de la hora prevista él se miró al espejo para comprobar que su aspecto era el...  \n",
            "Leer más ...\n",
            "\n",
            "  \n",
            "\n",
            "      \n",
            "          Opinión     \n",
            "   fol:  \n",
            "\n",
            "\n",
            "\n",
            "\n",
            "\n",
            "\n",
            "\n",
            "\n",
            " \n",
            " \n",
            "Artículo\n",
            "Dr. Fernández Chavero: “La Medicina del Trabajo: nuestro Ave Fénix”\n",
            "\n",
            "\n",
            "    Badajoz  \n",
            " 02-07-2020 \n",
            "\n",
            "    medicosypacientes.com   \n",
            "\n",
            "\n",
            "El Dr. Manuel Fernández Chavero, médico del Trabajo, analiza en este artículo cómo ha emergido la Medicina del Trabajo en el contexto de la pandemia y subraya que “ha tenido que acontecer una emergencia sanitaria para resucitar una especialidad que ha demostrado desde el principio que su papel tenía que ser imprescindible”\n",
            "\n",
            "\n",
            "\n",
            "    El mayor riesgo es no asumir ningún riesgo. En un mundo que cambia realmente rápido, la única estrategia en la que el fracaso está garantizado es no asumir riesgos. (Mark Zuckerberg) Un acontecimiento trágico sirvió de inspiración para la creación de una de las películas más iconográficas de la historia del cine: “Lo que el viento se llevó “ Actualmente estamos viviendo, en forma de pandemia,...  \n",
            "Leer más ...\n",
            "\n",
            "  \n",
            "\n",
            "      \n",
            "          Opinión     \n",
            "   fol:  \n",
            "\n",
            "\n",
            "\n",
            "\n",
            "\n",
            "\n",
            "\n",
            "\n",
            " \n",
            " \n",
            "Blog AP25\n",
            "Dr. Ignacio Sevilla: De las realidades a los retos de la Atención Primaria en la crisis de la COVID-19. ¿Qué hemos aprendido?\n",
            "\n",
            "\n",
            "    Madrid  \n",
            " 26-06-2020 \n",
            "\n",
            "    medicosypacientes.com  \n",
            "\n",
            "\n",
            "El Dr. Ignacio Sevilla, vocal de Atención Primaria del Colegio de Médicos de Madrid, analiza en este artículo de opinión del blog AP25, los retos de la Atención Primaria en la crisis de la COVID-19\n",
            "\n",
            "\n",
            "\n",
            "    En la crisis de la COVID-19, la Atención Primaria ha demostrado estar a la altura de las circunstancias y convertirse en un muro de contención logrando evitar que muchos pacientes en estadios moderados o leves tuviesen que ser atendidos en los centros hospitalarios y, por tanto, aumentar el riesgo de contagio; una realidad incontestable que nadie pone en duda y que ha evitado el colapso del...  \n",
            "Leer más ...\n",
            "\n",
            "  \n",
            "\n",
            "      \n",
            "          Opinión     \n",
            "   fol:  \n",
            "\n",
            "\n",
            "\n",
            "\n",
            "\n",
            "\n",
            "\n",
            "\n",
            " \n",
            " \n",
            "Opinión\n",
            "\"El premio verdadero\"\n",
            "\n",
            "\n",
            "    Bilbao  \n",
            " 23-06-2020 \n",
            "\n",
            "    medicosypacientes.com/ COM Bizkaia  \n",
            "\n",
            "\n",
            "El pasado 3 de junio, el jurado de los Premios Princesa de Asturias anunció la concesión del Premio Princesa de Asturias de la Concordia 2020 a las sanitarias y los sanitarios españoles en primera línea contra la COVID-19. La Junta Directiva del Colegio de Médicos de Bizkaia expresa su opinión en este artículo\n",
            "\n",
            "\n",
            "\n",
            "    Los premios Princesa de Asturias gozan de gran prestigio nacional e internacional y han reconocido, en la categoría de premio de la concordia, la labor de entidades como la Unión Europea, Unicef, la Federación Española de Bancos de Alimentos, Médicos sin Fronteras, Medicus Mundi o la Orden Hospitalaria San Juan de Dios. También el impagable trabajo en busca de la paz, la justicia y la solidaridad...  \n",
            "Leer más ...\n",
            "\n",
            "  \n",
            "\n",
            "      \n",
            "          Opinión     \n",
            "   fol:  \n",
            "\n",
            "\n",
            "\n",
            "\n",
            "\n",
            "\n",
            "\n",
            "\n",
            " \n",
            " \n",
            "Artículo \n",
            "Dra. Concha Ferrer: “La sanidad en jaque”\n",
            "\n",
            "\n",
            "    Zaragoza  \n",
            " 15-06-2020 \n",
            "\n",
            "    medicosypacientes.com   \n",
            "\n",
            "\n",
            "La Dra. Concha Ferrer, presidenta del Colegio de Médicos de Zaragoza, analiza en este artículo los acontecimientos acaecidos en los últimos meses, que han puesto en evidencia las debilidades de nuestro sistema sanitario: sus carencias, sus problemas de gestión, la falta de coordinación, la inexperiencia de un comité interterritorial que, vacío hace tiempo de contenidos asumidos por las CCAA, ha sido incapaz de tomar el liderazgo en esta tremenda crisis\n",
            "\n",
            "\n",
            "\n",
            "    La experiencia vivida nos deja muchas situaciones en las que hemos mostrado nuestras fortalezas y nuestras debilidades. La flexibilidad de los profesionales para asumir situaciones nuevas, para dar lo mejor de sí mismos, consiguió que en corto espacio de tiempo surgieran especialistas en materias no habituales en su día a día. Igualmente se transformaron espacios en los hospitales, se crearon...  \n",
            "Leer más ...\n",
            "\n",
            "  \n",
            "\n",
            "      \n",
            "          Opinión     \n",
            "   fol:  \n",
            "\n",
            "\n",
            "\n",
            "\n",
            "\n",
            "\n",
            "\n",
            "\n",
            " \n",
            " \n",
            "COM Córdoba\n",
            "Dr. Luis Palenzuela: “Aplausos a las 8”\n",
            "\n",
            "\n",
            "    Madrid  \n",
            " 09-06-2020 \n",
            "\n",
            "    medicosypacientes.com/ COM Córdoba  \n",
            "\n",
            "\n",
            "El Dr. Luis Palenzuela, vicepresidente tercero del Colegio de Médicos Córdoba, analiza en este artículo de opinión el aplauso de las 8” un gesto que a su juicio “hace reflexionar sobre lo poco que se promociona, desde las administraciones públicas, la implicación profesional en el sistema sanitario, ese día a día desconocido en el que se asisten y resuelven múltiples problemas de salud de miles y miles de ciudadanos, las gestas diarias de la actuación médica en miles de procedimientos”\n",
            "\n",
            "\n",
            "\n",
            "    Dr. Luis Palenzuela, vicepresidente tercero del Colegio de Médicos Córdoba Esa era la hora en la que de, forma espontánea, cientos de miles de ciudadanos coincidían en las ventanas, en los balcones de sus casas para rendir tributo a los profesionales sanitarios que atendían a miles de ciudadanos enfermos por el Covid19. Nunca antes había ocurrido de esa forma, ni con tantas personas implicadas...  \n",
            "Leer más ...\n",
            "\n",
            "  \n",
            "\n",
            "Páginas123456789…siguiente ›última »\n",
            " \n",
            "\n",
            " \n",
            "\n",
            "\n",
            "\n",
            "\n",
            "\n",
            "Opinión\n",
            "Firmas\n",
            "Editorial\n",
            "Artículos\n",
            "Análisis\n",
            "Post Destacados \n",
            "\n",
            "\n",
            "\n",
            "\n",
            "Info InternacionalFebrero 2020\n",
            "\n",
            " \n",
            "\n",
            "\n",
            "\n",
            "\n",
            "Tweets by  \n",
            "\n",
            "\n",
            "\n",
            "\n",
            "\n",
            "Info Protección SocialFebrero 2020\n",
            "\n",
            "\n",
            "  \n",
            "\n",
            "\n",
            "Info Formación FFOMCFebrero 2020\n",
            "\n",
            " \n",
            "  \n",
            "\n",
            "\n",
            "Info Intervención Médico-HumanitariaFebrero 2020\n",
            "\n",
            " \n",
            "\n",
            "\n",
            "\n",
            "\n",
            "\n",
            "Enlaces de interés \n",
            "\n",
            "\n",
            "\n",
            "\n",
            "\n",
            " \n",
            "\n",
            "\n",
            "\n",
            "\n",
            "Revista OMC\n",
            "Nº 47\n",
            "\n",
            "\n",
            "\n",
            " \n",
            "Libro ‘Responsabilidadde médicos especialistas, tutores y residentes’\n",
            "\n",
            " \n",
            "Catálogo de Prestaciones FPSOMC \n",
            "\n",
            "\n",
            " \n",
            "\n",
            " \n",
            " \n",
            "\n",
            "\n",
            "\n",
            "\n",
            "\n",
            "\n",
            "\n",
            "\n",
            "Footer Links\n",
            "\n",
            "\n",
            "\n",
            "    \n",
            "Contacto\n",
            "Quiénes somos\n",
            "Aviso Legal\n",
            "Política de cookies\n",
            "Politica de privacidad\n",
            "Mapa web\n",
            "RSS\n",
            "© Consejo General de Colegios Oficiales de Médicos \n",
            "\n",
            " \n",
            " \n",
            " \n",
            "\n",
            "\n",
            "\n",
            "\n",
            "<!--//--><![CDATA[//><!--\n",
            "var addthis_config = {\"pubid\":\"\",\"services_compact\":\"telegram,twitter,more\",\"data_track_clickback\":false,\"ui_508_compliant\":false,\"ui_click\":true,\"ui_cobrand\":\"\",\"ui_delay\":0,\"ui_header_background\":\"\",\"ui_header_color\":\"\",\"ui_open_windows\":false,\"ui_use_css\":true,\"ui_use_addressbook\":false,\"ui_language\":\"es\"}\n",
            "var addthis_share = {\"templates\":{\"twitter\":\"{{title}} {{url}}\"}}\n",
            "//--><!]]>\n",
            "\n",
            "\n",
            "<!--//--><![CDATA[//><!--\n",
            "var addthis_config = {\"pubid\":\"\",\"services_compact\":\"telegram,twitter,more\",\"data_track_clickback\":false,\"ui_508_compliant\":false,\"ui_click\":true,\"ui_cobrand\":\"\",\"ui_delay\":0,\"ui_header_background\":\"\",\"ui_header_color\":\"\",\"ui_open_windows\":false,\"ui_use_css\":true,\"ui_use_addressbook\":false,\"ui_language\":\"es\"}\n",
            "var addthis_share = {\"templates\":{\"twitter\":\"{{title}} {{url}}\"}}\n",
            "//--><!]]>\n",
            "\n",
            "\n",
            "<!--//--><![CDATA[//><!--\n",
            "var addthis_config = {\"pubid\":\"\",\"services_compact\":\"telegram,twitter,more\",\"data_track_clickback\":false,\"ui_508_compliant\":false,\"ui_click\":true,\"ui_cobrand\":\"\",\"ui_delay\":0,\"ui_header_background\":\"\",\"ui_header_color\":\"\",\"ui_open_windows\":false,\"ui_use_css\":true,\"ui_use_addressbook\":false,\"ui_language\":\"es\"}\n",
            "var addthis_share = {\"templates\":{\"twitter\":\"{{title}} {{url}}\"}}\n",
            "//--><!]]>\n",
            "\n",
            "\n",
            "<!--//--><![CDATA[//><!--\n",
            "var addthis_config = {\"pubid\":\"\",\"services_compact\":\"telegram,twitter,more\",\"data_track_clickback\":false,\"ui_508_compliant\":false,\"ui_click\":true,\"ui_cobrand\":\"\",\"ui_delay\":0,\"ui_header_background\":\"\",\"ui_header_color\":\"\",\"ui_open_windows\":false,\"ui_use_css\":true,\"ui_use_addressbook\":false,\"ui_language\":\"es\"}\n",
            "var addthis_share = {\"templates\":{\"twitter\":\"{{title}} {{url}}\"}}\n",
            "//--><!]]>\n",
            "\n",
            "\n",
            "<!--//--><![CDATA[//><!--\n",
            "var addthis_config = {\"pubid\":\"\",\"services_compact\":\"telegram,twitter,more\",\"data_track_clickback\":false,\"ui_508_compliant\":false,\"ui_click\":true,\"ui_cobrand\":\"\",\"ui_delay\":0,\"ui_header_background\":\"\",\"ui_header_color\":\"\",\"ui_open_windows\":false,\"ui_use_css\":true,\"ui_use_addressbook\":false,\"ui_language\":\"es\"}\n",
            "var addthis_share = {\"templates\":{\"twitter\":\"{{title}} {{url}}\"}}\n",
            "//--><!]]>\n",
            "\n",
            "\n",
            "<!--//--><![CDATA[//><!--\n",
            "var addthis_config = {\"pubid\":\"\",\"services_compact\":\"telegram,twitter,more\",\"data_track_clickback\":false,\"ui_508_compliant\":false,\"ui_click\":true,\"ui_cobrand\":\"\",\"ui_delay\":0,\"ui_header_background\":\"\",\"ui_header_color\":\"\",\"ui_open_windows\":false,\"ui_use_css\":true,\"ui_use_addressbook\":false,\"ui_language\":\"es\"}\n",
            "var addthis_share = {\"templates\":{\"twitter\":\"{{title}} {{url}}\"}}\n",
            "//--><!]]>\n",
            "\n",
            "\n",
            "<!--//--><![CDATA[//><!--\n",
            "var addthis_config = {\"pubid\":\"\",\"services_compact\":\"telegram,twitter,more\",\"data_track_clickback\":false,\"ui_508_compliant\":false,\"ui_click\":true,\"ui_cobrand\":\"\",\"ui_delay\":0,\"ui_header_background\":\"\",\"ui_header_color\":\"\",\"ui_open_windows\":false,\"ui_use_css\":true,\"ui_use_addressbook\":false,\"ui_language\":\"es\"}\n",
            "var addthis_share = {\"templates\":{\"twitter\":\"{{title}} {{url}}\"}}\n",
            "//--><!]]>\n",
            "\n",
            "\n",
            "<!--//--><![CDATA[//><!--\n",
            "var addthis_config = {\"pubid\":\"\",\"services_compact\":\"telegram,twitter,more\",\"data_track_clickback\":false,\"ui_508_compliant\":false,\"ui_click\":true,\"ui_cobrand\":\"\",\"ui_delay\":0,\"ui_header_background\":\"\",\"ui_header_color\":\"\",\"ui_open_windows\":false,\"ui_use_css\":true,\"ui_use_addressbook\":false,\"ui_language\":\"es\"}\n",
            "var addthis_share = {\"templates\":{\"twitter\":\"{{title}} {{url}}\"}}\n",
            "//--><!]]>\n",
            "\n",
            "\n",
            "<!--//--><![CDATA[//><!--\n",
            "var addthis_config = {\"pubid\":\"\",\"services_compact\":\"telegram,twitter,more\",\"data_track_clickback\":false,\"ui_508_compliant\":false,\"ui_click\":true,\"ui_cobrand\":\"\",\"ui_delay\":0,\"ui_header_background\":\"\",\"ui_header_color\":\"\",\"ui_open_windows\":false,\"ui_use_css\":true,\"ui_use_addressbook\":false,\"ui_language\":\"es\"}\n",
            "var addthis_share = {\"templates\":{\"twitter\":\"{{title}} {{url}}\"}}\n",
            "//--><!]]>\n",
            "\n",
            "\n",
            "<!--//--><![CDATA[//><!--\n",
            "var addthis_config = {\"pubid\":\"\",\"services_compact\":\"telegram,twitter,more\",\"data_track_clickback\":false,\"ui_508_compliant\":false,\"ui_click\":true,\"ui_cobrand\":\"\",\"ui_delay\":0,\"ui_header_background\":\"\",\"ui_header_color\":\"\",\"ui_open_windows\":false,\"ui_use_css\":true,\"ui_use_addressbook\":false,\"ui_language\":\"es\"}\n",
            "var addthis_share = {\"templates\":{\"twitter\":\"{{title}} {{url}}\"}}\n",
            "//--><!]]>\n",
            "\n",
            "\n",
            "\n",
            "\n",
            "\n",
            "\n"
          ],
          "name": "stdout"
        }
      ]
    },
    {
      "cell_type": "markdown",
      "metadata": {
        "id": "lf0PQna6OG5Z",
        "colab_type": "text"
      },
      "source": [
        "## Prepricesamiento de información"
      ]
    },
    {
      "cell_type": "code",
      "metadata": {
        "id": "YnphlDNyG2_k",
        "colab_type": "code",
        "colab": {}
      },
      "source": [
        "\n",
        "hrefs=[]\n",
        "for i in range(3,12):\n",
        "  opinion=soup.find_all('p')[i]\n",
        "  hrefs.append(opinion)\n"
      ],
      "execution_count": 62,
      "outputs": []
    },
    {
      "cell_type": "code",
      "metadata": {
        "id": "6Ll4wHwjKuQ2",
        "colab_type": "code",
        "colab": {
          "base_uri": "https://localhost:8080/",
          "height": 190
        },
        "outputId": "a67b5df9-a060-4618-ce3f-b2f1a0d7d214"
      },
      "source": [
        "hrefs"
      ],
      "execution_count": 63,
      "outputs": [
        {
          "output_type": "execute_result",
          "data": {
            "text/plain": [
              "[<p style=\"text-align: justify;\">El Dr. Jacinto Bátiz, director del Instituto para Cuidar Mejor Hospital San Juan de Dios de Santurtzi, analiza en este artículo el sufrimiento que ha creado la pandemia de COVID19 en los pacientes por encontrarse cerca de la muerte y lejos de sus familias</p>,\n",
              " <p style=\"text-align: justify;\">El Dr. Alfonso Carmona, presidente del Colegio de Médicos de Sevilla, muestra su satisfacción con la medida anunciada por la Consejería de Salud y Familias de la Junta de Andalucía de extender el Complemento Específico por Dedicación Exclusiva, de manera que lo puedan percibir todos los médicos con independencia de su régimen de compatibilidad de actividad.</p>,\n",
              " <p style=\"text-align: justify;\">El Dr. José Ignacio Landa,  Cirujano General y del Aparato Digestivo y miembro del Consejo Asesor del Consejo General de Colegios Oficiales de Médicos (CGCOM),  subraya en este artículo que “la Organización Mundial de la Salud (OMS) en los últimos años ha mostrado ciertas debilidades por la República Popular China y no parece que haya gestionado de una forma aceptable esta pandemia”</p>,\n",
              " <p style=\"text-align: justify;\">El Dr. Santiago Santa Cruz, presidente del Colegio de Médicos de Salamanca, analiza en este artículo la falta de médicos y las acciones políticas que deberían ejecutarse para corregir este problema</p>,\n",
              " <p style=\"text-align: justify;\">El Dr. Antonio Ares, delegado territorial de Bahía de Cádiz del Colegio de Médicos gaditano, reflexiona en este artículo sobre como ha cambiado la relación médico-paciente</p>,\n",
              " <p style=\"text-align: justify;\">El Dr. Manuel Fernández Chavero, médico del Trabajo, analiza en este artículo cómo ha emergido la Medicina del Trabajo en el contexto de la pandemia y subraya que “ha tenido que acontecer una emergencia sanitaria para resucitar una especialidad que ha demostrado desde el principio que su papel tenía que ser imprescindible”</p>,\n",
              " <p style=\"text-align: justify;\">El Dr. Ignacio Sevilla, vocal de Atención Primaria del Colegio de Médicos de Madrid, analiza en este artículo de opinión del blog AP25, los retos de la Atención Primaria en la crisis de la COVID-19</p>,\n",
              " <p style=\"text-align: justify;\">El pasado 3 de junio, el jurado de los Premios Princesa de Asturias anunció la concesión del Premio Princesa de Asturias de la Concordia 2020 a las sanitarias y los sanitarios españoles en primera línea contra la COVID-19. La Junta Directiva del Colegio de Médicos de Bizkaia expresa su opinión en este artículo</p>,\n",
              " <p style=\"text-align: justify;\">La Dra. Concha Ferrer, presidenta del Colegio de Médicos de Zaragoza, analiza en este artículo los acontecimientos acaecidos en los últimos meses, que han puesto en evidencia las debilidades de nuestro sistema sanitario: sus carencias, sus problemas de gestión, la falta de coordinación, la inexperiencia de un comité interterritorial que, vacío hace tiempo de contenidos asumidos por las CCAA, ha sido incapaz de tomar el liderazgo en esta tremenda crisis</p>]"
            ]
          },
          "metadata": {
            "tags": []
          },
          "execution_count": 63
        }
      ]
    },
    {
      "cell_type": "markdown",
      "metadata": {
        "id": "EGTDXJB9rCHC",
        "colab_type": "text"
      },
      "source": [
        "### Partimos el texto para quedarnos solo con el comentario"
      ]
    },
    {
      "cell_type": "code",
      "metadata": {
        "id": "-pzyGoj3JJSS",
        "colab_type": "code",
        "colab": {
          "base_uri": "https://localhost:8080/",
          "height": 52
        },
        "outputId": "301beecb-de65-4a61-ddc0-e593ad949a99"
      },
      "source": [
        "str(hrefs[0]).split(\">\", 2)[1]"
      ],
      "execution_count": 64,
      "outputs": [
        {
          "output_type": "execute_result",
          "data": {
            "application/vnd.google.colaboratory.intrinsic+json": {
              "type": "string"
            },
            "text/plain": [
              "'El Dr. Jacinto Bátiz, director del Instituto para Cuidar Mejor Hospital San Juan de Dios de Santurtzi, analiza en este artículo el sufrimiento que ha creado la pandemia de COVID19 en los pacientes por encontrarse cerca de la muerte y lejos de sus familias</p'"
            ]
          },
          "metadata": {
            "tags": []
          },
          "execution_count": 64
        }
      ]
    },
    {
      "cell_type": "code",
      "metadata": {
        "id": "QI_OirKtl2lY",
        "colab_type": "code",
        "colab": {}
      },
      "source": [
        "comment=[]\n",
        "for i in range(0,len(hrefs)):\n",
        "  opinion=str(hrefs[i]).split(\">\", 2)[1]\n",
        "  comment.append(opinion)\n"
      ],
      "execution_count": 65,
      "outputs": []
    },
    {
      "cell_type": "code",
      "metadata": {
        "id": "QFm3Z-LfpnXO",
        "colab_type": "code",
        "colab": {
          "base_uri": "https://localhost:8080/",
          "height": 190
        },
        "outputId": "5b71f834-5f81-4841-e912-77b3967acb0c"
      },
      "source": [
        "comment"
      ],
      "execution_count": 66,
      "outputs": [
        {
          "output_type": "execute_result",
          "data": {
            "text/plain": [
              "['El Dr. Jacinto Bátiz, director del Instituto para Cuidar Mejor Hospital San Juan de Dios de Santurtzi, analiza en este artículo el sufrimiento que ha creado la pandemia de COVID19 en los pacientes por encontrarse cerca de la muerte y lejos de sus familias</p',\n",
              " 'El Dr. Alfonso Carmona, presidente del Colegio de Médicos de Sevilla, muestra su satisfacción con la medida anunciada por la Consejería de Salud y Familias de la Junta de Andalucía de extender el Complemento Específico por Dedicación Exclusiva, de manera que lo puedan percibir todos los médicos con independencia de su régimen de compatibilidad de actividad.</p',\n",
              " 'El Dr. José Ignacio Landa,\\xa0 Cirujano General y del Aparato Digestivo y miembro del Consejo Asesor del Consejo General de Colegios Oficiales de Médicos (CGCOM),\\xa0 subraya en este artículo que “la Organización Mundial de la Salud (OMS) en los últimos años ha mostrado ciertas debilidades por la República Popular China y no parece que haya gestionado de una forma aceptable esta pandemia”</p',\n",
              " 'El Dr. Santiago Santa Cruz, presidente del Colegio de Médicos de Salamanca, analiza en este artículo la falta de médicos y las acciones políticas que deberían ejecutarse para corregir este problema</p',\n",
              " 'El Dr. Antonio Ares, delegado territorial de Bahía de Cádiz del Colegio de Médicos gaditano, reflexiona en este artículo sobre como ha cambiado la relación médico-paciente</p',\n",
              " 'El Dr. Manuel Fernández Chavero, médico del Trabajo, analiza en este artículo cómo ha emergido la Medicina del Trabajo en el contexto de la pandemia y subraya que “ha tenido que acontecer una emergencia sanitaria para resucitar una especialidad que ha demostrado desde el principio que su papel tenía que ser imprescindible”</p',\n",
              " 'El Dr. Ignacio Sevilla, vocal de Atención Primaria del Colegio de Médicos de Madrid, analiza en este artículo de opinión del blog AP25, los retos de la Atención Primaria en la crisis de la COVID-19</p',\n",
              " 'El pasado 3 de junio, el jurado de los Premios Princesa de Asturias anunció la concesión del Premio Princesa de Asturias de la Concordia 2020 a las sanitarias y los sanitarios españoles en primera línea contra la COVID-19. La Junta Directiva del Colegio de Médicos de Bizkaia expresa su opinión en este artículo</p',\n",
              " 'La Dra. Concha Ferrer, presidenta del Colegio de Médicos de Zaragoza, analiza en este artículo los acontecimientos acaecidos en los últimos meses, que han puesto en evidencia las debilidades de nuestro sistema sanitario: sus carencias, sus problemas de gestión, la falta de coordinación, la inexperiencia de un comité interterritorial que, vacío hace tiempo de contenidos asumidos por las CCAA, ha sido incapaz de tomar el liderazgo en esta tremenda crisis</p']"
            ]
          },
          "metadata": {
            "tags": []
          },
          "execution_count": 66
        }
      ]
    },
    {
      "cell_type": "code",
      "metadata": {
        "id": "sfyrDWRZpprI",
        "colab_type": "code",
        "colab": {
          "base_uri": "https://localhost:8080/",
          "height": 52
        },
        "outputId": "9003a522-10a8-4acc-bd52-2ce0d41026e9"
      },
      "source": [
        "str(comment[0]).split(\"<\", 2)[0]"
      ],
      "execution_count": 72,
      "outputs": [
        {
          "output_type": "execute_result",
          "data": {
            "application/vnd.google.colaboratory.intrinsic+json": {
              "type": "string"
            },
            "text/plain": [
              "'El Dr. Jacinto Bátiz, director del Instituto para Cuidar Mejor Hospital San Juan de Dios de Santurtzi, analiza en este artículo el sufrimiento que ha creado la pandemia de COVID19 en los pacientes por encontrarse cerca de la muerte y lejos de sus familias'"
            ]
          },
          "metadata": {
            "tags": []
          },
          "execution_count": 72
        }
      ]
    },
    {
      "cell_type": "code",
      "metadata": {
        "id": "eyB1eQD0qVxI",
        "colab_type": "code",
        "colab": {}
      },
      "source": [
        "comments=[]\n",
        "for i in range(0,len(comment)):\n",
        "  opinion=str(comment[i]).split(\"<\", 2)[0]\n",
        "  comments.append(opinion)\n"
      ],
      "execution_count": 75,
      "outputs": []
    },
    {
      "cell_type": "code",
      "metadata": {
        "id": "mtfh-AdkqyE6",
        "colab_type": "code",
        "colab": {
          "base_uri": "https://localhost:8080/",
          "height": 190
        },
        "outputId": "2c98c23c-2ed4-4430-83b6-e859b6d9d2ba"
      },
      "source": [
        "comments"
      ],
      "execution_count": 76,
      "outputs": [
        {
          "output_type": "execute_result",
          "data": {
            "text/plain": [
              "['El Dr. Jacinto Bátiz, director del Instituto para Cuidar Mejor Hospital San Juan de Dios de Santurtzi, analiza en este artículo el sufrimiento que ha creado la pandemia de COVID19 en los pacientes por encontrarse cerca de la muerte y lejos de sus familias',\n",
              " 'El Dr. Alfonso Carmona, presidente del Colegio de Médicos de Sevilla, muestra su satisfacción con la medida anunciada por la Consejería de Salud y Familias de la Junta de Andalucía de extender el Complemento Específico por Dedicación Exclusiva, de manera que lo puedan percibir todos los médicos con independencia de su régimen de compatibilidad de actividad.',\n",
              " 'El Dr. José Ignacio Landa,\\xa0 Cirujano General y del Aparato Digestivo y miembro del Consejo Asesor del Consejo General de Colegios Oficiales de Médicos (CGCOM),\\xa0 subraya en este artículo que “la Organización Mundial de la Salud (OMS) en los últimos años ha mostrado ciertas debilidades por la República Popular China y no parece que haya gestionado de una forma aceptable esta pandemia”',\n",
              " 'El Dr. Santiago Santa Cruz, presidente del Colegio de Médicos de Salamanca, analiza en este artículo la falta de médicos y las acciones políticas que deberían ejecutarse para corregir este problema',\n",
              " 'El Dr. Antonio Ares, delegado territorial de Bahía de Cádiz del Colegio de Médicos gaditano, reflexiona en este artículo sobre como ha cambiado la relación médico-paciente',\n",
              " 'El Dr. Manuel Fernández Chavero, médico del Trabajo, analiza en este artículo cómo ha emergido la Medicina del Trabajo en el contexto de la pandemia y subraya que “ha tenido que acontecer una emergencia sanitaria para resucitar una especialidad que ha demostrado desde el principio que su papel tenía que ser imprescindible”',\n",
              " 'El Dr. Ignacio Sevilla, vocal de Atención Primaria del Colegio de Médicos de Madrid, analiza en este artículo de opinión del blog AP25, los retos de la Atención Primaria en la crisis de la COVID-19',\n",
              " 'El pasado 3 de junio, el jurado de los Premios Princesa de Asturias anunció la concesión del Premio Princesa de Asturias de la Concordia 2020 a las sanitarias y los sanitarios españoles en primera línea contra la COVID-19. La Junta Directiva del Colegio de Médicos de Bizkaia expresa su opinión en este artículo',\n",
              " 'La Dra. Concha Ferrer, presidenta del Colegio de Médicos de Zaragoza, analiza en este artículo los acontecimientos acaecidos en los últimos meses, que han puesto en evidencia las debilidades de nuestro sistema sanitario: sus carencias, sus problemas de gestión, la falta de coordinación, la inexperiencia de un comité interterritorial que, vacío hace tiempo de contenidos asumidos por las CCAA, ha sido incapaz de tomar el liderazgo en esta tremenda crisis']"
            ]
          },
          "metadata": {
            "tags": []
          },
          "execution_count": 76
        }
      ]
    },
    {
      "cell_type": "markdown",
      "metadata": {
        "id": "-eUB8_QMrjtQ",
        "colab_type": "text"
      },
      "source": [
        "### Continuamos limpiando el texto de caracteres que no sirvan"
      ]
    },
    {
      "cell_type": "code",
      "metadata": {
        "id": "cIsMrHUwqzQT",
        "colab_type": "code",
        "colab": {}
      },
      "source": [
        "import re"
      ],
      "execution_count": 78,
      "outputs": []
    },
    {
      "cell_type": "code",
      "metadata": {
        "id": "lSGUOCCpuzPW",
        "colab_type": "code",
        "colab": {
          "base_uri": "https://localhost:8080/",
          "height": 69
        },
        "outputId": "3b38395e-1f87-47b9-b6d4-4acca66fd245"
      },
      "source": [
        "comments[2]"
      ],
      "execution_count": 85,
      "outputs": [
        {
          "output_type": "execute_result",
          "data": {
            "application/vnd.google.colaboratory.intrinsic+json": {
              "type": "string"
            },
            "text/plain": [
              "'El Dr. José Ignacio Landa,\\xa0 Cirujano General y del Aparato Digestivo y miembro del Consejo Asesor del Consejo General de Colegios Oficiales de Médicos (CGCOM),\\xa0 subraya en este artículo que “la Organización Mundial de la Salud (OMS) en los últimos años ha mostrado ciertas debilidades por la República Popular China y no parece que haya gestionado de una forma aceptable esta pandemia”'"
            ]
          },
          "metadata": {
            "tags": []
          },
          "execution_count": 85
        }
      ]
    },
    {
      "cell_type": "code",
      "metadata": {
        "id": "FGUclXgJrfcd",
        "colab_type": "code",
        "colab": {
          "base_uri": "https://localhost:8080/",
          "height": 54
        },
        "outputId": "a333ac17-38f4-4a43-82bf-7d1a1297c9c0"
      },
      "source": [
        "#Quitamos sintaxis raras\n",
        "a = comments[2]\n",
        "b = \"\\xa0\"\n",
        "for char in b:\n",
        "  a = a.replace(char,\"\")\n",
        "print(a)\n"
      ],
      "execution_count": 83,
      "outputs": [
        {
          "output_type": "stream",
          "text": [
            "El Dr. José Ignacio Landa, Cirujano General y del Aparato Digestivo y miembro del Consejo Asesor del Consejo General de Colegios Oficiales de Médicos (CGCOM), subraya en este artículo que “la Organización Mundial de la Salud (OMS) en los últimos años ha mostrado ciertas debilidades por la República Popular China y no parece que haya gestionado de una forma aceptable esta pandemia”\n"
          ],
          "name": "stdout"
        }
      ]
    },
    {
      "cell_type": "code",
      "metadata": {
        "id": "9aoM9v9wurIT",
        "colab_type": "code",
        "colab": {}
      },
      "source": [
        "#Sustituimos string\n",
        "comments[2]=a"
      ],
      "execution_count": 86,
      "outputs": []
    },
    {
      "cell_type": "code",
      "metadata": {
        "id": "ADivVRskvnop",
        "colab_type": "code",
        "colab": {
          "base_uri": "https://localhost:8080/",
          "height": 190
        },
        "outputId": "00140de9-10fc-448b-ba0c-55b31c51060d"
      },
      "source": [
        "#Comentarios \n",
        "comments"
      ],
      "execution_count": 87,
      "outputs": [
        {
          "output_type": "execute_result",
          "data": {
            "text/plain": [
              "['El Dr. Jacinto Bátiz, director del Instituto para Cuidar Mejor Hospital San Juan de Dios de Santurtzi, analiza en este artículo el sufrimiento que ha creado la pandemia de COVID19 en los pacientes por encontrarse cerca de la muerte y lejos de sus familias',\n",
              " 'El Dr. Alfonso Carmona, presidente del Colegio de Médicos de Sevilla, muestra su satisfacción con la medida anunciada por la Consejería de Salud y Familias de la Junta de Andalucía de extender el Complemento Específico por Dedicación Exclusiva, de manera que lo puedan percibir todos los médicos con independencia de su régimen de compatibilidad de actividad.',\n",
              " 'El Dr. José Ignacio Landa, Cirujano General y del Aparato Digestivo y miembro del Consejo Asesor del Consejo General de Colegios Oficiales de Médicos (CGCOM), subraya en este artículo que “la Organización Mundial de la Salud (OMS) en los últimos años ha mostrado ciertas debilidades por la República Popular China y no parece que haya gestionado de una forma aceptable esta pandemia”',\n",
              " 'El Dr. Santiago Santa Cruz, presidente del Colegio de Médicos de Salamanca, analiza en este artículo la falta de médicos y las acciones políticas que deberían ejecutarse para corregir este problema',\n",
              " 'El Dr. Antonio Ares, delegado territorial de Bahía de Cádiz del Colegio de Médicos gaditano, reflexiona en este artículo sobre como ha cambiado la relación médico-paciente',\n",
              " 'El Dr. Manuel Fernández Chavero, médico del Trabajo, analiza en este artículo cómo ha emergido la Medicina del Trabajo en el contexto de la pandemia y subraya que “ha tenido que acontecer una emergencia sanitaria para resucitar una especialidad que ha demostrado desde el principio que su papel tenía que ser imprescindible”',\n",
              " 'El Dr. Ignacio Sevilla, vocal de Atención Primaria del Colegio de Médicos de Madrid, analiza en este artículo de opinión del blog AP25, los retos de la Atención Primaria en la crisis de la COVID-19',\n",
              " 'El pasado 3 de junio, el jurado de los Premios Princesa de Asturias anunció la concesión del Premio Princesa de Asturias de la Concordia 2020 a las sanitarias y los sanitarios españoles en primera línea contra la COVID-19. La Junta Directiva del Colegio de Médicos de Bizkaia expresa su opinión en este artículo',\n",
              " 'La Dra. Concha Ferrer, presidenta del Colegio de Médicos de Zaragoza, analiza en este artículo los acontecimientos acaecidos en los últimos meses, que han puesto en evidencia las debilidades de nuestro sistema sanitario: sus carencias, sus problemas de gestión, la falta de coordinación, la inexperiencia de un comité interterritorial que, vacío hace tiempo de contenidos asumidos por las CCAA, ha sido incapaz de tomar el liderazgo en esta tremenda crisis']"
            ]
          },
          "metadata": {
            "tags": []
          },
          "execution_count": 87
        }
      ]
    },
    {
      "cell_type": "markdown",
      "metadata": {
        "id": "BEZ38a7dwQZF",
        "colab_type": "text"
      },
      "source": [
        "## Procedemos a:\n",
        "$\\bullet$ Quitar signos de puntuación\n",
        "\n",
        "$\\bullet$ Poner todo en mínusculas\n",
        "\n",
        "$\\bullet$ Normalizar el texto **(steamming, lematización)**\n",
        "\n",
        "$\\bullet$ Eliminar palabras de parada"
      ]
    },
    {
      "cell_type": "code",
      "metadata": {
        "id": "yFY91jO1vo3c",
        "colab_type": "code",
        "colab": {
          "base_uri": "https://localhost:8080/",
          "height": 119
        },
        "outputId": "f555b382-05aa-448f-a23d-1f8eca7a33a2"
      },
      "source": [
        "import nltk\n",
        "nltk.download('punkt')\n",
        "nltk.download('wordnet')\n",
        "nltk.download('stopwords')\n",
        "import string \n",
        "import random"
      ],
      "execution_count": 88,
      "outputs": [
        {
          "output_type": "stream",
          "text": [
            "[nltk_data] Downloading package punkt to /root/nltk_data...\n",
            "[nltk_data]   Unzipping tokenizers/punkt.zip.\n",
            "[nltk_data] Downloading package wordnet to /root/nltk_data...\n",
            "[nltk_data]   Unzipping corpora/wordnet.zip.\n",
            "[nltk_data] Downloading package stopwords to /root/nltk_data...\n",
            "[nltk_data]   Unzipping corpora/stopwords.zip.\n"
          ],
          "name": "stdout"
        }
      ]
    },
    {
      "cell_type": "code",
      "metadata": {
        "id": "nzJsKqzwzFks",
        "colab_type": "code",
        "colab": {}
      },
      "source": [
        "raw=comments"
      ],
      "execution_count": 92,
      "outputs": []
    },
    {
      "cell_type": "code",
      "metadata": {
        "id": "-UkxL-3QzOXt",
        "colab_type": "code",
        "colab": {}
      },
      "source": [
        "#Convertimos a minúscula\n",
        "\n",
        "commen=[]\n",
        "for i in range(0,len(comments)):\n",
        "  opinion=raw[i].lower() \n",
        "  commen.append(opinion)"
      ],
      "execution_count": 96,
      "outputs": []
    },
    {
      "cell_type": "code",
      "metadata": {
        "id": "6FRHTZ10zWkv",
        "colab_type": "code",
        "colab": {
          "base_uri": "https://localhost:8080/",
          "height": 190
        },
        "outputId": "1d890346-02e7-4060-e296-cd0d6f676f99"
      },
      "source": [
        "commen"
      ],
      "execution_count": 97,
      "outputs": [
        {
          "output_type": "execute_result",
          "data": {
            "text/plain": [
              "['el dr. jacinto bátiz, director del instituto para cuidar mejor hospital san juan de dios de santurtzi, analiza en este artículo el sufrimiento que ha creado la pandemia de covid19 en los pacientes por encontrarse cerca de la muerte y lejos de sus familias',\n",
              " 'el dr. alfonso carmona, presidente del colegio de médicos de sevilla, muestra su satisfacción con la medida anunciada por la consejería de salud y familias de la junta de andalucía de extender el complemento específico por dedicación exclusiva, de manera que lo puedan percibir todos los médicos con independencia de su régimen de compatibilidad de actividad.',\n",
              " 'el dr. josé ignacio landa, cirujano general y del aparato digestivo y miembro del consejo asesor del consejo general de colegios oficiales de médicos (cgcom), subraya en este artículo que “la organización mundial de la salud (oms) en los últimos años ha mostrado ciertas debilidades por la república popular china y no parece que haya gestionado de una forma aceptable esta pandemia”',\n",
              " 'el dr. santiago santa cruz, presidente del colegio de médicos de salamanca, analiza en este artículo la falta de médicos y las acciones políticas que deberían ejecutarse para corregir este problema',\n",
              " 'el dr. antonio ares, delegado territorial de bahía de cádiz del colegio de médicos gaditano, reflexiona en este artículo sobre como ha cambiado la relación médico-paciente',\n",
              " 'el dr. manuel fernández chavero, médico del trabajo, analiza en este artículo cómo ha emergido la medicina del trabajo en el contexto de la pandemia y subraya que “ha tenido que acontecer una emergencia sanitaria para resucitar una especialidad que ha demostrado desde el principio que su papel tenía que ser imprescindible”',\n",
              " 'el dr. ignacio sevilla, vocal de atención primaria del colegio de médicos de madrid, analiza en este artículo de opinión del blog ap25, los retos de la atención primaria en la crisis de la covid-19',\n",
              " 'el pasado 3 de junio, el jurado de los premios princesa de asturias anunció la concesión del premio princesa de asturias de la concordia 2020 a las sanitarias y los sanitarios españoles en primera línea contra la covid-19. la junta directiva del colegio de médicos de bizkaia expresa su opinión en este artículo',\n",
              " 'la dra. concha ferrer, presidenta del colegio de médicos de zaragoza, analiza en este artículo los acontecimientos acaecidos en los últimos meses, que han puesto en evidencia las debilidades de nuestro sistema sanitario: sus carencias, sus problemas de gestión, la falta de coordinación, la inexperiencia de un comité interterritorial que, vacío hace tiempo de contenidos asumidos por las ccaa, ha sido incapaz de tomar el liderazgo en esta tremenda crisis']"
            ]
          },
          "metadata": {
            "tags": []
          },
          "execution_count": 97
        }
      ]
    },
    {
      "cell_type": "code",
      "metadata": {
        "id": "KOBr3jbDDlx4",
        "colab_type": "code",
        "colab": {}
      },
      "source": [
        "#Quitamos palabras de parada\n",
        "import sys\n",
        "commentaries=[]\n",
        "\n",
        "userstring = commen[0].split(\" \")\n",
        "list =[\"el\",\"con\",\"de\",\"las\",\"del\",\"para\",\"en\",\"este\",\"que\",\"ha\",\"la\",\"en\",\"los\",\"por\",\"sus\",\"y\",\"su\",\"lo\",\"una\",\"esta\",\"cómo\"]\n",
        "another_list = []\n",
        "for x in userstring:\n",
        "    if x not in list:           # Compara la lista y remueve\n",
        "        another_list.append(x)  \n",
        "m = \" \".join(another_list)\n",
        "commentaries.append(m)\n",
        "\n",
        "userstring = commen[1].split(\" \")\n",
        "list =[\"el\",\"con\",\"de\",\"las\",\"del\",\"para\",\"en\",\"este\",\"que\",\"ha\",\"la\",\"en\",\"los\",\"por\",\"sus\",\"y\",\"su\",\"lo\",\"una\",\"esta\",\"cómo\"]\n",
        "another_list = []\n",
        "for x in userstring:\n",
        "    if x not in list:           # Compara la lista y remueve\n",
        "        another_list.append(x)  \n",
        "m = \" \".join(another_list)\n",
        "commentaries.append(m)\n",
        "\n",
        "userstring = commen[2].split(\" \")\n",
        "list =[\"el\",\"con\",\"de\",\"las\",\"del\",\"para\",\"en\",\"este\",\"que\",\"ha\",\"la\",\"en\",\"los\",\"por\",\"sus\",\"y\",\"su\",\"lo\",\"una\",\"esta\",\"cómo\"]\n",
        "another_list = []\n",
        "for x in userstring:\n",
        "    if x not in list:           # Compara la lista y remueve\n",
        "        another_list.append(x)  \n",
        "m = \" \".join(another_list)\n",
        "commentaries.append(m)\n",
        "\n",
        "userstring = commen[3].split(\" \")\n",
        "list =[\"el\",\"con\",\"de\",\"las\",\"del\",\"para\",\"en\",\"este\",\"que\",\"ha\",\"la\",\"en\",\"los\",\"por\",\"sus\",\"y\",\"su\",\"lo\",\"una\",\"esta\",\"cómo\"]\n",
        "another_list = []\n",
        "for x in userstring:\n",
        "    if x not in list:           # Compara la lista y remueve\n",
        "        another_list.append(x)  \n",
        "m = \" \".join(another_list)\n",
        "commentaries.append(m)\n",
        "\n",
        "userstring = commen[4].split(\" \")\n",
        "list =[\"el\",\"con\",\"de\",\"las\",\"del\",\"para\",\"en\",\"este\",\"que\",\"ha\",\"la\",\"en\",\"los\",\"por\",\"sus\",\"y\",\"su\",\"lo\",\"una\",\"esta\",\"cómo\"]\n",
        "another_list = []\n",
        "for x in userstring:\n",
        "    if x not in list:           # Compara la lista y remueve\n",
        "        another_list.append(x)  \n",
        "m = \" \".join(another_list)\n",
        "commentaries.append(m)\n",
        "\n",
        "userstring = commen[5].split(\" \")\n",
        "list =[\"el\",\"con\",\"de\",\"las\",\"del\",\"para\",\"en\",\"este\",\"que\",\"ha\",\"la\",\"en\",\"los\",\"por\",\"sus\",\"y\",\"su\",\"lo\",\"una\",\"esta\",\"cómo\"]\n",
        "another_list = []\n",
        "for x in userstring:\n",
        "    if x not in list:           # Compara la lista y remueve\n",
        "        another_list.append(x)  \n",
        "m = \" \".join(another_list)\n",
        "commentaries.append(m)\n",
        "\n",
        "userstring = commen[6].split(\" \")\n",
        "list =[\"el\",\"con\",\"de\",\"las\",\"del\",\"para\",\"en\",\"este\",\"que\",\"ha\",\"la\",\"en\",\"los\",\"por\",\"sus\",\"y\",\"su\",\"lo\",\"una\",\"esta\",\"cómo\"]\n",
        "another_list = []\n",
        "for x in userstring:\n",
        "    if x not in list:           # Compara la lista y remueve\n",
        "        another_list.append(x)  \n",
        "m = \" \".join(another_list)\n",
        "commentaries.append(m)\n",
        "\n",
        "userstring = commen[7].split(\" \")\n",
        "list =[\"el\",\"con\",\"de\",\"las\",\"del\",\"para\",\"en\",\"este\",\"que\",\"ha\",\"la\",\"en\",\"los\",\"por\",\"sus\",\"y\",\"su\",\"lo\",\"una\",\"esta\",\"cómo\"]\n",
        "another_list = []\n",
        "for x in userstring:\n",
        "    if x not in list:           # Compara la lista y remueve\n",
        "        another_list.append(x)  \n",
        "m = \" \".join(another_list)\n",
        "commentaries.append(m)\n",
        "\n",
        "userstring = commen[8].split(\" \")\n",
        "list =[\"el\",\"con\",\"de\",\"las\",\"del\",\"para\",\"en\",\"este\",\"que\",\"ha\",\"la\",\"en\",\"los\",\"por\",\"sus\",\"y\",\"su\",\"lo\",\"una\",\"esta\",\"cómo\"]\n",
        "another_list = []\n",
        "for x in userstring:\n",
        "    if x not in list:           # Compara la lista y remueve\n",
        "        another_list.append(x)  \n",
        "m = \" \".join(another_list)\n",
        "commentaries.append(m)"
      ],
      "execution_count": 165,
      "outputs": []
    },
    {
      "cell_type": "code",
      "metadata": {
        "id": "WhowuEl5Fqks",
        "colab_type": "code",
        "colab": {
          "base_uri": "https://localhost:8080/",
          "height": 190
        },
        "outputId": "2afd6bb9-73ca-4779-aae7-35776f1192b0"
      },
      "source": [
        "commentaries"
      ],
      "execution_count": 166,
      "outputs": [
        {
          "output_type": "execute_result",
          "data": {
            "text/plain": [
              "['dr. jacinto bátiz, director instituto cuidar mejor hospital san juan dios santurtzi, analiza artículo sufrimiento creado pandemia covid19 pacientes encontrarse cerca muerte lejos familias',\n",
              " 'dr. alfonso carmona, presidente colegio médicos sevilla, muestra satisfacción medida anunciada consejería salud familias junta andalucía extender complemento específico dedicación exclusiva, manera puedan percibir todos médicos independencia régimen compatibilidad actividad.',\n",
              " 'dr. josé ignacio landa, cirujano general aparato digestivo miembro consejo asesor consejo general colegios oficiales médicos (cgcom), subraya artículo “la organización mundial salud (oms) últimos años mostrado ciertas debilidades república popular china no parece haya gestionado forma aceptable pandemia”',\n",
              " 'dr. santiago santa cruz, presidente colegio médicos salamanca, analiza artículo falta médicos acciones políticas deberían ejecutarse corregir problema',\n",
              " 'dr. antonio ares, delegado territorial bahía cádiz colegio médicos gaditano, reflexiona artículo sobre como cambiado relación médico-paciente',\n",
              " 'dr. manuel fernández chavero, médico trabajo, analiza artículo emergido medicina trabajo contexto pandemia subraya “ha tenido acontecer emergencia sanitaria resucitar especialidad demostrado desde principio papel tenía ser imprescindible”',\n",
              " 'dr. ignacio sevilla, vocal atención primaria colegio médicos madrid, analiza artículo opinión blog ap25, retos atención primaria crisis covid-19',\n",
              " 'pasado 3 junio, jurado premios princesa asturias anunció concesión premio princesa asturias concordia 2020 a sanitarias sanitarios españoles primera línea contra covid-19. junta directiva colegio médicos bizkaia expresa opinión artículo',\n",
              " 'dra. concha ferrer, presidenta colegio médicos zaragoza, analiza artículo acontecimientos acaecidos últimos meses, han puesto evidencia debilidades nuestro sistema sanitario: carencias, problemas gestión, falta coordinación, inexperiencia un comité interterritorial que, vacío hace tiempo contenidos asumidos ccaa, sido incapaz tomar liderazgo tremenda crisis']"
            ]
          },
          "metadata": {
            "tags": []
          },
          "execution_count": 166
        }
      ]
    },
    {
      "cell_type": "markdown",
      "metadata": {
        "id": "XYxwSexHfI8L",
        "colab_type": "text"
      },
      "source": [
        "### Nube de palabras"
      ]
    },
    {
      "cell_type": "code",
      "metadata": {
        "id": "HMydrpmy4CcB",
        "colab_type": "code",
        "colab": {}
      },
      "source": [
        "import pandas as pd \n",
        "import matplotlib.pyplot as plt\n",
        "import nltk\n",
        "from nltk.corpus import stopwords\n",
        "from wordcloud import WordCloud"
      ],
      "execution_count": 182,
      "outputs": []
    },
    {
      "cell_type": "code",
      "metadata": {
        "id": "cNu-cFRr5Q0H",
        "colab_type": "code",
        "colab": {}
      },
      "source": [
        "stop_words_sp = set(stopwords.words('spanish'))"
      ],
      "execution_count": 183,
      "outputs": []
    },
    {
      "cell_type": "code",
      "metadata": {
        "id": "NBnfSeXL6g11",
        "colab_type": "code",
        "colab": {
          "base_uri": "https://localhost:8080/",
          "height": 71
        },
        "outputId": "08bea707-3b1a-42b5-890a-be26095c2d8b"
      },
      "source": [
        "print(len(stop_words_sp ))\n",
        "print(stop_words_sp )"
      ],
      "execution_count": 185,
      "outputs": [
        {
          "output_type": "stream",
          "text": [
            "313\n",
            "{'fueseis', 'ha', 'hubieran', 'tuviese', 'todo', 'nuestra', 'habríamos', 'estuvieron', 'estuviesen', 'tanto', 'estarían', 'tenían', 'habrían', 'tuviera', 'estaréis', 'están', 'mi', 'estuviera', 'serás', 'teniendo', 'tu', 'hayáis', 'éramos', 'del', 'muchos', 'eres', 'tienen', 'tengan', 'hubiéramos', 'hayan', 'tenida', 'nosotros', 'estás', 'tenía', 'eso', 'nos', 'estarás', 'fuiste', 'seréis', 'habré', 'habías', 'fuera', 'tuvieses', 'estamos', 'teníais', 'esas', 'somos', 'fueses', 'eras', 'seáis', 'unos', 'mío', 'sus', 'está', 'tuvieran', 'al', 'seríais', 'vuestras', 'estada', 'erais', 'vuestra', 'estemos', 'sea', 'sin', 'fuéramos', 'estos', 'hubo', 'ellos', 'estando', 'estaríais', 'hubiste', 'a', 'durante', 'cual', 'le', 'estadas', 'habiendo', 'fueran', 'el', 'suya', 'estáis', 'estaremos', 'se', 'esos', 'tendréis', 'vosotros', 'ella', 'estuvimos', 'hemos', 'habrá', 'sean', 'tuvieras', 'nosotras', 'les', 'fuese', 'tendrán', 'tuviste', 'quien', 'que', 'estarán', 'tengamos', 'los', 'él', 'esto', 'vuestro', 'estuve', 'estuvisteis', 'un', 'vosotras', 'nuestros', 'fuesen', 'algunas', 'estado', 'sentid', 'estuvo', 'hasta', 'mías', 'tendrían', 'como', 'tuviéramos', 'tendrá', 'sentida', 'han', 'pero', 'nuestro', 'estuviéramos', 'tuyos', 'estará', 'tiene', 'otro', 'otra', 'estados', 'has', 'tendrías', 'y', 'mía', 'sería', 'otros', 'hube', 'seríamos', 'sois', 'tendré', 'tienes', 'antes', 'estuviste', 'me', 'estad', 'tenías', 'suyas', 'sobre', 'vuestros', 'fueron', 'más', 'estaría', 'tendríais', 'estéis', 'hubisteis', 'siente', 'tendría', 'seré', 'fuisteis', 'tuvierais', 'la', 'serías', 'estuvieran', 'hubieron', 'habrías', 'estarías', 'he', 'tuvo', 'estuviésemos', 'tenido', 'algo', 'desde', 'mucho', 'estén', 'no', 'habrás', 'hubieseis', 'habíais', 'donde', 'te', 'tenidos', 'tuya', 'será', 'habréis', 'hubiesen', 'para', 'era', 'tengas', 'sentido', 'tenemos', 'en', 'de', 'por', 'estuvieseis', 'poco', 'son', 'estaba', 'esa', 'estoy', 'hubimos', 'tengáis', 'tuviesen', 'habéis', 'seas', 'este', 'hubieses', 'suyo', 'yo', 'eran', 'tenga', 'tú', 'ti', 'estabas', 'habrán', 'habríais', 'estuvieses', 'habíamos', 'habido', 'fueras', 'o', 'habidos', 'estas', 'tus', 'porque', 'estábamos', 'ese', 'sí', 'estés', 'tuve', 'ellas', 'las', 'una', 'su', 'teníamos', 'tuviésemos', 'habían', 'tened', 'os', 'mí', 'estar', 'estuvieras', 'sintiendo', 'esta', 'hubierais', 'tenéis', 'ni', 'hubiera', 'seremos', 'hayas', 'serían', 'tuvisteis', 'muy', 'uno', 'fue', 'cuando', 'seamos', 'estuvierais', 'todos', 'estaré', 'estaríamos', 'sentidas', 'tendremos', 'hubiésemos', 'tuvieron', 'qué', 'con', 'entre', 'nuestras', 'hubieras', 'contra', 'tuyo', 'estaban', 'esté', 'había', 'tuvimos', 'tuyas', 'otras', 'suyos', 'fuimos', 'tendríamos', 'soy', 'sentidos', 'tuvieseis', 'fuésemos', 'hubiese', 'ya', 'nada', 'habría', 'hay', 'es', 'fuerais', 'tendrás', 'también', 'algunos', 'míos', 'hayamos', 'tengo', 'mis', 'tenidas', 'habidas', 'quienes', 'haya', 'serán', 'fui', 'habida', 'e', 'habremos', 'ante', 'estuviese', 'lo', 'estabais'}\n"
          ],
          "name": "stdout"
        }
      ]
    },
    {
      "cell_type": "code",
      "metadata": {
        "id": "6fWw6KqF5o-v",
        "colab_type": "code",
        "colab": {
          "base_uri": "https://localhost:8080/",
          "height": 589
        },
        "outputId": "9421e425-2225-4f0c-b5f1-1c445af6ec24"
      },
      "source": [
        " wordcloud = WordCloud(background_color='white',\n",
        "        stopwords=stop_words_sp,\n",
        "        max_words=20,\n",
        "        max_font_size=200, \n",
        "        scale=3,\n",
        "        random_state=3).generate(str(commentaries))\n",
        "\n",
        "\n",
        "wordcloud.recolor(random_state=1)\n",
        "plt.figure(figsize=(20, 15))\n",
        "plt.imshow(wordcloud)\n",
        "plt.axis('off')\n",
        "plt.show()"
      ],
      "execution_count": 191,
      "outputs": [
        {
          "output_type": "display_data",
          "data": {
            "image/png": "[encoded data removed]",
            "text/plain": [
              "<Figure size 1440x1080 with 1 Axes>"
            ]
          },
          "metadata": {
            "tags": [],
            "needs_background": "light"
          }
        }
      ]
    },
    {
      "cell_type": "markdown",
      "metadata": {
        "id": "SC_piTW3-m3E",
        "colab_type": "text"
      },
      "source": [
        "### Procedamos a codificar las palabras"
      ]
    },
    {
      "cell_type": "code",
      "metadata": {
        "id": "CR_GkuMd9ZSP",
        "colab_type": "code",
        "colab": {}
      },
      "source": [
        "#Lematizador\n",
        "lemmer=nltk.stem.WordNetLemmatizer()\n",
        "\n",
        "#Función para lematizar uno a uno los wordtokens\n",
        "def LemTokens(tokens):\n",
        "  return [lemmer.lemmatize(token) for token in tokens]\n",
        "\n",
        "#Removemos signos de puntuación\n",
        "remove_punct_dict = dict((ord(punct),None) for punct in string.punctuation)\n",
        "\n",
        "#Se le da un texto a la función y está le elimina los signos de puntuación y la tokeniza\n",
        "def LemNormalize(text):\n",
        "  return LemTokens(nltk.word_tokenize(text.lower().translate(remove_punct_dict)))\n",
        "\n",
        "\n",
        "#for i in range(0,len(commentaries)):\n",
        "\n",
        " # tokens = LemTokens(commentaries[i]) \n",
        "      \n",
        "#comment_words += \" \".join(tokens)+\" \""
      ],
      "execution_count": 192,
      "outputs": []
    },
    {
      "cell_type": "code",
      "metadata": {
        "id": "wbmcIrUV-kV8",
        "colab_type": "code",
        "colab": {}
      },
      "source": [
        ""
      ],
      "execution_count": null,
      "outputs": []
    }
  ]
}